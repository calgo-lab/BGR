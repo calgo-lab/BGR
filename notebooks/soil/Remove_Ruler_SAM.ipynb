{
 "cells": [
  {
   "cell_type": "code",
   "execution_count": 1,
   "metadata": {
    "collapsed": true
   },
   "outputs": [],
   "source": [
    "import requests\n",
    "from PIL import Image\n",
    "import glob\n",
    "import sys\n",
    "sys.path.append(\"./lang-segment-anything\")\n",
    "from lang_sam import LangSAM"
   ]
  },
  {
   "cell_type": "code",
   "execution_count": null,
   "outputs": [],
   "source": [
    "img_list = glob.glob(\"../data/BGR/Profilbilder/*.JPG\")\n",
    "text_prompt = \"ruler\"\n",
    "save_cropped_imgs = True\n",
    "model = LangSAM(sam_type=\"vit_b\") # b = base < l = large < h = huge"
   ],
   "metadata": {
    "collapsed": false,
    "pycharm": {
     "name": "#%%\n"
    }
   }
  },
  {
   "cell_type": "code",
   "execution_count": 15,
   "outputs": [
    {
     "name": "stdout",
     "output_type": "stream",
     "text": [
      "No 'ruler' detected in the image.\n",
      "No 'ruler' detected in the image.\n",
      "No 'ruler' detected in the image.\n",
      "No 'ruler' detected in the image.\n",
      "No 'ruler' detected in the image.\n"
     ]
    }
   ],
   "source": [
    "for img_file in img_list:\n",
    "\n",
    "    try:\n",
    "        image_pil = Image.open(img_file).convert(\"RGB\")\n",
    "        masks, boxes, phrases, logits = model.predict(image_pil, text_prompt)\n",
    "\n",
    "        if len(masks) == 0:\n",
    "            print(f\"No '{text_prompt}' detected in the image.\")\n",
    "        else:\n",
    "            x_min, y_min, x_max, y_max = boxes[0]\n",
    "            width, height = image_pil.size\n",
    "\n",
    "            if x_min > width // 2: # the ruler is on the right margin\n",
    "                crop_area = (0, 0, int(x_min), height) # left, upper, right, lower\n",
    "            else: # the ruler is on the left margin\n",
    "                crop_area = (int(x_max), 0, width, height)\n",
    "\n",
    "            cropped_img = image_pil.crop(crop_area)\n",
    "\n",
    "            if save_cropped_imgs:\n",
    "                cropped_img_file = img_file.replace('Profilbilder', 'Profilbilder_no_ruler')\n",
    "                cropped_img.save(cropped_img_file)\n",
    "\n",
    "    except (requests.exceptions.RequestException, IOError) as e:\n",
    "        print(f\"Error: {e}\")"
   ],
   "metadata": {
    "collapsed": false,
    "pycharm": {
     "name": "#%%\n"
    }
   }
  },
  {
   "cell_type": "markdown",
   "source": [
    "**Note 1**: 5 images did not have a real ruler on them, but an artificial marking stripe. These images were cropped manually."
   ],
   "metadata": {
    "collapsed": false
   }
  },
  {
   "cell_type": "code",
   "execution_count": 22,
   "outputs": [
    {
     "data": {
      "text/plain": "{'BY_3771_Y_1.JPG',\n 'BY_3876_Y_1.JPG',\n 'ST_1241_Y_1.JPG',\n 'ST_1375_Y_1.JPG',\n 'ST_2050_Y_1.JPG'}"
     },
     "execution_count": 22,
     "metadata": {},
     "output_type": "execute_result"
    }
   ],
   "source": [
    "img_list_no_ruler = glob.glob(\"../data/BGR/Profilbilder_no_ruler/*.JPG\")\n",
    "set_img = set( img.split('/')[-1] for img in img_list )\n",
    "set_img_no_ruler = set( img.split('/')[-1] for img in img_list_no_ruler )\n",
    "set_img - set_img_no_ruler"
   ],
   "metadata": {
    "collapsed": false,
    "pycharm": {
     "name": "#%%\n"
    }
   }
  },
  {
   "cell_type": "markdown",
   "source": [
    "**Note 2**: A handful of soil samples had extra objects on them e.g. shovel or name tags. These were cropped manually."
   ],
   "metadata": {
    "collapsed": false
   }
  },
  {
   "cell_type": "markdown",
   "source": [
    "**Note 3**: A handful of images were wrongly cropped by SAM i.e. they were cropped down to dimension (1, width) or (height, 1). These were corrected manually."
   ],
   "metadata": {
    "collapsed": false
   }
  }
 ],
 "metadata": {
  "kernelspec": {
   "name": "sam",
   "language": "python",
   "display_name": "sam"
  },
  "language_info": {
   "codemirror_mode": {
    "name": "ipython",
    "version": 2
   },
   "file_extension": ".py",
   "mimetype": "text/x-python",
   "name": "python",
   "nbconvert_exporter": "python",
   "pygments_lexer": "ipython2",
   "version": "2.7.6"
  }
 },
 "nbformat": 4,
 "nbformat_minor": 0
}