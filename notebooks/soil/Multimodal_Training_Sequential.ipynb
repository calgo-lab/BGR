{
 "cells": [
  {
   "cell_type": "markdown",
   "source": [
    "## Multimodal Training Sequential\n",
    "\n",
    "Predict horizon boundaries from full images and geo-temporal infos. Afterwards, predict morphological features and symbol for every horizon"
   ],
   "metadata": {
    "collapsed": false
   }
  },
  {
   "cell_type": "code",
   "execution_count": 1,
   "outputs": [],
   "source": [
    "import os\n",
    "import pickle\n",
    "\n",
    "import matplotlib.pylab as plt\n",
    "import numpy as np\n",
    "import pandas as pd\n",
    "import seaborn as sns\n",
    "import torch\n",
    "import torch.nn.functional as F\n",
    "import torch.optim as optim\n",
    "import torchvision.transforms as transforms\n",
    "from sklearn.model_selection import train_test_split\n",
    "from torch.nn.utils import clip_grad_norm_  # modifies the tensors in-place (vs clip_grad_norm)\n",
    "from torch.utils.data import DataLoader\n",
    "from tqdm import tqdm\n",
    "\n",
    "pd.set_option(\"display.max_columns\", None)\n",
    "np.random.seed(42)\n",
    "\n",
    "%matplotlib inline\n",
    "%config InlineBackend.figure_format = 'svg'"
   ],
   "metadata": {
    "collapsed": false,
    "pycharm": {
     "name": "#%%\n"
    }
   }
  },
  {
   "cell_type": "code",
   "execution_count": 2,
   "outputs": [],
   "source": [
    "import sys\n",
    "sys.path.append('./BGR')\n",
    "import bgr.soil.datasets as bgr_data\n",
    "import bgr.soil.models as bgr_mod\n",
    "from bgr.soil.callbacks import EarlyStopping\n",
    "from bgr.soil.metrics import DepthMarkerLoss\n",
    "from bgr.soil.utils import pad_tensor"
   ],
   "metadata": {
    "collapsed": false,
    "pycharm": {
     "name": "#%%\n"
    }
   }
  },
  {
   "cell_type": "code",
   "execution_count": 3,
   "outputs": [],
   "source": [
    "path_csv = \"../data/BGR/data_horizons.csv\"\n",
    "path_csv_annotator_ids = '../data/BGR/Kartierer_ID.csv'\n",
    "path_csv_locations = '../data/BGR/STANDORT.csv'\n",
    "path_horizons_simple = '../data/BGR/Vereinfachung_Horizontsymbole.csv'\n",
    "path_pictures = \"../data/BGR/Profilbilder_no_ruler_no_sky/\"\n",
    "#path_pictures = \"../data/BGR/Horizonte/\""
   ],
   "metadata": {
    "collapsed": false,
    "pycharm": {
     "name": "#%%\n"
    }
   }
  },
  {
   "cell_type": "markdown",
   "source": [
    "### Data Loading"
   ],
   "metadata": {
    "collapsed": false
   }
  },
  {
   "cell_type": "code",
   "execution_count": 4,
   "outputs": [
    {
     "name": "stdout",
     "output_type": "stream",
     "text": [
      "15207\n",
      "15206\n"
     ]
    },
    {
     "data": {
      "text/plain": "        Point  HorizontID  Obergrenze  Untergrenze Horizontsymbol Bodenart  \\\n0         2.0         1.0         0.0         28.0          I; Ap      Sl2   \n1         2.0         2.0        28.0         54.0           I; E      Sl2   \n2         2.0         3.0        54.0         68.0         II; Bv      Sl2   \n3         2.0         4.0        68.0         96.0   III; Bv-ilCv     fSms   \n4         2.0         5.0        96.0        201.0      III; ilCv     mSfs   \n...       ...         ...         ...          ...            ...      ...   \n15201  6211.0         3.0        27.0         50.0      I; Bbh+Bs     fSms   \n15202  6211.0         4.0        50.0         70.0      I; Bbs+Bs     fSms   \n15203  6211.0         5.0        70.0        100.0      I; Go-Bbs     fSms   \n15204  6211.0         6.0       100.0        130.0          I; Go     fSms   \n15205  6211.0         7.0       130.0        155.0          I; Gr     fSms   \n\n      Bodenfarbe  Steine Karbonat Humusgehaltsklasse Durchwurzelung  \\\n0      7.5YR 3/2     3.0       C0                 h3            Wf4   \n1       10YR 3/3     3.0       C0                 h2            Wf3   \n2      7.5YR 4/3    10.0       C0                 h1            Wf3   \n3      7.5YR 6/4     1.0       C0                 h0            Wf2   \n4       10YR 7/4     1.0       C0                 h0            NaN   \n...          ...     ...      ...                ...            ...   \n15201    5YR 3/2     1.0       C0                 h2            Wf3   \n15202    5YR 4/3     1.0       C0                 h1            Wf2   \n15203  7.5YR 5/4     1.0       C0                 h1            Wf6   \n15204   2.5Y 6/4     1.0       C0                 h0            Wf4   \n15205   2.5Y 5/4     1.0       C0                 h0            Wf2   \n\n       Unnamed: 11 Bundesland  PointID  Unnamed: 14    profile  max_depth  \n0              NaN         SH      2.0          NaN  BB_0541.0      100.0  \n1              NaN         SH      3.0          NaN  BB_0600.0       90.0  \n2              NaN         SH      4.0          NaN  BB_0601.0      100.0  \n3              NaN         SH      5.0          NaN  BB_0659.0      100.0  \n4              NaN         SH      6.0          NaN  BB_0660.0      100.0  \n...            ...        ...      ...          ...        ...        ...  \n15201          NaN        NaN      NaN          NaN        NaN        NaN  \n15202          NaN        NaN      NaN          NaN        NaN        NaN  \n15203          NaN        NaN      NaN          NaN        NaN        NaN  \n15204          NaN        NaN      NaN          NaN        NaN        NaN  \n15205          NaN        NaN      NaN          NaN        NaN        NaN  \n\n[15206 rows x 17 columns]",
      "text/html": "<div>\n<style scoped>\n    .dataframe tbody tr th:only-of-type {\n        vertical-align: middle;\n    }\n\n    .dataframe tbody tr th {\n        vertical-align: top;\n    }\n\n    .dataframe thead th {\n        text-align: right;\n    }\n</style>\n<table border=\"1\" class=\"dataframe\">\n  <thead>\n    <tr style=\"text-align: right;\">\n      <th></th>\n      <th>Point</th>\n      <th>HorizontID</th>\n      <th>Obergrenze</th>\n      <th>Untergrenze</th>\n      <th>Horizontsymbol</th>\n      <th>Bodenart</th>\n      <th>Bodenfarbe</th>\n      <th>Steine</th>\n      <th>Karbonat</th>\n      <th>Humusgehaltsklasse</th>\n      <th>Durchwurzelung</th>\n      <th>Unnamed: 11</th>\n      <th>Bundesland</th>\n      <th>PointID</th>\n      <th>Unnamed: 14</th>\n      <th>profile</th>\n      <th>max_depth</th>\n    </tr>\n  </thead>\n  <tbody>\n    <tr>\n      <th>0</th>\n      <td>2.0</td>\n      <td>1.0</td>\n      <td>0.0</td>\n      <td>28.0</td>\n      <td>I; Ap</td>\n      <td>Sl2</td>\n      <td>7.5YR 3/2</td>\n      <td>3.0</td>\n      <td>C0</td>\n      <td>h3</td>\n      <td>Wf4</td>\n      <td>NaN</td>\n      <td>SH</td>\n      <td>2.0</td>\n      <td>NaN</td>\n      <td>BB_0541.0</td>\n      <td>100.0</td>\n    </tr>\n    <tr>\n      <th>1</th>\n      <td>2.0</td>\n      <td>2.0</td>\n      <td>28.0</td>\n      <td>54.0</td>\n      <td>I; E</td>\n      <td>Sl2</td>\n      <td>10YR 3/3</td>\n      <td>3.0</td>\n      <td>C0</td>\n      <td>h2</td>\n      <td>Wf3</td>\n      <td>NaN</td>\n      <td>SH</td>\n      <td>3.0</td>\n      <td>NaN</td>\n      <td>BB_0600.0</td>\n      <td>90.0</td>\n    </tr>\n    <tr>\n      <th>2</th>\n      <td>2.0</td>\n      <td>3.0</td>\n      <td>54.0</td>\n      <td>68.0</td>\n      <td>II; Bv</td>\n      <td>Sl2</td>\n      <td>7.5YR 4/3</td>\n      <td>10.0</td>\n      <td>C0</td>\n      <td>h1</td>\n      <td>Wf3</td>\n      <td>NaN</td>\n      <td>SH</td>\n      <td>4.0</td>\n      <td>NaN</td>\n      <td>BB_0601.0</td>\n      <td>100.0</td>\n    </tr>\n    <tr>\n      <th>3</th>\n      <td>2.0</td>\n      <td>4.0</td>\n      <td>68.0</td>\n      <td>96.0</td>\n      <td>III; Bv-ilCv</td>\n      <td>fSms</td>\n      <td>7.5YR 6/4</td>\n      <td>1.0</td>\n      <td>C0</td>\n      <td>h0</td>\n      <td>Wf2</td>\n      <td>NaN</td>\n      <td>SH</td>\n      <td>5.0</td>\n      <td>NaN</td>\n      <td>BB_0659.0</td>\n      <td>100.0</td>\n    </tr>\n    <tr>\n      <th>4</th>\n      <td>2.0</td>\n      <td>5.0</td>\n      <td>96.0</td>\n      <td>201.0</td>\n      <td>III; ilCv</td>\n      <td>mSfs</td>\n      <td>10YR 7/4</td>\n      <td>1.0</td>\n      <td>C0</td>\n      <td>h0</td>\n      <td>NaN</td>\n      <td>NaN</td>\n      <td>SH</td>\n      <td>6.0</td>\n      <td>NaN</td>\n      <td>BB_0660.0</td>\n      <td>100.0</td>\n    </tr>\n    <tr>\n      <th>...</th>\n      <td>...</td>\n      <td>...</td>\n      <td>...</td>\n      <td>...</td>\n      <td>...</td>\n      <td>...</td>\n      <td>...</td>\n      <td>...</td>\n      <td>...</td>\n      <td>...</td>\n      <td>...</td>\n      <td>...</td>\n      <td>...</td>\n      <td>...</td>\n      <td>...</td>\n      <td>...</td>\n      <td>...</td>\n    </tr>\n    <tr>\n      <th>15201</th>\n      <td>6211.0</td>\n      <td>3.0</td>\n      <td>27.0</td>\n      <td>50.0</td>\n      <td>I; Bbh+Bs</td>\n      <td>fSms</td>\n      <td>5YR 3/2</td>\n      <td>1.0</td>\n      <td>C0</td>\n      <td>h2</td>\n      <td>Wf3</td>\n      <td>NaN</td>\n      <td>NaN</td>\n      <td>NaN</td>\n      <td>NaN</td>\n      <td>NaN</td>\n      <td>NaN</td>\n    </tr>\n    <tr>\n      <th>15202</th>\n      <td>6211.0</td>\n      <td>4.0</td>\n      <td>50.0</td>\n      <td>70.0</td>\n      <td>I; Bbs+Bs</td>\n      <td>fSms</td>\n      <td>5YR 4/3</td>\n      <td>1.0</td>\n      <td>C0</td>\n      <td>h1</td>\n      <td>Wf2</td>\n      <td>NaN</td>\n      <td>NaN</td>\n      <td>NaN</td>\n      <td>NaN</td>\n      <td>NaN</td>\n      <td>NaN</td>\n    </tr>\n    <tr>\n      <th>15203</th>\n      <td>6211.0</td>\n      <td>5.0</td>\n      <td>70.0</td>\n      <td>100.0</td>\n      <td>I; Go-Bbs</td>\n      <td>fSms</td>\n      <td>7.5YR 5/4</td>\n      <td>1.0</td>\n      <td>C0</td>\n      <td>h1</td>\n      <td>Wf6</td>\n      <td>NaN</td>\n      <td>NaN</td>\n      <td>NaN</td>\n      <td>NaN</td>\n      <td>NaN</td>\n      <td>NaN</td>\n    </tr>\n    <tr>\n      <th>15204</th>\n      <td>6211.0</td>\n      <td>6.0</td>\n      <td>100.0</td>\n      <td>130.0</td>\n      <td>I; Go</td>\n      <td>fSms</td>\n      <td>2.5Y 6/4</td>\n      <td>1.0</td>\n      <td>C0</td>\n      <td>h0</td>\n      <td>Wf4</td>\n      <td>NaN</td>\n      <td>NaN</td>\n      <td>NaN</td>\n      <td>NaN</td>\n      <td>NaN</td>\n      <td>NaN</td>\n    </tr>\n    <tr>\n      <th>15205</th>\n      <td>6211.0</td>\n      <td>7.0</td>\n      <td>130.0</td>\n      <td>155.0</td>\n      <td>I; Gr</td>\n      <td>fSms</td>\n      <td>2.5Y 5/4</td>\n      <td>1.0</td>\n      <td>C0</td>\n      <td>h0</td>\n      <td>Wf2</td>\n      <td>NaN</td>\n      <td>NaN</td>\n      <td>NaN</td>\n      <td>NaN</td>\n      <td>NaN</td>\n      <td>NaN</td>\n    </tr>\n  </tbody>\n</table>\n<p>15206 rows × 17 columns</p>\n</div>"
     },
     "execution_count": 4,
     "metadata": {},
     "output_type": "execute_result"
    }
   ],
   "source": [
    "df = pd.read_csv(path_csv)\n",
    "print(len(df.index))\n",
    "df = df.dropna(subset=['Horizontsymbol'])\n",
    "print(len(df.index))\n",
    "df#.head()"
   ],
   "metadata": {
    "collapsed": false,
    "pycharm": {
     "name": "#%%\n"
    }
   }
  },
  {
   "cell_type": "code",
   "execution_count": 5,
   "outputs": [
    {
     "data": {
      "text/plain": "  Horiz  Anzahl im Datensatz relevanter Anteil stark vereinfacht\n0    Ap                 1762                Ap                Ap\n1    Bv                  626                Bv                Bv\n2  ilCv                  620               ilC                Cv\n3  elCv                  500               elC                Cv\n4    Ah                  455                Ah                Ah",
      "text/html": "<div>\n<style scoped>\n    .dataframe tbody tr th:only-of-type {\n        vertical-align: middle;\n    }\n\n    .dataframe tbody tr th {\n        vertical-align: top;\n    }\n\n    .dataframe thead th {\n        text-align: right;\n    }\n</style>\n<table border=\"1\" class=\"dataframe\">\n  <thead>\n    <tr style=\"text-align: right;\">\n      <th></th>\n      <th>Horiz</th>\n      <th>Anzahl im Datensatz</th>\n      <th>relevanter Anteil</th>\n      <th>stark vereinfacht</th>\n    </tr>\n  </thead>\n  <tbody>\n    <tr>\n      <th>0</th>\n      <td>Ap</td>\n      <td>1762</td>\n      <td>Ap</td>\n      <td>Ap</td>\n    </tr>\n    <tr>\n      <th>1</th>\n      <td>Bv</td>\n      <td>626</td>\n      <td>Bv</td>\n      <td>Bv</td>\n    </tr>\n    <tr>\n      <th>2</th>\n      <td>ilCv</td>\n      <td>620</td>\n      <td>ilC</td>\n      <td>Cv</td>\n    </tr>\n    <tr>\n      <th>3</th>\n      <td>elCv</td>\n      <td>500</td>\n      <td>elC</td>\n      <td>Cv</td>\n    </tr>\n    <tr>\n      <th>4</th>\n      <td>Ah</td>\n      <td>455</td>\n      <td>Ah</td>\n      <td>Ah</td>\n    </tr>\n  </tbody>\n</table>\n</div>"
     },
     "execution_count": 5,
     "metadata": {},
     "output_type": "execute_result"
    }
   ],
   "source": [
    "df_simple = pd.read_csv(path_horizons_simple)\n",
    "df_simple.rename(columns={\"relevanter Anteil = was sinntragend und detektierbar ist - es sind nicht alles gültige Symbole\": \"relevanter Anteil\"}, inplace=True)\n",
    "df_simple.head()"
   ],
   "metadata": {
    "collapsed": false,
    "pycharm": {
     "name": "#%%\n"
    }
   }
  },
  {
   "cell_type": "code",
   "execution_count": 6,
   "outputs": [
    {
     "data": {
      "text/plain": "        Point  HorizontID  Obergrenze  Untergrenze Horizontsymbol  \\\n0         2.0         1.0         0.0         28.0          I; Ap   \n1         2.0         2.0        28.0         54.0           I; E   \n2         2.0         3.0        54.0         68.0         II; Bv   \n3         2.0         4.0        68.0         96.0   III; Bv-ilCv   \n4         2.0         5.0        96.0        201.0      III; ilCv   \n...       ...         ...         ...          ...            ...   \n15201  6211.0         3.0        27.0         50.0      I; Bbh+Bs   \n15202  6211.0         4.0        50.0         70.0      I; Bbs+Bs   \n15203  6211.0         5.0        70.0        100.0      I; Go-Bbs   \n15204  6211.0         6.0       100.0        130.0          I; Go   \n15205  6211.0         7.0       130.0        155.0          I; Gr   \n\n      Horizontsymbol_relevant Bodenart Bodenfarbe  Steine Karbonat  \\\n0                          Ap      Sl2  7.5YR 3/2     3.0       C0   \n1                           E      Sl2   10YR 3/3     3.0       C0   \n2                          Bv      Sl2  7.5YR 4/3    10.0       C0   \n3                      Bv-ilC     fSms  7.5YR 6/4     1.0       C0   \n4                         ilC     mSfs   10YR 7/4     1.0       C0   \n...                       ...      ...        ...     ...      ...   \n15201                  Bbh+Bs     fSms    5YR 3/2     1.0       C0   \n15202                  Bbs+Bs     fSms    5YR 4/3     1.0       C0   \n15203                  Go-Bbs     fSms  7.5YR 5/4     1.0       C0   \n15204                      Go     fSms   2.5Y 6/4     1.0       C0   \n15205                      Gr     fSms   2.5Y 5/4     1.0       C0   \n\n      Humusgehaltsklasse Durchwurzelung  Unnamed: 11 Bundesland  PointID  \\\n0                     h3            Wf4          NaN         SH      2.0   \n1                     h2            Wf3          NaN         SH      3.0   \n2                     h1            Wf3          NaN         SH      4.0   \n3                     h0            Wf2          NaN         SH      5.0   \n4                     h0            NaN          NaN         SH      6.0   \n...                  ...            ...          ...        ...      ...   \n15201                 h2            Wf3          NaN        NaN      NaN   \n15202                 h1            Wf2          NaN        NaN      NaN   \n15203                 h1            Wf6          NaN        NaN      NaN   \n15204                 h0            Wf4          NaN        NaN      NaN   \n15205                 h0            Wf2          NaN        NaN      NaN   \n\n       Unnamed: 14    profile  max_depth  \n0              NaN  BB_0541.0      100.0  \n1              NaN  BB_0600.0       90.0  \n2              NaN  BB_0601.0      100.0  \n3              NaN  BB_0659.0      100.0  \n4              NaN  BB_0660.0      100.0  \n...            ...        ...        ...  \n15201          NaN        NaN        NaN  \n15202          NaN        NaN        NaN  \n15203          NaN        NaN        NaN  \n15204          NaN        NaN        NaN  \n15205          NaN        NaN        NaN  \n\n[15206 rows x 18 columns]",
      "text/html": "<div>\n<style scoped>\n    .dataframe tbody tr th:only-of-type {\n        vertical-align: middle;\n    }\n\n    .dataframe tbody tr th {\n        vertical-align: top;\n    }\n\n    .dataframe thead th {\n        text-align: right;\n    }\n</style>\n<table border=\"1\" class=\"dataframe\">\n  <thead>\n    <tr style=\"text-align: right;\">\n      <th></th>\n      <th>Point</th>\n      <th>HorizontID</th>\n      <th>Obergrenze</th>\n      <th>Untergrenze</th>\n      <th>Horizontsymbol</th>\n      <th>Horizontsymbol_relevant</th>\n      <th>Bodenart</th>\n      <th>Bodenfarbe</th>\n      <th>Steine</th>\n      <th>Karbonat</th>\n      <th>Humusgehaltsklasse</th>\n      <th>Durchwurzelung</th>\n      <th>Unnamed: 11</th>\n      <th>Bundesland</th>\n      <th>PointID</th>\n      <th>Unnamed: 14</th>\n      <th>profile</th>\n      <th>max_depth</th>\n    </tr>\n  </thead>\n  <tbody>\n    <tr>\n      <th>0</th>\n      <td>2.0</td>\n      <td>1.0</td>\n      <td>0.0</td>\n      <td>28.0</td>\n      <td>I; Ap</td>\n      <td>Ap</td>\n      <td>Sl2</td>\n      <td>7.5YR 3/2</td>\n      <td>3.0</td>\n      <td>C0</td>\n      <td>h3</td>\n      <td>Wf4</td>\n      <td>NaN</td>\n      <td>SH</td>\n      <td>2.0</td>\n      <td>NaN</td>\n      <td>BB_0541.0</td>\n      <td>100.0</td>\n    </tr>\n    <tr>\n      <th>1</th>\n      <td>2.0</td>\n      <td>2.0</td>\n      <td>28.0</td>\n      <td>54.0</td>\n      <td>I; E</td>\n      <td>E</td>\n      <td>Sl2</td>\n      <td>10YR 3/3</td>\n      <td>3.0</td>\n      <td>C0</td>\n      <td>h2</td>\n      <td>Wf3</td>\n      <td>NaN</td>\n      <td>SH</td>\n      <td>3.0</td>\n      <td>NaN</td>\n      <td>BB_0600.0</td>\n      <td>90.0</td>\n    </tr>\n    <tr>\n      <th>2</th>\n      <td>2.0</td>\n      <td>3.0</td>\n      <td>54.0</td>\n      <td>68.0</td>\n      <td>II; Bv</td>\n      <td>Bv</td>\n      <td>Sl2</td>\n      <td>7.5YR 4/3</td>\n      <td>10.0</td>\n      <td>C0</td>\n      <td>h1</td>\n      <td>Wf3</td>\n      <td>NaN</td>\n      <td>SH</td>\n      <td>4.0</td>\n      <td>NaN</td>\n      <td>BB_0601.0</td>\n      <td>100.0</td>\n    </tr>\n    <tr>\n      <th>3</th>\n      <td>2.0</td>\n      <td>4.0</td>\n      <td>68.0</td>\n      <td>96.0</td>\n      <td>III; Bv-ilCv</td>\n      <td>Bv-ilC</td>\n      <td>fSms</td>\n      <td>7.5YR 6/4</td>\n      <td>1.0</td>\n      <td>C0</td>\n      <td>h0</td>\n      <td>Wf2</td>\n      <td>NaN</td>\n      <td>SH</td>\n      <td>5.0</td>\n      <td>NaN</td>\n      <td>BB_0659.0</td>\n      <td>100.0</td>\n    </tr>\n    <tr>\n      <th>4</th>\n      <td>2.0</td>\n      <td>5.0</td>\n      <td>96.0</td>\n      <td>201.0</td>\n      <td>III; ilCv</td>\n      <td>ilC</td>\n      <td>mSfs</td>\n      <td>10YR 7/4</td>\n      <td>1.0</td>\n      <td>C0</td>\n      <td>h0</td>\n      <td>NaN</td>\n      <td>NaN</td>\n      <td>SH</td>\n      <td>6.0</td>\n      <td>NaN</td>\n      <td>BB_0660.0</td>\n      <td>100.0</td>\n    </tr>\n    <tr>\n      <th>...</th>\n      <td>...</td>\n      <td>...</td>\n      <td>...</td>\n      <td>...</td>\n      <td>...</td>\n      <td>...</td>\n      <td>...</td>\n      <td>...</td>\n      <td>...</td>\n      <td>...</td>\n      <td>...</td>\n      <td>...</td>\n      <td>...</td>\n      <td>...</td>\n      <td>...</td>\n      <td>...</td>\n      <td>...</td>\n      <td>...</td>\n    </tr>\n    <tr>\n      <th>15201</th>\n      <td>6211.0</td>\n      <td>3.0</td>\n      <td>27.0</td>\n      <td>50.0</td>\n      <td>I; Bbh+Bs</td>\n      <td>Bbh+Bs</td>\n      <td>fSms</td>\n      <td>5YR 3/2</td>\n      <td>1.0</td>\n      <td>C0</td>\n      <td>h2</td>\n      <td>Wf3</td>\n      <td>NaN</td>\n      <td>NaN</td>\n      <td>NaN</td>\n      <td>NaN</td>\n      <td>NaN</td>\n      <td>NaN</td>\n    </tr>\n    <tr>\n      <th>15202</th>\n      <td>6211.0</td>\n      <td>4.0</td>\n      <td>50.0</td>\n      <td>70.0</td>\n      <td>I; Bbs+Bs</td>\n      <td>Bbs+Bs</td>\n      <td>fSms</td>\n      <td>5YR 4/3</td>\n      <td>1.0</td>\n      <td>C0</td>\n      <td>h1</td>\n      <td>Wf2</td>\n      <td>NaN</td>\n      <td>NaN</td>\n      <td>NaN</td>\n      <td>NaN</td>\n      <td>NaN</td>\n      <td>NaN</td>\n    </tr>\n    <tr>\n      <th>15203</th>\n      <td>6211.0</td>\n      <td>5.0</td>\n      <td>70.0</td>\n      <td>100.0</td>\n      <td>I; Go-Bbs</td>\n      <td>Go-Bbs</td>\n      <td>fSms</td>\n      <td>7.5YR 5/4</td>\n      <td>1.0</td>\n      <td>C0</td>\n      <td>h1</td>\n      <td>Wf6</td>\n      <td>NaN</td>\n      <td>NaN</td>\n      <td>NaN</td>\n      <td>NaN</td>\n      <td>NaN</td>\n      <td>NaN</td>\n    </tr>\n    <tr>\n      <th>15204</th>\n      <td>6211.0</td>\n      <td>6.0</td>\n      <td>100.0</td>\n      <td>130.0</td>\n      <td>I; Go</td>\n      <td>Go</td>\n      <td>fSms</td>\n      <td>2.5Y 6/4</td>\n      <td>1.0</td>\n      <td>C0</td>\n      <td>h0</td>\n      <td>Wf4</td>\n      <td>NaN</td>\n      <td>NaN</td>\n      <td>NaN</td>\n      <td>NaN</td>\n      <td>NaN</td>\n      <td>NaN</td>\n    </tr>\n    <tr>\n      <th>15205</th>\n      <td>6211.0</td>\n      <td>7.0</td>\n      <td>130.0</td>\n      <td>155.0</td>\n      <td>I; Gr</td>\n      <td>Gr</td>\n      <td>fSms</td>\n      <td>2.5Y 5/4</td>\n      <td>1.0</td>\n      <td>C0</td>\n      <td>h0</td>\n      <td>Wf2</td>\n      <td>NaN</td>\n      <td>NaN</td>\n      <td>NaN</td>\n      <td>NaN</td>\n      <td>NaN</td>\n      <td>NaN</td>\n    </tr>\n  </tbody>\n</table>\n<p>15206 rows × 18 columns</p>\n</div>"
     },
     "execution_count": 6,
     "metadata": {},
     "output_type": "execute_result"
    }
   ],
   "source": [
    "# Add an extra column to the original dataset with the simplified horizon symbols\n",
    "\n",
    "# Apply the simplification function to each row of the 'Horizontsymbol' column\n",
    "col_name = \"relevanter Anteil\" # try to predict 'relevanter Anteil' first; otherwise, resort to 'stark vereinfacht'\n",
    "df['Horizontsymbol_relevant'] = df['Horizontsymbol'].apply(lambda x: bgr_data.simplify_string(x, df_simple, col_name))\n",
    "\n",
    "# Reorder the columns\n",
    "cols = df.columns.tolist()\n",
    "cols.insert(cols.index('Horizontsymbol') + 1, 'Horizontsymbol_relevant')\n",
    "cols.pop() # remove the duplicate at the end\n",
    "df = df[cols]\n",
    "df"
   ],
   "metadata": {
    "collapsed": false,
    "pycharm": {
     "name": "#%%\n"
    }
   }
  },
  {
   "cell_type": "markdown",
   "source": [
    "#### Join images and further tables"
   ],
   "metadata": {
    "collapsed": false
   }
  },
  {
   "cell_type": "code",
   "execution_count": 7,
   "outputs": [
    {
     "data": {
      "text/plain": "               file   Point\n0   BB_0896_Y_1.JPG   896.0\n1   BB_0903_Y_1.JPG   903.0\n2   BW_4930_Y_1.JPG  4930.0\n3   BW_5183_Y_1.JPG  5183.0\n4   BW_5462_Y_1.JPG  5462.0\n5   BY_3651_Y_1.JPG  3651.0\n6   BY_3934_Y_1.JPG  3934.0\n7   BY_3979_Y_1.JPG  3979.0\n8   BY_4039_Y_1.JPG  4039.0\n9   BY_4302_Y_1.JPG  4302.0\n10  BY_4360_Y_1.JPG  4360.0\n11  BY_4568_Y_1.JPG  4568.0\n12  BY_4895_Y_1.JPG  4895.0\n13  BY_4910_Y_1.JPG  4910.0\n14  BY_5439_Y_1.JPG  5439.0",
      "text/html": "<div>\n<style scoped>\n    .dataframe tbody tr th:only-of-type {\n        vertical-align: middle;\n    }\n\n    .dataframe tbody tr th {\n        vertical-align: top;\n    }\n\n    .dataframe thead th {\n        text-align: right;\n    }\n</style>\n<table border=\"1\" class=\"dataframe\">\n  <thead>\n    <tr style=\"text-align: right;\">\n      <th></th>\n      <th>file</th>\n      <th>Point</th>\n    </tr>\n  </thead>\n  <tbody>\n    <tr>\n      <th>0</th>\n      <td>BB_0896_Y_1.JPG</td>\n      <td>896.0</td>\n    </tr>\n    <tr>\n      <th>1</th>\n      <td>BB_0903_Y_1.JPG</td>\n      <td>903.0</td>\n    </tr>\n    <tr>\n      <th>2</th>\n      <td>BW_4930_Y_1.JPG</td>\n      <td>4930.0</td>\n    </tr>\n    <tr>\n      <th>3</th>\n      <td>BW_5183_Y_1.JPG</td>\n      <td>5183.0</td>\n    </tr>\n    <tr>\n      <th>4</th>\n      <td>BW_5462_Y_1.JPG</td>\n      <td>5462.0</td>\n    </tr>\n    <tr>\n      <th>5</th>\n      <td>BY_3651_Y_1.JPG</td>\n      <td>3651.0</td>\n    </tr>\n    <tr>\n      <th>6</th>\n      <td>BY_3934_Y_1.JPG</td>\n      <td>3934.0</td>\n    </tr>\n    <tr>\n      <th>7</th>\n      <td>BY_3979_Y_1.JPG</td>\n      <td>3979.0</td>\n    </tr>\n    <tr>\n      <th>8</th>\n      <td>BY_4039_Y_1.JPG</td>\n      <td>4039.0</td>\n    </tr>\n    <tr>\n      <th>9</th>\n      <td>BY_4302_Y_1.JPG</td>\n      <td>4302.0</td>\n    </tr>\n    <tr>\n      <th>10</th>\n      <td>BY_4360_Y_1.JPG</td>\n      <td>4360.0</td>\n    </tr>\n    <tr>\n      <th>11</th>\n      <td>BY_4568_Y_1.JPG</td>\n      <td>4568.0</td>\n    </tr>\n    <tr>\n      <th>12</th>\n      <td>BY_4895_Y_1.JPG</td>\n      <td>4895.0</td>\n    </tr>\n    <tr>\n      <th>13</th>\n      <td>BY_4910_Y_1.JPG</td>\n      <td>4910.0</td>\n    </tr>\n    <tr>\n      <th>14</th>\n      <td>BY_5439_Y_1.JPG</td>\n      <td>5439.0</td>\n    </tr>\n  </tbody>\n</table>\n</div>"
     },
     "execution_count": 7,
     "metadata": {},
     "output_type": "execute_result"
    }
   ],
   "source": [
    "# Read image dataset and add file path as extra column to df\n",
    "image_dataset = os.listdir(path_pictures)\n",
    "img_files = pd.DataFrame(image_dataset, columns=['file'])\n",
    "img_files['Point'] = img_files['file'].str.split(\"_\").map(lambda x: x[1]).astype(float) # for error 'list index out of range', delete @eaDir\n",
    "#img_files['HorizontID'] = img_files['file'].str.split('.').map(lambda x: x[0][-1]).astype(float) # uncomment only for segmented horizon patches\n",
    "img_files.head(15)"
   ],
   "metadata": {
    "collapsed": false,
    "pycharm": {
     "name": "#%%\n"
    }
   }
  },
  {
   "cell_type": "code",
   "execution_count": 8,
   "outputs": [
    {
     "name": "stdout",
     "output_type": "stream",
     "text": [
      "16316\n"
     ]
    },
    {
     "data": {
      "text/plain": "    Point  HorizontID  Obergrenze  Untergrenze Horizontsymbol  \\\n0     2.0         1.0         0.0         28.0          I; Ap   \n1     2.0         2.0        28.0         54.0           I; E   \n2     2.0         3.0        54.0         68.0         II; Bv   \n3     2.0         4.0        68.0         96.0   III; Bv-ilCv   \n4     2.0         5.0        96.0        201.0      III; ilCv   \n5     3.0         1.0         0.0         12.0     I; tbSw-Ah   \n6     3.0         2.0        12.0         30.0    I; tbSw-rAp   \n7     3.0         3.0        30.0         54.0    I; tbrGo-Sw   \n8     3.0         4.0        54.0        125.0     I; tbGo-Sd   \n9     3.0         5.0       125.0        160.0      II; tmGor   \n10    3.0         6.0       160.0        201.0      II; tmeGr   \n11    4.0         1.0         0.0         30.0     I; Sw-tbAp   \n12    4.0         2.0        30.0         74.0        I; tbSq   \n13    4.0         3.0        74.0        140.0       I; tbGro   \n14    4.0         4.0       140.0        200.0        I; tbGr   \n\n   Horizontsymbol_relevant Bodenart   Bodenfarbe  Steine Karbonat  \\\n0                       Ap      Sl2    7.5YR 3/2     3.0       C0   \n1                        E      Sl2     10YR 3/3     3.0       C0   \n2                       Bv      Sl2    7.5YR 4/3    10.0       C0   \n3                   Bv-ilC     fSms    7.5YR 6/4     1.0       C0   \n4                      ilC     mSfs     10YR 7/4     1.0       C0   \n5                   tSw-Ah      Ls3     10YR 4/2     0.0       C0   \n6                   tSw-Ap      Ls2     10YR 4/2     0.0       C0   \n7                   tGo-Sw      Ls4     2.5Y 5/1     0.0       C0   \n8                   tGo-Sd       Lu       5Y 5/1     0.0       C0   \n9                     tGor      Su3       5Y 5/1     0.0       C0   \n10                     tGr      Su3  GLEY1 4/5GY     0.0     C3.2   \n11                  Sw-tAp      Tu3       5Y 5/2     0.0       C0   \n12                     tSq      Tu3       5Y 5/1     0.0       C0   \n13                    tGro      Tu4       5Y 6/1     0.0       C0   \n14                     tGr      Tu4    GLEY1 5/N     0.0       C0   \n\n   Humusgehaltsklasse Durchwurzelung  Unnamed: 11 Bundesland  PointID  \\\n0                  h3            Wf4          NaN         SH      2.0   \n1                  h2            Wf3          NaN         SH      3.0   \n2                  h1            Wf3          NaN         SH      4.0   \n3                  h0            Wf2          NaN         SH      5.0   \n4                  h0            NaN          NaN         SH      6.0   \n5                  h3            Wf6          NaN         SH      7.0   \n6                  h2            Wf4          NaN         SH      8.0   \n7                  h1            Wf2          NaN         SH     10.0   \n8                  h1            NaN          NaN         SH     11.0   \n9                  h1            NaN          NaN         SH     12.0   \n10                 h1            NaN          NaN         SH     14.0   \n11                 h3            Wf4          NaN         SH     15.0   \n12                 h1            Wf3          NaN         SH     16.0   \n13                 h0            Wf1          NaN         SH     17.0   \n14                 h0            NaN          NaN         SH     18.0   \n\n    Unnamed: 14    profile  max_depth  \\\n0           NaN  BB_0541.0      100.0   \n1           NaN  BB_0600.0       90.0   \n2           NaN  BB_0601.0      100.0   \n3           NaN  BB_0659.0      100.0   \n4           NaN  BB_0660.0      100.0   \n5           NaN  BB_0661.0      100.0   \n6           NaN  BB_0662.0      100.0   \n7           NaN  BB_0663.0      100.0   \n8           NaN  BB_0718.0      100.0   \n9           NaN  BB_0720.0      110.0   \n10          NaN  BB_0721.0      100.0   \n11          NaN  BB_0722.0      100.0   \n12          NaN  BB_0723.0      100.0   \n13          NaN  BB_0725.0       90.0   \n14          NaN  BB_0781.0      100.0   \n\n                                                 file  \n0   ../data/BGR/Profilbilder_no_ruler_no_sky/SH_00...  \n1   ../data/BGR/Profilbilder_no_ruler_no_sky/SH_00...  \n2   ../data/BGR/Profilbilder_no_ruler_no_sky/SH_00...  \n3   ../data/BGR/Profilbilder_no_ruler_no_sky/SH_00...  \n4   ../data/BGR/Profilbilder_no_ruler_no_sky/SH_00...  \n5   ../data/BGR/Profilbilder_no_ruler_no_sky/SH_00...  \n6   ../data/BGR/Profilbilder_no_ruler_no_sky/SH_00...  \n7   ../data/BGR/Profilbilder_no_ruler_no_sky/SH_00...  \n8   ../data/BGR/Profilbilder_no_ruler_no_sky/SH_00...  \n9   ../data/BGR/Profilbilder_no_ruler_no_sky/SH_00...  \n10  ../data/BGR/Profilbilder_no_ruler_no_sky/SH_00...  \n11  ../data/BGR/Profilbilder_no_ruler_no_sky/SH_00...  \n12  ../data/BGR/Profilbilder_no_ruler_no_sky/SH_00...  \n13  ../data/BGR/Profilbilder_no_ruler_no_sky/SH_00...  \n14  ../data/BGR/Profilbilder_no_ruler_no_sky/SH_00...  ",
      "text/html": "<div>\n<style scoped>\n    .dataframe tbody tr th:only-of-type {\n        vertical-align: middle;\n    }\n\n    .dataframe tbody tr th {\n        vertical-align: top;\n    }\n\n    .dataframe thead th {\n        text-align: right;\n    }\n</style>\n<table border=\"1\" class=\"dataframe\">\n  <thead>\n    <tr style=\"text-align: right;\">\n      <th></th>\n      <th>Point</th>\n      <th>HorizontID</th>\n      <th>Obergrenze</th>\n      <th>Untergrenze</th>\n      <th>Horizontsymbol</th>\n      <th>Horizontsymbol_relevant</th>\n      <th>Bodenart</th>\n      <th>Bodenfarbe</th>\n      <th>Steine</th>\n      <th>Karbonat</th>\n      <th>Humusgehaltsklasse</th>\n      <th>Durchwurzelung</th>\n      <th>Unnamed: 11</th>\n      <th>Bundesland</th>\n      <th>PointID</th>\n      <th>Unnamed: 14</th>\n      <th>profile</th>\n      <th>max_depth</th>\n      <th>file</th>\n    </tr>\n  </thead>\n  <tbody>\n    <tr>\n      <th>0</th>\n      <td>2.0</td>\n      <td>1.0</td>\n      <td>0.0</td>\n      <td>28.0</td>\n      <td>I; Ap</td>\n      <td>Ap</td>\n      <td>Sl2</td>\n      <td>7.5YR 3/2</td>\n      <td>3.0</td>\n      <td>C0</td>\n      <td>h3</td>\n      <td>Wf4</td>\n      <td>NaN</td>\n      <td>SH</td>\n      <td>2.0</td>\n      <td>NaN</td>\n      <td>BB_0541.0</td>\n      <td>100.0</td>\n      <td>../data/BGR/Profilbilder_no_ruler_no_sky/SH_00...</td>\n    </tr>\n    <tr>\n      <th>1</th>\n      <td>2.0</td>\n      <td>2.0</td>\n      <td>28.0</td>\n      <td>54.0</td>\n      <td>I; E</td>\n      <td>E</td>\n      <td>Sl2</td>\n      <td>10YR 3/3</td>\n      <td>3.0</td>\n      <td>C0</td>\n      <td>h2</td>\n      <td>Wf3</td>\n      <td>NaN</td>\n      <td>SH</td>\n      <td>3.0</td>\n      <td>NaN</td>\n      <td>BB_0600.0</td>\n      <td>90.0</td>\n      <td>../data/BGR/Profilbilder_no_ruler_no_sky/SH_00...</td>\n    </tr>\n    <tr>\n      <th>2</th>\n      <td>2.0</td>\n      <td>3.0</td>\n      <td>54.0</td>\n      <td>68.0</td>\n      <td>II; Bv</td>\n      <td>Bv</td>\n      <td>Sl2</td>\n      <td>7.5YR 4/3</td>\n      <td>10.0</td>\n      <td>C0</td>\n      <td>h1</td>\n      <td>Wf3</td>\n      <td>NaN</td>\n      <td>SH</td>\n      <td>4.0</td>\n      <td>NaN</td>\n      <td>BB_0601.0</td>\n      <td>100.0</td>\n      <td>../data/BGR/Profilbilder_no_ruler_no_sky/SH_00...</td>\n    </tr>\n    <tr>\n      <th>3</th>\n      <td>2.0</td>\n      <td>4.0</td>\n      <td>68.0</td>\n      <td>96.0</td>\n      <td>III; Bv-ilCv</td>\n      <td>Bv-ilC</td>\n      <td>fSms</td>\n      <td>7.5YR 6/4</td>\n      <td>1.0</td>\n      <td>C0</td>\n      <td>h0</td>\n      <td>Wf2</td>\n      <td>NaN</td>\n      <td>SH</td>\n      <td>5.0</td>\n      <td>NaN</td>\n      <td>BB_0659.0</td>\n      <td>100.0</td>\n      <td>../data/BGR/Profilbilder_no_ruler_no_sky/SH_00...</td>\n    </tr>\n    <tr>\n      <th>4</th>\n      <td>2.0</td>\n      <td>5.0</td>\n      <td>96.0</td>\n      <td>201.0</td>\n      <td>III; ilCv</td>\n      <td>ilC</td>\n      <td>mSfs</td>\n      <td>10YR 7/4</td>\n      <td>1.0</td>\n      <td>C0</td>\n      <td>h0</td>\n      <td>NaN</td>\n      <td>NaN</td>\n      <td>SH</td>\n      <td>6.0</td>\n      <td>NaN</td>\n      <td>BB_0660.0</td>\n      <td>100.0</td>\n      <td>../data/BGR/Profilbilder_no_ruler_no_sky/SH_00...</td>\n    </tr>\n    <tr>\n      <th>5</th>\n      <td>3.0</td>\n      <td>1.0</td>\n      <td>0.0</td>\n      <td>12.0</td>\n      <td>I; tbSw-Ah</td>\n      <td>tSw-Ah</td>\n      <td>Ls3</td>\n      <td>10YR 4/2</td>\n      <td>0.0</td>\n      <td>C0</td>\n      <td>h3</td>\n      <td>Wf6</td>\n      <td>NaN</td>\n      <td>SH</td>\n      <td>7.0</td>\n      <td>NaN</td>\n      <td>BB_0661.0</td>\n      <td>100.0</td>\n      <td>../data/BGR/Profilbilder_no_ruler_no_sky/SH_00...</td>\n    </tr>\n    <tr>\n      <th>6</th>\n      <td>3.0</td>\n      <td>2.0</td>\n      <td>12.0</td>\n      <td>30.0</td>\n      <td>I; tbSw-rAp</td>\n      <td>tSw-Ap</td>\n      <td>Ls2</td>\n      <td>10YR 4/2</td>\n      <td>0.0</td>\n      <td>C0</td>\n      <td>h2</td>\n      <td>Wf4</td>\n      <td>NaN</td>\n      <td>SH</td>\n      <td>8.0</td>\n      <td>NaN</td>\n      <td>BB_0662.0</td>\n      <td>100.0</td>\n      <td>../data/BGR/Profilbilder_no_ruler_no_sky/SH_00...</td>\n    </tr>\n    <tr>\n      <th>7</th>\n      <td>3.0</td>\n      <td>3.0</td>\n      <td>30.0</td>\n      <td>54.0</td>\n      <td>I; tbrGo-Sw</td>\n      <td>tGo-Sw</td>\n      <td>Ls4</td>\n      <td>2.5Y 5/1</td>\n      <td>0.0</td>\n      <td>C0</td>\n      <td>h1</td>\n      <td>Wf2</td>\n      <td>NaN</td>\n      <td>SH</td>\n      <td>10.0</td>\n      <td>NaN</td>\n      <td>BB_0663.0</td>\n      <td>100.0</td>\n      <td>../data/BGR/Profilbilder_no_ruler_no_sky/SH_00...</td>\n    </tr>\n    <tr>\n      <th>8</th>\n      <td>3.0</td>\n      <td>4.0</td>\n      <td>54.0</td>\n      <td>125.0</td>\n      <td>I; tbGo-Sd</td>\n      <td>tGo-Sd</td>\n      <td>Lu</td>\n      <td>5Y 5/1</td>\n      <td>0.0</td>\n      <td>C0</td>\n      <td>h1</td>\n      <td>NaN</td>\n      <td>NaN</td>\n      <td>SH</td>\n      <td>11.0</td>\n      <td>NaN</td>\n      <td>BB_0718.0</td>\n      <td>100.0</td>\n      <td>../data/BGR/Profilbilder_no_ruler_no_sky/SH_00...</td>\n    </tr>\n    <tr>\n      <th>9</th>\n      <td>3.0</td>\n      <td>5.0</td>\n      <td>125.0</td>\n      <td>160.0</td>\n      <td>II; tmGor</td>\n      <td>tGor</td>\n      <td>Su3</td>\n      <td>5Y 5/1</td>\n      <td>0.0</td>\n      <td>C0</td>\n      <td>h1</td>\n      <td>NaN</td>\n      <td>NaN</td>\n      <td>SH</td>\n      <td>12.0</td>\n      <td>NaN</td>\n      <td>BB_0720.0</td>\n      <td>110.0</td>\n      <td>../data/BGR/Profilbilder_no_ruler_no_sky/SH_00...</td>\n    </tr>\n    <tr>\n      <th>10</th>\n      <td>3.0</td>\n      <td>6.0</td>\n      <td>160.0</td>\n      <td>201.0</td>\n      <td>II; tmeGr</td>\n      <td>tGr</td>\n      <td>Su3</td>\n      <td>GLEY1 4/5GY</td>\n      <td>0.0</td>\n      <td>C3.2</td>\n      <td>h1</td>\n      <td>NaN</td>\n      <td>NaN</td>\n      <td>SH</td>\n      <td>14.0</td>\n      <td>NaN</td>\n      <td>BB_0721.0</td>\n      <td>100.0</td>\n      <td>../data/BGR/Profilbilder_no_ruler_no_sky/SH_00...</td>\n    </tr>\n    <tr>\n      <th>11</th>\n      <td>4.0</td>\n      <td>1.0</td>\n      <td>0.0</td>\n      <td>30.0</td>\n      <td>I; Sw-tbAp</td>\n      <td>Sw-tAp</td>\n      <td>Tu3</td>\n      <td>5Y 5/2</td>\n      <td>0.0</td>\n      <td>C0</td>\n      <td>h3</td>\n      <td>Wf4</td>\n      <td>NaN</td>\n      <td>SH</td>\n      <td>15.0</td>\n      <td>NaN</td>\n      <td>BB_0722.0</td>\n      <td>100.0</td>\n      <td>../data/BGR/Profilbilder_no_ruler_no_sky/SH_00...</td>\n    </tr>\n    <tr>\n      <th>12</th>\n      <td>4.0</td>\n      <td>2.0</td>\n      <td>30.0</td>\n      <td>74.0</td>\n      <td>I; tbSq</td>\n      <td>tSq</td>\n      <td>Tu3</td>\n      <td>5Y 5/1</td>\n      <td>0.0</td>\n      <td>C0</td>\n      <td>h1</td>\n      <td>Wf3</td>\n      <td>NaN</td>\n      <td>SH</td>\n      <td>16.0</td>\n      <td>NaN</td>\n      <td>BB_0723.0</td>\n      <td>100.0</td>\n      <td>../data/BGR/Profilbilder_no_ruler_no_sky/SH_00...</td>\n    </tr>\n    <tr>\n      <th>13</th>\n      <td>4.0</td>\n      <td>3.0</td>\n      <td>74.0</td>\n      <td>140.0</td>\n      <td>I; tbGro</td>\n      <td>tGro</td>\n      <td>Tu4</td>\n      <td>5Y 6/1</td>\n      <td>0.0</td>\n      <td>C0</td>\n      <td>h0</td>\n      <td>Wf1</td>\n      <td>NaN</td>\n      <td>SH</td>\n      <td>17.0</td>\n      <td>NaN</td>\n      <td>BB_0725.0</td>\n      <td>90.0</td>\n      <td>../data/BGR/Profilbilder_no_ruler_no_sky/SH_00...</td>\n    </tr>\n    <tr>\n      <th>14</th>\n      <td>4.0</td>\n      <td>4.0</td>\n      <td>140.0</td>\n      <td>200.0</td>\n      <td>I; tbGr</td>\n      <td>tGr</td>\n      <td>Tu4</td>\n      <td>GLEY1 5/N</td>\n      <td>0.0</td>\n      <td>C0</td>\n      <td>h0</td>\n      <td>NaN</td>\n      <td>NaN</td>\n      <td>SH</td>\n      <td>18.0</td>\n      <td>NaN</td>\n      <td>BB_0781.0</td>\n      <td>100.0</td>\n      <td>../data/BGR/Profilbilder_no_ruler_no_sky/SH_00...</td>\n    </tr>\n  </tbody>\n</table>\n</div>"
     },
     "execution_count": 8,
     "metadata": {},
     "output_type": "execute_result"
    }
   ],
   "source": [
    "df = pd.merge(df, img_files, how='inner', on=['Point']) # for full images\n",
    "#df = pd.merge(df, img_files, how='inner', on=['Point', 'HorizontID']) # for patches\n",
    "df['file'] = df['file'].map(lambda x: os.path.join(path_pictures, x))\n",
    "print(len(df))\n",
    "df.head(15)"
   ],
   "metadata": {
    "collapsed": false,
    "pycharm": {
     "name": "#%%\n"
    }
   }
  },
  {
   "cell_type": "markdown",
   "source": [
    "**Note**: When merging with the image dataset, the total dataframe increases in size, because some soil pictures were taken from more than one angle. These are still not duplicates, although the table features are the same for every such image."
   ],
   "metadata": {
    "collapsed": false
   }
  },
  {
   "cell_type": "code",
   "execution_count": 9,
   "outputs": [],
   "source": [
    "# Join with annotator ids\n",
    "#df_k = pd.read_csv(path_csv_annotator_ids)\n",
    "#df_k = df_k.rename({'PointID':'Point'},axis=1)\n",
    "#df_k.head()"
   ],
   "metadata": {
    "collapsed": false,
    "pycharm": {
     "name": "#%%\n"
    }
   }
  },
  {
   "cell_type": "code",
   "execution_count": 10,
   "outputs": [],
   "source": [
    "#df = pd.merge(df, df_k, how='inner', on='Point')\n",
    "#len(df)"
   ],
   "metadata": {
    "collapsed": false,
    "pycharm": {
     "name": "#%%\n"
    }
   }
  },
  {
   "cell_type": "markdown",
   "source": [
    "**Note**: When joining with the annotator ids, the size of df decreases, since we don't have this id for every sample in the df."
   ],
   "metadata": {
    "collapsed": false
   }
  },
  {
   "cell_type": "code",
   "execution_count": 11,
   "outputs": [
    {
     "name": "stdout",
     "output_type": "stream",
     "text": [
      "3106\n"
     ]
    },
    {
     "data": {
      "text/plain": "  Point Bundesland  Probenahme_Monat  Probenahme_Jahr       xcoord  \\\n0     2         SH                11             2015  462216.1283   \n1     3         SH                 6             2016  480546.9384   \n2     4         SH                 8             2018  484922.3074   \n3     5         SH                10             2015  497355.9905   \n4     6         SH                10             2015  505020.3377   \n\n        ycoord Bodenklimaraum_Name Landnutzung BZE_Moor Hauptbodentyp  \\\n0  6079359.775       Marsch - Nord           A        0            YE   \n1  6079739.216       Marsch - Nord           G        0            MD   \n2  6080011.471       Marsch - Nord           A        0            MK   \n3  6079646.589       Marsch - Nord           G        0            RQ   \n4   6080401.37        Geest - Nord           G        0            YU   \n\n  BodenVarTypSub GrundwaStufe GrundwaStand  Moormaechtigkeit  \\\n0          YE/BB            0         >200               0.0   \n1            MDn         GWS4          135               0.0   \n2            MKn         GWS4          105               0.0   \n3     p2RQ/GG-PP         GWS4          180               0.0   \n4        aGGe-YU         GWS4          140               0.0   \n\n   Torfmaechtigkeit Neigung Exposition Woelbung Reliefformtyp LageImRelief  \\\n0               0.0      N0        NaN       GG             V            Z   \n1               0.0      N0        NaN       GG           TSF            Z   \n2               0.0      N1         NE       GG            TH            Z   \n3               0.0    N0.2         SS       GG           KSF            K   \n4               0.0      N0        NaN       GG           TSF            Z   \n\n   KV_0_30  KV_30_100  \n0    81.89      54.19  \n1    71.62      59.74  \n2    65.60     120.40  \n3    88.82     220.87  \n4    62.97      84.35  ",
      "text/html": "<div>\n<style scoped>\n    .dataframe tbody tr th:only-of-type {\n        vertical-align: middle;\n    }\n\n    .dataframe tbody tr th {\n        vertical-align: top;\n    }\n\n    .dataframe thead th {\n        text-align: right;\n    }\n</style>\n<table border=\"1\" class=\"dataframe\">\n  <thead>\n    <tr style=\"text-align: right;\">\n      <th></th>\n      <th>Point</th>\n      <th>Bundesland</th>\n      <th>Probenahme_Monat</th>\n      <th>Probenahme_Jahr</th>\n      <th>xcoord</th>\n      <th>ycoord</th>\n      <th>Bodenklimaraum_Name</th>\n      <th>Landnutzung</th>\n      <th>BZE_Moor</th>\n      <th>Hauptbodentyp</th>\n      <th>BodenVarTypSub</th>\n      <th>GrundwaStufe</th>\n      <th>GrundwaStand</th>\n      <th>Moormaechtigkeit</th>\n      <th>Torfmaechtigkeit</th>\n      <th>Neigung</th>\n      <th>Exposition</th>\n      <th>Woelbung</th>\n      <th>Reliefformtyp</th>\n      <th>LageImRelief</th>\n      <th>KV_0_30</th>\n      <th>KV_30_100</th>\n    </tr>\n  </thead>\n  <tbody>\n    <tr>\n      <th>0</th>\n      <td>2</td>\n      <td>SH</td>\n      <td>11</td>\n      <td>2015</td>\n      <td>462216.1283</td>\n      <td>6079359.775</td>\n      <td>Marsch - Nord</td>\n      <td>A</td>\n      <td>0</td>\n      <td>YE</td>\n      <td>YE/BB</td>\n      <td>0</td>\n      <td>&gt;200</td>\n      <td>0.0</td>\n      <td>0.0</td>\n      <td>N0</td>\n      <td>NaN</td>\n      <td>GG</td>\n      <td>V</td>\n      <td>Z</td>\n      <td>81.89</td>\n      <td>54.19</td>\n    </tr>\n    <tr>\n      <th>1</th>\n      <td>3</td>\n      <td>SH</td>\n      <td>6</td>\n      <td>2016</td>\n      <td>480546.9384</td>\n      <td>6079739.216</td>\n      <td>Marsch - Nord</td>\n      <td>G</td>\n      <td>0</td>\n      <td>MD</td>\n      <td>MDn</td>\n      <td>GWS4</td>\n      <td>135</td>\n      <td>0.0</td>\n      <td>0.0</td>\n      <td>N0</td>\n      <td>NaN</td>\n      <td>GG</td>\n      <td>TSF</td>\n      <td>Z</td>\n      <td>71.62</td>\n      <td>59.74</td>\n    </tr>\n    <tr>\n      <th>2</th>\n      <td>4</td>\n      <td>SH</td>\n      <td>8</td>\n      <td>2018</td>\n      <td>484922.3074</td>\n      <td>6080011.471</td>\n      <td>Marsch - Nord</td>\n      <td>A</td>\n      <td>0</td>\n      <td>MK</td>\n      <td>MKn</td>\n      <td>GWS4</td>\n      <td>105</td>\n      <td>0.0</td>\n      <td>0.0</td>\n      <td>N1</td>\n      <td>NE</td>\n      <td>GG</td>\n      <td>TH</td>\n      <td>Z</td>\n      <td>65.60</td>\n      <td>120.40</td>\n    </tr>\n    <tr>\n      <th>3</th>\n      <td>5</td>\n      <td>SH</td>\n      <td>10</td>\n      <td>2015</td>\n      <td>497355.9905</td>\n      <td>6079646.589</td>\n      <td>Marsch - Nord</td>\n      <td>G</td>\n      <td>0</td>\n      <td>RQ</td>\n      <td>p2RQ/GG-PP</td>\n      <td>GWS4</td>\n      <td>180</td>\n      <td>0.0</td>\n      <td>0.0</td>\n      <td>N0.2</td>\n      <td>SS</td>\n      <td>GG</td>\n      <td>KSF</td>\n      <td>K</td>\n      <td>88.82</td>\n      <td>220.87</td>\n    </tr>\n    <tr>\n      <th>4</th>\n      <td>6</td>\n      <td>SH</td>\n      <td>10</td>\n      <td>2015</td>\n      <td>505020.3377</td>\n      <td>6080401.37</td>\n      <td>Geest - Nord</td>\n      <td>G</td>\n      <td>0</td>\n      <td>YU</td>\n      <td>aGGe-YU</td>\n      <td>GWS4</td>\n      <td>140</td>\n      <td>0.0</td>\n      <td>0.0</td>\n      <td>N0</td>\n      <td>NaN</td>\n      <td>GG</td>\n      <td>TSF</td>\n      <td>Z</td>\n      <td>62.97</td>\n      <td>84.35</td>\n    </tr>\n  </tbody>\n</table>\n</div>"
     },
     "execution_count": 11,
     "metadata": {},
     "output_type": "execute_result"
    }
   ],
   "source": [
    "# Join with table containing geographical infos\n",
    "df_loc = pd.read_csv(path_csv_locations, encoding='unicode_escape')\n",
    "df_loc = df_loc.rename({'PointID':'Point'},axis=1)\n",
    "print(len(df_loc))\n",
    "df_loc.head()"
   ],
   "metadata": {
    "collapsed": false,
    "pycharm": {
     "name": "#%%\n"
    }
   }
  },
  {
   "cell_type": "code",
   "execution_count": 12,
   "outputs": [
    {
     "data": {
      "text/plain": "16316"
     },
     "execution_count": 12,
     "metadata": {},
     "output_type": "execute_result"
    }
   ],
   "source": [
    "# There are some string artifacts when reading the Standort dataframe. Set them to NaN and remove the rows\n",
    "df_loc['Point'] = pd.to_numeric(df_loc['Point'], errors='coerce')\n",
    "df_loc = df_loc.dropna(subset=['Point'])\n",
    "df = pd.merge(df, df_loc, how='inner', on='Point')\n",
    "len(df)"
   ],
   "metadata": {
    "collapsed": false,
    "pycharm": {
     "name": "#%%\n"
    }
   }
  },
  {
   "cell_type": "markdown",
   "source": [
    "**Note** Size of df stays the same after merging with df_loc (Points in df_loc are all contained in Points df)."
   ],
   "metadata": {
    "collapsed": false
   }
  },
  {
   "cell_type": "code",
   "execution_count": 13,
   "outputs": [
    {
     "data": {
      "text/plain": "        Point  Obergrenze  Untergrenze Horizontsymbol_relevant Bodenart  \\\n0         2.0         0.0         28.0                      Ap      Sl2   \n1         2.0        28.0         54.0                       E      Sl2   \n2         2.0        54.0         68.0                      Bv      Sl2   \n3         2.0        68.0         96.0                  Bv-ilC     fSms   \n4         2.0        96.0        201.0                     ilC     mSfs   \n...       ...         ...          ...                     ...      ...   \n16311  6211.0        70.0        100.0                  Go-Bbs     fSms   \n16312  6211.0       100.0        130.0                      Go     fSms   \n16313  6211.0       100.0        130.0                      Go     fSms   \n16314  6211.0       130.0        155.0                      Gr     fSms   \n16315  6211.0       130.0        155.0                      Gr     fSms   \n\n      Bodenfarbe  Steine Karbonat Humusgehaltsklasse Durchwurzelung  \\\n0      7.5YR 3/2     3.0       C0                 h3            Wf4   \n1       10YR 3/3     3.0       C0                 h2            Wf3   \n2      7.5YR 4/3    10.0       C0                 h1            Wf3   \n3      7.5YR 6/4     1.0       C0                 h0            Wf2   \n4       10YR 7/4     1.0       C0                 h0            NaN   \n...          ...     ...      ...                ...            ...   \n16311  7.5YR 5/4     1.0       C0                 h1            Wf6   \n16312   2.5Y 6/4     1.0       C0                 h0            Wf4   \n16313   2.5Y 6/4     1.0       C0                 h0            Wf4   \n16314   2.5Y 5/4     1.0       C0                 h0            Wf2   \n16315   2.5Y 5/4     1.0       C0                 h0            Wf2   \n\n                                                    file  Probenahme_Monat  \\\n0      ../data/BGR/Profilbilder_no_ruler_no_sky/SH_00...                11   \n1      ../data/BGR/Profilbilder_no_ruler_no_sky/SH_00...                11   \n2      ../data/BGR/Profilbilder_no_ruler_no_sky/SH_00...                11   \n3      ../data/BGR/Profilbilder_no_ruler_no_sky/SH_00...                11   \n4      ../data/BGR/Profilbilder_no_ruler_no_sky/SH_00...                11   \n...                                                  ...               ...   \n16311  ../data/BGR/Profilbilder_no_ruler_no_sky/NI_62...                 6   \n16312  ../data/BGR/Profilbilder_no_ruler_no_sky/NI_62...                 6   \n16313  ../data/BGR/Profilbilder_no_ruler_no_sky/NI_62...                 6   \n16314  ../data/BGR/Profilbilder_no_ruler_no_sky/NI_62...                 6   \n16315  ../data/BGR/Profilbilder_no_ruler_no_sky/NI_62...                 6   \n\n       Probenahme_Jahr       xcoord       ycoord  \\\n0                 2015  462216.1283  6079359.775   \n1                 2015  462216.1283  6079359.775   \n2                 2015  462216.1283  6079359.775   \n3                 2015  462216.1283  6079359.775   \n4                 2015  462216.1283  6079359.775   \n...                ...          ...          ...   \n16311             2012  522076.9633  5930456.114   \n16312             2012  522076.9633  5930456.114   \n16313             2012  522076.9633  5930456.114   \n16314             2012  522076.9633  5930456.114   \n16315             2012  522076.9633  5930456.114   \n\n                      Bodenklimaraum_Name Landnutzung BZE_Moor Hauptbodentyp  \\\n0                           Marsch - Nord           A        0            YE   \n1                           Marsch - Nord           A        0            YE   \n2                           Marsch - Nord           A        0            YE   \n3                           Marsch - Nord           A        0            YE   \n4                           Marsch - Nord           A        0            YE   \n...                                   ...         ...      ...           ...   \n16311  Elbe-Weser-Dreieck / sandige Böden           G        0            PP   \n16312  Elbe-Weser-Dreieck / sandige Böden           G        0            PP   \n16313  Elbe-Weser-Dreieck / sandige Böden           G        0            PP   \n16314  Elbe-Weser-Dreieck / sandige Böden           G        0            PP   \n16315  Elbe-Weser-Dreieck / sandige Böden           G        0            PP   \n\n      BodenVarTypSub GrundwaStufe  GrundwaStand  Moormaechtigkeit  \\\n0              YE/BB            0         200.0               0.0   \n1              YE/BB            0         200.0               0.0   \n2              YE/BB            0         200.0               0.0   \n3              YE/BB            0         200.0               0.0   \n4              YE/BB            0         200.0               0.0   \n...              ...          ...           ...               ...   \n16311          GG-PP         GWS4         110.0               0.0   \n16312          GG-PP         GWS4         110.0               0.0   \n16313          GG-PP         GWS4         110.0               0.0   \n16314          GG-PP         GWS4         110.0               0.0   \n16315          GG-PP         GWS4         110.0               0.0   \n\n       Torfmaechtigkeit Neigung Exposition Woelbung Reliefformtyp  \\\n0                   0.0      N0        NaN       GG             V   \n1                   0.0      N0        NaN       GG             V   \n2                   0.0      N0        NaN       GG             V   \n3                   0.0      N0        NaN       GG             V   \n4                   0.0      N0        NaN       GG             V   \n...                 ...     ...        ...      ...           ...   \n16311               0.0      N0        NaN       GG           TSF   \n16312               0.0      N0        NaN       GG           TSF   \n16313               0.0      N0        NaN       GG           TSF   \n16314               0.0      N0        NaN       GG           TSF   \n16315               0.0      N0        NaN       GG           TSF   \n\n      LageImRelief  KV_0_30  KV_30_100  \n0                Z    81.89      54.19  \n1                Z    81.89      54.19  \n2                Z    81.89      54.19  \n3                Z    81.89      54.19  \n4                Z    81.89      54.19  \n...            ...      ...        ...  \n16311            T   117.59      87.72  \n16312            T   117.59      87.72  \n16313            T   117.59      87.72  \n16314            T   117.59      87.72  \n16315            T   117.59      87.72  \n\n[16316 rows x 31 columns]",
      "text/html": "<div>\n<style scoped>\n    .dataframe tbody tr th:only-of-type {\n        vertical-align: middle;\n    }\n\n    .dataframe tbody tr th {\n        vertical-align: top;\n    }\n\n    .dataframe thead th {\n        text-align: right;\n    }\n</style>\n<table border=\"1\" class=\"dataframe\">\n  <thead>\n    <tr style=\"text-align: right;\">\n      <th></th>\n      <th>Point</th>\n      <th>Obergrenze</th>\n      <th>Untergrenze</th>\n      <th>Horizontsymbol_relevant</th>\n      <th>Bodenart</th>\n      <th>Bodenfarbe</th>\n      <th>Steine</th>\n      <th>Karbonat</th>\n      <th>Humusgehaltsklasse</th>\n      <th>Durchwurzelung</th>\n      <th>file</th>\n      <th>Probenahme_Monat</th>\n      <th>Probenahme_Jahr</th>\n      <th>xcoord</th>\n      <th>ycoord</th>\n      <th>Bodenklimaraum_Name</th>\n      <th>Landnutzung</th>\n      <th>BZE_Moor</th>\n      <th>Hauptbodentyp</th>\n      <th>BodenVarTypSub</th>\n      <th>GrundwaStufe</th>\n      <th>GrundwaStand</th>\n      <th>Moormaechtigkeit</th>\n      <th>Torfmaechtigkeit</th>\n      <th>Neigung</th>\n      <th>Exposition</th>\n      <th>Woelbung</th>\n      <th>Reliefformtyp</th>\n      <th>LageImRelief</th>\n      <th>KV_0_30</th>\n      <th>KV_30_100</th>\n    </tr>\n  </thead>\n  <tbody>\n    <tr>\n      <th>0</th>\n      <td>2.0</td>\n      <td>0.0</td>\n      <td>28.0</td>\n      <td>Ap</td>\n      <td>Sl2</td>\n      <td>7.5YR 3/2</td>\n      <td>3.0</td>\n      <td>C0</td>\n      <td>h3</td>\n      <td>Wf4</td>\n      <td>../data/BGR/Profilbilder_no_ruler_no_sky/SH_00...</td>\n      <td>11</td>\n      <td>2015</td>\n      <td>462216.1283</td>\n      <td>6079359.775</td>\n      <td>Marsch - Nord</td>\n      <td>A</td>\n      <td>0</td>\n      <td>YE</td>\n      <td>YE/BB</td>\n      <td>0</td>\n      <td>200.0</td>\n      <td>0.0</td>\n      <td>0.0</td>\n      <td>N0</td>\n      <td>NaN</td>\n      <td>GG</td>\n      <td>V</td>\n      <td>Z</td>\n      <td>81.89</td>\n      <td>54.19</td>\n    </tr>\n    <tr>\n      <th>1</th>\n      <td>2.0</td>\n      <td>28.0</td>\n      <td>54.0</td>\n      <td>E</td>\n      <td>Sl2</td>\n      <td>10YR 3/3</td>\n      <td>3.0</td>\n      <td>C0</td>\n      <td>h2</td>\n      <td>Wf3</td>\n      <td>../data/BGR/Profilbilder_no_ruler_no_sky/SH_00...</td>\n      <td>11</td>\n      <td>2015</td>\n      <td>462216.1283</td>\n      <td>6079359.775</td>\n      <td>Marsch - Nord</td>\n      <td>A</td>\n      <td>0</td>\n      <td>YE</td>\n      <td>YE/BB</td>\n      <td>0</td>\n      <td>200.0</td>\n      <td>0.0</td>\n      <td>0.0</td>\n      <td>N0</td>\n      <td>NaN</td>\n      <td>GG</td>\n      <td>V</td>\n      <td>Z</td>\n      <td>81.89</td>\n      <td>54.19</td>\n    </tr>\n    <tr>\n      <th>2</th>\n      <td>2.0</td>\n      <td>54.0</td>\n      <td>68.0</td>\n      <td>Bv</td>\n      <td>Sl2</td>\n      <td>7.5YR 4/3</td>\n      <td>10.0</td>\n      <td>C0</td>\n      <td>h1</td>\n      <td>Wf3</td>\n      <td>../data/BGR/Profilbilder_no_ruler_no_sky/SH_00...</td>\n      <td>11</td>\n      <td>2015</td>\n      <td>462216.1283</td>\n      <td>6079359.775</td>\n      <td>Marsch - Nord</td>\n      <td>A</td>\n      <td>0</td>\n      <td>YE</td>\n      <td>YE/BB</td>\n      <td>0</td>\n      <td>200.0</td>\n      <td>0.0</td>\n      <td>0.0</td>\n      <td>N0</td>\n      <td>NaN</td>\n      <td>GG</td>\n      <td>V</td>\n      <td>Z</td>\n      <td>81.89</td>\n      <td>54.19</td>\n    </tr>\n    <tr>\n      <th>3</th>\n      <td>2.0</td>\n      <td>68.0</td>\n      <td>96.0</td>\n      <td>Bv-ilC</td>\n      <td>fSms</td>\n      <td>7.5YR 6/4</td>\n      <td>1.0</td>\n      <td>C0</td>\n      <td>h0</td>\n      <td>Wf2</td>\n      <td>../data/BGR/Profilbilder_no_ruler_no_sky/SH_00...</td>\n      <td>11</td>\n      <td>2015</td>\n      <td>462216.1283</td>\n      <td>6079359.775</td>\n      <td>Marsch - Nord</td>\n      <td>A</td>\n      <td>0</td>\n      <td>YE</td>\n      <td>YE/BB</td>\n      <td>0</td>\n      <td>200.0</td>\n      <td>0.0</td>\n      <td>0.0</td>\n      <td>N0</td>\n      <td>NaN</td>\n      <td>GG</td>\n      <td>V</td>\n      <td>Z</td>\n      <td>81.89</td>\n      <td>54.19</td>\n    </tr>\n    <tr>\n      <th>4</th>\n      <td>2.0</td>\n      <td>96.0</td>\n      <td>201.0</td>\n      <td>ilC</td>\n      <td>mSfs</td>\n      <td>10YR 7/4</td>\n      <td>1.0</td>\n      <td>C0</td>\n      <td>h0</td>\n      <td>NaN</td>\n      <td>../data/BGR/Profilbilder_no_ruler_no_sky/SH_00...</td>\n      <td>11</td>\n      <td>2015</td>\n      <td>462216.1283</td>\n      <td>6079359.775</td>\n      <td>Marsch - Nord</td>\n      <td>A</td>\n      <td>0</td>\n      <td>YE</td>\n      <td>YE/BB</td>\n      <td>0</td>\n      <td>200.0</td>\n      <td>0.0</td>\n      <td>0.0</td>\n      <td>N0</td>\n      <td>NaN</td>\n      <td>GG</td>\n      <td>V</td>\n      <td>Z</td>\n      <td>81.89</td>\n      <td>54.19</td>\n    </tr>\n    <tr>\n      <th>...</th>\n      <td>...</td>\n      <td>...</td>\n      <td>...</td>\n      <td>...</td>\n      <td>...</td>\n      <td>...</td>\n      <td>...</td>\n      <td>...</td>\n      <td>...</td>\n      <td>...</td>\n      <td>...</td>\n      <td>...</td>\n      <td>...</td>\n      <td>...</td>\n      <td>...</td>\n      <td>...</td>\n      <td>...</td>\n      <td>...</td>\n      <td>...</td>\n      <td>...</td>\n      <td>...</td>\n      <td>...</td>\n      <td>...</td>\n      <td>...</td>\n      <td>...</td>\n      <td>...</td>\n      <td>...</td>\n      <td>...</td>\n      <td>...</td>\n      <td>...</td>\n      <td>...</td>\n    </tr>\n    <tr>\n      <th>16311</th>\n      <td>6211.0</td>\n      <td>70.0</td>\n      <td>100.0</td>\n      <td>Go-Bbs</td>\n      <td>fSms</td>\n      <td>7.5YR 5/4</td>\n      <td>1.0</td>\n      <td>C0</td>\n      <td>h1</td>\n      <td>Wf6</td>\n      <td>../data/BGR/Profilbilder_no_ruler_no_sky/NI_62...</td>\n      <td>6</td>\n      <td>2012</td>\n      <td>522076.9633</td>\n      <td>5930456.114</td>\n      <td>Elbe-Weser-Dreieck / sandige Böden</td>\n      <td>G</td>\n      <td>0</td>\n      <td>PP</td>\n      <td>GG-PP</td>\n      <td>GWS4</td>\n      <td>110.0</td>\n      <td>0.0</td>\n      <td>0.0</td>\n      <td>N0</td>\n      <td>NaN</td>\n      <td>GG</td>\n      <td>TSF</td>\n      <td>T</td>\n      <td>117.59</td>\n      <td>87.72</td>\n    </tr>\n    <tr>\n      <th>16312</th>\n      <td>6211.0</td>\n      <td>100.0</td>\n      <td>130.0</td>\n      <td>Go</td>\n      <td>fSms</td>\n      <td>2.5Y 6/4</td>\n      <td>1.0</td>\n      <td>C0</td>\n      <td>h0</td>\n      <td>Wf4</td>\n      <td>../data/BGR/Profilbilder_no_ruler_no_sky/NI_62...</td>\n      <td>6</td>\n      <td>2012</td>\n      <td>522076.9633</td>\n      <td>5930456.114</td>\n      <td>Elbe-Weser-Dreieck / sandige Böden</td>\n      <td>G</td>\n      <td>0</td>\n      <td>PP</td>\n      <td>GG-PP</td>\n      <td>GWS4</td>\n      <td>110.0</td>\n      <td>0.0</td>\n      <td>0.0</td>\n      <td>N0</td>\n      <td>NaN</td>\n      <td>GG</td>\n      <td>TSF</td>\n      <td>T</td>\n      <td>117.59</td>\n      <td>87.72</td>\n    </tr>\n    <tr>\n      <th>16313</th>\n      <td>6211.0</td>\n      <td>100.0</td>\n      <td>130.0</td>\n      <td>Go</td>\n      <td>fSms</td>\n      <td>2.5Y 6/4</td>\n      <td>1.0</td>\n      <td>C0</td>\n      <td>h0</td>\n      <td>Wf4</td>\n      <td>../data/BGR/Profilbilder_no_ruler_no_sky/NI_62...</td>\n      <td>6</td>\n      <td>2012</td>\n      <td>522076.9633</td>\n      <td>5930456.114</td>\n      <td>Elbe-Weser-Dreieck / sandige Böden</td>\n      <td>G</td>\n      <td>0</td>\n      <td>PP</td>\n      <td>GG-PP</td>\n      <td>GWS4</td>\n      <td>110.0</td>\n      <td>0.0</td>\n      <td>0.0</td>\n      <td>N0</td>\n      <td>NaN</td>\n      <td>GG</td>\n      <td>TSF</td>\n      <td>T</td>\n      <td>117.59</td>\n      <td>87.72</td>\n    </tr>\n    <tr>\n      <th>16314</th>\n      <td>6211.0</td>\n      <td>130.0</td>\n      <td>155.0</td>\n      <td>Gr</td>\n      <td>fSms</td>\n      <td>2.5Y 5/4</td>\n      <td>1.0</td>\n      <td>C0</td>\n      <td>h0</td>\n      <td>Wf2</td>\n      <td>../data/BGR/Profilbilder_no_ruler_no_sky/NI_62...</td>\n      <td>6</td>\n      <td>2012</td>\n      <td>522076.9633</td>\n      <td>5930456.114</td>\n      <td>Elbe-Weser-Dreieck / sandige Böden</td>\n      <td>G</td>\n      <td>0</td>\n      <td>PP</td>\n      <td>GG-PP</td>\n      <td>GWS4</td>\n      <td>110.0</td>\n      <td>0.0</td>\n      <td>0.0</td>\n      <td>N0</td>\n      <td>NaN</td>\n      <td>GG</td>\n      <td>TSF</td>\n      <td>T</td>\n      <td>117.59</td>\n      <td>87.72</td>\n    </tr>\n    <tr>\n      <th>16315</th>\n      <td>6211.0</td>\n      <td>130.0</td>\n      <td>155.0</td>\n      <td>Gr</td>\n      <td>fSms</td>\n      <td>2.5Y 5/4</td>\n      <td>1.0</td>\n      <td>C0</td>\n      <td>h0</td>\n      <td>Wf2</td>\n      <td>../data/BGR/Profilbilder_no_ruler_no_sky/NI_62...</td>\n      <td>6</td>\n      <td>2012</td>\n      <td>522076.9633</td>\n      <td>5930456.114</td>\n      <td>Elbe-Weser-Dreieck / sandige Böden</td>\n      <td>G</td>\n      <td>0</td>\n      <td>PP</td>\n      <td>GG-PP</td>\n      <td>GWS4</td>\n      <td>110.0</td>\n      <td>0.0</td>\n      <td>0.0</td>\n      <td>N0</td>\n      <td>NaN</td>\n      <td>GG</td>\n      <td>TSF</td>\n      <td>T</td>\n      <td>117.59</td>\n      <td>87.72</td>\n    </tr>\n  </tbody>\n</table>\n<p>16316 rows × 31 columns</p>\n</div>"
     },
     "execution_count": 13,
     "metadata": {},
     "output_type": "execute_result"
    }
   ],
   "source": [
    "# Decide on which columns to keep for training\n",
    "keep_columns = ['Point', #'HorizontID',\n",
    "                'Obergrenze', 'Untergrenze',\n",
    "                #'Horizontsymbol',\n",
    "                'Horizontsymbol_relevant',\n",
    "                #'Horizont_cluster',\n",
    "                'Bodenart', 'Bodenfarbe', 'Steine', 'Karbonat', 'Humusgehaltsklasse', 'Durchwurzelung',\n",
    "                #'max_depth', # not needed for training (and also has mostly NaNs)\n",
    "                'file',\n",
    "                #'Aufnehmer', # only when merged with annotators\n",
    "                'Probenahme_Monat', 'Probenahme_Jahr', 'xcoord', 'ycoord', 'Bodenklimaraum_Name',\n",
    "                'Landnutzung', 'BZE_Moor', 'Hauptbodentyp', 'BodenVarTypSub', 'GrundwaStufe', 'GrundwaStand', 'Moormaechtigkeit',\n",
    "                'Torfmaechtigkeit', 'Neigung', 'Exposition', 'Woelbung', 'Reliefformtyp', 'LageImRelief', 'KV_0_30', 'KV_30_100']\n",
    "df = df[keep_columns]\n",
    "df['GrundwaStand'] = df['GrundwaStand'].str.replace('>','').astype(float)\n",
    "df['ycoord'] = df['ycoord'].astype(float)\n",
    "df"
   ],
   "metadata": {
    "collapsed": false,
    "pycharm": {
     "name": "#%%\n"
    }
   }
  },
  {
   "cell_type": "code",
   "execution_count": 14,
   "outputs": [
    {
     "data": {
      "text/plain": "13621"
     },
     "execution_count": 14,
     "metadata": {},
     "output_type": "execute_result"
    }
   ],
   "source": [
    "# Profile images only show horizons up to ~1 meter depth\n",
    "# Note: Filter only necessary when joining table with whole images, not horizon segments\n",
    "df = df[df['Obergrenze'] < 100]\n",
    "len(df)"
   ],
   "metadata": {
    "collapsed": false,
    "pycharm": {
     "name": "#%%\n"
    }
   }
  },
  {
   "cell_type": "markdown",
   "source": [
    "#### Imputation"
   ],
   "metadata": {
    "collapsed": false
   }
  },
  {
   "cell_type": "code",
   "execution_count": 15,
   "outputs": [
    {
     "name": "stderr",
     "output_type": "stream",
     "text": [
      "/tmp/ipykernel_1180619/1919224170.py:2: SettingWithCopyWarning: \n",
      "A value is trying to be set on a copy of a slice from a DataFrame.\n",
      "Try using .loc[row_indexer,col_indexer] = value instead\n",
      "\n",
      "See the caveats in the documentation: https://pandas.pydata.org/pandas-docs/stable/user_guide/indexing.html#returning-a-view-versus-a-copy\n",
      "  df['Steine'] = df['Steine'].fillna(0.0)\n",
      "/tmp/ipykernel_1180619/1919224170.py:3: SettingWithCopyWarning: \n",
      "A value is trying to be set on a copy of a slice from a DataFrame.\n",
      "Try using .loc[row_indexer,col_indexer] = value instead\n",
      "\n",
      "See the caveats in the documentation: https://pandas.pydata.org/pandas-docs/stable/user_guide/indexing.html#returning-a-view-versus-a-copy\n",
      "  df['Durchwurzelung'] = df['Durchwurzelung'].fillna('Wf0')\n",
      "/tmp/ipykernel_1180619/1919224170.py:4: SettingWithCopyWarning: \n",
      "A value is trying to be set on a copy of a slice from a DataFrame.\n",
      "Try using .loc[row_indexer,col_indexer] = value instead\n",
      "\n",
      "See the caveats in the documentation: https://pandas.pydata.org/pandas-docs/stable/user_guide/indexing.html#returning-a-view-versus-a-copy\n",
      "  df['Durchwurzelung'] = df['Durchwurzelung'].str.split(',').str[0] # Some values have double labels; only keep the first one\n",
      "/tmp/ipykernel_1180619/1919224170.py:5: SettingWithCopyWarning: \n",
      "A value is trying to be set on a copy of a slice from a DataFrame.\n",
      "Try using .loc[row_indexer,col_indexer] = value instead\n",
      "\n",
      "See the caveats in the documentation: https://pandas.pydata.org/pandas-docs/stable/user_guide/indexing.html#returning-a-view-versus-a-copy\n",
      "  df['Exposition'] = df['Exposition'].replace(['0', '---'], 'KE') # KE = Keine\n"
     ]
    }
   ],
   "source": [
    "# Replace some of the missing values with recommendations from geology\n",
    "df['Steine'] = df['Steine'].fillna(0.0)\n",
    "df['Durchwurzelung'] = df['Durchwurzelung'].fillna('Wf0')\n",
    "df['Durchwurzelung'] = df['Durchwurzelung'].str.split(',').str[0] # Some values have double labels; only keep the first one\n",
    "df['Exposition'] = df['Exposition'].replace(['0', '---'], 'KE') # KE = Keine\n",
    "df.loc[df['Exposition'].isna() & (df['Neigung'] == 'N0'), 'Exposition'] = 'KE' # NaN-Exposition should be 'KE', when Neigung is N0 (there will still be some other NaNs in Exposition"
   ],
   "metadata": {
    "collapsed": false,
    "pycharm": {
     "name": "#%%\n"
    }
   }
  },
  {
   "cell_type": "markdown",
   "source": [
    "#### Features and Labels Encoding"
   ],
   "metadata": {
    "collapsed": false
   }
  },
  {
   "cell_type": "code",
   "execution_count": 16,
   "outputs": [],
   "source": [
    "target = 'Horizontsymbol_relevant' #'Horizont_cluster'\n",
    "num_features   = ['xcoord','ycoord', 'Steine', 'GrundwaStand', 'Moormaechtigkeit', 'Torfmaechtigkeit', 'KV_0_30', 'KV_30_100']\n",
    "categ_features = ['Probenahme_Monat', 'Probenahme_Jahr',\n",
    "                  'Bodenart', 'Bodenfarbe', 'Karbonat', 'Humusgehaltsklasse', 'Durchwurzelung', 'Bodenklimaraum_Name',\n",
    "                  'Landnutzung', 'BZE_Moor', 'Hauptbodentyp', 'BodenVarTypSub', 'GrundwaStufe', 'Neigung',\n",
    "                  'Exposition', 'Woelbung', 'Reliefformtyp', 'LageImRelief']\n",
    "feature_columns = num_features + categ_features"
   ],
   "metadata": {
    "collapsed": false,
    "pycharm": {
     "name": "#%%\n"
    }
   }
  },
  {
   "cell_type": "code",
   "execution_count": 17,
   "outputs": [
    {
     "data": {
      "text/plain": "Horizontsymbol_relevant\nAp         2399\nAh          742\nBv          546\nSd          483\nGo          403\n           ... \nBsh-Bv        1\nilC+Ap        1\nM-Gkso        1\naAh°Gor       1\naAcp2         1\nName: count, Length: 1568, dtype: int64"
     },
     "execution_count": 17,
     "metadata": {},
     "output_type": "execute_result"
    }
   ],
   "source": [
    "counts = df[target].value_counts()\n",
    "counts"
   ],
   "metadata": {
    "collapsed": false,
    "pycharm": {
     "name": "#%%\n"
    }
   }
  },
  {
   "cell_type": "code",
   "execution_count": 18,
   "outputs": [
    {
     "name": "stdout",
     "output_type": "stream",
     "text": [
      "(87, 61)\n"
     ]
    },
    {
     "data": {
      "text/plain": "{'ind2label': ['ilC',\n  'Ael',\n  'Sd',\n  'C.',\n  'imCv',\n  'E.',\n  'emC',\n  'cC',\n  'clC',\n  'ilCbtv',\n  'aelC',\n  'Cv',\n  'Bsh',\n  'Axh',\n  'Bhv',\n  'P.',\n  'Bvt',\n  'Acxh',\n  'Gro',\n  'iC',\n  'tGro',\n  'Go',\n  'Ap',\n  'Gw',\n  'Aep',\n  'cmC',\n  'imC',\n  'Ssw',\n  'Mc',\n  'Hw',\n  'Acp',\n  'mCv',\n  'Bv',\n  'Sswd',\n  'elC',\n  'lC',\n  'Aeh',\n  'Bhs',\n  'Cj',\n  'tGr',\n  'Axp',\n  'bE',\n  'Gr',\n  'Gkso',\n  'Gor',\n  'M.',\n  'Bsv',\n  'Sw',\n  'Bt',\n  'Bcv',\n  'Btv',\n  'Hr',\n  'Hv',\n  'elCc',\n  'Bs',\n  'R.',\n  'tGo',\n  'Bh',\n  'Ah',\n  'Cbtv',\n  'Al',\n  'Sw-Bv',\n  'Bv-ilC',\n  'Bt-Sd',\n  'Bv-Cv',\n  'Sd-ilC',\n  'Al-Sw',\n  'Al-Bv',\n  'M-Go',\n  'Ael-Bt',\n  'Ah-Bv',\n  'Sw-M',\n  'Sw-Ap',\n  'Bv-Ael',\n  'Go-ilC',\n  'elC-P',\n  'Sd-Bv',\n  'Sw-ilC',\n  'Al-Bt',\n  'Sw-Ah',\n  'P-Sd',\n  'Sd-lC',\n  'Sw-Go',\n  'Sw-Bt',\n  'Sd-Btv',\n  'Bv-elC',\n  'M-Gro'],\n 'label2ind': {'ilC': 0,\n  'Ael': 1,\n  'Sd': 2,\n  'C.': 3,\n  'imCv': 4,\n  'E.': 5,\n  'emC': 6,\n  'cC': 7,\n  'clC': 8,\n  'ilCbtv': 9,\n  'aelC': 10,\n  'Cv': 11,\n  'Bsh': 12,\n  'Axh': 13,\n  'Bhv': 14,\n  'P.': 15,\n  'Bvt': 16,\n  'Acxh': 17,\n  'Gro': 18,\n  'iC': 19,\n  'tGro': 20,\n  'Go': 21,\n  'Ap': 22,\n  'Gw': 23,\n  'Aep': 24,\n  'cmC': 25,\n  'imC': 26,\n  'Ssw': 27,\n  'Mc': 28,\n  'Hw': 29,\n  'Acp': 30,\n  'mCv': 31,\n  'Bv': 32,\n  'Sswd': 33,\n  'elC': 34,\n  'lC': 35,\n  'Aeh': 36,\n  'Bhs': 37,\n  'Cj': 38,\n  'tGr': 39,\n  'Axp': 40,\n  'bE': 41,\n  'Gr': 42,\n  'Gkso': 43,\n  'Gor': 44,\n  'M.': 45,\n  'Bsv': 46,\n  'Sw': 47,\n  'Bt': 48,\n  'Bcv': 49,\n  'Btv': 50,\n  'Hr': 51,\n  'Hv': 52,\n  'elCc': 53,\n  'Bs': 54,\n  'R.': 55,\n  'tGo': 56,\n  'Bh': 57,\n  'Ah': 58,\n  'Cbtv': 59,\n  'Al': 60,\n  'Sw-Bv': 61,\n  'Bv-ilC': 62,\n  'Bt-Sd': 63,\n  'Bv-Cv': 64,\n  'Sd-ilC': 65,\n  'Al-Sw': 66,\n  'Al-Bv': 67,\n  'M-Go': 68,\n  'Ael-Bt': 69,\n  'Ah-Bv': 70,\n  'Sw-M': 71,\n  'Sw-Ap': 72,\n  'Bv-Ael': 73,\n  'Go-ilC': 74,\n  'elC-P': 75,\n  'Sd-Bv': 76,\n  'Sw-ilC': 77,\n  'Al-Bt': 78,\n  'Sw-Ah': 79,\n  'P-Sd': 80,\n  'Sd-lC': 81,\n  'Sw-Go': 82,\n  'Sw-Bt': 83,\n  'Sd-Btv': 84,\n  'Bv-elC': 85,\n  'M-Gro': 86},\n 'embedding': array([[1.  , 0.  , 0.  , ..., 0.  , 0.  , 0.  ],\n        [0.  , 1.  , 0.  , ..., 0.  , 0.  , 0.  ],\n        [0.  , 0.  , 1.  , ..., 0.  , 0.  , 0.  ],\n        ...,\n        [0.  , 0.  , 0.5 , ..., 0.  , 0.  , 0.  ],\n        [0.25, 0.  , 0.  , ..., 0.  , 0.  , 0.  ],\n        [0.  , 0.  , 0.  , ..., 0.  , 0.  , 0.  ]])}"
     },
     "execution_count": 18,
     "metadata": {},
     "output_type": "execute_result"
    }
   ],
   "source": [
    "# If already computed, load the HCE embeddings for the labels (see Label_Graph.ipynb)\n",
    "with open('./BGR/label_embeddings/all_horizons_embeddings.pickle', 'rb') as handle:\n",
    "    emb_dict = pickle.load(handle)\n",
    "print(np.shape(emb_dict['embedding']))\n",
    "emb_dict"
   ],
   "metadata": {
    "collapsed": false,
    "pycharm": {
     "name": "#%%\n"
    }
   }
  },
  {
   "cell_type": "code",
   "execution_count": 19,
   "outputs": [
    {
     "data": {
      "text/plain": "{'ilC': 0,\n 'Ael': 1,\n 'Sd': 2,\n 'C': 3,\n 'imCv': 4,\n 'E': 5,\n 'emC': 6,\n 'cC': 7,\n 'clC': 8,\n 'ilCbtv': 9,\n 'aelC': 10,\n 'Cv': 11,\n 'Bsh': 12,\n 'Axh': 13,\n 'Bhv': 14,\n 'P': 15,\n 'Bvt': 16,\n 'Acxh': 17,\n 'Gro': 18,\n 'iC': 19,\n 'tGro': 20,\n 'Go': 21,\n 'Ap': 22,\n 'Gw': 23,\n 'Aep': 24,\n 'cmC': 25,\n 'imC': 26,\n 'Ssw': 27,\n 'Mc': 28,\n 'Hw': 29,\n 'Acp': 30,\n 'mCv': 31,\n 'Bv': 32,\n 'Sswd': 33,\n 'elC': 34,\n 'lC': 35,\n 'Aeh': 36,\n 'Bhs': 37,\n 'Cj': 38,\n 'tGr': 39,\n 'Axp': 40,\n 'bE': 41,\n 'Gr': 42,\n 'Gkso': 43,\n 'Gor': 44,\n 'M': 45,\n 'Bsv': 46,\n 'Sw': 47,\n 'Bt': 48,\n 'Bcv': 49,\n 'Btv': 50,\n 'Hr': 51,\n 'Hv': 52,\n 'elCc': 53,\n 'Bs': 54,\n 'R': 55,\n 'tGo': 56,\n 'Bh': 57,\n 'Ah': 58,\n 'Cbtv': 59,\n 'Al': 60,\n 'Sw-Bv': 61,\n 'Bv-ilC': 62,\n 'Bt-Sd': 63,\n 'Bv-Cv': 64,\n 'Sd-ilC': 65,\n 'Al-Sw': 66,\n 'Al-Bv': 67,\n 'M-Go': 68,\n 'Ael-Bt': 69,\n 'Ah-Bv': 70,\n 'Sw-M': 71,\n 'Sw-Ap': 72,\n 'Bv-Ael': 73,\n 'Go-ilC': 74,\n 'elC-P': 75,\n 'Sd-Bv': 76,\n 'Sw-ilC': 77,\n 'Al-Bt': 78,\n 'Sw-Ah': 79,\n 'P-Sd': 80,\n 'Sd-lC': 81,\n 'Sw-Go': 82,\n 'Sw-Bt': 83,\n 'Sd-Btv': 84,\n 'Bv-elC': 85,\n 'M-Gro': 86}"
     },
     "execution_count": 19,
     "metadata": {},
     "output_type": "execute_result"
    }
   ],
   "source": [
    "# For HCE: create separate dict where labels made out only of main symbols are stripped of the full stop '.'\n",
    "# Note: We will use the label indexes from the embedding dictionary instead of a new sparse one-hot encoding to ease access to the embedding vectors during training via the original indexes from the emb_dict\n",
    "dict_mapping = {}\n",
    "for key, value in emb_dict['label2ind'].items():\n",
    "    dict_mapping[key.strip('.')] = value\n",
    "dict_mapping"
   ],
   "metadata": {
    "collapsed": false,
    "pycharm": {
     "name": "#%%\n"
    }
   }
  },
  {
   "cell_type": "code",
   "execution_count": 20,
   "outputs": [
    {
     "name": "stderr",
     "output_type": "stream",
     "text": [
      "/tmp/ipykernel_1180619/1744044841.py:2: SettingWithCopyWarning: \n",
      "A value is trying to be set on a copy of a slice from a DataFrame.\n",
      "Try using .loc[row_indexer,col_indexer] = value instead\n",
      "\n",
      "See the caveats in the documentation: https://pandas.pydata.org/pandas-docs/stable/user_guide/indexing.html#returning-a-view-versus-a-copy\n",
      "  df[target] = df[target].str.replace('+', '-', regex=False)\n",
      "/tmp/ipykernel_1180619/1744044841.py:3: SettingWithCopyWarning: \n",
      "A value is trying to be set on a copy of a slice from a DataFrame.\n",
      "Try using .loc[row_indexer,col_indexer] = value instead\n",
      "\n",
      "See the caveats in the documentation: https://pandas.pydata.org/pandas-docs/stable/user_guide/indexing.html#returning-a-view-versus-a-copy\n",
      "  df[target] = df[target].str.replace('°', '-', regex=False) # also these, so that there is only one type of mixtures (the minus-mixture)\n",
      "/tmp/ipykernel_1180619/1744044841.py:5: SettingWithCopyWarning: \n",
      "A value is trying to be set on a copy of a slice from a DataFrame.\n",
      "Try using .loc[row_indexer,col_indexer] = value instead\n",
      "\n",
      "See the caveats in the documentation: https://pandas.pydata.org/pandas-docs/stable/user_guide/indexing.html#returning-a-view-versus-a-copy\n",
      "  df[target] = df[target].str.replace(r'\\d+$', '', regex=True)\n"
     ]
    }
   ],
   "source": [
    "# Replace '+' with '-' in the target column (see Label_Graph.ipynb)\n",
    "df[target] = df[target].str.replace('+', '-', regex=False)\n",
    "df[target] = df[target].str.replace('°', '-', regex=False) # also these, so that there is only one type of mixtures (the minus-mixture)\n",
    "# Remove trailing numbers from the labels in the target column (they only account for how often the horizon is seen in the same picture)\n",
    "df[target] = df[target].str.replace(r'\\d+$', '', regex=True)"
   ],
   "metadata": {
    "collapsed": false,
    "pycharm": {
     "name": "#%%\n"
    }
   }
  },
  {
   "cell_type": "code",
   "execution_count": 21,
   "outputs": [
    {
     "data": {
      "text/plain": "{'Ap': 'Ap',\n 'E': 'E',\n 'Bv': 'Bv',\n 'Bv-ilC': 'Bv-ilC',\n 'ilC': 'ilC',\n 'tSw-Ah': 'Sw-Ah',\n 'tSw-Ap': 'Sw-Ap',\n 'tGo-Sw': 'tGo',\n 'tGo-Sd': 'tGo',\n 'Sw-tAp': 'Sw-Ap',\n 'tSq': 'Sd',\n 'tGro': 'tGro',\n 'Aeh': 'Aeh',\n 'Aep': 'Aep',\n 'oCv': 'Cv',\n 'fOh': 'Bsh',\n 'Ae': 'Ael',\n 'Bsh-Go': 'Bsh',\n 'Bs-Go': 'M-Go',\n 'R-Ah': 'Ah',\n 'R-Gso-Gr': 'Gor',\n 'R-Gr-Gso': 'M-Gro',\n 'R-Go-Gso': 'Gkso',\n 'tbSq': 'Sd',\n 'tGor': 'tGr',\n 'tAp-Go': 'tGo',\n 'Ah-ilCv': 'Bv-ilC',\n 'Aeh-Go': 'Aeh',\n 'Bs-Gw': 'Bsh',\n 'Go-Bhs': 'Bhs',\n 'Go-Ap': 'Sw-Ap',\n 'Go': 'Go',\n 'Gor': 'Gor',\n 'Gr': 'Gr',\n 'Gw': 'Gw',\n 'ilC-Bsh-Bs': 'ilC',\n 'Bhs-ilC': 'Bv-ilC',\n 'M': 'M',\n 'tAp': 'Ap',\n 'tGo': 'tGo',\n 'Hw': 'Hw',\n 'fnHr': 'Hr',\n 'tGo-Ap': 'tGo',\n 'Gro': 'Gro',\n 'Bh-Gw': 'Bhv',\n 'Bhs-Bs': 'Bhs',\n 'Bhs-Go': 'Bhs',\n 'Bhs': 'Bhs',\n 'Sw-Bs': 'Sw-Bv',\n 'Sd': 'Sd',\n 'Sw': 'Sw',\n 'Ap-Al': 'Ael',\n 'Bt-Sd': 'Bt-Sd',\n 'Al-Sw': 'Al-Sw',\n 'Ah': 'Ah',\n 'Swd': 'Sd',\n 'Bh-Aeh': 'Bv-Ael',\n 'Bsh': 'Bsh',\n 'Bs': 'Bs',\n 'Bbs-ilCv': 'Bv-ilC',\n 'Bbh-Bs-ilCv': 'Bv-ilC',\n 'Sd-Bv': 'Sd-Bv',\n 'Cv': 'Cv',\n 'ilC-Sw': 'Al-Sw',\n 'Bv-Sw': 'Bt-Sd',\n 'Sw-Al': 'Sw-Ap',\n 'Sd-Bt': 'Sd-Bv',\n 'tmeGo': 'tGo',\n 'Sw-Bhs-Ae': 'Sw-Bv',\n 'Bs-Sw': 'Bt-Sd',\n 'Bs-ilC': 'Bv-ilC',\n 'R-Go-Bsh': 'Bsh',\n 'Bv-Alh': 'Bv-ilC',\n 'Bvt': 'Bvt',\n 'Sw-Ap': 'Sw-Ap',\n 'Sd-Ap': 'Sw-Ap',\n 'Bv-Ah': 'Bv-Cv',\n 'ilC-Bv': 'ilCbtv',\n 'Bhs-Sw': 'Bhs',\n 'C-Ap': 'Ap',\n 'Bsv': 'Bsv',\n 'eSwd': 'Sd',\n 'Ap-Sw': 'Al-Sw',\n 'tGo-Ah': 'tGo',\n 'fnHw': 'Hw',\n 'Sw-ilC': 'Sw-ilC',\n 'Hv': 'Hv',\n 'Hr': 'Hr',\n 'Al': 'Al',\n 'Sw-M': 'Sw-M',\n 'Bv-Al': 'Bv-Ael',\n 'Bt': 'Bt',\n 'Axp': 'Axp',\n 'Axh': 'Axh',\n 'Axh-Sw': 'Al-Sw',\n 'elC': 'elC',\n 'Sd-lC': 'Sd-lC',\n 'Sd-ilC': 'Sd-ilC',\n 'tGr': 'tGr',\n 'tbGo': 'tGo',\n 'nHv': 'Hv',\n 'Swd-ilCv': 'Sd-ilC',\n 'Go-Aa': 'Go',\n 'Sdw-Bvt': 'Sw-Bv',\n 'Sw-Bv': 'Sw-Bv',\n 'Go-Ah': 'Sw-Ah',\n 'tbGor': 'tGr',\n 'tAh-Sd': 'Bt-Sd',\n 'Hv-Ah': 'Sw-Ah',\n 'lC-Hv': 'ilCbtv',\n 'tGr-Hr': 'tGro',\n 'toGr': 'tGr',\n 'Hm': 'Hw',\n 'Ha': 'Hw',\n 'Ae-Gw': 'Al-Sw',\n 'Ae-Bh-Gw': 'Aeh',\n 'Ah-Gr': 'Ah-Bv',\n 'Bsh-Gr': 'Bsh',\n 'R-Sw-Ap': 'Sw-Ap',\n 'R-Ah-Sw': 'Al-Sw',\n 'Go-Bs': 'Go',\n 'Ap-Swd': 'Al-Sw',\n 'M-Sw': 'Sw',\n 'Sw-Bt': 'Sw-Bt',\n 'Ap-Bt': 'Al-Bt',\n 'Aa': 'Ap',\n 'eSd': 'Sd',\n 'Ah-Go': 'M-Go',\n 'Al-Bv': 'Al-Bv',\n 'Btv': 'Btv',\n 'tSd-Go': 'Sw-Go',\n 'tSd-tGo': 'Sw-Go',\n 'Ahe': 'Ah',\n 'R-Ah-Bsh': 'Ah-Bv',\n 'ilCbtv': 'ilCbtv',\n 'Sw-Ah': 'Sw-Ah',\n 'Ah-Sd': 'Bt-Sd',\n 'P-Sd': 'P-Sd',\n 'Ah-Sw': 'Al-Sw',\n 'Sw-Bt-Al': 'Sw-Bt',\n 'Sw-Sd': 'Sw-Bv',\n 'Al-Bt-Swd': 'Bt-Sd',\n 'Bhv': 'Bhv',\n 'Bt-Al': 'Bt-Sd',\n 'tAh': 'Ah',\n 'Hv-Go': 'M-Go',\n 'Ae-Go': 'M-Go',\n 'Bh-Go': 'M-Go',\n 'Ae-Bh': 'Aeh',\n 'Bhs-Ssw': 'Ssw',\n 'hHv': 'Hv',\n 'Bbt-Bv': 'Btv',\n 'Bbt-ilC': 'Bv-ilC',\n 'Acp': 'Acp',\n 'Bt-Cv': 'Bv-Cv',\n 'Alh': 'Axh',\n 'Bh-Ae': 'Bv-Ael',\n 'Ae-Bs-Bh': 'Ael-Bt',\n 'Al-Bt': 'Al-Bt',\n 'lCv': 'Cv',\n 'Gho': 'Gro',\n 'Bs-ilCv': 'Bv-ilC',\n 'R': 'R',\n 'ilCv': 'ilC',\n 'M-Go': 'M-Go',\n 'Fr-Hw-Hr': 'Hw',\n 'Fr': 'Gr',\n 'R-Bhs': 'Bhs',\n 'Bbh': 'Bsh',\n 'Bv-M': 'Bvt',\n 'Ap-Al-Bv': 'Al-Bv',\n 'Sw-Btv': 'Sw-Bv',\n 'R-eSwd': 'P-Sd',\n 'Ah-Bv': 'Ah-Bv',\n 'Cbtv': 'Cbtv',\n 'ilC-Bbt': 'ilCbtv',\n 'Hp': 'Ap',\n 'Hca': 'cC',\n 'Hcw': 'Hw',\n 'Hcr': 'Hr',\n 'Ahl-Bv': 'Al-Bv',\n 'Ael': 'Ael',\n 'Ael-Bt': 'Ael-Bt',\n 'eAp': 'Ap',\n 'ijlCv': 'ilC',\n 'Go-Ahe': 'Go-ilC',\n 'Bt-Al-Sw': 'Al-Sw',\n 'Ahl': 'Ael',\n 'Sd-Btv': 'Sd-Btv',\n 'Bv-Ael-Sw': 'Bv-Ael',\n 'Ael-Sw': 'Al-Sw',\n 'lC': 'lC',\n 'Ht': 'Hw',\n 'fF': 'Sd',\n 'jeC': 'ilC',\n 'tGo-Ah-Sd': 'tGo',\n 'tAp-Sw': 'Al-Sw',\n 'nHr': 'Hr',\n 'Go-Sw': 'Al-Sw',\n 'H': 'C',\n 'F': 'C',\n 'oGr': 'tGr',\n 'Bs-Swd': 'Bt-Sd',\n 'R-ilC-Bhs': 'ilC',\n 'ilCv-Bs': 'ilC',\n 'Bv-Sd': 'Bt-Sd',\n 'Ael-Bv': 'Al-Bv',\n 'Ael-Bbt': 'Ael-Bt',\n 'Bt-Sdw': 'Bt-Sd',\n 'Bsh-Bv': 'Ah-Bv',\n 'R-Al': 'Al',\n 'C-Bbt': 'Bvt',\n 'Bbt-Al': 'Bt-Sd',\n 'lC-Bbt': 'Al-Bt',\n 'Al-Bv-Sw': 'Al-Sw',\n 'Swd-Bbt-Bv': 'Sd-Btv',\n 'Sd-Sw': 'Al-Sw',\n 'R-Ap': 'Ap',\n 'R-Aeh': 'Aeh',\n 'Gw-Bhs': 'Bhs',\n 'Bhs-Gw': 'Bhs',\n 'Hcv': 'Bcv',\n 'nHcr': 'Hr',\n 'rGo': 'Go',\n 'Fh': 'Bh',\n 'R-Ap-Ae-Bsh': 'Bsh',\n 'Go-Bsh': 'Bsh',\n 'Fr-Hw': 'Hw',\n 'Al-Swd': 'Al-Sw',\n 'Bv-Ael': 'Bv-Ael',\n 'R-Bs': 'Bs',\n 'tmzGr': 'tGr',\n 'Sw-Bsh': 'Sw-Bv',\n 'oC': 'C',\n 'Sw-Go': 'Sw-Go',\n 'Sd-Go': 'Sw-Go',\n 'eGro': 'Gro',\n 'Ctv-Sw': 'Bt-Sd',\n 'Ctv-Sd': 'Bt-Sd',\n 'Go-C': 'Go',\n 'eCv': 'Cv',\n 'Al-Bbt': 'Al-Bt',\n 'Bt-Ael': 'Bv-Ael',\n 'Bt-Sw-Al': 'Bt-Sd',\n 'Btv-Sd': 'Bt-Sd',\n 'tSq-Sw': 'Al-Sw',\n 'tAh-Go': 'tGo',\n 'Ahe-Bh-Bs': 'Ael-Bt',\n 'Bbs-Bsv-Bhs': 'Bsh',\n 'Sg-C': 'Sw-M',\n 'Bh': 'Bh',\n 'Go-Bv': 'Sw-Bv',\n 'hHw': 'Hw',\n 'nHw': 'Hw',\n 'C-Bbh-Bbs': 'Bhs',\n 'tGo-Sq': 'tGo',\n 'tAa': 'Ap',\n 'Go-Aeh': 'Aeh',\n 'Gmso': 'Gkso',\n 'Go-Swd': 'Bt-Sd',\n 'Bv-elC': 'Bv-elC',\n 'elCv': 'elC',\n 'Hcm': 'cC',\n 'Sdw-R': 'Sw-M',\n 'Bv-Bbt': 'Bvt',\n 'rnHv': 'Hv',\n 'Go-E': 'Go',\n 'Ae-Bhs': 'Aeh',\n 'Ht-Hv': 'Btv',\n 'Bs-Cv': 'Bv-Cv',\n 'Bs-Bh': 'Bsh',\n 'Ae-Aap': 'Aep',\n 'tpGo': 'tGo',\n 'Bvs': 'Bvt',\n 'enHr': 'Hr',\n 'Bv-Cv': 'Bv-Cv',\n 'Sw-Bv-Ael': 'Bv-Ael',\n 'Ap-Bv': 'Al-Bv',\n 'Al-Btv': 'Al-Bv',\n 'tSw-Sq': 'Sw-Bv',\n 'Aa-Go': 'M-Go',\n 'Gro-Go': 'Gro',\n 'Gor-Go': 'Gro',\n 'Go-Sd': 'Bt-Sd',\n 'F-Gw': 'Gw',\n 'Bv-Gw': 'Bv-Cv',\n 'Bh-Bs': 'Bhs',\n 'Ssw': 'Ssw',\n 'Bbt-Ael': 'Bv-Ael',\n 'Bbt-Cv-Bv': 'Bv-Cv',\n 'Ae-Bsh': 'Bsh',\n 'Bt-ilC': 'Bv-ilC',\n 'Bv-Go': 'Bv-Cv',\n 'Cv-Bv': 'Sw-Bv',\n 'Sw-Ael': 'Sw-Ap',\n 'Sd-lCc': 'Sd-lC',\n 'Swd-lCv': 'Sd-lC',\n 'tSw': 'Sw',\n 'Bv-Bh': 'Bv-Cv',\n 'Ap-Bsh': 'Bsh',\n 'Bsv-C': 'Bsv',\n 'jM': 'M',\n 'jM-jilCv': 'Bv-ilC',\n 'Go-ilC': 'Go-ilC',\n 'Ahe-Bh-Sw': 'Al-Sw',\n 'Bhsv': 'Bhv',\n 'Bbs': 'Bhs',\n 'Bt-Swd': 'Bt-Sd',\n 'Sdw-Ap': 'Sw-Ap',\n 'Sw-Cv': 'Sw-Bv',\n 'Gro-Sd': 'Gro',\n 'Bv-lCv': 'Bv-Cv',\n 'ilCv-Bt': 'Al-Bt',\n 'Sg-ilC': 'Sd-ilC',\n 'ilC-Go': 'ilC',\n 'Acxp': 'Acxh',\n 'elCc-Acxh': 'Acxh',\n 'elCc': 'elCc',\n 'eSw-lCv': 'Sw-Bv',\n 'Ah-Hv': 'Ah-Bv',\n 'jSw': 'Sw',\n 'Sd-Gor': 'Sw-Go',\n 'Ae-Bs-Go': 'Al-Bv',\n 'Sw-Bv-Cv': 'Sw-Bv',\n 'F-Go': 'M-Go',\n 'F-Gor': 'Gor',\n 'M-Ah': 'Ah',\n 'Aap': 'Ap',\n 'Sew': 'Ssw',\n 'Sd-Gkso': 'Gkso',\n 'Ahe-Bh': 'Ah-Bv',\n 'Bms': 'Bhs',\n 'Sw-Bhs': 'Sw-Bv',\n 'Aa-Bh': 'Al-Bv',\n 'Gmso-Bh': 'Gkso',\n 'Gso': 'Gro',\n 'aAh-Gor': 'Gor',\n 'ilC-Ap': 'ilC',\n 'Bs-Gso': 'M-Go',\n 'Ach': 'Axh',\n 'Acp-Gco': 'Acp',\n 'Gcro-Swd': 'Gro',\n 'Gco': 'Gro',\n 'Gcor': 'Gor',\n 'Sw-Axh': 'Sw-Ah',\n 'Axh-Swd': 'Al-Sw',\n 'Hcvm': 'Bcv',\n 'nHcv': 'Bcv',\n 'Bbh-Bbs-Bv': 'Ah-Bv',\n 'Bbh-Bbs-ilCv': 'Bv-ilC',\n 'Ahe-Ae': 'Ah-Bv',\n 'Go-Ae-Bsh': 'Bsh',\n 'Ae-Ap': 'Aep',\n 'lC-Bbs': 'lC',\n 'yGo-Ah': 'Sw-Ah',\n 'yGro': 'Gro',\n 'Ae-Bh-Bms': 'Ael-Bt',\n 'Bbs-Cv': 'Bv-Cv',\n 'rAep': 'Aep',\n 'Bhv-ilCv': 'Bv-ilC',\n 'Gkso': 'Gkso',\n 'aSw-M': 'Sw-M',\n 'Gkso-Gr': 'Gkso',\n 'Ah-Ahe-Bh': 'Ah-Bv',\n 'Go-Bsv-Bh': 'Bsh',\n 'R-Gr-H-Go': 'M-Gro',\n 'R-H-rGr-Go': 'M-Gro',\n 'R-Bh-Bs-Go': 'Bhs',\n 'Bhs-lC': 'Bhs',\n 'R-Bs-ilC-Ae': 'Bv-ilC',\n 'Bh-Bv': 'Ah-Bv',\n 'S-Ap': 'Sw-Ap',\n 'Sg-Ap': 'Sw-Ap',\n 'Sg-Bv': 'Sw-Bv',\n 'Go-Bv-Ctv': 'Bv-Cv',\n 'Ctv-Go': 'tGo',\n 'Swd-Bvt': 'Sw-Bv',\n 'Ael-Btv': 'Ael-Bt',\n 'Sw-Bt-ilCv': 'Sw-ilC',\n 'Sd-Bt-Ael': 'Bv-Ael',\n 'Bt-elCv': 'Bv-elC',\n 'Ael-M': 'Ael',\n 'R-Go-Bhs-Aa': 'Bhs',\n 'R-Gr': 'tGr',\n 'R-Go-rGr-H': 'Gor',\n 'jnHv': 'Hv',\n 'Hw-Gr': 'Sw-Go',\n 'C-M': 'C',\n 'Gkso-Bs': 'Gkso',\n 'R-Go-Hv': 'M-Go',\n 'R-Hv': 'Hv',\n 'R-Gr-Go-Hv': 'M-Gro',\n 'Cv-Sw': 'Al-Sw',\n 'Cv-Swd': 'Bt-Sd',\n 'Sw-Bv-ilC': 'Bv-ilC',\n 'Swd-ilCtv': 'Sd-ilC',\n 'Swd-elCc': 'Sd-ilC',\n 'Go-Bsv': 'Bsv',\n 'Go-Cbtv': 'ilCbtv',\n 'R-Go-Bs-Bh': 'Bsh',\n 'R-Bs-Bh-Ae': 'Bsh',\n 'H-Ah': 'Ah',\n 'H-Go': 'M-Go',\n 'H-Gro': 'M-Gro',\n 'aGr': 'tGr',\n 'aM': 'M',\n 'Go-lC': 'Go-ilC',\n 'Swd-Ap': 'Sw-Ap',\n 'aGo': 'Go',\n 'jAh': 'Ah',\n 'oGo': 'Go',\n 'Bv-Al-Sg': 'Bv-ilC',\n 'Bvt-Sg': 'Bt-Sd',\n 'Sg': 'Sd',\n 'Bv-Ctv': 'Bv-Cv',\n 'ilCtv': 'ilCbtv',\n 'Gcro': 'Gro',\n 'Bv-Gor': 'Gor',\n 'R-H-Go': 'M-Go',\n 'R-H-Bh-rGor': 'Gor',\n 'R-Gr-Hm': 'M-Gro',\n 'R-Gr-Hm-Go': 'M-Gro',\n 'R-Bh-Ae-Bs': 'Bv-Ael',\n 'Bsh-Bbs-Bbh': 'Bsh',\n 'ilC-Bbs-Bbh': 'ilCbtv',\n 'R-Bs-Aa-Bsh': 'Bsh',\n 'R-Ahe-Bh-Bs': 'Ael-Bt',\n 'Bbh-Go': 'M-Go',\n 'R-Sw-Ah': 'Sw-Ah',\n 'ilC-Bhs': 'ilC',\n 'R-Sw': 'Sw',\n 'Sd-Bvt': 'Sd-Bv',\n 'Bv-Bhs': 'Bhs',\n 'ilC-Bbs': 'ilC',\n 'ilC-Bbs-Bhs': 'ilCbtv',\n 'M-Sd': 'P-Sd',\n 'M-Sd-Go': 'M-Go',\n 'Bv-Ah-Go': 'Bv-Ael',\n 'Sw-Ael-Bv': 'Sw-Bv',\n 'Ah-Gw': 'Al-Sw',\n 'rGw': 'Gw',\n 'Gr-Hw': 'Gro',\n 'Gr-Hr': 'Gro',\n 'Bv-ilC-Go': 'Bv-ilC',\n 'R-hH-Go': 'M-Go',\n 'Fh-Gor': 'Gor',\n 'R-Go-H': 'M-Go',\n 'jaGo': 'Go',\n 'ilCv-Sd': 'ilC',\n 'M-Gro': 'M-Gro',\n 'M-Gor': 'M-Go',\n 'ailCv': 'ilC',\n 'A-Bv': 'Al-Bv',\n 'Gho-Bv-Al': 'Ah-Bv',\n 'Go-Bt': 'Al-Bt',\n 'Gcr-Go': 'Gro',\n 'Bvt-Ael': 'Bv-Ael',\n 'Go-Ctv': 'Bv-Cv',\n 'Bh-Ahe': 'Bv-Ael',\n 'Gw-Aap': 'Sw-Ap',\n 'Go-M': 'Go',\n 'Gor-Sd': 'Gor',\n 'Bhv-ilC': 'Bv-ilC',\n 'Sw-Bhv': 'Sw-Bv',\n 'Bv-Cbtv': 'Bv-Cv',\n 'Go-Bv-Ap': 'Sw-Bv',\n 'Fo': 'Go',\n 'Sw-M-Go': 'Sw-Go',\n 'Sd-M-Gro': 'M-Gro',\n 'R-H-Bs-ilC': 'Bv-ilC',\n 'R-Bh-Bhs-H': 'Bhs',\n 'R-Bh-Bs-Sw': 'Bhs',\n 'Ae-Hv': 'Al-Bv',\n 'Ah-ilC': 'Bv-ilC',\n 'Hv-ilC': 'Bv-ilC',\n 'Ael-Bt-Sd': 'Ael-Bt',\n 'Bbt-lCv': 'Bv-Cv',\n 'Gho-Bv': 'Ah-Bv',\n 'aAcp': 'Acp',\n 'aGco': 'Gro',\n 'Fw': 'Gw',\n 'jGo-M': 'Go',\n 'Gor-M': 'Gor',\n 'eM': 'M',\n 'Sdw-M-Go': 'Sw-Go',\n 'Sd-M-Go': 'M-Go',\n 'Hw-M-Go': 'M-Go',\n 'R-hH-Cv': 'Bv-Cv',\n 'R-C-H': 'elC-P',\n 'R-H-Gho': 'M-Go',\n 'R-Ae-Bhs-Gkso': 'Gkso',\n 'R-Bhs-Go': 'Bhs',\n 'R-Bsh-Ae': 'Bsh',\n 'Bh-Bs-ilC': 'Bv-ilC',\n 'R-Go-Hm': 'M-Go',\n 'Bhms': 'Bhs',\n 'Sdw-Bt-Ael': 'Bv-Ael',\n 'Swd-Ael-Bt': 'Ael-Bt',\n 'Swd-Ael-Bbt': 'Ael-Bt',\n 'renHv-rnHvp': 'Bv-Cv',\n 'M-Gr': 'M-Go',\n 'Sd-elC': 'Sd-ilC',\n 'jAp': 'Ap',\n 'eAh': 'Ah',\n 'aAp': 'Ap',\n 'aAh': 'Ah',\n 'Ghor': 'Gor',\n 'Fh-Fw': 'Al-Sw',\n 'Ghr': 'Gr',\n 'gE': 'E',\n 'Go-Bhv': 'Bhv',\n 'R-Bh-Bs-Ahe': 'Bsh',\n 'Bbh-ilC': 'Bv-ilC',\n 'Gw-ilC': 'Go-ilC',\n 'R-ilC-Bsh-Ahe': 'ilC',\n 'Bhs-Cv': 'Bv-Cv',\n 'Ae-Ahe': 'Aeh',\n 'Bhs-ilCv': 'Bv-ilC',\n 'R-Bh-Bv-Ah': 'Ah-Bv',\n 'R-Bv-Bhv-C': 'Bv-ilC',\n 'R-Bh-Ahe-Bs': 'Ah-Bv',\n 'F-Gr': 'tGr',\n 'ilC-Bt': 'Al-Bt',\n 'Go-Bbt': 'Go-ilC',\n 'Sg-Ap-Bv': 'Sw-Bv',\n 'Bv-ilCbtv': 'ilCbtv',\n 'Sg-elCc': 'elCc',\n 'Sg-elCv': 'Sd-ilC',\n 'Ah-Ae-Bhs': 'Ah-Bv',\n 'Bhs-lCv': 'Bv-Cv',\n 'Ahe-Go': 'M-Go',\n 'R-Bsh-Go': 'Bsh',\n 'R-Ae-Bhs-ilC': 'Bv-ilC',\n 'E-Al': 'Al',\n 'R-Go-Aa': 'M-Go',\n 'R-Ae-Bh': 'Aeh',\n 'R-gE': 'E',\n 'Bh-ilCv': 'Bv-ilC',\n 'Gr-Sd': 'Bt-Sd',\n 'Yr': 'Gr',\n 'fF-eGro': 'M-Gro',\n 'fFr': 'tGr',\n 'R-H-Go-Bs': 'M-Go',\n 'R-Go-Aeh-Bhs': 'Ael-Bt',\n 'R-Aeh-Bhs-Go': 'Ael-Bt',\n 'Bsh-rGo': 'Bsh',\n 'R-Go': 'M-Go',\n 'R-Gw-ilCv': 'Go-ilC',\n 'Bv-Bs': 'Bv-Cv',\n 'raeM-Go': 'M-Go',\n 'Bv-ilCv-Bbt': 'Bv-ilC',\n 'jSw-Ap': 'Sw-Ap',\n 'Sd-Ex': 'Sd-Bv',\n 'elCkc-Sd': 'elCc',\n 'R-Gr-Bh-Gso': 'M-Gro',\n 'R-Ap-Gro': 'M-Gro',\n 'Bv-imC': 'Bv-ilC',\n 'Cv-Sd': 'Bt-Sd',\n 'rGkso': 'Gkso',\n 'Gkso-Go': 'Gkso',\n 'R-Bv-Ap': 'Bv-Cv',\n 'Ap-Aeh': 'Aeh',\n 'Bh-Gmso': 'Bhs',\n 'Bt-Ael-Swd': 'Bt-Sd',\n 'aGso': 'Gro',\n 'aGro': 'Gro',\n 'Gso-Bv': 'Sw-Bv',\n 'Sd-Ael-Bt': 'Ael-Bt',\n 'Go-ilC-Bbt': 'Go-ilC',\n 'Ah-Swd': 'Al-Sw',\n 'bE': 'bE',\n 'bE-Go': 'M-Go',\n 'Bhv-Sw': 'Bhv',\n 'Go-gE': 'Go',\n 'P': 'P',\n 'ilC-Go-Ah': 'ilC',\n 'Fr-Gro': 'M-Gro',\n 'Fr-Gor': 'Gor',\n 'Fr-Gr': 'tGr',\n 'Ap-Go': 'M-Go',\n 'elC-Bbt': 'Ael-Bt',\n 'Ahe-Bhs': 'Ah-Bv',\n 'Bbhs': 'Bhs',\n 'Bbhs-Go': 'Bhs',\n 'Swd-elCv': 'Sd-ilC',\n 'cmC': 'cmC',\n 'raGo': 'Go',\n 'R-Go-Bs-Ae': 'M-Go',\n 'M-ilCv': 'ilC',\n 'Sdg': 'Sd',\n 'Sw-P': 'Sw-M',\n 'Sd-P': 'Sd',\n 'elC-P': 'elC-P',\n 'aM-Go': 'M-Go',\n 'Sdw': 'Sd',\n 'rAp': 'Ap',\n 'Bv-Gkso': 'Gkso',\n 'Sw-Al-Bv': 'Sw-Bv',\n 'elC-Axh': 'elC-P',\n 'Axh-elC': 'Bv-elC',\n 'Sw-elC': 'Sw-ilC',\n 'Al-Axh': 'Axh',\n 'Bv-Axh': 'Bv-Ael',\n 'Acxh': 'Acxh',\n 'elCc-Swd': 'elCc',\n 'ilC-Ael-Sw': 'Al-Sw',\n 'Go-Bv-Gr': 'Gor',\n 'Gro-Sg': 'Gro',\n 'R-Ae-Bs-Ap': 'Aep',\n 'R-Ah-Ae-Bs': 'Ah-Bv',\n 'Bv-Ap': 'Bv-Cv',\n 'R-E-Aa-Go': 'M-Go',\n 'Go-Bvs': 'Sw-Bv',\n 'Ah-Gro': 'M-Gro',\n 'Gkso-Gro': 'Gkso',\n 'H-Gkso-Gr': 'Gkso',\n 'Bj-Cv': 'Bv-Cv',\n 'Bh-Bcv': 'Ah-Bv',\n 'Bcv-elC': 'Bv-elC',\n 'elC-Sd': 'elC-P',\n 'clC': 'clC',\n 'lCv-Bcv': 'Bcv',\n 'lC-emC': 'emC',\n 'elC-emC': 'elC-P',\n 'elC-Acxh': 'Acxh',\n 'rGcro-elC': 'Go-ilC',\n 'eAcp': 'Acp',\n 'Sg-Bv-ilCv': 'Bv-ilC',\n 'Fh-Fo': 'M-Go',\n 'Ah-Sw-Ael': 'Al-Sw',\n 'Bt-Scdw': 'Bt-Sd',\n 'Scd': 'Sd',\n 'R-Bhs-Ap-Go': 'Bhs',\n 'R-Bh': 'Bh',\n 'ilC-Bsh': 'ilC',\n 'E-Go': 'M-Go',\n 'Go-ilC-Bhs': 'Go-ilC',\n 'Go-Sw-Sd': 'Sw-Bv',\n 'Bhs-Go-Sw': 'Bhs',\n 'Go-Sdw': 'Bt-Sd',\n 'Bt-Sw': 'Bt-Sd',\n 'imC': 'imC',\n 'Sdg-Bt': 'Sd-Bv',\n 'emC': 'emC',\n 'Swd-Axh': 'Sw-Ah',\n 'Go-Axh': 'Axh',\n 'Axh-Go': 'Axh',\n 'Bcv-Axh': 'Bv-Ael',\n 'R-Hv-Ah-ilCv': 'Bv-ilC',\n 'Go-Ael': 'Bv-Ael',\n 'Go-Bt-Ael': 'Bv-Ael',\n 'Btv-Ael': 'Bv-Ael',\n 'Gr-Go': 'Gro',\n 'R-Go-Ah': 'M-Go',\n 'Bms-Go': 'M-Go',\n 'R-Bsv': 'Bsv',\n 'Sd-Cv': 'Sd-Bv',\n 'Btv-ilC': 'Bv-ilC',\n 'Bcv-Tv': 'Bv-Cv',\n 'cC-Swd': 'Bt-Sd',\n 'Go-Acxh': 'Acxh',\n 'Ael-Sd-Bt': 'Ael-Bt',\n 'Ael-Ap': 'Ael-Bt',\n 'Bhs-Aeh': 'Bv-Ael',\n 'ilC-Bsv': 'ilCbtv',\n 'elCv-Bcv': 'elCc',\n 'R-E': 'E',\n 'Srd': 'Sd',\n 'gE-Go': 'M-Go',\n 'gbE-Ap': 'Sw-Ap',\n 'Aeh-Bsh': 'Ael-Bt',\n 'Ae-Bh-Bs': 'Ael-Bt',\n 'Al-Bvt': 'Al-Bv',\n 'jeM': 'Ael',\n 'Swd-lCv-Axh': 'Sw-Ah',\n 'Axh-M': 'Axh',\n 'Acxh-elCc': 'Acxh',\n 'elCc-Axh': 'elCc',\n 'aAxp': 'Axp',\n 'Sw-Bt-Sd': 'Bt-Sd',\n 'Bbt-Ael-Bv': 'Al-Bv',\n 'Sw-Bv-Bbt': 'Sw-Bv',\n 'Bbt': 'Bvt',\n 'rGo-ilCv': 'Go-ilC',\n 'Sg-Ael-Bt': 'Ael-Bt',\n 'Swd-lCv-Bbt': 'Sd-lC',\n 'ejCv': 'imCv',\n 'Go-ilCv-H': 'Go-ilC',\n 'aelC': 'aelC',\n 'Gkso-M': 'Gkso',\n 'Gkso-Go-Bhsv': 'Gkso',\n 'Sewd': 'Sswd',\n 'Sswd': 'Sswd',\n 'Go-Sw-E': 'Al-Sw',\n 'P-Cv-Swd': 'P-Sd',\n 'elC-Scd': 'elCc',\n 'Al-Ap': 'Al-Sw',\n 'Sd-Al-Bt': 'Al-Bt',\n 'mCv': 'mCv',\n 'Axh-Bv': 'Ah-Bv',\n 'Bv-elCc': 'Bv-elC',\n 'Axh-lC': 'Axh',\n 'Axh-ilCv-Sw': 'Al-Sw',\n 'Swd-Go-M': 'Sw-Go',\n 'Ah-M': 'Ah',\n 'jGo': 'Go',\n 'Aah-Gr': 'Ah-Bv',\n 'raAp': 'Ap',\n 'M-Gso': 'M-Go',\n 'raGr': 'tGr',\n 'eGo-Cv': 'Bv-Cv',\n 'eC-Go': 'M-Go',\n 'Sdw-Bv-Al': 'Sw-Bv',\n 'Go-Mc': 'Go',\n 'E-ilC': 'ilC',\n 'Bh-Sw': 'Bt-Sd',\n 'Swd-eCv': 'Sw-Bv',\n 'eC-Sd': 'Bt-Sd',\n 'Bt-Al-Bv': 'Al-Bv',\n 'Al-Bv-Bt': 'Al-Bv',\n 'M-Sdw': 'P-Sd',\n 'Sw-Ael-Bt': 'Ael-Bt',\n 'elC-Ap': 'elC-P',\n 'jeF': 'Ael',\n 'Bcv-Cc': 'Bv-Cv',\n 'Go-Cc-elCv': 'Go-ilC',\n 'Axh-Bv-elC': 'Bv-elC',\n 'eAxp': 'Axp',\n 'Sw-Bt-Ael': 'Bv-Ael',\n 'Sdw-Go': 'Sw-Go',\n 'H-Go-Ah': 'M-Go',\n 'ylC': 'ilC',\n 'Ae-Bhs-Go': 'Aeh',\n 'Ae-Bh-Go': 'Aeh',\n 'F-Gr-Gor': 'M-Gro',\n 'Sd-elCv': 'Sd-ilC',\n 'Ah-eC': 'Ah-Bv',\n 'C': 'C',\n 'elCv-Axh-Bv': 'Ah-Bv',\n 'Bcv': 'Bcv',\n 'Sg-Axh': 'Sw-Ah',\n 'Axh-Sg': 'Axh',\n 'Ael-Bv-Btv': 'Ael-Bt',\n 'elC-Bv': 'Al-Bv',\n 'Swd-lC': 'Sd-lC',\n 'M-Swd': 'P-Sd',\n 'Sw-Ah-Go': 'Sw-Ah',\n 'rSw-Go': 'Sw-Go',\n 'Sw-Gr': 'Sw-Go',\n 'Ap-Sw-ilCv': 'Sw-ilC',\n 'Sg-Bv-ilCbtv': 'ilCbtv',\n 'Sg-Al': 'Sw-Ap',\n 'Bhs-Ae': 'Bhs',\n 'Al-Bt-Sw': 'Al-Sw',\n 'Acp-Swd-Bv': 'Sw-Bv',\n 'Go-Bv-Swd': 'Bt-Sd',\n 'Bv-Tv': 'Bv-Cv',\n 'Tv-elC': 'Bv-elC',\n 'Ah-Cv': 'Ah-Bv',\n 'M-Bv': 'Bv',\n 'iC': 'iC',\n 'Axh-elCc': 'elCc',\n 'Alh-Bv': 'Al-Bv',\n 'Go-Swd-M': 'Sw-M',\n 'Swd-Go': 'Sw-Go',\n 'Gro-Swd': 'Gro',\n 'Gr-Sd-Go': 'Sw-Go',\n 'aeM': 'Ael',\n 'M-Al-Bv': 'Al-Bv',\n 'ilC-Sd': 'ilC',\n 'xCn': 'C',\n 'Bcv-lCc': 'Bv-ilC',\n 'Bcv-elCc': 'Bv-elC',\n 'elCc-Bcv': 'elCc',\n 'Mc': 'Mc',\n 'Sw-lC': 'Sw-ilC',\n 'Serw': 'Ssw',\n 'M-Gkso': 'Gkso',\n 'jilCv': 'ilC',\n 'Ap-E': 'Ap',\n 'Bv-Swd': 'Bt-Sd',\n 'Bt-Sg': 'Bt-Sd',\n 'iCv-Sd': 'Bt-Sd',\n 'Btv-Sdw': 'Bt-Sd',\n 'mcC': 'cC',\n 'Al-Bt-Sdw': 'Bt-Sd',\n 'mC': 'C',\n 'cmCv-elCv': 'Bv-elC',\n 'Cc-Bcv': 'Bcv',\n 'Bt-elC': 'Bv-elC',\n 'ilCn': 'ilC',\n 'Sg-M': 'Sw-M',\n 'rGr': 'tGr',\n 'Ahl-Bt': 'Ael-Bt',\n 'Sg-Bt': 'Sw-Bt',\n 'M-elC': 'aelC',\n 'Gkso-Gor': 'Gkso',\n 'R-Axh': 'Axh',\n 'Bt-elCc': 'Bv-elC',\n 'lCc-Sd': 'Bt-Sd',\n 'Sdw-Bt': 'Sw-Bt',\n 'Sw-Sd-Bt': 'Sw-Bt',\n 'Sg-Go': 'Sw-Go',\n 'Swd-Bt-ilC': 'Sd-ilC',\n 'Bt-lCv': 'Bv-Cv',\n 'Sd-M': 'Sw-M',\n 'elC-Go': 'elC-P',\n 'aeGo': 'aelC',\n 'rAxh': 'Axh',\n 'Bt-Axh': 'Axh',\n 'Bvt-Axh': 'Bv-Ael',\n 'eMc': 'Mc',\n 'R-Bvt': 'Bvt',\n 'ilC-Swd': 'Al-Sw',\n 'mCn': 'mCv',\n 'Swd-Bbt': 'Sw-Bt',\n 'imCv': 'imCv',\n 'eCv-Sw': 'Al-Sw',\n 'Sw-lCc': 'Sw-ilC',\n 'Gro-M': 'Gro',\n 'jeAp': 'Ap',\n 'jelC': 'aelC',\n 'elCn': 'elC',\n 'Sg-ilCv': 'Sd-ilC',\n 'Swd-M': 'Sw-M',\n 'jlCv': 'ilC',\n 'Btv-Sg': 'Bt-Sd',\n 'Al-Swd-Bt': 'Al-Sw',\n 'ilCv-Bv': 'ilCbtv',\n 'Sd-C': 'Sd-lC',\n 'Bv-mCv': 'Bv-Cv',\n 'Bv-iCv': 'Bv-Cv',\n 'M-Sw-Go': 'Sw-Go',\n 'Sw-Gro': 'Sw-Go',\n 'Swd-Gro': 'Sw-Go',\n 'aeSw-M': 'Sw-M',\n 'Axh-ilC': 'Bv-ilC',\n 'Axh-elCv': 'Ah-Bv',\n 'Ah-P': 'Ah',\n 'P-Axh': 'Axh',\n 'Axh-lCc': 'Axh',\n 'lCc': 'lC',\n 'jeSwd-lC': 'Sd-lC',\n 'Sg-Btv': 'Sd-Btv',\n 'M-Ap': 'Ap',\n 'lC-Bv': 'Sw-Bv',\n 'elC-eAh': 'elC-P',\n 'Axh-Bt': 'Ael-Bt',\n 'Swd-Axh-Bht': 'Sw-Ah',\n 'Ael-Swd': 'Al-Sw',\n 'Sg-Bvt-Al': 'Sw-Bv',\n 'Sg-Bvt': 'Sw-Bv',\n 'Swd-ilC': 'Sd-ilC',\n 'Btv-Swd': 'Bt-Sd',\n 'jilC': 'ilC',\n 'Bht': 'Bhv',\n 'Al-Bht': 'Al-Bt',\n 'Swd-C': 'Sw-M',\n 'sGo': 'Go',\n 'Srw': 'Ssw',\n 'Acxh-elCkc': 'Acxh',\n 'elCkc': 'elCc',\n 'ilC-Axh': 'ilC',\n 'Bv-Axh-ilCv': 'Bv-ilC',\n 'Axh-Bcv': 'Ah-Bv',\n 'Sw-Bht': 'Sw-Bt',\n 'Bvt-Al-Sdw': 'Bt-Sd',\n 'Bvt-Sd': 'Bt-Sd',\n 'Bv-ixCv': 'Bv-ilC',\n 'Bv-P': 'Bvt',\n 'lC-Bt': 'Al-Bt',\n 'Sdw-Bht': 'Sw-Bt',\n 'aeAxh': 'Axh',\n 'Ctv': 'Cv',\n 'ixCv': 'imCv',\n 'Sd-Bt-M': 'Sd-Btv',\n 'cmCn': 'cmC',\n 'exC': 'emC',\n 'Bv-Acxh': 'Acxh',\n 'M-ilC': 'ilC',\n 'Bht-Bv': 'Ah-Bv',\n 'xCv': 'Cv',\n 'Swd-Sw': 'Sw-Bv',\n 'ixCn': 'ilC',\n 'Swd-Bv-ilC': 'Bv-ilC',\n 'Sw-Hp': 'Sw-Ap',\n 'Sw-H-Serw': 'Sw-Bv',\n 'Bt-Bv-Cv': 'Bv-Cv',\n 'Bj-Sd': 'Bt-Sd',\n 'lC-Sd': 'Bt-Sd',\n 'Bv-Tv-cC': 'Bv-ilC',\n 'Tv-cC': 'cC',\n 'Tv-cCv': 'Bv-Cv',\n 'cxC': 'cC',\n 'Sw-ilCv': 'Sw-ilC',\n 'Al-Btv-Swd': 'Bt-Sd',\n 'Bt-Gco': 'tGro',\n 'Swd-P-Bv': 'Sw-Bv',\n 'Bfv': 'Bhv',\n 'aGo-M': 'Go',\n 'sSw': 'Sw',\n 'jC': 'C',\n 'Sw-Ah-Bv': 'Sw-Bv',\n 'Sd-Cj': 'Sd-Bv',\n 'Bhv-Cv': 'Bv-Cv',\n 'Bt-Sd-Sw': 'Bt-Sd',\n 'sSdw': 'Sd',\n 'ilC-Bt-Swd': 'Bt-Sd',\n 'Ah-exC': 'Ah-Bv',\n 'Cj': 'Cj',\n 'Go-Srw': 'Gor',\n 'Bv-P-ilC': 'Bv-ilC',\n 'Sd-ilCv': 'Sd-ilC',\n 'sSwd': 'Sd',\n 'aSg-M': 'Sw-M',\n 'Bv-Tcv-elC': 'Bv-elC',\n 'Bfv-Sw-ilC': 'Bv-ilC',\n 'P-Bv': 'Bv',\n 'P-ilC': 'ilC',\n 'Bj': 'Bv',\n 'ilCv-Cj': 'ilC',\n 'Sdw-M': 'Sw-M',\n 'lCv-sGo': 'M-Go',\n 'Ap-Bv-ilCv': 'Bv-ilC',\n 'Gw-M': 'Sw-M',\n 'Btv-Sw': 'Bt-Sd',\n 'yilCv': 'ilC',\n 'Yr-Bv': 'Sw-Bv',\n 'Cj-ilCv': 'Bv-ilC',\n 'Sw-Bv-P': 'Sw-Bv',\n 'M-Sew': 'Ssw',\n 'Swd-Cj': 'Sw-Bv',\n 'Sd-Gco': 'Sw-Go',\n 'Btv-lCv': 'Bv-Cv',\n 'Sdg-Bv': 'Sd-Bv',\n 'P-Sw': 'P-Sd',\n 'Bv-P-Sd': 'Bt-Sd',\n 'lCv-Bv': 'Sw-Bv',\n 'Sew-M': 'Sw-M',\n 'Acxh-Al': 'Acxh',\n 'Acxh-Bt': 'Acxh',\n 'ilC-P': 'elC-P',\n 'Sw-Bv-Sd': 'Sw-Bv',\n 'Cj-Cv': 'Bv-Cv',\n 'Sw-lCv': 'Sw-Bv',\n 'Acp-Bcv-cC': 'Al-Bv',\n 'cC': 'cC',\n 'aeAp': 'aelC',\n 'Bv-eC': 'Bv-elC',\n 'emCn': 'emC',\n 'Ah-Bv-cCv': 'Bv-Cv',\n 'Sdw-Ah': 'Sw-Ah',\n 'arGo-P-Sd': 'P-Sd',\n 'M-P-Axh': 'Axh',\n 'aeAh-P': 'elC-P',\n 'elC-Bvt': 'Al-Bv',\n 'eCc': 'elCc',\n 'Bv-Ah-eCv': 'Bv-Cv',\n 'Bv-eCv': 'Bv-Cv',\n 'Tv': 'Cv',\n 'P-Srd': 'P-Sd',\n 'Swd-Cj-lC': 'Sd-ilC',\n 'eSg-lCv': 'Sd-lC',\n 'elCv-Sg': 'elC-P',\n 'Acp-elC-Bcv': 'Al-Bv',\n 'Bv-cCv': 'Bv-Cv',\n 'Acp-P': 'Acp',\n 'P-elCv': 'aelC',\n 'elCv-P': 'elC-P',\n 'ixC': 'ilC',\n 'aeMc': 'aelC',\n 'lC-cmC': 'cmC',\n 'Go-P': 'Go',\n 'Sd-Bt-R': 'Sd-Btv',\n 'eC': 'C',\n 'lCv-Sw': 'Al-Sw',\n 'elC-Tv': 'elC-P',\n 'eAh-P': 'elC-P',\n 'P-lC': 'ilC',\n 'Sw-Tv': 'Sw-Bv',\n 'Tv-Sw': 'Al-Sw',\n 'Tv-Swd': 'Bt-Sd',\n 'Al-Swd-Btv': 'Sd-Btv',\n 'Swd-fBj': 'Sw-Bv',\n 'Al-Sd-Bt': 'Al-Bt',\n 'Ckc': 'C',\n 'fBj-Sd': 'Bt-Sd',\n 'Tv-eCv': 'Bv-Cv',\n 'Ap-Sew': 'Al-Sw',\n 'aM-Gro': 'M-Gro',\n 'Sdw-C': 'Sw-M',\n 'Acp-clC': 'clC',\n 'Cc': 'C',\n 'Swd-Bv': 'Sw-Bv',\n 'Sdw-ilCv': 'Sd-ilC',\n 'Ah-Bv-elC': 'Bv-elC',\n 'ilC-Swd-Bv': 'Sw-Bv',\n 'elC-cmC': 'elCc',\n 'Sd-iC': 'Sd-ilC',\n 'Bv-C': 'Bv-Cv',\n ...}"
     },
     "execution_count": 21,
     "metadata": {},
     "output_type": "execute_result"
    }
   ],
   "source": [
    "# Map rare labels to frequent labels via Levenshtein distance\n",
    "# Any better ideas? Sometimes the mapping is not very faithful to geological meaning\n",
    "from jellyfish import levenshtein_distance as ld\n",
    "rare_labels_mapping = {}\n",
    "list_dict_mapping = list(dict_mapping.keys())\n",
    "for lab in df[target].unique():\n",
    "    if lab in list_dict_mapping:\n",
    "        rare_labels_mapping[lab] = lab # for applying the map later in the df, we need the identity mappings as well\n",
    "    else:\n",
    "        similarities = [ld(lab, freq_lab) for freq_lab in list_dict_mapping]\n",
    "        best_match = list_dict_mapping[np.argmin(similarities)]\n",
    "        rare_labels_mapping[lab] = best_match\n",
    "rare_labels_mapping"
   ],
   "metadata": {
    "collapsed": false,
    "pycharm": {
     "name": "#%%\n"
    }
   }
  },
  {
   "cell_type": "code",
   "execution_count": 22,
   "outputs": [
    {
     "data": {
      "text/plain": "1218"
     },
     "execution_count": 22,
     "metadata": {},
     "output_type": "execute_result"
    }
   ],
   "source": [
    "len(rare_labels_mapping)\n",
    "# ToDo: manually correct the weird mappings\n",
    "# Note: maybe use a second string distance to decide the winner, in case of a tie?"
   ],
   "metadata": {
    "collapsed": false,
    "pycharm": {
     "name": "#%%\n"
    }
   }
  },
  {
   "cell_type": "code",
   "execution_count": 23,
   "outputs": [
    {
     "name": "stderr",
     "output_type": "stream",
     "text": [
      "/tmp/ipykernel_1180619/3489057721.py:2: SettingWithCopyWarning: \n",
      "A value is trying to be set on a copy of a slice from a DataFrame.\n",
      "Try using .loc[row_indexer,col_indexer] = value instead\n",
      "\n",
      "See the caveats in the documentation: https://pandas.pydata.org/pandas-docs/stable/user_guide/indexing.html#returning-a-view-versus-a-copy\n",
      "  df[target] = df[target].map(rare_labels_mapping)\n"
     ]
    },
    {
     "data": {
      "text/plain": "        Point  Obergrenze  Untergrenze Horizontsymbol_relevant Bodenart  \\\n0         2.0         0.0         28.0                      Ap      Sl2   \n1         2.0        28.0         54.0                       E      Sl2   \n2         2.0        54.0         68.0                      Bv      Sl2   \n3         2.0        68.0         96.0                  Bv-ilC     fSms   \n4         2.0        96.0        201.0                     ilC     mSfs   \n...       ...         ...          ...                     ...      ...   \n16307  6211.0        27.0         50.0                     Bhs     fSms   \n16308  6211.0        50.0         70.0                     Bsh     fSms   \n16309  6211.0        50.0         70.0                     Bsh     fSms   \n16310  6211.0        70.0        100.0                  Go-ilC     fSms   \n16311  6211.0        70.0        100.0                  Go-ilC     fSms   \n\n      Bodenfarbe  Steine Karbonat Humusgehaltsklasse Durchwurzelung  \\\n0      7.5YR 3/2     3.0       C0                 h3            Wf4   \n1       10YR 3/3     3.0       C0                 h2            Wf3   \n2      7.5YR 4/3    10.0       C0                 h1            Wf3   \n3      7.5YR 6/4     1.0       C0                 h0            Wf2   \n4       10YR 7/4     1.0       C0                 h0            Wf0   \n...          ...     ...      ...                ...            ...   \n16307    5YR 3/2     1.0       C0                 h2            Wf3   \n16308    5YR 4/3     1.0       C0                 h1            Wf2   \n16309    5YR 4/3     1.0       C0                 h1            Wf2   \n16310  7.5YR 5/4     1.0       C0                 h1            Wf6   \n16311  7.5YR 5/4     1.0       C0                 h1            Wf6   \n\n                                                    file  Probenahme_Monat  \\\n0      ../data/BGR/Profilbilder_no_ruler_no_sky/SH_00...                11   \n1      ../data/BGR/Profilbilder_no_ruler_no_sky/SH_00...                11   \n2      ../data/BGR/Profilbilder_no_ruler_no_sky/SH_00...                11   \n3      ../data/BGR/Profilbilder_no_ruler_no_sky/SH_00...                11   \n4      ../data/BGR/Profilbilder_no_ruler_no_sky/SH_00...                11   \n...                                                  ...               ...   \n16307  ../data/BGR/Profilbilder_no_ruler_no_sky/NI_62...                 6   \n16308  ../data/BGR/Profilbilder_no_ruler_no_sky/NI_62...                 6   \n16309  ../data/BGR/Profilbilder_no_ruler_no_sky/NI_62...                 6   \n16310  ../data/BGR/Profilbilder_no_ruler_no_sky/NI_62...                 6   \n16311  ../data/BGR/Profilbilder_no_ruler_no_sky/NI_62...                 6   \n\n       Probenahme_Jahr       xcoord       ycoord  \\\n0                 2015  462216.1283  6079359.775   \n1                 2015  462216.1283  6079359.775   \n2                 2015  462216.1283  6079359.775   \n3                 2015  462216.1283  6079359.775   \n4                 2015  462216.1283  6079359.775   \n...                ...          ...          ...   \n16307             2012  522076.9633  5930456.114   \n16308             2012  522076.9633  5930456.114   \n16309             2012  522076.9633  5930456.114   \n16310             2012  522076.9633  5930456.114   \n16311             2012  522076.9633  5930456.114   \n\n                      Bodenklimaraum_Name Landnutzung BZE_Moor Hauptbodentyp  \\\n0                           Marsch - Nord           A        0            YE   \n1                           Marsch - Nord           A        0            YE   \n2                           Marsch - Nord           A        0            YE   \n3                           Marsch - Nord           A        0            YE   \n4                           Marsch - Nord           A        0            YE   \n...                                   ...         ...      ...           ...   \n16307  Elbe-Weser-Dreieck / sandige Böden           G        0            PP   \n16308  Elbe-Weser-Dreieck / sandige Böden           G        0            PP   \n16309  Elbe-Weser-Dreieck / sandige Böden           G        0            PP   \n16310  Elbe-Weser-Dreieck / sandige Böden           G        0            PP   \n16311  Elbe-Weser-Dreieck / sandige Böden           G        0            PP   \n\n      BodenVarTypSub GrundwaStufe  GrundwaStand  Moormaechtigkeit  \\\n0              YE/BB            0         200.0               0.0   \n1              YE/BB            0         200.0               0.0   \n2              YE/BB            0         200.0               0.0   \n3              YE/BB            0         200.0               0.0   \n4              YE/BB            0         200.0               0.0   \n...              ...          ...           ...               ...   \n16307          GG-PP         GWS4         110.0               0.0   \n16308          GG-PP         GWS4         110.0               0.0   \n16309          GG-PP         GWS4         110.0               0.0   \n16310          GG-PP         GWS4         110.0               0.0   \n16311          GG-PP         GWS4         110.0               0.0   \n\n       Torfmaechtigkeit Neigung Exposition Woelbung Reliefformtyp  \\\n0                   0.0      N0         KE       GG             V   \n1                   0.0      N0         KE       GG             V   \n2                   0.0      N0         KE       GG             V   \n3                   0.0      N0         KE       GG             V   \n4                   0.0      N0         KE       GG             V   \n...                 ...     ...        ...      ...           ...   \n16307               0.0      N0         KE       GG           TSF   \n16308               0.0      N0         KE       GG           TSF   \n16309               0.0      N0         KE       GG           TSF   \n16310               0.0      N0         KE       GG           TSF   \n16311               0.0      N0         KE       GG           TSF   \n\n      LageImRelief  KV_0_30  KV_30_100  \n0                Z    81.89      54.19  \n1                Z    81.89      54.19  \n2                Z    81.89      54.19  \n3                Z    81.89      54.19  \n4                Z    81.89      54.19  \n...            ...      ...        ...  \n16307            T   117.59      87.72  \n16308            T   117.59      87.72  \n16309            T   117.59      87.72  \n16310            T   117.59      87.72  \n16311            T   117.59      87.72  \n\n[13621 rows x 31 columns]",
      "text/html": "<div>\n<style scoped>\n    .dataframe tbody tr th:only-of-type {\n        vertical-align: middle;\n    }\n\n    .dataframe tbody tr th {\n        vertical-align: top;\n    }\n\n    .dataframe thead th {\n        text-align: right;\n    }\n</style>\n<table border=\"1\" class=\"dataframe\">\n  <thead>\n    <tr style=\"text-align: right;\">\n      <th></th>\n      <th>Point</th>\n      <th>Obergrenze</th>\n      <th>Untergrenze</th>\n      <th>Horizontsymbol_relevant</th>\n      <th>Bodenart</th>\n      <th>Bodenfarbe</th>\n      <th>Steine</th>\n      <th>Karbonat</th>\n      <th>Humusgehaltsklasse</th>\n      <th>Durchwurzelung</th>\n      <th>file</th>\n      <th>Probenahme_Monat</th>\n      <th>Probenahme_Jahr</th>\n      <th>xcoord</th>\n      <th>ycoord</th>\n      <th>Bodenklimaraum_Name</th>\n      <th>Landnutzung</th>\n      <th>BZE_Moor</th>\n      <th>Hauptbodentyp</th>\n      <th>BodenVarTypSub</th>\n      <th>GrundwaStufe</th>\n      <th>GrundwaStand</th>\n      <th>Moormaechtigkeit</th>\n      <th>Torfmaechtigkeit</th>\n      <th>Neigung</th>\n      <th>Exposition</th>\n      <th>Woelbung</th>\n      <th>Reliefformtyp</th>\n      <th>LageImRelief</th>\n      <th>KV_0_30</th>\n      <th>KV_30_100</th>\n    </tr>\n  </thead>\n  <tbody>\n    <tr>\n      <th>0</th>\n      <td>2.0</td>\n      <td>0.0</td>\n      <td>28.0</td>\n      <td>Ap</td>\n      <td>Sl2</td>\n      <td>7.5YR 3/2</td>\n      <td>3.0</td>\n      <td>C0</td>\n      <td>h3</td>\n      <td>Wf4</td>\n      <td>../data/BGR/Profilbilder_no_ruler_no_sky/SH_00...</td>\n      <td>11</td>\n      <td>2015</td>\n      <td>462216.1283</td>\n      <td>6079359.775</td>\n      <td>Marsch - Nord</td>\n      <td>A</td>\n      <td>0</td>\n      <td>YE</td>\n      <td>YE/BB</td>\n      <td>0</td>\n      <td>200.0</td>\n      <td>0.0</td>\n      <td>0.0</td>\n      <td>N0</td>\n      <td>KE</td>\n      <td>GG</td>\n      <td>V</td>\n      <td>Z</td>\n      <td>81.89</td>\n      <td>54.19</td>\n    </tr>\n    <tr>\n      <th>1</th>\n      <td>2.0</td>\n      <td>28.0</td>\n      <td>54.0</td>\n      <td>E</td>\n      <td>Sl2</td>\n      <td>10YR 3/3</td>\n      <td>3.0</td>\n      <td>C0</td>\n      <td>h2</td>\n      <td>Wf3</td>\n      <td>../data/BGR/Profilbilder_no_ruler_no_sky/SH_00...</td>\n      <td>11</td>\n      <td>2015</td>\n      <td>462216.1283</td>\n      <td>6079359.775</td>\n      <td>Marsch - Nord</td>\n      <td>A</td>\n      <td>0</td>\n      <td>YE</td>\n      <td>YE/BB</td>\n      <td>0</td>\n      <td>200.0</td>\n      <td>0.0</td>\n      <td>0.0</td>\n      <td>N0</td>\n      <td>KE</td>\n      <td>GG</td>\n      <td>V</td>\n      <td>Z</td>\n      <td>81.89</td>\n      <td>54.19</td>\n    </tr>\n    <tr>\n      <th>2</th>\n      <td>2.0</td>\n      <td>54.0</td>\n      <td>68.0</td>\n      <td>Bv</td>\n      <td>Sl2</td>\n      <td>7.5YR 4/3</td>\n      <td>10.0</td>\n      <td>C0</td>\n      <td>h1</td>\n      <td>Wf3</td>\n      <td>../data/BGR/Profilbilder_no_ruler_no_sky/SH_00...</td>\n      <td>11</td>\n      <td>2015</td>\n      <td>462216.1283</td>\n      <td>6079359.775</td>\n      <td>Marsch - Nord</td>\n      <td>A</td>\n      <td>0</td>\n      <td>YE</td>\n      <td>YE/BB</td>\n      <td>0</td>\n      <td>200.0</td>\n      <td>0.0</td>\n      <td>0.0</td>\n      <td>N0</td>\n      <td>KE</td>\n      <td>GG</td>\n      <td>V</td>\n      <td>Z</td>\n      <td>81.89</td>\n      <td>54.19</td>\n    </tr>\n    <tr>\n      <th>3</th>\n      <td>2.0</td>\n      <td>68.0</td>\n      <td>96.0</td>\n      <td>Bv-ilC</td>\n      <td>fSms</td>\n      <td>7.5YR 6/4</td>\n      <td>1.0</td>\n      <td>C0</td>\n      <td>h0</td>\n      <td>Wf2</td>\n      <td>../data/BGR/Profilbilder_no_ruler_no_sky/SH_00...</td>\n      <td>11</td>\n      <td>2015</td>\n      <td>462216.1283</td>\n      <td>6079359.775</td>\n      <td>Marsch - Nord</td>\n      <td>A</td>\n      <td>0</td>\n      <td>YE</td>\n      <td>YE/BB</td>\n      <td>0</td>\n      <td>200.0</td>\n      <td>0.0</td>\n      <td>0.0</td>\n      <td>N0</td>\n      <td>KE</td>\n      <td>GG</td>\n      <td>V</td>\n      <td>Z</td>\n      <td>81.89</td>\n      <td>54.19</td>\n    </tr>\n    <tr>\n      <th>4</th>\n      <td>2.0</td>\n      <td>96.0</td>\n      <td>201.0</td>\n      <td>ilC</td>\n      <td>mSfs</td>\n      <td>10YR 7/4</td>\n      <td>1.0</td>\n      <td>C0</td>\n      <td>h0</td>\n      <td>Wf0</td>\n      <td>../data/BGR/Profilbilder_no_ruler_no_sky/SH_00...</td>\n      <td>11</td>\n      <td>2015</td>\n      <td>462216.1283</td>\n      <td>6079359.775</td>\n      <td>Marsch - Nord</td>\n      <td>A</td>\n      <td>0</td>\n      <td>YE</td>\n      <td>YE/BB</td>\n      <td>0</td>\n      <td>200.0</td>\n      <td>0.0</td>\n      <td>0.0</td>\n      <td>N0</td>\n      <td>KE</td>\n      <td>GG</td>\n      <td>V</td>\n      <td>Z</td>\n      <td>81.89</td>\n      <td>54.19</td>\n    </tr>\n    <tr>\n      <th>...</th>\n      <td>...</td>\n      <td>...</td>\n      <td>...</td>\n      <td>...</td>\n      <td>...</td>\n      <td>...</td>\n      <td>...</td>\n      <td>...</td>\n      <td>...</td>\n      <td>...</td>\n      <td>...</td>\n      <td>...</td>\n      <td>...</td>\n      <td>...</td>\n      <td>...</td>\n      <td>...</td>\n      <td>...</td>\n      <td>...</td>\n      <td>...</td>\n      <td>...</td>\n      <td>...</td>\n      <td>...</td>\n      <td>...</td>\n      <td>...</td>\n      <td>...</td>\n      <td>...</td>\n      <td>...</td>\n      <td>...</td>\n      <td>...</td>\n      <td>...</td>\n      <td>...</td>\n    </tr>\n    <tr>\n      <th>16307</th>\n      <td>6211.0</td>\n      <td>27.0</td>\n      <td>50.0</td>\n      <td>Bhs</td>\n      <td>fSms</td>\n      <td>5YR 3/2</td>\n      <td>1.0</td>\n      <td>C0</td>\n      <td>h2</td>\n      <td>Wf3</td>\n      <td>../data/BGR/Profilbilder_no_ruler_no_sky/NI_62...</td>\n      <td>6</td>\n      <td>2012</td>\n      <td>522076.9633</td>\n      <td>5930456.114</td>\n      <td>Elbe-Weser-Dreieck / sandige Böden</td>\n      <td>G</td>\n      <td>0</td>\n      <td>PP</td>\n      <td>GG-PP</td>\n      <td>GWS4</td>\n      <td>110.0</td>\n      <td>0.0</td>\n      <td>0.0</td>\n      <td>N0</td>\n      <td>KE</td>\n      <td>GG</td>\n      <td>TSF</td>\n      <td>T</td>\n      <td>117.59</td>\n      <td>87.72</td>\n    </tr>\n    <tr>\n      <th>16308</th>\n      <td>6211.0</td>\n      <td>50.0</td>\n      <td>70.0</td>\n      <td>Bsh</td>\n      <td>fSms</td>\n      <td>5YR 4/3</td>\n      <td>1.0</td>\n      <td>C0</td>\n      <td>h1</td>\n      <td>Wf2</td>\n      <td>../data/BGR/Profilbilder_no_ruler_no_sky/NI_62...</td>\n      <td>6</td>\n      <td>2012</td>\n      <td>522076.9633</td>\n      <td>5930456.114</td>\n      <td>Elbe-Weser-Dreieck / sandige Böden</td>\n      <td>G</td>\n      <td>0</td>\n      <td>PP</td>\n      <td>GG-PP</td>\n      <td>GWS4</td>\n      <td>110.0</td>\n      <td>0.0</td>\n      <td>0.0</td>\n      <td>N0</td>\n      <td>KE</td>\n      <td>GG</td>\n      <td>TSF</td>\n      <td>T</td>\n      <td>117.59</td>\n      <td>87.72</td>\n    </tr>\n    <tr>\n      <th>16309</th>\n      <td>6211.0</td>\n      <td>50.0</td>\n      <td>70.0</td>\n      <td>Bsh</td>\n      <td>fSms</td>\n      <td>5YR 4/3</td>\n      <td>1.0</td>\n      <td>C0</td>\n      <td>h1</td>\n      <td>Wf2</td>\n      <td>../data/BGR/Profilbilder_no_ruler_no_sky/NI_62...</td>\n      <td>6</td>\n      <td>2012</td>\n      <td>522076.9633</td>\n      <td>5930456.114</td>\n      <td>Elbe-Weser-Dreieck / sandige Böden</td>\n      <td>G</td>\n      <td>0</td>\n      <td>PP</td>\n      <td>GG-PP</td>\n      <td>GWS4</td>\n      <td>110.0</td>\n      <td>0.0</td>\n      <td>0.0</td>\n      <td>N0</td>\n      <td>KE</td>\n      <td>GG</td>\n      <td>TSF</td>\n      <td>T</td>\n      <td>117.59</td>\n      <td>87.72</td>\n    </tr>\n    <tr>\n      <th>16310</th>\n      <td>6211.0</td>\n      <td>70.0</td>\n      <td>100.0</td>\n      <td>Go-ilC</td>\n      <td>fSms</td>\n      <td>7.5YR 5/4</td>\n      <td>1.0</td>\n      <td>C0</td>\n      <td>h1</td>\n      <td>Wf6</td>\n      <td>../data/BGR/Profilbilder_no_ruler_no_sky/NI_62...</td>\n      <td>6</td>\n      <td>2012</td>\n      <td>522076.9633</td>\n      <td>5930456.114</td>\n      <td>Elbe-Weser-Dreieck / sandige Böden</td>\n      <td>G</td>\n      <td>0</td>\n      <td>PP</td>\n      <td>GG-PP</td>\n      <td>GWS4</td>\n      <td>110.0</td>\n      <td>0.0</td>\n      <td>0.0</td>\n      <td>N0</td>\n      <td>KE</td>\n      <td>GG</td>\n      <td>TSF</td>\n      <td>T</td>\n      <td>117.59</td>\n      <td>87.72</td>\n    </tr>\n    <tr>\n      <th>16311</th>\n      <td>6211.0</td>\n      <td>70.0</td>\n      <td>100.0</td>\n      <td>Go-ilC</td>\n      <td>fSms</td>\n      <td>7.5YR 5/4</td>\n      <td>1.0</td>\n      <td>C0</td>\n      <td>h1</td>\n      <td>Wf6</td>\n      <td>../data/BGR/Profilbilder_no_ruler_no_sky/NI_62...</td>\n      <td>6</td>\n      <td>2012</td>\n      <td>522076.9633</td>\n      <td>5930456.114</td>\n      <td>Elbe-Weser-Dreieck / sandige Böden</td>\n      <td>G</td>\n      <td>0</td>\n      <td>PP</td>\n      <td>GG-PP</td>\n      <td>GWS4</td>\n      <td>110.0</td>\n      <td>0.0</td>\n      <td>0.0</td>\n      <td>N0</td>\n      <td>KE</td>\n      <td>GG</td>\n      <td>TSF</td>\n      <td>T</td>\n      <td>117.59</td>\n      <td>87.72</td>\n    </tr>\n  </tbody>\n</table>\n<p>13621 rows × 31 columns</p>\n</div>"
     },
     "execution_count": 23,
     "metadata": {},
     "output_type": "execute_result"
    }
   ],
   "source": [
    "# Map rare labels onto frequent labels\n",
    "df[target] = df[target].map(rare_labels_mapping)\n",
    "df"
   ],
   "metadata": {
    "collapsed": false,
    "pycharm": {
     "name": "#%%\n"
    }
   }
  },
  {
   "cell_type": "code",
   "execution_count": 24,
   "outputs": [
    {
     "name": "stderr",
     "output_type": "stream",
     "text": [
      "/tmp/ipykernel_1180619/1051670463.py:3: SettingWithCopyWarning: \n",
      "A value is trying to be set on a copy of a slice from a DataFrame.\n",
      "Try using .loc[row_indexer,col_indexer] = value instead\n",
      "\n",
      "See the caveats in the documentation: https://pandas.pydata.org/pandas-docs/stable/user_guide/indexing.html#returning-a-view-versus-a-copy\n",
      "  df[target] = df[target].map(dict_mapping) # in conjunction with HCEs\n",
      "/tmp/ipykernel_1180619/1051670463.py:4: SettingWithCopyWarning: \n",
      "A value is trying to be set on a copy of a slice from a DataFrame.\n",
      "Try using .loc[row_indexer,col_indexer] = value instead\n",
      "\n",
      "See the caveats in the documentation: https://pandas.pydata.org/pandas-docs/stable/user_guide/indexing.html#returning-a-view-versus-a-copy\n",
      "  df[target] = df[target].astype(int)\n"
     ]
    },
    {
     "data": {
      "text/plain": "   Point  Obergrenze  Untergrenze  Horizontsymbol_relevant Bodenart  \\\n0    2.0         0.0         28.0                       22      Sl2   \n1    2.0        28.0         54.0                        5      Sl2   \n2    2.0        54.0         68.0                       32      Sl2   \n3    2.0        68.0         96.0                       62     fSms   \n4    2.0        96.0        201.0                        0     mSfs   \n\n  Bodenfarbe  Steine Karbonat Humusgehaltsklasse Durchwurzelung  \\\n0  7.5YR 3/2     3.0       C0                 h3            Wf4   \n1   10YR 3/3     3.0       C0                 h2            Wf3   \n2  7.5YR 4/3    10.0       C0                 h1            Wf3   \n3  7.5YR 6/4     1.0       C0                 h0            Wf2   \n4   10YR 7/4     1.0       C0                 h0            Wf0   \n\n                                                file  Probenahme_Monat  \\\n0  ../data/BGR/Profilbilder_no_ruler_no_sky/SH_00...                11   \n1  ../data/BGR/Profilbilder_no_ruler_no_sky/SH_00...                11   \n2  ../data/BGR/Profilbilder_no_ruler_no_sky/SH_00...                11   \n3  ../data/BGR/Profilbilder_no_ruler_no_sky/SH_00...                11   \n4  ../data/BGR/Profilbilder_no_ruler_no_sky/SH_00...                11   \n\n   Probenahme_Jahr       xcoord       ycoord Bodenklimaraum_Name Landnutzung  \\\n0             2015  462216.1283  6079359.775       Marsch - Nord           A   \n1             2015  462216.1283  6079359.775       Marsch - Nord           A   \n2             2015  462216.1283  6079359.775       Marsch - Nord           A   \n3             2015  462216.1283  6079359.775       Marsch - Nord           A   \n4             2015  462216.1283  6079359.775       Marsch - Nord           A   \n\n  BZE_Moor Hauptbodentyp BodenVarTypSub GrundwaStufe  GrundwaStand  \\\n0        0            YE          YE/BB            0         200.0   \n1        0            YE          YE/BB            0         200.0   \n2        0            YE          YE/BB            0         200.0   \n3        0            YE          YE/BB            0         200.0   \n4        0            YE          YE/BB            0         200.0   \n\n   Moormaechtigkeit  Torfmaechtigkeit Neigung Exposition Woelbung  \\\n0               0.0               0.0      N0         KE       GG   \n1               0.0               0.0      N0         KE       GG   \n2               0.0               0.0      N0         KE       GG   \n3               0.0               0.0      N0         KE       GG   \n4               0.0               0.0      N0         KE       GG   \n\n  Reliefformtyp LageImRelief  KV_0_30  KV_30_100  \n0             V            Z    81.89      54.19  \n1             V            Z    81.89      54.19  \n2             V            Z    81.89      54.19  \n3             V            Z    81.89      54.19  \n4             V            Z    81.89      54.19  ",
      "text/html": "<div>\n<style scoped>\n    .dataframe tbody tr th:only-of-type {\n        vertical-align: middle;\n    }\n\n    .dataframe tbody tr th {\n        vertical-align: top;\n    }\n\n    .dataframe thead th {\n        text-align: right;\n    }\n</style>\n<table border=\"1\" class=\"dataframe\">\n  <thead>\n    <tr style=\"text-align: right;\">\n      <th></th>\n      <th>Point</th>\n      <th>Obergrenze</th>\n      <th>Untergrenze</th>\n      <th>Horizontsymbol_relevant</th>\n      <th>Bodenart</th>\n      <th>Bodenfarbe</th>\n      <th>Steine</th>\n      <th>Karbonat</th>\n      <th>Humusgehaltsklasse</th>\n      <th>Durchwurzelung</th>\n      <th>file</th>\n      <th>Probenahme_Monat</th>\n      <th>Probenahme_Jahr</th>\n      <th>xcoord</th>\n      <th>ycoord</th>\n      <th>Bodenklimaraum_Name</th>\n      <th>Landnutzung</th>\n      <th>BZE_Moor</th>\n      <th>Hauptbodentyp</th>\n      <th>BodenVarTypSub</th>\n      <th>GrundwaStufe</th>\n      <th>GrundwaStand</th>\n      <th>Moormaechtigkeit</th>\n      <th>Torfmaechtigkeit</th>\n      <th>Neigung</th>\n      <th>Exposition</th>\n      <th>Woelbung</th>\n      <th>Reliefformtyp</th>\n      <th>LageImRelief</th>\n      <th>KV_0_30</th>\n      <th>KV_30_100</th>\n    </tr>\n  </thead>\n  <tbody>\n    <tr>\n      <th>0</th>\n      <td>2.0</td>\n      <td>0.0</td>\n      <td>28.0</td>\n      <td>22</td>\n      <td>Sl2</td>\n      <td>7.5YR 3/2</td>\n      <td>3.0</td>\n      <td>C0</td>\n      <td>h3</td>\n      <td>Wf4</td>\n      <td>../data/BGR/Profilbilder_no_ruler_no_sky/SH_00...</td>\n      <td>11</td>\n      <td>2015</td>\n      <td>462216.1283</td>\n      <td>6079359.775</td>\n      <td>Marsch - Nord</td>\n      <td>A</td>\n      <td>0</td>\n      <td>YE</td>\n      <td>YE/BB</td>\n      <td>0</td>\n      <td>200.0</td>\n      <td>0.0</td>\n      <td>0.0</td>\n      <td>N0</td>\n      <td>KE</td>\n      <td>GG</td>\n      <td>V</td>\n      <td>Z</td>\n      <td>81.89</td>\n      <td>54.19</td>\n    </tr>\n    <tr>\n      <th>1</th>\n      <td>2.0</td>\n      <td>28.0</td>\n      <td>54.0</td>\n      <td>5</td>\n      <td>Sl2</td>\n      <td>10YR 3/3</td>\n      <td>3.0</td>\n      <td>C0</td>\n      <td>h2</td>\n      <td>Wf3</td>\n      <td>../data/BGR/Profilbilder_no_ruler_no_sky/SH_00...</td>\n      <td>11</td>\n      <td>2015</td>\n      <td>462216.1283</td>\n      <td>6079359.775</td>\n      <td>Marsch - Nord</td>\n      <td>A</td>\n      <td>0</td>\n      <td>YE</td>\n      <td>YE/BB</td>\n      <td>0</td>\n      <td>200.0</td>\n      <td>0.0</td>\n      <td>0.0</td>\n      <td>N0</td>\n      <td>KE</td>\n      <td>GG</td>\n      <td>V</td>\n      <td>Z</td>\n      <td>81.89</td>\n      <td>54.19</td>\n    </tr>\n    <tr>\n      <th>2</th>\n      <td>2.0</td>\n      <td>54.0</td>\n      <td>68.0</td>\n      <td>32</td>\n      <td>Sl2</td>\n      <td>7.5YR 4/3</td>\n      <td>10.0</td>\n      <td>C0</td>\n      <td>h1</td>\n      <td>Wf3</td>\n      <td>../data/BGR/Profilbilder_no_ruler_no_sky/SH_00...</td>\n      <td>11</td>\n      <td>2015</td>\n      <td>462216.1283</td>\n      <td>6079359.775</td>\n      <td>Marsch - Nord</td>\n      <td>A</td>\n      <td>0</td>\n      <td>YE</td>\n      <td>YE/BB</td>\n      <td>0</td>\n      <td>200.0</td>\n      <td>0.0</td>\n      <td>0.0</td>\n      <td>N0</td>\n      <td>KE</td>\n      <td>GG</td>\n      <td>V</td>\n      <td>Z</td>\n      <td>81.89</td>\n      <td>54.19</td>\n    </tr>\n    <tr>\n      <th>3</th>\n      <td>2.0</td>\n      <td>68.0</td>\n      <td>96.0</td>\n      <td>62</td>\n      <td>fSms</td>\n      <td>7.5YR 6/4</td>\n      <td>1.0</td>\n      <td>C0</td>\n      <td>h0</td>\n      <td>Wf2</td>\n      <td>../data/BGR/Profilbilder_no_ruler_no_sky/SH_00...</td>\n      <td>11</td>\n      <td>2015</td>\n      <td>462216.1283</td>\n      <td>6079359.775</td>\n      <td>Marsch - Nord</td>\n      <td>A</td>\n      <td>0</td>\n      <td>YE</td>\n      <td>YE/BB</td>\n      <td>0</td>\n      <td>200.0</td>\n      <td>0.0</td>\n      <td>0.0</td>\n      <td>N0</td>\n      <td>KE</td>\n      <td>GG</td>\n      <td>V</td>\n      <td>Z</td>\n      <td>81.89</td>\n      <td>54.19</td>\n    </tr>\n    <tr>\n      <th>4</th>\n      <td>2.0</td>\n      <td>96.0</td>\n      <td>201.0</td>\n      <td>0</td>\n      <td>mSfs</td>\n      <td>10YR 7/4</td>\n      <td>1.0</td>\n      <td>C0</td>\n      <td>h0</td>\n      <td>Wf0</td>\n      <td>../data/BGR/Profilbilder_no_ruler_no_sky/SH_00...</td>\n      <td>11</td>\n      <td>2015</td>\n      <td>462216.1283</td>\n      <td>6079359.775</td>\n      <td>Marsch - Nord</td>\n      <td>A</td>\n      <td>0</td>\n      <td>YE</td>\n      <td>YE/BB</td>\n      <td>0</td>\n      <td>200.0</td>\n      <td>0.0</td>\n      <td>0.0</td>\n      <td>N0</td>\n      <td>KE</td>\n      <td>GG</td>\n      <td>V</td>\n      <td>Z</td>\n      <td>81.89</td>\n      <td>54.19</td>\n    </tr>\n  </tbody>\n</table>\n</div>"
     },
     "execution_count": 24,
     "metadata": {},
     "output_type": "execute_result"
    }
   ],
   "source": [
    "# One-hot encoding of the target column\n",
    "#bgr_data.encode_categorical_columns(df, target) # for standard one-hot vectors of the targets\n",
    "df[target] = df[target].map(dict_mapping) # in conjunction with HCEs\n",
    "df[target] = df[target].astype(int)\n",
    "df.head(5)"
   ],
   "metadata": {
    "collapsed": false,
    "pycharm": {
     "name": "#%%\n"
    }
   }
  },
  {
   "cell_type": "code",
   "execution_count": 25,
   "outputs": [
    {
     "name": "stderr",
     "output_type": "stream",
     "text": [
      "/mnt/KInsektDaten/teo/./BGR/bgr/soil/datasets.py:35: SettingWithCopyWarning: \n",
      "A value is trying to be set on a copy of a slice from a DataFrame.\n",
      "Try using .loc[row_indexer,col_indexer] = value instead\n",
      "\n",
      "See the caveats in the documentation: https://pandas.pydata.org/pandas-docs/stable/user_guide/indexing.html#returning-a-view-versus-a-copy\n",
      "  df[col_name] = df[col_name].replace(counts.index, range(len(counts)))\n",
      "/mnt/KInsektDaten/teo/./BGR/bgr/soil/datasets.py:35: FutureWarning: Downcasting behavior in `replace` is deprecated and will be removed in a future version. To retain the old behavior, explicitly call `result.infer_objects(copy=False)`. To opt-in to the future behavior, set `pd.set_option('future.no_silent_downcasting', True)`\n",
      "  df[col_name] = df[col_name].replace(counts.index, range(len(counts)))\n",
      "/mnt/KInsektDaten/teo/./BGR/bgr/soil/datasets.py:35: SettingWithCopyWarning: \n",
      "A value is trying to be set on a copy of a slice from a DataFrame.\n",
      "Try using .loc[row_indexer,col_indexer] = value instead\n",
      "\n",
      "See the caveats in the documentation: https://pandas.pydata.org/pandas-docs/stable/user_guide/indexing.html#returning-a-view-versus-a-copy\n",
      "  df[col_name] = df[col_name].replace(counts.index, range(len(counts)))\n",
      "/mnt/KInsektDaten/teo/./BGR/bgr/soil/datasets.py:35: FutureWarning: Downcasting behavior in `replace` is deprecated and will be removed in a future version. To retain the old behavior, explicitly call `result.infer_objects(copy=False)`. To opt-in to the future behavior, set `pd.set_option('future.no_silent_downcasting', True)`\n",
      "  df[col_name] = df[col_name].replace(counts.index, range(len(counts)))\n",
      "/mnt/KInsektDaten/teo/./BGR/bgr/soil/datasets.py:35: SettingWithCopyWarning: \n",
      "A value is trying to be set on a copy of a slice from a DataFrame.\n",
      "Try using .loc[row_indexer,col_indexer] = value instead\n",
      "\n",
      "See the caveats in the documentation: https://pandas.pydata.org/pandas-docs/stable/user_guide/indexing.html#returning-a-view-versus-a-copy\n",
      "  df[col_name] = df[col_name].replace(counts.index, range(len(counts)))\n",
      "/mnt/KInsektDaten/teo/./BGR/bgr/soil/datasets.py:35: FutureWarning: Downcasting behavior in `replace` is deprecated and will be removed in a future version. To retain the old behavior, explicitly call `result.infer_objects(copy=False)`. To opt-in to the future behavior, set `pd.set_option('future.no_silent_downcasting', True)`\n",
      "  df[col_name] = df[col_name].replace(counts.index, range(len(counts)))\n",
      "/mnt/KInsektDaten/teo/./BGR/bgr/soil/datasets.py:35: SettingWithCopyWarning: \n",
      "A value is trying to be set on a copy of a slice from a DataFrame.\n",
      "Try using .loc[row_indexer,col_indexer] = value instead\n",
      "\n",
      "See the caveats in the documentation: https://pandas.pydata.org/pandas-docs/stable/user_guide/indexing.html#returning-a-view-versus-a-copy\n",
      "  df[col_name] = df[col_name].replace(counts.index, range(len(counts)))\n",
      "/mnt/KInsektDaten/teo/./BGR/bgr/soil/datasets.py:35: FutureWarning: Downcasting behavior in `replace` is deprecated and will be removed in a future version. To retain the old behavior, explicitly call `result.infer_objects(copy=False)`. To opt-in to the future behavior, set `pd.set_option('future.no_silent_downcasting', True)`\n",
      "  df[col_name] = df[col_name].replace(counts.index, range(len(counts)))\n",
      "/mnt/KInsektDaten/teo/./BGR/bgr/soil/datasets.py:35: SettingWithCopyWarning: \n",
      "A value is trying to be set on a copy of a slice from a DataFrame.\n",
      "Try using .loc[row_indexer,col_indexer] = value instead\n",
      "\n",
      "See the caveats in the documentation: https://pandas.pydata.org/pandas-docs/stable/user_guide/indexing.html#returning-a-view-versus-a-copy\n",
      "  df[col_name] = df[col_name].replace(counts.index, range(len(counts)))\n",
      "/mnt/KInsektDaten/teo/./BGR/bgr/soil/datasets.py:35: FutureWarning: Downcasting behavior in `replace` is deprecated and will be removed in a future version. To retain the old behavior, explicitly call `result.infer_objects(copy=False)`. To opt-in to the future behavior, set `pd.set_option('future.no_silent_downcasting', True)`\n",
      "  df[col_name] = df[col_name].replace(counts.index, range(len(counts)))\n",
      "/mnt/KInsektDaten/teo/./BGR/bgr/soil/datasets.py:35: SettingWithCopyWarning: \n",
      "A value is trying to be set on a copy of a slice from a DataFrame.\n",
      "Try using .loc[row_indexer,col_indexer] = value instead\n",
      "\n",
      "See the caveats in the documentation: https://pandas.pydata.org/pandas-docs/stable/user_guide/indexing.html#returning-a-view-versus-a-copy\n",
      "  df[col_name] = df[col_name].replace(counts.index, range(len(counts)))\n",
      "/mnt/KInsektDaten/teo/./BGR/bgr/soil/datasets.py:35: FutureWarning: Downcasting behavior in `replace` is deprecated and will be removed in a future version. To retain the old behavior, explicitly call `result.infer_objects(copy=False)`. To opt-in to the future behavior, set `pd.set_option('future.no_silent_downcasting', True)`\n",
      "  df[col_name] = df[col_name].replace(counts.index, range(len(counts)))\n",
      "/mnt/KInsektDaten/teo/./BGR/bgr/soil/datasets.py:35: SettingWithCopyWarning: \n",
      "A value is trying to be set on a copy of a slice from a DataFrame.\n",
      "Try using .loc[row_indexer,col_indexer] = value instead\n",
      "\n",
      "See the caveats in the documentation: https://pandas.pydata.org/pandas-docs/stable/user_guide/indexing.html#returning-a-view-versus-a-copy\n",
      "  df[col_name] = df[col_name].replace(counts.index, range(len(counts)))\n",
      "/mnt/KInsektDaten/teo/./BGR/bgr/soil/datasets.py:35: FutureWarning: Downcasting behavior in `replace` is deprecated and will be removed in a future version. To retain the old behavior, explicitly call `result.infer_objects(copy=False)`. To opt-in to the future behavior, set `pd.set_option('future.no_silent_downcasting', True)`\n",
      "  df[col_name] = df[col_name].replace(counts.index, range(len(counts)))\n",
      "/mnt/KInsektDaten/teo/./BGR/bgr/soil/datasets.py:35: SettingWithCopyWarning: \n",
      "A value is trying to be set on a copy of a slice from a DataFrame.\n",
      "Try using .loc[row_indexer,col_indexer] = value instead\n",
      "\n",
      "See the caveats in the documentation: https://pandas.pydata.org/pandas-docs/stable/user_guide/indexing.html#returning-a-view-versus-a-copy\n",
      "  df[col_name] = df[col_name].replace(counts.index, range(len(counts)))\n",
      "/mnt/KInsektDaten/teo/./BGR/bgr/soil/datasets.py:35: FutureWarning: Downcasting behavior in `replace` is deprecated and will be removed in a future version. To retain the old behavior, explicitly call `result.infer_objects(copy=False)`. To opt-in to the future behavior, set `pd.set_option('future.no_silent_downcasting', True)`\n",
      "  df[col_name] = df[col_name].replace(counts.index, range(len(counts)))\n",
      "/mnt/KInsektDaten/teo/./BGR/bgr/soil/datasets.py:35: SettingWithCopyWarning: \n",
      "A value is trying to be set on a copy of a slice from a DataFrame.\n",
      "Try using .loc[row_indexer,col_indexer] = value instead\n",
      "\n",
      "See the caveats in the documentation: https://pandas.pydata.org/pandas-docs/stable/user_guide/indexing.html#returning-a-view-versus-a-copy\n",
      "  df[col_name] = df[col_name].replace(counts.index, range(len(counts)))\n",
      "/mnt/KInsektDaten/teo/./BGR/bgr/soil/datasets.py:35: FutureWarning: Downcasting behavior in `replace` is deprecated and will be removed in a future version. To retain the old behavior, explicitly call `result.infer_objects(copy=False)`. To opt-in to the future behavior, set `pd.set_option('future.no_silent_downcasting', True)`\n",
      "  df[col_name] = df[col_name].replace(counts.index, range(len(counts)))\n",
      "/mnt/KInsektDaten/teo/./BGR/bgr/soil/datasets.py:35: SettingWithCopyWarning: \n",
      "A value is trying to be set on a copy of a slice from a DataFrame.\n",
      "Try using .loc[row_indexer,col_indexer] = value instead\n",
      "\n",
      "See the caveats in the documentation: https://pandas.pydata.org/pandas-docs/stable/user_guide/indexing.html#returning-a-view-versus-a-copy\n",
      "  df[col_name] = df[col_name].replace(counts.index, range(len(counts)))\n",
      "/mnt/KInsektDaten/teo/./BGR/bgr/soil/datasets.py:35: FutureWarning: Downcasting behavior in `replace` is deprecated and will be removed in a future version. To retain the old behavior, explicitly call `result.infer_objects(copy=False)`. To opt-in to the future behavior, set `pd.set_option('future.no_silent_downcasting', True)`\n",
      "  df[col_name] = df[col_name].replace(counts.index, range(len(counts)))\n",
      "/mnt/KInsektDaten/teo/./BGR/bgr/soil/datasets.py:35: SettingWithCopyWarning: \n",
      "A value is trying to be set on a copy of a slice from a DataFrame.\n",
      "Try using .loc[row_indexer,col_indexer] = value instead\n",
      "\n",
      "See the caveats in the documentation: https://pandas.pydata.org/pandas-docs/stable/user_guide/indexing.html#returning-a-view-versus-a-copy\n",
      "  df[col_name] = df[col_name].replace(counts.index, range(len(counts)))\n",
      "/mnt/KInsektDaten/teo/./BGR/bgr/soil/datasets.py:35: FutureWarning: Downcasting behavior in `replace` is deprecated and will be removed in a future version. To retain the old behavior, explicitly call `result.infer_objects(copy=False)`. To opt-in to the future behavior, set `pd.set_option('future.no_silent_downcasting', True)`\n",
      "  df[col_name] = df[col_name].replace(counts.index, range(len(counts)))\n",
      "/mnt/KInsektDaten/teo/./BGR/bgr/soil/datasets.py:35: SettingWithCopyWarning: \n",
      "A value is trying to be set on a copy of a slice from a DataFrame.\n",
      "Try using .loc[row_indexer,col_indexer] = value instead\n",
      "\n",
      "See the caveats in the documentation: https://pandas.pydata.org/pandas-docs/stable/user_guide/indexing.html#returning-a-view-versus-a-copy\n",
      "  df[col_name] = df[col_name].replace(counts.index, range(len(counts)))\n",
      "/mnt/KInsektDaten/teo/./BGR/bgr/soil/datasets.py:35: FutureWarning: Downcasting behavior in `replace` is deprecated and will be removed in a future version. To retain the old behavior, explicitly call `result.infer_objects(copy=False)`. To opt-in to the future behavior, set `pd.set_option('future.no_silent_downcasting', True)`\n",
      "  df[col_name] = df[col_name].replace(counts.index, range(len(counts)))\n",
      "/mnt/KInsektDaten/teo/./BGR/bgr/soil/datasets.py:35: SettingWithCopyWarning: \n",
      "A value is trying to be set on a copy of a slice from a DataFrame.\n",
      "Try using .loc[row_indexer,col_indexer] = value instead\n",
      "\n",
      "See the caveats in the documentation: https://pandas.pydata.org/pandas-docs/stable/user_guide/indexing.html#returning-a-view-versus-a-copy\n",
      "  df[col_name] = df[col_name].replace(counts.index, range(len(counts)))\n",
      "/mnt/KInsektDaten/teo/./BGR/bgr/soil/datasets.py:35: FutureWarning: Downcasting behavior in `replace` is deprecated and will be removed in a future version. To retain the old behavior, explicitly call `result.infer_objects(copy=False)`. To opt-in to the future behavior, set `pd.set_option('future.no_silent_downcasting', True)`\n",
      "  df[col_name] = df[col_name].replace(counts.index, range(len(counts)))\n",
      "/mnt/KInsektDaten/teo/./BGR/bgr/soil/datasets.py:35: SettingWithCopyWarning: \n",
      "A value is trying to be set on a copy of a slice from a DataFrame.\n",
      "Try using .loc[row_indexer,col_indexer] = value instead\n",
      "\n",
      "See the caveats in the documentation: https://pandas.pydata.org/pandas-docs/stable/user_guide/indexing.html#returning-a-view-versus-a-copy\n",
      "  df[col_name] = df[col_name].replace(counts.index, range(len(counts)))\n",
      "/mnt/KInsektDaten/teo/./BGR/bgr/soil/datasets.py:35: FutureWarning: Downcasting behavior in `replace` is deprecated and will be removed in a future version. To retain the old behavior, explicitly call `result.infer_objects(copy=False)`. To opt-in to the future behavior, set `pd.set_option('future.no_silent_downcasting', True)`\n",
      "  df[col_name] = df[col_name].replace(counts.index, range(len(counts)))\n",
      "/mnt/KInsektDaten/teo/./BGR/bgr/soil/datasets.py:35: SettingWithCopyWarning: \n",
      "A value is trying to be set on a copy of a slice from a DataFrame.\n",
      "Try using .loc[row_indexer,col_indexer] = value instead\n",
      "\n",
      "See the caveats in the documentation: https://pandas.pydata.org/pandas-docs/stable/user_guide/indexing.html#returning-a-view-versus-a-copy\n",
      "  df[col_name] = df[col_name].replace(counts.index, range(len(counts)))\n",
      "/mnt/KInsektDaten/teo/./BGR/bgr/soil/datasets.py:35: FutureWarning: Downcasting behavior in `replace` is deprecated and will be removed in a future version. To retain the old behavior, explicitly call `result.infer_objects(copy=False)`. To opt-in to the future behavior, set `pd.set_option('future.no_silent_downcasting', True)`\n",
      "  df[col_name] = df[col_name].replace(counts.index, range(len(counts)))\n",
      "/mnt/KInsektDaten/teo/./BGR/bgr/soil/datasets.py:35: SettingWithCopyWarning: \n",
      "A value is trying to be set on a copy of a slice from a DataFrame.\n",
      "Try using .loc[row_indexer,col_indexer] = value instead\n",
      "\n",
      "See the caveats in the documentation: https://pandas.pydata.org/pandas-docs/stable/user_guide/indexing.html#returning-a-view-versus-a-copy\n",
      "  df[col_name] = df[col_name].replace(counts.index, range(len(counts)))\n",
      "/mnt/KInsektDaten/teo/./BGR/bgr/soil/datasets.py:35: FutureWarning: Downcasting behavior in `replace` is deprecated and will be removed in a future version. To retain the old behavior, explicitly call `result.infer_objects(copy=False)`. To opt-in to the future behavior, set `pd.set_option('future.no_silent_downcasting', True)`\n",
      "  df[col_name] = df[col_name].replace(counts.index, range(len(counts)))\n",
      "/mnt/KInsektDaten/teo/./BGR/bgr/soil/datasets.py:35: SettingWithCopyWarning: \n",
      "A value is trying to be set on a copy of a slice from a DataFrame.\n",
      "Try using .loc[row_indexer,col_indexer] = value instead\n",
      "\n",
      "See the caveats in the documentation: https://pandas.pydata.org/pandas-docs/stable/user_guide/indexing.html#returning-a-view-versus-a-copy\n",
      "  df[col_name] = df[col_name].replace(counts.index, range(len(counts)))\n"
     ]
    },
    {
     "data": {
      "text/plain": "        Point  Obergrenze  Untergrenze  Horizontsymbol_relevant  Bodenart  \\\n0         2.0         0.0         28.0                       22       3.0   \n1         2.0        28.0         54.0                        5       3.0   \n2         2.0        54.0         68.0                       32       3.0   \n3         2.0        68.0         96.0                       62       8.0   \n4         2.0        96.0        201.0                        0       7.0   \n...       ...         ...          ...                      ...       ...   \n16307  6211.0        27.0         50.0                       37       8.0   \n16308  6211.0        50.0         70.0                       12       8.0   \n16309  6211.0        50.0         70.0                       12       8.0   \n16310  6211.0        70.0        100.0                       74       8.0   \n16311  6211.0        70.0        100.0                       74       8.0   \n\n       Bodenfarbe  Steine  Karbonat  Humusgehaltsklasse  Durchwurzelung  \\\n0            24.0     3.0         0                 1.0               4   \n1             0.0     3.0         0                 3.0               3   \n2            20.0    10.0         0                 2.0               3   \n3            72.0     1.0         0                 0.0               1   \n4            37.0     1.0         0                 0.0               0   \n...           ...     ...       ...                 ...             ...   \n16307        68.0     1.0         0                 3.0               3   \n16308        38.0     1.0         0                 2.0               1   \n16309        38.0     1.0         0                 2.0               1   \n16310        19.0     1.0         0                 2.0               6   \n16311        19.0     1.0         0                 2.0               6   \n\n                                                    file  Probenahme_Monat  \\\n0      ../data/BGR/Profilbilder_no_ruler_no_sky/SH_00...                 3   \n1      ../data/BGR/Profilbilder_no_ruler_no_sky/SH_00...                 3   \n2      ../data/BGR/Profilbilder_no_ruler_no_sky/SH_00...                 3   \n3      ../data/BGR/Profilbilder_no_ruler_no_sky/SH_00...                 3   \n4      ../data/BGR/Profilbilder_no_ruler_no_sky/SH_00...                 3   \n...                                                  ...               ...   \n16307  ../data/BGR/Profilbilder_no_ruler_no_sky/NI_62...                10   \n16308  ../data/BGR/Profilbilder_no_ruler_no_sky/NI_62...                10   \n16309  ../data/BGR/Profilbilder_no_ruler_no_sky/NI_62...                10   \n16310  ../data/BGR/Profilbilder_no_ruler_no_sky/NI_62...                10   \n16311  ../data/BGR/Profilbilder_no_ruler_no_sky/NI_62...                10   \n\n       Probenahme_Jahr       xcoord       ycoord  Bodenklimaraum_Name  \\\n0                    4  462216.1283  6079359.775                   37   \n1                    4  462216.1283  6079359.775                   37   \n2                    4  462216.1283  6079359.775                   37   \n3                    4  462216.1283  6079359.775                   37   \n4                    4  462216.1283  6079359.775                   37   \n...                ...          ...          ...                  ...   \n16307                0  522076.9633  5930456.114                   15   \n16308                0  522076.9633  5930456.114                   15   \n16309                0  522076.9633  5930456.114                   15   \n16310                0  522076.9633  5930456.114                   15   \n16311                0  522076.9633  5930456.114                   15   \n\n       Landnutzung  BZE_Moor  Hauptbodentyp  BodenVarTypSub  GrundwaStufe  \\\n0                0         0             15             247           0.0   \n1                0         0             15             247           0.0   \n2                0         0             15             247           0.0   \n3                0         0             15             247           0.0   \n4                0         0             15             247           0.0   \n...            ...       ...            ...             ...           ...   \n16307            1         0              8              42           1.0   \n16308            1         0              8              42           1.0   \n16309            1         0              8              42           1.0   \n16310            1         0              8              42           1.0   \n16311            1         0              8              42           1.0   \n\n       GrundwaStand  Moormaechtigkeit  Torfmaechtigkeit  Neigung  Exposition  \\\n0             200.0               0.0               0.0      0.0         0.0   \n1             200.0               0.0               0.0      0.0         0.0   \n2             200.0               0.0               0.0      0.0         0.0   \n3             200.0               0.0               0.0      0.0         0.0   \n4             200.0               0.0               0.0      0.0         0.0   \n...             ...               ...               ...      ...         ...   \n16307         110.0               0.0               0.0      0.0         0.0   \n16308         110.0               0.0               0.0      0.0         0.0   \n16309         110.0               0.0               0.0      0.0         0.0   \n16310         110.0               0.0               0.0      0.0         0.0   \n16311         110.0               0.0               0.0      0.0         0.0   \n\n       Woelbung  Reliefformtyp  LageImRelief  KV_0_30  KV_30_100  \n0           0.0            1.0           0.0    81.89      54.19  \n1           0.0            1.0           0.0    81.89      54.19  \n2           0.0            1.0           0.0    81.89      54.19  \n3           0.0            1.0           0.0    81.89      54.19  \n4           0.0            1.0           0.0    81.89      54.19  \n...         ...            ...           ...      ...        ...  \n16307       0.0            2.0           5.0   117.59      87.72  \n16308       0.0            2.0           5.0   117.59      87.72  \n16309       0.0            2.0           5.0   117.59      87.72  \n16310       0.0            2.0           5.0   117.59      87.72  \n16311       0.0            2.0           5.0   117.59      87.72  \n\n[13621 rows x 31 columns]",
      "text/html": "<div>\n<style scoped>\n    .dataframe tbody tr th:only-of-type {\n        vertical-align: middle;\n    }\n\n    .dataframe tbody tr th {\n        vertical-align: top;\n    }\n\n    .dataframe thead th {\n        text-align: right;\n    }\n</style>\n<table border=\"1\" class=\"dataframe\">\n  <thead>\n    <tr style=\"text-align: right;\">\n      <th></th>\n      <th>Point</th>\n      <th>Obergrenze</th>\n      <th>Untergrenze</th>\n      <th>Horizontsymbol_relevant</th>\n      <th>Bodenart</th>\n      <th>Bodenfarbe</th>\n      <th>Steine</th>\n      <th>Karbonat</th>\n      <th>Humusgehaltsklasse</th>\n      <th>Durchwurzelung</th>\n      <th>file</th>\n      <th>Probenahme_Monat</th>\n      <th>Probenahme_Jahr</th>\n      <th>xcoord</th>\n      <th>ycoord</th>\n      <th>Bodenklimaraum_Name</th>\n      <th>Landnutzung</th>\n      <th>BZE_Moor</th>\n      <th>Hauptbodentyp</th>\n      <th>BodenVarTypSub</th>\n      <th>GrundwaStufe</th>\n      <th>GrundwaStand</th>\n      <th>Moormaechtigkeit</th>\n      <th>Torfmaechtigkeit</th>\n      <th>Neigung</th>\n      <th>Exposition</th>\n      <th>Woelbung</th>\n      <th>Reliefformtyp</th>\n      <th>LageImRelief</th>\n      <th>KV_0_30</th>\n      <th>KV_30_100</th>\n    </tr>\n  </thead>\n  <tbody>\n    <tr>\n      <th>0</th>\n      <td>2.0</td>\n      <td>0.0</td>\n      <td>28.0</td>\n      <td>22</td>\n      <td>3.0</td>\n      <td>24.0</td>\n      <td>3.0</td>\n      <td>0</td>\n      <td>1.0</td>\n      <td>4</td>\n      <td>../data/BGR/Profilbilder_no_ruler_no_sky/SH_00...</td>\n      <td>3</td>\n      <td>4</td>\n      <td>462216.1283</td>\n      <td>6079359.775</td>\n      <td>37</td>\n      <td>0</td>\n      <td>0</td>\n      <td>15</td>\n      <td>247</td>\n      <td>0.0</td>\n      <td>200.0</td>\n      <td>0.0</td>\n      <td>0.0</td>\n      <td>0.0</td>\n      <td>0.0</td>\n      <td>0.0</td>\n      <td>1.0</td>\n      <td>0.0</td>\n      <td>81.89</td>\n      <td>54.19</td>\n    </tr>\n    <tr>\n      <th>1</th>\n      <td>2.0</td>\n      <td>28.0</td>\n      <td>54.0</td>\n      <td>5</td>\n      <td>3.0</td>\n      <td>0.0</td>\n      <td>3.0</td>\n      <td>0</td>\n      <td>3.0</td>\n      <td>3</td>\n      <td>../data/BGR/Profilbilder_no_ruler_no_sky/SH_00...</td>\n      <td>3</td>\n      <td>4</td>\n      <td>462216.1283</td>\n      <td>6079359.775</td>\n      <td>37</td>\n      <td>0</td>\n      <td>0</td>\n      <td>15</td>\n      <td>247</td>\n      <td>0.0</td>\n      <td>200.0</td>\n      <td>0.0</td>\n      <td>0.0</td>\n      <td>0.0</td>\n      <td>0.0</td>\n      <td>0.0</td>\n      <td>1.0</td>\n      <td>0.0</td>\n      <td>81.89</td>\n      <td>54.19</td>\n    </tr>\n    <tr>\n      <th>2</th>\n      <td>2.0</td>\n      <td>54.0</td>\n      <td>68.0</td>\n      <td>32</td>\n      <td>3.0</td>\n      <td>20.0</td>\n      <td>10.0</td>\n      <td>0</td>\n      <td>2.0</td>\n      <td>3</td>\n      <td>../data/BGR/Profilbilder_no_ruler_no_sky/SH_00...</td>\n      <td>3</td>\n      <td>4</td>\n      <td>462216.1283</td>\n      <td>6079359.775</td>\n      <td>37</td>\n      <td>0</td>\n      <td>0</td>\n      <td>15</td>\n      <td>247</td>\n      <td>0.0</td>\n      <td>200.0</td>\n      <td>0.0</td>\n      <td>0.0</td>\n      <td>0.0</td>\n      <td>0.0</td>\n      <td>0.0</td>\n      <td>1.0</td>\n      <td>0.0</td>\n      <td>81.89</td>\n      <td>54.19</td>\n    </tr>\n    <tr>\n      <th>3</th>\n      <td>2.0</td>\n      <td>68.0</td>\n      <td>96.0</td>\n      <td>62</td>\n      <td>8.0</td>\n      <td>72.0</td>\n      <td>1.0</td>\n      <td>0</td>\n      <td>0.0</td>\n      <td>1</td>\n      <td>../data/BGR/Profilbilder_no_ruler_no_sky/SH_00...</td>\n      <td>3</td>\n      <td>4</td>\n      <td>462216.1283</td>\n      <td>6079359.775</td>\n      <td>37</td>\n      <td>0</td>\n      <td>0</td>\n      <td>15</td>\n      <td>247</td>\n      <td>0.0</td>\n      <td>200.0</td>\n      <td>0.0</td>\n      <td>0.0</td>\n      <td>0.0</td>\n      <td>0.0</td>\n      <td>0.0</td>\n      <td>1.0</td>\n      <td>0.0</td>\n      <td>81.89</td>\n      <td>54.19</td>\n    </tr>\n    <tr>\n      <th>4</th>\n      <td>2.0</td>\n      <td>96.0</td>\n      <td>201.0</td>\n      <td>0</td>\n      <td>7.0</td>\n      <td>37.0</td>\n      <td>1.0</td>\n      <td>0</td>\n      <td>0.0</td>\n      <td>0</td>\n      <td>../data/BGR/Profilbilder_no_ruler_no_sky/SH_00...</td>\n      <td>3</td>\n      <td>4</td>\n      <td>462216.1283</td>\n      <td>6079359.775</td>\n      <td>37</td>\n      <td>0</td>\n      <td>0</td>\n      <td>15</td>\n      <td>247</td>\n      <td>0.0</td>\n      <td>200.0</td>\n      <td>0.0</td>\n      <td>0.0</td>\n      <td>0.0</td>\n      <td>0.0</td>\n      <td>0.0</td>\n      <td>1.0</td>\n      <td>0.0</td>\n      <td>81.89</td>\n      <td>54.19</td>\n    </tr>\n    <tr>\n      <th>...</th>\n      <td>...</td>\n      <td>...</td>\n      <td>...</td>\n      <td>...</td>\n      <td>...</td>\n      <td>...</td>\n      <td>...</td>\n      <td>...</td>\n      <td>...</td>\n      <td>...</td>\n      <td>...</td>\n      <td>...</td>\n      <td>...</td>\n      <td>...</td>\n      <td>...</td>\n      <td>...</td>\n      <td>...</td>\n      <td>...</td>\n      <td>...</td>\n      <td>...</td>\n      <td>...</td>\n      <td>...</td>\n      <td>...</td>\n      <td>...</td>\n      <td>...</td>\n      <td>...</td>\n      <td>...</td>\n      <td>...</td>\n      <td>...</td>\n      <td>...</td>\n      <td>...</td>\n    </tr>\n    <tr>\n      <th>16307</th>\n      <td>6211.0</td>\n      <td>27.0</td>\n      <td>50.0</td>\n      <td>37</td>\n      <td>8.0</td>\n      <td>68.0</td>\n      <td>1.0</td>\n      <td>0</td>\n      <td>3.0</td>\n      <td>3</td>\n      <td>../data/BGR/Profilbilder_no_ruler_no_sky/NI_62...</td>\n      <td>10</td>\n      <td>0</td>\n      <td>522076.9633</td>\n      <td>5930456.114</td>\n      <td>15</td>\n      <td>1</td>\n      <td>0</td>\n      <td>8</td>\n      <td>42</td>\n      <td>1.0</td>\n      <td>110.0</td>\n      <td>0.0</td>\n      <td>0.0</td>\n      <td>0.0</td>\n      <td>0.0</td>\n      <td>0.0</td>\n      <td>2.0</td>\n      <td>5.0</td>\n      <td>117.59</td>\n      <td>87.72</td>\n    </tr>\n    <tr>\n      <th>16308</th>\n      <td>6211.0</td>\n      <td>50.0</td>\n      <td>70.0</td>\n      <td>12</td>\n      <td>8.0</td>\n      <td>38.0</td>\n      <td>1.0</td>\n      <td>0</td>\n      <td>2.0</td>\n      <td>1</td>\n      <td>../data/BGR/Profilbilder_no_ruler_no_sky/NI_62...</td>\n      <td>10</td>\n      <td>0</td>\n      <td>522076.9633</td>\n      <td>5930456.114</td>\n      <td>15</td>\n      <td>1</td>\n      <td>0</td>\n      <td>8</td>\n      <td>42</td>\n      <td>1.0</td>\n      <td>110.0</td>\n      <td>0.0</td>\n      <td>0.0</td>\n      <td>0.0</td>\n      <td>0.0</td>\n      <td>0.0</td>\n      <td>2.0</td>\n      <td>5.0</td>\n      <td>117.59</td>\n      <td>87.72</td>\n    </tr>\n    <tr>\n      <th>16309</th>\n      <td>6211.0</td>\n      <td>50.0</td>\n      <td>70.0</td>\n      <td>12</td>\n      <td>8.0</td>\n      <td>38.0</td>\n      <td>1.0</td>\n      <td>0</td>\n      <td>2.0</td>\n      <td>1</td>\n      <td>../data/BGR/Profilbilder_no_ruler_no_sky/NI_62...</td>\n      <td>10</td>\n      <td>0</td>\n      <td>522076.9633</td>\n      <td>5930456.114</td>\n      <td>15</td>\n      <td>1</td>\n      <td>0</td>\n      <td>8</td>\n      <td>42</td>\n      <td>1.0</td>\n      <td>110.0</td>\n      <td>0.0</td>\n      <td>0.0</td>\n      <td>0.0</td>\n      <td>0.0</td>\n      <td>0.0</td>\n      <td>2.0</td>\n      <td>5.0</td>\n      <td>117.59</td>\n      <td>87.72</td>\n    </tr>\n    <tr>\n      <th>16310</th>\n      <td>6211.0</td>\n      <td>70.0</td>\n      <td>100.0</td>\n      <td>74</td>\n      <td>8.0</td>\n      <td>19.0</td>\n      <td>1.0</td>\n      <td>0</td>\n      <td>2.0</td>\n      <td>6</td>\n      <td>../data/BGR/Profilbilder_no_ruler_no_sky/NI_62...</td>\n      <td>10</td>\n      <td>0</td>\n      <td>522076.9633</td>\n      <td>5930456.114</td>\n      <td>15</td>\n      <td>1</td>\n      <td>0</td>\n      <td>8</td>\n      <td>42</td>\n      <td>1.0</td>\n      <td>110.0</td>\n      <td>0.0</td>\n      <td>0.0</td>\n      <td>0.0</td>\n      <td>0.0</td>\n      <td>0.0</td>\n      <td>2.0</td>\n      <td>5.0</td>\n      <td>117.59</td>\n      <td>87.72</td>\n    </tr>\n    <tr>\n      <th>16311</th>\n      <td>6211.0</td>\n      <td>70.0</td>\n      <td>100.0</td>\n      <td>74</td>\n      <td>8.0</td>\n      <td>19.0</td>\n      <td>1.0</td>\n      <td>0</td>\n      <td>2.0</td>\n      <td>6</td>\n      <td>../data/BGR/Profilbilder_no_ruler_no_sky/NI_62...</td>\n      <td>10</td>\n      <td>0</td>\n      <td>522076.9633</td>\n      <td>5930456.114</td>\n      <td>15</td>\n      <td>1</td>\n      <td>0</td>\n      <td>8</td>\n      <td>42</td>\n      <td>1.0</td>\n      <td>110.0</td>\n      <td>0.0</td>\n      <td>0.0</td>\n      <td>0.0</td>\n      <td>0.0</td>\n      <td>0.0</td>\n      <td>2.0</td>\n      <td>5.0</td>\n      <td>117.59</td>\n      <td>87.72</td>\n    </tr>\n  </tbody>\n</table>\n<p>13621 rows × 31 columns</p>\n</div>"
     },
     "execution_count": 25,
     "metadata": {},
     "output_type": "execute_result"
    }
   ],
   "source": [
    "# Encode categorical features (NaNs are left NaNs)\n",
    "for categ in categ_features:\n",
    "    bgr_data.encode_categorical_columns(df, categ)\n",
    "df"
   ],
   "metadata": {
    "collapsed": false,
    "pycharm": {
     "name": "#%%\n"
    }
   }
  },
  {
   "cell_type": "code",
   "execution_count": 26,
   "outputs": [
    {
     "name": "stdout",
     "output_type": "stream",
     "text": [
      "<class 'pandas.core.frame.DataFrame'>\n",
      "Index: 13621 entries, 0 to 16311\n",
      "Data columns (total 31 columns):\n",
      " #   Column                   Non-Null Count  Dtype  \n",
      "---  ------                   --------------  -----  \n",
      " 0   Point                    13621 non-null  float64\n",
      " 1   Obergrenze               13621 non-null  float64\n",
      " 2   Untergrenze              13621 non-null  float64\n",
      " 3   Horizontsymbol_relevant  13621 non-null  int64  \n",
      " 4   Bodenart                 13589 non-null  float64\n",
      " 5   Bodenfarbe               13572 non-null  float64\n",
      " 6   Steine                   13621 non-null  float64\n",
      " 7   Karbonat                 13621 non-null  int64  \n",
      " 8   Humusgehaltsklasse       13615 non-null  float64\n",
      " 9   Durchwurzelung           13621 non-null  int64  \n",
      " 10  file                     13621 non-null  object \n",
      " 11  Probenahme_Monat         13621 non-null  int64  \n",
      " 12  Probenahme_Jahr          13621 non-null  int64  \n",
      " 13  xcoord                   13621 non-null  float64\n",
      " 14  ycoord                   13621 non-null  float64\n",
      " 15  Bodenklimaraum_Name      13621 non-null  int64  \n",
      " 16  Landnutzung              13621 non-null  int64  \n",
      " 17  BZE_Moor                 13621 non-null  int64  \n",
      " 18  Hauptbodentyp            13621 non-null  int64  \n",
      " 19  BodenVarTypSub           13621 non-null  int64  \n",
      " 20  GrundwaStufe             13609 non-null  float64\n",
      " 21  GrundwaStand             11401 non-null  float64\n",
      " 22  Moormaechtigkeit         13609 non-null  float64\n",
      " 23  Torfmaechtigkeit         13609 non-null  float64\n",
      " 24  Neigung                  13609 non-null  float64\n",
      " 25  Exposition               12901 non-null  float64\n",
      " 26  Woelbung                 13609 non-null  float64\n",
      " 27  Reliefformtyp            13609 non-null  float64\n",
      " 28  LageImRelief             13609 non-null  float64\n",
      " 29  KV_0_30                  13609 non-null  float64\n",
      " 30  KV_30_100                13552 non-null  float64\n",
      "dtypes: float64(20), int64(10), object(1)\n",
      "memory usage: 3.3+ MB\n"
     ]
    }
   ],
   "source": [
    "# Some columns still have NaNs\n",
    "# For now, we are replacing the missing values with the column medians\n",
    "# Any better ideas? In particular the column GrundwaStand has quite a few missing entries...\n",
    "df.info()\n",
    "df = df.fillna(df.median(numeric_only=True))"
   ],
   "metadata": {
    "collapsed": false,
    "pycharm": {
     "name": "#%%\n"
    }
   }
  },
  {
   "cell_type": "code",
   "execution_count": 27,
   "outputs": [
    {
     "data": {
      "text/plain": "3101"
     },
     "execution_count": 27,
     "metadata": {},
     "output_type": "execute_result"
    }
   ],
   "source": [
    "len(df['Point'].unique()) # number of unique images"
   ],
   "metadata": {
    "collapsed": false,
    "pycharm": {
     "name": "#%%\n"
    }
   }
  },
  {
   "cell_type": "markdown",
   "source": [
    "### Training"
   ],
   "metadata": {
    "collapsed": false
   }
  },
  {
   "cell_type": "code",
   "execution_count": 28,
   "outputs": [],
   "source": [
    "# Split variables into different categories according to their roles in the sequential training\n",
    "soil_infos = ['Bodenart', 'Bodenfarbe', 'Steine', 'Karbonat', 'Humusgehaltsklasse', 'Durchwurzelung']#, 'max_depth', 'HorizontID']\n",
    "\n",
    "geotemp_img_infos = [#'Point',\n",
    "                     'Probenahme_Monat', 'Probenahme_Jahr', 'xcoord', 'ycoord', 'Bodenklimaraum_Name', 'Landnutzung', 'BZE_Moor', 'Hauptbodentyp', 'BodenVarTypSub', 'GrundwaStufe', 'GrundwaStand',\n",
    "                     'Moormaechtigkeit', 'Torfmaechtigkeit', 'Neigung', 'Exposition', 'Woelbung', 'Reliefformtyp', 'LageImRelief', 'KV_0_30', 'KV_30_100',\n",
    "                     'file']\n",
    "\n",
    "depth_markers = ['Obergrenze', 'Untergrenze']\n",
    "\n",
    "# horizon symbols already in 'target' (see above)"
   ],
   "metadata": {
    "collapsed": false,
    "pycharm": {
     "name": "#%%\n"
    }
   }
  },
  {
   "cell_type": "code",
   "execution_count": 29,
   "outputs": [
    {
     "data": {
      "text/plain": "      index  Probenahme_Monat  Probenahme_Jahr       xcoord       ycoord  \\\n0         0                 1                7  819021.7488  5941699.083   \n1         1                 1                6  819307.3864  5935183.595   \n2         2                 8                6  826424.5503  5932240.596   \n3         3                 4                6  807568.3913  5926533.227   \n4         4                 1                6  818608.7036  5925050.271   \n...     ...               ...              ...          ...          ...   \n3342   3342                 0                6  648389.8108  5588119.501   \n3343   3343                 0                4  688216.3809  5588885.660   \n3344   3344                 0                4  701551.6557  5587919.679   \n3345   3345                 3                4  653547.6374  5581353.991   \n3346   3346                 4                5  620404.8554  5569180.493   \n\n      Bodenklimaraum_Name  Landnutzung  BZE_Moor  Hauptbodentyp  \\\n0                       7            0         0             12   \n1                       7            0         0             11   \n2                       7            0         0             10   \n3                       7            0         0             12   \n4                       7            0         0              7   \n...                   ...          ...       ...            ...   \n3342                   10            1         0              0   \n3343                   10            0         0              0   \n3344                   10            0         0              0   \n3345                   10            0         0              0   \n3346                   10            0         0              5   \n\n      BodenVarTypSub  GrundwaStufe  GrundwaStand  Moormaechtigkeit  \\\n0                770           0.0         200.0               0.0   \n1                371           0.0         200.0               0.0   \n2                 22           0.0         200.0               0.0   \n3                 44           0.0         200.0               0.0   \n4                413           2.0         200.0               0.0   \n...              ...           ...           ...               ...   \n3342             616           0.0         200.0               0.0   \n3343               9           0.0         200.0               0.0   \n3344               0           0.0         200.0               0.0   \n3345               2           0.0         200.0               0.0   \n3346               3           0.0         200.0               0.0   \n\n      Torfmaechtigkeit  Neigung  Exposition  Woelbung  Reliefformtyp  \\\n0                  0.0      3.0         1.0       1.0            0.0   \n1                  0.0      2.0         2.0       0.0            0.0   \n2                  0.0      3.0         2.0       0.0            0.0   \n3                  0.0      4.0         5.0       2.0           14.0   \n4                  0.0      3.0         5.0       0.0            4.0   \n...                ...      ...         ...       ...            ...   \n3342               0.0      8.0         7.0       7.0            0.0   \n3343               0.0      1.0         4.0       6.0            0.0   \n3344               0.0      6.0         4.0       0.0            0.0   \n3345               0.0      5.0         2.0       0.0            3.0   \n3346               0.0      1.0         3.0       0.0            0.0   \n\n      LageImRelief  KV_0_30  KV_30_100  \\\n0              1.0    38.60      21.42   \n1              3.0    34.91      11.67   \n2              1.0    42.21      34.56   \n3              3.0    37.39      13.22   \n4              1.0    48.47      16.43   \n...            ...      ...        ...   \n3342           3.0    48.82       2.46   \n3343           1.0    69.19      23.61   \n3344           1.0    75.65       9.34   \n3345           5.0    61.72      30.69   \n3346           3.0    80.30      19.58   \n\n                                                   file  \\\n0     ../data/BGR/Profilbilder_no_ruler_no_sky/BB_05...   \n1     ../data/BGR/Profilbilder_no_ruler_no_sky/BB_06...   \n2     ../data/BGR/Profilbilder_no_ruler_no_sky/BB_06...   \n3     ../data/BGR/Profilbilder_no_ruler_no_sky/BB_06...   \n4     ../data/BGR/Profilbilder_no_ruler_no_sky/BB_06...   \n...                                                 ...   \n3342  ../data/BGR/Profilbilder_no_ruler_no_sky/TH_34...   \n3343  ../data/BGR/Profilbilder_no_ruler_no_sky/TH_34...   \n3344  ../data/BGR/Profilbilder_no_ruler_no_sky/TH_34...   \n3345  ../data/BGR/Profilbilder_no_ruler_no_sky/TH_35...   \n3346  ../data/BGR/Profilbilder_no_ruler_no_sky/TH_35...   \n\n                                Untergrenze  \\\n0                 [30.0, 38.0, 50.0, 200.0]   \n1     [29.0, 40.0, 54.0, 60.0, 80.0, 201.0]   \n2                 [28.0, 50.0, 74.0, 110.0]   \n3                 [30.0, 47.0, 73.0, 102.0]   \n4           [33.0, 43.0, 71.0, 88.0, 100.0]   \n...                                     ...   \n3342               [14.0, 40.0, 60.0, 93.0]   \n3343                    [34.0, 69.0, 140.0]   \n3344              [20.0, 27.0, 70.0, 100.0]   \n3345              [31.0, 49.0, 71.0, 144.0]   \n3346                     [27.0, 70.0, 92.0]   \n\n                                Bodenart                          Bodenfarbe  \\\n0                 [3.0, 3.0, 10.0, 12.0]               [1.0, 1.0, 10.0, 5.0]   \n1     [11.0, 11.0, 6.0, 10.0, 3.0, 21.0]  [4.0, 5.0, 29.0, 30.0, 42.0, 75.0]   \n2               [10.0, 11.0, 11.0, 11.0]                [0.0, 0.0, 3.0, 3.0]   \n3                   [2.0, 2.0, 3.0, 3.0]             [0.0, 10.0, 13.0, 16.0]   \n4           [28.0, 7.0, 2.0, 20.0, 10.0]       [0.0, 15.0, 54.0, 44.0, 14.0]   \n...                                  ...                                 ...   \n3342            [15.0, 15.0, 26.0, 26.0]              [6.0, 5.0, 53.0, 53.0]   \n3343                    [4.0, 4.0, 18.0]                    [0.0, 3.0, 10.0]   \n3344            [15.0, 15.0, 15.0, 26.0]               [2.0, 2.0, 3.0, 23.0]   \n3345            [15.0, 15.0, 15.0, 33.0]               [1.0, 7.0, 5.0, 16.0]   \n3346                    [1.0, 12.0, 1.0]                   [6.0, 23.0, 31.0]   \n\n                              Steine            Karbonat  \\\n0               [2.0, 2.0, 4.0, 4.0]        [0, 0, 0, 0]   \n1     [3.0, 3.0, 3.0, 3.0, 3.0, 3.0]  [2, 0, 2, 5, 7, 5]   \n2               [4.0, 4.0, 4.0, 4.0]        [0, 0, 7, 7]   \n3               [4.0, 4.0, 2.0, 2.0]        [0, 0, 0, 0]   \n4          [1.0, 0.0, 0.0, 0.0, 0.0]     [0, 0, 0, 0, 0]   \n...                              ...                 ...   \n3342        [60.0, 75.0, 90.0, 90.0]        [0, 0, 0, 0]   \n3343              [20.0, 30.0, 25.0]           [0, 0, 0]   \n3344        [15.0, 25.0, 60.0, 90.0]        [0, 0, 0, 0]   \n3345          [5.0, 5.0, 20.0, 25.0]        [0, 0, 0, 0]   \n3346               [3.0, 10.0, 30.0]           [3, 4, 4]   \n\n                  Humusgehaltsklasse      Durchwurzelung  \\\n0               [3.0, 3.0, 0.0, 0.0]        [3, 3, 1, 2]   \n1     [1.0, 2.0, 2.0, 2.0, 2.0, 0.0]  [4, 3, 1, 1, 1, 0]   \n2               [1.0, 3.0, 2.0, 0.0]        [4, 3, 3, 1]   \n3               [1.0, 2.0, 0.0, 0.0]        [3, 1, 1, 2]   \n4          [1.0, 2.0, 2.0, 0.0, 0.0]     [3, 0, 0, 0, 0]   \n...                              ...                 ...   \n3342            [1.0, 2.0, 0.0, 0.0]        [5, 3, 1, 2]   \n3343                 [1.0, 2.0, 0.0]           [5, 3, 1]   \n3344            [1.0, 1.0, 2.0, 0.0]        [4, 1, 0, 0]   \n3345            [1.0, 2.0, 0.0, 0.0]        [3, 2, 2, 2]   \n3346                 [1.0, 2.0, 0.0]           [0, 4, 4]   \n\n       Horizontsymbol_relevant  \n0             [22, 22, 73, 76]  \n1     [22, 65, 65, 81, 81, 81]  \n2             [40, 13, 34, 34]  \n3              [22, 1, 69, 78]  \n4           [22, 0, 65, 0, 68]  \n...                        ...  \n3342          [22, 14, 62, 77]  \n3343              [22, 32, 77]  \n3344           [22, 22, 32, 0]  \n3345           [22, 32, 47, 2]  \n3346              [22, 34, 34]  \n\n[3347 rows x 30 columns]",
      "text/html": "<div>\n<style scoped>\n    .dataframe tbody tr th:only-of-type {\n        vertical-align: middle;\n    }\n\n    .dataframe tbody tr th {\n        vertical-align: top;\n    }\n\n    .dataframe thead th {\n        text-align: right;\n    }\n</style>\n<table border=\"1\" class=\"dataframe\">\n  <thead>\n    <tr style=\"text-align: right;\">\n      <th></th>\n      <th>index</th>\n      <th>Probenahme_Monat</th>\n      <th>Probenahme_Jahr</th>\n      <th>xcoord</th>\n      <th>ycoord</th>\n      <th>Bodenklimaraum_Name</th>\n      <th>Landnutzung</th>\n      <th>BZE_Moor</th>\n      <th>Hauptbodentyp</th>\n      <th>BodenVarTypSub</th>\n      <th>GrundwaStufe</th>\n      <th>GrundwaStand</th>\n      <th>Moormaechtigkeit</th>\n      <th>Torfmaechtigkeit</th>\n      <th>Neigung</th>\n      <th>Exposition</th>\n      <th>Woelbung</th>\n      <th>Reliefformtyp</th>\n      <th>LageImRelief</th>\n      <th>KV_0_30</th>\n      <th>KV_30_100</th>\n      <th>file</th>\n      <th>Untergrenze</th>\n      <th>Bodenart</th>\n      <th>Bodenfarbe</th>\n      <th>Steine</th>\n      <th>Karbonat</th>\n      <th>Humusgehaltsklasse</th>\n      <th>Durchwurzelung</th>\n      <th>Horizontsymbol_relevant</th>\n    </tr>\n  </thead>\n  <tbody>\n    <tr>\n      <th>0</th>\n      <td>0</td>\n      <td>1</td>\n      <td>7</td>\n      <td>819021.7488</td>\n      <td>5941699.083</td>\n      <td>7</td>\n      <td>0</td>\n      <td>0</td>\n      <td>12</td>\n      <td>770</td>\n      <td>0.0</td>\n      <td>200.0</td>\n      <td>0.0</td>\n      <td>0.0</td>\n      <td>3.0</td>\n      <td>1.0</td>\n      <td>1.0</td>\n      <td>0.0</td>\n      <td>1.0</td>\n      <td>38.60</td>\n      <td>21.42</td>\n      <td>../data/BGR/Profilbilder_no_ruler_no_sky/BB_05...</td>\n      <td>[30.0, 38.0, 50.0, 200.0]</td>\n      <td>[3.0, 3.0, 10.0, 12.0]</td>\n      <td>[1.0, 1.0, 10.0, 5.0]</td>\n      <td>[2.0, 2.0, 4.0, 4.0]</td>\n      <td>[0, 0, 0, 0]</td>\n      <td>[3.0, 3.0, 0.0, 0.0]</td>\n      <td>[3, 3, 1, 2]</td>\n      <td>[22, 22, 73, 76]</td>\n    </tr>\n    <tr>\n      <th>1</th>\n      <td>1</td>\n      <td>1</td>\n      <td>6</td>\n      <td>819307.3864</td>\n      <td>5935183.595</td>\n      <td>7</td>\n      <td>0</td>\n      <td>0</td>\n      <td>11</td>\n      <td>371</td>\n      <td>0.0</td>\n      <td>200.0</td>\n      <td>0.0</td>\n      <td>0.0</td>\n      <td>2.0</td>\n      <td>2.0</td>\n      <td>0.0</td>\n      <td>0.0</td>\n      <td>3.0</td>\n      <td>34.91</td>\n      <td>11.67</td>\n      <td>../data/BGR/Profilbilder_no_ruler_no_sky/BB_06...</td>\n      <td>[29.0, 40.0, 54.0, 60.0, 80.0, 201.0]</td>\n      <td>[11.0, 11.0, 6.0, 10.0, 3.0, 21.0]</td>\n      <td>[4.0, 5.0, 29.0, 30.0, 42.0, 75.0]</td>\n      <td>[3.0, 3.0, 3.0, 3.0, 3.0, 3.0]</td>\n      <td>[2, 0, 2, 5, 7, 5]</td>\n      <td>[1.0, 2.0, 2.0, 2.0, 2.0, 0.0]</td>\n      <td>[4, 3, 1, 1, 1, 0]</td>\n      <td>[22, 65, 65, 81, 81, 81]</td>\n    </tr>\n    <tr>\n      <th>2</th>\n      <td>2</td>\n      <td>8</td>\n      <td>6</td>\n      <td>826424.5503</td>\n      <td>5932240.596</td>\n      <td>7</td>\n      <td>0</td>\n      <td>0</td>\n      <td>10</td>\n      <td>22</td>\n      <td>0.0</td>\n      <td>200.0</td>\n      <td>0.0</td>\n      <td>0.0</td>\n      <td>3.0</td>\n      <td>2.0</td>\n      <td>0.0</td>\n      <td>0.0</td>\n      <td>1.0</td>\n      <td>42.21</td>\n      <td>34.56</td>\n      <td>../data/BGR/Profilbilder_no_ruler_no_sky/BB_06...</td>\n      <td>[28.0, 50.0, 74.0, 110.0]</td>\n      <td>[10.0, 11.0, 11.0, 11.0]</td>\n      <td>[0.0, 0.0, 3.0, 3.0]</td>\n      <td>[4.0, 4.0, 4.0, 4.0]</td>\n      <td>[0, 0, 7, 7]</td>\n      <td>[1.0, 3.0, 2.0, 0.0]</td>\n      <td>[4, 3, 3, 1]</td>\n      <td>[40, 13, 34, 34]</td>\n    </tr>\n    <tr>\n      <th>3</th>\n      <td>3</td>\n      <td>4</td>\n      <td>6</td>\n      <td>807568.3913</td>\n      <td>5926533.227</td>\n      <td>7</td>\n      <td>0</td>\n      <td>0</td>\n      <td>12</td>\n      <td>44</td>\n      <td>0.0</td>\n      <td>200.0</td>\n      <td>0.0</td>\n      <td>0.0</td>\n      <td>4.0</td>\n      <td>5.0</td>\n      <td>2.0</td>\n      <td>14.0</td>\n      <td>3.0</td>\n      <td>37.39</td>\n      <td>13.22</td>\n      <td>../data/BGR/Profilbilder_no_ruler_no_sky/BB_06...</td>\n      <td>[30.0, 47.0, 73.0, 102.0]</td>\n      <td>[2.0, 2.0, 3.0, 3.0]</td>\n      <td>[0.0, 10.0, 13.0, 16.0]</td>\n      <td>[4.0, 4.0, 2.0, 2.0]</td>\n      <td>[0, 0, 0, 0]</td>\n      <td>[1.0, 2.0, 0.0, 0.0]</td>\n      <td>[3, 1, 1, 2]</td>\n      <td>[22, 1, 69, 78]</td>\n    </tr>\n    <tr>\n      <th>4</th>\n      <td>4</td>\n      <td>1</td>\n      <td>6</td>\n      <td>818608.7036</td>\n      <td>5925050.271</td>\n      <td>7</td>\n      <td>0</td>\n      <td>0</td>\n      <td>7</td>\n      <td>413</td>\n      <td>2.0</td>\n      <td>200.0</td>\n      <td>0.0</td>\n      <td>0.0</td>\n      <td>3.0</td>\n      <td>5.0</td>\n      <td>0.0</td>\n      <td>4.0</td>\n      <td>1.0</td>\n      <td>48.47</td>\n      <td>16.43</td>\n      <td>../data/BGR/Profilbilder_no_ruler_no_sky/BB_06...</td>\n      <td>[33.0, 43.0, 71.0, 88.0, 100.0]</td>\n      <td>[28.0, 7.0, 2.0, 20.0, 10.0]</td>\n      <td>[0.0, 15.0, 54.0, 44.0, 14.0]</td>\n      <td>[1.0, 0.0, 0.0, 0.0, 0.0]</td>\n      <td>[0, 0, 0, 0, 0]</td>\n      <td>[1.0, 2.0, 2.0, 0.0, 0.0]</td>\n      <td>[3, 0, 0, 0, 0]</td>\n      <td>[22, 0, 65, 0, 68]</td>\n    </tr>\n    <tr>\n      <th>...</th>\n      <td>...</td>\n      <td>...</td>\n      <td>...</td>\n      <td>...</td>\n      <td>...</td>\n      <td>...</td>\n      <td>...</td>\n      <td>...</td>\n      <td>...</td>\n      <td>...</td>\n      <td>...</td>\n      <td>...</td>\n      <td>...</td>\n      <td>...</td>\n      <td>...</td>\n      <td>...</td>\n      <td>...</td>\n      <td>...</td>\n      <td>...</td>\n      <td>...</td>\n      <td>...</td>\n      <td>...</td>\n      <td>...</td>\n      <td>...</td>\n      <td>...</td>\n      <td>...</td>\n      <td>...</td>\n      <td>...</td>\n      <td>...</td>\n      <td>...</td>\n    </tr>\n    <tr>\n      <th>3342</th>\n      <td>3342</td>\n      <td>0</td>\n      <td>6</td>\n      <td>648389.8108</td>\n      <td>5588119.501</td>\n      <td>10</td>\n      <td>1</td>\n      <td>0</td>\n      <td>0</td>\n      <td>616</td>\n      <td>0.0</td>\n      <td>200.0</td>\n      <td>0.0</td>\n      <td>0.0</td>\n      <td>8.0</td>\n      <td>7.0</td>\n      <td>7.0</td>\n      <td>0.0</td>\n      <td>3.0</td>\n      <td>48.82</td>\n      <td>2.46</td>\n      <td>../data/BGR/Profilbilder_no_ruler_no_sky/TH_34...</td>\n      <td>[14.0, 40.0, 60.0, 93.0]</td>\n      <td>[15.0, 15.0, 26.0, 26.0]</td>\n      <td>[6.0, 5.0, 53.0, 53.0]</td>\n      <td>[60.0, 75.0, 90.0, 90.0]</td>\n      <td>[0, 0, 0, 0]</td>\n      <td>[1.0, 2.0, 0.0, 0.0]</td>\n      <td>[5, 3, 1, 2]</td>\n      <td>[22, 14, 62, 77]</td>\n    </tr>\n    <tr>\n      <th>3343</th>\n      <td>3343</td>\n      <td>0</td>\n      <td>4</td>\n      <td>688216.3809</td>\n      <td>5588885.660</td>\n      <td>10</td>\n      <td>0</td>\n      <td>0</td>\n      <td>0</td>\n      <td>9</td>\n      <td>0.0</td>\n      <td>200.0</td>\n      <td>0.0</td>\n      <td>0.0</td>\n      <td>1.0</td>\n      <td>4.0</td>\n      <td>6.0</td>\n      <td>0.0</td>\n      <td>1.0</td>\n      <td>69.19</td>\n      <td>23.61</td>\n      <td>../data/BGR/Profilbilder_no_ruler_no_sky/TH_34...</td>\n      <td>[34.0, 69.0, 140.0]</td>\n      <td>[4.0, 4.0, 18.0]</td>\n      <td>[0.0, 3.0, 10.0]</td>\n      <td>[20.0, 30.0, 25.0]</td>\n      <td>[0, 0, 0]</td>\n      <td>[1.0, 2.0, 0.0]</td>\n      <td>[5, 3, 1]</td>\n      <td>[22, 32, 77]</td>\n    </tr>\n    <tr>\n      <th>3344</th>\n      <td>3344</td>\n      <td>0</td>\n      <td>4</td>\n      <td>701551.6557</td>\n      <td>5587919.679</td>\n      <td>10</td>\n      <td>0</td>\n      <td>0</td>\n      <td>0</td>\n      <td>0</td>\n      <td>0.0</td>\n      <td>200.0</td>\n      <td>0.0</td>\n      <td>0.0</td>\n      <td>6.0</td>\n      <td>4.0</td>\n      <td>0.0</td>\n      <td>0.0</td>\n      <td>1.0</td>\n      <td>75.65</td>\n      <td>9.34</td>\n      <td>../data/BGR/Profilbilder_no_ruler_no_sky/TH_34...</td>\n      <td>[20.0, 27.0, 70.0, 100.0]</td>\n      <td>[15.0, 15.0, 15.0, 26.0]</td>\n      <td>[2.0, 2.0, 3.0, 23.0]</td>\n      <td>[15.0, 25.0, 60.0, 90.0]</td>\n      <td>[0, 0, 0, 0]</td>\n      <td>[1.0, 1.0, 2.0, 0.0]</td>\n      <td>[4, 1, 0, 0]</td>\n      <td>[22, 22, 32, 0]</td>\n    </tr>\n    <tr>\n      <th>3345</th>\n      <td>3345</td>\n      <td>3</td>\n      <td>4</td>\n      <td>653547.6374</td>\n      <td>5581353.991</td>\n      <td>10</td>\n      <td>0</td>\n      <td>0</td>\n      <td>0</td>\n      <td>2</td>\n      <td>0.0</td>\n      <td>200.0</td>\n      <td>0.0</td>\n      <td>0.0</td>\n      <td>5.0</td>\n      <td>2.0</td>\n      <td>0.0</td>\n      <td>3.0</td>\n      <td>5.0</td>\n      <td>61.72</td>\n      <td>30.69</td>\n      <td>../data/BGR/Profilbilder_no_ruler_no_sky/TH_35...</td>\n      <td>[31.0, 49.0, 71.0, 144.0]</td>\n      <td>[15.0, 15.0, 15.0, 33.0]</td>\n      <td>[1.0, 7.0, 5.0, 16.0]</td>\n      <td>[5.0, 5.0, 20.0, 25.0]</td>\n      <td>[0, 0, 0, 0]</td>\n      <td>[1.0, 2.0, 0.0, 0.0]</td>\n      <td>[3, 2, 2, 2]</td>\n      <td>[22, 32, 47, 2]</td>\n    </tr>\n    <tr>\n      <th>3346</th>\n      <td>3346</td>\n      <td>4</td>\n      <td>5</td>\n      <td>620404.8554</td>\n      <td>5569180.493</td>\n      <td>10</td>\n      <td>0</td>\n      <td>0</td>\n      <td>5</td>\n      <td>3</td>\n      <td>0.0</td>\n      <td>200.0</td>\n      <td>0.0</td>\n      <td>0.0</td>\n      <td>1.0</td>\n      <td>3.0</td>\n      <td>0.0</td>\n      <td>0.0</td>\n      <td>3.0</td>\n      <td>80.30</td>\n      <td>19.58</td>\n      <td>../data/BGR/Profilbilder_no_ruler_no_sky/TH_35...</td>\n      <td>[27.0, 70.0, 92.0]</td>\n      <td>[1.0, 12.0, 1.0]</td>\n      <td>[6.0, 23.0, 31.0]</td>\n      <td>[3.0, 10.0, 30.0]</td>\n      <td>[3, 4, 4]</td>\n      <td>[1.0, 2.0, 0.0]</td>\n      <td>[0, 4, 4]</td>\n      <td>[22, 34, 34]</td>\n    </tr>\n  </tbody>\n</table>\n<p>3347 rows × 30 columns</p>\n</div>"
     },
     "execution_count": 29,
     "metadata": {},
     "output_type": "execute_result"
    }
   ],
   "source": [
    "# The dataframe has one row per horizon\n",
    "# For sequential training, make it one row per full image (the depth markers and the morphological features will be stored as lists and used later as ground truth in training)\n",
    "df = df.groupby('file', as_index=False).agg({     # Group by images, not by Point, since there are sometimes several images (different angles) for the same Point\n",
    "    **{gt: 'first' for gt in geotemp_img_infos},  # Take the first value (all are the same for each image, including the image path)\n",
    "    'Untergrenze': list,                          # Combine depth markers into a list (only lower bound Untergrenze actually needed)\n",
    "    **{st: list for st in soil_infos},            # Combine tabular features into lists (in the order of the horizons top to bottom)\n",
    "    target: list\n",
    "}).reset_index()\n",
    "geotemp_img_infos = ['index'] + geotemp_img_infos # Add the new index column\n",
    "                                                  # Used only for accessing the morphological features in the dataframe\n",
    "                                                  # (they have different shapes and cannot be stacked in tensor batches)\n",
    "df"
   ],
   "metadata": {
    "collapsed": false,
    "pycharm": {
     "name": "#%%\n"
    }
   }
  },
  {
   "cell_type": "code",
   "execution_count": 30,
   "outputs": [
    {
     "data": {
      "text/plain": "      index  Probenahme_Monat  Probenahme_Jahr       xcoord       ycoord  \\\n0         0                 1                7  819021.7488  5941699.083   \n1         1                 1                6  819307.3864  5935183.595   \n2         2                 8                6  826424.5503  5932240.596   \n3         3                 4                6  807568.3913  5926533.227   \n4         4                 1                6  818608.7036  5925050.271   \n...     ...               ...              ...          ...          ...   \n3342   3342                 0                6  648389.8108  5588119.501   \n3343   3343                 0                4  688216.3809  5588885.660   \n3344   3344                 0                4  701551.6557  5587919.679   \n3345   3345                 3                4  653547.6374  5581353.991   \n3346   3346                 4                5  620404.8554  5569180.493   \n\n      Bodenklimaraum_Name  Landnutzung  BZE_Moor  Hauptbodentyp  \\\n0                       7            0         0             12   \n1                       7            0         0             11   \n2                       7            0         0             10   \n3                       7            0         0             12   \n4                       7            0         0              7   \n...                   ...          ...       ...            ...   \n3342                   10            1         0              0   \n3343                   10            0         0              0   \n3344                   10            0         0              0   \n3345                   10            0         0              0   \n3346                   10            0         0              5   \n\n      BodenVarTypSub  GrundwaStufe  GrundwaStand  Moormaechtigkeit  \\\n0                770           0.0         200.0               0.0   \n1                371           0.0         200.0               0.0   \n2                 22           0.0         200.0               0.0   \n3                 44           0.0         200.0               0.0   \n4                413           2.0         200.0               0.0   \n...              ...           ...           ...               ...   \n3342             616           0.0         200.0               0.0   \n3343               9           0.0         200.0               0.0   \n3344               0           0.0         200.0               0.0   \n3345               2           0.0         200.0               0.0   \n3346               3           0.0         200.0               0.0   \n\n      Torfmaechtigkeit  Neigung  Exposition  Woelbung  Reliefformtyp  \\\n0                  0.0      3.0         1.0       1.0            0.0   \n1                  0.0      2.0         2.0       0.0            0.0   \n2                  0.0      3.0         2.0       0.0            0.0   \n3                  0.0      4.0         5.0       2.0           14.0   \n4                  0.0      3.0         5.0       0.0            4.0   \n...                ...      ...         ...       ...            ...   \n3342               0.0      8.0         7.0       7.0            0.0   \n3343               0.0      1.0         4.0       6.0            0.0   \n3344               0.0      6.0         4.0       0.0            0.0   \n3345               0.0      5.0         2.0       0.0            3.0   \n3346               0.0      1.0         3.0       0.0            0.0   \n\n      LageImRelief  KV_0_30  KV_30_100  \\\n0              1.0    38.60      21.42   \n1              3.0    34.91      11.67   \n2              1.0    42.21      34.56   \n3              3.0    37.39      13.22   \n4              1.0    48.47      16.43   \n...            ...      ...        ...   \n3342           3.0    48.82       2.46   \n3343           1.0    69.19      23.61   \n3344           1.0    75.65       9.34   \n3345           5.0    61.72      30.69   \n3346           3.0    80.30      19.58   \n\n                                                   file  \\\n0     ../data/BGR/Profilbilder_no_ruler_no_sky/BB_05...   \n1     ../data/BGR/Profilbilder_no_ruler_no_sky/BB_06...   \n2     ../data/BGR/Profilbilder_no_ruler_no_sky/BB_06...   \n3     ../data/BGR/Profilbilder_no_ruler_no_sky/BB_06...   \n4     ../data/BGR/Profilbilder_no_ruler_no_sky/BB_06...   \n...                                                 ...   \n3342  ../data/BGR/Profilbilder_no_ruler_no_sky/TH_34...   \n3343  ../data/BGR/Profilbilder_no_ruler_no_sky/TH_34...   \n3344  ../data/BGR/Profilbilder_no_ruler_no_sky/TH_34...   \n3345  ../data/BGR/Profilbilder_no_ruler_no_sky/TH_35...   \n3346  ../data/BGR/Profilbilder_no_ruler_no_sky/TH_35...   \n\n                           Untergrenze                            Bodenart  \\\n0                [0.3, 0.38, 0.5, 1.0]              [3.0, 3.0, 10.0, 12.0]   \n1     [0.29, 0.4, 0.54, 0.6, 0.8, 1.0]  [11.0, 11.0, 6.0, 10.0, 3.0, 21.0]   \n2               [0.28, 0.5, 0.74, 1.0]            [10.0, 11.0, 11.0, 11.0]   \n3               [0.3, 0.47, 0.73, 1.0]                [2.0, 2.0, 3.0, 3.0]   \n4        [0.33, 0.43, 0.71, 0.88, 1.0]        [28.0, 7.0, 2.0, 20.0, 10.0]   \n...                                ...                                 ...   \n3342             [0.14, 0.4, 0.6, 1.0]            [15.0, 15.0, 26.0, 26.0]   \n3343                 [0.34, 0.69, 1.0]                    [4.0, 4.0, 18.0]   \n3344             [0.2, 0.27, 0.7, 1.0]            [15.0, 15.0, 15.0, 26.0]   \n3345           [0.31, 0.49, 0.71, 1.0]            [15.0, 15.0, 15.0, 33.0]   \n3346                  [0.27, 0.7, 1.0]                    [1.0, 12.0, 1.0]   \n\n                              Bodenfarbe                          Steine  \\\n0                  [1.0, 1.0, 10.0, 5.0]            [2.0, 2.0, 4.0, 4.0]   \n1     [4.0, 5.0, 29.0, 30.0, 42.0, 75.0]  [3.0, 3.0, 3.0, 3.0, 3.0, 3.0]   \n2                   [0.0, 0.0, 3.0, 3.0]            [4.0, 4.0, 4.0, 4.0]   \n3                [0.0, 10.0, 13.0, 16.0]            [4.0, 4.0, 2.0, 2.0]   \n4          [0.0, 15.0, 54.0, 44.0, 14.0]       [1.0, 0.0, 0.0, 0.0, 0.0]   \n...                                  ...                             ...   \n3342              [6.0, 5.0, 53.0, 53.0]        [60.0, 75.0, 90.0, 90.0]   \n3343                    [0.0, 3.0, 10.0]              [20.0, 30.0, 25.0]   \n3344               [2.0, 2.0, 3.0, 23.0]        [15.0, 25.0, 60.0, 90.0]   \n3345               [1.0, 7.0, 5.0, 16.0]          [5.0, 5.0, 20.0, 25.0]   \n3346                   [6.0, 23.0, 31.0]               [3.0, 10.0, 30.0]   \n\n                Karbonat              Humusgehaltsklasse      Durchwurzelung  \\\n0           [0, 0, 0, 0]            [3.0, 3.0, 0.0, 0.0]        [3, 3, 1, 2]   \n1     [2, 0, 2, 5, 7, 5]  [1.0, 2.0, 2.0, 2.0, 2.0, 0.0]  [4, 3, 1, 1, 1, 0]   \n2           [0, 0, 7, 7]            [1.0, 3.0, 2.0, 0.0]        [4, 3, 3, 1]   \n3           [0, 0, 0, 0]            [1.0, 2.0, 0.0, 0.0]        [3, 1, 1, 2]   \n4        [0, 0, 0, 0, 0]       [1.0, 2.0, 2.0, 0.0, 0.0]     [3, 0, 0, 0, 0]   \n...                  ...                             ...                 ...   \n3342        [0, 0, 0, 0]            [1.0, 2.0, 0.0, 0.0]        [5, 3, 1, 2]   \n3343           [0, 0, 0]                 [1.0, 2.0, 0.0]           [5, 3, 1]   \n3344        [0, 0, 0, 0]            [1.0, 1.0, 2.0, 0.0]        [4, 1, 0, 0]   \n3345        [0, 0, 0, 0]            [1.0, 2.0, 0.0, 0.0]        [3, 2, 2, 2]   \n3346           [3, 4, 4]                 [1.0, 2.0, 0.0]           [0, 4, 4]   \n\n       Horizontsymbol_relevant  \n0             [22, 22, 73, 76]  \n1     [22, 65, 65, 81, 81, 81]  \n2             [40, 13, 34, 34]  \n3              [22, 1, 69, 78]  \n4           [22, 0, 65, 0, 68]  \n...                        ...  \n3342          [22, 14, 62, 77]  \n3343              [22, 32, 77]  \n3344           [22, 22, 32, 0]  \n3345           [22, 32, 47, 2]  \n3346              [22, 34, 34]  \n\n[3347 rows x 30 columns]",
      "text/html": "<div>\n<style scoped>\n    .dataframe tbody tr th:only-of-type {\n        vertical-align: middle;\n    }\n\n    .dataframe tbody tr th {\n        vertical-align: top;\n    }\n\n    .dataframe thead th {\n        text-align: right;\n    }\n</style>\n<table border=\"1\" class=\"dataframe\">\n  <thead>\n    <tr style=\"text-align: right;\">\n      <th></th>\n      <th>index</th>\n      <th>Probenahme_Monat</th>\n      <th>Probenahme_Jahr</th>\n      <th>xcoord</th>\n      <th>ycoord</th>\n      <th>Bodenklimaraum_Name</th>\n      <th>Landnutzung</th>\n      <th>BZE_Moor</th>\n      <th>Hauptbodentyp</th>\n      <th>BodenVarTypSub</th>\n      <th>GrundwaStufe</th>\n      <th>GrundwaStand</th>\n      <th>Moormaechtigkeit</th>\n      <th>Torfmaechtigkeit</th>\n      <th>Neigung</th>\n      <th>Exposition</th>\n      <th>Woelbung</th>\n      <th>Reliefformtyp</th>\n      <th>LageImRelief</th>\n      <th>KV_0_30</th>\n      <th>KV_30_100</th>\n      <th>file</th>\n      <th>Untergrenze</th>\n      <th>Bodenart</th>\n      <th>Bodenfarbe</th>\n      <th>Steine</th>\n      <th>Karbonat</th>\n      <th>Humusgehaltsklasse</th>\n      <th>Durchwurzelung</th>\n      <th>Horizontsymbol_relevant</th>\n    </tr>\n  </thead>\n  <tbody>\n    <tr>\n      <th>0</th>\n      <td>0</td>\n      <td>1</td>\n      <td>7</td>\n      <td>819021.7488</td>\n      <td>5941699.083</td>\n      <td>7</td>\n      <td>0</td>\n      <td>0</td>\n      <td>12</td>\n      <td>770</td>\n      <td>0.0</td>\n      <td>200.0</td>\n      <td>0.0</td>\n      <td>0.0</td>\n      <td>3.0</td>\n      <td>1.0</td>\n      <td>1.0</td>\n      <td>0.0</td>\n      <td>1.0</td>\n      <td>38.60</td>\n      <td>21.42</td>\n      <td>../data/BGR/Profilbilder_no_ruler_no_sky/BB_05...</td>\n      <td>[0.3, 0.38, 0.5, 1.0]</td>\n      <td>[3.0, 3.0, 10.0, 12.0]</td>\n      <td>[1.0, 1.0, 10.0, 5.0]</td>\n      <td>[2.0, 2.0, 4.0, 4.0]</td>\n      <td>[0, 0, 0, 0]</td>\n      <td>[3.0, 3.0, 0.0, 0.0]</td>\n      <td>[3, 3, 1, 2]</td>\n      <td>[22, 22, 73, 76]</td>\n    </tr>\n    <tr>\n      <th>1</th>\n      <td>1</td>\n      <td>1</td>\n      <td>6</td>\n      <td>819307.3864</td>\n      <td>5935183.595</td>\n      <td>7</td>\n      <td>0</td>\n      <td>0</td>\n      <td>11</td>\n      <td>371</td>\n      <td>0.0</td>\n      <td>200.0</td>\n      <td>0.0</td>\n      <td>0.0</td>\n      <td>2.0</td>\n      <td>2.0</td>\n      <td>0.0</td>\n      <td>0.0</td>\n      <td>3.0</td>\n      <td>34.91</td>\n      <td>11.67</td>\n      <td>../data/BGR/Profilbilder_no_ruler_no_sky/BB_06...</td>\n      <td>[0.29, 0.4, 0.54, 0.6, 0.8, 1.0]</td>\n      <td>[11.0, 11.0, 6.0, 10.0, 3.0, 21.0]</td>\n      <td>[4.0, 5.0, 29.0, 30.0, 42.0, 75.0]</td>\n      <td>[3.0, 3.0, 3.0, 3.0, 3.0, 3.0]</td>\n      <td>[2, 0, 2, 5, 7, 5]</td>\n      <td>[1.0, 2.0, 2.0, 2.0, 2.0, 0.0]</td>\n      <td>[4, 3, 1, 1, 1, 0]</td>\n      <td>[22, 65, 65, 81, 81, 81]</td>\n    </tr>\n    <tr>\n      <th>2</th>\n      <td>2</td>\n      <td>8</td>\n      <td>6</td>\n      <td>826424.5503</td>\n      <td>5932240.596</td>\n      <td>7</td>\n      <td>0</td>\n      <td>0</td>\n      <td>10</td>\n      <td>22</td>\n      <td>0.0</td>\n      <td>200.0</td>\n      <td>0.0</td>\n      <td>0.0</td>\n      <td>3.0</td>\n      <td>2.0</td>\n      <td>0.0</td>\n      <td>0.0</td>\n      <td>1.0</td>\n      <td>42.21</td>\n      <td>34.56</td>\n      <td>../data/BGR/Profilbilder_no_ruler_no_sky/BB_06...</td>\n      <td>[0.28, 0.5, 0.74, 1.0]</td>\n      <td>[10.0, 11.0, 11.0, 11.0]</td>\n      <td>[0.0, 0.0, 3.0, 3.0]</td>\n      <td>[4.0, 4.0, 4.0, 4.0]</td>\n      <td>[0, 0, 7, 7]</td>\n      <td>[1.0, 3.0, 2.0, 0.0]</td>\n      <td>[4, 3, 3, 1]</td>\n      <td>[40, 13, 34, 34]</td>\n    </tr>\n    <tr>\n      <th>3</th>\n      <td>3</td>\n      <td>4</td>\n      <td>6</td>\n      <td>807568.3913</td>\n      <td>5926533.227</td>\n      <td>7</td>\n      <td>0</td>\n      <td>0</td>\n      <td>12</td>\n      <td>44</td>\n      <td>0.0</td>\n      <td>200.0</td>\n      <td>0.0</td>\n      <td>0.0</td>\n      <td>4.0</td>\n      <td>5.0</td>\n      <td>2.0</td>\n      <td>14.0</td>\n      <td>3.0</td>\n      <td>37.39</td>\n      <td>13.22</td>\n      <td>../data/BGR/Profilbilder_no_ruler_no_sky/BB_06...</td>\n      <td>[0.3, 0.47, 0.73, 1.0]</td>\n      <td>[2.0, 2.0, 3.0, 3.0]</td>\n      <td>[0.0, 10.0, 13.0, 16.0]</td>\n      <td>[4.0, 4.0, 2.0, 2.0]</td>\n      <td>[0, 0, 0, 0]</td>\n      <td>[1.0, 2.0, 0.0, 0.0]</td>\n      <td>[3, 1, 1, 2]</td>\n      <td>[22, 1, 69, 78]</td>\n    </tr>\n    <tr>\n      <th>4</th>\n      <td>4</td>\n      <td>1</td>\n      <td>6</td>\n      <td>818608.7036</td>\n      <td>5925050.271</td>\n      <td>7</td>\n      <td>0</td>\n      <td>0</td>\n      <td>7</td>\n      <td>413</td>\n      <td>2.0</td>\n      <td>200.0</td>\n      <td>0.0</td>\n      <td>0.0</td>\n      <td>3.0</td>\n      <td>5.0</td>\n      <td>0.0</td>\n      <td>4.0</td>\n      <td>1.0</td>\n      <td>48.47</td>\n      <td>16.43</td>\n      <td>../data/BGR/Profilbilder_no_ruler_no_sky/BB_06...</td>\n      <td>[0.33, 0.43, 0.71, 0.88, 1.0]</td>\n      <td>[28.0, 7.0, 2.0, 20.0, 10.0]</td>\n      <td>[0.0, 15.0, 54.0, 44.0, 14.0]</td>\n      <td>[1.0, 0.0, 0.0, 0.0, 0.0]</td>\n      <td>[0, 0, 0, 0, 0]</td>\n      <td>[1.0, 2.0, 2.0, 0.0, 0.0]</td>\n      <td>[3, 0, 0, 0, 0]</td>\n      <td>[22, 0, 65, 0, 68]</td>\n    </tr>\n    <tr>\n      <th>...</th>\n      <td>...</td>\n      <td>...</td>\n      <td>...</td>\n      <td>...</td>\n      <td>...</td>\n      <td>...</td>\n      <td>...</td>\n      <td>...</td>\n      <td>...</td>\n      <td>...</td>\n      <td>...</td>\n      <td>...</td>\n      <td>...</td>\n      <td>...</td>\n      <td>...</td>\n      <td>...</td>\n      <td>...</td>\n      <td>...</td>\n      <td>...</td>\n      <td>...</td>\n      <td>...</td>\n      <td>...</td>\n      <td>...</td>\n      <td>...</td>\n      <td>...</td>\n      <td>...</td>\n      <td>...</td>\n      <td>...</td>\n      <td>...</td>\n      <td>...</td>\n    </tr>\n    <tr>\n      <th>3342</th>\n      <td>3342</td>\n      <td>0</td>\n      <td>6</td>\n      <td>648389.8108</td>\n      <td>5588119.501</td>\n      <td>10</td>\n      <td>1</td>\n      <td>0</td>\n      <td>0</td>\n      <td>616</td>\n      <td>0.0</td>\n      <td>200.0</td>\n      <td>0.0</td>\n      <td>0.0</td>\n      <td>8.0</td>\n      <td>7.0</td>\n      <td>7.0</td>\n      <td>0.0</td>\n      <td>3.0</td>\n      <td>48.82</td>\n      <td>2.46</td>\n      <td>../data/BGR/Profilbilder_no_ruler_no_sky/TH_34...</td>\n      <td>[0.14, 0.4, 0.6, 1.0]</td>\n      <td>[15.0, 15.0, 26.0, 26.0]</td>\n      <td>[6.0, 5.0, 53.0, 53.0]</td>\n      <td>[60.0, 75.0, 90.0, 90.0]</td>\n      <td>[0, 0, 0, 0]</td>\n      <td>[1.0, 2.0, 0.0, 0.0]</td>\n      <td>[5, 3, 1, 2]</td>\n      <td>[22, 14, 62, 77]</td>\n    </tr>\n    <tr>\n      <th>3343</th>\n      <td>3343</td>\n      <td>0</td>\n      <td>4</td>\n      <td>688216.3809</td>\n      <td>5588885.660</td>\n      <td>10</td>\n      <td>0</td>\n      <td>0</td>\n      <td>0</td>\n      <td>9</td>\n      <td>0.0</td>\n      <td>200.0</td>\n      <td>0.0</td>\n      <td>0.0</td>\n      <td>1.0</td>\n      <td>4.0</td>\n      <td>6.0</td>\n      <td>0.0</td>\n      <td>1.0</td>\n      <td>69.19</td>\n      <td>23.61</td>\n      <td>../data/BGR/Profilbilder_no_ruler_no_sky/TH_34...</td>\n      <td>[0.34, 0.69, 1.0]</td>\n      <td>[4.0, 4.0, 18.0]</td>\n      <td>[0.0, 3.0, 10.0]</td>\n      <td>[20.0, 30.0, 25.0]</td>\n      <td>[0, 0, 0]</td>\n      <td>[1.0, 2.0, 0.0]</td>\n      <td>[5, 3, 1]</td>\n      <td>[22, 32, 77]</td>\n    </tr>\n    <tr>\n      <th>3344</th>\n      <td>3344</td>\n      <td>0</td>\n      <td>4</td>\n      <td>701551.6557</td>\n      <td>5587919.679</td>\n      <td>10</td>\n      <td>0</td>\n      <td>0</td>\n      <td>0</td>\n      <td>0</td>\n      <td>0.0</td>\n      <td>200.0</td>\n      <td>0.0</td>\n      <td>0.0</td>\n      <td>6.0</td>\n      <td>4.0</td>\n      <td>0.0</td>\n      <td>0.0</td>\n      <td>1.0</td>\n      <td>75.65</td>\n      <td>9.34</td>\n      <td>../data/BGR/Profilbilder_no_ruler_no_sky/TH_34...</td>\n      <td>[0.2, 0.27, 0.7, 1.0]</td>\n      <td>[15.0, 15.0, 15.0, 26.0]</td>\n      <td>[2.0, 2.0, 3.0, 23.0]</td>\n      <td>[15.0, 25.0, 60.0, 90.0]</td>\n      <td>[0, 0, 0, 0]</td>\n      <td>[1.0, 1.0, 2.0, 0.0]</td>\n      <td>[4, 1, 0, 0]</td>\n      <td>[22, 22, 32, 0]</td>\n    </tr>\n    <tr>\n      <th>3345</th>\n      <td>3345</td>\n      <td>3</td>\n      <td>4</td>\n      <td>653547.6374</td>\n      <td>5581353.991</td>\n      <td>10</td>\n      <td>0</td>\n      <td>0</td>\n      <td>0</td>\n      <td>2</td>\n      <td>0.0</td>\n      <td>200.0</td>\n      <td>0.0</td>\n      <td>0.0</td>\n      <td>5.0</td>\n      <td>2.0</td>\n      <td>0.0</td>\n      <td>3.0</td>\n      <td>5.0</td>\n      <td>61.72</td>\n      <td>30.69</td>\n      <td>../data/BGR/Profilbilder_no_ruler_no_sky/TH_35...</td>\n      <td>[0.31, 0.49, 0.71, 1.0]</td>\n      <td>[15.0, 15.0, 15.0, 33.0]</td>\n      <td>[1.0, 7.0, 5.0, 16.0]</td>\n      <td>[5.0, 5.0, 20.0, 25.0]</td>\n      <td>[0, 0, 0, 0]</td>\n      <td>[1.0, 2.0, 0.0, 0.0]</td>\n      <td>[3, 2, 2, 2]</td>\n      <td>[22, 32, 47, 2]</td>\n    </tr>\n    <tr>\n      <th>3346</th>\n      <td>3346</td>\n      <td>4</td>\n      <td>5</td>\n      <td>620404.8554</td>\n      <td>5569180.493</td>\n      <td>10</td>\n      <td>0</td>\n      <td>0</td>\n      <td>5</td>\n      <td>3</td>\n      <td>0.0</td>\n      <td>200.0</td>\n      <td>0.0</td>\n      <td>0.0</td>\n      <td>1.0</td>\n      <td>3.0</td>\n      <td>0.0</td>\n      <td>0.0</td>\n      <td>3.0</td>\n      <td>80.30</td>\n      <td>19.58</td>\n      <td>../data/BGR/Profilbilder_no_ruler_no_sky/TH_35...</td>\n      <td>[0.27, 0.7, 1.0]</td>\n      <td>[1.0, 12.0, 1.0]</td>\n      <td>[6.0, 23.0, 31.0]</td>\n      <td>[3.0, 10.0, 30.0]</td>\n      <td>[3, 4, 4]</td>\n      <td>[1.0, 2.0, 0.0]</td>\n      <td>[0, 4, 4]</td>\n      <td>[22, 34, 34]</td>\n    </tr>\n  </tbody>\n</table>\n<p>3347 rows × 30 columns</p>\n</div>"
     },
     "execution_count": 30,
     "metadata": {},
     "output_type": "execute_result"
    }
   ],
   "source": [
    "# Only rows with Obergrenze < 100 were kept. This lead to some Untergrenze values still being above 100.\n",
    "# Round these down to 100 for a correct loss calculation (see depth_marker_loss)\n",
    "# Also normalize labels to interval [0.0, 1.0] for faster convergence and stability\n",
    "def modify_df_list(lst, max_boundary=100.0):\n",
    "    lst[-1] = max_boundary\n",
    "    lst = [x/max_boundary for x in lst]\n",
    "    return lst\n",
    "df['Untergrenze'] = df['Untergrenze'].apply(modify_df_list)\n",
    "df"
   ],
   "metadata": {
    "collapsed": false,
    "pycharm": {
     "name": "#%%\n"
    }
   }
  },
  {
   "cell_type": "code",
   "execution_count": 31,
   "outputs": [
    {
     "name": "stdout",
     "output_type": "stream",
     "text": [
      "Minimum number of horizons: 2\n",
      "Maximum number of horizons: 8\n"
     ]
    }
   ],
   "source": [
    "# Get the lengths of the lists in the 'Untergrenze' column\n",
    "list_lengths = df['Untergrenze'].apply(len)\n",
    "\n",
    "min_length = list_lengths.min()\n",
    "max_length = list_lengths.max()\n",
    "\n",
    "print(f\"Minimum number of horizons: {min_length}\")\n",
    "print(f\"Maximum number of horizons: {max_length}\")"
   ],
   "metadata": {
    "collapsed": false,
    "pycharm": {
     "name": "#%%\n"
    }
   }
  },
  {
   "cell_type": "code",
   "execution_count": 32,
   "outputs": [
    {
     "name": "stdout",
     "output_type": "stream",
     "text": [
      "List with minimum length: [0.32, 1.0]\n",
      "List with maximum length: [0.13, 0.26, 0.4, 0.58, 0.68, 0.83, 0.98, 1.0]\n"
     ]
    }
   ],
   "source": [
    "min_length_list = df[df['Untergrenze'].apply(len) == min_length]['Untergrenze'].values[0]\n",
    "max_length_list = df[df['Untergrenze'].apply(len) == max_length]['Untergrenze'].values[0]\n",
    "print(f\"List with minimum length: {min_length_list}\")\n",
    "print(f\"List with maximum length: {max_length_list}\")"
   ],
   "metadata": {
    "collapsed": false,
    "pycharm": {
     "name": "#%%\n"
    }
   }
  },
  {
   "cell_type": "code",
   "execution_count": 33,
   "outputs": [],
   "source": [
    "# Define the image normalization\n",
    "normalize = transforms.Compose([\n",
    "    transforms.ToTensor(),\n",
    "    transforms.Normalize(mean=[0.485, 0.456, 0.406], std=[0.229, 0.224, 0.225]), # Normalize with ImageNet statistics\n",
    "])"
   ],
   "metadata": {
    "collapsed": false,
    "pycharm": {
     "name": "#%%\n"
    }
   }
  },
  {
   "cell_type": "code",
   "execution_count": 34,
   "outputs": [
    {
     "data": {
      "text/plain": "HorizonClassifier(\n  (image_encoder): ImageEncoder(\n    (cnn): ResNet(\n      (conv1): Conv2d(3, 64, kernel_size=(7, 7), stride=(2, 2), padding=(3, 3), bias=False)\n      (bn1): BatchNorm2d(64, eps=1e-05, momentum=0.1, affine=True, track_running_stats=True)\n      (relu): ReLU(inplace=True)\n      (maxpool): MaxPool2d(kernel_size=3, stride=2, padding=1, dilation=1, ceil_mode=False)\n      (layer1): Sequential(\n        (0): BasicBlock(\n          (conv1): Conv2d(64, 64, kernel_size=(3, 3), stride=(1, 1), padding=(1, 1), bias=False)\n          (bn1): BatchNorm2d(64, eps=1e-05, momentum=0.1, affine=True, track_running_stats=True)\n          (relu): ReLU(inplace=True)\n          (conv2): Conv2d(64, 64, kernel_size=(3, 3), stride=(1, 1), padding=(1, 1), bias=False)\n          (bn2): BatchNorm2d(64, eps=1e-05, momentum=0.1, affine=True, track_running_stats=True)\n        )\n        (1): BasicBlock(\n          (conv1): Conv2d(64, 64, kernel_size=(3, 3), stride=(1, 1), padding=(1, 1), bias=False)\n          (bn1): BatchNorm2d(64, eps=1e-05, momentum=0.1, affine=True, track_running_stats=True)\n          (relu): ReLU(inplace=True)\n          (conv2): Conv2d(64, 64, kernel_size=(3, 3), stride=(1, 1), padding=(1, 1), bias=False)\n          (bn2): BatchNorm2d(64, eps=1e-05, momentum=0.1, affine=True, track_running_stats=True)\n        )\n      )\n      (layer2): Sequential(\n        (0): BasicBlock(\n          (conv1): Conv2d(64, 128, kernel_size=(3, 3), stride=(2, 2), padding=(1, 1), bias=False)\n          (bn1): BatchNorm2d(128, eps=1e-05, momentum=0.1, affine=True, track_running_stats=True)\n          (relu): ReLU(inplace=True)\n          (conv2): Conv2d(128, 128, kernel_size=(3, 3), stride=(1, 1), padding=(1, 1), bias=False)\n          (bn2): BatchNorm2d(128, eps=1e-05, momentum=0.1, affine=True, track_running_stats=True)\n          (downsample): Sequential(\n            (0): Conv2d(64, 128, kernel_size=(1, 1), stride=(2, 2), bias=False)\n            (1): BatchNorm2d(128, eps=1e-05, momentum=0.1, affine=True, track_running_stats=True)\n          )\n        )\n        (1): BasicBlock(\n          (conv1): Conv2d(128, 128, kernel_size=(3, 3), stride=(1, 1), padding=(1, 1), bias=False)\n          (bn1): BatchNorm2d(128, eps=1e-05, momentum=0.1, affine=True, track_running_stats=True)\n          (relu): ReLU(inplace=True)\n          (conv2): Conv2d(128, 128, kernel_size=(3, 3), stride=(1, 1), padding=(1, 1), bias=False)\n          (bn2): BatchNorm2d(128, eps=1e-05, momentum=0.1, affine=True, track_running_stats=True)\n        )\n      )\n      (layer3): Sequential(\n        (0): BasicBlock(\n          (conv1): Conv2d(128, 256, kernel_size=(3, 3), stride=(2, 2), padding=(1, 1), bias=False)\n          (bn1): BatchNorm2d(256, eps=1e-05, momentum=0.1, affine=True, track_running_stats=True)\n          (relu): ReLU(inplace=True)\n          (conv2): Conv2d(256, 256, kernel_size=(3, 3), stride=(1, 1), padding=(1, 1), bias=False)\n          (bn2): BatchNorm2d(256, eps=1e-05, momentum=0.1, affine=True, track_running_stats=True)\n          (downsample): Sequential(\n            (0): Conv2d(128, 256, kernel_size=(1, 1), stride=(2, 2), bias=False)\n            (1): BatchNorm2d(256, eps=1e-05, momentum=0.1, affine=True, track_running_stats=True)\n          )\n        )\n        (1): BasicBlock(\n          (conv1): Conv2d(256, 256, kernel_size=(3, 3), stride=(1, 1), padding=(1, 1), bias=False)\n          (bn1): BatchNorm2d(256, eps=1e-05, momentum=0.1, affine=True, track_running_stats=True)\n          (relu): ReLU(inplace=True)\n          (conv2): Conv2d(256, 256, kernel_size=(3, 3), stride=(1, 1), padding=(1, 1), bias=False)\n          (bn2): BatchNorm2d(256, eps=1e-05, momentum=0.1, affine=True, track_running_stats=True)\n        )\n      )\n      (layer4): Sequential(\n        (0): BasicBlock(\n          (conv1): Conv2d(256, 512, kernel_size=(3, 3), stride=(2, 2), padding=(1, 1), bias=False)\n          (bn1): BatchNorm2d(512, eps=1e-05, momentum=0.1, affine=True, track_running_stats=True)\n          (relu): ReLU(inplace=True)\n          (conv2): Conv2d(512, 512, kernel_size=(3, 3), stride=(1, 1), padding=(1, 1), bias=False)\n          (bn2): BatchNorm2d(512, eps=1e-05, momentum=0.1, affine=True, track_running_stats=True)\n          (downsample): Sequential(\n            (0): Conv2d(256, 512, kernel_size=(1, 1), stride=(2, 2), bias=False)\n            (1): BatchNorm2d(512, eps=1e-05, momentum=0.1, affine=True, track_running_stats=True)\n          )\n        )\n        (1): BasicBlock(\n          (conv1): Conv2d(512, 512, kernel_size=(3, 3), stride=(1, 1), padding=(1, 1), bias=False)\n          (bn1): BatchNorm2d(512, eps=1e-05, momentum=0.1, affine=True, track_running_stats=True)\n          (relu): ReLU(inplace=True)\n          (conv2): Conv2d(512, 512, kernel_size=(3, 3), stride=(1, 1), padding=(1, 1), bias=False)\n          (bn2): BatchNorm2d(512, eps=1e-05, momentum=0.1, affine=True, track_running_stats=True)\n        )\n      )\n      (avgpool): AdaptiveAvgPool2d(output_size=(1, 1))\n      (fc): Identity()\n    )\n  )\n  (geo_temp_encoder): GeoTemporalEncoder(\n    (encoder): Sequential(\n      (0): Linear(in_features=21, out_features=64, bias=True)\n      (1): BatchNorm1d(64, eps=1e-05, momentum=0.1, affine=True, track_running_stats=True)\n      (2): ReLU()\n      (3): Linear(in_features=64, out_features=32, bias=True)\n      (4): BatchNorm1d(32, eps=1e-05, momentum=0.1, affine=True, track_running_stats=True)\n      (5): ReLU()\n    )\n  )\n  (depth_marker_predictor): LSTMDepthMarkerPredictor(\n    (fc): Sequential(\n      (0): Linear(in_features=544, out_features=256, bias=True)\n      (1): ReLU()\n      (2): Dropout(p=0.2, inplace=False)\n    )\n    (rnn): LSTM(256, 256, batch_first=True)\n    (predictor): Linear(in_features=256, out_features=1, bias=True)\n  )\n)"
     },
     "execution_count": 34,
     "metadata": {},
     "output_type": "execute_result"
    }
   ],
   "source": [
    "# Initialize model\n",
    "#num_classes = len(df[target].unique()) # for one-hot encoding\n",
    "#num_classes = emb_dict['embedding'].shape[1] # for HCE (the dim. of final layer in the model should match the dim of the embedded label vectors)\n",
    "model = bgr_mod.HorizonClassifier(geo_temp_input_dim=len(geotemp_img_infos)-1, # without counting the img path\n",
    "                                  max_seq_len = max_length,                    # fixed from longest list of horizons in one image from dataset\n",
    "                                  #transformer_dim=128,\n",
    "                                  #num_transformer_heads=4,\n",
    "                                  #num_transformer_layers=2,\n",
    "                                  rnn_hidden_dim=256,\n",
    "                                  stop_token=1.0)                            # End of Sequence Token at -1 meters\n",
    "\n",
    "device = torch.device(\"cuda:0\" if torch.cuda.is_available() else \"cpu\")\n",
    "model.to(device)"
   ],
   "metadata": {
    "collapsed": false,
    "pycharm": {
     "name": "#%%\n"
    }
   }
  },
  {
   "cell_type": "code",
   "execution_count": 35,
   "outputs": [
    {
     "name": "stdout",
     "output_type": "stream",
     "text": [
      "2510 samples for training.\n",
      "837 samples for validating.\n"
     ]
    }
   ],
   "source": [
    "# Data split\n",
    "#train_df, val_df = train_test_split(df, stratify=df[target], random_state=2024)\n",
    "train_df, val_df = train_test_split(df, random_state=2024) # ToDo: not stratified...\n",
    "\n",
    "print(f'{len(train_df)} samples for training.')\n",
    "print(f'{len(val_df)} samples for validating.')"
   ],
   "metadata": {
    "collapsed": false,
    "pycharm": {
     "name": "#%%\n"
    }
   }
  },
  {
   "cell_type": "code",
   "execution_count": 36,
   "outputs": [],
   "source": [
    "# Define the image transforms for augmentation\n",
    "augment = [\n",
    "    transforms.ColorJitter(brightness=0.3, contrast=0.3, saturation=0.3, hue=0.1),\n",
    "    transforms.GaussianBlur(kernel_size=(5, 5), sigma=(1., 3.))\n",
    "]"
   ],
   "metadata": {
    "collapsed": false,
    "pycharm": {
     "name": "#%%\n"
    }
   }
  },
  {
   "cell_type": "code",
   "execution_count": 37,
   "outputs": [],
   "source": [
    "batch_size = 64\n",
    "# Create Dataset object with image and tabular features\n",
    "train_dataset = bgr_data.ImageTabularDataset(dataframe=train_df,#[:100],\n",
    "                                             normalize=normalize,\n",
    "                                             augment=augment,\n",
    "                                             image_path='file',\n",
    "                                             #label=depth_markers[1], # predict list of lower boundaries (Untergrenze)\n",
    "                                             label=None, # no label column as input; access it instead via Point during training\n",
    "                                             feature_columns=geotemp_img_infos[:-1])\n",
    "\n",
    "train_loader = DataLoader(train_dataset, batch_size=batch_size, shuffle=True, num_workers=16,\n",
    "                          drop_last=True) # any better idea than drop_last? without it, tensors don't get concatenated properly\n",
    "\n",
    "# Training parameters\n",
    "optimizer = optim.AdamW(model.parameters(), lr=1e-3, weight_decay=1e-2)\n",
    "#criterion = nn.CrossEntropyLoss()\n",
    "#criterion = TopKLoss(k=5)\n",
    "#criterion = nn.CosineEmbeddingLoss() # for HCE: 1 - cos(prediction, target)\n",
    "criterion = DepthMarkerLoss(lambda_mono=0.0, lambda_div=0.0)\n",
    "\n",
    "# Note: Is MSE better for HCE?"
   ],
   "metadata": {
    "collapsed": false,
    "pycharm": {
     "name": "#%%\n"
    }
   }
  },
  {
   "cell_type": "code",
   "execution_count": 38,
   "outputs": [],
   "source": [
    "### Callbacks\n",
    "scheduler = torch.optim.lr_scheduler.ReduceLROnPlateau(optimizer, mode='min', factor=0.1, patience=3, threshold=0.1, min_lr=1e-5, verbose=True)\n",
    "early_stopping = EarlyStopping(patience=5, min_delta=0.01, verbose=True) # looks at val_loss (see callbacks.py)"
   ],
   "metadata": {
    "collapsed": false,
    "pycharm": {
     "name": "#%%\n"
    }
   }
  },
  {
   "cell_type": "code",
   "execution_count": 39,
   "outputs": [
    {
     "name": "stdout",
     "output_type": "stream",
     "text": [
      "Training size original: 2510\n",
      "Training size after augmentation: 7530\n"
     ]
    }
   ],
   "source": [
    "print(f\"Training size original: {len(train_dataset.dataframe)}\")\n",
    "print(f\"Training size after augmentation: {len(train_dataset)}\")"
   ],
   "metadata": {
    "collapsed": false,
    "pycharm": {
     "name": "#%%\n"
    }
   }
  },
  {
   "cell_type": "code",
   "execution_count": 40,
   "outputs": [
    {
     "name": "stderr",
     "output_type": "stream",
     "text": [
      "Clipping input data to the valid range for imshow with RGB data ([0..1] for floats or [0..255] for integers).\n",
      "Clipping input data to the valid range for imshow with RGB data ([0..1] for floats or [0..255] for integers).\n",
      "Clipping input data to the valid range for imshow with RGB data ([0..1] for floats or [0..255] for integers).\n"
     ]
    },
    {
     "name": "stdout",
     "output_type": "stream",
     "text": [
      "Image 0\n",
      "tensor([1.7890e+03, 7.0000e+00, 0.0000e+00, 5.0506e+05, 5.8320e+06, 6.0000e+00,\n",
      "        0.0000e+00, 0.0000e+00, 0.0000e+00, 2.0000e+00, 0.0000e+00, 2.0000e+02,\n",
      "        0.0000e+00, 0.0000e+00, 3.0000e+00, 2.0000e+00, 2.0000e+00, 0.0000e+00,\n",
      "        3.0000e+00, 5.3780e+01, 1.5110e+01])\n",
      "Image 1\n",
      "tensor([1.7890e+03, 7.0000e+00, 0.0000e+00, 5.0506e+05, 5.8320e+06, 6.0000e+00,\n",
      "        0.0000e+00, 0.0000e+00, 0.0000e+00, 2.0000e+00, 0.0000e+00, 2.0000e+02,\n",
      "        0.0000e+00, 0.0000e+00, 3.0000e+00, 2.0000e+00, 2.0000e+00, 0.0000e+00,\n",
      "        3.0000e+00, 5.3780e+01, 1.5110e+01])\n",
      "Image 2\n",
      "tensor([1.7890e+03, 7.0000e+00, 0.0000e+00, 5.0506e+05, 5.8320e+06, 6.0000e+00,\n",
      "        0.0000e+00, 0.0000e+00, 0.0000e+00, 2.0000e+00, 0.0000e+00, 2.0000e+02,\n",
      "        0.0000e+00, 0.0000e+00, 3.0000e+00, 2.0000e+00, 2.0000e+00, 0.0000e+00,\n",
      "        3.0000e+00, 5.3780e+01, 1.5110e+01])\n"
     ]
    },
    {
     "data": {
      "text/plain": "<Figure size 720x576 with 3 Axes>",
      "image/svg+xml": "<?xml version=\"1.0\" encoding=\"utf-8\" standalone=\"no\"?>\n<!DOCTYPE svg PUBLIC \"-//W3C//DTD SVG 1.1//EN\"\n  \"http://www.w3.org/Graphics/SVG/1.1/DTD/svg11.dtd\">\n<svg xmlns:xlink=\"http://www.w3.org/1999/xlink\" width=\"572.4pt\" height=\"178.517647pt\" viewBox=\"0 0 572.4 178.517647\" xmlns=\"http://www.w3.org/2000/svg\" version=\"1.1\">\n <metadata>\n  <rdf:RDF xmlns:dc=\"http://purl.org/dc/elements/1.1/\" xmlns:cc=\"http://creativecommons.org/ns#\" xmlns:rdf=\"http://www.w3.org/1999/02/22-rdf-syntax-ns#\">\n   <cc:Work>\n    <dc:type rdf:resource=\"http://purl.org/dc/dcmitype/StillImage\"/>\n    <dc:date>2025-01-27T17:36:34.229986</dc:date>\n    <dc:format>image/svg+xml</dc:format>\n    <dc:creator>\n     <cc:Agent>\n      <dc:title>Matplotlib v3.5.1, https://matplotlib.org/</dc:title>\n     </cc:Agent>\n    </dc:creator>\n   </cc:Work>\n  </rdf:RDF>\n </metadata>\n <defs>\n  <style type=\"text/css\">*{stroke-linejoin: round; stroke-linecap: butt}</style>\n </defs>\n <g id=\"figure_1\">\n  <g id=\"patch_1\">\n   <path d=\"M 0 178.517647 \nL 572.4 178.517647 \nL 572.4 0 \nL 0 0 \nL 0 178.517647 \nz\n\" style=\"fill: none\"/>\n  </g>\n  <g id=\"axes_1\">\n   <g clip-path=\"url(#pbcc4b879b5)\">\n    <image xlink:href=\"data:image/png;base64,\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\" id=\"imagec3943aaff8\" transform=\"scale(1 -1)translate(0 -165)\" x=\"7.2\" y=\"-6.317647\" width=\"165\" height=\"165\"/>\n   </g>\n  </g>\n  <g id=\"axes_2\">\n   <g clip-path=\"url(#pec441e16a2)\">\n    <image xlink:href=\"data:image/png;base64,\niVBORw0KGgoAAAANSUhEUgAAAKUAAAClCAYAAAA9Kz3aAACgW0lEQVR4nOz9ya9la5rmCT2rb3a/9+nNjvXXbu9NuEd4dBmZGRGAqihlKilUJVQpECDBgAmMGdYAqQYM+AtKTBBIVQgYpARkViaZUdFHpLvf67e/1h47/e5X3zH4fcfsupe7VzYkRQS5pSO79zR7r/V9b/O8z/u837IkdfoXfFmSepLu7kvhQHr2Qrou3rzB2JVuPZLOzqV6JSWt5Ji/G0kKLcnuJM/8fiKp50lVI/muVLnSaE/qj6StLXmulCyl1Qvp1qF0MJP8XPr4cymtpC6Q7FZallxD35G2jeTaUtdJVif5oTT2pN2ptFpKTi2FjpRmUuxKZSnl4veLTqo6aSMplDS0pMLm+muLz7ItKW8kOVLSSG5PGu5Lr86lLpEKc2+epHuelFtSWkpb8/3QllyLn7uBZDvSMpXSRqolxZZ0eyq1pVRvJc+XvBHvUWVS00lWI+Wd1LSSLWkg/u3MWneSAk/y+1JRSGXDfdmu1PNZ+KbiWmxf6mKp7qS9W9xvlUhdI1W1FAVSU7OmrqSg4mfqpMKRylryQinuSVXL783GUpZIyVYKBpLvS4tT7q+1uC7LZX8Wr6TTrTR0pVko9fpv7uFf+OVLmljSwYFU59LXSykz7zA0ixFL6nvS01TakdSzpHUn+bY06Lg5S6zkspFaW9rrS+stmzo4YKH6DpvS5dLOUNo7lIKe9OSF9MlL6Woh5VspNZ8fGae5/sZNuZL2XelgymLErlRX5ho6qVhLTSGVBYZS11JmHMaWVDtS7EuRL2WNFPWkvJT8Vsoy6dIYXGk+qzb3NpB0OMC653Mpb6U4lsZ9jLusWbd8w/vaklJJu7b04I5U5pKdS44t5Y6x8lqqG4ygLPkbuzBObUmVLQ16UldJ4VCyY2l5IYWuVJRSW0h2IPUCjKbMpf5UCvvS9aUUjaTWlcq1tF6y9uOxFMWsS51LXic5nuT4GJgcqTeUJntSnkvJmmuoc2lxKXmBFPhSeiXVpdT3pa4n5RVr1rWS67EetiPZ5b+CUVqS9iWNAmk0xAsXc2kpqTI/9y1px5OuKzx035W6SPIcaeRLyli41uJCKktqcqmoJScianghRuh10rAnHe9JwZjoWLbSq6X0wx9JL55JjfnMY0caBFJWSKuW6806rilypEFMZMsSaW+KUWZrqV5LniXZtmQ5LHpZSouc95Zlopst+ROuTUupX0tFSxRtajYxtzHy3NyfeuY+bSkIpcFEOjiUVlfSs6+I5EGAwboBhn3zmX2fNc5SjKBqpTKRfEd6dSaNYiJflkltJ4U9yRsSVcNAcjqpTKUiJfIOHMkKpDKUvJh7LCuutdvwHpbP+m3X0mDI2sW+ZLVSVUjVEmP3jdHbrbQzlWb7RMR0LV0vJS+V2rl0VRGVfUdyQozUKqRqI1mh1AbSyJauE6l2+Xz3lxmgbTb7xnTrjgXLRKTYzKVFIx1JOhRRbivS4Jnx5J4jtb602hBhN5G090Ba19KrL6XAkqaBlNqS1Tdp2cbrnCVetKqlzJK8hI1Pt9LyUrKX0iNXaiWNe2yK7Uv7jtQEUpFLaS5tlsYR1lK5AUK8WpOKnRgj7zrpytybk5ERKuOxTidFnRS0UnvJfex4krcn2UNpecI1tx2prWilxiJr1Inke6TcxYprd2uM7OhI6hyMdncohT73XzbAHlk4htXy+VXDz/I1xmjVONv+npRaUlZK6zXG4daSH0jRWFp1rHfpkzYvz8k46oiWhSTH4rPDCDiSB9K2lpyKPXI8E73GkpVKbQp8cFpJE/ZpsoPxbZdvAkxbSVcbKQylcYCT2FupSCSvkHozKVlJbS1tfPbi5xplIDbaQCd5NtivzKRLSSuxkHnHxq0l7VnS1GUxtub7mdnUIJaOh1LUSNFAqm0WrupIvWUqJZXkGYMcBkSWLJXkSt21VG7NYndSP8J7FUutwVV5CQbtz9iM5TUG4rTS1JMGHr+72nLTrWUwZEJmzCX1BZYszbW331iTzjicZ6LvqpGSubS+xviCQKpyqclYv8hcU2xLOyPuOW5MilzhBE1A+up8MHTZl3oRa31+KjWNwAO2FEXSMJYaj4vwXYyiq7kWKyBb1eIGrEbqSsltwaldxN/lldQfAGHyBAf1balKpSZlj4tMOhrxO7KBV1XNZ6nkeltX8iIpDll3x8JevIhrtRspyaTBTLIs0r/TYLR2j2BXdFLWSvLB520tWdk3jNL+xuLLYRPzgo1Z1eCeb27Spnzz31eSlp2024E1w0LabCS/ZmHPV9LOvuROiExqJDuVDgyG2S6ltJXGltSzJT/j/ye3wSZnmXSRSZEtPZgCsC1P8jK834vxtkzSvX0MIFlgVXVgjLXPojQXUruVgr7U25OWCzY3T6SwIkKWkuYtm+yZiFngHxqYr0D8ft1KkSUNIwyt8/nlogCHWiFRw7KkkSfZmZRt+Uy/JsL0IuDDdkPkrWPWyk3JDHEM9LFaYILj8n6WTTpcpxigbIyvLljfckmU7nzJGXN9UYPhLHKwZuXhGJZwqHbLe3k+GcIy+DGvpNFAGu5J1oDrT0ui92UmbZ5J8XPJLwgmbcAi9U30U0L2aEIwbJWCj32HtY9jya+kfvgNTDkSALhspYXZnGGAF61zomKnN7ixM4Z88yWzcY6kgz6pyE6ls5zNcKeSFZEe/AaM5nRs6nYrrRZSL5Rmh1J6IV0upON3CWHdXCoqoknPk0b7UrGRlqcYzfBQ8mc4gG2TKkJT4pcdCzD0pNiTNuf8XX9MVN1eUYQEPhuomjR4fSEVLt+3Goo3xwIzBuI6othEhj7pzS6JJtuttFlLbQOALxupF0tRKAW2tF7h8E3HZ3uedHBP6g1McWJLbigNQza9WIC5Jd6vqnFgWcCTLAUfNjX43K+JhsmWiOUMKHCaltQZxNL1QnIjKTFpvq2l1Qrmo21gKXqelHgYx9cvYD7e2pPcobTOgGWbjeT1pGkr1Uscv4uleAJe7Y0pRuVgNFUG7JBlYIrB69GNUzvfMEpXUs8FZyUVCxCIlOb7khWDVxITGWwTorcmmt4Y7M3LEmlj1pf2d8EwGwOgPYsFigeSHZLGsyupTrmJoJUWFyysH0huA3AfRgacm/dfXHOvSU1U8l0MKOqzuKkl7b0NFk6vpXgpbU7AeYHD55aFqQJ9KmN3JG0SaZVIk1AKRlLk8XmOMKS6IWoFsdTY0CBFzgLHfX6+WErFUsoXUlZLg5BoF4dEnk3Oum7npMnRrjTel4KhgU4Nm3KeStVK2iZkGLXAkGGD4xU20da3pPNz6aLlGvuSIlc6PCByWhZZyW4x6jrlfuyWwKCG9w17LG7TSd4AmJOW0ssraehLkwHpfV0ah60k1yGL2eb+Wos1txyKU7sjGlcN8MDrWIvaBKemMVDEkpyADNB5JiWFMhDG4oJbj8X3AkNDJETNxpL8CP5sfSVtv2mNP/Nybem9d6TjvjSKJMcBU10tJXsEpigbCpA6p8LsS+pWUAiuDS4KLDYziFjUZS3tjEmNKqRuy6IGkqIpRYg7luwdKTgiVQVzaf1KqtZEnnItuZW03EinhYmqzhtKy4tYYMsnApaFtMpwwK7DEGLD360bMNLAY2ObSnq2lcJOuhNJdWYinQUe9iNpvMe9Z0upzaTOJbUlBZE06HNfjsxadFxjIjjUUSR1U1JluuHeOoc9TFqy28Thqx9L4UgKJpI8MO/iUrp4KaU1AWUiMmNnKnk7lvIMp2lbeE7PZw/TRvJa7qOqiLReTHHj5ODsaMjalVtpe2G4YId9dByuz7NxmqLgM6IB+yZX0syW+hbRxov4g00OPlMtdYVUetAznfGEqsDCf9mrbqUf/UR66koP96F2dgfSTg3/GJX8jhNKtYehbJcYgCs8uJGUdJJyFm0WG7K2lrwSHBP5pDbfk9wYh/JaqTw1qamUwhKHG4zY2Dg0DriV7EvpyRLvLSTtBvx9UcFlbhoKuE5E1khvCiJH0kJAnrrgyzH330jaZMAMG3tQ0ElxJAV7fF5dGGYjkzanvFFsS71Cio7AnGWGI9muVBreyOrIEpsTab7FsOIG6ufAx9F2HSnYARrcPuQz3Zg9bRppfs7f2B2GtL+H8WcryV6RjhNxk07NPXoh118UZLGmJeN1DYtiRUS88YyInAsONa/hff2AoqqxpHoqVSHBp86pVdy+6GCsOhatskl9licFCzymcigYxhEFz/KcC0zWprvxc1436a42/7+upb88kT4/k+70pbdbqe9CaWwzqKVGUtFIFxVReypJISB7ZQotP5Xcgg6AVRL+K4vOSTwAhHd9KZ7iufWl1K5ZXMfwia0HXvICjLKzSPnNQro4lZaFdJVRtfemGFF2KcWmmrZFtd2G0jaXVGFcVcc9RxbX2o+4Nz+EdG/zN8xB7bPxnUsaH3hS4oDD9oZSHEDfDKaS6xKxu8DwwD2iU7aR2oU0asDMTsS+KKRrNbDNPQeS3WeN6oq1yBpI7NkuEMNvTModA0vsMWxIv5N2bD7/1QvJHRBAnJDisu6kylyXZQzUH4H7T69gO+xOCu8CvaxOUksEtYwz+A44M+jgWd190XHpeVJWUcZvX+ARvssvlh20QDtlQdoU3tFxpMM+pLAXkurzhK91C0cZWdL8JmpWlP6frqCVvhVwEZ3ZlLaDy2ttaWGojMDHCwcFqVktaa3pDNXg8CVP6kZgrNAFt0SdNDiiM7JdAcpbVyoHZIOsgyuzh1LgSndcExnOpDOT1r0NVFDWYmhhS7Qbl9JOj8LwojbFjyjq+jHX3J9geLHD+mQBlJDbJ6K0JdEl6vP57ginch2yVNRJswHruj6n4+WFwAbfp4ApWzY0T6TBLs0ACTxoWSYiblmDoC9dPaFY648okOwZ3Rg/ZI1aS0pdqRoQoQcTuMpsKR3GUrYgI+U1GDhr4SI9W4oqMpyV0o2LRlK3lDZbOlNj+8191zLc7lpqXK4tC2Fn3JOISDTt4xVBRfVVGb6oSei+WB0Ug71D8RL2pUFfmt7HUMqUBSk3VJnjQJoMpXTF+7qSii34Je0w1C8KKbwiKocx76lIup2BoRxJdk2RlKWE+DgwONKX6kh6viRyHQ6kqsSoqhzapbLAoP2e5DXSNIQyyT3ew7agX/yOaFSVdDsSD6PUz4Emr/vindSUUFg7luktCwOxa/jasJF6hxQT7i70kOWyVnXLxhSl5KT8fWMcsMj4eZJJl0/orEQ2QaMqMcpoSMOh67GhraTCk9o+HZnxrqSAFO0lUlCbqF6D0b2ZND2CNbACsIVfUax4NlDBqglIMut004y44U/zAmN2O5MWHdbadsDgjk3UdXw6QF0LX5lcmmK8IzNXHZ+XllKvkty2IeL5U7y0XLNIdQnD7wmMlXWE+LiSdEAf2fekxVoKGmn+FHL3YERTfXEhrc9IIVXKhe74fE6WSGcJhUHXQWEkS7CkJwqNRnRpmh4b2do4i+3imZWhSEYOEX1QS90VhhsOuDbHopDpLCnalZrI9KYrMFHcp8OSLnCo50+lj15Jl78Akty8OkmnrXS+ZsPGHdftC+etUnBsO4UusSKM/QaL2w3Rp5hL2Rw2oKnA7wMb3GxZOMqmk6J90rE7hn/t70nFhMi/Xhoq6ObzA1LsqWkW2LHpgydQVqEpPqIZDuA6OMY6lQoLQw59/i1bY5wFASh26bUXKTxyZrorVkFrtWtw+iCULs4kVQhf/BAjqkocxrLJJmWFgMYPMFaVtGzdoDS92RQgXxRQEJGkrYXHToRYYCtJKzy92ZGsCRvqLwHI0x06JMokJ6GKHMb0et0YXquxoD0mc26uMwTsjR0UAhg7wgiDlouNdmk9li0Rp6n4jIGNB2YNqTU0Lb0ylAY7kjeVuhAiXHvGoXNpcyZdPQfn2Y1UXUvNud5cyM95WTLdIwIF+LEj4u4FUCZFwybZDR2dxlT6vmeiqEdhdnN/iznX3tjgxEbcU9gnuhS5tD7BoL1Omu0QEYtMmt6V9o6JXp9/ARepkaSWNl6RkUKTLeveRlB7+7elZiLVIRkouyYSBBV88YsLeMyDXT63KaWpz9qsO8kpWI8mpE3ptzi6Oim7kEY7wDzZ3Fuxlqwco3Vd7jVp2MO+gR+Nxd/ZreQmIiXuPpQ2gfTFn0krkyp9C2O8xnE07EHq+qEkV2qXhOauBwE8GhERNyYdxZK8XLIWUpdB92wNf9WZ3nhjQVkUhkg22UKtpMxEQ8ew/k2O999UsmEkDQdSO5C8WgoS/t71WKCiNgXbjPRniYhcNqRYv5bSRFq9xJCmgfR2JIVruMW13kjRZIzwxmZr89UITN5EUm+fDUzPoc/cUylesBnhLSnYp2C0HAym6ODjmoboYZuUvm1RD1U2jp5Yb3rqkwOptyMVl1LmSVdXYPf+yPCthZTOJctEX/scHFrZUlCaNl9BFvMCIu92SSSWS5Wf5WQfpyaKVks0C3LJUK2ht9QiIlkmUEVuA9Y/X0j5nIhfVLx3PKIo7To2r3HedJKs1vCoGXvm2i54Z+5JX39Bmp49kNZfA4gdx4gSLGnnPsbXOmyEb0uZT0ESRrT8hn26F1UuuedUY1bBjeYdqTiv33SGBqJyLFsqU9emsqs6aW6KnuGAiFlZkmuipQRusyswUmNLxQ4e2YZEyI1LBNBQKh2pV0rTGUR01bJZgz1puodqxXHAprcvpVeGZqk7HDMVEbG0wMR1h+FbkjatdLGEcFcrjVqMbHCAtjC14VX3HaiS7FpKl1h0ZzjhvH4j6fMEDPBcvdZyLgrpYi6NY2ijUrQhLUNTyULeF2esj2O6U/FY8negeyxJimh47E4xWqvCkYqarHH+hAASu9LSoTMzaAlA65V0ZbBmYJGVphOKtDIx7VjTU69F8ayaDJlvcYLGBXZsTM0ycIn+QUtQ6u9JbhdJa0uaf4yH246UlOCt+7clr8+HL9aSv0ubzC6lnYgPb7dSb4IXFw4ponEk98iknpV03XIBjuAWJ5Z0t294thSjcswm1yYSNiU8YZpQ7fcEZnJsHMDt4aWBA55pGqJDWvD9tsVhnB36zbUnzRPJzcxGbCjKHJeuw+jYRMFKClLw80FAurUjnDE+gMJJM1pyJyd0vxaCUjtopYnLl2JpeJt1dF1p5iGqTbZ0pzYppPLQBdp0FfRa1oJ3rZCI6MYYwaMJmtBuV/rzj6T5UhpO2VB1QKFqQ4SvM8nbUlDUB/CW+dQUHAUGOnBoyUYjoxGt4AkdSdkpEjQ7lwaVNDpk3/an0vTaCKlLqvPWkooVAapt4IMdm+5g15hu0xDIZpnedhBI7oY2b70Pvg1daXTj6LYRkMz2pMEtqJKmMMVJiSXNBrTb7AkRqlpS0XU1Kag35sYyi75tu5Ge/BD1uV8Tng0kUWxJ01iajajyVKDk6QxNsHVpQ+Y5otSsMX1pnyp89xYMQDMkDfqSlCACcW+Ia9NSs8aSDoEXtk/ft94C+t2t1CVSZlOIuH08OnSk4lQ6/xTi1++jzMkdqfKl6xUttq5FgxhW9NE9B2PsTfCebiTVPcn1peku3ZTOkTZXhN3rL/lbO5eSK1LqKiF1Bz0jfA1Iu72BtD/j892ZdJEYtmNLhogd1iqoJXsN9zcMpfOXFBBNjz6968AND/ekvbuSMyGKZi2Vf53QGlUuuUuYlySlINEAyincA3KVJ1L1yhQ9lwYvO9I64TPdEOMKAzSovQkQa7IHJq5dqX8gWTtGQGyI+qaQ3F//gBSyTaXkgup4FBJKHeEJTW6KkUsoh7akjWV5ksbgqaSVTp7iHT1PWs6hRIZAEWT7tqE39iQFvI8zoJPRmbbVpGeq5is4R88ocTpXqkfSVw1E9mhj1D4DNs3akcYTaTjhWtM10afxIY97PoKT1nRq3JtytYQ/rS8NqO/jgMMPwGaeY8QTGVydvcKwU8G7HR1K+3elcEJxMG9Ik8VSunoKYf32r0gzh2jbbKTVJWMAsU9UUWyI8UryS2NwpqKKDuEvly2tRK8gk1WWUVxZEPfTIVlDDsXG+TMq5K5jnYot0bG3S1RqDCZcr6RFRmYZTyiWCpvgVCYUcu0r2qW+qZSdnlEjHVLoDs8QStcW7Ey6MTzx6I2SaTiU0pTGhWtSvmPxcz/ieuw1+2x9/566fijtTKSPPofQPH4f5Y3dAj43F2+a6pZPy+00pdJs+tL1uVQ/5UMOdzC8MKE6nhQYr+dIgwi8t0mhMdTiUb3AUCc2WKix8J62xFA2S1qc/i4bXjXwmlFkiqwhuLExm2DlUvIMA+rdpw/u9VmYRpI1p73p1hDGQc7GNRn3oAjxyCbF85PVG662reD7bE8ajQ3X15OcIWxF04G3B5F0lUhfP5Vu7TD/MujDcqQFhLZSGgdZSj/eTggOTWki81iyBxhA1sAZuh2FqecaTNhStY96YP36nP1K19JwbMS0EYxE59HZ0ZCO1/4OhY83gW5yJFUL4IwTSFoRiJShRWgKqd6T+ofAou0lohj7BQqiOGIPCxNkqi02EsWsa11A6vsjCh/Llgb3sKmsonXsNpL76ql0f4in/9p3TD+5Z6rDhC+7BYgnOel43iLNqrZS+YIPCyTdGkgjl+Gv8Uzq51IvxfpbQ49slqQap6D33HO+oS5yKYQcAQ16Q/Bhf0falpI/QJaWdJLVw4GsUgoKqfyc9N3kRLT0krTvhnBirQV90QZc62ZL7z5LEYA0NSR6vCdZQ6n4WspTAHpdADXaBszWdBR04ZRr3m5Zl6zi/50BXOFsH6VTsYFf3YYYVOwbw0vhbOuIzGSHQI7k0ghDBtLZmWEATIfGtuBUbREkDmOM5ewZEEANBUslBuU2udTbGqLaom5YdjjS7QfS44fSwW2i2fwMSFLcFIGSnD6OUXeka/faMAEdLei90HDICxoJXUuVLUtqZ7Qwy5WZwfHRKDgxgSKYQq5XtVEXJeyRe3hPGhxK9Q5RKaiNCLOSrlYUGvlWmpdSEUj551yg4/LhvZE0nUo7txE6hD3mSuII3FZuJdsYYh2BIe2OFNlURh/YgiujAVHTtdmguobEt1qMoqgMNk1ZvLoixfZsyVqbarWFGnJnqIO8ocFyNcVR2UhhbUj0TkpPpe2C97ddNJeDSPLGUnUGZtqmROGqgUFoHWmzkNZzaXqA7nQ6hGZZXZNGd3YYd5gcS+UQqJDnxhEcolfloDpSA54tOtamlZS8kjYvobICW3JXEOHBsdTE3IcnmAmvkBYp723b0vjIGHNB2pXpNqmT9n1JU6mMpZ1dUmd9LbWXUn+L0dsdhYrnQBe5tVTNEVV3a8mb02RJDyXnQHJvS8O70iBhTeslMse8YG/KmgxjhxTC7pj9SDcMrGUrIFXfp+B1Jy2p6yqTrrcYgi+EvqeXGMLumCLHqSloej5GZztG+d0DRJfCgLcpg1lejlwsqgmElgjjjg0O8ntgjDY1nlSy+YUpsCLx+TIYp8qly1fSxQU99V5MCrAsNqPrU7V6nSkacroUoW1ok+eSPCJd19FvL2vjEAFswfyCxVwvKLiiXWio0JXyFZHn1hHFwemFdPZSmuyTacohxYfrGAXOJfdRDqTrM8mNUH53njQYwFLEIpK4W+63ruBQYwfjGN+G/1TPCB8mOEWaQ4dZWyDM8DtAgPISLnjHk/xEenUhnTa8d99QWrELfrQaIrwWpsU3omh1IugxrzbF7FLyzslCsshSvsH0xSnX5u9K4T4/K/uS/alkX5mZqMJoST0MPBAZT4bOsjtsYHsNFegGnfTkc4zkvMajRpa0N5Lu7BNxupkZn/wUIxlEhl7wpGVmUtEKqsaK+KDkAu6pswDRKljs1cZUhA0FSOxQjFg23tNuaFM6vlRFbLy3kaIVwtnlhkrPMwbb2wGz9GcIHrap6ad6vGdlg4/CGGI5t8y8T2Ook0CvZ078PgabL0mtbR9+U/4b+VxboyFtBNkeiTGG9ow22kVBGh+mUtxJ8TWbcV7hSCMHBU01Iu2VCaKEsCVCjiKYhasCcUo+l3b7MA3rmns/8sBwRU5hFPTAm6savJouDU/ZoXJ65BOp2gxM250g+eubqNv1oJ5WcwQ4TiUttzAiYQWttQq4vyDAKQKBT6PAGJhrIFApaU6B5PSRvQ06w1vXUnEtzdcEsskuGblY8/PFCtW/e/FSujYp49iSJrG0f0ShE5qKaV5IzkvJn7MxTY+ItlkRHS/PEGAkIh1M97hZK0CilWzYRN9glXJJxI1beMO4DwXSdBjxsA/Nsl5JZytpfkrbzuoQQ9ji37ggMhRTomQ45vrXV7xXOOJ7pUeKiDL4sWoj5dek4/4AzBRGUD/LM4B3MIJkvz6TVhXvF3VkkRu1/doQ325H79jYr/qWdGDBB1Y1es3IVOWWB6F9tC8lLkbu1ghGXIf7XxvsaxWmAPuKQueslCYTqTzmvbsExwti0nyZGw4xo8K3BSUVTig+3X3gyNUrnH9QSLMGnenyGsncxIEOjG2wbF1DeMcHknufqG4nZKRgQJPC3eNz65Ko2s5xeqtPPWK1Un/IGvo54x3FWnpxCbedJZKVInp2fcldW9JRBA847pnNcaTLC/DW+ooix0rxIsuWdvbAgVnOQuQ+qSnsUfHdewyxe3qO5rIWROswYtd270EUN9f8v+2RKn2LTbkx0E1OBR+aCO7KtBEFbgtCSNsql7qUTeqNpOktaRIhcLADCp6BBSdYlcADX0TQzoVisUd0OdI5XKTTQQpnBULeUkTFgQPmtVoMaas3xH4nfjYZSJMZ7+mGUvNUCs6IduEMfnAZAomWK8Nxjg20yCWnZITEbil6/JasU/rsQ3EObVNlsB+9Ef38NiUdVxYGXjkoiKJIUp8gk1nSiwbRxTSUjno4uDtAQueGMBISs/3XGVkyPiRzXTW8fz9kTMR1kP51KYWgH0l5JF2uTevQwagHPhTRMJJ0hvH96AUNmG0qzXpEzbqQXKdPRKksOi9hIYVLqcsZj4xmnLKQt1A1RSelT02qDsyYQQBO8qZS/xZgtjeU9jtpY7FpYcuidzGGVBoPLBPadk1HT72zwHj5XNqech2jAXK4MmHwvueCc5taKm3JnUp2j1QSxFIRStEEUG75GF8Twve5I7i0aKHXU4f1mVRdSfWEavLwMf3yly+l8FzyXhnhgageQ9Ph8TJp10MDkay5t2AkHRwj2tDYqKwtdIhFKfkrIrX/gmnNi3Oqfec9SO2uhdJZnSLEqDK0qYFDtHH6ZhRlQIoOR0APz4cWalIcsan5XNsi6rp9qeohLfvWCGerBtIqAn+3IrXbWwJB5MPFZhtgw0jQSOUpzqVIqmIpidGzViaF+S5ZMNgD43YJaqiey96kJc7lD1DCX72QopT7LPswDu5xTPTwCjbJcsBYeUvFXFmScwSJHTi0BDOLNO710RfmFdGtnknrmJurT4gAXgym8lrpcillZoO7kmjaWWxEfm0EozbVc76Vwl0Gv3yfyD2YsehFIiW+qbRnknssWQNI/y7GcytTMCwrCh0JzFp7LFw3BkNdLKgUb+9I42Ouq7XBqAc7UvKc4f1OGFpWUVnv70vzDOqszZHL9ftgcNvh95tKr08B8SfMiZ9mJsWnkjYmzV1ROacjYE5REL1mYwqLbU5XZVQRYbINBZQMTi5bpgHaJYXSYACPODyk0FvVpFuFFIQjSzrcQ6+5mXMdXQ4MWS2kyYgMUqX02XOP77sjmiveTNKM9FyHRpdqsHVngXGdgOBgediU1UoKqF3SLft7ldF46Y6kSZ8MMnlHcsOKEJy1RJvSxSCz2kjrLSpfbweQ3QXQJ0OHycTlK2Tu4SH4Z5nBQ3U+UbTXl7IYMnezgUOsRXW3EQDdSVGrXCYY73FkotqYCKdIinaIsN4UHi1vJD9mA6z4zcxQaYEv1wmb1fWJVlbO3xQFBZLrS6lPlD53pNO1ZO9SjIw3Uv4lBO/tHcl5IM1P4CNtw7dVNimvNO00tzCtzRBoY5kCrykoCMc70u5EOtpKTy/gRDsfvjSM6KcHDiqiOGAOugiAIPt9adSXLk+JeL0WZ7dD9icQe5NXGJbbB1O0M9Z5UMP/dhHVdO6aRkMuNStagZZN8RgOWK91Du2UDE2gGGE0eYDheTUTokHI+2SSTr6U2o4OW7aWJlOKnDDguJ50IxVXFMqXp2SPIAZLDnq0VdOF5FbHLL7ToQpvrsnzzpS+at2QBvyanne+kVRTcTVryV0DischabSR0dKZMG5PaGPVFp2D6Rjso4ZUlK6k7Jk06SCj/SFUj+tRoXUyLc8YfWLd8L6OoYKamkjVOogkAluyzsGPbgPoXhSSMrzT9cBshQk2Y4/+r1zJu6DYScbwsLXD9N/k29LRB+AmLSH06xLD2tkxVfQWw3ACDKJykZYVIrorB5Z4A+l2jzOQHIeq13EZ6PcPjPOF4NJqTfYZ70hdiJq8ExHSymEdFlsYAm8X+iVbSxsb1U+/YZ9Kg1OrK5iSqoPT7RuRiVWj1mkqRhpsz1BxNVh6a/a+y6V2R7rfl45C6o3rZ0RCbwpu3x1CK11UqKGevsLwfuX77OtVZuqEWLo7INPYFWs0CKTDW5J7vpTcOd5ZJliy3XLRvgM90AmhwvaptOhIhYHgwvaGkjXiG7YLKev1iKiLTKp/DL6MWhrunvlbx4G07lfS6I7x/IDPqm3SVZuwGU0NfqosqfClbYDDjCJjAD7FWetxsNVYGKGbk+o7cZ6NnYF7rIaKt2+jdupqxBfxCYZoX5Gykj4RMc9ogdW+tPOIos5dAFMai3vqHeB4gwktwnkiWRkVdJIR7TcZoL5sgBjLS3QCdkj0WC4wot6E/nDbYtTzwkTeIY5dR6Rqq5F27tDyvX4GbgsP3tBWfYu0mZkmRJbDz/aGtFGfzhGL3DomOkadFCe0FONYyvrSvgVUui6ls5TrKD3psxPpxdfS5ZV0P5SOK6BE0hKUZvcIYJ7DfVxeUqC6MUVbz3SmkjMcJh5QYHaO5AY21ZnTgYk83wgTWrxRjfH2Nd2BKTYp14LXi46ILpXNhrchESsKaeF99Gd45HuH0r1DQHrPtAu3L6RXK8QHOyFe7OfAgizH6HpDCqpGfE4ZGtWPzekbvR2caLvgMAHPkq5OpIsXUBdORkpZp2+qwX0hJytq+FW3gbrJUwQTnhAO+4eo58MZYdUN4Dk711TRkaQWUrtuJGtjnCNm8dtXpsftSouE1F/WYOR4yKl0mxWsx94tdJf+LQwrbSHdVxvSXrmlMp517INlS/lYcneZF+qPKf+rjlPMhhuI7DiU+gVUztUpDlpWVP2vTqWvv5Ku3pYe3qErdv6VFOXSwV2gUS+Wbt8jwOQ/lq6vJXcHQrzfUpFXkdR7LKUvpZUD9VVuifb9x9LFE+lP/0I6mLBHQQTn3POlvfs4jbacjPLFP5LcZocxzrjPiRDruSnzbQzRbowAoYEjs5aQtt2AaFjZjMlWDQZcLVn8aoMx+h5c42KLIOLtAzbA61E5v3olXZ9IvRr1tOdAOtc1Ecn2MMbWVPi1pPIamV0TGOWOBd3gD6XVmZRcS59/jsEMW8Ml4jM6NwVLZJsjU0zk7vv8wHVZ1MC0NFPTNbEjOE87goPNlpI8FD1FSTpyHYxJW6JVtUUqFodSfAMzXN57fCx135FOT03hdIDA2vLAlU1ljPtIsl9J3WdSdSmtRlL2UHLvQMkUl6TVYmOqW9ucAZVBH3WHOHZvKPXvGOi0kQ57qLbOTxmdbmrO0fz0mbSppN6ZdDSUHr8vFfdJ29/+fenTH0qX1yjeO0tyxlK1Kz3PJY2k8UB6fgqJPn5L6gfYxn/xtfR5i6D7ran0YksGuhdKx/elO7elg0fS9iPJ+p3fVOcP6XePXZrtbUfU2pjw2xtI9kZq5qT12qG6bTs21m2NuDYyCvMMoYVlSz95ScV58xr3pb/9m9J79xEAnL8E6/UnphIvWOy2oTBJG9pilctNZwOKmd6YbkNgY+xWTddivZA2X0svXnKwVldReIiaQH2DJX1XSh3T6zfY0LPx4vEIZZDv80dNJWWu5N2SugkVfhhj0JstooO2AFcPR0TrQBxzV/tgw+2l6C50pNLeDrzup08oYm7PUBF1HrRJGxAYbAdMaCVSe0Gk384QMBeVFFpgMVlEnqqWLi6FejyWgl2jT3Wk6JjCpFpJzz82csWU4u/gFthwcSK9/FJ6+QxocfwegeHVpfSrvyr9zb8rfflD6b/8UwrN5ZW0fMJpGx/+ivTbf0e6/oSs4g0piK2N9OIT6flz9iG2gF9en0L47n2wuxtA9Fu/85662iaXj0wKcBy9PnqkzkyveguJ6/ucylCX0CeB6SQ4FgC9dMCWjs0NbzbgF8dhw90GlczujK6EWnCO53OTrU23YX6JirkSRhoOoSOa0MjKtrRBdx8zrBY79J0vXkjWBUXFJuMaTy+J1NsWML43JIJ5jqQBs8qTERWq15GCwz5R3mk5FMsxJHDnSZuRZN8hAnghp0xEriHRM6J8byKNphiL3YFn2w1Gs00pHuw+zjv0we++j92mDek/6vEZbcF11Rup2yIXSzMyVeAZUnpmDjlYS1eX8KZRTFEUTIBZ3i6Ot/hMuv6IyL/3Hu+33QAjrCFR8/OPpS8+gy6rCkTBuztSf5coeX4JVBtMpeWPuL7H70uP7gIDgj5Vvuczau21rLMToaLyApRKRcIaLDeohh59KLldhuDyYmGUNj2AadeHgJYLB/byCZ44HUjncy4iHgL0JwPwzibl90NPWld88HgkjQtpEpBCy9aoggRWvJkSW2cokqpa6l4x5ecFUrgj1X1ucmeHKBI50vGYyPriS+npS+nWPpEomUvOFTyf12NTHE+6d8B7bGq0o6uVKQZ6FB2pgQ1N/YZeqiqwtt8zfduUFOnlptqO8e7gFlFtswKSWBupPOM4lXBCdR2PpPF7RO5gjjKnqimA2r4pCkvWxneo9NNraDa7FAr9hgxil6iG6lyyZmZ+aS09WdCyyxd8Tu7wucWYg7SCHZY7eyGdv8CBqh6GMi84vcTzwJFNY+qLgujmRdK3f12yn0ijQmqvpFelVJ1wZkDTSKefSxf/HDndrbuwD8O+VBwCK0KfqKyU6Gv1oJ6KFAzlFXDW1lsDdbMedJCMeGF1Lu306SP7IW90vZCuttLYN8eSdFSRRUAk6w8xFi8EG/qmcq0cItKoRwXv2IYrzKB4ipyInG+JdNqQioOeNLpNC7PreP+wD36samBEWrPYyzUqm/VzHCIcYLCbDV0JP2Cjwx6dB8tiAewSbrYJaalZLW2+KKLYUg7HFtoUZustLc3JAynvU3BZDrylHwMxtudSeQ4ebxNp94DI603Aw6MJWccquC75kkxRWAv4NLDQmyYv6O17HUR1ZZOFqopoW4vINh1wHXkKMb1Zc8ShI5yq7eBUvTHO5a+NXGyGw69KWq3phjUtOir3MCJAbX2otJ5D+zN2cY6rJddTZJK3oihrhYBk/5g133io3W/dkXod+1t0dHXiQxx5uaRw/vjPUGm5XUEfdTIgIlgdqVK16VbYDP3EHRTHquQNLJvUthtgQGFf2t3HO7uE93EijMT3Tb844mzrzpJWBYLfUMyGbM6p2N0p0daJ0A+6jcGFG1qR/ak5JcOk9sChb1ouTXoQEdF18MCXC35vJHPaWUjVbbdgsdhl4+oIntRugTK16Rw1BU5RRXSDThcUF2OPKJQ3tOQ8i05J3EjrkKKv7EwxUBoNp8saNg1jG7MxEfbqmr+vZcYFGsh9b2S4xwqjKxoiplWTZUoLSFXkFEi2SyEW+ThmnhE4go6zPwNTQLlT5m36Q0OQfy05a7SPnniPm/Mk20Ca+fy97aLeCoaG//Q5e2m+lPZNO3XVMaL99gHwqhLC6YMPELLUGxRci7V0nVKLjEZ08XZ8Mq7bL0kbZYbQNBIHvDd9UngdgU1iR4o2tM26Plbf61i8IJB2DlGIV5Z01nH0ie2a8YKGcO20VKFdR0+6tSmg2isp3EBGBx7pbrME5O8OwVida8jnRCpuotRcmi/eGGPeR8QxeEnxE+1KD3apMNtGmueMaVgdff5xLt0fk+LtCFqntYl44ZTPrnNagcqlznCj2dcQ9PkeFaYzxUk8X7J2EUh4DV0PqzBFSgM74M2ouOvaSOvEe9cbqddjrSwHJbe7BXqstyaLRW/2yBJtVacl5fb7jDGUW4P3GiNi6YjkAiXJjRGaLAvpvCGLRSNoosDS6ydfWI5pq2ZSPWcgcGWoqLcfS0fflh49kKYvpPIKgcZqLT39gl79H30t/Wgu/eZvSfuPgHb5hvcNPPah/kxaXEl/8RJocueO9Lu/z32r58PcW1toFseiYZ+sMc6kD9E82cGY7JA3KzsohpnHoaBtTF/2Yo1BBYXRSo6giYpcrw/M9GMI4trl5psAzjC9liIDfjetST09omwVQlDnCYvf1RQyZYrx1A4YtAvMeG3A19GUNufqnOt1HWnHsAZZTUqrcqJDltGi7NYIPCKbIsbpSIl2SjpvSwos10SvRkTVcoyBXm/4++mBdLBvWm8paffWHsZqBxDVrsHYXQHujnbphHkryOwwRKnVWkTIzhhcmWEoo1AqelxDnqIvyNdkHNvhXno7kjxpUaL62SyR5u3t8dSMMATe9D2cw/VZa+XS+hmUYWdLCwdD7xpU+PYOg3NRxNGFo7elixOK0elUuthI1ldAksUSOHWwJ+0NpOiO9M4t6TfflfIhHa3pbWOUTQtXta0NQbsDTqli6XpOFRaEXGhlUyWtK2m+ITJ9J6QiS5aE/LJBYJGvOQPdycEulivZa705QbYifYV9QG8T0oVxSqMk1xslum0bfeIW/Wa+oBcuz7SpcirysqL4sC0W2nXh7aqSFNQaHrLfEjq2S4qa8wVtvKrjyLtyQ5TaDcgc4wERvHFJm3aANmBzTiSat9JpiPMWueSWpk89k0Z3iVRNAWdpudzvzSH33TXvZfusSWVafHXNFGLIbappSfNtTB/e63Buq+UQVYn7dad8tWPeXwXYORijKX31TLKm0t0AA2kb5tGrAkfPFtLLJazBeMTxN8NDaXhLevce06XxkAhrR1B7yxVR3z1A0e81jMUcDJmjLwr+f1hyL16AGCN5zt5O9xDgOD3JvZb0Vih9/z3mPVZb6XLFH/o1C9m3CM22iCbFlgF8hcynbAI2d5WYytpGyHBwyyipW+lqTivJ6VNE+C20jBr4tjYz9IcpVHoDpt7kws3ZPouUReDT3RlGGZv3v1ySPitjgHnNqEHe4dmBjXE3NWSz5yFgblojTq0B+pZvKl1JVsVmpnOpuaLoaXxSTZfiRFFGz9yZYJhthi60bKQmw0GWKbg6POCzlis2PzYpsjySvDs4/uYZcytTUYn6Me2/pgGfWjOyitUHMzoeRn5j9OcXXLca1P9OHzFEkzBG0lXwhDsz6J2gL12l4L7OFJzdUHr7bViZwQRD6QIkia8a2ptTn892bGl8CIvhC946n+LcVUIWGrRwkv1D5t67CB7cqaDdNEE4bjmQ624lDrh3x5xLmGWEasdl6P76FNXzwCJKhIeE8dZUetuUGW8JT6n4Tz094RCDe/uIMIqGFlvPpQ9eV+DPrsXIC9M9smS6NqbIsTxSWpUzHNWVZrC+xThuTlRobbjB2nB6tmUicWGqVI83Ts175A3G7g1Ix0FKEVAl+qlHyo1HYLE4oP/te6irnaH5/yFG0o+gZooaQ3BimIp0gYImrbgmO5LKOaoip08HLZpyTlN5TWu3FqqcxSu6P02PjesMplQDhLm8xKicEOeyLaCJ60K1zFeSrlALhYEUNial29xjdimtT8kog5kkn6NmiiPoNCcgRHelOLTMpVNTSrq45gwhOfx8NuDpZJaL6itsEXsMY/avtdEouH1p+YJO3jCQph/Co9oha9htYUc630aprQ7LjkxEbC3pRcoNDGV6tjM6J6HpOFRbUknPwSBuniLRCWw63UXlsrNPsZMv2HzHVKVlieQqcPhqTUdJDlWkb1qgyxVptckgfbtOcjMWLQpNq88FX7YdnFjgMXW43dLCi4cUX94AWqm1oGuKlSF3M9JYf2AErWvYg6CP8Q12paP7zJRXcwwkHNEUKASGdKdkhCZCnXRyhao8WXBg6b0Rci7bxbCrisreCSCn1aP/Xq8xutGUNVeLTLBIDMHfwkn2PNbaN4s+P6NbksnoEQrYkUEEHFidk118g8+zmgg5Namzd4s9UYdIRhPeo1qCTy8Laf6SQ1z7IXM1VSO99Q5OfvcdozYKpPsfEr3zHCP3Ahz96kT6k38MG3L3XWl3V5r2yIDZltaq/JYIsRZfgfRTp41JpBmnlPZO6Zt2ORfeldAtfQ9jyGrzoB6RbpMLJFPFS1LmckVqmwwwHNtjZiWODL70MBR5KISsmgKjSImEVo9r81sErJVxmjCk6+IHyPob06VaL8UxITmp2/KQywUBLdE2ILpdX+v1o1fqiuGrdMvBC7MWSNHatB/jI2kxwRkch02xHckacN25wz1MdsznL3nY6dgBqqQNm+ZNTBemRVs5N0YUj7j2nitZe1I+kLSCkkoDWALXNxxrzlhyZ5H+dveZM3rxhXT6nGZFHPFVGWqt55K6XY/3dgOgwyCmTvjqC4rc4UDa3TPP3Jyhqd2NJWcp1S8lzRGDzEvp6hMK37yUFEkvv5K+t6F7FrSmoxebzthGujVkLYpz+O/cAzJVheRuiOivo1sovR6Aar5hnK35mWWhuLE7flaYv8savLXsCO+2hdGFNUC8SuCxmob38z1pPCW6eaHxIguDSn0eG9IuwC9VQ5Xe1NxIUhiSvAekuHlgqWtuYnHKQuUO+DLJSPXbFZRS20qzCRGxlDEq7EmFSH2Dlk3zJalE0ue1XJe1Q7EXz4xgJOFz7AFQoqjw4jaWjm/p9eNM/AmYe3lhFENzukmu4QUL0+fv19xH5JpuTkva9w7o9y8TsH/kGcmfj7N1LVCiy3BOt4Yz3G7B1EEMlvU6ClHLYvzZDmkJLzvI6/OFeTKbxTz77X365uOC8d35hV4/Mi8eSMNaGu4AAfISMfOv/nvS4TFjDlZLhPR8MKV7Ir0/lpoBEG5boXJyXaOlWIsNiU2KtvQGT6XGGBvzb88YbNvp9TmNmdnIrCViuhbv1xqvuTmc3m0Jz00H7sxS2nO7+yyg12NT8iWP0ws9HvC0XnI9SQqFkRsjrfoUF62kL89Ro+93nLXttEbRLvrL9Q0x3ZKqoggDz3N4u9khg22n53CYtiVdNxRLfiuNtpIS6bZDJriupHfus6iOKWxujo2+fMXmN630/EtpMDZc7U2xtZSWz3lfN5b6d8GXmZgI7B9TNctljbdLSTWdoHgfQck4N4/gu4RDdR3D29oUWrKg17wWKLYSZxH1EpzQDSjq2loKVqYR4kizYw5/jcfoVpMNjl5mjAoXBWs+SKVuDqviHmJMy610WUMHxnPpexPp8a6rt+6EStaJTl92ymqc2Iu4higy4xQZ9+D1+WxrYKtrDdXg3UQcgoNkDC4WaX1iomUrbqQz/FomDK3Um0fEtTLtOZPeio7OQm5+zxEV3PE9aXoHQYFV0wOPe2CRsxd4eedQtXqNUSm14C2r4vS2rEUg6neodxzTYy1yvX6oUM8zHGsLnbOpEZbsBQB4z8aoOtPijHs8jfWLDcNhuyPJP6Zdl22kvXuSe2wq/EupXUnrCyDIzqH0R/+U/v2jEVht3VC4lSvGkUc7bLA9RrVzMWfh73xHuv0+VejR2NMmb1TVrUoLKNG0kNlBKnVLrtcJaOsGIWqmzZJW5/OPpK+eg79zoYxSQ5azhKPUJkMMHBROPd+0ik1bdZ4RtSzDW8YhFFxdgKm7xhjvkRTdI2OebsCGt3Y8/cf/8YEm7oV+/AeF6hUBxhsyEev0gTIXX5BVvAMaM9ZdV13VGL2hRUi3OrCIbaJoaozIM1G0Fl6ftaaNJLoBliMtav5mz5X29jHM7YIUumzePCliKsYoBn0ObM191DCdJd3qM7R/OYe0Dn1EEvWWdN6PjWN4VKFWx3BU3RCJb4w+MM4SuEjjgiGbWNREPLtDpV5vMUzLBk+6IQRyntLfrWLEqJXLe0/7ZkZnQmbYDamS8wuw5LSWtidoK/2ICJeVEPjNpdSsmA2yD9A5nr3CQUZjaXgsPfiBNLklzfZduVarwG5V1yhprs+k4ksmMK/O6PJ4Fhkk3JOiIeR1fS2dPpPmKXg39nCYJud3axNwhuKJFjsTIl7dUZg5LlmubGE7ulb67DOEG5WhJwYeRt620t5jlOplj/2+ekqkf+dXpakDP/nOO9LbPwBKjW9Juel8nX8tnS1oc1eJZL07UGd1UCUz01LsxAPe65rNvZR0y+esoLLEcOsSLHBzsHwszmfMa4qMvQOi33bF7HLTcF72Zcszc9QBB4aWOd3BGLtrSbdd+shBR3FhCc6yMV5uN3xur0faT1J40KwmKq46vX4gfSuudzQiApYROFSm7dm1ks70evIxsCXP0FWFwahVgGGNJrQfDx5hZOMYR+yPwJXnH+OE/UKqr8wosYjCywWjA86AiJk0kvoYX+tL9p60d4Q3pbk0jaTDQ8kfS4N9KLFtYjpTnzGGu5kTtf2awq3O4VFXa0kbYENRAQsGY8lKxbOHYpzUD2BROplsEjMjv03IMnliHnvcMU16nXB2vMXby/9GNrUcvT5RuBPQwDIZVQK6+T1p/33p9/6m9IO/RSPj5DPGbOWSBTtJ1t/8vrpyC5arC+gNpdxYYjZlKdj/wQAQHQ4NNijAgfUWLxuawkMBh1VZLo33pjBEtGVupoP4zVLUKZY4rS3wEAnYYxZ0aAHiz64g3Ic9HkZUr6XTEzZ9dJ9IUFTQSds1ZHWSIpdrbZzLMwaX2BicbUj+QnhD5CFMsR2Mef8IgO770uBYim9j5e0QocjmJdnAa43owoWbLDZScSYlX5k2qzCoNIEtaFwzK+O/qZjbWBo+ku5+C7qrXCOAcTqpmzFMNRo6dHxK6bM/afTkY8lO0Giq5ASOJAXH2y4wpmvJHkXHYVaOhSZANmnSm5mWZs2DCVSa8diW6331hfT1xxQ9rc9IR2Igm+HnZZbvpx4e25mfOzIPNnWgpKZ96fwKCHTrfenh95nBv35OAVlHHDPjxkP4wH6I2NMym9YPqZxai7kQtwIMuwGjA8HAPHXggiOW41YQvDMWZ5VQTKy2RplSETWSRrqzK906gHOrO7yoHwJ2o1BaWqSEspBOX0hPU6LHO5E0aXGYTqTK5BKxRtW+6fyEObM0ScNBBkFjCiaXlmbnwncWG7151EdpRhciMN/OCA4yuiNN7pFurSnpvamk2PB3siHWLRMJnBktuieJFJ0R+fsj6KLS4jOzDIqraEzq7aRXZ9L6pTS8A3852eFUiUFFVHSbRqNdW0HkyHGa1zi4qcHYpSDRu8p0fzrghlWb67NI9XVs1GA9STPOXxqPGORKEqkb6fVjmofH0jiVVp+yHmUGKe5akiJYj7YEUt0wNp0L5/3Flgx4GEvH+1TpPZ9jYs7W0vxPpfmPkbe1lenmCezvXv0Yrq5vQ9/0YqkeclPDRvr8lLZUFJnxAF+vHxje+nQjBq1JpYa2UUurUt2bk75sIYxQDsdpOTyj0fJZTKc1HRVJ4QrRxmCIEamRntpc/PKSSGP5kkLAvW2hnC5z8GLTUhFXDelnWTOF6ZVSb0GK8jycz+24d8vQWUNf6sYYUf+2tPMA2qbeStYLqmHLRryaZbTfugE0lbMg+vV60lu/Kk0bSObknO7KakMfvm5wvqYB63UZ77v9kgJrNAFfFzmaTHdPcnak1mlVb1vNjnDS1TVtwDhkb9JzxL7LNZOCXgPFUjUUJPI5lCvo8f69GucuCyL9YExBZtkEn+FMevcHPLzg8pk52KxEHKOQQFTnZKGDIQXkouQBBq5PxpntSf6MJ8hZPakYEkhcm+y5bDj6ptEbatK1HQjLPGS01W8xhNpG+7cTwktep9Ks1uunDGwu4B0V0QMtM3io2sYr/UqvD/bcJKTePKdYUoMhRj0WqzLVne2hnvEnJkU4jJDudNJbc/Bs0/J8F69PX7hO6Zb4ERX3Zk2UbSxO0l0bQ7dFup4NwWHbgu8PLdqrYWVmlCxS9HlHVezl0t6MyvzFJ5Dewz3kaXZLN+jgGKzc2qTe410peoTh5ivp5COp+DEKn8sVzpd0dJXKmvUKR8CWl68oCndCol8pqb0FZ1llhnecQ+k0lhm3NQYxjWn/DlZSfkVeTTqCQnItFXNTtBZiDKSWon3TnvXJAlaDk5QFh14Vovng7kqHvlQtiGhtQ4Qe3GZ6crVmDx4eSY86lFZVboTCHQa9taVXBSceP5igZ91uofPqmr0PA8l9uTDdGNukgUIamZTAWYFETLvFuxVTxaUbPL8v0zcOpWjMwnYpPWdHVLJ3903KcPFQ14Uwzmr65mnBJtcGNdulEc72iWRVAR7q941Mv0/B0JtS5d48hLIpiZaV4ULTBroqMbin6qRXGYtQGs/sdxDB5x3YariW9lb0rJ98KX3+pXTnMYKPZ0+l2wfSXoYTTSOKoKcviaafPGVs+OkL6Td+V/rB7+FYRYSU63LFSRxtx7W0N6Csk0a5FJWGkkn59rrCAF48wUF6EX+3Fam/sGk0FAXPOnI6yHCrplskn+6NmyN06WxpWdIJqm0pveJQgcO7BJTPPpa+/HPmfyyxL5MJ9jEMJGuX+1ULDOk2TETuToigQYjTOhaF5mUCB+t5htMspfuWlB3we77FjE9PNBLSK7pOluBdNTIEqu0z3WeLD/EMTdIPmSBsTZurNI3z2OamVxspOjCN94LWkm8RRbcJyNftWPTGorDo7RK2r1dskBfCb1kpac4fmb6zTVUb9yBeu5oCSYb+aVIG3NZLpGsXKRXnTUXf3URK1lMGYcgFBmsg7nuwg46xskiLsx02uPW4rk8/IzWmifTBfelwV9qbEK3SlGKrKhhDTQvp/XcQtrbn3E9q81g7S8waeTbt0bajsAl86c59afAAfHc4QlXfWfSG6wSaKvdNVM6QB7Y1htDYhjdOaEn6Q3jizhVnCVUEgb0DBsIuU8mdQdFsrjmSuxOEtmvWvfYYc9nfgfJKUmib+pq1eXjPtFRn/O3yObxs1EI/BS6dt/UGnF+27FGWSlcXpuizqPTlMt3oykSSrjU7VQFYAxMBHWGsdcZmxvvsbmmZGZMI7irrxHy0h/E5fRbKtWnt1aUx0hAsdvM8uaImUjVrxLzBjOOuW8MXOiaaxDER1neMgZXwe5uS4wf7OxQIRStZSymcMxiVmRaia26vFY0AX28oo1oUN9Nj7sdqpYP70vG7RLrKdGqurynQlldSmPEgJN8oqZILrm/2SHpnD+zrL5iStO8RKS0fjrCxOHtzm6COqhuKu1mAI4Uh4tt+KLk79MKbBSohK6WTk+ZvAoUS9qkxBhztG5rJop1buXRa1EDrKZBufVt6PMFo85X00Q+J5GXKmHJ2BkzZbKSzEzpyTcq1VibA9wfSeoBTjBZgy/WCYHV8V3r0mCIzSRHdbJbsR17gkKsNkO6m+zbuIUqxTCBhDAI7QerFPWhiEcIDD4wR9Qi9i7Wp2kdY/mDERbotf+u6vGdtDN7zCM3rXPrsC35n10YZtBuj3MkdKY0ho8OQ9HvzoMYwRC3kOSxCYUmLDSnbdqiay5YJus2Kjs/yBZHLNtexkImsxiAnIr2Hkt59zEDY2TWYNb6FlKrYMqq73KBKCj3DFnimQ9JJp2ccgBXWSL88Q/uUAi+HDilxmxrhwQB1jVMwnOfYsBC37kmdxzhwWvO+nc9BBTs7aCB7nbT8HBFyXsIrT/rQQLZn5pNGBJfsxIzuPjBdty1O3sR0gfaGUGxux2kZq3OkbEWDQbcuZ68vX0ifzSmCpDdUUKc3L1tU5Y7FvfhG5OHYYPy6MkVwRxEd2OagiA6xS9lQ4PmeiZQym9OYFGeoJbmC8N7MpR3x3JgdHwNKS8lKwI97d8Aw/h5/HHlwkZ6Mh9UIKrwQZn80MArqkqq2rTmVIRhyWIFtMdOxXCPdajsiSpISPbcVltTr0WnpD9jwTz+WTp5zP8WW92kMXXTzuA9bbzw9E/jMEWljsitdXJG+AxulzKbgc+vG4OAWEB840q0ZxxlaGUXEpYnQowFtv9JgQ7uPuKMpSfPVhuF+z5fe+q507y34xsM9jOXqgnv+eiR9+Zn07A+lYiw5b5P+nQ361jphzv3KxhjbWjq6LUUzul7jAYVNnRE4VhW43x2Kc38SskCXcz15ZYJSiSN4ko4eS/W+dO+p9MMn0mXO+nlmHVtjN7bopqnDbpqcAOTKtKTNz3o2f9QR4NX3KLjKmqCyrb9hlNKbfrenN+3FvvnemXjjLKHtdzhhDkZrDKb0eUMJpU/XEKU8l4jiOyiCCk9aurSVmlya2VJYojyZxUSatCTFeR6pQAXUQ+tAxCepVLjSwhh2dpueuR9KO2PkYOPHTEymJZVd37QNs4V0fk76q4zjjcaSpogw9t4xILzR61N151dg2cUWPJuuSf9DH2nXranUzImGRSNlPY6OTld0ZCyPB7YXA9RGhWELslT6/CsOmvV86eJrPq/assZ+Ix0NqO5v70s7A+DJszUF5e2pdHyMWjxNoZB8cVRgnUnzGn2nMvrytW1OiWulswuw34O70oOH0tGF9OwluLirMPChy8G1n37Kqb/9HZwvScmgllANDR3kc3VNR8+2yXLXYszGjthvdRh9axEIQlsqQyCNH0LyJ/NvpO+bly+okaY27SMXXND3eLTaqubI4cd7puNgS/sD+rxrU3xs5lBLuSFxHRu+Uh1pJmmkF/Ub4vzIQvJvBW80ik1NZLV9onFT0H3wJswJr1ek7ekYIvvJqZScEjVvHYpn7hwwuFWkUpExs1xtiYA/+XPp2Slp/fZ9aXTE+41DIppnsdD+gA3vD6SPvjQsRI9TH6KeUY67ROHkigP0w10KnC4z3F0KJWbbUGtnzzCg2nBVfsTX7QP4xiiEN7QdDKouWUO3k7aZtMrFTHpF8TfsmerYlib3Wcv1ilTamqhtdVTp/T5Z5rNnpIgH96TH72LIX7+QTudE0VdfU7xM9yUtJT+H4tksUMgniXS1xrGGPRMpS3jbwKfATRv4yW0pvVoYlqTDvurGiHoNnvRs9toPf45RfvMVW5K/y2lY9/fQzC3XPGD8cCodRlRo/oTpxucvTbO+ITLKAkd64gAD32d4SB5pypY5UayCz/JsvLRqSH1VQydFHQVHFNJ7rnPGBpINaVnCOVwHHJMLfm64C15xGvi1YWiOOfHhwxLT4+4cRnXDmHTR6zPI1BuiV2xKo7JPiNxFCfYZ9E0br+B6FgvpxVLaO+Q+6wahRZqzyMMxwod8yaZuM6rOPOU6Hhxzb3EsBSVdJ190vmThmH5LBlInnhk5hwkZjaXRI54C2zXwt/2R5O6btl8FJOg6ov2mJF3HMbrWvjGMJuR+vnom2sUj9qY840AJP0RQ0qy5h7zg87oGuq+uWZ8qJ+g4MddbpRS42xoHvFjQsrRa6o+2JXIe7PxM+jbp/vUr7TBISfr6Qoou3kjPVhfSc4cb8RZ486Zl0W4PeeTuyRkCAdvFeNKWNBtV4DBbSMiaTHK3YL/aIs3cNPZroeRxLOOpTwn/4wFSq3SLOMK2GVKb3eJsyItn0vX6TfTfiaA37s54nuK2ovK/9YiN6huMmi5YpM01xuK7YB9J2u8hu2ptKvHCtNiGR1Jvn8zgmirUdljcIDEUjQPJ71VAmsDFYENR/KyueSLZakEnZi/kut2QtfICjKkxXHJR0HE5fAh2ThM0Cb5FVHWmUtOnhXmdkB1GkWnF5txDWvFZL78wDuCib+1NMJJkgUH5O3x+baMGc2ZScCD5c6DDJjcFqMHsm4JjAesEgtzzpLOGwnEQgJ/jifR8De5cVex16KJItz7YU/fsigo5st7cVNfS494WZr5bRq4mQvI3jfebL0sIbS2bnmsjvMSyeJ+mNaJSy+gfbWT3doT3p4Z3yzoq7LKjL+tb8KdhSyV+M5czz6jcNoaQdmxTzDQ4T0dgluH9NbDp9TpTIuH0LSJYKAjq5TlK7H4PbnK5gFLZrsGMb3+HB8OfX0lPnkovX/B5x4+oOJ99joPcuce9tg3URyOI4sBmY+wep3oELbTI5z9B/TTocSTjsM+TFNyQll1tIl26lJ4+Qy3lW2SO/QMKm9mhieyiKm8kffYc7ByFtFyrxkTjgTS+Ax7MEgJH25jOWk9qc0lbnCcasLfZhgLSdYlgyZpC0vZpWjQ2A2+NJa2eM37c7/Mez59CCQW19M6hZI9gQ9bXZoivImMd35Osd47UJWtAvGuR9xvhESMfr1zJqKD1X833tvT6USOdsdRSUC4jow7pR9LBwADgwmAH09EJHENj+JJcjkZuSz7XNrxUaJlx1IxIUixNiA8osBrTJ063b0YxboSta95WrkPn4a0pFaptcTptbuMEUQiMUEGK6oWmmzFGQPDxF9KP/jmbffsOT+xabaV6A7Xjh6TQq6eoqdw+6TGMpPMz8UBOH8FBLwRmhLaZp6+Zp7EDYM31l4gxvE6yYjJCVeF8uwdETNWmGVAQlfs9OGAFFEFBxDBfmkHltRbO5hpiNrckbw+c2tTAkbKAZLf6rHebYJyu6QY1jVSekIJbxwg/Qoq09Rqsa1twpFYKxq42tIe7hPZqucUR4h1otzpHN5umwKSDA8l1dlCFBJm0aoiAjujUjCYA7gcjbmpdEDGKEvDsmZZSlxhBgpjpaG0pyIlosqjGxwEGH3f0rHfGGGVW4GG+A67yBTGfdsyiFFvkbuMhmxrv4NV1yWIFpmUYOTjF1hD+vmcKrdbwko5Rn0+JHEWG5/o9oXgp2MAylSa2UfK0cKZNRyobR3CBly84Kq/pyAAfPKSKlSM9OCRiNzYnu7m2Ofms4kygdIETTToka0mFvnI2k/ZvScGedLpDBIga+M44Zho02pc0Ytiq3OCcT16wbpOWzlSyBVIFpTR3IKuTApopdKU7j0i1yUayrqRuSZbyfFrLjsyI9QEsRr6VVMFALBJU54y7GkXZRq9n50+/Zg3bCrsIQzCn7RJBw0CyF9Qk3YUUbzF+y6Id2dU8wsVNMvLa7V0pOKVnvXcEn1SnNMybBjVQHKLc8QKpdFG4xD1pe8GFOQFeN4lIw8kN5+RLCxtP8G1GAbaddJVD0KbLN6nfN12IoMGQXQ+HCIe8f1tKh/fFEyWuoRHqGrzTryTvCvJcFUSzJaitpGU8wZFU78GLtbZ5hF1OIeW7kr0jVR5ptPVgGiyLkyQGPdRDt46hr5KtafmZ6t6pGVkIIwygdhAfJCccC7heYEB5JT33oHmciDXYbnlg5/M/kBYvYAqCEKM8CqW3KunAlsKUiGfvSvNKuqil0kNQc5bBGtRfSl8+J/L39oEDjgXrkT0BQmwW6Gdj10Qhm0wWBWSIJgdzdzUHQ1SWVFybyClSfVOwtzcTovaFwakh48yux2l9kYeGosyMxsImAC430tTCuEcuTh/Eknv/EFqjK4hy1kryC0496N0irfZ3qKq//Jro0+tLQ5P2uhqDDUYISQcOnn/+lOcqrhZsfByZxxHH9F8dB+J8kcEl+gFWaXXMoDiiWveMkKPK6KiMPGnXJ9ptFjxk0vKo9MZj6f3bbOT8FTxl5VG97k3gGpdzImBvgNHlCQZq1+DRyKW4Wi4kb0Sl7lTgKLuR4qURQEQ8Y7BwuBd5RPu+h1KoaXn/wiVSWxECjrym0Ih6PJR1/QkC4nQrffY5uP7WPkR6XuCElxldnFsX0v5tY2gHOOlsZj6r1utnpy8KTqdratLiWW5EKLnUPTcC5poOTmp6zq1x7riPSn+6I/UPDM6bGHWTD3uQrRFZ39BU6Zp7TkyxmyZkT0/QQ74hu9eJXj903k3Yw6qjOK5tOl3yJPfuvvQko53lj6VwH1AY9cAlYUz1NBhJk7n0l38s5RPpwX2+f72gE+N4EOOjHWiXWchsy+QAesSx8PzCVFpqpXHDAZyrrTHSVmq3VMluY0jvGP1fVjATsjug67NcS3u3pR0TwecLaTTjSRN1/OaBl6opEspcqkrp3m3wzqbifBzf43ezktRqCQzbeRhqm/M9b8IZ4NoYtZTNCXKujTI+9sFjmW0q8hCDrh2pPZRWhgrzM9OCDbiu7hEQ6fxS+uM1NM5v/Lb04Ai4ktdE5JsHu/d6nE7hXkvTkbT3fZTw0pt596aRNi+krz4h2h3cBud5HpCiSnnf2RFZal2Ca3sue7UuSOnjPgT7dEeaHiF4yV/yRIcqY19kYfythZNYGZG0FlkxdgkKbUVBV3fcd4YJaCHGXrxGukjIwu63vkN77eWJ9PTU6Ay3nLN4a4fzuN2aDf76BOnT2/d5jvXLF4wveK7UrkwFN2ZjuqF09zG47fwVXtWrTTS0SQ+2AzAej9j48zOO69sZIfpt5+Z0XRkxbyAllhll8CF0uwmLc3CIoSQF2GUSg+GWFdWlhNH7Nl2jZk3RlVa0NLeJiWg1RrI1nGCvAzvWjhROiEQylaonVv/WEXRVWUh1gOx/f2akdRVPLAs9iqi6MyecxWbmpgXo50ujJLqQ/k//OSdWvP0OT9SIIpT+dUkafPgQnemgj4FVOfc3OabwSwsimjeSvv5LaeIZoW4uqaNIKRrJGUu920TJtqGX7tpoUpcrafGSNbPOibSn15xCFwq1VzrHGAsbGBJ70mxFwZy12M5on0ieFnSBXBEA5lt0o1li2r0lE5wPHkjuV59CwgZ9Ku42lMId6fkT6eor6X0XkJ0sGKxXhvX/4DuMD2SJOXEtJUKO53BQN8ruMJQO7lBw+AEh/uoKasJrqUTzjA0LRGEx65tJuSkDUaVNRK5KMFsRGkGww9+t1vRNhwOkXM0ZWDfypdIBHgQ2eKuzIK1tC0dqC47S8ztEHGVLpVm00FILkRZtB5DejszDMi3Icc83QpOEKHYzKzRf04btKoq1ZGuc3ULqVrYUDIFHlX3xCnF125CKr86ldi0535befxviuh0YXL2VLj6XqqkU3MYIti1FyWSXJoezy4NT+2NO7V3l0pMnPBCgXBqqKSYSDk3h0jrAId+mm+d6FI4ffQwe391F0hdOUHQVC7KZ34N/tkqpd5fHcpctweHOAxyptimSIpvgVVQ46MUJsrZxTzo5oSBzrzdEsS+fcg6260rubfiq9QWttcGCJy20lnT5lPNx7n5LGj+U6hNohupKevqcExCGEZFsPSdVbzdU3MMhBmZ7hkj1MfjNFlnUo0ekzTQnGjYZxh12VJuVAOVVRcVdb9+ckRPERlgxoJC4nhOV7ciIP2ocwYnpInQO91NVeO80YsGXGQu8MxSPuTNcbZGRbpYtm+cGYN5sTbquSjayqsBezsDMgXdMPbYJzYHzNYNtw7E5hc6Rbo+lD/4donZhGgtffErB0DtiAvPJBT87PmISwHWQnDk2A3ylLZWJ9MkaA+1s6eQFx7dYLtlpeU607Rqwc2+CtjJtyUJ+ajQHBlfmlvThe3TuNlesk2eaIY0lfRCAlZ+dEmHbhKwSueB8uTRDen3zACkThS+ec0pIEEmTR9L+xIzcfCXtXUvW/+p/qa65lL76WPr8hFNYNxuii2R4yB4FQ7PST5GU0xlk53vvEtH++I84cmQ0pB/qNmy+1ZLKhlMUM1aDnCvsS8N9cM/zz4lu/R0I2TQlUtQrDNb1KEjyHKNbJGbD+wDnfo/qua6gJdKE+4j6nFtUVEY+FdGz7VLp6AC65XpNcZSYXvLyCmMvS7o6dmMI3pYN8V0WuT9gzqSopJfnjDIMBwbcu+ZghD7zK6sta7e6hJurWxzJiiDxj49Yt8rg61UKj9pzyVBXc+mLF+BH32UjmwqHjTwpmkBm55kxEI9Rjau5dLIhze85ZLR5ipBkHIPHnQnFm1dgKFZIpbzO0CPs7JOqowqs3LlE5GhCgGkt+Fqr5qhsWWSxtqEY7Q2lwX3mv6pCevaJ9OXH0tefE4n9qfSDX8Ogr08k63/xP1KXrvF0CWpksaILkWWcSNsF3Ixjig/ZpL/SlrIr6Z0H0u//LegZq0C239ngxCzh/TxDRocxeLGsmQvp9zn/+/KEYsSuKY5kmWGwiiKnq/m73LS+Otu0viwwS2CDsaI+LbvraxTRhWM+a4tBj/dQXP/wn0iH+xQV1gi8dHVGavYDrrvMgBi+ZQa+amBI2/GErl6PYavlkjGHxcZwlwXXmCRSs6EofPCQA6SswAx2FcjyKhcO0LWkD94nitQOxcyzl1T0BzN0j3lB4Ihj6dtvAT3amuDQ74NdNzkK+tNTRleDkC5P0KI6csc87nr/EecpTUZEzmLFgQqlSeN2CunujyV7QPHrp+Dm1kJXcHO63LaV1meSv6WaDofQYk0DH9qFNAECx0CoDkixXdE1K0qYE7sHJLT+g39fXVkCSu2Om7vaMmDVVNJHn0kn16hBjg7hGmOHc2d27gJQ7Q3pLjQf1ogHQ7ojwO/5Cce/Hc6gmAYzui1ZSSR+cASe7WR63zUdEdUsoiVoh67gq9wQdarCVLIxjrNOSffLDbyfH9Lpmc/BxGEEHRNEGFJXSw/vS+6hVAZSfY7RBS4LanX8/+kF8MX3pXu7HEzqONL+Hin7z/4Moe2H78JatCUna2QJmWI647Ndi+nIqkNF1IjNTxZkmp1b0GaXl8z9+LH07IRN9CxI701t+vM5GO3WIdfhBtLZGU8Dq0rpckukP5xJx3ekwyNp975R9yzBfOutdLQn3XoAxvQKMoVdi/adLQU7nLrRVFK5wlE7F/VVb5dW8GaDYZcr6eoVmXEwJAJXLWu42TLX41qmILakYAJ7ooz3d/rsr+s60slCenIiTT3p9jHWuzB0zFt3IY/TykykdcyqBBfShx2q7M0J2OSgB+67dSw9vEUB5Xg8Cm3Hw5gTsWn7u2bEosCLzy9M//0BN2U1YLnmRJKpdC2LtOeNMMrQNurvgN+xcr2WzZctx4dcX8OVjl3p3gP68bKohouC+fTCtMjmK0YsfIfW3v4BlbhcBM2jHhzg6RqMeV1K1xdUv7mDav2Oj0GHJrp6A3rGJy/oSo2nbJTfMc3oelJwBG3j97jmW8fSW48Mu9FJf/7nDGH1dylE7SEReV1Jq5c81yhpccCey2dHLdkp6oFtF9fSzgVBxw7IZnEsdefSsyspyVEIzfbghicCuuiUtHt9zt6O+vxdk3PiR7rmzKXW4NT1OXi3iBFmNIZrbjNwZhBAqXUNHbvrS+COlVGYVpfi4U4HIyicLCGqdGJIaCVwXz+WnC1zJ9dbc5raigj2+Y+56fm19GlnZPZnlPbTIxb1+pqe7dEtHnmyvuJMHKfjhiWOKFluzIEIJVGgFsbZ1BRGreg6tA03Z3VI3y5PpLNTKsfdA2m0Sx/Y96RmyY3PcxawN8Swd/c4ZbZqDX8WAEmKLXTFaAaY72qq1GBsnjJbm+o7JOJOjXOtVtI//1j6/FPS2sN7RKbBiE2aLTHg7dL8bSAdHiCx6xyEJ2WK3vLVSwqBixOq9sWSqFUVZKyqA79ZHZlhtCdV5zwMIV1C0QQ++zad4gBZhyAjdLn+gcN1VBFtXc2hbV59hrJo2GEDtS3t3mXN+w4q9aaH0zdLng6cJ7SHG5Olsi1Zd7Mlwg+m2IUE9h8dvon8acf7VEsq+tW55D5/gQzMtqEmBqHU2yO0r5fSqwuMIe5JXYykS+KGbx/TYD/zeARaupFenuJhn/yF1PtI+uD7iGxf5RiZYyNpCl2iURBgGJFHK88ucI6XF1Rz/R6VajQkLbW51CQGbzbgv3FLNFuYll+Z8Jl+j9MZ7A3PgFwmFBZNLX3+BKw2iKTjhwxgJRseQLBdUNysvwZzDWKaC2WDRzsdEc6qjVbTBns1BTj3aiP9+DMi0u270m/+BmMb7w7h4rpaUoWxVTK6zYbUOGilV+ccLNAl0t3b7EtXM2ax6RjZvXpBJV040k+eUDyNQ+auN7khv29RjPguszeXF/SdRzMkardNZ2g8ptHhXMFAbBspPUOmF/lI5OqazlZmMl2X8v3JEYViNzednBKueDYGg2apOSQhwEGiRlJLS9Yd8AjmwUhqtuDj5J5k7cXq7tyWdg8xgIFLhRfs4nWLC6rhpuXo4iIHFI92mIe2Q7BPZ4NFxj2eptCa9BvPMD51hiIpqcgsmy5IPIGqsW2qxqfPuRG/J50/M+Jd1xzE1BkM21BJ51vSQOhDlkc+yvimJcpZNulTJQa0nsOdNhaG07UYgu3QXptEPNN6viCqZNtfrID2DWooReQZj0ltdSmdrmAvBn0WfrshyxweSb/+W9L3PqQASVZmvLgkciQb6Uc/Zj33R1S87/4qkOF8Kf2Tf0iF/f6vS3EptdfmENPECEgaSQW4bToD5gQd49PrS0OyW5I/pDed1WD83RmRz26oDUpDpYUDqJq+bc58cqCELNEwCUMCwDyTPvkJlFNeU9SMh6xP2/C3aSr1Z2Tl+8cUeeEBvHHbEoEDQzFZvqUumkqHH1BJl+cYwLu/zejor39IavvDP5Y+/xHRcGCRbu+8y5k3+/d58+VLPOXWHqd6lQ5Rszehgi03GF/ZgeOKK5Qv3oihrHIpnX0BXotietfXKZjs5gFRm5obtQswzGRAtLRrNiNPDQ9pEf0sH85td59DWJ88B79evyK6eB6dhbThYU7hlHTfpRh75zIS4AcYxMVLDHXT6PXhsj0fZ4yPpf0+0S/JWMe9YyDK00+l5z/BqX7vb0nf+U3olbhHZFle0e6sCvP0CNOFsmJJEQNxH/0puKxLpLt7kOpBTHG4THkw6hc/YTQ2nkBOP9iR3Io1UY4O1I4pAj99we98+DaO0bZoBCpHeusDqJpRKHWvgCcKIfubgsr57BLGoS6NZNABunQ1UOVm8tWqgRODG0jUM4LkobQ6IdvGHtk3iiVXERzd538A1aFG2u1JT/8QwtZKpO/+QLp3B697eQUmDIfgwjyBs+oHSKdWLR4Y2XB2sUNIsTwz0bcyNxZK2RhiuHaowCxPOn4MVvM8hoqKGpnYdkFkm59JL54COY52TMusZByj21BJ+gbzOAOq3Lw0g1I2njrupM8WKJ18m+hwspS2uTSqiNi1R8GzzRGrekPzTJn3KSr6SwzU8aDCThaSltKXruHuCnDg8FT6nd+Q7j2mMfCXfyL93/4f0p9/Lv3d/x7Y2xtxP3FBxKs/AxcWCVnH8ykc9g5o5x0OJDtDl/r2r3MNl9fScSIdPZQ+/gTYsV2RrR4c8oAp15HuzRnd3d3jAQk//pSUff8O0j5FRggzoE1bCcosMgR840lyOHjsoyfS81fAKtuml/7YZz8uN9QFbU7LcxKzLo5Dd6i6gqLqe/zOq5SfTWaSdedddVWKTrJpsPaglPZ6kj2Do7JNek4XvEFXImkvE4PpjnmwvG9RCEWRNJ7hxb4lHY+MrL8vdVu4Lteh+kxzAK4so0QPWRTLlboRyp5nXzMs7zoYxI/+IalvZ48IeXOu9k6fHrjbY0EHA1Kx45jn7DgY4e6M6HnvLqO/p09oHlgZ8zXqc40bA/7zBhXUeGwOU81Qna+vqVaDiAxS5xRNqpnbNi1pDcZkliRjkrItifYP3pJ+47ekX/1tVFTLS6Mwaticl09ImVYg/ZN/JH32EU4Y5GDcx9+VJodkoDbhALF4QLE6HkC6twWfu3ebbtfyElz51odSEUif/hgx7v27ev2s9tsPyHLbJQVLnoPzp3sUfRc/ln70F9KnXzOF8E2I8+AW/748l44PmVvKctiWB28xQ+SFXFOXoSXITWMhCqjsrXuP1UUBHZbl1niJ9UYdflXRj4x6tPF0ThTb2aUb4LkYWxQbMrtiQ0OXKLpYcBjr3dvQHnafwqnrAMZtx0LUBjh7oZH3NaTScJcOxOkJz7G+fI5w49mncKYyKfTm5Xzjy3NRlsuChL9Rxlum9dWP+e9hzRk8Nye4eSNOsy0rqQnMeK+Ns40OpXrJOUMvz6ieJ4YJGARmvNjQPTfPNwwMw7BYcK56zwNfLa64tnfekv7+/xA8tTiBhmo7ngx2cAj19NGfQItdb0ibN1xpvy/du0UgGdkINZYlXa/7Dzhx4sULsOu9OwQJWzj9JjVPkd3iXI++JdVrabKH8/7kM7pqkS1lFvDEtqXP/ogsuZxz7GGacs8SgaPtgAKBxzrYNtzv3bvS4w9hArZbaKs2NColF2bD7iTr9/+mugd3qUizFKv2Y05DKH0EvMlWUssGlrXpcrjgST+m2BhF5ndcKBdbcH4vzoi+hzNpdoAx+6HRINq8Z5Pwt9XacGgjKZwRXava9Fpz6c/+C+lHf0jI90JEE7ZHindrqsYsk0YdtIntkzLznN9pRQq3OuiYu0dEFcumlenZ0t0dHLM3kSb7UhZRQAQuCzn0IIbbzIz61uggVylp3PeJinFEun/6peROSJWnz6WTL4AEgzGRdmCw6uNvSb/7d+BPxz4ZyXdZnxdX0E1NIe1NYTHOnmMAm86IOmo2tfb5+ckpKu6bcz4dFycdTqUP3kLFZFkUacmV9BefkOXmGyL1YU967z3p136L1H1xLV0XwKFkJT3/lMLRClEEbTI+y7K5rtADZw/H0sNjPjeracWepYza3OqTDYsYXNq3oZ3c1hQe05H0zmNpsO/KH3RabhqdXXIcSVdTiLQ1QguvQf3ihgg4lwlyprYmQl6W5ojku1Llo5hJaunVl/B1QcRMR99DZ+mYdpTrYdR2RCehPzLHq0TQML4QtQ5jcMrODpHJ9iByswIFdJpQJOUVBc/xkbS55Od7BxjOzg646tExlE6yZJF7O/S0h7tkjNCSRgekyTyX/vLHVNe//j1OZ2st6cPfllKLFuGzL0j5q6304ivpyVfS/fc5IjoaIrO7voIWO9wHVuSN9JOPwb2DSPrtv0FbcTDjFN/jHVLlP/tDItjBLodr3XvAoQvjKQxGfsIpcRcvKISmEVHzBg9er8CPvSOOyL46BQ/e/VA6ekt68YoWbFXTVo52wPV1C64c5LSJeyEq+usVnS5LnIPkWdBNk3365ZZo9SYV0TTJpS++knoz8ySKQ8TNU0nuEGqssiXrb/+Kup0D0nfVSge3LO0eSWXWKduSviybwzd7U+ZXmjWRzhuDNWsHPqwyNM3FJekzGJhTD0ykrTd0UUY7nLSgHP6rXOO1VgQMsB0olc5GemXz57paSKul1F2TXqcHOJPT0mVarc3JvSEEcFkS3QZ9oEYoKd4FW91ctxywpldLfmXO9on0+rmDqzm/891fC/S9X93V5ydz/Sf/u1Sf/7n09/670E87R9LolvTK3NNnfyA9/Ur67q9LP/qYXvftB/xeVkv/9P8unX2u1w+3ygvabBLw4f4h7bcyp3CZ7UifPZH++A/BXo4DhAp8ijrPl97+vvTdX6NKX17CoqzOccTbt3lO5iYjdfpjGgGznvTuffagrczw2w7Fzs35pKFw9O2a5sTXn0jlpXRRGpX5moMZei5Bww+kg3vS/kOCTFFLLy7MIbqCDvRD2JnxCDzca4E6vTuMhri/+m0kaKNDFBurs46HnrsYXehgbHXG5s+vqE77fS6yK1Fl5xJP3PKZ9IsMlihFZV5JaiOOTSmvIWJ7gVQPOYe8boiw3RUS+20BsXq9IsqlKcbZi6UvL6Xrz6RyQUfl2x8y37E/o0i5XpgxDZcn066upT/9gzfPiPnW96Xpe3RuyivSTc+V9sZSdMw1uwOuqTclZX35qtA7daODR77+/n+U6o9m0uFjHiS1nRP9wohHmYx+H0MbRdL3fkt6/jXt1NU5Kv23P0Avul0wRdrUbzBxK3Dwt7+P1qAowHjDXWl1RcfL2UVttLqWtGZz5x9LX3nSqxPEuV2JTC+OpD/8Uyn9Z9KH70jvfCB9//vS6Zdg7L0d6CTPlbJr9AvTAzOg15BtIuGcq3NUYcvn4MAvXyBFG8UUSp6LEe4fS4NbZhZnwSz3JDFa1twMrbU0I9qOLBiP6R6qkqz/5H+rru1IL6HPhXkWAHhbEIItkbqCAKmWXB5Nd/YSSVtZ0eQPR6iud/p48nAGRq0KomZZmXHNmtQfR2bUdgN98fy59JNnGOXiGpFqGUjPPoZDHU2l73z3jXRtszbStCEq8XHAopxeAi8O9qS7b3Gj5ZZCqavpslgD6b/8Myl5Kf23fku6/VBqd6VmIL18RuX57CuKmweHKOx/8/cHappG65NUzTWzSQfHFGQff4qYoBD4KLvmc1MBVaotjj3aAzM7HhK707W0fAZ0+ORHVPySdHQk3bpNlPzWB+BYqyLzbHrSq+c8J+fiQtq9JX3wGKP5/CeITvo96eAhUf+f/Zn06ivpV74jTe4SDM6e0GG59ZiJgnzBVxhK4Vj6W78rffirVOiXp9LJU/r32xNGgL/7gTQ9JHhVHfRZMIIyiseSQjJskcHBVhZZYV1I2RzI5loMCA5D0ncwRr/gzt6T5p9Jq6eMVVoWUa1zoRnyHKwY9czxGxmEa57RiP/JQlJNWK5Shv33d6S9R9IwZZD95jnbRQUZ24tNCi8ZuxgNpWxfOnhbepCADwOLcYeLjXRvAlk+ORCcp4WR789IF67FuKkvWqG1bWaYC4bgapt7Gl+CHeNdDr5//hkPhwpHgPjiBClZWks/+bH0yT/js/48kh69IyX5Rv2YDXj+EaeARD0ywHSHaJsuwOhWX/r6K0ZD7tyhQr55HlBeovTvDcgybz0kRHpH0l/8A6i2iyvakLcPwJCtYTScsdRvpIOplBzjdP4AHDe6zXlLmxc46rvfk3aOpV//HR5WGox50sXzJ+zXbMIUwd5Y+vIlQSHNKRb/+J/iGL/370hHD3jW4k8+wtniFhYgPICysyIC2LaEm2wsySmJxMk1jnbyzKQCz8wajVEFtbVUh0TLZMFeWv+T/5k635HuvIMhnnyJIiRdYdk3p836hu5pQsDr9Ssw4tNXpOujQ2avbQFYi0xSTKSxXXPu+UiyNkb0OSacdyUhfJESAZse9EIy5wD7F8+gloYDRA637xqZVUx1moZgWN+SHt0mqgc9IvVmiVd3Ibzej34k/dN/yCanW2aHbl7xBAcajhi+ev6ZXhONcU+695CK3AsNVZQA+rsaPjQMGE3endCpSCs6YvNzirODPaLd5A5QZLvBAIqKTavmpOp5RdvO7qTdiOlNr4fx+OK+7BBjOF9LP/wRDEkQmuxxTWTqLOnBu9Kv/U3p+B1OBR4NyC7JHIPrLKievABjqpDOnkqf/iVp9/Yd6W/8d6Sdt6jIr07MiXM51xJNEPIUFfK1eETA8VsgiV2BoctaevaXtKdl0ap2BtJ734Mme/YldNVojxks69/9troPfk06/h4R4k//hLNlBj6AejYB8L98hYolHPPItpOX0u09aXQPojcU1Z4/MkqRK4oQNyTCXl5RcJRzNnl6RE+9WFNMuYLOGJmIkixJV8mGYmW9IFruzhCMuD4RJfGkP/mxdPal9O7b0gffM+Opljm49JWkBmL+ZCF9+UxKXoCj5skb4vZf9mUJKNIbSo/v4XxhREVtxeYgLRclddVKew8la8z8TNfSD64Ter5lQlHhNkTZZggez5fsge9RDXsdhZgfkyqLkqKmWlPBvzxHeNILpC+eAcEsl0r7nQ+k7zzkYLJqxcBYF/B30ynFaGqKDrfBqK6uIbvrgM8c9KXzz9BE9F3GsIMjlF+nT2EqPvyOkaB1rFFl0z7enkMlNi7NjYsr6fAezry54t8m4JA063/zv1ZnOaiChlMWbX3N3MXYgQrpKunF19L/9R/Qfltcw2k6jjlB47H03m0Ma3IEzotagLjjM/OxyaGV+jVRNxxwjmN+aUQeGWp3a1867HOk8eEYh2iFcdcFkSJLoSlchw1UjSpoWyL62B1w6JRt+L4qoZPUH5Fa0gvoicqF/lgkpKymIPItV7ADTU1UGoX03AcHhrD24TqdEIdsK+lwaJ7I1qHRTFYUYXFHQWP1JP+QiObUVLxWydqqgzzuPCJS3sIWvHgpPXmFYv9wBu8XOVx3kRlHrskactn4QnCHnkN0XZzBFW5K0ubOkK5JPGRfbFPUNjaG37XIBeMe63Z9TTdnsMvfyCFz1RmY0Y6BVE0p/cE/xrC/++s4596+q4P9A/m+q+31lVbzrfrjUF7f0R/+UaIkhT3IMyPsbom41t/7b6uzDdbp+1zMwTsomr3SzLYEXPCzL6XnZ9I//X+aUyi+ETWGPY5H3r8t3dlDr9cUcHOxKXx6PWiMzvSLt5U0P6XHm64oEFofzqypJWdFurD2iEjNnEnELGPxqopTH0YTuLomkNol7SvPJ3LVDrBjm1DVbi4ZfqvWpOzdIwSz2QpPrmopDzCO08/pz779Dq2+28cUe41wzLblforaRMoQ6NDabFqeSTsHONF6bQbBJlTgTcWIhl0bJZRFC9Hx6W5lGwSyScrn+L6hrlwWvHH57KuXXI886dU1YyFf/RAH+t6vsC/qSNFViXOvl+gMdmfmwQgha1XUb6K25/A9v4Uh2BQUh85INEk6SZnRgM7ptcceWPTigvS/XnKUoDfmulbnRpXVBxq1tZnOLEyB1eMQWOubycu2WPTBmAjw7/0ucqt5QltrvUY799VXZkrOdGQ607azOwzmnWPpb/0No7c0nRQ/hBhuKm68N5CWOaduhL7ZFAs82VgQ7k3NUSlVn0UqrvRTh19VLY8RaSx4QMdCVbQ/o1puNhRYEmT21QpHGMVSekkXxw6BAuMeR9U8PTeHPznS1x9xhOB4hzT7Kz+gjZfYtB6nPo6cmI7R1Ss2r26g1zoPldDRkbR6RnQbzyhu4inGZ23NXHlFBqkKoo1EBFsWZALbg1prEkkhlFUvBDfXDUZ7OQc2Lc+J1rJRcL31mH2ST2RO13xO7NPuzFq6QHJZgySF9vMi+MOwYTogyZnHKT0w8V6fgtTqcJSsAKu3Bfj4x1+yr9GM4FAlNBbKLY/dm0QcWGv78NNBwDTBTxnlz74OetLf+zvQEk0nnV+bytZEqYsltNDFGTPB778F2Z1fSHcfSfd/Q1o8k370Tyj1f+v7dHOefgoAvhAdn9kUvCTLdHh6BqyXVJavNkSFcURUyDK6LmUJmZ5c0+WxbDok/RHFledLzpDiKxqiTnnyhRiCqqBm2haP9W1EEh9/hrMELp//6H0KqtOnOFZ8i0UsFmDKvku6PZpQYbsuLb4XT0xnaCAd3eWMyCwzJ4FYvJdv48g3x5/IxzHLwrRhLa7PNS3Cnk32sXwaDJVNgVe3FKS2J2lLT3qTwSU2jnTrLoZjt7xnHED6RxaZoazYt3jKWuVbI8g2nTK10tEuRZRv8OKrV3TO7t2XRsdkwabDMBdXzK1vt9B0vdiozLd6ffBVUXIPXQ1TMZwCS5aXkhvuS/n5G0MMXW7Q74ELzi+kT5/R+6wbBAL335ImUzZ60FEUzUaonn3PzD3bkrdGSX08kLYB3YRNKxUj6SefSs8uUCHt32Jz0yUXmTVEpnfvMJfy7ph0vVoaDNVIqhCRxi7F1WhEH/vWIRt7+kranzKO0RsQJZfnaBEdE81KG07NjSiq6prrb5ek+vsPIJfLVnr8PQqDvmWeHbQHDssazgW/ekVUeOc96d3voOCxGsD/ak602a6lpk/U2qxNW9YzWcKHJtmdMoxlWegAVHPvrUmj6ZJqPOhhIK4PBLAdokttM5DV9InCnWMmDAOu5fxMOivgZZ+dok+4/ZDIfvYZp9Md3+Yg08mM1JvVUj0l61VL0rXnS06GPjU/IRru7BAlYx8hyN2ppIYU3zYUULLgwRWStZqWRktWs59DT7KcWF2TEjKnI0CyVnhjfxf949qA2saicLjzgAvfm3AzbQOg7g/gH9dXVJ6P3sFDg8SMIvQpZr7+AqXL4X2ejHC1lX74TLp6JqXXBkqIyT4/5HCD7/4qXOJyyw0MR5DEZYr3uY705RfMnRzcIRrujdhk2yGqrjP+1o+MEKQFLrQWLb3rM+mTT4hUXijNHkJ7dVv0iKMD6eEuRUh/Skdia/PziQce9wLJn7B+ZQOWajKKkPWSyFR5UGCOxWNImszI9SwcpMvhMns9YEpjoFVXvSny/L45xSMxT8fI2aunX9HFuv0YRVJyjjON70h3HkLLvPyC6PjZR2S64/vS229L8xfcv+1DdvsRsEIedYHb4aS+LVk1KX5hga/DGCPeLIjYo770cAY8amocUC78qWcbjahL9EwWZsQ3QPD8S9P3L3tZ1s984+Zdbt7R+mlJmSXpzkR6cIdQXQgKaHrEkPvpXPrkS2l5Zua8GyJE3KOqXS/RSI5vSXfvgKdcz8zphGDf5QVFzmRiIo0FWE/XHAmSm3ba7YeMhzouxpi00rNn0vMfI9ydjKRvfwtN4nrJ/POzKzbebnn24qN3oDaWOYNP0760e5snKgQx721JKnzTOJjzWa3Pv68uKd52hlTjXoNaaH4NXWL50rvvMlagkArfFoeILV5hvKEjffQj6eUl7b/xDmqp/ojP3KzRZD77EtZk50jadaT9u5DvZy9Z8yphcrPtpHknvfwJ6qFgRGGSFUTzzgJ++bH03tvS7RnPbr845xCJO+9wykp6AfattjRUZsdoFfojOjlqJe9AaoeQ8dcviOqTPen4u/rpM8//ZV7dLzLl7s2/P/srJwvp1n0qw74FedxrDdbKpcf7knWLjS5KFth16Jjce0hUaA1xve3g+doFxpafojfc3WN4LIygkJyGh4I6Q1qI60xavaIKjwLOj5ThFQdjomVvyMkbg0jaHUsXPSiR1gEi5Bv665NAyq/p3FxeAiGGoTnaxMYB4kDqH5ozHivOZVyck4bHEyk5pJgoVvTRnz/l2UWBT5E3/BbDfF2I/tEO2eSmQItw/wGqKsdB3tczlE8lKfWknXswKL7LE9Rs8TQzx9BdjieN77KfvRHOPogQ5R7eI2q/esFQWlkxFnF9xZn3dQEEWm8pbGIPYn7+iqdTnL8Ab7/t0f0JbO4zMxi+mNOuLjas1fIpU6nuwW1S4cU1Uepf52VZv8RYBYf3459gXHcfm7GFNWB9EjN3LV/aiyDyRwN4vqpm2N6y6YXfnAne1eZM8g1PQPvJj4ERV2toFn8k3ZuhGL85YmTQYwElUlNgSRdPiYJ1yfdOXvBE2A/fovcb78G7ljU84auNNH/OdXz7kfT+YyLcagP1FcdI51YbFNb5JdyeaqkZSWGGUc63KIgsHzrK26DWHhwhBPEaZHLnG1LbcinJw5hVQ/GsbengLlI2FTAdVku0DkYYZG9I6t0/JNo5Njj04AGwSlvGgYd3iVLLAcIZN2M9RpEReJvu0q4DD/vsOfrY9TWR9L13OJ4lrZEAJgVnArQOa+K5Uj6WnAWwrtlAiy1PyH57O2am5/aH6qwO9U9ujLLVT0c5x6RkL8arm4bFD21CedWBJTwxgOXKHBLgmTOBqv+qgb7zWLr9vqQFM929kEWufYj2+TWC1oePwC6np3CR1gjDiEIWNq2gWrKUXrGVcANZwfzI9Rzs1bTmcIBW2r+DuMONIPrLBCrFc+Frr87pYz94h3aY5dJNGvgUJvkSwv3uPY6BmV9Dl207Ku3lGcLgtJS2ryjiXFtSzPhFV0JBdQMq2ELwiQOLz61sHGs4ZIZ9/y7zUcnCDONtcKKXZ9LJ54wn39pH0d4K/Gz7VNDPX1G9+w2OEowxTN+lqG3WGMZ6xXXkAW3PJiPy1TVpPQzNDHkEpOgFb0QWuSkQZ/s42Wdf8VnZJVFwek/61ls8rc53zfiGRTa8uGbND3Y52ymMJXezxSO9hvBd50b5UVPxZZXBhhaqGL8PILZtCoidHpXXq0h69ZS/tUzUlP2Lo2a6koaS6r4pNhwI3damopwdk0LcKTjOKYh2gUUnpbOIMK5NhC1qCrEykpST7m7dgyPcZvSTu0qaX3K2UVZglFWHkLncUlj0Y1LhMpU+/xq4MZzhmLYp9tyxdGtMNLpaST/+BAwczRAebK6pnOcLiOhvfYe1eDZHind5LoUFD1Ua9en/KpPsKdzgg/elw4QUPDdF4oN7MAWbhPSbr6GTwgzsbPXAxr4DCe1aFBS5OKtp2DP97Qp+t2faoCuHx4mM+kwxrrYYed+ndTw0bIE/pMC6yYRtx9Ex/ZiJ0iAgQjcbMl92Qot4uEPBObQNT5nBSda5OYGjpYgaTpg4tT3Jevt9dV5gOh+NFGzw8NDHq1drnuDadURJx3RIbkKpY4HHbBtytZMh1UWIbg229BwzlBZwONR0H/B7855qTRdhYn7XZYNaFyNcLhBsjEz1Vm4RinoFxc06kV5c6vXTUtuSDfIC0tp8ZUh8n/TidWzKpkSDmG8prG4O17/58gMYBd9DhJDbpJimMAdtidZYVaLUsW1ajpsV99EfMAlpWWaYboDk//QJkWo6IZucnPO0MqfH2g9DRoKPH9GuHPfJZEUmqccY7TqVTj7lVI9GsCVTl1Tr+jyNrYmIrm3GBKQfwJkOh6zFtoQWclqKmLYi0m9TjHM0Yg+9mHV3DV6uTfXdG5sZ+wCtwekJ9NrlGen7OkHv+t134ELdmOicrOGM//QvpPNc+rXvI6hJEsm69y11QcBCeAPJLwndtk0KWm8pCq4u9fp0s5vnbLse6axtMMzaVN29Eem93cLj5WtzctiR5OyZLk1pqrOOzw5KFmq8Qz81KzHKYYgxZy1PqeoCaKleCwasGmk/JlIUIUeFfPUVwg+npop0fVP1RaS18wsMMjLE8zYFI6220Be+T4SIXO7R64HrVguwquMQXWd9xBe2R2bpXNMSNGl0PIFKmkzQWqZXsAkf/pZ0dGxr8VSy7FaxFerHH5e62LaaHaNftD3mfsKQ5yLWC+CFG8AVj+4ghHj+BTM2kuT26dNfnZJGd6dEwLyHNmDzTDzBNoZKC3pEwL0RhVXsAYnOTqVnrwgYWUkW7ccURQqBZZ2hB7Ot0dqGph+fcShu1mKor756kx3DvvT930Ta2AXSF8+lL/7YiGK+8bL2H6pza4OXdulkWDUL3zl4fHKF/rCqiRJ+jAax82miuwERY9TDkPxAknmf0JPsBDwXDiVvagqNmg3PtxwjV6bMj0x28cCzMx4i+nBPOn4gRQfSyiIiVjm6znRBKtiPpMMH0qPv0P+eX6JMd0rzRLNKSi6o+tqQUx+GQ+lP/lA6uSRi3dpDI/jCVINxSBSzXCRtixUZ4/XCdUTiqmPDPBc83VoUYJVp/cURmku3k+7sSv/h3/8V/firSwX+iX7vNwf68mmqrrM1Glg6O8vV+tz7ck3GOdyV5JiNzskokxpYcbaV/uxPwXi37tFBaVvp5AkYO+6j5bQiMkOdktrlUUHnJcyG5wAv+i4ZIM1owTamwRC65nk8W2gof4rjnH5JZG07cxCYJd1/RBByW6i6/WPs409/hECnzVi/IJTsHmsd+vCVElnRba8wrlTS5pQNbQpDbfRQp+xP4fpWK6LAcA8vk0PqcX1SRpFiSK4Lhxd7Ujmg8e9sqMj8nnRVA2jjkP5w3zIYr6EV6Imx3Ecf4lXjW9Jly0KfLaW/+EdStzLe5xOl09LMrow4D3IScl54ZUNL/PBr6fQl1eg4kn7ju9Lf+F02+/wFC5hKOvKkc4v7zUzh95pVMJBl0CMTNC3QoSxMerd4/zLn98uSRV+Y9/Bt6YtXH+nxBwPdvf2eTl6e6vOPKw1H0vBd6fnJm9nrV+co4B+/LYV7UFKKJCuFiilcnNwNweNfPOdArJdfgp2Pj9iHF1/TlfEDzvRRKO3tc2Bq5UiZg/M0DcGnaIACwxDhrmvjeJ0NG+JYiEoGLs8C2uYYbmEDZ64EdaXEQCURaA73gVSrnHUscpFuTd1ih9zjg0PJGrnqbBvVSZWxeI4NvnQt+pazIcXCdY7cvT9m6L0SlbAjk7IaI9y4JrV24gLuHJMKvYr5Dy9AlDAeo9LJU5Tvrg0XdnBE1Rm69EO7Hrq/VQa5/cf/L3qk+eqXU1A/7xVGRPvjEVX4wW2KpCSjql1sONsxWfK9YvvGGEUw0DsPpeO74N2PP+Zcxkf3qUbP1pzH2YnH0i2u4VNvXt/5bUsffCdSU9T66rNS6UL6zd9hsu+jH0of/4jmwt5tI6a+NA9HyDgPyK6YGPQ9c+hCgYK7TnHQ8y85/DUKMYYHR8CIumKm++CutHPI/E2dsZ9ORK/8OqHTVJUY7U0XL0lQck1GkOGrJVlQNVyj5SDsaAfGqGsz1OYxi+QNsKXPP5M+/ejNkJxEtpzsSrPbiEf2J5Ll2Oo8G09pOpr+TkwUcCMzRttA/Fo+KaFpMN4goM/Z6M3wfVZAQCcrCoMwpjMynVBFe32oisaRju5L79yFXnj+FcIOOdLDD+kQlBXK7cL0if1Ar+egL1b0sbMN4oDsGxvvBVRyfdsoh25Id5uqT7ZRdI8Rqjamy3BxAlyJx3htaIqkzZyecfUNR9vd4e+LDJqlmHOkzGsnsZiLd0Sq/GXOc/ex9O5b0sVXFE07u+aJtzPgQzwikhS1pNQooFwOsP/qidmbm0LUkqpTHKr2pbfeBtfuHQCvGgGxXn5Eup4+lJ6dQzdFMUGgNFlrm5jBvS3vu3+AbvL5c3DmOOY9qk6vDzprIoqmxsA6TxSfZck5Rts5+9j54O6dvnT3IczH6swIUBxPr9U5dgM+sFIjlS/NKKxMSnXor7Yt9I01JTzXKcZUNETPYMjG1aYtV+RIluRIzRUUhx1RTE0tDLZrUGM7PfR4dQ4+e/GZpApPX6a8b9UxR17YXMvNKbl5YTaolZwUesmKpcMdQHrjQuI6QkyQZYx/9HZwqvXaFHN9JgR9l+JhPKAtJ1+66pBtdRW4qk7BtNFYctbfiIod0569+L++l3t1Jl0cSbvvSLck2SPJKg11ldOtynLUP8k1RPf9d2lr6gohxSjgJLl1IhUXfKDtSl8/0evhP8v6RsOtJcXfe4dpgjuHHA0YhKiYrCETk/svOXawE/raOqDL1R/CK9otp8I1Hdd38QJh8OVLMtJsB+H19YaJzHfelXZuw9QMhhy92Pekbs3kgi3JCl11tYXVegKgNo3RK3akpJs7Gduw+2mFF8Zj40Vb9JQb2zw2r/zpRfciJt+8mPHaKgGv9gw2G/aIuM9emUfntWgebw5z930qvWRDa3JbS1ZhPNsmusgyyugKwxwOwcA7eziYFxEhmxxs0xUY83gCVVOVnAqy2YJNXdfoPD2Mfb2Spj1OxGgcc4LtcxH2fSItosR/uZcj6VvvIfUrDS5tbK7HM1XuJpP+4o+lzQVHRd97BF/cmxEE1nPSaWbafVbJSELdkUk2GQcCFGucqSxwPokC5bs/kPbuEATakmva25UevE0b8JN/DuFt+XSaVEJTTUbAutNrjKxOeRbTq2d8Vjwlam6XZAonYK1nOzQvdmYwFlYFbxv42Iibf2MhC/OFK/3Mv6InmxXQKE1JxOs6vHC7ZE9+XkRoDPfVtsi5ukZShtiBWQcErOstCqSk4NmC3zRu1yFFdWLepuxYnGGE/K2u6YnfvkuEKGqixnrDTHtRINioc65DopiqOk6RGMam9TWnnejEpBg7NkeQRFTQTgm47ypJDb3tcMhnZpk5m739JUY4NM5UwnTcmlLM9S1+3ouQnzU2Ka/qzNmR5uerDY4VxW9O5t0dUoT4hj6rKxTlWcEefflC6uYYybAj5a4TsPPOGNX88pI5ncsXRGjXAao9ept0vbiGptq/Q0b1nnEgrYaQ/0kFhLo4xSAlxBxW8w3C3aHr1s4l9zYQwQ7JYMsTBuDs7l9DJfRv6mVZAOy2+fk/DxyUQTcX7bjmdzsKpSjmZ9vkX74I+ld59fpgp8CnBbctpOWp9AsfiP4zL8siMo36FHO2zQjBYCjJtHMPDjhP/dOPJNV8zlvvSu9/SNFZLDiooPR4T8+hCEpyoEG2RenkeVBnYQzGLk1XyDJYvTMVeF6Z+auAbHZ1CS4OXMZtuxaWJFliaJWDEt634bSLykjVcq73m1Zm2zzaeuQbiGggUmlwe1H8MqO0xWr9nL71mxX9hX/9b1//hl++jai2lulibU30/tnXL9gj2zE6hpL/9k21XSZUz54LfScHUa5jfn92DFY/fcHBBP9CL1u/2ElNM+ab1+i+vnD9zMX/rCrj573+rUH+N/YqW86j/9mXGxmG4efAr2++2kZm4oz/zjc//fOqZhT35uW49KenNjNK+fwXXJglTiW7iZLSTxvkzzrJzzFWS5Y6ReaH+S/4oL8uL0+/PPL/29e//utnjM71KJx/Gc7+2ZetTvA6f90N0ubIkvBAPy2J/zmv3UNLf/u/f0fTO8H/Vy7tX/llcVTLnQ84XeL/J14/E5nr6l/OIKVfKi776/MKJq5sz1J+AbE+uC2OEpOMevWnX3HU6fGda1lpqcB7M1n4/7GXRVPC9v4136eDslkuoen+urz+2pcqrie9+9u7WucrVVWp5Utkb7YFqLcncHOeR8t0MqSD9a3H0u/8nvR//s+kv/gCMe7tGcKE/TuHeuu7j/SjT36or/5y/fMLjF/2CqXdY/r16QkCjpuXZSOV2yx+uh33/08v97/pC/g3/eo66Yu/uFTQgze70UB2JvK1KyHFGiLZKwuqzx8+ke5dS08vOMdIou1ZN1KWVarSrfyi0eEBXTDfqHvsPnPvv+h1c5TM5Re0ENX8dGRwPem3/13pkx9KX/3zNz9wfKicZPmzbyje4BdQaH8VX3/tI+W/6GtyV9p9KD39IzO26zIqUedSL7JI/3WrIkeWplJwoxG0iiW6JJbHuIMEgd3ZdKEkSZaRbBlh88MHtv4H//OR/vf/YKuf/F8q2a4UHTLyWm0sbXNHVlwru6C92NpoVGVLvUO0rfMT/Qtzon9VXn9tIqVtiPM8M8YRE4naXN9oU/3iV7WVrBwhxvUzOLmgT/vzrXuu/JGls3WpbcJYyLPPmZLsRtLVZ3rt2p0x0MFM+o1vS1ep9MM/N209T3r/u4iJDw6l//H/NNK3fvAt/af/xx9KWmrnFo8v+cs/lB49dPTBD8aar1e6OK301aecTubMiPhNi1ZArnCQv0avv9KR0uvRR5foSHi+UfJ0CFs//D7Pkjn9GllYaQzmX6fT4/uIkVcpg3MH96UPviN98an0+V/C+bWNNL7NDE9mS6vPZcYMUaFvtyiB/t5/4Ohi48jKSv3n/wfp3/+PHml2/0x/8I9TRZEjx+2UzhtdLTuNQqm0eDZimqOCby710xTXX+ndfPP6a3IbP/9l23y54ujB/phpwVXGUYM/e+eBaRcW5Zsx3P+6l2sh3tjpS3/3P5TamfSf/adGsWSU4IWJZFFfevSedP9tFOPJglmVX/ke/959b6ZcUp6UOl8WOntRKrtErR30GfV1xVhFuv3pAkmiX13/Imz5V2in/wpd6r/hlxmRGA3+3+2dSa9d15Xff7s5/W1fx/dIk6IoOUrJhhxUUqgyAgSZZJjPkQCZ1LCG+SIZ5jvUKJMAQRCgAKccxbGtxiJFPr72tqfdXQb7PpKSKFslq2zR9f7AG/DwnntPs/baa6+91v8fix7Wq999CsTuyirdscrN4ur87CI6xgeHOyOpIltdu4ypoEf/ItLiXTyNrQX9IlYtvUASY9VkV5HPrpXENXGxM57E1o5lC2H53T6G7wNujfL3gJY7ihQJYhTZH7oVL55okgIuFlD0drf9p6IB43c9TyeRfeLqNy896muxe1OKOHAmD2K8Wl9CeLU6/pU3KuQucX1zTMQqcAwEIwghEMIrO5Kv7EHf1F4qtetIfdUD57xoZfjqQ4l9WNhIEoGJ93zwzq7UbRF7e17c1s01fvVWb/EmQojIptEaMBdxcVaOYw2lTmOp2moZGwDpY8FxlcKDH6SU44yrsw3LOvIMtbvSv3oDdLEFuh/ghz8pGFTLZx/GAefcriBcAzrWUH4lT5sAsx07ntuRhL06OHbQCYzeiqx1r7aM3Brlnzo0Xy0+vilF/7Kne8WjZtWuuUvCnTsxDeZCLFUb1nEAiFFsFvRXr//d/V1z2mbz1fgXYixuX3P81ij/CUPu2qiZAusvxrVSRbpDRPRy21W0b6l3+9nhlYozR2ypHhG7TG8S/uzsXkSvjoiLMZ0IpA6R9fc1C7M/mTzlLb4hdvWLWkdGjW7XSy6ruO15Y1DeRa7QYhw5kpJJJF0tq5gj9X3MMNQN4OLXjjRsXn7Fi02mcrSrzyzh/n3JB38+4r/+l/UXDFKlsahYuFtPeYs/MOYHMDuUfPqLL8YOOo1EBMLdeso3H2+YWzEDvPPQU9eRbPVmt80O8Q/euFu6xZeh812q6Q1BOX6pfvF1uDXKPwGoPDaChT+RSqFbo7zF9w7/JCrPb/Fm4dYob/G9w61R3uJ7h1ujvMX3DrdGeYvvHW6N8o8AneyqbG7xWtymhG7xvcPteL3FHx1Cxj788lDw45+oW6O8xR8ZCqazqHDx3o/m/PlP3781yjcKb3KwJYgV6ZYvFBdLEbdILy5AfVyTjD9/o2/zFm8QhI6tG0UhGJYhdpoWccEXfORZJ0SS/ltPeYuIf2z35EE3kAbFprW4ABlRam/oYpHv3hEc381uPeUt/nCoJjsGk5tGMwHpGA4fwKiCg1JzMB7dGuUfBTfU3V+nXPAdI6uiutvidQ1efwiIXbvDjerGJIoPHB6mqBRccJw/d2w2MEvf7ND5zcKrFN5pjKf8lt+fLe0bvkEpYv/2tz3/BVL+4dxFOvIvJTpK0ahEYFto24AhxpTN6qUH/W6NMiU2n9+a+QtIEZVom5bfTkj/XWLH6laNY1divY4iq2UVDbNvfw8+JcV3Sjuo9K7HvI16QPBtFzo3zLZf7tn9E2P/Aij3Yxzkm293vg87g4QvGGRSRkP5Lo1Uqqi/Pd+P4kxFCadnO+qXLhK/fgGa+C4DL6RFkjQKkn4tJfQ3NEihIjOIH2Jfjtz9jn/le4WE8TTKvlxdvHKcb+PXqigX3F58q7N/O74PAcVNs34OIgdtonJW1/yBr+2bPAu50/HRMV6bTePeer2F62WkDfwyslHU+VYF+DRq3pgtmHVsqe12AlKvNcDXSIx8BSqmekaTyKDR1LFbkRB7xl98ld7p7cAXRBK+nQnIOD38o9Aff+mKhIji5TqNN9Q38ZhzLz/3QvqY3bGbLvhvcGevnit11DFPVFRVM2E3wvuo3urNN/jK3UsTKqppBb/7jZ3ccvjyC70ZAK87Dl/9QRHj0aqM/dRZHnN7yxVsruKUnaZRYZc+9m+3A3T1ztAKUCGGFYLIaKxHkVCrOYvPLfjddXpelOwE95pr+dqH+g/47Gvwcvr+mhEgdGSjBeLIkUASGcBedwEyjRQdv1MR4HUXrqIyrDHATmt6fx5fQjdE2r2wY9Gd7Edtb3Qc+dsVrE/jdSXFbmr8HVqJSQmTaeTP6et4OU7G3mNclNgT80hTYrv4/zcLhlcvX+qXDBBVGUVJZQJHR2B33mDY6WI3HSzOwW3jtVPBdBKpq9tzwMQp9PifKVrruPok5vKCiAzDzsZQoleRK2g+FZw8yBnoaJqATGA8is9ADdFxrLtILPXZL2CrYxpGNhDqqDPZbWPc+8EHAvrAVR+nfNdHVVovYsw3nPLNpu/fczbRP/xh1AIkj5wvQscX703UJBzPFMYFVrXH9vEmbb+byuBl8K7isl/ncSoIAy+8gMjiVKFD1FQUIn7e90AbH3gy3hGfFlEnO6+gUjAeJQQR6ENAhQDbgOhD1EPMFVkmsR66Q0//AFannq4JOB+9eW+iCP1oFKeTshR4DzIEpJJkpFjnWVwbui4QVDQsXBQMbSSc1/EWs2Q3EDzQx+uWSeS+nM0gK2BUpFF8vTFUlWDdeBarqOKqk7jHy15UnBU+ytB1PfgNL7bgJMBWEoxDiHiezuJ1tT6Kim6bKLx5/Ah00RP6QJ7EAX29heEyEk9JEQfafAzvfyB4eg0kIQraz8EksDiL59W1QPjA8jIuOvROG907sAt+u0jTN4DI43sPvyMMEv/pb06CcymDEQytxw4N23ZNoqEapySjFFMbthtLuwkQcqw1NF2Lc1BvAt7FbSN2UwEGVtfx33kCqRboAoIIKCUIAbomRMdsY4todaQQUiA7QSZyju5OUanAMSAVeNngGNA+xZsEGzqU8oQ2i5R2SLROSERK28Y5Ps1SeqHozYDoAoLAYLe09UCRaxCBtg0IGUiEQsuCq8WGvg4kAtJUEgSsDVxtPWkSp2WloCxgPoNSa4qyoMgHGgu9cWRlih0s3noylRGEZDN0KJ0jlUT7LTSStnMkmaKxnuul5+l5YPvZjgyqiFrkpobtszjgZRbpsuc7GeQ7d2D0MMMLSxYETeuom4Aqo6CAt1Hu+uzz3cy1icLz6+VOzFNFxxcUTO9FWb22iYuPkY6x4Ooian6b7c5zOl6/ONtJv4iElzOu/9K0fyMawMtjL5iVX2Vjs4lkcXXNdtOiQ8KwEGwXhrt3S6w3nH5a07ca5zTjfEQ5yckLxehRoNrTrBYNzbYlCIv30BhLajX6Xkmz6ilLSTlOsc6x3m5Z1AGF5u7dDCt7gvQgoMhmjMYj0hQ605EnCb3Y0IY1qVRoOSbzI4pE412KcZ6k6iBXtH3DNmwxQZCrjFQqtpcD/UoxPx4xzit6LFcXlyyuAt4reqGYzUeMS4MqIC9T5pMxkyblk/+3RnvJW+/OyXSCygXL4Ypffbzl019Gjzmfw9AJlguLMVveeTgnURl9X9N3Cdt6Q915xqXl6LhABcH5xYYgUi4+CxxNHdN5YCwUh3dGvPOu4fD5lp/7OFXS7/gdAcpINhWaGMY0DWx60OeCqxoUgh/92T3yrCH1DiMaxlOBTgWmDeyXksvTjlVwyCMoDyBXgslRwnLraNeOu3dSjo4Uq4Wh8wkHucalFnckGYJjW3ds1/DkFNZPeRka3bC6+ejRVXiFc1JHSuxgeJlAL3YhTRcNOPcxdJEiMrCFHnTRHDE6mqLu9zR2w7aFy78P2AtLuzGsN4HeWq6XhjQbSHModMLxds6DpGQ2mbN/AEoohsZjTUCLhFTneNcRskCWW4J0nK+f4z4emGdzHt49wIQVF82G7aYHm2O6yNSZ5ilSQFolWJFSyBy30bhmoFUDw1VN2w+4zjLLx8g04bCa4YRHSIv0hlyX+H6CSjqsFzifUGQTkr0RSmqEgL7v+c3HG5IKsvHAdd6hRGCSS/JUIYIkSTz5NAVXcWwaVO65/gSe/1JwchdGpSCvStJS8+x8w2qAIjOsN5ZikmCCI/Q1J/cr9g8lBTP+97Dg4llPLuDpemBz1pGOBTKFuo0xLDt5YpLoGZfXELaRcNW2kQnYjQKLj3pSpcEvePSjMUVesb24pLaeJJVkBGbTA0K1ZlhdkzhPNSvYbGqkg6MJPHkGTQ+bGkxIWXvB2Uag+qh6q0YSt4I8g729uJAyNnrNtgF3xYt0kgDmx9EwOxMJsG6yNPODqBN+uYwCp2YTOdxRkOzH2Nn3IP7Df/xXYbI3RQRDa1pas0I0CewkbnXh6KVlG1q2tub6oqO9NPQD7Bdj3v/xe+wdzimKDOEF3gekElhjUEqhtEIoTwgqTvG6BhcQIq4ovFQ0TcvWeEzXM05GFGVC0/d4Z+iHS8oyI5E5wQeUSsAqtn3Lk/PnrNYbDqZT3n3rLcpM0fsO5wyQoFSKDQFjDARB1/Y44/HeMQwWYwzr7YZVU/P5ZY01gXkqSIJitpdxcjxjf3+EyjW/+vScq6sN7z26R6Jy+qZjuVlijCHgyfKMNBkRhCZLEtabBVVVkSeC8agCPMY48mqCD4LrizXLzZKeHkuNTBzlTFPlIzJVIH3J9ecbnjw7Q80Dy0vH4w/jtJsWcO9RFAN4/mH0RHsHkn/z748wQwcqp73a0vUNwQTmeyNan3B5tsK3kvPnQGH44K8qTuZjVusG1xvarqM20CXQtoLNAuo2oAuY6sCj/QxdKra+xwhPPpUUMiF1U/rGY9uWVVtz9iTQ2pgzPTqJovTb54qDhzCbSKS1fPIksDmLa5RgQI2iOMF0Dlqmim1ds1mtUaJg01jMsGVxuaEoUt5974Qy0RTpmAMJ87xhMdnSb6DdWMhSjFf06xYlEmRwOOewfYdOIwt+ViqMsQTj0TIjBEE/tIyKCplOsEMKvaXIxkyqlCxPkL7DKkOeaJI0wVuH9RapFF6XTNQe98ZjSrtC9YKLTwPtcE1aQTXJSXPHtrkkT2ZorXHWgddk04KutjTbNdtNj/QjTGvIdUAmhlxpzCajeTZmPeTIbUFxp2I6Ulw9M3z0ec1RVdItE+rVlGpcUE0TXL9ls+1YnXdsu55//t4JofecX3T0E4kdDMGDDCuMavjlr5+zXQvuvTPi7XvHnD1t+OzjhIyEvVKxfyg4ObrP3lFGl15SHxveOqni8ls7Bt/QP3aoQ7DPoO48v/rZc1QpqOslSgkePcgRYsCLgdkspyxH9H3H4VHBpunZK+6QZBP2TgxBtFxefk5mLSpVVElKs/E8v3BYF5iUKVWVIcpAkZRYYyDpsKJjsD2OnCQtOCoFZmO5/Lxj9XHg9P/A7FDw9tsVsgTtBKpoePCOwb0f9+OHS1C9YmgdfgRa+YJ+6CmzKXlZMN7Lsd5x761AkgokmiyTSKlBKkZ3YW+/QQmN844iSTF2YBg6RhOD8goVICtjoZwxFjf0uGGg73swCaPxHsHDanWNLBYIqelaR0XFyg7YzlPXhrqtyQpLMS4pZxN0ltOEwGq1wTvDYAxL84xu0+PahDQtmMnA7NGYIsn59NMLludPKLIR9cZw9nzgvQ9OODwZ0W7X1MsBKz1pUXJ/f0awSxSSTYBffviE//l3gVGVMt4rOL6nCIXgya8v+fvVgmHr6K4s9x4qdJVy9TwyiWZCMdmzdO2U2SiBynBxtWa1WSKSAeUHBmuppgpRWHqz4NPfbHj6eOA3H8Wp7F/+VJMPFXs+Y//4ActNwclBipto+rbFWcGiu8Y/WPDgPrTXA72xHJwonp97lh/DeF9CoUkyD06SykCSS87ODWbjeffh2xzP72AxBDSj8R5pmvP52UfIBE7PW3CC8TSlHEkCIcbd0wOKcRI1irxhc70i5AE3yjg82GdwHfePAuv3V5ytTrEhRUtJUIE0rShFQjGekVYlKtHUW8fQ9ZS5ZDt0pJlG/PVf/1WQUmKMQ2pIRxIhFUWmY+ryhqg9gPMBdB+DVzzKebTPSaTASoEJGrSjUClapYggCKZnteqRQTOqCgbhsM4SgiDRIJWlbVpWiy35xJPOMob1wNV5R54UGL+i6Trme3v03nN20fH09IqHDw852JsxLiaYZmBxeQnKMpuOCNKy7ZZ427OqAxkpF+cNz88G1JDw9rspDz84QeiSs4tLrMnioEo9qc/oujW/fnLN4zNHfwGphkdvK8Z7I+6+M+ZiseDn/2ugEoL3f5JyvjI8fhIYVZ7Sae49OGK6P+JgP0OVisvHPU8+e8b+/oiyFKRaIJREpMDEcnlxxfWVwdcCpOLeyYiD0Yykz1BFhrWWYeiYH07JDzPwC37xs0/48O8a7vwgZ7yXYwbDDx7d53R9RrN0TCf3yLMUIQP7xxOE7rC+xW8suRyTqjlWapLMIgL4rqOvW4w36FGGtZJMFoyzOcWeRWcOqRXrZk2RpyhZcH7e4J0mS1OEagnBIX0BIWWypwmipZqkyF6yqh2bZc/6csN4f8LR8THaBp5dXeOFpagk22ZNlSeIv/3bvwxpXkDweDq80AhZEJxi6AaEqECCxGOdAd+hkxHGSIxRBGdQGqzUeJmTFjlKClL8LsElsQaKZMxoNMHQsB1W1G2NSAzt5pyzs5oyTTh5OCOdJ7heYEwCJmWxXrK4XuOcpR8GTs+vubjo6GqNd2OGy5SARwgRVb2kJ4QemQQ8BusUIUhsPzCeV5yM99FVi0s7ri83uCDxdoI3Az9+p2S0P6amZdWccnG55HIRuFrAQVFxd++AqtKUeUJdRz06FyTeOzpjEAKUHTGrZrhgcAHKNEd4STesyaaCT558zke/WiAJHOzllFmO1oL9o4JqNEc6zWB6RllClib0IkXpHOtbHB3N2jGfj5nMBlbb5/zsfyxZX2y5d3jEX/7bf40ft6zWW8rRAd3Ss1xecnx/n6OTMabbEnrLfHLI0CmaIWDSjjxRaAF+qBHS0die56fPCSEjEyOODw/JsxJdpAytQ0qHCx2t9TSdoxpNkTis8xRZQa4SWutINHhvSXD01rJZGnyaoaRHuYFMK9am5nJ9Ta4zRDegpECE8J93+xPtLlmUAWNg7yaVuUswLYhZrenub/LKZ2529FNeMrzfJLRaXmTXd1OFZ4tjTaDFuy311qGHArsdeLz+jLOzNZePWz7+9RnPnlxwenrKYmlZWkvdGXoLXWtp60C3fU3O7DWQAqpJQZmncXAJh7WWNJf82Y8O+Iuf3ufgIGHbGoKQhGAReMIoYPEIBypJGKcFm8uOzQa6RY8ko217jBvI0wySjDwTrP1zrjZXPH3qOf85TA8df/HvDsjGA08fb1heduxPphxNZqhSM5lUZDKlr2vyUpNnjlW9ZnWeUxbHHN+XbIbHDBuL70HLlKTM6IYO63tUN2U2fkR1qDhdX9BZgfQ5uTMcHu5RFClD57G9YLOq6fuB+d4dnBdUY4nOA9N5itIVTb+k6QeEE9BqhPJIl1JWJVrlSB1wckvdXPL5xRXOOO7eu8OknGO8RIaMzaambhsOZnukOoZ6bTsgizjjSmEoy4zWX/H49FP++3/7iCf/15IeCP4/3i1CXd20sA8AAAAASUVORK5CYII=\" id=\"image59c7b0968b\" transform=\"scale(1 -1)translate(0 -165)\" x=\"204.141176\" y=\"-6.317647\" width=\"165\" height=\"165\"/>\n   </g>\n  </g>\n  <g id=\"axes_3\">\n   <g clip-path=\"url(#pb81f654930)\">\n    <image xlink:href=\"data:image/png;base64,\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\" id=\"image801e1ffa1d\" transform=\"scale(1 -1)translate(0 -165)\" x=\"401.082353\" y=\"-6.317647\" width=\"165\" height=\"165\"/>\n   </g>\n  </g>\n </g>\n <defs>\n  <clipPath id=\"pbcc4b879b5\">\n   <rect x=\"7.2\" y=\"7.2\" width=\"164.117647\" height=\"164.117647\"/>\n  </clipPath>\n  <clipPath id=\"pec441e16a2\">\n   <rect x=\"204.141176\" y=\"7.2\" width=\"164.117647\" height=\"164.117647\"/>\n  </clipPath>\n  <clipPath id=\"pb81f654930\">\n   <rect x=\"401.082353\" y=\"7.2\" width=\"164.117647\" height=\"164.117647\"/>\n  </clipPath>\n </defs>\n</svg>\n"
     },
     "metadata": {
      "needs_background": "light"
     },
     "output_type": "display_data"
    }
   ],
   "source": [
    "# Check an augmented subset\n",
    "if augment:\n",
    "    aug_images = []\n",
    "    for i in range(len(train_dataset)):\n",
    "        image, tabular_features = train_dataset[i]\n",
    "        aug_images.append(image)\n",
    "        print(f\"Image {i}\")\n",
    "        print(tabular_features)\n",
    "        if i == 2: break\n",
    "\n",
    "    plt.figure(figsize=(10, 8))\n",
    "    for i in range(len(aug_images)):\n",
    "        plt.subplot(1, 3, i+1)\n",
    "        plt.imshow(aug_images[i].swapaxes(0,2).swapaxes(0,1)) # returned shape is (c, h, w)\n",
    "        plt.axis('off')"
   ],
   "metadata": {
    "collapsed": false,
    "pycharm": {
     "name": "#%%\n"
    }
   }
  },
  {
   "cell_type": "code",
   "execution_count": 41,
   "outputs": [],
   "source": [
    "val_dataset = bgr_data.ImageTabularDataset(dataframe=val_df,#[:100],\n",
    "                                           normalize=normalize,\n",
    "                                           image_path='file',\n",
    "                                           #label=depth_markers[1],\n",
    "                                           label=None,\n",
    "                                           feature_columns=geotemp_img_infos[:-1])\n",
    "\n",
    "val_loader = DataLoader(val_dataset, batch_size=batch_size, shuffle=True, num_workers=16, drop_last=True)"
   ],
   "metadata": {
    "collapsed": false,
    "pycharm": {
     "name": "#%%\n"
    }
   }
  },
  {
   "cell_type": "code",
   "execution_count": 42,
   "outputs": [
    {
     "data": {
      "text/plain": "tensor([[-5.2647e-02, -6.5426e-02, -7.1835e-02, -7.5289e-02, -7.7262e-02,\n         -7.8426e-02, -7.9117e-02, -7.9521e-02],\n        [-8.5304e-02, -1.1690e-01, -1.3416e-01, -1.4399e-01, -1.4968e-01,\n         -1.5296e-01, -1.5480e-01, -1.5577e-01],\n        [-8.6142e-02, -1.1529e-01, -1.2998e-01, -1.3756e-01, -1.4144e-01,\n         -1.4335e-01, -1.4422e-01, -1.4457e-01],\n        [-1.6430e-02, -1.1657e-02, -9.8668e-03, -9.3462e-03, -9.2636e-03,\n         -9.2790e-03, -9.2761e-03, -9.2314e-03],\n        [-2.8350e-02, -2.9967e-02, -3.1843e-02, -3.3559e-02, -3.4894e-02,\n         -3.5831e-02, -3.6441e-02, -3.6815e-02],\n        [-2.7125e-02, -3.1522e-02, -3.4856e-02, -3.6914e-02, -3.8068e-02,\n         -3.8658e-02, -3.8920e-02, -3.9003e-02],\n        [-7.6429e-02, -9.8771e-02, -1.0960e-01, -1.1536e-01, -1.1859e-01,\n         -1.2043e-01, -1.2146e-01, -1.2201e-01],\n        [-5.4264e-02, -6.3210e-02, -6.5532e-02, -6.5802e-02, -6.5501e-02,\n         -6.5082e-02, -6.4672e-02, -6.4309e-02],\n        [-3.5628e-02, -4.2571e-02, -4.7651e-02, -5.0999e-02, -5.3013e-02,\n         -5.4118e-02, -5.4654e-02, -5.4855e-02],\n        [-4.3978e-02, -4.9556e-02, -5.1304e-02, -5.1727e-02, -5.1595e-02,\n         -5.1227e-02, -5.0790e-02, -5.0375e-02],\n        [-2.0586e-02, -1.3978e-02, -8.8988e-03, -5.3918e-03, -3.0154e-03,\n         -1.3927e-03, -2.7085e-04,  5.1166e-04],\n        [-5.0767e-03,  4.5767e-04, -1.4929e-04, -2.6448e-03, -5.3295e-03,\n         -7.6079e-03, -9.3492e-03, -1.0603e-02],\n        [-3.1319e-02, -3.1782e-02, -3.2525e-02, -3.3694e-02, -3.4898e-02,\n         -3.5928e-02, -3.6731e-02, -3.7327e-02],\n        [ 2.7519e-03,  1.6100e-02,  2.3651e-02,  2.8783e-02,  3.2560e-02,\n          3.5388e-02,  3.7498e-02,  3.9060e-02],\n        [-3.2586e-02, -3.6439e-02, -3.9331e-02, -4.1364e-02, -4.2566e-02,\n         -4.3114e-02, -4.3227e-02, -4.3096e-02],\n        [-7.2584e-02, -9.5519e-02, -1.0792e-01, -1.1520e-01, -1.1965e-01,\n         -1.2238e-01, -1.2402e-01, -1.2497e-01],\n        [-4.1948e-02, -5.3845e-02, -6.2325e-02, -6.8251e-02, -7.2288e-02,\n         -7.4972e-02, -7.6721e-02, -7.7842e-02],\n        [-1.3598e-02, -9.7094e-03, -8.3692e-03, -7.6525e-03, -7.0705e-03,\n         -6.5333e-03, -6.0441e-03, -5.6167e-03],\n        [-3.3582e-02, -3.5294e-02, -3.6528e-02, -3.7962e-02, -3.9366e-02,\n         -4.0534e-02, -4.1406e-02, -4.2011e-02],\n        [-5.5309e-02, -7.1350e-02, -8.0297e-02, -8.5242e-02, -8.7871e-02,\n         -8.9173e-02, -8.9741e-02, -8.9925e-02],\n        [ 1.7803e-02,  4.0829e-02,  5.1866e-02,  5.7051e-02,  5.9503e-02,\n          6.0696e-02,  6.1308e-02,  6.1650e-02],\n        [-1.7668e-02, -2.8612e-03,  9.4177e-03,  1.7975e-02,  2.3612e-02,\n          2.7258e-02,  2.9606e-02,  3.1119e-02],\n        [-2.9904e-02, -3.5515e-02, -4.0280e-02, -4.3885e-02, -4.6453e-02,\n         -4.8184e-02, -4.9284e-02, -4.9942e-02],\n        [-3.1378e-02, -3.6918e-02, -4.2948e-02, -4.8063e-02, -5.1800e-02,\n         -5.4314e-02, -5.5927e-02, -5.6933e-02],\n        [-3.8250e-02, -4.9058e-02, -5.6194e-02, -6.0662e-02, -6.3518e-02,\n         -6.5389e-02, -6.6626e-02, -6.7442e-02],\n        [-5.2151e-02, -6.1096e-02, -6.4986e-02, -6.7025e-02, -6.8163e-02,\n         -6.8791e-02, -6.9124e-02, -6.9291e-02],\n        [-6.4860e-03,  3.3463e-03,  8.2912e-03,  1.0984e-02,  1.2589e-02,\n          1.3623e-02,  1.4326e-02,  1.4816e-02],\n        [-2.8406e-02, -3.2476e-02, -3.6625e-02, -3.9849e-02, -4.2062e-02,\n         -4.3481e-02, -4.4352e-02, -4.4869e-02],\n        [-2.4568e-02, -2.4126e-02, -2.4639e-02, -2.5252e-02, -2.5647e-02,\n         -2.5798e-02, -2.5773e-02, -2.5650e-02],\n        [-2.4649e-02, -1.3437e-02, -3.5920e-03,  3.3179e-03,  7.8183e-03,\n          1.0643e-02,  1.2380e-02,  1.3438e-02],\n        [-6.1140e-02, -7.5400e-02, -8.0963e-02, -8.2984e-02, -8.3534e-02,\n         -8.3483e-02, -8.3210e-02, -8.2884e-02],\n        [-3.3541e-03,  3.3294e-04, -1.3321e-03, -3.3086e-03, -4.4528e-03,\n         -4.8393e-03, -4.7692e-03, -4.4894e-03],\n        [-2.5193e-02, -1.9072e-02, -1.5845e-02, -1.4821e-02, -1.4729e-02,\n         -1.4894e-02, -1.5059e-02, -1.5157e-02],\n        [-5.9712e-02, -7.3017e-02, -7.8386e-02, -8.0567e-02, -8.1416e-02,\n         -8.1684e-02, -8.1694e-02, -8.1592e-02],\n        [-5.0899e-02, -6.1581e-02, -6.6637e-02, -6.8857e-02, -6.9590e-02,\n         -6.9584e-02, -6.9250e-02, -6.8811e-02],\n        [ 2.3586e-03,  1.3142e-02,  1.7214e-02,  1.8673e-02,  1.9034e-02,\n          1.8934e-02,  1.8663e-02,  1.8358e-02],\n        [-4.8606e-02, -5.9367e-02, -6.5824e-02, -7.0123e-02, -7.3101e-02,\n         -7.5191e-02, -7.6660e-02, -7.7687e-02],\n        [-3.6177e-02, -3.7147e-02, -3.6598e-02, -3.6067e-02, -3.5779e-02,\n         -3.5675e-02, -3.5671e-02, -3.5710e-02],\n        [-9.9916e-03, -7.2714e-03, -9.5258e-03, -1.2548e-02, -1.5084e-02,\n         -1.6936e-02, -1.8207e-02, -1.9050e-02],\n        [-3.7536e-02, -4.0365e-02, -4.0397e-02, -3.9459e-02, -3.8299e-02,\n         -3.7237e-02, -3.6375e-02, -3.5720e-02],\n        [-4.5174e-02, -5.4077e-02, -5.8910e-02, -6.2192e-02, -6.4653e-02,\n         -6.6503e-02, -6.7852e-02, -6.8804e-02],\n        [-5.8151e-02, -7.0209e-02, -7.4129e-02, -7.4701e-02, -7.3994e-02,\n         -7.2915e-02, -7.1847e-02, -7.0932e-02],\n        [-4.2920e-02, -4.5932e-02, -4.5109e-02, -4.3671e-02, -4.2484e-02,\n         -4.1657e-02, -4.1112e-02, -4.0754e-02],\n        [-2.7641e-02, -2.5552e-02, -2.4883e-02, -2.5404e-02, -2.6400e-02,\n         -2.7425e-02, -2.8290e-02, -2.8948e-02],\n        [-4.1318e-02, -3.9956e-02, -3.6284e-02, -3.3554e-02, -3.1969e-02,\n         -3.1162e-02, -3.0794e-02, -3.0646e-02],\n        [-2.6242e-02, -2.7837e-02, -3.0766e-02, -3.3804e-02, -3.6306e-02,\n         -3.8150e-02, -3.9433e-02, -4.0298e-02],\n        [-5.8891e-02, -7.3322e-02, -7.9970e-02, -8.3067e-02, -8.4432e-02,\n         -8.4939e-02, -8.5033e-02, -8.4947e-02],\n        [-6.9855e-02, -9.5572e-02, -1.0994e-01, -1.1775e-01, -1.2197e-01,\n         -1.2424e-01, -1.2546e-01, -1.2611e-01],\n        [-2.9725e-02, -3.2211e-02, -3.3958e-02, -3.5081e-02, -3.5727e-02,\n         -3.6041e-02, -3.6144e-02, -3.6126e-02],\n        [-3.9610e-02, -4.2763e-02, -4.4528e-02, -4.5986e-02, -4.7124e-02,\n         -4.7927e-02, -4.8442e-02, -4.8741e-02],\n        [-3.0141e-02, -3.1141e-02, -3.1794e-02, -3.2255e-02, -3.2466e-02,\n         -3.2486e-02, -3.2406e-02, -3.2290e-02],\n        [-5.1461e-02, -6.1658e-02, -6.7532e-02, -7.1582e-02, -7.4551e-02,\n         -7.6756e-02, -7.8385e-02, -7.9576e-02],\n        [-5.9928e-03,  4.5400e-03,  8.2541e-03,  8.8861e-03,  8.3905e-03,\n          7.6367e-03,  6.9543e-03,  6.4323e-03],\n        [-3.7352e-02, -4.1053e-02, -4.2416e-02, -4.3165e-02, -4.3740e-02,\n         -4.4223e-02, -4.4624e-02, -4.4944e-02],\n        [-4.1418e-02, -4.4677e-02, -4.5616e-02, -4.5955e-02, -4.5984e-02,\n         -4.5823e-02, -4.5567e-02, -4.5289e-02],\n        [-3.2832e-02, -3.4224e-02, -3.4412e-02, -3.4469e-02, -3.4595e-02,\n         -3.4775e-02, -3.4967e-02, -3.5139e-02],\n        [-5.0707e-02, -6.2513e-02, -6.9444e-02, -7.4120e-02, -7.7389e-02,\n         -7.9640e-02, -8.1153e-02, -8.2148e-02],\n        [-4.7364e-03,  6.0661e-03,  1.0080e-02,  1.1203e-02,  1.1261e-02,\n          1.0994e-02,  1.0679e-02,  1.0405e-02],\n        [-5.0421e-03,  1.2182e-02,  2.3332e-02,  3.0395e-02,  3.4922e-02,\n          3.7859e-02,  3.9778e-02,  4.1035e-02],\n        [ 1.0772e-02,  2.7350e-02,  3.3467e-02,  3.5130e-02,  3.5161e-02,\n          3.4720e-02,  3.4231e-02,  3.3819e-02],\n        [-6.9617e-02, -8.5631e-02, -9.2715e-02, -9.6355e-02, -9.8416e-02,\n         -9.9633e-02, -1.0035e-01, -1.0076e-01],\n        [-4.9563e-02, -6.0294e-02, -6.6615e-02, -7.0864e-02, -7.3808e-02,\n         -7.5818e-02, -7.7149e-02, -7.7994e-02],\n        [-3.3243e-02, -3.7615e-02, -4.0814e-02, -4.3172e-02, -4.4913e-02,\n         -4.6175e-02, -4.7061e-02, -4.7663e-02],\n        [-5.4423e-02, -6.9861e-02, -7.9990e-02, -8.7038e-02, -9.1949e-02,\n         -9.5308e-02, -9.7552e-02, -9.9019e-02]], device='cuda:0',\n       grad_fn=<StackBackward0>)"
     },
     "execution_count": 42,
     "metadata": {},
     "output_type": "execute_result"
    }
   ],
   "source": [
    "# Note: before training, the model does not predict the same depth for every horizon\n",
    "for batch in val_loader:\n",
    "    images, geotemp_features = batch\n",
    "    images, geotemp_features = images.to(device), geotemp_features.to(device)\n",
    "\n",
    "    # Predict depth markers (as padded tensors)\n",
    "    val_pred_depths = model(image=images, geo_temp=geotemp_features)\n",
    "    break\n",
    "val_pred_depths"
   ],
   "metadata": {
    "collapsed": false,
    "pycharm": {
     "name": "#%%\n"
    }
   }
  },
  {
   "cell_type": "code",
   "execution_count": 43,
   "outputs": [
    {
     "name": "stdout",
     "output_type": "stream",
     "text": [
      "Epoch 1/10\n"
     ]
    },
    {
     "name": "stderr",
     "output_type": "stream",
     "text": [
      "                                                                                                                        \r"
     ]
    },
    {
     "name": "stdout",
     "output_type": "stream",
     "text": [
      "Epoch 1, Training Loss: 0.0316\n",
      "Validation Loss: 0.0116\n",
      "Current LR: 0.001\n",
      "Epoch 2/10\n"
     ]
    },
    {
     "name": "stderr",
     "output_type": "stream",
     "text": [
      "                                                                                                                        \r"
     ]
    },
    {
     "name": "stdout",
     "output_type": "stream",
     "text": [
      "Epoch 2, Training Loss: 0.0126\n",
      "Validation Loss: 0.0108\n",
      "Current LR: 0.001\n",
      "EarlyStopping: No improvement for 1 epochs.\n",
      "Epoch 3/10\n"
     ]
    },
    {
     "name": "stderr",
     "output_type": "stream",
     "text": [
      "                                                                                                                        \r"
     ]
    },
    {
     "name": "stdout",
     "output_type": "stream",
     "text": [
      "Epoch 3, Training Loss: 0.0124\n",
      "Validation Loss: 0.0121\n",
      "Current LR: 0.001\n",
      "EarlyStopping: No improvement for 2 epochs.\n",
      "Epoch 4/10\n"
     ]
    },
    {
     "name": "stderr",
     "output_type": "stream",
     "text": [
      "                                                                                                                        \r"
     ]
    },
    {
     "name": "stdout",
     "output_type": "stream",
     "text": [
      "Epoch 4, Training Loss: 0.0118\n",
      "Validation Loss: 0.0113\n",
      "Current LR: 0.001\n",
      "EarlyStopping: No improvement for 3 epochs.\n",
      "Epoch 5/10\n"
     ]
    },
    {
     "name": "stderr",
     "output_type": "stream",
     "text": [
      "                                                                                                                        \r"
     ]
    },
    {
     "name": "stdout",
     "output_type": "stream",
     "text": [
      "Epoch     5: reducing learning rate of group 0 to 1.0000e-04.\n",
      "Epoch 5, Training Loss: 0.0115\n",
      "Validation Loss: 0.0120\n",
      "Current LR: 0.0001\n",
      "EarlyStopping: No improvement for 4 epochs.\n",
      "Epoch 6/10\n"
     ]
    },
    {
     "name": "stderr",
     "output_type": "stream",
     "text": [
      "                                                                                                                        "
     ]
    },
    {
     "name": "stdout",
     "output_type": "stream",
     "text": [
      "Epoch 6, Training Loss: 0.0102\n",
      "Validation Loss: 0.0108\n",
      "Current LR: 0.0001\n",
      "EarlyStopping: No improvement for 5 epochs.\n",
      "Early stopping at epoch 6\n"
     ]
    },
    {
     "name": "stderr",
     "output_type": "stream",
     "text": [
      "\r"
     ]
    }
   ],
   "source": [
    "epochs = 10\n",
    "lr_history, train_loss_history, val_loss_history = [], [], []\n",
    "for epoch in range(epochs):\n",
    "    print(f\"Epoch {epoch + 1}/{epochs}\")\n",
    "    # Training loop\n",
    "    model.train() # Important: reset the model in training mode at the beginning of every epoch\n",
    "    train_loss_total = 0\n",
    "    train_loader_tqdm = tqdm(train_loader, desc=\"Training\", leave=False)\n",
    "    for batch in train_loader_tqdm:\n",
    "        images, geotemp_features = batch\n",
    "        images, geotemp_features = images.to(device), geotemp_features.to(device)\n",
    "\n",
    "        optimizer.zero_grad() # otherwise, PyTorch accumulates the gradients during backprop\n",
    "\n",
    "        # Get corresponding true depth markers via index column in df (the first value in every row in geotemp)\n",
    "        # Note: you need to account for duplicate indexes resulting after the augmentations in the ImageTabularDataset class (is there a better way than duplicating indexes during augmentation?)\n",
    "        true_depths = []\n",
    "        batch_indices = geotemp_features.cpu().numpy()[:, 0]\n",
    "        for idx in batch_indices:\n",
    "            depths = df.loc[df['index'] == idx, 'Untergrenze'].values  # Get the true depths for the current index\n",
    "            true_depths.append(depths[0])  # Append as a list\n",
    "        # Turn list of depths into a padded tensor and also return mask of valid positions\n",
    "        padded_true_depths = pad_tensor(true_depths,\n",
    "                                        max_seq_len=model.depth_marker_predictor.max_seq_len,\n",
    "                                        stop_token=model.depth_marker_predictor.stop_token,\n",
    "                                        device=device)\n",
    "\n",
    "        # Predict depth markers (as padded tensors)\n",
    "        train_pred_depths = model(image=images, geo_temp=geotemp_features,\n",
    "                                  targets=padded_true_depths) # use ground truth for teacher forcing\n",
    "\n",
    "        train_loss = criterion(train_pred_depths, padded_true_depths)\n",
    "\n",
    "        train_loss.backward()\n",
    "        clip_grad_norm_(model.parameters(), max_norm=1.0)\n",
    "        optimizer.step()\n",
    "\n",
    "        train_loss_total += train_loss.item()\n",
    "        train_loader_tqdm.set_postfix(loss=train_loss.item())\n",
    "\n",
    "    avg_train_loss = train_loss_total / len(train_loader)\n",
    "\n",
    "    # Evaluation loop\n",
    "    model.eval() # Set model in evaluation mode before running inference\n",
    "    val_loss_total = 0\n",
    "    val_loader_tqdm = tqdm(val_loader, desc=\"Evaluating\", leave=False)\n",
    "    with torch.no_grad():\n",
    "        for batch in val_loader_tqdm:\n",
    "            images, geotemp_features = batch\n",
    "            images, geotemp_features = images.to(device), geotemp_features.to(device)\n",
    "\n",
    "            # Get corresponding true depth markers via index column in df (see training step above)\n",
    "            true_depths = []\n",
    "            batch_indices = geotemp_features.cpu().numpy()[:, 0]\n",
    "\n",
    "            for idx in batch_indices:\n",
    "                depths = df.loc[df['index'] == idx, 'Untergrenze'].values  # Get the true depths for the current index\n",
    "                true_depths.append(depths[0])  # Append as a list\n",
    "            # Turn list of depths into a padded tensor and also return mask of valid positions\n",
    "            padded_true_depths = pad_tensor(true_depths,\n",
    "                                            max_seq_len=model.depth_marker_predictor.max_seq_len,\n",
    "                                            stop_token=model.depth_marker_predictor.stop_token,\n",
    "                                            device=device)\n",
    "\n",
    "            # Predict depth markers (as padded tensors)\n",
    "            val_pred_depths = model(image=images, geo_temp=geotemp_features, targets=None)\n",
    "\n",
    "            val_loss = criterion(val_pred_depths, padded_true_depths)\n",
    "            val_loss_total += val_loss.item()\n",
    "\n",
    "    avg_val_loss = val_loss_total / len(val_loader)\n",
    "\n",
    "    # Apply the scheduler with validation loss\n",
    "    scheduler.step(avg_val_loss)\n",
    "    # Log the current learning rate\n",
    "    current_lr = optimizer.param_groups[0]['lr']\n",
    "    lr_history.append(current_lr)\n",
    "    # Log metrics\n",
    "    train_loss_history.append(avg_train_loss); val_loss_history.append(avg_val_loss)\n",
    "\n",
    "    print(f\"Epoch {epoch+1}, Training Loss: {avg_train_loss:.4f}\")\n",
    "    print(f\"Validation Loss: {avg_val_loss:.4f}\")\n",
    "    print(f\"Current LR: {current_lr}\")\n",
    "\n",
    "    # Early stopping check\n",
    "    early_stopping(val_loss)\n",
    "    if early_stopping.should_stop:\n",
    "        print(f\"Early stopping at epoch {epoch+1}\")\n",
    "        break"
   ],
   "metadata": {
    "collapsed": false,
    "pycharm": {
     "name": "#%%\n"
    }
   }
  },
  {
   "cell_type": "markdown",
   "source": [
    "### Evaluation"
   ],
   "metadata": {
    "collapsed": false
   }
  },
  {
   "cell_type": "code",
   "execution_count": 44,
   "outputs": [
    {
     "name": "stdout",
     "output_type": "stream",
     "text": [
      "True:\n",
      "tensor([0.1400, 0.4000, 0.5200, 0.9000, 1.0000, 1.0000, 1.0000, 1.0000],\n",
      "       device='cuda:0')\n",
      "Predicted:\n",
      "tensor([0.2828, 0.5804, 0.9004, 0.9889, 0.9966, 0.9981, 0.9986, 0.9983],\n",
      "       device='cuda:0')\n",
      " \n",
      "True:\n",
      "tensor([0.0800, 0.2900, 0.4600, 0.9800, 1.0000, 1.0000, 1.0000, 1.0000],\n",
      "       device='cuda:0')\n",
      "Predicted:\n",
      "tensor([0.1177, 0.3058, 0.6211, 0.9321, 0.9945, 0.9978, 0.9985, 0.9980],\n",
      "       device='cuda:0')\n",
      " \n",
      "True:\n",
      "tensor([0.1100, 0.3000, 0.5000, 0.7000, 1.0000, 1.0000, 1.0000, 1.0000],\n",
      "       device='cuda:0')\n",
      "Predicted:\n",
      "tensor([0.1550, 0.3605, 0.6754, 0.9467, 0.9960, 0.9982, 0.9988, 0.9984],\n",
      "       device='cuda:0')\n",
      " \n",
      "True:\n",
      "tensor([0.3300, 0.4300, 0.6000, 0.7200, 1.0000, 1.0000, 1.0000, 1.0000],\n",
      "       device='cuda:0')\n",
      "Predicted:\n",
      "tensor([0.2898, 0.4732, 0.7136, 0.9434, 0.9962, 0.9976, 0.9987, 0.9982],\n",
      "       device='cuda:0')\n",
      " \n",
      "True:\n",
      "tensor([0.1200, 0.2700, 0.4700, 0.7000, 1.0000, 1.0000, 1.0000, 1.0000],\n",
      "       device='cuda:0')\n",
      "Predicted:\n",
      "tensor([0.1289, 0.2845, 0.4962, 0.8022, 0.9894, 0.9955, 0.9971, 0.9964],\n",
      "       device='cuda:0')\n",
      " \n",
      "True:\n",
      "tensor([0.2800, 0.4800, 0.7000, 0.9700, 1.0000, 1.0000, 1.0000, 1.0000],\n",
      "       device='cuda:0')\n",
      "Predicted:\n",
      "tensor([0.2332, 0.3849, 0.5387, 0.8028, 0.9924, 0.9956, 0.9977, 0.9971],\n",
      "       device='cuda:0')\n",
      " \n",
      "True:\n",
      "tensor([0.1300, 0.3000, 0.7000, 0.8000, 1.0000, 1.0000, 1.0000, 1.0000],\n",
      "       device='cuda:0')\n",
      "Predicted:\n",
      "tensor([0.1269, 0.3300, 0.6612, 0.9461, 0.9955, 0.9981, 0.9988, 0.9983],\n",
      "       device='cuda:0')\n",
      " \n",
      "True:\n",
      "tensor([0.3400, 0.5000, 0.6700, 1.0000, 1.0000, 1.0000, 1.0000, 1.0000],\n",
      "       device='cuda:0')\n",
      "Predicted:\n",
      "tensor([0.2091, 0.3713, 0.5579, 0.8359, 0.9931, 0.9962, 0.9979, 0.9973],\n",
      "       device='cuda:0')\n",
      " \n",
      "True:\n",
      "tensor([0.3000, 0.5400, 0.9500, 1.0000, 1.0000, 1.0000, 1.0000, 1.0000],\n",
      "       device='cuda:0')\n",
      "Predicted:\n",
      "tensor([0.2503, 0.5209, 0.8600, 0.9844, 0.9971, 0.9985, 0.9990, 0.9986],\n",
      "       device='cuda:0')\n",
      " \n",
      "True:\n",
      "tensor([0.3100, 0.9700, 1.0000, 1.0000, 1.0000, 1.0000, 1.0000, 1.0000],\n",
      "       device='cuda:0')\n",
      "Predicted:\n",
      "tensor([0.2201, 0.5172, 0.8801, 0.9881, 0.9971, 0.9986, 0.9990, 0.9986],\n",
      "       device='cuda:0')\n",
      " \n",
      "True:\n",
      "tensor([0.2800, 0.8500, 1.0000, 1.0000, 1.0000, 1.0000, 1.0000, 1.0000],\n",
      "       device='cuda:0')\n",
      "Predicted:\n",
      "tensor([0.1284, 0.2753, 0.4640, 0.7444, 0.9867, 0.9945, 0.9964, 0.9957],\n",
      "       device='cuda:0')\n",
      " \n",
      "True:\n",
      "tensor([0.0800, 0.3000, 0.5000, 0.6600, 0.7400, 1.0000, 1.0000, 1.0000],\n",
      "       device='cuda:0')\n",
      "Predicted:\n",
      "tensor([0.1574, 0.3501, 0.6392, 0.9301, 0.9953, 0.9978, 0.9987, 0.9981],\n",
      "       device='cuda:0')\n",
      " \n",
      "True:\n",
      "tensor([0.2000, 0.4000, 1.0000, 1.0000, 1.0000, 1.0000, 1.0000, 1.0000],\n",
      "       device='cuda:0')\n",
      "Predicted:\n",
      "tensor([0.1103, 0.2742, 0.5359, 0.8716, 0.9913, 0.9966, 0.9976, 0.9970],\n",
      "       device='cuda:0')\n",
      " \n",
      "True:\n",
      "tensor([0.2000, 0.2800, 0.6000, 1.0000, 1.0000, 1.0000, 1.0000, 1.0000],\n",
      "       device='cuda:0')\n",
      "Predicted:\n",
      "tensor([0.2102, 0.3681, 0.5435, 0.8188, 0.9925, 0.9959, 0.9978, 0.9971],\n",
      "       device='cuda:0')\n",
      " \n",
      "True:\n",
      "tensor([0.3100, 0.6700, 0.8500, 0.9700, 1.0000, 1.0000, 1.0000, 1.0000],\n",
      "       device='cuda:0')\n",
      "Predicted:\n",
      "tensor([0.2241, 0.3725, 0.5142, 0.7670, 0.9913, 0.9952, 0.9974, 0.9968],\n",
      "       device='cuda:0')\n",
      " \n",
      "True:\n",
      "tensor([0.2000, 0.4000, 0.7300, 1.0000, 1.0000, 1.0000, 1.0000, 1.0000],\n",
      "       device='cuda:0')\n",
      "Predicted:\n",
      "tensor([0.1557, 0.3605, 0.6862, 0.9526, 0.9962, 0.9983, 0.9989, 0.9984],\n",
      "       device='cuda:0')\n",
      " \n",
      "True:\n",
      "tensor([0.2000, 0.7000, 1.0000, 1.0000, 1.0000, 1.0000, 1.0000, 1.0000],\n",
      "       device='cuda:0')\n",
      "Predicted:\n",
      "tensor([0.1824, 0.4012, 0.7250, 0.9606, 0.9967, 0.9984, 0.9990, 0.9986],\n",
      "       device='cuda:0')\n",
      " \n",
      "True:\n",
      "tensor([0.1200, 0.2700, 0.4600, 1.0000, 1.0000, 1.0000, 1.0000, 1.0000],\n",
      "       device='cuda:0')\n",
      "Predicted:\n",
      "tensor([0.1241, 0.3136, 0.6238, 0.9320, 0.9948, 0.9978, 0.9985, 0.9980],\n",
      "       device='cuda:0')\n",
      " \n",
      "True:\n",
      "tensor([0.2000, 0.2700, 0.7000, 1.0000, 1.0000, 1.0000, 1.0000, 1.0000],\n",
      "       device='cuda:0')\n",
      "Predicted:\n",
      "tensor([0.1378, 0.3196, 0.5994, 0.9115, 0.9942, 0.9975, 0.9984, 0.9978],\n",
      "       device='cuda:0')\n",
      " \n",
      "True:\n",
      "tensor([0.0800, 0.2700, 0.7000, 0.9000, 1.0000, 1.0000, 1.0000, 1.0000],\n",
      "       device='cuda:0')\n",
      "Predicted:\n",
      "tensor([0.2522, 0.4584, 0.7507, 0.9619, 0.9967, 0.9981, 0.9989, 0.9985],\n",
      "       device='cuda:0')\n",
      " \n",
      "True:\n",
      "tensor([0.3200, 0.5300, 0.7400, 0.9800, 1.0000, 1.0000, 1.0000, 1.0000],\n",
      "       device='cuda:0')\n",
      "Predicted:\n",
      "tensor([0.3078, 0.5565, 0.8571, 0.9826, 0.9970, 0.9982, 0.9988, 0.9985],\n",
      "       device='cuda:0')\n",
      " \n",
      "True:\n",
      "tensor([0.0700, 0.2700, 0.6700, 1.0000, 1.0000, 1.0000, 1.0000, 1.0000],\n",
      "       device='cuda:0')\n",
      "Predicted:\n",
      "tensor([0.1179, 0.3075, 0.6257, 0.9352, 0.9947, 0.9979, 0.9985, 0.9980],\n",
      "       device='cuda:0')\n",
      " \n",
      "True:\n",
      "tensor([0.3800, 0.6600, 0.9600, 1.0000, 1.0000, 1.0000, 1.0000, 1.0000],\n",
      "       device='cuda:0')\n",
      "Predicted:\n",
      "tensor([0.3160, 0.5307, 0.8021, 0.9710, 0.9968, 0.9980, 0.9988, 0.9984],\n",
      "       device='cuda:0')\n",
      " \n",
      "True:\n",
      "tensor([0.3300, 0.4700, 1.0000, 1.0000, 1.0000, 1.0000, 1.0000, 1.0000],\n",
      "       device='cuda:0')\n",
      "Predicted:\n",
      "tensor([0.1437, 0.3528, 0.6817, 0.9507, 0.9960, 0.9982, 0.9989, 0.9984],\n",
      "       device='cuda:0')\n",
      " \n",
      "True:\n",
      "tensor([0.3200, 0.5400, 0.7100, 1.0000, 1.0000, 1.0000, 1.0000, 1.0000],\n",
      "       device='cuda:0')\n",
      "Predicted:\n",
      "tensor([0.3228, 0.6853, 0.9388, 0.9911, 0.9928, 0.9955, 0.9960, 0.9961],\n",
      "       device='cuda:0')\n",
      " \n",
      "True:\n",
      "tensor([0.3000, 0.4800, 0.7000, 0.9600, 1.0000, 1.0000, 1.0000, 1.0000],\n",
      "       device='cuda:0')\n",
      "Predicted:\n",
      "tensor([0.2713, 0.4607, 0.7161, 0.9472, 0.9964, 0.9978, 0.9988, 0.9983],\n",
      "       device='cuda:0')\n",
      " \n",
      "True:\n",
      "tensor([0.3300, 0.5200, 0.7400, 1.0000, 1.0000, 1.0000, 1.0000, 1.0000],\n",
      "       device='cuda:0')\n",
      "Predicted:\n",
      "tensor([0.2717, 0.4614, 0.7141, 0.9460, 0.9963, 0.9977, 0.9988, 0.9983],\n",
      "       device='cuda:0')\n",
      " \n",
      "True:\n",
      "tensor([0.1400, 0.3400, 0.5000, 1.0000, 1.0000, 1.0000, 1.0000, 1.0000],\n",
      "       device='cuda:0')\n",
      "Predicted:\n",
      "tensor([0.1293, 0.3068, 0.5777, 0.8976, 0.9935, 0.9972, 0.9982, 0.9976],\n",
      "       device='cuda:0')\n",
      " \n",
      "True:\n",
      "tensor([0.2300, 0.5000, 0.9000, 1.0000, 1.0000, 1.0000, 1.0000, 1.0000],\n",
      "       device='cuda:0')\n",
      "Predicted:\n",
      "tensor([0.1991, 0.4600, 0.8291, 0.9825, 0.9973, 0.9987, 0.9991, 0.9988],\n",
      "       device='cuda:0')\n",
      " \n",
      "True:\n",
      "tensor([0.1100, 0.2700, 0.7300, 0.9100, 1.0000, 1.0000, 1.0000, 1.0000],\n",
      "       device='cuda:0')\n",
      "Predicted:\n",
      "tensor([0.2708, 0.5901, 0.9123, 0.9905, 0.9964, 0.9980, 0.9985, 0.9981],\n",
      "       device='cuda:0')\n",
      " \n",
      "True:\n",
      "tensor([0.2200, 0.3400, 1.0000, 1.0000, 1.0000, 1.0000, 1.0000, 1.0000],\n",
      "       device='cuda:0')\n",
      "Predicted:\n",
      "tensor([0.1231, 0.3353, 0.6943, 0.9597, 0.9960, 0.9984, 0.9989, 0.9984],\n",
      "       device='cuda:0')\n",
      " \n",
      "True:\n",
      "tensor([0.2800, 0.4700, 1.0000, 1.0000, 1.0000, 1.0000, 1.0000, 1.0000],\n",
      "       device='cuda:0')\n",
      "Predicted:\n",
      "tensor([0.2525, 0.5107, 0.8498, 0.9833, 0.9972, 0.9984, 0.9990, 0.9987],\n",
      "       device='cuda:0')\n",
      " \n",
      "True:\n",
      "tensor([0.2700, 0.6000, 1.0000, 1.0000, 1.0000, 1.0000, 1.0000, 1.0000],\n",
      "       device='cuda:0')\n",
      "Predicted:\n",
      "tensor([0.2813, 0.5456, 0.8666, 0.9847, 0.9971, 0.9983, 0.9989, 0.9985],\n",
      "       device='cuda:0')\n",
      " \n",
      "True:\n",
      "tensor([0.1000, 0.2600, 0.7000, 1.0000, 1.0000, 1.0000, 1.0000, 1.0000],\n",
      "       device='cuda:0')\n",
      "Predicted:\n",
      "tensor([0.1124, 0.2921, 0.5961, 0.9205, 0.9938, 0.9975, 0.9983, 0.9977],\n",
      "       device='cuda:0')\n",
      " \n",
      "True:\n",
      "tensor([0.1500, 0.5000, 1.0000, 1.0000, 1.0000, 1.0000, 1.0000, 1.0000],\n",
      "       device='cuda:0')\n",
      "Predicted:\n",
      "tensor([0.1554, 0.3643, 0.6934, 0.9544, 0.9962, 0.9983, 0.9989, 0.9985],\n",
      "       device='cuda:0')\n",
      " \n",
      "True:\n",
      "tensor([0.3300, 0.5400, 0.9000, 1.0000, 1.0000, 1.0000, 1.0000, 1.0000],\n",
      "       device='cuda:0')\n",
      "Predicted:\n",
      "tensor([0.2231, 0.3909, 0.5922, 0.8699, 0.9942, 0.9967, 0.9983, 0.9976],\n",
      "       device='cuda:0')\n",
      " \n",
      "True:\n",
      "tensor([0.3400, 0.7000, 1.0000, 1.0000, 1.0000, 1.0000, 1.0000, 1.0000],\n",
      "       device='cuda:0')\n",
      "Predicted:\n",
      "tensor([0.3043, 0.4985, 0.7530, 0.9579, 0.9966, 0.9978, 0.9988, 0.9984],\n",
      "       device='cuda:0')\n",
      " \n",
      "True:\n",
      "tensor([0.0600, 0.3700, 0.5000, 0.7400, 0.9000, 1.0000, 1.0000, 1.0000],\n",
      "       device='cuda:0')\n",
      "Predicted:\n",
      "tensor([0.2093, 0.4202, 0.7192, 0.9545, 0.9965, 0.9982, 0.9989, 0.9985],\n",
      "       device='cuda:0')\n",
      " \n",
      "True:\n",
      "tensor([0.2700, 0.5000, 1.0000, 1.0000, 1.0000, 1.0000, 1.0000, 1.0000],\n",
      "       device='cuda:0')\n",
      "Predicted:\n",
      "tensor([0.1441, 0.3082, 0.5324, 0.8445, 0.9917, 0.9963, 0.9977, 0.9971],\n",
      "       device='cuda:0')\n",
      " \n",
      "True:\n",
      "tensor([0.4100, 0.5500, 0.7000, 1.0000, 1.0000, 1.0000, 1.0000, 1.0000],\n",
      "       device='cuda:0')\n",
      "Predicted:\n",
      "tensor([0.2871, 0.4883, 0.7662, 0.9638, 0.9967, 0.9980, 0.9989, 0.9984],\n",
      "       device='cuda:0')\n",
      " \n",
      "True:\n",
      "tensor([0.3000, 0.4700, 0.9000, 1.0000, 1.0000, 1.0000, 1.0000, 1.0000],\n",
      "       device='cuda:0')\n",
      "Predicted:\n",
      "tensor([0.2762, 0.4534, 0.6825, 0.9297, 0.9959, 0.9974, 0.9986, 0.9981],\n",
      "       device='cuda:0')\n",
      " \n",
      "True:\n",
      "tensor([0.1300, 0.3400, 0.5200, 0.7000, 1.0000, 1.0000, 1.0000, 1.0000],\n",
      "       device='cuda:0')\n",
      "Predicted:\n",
      "tensor([0.2706, 0.5390, 0.8684, 0.9855, 0.9970, 0.9984, 0.9989, 0.9985],\n",
      "       device='cuda:0')\n",
      " \n",
      "True:\n",
      "tensor([0.3300, 0.5400, 1.0000, 1.0000, 1.0000, 1.0000, 1.0000, 1.0000],\n",
      "       device='cuda:0')\n",
      "Predicted:\n",
      "tensor([0.3216, 0.6049, 0.8937, 0.9873, 0.9966, 0.9979, 0.9986, 0.9982],\n",
      "       device='cuda:0')\n",
      " \n",
      "True:\n",
      "tensor([0.1000, 0.3300, 0.7000, 0.9600, 1.0000, 1.0000, 1.0000, 1.0000],\n",
      "       device='cuda:0')\n",
      "Predicted:\n",
      "tensor([0.3241, 0.6787, 0.9363, 0.9910, 0.9936, 0.9959, 0.9965, 0.9964],\n",
      "       device='cuda:0')\n",
      " \n",
      "True:\n",
      "tensor([0.3200, 0.5300, 1.0000, 1.0000, 1.0000, 1.0000, 1.0000, 1.0000],\n",
      "       device='cuda:0')\n",
      "Predicted:\n",
      "tensor([0.2940, 0.5531, 0.8674, 0.9848, 0.9970, 0.9982, 0.9989, 0.9985],\n",
      "       device='cuda:0')\n",
      " \n",
      "True:\n",
      "tensor([0.2000, 0.3000, 0.5200, 0.7400, 1.0000, 1.0000, 1.0000, 1.0000],\n",
      "       device='cuda:0')\n",
      "Predicted:\n",
      "tensor([0.1261, 0.2977, 0.5575, 0.8811, 0.9927, 0.9969, 0.9980, 0.9974],\n",
      "       device='cuda:0')\n",
      " \n",
      "True:\n",
      "tensor([0.2000, 0.5400, 0.7500, 1.0000, 1.0000, 1.0000, 1.0000, 1.0000],\n",
      "       device='cuda:0')\n",
      "Predicted:\n",
      "tensor([0.1781, 0.4243, 0.7980, 0.9785, 0.9972, 0.9987, 0.9991, 0.9988],\n",
      "       device='cuda:0')\n",
      " \n",
      "True:\n",
      "tensor([0.2300, 0.3000, 0.7000, 0.9500, 1.0000, 1.0000, 1.0000, 1.0000],\n",
      "       device='cuda:0')\n",
      "Predicted:\n",
      "tensor([0.2510, 0.4170, 0.6184, 0.8881, 0.9948, 0.9969, 0.9984, 0.9978],\n",
      "       device='cuda:0')\n",
      " \n",
      "True:\n",
      "tensor([0.2700, 0.4800, 0.6800, 1.0000, 1.0000, 1.0000, 1.0000, 1.0000],\n",
      "       device='cuda:0')\n",
      "Predicted:\n",
      "tensor([0.1177, 0.3096, 0.6296, 0.9352, 0.9948, 0.9979, 0.9985, 0.9980],\n",
      "       device='cuda:0')\n",
      " \n",
      "True:\n",
      "tensor([0.3000, 0.5000, 0.7000, 1.0000, 1.0000, 1.0000, 1.0000, 1.0000],\n",
      "       device='cuda:0')\n",
      "Predicted:\n",
      "tensor([0.3220, 0.5695, 0.8622, 0.9828, 0.9968, 0.9980, 0.9988, 0.9984],\n",
      "       device='cuda:0')\n",
      " \n",
      "True:\n",
      "tensor([0.1000, 0.2000, 0.5300, 1.0000, 1.0000, 1.0000, 1.0000, 1.0000],\n",
      "       device='cuda:0')\n",
      "Predicted:\n",
      "tensor([0.1224, 0.3143, 0.6260, 0.9314, 0.9948, 0.9978, 0.9986, 0.9980],\n",
      "       device='cuda:0')\n",
      " \n",
      "True:\n",
      "tensor([0.3100, 0.5300, 0.7400, 1.0000, 1.0000, 1.0000, 1.0000, 1.0000],\n",
      "       device='cuda:0')\n",
      "Predicted:\n",
      "tensor([0.3046, 0.6467, 0.9324, 0.9916, 0.9946, 0.9968, 0.9974, 0.9971],\n",
      "       device='cuda:0')\n",
      " \n",
      "True:\n",
      "tensor([0.0800, 0.2800, 0.4800, 1.0000, 1.0000, 1.0000, 1.0000, 1.0000],\n",
      "       device='cuda:0')\n",
      "Predicted:\n",
      "tensor([0.1359, 0.3047, 0.5453, 0.8634, 0.9922, 0.9966, 0.9979, 0.9972],\n",
      "       device='cuda:0')\n",
      " \n",
      "True:\n",
      "tensor([0.1000, 0.3000, 0.3900, 0.8000, 1.0000, 1.0000, 1.0000, 1.0000],\n",
      "       device='cuda:0')\n",
      "Predicted:\n",
      "tensor([0.1276, 0.2895, 0.5162, 0.8311, 0.9907, 0.9960, 0.9975, 0.9967],\n",
      "       device='cuda:0')\n",
      " \n",
      "True:\n",
      "tensor([0.2000, 0.3000, 0.4600, 0.7300, 1.0000, 1.0000, 1.0000, 1.0000],\n",
      "       device='cuda:0')\n",
      "Predicted:\n",
      "tensor([0.1108, 0.2700, 0.5154, 0.8471, 0.9901, 0.9961, 0.9973, 0.9967],\n",
      "       device='cuda:0')\n",
      " \n",
      "True:\n",
      "tensor([0.2600, 0.5000, 0.7000, 1.0000, 1.0000, 1.0000, 1.0000, 1.0000],\n",
      "       device='cuda:0')\n",
      "Predicted:\n",
      "tensor([0.2190, 0.4305, 0.7310, 0.9553, 0.9966, 0.9981, 0.9990, 0.9986],\n",
      "       device='cuda:0')\n",
      " \n",
      "True:\n",
      "tensor([0.3300, 1.0000, 1.0000, 1.0000, 1.0000, 1.0000, 1.0000, 1.0000],\n",
      "       device='cuda:0')\n",
      "Predicted:\n",
      "tensor([0.2682, 0.4770, 0.7672, 0.9655, 0.9968, 0.9981, 0.9989, 0.9985],\n",
      "       device='cuda:0')\n",
      " \n",
      "True:\n",
      "tensor([0.1000, 0.3200, 0.4800, 0.5800, 0.7000, 1.0000, 1.0000, 1.0000],\n",
      "       device='cuda:0')\n",
      "Predicted:\n",
      "tensor([0.2714, 0.6051, 0.9207, 0.9910, 0.9960, 0.9978, 0.9983, 0.9979],\n",
      "       device='cuda:0')\n",
      " \n",
      "True:\n",
      "tensor([0.1200, 0.3000, 0.6500, 1.0000, 1.0000, 1.0000, 1.0000, 1.0000],\n",
      "       device='cuda:0')\n",
      "Predicted:\n",
      "tensor([0.1875, 0.5039, 0.8924, 0.9905, 0.9970, 0.9987, 0.9989, 0.9986],\n",
      "       device='cuda:0')\n",
      " \n",
      "True:\n",
      "tensor([0.2800, 0.6900, 1.0000, 1.0000, 1.0000, 1.0000, 1.0000, 1.0000],\n",
      "       device='cuda:0')\n",
      "Predicted:\n",
      "tensor([0.1104, 0.2833, 0.5655, 0.8985, 0.9926, 0.9971, 0.9980, 0.9974],\n",
      "       device='cuda:0')\n",
      " \n",
      "True:\n",
      "tensor([0.3400, 0.6000, 0.7400, 1.0000, 1.0000, 1.0000, 1.0000, 1.0000],\n",
      "       device='cuda:0')\n",
      "Predicted:\n",
      "tensor([0.2024, 0.3755, 0.6022, 0.8878, 0.9944, 0.9971, 0.9983, 0.9978],\n",
      "       device='cuda:0')\n",
      " \n",
      "True:\n",
      "tensor([0.3400, 0.4200, 0.5400, 0.9800, 1.0000, 1.0000, 1.0000, 1.0000],\n",
      "       device='cuda:0')\n",
      "Predicted:\n",
      "tensor([0.2945, 0.4706, 0.6950, 0.9339, 0.9960, 0.9975, 0.9987, 0.9982],\n",
      "       device='cuda:0')\n",
      " \n",
      "True:\n",
      "tensor([0.2800, 0.7000, 1.0000, 1.0000, 1.0000, 1.0000, 1.0000, 1.0000],\n",
      "       device='cuda:0')\n",
      "Predicted:\n",
      "tensor([0.2734, 0.5266, 0.8438, 0.9811, 0.9971, 0.9983, 0.9990, 0.9986],\n",
      "       device='cuda:0')\n",
      " \n",
      "True:\n",
      "tensor([0.3100, 0.5200, 0.7800, 1.0000, 1.0000, 1.0000, 1.0000, 1.0000],\n",
      "       device='cuda:0')\n",
      "Predicted:\n",
      "tensor([0.2299, 0.5880, 0.9265, 0.9923, 0.9958, 0.9980, 0.9981, 0.9979],\n",
      "       device='cuda:0')\n",
      " \n"
     ]
    }
   ],
   "source": [
    "# Transformer\n",
    "for true_dep, pred_dep in zip(padded_true_depths, val_pred_depths):\n",
    "    print('True:')\n",
    "    print(true_dep)\n",
    "    print('Predicted:')\n",
    "    print(pred_dep)\n",
    "    print(' ')"
   ],
   "metadata": {
    "collapsed": false,
    "pycharm": {
     "name": "#%%\n"
    }
   }
  },
  {
   "cell_type": "code",
   "execution_count": 45,
   "outputs": [
    {
     "data": {
      "text/plain": "<Figure size 1512x432 with 1 Axes>",
      "image/svg+xml": "<?xml version=\"1.0\" encoding=\"utf-8\" standalone=\"no\"?>\n<!DOCTYPE svg PUBLIC \"-//W3C//DTD SVG 1.1//EN\"\n  \"http://www.w3.org/Graphics/SVG/1.1/DTD/svg11.dtd\">\n<svg xmlns:xlink=\"http://www.w3.org/1999/xlink\" width=\"536.722917pt\" height=\"423.274375pt\" viewBox=\"0 0 536.722917 423.274375\" xmlns=\"http://www.w3.org/2000/svg\" version=\"1.1\">\n <metadata>\n  <rdf:RDF xmlns:dc=\"http://purl.org/dc/elements/1.1/\" xmlns:cc=\"http://creativecommons.org/ns#\" xmlns:rdf=\"http://www.w3.org/1999/02/22-rdf-syntax-ns#\">\n   <cc:Work>\n    <dc:type rdf:resource=\"http://purl.org/dc/dcmitype/StillImage\"/>\n    <dc:date>2025-01-27T16:40:09.747967</dc:date>\n    <dc:format>image/svg+xml</dc:format>\n    <dc:creator>\n     <cc:Agent>\n      <dc:title>Matplotlib v3.5.1, https://matplotlib.org/</dc:title>\n     </cc:Agent>\n    </dc:creator>\n   </cc:Work>\n  </rdf:RDF>\n </metadata>\n <defs>\n  <style type=\"text/css\">*{stroke-linejoin: round; stroke-linecap: butt}</style>\n </defs>\n <g id=\"figure_1\">\n  <g id=\"patch_1\">\n   <path d=\"M 0 423.274375 \nL 536.722917 423.274375 \nL 536.722917 0 \nL 0 0 \nL 0 423.274375 \nz\n\" style=\"fill: none\"/>\n  </g>\n  <g id=\"axes_1\">\n   <g id=\"patch_2\">\n    <path d=\"M 56.50625 385.718125 \nL 529.522917 385.718125 \nL 529.522917 22.318125 \nL 56.50625 22.318125 \nz\n\" style=\"fill: #ffffff\"/>\n   </g>\n   <g id=\"matplotlib.axis_1\">\n    <g id=\"xtick_1\">\n     <g id=\"line2d_1\">\n      <path d=\"M 78.007008 385.718125 \nL 78.007008 22.318125 \n\" clip-path=\"url(#pd9bf9d55ca)\" style=\"fill: none; stroke: #b0b0b0; stroke-width: 0.8; stroke-linecap: square\"/>\n     </g>\n     <g id=\"line2d_2\">\n      <defs>\n       <path id=\"mc043eae4d0\" d=\"M 0 0 \nL 0 3.5 \n\" style=\"stroke: #000000; stroke-width: 0.8\"/>\n      </defs>\n      <g>\n       <use xlink:href=\"#mc043eae4d0\" x=\"78.007008\" y=\"385.718125\" style=\"stroke: #000000; stroke-width: 0.8\"/>\n      </g>\n     </g>\n     <g id=\"text_1\">\n      <!-- 1 -->\n      <g transform=\"translate(74.825758 400.316562)scale(0.1 -0.1)\">\n       <defs>\n        <path id=\"DejaVuSans-31\" d=\"M 794 531 \nL 1825 531 \nL 1825 4091 \nL 703 3866 \nL 703 4441 \nL 1819 4666 \nL 2450 4666 \nL 2450 531 \nL 3481 531 \nL 3481 0 \nL 794 0 \nL 794 531 \nz\n\" transform=\"scale(0.015625)\"/>\n       </defs>\n       <use xlink:href=\"#DejaVuSans-31\"/>\n      </g>\n     </g>\n    </g>\n    <g id=\"xtick_2\">\n     <g id=\"line2d_3\">\n      <path d=\"M 164.010038 385.718125 \nL 164.010038 22.318125 \n\" clip-path=\"url(#pd9bf9d55ca)\" style=\"fill: none; stroke: #b0b0b0; stroke-width: 0.8; stroke-linecap: square\"/>\n     </g>\n     <g id=\"line2d_4\">\n      <g>\n       <use xlink:href=\"#mc043eae4d0\" x=\"164.010038\" y=\"385.718125\" style=\"stroke: #000000; stroke-width: 0.8\"/>\n      </g>\n     </g>\n     <g id=\"text_2\">\n      <!-- 2 -->\n      <g transform=\"translate(160.828788 400.316562)scale(0.1 -0.1)\">\n       <defs>\n        <path id=\"DejaVuSans-32\" d=\"M 1228 531 \nL 3431 531 \nL 3431 0 \nL 469 0 \nL 469 531 \nQ 828 903 1448 1529 \nQ 2069 2156 2228 2338 \nQ 2531 2678 2651 2914 \nQ 2772 3150 2772 3378 \nQ 2772 3750 2511 3984 \nQ 2250 4219 1831 4219 \nQ 1534 4219 1204 4116 \nQ 875 4013 500 3803 \nL 500 4441 \nQ 881 4594 1212 4672 \nQ 1544 4750 1819 4750 \nQ 2544 4750 2975 4387 \nQ 3406 4025 3406 3419 \nQ 3406 3131 3298 2873 \nQ 3191 2616 2906 2266 \nQ 2828 2175 2409 1742 \nQ 1991 1309 1228 531 \nz\n\" transform=\"scale(0.015625)\"/>\n       </defs>\n       <use xlink:href=\"#DejaVuSans-32\"/>\n      </g>\n     </g>\n    </g>\n    <g id=\"xtick_3\">\n     <g id=\"line2d_5\">\n      <path d=\"M 250.013068 385.718125 \nL 250.013068 22.318125 \n\" clip-path=\"url(#pd9bf9d55ca)\" style=\"fill: none; stroke: #b0b0b0; stroke-width: 0.8; stroke-linecap: square\"/>\n     </g>\n     <g id=\"line2d_6\">\n      <g>\n       <use xlink:href=\"#mc043eae4d0\" x=\"250.013068\" y=\"385.718125\" style=\"stroke: #000000; stroke-width: 0.8\"/>\n      </g>\n     </g>\n     <g id=\"text_3\">\n      <!-- 3 -->\n      <g transform=\"translate(246.831818 400.316562)scale(0.1 -0.1)\">\n       <defs>\n        <path id=\"DejaVuSans-33\" d=\"M 2597 2516 \nQ 3050 2419 3304 2112 \nQ 3559 1806 3559 1356 \nQ 3559 666 3084 287 \nQ 2609 -91 1734 -91 \nQ 1441 -91 1130 -33 \nQ 819 25 488 141 \nL 488 750 \nQ 750 597 1062 519 \nQ 1375 441 1716 441 \nQ 2309 441 2620 675 \nQ 2931 909 2931 1356 \nQ 2931 1769 2642 2001 \nQ 2353 2234 1838 2234 \nL 1294 2234 \nL 1294 2753 \nL 1863 2753 \nQ 2328 2753 2575 2939 \nQ 2822 3125 2822 3475 \nQ 2822 3834 2567 4026 \nQ 2313 4219 1838 4219 \nQ 1578 4219 1281 4162 \nQ 984 4106 628 3988 \nL 628 4550 \nQ 988 4650 1302 4700 \nQ 1616 4750 1894 4750 \nQ 2613 4750 3031 4423 \nQ 3450 4097 3450 3541 \nQ 3450 3153 3228 2886 \nQ 3006 2619 2597 2516 \nz\n\" transform=\"scale(0.015625)\"/>\n       </defs>\n       <use xlink:href=\"#DejaVuSans-33\"/>\n      </g>\n     </g>\n    </g>\n    <g id=\"xtick_4\">\n     <g id=\"line2d_7\">\n      <path d=\"M 336.016098 385.718125 \nL 336.016098 22.318125 \n\" clip-path=\"url(#pd9bf9d55ca)\" style=\"fill: none; stroke: #b0b0b0; stroke-width: 0.8; stroke-linecap: square\"/>\n     </g>\n     <g id=\"line2d_8\">\n      <g>\n       <use xlink:href=\"#mc043eae4d0\" x=\"336.016098\" y=\"385.718125\" style=\"stroke: #000000; stroke-width: 0.8\"/>\n      </g>\n     </g>\n     <g id=\"text_4\">\n      <!-- 4 -->\n      <g transform=\"translate(332.834848 400.316562)scale(0.1 -0.1)\">\n       <defs>\n        <path id=\"DejaVuSans-34\" d=\"M 2419 4116 \nL 825 1625 \nL 2419 1625 \nL 2419 4116 \nz\nM 2253 4666 \nL 3047 4666 \nL 3047 1625 \nL 3713 1625 \nL 3713 1100 \nL 3047 1100 \nL 3047 0 \nL 2419 0 \nL 2419 1100 \nL 313 1100 \nL 313 1709 \nL 2253 4666 \nz\n\" transform=\"scale(0.015625)\"/>\n       </defs>\n       <use xlink:href=\"#DejaVuSans-34\"/>\n      </g>\n     </g>\n    </g>\n    <g id=\"xtick_5\">\n     <g id=\"line2d_9\">\n      <path d=\"M 422.019129 385.718125 \nL 422.019129 22.318125 \n\" clip-path=\"url(#pd9bf9d55ca)\" style=\"fill: none; stroke: #b0b0b0; stroke-width: 0.8; stroke-linecap: square\"/>\n     </g>\n     <g id=\"line2d_10\">\n      <g>\n       <use xlink:href=\"#mc043eae4d0\" x=\"422.019129\" y=\"385.718125\" style=\"stroke: #000000; stroke-width: 0.8\"/>\n      </g>\n     </g>\n     <g id=\"text_5\">\n      <!-- 5 -->\n      <g transform=\"translate(418.837879 400.316562)scale(0.1 -0.1)\">\n       <defs>\n        <path id=\"DejaVuSans-35\" d=\"M 691 4666 \nL 3169 4666 \nL 3169 4134 \nL 1269 4134 \nL 1269 2991 \nQ 1406 3038 1543 3061 \nQ 1681 3084 1819 3084 \nQ 2600 3084 3056 2656 \nQ 3513 2228 3513 1497 \nQ 3513 744 3044 326 \nQ 2575 -91 1722 -91 \nQ 1428 -91 1123 -41 \nQ 819 9 494 109 \nL 494 744 \nQ 775 591 1075 516 \nQ 1375 441 1709 441 \nQ 2250 441 2565 725 \nQ 2881 1009 2881 1497 \nQ 2881 1984 2565 2268 \nQ 2250 2553 1709 2553 \nQ 1456 2553 1204 2497 \nQ 953 2441 691 2322 \nL 691 4666 \nz\n\" transform=\"scale(0.015625)\"/>\n       </defs>\n       <use xlink:href=\"#DejaVuSans-35\"/>\n      </g>\n     </g>\n    </g>\n    <g id=\"xtick_6\">\n     <g id=\"line2d_11\">\n      <path d=\"M 508.022159 385.718125 \nL 508.022159 22.318125 \n\" clip-path=\"url(#pd9bf9d55ca)\" style=\"fill: none; stroke: #b0b0b0; stroke-width: 0.8; stroke-linecap: square\"/>\n     </g>\n     <g id=\"line2d_12\">\n      <g>\n       <use xlink:href=\"#mc043eae4d0\" x=\"508.022159\" y=\"385.718125\" style=\"stroke: #000000; stroke-width: 0.8\"/>\n      </g>\n     </g>\n     <g id=\"text_6\">\n      <!-- 6 -->\n      <g transform=\"translate(504.840909 400.316562)scale(0.1 -0.1)\">\n       <defs>\n        <path id=\"DejaVuSans-36\" d=\"M 2113 2584 \nQ 1688 2584 1439 2293 \nQ 1191 2003 1191 1497 \nQ 1191 994 1439 701 \nQ 1688 409 2113 409 \nQ 2538 409 2786 701 \nQ 3034 994 3034 1497 \nQ 3034 2003 2786 2293 \nQ 2538 2584 2113 2584 \nz\nM 3366 4563 \nL 3366 3988 \nQ 3128 4100 2886 4159 \nQ 2644 4219 2406 4219 \nQ 1781 4219 1451 3797 \nQ 1122 3375 1075 2522 \nQ 1259 2794 1537 2939 \nQ 1816 3084 2150 3084 \nQ 2853 3084 3261 2657 \nQ 3669 2231 3669 1497 \nQ 3669 778 3244 343 \nQ 2819 -91 2113 -91 \nQ 1303 -91 875 529 \nQ 447 1150 447 2328 \nQ 447 3434 972 4092 \nQ 1497 4750 2381 4750 \nQ 2619 4750 2861 4703 \nQ 3103 4656 3366 4563 \nz\n\" transform=\"scale(0.015625)\"/>\n       </defs>\n       <use xlink:href=\"#DejaVuSans-36\"/>\n      </g>\n     </g>\n    </g>\n    <g id=\"text_7\">\n     <!-- Epoch -->\n     <g transform=\"translate(277.703646 413.994687)scale(0.1 -0.1)\">\n      <defs>\n       <path id=\"DejaVuSans-45\" d=\"M 628 4666 \nL 3578 4666 \nL 3578 4134 \nL 1259 4134 \nL 1259 2753 \nL 3481 2753 \nL 3481 2222 \nL 1259 2222 \nL 1259 531 \nL 3634 531 \nL 3634 0 \nL 628 0 \nL 628 4666 \nz\n\" transform=\"scale(0.015625)\"/>\n       <path id=\"DejaVuSans-70\" d=\"M 1159 525 \nL 1159 -1331 \nL 581 -1331 \nL 581 3500 \nL 1159 3500 \nL 1159 2969 \nQ 1341 3281 1617 3432 \nQ 1894 3584 2278 3584 \nQ 2916 3584 3314 3078 \nQ 3713 2572 3713 1747 \nQ 3713 922 3314 415 \nQ 2916 -91 2278 -91 \nQ 1894 -91 1617 61 \nQ 1341 213 1159 525 \nz\nM 3116 1747 \nQ 3116 2381 2855 2742 \nQ 2594 3103 2138 3103 \nQ 1681 3103 1420 2742 \nQ 1159 2381 1159 1747 \nQ 1159 1113 1420 752 \nQ 1681 391 2138 391 \nQ 2594 391 2855 752 \nQ 3116 1113 3116 1747 \nz\n\" transform=\"scale(0.015625)\"/>\n       <path id=\"DejaVuSans-6f\" d=\"M 1959 3097 \nQ 1497 3097 1228 2736 \nQ 959 2375 959 1747 \nQ 959 1119 1226 758 \nQ 1494 397 1959 397 \nQ 2419 397 2687 759 \nQ 2956 1122 2956 1747 \nQ 2956 2369 2687 2733 \nQ 2419 3097 1959 3097 \nz\nM 1959 3584 \nQ 2709 3584 3137 3096 \nQ 3566 2609 3566 1747 \nQ 3566 888 3137 398 \nQ 2709 -91 1959 -91 \nQ 1206 -91 779 398 \nQ 353 888 353 1747 \nQ 353 2609 779 3096 \nQ 1206 3584 1959 3584 \nz\n\" transform=\"scale(0.015625)\"/>\n       <path id=\"DejaVuSans-63\" d=\"M 3122 3366 \nL 3122 2828 \nQ 2878 2963 2633 3030 \nQ 2388 3097 2138 3097 \nQ 1578 3097 1268 2742 \nQ 959 2388 959 1747 \nQ 959 1106 1268 751 \nQ 1578 397 2138 397 \nQ 2388 397 2633 464 \nQ 2878 531 3122 666 \nL 3122 134 \nQ 2881 22 2623 -34 \nQ 2366 -91 2075 -91 \nQ 1284 -91 818 406 \nQ 353 903 353 1747 \nQ 353 2603 823 3093 \nQ 1294 3584 2113 3584 \nQ 2378 3584 2631 3529 \nQ 2884 3475 3122 3366 \nz\n\" transform=\"scale(0.015625)\"/>\n       <path id=\"DejaVuSans-68\" d=\"M 3513 2113 \nL 3513 0 \nL 2938 0 \nL 2938 2094 \nQ 2938 2591 2744 2837 \nQ 2550 3084 2163 3084 \nQ 1697 3084 1428 2787 \nQ 1159 2491 1159 1978 \nL 1159 0 \nL 581 0 \nL 581 4863 \nL 1159 4863 \nL 1159 2956 \nQ 1366 3272 1645 3428 \nQ 1925 3584 2291 3584 \nQ 2894 3584 3203 3211 \nQ 3513 2838 3513 2113 \nz\n\" transform=\"scale(0.015625)\"/>\n      </defs>\n      <use xlink:href=\"#DejaVuSans-45\"/>\n      <use xlink:href=\"#DejaVuSans-70\" x=\"63.183594\"/>\n      <use xlink:href=\"#DejaVuSans-6f\" x=\"126.660156\"/>\n      <use xlink:href=\"#DejaVuSans-63\" x=\"187.841797\"/>\n      <use xlink:href=\"#DejaVuSans-68\" x=\"242.822266\"/>\n     </g>\n    </g>\n   </g>\n   <g id=\"matplotlib.axis_2\">\n    <g id=\"ytick_1\">\n     <g id=\"line2d_13\">\n      <path d=\"M 56.50625 346.860535 \nL 529.522917 346.860535 \n\" clip-path=\"url(#pd9bf9d55ca)\" style=\"fill: none; stroke: #b0b0b0; stroke-width: 0.8; stroke-linecap: square\"/>\n     </g>\n     <g id=\"line2d_14\">\n      <defs>\n       <path id=\"mb1f719d709\" d=\"M 0 0 \nL -3.5 0 \n\" style=\"stroke: #000000; stroke-width: 0.8\"/>\n      </defs>\n      <g>\n       <use xlink:href=\"#mb1f719d709\" x=\"56.50625\" y=\"346.860535\" style=\"stroke: #000000; stroke-width: 0.8\"/>\n      </g>\n     </g>\n     <g id=\"text_8\">\n      <!-- 0.008 -->\n      <g transform=\"translate(20.878125 350.659754)scale(0.1 -0.1)\">\n       <defs>\n        <path id=\"DejaVuSans-30\" d=\"M 2034 4250 \nQ 1547 4250 1301 3770 \nQ 1056 3291 1056 2328 \nQ 1056 1369 1301 889 \nQ 1547 409 2034 409 \nQ 2525 409 2770 889 \nQ 3016 1369 3016 2328 \nQ 3016 3291 2770 3770 \nQ 2525 4250 2034 4250 \nz\nM 2034 4750 \nQ 2819 4750 3233 4129 \nQ 3647 3509 3647 2328 \nQ 3647 1150 3233 529 \nQ 2819 -91 2034 -91 \nQ 1250 -91 836 529 \nQ 422 1150 422 2328 \nQ 422 3509 836 4129 \nQ 1250 4750 2034 4750 \nz\n\" transform=\"scale(0.015625)\"/>\n        <path id=\"DejaVuSans-2e\" d=\"M 684 794 \nL 1344 794 \nL 1344 0 \nL 684 0 \nL 684 794 \nz\n\" transform=\"scale(0.015625)\"/>\n        <path id=\"DejaVuSans-38\" d=\"M 2034 2216 \nQ 1584 2216 1326 1975 \nQ 1069 1734 1069 1313 \nQ 1069 891 1326 650 \nQ 1584 409 2034 409 \nQ 2484 409 2743 651 \nQ 3003 894 3003 1313 \nQ 3003 1734 2745 1975 \nQ 2488 2216 2034 2216 \nz\nM 1403 2484 \nQ 997 2584 770 2862 \nQ 544 3141 544 3541 \nQ 544 4100 942 4425 \nQ 1341 4750 2034 4750 \nQ 2731 4750 3128 4425 \nQ 3525 4100 3525 3541 \nQ 3525 3141 3298 2862 \nQ 3072 2584 2669 2484 \nQ 3125 2378 3379 2068 \nQ 3634 1759 3634 1313 \nQ 3634 634 3220 271 \nQ 2806 -91 2034 -91 \nQ 1263 -91 848 271 \nQ 434 634 434 1313 \nQ 434 1759 690 2068 \nQ 947 2378 1403 2484 \nz\nM 1172 3481 \nQ 1172 3119 1398 2916 \nQ 1625 2713 2034 2713 \nQ 2441 2713 2670 2916 \nQ 2900 3119 2900 3481 \nQ 2900 3844 2670 4047 \nQ 2441 4250 2034 4250 \nQ 1625 4250 1398 4047 \nQ 1172 3844 1172 3481 \nz\n\" transform=\"scale(0.015625)\"/>\n       </defs>\n       <use xlink:href=\"#DejaVuSans-30\"/>\n       <use xlink:href=\"#DejaVuSans-2e\" x=\"63.623047\"/>\n       <use xlink:href=\"#DejaVuSans-30\" x=\"95.410156\"/>\n       <use xlink:href=\"#DejaVuSans-30\" x=\"159.033203\"/>\n       <use xlink:href=\"#DejaVuSans-38\" x=\"222.65625\"/>\n      </g>\n     </g>\n    </g>\n    <g id=\"ytick_2\">\n     <g id=\"line2d_15\">\n      <path d=\"M 56.50625 287.047464 \nL 529.522917 287.047464 \n\" clip-path=\"url(#pd9bf9d55ca)\" style=\"fill: none; stroke: #b0b0b0; stroke-width: 0.8; stroke-linecap: square\"/>\n     </g>\n     <g id=\"line2d_16\">\n      <g>\n       <use xlink:href=\"#mb1f719d709\" x=\"56.50625\" y=\"287.047464\" style=\"stroke: #000000; stroke-width: 0.8\"/>\n      </g>\n     </g>\n     <g id=\"text_9\">\n      <!-- 0.010 -->\n      <g transform=\"translate(20.878125 290.846683)scale(0.1 -0.1)\">\n       <use xlink:href=\"#DejaVuSans-30\"/>\n       <use xlink:href=\"#DejaVuSans-2e\" x=\"63.623047\"/>\n       <use xlink:href=\"#DejaVuSans-30\" x=\"95.410156\"/>\n       <use xlink:href=\"#DejaVuSans-31\" x=\"159.033203\"/>\n       <use xlink:href=\"#DejaVuSans-30\" x=\"222.65625\"/>\n      </g>\n     </g>\n    </g>\n    <g id=\"ytick_3\">\n     <g id=\"line2d_17\">\n      <path d=\"M 56.50625 227.234393 \nL 529.522917 227.234393 \n\" clip-path=\"url(#pd9bf9d55ca)\" style=\"fill: none; stroke: #b0b0b0; stroke-width: 0.8; stroke-linecap: square\"/>\n     </g>\n     <g id=\"line2d_18\">\n      <g>\n       <use xlink:href=\"#mb1f719d709\" x=\"56.50625\" y=\"227.234393\" style=\"stroke: #000000; stroke-width: 0.8\"/>\n      </g>\n     </g>\n     <g id=\"text_10\">\n      <!-- 0.012 -->\n      <g transform=\"translate(20.878125 231.033612)scale(0.1 -0.1)\">\n       <use xlink:href=\"#DejaVuSans-30\"/>\n       <use xlink:href=\"#DejaVuSans-2e\" x=\"63.623047\"/>\n       <use xlink:href=\"#DejaVuSans-30\" x=\"95.410156\"/>\n       <use xlink:href=\"#DejaVuSans-31\" x=\"159.033203\"/>\n       <use xlink:href=\"#DejaVuSans-32\" x=\"222.65625\"/>\n      </g>\n     </g>\n    </g>\n    <g id=\"ytick_4\">\n     <g id=\"line2d_19\">\n      <path d=\"M 56.50625 167.421322 \nL 529.522917 167.421322 \n\" clip-path=\"url(#pd9bf9d55ca)\" style=\"fill: none; stroke: #b0b0b0; stroke-width: 0.8; stroke-linecap: square\"/>\n     </g>\n     <g id=\"line2d_20\">\n      <g>\n       <use xlink:href=\"#mb1f719d709\" x=\"56.50625\" y=\"167.421322\" style=\"stroke: #000000; stroke-width: 0.8\"/>\n      </g>\n     </g>\n     <g id=\"text_11\">\n      <!-- 0.014 -->\n      <g transform=\"translate(20.878125 171.22054)scale(0.1 -0.1)\">\n       <use xlink:href=\"#DejaVuSans-30\"/>\n       <use xlink:href=\"#DejaVuSans-2e\" x=\"63.623047\"/>\n       <use xlink:href=\"#DejaVuSans-30\" x=\"95.410156\"/>\n       <use xlink:href=\"#DejaVuSans-31\" x=\"159.033203\"/>\n       <use xlink:href=\"#DejaVuSans-34\" x=\"222.65625\"/>\n      </g>\n     </g>\n    </g>\n    <g id=\"ytick_5\">\n     <g id=\"line2d_21\">\n      <path d=\"M 56.50625 107.60825 \nL 529.522917 107.60825 \n\" clip-path=\"url(#pd9bf9d55ca)\" style=\"fill: none; stroke: #b0b0b0; stroke-width: 0.8; stroke-linecap: square\"/>\n     </g>\n     <g id=\"line2d_22\">\n      <g>\n       <use xlink:href=\"#mb1f719d709\" x=\"56.50625\" y=\"107.60825\" style=\"stroke: #000000; stroke-width: 0.8\"/>\n      </g>\n     </g>\n     <g id=\"text_12\">\n      <!-- 0.016 -->\n      <g transform=\"translate(20.878125 111.407469)scale(0.1 -0.1)\">\n       <use xlink:href=\"#DejaVuSans-30\"/>\n       <use xlink:href=\"#DejaVuSans-2e\" x=\"63.623047\"/>\n       <use xlink:href=\"#DejaVuSans-30\" x=\"95.410156\"/>\n       <use xlink:href=\"#DejaVuSans-31\" x=\"159.033203\"/>\n       <use xlink:href=\"#DejaVuSans-36\" x=\"222.65625\"/>\n      </g>\n     </g>\n    </g>\n    <g id=\"ytick_6\">\n     <g id=\"line2d_23\">\n      <path d=\"M 56.50625 47.795179 \nL 529.522917 47.795179 \n\" clip-path=\"url(#pd9bf9d55ca)\" style=\"fill: none; stroke: #b0b0b0; stroke-width: 0.8; stroke-linecap: square\"/>\n     </g>\n     <g id=\"line2d_24\">\n      <g>\n       <use xlink:href=\"#mb1f719d709\" x=\"56.50625\" y=\"47.795179\" style=\"stroke: #000000; stroke-width: 0.8\"/>\n      </g>\n     </g>\n     <g id=\"text_13\">\n      <!-- 0.018 -->\n      <g transform=\"translate(20.878125 51.594398)scale(0.1 -0.1)\">\n       <use xlink:href=\"#DejaVuSans-30\"/>\n       <use xlink:href=\"#DejaVuSans-2e\" x=\"63.623047\"/>\n       <use xlink:href=\"#DejaVuSans-30\" x=\"95.410156\"/>\n       <use xlink:href=\"#DejaVuSans-31\" x=\"159.033203\"/>\n       <use xlink:href=\"#DejaVuSans-38\" x=\"222.65625\"/>\n      </g>\n     </g>\n    </g>\n    <g id=\"text_14\">\n     <!-- Loss -->\n     <g transform=\"translate(14.798438 214.985312)rotate(-90)scale(0.1 -0.1)\">\n      <defs>\n       <path id=\"DejaVuSans-4c\" d=\"M 628 4666 \nL 1259 4666 \nL 1259 531 \nL 3531 531 \nL 3531 0 \nL 628 0 \nL 628 4666 \nz\n\" transform=\"scale(0.015625)\"/>\n       <path id=\"DejaVuSans-73\" d=\"M 2834 3397 \nL 2834 2853 \nQ 2591 2978 2328 3040 \nQ 2066 3103 1784 3103 \nQ 1356 3103 1142 2972 \nQ 928 2841 928 2578 \nQ 928 2378 1081 2264 \nQ 1234 2150 1697 2047 \nL 1894 2003 \nQ 2506 1872 2764 1633 \nQ 3022 1394 3022 966 \nQ 3022 478 2636 193 \nQ 2250 -91 1575 -91 \nQ 1294 -91 989 -36 \nQ 684 19 347 128 \nL 347 722 \nQ 666 556 975 473 \nQ 1284 391 1588 391 \nQ 1994 391 2212 530 \nQ 2431 669 2431 922 \nQ 2431 1156 2273 1281 \nQ 2116 1406 1581 1522 \nL 1381 1569 \nQ 847 1681 609 1914 \nQ 372 2147 372 2553 \nQ 372 3047 722 3315 \nQ 1072 3584 1716 3584 \nQ 2034 3584 2315 3537 \nQ 2597 3491 2834 3397 \nz\n\" transform=\"scale(0.015625)\"/>\n      </defs>\n      <use xlink:href=\"#DejaVuSans-4c\"/>\n      <use xlink:href=\"#DejaVuSans-6f\" x=\"53.962891\"/>\n      <use xlink:href=\"#DejaVuSans-73\" x=\"115.144531\"/>\n      <use xlink:href=\"#DejaVuSans-73\" x=\"167.244141\"/>\n     </g>\n    </g>\n   </g>\n   <g id=\"line2d_25\">\n    <path d=\"M 78.007008 38.836307 \nL 164.010038 199.72051 \nL 250.013068 222.105795 \nL 336.016098 244.34605 \nL 422.019129 282.378422 \nL 508.022159 369.199943 \n\" clip-path=\"url(#pd9bf9d55ca)\" style=\"fill: none; stroke: #0000ff; stroke-width: 1.5; stroke-linecap: square\"/>\n    <defs>\n     <path id=\"me59cc56366\" d=\"M 0 3 \nC 0.795609 3 1.55874 2.683901 2.12132 2.12132 \nC 2.683901 1.55874 3 0.795609 3 0 \nC 3 -0.795609 2.683901 -1.55874 2.12132 -2.12132 \nC 1.55874 -2.683901 0.795609 -3 0 -3 \nC -0.795609 -3 -1.55874 -2.683901 -2.12132 -2.12132 \nC -2.683901 -1.55874 -3 -0.795609 -3 0 \nC -3 0.795609 -2.683901 1.55874 -2.12132 2.12132 \nC -1.55874 2.683901 -0.795609 3 0 3 \nz\n\" style=\"stroke: #0000ff\"/>\n    </defs>\n    <g clip-path=\"url(#pd9bf9d55ca)\">\n     <use xlink:href=\"#me59cc56366\" x=\"78.007008\" y=\"38.836307\" style=\"fill: #0000ff; stroke: #0000ff\"/>\n     <use xlink:href=\"#me59cc56366\" x=\"164.010038\" y=\"199.72051\" style=\"fill: #0000ff; stroke: #0000ff\"/>\n     <use xlink:href=\"#me59cc56366\" x=\"250.013068\" y=\"222.105795\" style=\"fill: #0000ff; stroke: #0000ff\"/>\n     <use xlink:href=\"#me59cc56366\" x=\"336.016098\" y=\"244.34605\" style=\"fill: #0000ff; stroke: #0000ff\"/>\n     <use xlink:href=\"#me59cc56366\" x=\"422.019129\" y=\"282.378422\" style=\"fill: #0000ff; stroke: #0000ff\"/>\n     <use xlink:href=\"#me59cc56366\" x=\"508.022159\" y=\"369.199943\" style=\"fill: #0000ff; stroke: #0000ff\"/>\n    </g>\n   </g>\n   <g id=\"line2d_26\">\n    <path d=\"M 78.007008 266.225197 \nL 164.010038 235.222394 \nL 250.013068 254.2981 \nL 336.016098 199.985059 \nL 422.019129 204.989564 \nL 508.022159 223.936955 \n\" clip-path=\"url(#pd9bf9d55ca)\" style=\"fill: none; stroke: #ff0000; stroke-width: 1.5; stroke-linecap: square\"/>\n    <defs>\n     <path id=\"m260c9edb73\" d=\"M 0 3 \nC 0.795609 3 1.55874 2.683901 2.12132 2.12132 \nC 2.683901 1.55874 3 0.795609 3 0 \nC 3 -0.795609 2.683901 -1.55874 2.12132 -2.12132 \nC 1.55874 -2.683901 0.795609 -3 0 -3 \nC -0.795609 -3 -1.55874 -2.683901 -2.12132 -2.12132 \nC -2.683901 -1.55874 -3 -0.795609 -3 0 \nC -3 0.795609 -2.683901 1.55874 -2.12132 2.12132 \nC -1.55874 2.683901 -0.795609 3 0 3 \nz\n\" style=\"stroke: #ff0000\"/>\n    </defs>\n    <g clip-path=\"url(#pd9bf9d55ca)\">\n     <use xlink:href=\"#m260c9edb73\" x=\"78.007008\" y=\"266.225197\" style=\"fill: #ff0000; stroke: #ff0000\"/>\n     <use xlink:href=\"#m260c9edb73\" x=\"164.010038\" y=\"235.222394\" style=\"fill: #ff0000; stroke: #ff0000\"/>\n     <use xlink:href=\"#m260c9edb73\" x=\"250.013068\" y=\"254.2981\" style=\"fill: #ff0000; stroke: #ff0000\"/>\n     <use xlink:href=\"#m260c9edb73\" x=\"336.016098\" y=\"199.985059\" style=\"fill: #ff0000; stroke: #ff0000\"/>\n     <use xlink:href=\"#m260c9edb73\" x=\"422.019129\" y=\"204.989564\" style=\"fill: #ff0000; stroke: #ff0000\"/>\n     <use xlink:href=\"#m260c9edb73\" x=\"508.022159\" y=\"223.936955\" style=\"fill: #ff0000; stroke: #ff0000\"/>\n    </g>\n   </g>\n   <g id=\"patch_3\">\n    <path d=\"M 56.50625 385.718125 \nL 56.50625 22.318125 \n\" style=\"fill: none; stroke: #000000; stroke-width: 0.8; stroke-linejoin: miter; stroke-linecap: square\"/>\n   </g>\n   <g id=\"patch_4\">\n    <path d=\"M 529.522917 385.718125 \nL 529.522917 22.318125 \n\" style=\"fill: none; stroke: #000000; stroke-width: 0.8; stroke-linejoin: miter; stroke-linecap: square\"/>\n   </g>\n   <g id=\"patch_5\">\n    <path d=\"M 56.50625 385.718125 \nL 529.522917 385.718125 \n\" style=\"fill: none; stroke: #000000; stroke-width: 0.8; stroke-linejoin: miter; stroke-linecap: square\"/>\n   </g>\n   <g id=\"patch_6\">\n    <path d=\"M 56.50625 22.318125 \nL 529.522917 22.318125 \n\" style=\"fill: none; stroke: #000000; stroke-width: 0.8; stroke-linejoin: miter; stroke-linecap: square\"/>\n   </g>\n   <g id=\"text_15\">\n    <!-- Loss Curves Transformer -->\n    <g transform=\"translate(219.213646 16.318125)scale(0.12 -0.12)\">\n     <defs>\n      <path id=\"DejaVuSans-20\" transform=\"scale(0.015625)\"/>\n      <path id=\"DejaVuSans-43\" d=\"M 4122 4306 \nL 4122 3641 \nQ 3803 3938 3442 4084 \nQ 3081 4231 2675 4231 \nQ 1875 4231 1450 3742 \nQ 1025 3253 1025 2328 \nQ 1025 1406 1450 917 \nQ 1875 428 2675 428 \nQ 3081 428 3442 575 \nQ 3803 722 4122 1019 \nL 4122 359 \nQ 3791 134 3420 21 \nQ 3050 -91 2638 -91 \nQ 1578 -91 968 557 \nQ 359 1206 359 2328 \nQ 359 3453 968 4101 \nQ 1578 4750 2638 4750 \nQ 3056 4750 3426 4639 \nQ 3797 4528 4122 4306 \nz\n\" transform=\"scale(0.015625)\"/>\n      <path id=\"DejaVuSans-75\" d=\"M 544 1381 \nL 544 3500 \nL 1119 3500 \nL 1119 1403 \nQ 1119 906 1312 657 \nQ 1506 409 1894 409 \nQ 2359 409 2629 706 \nQ 2900 1003 2900 1516 \nL 2900 3500 \nL 3475 3500 \nL 3475 0 \nL 2900 0 \nL 2900 538 \nQ 2691 219 2414 64 \nQ 2138 -91 1772 -91 \nQ 1169 -91 856 284 \nQ 544 659 544 1381 \nz\nM 1991 3584 \nL 1991 3584 \nz\n\" transform=\"scale(0.015625)\"/>\n      <path id=\"DejaVuSans-72\" d=\"M 2631 2963 \nQ 2534 3019 2420 3045 \nQ 2306 3072 2169 3072 \nQ 1681 3072 1420 2755 \nQ 1159 2438 1159 1844 \nL 1159 0 \nL 581 0 \nL 581 3500 \nL 1159 3500 \nL 1159 2956 \nQ 1341 3275 1631 3429 \nQ 1922 3584 2338 3584 \nQ 2397 3584 2469 3576 \nQ 2541 3569 2628 3553 \nL 2631 2963 \nz\n\" transform=\"scale(0.015625)\"/>\n      <path id=\"DejaVuSans-76\" d=\"M 191 3500 \nL 800 3500 \nL 1894 563 \nL 2988 3500 \nL 3597 3500 \nL 2284 0 \nL 1503 0 \nL 191 3500 \nz\n\" transform=\"scale(0.015625)\"/>\n      <path id=\"DejaVuSans-65\" d=\"M 3597 1894 \nL 3597 1613 \nL 953 1613 \nQ 991 1019 1311 708 \nQ 1631 397 2203 397 \nQ 2534 397 2845 478 \nQ 3156 559 3463 722 \nL 3463 178 \nQ 3153 47 2828 -22 \nQ 2503 -91 2169 -91 \nQ 1331 -91 842 396 \nQ 353 884 353 1716 \nQ 353 2575 817 3079 \nQ 1281 3584 2069 3584 \nQ 2775 3584 3186 3129 \nQ 3597 2675 3597 1894 \nz\nM 3022 2063 \nQ 3016 2534 2758 2815 \nQ 2500 3097 2075 3097 \nQ 1594 3097 1305 2825 \nQ 1016 2553 972 2059 \nL 3022 2063 \nz\n\" transform=\"scale(0.015625)\"/>\n      <path id=\"DejaVuSans-54\" d=\"M -19 4666 \nL 3928 4666 \nL 3928 4134 \nL 2272 4134 \nL 2272 0 \nL 1638 0 \nL 1638 4134 \nL -19 4134 \nL -19 4666 \nz\n\" transform=\"scale(0.015625)\"/>\n      <path id=\"DejaVuSans-61\" d=\"M 2194 1759 \nQ 1497 1759 1228 1600 \nQ 959 1441 959 1056 \nQ 959 750 1161 570 \nQ 1363 391 1709 391 \nQ 2188 391 2477 730 \nQ 2766 1069 2766 1631 \nL 2766 1759 \nL 2194 1759 \nz\nM 3341 1997 \nL 3341 0 \nL 2766 0 \nL 2766 531 \nQ 2569 213 2275 61 \nQ 1981 -91 1556 -91 \nQ 1019 -91 701 211 \nQ 384 513 384 1019 \nQ 384 1609 779 1909 \nQ 1175 2209 1959 2209 \nL 2766 2209 \nL 2766 2266 \nQ 2766 2663 2505 2880 \nQ 2244 3097 1772 3097 \nQ 1472 3097 1187 3025 \nQ 903 2953 641 2809 \nL 641 3341 \nQ 956 3463 1253 3523 \nQ 1550 3584 1831 3584 \nQ 2591 3584 2966 3190 \nQ 3341 2797 3341 1997 \nz\n\" transform=\"scale(0.015625)\"/>\n      <path id=\"DejaVuSans-6e\" d=\"M 3513 2113 \nL 3513 0 \nL 2938 0 \nL 2938 2094 \nQ 2938 2591 2744 2837 \nQ 2550 3084 2163 3084 \nQ 1697 3084 1428 2787 \nQ 1159 2491 1159 1978 \nL 1159 0 \nL 581 0 \nL 581 3500 \nL 1159 3500 \nL 1159 2956 \nQ 1366 3272 1645 3428 \nQ 1925 3584 2291 3584 \nQ 2894 3584 3203 3211 \nQ 3513 2838 3513 2113 \nz\n\" transform=\"scale(0.015625)\"/>\n      <path id=\"DejaVuSans-66\" d=\"M 2375 4863 \nL 2375 4384 \nL 1825 4384 \nQ 1516 4384 1395 4259 \nQ 1275 4134 1275 3809 \nL 1275 3500 \nL 2222 3500 \nL 2222 3053 \nL 1275 3053 \nL 1275 0 \nL 697 0 \nL 697 3053 \nL 147 3053 \nL 147 3500 \nL 697 3500 \nL 697 3744 \nQ 697 4328 969 4595 \nQ 1241 4863 1831 4863 \nL 2375 4863 \nz\n\" transform=\"scale(0.015625)\"/>\n      <path id=\"DejaVuSans-6d\" d=\"M 3328 2828 \nQ 3544 3216 3844 3400 \nQ 4144 3584 4550 3584 \nQ 5097 3584 5394 3201 \nQ 5691 2819 5691 2113 \nL 5691 0 \nL 5113 0 \nL 5113 2094 \nQ 5113 2597 4934 2840 \nQ 4756 3084 4391 3084 \nQ 3944 3084 3684 2787 \nQ 3425 2491 3425 1978 \nL 3425 0 \nL 2847 0 \nL 2847 2094 \nQ 2847 2600 2669 2842 \nQ 2491 3084 2119 3084 \nQ 1678 3084 1418 2786 \nQ 1159 2488 1159 1978 \nL 1159 0 \nL 581 0 \nL 581 3500 \nL 1159 3500 \nL 1159 2956 \nQ 1356 3278 1631 3431 \nQ 1906 3584 2284 3584 \nQ 2666 3584 2933 3390 \nQ 3200 3197 3328 2828 \nz\n\" transform=\"scale(0.015625)\"/>\n     </defs>\n     <use xlink:href=\"#DejaVuSans-4c\"/>\n     <use xlink:href=\"#DejaVuSans-6f\" x=\"53.962891\"/>\n     <use xlink:href=\"#DejaVuSans-73\" x=\"115.144531\"/>\n     <use xlink:href=\"#DejaVuSans-73\" x=\"167.244141\"/>\n     <use xlink:href=\"#DejaVuSans-20\" x=\"219.34375\"/>\n     <use xlink:href=\"#DejaVuSans-43\" x=\"251.130859\"/>\n     <use xlink:href=\"#DejaVuSans-75\" x=\"320.955078\"/>\n     <use xlink:href=\"#DejaVuSans-72\" x=\"384.333984\"/>\n     <use xlink:href=\"#DejaVuSans-76\" x=\"425.447266\"/>\n     <use xlink:href=\"#DejaVuSans-65\" x=\"484.626953\"/>\n     <use xlink:href=\"#DejaVuSans-73\" x=\"546.150391\"/>\n     <use xlink:href=\"#DejaVuSans-20\" x=\"598.25\"/>\n     <use xlink:href=\"#DejaVuSans-54\" x=\"630.037109\"/>\n     <use xlink:href=\"#DejaVuSans-72\" x=\"676.371094\"/>\n     <use xlink:href=\"#DejaVuSans-61\" x=\"717.484375\"/>\n     <use xlink:href=\"#DejaVuSans-6e\" x=\"778.763672\"/>\n     <use xlink:href=\"#DejaVuSans-73\" x=\"842.142578\"/>\n     <use xlink:href=\"#DejaVuSans-66\" x=\"894.242188\"/>\n     <use xlink:href=\"#DejaVuSans-6f\" x=\"929.447266\"/>\n     <use xlink:href=\"#DejaVuSans-72\" x=\"990.628906\"/>\n     <use xlink:href=\"#DejaVuSans-6d\" x=\"1029.992188\"/>\n     <use xlink:href=\"#DejaVuSans-65\" x=\"1127.404297\"/>\n     <use xlink:href=\"#DejaVuSans-72\" x=\"1188.927734\"/>\n    </g>\n   </g>\n   <g id=\"legend_1\">\n    <g id=\"patch_7\">\n     <path d=\"M 416.029167 59.674375 \nL 522.522917 59.674375 \nQ 524.522917 59.674375 524.522917 57.674375 \nL 524.522917 29.318125 \nQ 524.522917 27.318125 522.522917 27.318125 \nL 416.029167 27.318125 \nQ 414.029167 27.318125 414.029167 29.318125 \nL 414.029167 57.674375 \nQ 414.029167 59.674375 416.029167 59.674375 \nz\n\" style=\"fill: #ffffff; opacity: 0.8; stroke: #cccccc; stroke-linejoin: miter\"/>\n    </g>\n    <g id=\"line2d_27\">\n     <path d=\"M 418.029167 35.416562 \nL 428.029167 35.416562 \nL 438.029167 35.416562 \n\" style=\"fill: none; stroke: #0000ff; stroke-width: 1.5; stroke-linecap: square\"/>\n     <g>\n      <use xlink:href=\"#me59cc56366\" x=\"428.029167\" y=\"35.416562\" style=\"fill: #0000ff; stroke: #0000ff\"/>\n     </g>\n    </g>\n    <g id=\"text_16\">\n     <!-- Train Loss -->\n     <g transform=\"translate(446.029167 38.916562)scale(0.1 -0.1)\">\n      <defs>\n       <path id=\"DejaVuSans-69\" d=\"M 603 3500 \nL 1178 3500 \nL 1178 0 \nL 603 0 \nL 603 3500 \nz\nM 603 4863 \nL 1178 4863 \nL 1178 4134 \nL 603 4134 \nL 603 4863 \nz\n\" transform=\"scale(0.015625)\"/>\n      </defs>\n      <use xlink:href=\"#DejaVuSans-54\"/>\n      <use xlink:href=\"#DejaVuSans-72\" x=\"46.333984\"/>\n      <use xlink:href=\"#DejaVuSans-61\" x=\"87.447266\"/>\n      <use xlink:href=\"#DejaVuSans-69\" x=\"148.726562\"/>\n      <use xlink:href=\"#DejaVuSans-6e\" x=\"176.509766\"/>\n      <use xlink:href=\"#DejaVuSans-20\" x=\"239.888672\"/>\n      <use xlink:href=\"#DejaVuSans-4c\" x=\"271.675781\"/>\n      <use xlink:href=\"#DejaVuSans-6f\" x=\"325.638672\"/>\n      <use xlink:href=\"#DejaVuSans-73\" x=\"386.820312\"/>\n      <use xlink:href=\"#DejaVuSans-73\" x=\"438.919922\"/>\n     </g>\n    </g>\n    <g id=\"line2d_28\">\n     <path d=\"M 418.029167 50.094687 \nL 428.029167 50.094687 \nL 438.029167 50.094687 \n\" style=\"fill: none; stroke: #ff0000; stroke-width: 1.5; stroke-linecap: square\"/>\n     <g>\n      <use xlink:href=\"#m260c9edb73\" x=\"428.029167\" y=\"50.094687\" style=\"fill: #ff0000; stroke: #ff0000\"/>\n     </g>\n    </g>\n    <g id=\"text_17\">\n     <!-- Validation Loss -->\n     <g transform=\"translate(446.029167 53.594687)scale(0.1 -0.1)\">\n      <defs>\n       <path id=\"DejaVuSans-56\" d=\"M 1831 0 \nL 50 4666 \nL 709 4666 \nL 2188 738 \nL 3669 4666 \nL 4325 4666 \nL 2547 0 \nL 1831 0 \nz\n\" transform=\"scale(0.015625)\"/>\n       <path id=\"DejaVuSans-6c\" d=\"M 603 4863 \nL 1178 4863 \nL 1178 0 \nL 603 0 \nL 603 4863 \nz\n\" transform=\"scale(0.015625)\"/>\n       <path id=\"DejaVuSans-64\" d=\"M 2906 2969 \nL 2906 4863 \nL 3481 4863 \nL 3481 0 \nL 2906 0 \nL 2906 525 \nQ 2725 213 2448 61 \nQ 2172 -91 1784 -91 \nQ 1150 -91 751 415 \nQ 353 922 353 1747 \nQ 353 2572 751 3078 \nQ 1150 3584 1784 3584 \nQ 2172 3584 2448 3432 \nQ 2725 3281 2906 2969 \nz\nM 947 1747 \nQ 947 1113 1208 752 \nQ 1469 391 1925 391 \nQ 2381 391 2643 752 \nQ 2906 1113 2906 1747 \nQ 2906 2381 2643 2742 \nQ 2381 3103 1925 3103 \nQ 1469 3103 1208 2742 \nQ 947 2381 947 1747 \nz\n\" transform=\"scale(0.015625)\"/>\n       <path id=\"DejaVuSans-74\" d=\"M 1172 4494 \nL 1172 3500 \nL 2356 3500 \nL 2356 3053 \nL 1172 3053 \nL 1172 1153 \nQ 1172 725 1289 603 \nQ 1406 481 1766 481 \nL 2356 481 \nL 2356 0 \nL 1766 0 \nQ 1100 0 847 248 \nQ 594 497 594 1153 \nL 594 3053 \nL 172 3053 \nL 172 3500 \nL 594 3500 \nL 594 4494 \nL 1172 4494 \nz\n\" transform=\"scale(0.015625)\"/>\n      </defs>\n      <use xlink:href=\"#DejaVuSans-56\"/>\n      <use xlink:href=\"#DejaVuSans-61\" x=\"60.658203\"/>\n      <use xlink:href=\"#DejaVuSans-6c\" x=\"121.9375\"/>\n      <use xlink:href=\"#DejaVuSans-69\" x=\"149.720703\"/>\n      <use xlink:href=\"#DejaVuSans-64\" x=\"177.503906\"/>\n      <use xlink:href=\"#DejaVuSans-61\" x=\"240.980469\"/>\n      <use xlink:href=\"#DejaVuSans-74\" x=\"302.259766\"/>\n      <use xlink:href=\"#DejaVuSans-69\" x=\"341.46875\"/>\n      <use xlink:href=\"#DejaVuSans-6f\" x=\"369.251953\"/>\n      <use xlink:href=\"#DejaVuSans-6e\" x=\"430.433594\"/>\n      <use xlink:href=\"#DejaVuSans-20\" x=\"493.8125\"/>\n      <use xlink:href=\"#DejaVuSans-4c\" x=\"525.599609\"/>\n      <use xlink:href=\"#DejaVuSans-6f\" x=\"579.5625\"/>\n      <use xlink:href=\"#DejaVuSans-73\" x=\"640.744141\"/>\n      <use xlink:href=\"#DejaVuSans-73\" x=\"692.84375\"/>\n     </g>\n    </g>\n   </g>\n  </g>\n </g>\n <defs>\n  <clipPath id=\"pd9bf9d55ca\">\n   <rect x=\"56.50625\" y=\"22.318125\" width=\"473.016667\" height=\"363.4\"/>\n  </clipPath>\n </defs>\n</svg>\n"
     },
     "metadata": {
      "needs_background": "light"
     },
     "output_type": "display_data"
    }
   ],
   "source": [
    "plt.figure(figsize=(21, 6))\n",
    "\n",
    "complete_epochs = len(train_loss_history)+1\n",
    "plt.subplot(1, 3, 1)\n",
    "plt.plot(range(1, complete_epochs), train_loss_history, label='Train Loss', marker='o', color='b')\n",
    "plt.plot(range(1, complete_epochs), val_loss_history,  label='Validation Loss',  marker='o', color='r')\n",
    "plt.title('Loss Curves Transformer')\n",
    "plt.xlabel('Epoch')\n",
    "plt.ylabel('Loss')\n",
    "plt.legend()\n",
    "plt.grid()\n",
    "plt.tight_layout()\n",
    "plt.show()"
   ],
   "metadata": {
    "collapsed": false,
    "pycharm": {
     "name": "#%%\n"
    }
   }
  },
  {
   "cell_type": "code",
   "execution_count": 44,
   "outputs": [
    {
     "name": "stdout",
     "output_type": "stream",
     "text": [
      "True:\n",
      "tensor([0.3000, 0.5400, 1.0000, 1.0000, 1.0000, 1.0000, 1.0000, 1.0000],\n",
      "       device='cuda:0')\n",
      "Predicted:\n",
      "tensor([0.2592, 0.2592, 0.2592, 0.2592, 0.2592, 0.2592, 0.2592, 0.2592],\n",
      "       device='cuda:0')\n",
      " \n",
      "True:\n",
      "tensor([0.3000, 0.5400, 0.7000, 1.0000, 1.0000, 1.0000, 1.0000, 1.0000],\n",
      "       device='cuda:0')\n",
      "Predicted:\n",
      "tensor([0.3310, 0.3310, 0.3310, 0.3310, 0.3310, 0.3310, 0.3310, 0.3310],\n",
      "       device='cuda:0')\n",
      " \n",
      "True:\n",
      "tensor([0.2800, 0.4000, 0.5300, 0.9600, 1.0000, 1.0000, 1.0000, 1.0000],\n",
      "       device='cuda:0')\n",
      "Predicted:\n",
      "tensor([0.2592, 0.2592, 0.2592, 0.2592, 0.2592, 0.2592, 0.2592, 0.2592],\n",
      "       device='cuda:0')\n",
      " \n",
      "True:\n",
      "tensor([0.1500, 0.3400, 1.0000, 1.0000, 1.0000, 1.0000, 1.0000, 1.0000],\n",
      "       device='cuda:0')\n",
      "Predicted:\n",
      "tensor([0.3336, 0.3336, 0.3336, 0.3336, 0.3336, 0.3336, 0.3336, 0.3336],\n",
      "       device='cuda:0')\n",
      " \n",
      "True:\n",
      "tensor([0.1200, 0.3000, 0.5000, 1.0000, 1.0000, 1.0000, 1.0000, 1.0000],\n",
      "       device='cuda:0')\n",
      "Predicted:\n",
      "tensor([0.2094, 0.2094, 0.2094, 0.2094, 0.2094, 0.2094, 0.2094, 0.2094],\n",
      "       device='cuda:0')\n",
      " \n",
      "True:\n",
      "tensor([0.1000, 0.2600, 0.5000, 1.0000, 1.0000, 1.0000, 1.0000, 1.0000],\n",
      "       device='cuda:0')\n",
      "Predicted:\n",
      "tensor([0.2732, 0.2732, 0.2732, 0.2732, 0.2732, 0.2732, 0.2732, 0.2732],\n",
      "       device='cuda:0')\n",
      " \n",
      "True:\n",
      "tensor([0.1300, 0.2900, 0.5000, 1.0000, 1.0000, 1.0000, 1.0000, 1.0000],\n",
      "       device='cuda:0')\n",
      "Predicted:\n",
      "tensor([0.2767, 0.2767, 0.2767, 0.2767, 0.2767, 0.2767, 0.2767, 0.2767],\n",
      "       device='cuda:0')\n",
      " \n",
      "True:\n",
      "tensor([0.2700, 0.4800, 0.6800, 1.0000, 1.0000, 1.0000, 1.0000, 1.0000],\n",
      "       device='cuda:0')\n",
      "Predicted:\n",
      "tensor([0.2132, 0.2132, 0.2132, 0.2132, 0.2132, 0.2132, 0.2132, 0.2132],\n",
      "       device='cuda:0')\n",
      " \n",
      "True:\n",
      "tensor([0.3000, 0.4000, 0.5000, 1.0000, 1.0000, 1.0000, 1.0000, 1.0000],\n",
      "       device='cuda:0')\n",
      "Predicted:\n",
      "tensor([0.3267, 0.3267, 0.3267, 0.3267, 0.3267, 0.3267, 0.3267, 0.3267],\n",
      "       device='cuda:0')\n",
      " \n",
      "True:\n",
      "tensor([0.3000, 0.7100, 1.0000, 1.0000, 1.0000, 1.0000, 1.0000, 1.0000],\n",
      "       device='cuda:0')\n",
      "Predicted:\n",
      "tensor([0.2791, 0.2791, 0.2791, 0.2791, 0.2791, 0.2791, 0.2791, 0.2791],\n",
      "       device='cuda:0')\n",
      " \n",
      "True:\n",
      "tensor([0.0800, 0.3200, 1.0000, 1.0000, 1.0000, 1.0000, 1.0000, 1.0000],\n",
      "       device='cuda:0')\n",
      "Predicted:\n",
      "tensor([0.3155, 0.3155, 0.3155, 0.3155, 0.3155, 0.3155, 0.3155, 0.3155],\n",
      "       device='cuda:0')\n",
      " \n",
      "True:\n",
      "tensor([0.3400, 0.5000, 0.7400, 1.0000, 1.0000, 1.0000, 1.0000, 1.0000],\n",
      "       device='cuda:0')\n",
      "Predicted:\n",
      "tensor([0.3498, 0.3498, 0.3498, 0.3498, 0.3498, 0.3498, 0.3498, 0.3498],\n",
      "       device='cuda:0')\n",
      " \n",
      "True:\n",
      "tensor([0.3300, 0.4800, 1.0000, 1.0000, 1.0000, 1.0000, 1.0000, 1.0000],\n",
      "       device='cuda:0')\n",
      "Predicted:\n",
      "tensor([0.3514, 0.3514, 0.3514, 0.3514, 0.3514, 0.3514, 0.3514, 0.3514],\n",
      "       device='cuda:0')\n",
      " \n",
      "True:\n",
      "tensor([0.2200, 0.5200, 1.0000, 1.0000, 1.0000, 1.0000, 1.0000, 1.0000],\n",
      "       device='cuda:0')\n",
      "Predicted:\n",
      "tensor([0.2361, 0.2361, 0.2361, 0.2361, 0.2361, 0.2361, 0.2361, 0.2361],\n",
      "       device='cuda:0')\n",
      " \n",
      "True:\n",
      "tensor([0.1200, 0.2000, 0.4000, 1.0000, 1.0000, 1.0000, 1.0000, 1.0000],\n",
      "       device='cuda:0')\n",
      "Predicted:\n",
      "tensor([0.2405, 0.2405, 0.2405, 0.2405, 0.2405, 0.2405, 0.2405, 0.2405],\n",
      "       device='cuda:0')\n",
      " \n",
      "True:\n",
      "tensor([0.1000, 0.3100, 0.8000, 1.0000, 1.0000, 1.0000, 1.0000, 1.0000],\n",
      "       device='cuda:0')\n",
      "Predicted:\n",
      "tensor([0.2135, 0.2135, 0.2135, 0.2135, 0.2135, 0.2135, 0.2135, 0.2135],\n",
      "       device='cuda:0')\n",
      " \n",
      "True:\n",
      "tensor([0.1300, 0.3000, 1.0000, 1.0000, 1.0000, 1.0000, 1.0000, 1.0000],\n",
      "       device='cuda:0')\n",
      "Predicted:\n",
      "tensor([0.2130, 0.2130, 0.2130, 0.2130, 0.2130, 0.2130, 0.2130, 0.2130],\n",
      "       device='cuda:0')\n",
      " \n",
      "True:\n",
      "tensor([0.3800, 0.6600, 0.9600, 1.0000, 1.0000, 1.0000, 1.0000, 1.0000],\n",
      "       device='cuda:0')\n",
      "Predicted:\n",
      "tensor([0.3951, 0.3951, 0.3951, 0.3951, 0.3951, 0.3951, 0.3951, 0.3951],\n",
      "       device='cuda:0')\n",
      " \n",
      "True:\n",
      "tensor([0.1300, 0.3000, 0.4600, 0.7000, 1.0000, 1.0000, 1.0000, 1.0000],\n",
      "       device='cuda:0')\n",
      "Predicted:\n",
      "tensor([0.2415, 0.2415, 0.2415, 0.2415, 0.2415, 0.2415, 0.2415, 0.2415],\n",
      "       device='cuda:0')\n",
      " \n",
      "True:\n",
      "tensor([0.0700, 0.2800, 0.4700, 0.6800, 0.9700, 1.0000, 1.0000, 1.0000],\n",
      "       device='cuda:0')\n",
      "Predicted:\n",
      "tensor([0.2089, 0.2089, 0.2089, 0.2089, 0.2089, 0.2089, 0.2089, 0.2089],\n",
      "       device='cuda:0')\n",
      " \n",
      "True:\n",
      "tensor([0.2700, 0.5400, 1.0000, 1.0000, 1.0000, 1.0000, 1.0000, 1.0000],\n",
      "       device='cuda:0')\n",
      "Predicted:\n",
      "tensor([0.3402, 0.3402, 0.3402, 0.3402, 0.3402, 0.3402, 0.3402, 0.3402],\n",
      "       device='cuda:0')\n",
      " \n",
      "True:\n",
      "tensor([0.1000, 0.3300, 0.7000, 0.9600, 1.0000, 1.0000, 1.0000, 1.0000],\n",
      "       device='cuda:0')\n",
      "Predicted:\n",
      "tensor([0.3003, 0.3003, 0.3003, 0.3003, 0.3003, 0.3003, 0.3003, 0.3003],\n",
      "       device='cuda:0')\n",
      " \n",
      "True:\n",
      "tensor([0.1200, 0.3000, 0.7000, 1.0000, 1.0000, 1.0000, 1.0000, 1.0000],\n",
      "       device='cuda:0')\n",
      "Predicted:\n",
      "tensor([0.2139, 0.2139, 0.2139, 0.2139, 0.2139, 0.2139, 0.2139, 0.2139],\n",
      "       device='cuda:0')\n",
      " \n",
      "True:\n",
      "tensor([0.3400, 0.6100, 1.0000, 1.0000, 1.0000, 1.0000, 1.0000, 1.0000],\n",
      "       device='cuda:0')\n",
      "Predicted:\n",
      "tensor([0.3934, 0.3934, 0.3934, 0.3934, 0.3934, 0.3934, 0.3934, 0.3934],\n",
      "       device='cuda:0')\n",
      " \n",
      "True:\n",
      "tensor([0.1200, 0.4800, 0.5800, 0.8200, 1.0000, 1.0000, 1.0000, 1.0000],\n",
      "       device='cuda:0')\n",
      "Predicted:\n",
      "tensor([0.2218, 0.2218, 0.2218, 0.2218, 0.2218, 0.2218, 0.2218, 0.2218],\n",
      "       device='cuda:0')\n",
      " \n",
      "True:\n",
      "tensor([0.0600, 0.3000, 0.5400, 0.7400, 1.0000, 1.0000, 1.0000, 1.0000],\n",
      "       device='cuda:0')\n",
      "Predicted:\n",
      "tensor([0.2533, 0.2533, 0.2533, 0.2533, 0.2533, 0.2533, 0.2533, 0.2533],\n",
      "       device='cuda:0')\n",
      " \n",
      "True:\n",
      "tensor([0.1000, 0.3200, 0.6800, 1.0000, 1.0000, 1.0000, 1.0000, 1.0000],\n",
      "       device='cuda:0')\n",
      "Predicted:\n",
      "tensor([0.2121, 0.2121, 0.2121, 0.2121, 0.2121, 0.2121, 0.2121, 0.2121],\n",
      "       device='cuda:0')\n",
      " \n",
      "True:\n",
      "tensor([0.1300, 0.6600, 0.9800, 1.0000, 1.0000, 1.0000, 1.0000, 1.0000],\n",
      "       device='cuda:0')\n",
      "Predicted:\n",
      "tensor([0.2360, 0.2360, 0.2360, 0.2360, 0.2360, 0.2360, 0.2360, 0.2360],\n",
      "       device='cuda:0')\n",
      " \n",
      "True:\n",
      "tensor([0.3000, 0.5000, 0.7300, 1.0000, 1.0000, 1.0000, 1.0000, 1.0000],\n",
      "       device='cuda:0')\n",
      "Predicted:\n",
      "tensor([0.2533, 0.2533, 0.2533, 0.2533, 0.2533, 0.2533, 0.2533, 0.2533],\n",
      "       device='cuda:0')\n",
      " \n",
      "True:\n",
      "tensor([0.1000, 0.2000, 0.5100, 0.6100, 0.8200, 0.9800, 1.0000, 1.0000],\n",
      "       device='cuda:0')\n",
      "Predicted:\n",
      "tensor([0.2235, 0.2235, 0.2235, 0.2235, 0.2235, 0.2235, 0.2235, 0.2235],\n",
      "       device='cuda:0')\n",
      " \n",
      "True:\n",
      "tensor([0.3000, 0.9500, 1.0000, 1.0000, 1.0000, 1.0000, 1.0000, 1.0000],\n",
      "       device='cuda:0')\n",
      "Predicted:\n",
      "tensor([0.3984, 0.3984, 0.3984, 0.3984, 0.3984, 0.3984, 0.3984, 0.3984],\n",
      "       device='cuda:0')\n",
      " \n",
      "True:\n",
      "tensor([0.3000, 0.4800, 0.8800, 1.0000, 1.0000, 1.0000, 1.0000, 1.0000],\n",
      "       device='cuda:0')\n",
      "Predicted:\n",
      "tensor([0.3983, 0.3983, 0.3983, 0.3983, 0.3983, 0.3983, 0.3983, 0.3983],\n",
      "       device='cuda:0')\n",
      " \n",
      "True:\n",
      "tensor([0.3800, 0.8000, 1.0000, 1.0000, 1.0000, 1.0000, 1.0000, 1.0000],\n",
      "       device='cuda:0')\n",
      "Predicted:\n",
      "tensor([0.3697, 0.3697, 0.3697, 0.3697, 0.3697, 0.3697, 0.3697, 0.3697],\n",
      "       device='cuda:0')\n",
      " \n",
      "True:\n",
      "tensor([0.1000, 0.3000, 0.6000, 0.8000, 0.9000, 1.0000, 1.0000, 1.0000],\n",
      "       device='cuda:0')\n",
      "Predicted:\n",
      "tensor([0.2142, 0.2142, 0.2142, 0.2142, 0.2142, 0.2142, 0.2142, 0.2142],\n",
      "       device='cuda:0')\n",
      " \n",
      "True:\n",
      "tensor([0.1800, 0.4700, 1.0000, 1.0000, 1.0000, 1.0000, 1.0000, 1.0000],\n",
      "       device='cuda:0')\n",
      "Predicted:\n",
      "tensor([0.2784, 0.2784, 0.2784, 0.2784, 0.2784, 0.2784, 0.2784, 0.2784],\n",
      "       device='cuda:0')\n",
      " \n",
      "True:\n",
      "tensor([0.1000, 0.3000, 0.5300, 0.7300, 1.0000, 1.0000, 1.0000, 1.0000],\n",
      "       device='cuda:0')\n",
      "Predicted:\n",
      "tensor([0.4001, 0.4001, 0.4001, 0.4001, 0.4001, 0.4001, 0.4001, 0.4001],\n",
      "       device='cuda:0')\n",
      " \n",
      "True:\n",
      "tensor([0.3000, 0.5300, 0.7300, 1.0000, 1.0000, 1.0000, 1.0000, 1.0000],\n",
      "       device='cuda:0')\n",
      "Predicted:\n",
      "tensor([0.2404, 0.2404, 0.2404, 0.2404, 0.2404, 0.2404, 0.2404, 0.2404],\n",
      "       device='cuda:0')\n",
      " \n",
      "True:\n",
      "tensor([0.1300, 0.4800, 0.6700, 0.9600, 1.0000, 1.0000, 1.0000, 1.0000],\n",
      "       device='cuda:0')\n",
      "Predicted:\n",
      "tensor([0.2194, 0.2194, 0.2194, 0.2194, 0.2194, 0.2194, 0.2194, 0.2194],\n",
      "       device='cuda:0')\n",
      " \n",
      "True:\n",
      "tensor([0.3000, 0.5000, 1.0000, 1.0000, 1.0000, 1.0000, 1.0000, 1.0000],\n",
      "       device='cuda:0')\n",
      "Predicted:\n",
      "tensor([0.2133, 0.2133, 0.2133, 0.2133, 0.2133, 0.2133, 0.2133, 0.2133],\n",
      "       device='cuda:0')\n",
      " \n",
      "True:\n",
      "tensor([0.2600, 0.5000, 0.8000, 1.0000, 1.0000, 1.0000, 1.0000, 1.0000],\n",
      "       device='cuda:0')\n",
      "Predicted:\n",
      "tensor([0.2622, 0.2622, 0.2622, 0.2622, 0.2622, 0.2622, 0.2622, 0.2622],\n",
      "       device='cuda:0')\n",
      " \n",
      "True:\n",
      "tensor([0.2800, 0.5000, 1.0000, 1.0000, 1.0000, 1.0000, 1.0000, 1.0000],\n",
      "       device='cuda:0')\n",
      "Predicted:\n",
      "tensor([0.3377, 0.3377, 0.3377, 0.3377, 0.3377, 0.3377, 0.3377, 0.3377],\n",
      "       device='cuda:0')\n",
      " \n",
      "True:\n",
      "tensor([0.3300, 0.6600, 1.0000, 1.0000, 1.0000, 1.0000, 1.0000, 1.0000],\n",
      "       device='cuda:0')\n",
      "Predicted:\n",
      "tensor([0.3958, 0.3958, 0.3958, 0.3958, 0.3958, 0.3958, 0.3958, 0.3958],\n",
      "       device='cuda:0')\n",
      " \n",
      "True:\n",
      "tensor([0.3000, 0.4500, 1.0000, 1.0000, 1.0000, 1.0000, 1.0000, 1.0000],\n",
      "       device='cuda:0')\n",
      "Predicted:\n",
      "tensor([0.2742, 0.2742, 0.2742, 0.2742, 0.2742, 0.2742, 0.2742, 0.2742],\n",
      "       device='cuda:0')\n",
      " \n",
      "True:\n",
      "tensor([0.4000, 0.7300, 1.0000, 1.0000, 1.0000, 1.0000, 1.0000, 1.0000],\n",
      "       device='cuda:0')\n",
      "Predicted:\n",
      "tensor([0.3146, 0.3146, 0.3146, 0.3146, 0.3146, 0.3146, 0.3146, 0.3146],\n",
      "       device='cuda:0')\n",
      " \n",
      "True:\n",
      "tensor([0.1000, 0.3000, 0.7000, 1.0000, 1.0000, 1.0000, 1.0000, 1.0000],\n",
      "       device='cuda:0')\n",
      "Predicted:\n",
      "tensor([0.2552, 0.2552, 0.2552, 0.2552, 0.2552, 0.2552, 0.2552, 0.2552],\n",
      "       device='cuda:0')\n",
      " \n",
      "True:\n",
      "tensor([0.2000, 0.4000, 0.5400, 0.9800, 1.0000, 1.0000, 1.0000, 1.0000],\n",
      "       device='cuda:0')\n",
      "Predicted:\n",
      "tensor([0.3758, 0.3758, 0.3758, 0.3758, 0.3758, 0.3758, 0.3758, 0.3758],\n",
      "       device='cuda:0')\n",
      " \n",
      "True:\n",
      "tensor([0.3000, 0.5400, 0.9500, 1.0000, 1.0000, 1.0000, 1.0000, 1.0000],\n",
      "       device='cuda:0')\n",
      "Predicted:\n",
      "tensor([0.3131, 0.3131, 0.3131, 0.3131, 0.3131, 0.3131, 0.3131, 0.3131],\n",
      "       device='cuda:0')\n",
      " \n",
      "True:\n",
      "tensor([0.1200, 0.2600, 0.5400, 0.8000, 1.0000, 1.0000, 1.0000, 1.0000],\n",
      "       device='cuda:0')\n",
      "Predicted:\n",
      "tensor([0.2081, 0.2081, 0.2081, 0.2081, 0.2081, 0.2081, 0.2081, 0.2081],\n",
      "       device='cuda:0')\n",
      " \n",
      "True:\n",
      "tensor([0.3000, 0.4800, 0.9700, 1.0000, 1.0000, 1.0000, 1.0000, 1.0000],\n",
      "       device='cuda:0')\n",
      "Predicted:\n",
      "tensor([0.3786, 0.3786, 0.3786, 0.3786, 0.3786, 0.3786, 0.3786, 0.3786],\n",
      "       device='cuda:0')\n",
      " \n",
      "True:\n",
      "tensor([0.1100, 0.2000, 0.4200, 0.5400, 1.0000, 1.0000, 1.0000, 1.0000],\n",
      "       device='cuda:0')\n",
      "Predicted:\n",
      "tensor([0.2111, 0.2111, 0.2111, 0.2111, 0.2111, 0.2111, 0.2111, 0.2111],\n",
      "       device='cuda:0')\n",
      " \n",
      "True:\n",
      "tensor([0.2800, 0.5000, 1.0000, 1.0000, 1.0000, 1.0000, 1.0000, 1.0000],\n",
      "       device='cuda:0')\n",
      "Predicted:\n",
      "tensor([0.3276, 0.3276, 0.3276, 0.3276, 0.3276, 0.3276, 0.3276, 0.3276],\n",
      "       device='cuda:0')\n",
      " \n",
      "True:\n",
      "tensor([0.3300, 0.6800, 0.9600, 1.0000, 1.0000, 1.0000, 1.0000, 1.0000],\n",
      "       device='cuda:0')\n",
      "Predicted:\n",
      "tensor([0.3589, 0.3589, 0.3589, 0.3589, 0.3589, 0.3589, 0.3589, 0.3589],\n",
      "       device='cuda:0')\n",
      " \n",
      "True:\n",
      "tensor([0.2600, 0.3300, 0.5300, 1.0000, 1.0000, 1.0000, 1.0000, 1.0000],\n",
      "       device='cuda:0')\n",
      "Predicted:\n",
      "tensor([0.2217, 0.2217, 0.2217, 0.2217, 0.2217, 0.2217, 0.2217, 0.2217],\n",
      "       device='cuda:0')\n",
      " \n",
      "True:\n",
      "tensor([0.2800, 0.7000, 1.0000, 1.0000, 1.0000, 1.0000, 1.0000, 1.0000],\n",
      "       device='cuda:0')\n",
      "Predicted:\n",
      "tensor([0.2945, 0.2945, 0.2945, 0.2945, 0.2945, 0.2945, 0.2945, 0.2945],\n",
      "       device='cuda:0')\n",
      " \n",
      "True:\n",
      "tensor([0.1200, 0.5100, 0.6800, 1.0000, 1.0000, 1.0000, 1.0000, 1.0000],\n",
      "       device='cuda:0')\n",
      "Predicted:\n",
      "tensor([0.2837, 0.2837, 0.2837, 0.2837, 0.2837, 0.2837, 0.2837, 0.2837],\n",
      "       device='cuda:0')\n",
      " \n",
      "True:\n",
      "tensor([0.3400, 0.5400, 0.7400, 1.0000, 1.0000, 1.0000, 1.0000, 1.0000],\n",
      "       device='cuda:0')\n",
      "Predicted:\n",
      "tensor([0.3772, 0.3772, 0.3772, 0.3772, 0.3772, 0.3772, 0.3772, 0.3772],\n",
      "       device='cuda:0')\n",
      " \n",
      "True:\n",
      "tensor([0.1400, 0.2700, 0.7400, 1.0000, 1.0000, 1.0000, 1.0000, 1.0000],\n",
      "       device='cuda:0')\n",
      "Predicted:\n",
      "tensor([0.2232, 0.2232, 0.2232, 0.2232, 0.2232, 0.2232, 0.2232, 0.2232],\n",
      "       device='cuda:0')\n",
      " \n",
      "True:\n",
      "tensor([0.3100, 0.9100, 1.0000, 1.0000, 1.0000, 1.0000, 1.0000, 1.0000],\n",
      "       device='cuda:0')\n",
      "Predicted:\n",
      "tensor([0.2878, 0.2878, 0.2878, 0.2878, 0.2878, 0.2878, 0.2878, 0.2878],\n",
      "       device='cuda:0')\n",
      " \n",
      "True:\n",
      "tensor([0.2700, 0.7000, 1.0000, 1.0000, 1.0000, 1.0000, 1.0000, 1.0000],\n",
      "       device='cuda:0')\n",
      "Predicted:\n",
      "tensor([0.2561, 0.2561, 0.2561, 0.2561, 0.2561, 0.2561, 0.2561, 0.2561],\n",
      "       device='cuda:0')\n",
      " \n",
      "True:\n",
      "tensor([0.1300, 0.3400, 0.5300, 0.6600, 1.0000, 1.0000, 1.0000, 1.0000],\n",
      "       device='cuda:0')\n",
      "Predicted:\n",
      "tensor([0.2560, 0.2560, 0.2560, 0.2560, 0.2560, 0.2560, 0.2560, 0.2560],\n",
      "       device='cuda:0')\n",
      " \n",
      "True:\n",
      "tensor([0.2800, 0.5400, 1.0000, 1.0000, 1.0000, 1.0000, 1.0000, 1.0000],\n",
      "       device='cuda:0')\n",
      "Predicted:\n",
      "tensor([0.2960, 0.2960, 0.2960, 0.2960, 0.2960, 0.2960, 0.2960, 0.2960],\n",
      "       device='cuda:0')\n",
      " \n",
      "True:\n",
      "tensor([0.3400, 0.4800, 0.8200, 0.9200, 1.0000, 1.0000, 1.0000, 1.0000],\n",
      "       device='cuda:0')\n",
      "Predicted:\n",
      "tensor([0.2608, 0.2608, 0.2608, 0.2608, 0.2608, 0.2608, 0.2608, 0.2608],\n",
      "       device='cuda:0')\n",
      " \n",
      "True:\n",
      "tensor([0.3000, 0.7000, 1.0000, 1.0000, 1.0000, 1.0000, 1.0000, 1.0000],\n",
      "       device='cuda:0')\n",
      "Predicted:\n",
      "tensor([0.2808, 0.2808, 0.2808, 0.2808, 0.2808, 0.2808, 0.2808, 0.2808],\n",
      "       device='cuda:0')\n",
      " \n",
      "True:\n",
      "tensor([0.1000, 0.3000, 0.7000, 1.0000, 1.0000, 1.0000, 1.0000, 1.0000],\n",
      "       device='cuda:0')\n",
      "Predicted:\n",
      "tensor([0.2183, 0.2183, 0.2183, 0.2183, 0.2183, 0.2183, 0.2183, 0.2183],\n",
      "       device='cuda:0')\n",
      " \n"
     ]
    }
   ],
   "source": [
    "# CrossAttention Transformer\n",
    "for true_dep, pred_dep in zip(padded_true_depths, val_pred_depths):\n",
    "    print('True:')\n",
    "    print(true_dep)\n",
    "    print('Predicted:')\n",
    "    print(pred_dep)\n",
    "    print(' ')"
   ],
   "metadata": {
    "collapsed": false,
    "pycharm": {
     "name": "#%%\n"
    }
   }
  },
  {
   "cell_type": "code",
   "execution_count": 44,
   "outputs": [
    {
     "name": "stdout",
     "output_type": "stream",
     "text": [
      "True:\n",
      "tensor([0.4000, 0.5200, 1.0000, 1.0000, 1.0000, 1.0000, 1.0000, 1.0000],\n",
      "       device='cuda:0')\n",
      "Predicted:\n",
      "tensor([0.3159, 0.5971, 0.8823, 0.9864, 0.9981, 0.9981, 1.0001, 1.0025],\n",
      "       device='cuda:0')\n",
      " \n",
      "True:\n",
      "tensor([0.1400, 0.2600, 1.0000, 1.0000, 1.0000, 1.0000, 1.0000, 1.0000],\n",
      "       device='cuda:0')\n",
      "Predicted:\n",
      "tensor([0.1164, 0.2928, 0.5960, 0.8853, 0.9988, 1.0145, 1.0090, 1.0057],\n",
      "       device='cuda:0')\n",
      " \n",
      "True:\n",
      "tensor([0.1000, 0.3000, 0.9200, 1.0000, 1.0000, 1.0000, 1.0000, 1.0000],\n",
      "       device='cuda:0')\n",
      "Predicted:\n",
      "tensor([0.1921, 0.3985, 0.6924, 0.9309, 1.0043, 1.0078, 1.0026, 1.0014],\n",
      "       device='cuda:0')\n",
      " \n",
      "True:\n",
      "tensor([0.3000, 0.4600, 1.0000, 1.0000, 1.0000, 1.0000, 1.0000, 1.0000],\n",
      "       device='cuda:0')\n",
      "Predicted:\n",
      "tensor([0.3073, 0.5730, 0.8653, 0.9871, 1.0019, 0.9999, 1.0006, 1.0027],\n",
      "       device='cuda:0')\n",
      " \n",
      "True:\n",
      "tensor([0.1200, 0.2600, 0.5400, 0.8000, 1.0000, 1.0000, 1.0000, 1.0000],\n",
      "       device='cuda:0')\n",
      "Predicted:\n",
      "tensor([0.1486, 0.3189, 0.5677, 0.8392, 0.9755, 1.0046, 1.0024, 0.9983],\n",
      "       device='cuda:0')\n",
      " \n",
      "True:\n",
      "tensor([0.3000, 0.6600, 1.0000, 1.0000, 1.0000, 1.0000, 1.0000, 1.0000],\n",
      "       device='cuda:0')\n",
      "Predicted:\n",
      "tensor([0.2218, 0.4665, 0.7884, 0.9723, 1.0090, 1.0074, 1.0062, 1.0081],\n",
      "       device='cuda:0')\n",
      " \n",
      "True:\n",
      "tensor([0.3300, 0.7300, 1.0000, 1.0000, 1.0000, 1.0000, 1.0000, 1.0000],\n",
      "       device='cuda:0')\n",
      "Predicted:\n",
      "tensor([0.2719, 0.5209, 0.8062, 0.9600, 0.9980, 1.0035, 1.0052, 1.0069],\n",
      "       device='cuda:0')\n",
      " \n",
      "True:\n",
      "tensor([0.2000, 0.2800, 0.5400, 1.0000, 1.0000, 1.0000, 1.0000, 1.0000],\n",
      "       device='cuda:0')\n",
      "Predicted:\n",
      "tensor([0.1826, 0.3868, 0.6852, 0.9283, 1.0045, 1.0088, 1.0037, 1.0023],\n",
      "       device='cuda:0')\n",
      " \n",
      "True:\n",
      "tensor([0.3000, 1.0000, 1.0000, 1.0000, 1.0000, 1.0000, 1.0000, 1.0000],\n",
      "       device='cuda:0')\n",
      "Predicted:\n",
      "tensor([0.3147, 0.5633, 0.8370, 0.9779, 1.0019, 1.0002, 0.9998, 1.0014],\n",
      "       device='cuda:0')\n",
      " \n",
      "True:\n",
      "tensor([0.1500, 0.2900, 0.7400, 1.0000, 1.0000, 1.0000, 1.0000, 1.0000],\n",
      "       device='cuda:0')\n",
      "Predicted:\n",
      "tensor([0.1934, 0.3736, 0.6127, 0.8585, 0.9779, 1.0021, 0.9996, 0.9953],\n",
      "       device='cuda:0')\n",
      " \n",
      "True:\n",
      "tensor([0.3200, 0.5400, 0.8500, 1.0000, 1.0000, 1.0000, 1.0000, 1.0000],\n",
      "       device='cuda:0')\n",
      "Predicted:\n",
      "tensor([0.2917, 0.5371, 0.8147, 0.9716, 1.0026, 1.0025, 1.0024, 1.0042],\n",
      "       device='cuda:0')\n",
      " \n",
      "True:\n",
      "tensor([0.2800, 0.5400, 1.0000, 1.0000, 1.0000, 1.0000, 1.0000, 1.0000],\n",
      "       device='cuda:0')\n",
      "Predicted:\n",
      "tensor([0.2457, 0.4726, 0.7425, 0.9398, 0.9966, 1.0013, 1.0006, 1.0019],\n",
      "       device='cuda:0')\n",
      " \n",
      "True:\n",
      "tensor([0.3100, 0.6700, 0.8500, 0.9700, 1.0000, 1.0000, 1.0000, 1.0000],\n",
      "       device='cuda:0')\n",
      "Predicted:\n",
      "tensor([0.2732, 0.4893, 0.7257, 0.9237, 0.9930, 1.0001, 0.9971, 0.9960],\n",
      "       device='cuda:0')\n",
      " \n",
      "True:\n",
      "tensor([0.3000, 0.4600, 0.6700, 1.0000, 1.0000, 1.0000, 1.0000, 1.0000],\n",
      "       device='cuda:0')\n",
      "Predicted:\n",
      "tensor([0.2959, 0.5685, 0.8617, 0.9843, 1.0014, 1.0017, 1.0037, 1.0064],\n",
      "       device='cuda:0')\n",
      " \n",
      "True:\n",
      "tensor([0.3000, 0.4700, 0.9000, 1.0000, 1.0000, 1.0000, 1.0000, 1.0000],\n",
      "       device='cuda:0')\n",
      "Predicted:\n",
      "tensor([0.2026, 0.3914, 0.6294, 0.8681, 0.9801, 0.9998, 0.9976, 0.9958],\n",
      "       device='cuda:0')\n",
      " \n",
      "True:\n",
      "tensor([0.2600, 0.5000, 0.7000, 1.0000, 1.0000, 1.0000, 1.0000, 1.0000],\n",
      "       device='cuda:0')\n",
      "Predicted:\n",
      "tensor([0.2902, 0.5414, 0.8290, 0.9782, 1.0043, 1.0033, 1.0034, 1.0054],\n",
      "       device='cuda:0')\n",
      " \n",
      "True:\n",
      "tensor([0.3000, 0.5400, 0.7000, 1.0000, 1.0000, 1.0000, 1.0000, 1.0000],\n",
      "       device='cuda:0')\n",
      "Predicted:\n",
      "tensor([0.2538, 0.4986, 0.8009, 0.9706, 1.0041, 1.0032, 1.0028, 1.0048],\n",
      "       device='cuda:0')\n",
      " \n",
      "True:\n",
      "tensor([0.1400, 0.3000, 0.5000, 0.6000, 0.6400, 1.0000, 1.0000, 1.0000],\n",
      "       device='cuda:0')\n",
      "Predicted:\n",
      "tensor([0.1830, 0.3677, 0.6114, 0.8618, 0.9811, 1.0033, 1.0008, 0.9983],\n",
      "       device='cuda:0')\n",
      " \n",
      "True:\n",
      "tensor([0.2700, 0.7000, 1.0000, 1.0000, 1.0000, 1.0000, 1.0000, 1.0000],\n",
      "       device='cuda:0')\n",
      "Predicted:\n",
      "tensor([0.1596, 0.3523, 0.6437, 0.9062, 0.9996, 1.0085, 1.0030, 1.0009],\n",
      "       device='cuda:0')\n",
      " \n",
      "True:\n",
      "tensor([0.2800, 0.5800, 1.0000, 1.0000, 1.0000, 1.0000, 1.0000, 1.0000],\n",
      "       device='cuda:0')\n",
      "Predicted:\n",
      "tensor([0.2666, 0.5186, 0.8205, 0.9781, 1.0055, 1.0042, 1.0042, 1.0064],\n",
      "       device='cuda:0')\n",
      " \n",
      "True:\n",
      "tensor([0.1200, 0.2600, 0.5000, 1.0000, 1.0000, 1.0000, 1.0000, 1.0000],\n",
      "       device='cuda:0')\n",
      "Predicted:\n",
      "tensor([0.2273, 0.4729, 0.7867, 0.9668, 1.0040, 1.0041, 1.0040, 1.0063],\n",
      "       device='cuda:0')\n",
      " \n",
      "True:\n",
      "tensor([0.2200, 0.5200, 1.0000, 1.0000, 1.0000, 1.0000, 1.0000, 1.0000],\n",
      "       device='cuda:0')\n",
      "Predicted:\n",
      "tensor([0.2036, 0.3957, 0.6457, 0.8879, 0.9881, 1.0030, 0.9989, 0.9958],\n",
      "       device='cuda:0')\n",
      " \n",
      "True:\n",
      "tensor([0.2600, 0.4600, 0.6400, 0.9200, 1.0000, 1.0000, 1.0000, 1.0000],\n",
      "       device='cuda:0')\n",
      "Predicted:\n",
      "tensor([0.2890, 0.5247, 0.7944, 0.9668, 1.0042, 1.0028, 1.0010, 1.0020],\n",
      "       device='cuda:0')\n",
      " \n",
      "True:\n",
      "tensor([0.3400, 0.5000, 0.6600, 0.9700, 1.0000, 1.0000, 1.0000, 1.0000],\n",
      "       device='cuda:0')\n",
      "Predicted:\n",
      "tensor([0.3018, 0.5425, 0.8062, 0.9654, 1.0003, 1.0007, 0.9999, 1.0012],\n",
      "       device='cuda:0')\n",
      " \n",
      "True:\n",
      "tensor([0.3300, 0.7500, 1.0000, 1.0000, 1.0000, 1.0000, 1.0000, 1.0000],\n",
      "       device='cuda:0')\n",
      "Predicted:\n",
      "tensor([0.3064, 0.5652, 0.8502, 0.9818, 1.0011, 1.0005, 1.0018, 1.0042],\n",
      "       device='cuda:0')\n",
      " \n",
      "True:\n",
      "tensor([0.2000, 0.3000, 0.5000, 0.8000, 1.0000, 1.0000, 1.0000, 1.0000],\n",
      "       device='cuda:0')\n",
      "Predicted:\n",
      "tensor([0.1166, 0.2720, 0.5335, 0.8286, 0.9728, 1.0061, 1.0053, 1.0008],\n",
      "       device='cuda:0')\n",
      " \n",
      "True:\n",
      "tensor([0.2600, 0.4700, 0.7200, 1.0000, 1.0000, 1.0000, 1.0000, 1.0000],\n",
      "       device='cuda:0')\n",
      "Predicted:\n",
      "tensor([0.1919, 0.4045, 0.7070, 0.9378, 1.0046, 1.0070, 1.0030, 1.0029],\n",
      "       device='cuda:0')\n",
      " \n",
      "True:\n",
      "tensor([0.2700, 0.3800, 0.6000, 1.0000, 1.0000, 1.0000, 1.0000, 1.0000],\n",
      "       device='cuda:0')\n",
      "Predicted:\n",
      "tensor([0.2242, 0.4536, 0.7553, 0.9548, 1.0037, 1.0041, 1.0020, 1.0031],\n",
      "       device='cuda:0')\n",
      " \n",
      "True:\n",
      "tensor([0.3000, 0.9000, 1.0000, 1.0000, 1.0000, 1.0000, 1.0000, 1.0000],\n",
      "       device='cuda:0')\n",
      "Predicted:\n",
      "tensor([0.2862, 0.5216, 0.7895, 0.9620, 1.0023, 1.0023, 1.0005, 1.0014],\n",
      "       device='cuda:0')\n",
      " \n",
      "True:\n",
      "tensor([0.3800, 0.6600, 0.9600, 1.0000, 1.0000, 1.0000, 1.0000, 1.0000],\n",
      "       device='cuda:0')\n",
      "Predicted:\n",
      "tensor([0.2748, 0.4948, 0.7370, 0.9313, 0.9944, 0.9998, 0.9974, 0.9971],\n",
      "       device='cuda:0')\n",
      " \n",
      "True:\n",
      "tensor([0.3200, 0.5200, 0.7500, 1.0000, 1.0000, 1.0000, 1.0000, 1.0000],\n",
      "       device='cuda:0')\n",
      "Predicted:\n",
      "tensor([0.2931, 0.5285, 0.7898, 0.9593, 1.0003, 1.0015, 1.0002, 1.0012],\n",
      "       device='cuda:0')\n",
      " \n",
      "True:\n",
      "tensor([0.3200, 0.5400, 0.7100, 1.0000, 1.0000, 1.0000, 1.0000, 1.0000],\n",
      "       device='cuda:0')\n",
      "Predicted:\n",
      "tensor([0.3134, 0.5875, 0.8772, 0.9881, 1.0002, 0.9990, 1.0004, 1.0027],\n",
      "       device='cuda:0')\n",
      " \n",
      "True:\n",
      "tensor([0.3400, 0.4800, 1.0000, 1.0000, 1.0000, 1.0000, 1.0000, 1.0000],\n",
      "       device='cuda:0')\n",
      "Predicted:\n",
      "tensor([0.3093, 0.5648, 0.8481, 0.9821, 1.0026, 1.0012, 1.0015, 1.0034],\n",
      "       device='cuda:0')\n",
      " \n",
      "True:\n",
      "tensor([0.3100, 0.6000, 1.0000, 1.0000, 1.0000, 1.0000, 1.0000, 1.0000],\n",
      "       device='cuda:0')\n",
      "Predicted:\n",
      "tensor([0.3260, 0.6022, 0.8813, 0.9848, 0.9974, 0.9975, 0.9993, 1.0016],\n",
      "       device='cuda:0')\n",
      " \n",
      "True:\n",
      "tensor([0.1000, 0.2800, 0.5000, 1.0000, 1.0000, 1.0000, 1.0000, 1.0000],\n",
      "       device='cuda:0')\n",
      "Predicted:\n",
      "tensor([0.1541, 0.3502, 0.6463, 0.9052, 0.9968, 1.0062, 1.0024, 1.0016],\n",
      "       device='cuda:0')\n",
      " \n",
      "True:\n",
      "tensor([0.3000, 0.5200, 0.6800, 1.0000, 1.0000, 1.0000, 1.0000, 1.0000],\n",
      "       device='cuda:0')\n",
      "Predicted:\n",
      "tensor([0.2489, 0.4926, 0.7989, 0.9729, 1.0069, 1.0053, 1.0043, 1.0061],\n",
      "       device='cuda:0')\n",
      " \n",
      "True:\n",
      "tensor([0.1000, 0.2300, 0.5000, 0.7000, 1.0000, 1.0000, 1.0000, 1.0000],\n",
      "       device='cuda:0')\n",
      "Predicted:\n",
      "tensor([0.1534, 0.3421, 0.6237, 0.8881, 0.9909, 1.0048, 1.0011, 0.9995],\n",
      "       device='cuda:0')\n",
      " \n",
      "True:\n",
      "tensor([0.3000, 1.0000, 1.0000, 1.0000, 1.0000, 1.0000, 1.0000, 1.0000],\n",
      "       device='cuda:0')\n",
      "Predicted:\n",
      "tensor([0.3091, 0.5683, 0.8499, 0.9802, 1.0007, 1.0006, 1.0018, 1.0041],\n",
      "       device='cuda:0')\n",
      " \n",
      "True:\n",
      "tensor([0.3000, 0.4000, 0.5500, 1.0000, 1.0000, 1.0000, 1.0000, 1.0000],\n",
      "       device='cuda:0')\n",
      "Predicted:\n",
      "tensor([0.2912, 0.5683, 0.8670, 0.9875, 1.0025, 1.0024, 1.0045, 1.0073],\n",
      "       device='cuda:0')\n",
      " \n",
      "True:\n",
      "tensor([0.2600, 0.4800, 0.7000, 1.0000, 1.0000, 1.0000, 1.0000, 1.0000],\n",
      "       device='cuda:0')\n",
      "Predicted:\n",
      "tensor([0.1240, 0.2877, 0.5580, 0.8519, 0.9868, 1.0133, 1.0096, 1.0046],\n",
      "       device='cuda:0')\n",
      " \n",
      "True:\n",
      "tensor([0.1000, 0.2800, 1.0000, 1.0000, 1.0000, 1.0000, 1.0000, 1.0000],\n",
      "       device='cuda:0')\n",
      "Predicted:\n",
      "tensor([0.1813, 0.4062, 0.7330, 0.9524, 1.0077, 1.0079, 1.0048, 1.0057],\n",
      "       device='cuda:0')\n",
      " \n",
      "True:\n",
      "tensor([0.3300, 0.5200, 1.0000, 1.0000, 1.0000, 1.0000, 1.0000, 1.0000],\n",
      "       device='cuda:0')\n",
      "Predicted:\n",
      "tensor([0.2837, 0.5341, 0.8271, 0.9793, 1.0051, 1.0034, 1.0033, 1.0054],\n",
      "       device='cuda:0')\n",
      " \n",
      "True:\n",
      "tensor([0.0800, 0.2800, 0.3500, 0.6500, 1.0000, 1.0000, 1.0000, 1.0000],\n",
      "       device='cuda:0')\n",
      "Predicted:\n",
      "tensor([0.2072, 0.4446, 0.7655, 0.9635, 1.0074, 1.0069, 1.0056, 1.0074],\n",
      "       device='cuda:0')\n",
      " \n",
      "True:\n",
      "tensor([0.3000, 0.5000, 1.0000, 1.0000, 1.0000, 1.0000, 1.0000, 1.0000],\n",
      "       device='cuda:0')\n",
      "Predicted:\n",
      "tensor([0.1247, 0.3070, 0.6130, 0.8950, 1.0007, 1.0134, 1.0079, 1.0051],\n",
      "       device='cuda:0')\n",
      " \n",
      "True:\n",
      "tensor([0.3400, 0.5000, 0.7300, 0.8500, 1.0000, 1.0000, 1.0000, 1.0000],\n",
      "       device='cuda:0')\n",
      "Predicted:\n",
      "tensor([0.2213, 0.4366, 0.7085, 0.9277, 0.9972, 1.0029, 1.0004, 1.0004],\n",
      "       device='cuda:0')\n",
      " \n",
      "True:\n",
      "tensor([0.3000, 0.5000, 0.6000, 1.0000, 1.0000, 1.0000, 1.0000, 1.0000],\n",
      "       device='cuda:0')\n",
      "Predicted:\n",
      "tensor([0.2575, 0.4993, 0.7900, 0.9647, 1.0027, 1.0039, 1.0044, 1.0067],\n",
      "       device='cuda:0')\n",
      " \n",
      "True:\n",
      "tensor([0.3400, 0.5300, 0.7200, 0.9600, 1.0000, 1.0000, 1.0000, 1.0000],\n",
      "       device='cuda:0')\n",
      "Predicted:\n",
      "tensor([0.2913, 0.5425, 0.8350, 0.9823, 1.0057, 1.0029, 1.0021, 1.0038],\n",
      "       device='cuda:0')\n",
      " \n",
      "True:\n",
      "tensor([0.3200, 0.4600, 1.0000, 1.0000, 1.0000, 1.0000, 1.0000, 1.0000],\n",
      "       device='cuda:0')\n",
      "Predicted:\n",
      "tensor([0.1416, 0.3329, 0.6446, 0.9130, 1.0044, 1.0118, 1.0057, 1.0032],\n",
      "       device='cuda:0')\n",
      " \n",
      "True:\n",
      "tensor([0.3000, 0.5200, 1.0000, 1.0000, 1.0000, 1.0000, 1.0000, 1.0000],\n",
      "       device='cuda:0')\n",
      "Predicted:\n",
      "tensor([0.3197, 0.5872, 0.8701, 0.9848, 0.9997, 0.9989, 1.0001, 1.0022],\n",
      "       device='cuda:0')\n",
      " \n",
      "True:\n",
      "tensor([0.3000, 0.4000, 0.5300, 1.0000, 1.0000, 1.0000, 1.0000, 1.0000],\n",
      "       device='cuda:0')\n",
      "Predicted:\n",
      "tensor([0.3136, 0.5774, 0.8622, 0.9844, 1.0012, 1.0004, 1.0014, 1.0036],\n",
      "       device='cuda:0')\n",
      " \n",
      "True:\n",
      "tensor([0.1200, 0.2700, 0.4700, 0.7000, 1.0000, 1.0000, 1.0000, 1.0000],\n",
      "       device='cuda:0')\n",
      "Predicted:\n",
      "tensor([0.1286, 0.2974, 0.5751, 0.8644, 0.9894, 1.0114, 1.0070, 1.0025],\n",
      "       device='cuda:0')\n",
      " \n",
      "True:\n",
      "tensor([0.1000, 0.2800, 0.5000, 0.7400, 1.0000, 1.0000, 1.0000, 1.0000],\n",
      "       device='cuda:0')\n",
      "Predicted:\n",
      "tensor([0.1137, 0.2813, 0.5725, 0.8672, 0.9909, 1.0124, 1.0082, 1.0041],\n",
      "       device='cuda:0')\n",
      " \n",
      "True:\n",
      "tensor([0.1000, 0.2800, 0.5000, 1.0000, 1.0000, 1.0000, 1.0000, 1.0000],\n",
      "       device='cuda:0')\n",
      "Predicted:\n",
      "tensor([0.2836, 0.5451, 0.8373, 0.9780, 1.0026, 1.0038, 1.0055, 1.0082],\n",
      "       device='cuda:0')\n",
      " \n",
      "True:\n",
      "tensor([0.1400, 0.3100, 0.5000, 0.9700, 1.0000, 1.0000, 1.0000, 1.0000],\n",
      "       device='cuda:0')\n",
      "Predicted:\n",
      "tensor([0.3099, 0.5827, 0.8735, 0.9878, 1.0008, 1.0001, 1.0018, 1.0043],\n",
      "       device='cuda:0')\n",
      " \n",
      "True:\n",
      "tensor([0.2000, 1.0000, 1.0000, 1.0000, 1.0000, 1.0000, 1.0000, 1.0000],\n",
      "       device='cuda:0')\n",
      "Predicted:\n",
      "tensor([0.2183, 0.4572, 0.7730, 0.9641, 1.0057, 1.0050, 1.0037, 1.0055],\n",
      "       device='cuda:0')\n",
      " \n",
      "True:\n",
      "tensor([0.2800, 0.5000, 0.7000, 1.0000, 1.0000, 1.0000, 1.0000, 1.0000],\n",
      "       device='cuda:0')\n",
      "Predicted:\n",
      "tensor([0.2621, 0.5001, 0.7894, 0.9666, 1.0047, 1.0039, 1.0027, 1.0042],\n",
      "       device='cuda:0')\n",
      " \n",
      "True:\n",
      "tensor([0.3300, 0.6600, 0.8500, 1.0000, 1.0000, 1.0000, 1.0000, 1.0000],\n",
      "       device='cuda:0')\n",
      "Predicted:\n",
      "tensor([0.3049, 0.5478, 0.8157, 0.9702, 1.0020, 1.0016, 1.0009, 1.0023],\n",
      "       device='cuda:0')\n",
      " \n",
      "True:\n",
      "tensor([0.3300, 0.4800, 0.6600, 0.9600, 1.0000, 1.0000, 1.0000, 1.0000],\n",
      "       device='cuda:0')\n",
      "Predicted:\n",
      "tensor([0.1949, 0.4281, 0.7548, 0.9610, 1.0089, 1.0082, 1.0059, 1.0072],\n",
      "       device='cuda:0')\n",
      " \n",
      "True:\n",
      "tensor([0.2600, 0.5000, 0.7000, 1.0000, 1.0000, 1.0000, 1.0000, 1.0000],\n",
      "       device='cuda:0')\n",
      "Predicted:\n",
      "tensor([0.2212, 0.4461, 0.7428, 0.9486, 1.0022, 1.0037, 1.0015, 1.0024],\n",
      "       device='cuda:0')\n",
      " \n",
      "True:\n",
      "tensor([0.3200, 0.5000, 0.6600, 1.0000, 1.0000, 1.0000, 1.0000, 1.0000],\n",
      "       device='cuda:0')\n",
      "Predicted:\n",
      "tensor([0.3036, 0.5768, 0.8711, 0.9880, 1.0016, 1.0002, 1.0015, 1.0038],\n",
      "       device='cuda:0')\n",
      " \n",
      "True:\n",
      "tensor([0.1200, 0.2800, 0.7000, 1.0000, 1.0000, 1.0000, 1.0000, 1.0000],\n",
      "       device='cuda:0')\n",
      "Predicted:\n",
      "tensor([0.2077, 0.4381, 0.7532, 0.9575, 1.0057, 1.0051, 1.0028, 1.0040],\n",
      "       device='cuda:0')\n",
      " \n",
      "True:\n",
      "tensor([0.2800, 0.6900, 1.0000, 1.0000, 1.0000, 1.0000, 1.0000, 1.0000],\n",
      "       device='cuda:0')\n",
      "Predicted:\n",
      "tensor([0.1176, 0.2858, 0.5715, 0.8659, 0.9919, 1.0137, 1.0091, 1.0049],\n",
      "       device='cuda:0')\n",
      " \n",
      "True:\n",
      "tensor([0.3000, 0.6800, 0.9000, 1.0000, 1.0000, 1.0000, 1.0000, 1.0000],\n",
      "       device='cuda:0')\n",
      "Predicted:\n",
      "tensor([0.2745, 0.5078, 0.7818, 0.9616, 1.0036, 1.0034, 1.0017, 1.0028],\n",
      "       device='cuda:0')\n",
      " \n",
      "True:\n",
      "tensor([0.1200, 0.2700, 1.0000, 1.0000, 1.0000, 1.0000, 1.0000, 1.0000],\n",
      "       device='cuda:0')\n",
      "Predicted:\n",
      "tensor([0.1804, 0.3718, 0.6368, 0.8912, 0.9923, 1.0052, 1.0007, 0.9983],\n",
      "       device='cuda:0')\n",
      " \n"
     ]
    }
   ],
   "source": [
    "# LSTM\n",
    "for true_dep, pred_dep in zip(padded_true_depths, val_pred_depths):\n",
    "    print('True:')\n",
    "    print(true_dep)\n",
    "    print('Predicted:')\n",
    "    print(pred_dep)\n",
    "    print(' ')"
   ],
   "metadata": {
    "collapsed": false,
    "pycharm": {
     "name": "#%%\n"
    }
   }
  },
  {
   "cell_type": "code",
   "execution_count": 45,
   "outputs": [
    {
     "data": {
      "text/plain": "<Figure size 1512x432 with 1 Axes>",
      "image/svg+xml": "<?xml version=\"1.0\" encoding=\"utf-8\" standalone=\"no\"?>\n<!DOCTYPE svg PUBLIC \"-//W3C//DTD SVG 1.1//EN\"\n  \"http://www.w3.org/Graphics/SVG/1.1/DTD/svg11.dtd\">\n<svg xmlns:xlink=\"http://www.w3.org/1999/xlink\" width=\"536.722917pt\" height=\"423.274375pt\" viewBox=\"0 0 536.722917 423.274375\" xmlns=\"http://www.w3.org/2000/svg\" version=\"1.1\">\n <metadata>\n  <rdf:RDF xmlns:dc=\"http://purl.org/dc/elements/1.1/\" xmlns:cc=\"http://creativecommons.org/ns#\" xmlns:rdf=\"http://www.w3.org/1999/02/22-rdf-syntax-ns#\">\n   <cc:Work>\n    <dc:type rdf:resource=\"http://purl.org/dc/dcmitype/StillImage\"/>\n    <dc:date>2025-01-27T17:41:22.291360</dc:date>\n    <dc:format>image/svg+xml</dc:format>\n    <dc:creator>\n     <cc:Agent>\n      <dc:title>Matplotlib v3.5.1, https://matplotlib.org/</dc:title>\n     </cc:Agent>\n    </dc:creator>\n   </cc:Work>\n  </rdf:RDF>\n </metadata>\n <defs>\n  <style type=\"text/css\">*{stroke-linejoin: round; stroke-linecap: butt}</style>\n </defs>\n <g id=\"figure_1\">\n  <g id=\"patch_1\">\n   <path d=\"M 0 423.274375 \nL 536.722917 423.274375 \nL 536.722917 0 \nL 0 0 \nL 0 423.274375 \nz\n\" style=\"fill: none\"/>\n  </g>\n  <g id=\"axes_1\">\n   <g id=\"patch_2\">\n    <path d=\"M 56.50625 385.718125 \nL 529.522917 385.718125 \nL 529.522917 22.318125 \nL 56.50625 22.318125 \nz\n\" style=\"fill: #ffffff\"/>\n   </g>\n   <g id=\"matplotlib.axis_1\">\n    <g id=\"xtick_1\">\n     <g id=\"line2d_1\">\n      <path d=\"M 78.007008 385.718125 \nL 78.007008 22.318125 \n\" clip-path=\"url(#p16ea356988)\" style=\"fill: none; stroke: #b0b0b0; stroke-width: 0.8; stroke-linecap: square\"/>\n     </g>\n     <g id=\"line2d_2\">\n      <defs>\n       <path id=\"m3742c13b05\" d=\"M 0 0 \nL 0 3.5 \n\" style=\"stroke: #000000; stroke-width: 0.8\"/>\n      </defs>\n      <g>\n       <use xlink:href=\"#m3742c13b05\" x=\"78.007008\" y=\"385.718125\" style=\"stroke: #000000; stroke-width: 0.8\"/>\n      </g>\n     </g>\n     <g id=\"text_1\">\n      <!-- 1 -->\n      <g transform=\"translate(74.825758 400.316562)scale(0.1 -0.1)\">\n       <defs>\n        <path id=\"DejaVuSans-31\" d=\"M 794 531 \nL 1825 531 \nL 1825 4091 \nL 703 3866 \nL 703 4441 \nL 1819 4666 \nL 2450 4666 \nL 2450 531 \nL 3481 531 \nL 3481 0 \nL 794 0 \nL 794 531 \nz\n\" transform=\"scale(0.015625)\"/>\n       </defs>\n       <use xlink:href=\"#DejaVuSans-31\"/>\n      </g>\n     </g>\n    </g>\n    <g id=\"xtick_2\">\n     <g id=\"line2d_3\">\n      <path d=\"M 164.010038 385.718125 \nL 164.010038 22.318125 \n\" clip-path=\"url(#p16ea356988)\" style=\"fill: none; stroke: #b0b0b0; stroke-width: 0.8; stroke-linecap: square\"/>\n     </g>\n     <g id=\"line2d_4\">\n      <g>\n       <use xlink:href=\"#m3742c13b05\" x=\"164.010038\" y=\"385.718125\" style=\"stroke: #000000; stroke-width: 0.8\"/>\n      </g>\n     </g>\n     <g id=\"text_2\">\n      <!-- 2 -->\n      <g transform=\"translate(160.828788 400.316562)scale(0.1 -0.1)\">\n       <defs>\n        <path id=\"DejaVuSans-32\" d=\"M 1228 531 \nL 3431 531 \nL 3431 0 \nL 469 0 \nL 469 531 \nQ 828 903 1448 1529 \nQ 2069 2156 2228 2338 \nQ 2531 2678 2651 2914 \nQ 2772 3150 2772 3378 \nQ 2772 3750 2511 3984 \nQ 2250 4219 1831 4219 \nQ 1534 4219 1204 4116 \nQ 875 4013 500 3803 \nL 500 4441 \nQ 881 4594 1212 4672 \nQ 1544 4750 1819 4750 \nQ 2544 4750 2975 4387 \nQ 3406 4025 3406 3419 \nQ 3406 3131 3298 2873 \nQ 3191 2616 2906 2266 \nQ 2828 2175 2409 1742 \nQ 1991 1309 1228 531 \nz\n\" transform=\"scale(0.015625)\"/>\n       </defs>\n       <use xlink:href=\"#DejaVuSans-32\"/>\n      </g>\n     </g>\n    </g>\n    <g id=\"xtick_3\">\n     <g id=\"line2d_5\">\n      <path d=\"M 250.013068 385.718125 \nL 250.013068 22.318125 \n\" clip-path=\"url(#p16ea356988)\" style=\"fill: none; stroke: #b0b0b0; stroke-width: 0.8; stroke-linecap: square\"/>\n     </g>\n     <g id=\"line2d_6\">\n      <g>\n       <use xlink:href=\"#m3742c13b05\" x=\"250.013068\" y=\"385.718125\" style=\"stroke: #000000; stroke-width: 0.8\"/>\n      </g>\n     </g>\n     <g id=\"text_3\">\n      <!-- 3 -->\n      <g transform=\"translate(246.831818 400.316562)scale(0.1 -0.1)\">\n       <defs>\n        <path id=\"DejaVuSans-33\" d=\"M 2597 2516 \nQ 3050 2419 3304 2112 \nQ 3559 1806 3559 1356 \nQ 3559 666 3084 287 \nQ 2609 -91 1734 -91 \nQ 1441 -91 1130 -33 \nQ 819 25 488 141 \nL 488 750 \nQ 750 597 1062 519 \nQ 1375 441 1716 441 \nQ 2309 441 2620 675 \nQ 2931 909 2931 1356 \nQ 2931 1769 2642 2001 \nQ 2353 2234 1838 2234 \nL 1294 2234 \nL 1294 2753 \nL 1863 2753 \nQ 2328 2753 2575 2939 \nQ 2822 3125 2822 3475 \nQ 2822 3834 2567 4026 \nQ 2313 4219 1838 4219 \nQ 1578 4219 1281 4162 \nQ 984 4106 628 3988 \nL 628 4550 \nQ 988 4650 1302 4700 \nQ 1616 4750 1894 4750 \nQ 2613 4750 3031 4423 \nQ 3450 4097 3450 3541 \nQ 3450 3153 3228 2886 \nQ 3006 2619 2597 2516 \nz\n\" transform=\"scale(0.015625)\"/>\n       </defs>\n       <use xlink:href=\"#DejaVuSans-33\"/>\n      </g>\n     </g>\n    </g>\n    <g id=\"xtick_4\">\n     <g id=\"line2d_7\">\n      <path d=\"M 336.016098 385.718125 \nL 336.016098 22.318125 \n\" clip-path=\"url(#p16ea356988)\" style=\"fill: none; stroke: #b0b0b0; stroke-width: 0.8; stroke-linecap: square\"/>\n     </g>\n     <g id=\"line2d_8\">\n      <g>\n       <use xlink:href=\"#m3742c13b05\" x=\"336.016098\" y=\"385.718125\" style=\"stroke: #000000; stroke-width: 0.8\"/>\n      </g>\n     </g>\n     <g id=\"text_4\">\n      <!-- 4 -->\n      <g transform=\"translate(332.834848 400.316562)scale(0.1 -0.1)\">\n       <defs>\n        <path id=\"DejaVuSans-34\" d=\"M 2419 4116 \nL 825 1625 \nL 2419 1625 \nL 2419 4116 \nz\nM 2253 4666 \nL 3047 4666 \nL 3047 1625 \nL 3713 1625 \nL 3713 1100 \nL 3047 1100 \nL 3047 0 \nL 2419 0 \nL 2419 1100 \nL 313 1100 \nL 313 1709 \nL 2253 4666 \nz\n\" transform=\"scale(0.015625)\"/>\n       </defs>\n       <use xlink:href=\"#DejaVuSans-34\"/>\n      </g>\n     </g>\n    </g>\n    <g id=\"xtick_5\">\n     <g id=\"line2d_9\">\n      <path d=\"M 422.019129 385.718125 \nL 422.019129 22.318125 \n\" clip-path=\"url(#p16ea356988)\" style=\"fill: none; stroke: #b0b0b0; stroke-width: 0.8; stroke-linecap: square\"/>\n     </g>\n     <g id=\"line2d_10\">\n      <g>\n       <use xlink:href=\"#m3742c13b05\" x=\"422.019129\" y=\"385.718125\" style=\"stroke: #000000; stroke-width: 0.8\"/>\n      </g>\n     </g>\n     <g id=\"text_5\">\n      <!-- 5 -->\n      <g transform=\"translate(418.837879 400.316562)scale(0.1 -0.1)\">\n       <defs>\n        <path id=\"DejaVuSans-35\" d=\"M 691 4666 \nL 3169 4666 \nL 3169 4134 \nL 1269 4134 \nL 1269 2991 \nQ 1406 3038 1543 3061 \nQ 1681 3084 1819 3084 \nQ 2600 3084 3056 2656 \nQ 3513 2228 3513 1497 \nQ 3513 744 3044 326 \nQ 2575 -91 1722 -91 \nQ 1428 -91 1123 -41 \nQ 819 9 494 109 \nL 494 744 \nQ 775 591 1075 516 \nQ 1375 441 1709 441 \nQ 2250 441 2565 725 \nQ 2881 1009 2881 1497 \nQ 2881 1984 2565 2268 \nQ 2250 2553 1709 2553 \nQ 1456 2553 1204 2497 \nQ 953 2441 691 2322 \nL 691 4666 \nz\n\" transform=\"scale(0.015625)\"/>\n       </defs>\n       <use xlink:href=\"#DejaVuSans-35\"/>\n      </g>\n     </g>\n    </g>\n    <g id=\"xtick_6\">\n     <g id=\"line2d_11\">\n      <path d=\"M 508.022159 385.718125 \nL 508.022159 22.318125 \n\" clip-path=\"url(#p16ea356988)\" style=\"fill: none; stroke: #b0b0b0; stroke-width: 0.8; stroke-linecap: square\"/>\n     </g>\n     <g id=\"line2d_12\">\n      <g>\n       <use xlink:href=\"#m3742c13b05\" x=\"508.022159\" y=\"385.718125\" style=\"stroke: #000000; stroke-width: 0.8\"/>\n      </g>\n     </g>\n     <g id=\"text_6\">\n      <!-- 6 -->\n      <g transform=\"translate(504.840909 400.316562)scale(0.1 -0.1)\">\n       <defs>\n        <path id=\"DejaVuSans-36\" d=\"M 2113 2584 \nQ 1688 2584 1439 2293 \nQ 1191 2003 1191 1497 \nQ 1191 994 1439 701 \nQ 1688 409 2113 409 \nQ 2538 409 2786 701 \nQ 3034 994 3034 1497 \nQ 3034 2003 2786 2293 \nQ 2538 2584 2113 2584 \nz\nM 3366 4563 \nL 3366 3988 \nQ 3128 4100 2886 4159 \nQ 2644 4219 2406 4219 \nQ 1781 4219 1451 3797 \nQ 1122 3375 1075 2522 \nQ 1259 2794 1537 2939 \nQ 1816 3084 2150 3084 \nQ 2853 3084 3261 2657 \nQ 3669 2231 3669 1497 \nQ 3669 778 3244 343 \nQ 2819 -91 2113 -91 \nQ 1303 -91 875 529 \nQ 447 1150 447 2328 \nQ 447 3434 972 4092 \nQ 1497 4750 2381 4750 \nQ 2619 4750 2861 4703 \nQ 3103 4656 3366 4563 \nz\n\" transform=\"scale(0.015625)\"/>\n       </defs>\n       <use xlink:href=\"#DejaVuSans-36\"/>\n      </g>\n     </g>\n    </g>\n    <g id=\"text_7\">\n     <!-- Epoch -->\n     <g transform=\"translate(277.703646 413.994687)scale(0.1 -0.1)\">\n      <defs>\n       <path id=\"DejaVuSans-45\" d=\"M 628 4666 \nL 3578 4666 \nL 3578 4134 \nL 1259 4134 \nL 1259 2753 \nL 3481 2753 \nL 3481 2222 \nL 1259 2222 \nL 1259 531 \nL 3634 531 \nL 3634 0 \nL 628 0 \nL 628 4666 \nz\n\" transform=\"scale(0.015625)\"/>\n       <path id=\"DejaVuSans-70\" d=\"M 1159 525 \nL 1159 -1331 \nL 581 -1331 \nL 581 3500 \nL 1159 3500 \nL 1159 2969 \nQ 1341 3281 1617 3432 \nQ 1894 3584 2278 3584 \nQ 2916 3584 3314 3078 \nQ 3713 2572 3713 1747 \nQ 3713 922 3314 415 \nQ 2916 -91 2278 -91 \nQ 1894 -91 1617 61 \nQ 1341 213 1159 525 \nz\nM 3116 1747 \nQ 3116 2381 2855 2742 \nQ 2594 3103 2138 3103 \nQ 1681 3103 1420 2742 \nQ 1159 2381 1159 1747 \nQ 1159 1113 1420 752 \nQ 1681 391 2138 391 \nQ 2594 391 2855 752 \nQ 3116 1113 3116 1747 \nz\n\" transform=\"scale(0.015625)\"/>\n       <path id=\"DejaVuSans-6f\" d=\"M 1959 3097 \nQ 1497 3097 1228 2736 \nQ 959 2375 959 1747 \nQ 959 1119 1226 758 \nQ 1494 397 1959 397 \nQ 2419 397 2687 759 \nQ 2956 1122 2956 1747 \nQ 2956 2369 2687 2733 \nQ 2419 3097 1959 3097 \nz\nM 1959 3584 \nQ 2709 3584 3137 3096 \nQ 3566 2609 3566 1747 \nQ 3566 888 3137 398 \nQ 2709 -91 1959 -91 \nQ 1206 -91 779 398 \nQ 353 888 353 1747 \nQ 353 2609 779 3096 \nQ 1206 3584 1959 3584 \nz\n\" transform=\"scale(0.015625)\"/>\n       <path id=\"DejaVuSans-63\" d=\"M 3122 3366 \nL 3122 2828 \nQ 2878 2963 2633 3030 \nQ 2388 3097 2138 3097 \nQ 1578 3097 1268 2742 \nQ 959 2388 959 1747 \nQ 959 1106 1268 751 \nQ 1578 397 2138 397 \nQ 2388 397 2633 464 \nQ 2878 531 3122 666 \nL 3122 134 \nQ 2881 22 2623 -34 \nQ 2366 -91 2075 -91 \nQ 1284 -91 818 406 \nQ 353 903 353 1747 \nQ 353 2603 823 3093 \nQ 1294 3584 2113 3584 \nQ 2378 3584 2631 3529 \nQ 2884 3475 3122 3366 \nz\n\" transform=\"scale(0.015625)\"/>\n       <path id=\"DejaVuSans-68\" d=\"M 3513 2113 \nL 3513 0 \nL 2938 0 \nL 2938 2094 \nQ 2938 2591 2744 2837 \nQ 2550 3084 2163 3084 \nQ 1697 3084 1428 2787 \nQ 1159 2491 1159 1978 \nL 1159 0 \nL 581 0 \nL 581 4863 \nL 1159 4863 \nL 1159 2956 \nQ 1366 3272 1645 3428 \nQ 1925 3584 2291 3584 \nQ 2894 3584 3203 3211 \nQ 3513 2838 3513 2113 \nz\n\" transform=\"scale(0.015625)\"/>\n      </defs>\n      <use xlink:href=\"#DejaVuSans-45\"/>\n      <use xlink:href=\"#DejaVuSans-70\" x=\"63.183594\"/>\n      <use xlink:href=\"#DejaVuSans-6f\" x=\"126.660156\"/>\n      <use xlink:href=\"#DejaVuSans-63\" x=\"187.841797\"/>\n      <use xlink:href=\"#DejaVuSans-68\" x=\"242.822266\"/>\n     </g>\n    </g>\n   </g>\n   <g id=\"matplotlib.axis_2\">\n    <g id=\"ytick_1\">\n     <g id=\"line2d_13\">\n      <path d=\"M 56.50625 372.052743 \nL 529.522917 372.052743 \n\" clip-path=\"url(#p16ea356988)\" style=\"fill: none; stroke: #b0b0b0; stroke-width: 0.8; stroke-linecap: square\"/>\n     </g>\n     <g id=\"line2d_14\">\n      <defs>\n       <path id=\"m0b16309639\" d=\"M 0 0 \nL -3.5 0 \n\" style=\"stroke: #000000; stroke-width: 0.8\"/>\n      </defs>\n      <g>\n       <use xlink:href=\"#m0b16309639\" x=\"56.50625\" y=\"372.052743\" style=\"stroke: #000000; stroke-width: 0.8\"/>\n      </g>\n     </g>\n     <g id=\"text_8\">\n      <!-- 0.010 -->\n      <g transform=\"translate(20.878125 375.851962)scale(0.1 -0.1)\">\n       <defs>\n        <path id=\"DejaVuSans-30\" d=\"M 2034 4250 \nQ 1547 4250 1301 3770 \nQ 1056 3291 1056 2328 \nQ 1056 1369 1301 889 \nQ 1547 409 2034 409 \nQ 2525 409 2770 889 \nQ 3016 1369 3016 2328 \nQ 3016 3291 2770 3770 \nQ 2525 4250 2034 4250 \nz\nM 2034 4750 \nQ 2819 4750 3233 4129 \nQ 3647 3509 3647 2328 \nQ 3647 1150 3233 529 \nQ 2819 -91 2034 -91 \nQ 1250 -91 836 529 \nQ 422 1150 422 2328 \nQ 422 3509 836 4129 \nQ 1250 4750 2034 4750 \nz\n\" transform=\"scale(0.015625)\"/>\n        <path id=\"DejaVuSans-2e\" d=\"M 684 794 \nL 1344 794 \nL 1344 0 \nL 684 0 \nL 684 794 \nz\n\" transform=\"scale(0.015625)\"/>\n       </defs>\n       <use xlink:href=\"#DejaVuSans-30\"/>\n       <use xlink:href=\"#DejaVuSans-2e\" x=\"63.623047\"/>\n       <use xlink:href=\"#DejaVuSans-30\" x=\"95.410156\"/>\n       <use xlink:href=\"#DejaVuSans-31\" x=\"159.033203\"/>\n       <use xlink:href=\"#DejaVuSans-30\" x=\"222.65625\"/>\n      </g>\n     </g>\n    </g>\n    <g id=\"ytick_2\">\n     <g id=\"line2d_15\">\n      <path d=\"M 56.50625 295.014526 \nL 529.522917 295.014526 \n\" clip-path=\"url(#p16ea356988)\" style=\"fill: none; stroke: #b0b0b0; stroke-width: 0.8; stroke-linecap: square\"/>\n     </g>\n     <g id=\"line2d_16\">\n      <g>\n       <use xlink:href=\"#m0b16309639\" x=\"56.50625\" y=\"295.014526\" style=\"stroke: #000000; stroke-width: 0.8\"/>\n      </g>\n     </g>\n     <g id=\"text_9\">\n      <!-- 0.015 -->\n      <g transform=\"translate(20.878125 298.813744)scale(0.1 -0.1)\">\n       <use xlink:href=\"#DejaVuSans-30\"/>\n       <use xlink:href=\"#DejaVuSans-2e\" x=\"63.623047\"/>\n       <use xlink:href=\"#DejaVuSans-30\" x=\"95.410156\"/>\n       <use xlink:href=\"#DejaVuSans-31\" x=\"159.033203\"/>\n       <use xlink:href=\"#DejaVuSans-35\" x=\"222.65625\"/>\n      </g>\n     </g>\n    </g>\n    <g id=\"ytick_3\">\n     <g id=\"line2d_17\">\n      <path d=\"M 56.50625 217.976308 \nL 529.522917 217.976308 \n\" clip-path=\"url(#p16ea356988)\" style=\"fill: none; stroke: #b0b0b0; stroke-width: 0.8; stroke-linecap: square\"/>\n     </g>\n     <g id=\"line2d_18\">\n      <g>\n       <use xlink:href=\"#m0b16309639\" x=\"56.50625\" y=\"217.976308\" style=\"stroke: #000000; stroke-width: 0.8\"/>\n      </g>\n     </g>\n     <g id=\"text_10\">\n      <!-- 0.020 -->\n      <g transform=\"translate(20.878125 221.775527)scale(0.1 -0.1)\">\n       <use xlink:href=\"#DejaVuSans-30\"/>\n       <use xlink:href=\"#DejaVuSans-2e\" x=\"63.623047\"/>\n       <use xlink:href=\"#DejaVuSans-30\" x=\"95.410156\"/>\n       <use xlink:href=\"#DejaVuSans-32\" x=\"159.033203\"/>\n       <use xlink:href=\"#DejaVuSans-30\" x=\"222.65625\"/>\n      </g>\n     </g>\n    </g>\n    <g id=\"ytick_4\">\n     <g id=\"line2d_19\">\n      <path d=\"M 56.50625 140.938091 \nL 529.522917 140.938091 \n\" clip-path=\"url(#p16ea356988)\" style=\"fill: none; stroke: #b0b0b0; stroke-width: 0.8; stroke-linecap: square\"/>\n     </g>\n     <g id=\"line2d_20\">\n      <g>\n       <use xlink:href=\"#m0b16309639\" x=\"56.50625\" y=\"140.938091\" style=\"stroke: #000000; stroke-width: 0.8\"/>\n      </g>\n     </g>\n     <g id=\"text_11\">\n      <!-- 0.025 -->\n      <g transform=\"translate(20.878125 144.737309)scale(0.1 -0.1)\">\n       <use xlink:href=\"#DejaVuSans-30\"/>\n       <use xlink:href=\"#DejaVuSans-2e\" x=\"63.623047\"/>\n       <use xlink:href=\"#DejaVuSans-30\" x=\"95.410156\"/>\n       <use xlink:href=\"#DejaVuSans-32\" x=\"159.033203\"/>\n       <use xlink:href=\"#DejaVuSans-35\" x=\"222.65625\"/>\n      </g>\n     </g>\n    </g>\n    <g id=\"ytick_5\">\n     <g id=\"line2d_21\">\n      <path d=\"M 56.50625 63.899873 \nL 529.522917 63.899873 \n\" clip-path=\"url(#p16ea356988)\" style=\"fill: none; stroke: #b0b0b0; stroke-width: 0.8; stroke-linecap: square\"/>\n     </g>\n     <g id=\"line2d_22\">\n      <g>\n       <use xlink:href=\"#m0b16309639\" x=\"56.50625\" y=\"63.899873\" style=\"stroke: #000000; stroke-width: 0.8\"/>\n      </g>\n     </g>\n     <g id=\"text_12\">\n      <!-- 0.030 -->\n      <g transform=\"translate(20.878125 67.699092)scale(0.1 -0.1)\">\n       <use xlink:href=\"#DejaVuSans-30\"/>\n       <use xlink:href=\"#DejaVuSans-2e\" x=\"63.623047\"/>\n       <use xlink:href=\"#DejaVuSans-30\" x=\"95.410156\"/>\n       <use xlink:href=\"#DejaVuSans-33\" x=\"159.033203\"/>\n       <use xlink:href=\"#DejaVuSans-30\" x=\"222.65625\"/>\n      </g>\n     </g>\n    </g>\n    <g id=\"text_13\">\n     <!-- Loss -->\n     <g transform=\"translate(14.798438 214.985312)rotate(-90)scale(0.1 -0.1)\">\n      <defs>\n       <path id=\"DejaVuSans-4c\" d=\"M 628 4666 \nL 1259 4666 \nL 1259 531 \nL 3531 531 \nL 3531 0 \nL 628 0 \nL 628 4666 \nz\n\" transform=\"scale(0.015625)\"/>\n       <path id=\"DejaVuSans-73\" d=\"M 2834 3397 \nL 2834 2853 \nQ 2591 2978 2328 3040 \nQ 2066 3103 1784 3103 \nQ 1356 3103 1142 2972 \nQ 928 2841 928 2578 \nQ 928 2378 1081 2264 \nQ 1234 2150 1697 2047 \nL 1894 2003 \nQ 2506 1872 2764 1633 \nQ 3022 1394 3022 966 \nQ 3022 478 2636 193 \nQ 2250 -91 1575 -91 \nQ 1294 -91 989 -36 \nQ 684 19 347 128 \nL 347 722 \nQ 666 556 975 473 \nQ 1284 391 1588 391 \nQ 1994 391 2212 530 \nQ 2431 669 2431 922 \nQ 2431 1156 2273 1281 \nQ 2116 1406 1581 1522 \nL 1381 1569 \nQ 847 1681 609 1914 \nQ 372 2147 372 2553 \nQ 372 3047 722 3315 \nQ 1072 3584 1716 3584 \nQ 2034 3584 2315 3537 \nQ 2597 3491 2834 3397 \nz\n\" transform=\"scale(0.015625)\"/>\n      </defs>\n      <use xlink:href=\"#DejaVuSans-4c\"/>\n      <use xlink:href=\"#DejaVuSans-6f\" x=\"53.962891\"/>\n      <use xlink:href=\"#DejaVuSans-73\" x=\"115.144531\"/>\n      <use xlink:href=\"#DejaVuSans-73\" x=\"167.244141\"/>\n     </g>\n    </g>\n   </g>\n   <g id=\"line2d_23\">\n    <path d=\"M 78.007008 38.836307 \nL 164.010038 331.322162 \nL 250.013068 335.448382 \nL 336.016098 344.530649 \nL 422.019129 348.597503 \nL 508.022159 369.199943 \n\" clip-path=\"url(#p16ea356988)\" style=\"fill: none; stroke: #0000ff; stroke-width: 1.5; stroke-linecap: square\"/>\n    <defs>\n     <path id=\"mede655ee86\" d=\"M 0 3 \nC 0.795609 3 1.55874 2.683901 2.12132 2.12132 \nC 2.683901 1.55874 3 0.795609 3 0 \nC 3 -0.795609 2.683901 -1.55874 2.12132 -2.12132 \nC 1.55874 -2.683901 0.795609 -3 0 -3 \nC -0.795609 -3 -1.55874 -2.683901 -2.12132 -2.12132 \nC -2.683901 -1.55874 -3 -0.795609 -3 0 \nC -3 0.795609 -2.683901 1.55874 -2.12132 2.12132 \nC -1.55874 2.683901 -0.795609 3 0 3 \nz\n\" style=\"stroke: #0000ff\"/>\n    </defs>\n    <g clip-path=\"url(#p16ea356988)\">\n     <use xlink:href=\"#mede655ee86\" x=\"78.007008\" y=\"38.836307\" style=\"fill: #0000ff; stroke: #0000ff\"/>\n     <use xlink:href=\"#mede655ee86\" x=\"164.010038\" y=\"331.322162\" style=\"fill: #0000ff; stroke: #0000ff\"/>\n     <use xlink:href=\"#mede655ee86\" x=\"250.013068\" y=\"335.448382\" style=\"fill: #0000ff; stroke: #0000ff\"/>\n     <use xlink:href=\"#mede655ee86\" x=\"336.016098\" y=\"344.530649\" style=\"fill: #0000ff; stroke: #0000ff\"/>\n     <use xlink:href=\"#mede655ee86\" x=\"422.019129\" y=\"348.597503\" style=\"fill: #0000ff; stroke: #0000ff\"/>\n     <use xlink:href=\"#mede655ee86\" x=\"508.022159\" y=\"369.199943\" style=\"fill: #0000ff; stroke: #0000ff\"/>\n    </g>\n   </g>\n   <g id=\"line2d_24\">\n    <path d=\"M 78.007008 347.327252 \nL 164.010038 359.699671 \nL 250.013068 340.06071 \nL 336.016098 351.368243 \nL 422.019129 341.205498 \nL 508.022159 359.692717 \n\" clip-path=\"url(#p16ea356988)\" style=\"fill: none; stroke: #ff0000; stroke-width: 1.5; stroke-linecap: square\"/>\n    <defs>\n     <path id=\"m50dc570596\" d=\"M 0 3 \nC 0.795609 3 1.55874 2.683901 2.12132 2.12132 \nC 2.683901 1.55874 3 0.795609 3 0 \nC 3 -0.795609 2.683901 -1.55874 2.12132 -2.12132 \nC 1.55874 -2.683901 0.795609 -3 0 -3 \nC -0.795609 -3 -1.55874 -2.683901 -2.12132 -2.12132 \nC -2.683901 -1.55874 -3 -0.795609 -3 0 \nC -3 0.795609 -2.683901 1.55874 -2.12132 2.12132 \nC -1.55874 2.683901 -0.795609 3 0 3 \nz\n\" style=\"stroke: #ff0000\"/>\n    </defs>\n    <g clip-path=\"url(#p16ea356988)\">\n     <use xlink:href=\"#m50dc570596\" x=\"78.007008\" y=\"347.327252\" style=\"fill: #ff0000; stroke: #ff0000\"/>\n     <use xlink:href=\"#m50dc570596\" x=\"164.010038\" y=\"359.699671\" style=\"fill: #ff0000; stroke: #ff0000\"/>\n     <use xlink:href=\"#m50dc570596\" x=\"250.013068\" y=\"340.06071\" style=\"fill: #ff0000; stroke: #ff0000\"/>\n     <use xlink:href=\"#m50dc570596\" x=\"336.016098\" y=\"351.368243\" style=\"fill: #ff0000; stroke: #ff0000\"/>\n     <use xlink:href=\"#m50dc570596\" x=\"422.019129\" y=\"341.205498\" style=\"fill: #ff0000; stroke: #ff0000\"/>\n     <use xlink:href=\"#m50dc570596\" x=\"508.022159\" y=\"359.692717\" style=\"fill: #ff0000; stroke: #ff0000\"/>\n    </g>\n   </g>\n   <g id=\"patch_3\">\n    <path d=\"M 56.50625 385.718125 \nL 56.50625 22.318125 \n\" style=\"fill: none; stroke: #000000; stroke-width: 0.8; stroke-linejoin: miter; stroke-linecap: square\"/>\n   </g>\n   <g id=\"patch_4\">\n    <path d=\"M 529.522917 385.718125 \nL 529.522917 22.318125 \n\" style=\"fill: none; stroke: #000000; stroke-width: 0.8; stroke-linejoin: miter; stroke-linecap: square\"/>\n   </g>\n   <g id=\"patch_5\">\n    <path d=\"M 56.50625 385.718125 \nL 529.522917 385.718125 \n\" style=\"fill: none; stroke: #000000; stroke-width: 0.8; stroke-linejoin: miter; stroke-linecap: square\"/>\n   </g>\n   <g id=\"patch_6\">\n    <path d=\"M 56.50625 22.318125 \nL 529.522917 22.318125 \n\" style=\"fill: none; stroke: #000000; stroke-width: 0.8; stroke-linejoin: miter; stroke-linecap: square\"/>\n   </g>\n   <g id=\"text_14\">\n    <!-- Loss Curves LSTM -->\n    <g transform=\"translate(239.218958 16.318125)scale(0.12 -0.12)\">\n     <defs>\n      <path id=\"DejaVuSans-20\" transform=\"scale(0.015625)\"/>\n      <path id=\"DejaVuSans-43\" d=\"M 4122 4306 \nL 4122 3641 \nQ 3803 3938 3442 4084 \nQ 3081 4231 2675 4231 \nQ 1875 4231 1450 3742 \nQ 1025 3253 1025 2328 \nQ 1025 1406 1450 917 \nQ 1875 428 2675 428 \nQ 3081 428 3442 575 \nQ 3803 722 4122 1019 \nL 4122 359 \nQ 3791 134 3420 21 \nQ 3050 -91 2638 -91 \nQ 1578 -91 968 557 \nQ 359 1206 359 2328 \nQ 359 3453 968 4101 \nQ 1578 4750 2638 4750 \nQ 3056 4750 3426 4639 \nQ 3797 4528 4122 4306 \nz\n\" transform=\"scale(0.015625)\"/>\n      <path id=\"DejaVuSans-75\" d=\"M 544 1381 \nL 544 3500 \nL 1119 3500 \nL 1119 1403 \nQ 1119 906 1312 657 \nQ 1506 409 1894 409 \nQ 2359 409 2629 706 \nQ 2900 1003 2900 1516 \nL 2900 3500 \nL 3475 3500 \nL 3475 0 \nL 2900 0 \nL 2900 538 \nQ 2691 219 2414 64 \nQ 2138 -91 1772 -91 \nQ 1169 -91 856 284 \nQ 544 659 544 1381 \nz\nM 1991 3584 \nL 1991 3584 \nz\n\" transform=\"scale(0.015625)\"/>\n      <path id=\"DejaVuSans-72\" d=\"M 2631 2963 \nQ 2534 3019 2420 3045 \nQ 2306 3072 2169 3072 \nQ 1681 3072 1420 2755 \nQ 1159 2438 1159 1844 \nL 1159 0 \nL 581 0 \nL 581 3500 \nL 1159 3500 \nL 1159 2956 \nQ 1341 3275 1631 3429 \nQ 1922 3584 2338 3584 \nQ 2397 3584 2469 3576 \nQ 2541 3569 2628 3553 \nL 2631 2963 \nz\n\" transform=\"scale(0.015625)\"/>\n      <path id=\"DejaVuSans-76\" d=\"M 191 3500 \nL 800 3500 \nL 1894 563 \nL 2988 3500 \nL 3597 3500 \nL 2284 0 \nL 1503 0 \nL 191 3500 \nz\n\" transform=\"scale(0.015625)\"/>\n      <path id=\"DejaVuSans-65\" d=\"M 3597 1894 \nL 3597 1613 \nL 953 1613 \nQ 991 1019 1311 708 \nQ 1631 397 2203 397 \nQ 2534 397 2845 478 \nQ 3156 559 3463 722 \nL 3463 178 \nQ 3153 47 2828 -22 \nQ 2503 -91 2169 -91 \nQ 1331 -91 842 396 \nQ 353 884 353 1716 \nQ 353 2575 817 3079 \nQ 1281 3584 2069 3584 \nQ 2775 3584 3186 3129 \nQ 3597 2675 3597 1894 \nz\nM 3022 2063 \nQ 3016 2534 2758 2815 \nQ 2500 3097 2075 3097 \nQ 1594 3097 1305 2825 \nQ 1016 2553 972 2059 \nL 3022 2063 \nz\n\" transform=\"scale(0.015625)\"/>\n      <path id=\"DejaVuSans-53\" d=\"M 3425 4513 \nL 3425 3897 \nQ 3066 4069 2747 4153 \nQ 2428 4238 2131 4238 \nQ 1616 4238 1336 4038 \nQ 1056 3838 1056 3469 \nQ 1056 3159 1242 3001 \nQ 1428 2844 1947 2747 \nL 2328 2669 \nQ 3034 2534 3370 2195 \nQ 3706 1856 3706 1288 \nQ 3706 609 3251 259 \nQ 2797 -91 1919 -91 \nQ 1588 -91 1214 -16 \nQ 841 59 441 206 \nL 441 856 \nQ 825 641 1194 531 \nQ 1563 422 1919 422 \nQ 2459 422 2753 634 \nQ 3047 847 3047 1241 \nQ 3047 1584 2836 1778 \nQ 2625 1972 2144 2069 \nL 1759 2144 \nQ 1053 2284 737 2584 \nQ 422 2884 422 3419 \nQ 422 4038 858 4394 \nQ 1294 4750 2059 4750 \nQ 2388 4750 2728 4690 \nQ 3069 4631 3425 4513 \nz\n\" transform=\"scale(0.015625)\"/>\n      <path id=\"DejaVuSans-54\" d=\"M -19 4666 \nL 3928 4666 \nL 3928 4134 \nL 2272 4134 \nL 2272 0 \nL 1638 0 \nL 1638 4134 \nL -19 4134 \nL -19 4666 \nz\n\" transform=\"scale(0.015625)\"/>\n      <path id=\"DejaVuSans-4d\" d=\"M 628 4666 \nL 1569 4666 \nL 2759 1491 \nL 3956 4666 \nL 4897 4666 \nL 4897 0 \nL 4281 0 \nL 4281 4097 \nL 3078 897 \nL 2444 897 \nL 1241 4097 \nL 1241 0 \nL 628 0 \nL 628 4666 \nz\n\" transform=\"scale(0.015625)\"/>\n     </defs>\n     <use xlink:href=\"#DejaVuSans-4c\"/>\n     <use xlink:href=\"#DejaVuSans-6f\" x=\"53.962891\"/>\n     <use xlink:href=\"#DejaVuSans-73\" x=\"115.144531\"/>\n     <use xlink:href=\"#DejaVuSans-73\" x=\"167.244141\"/>\n     <use xlink:href=\"#DejaVuSans-20\" x=\"219.34375\"/>\n     <use xlink:href=\"#DejaVuSans-43\" x=\"251.130859\"/>\n     <use xlink:href=\"#DejaVuSans-75\" x=\"320.955078\"/>\n     <use xlink:href=\"#DejaVuSans-72\" x=\"384.333984\"/>\n     <use xlink:href=\"#DejaVuSans-76\" x=\"425.447266\"/>\n     <use xlink:href=\"#DejaVuSans-65\" x=\"484.626953\"/>\n     <use xlink:href=\"#DejaVuSans-73\" x=\"546.150391\"/>\n     <use xlink:href=\"#DejaVuSans-20\" x=\"598.25\"/>\n     <use xlink:href=\"#DejaVuSans-4c\" x=\"630.037109\"/>\n     <use xlink:href=\"#DejaVuSans-53\" x=\"685.75\"/>\n     <use xlink:href=\"#DejaVuSans-54\" x=\"749.226562\"/>\n     <use xlink:href=\"#DejaVuSans-4d\" x=\"810.310547\"/>\n    </g>\n   </g>\n   <g id=\"legend_1\">\n    <g id=\"patch_7\">\n     <path d=\"M 416.029167 59.674375 \nL 522.522917 59.674375 \nQ 524.522917 59.674375 524.522917 57.674375 \nL 524.522917 29.318125 \nQ 524.522917 27.318125 522.522917 27.318125 \nL 416.029167 27.318125 \nQ 414.029167 27.318125 414.029167 29.318125 \nL 414.029167 57.674375 \nQ 414.029167 59.674375 416.029167 59.674375 \nz\n\" style=\"fill: #ffffff; opacity: 0.8; stroke: #cccccc; stroke-linejoin: miter\"/>\n    </g>\n    <g id=\"line2d_25\">\n     <path d=\"M 418.029167 35.416562 \nL 428.029167 35.416562 \nL 438.029167 35.416562 \n\" style=\"fill: none; stroke: #0000ff; stroke-width: 1.5; stroke-linecap: square\"/>\n     <g>\n      <use xlink:href=\"#mede655ee86\" x=\"428.029167\" y=\"35.416562\" style=\"fill: #0000ff; stroke: #0000ff\"/>\n     </g>\n    </g>\n    <g id=\"text_15\">\n     <!-- Train Loss -->\n     <g transform=\"translate(446.029167 38.916562)scale(0.1 -0.1)\">\n      <defs>\n       <path id=\"DejaVuSans-61\" d=\"M 2194 1759 \nQ 1497 1759 1228 1600 \nQ 959 1441 959 1056 \nQ 959 750 1161 570 \nQ 1363 391 1709 391 \nQ 2188 391 2477 730 \nQ 2766 1069 2766 1631 \nL 2766 1759 \nL 2194 1759 \nz\nM 3341 1997 \nL 3341 0 \nL 2766 0 \nL 2766 531 \nQ 2569 213 2275 61 \nQ 1981 -91 1556 -91 \nQ 1019 -91 701 211 \nQ 384 513 384 1019 \nQ 384 1609 779 1909 \nQ 1175 2209 1959 2209 \nL 2766 2209 \nL 2766 2266 \nQ 2766 2663 2505 2880 \nQ 2244 3097 1772 3097 \nQ 1472 3097 1187 3025 \nQ 903 2953 641 2809 \nL 641 3341 \nQ 956 3463 1253 3523 \nQ 1550 3584 1831 3584 \nQ 2591 3584 2966 3190 \nQ 3341 2797 3341 1997 \nz\n\" transform=\"scale(0.015625)\"/>\n       <path id=\"DejaVuSans-69\" d=\"M 603 3500 \nL 1178 3500 \nL 1178 0 \nL 603 0 \nL 603 3500 \nz\nM 603 4863 \nL 1178 4863 \nL 1178 4134 \nL 603 4134 \nL 603 4863 \nz\n\" transform=\"scale(0.015625)\"/>\n       <path id=\"DejaVuSans-6e\" d=\"M 3513 2113 \nL 3513 0 \nL 2938 0 \nL 2938 2094 \nQ 2938 2591 2744 2837 \nQ 2550 3084 2163 3084 \nQ 1697 3084 1428 2787 \nQ 1159 2491 1159 1978 \nL 1159 0 \nL 581 0 \nL 581 3500 \nL 1159 3500 \nL 1159 2956 \nQ 1366 3272 1645 3428 \nQ 1925 3584 2291 3584 \nQ 2894 3584 3203 3211 \nQ 3513 2838 3513 2113 \nz\n\" transform=\"scale(0.015625)\"/>\n      </defs>\n      <use xlink:href=\"#DejaVuSans-54\"/>\n      <use xlink:href=\"#DejaVuSans-72\" x=\"46.333984\"/>\n      <use xlink:href=\"#DejaVuSans-61\" x=\"87.447266\"/>\n      <use xlink:href=\"#DejaVuSans-69\" x=\"148.726562\"/>\n      <use xlink:href=\"#DejaVuSans-6e\" x=\"176.509766\"/>\n      <use xlink:href=\"#DejaVuSans-20\" x=\"239.888672\"/>\n      <use xlink:href=\"#DejaVuSans-4c\" x=\"271.675781\"/>\n      <use xlink:href=\"#DejaVuSans-6f\" x=\"325.638672\"/>\n      <use xlink:href=\"#DejaVuSans-73\" x=\"386.820312\"/>\n      <use xlink:href=\"#DejaVuSans-73\" x=\"438.919922\"/>\n     </g>\n    </g>\n    <g id=\"line2d_26\">\n     <path d=\"M 418.029167 50.094687 \nL 428.029167 50.094687 \nL 438.029167 50.094687 \n\" style=\"fill: none; stroke: #ff0000; stroke-width: 1.5; stroke-linecap: square\"/>\n     <g>\n      <use xlink:href=\"#m50dc570596\" x=\"428.029167\" y=\"50.094687\" style=\"fill: #ff0000; stroke: #ff0000\"/>\n     </g>\n    </g>\n    <g id=\"text_16\">\n     <!-- Validation Loss -->\n     <g transform=\"translate(446.029167 53.594687)scale(0.1 -0.1)\">\n      <defs>\n       <path id=\"DejaVuSans-56\" d=\"M 1831 0 \nL 50 4666 \nL 709 4666 \nL 2188 738 \nL 3669 4666 \nL 4325 4666 \nL 2547 0 \nL 1831 0 \nz\n\" transform=\"scale(0.015625)\"/>\n       <path id=\"DejaVuSans-6c\" d=\"M 603 4863 \nL 1178 4863 \nL 1178 0 \nL 603 0 \nL 603 4863 \nz\n\" transform=\"scale(0.015625)\"/>\n       <path id=\"DejaVuSans-64\" d=\"M 2906 2969 \nL 2906 4863 \nL 3481 4863 \nL 3481 0 \nL 2906 0 \nL 2906 525 \nQ 2725 213 2448 61 \nQ 2172 -91 1784 -91 \nQ 1150 -91 751 415 \nQ 353 922 353 1747 \nQ 353 2572 751 3078 \nQ 1150 3584 1784 3584 \nQ 2172 3584 2448 3432 \nQ 2725 3281 2906 2969 \nz\nM 947 1747 \nQ 947 1113 1208 752 \nQ 1469 391 1925 391 \nQ 2381 391 2643 752 \nQ 2906 1113 2906 1747 \nQ 2906 2381 2643 2742 \nQ 2381 3103 1925 3103 \nQ 1469 3103 1208 2742 \nQ 947 2381 947 1747 \nz\n\" transform=\"scale(0.015625)\"/>\n       <path id=\"DejaVuSans-74\" d=\"M 1172 4494 \nL 1172 3500 \nL 2356 3500 \nL 2356 3053 \nL 1172 3053 \nL 1172 1153 \nQ 1172 725 1289 603 \nQ 1406 481 1766 481 \nL 2356 481 \nL 2356 0 \nL 1766 0 \nQ 1100 0 847 248 \nQ 594 497 594 1153 \nL 594 3053 \nL 172 3053 \nL 172 3500 \nL 594 3500 \nL 594 4494 \nL 1172 4494 \nz\n\" transform=\"scale(0.015625)\"/>\n      </defs>\n      <use xlink:href=\"#DejaVuSans-56\"/>\n      <use xlink:href=\"#DejaVuSans-61\" x=\"60.658203\"/>\n      <use xlink:href=\"#DejaVuSans-6c\" x=\"121.9375\"/>\n      <use xlink:href=\"#DejaVuSans-69\" x=\"149.720703\"/>\n      <use xlink:href=\"#DejaVuSans-64\" x=\"177.503906\"/>\n      <use xlink:href=\"#DejaVuSans-61\" x=\"240.980469\"/>\n      <use xlink:href=\"#DejaVuSans-74\" x=\"302.259766\"/>\n      <use xlink:href=\"#DejaVuSans-69\" x=\"341.46875\"/>\n      <use xlink:href=\"#DejaVuSans-6f\" x=\"369.251953\"/>\n      <use xlink:href=\"#DejaVuSans-6e\" x=\"430.433594\"/>\n      <use xlink:href=\"#DejaVuSans-20\" x=\"493.8125\"/>\n      <use xlink:href=\"#DejaVuSans-4c\" x=\"525.599609\"/>\n      <use xlink:href=\"#DejaVuSans-6f\" x=\"579.5625\"/>\n      <use xlink:href=\"#DejaVuSans-73\" x=\"640.744141\"/>\n      <use xlink:href=\"#DejaVuSans-73\" x=\"692.84375\"/>\n     </g>\n    </g>\n   </g>\n  </g>\n </g>\n <defs>\n  <clipPath id=\"p16ea356988\">\n   <rect x=\"56.50625\" y=\"22.318125\" width=\"473.016667\" height=\"363.4\"/>\n  </clipPath>\n </defs>\n</svg>\n"
     },
     "metadata": {
      "needs_background": "light"
     },
     "output_type": "display_data"
    }
   ],
   "source": [
    "plt.figure(figsize=(21, 6))\n",
    "\n",
    "complete_epochs = len(train_loss_history)+1\n",
    "plt.subplot(1, 3, 1)\n",
    "plt.plot(range(1, complete_epochs), train_loss_history, label='Train Loss', marker='o', color='b')\n",
    "plt.plot(range(1, complete_epochs), val_loss_history,  label='Validation Loss',  marker='o', color='r')\n",
    "plt.title('Loss Curves LSTM')\n",
    "plt.xlabel('Epoch')\n",
    "plt.ylabel('Loss')\n",
    "plt.legend()\n",
    "plt.grid()\n",
    "plt.tight_layout()\n",
    "plt.show()"
   ],
   "metadata": {
    "collapsed": false,
    "pycharm": {
     "name": "#%%\n"
    }
   }
  },
  {
   "cell_type": "markdown",
   "source": [
    "To complete after the model is able to predict horizon labels"
   ],
   "metadata": {
    "collapsed": false
   }
  },
  {
   "cell_type": "code",
   "execution_count": null,
   "outputs": [],
   "source": [
    "model.eval()  # Setze das Modell in den Evaluierungsmodus\n",
    "with torch.no_grad():\n",
    "    outputs = []\n",
    "    val_loader_tqdm = tqdm(val_loader, desc=\"Evaluating\", leave=False)\n",
    "    for batch in val_loader_tqdm:\n",
    "        images, tabular_features, labels = batch\n",
    "        images, tabular_features, labels = images.to(device), tabular_features.to(device), labels.to(device)\n",
    "        outputs.append(model(image=images, tabular_features=tabular_features))"
   ],
   "metadata": {
    "collapsed": false,
    "pycharm": {
     "name": "#%%\n"
    }
   }
  },
  {
   "cell_type": "code",
   "execution_count": null,
   "outputs": [],
   "source": [
    "from sklearn.metrics import classification_report, confusion_matrix\n",
    "\n",
    "# Convert outputs to predicted labels (adjust based on your model's output format)\n",
    "predicted_probs, predicted_labels = [], []\n",
    "for output in outputs:\n",
    "\n",
    "    predicted_labels.extend(torch.argmax(output, dim=1).tolist())\n",
    "    predicted_probs.extend(torch.softmax(output, dim=1).cpu().numpy()) # Convert logits to probabilities\n",
    "\n",
    "# Convert true labels to a list\n",
    "true_labels = [label.item() for batch in val_loader for label in batch[2]]\n",
    "\n",
    "# Calculate metrics\n",
    "report = classification_report(true_labels, predicted_labels)\n",
    "print(report)"
   ],
   "metadata": {
    "collapsed": false,
    "pycharm": {
     "name": "#%%\n"
    }
   }
  },
  {
   "cell_type": "code",
   "execution_count": null,
   "outputs": [],
   "source": [
    "# Compute PR curve for each class\n",
    "from sklearn.metrics import precision_recall_curve, average_precision_score\n",
    "from sklearn.preprocessing import label_binarize\n",
    "\n",
    "predicted_probs = np.array(predicted_probs)\n",
    "true_labels = np.array(true_labels)\n",
    "n_classes = predicted_probs.shape[1]\n",
    "precision, recall, avg_precision = {}, {}, {}\n",
    "# Binarize the labels (one-hot encoding for multiclass)\n",
    "true_labels_binarized = label_binarize(true_labels, classes=np.arange(n_classes))\n",
    "\n",
    "for i in range(n_classes):\n",
    "    precision[i], recall[i], _ = precision_recall_curve(true_labels_binarized[:, i], predicted_probs[:, i])\n",
    "    avg_precision[i] = average_precision_score(true_labels_binarized[:, i], predicted_probs[:, i])\n",
    "\n",
    "# Compute macro-average PR curve\n",
    "precision[\"macro\"], recall[\"macro\"], _ = precision_recall_curve(true_labels_binarized.ravel(), predicted_probs.ravel())\n",
    "avg_precision[\"macro\"] = average_precision_score(true_labels_binarized, predicted_probs, average=\"macro\")"
   ],
   "metadata": {
    "collapsed": false,
    "pycharm": {
     "name": "#%%\n"
    }
   }
  },
  {
   "cell_type": "code",
   "execution_count": null,
   "outputs": [],
   "source": [
    "plt.figure(figsize=(10, 8))\n",
    "\n",
    "# Plot PR curves for each class\n",
    "for i in range(n_classes):\n",
    "    plt.plot(recall[i], precision[i], lw=2, label=f'Class {i} (AP = {avg_precision[i]:.2f})')\n",
    "\n",
    "# Plot macro-average PR curve\n",
    "plt.plot(recall[\"macro\"], precision[\"macro\"], linestyle='--', lw=2, color='black',\n",
    "         label=f'Macro-average (AP = {avg_precision[\"macro\"]:.2f})')\n",
    "\n",
    "plt.xlabel('Recall')\n",
    "plt.ylabel('Precision')\n",
    "plt.title('Precision-Recall Curves')\n",
    "plt.legend(loc='upper right')\n",
    "plt.grid()\n",
    "plt.show()"
   ],
   "metadata": {
    "collapsed": false,
    "pycharm": {
     "name": "#%%\n"
    }
   }
  },
  {
   "cell_type": "code",
   "execution_count": null,
   "outputs": [],
   "source": [
    "cm = confusion_matrix(true_labels, predicted_labels)\n",
    "\n",
    "plt.figure(figsize=(10, 7))\n",
    "sns.heatmap(cm, annot=True, fmt=\"d\", cmap=\"Blues\")\n",
    "plt.xlabel(\"Predicted Label\")\n",
    "plt.ylabel(\"True Label\")\n",
    "plt.title(\"Confusion Matrix\")\n",
    "plt.show()"
   ],
   "metadata": {
    "collapsed": false,
    "pycharm": {
     "name": "#%%\n"
    }
   }
  }
 ],
 "metadata": {
  "kernelspec": {
   "name": "sam",
   "language": "python",
   "display_name": "sam"
  },
  "language_info": {
   "codemirror_mode": {
    "name": "ipython",
    "version": 3
   },
   "file_extension": ".py",
   "mimetype": "text/x-python",
   "name": "python",
   "nbconvert_exporter": "python",
   "pygments_lexer": "ipython3",
   "version": "3.9.19"
  }
 },
 "nbformat": 4,
 "nbformat_minor": 5
}