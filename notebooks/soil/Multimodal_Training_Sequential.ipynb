{
 "cells": [
  {
   "cell_type": "markdown",
   "source": [
    "## Multimodal Training Sequential\n",
    "\n",
    "Predict horizon boundaries from full images and geo-temporal infos. Afterwards, predict morphological features and symbol for every horizon"
   ],
   "metadata": {
    "collapsed": false
   }
  },
  {
   "cell_type": "code",
   "execution_count": 1,
   "outputs": [],
   "source": [
    "import os\n",
    "import pickle\n",
    "\n",
    "import matplotlib.pylab as plt\n",
    "import numpy as np\n",
    "import pandas as pd\n",
    "import seaborn as sns\n",
    "import torch\n",
    "import torch.nn.functional as F\n",
    "import torch.optim as optim\n",
    "import torchvision.transforms as transforms\n",
    "from sklearn.model_selection import train_test_split\n",
    "from torch.nn.utils import clip_grad_norm_  # modifies the tensors in-place (vs clip_grad_norm)\n",
    "from torch.utils.data import DataLoader\n",
    "from tqdm import tqdm\n",
    "\n",
    "pd.set_option(\"display.max_columns\", None)\n",
    "np.random.seed(42)\n",
    "\n",
    "%matplotlib inline\n",
    "%config InlineBackend.figure_format = 'svg'"
   ],
   "metadata": {
    "collapsed": false,
    "pycharm": {
     "name": "#%%\n"
    }
   }
  },
  {
   "cell_type": "code",
   "execution_count": 2,
   "outputs": [],
   "source": [
    "import sys\n",
    "sys.path.append('./BGR')\n",
    "import bgr.soil.datasets as bgr_data\n",
    "import bgr.soil.models as bgr_mod\n",
    "from bgr.soil.callbacks import EarlyStopping\n",
    "from bgr.soil.metrics import DepthMarkerLoss\n",
    "from bgr.soil.utils import pad_tensor"
   ],
   "metadata": {
    "collapsed": false,
    "pycharm": {
     "name": "#%%\n"
    }
   }
  },
  {
   "cell_type": "code",
   "execution_count": 3,
   "outputs": [],
   "source": [
    "path_csv = \"../data/BGR/data_horizons.csv\"\n",
    "path_csv_annotator_ids = '../data/BGR/Kartierer_ID.csv'\n",
    "path_csv_locations = '../data/BGR/STANDORT.csv'\n",
    "path_horizons_simple = '../data/BGR/Vereinfachung_Horizontsymbole.csv'\n",
    "path_pictures = \"../data/BGR/Profilbilder_no_ruler_no_sky/\"\n",
    "#path_pictures = \"../data/BGR/Horizonte/\""
   ],
   "metadata": {
    "collapsed": false,
    "pycharm": {
     "name": "#%%\n"
    }
   }
  },
  {
   "cell_type": "markdown",
   "source": [
    "### Data Loading"
   ],
   "metadata": {
    "collapsed": false
   }
  },
  {
   "cell_type": "code",
   "execution_count": 4,
   "outputs": [
    {
     "name": "stdout",
     "output_type": "stream",
     "text": [
      "15207\n",
      "15206\n"
     ]
    },
    {
     "data": {
      "text/plain": "        Point  HorizontID  Obergrenze  Untergrenze Horizontsymbol Bodenart  \\\n0         2.0         1.0         0.0         28.0          I; Ap      Sl2   \n1         2.0         2.0        28.0         54.0           I; E      Sl2   \n2         2.0         3.0        54.0         68.0         II; Bv      Sl2   \n3         2.0         4.0        68.0         96.0   III; Bv-ilCv     fSms   \n4         2.0         5.0        96.0        201.0      III; ilCv     mSfs   \n...       ...         ...         ...          ...            ...      ...   \n15201  6211.0         3.0        27.0         50.0      I; Bbh+Bs     fSms   \n15202  6211.0         4.0        50.0         70.0      I; Bbs+Bs     fSms   \n15203  6211.0         5.0        70.0        100.0      I; Go-Bbs     fSms   \n15204  6211.0         6.0       100.0        130.0          I; Go     fSms   \n15205  6211.0         7.0       130.0        155.0          I; Gr     fSms   \n\n      Bodenfarbe  Steine Karbonat Humusgehaltsklasse Durchwurzelung  \\\n0      7.5YR 3/2     3.0       C0                 h3            Wf4   \n1       10YR 3/3     3.0       C0                 h2            Wf3   \n2      7.5YR 4/3    10.0       C0                 h1            Wf3   \n3      7.5YR 6/4     1.0       C0                 h0            Wf2   \n4       10YR 7/4     1.0       C0                 h0            NaN   \n...          ...     ...      ...                ...            ...   \n15201    5YR 3/2     1.0       C0                 h2            Wf3   \n15202    5YR 4/3     1.0       C0                 h1            Wf2   \n15203  7.5YR 5/4     1.0       C0                 h1            Wf6   \n15204   2.5Y 6/4     1.0       C0                 h0            Wf4   \n15205   2.5Y 5/4     1.0       C0                 h0            Wf2   \n\n       Unnamed: 11 Bundesland  PointID  Unnamed: 14    profile  max_depth  \n0              NaN         SH      2.0          NaN  BB_0541.0      100.0  \n1              NaN         SH      3.0          NaN  BB_0600.0       90.0  \n2              NaN         SH      4.0          NaN  BB_0601.0      100.0  \n3              NaN         SH      5.0          NaN  BB_0659.0      100.0  \n4              NaN         SH      6.0          NaN  BB_0660.0      100.0  \n...            ...        ...      ...          ...        ...        ...  \n15201          NaN        NaN      NaN          NaN        NaN        NaN  \n15202          NaN        NaN      NaN          NaN        NaN        NaN  \n15203          NaN        NaN      NaN          NaN        NaN        NaN  \n15204          NaN        NaN      NaN          NaN        NaN        NaN  \n15205          NaN        NaN      NaN          NaN        NaN        NaN  \n\n[15206 rows x 17 columns]",
      "text/html": "<div>\n<style scoped>\n    .dataframe tbody tr th:only-of-type {\n        vertical-align: middle;\n    }\n\n    .dataframe tbody tr th {\n        vertical-align: top;\n    }\n\n    .dataframe thead th {\n        text-align: right;\n    }\n</style>\n<table border=\"1\" class=\"dataframe\">\n  <thead>\n    <tr style=\"text-align: right;\">\n      <th></th>\n      <th>Point</th>\n      <th>HorizontID</th>\n      <th>Obergrenze</th>\n      <th>Untergrenze</th>\n      <th>Horizontsymbol</th>\n      <th>Bodenart</th>\n      <th>Bodenfarbe</th>\n      <th>Steine</th>\n      <th>Karbonat</th>\n      <th>Humusgehaltsklasse</th>\n      <th>Durchwurzelung</th>\n      <th>Unnamed: 11</th>\n      <th>Bundesland</th>\n      <th>PointID</th>\n      <th>Unnamed: 14</th>\n      <th>profile</th>\n      <th>max_depth</th>\n    </tr>\n  </thead>\n  <tbody>\n    <tr>\n      <th>0</th>\n      <td>2.0</td>\n      <td>1.0</td>\n      <td>0.0</td>\n      <td>28.0</td>\n      <td>I; Ap</td>\n      <td>Sl2</td>\n      <td>7.5YR 3/2</td>\n      <td>3.0</td>\n      <td>C0</td>\n      <td>h3</td>\n      <td>Wf4</td>\n      <td>NaN</td>\n      <td>SH</td>\n      <td>2.0</td>\n      <td>NaN</td>\n      <td>BB_0541.0</td>\n      <td>100.0</td>\n    </tr>\n    <tr>\n      <th>1</th>\n      <td>2.0</td>\n      <td>2.0</td>\n      <td>28.0</td>\n      <td>54.0</td>\n      <td>I; E</td>\n      <td>Sl2</td>\n      <td>10YR 3/3</td>\n      <td>3.0</td>\n      <td>C0</td>\n      <td>h2</td>\n      <td>Wf3</td>\n      <td>NaN</td>\n      <td>SH</td>\n      <td>3.0</td>\n      <td>NaN</td>\n      <td>BB_0600.0</td>\n      <td>90.0</td>\n    </tr>\n    <tr>\n      <th>2</th>\n      <td>2.0</td>\n      <td>3.0</td>\n      <td>54.0</td>\n      <td>68.0</td>\n      <td>II; Bv</td>\n      <td>Sl2</td>\n      <td>7.5YR 4/3</td>\n      <td>10.0</td>\n      <td>C0</td>\n      <td>h1</td>\n      <td>Wf3</td>\n      <td>NaN</td>\n      <td>SH</td>\n      <td>4.0</td>\n      <td>NaN</td>\n      <td>BB_0601.0</td>\n      <td>100.0</td>\n    </tr>\n    <tr>\n      <th>3</th>\n      <td>2.0</td>\n      <td>4.0</td>\n      <td>68.0</td>\n      <td>96.0</td>\n      <td>III; Bv-ilCv</td>\n      <td>fSms</td>\n      <td>7.5YR 6/4</td>\n      <td>1.0</td>\n      <td>C0</td>\n      <td>h0</td>\n      <td>Wf2</td>\n      <td>NaN</td>\n      <td>SH</td>\n      <td>5.0</td>\n      <td>NaN</td>\n      <td>BB_0659.0</td>\n      <td>100.0</td>\n    </tr>\n    <tr>\n      <th>4</th>\n      <td>2.0</td>\n      <td>5.0</td>\n      <td>96.0</td>\n      <td>201.0</td>\n      <td>III; ilCv</td>\n      <td>mSfs</td>\n      <td>10YR 7/4</td>\n      <td>1.0</td>\n      <td>C0</td>\n      <td>h0</td>\n      <td>NaN</td>\n      <td>NaN</td>\n      <td>SH</td>\n      <td>6.0</td>\n      <td>NaN</td>\n      <td>BB_0660.0</td>\n      <td>100.0</td>\n    </tr>\n    <tr>\n      <th>...</th>\n      <td>...</td>\n      <td>...</td>\n      <td>...</td>\n      <td>...</td>\n      <td>...</td>\n      <td>...</td>\n      <td>...</td>\n      <td>...</td>\n      <td>...</td>\n      <td>...</td>\n      <td>...</td>\n      <td>...</td>\n      <td>...</td>\n      <td>...</td>\n      <td>...</td>\n      <td>...</td>\n      <td>...</td>\n    </tr>\n    <tr>\n      <th>15201</th>\n      <td>6211.0</td>\n      <td>3.0</td>\n      <td>27.0</td>\n      <td>50.0</td>\n      <td>I; Bbh+Bs</td>\n      <td>fSms</td>\n      <td>5YR 3/2</td>\n      <td>1.0</td>\n      <td>C0</td>\n      <td>h2</td>\n      <td>Wf3</td>\n      <td>NaN</td>\n      <td>NaN</td>\n      <td>NaN</td>\n      <td>NaN</td>\n      <td>NaN</td>\n      <td>NaN</td>\n    </tr>\n    <tr>\n      <th>15202</th>\n      <td>6211.0</td>\n      <td>4.0</td>\n      <td>50.0</td>\n      <td>70.0</td>\n      <td>I; Bbs+Bs</td>\n      <td>fSms</td>\n      <td>5YR 4/3</td>\n      <td>1.0</td>\n      <td>C0</td>\n      <td>h1</td>\n      <td>Wf2</td>\n      <td>NaN</td>\n      <td>NaN</td>\n      <td>NaN</td>\n      <td>NaN</td>\n      <td>NaN</td>\n      <td>NaN</td>\n    </tr>\n    <tr>\n      <th>15203</th>\n      <td>6211.0</td>\n      <td>5.0</td>\n      <td>70.0</td>\n      <td>100.0</td>\n      <td>I; Go-Bbs</td>\n      <td>fSms</td>\n      <td>7.5YR 5/4</td>\n      <td>1.0</td>\n      <td>C0</td>\n      <td>h1</td>\n      <td>Wf6</td>\n      <td>NaN</td>\n      <td>NaN</td>\n      <td>NaN</td>\n      <td>NaN</td>\n      <td>NaN</td>\n      <td>NaN</td>\n    </tr>\n    <tr>\n      <th>15204</th>\n      <td>6211.0</td>\n      <td>6.0</td>\n      <td>100.0</td>\n      <td>130.0</td>\n      <td>I; Go</td>\n      <td>fSms</td>\n      <td>2.5Y 6/4</td>\n      <td>1.0</td>\n      <td>C0</td>\n      <td>h0</td>\n      <td>Wf4</td>\n      <td>NaN</td>\n      <td>NaN</td>\n      <td>NaN</td>\n      <td>NaN</td>\n      <td>NaN</td>\n      <td>NaN</td>\n    </tr>\n    <tr>\n      <th>15205</th>\n      <td>6211.0</td>\n      <td>7.0</td>\n      <td>130.0</td>\n      <td>155.0</td>\n      <td>I; Gr</td>\n      <td>fSms</td>\n      <td>2.5Y 5/4</td>\n      <td>1.0</td>\n      <td>C0</td>\n      <td>h0</td>\n      <td>Wf2</td>\n      <td>NaN</td>\n      <td>NaN</td>\n      <td>NaN</td>\n      <td>NaN</td>\n      <td>NaN</td>\n      <td>NaN</td>\n    </tr>\n  </tbody>\n</table>\n<p>15206 rows × 17 columns</p>\n</div>"
     },
     "execution_count": 4,
     "metadata": {},
     "output_type": "execute_result"
    }
   ],
   "source": [
    "df = pd.read_csv(path_csv)\n",
    "print(len(df.index))\n",
    "df = df.dropna(subset=['Horizontsymbol'])\n",
    "print(len(df.index))\n",
    "df#.head()"
   ],
   "metadata": {
    "collapsed": false,
    "pycharm": {
     "name": "#%%\n"
    }
   }
  },
  {
   "cell_type": "code",
   "execution_count": 5,
   "outputs": [
    {
     "data": {
      "text/plain": "  Horiz  Anzahl im Datensatz relevanter Anteil stark vereinfacht\n0    Ap                 1762                Ap                Ap\n1    Bv                  626                Bv                Bv\n2  ilCv                  620               ilC                Cv\n3  elCv                  500               elC                Cv\n4    Ah                  455                Ah                Ah",
      "text/html": "<div>\n<style scoped>\n    .dataframe tbody tr th:only-of-type {\n        vertical-align: middle;\n    }\n\n    .dataframe tbody tr th {\n        vertical-align: top;\n    }\n\n    .dataframe thead th {\n        text-align: right;\n    }\n</style>\n<table border=\"1\" class=\"dataframe\">\n  <thead>\n    <tr style=\"text-align: right;\">\n      <th></th>\n      <th>Horiz</th>\n      <th>Anzahl im Datensatz</th>\n      <th>relevanter Anteil</th>\n      <th>stark vereinfacht</th>\n    </tr>\n  </thead>\n  <tbody>\n    <tr>\n      <th>0</th>\n      <td>Ap</td>\n      <td>1762</td>\n      <td>Ap</td>\n      <td>Ap</td>\n    </tr>\n    <tr>\n      <th>1</th>\n      <td>Bv</td>\n      <td>626</td>\n      <td>Bv</td>\n      <td>Bv</td>\n    </tr>\n    <tr>\n      <th>2</th>\n      <td>ilCv</td>\n      <td>620</td>\n      <td>ilC</td>\n      <td>Cv</td>\n    </tr>\n    <tr>\n      <th>3</th>\n      <td>elCv</td>\n      <td>500</td>\n      <td>elC</td>\n      <td>Cv</td>\n    </tr>\n    <tr>\n      <th>4</th>\n      <td>Ah</td>\n      <td>455</td>\n      <td>Ah</td>\n      <td>Ah</td>\n    </tr>\n  </tbody>\n</table>\n</div>"
     },
     "execution_count": 5,
     "metadata": {},
     "output_type": "execute_result"
    }
   ],
   "source": [
    "df_simple = pd.read_csv(path_horizons_simple)\n",
    "df_simple.rename(columns={\"relevanter Anteil = was sinntragend und detektierbar ist - es sind nicht alles gültige Symbole\": \"relevanter Anteil\"}, inplace=True)\n",
    "df_simple.head()"
   ],
   "metadata": {
    "collapsed": false,
    "pycharm": {
     "name": "#%%\n"
    }
   }
  },
  {
   "cell_type": "code",
   "execution_count": 6,
   "outputs": [
    {
     "data": {
      "text/plain": "        Point  HorizontID  Obergrenze  Untergrenze Horizontsymbol  \\\n0         2.0         1.0         0.0         28.0          I; Ap   \n1         2.0         2.0        28.0         54.0           I; E   \n2         2.0         3.0        54.0         68.0         II; Bv   \n3         2.0         4.0        68.0         96.0   III; Bv-ilCv   \n4         2.0         5.0        96.0        201.0      III; ilCv   \n...       ...         ...         ...          ...            ...   \n15201  6211.0         3.0        27.0         50.0      I; Bbh+Bs   \n15202  6211.0         4.0        50.0         70.0      I; Bbs+Bs   \n15203  6211.0         5.0        70.0        100.0      I; Go-Bbs   \n15204  6211.0         6.0       100.0        130.0          I; Go   \n15205  6211.0         7.0       130.0        155.0          I; Gr   \n\n      Horizontsymbol_relevant Bodenart Bodenfarbe  Steine Karbonat  \\\n0                          Ap      Sl2  7.5YR 3/2     3.0       C0   \n1                           E      Sl2   10YR 3/3     3.0       C0   \n2                          Bv      Sl2  7.5YR 4/3    10.0       C0   \n3                      Bv-ilC     fSms  7.5YR 6/4     1.0       C0   \n4                         ilC     mSfs   10YR 7/4     1.0       C0   \n...                       ...      ...        ...     ...      ...   \n15201                  Bbh+Bs     fSms    5YR 3/2     1.0       C0   \n15202                  Bbs+Bs     fSms    5YR 4/3     1.0       C0   \n15203                  Go-Bbs     fSms  7.5YR 5/4     1.0       C0   \n15204                      Go     fSms   2.5Y 6/4     1.0       C0   \n15205                      Gr     fSms   2.5Y 5/4     1.0       C0   \n\n      Humusgehaltsklasse Durchwurzelung  Unnamed: 11 Bundesland  PointID  \\\n0                     h3            Wf4          NaN         SH      2.0   \n1                     h2            Wf3          NaN         SH      3.0   \n2                     h1            Wf3          NaN         SH      4.0   \n3                     h0            Wf2          NaN         SH      5.0   \n4                     h0            NaN          NaN         SH      6.0   \n...                  ...            ...          ...        ...      ...   \n15201                 h2            Wf3          NaN        NaN      NaN   \n15202                 h1            Wf2          NaN        NaN      NaN   \n15203                 h1            Wf6          NaN        NaN      NaN   \n15204                 h0            Wf4          NaN        NaN      NaN   \n15205                 h0            Wf2          NaN        NaN      NaN   \n\n       Unnamed: 14    profile  max_depth  \n0              NaN  BB_0541.0      100.0  \n1              NaN  BB_0600.0       90.0  \n2              NaN  BB_0601.0      100.0  \n3              NaN  BB_0659.0      100.0  \n4              NaN  BB_0660.0      100.0  \n...            ...        ...        ...  \n15201          NaN        NaN        NaN  \n15202          NaN        NaN        NaN  \n15203          NaN        NaN        NaN  \n15204          NaN        NaN        NaN  \n15205          NaN        NaN        NaN  \n\n[15206 rows x 18 columns]",
      "text/html": "<div>\n<style scoped>\n    .dataframe tbody tr th:only-of-type {\n        vertical-align: middle;\n    }\n\n    .dataframe tbody tr th {\n        vertical-align: top;\n    }\n\n    .dataframe thead th {\n        text-align: right;\n    }\n</style>\n<table border=\"1\" class=\"dataframe\">\n  <thead>\n    <tr style=\"text-align: right;\">\n      <th></th>\n      <th>Point</th>\n      <th>HorizontID</th>\n      <th>Obergrenze</th>\n      <th>Untergrenze</th>\n      <th>Horizontsymbol</th>\n      <th>Horizontsymbol_relevant</th>\n      <th>Bodenart</th>\n      <th>Bodenfarbe</th>\n      <th>Steine</th>\n      <th>Karbonat</th>\n      <th>Humusgehaltsklasse</th>\n      <th>Durchwurzelung</th>\n      <th>Unnamed: 11</th>\n      <th>Bundesland</th>\n      <th>PointID</th>\n      <th>Unnamed: 14</th>\n      <th>profile</th>\n      <th>max_depth</th>\n    </tr>\n  </thead>\n  <tbody>\n    <tr>\n      <th>0</th>\n      <td>2.0</td>\n      <td>1.0</td>\n      <td>0.0</td>\n      <td>28.0</td>\n      <td>I; Ap</td>\n      <td>Ap</td>\n      <td>Sl2</td>\n      <td>7.5YR 3/2</td>\n      <td>3.0</td>\n      <td>C0</td>\n      <td>h3</td>\n      <td>Wf4</td>\n      <td>NaN</td>\n      <td>SH</td>\n      <td>2.0</td>\n      <td>NaN</td>\n      <td>BB_0541.0</td>\n      <td>100.0</td>\n    </tr>\n    <tr>\n      <th>1</th>\n      <td>2.0</td>\n      <td>2.0</td>\n      <td>28.0</td>\n      <td>54.0</td>\n      <td>I; E</td>\n      <td>E</td>\n      <td>Sl2</td>\n      <td>10YR 3/3</td>\n      <td>3.0</td>\n      <td>C0</td>\n      <td>h2</td>\n      <td>Wf3</td>\n      <td>NaN</td>\n      <td>SH</td>\n      <td>3.0</td>\n      <td>NaN</td>\n      <td>BB_0600.0</td>\n      <td>90.0</td>\n    </tr>\n    <tr>\n      <th>2</th>\n      <td>2.0</td>\n      <td>3.0</td>\n      <td>54.0</td>\n      <td>68.0</td>\n      <td>II; Bv</td>\n      <td>Bv</td>\n      <td>Sl2</td>\n      <td>7.5YR 4/3</td>\n      <td>10.0</td>\n      <td>C0</td>\n      <td>h1</td>\n      <td>Wf3</td>\n      <td>NaN</td>\n      <td>SH</td>\n      <td>4.0</td>\n      <td>NaN</td>\n      <td>BB_0601.0</td>\n      <td>100.0</td>\n    </tr>\n    <tr>\n      <th>3</th>\n      <td>2.0</td>\n      <td>4.0</td>\n      <td>68.0</td>\n      <td>96.0</td>\n      <td>III; Bv-ilCv</td>\n      <td>Bv-ilC</td>\n      <td>fSms</td>\n      <td>7.5YR 6/4</td>\n      <td>1.0</td>\n      <td>C0</td>\n      <td>h0</td>\n      <td>Wf2</td>\n      <td>NaN</td>\n      <td>SH</td>\n      <td>5.0</td>\n      <td>NaN</td>\n      <td>BB_0659.0</td>\n      <td>100.0</td>\n    </tr>\n    <tr>\n      <th>4</th>\n      <td>2.0</td>\n      <td>5.0</td>\n      <td>96.0</td>\n      <td>201.0</td>\n      <td>III; ilCv</td>\n      <td>ilC</td>\n      <td>mSfs</td>\n      <td>10YR 7/4</td>\n      <td>1.0</td>\n      <td>C0</td>\n      <td>h0</td>\n      <td>NaN</td>\n      <td>NaN</td>\n      <td>SH</td>\n      <td>6.0</td>\n      <td>NaN</td>\n      <td>BB_0660.0</td>\n      <td>100.0</td>\n    </tr>\n    <tr>\n      <th>...</th>\n      <td>...</td>\n      <td>...</td>\n      <td>...</td>\n      <td>...</td>\n      <td>...</td>\n      <td>...</td>\n      <td>...</td>\n      <td>...</td>\n      <td>...</td>\n      <td>...</td>\n      <td>...</td>\n      <td>...</td>\n      <td>...</td>\n      <td>...</td>\n      <td>...</td>\n      <td>...</td>\n      <td>...</td>\n      <td>...</td>\n    </tr>\n    <tr>\n      <th>15201</th>\n      <td>6211.0</td>\n      <td>3.0</td>\n      <td>27.0</td>\n      <td>50.0</td>\n      <td>I; Bbh+Bs</td>\n      <td>Bbh+Bs</td>\n      <td>fSms</td>\n      <td>5YR 3/2</td>\n      <td>1.0</td>\n      <td>C0</td>\n      <td>h2</td>\n      <td>Wf3</td>\n      <td>NaN</td>\n      <td>NaN</td>\n      <td>NaN</td>\n      <td>NaN</td>\n      <td>NaN</td>\n      <td>NaN</td>\n    </tr>\n    <tr>\n      <th>15202</th>\n      <td>6211.0</td>\n      <td>4.0</td>\n      <td>50.0</td>\n      <td>70.0</td>\n      <td>I; Bbs+Bs</td>\n      <td>Bbs+Bs</td>\n      <td>fSms</td>\n      <td>5YR 4/3</td>\n      <td>1.0</td>\n      <td>C0</td>\n      <td>h1</td>\n      <td>Wf2</td>\n      <td>NaN</td>\n      <td>NaN</td>\n      <td>NaN</td>\n      <td>NaN</td>\n      <td>NaN</td>\n      <td>NaN</td>\n    </tr>\n    <tr>\n      <th>15203</th>\n      <td>6211.0</td>\n      <td>5.0</td>\n      <td>70.0</td>\n      <td>100.0</td>\n      <td>I; Go-Bbs</td>\n      <td>Go-Bbs</td>\n      <td>fSms</td>\n      <td>7.5YR 5/4</td>\n      <td>1.0</td>\n      <td>C0</td>\n      <td>h1</td>\n      <td>Wf6</td>\n      <td>NaN</td>\n      <td>NaN</td>\n      <td>NaN</td>\n      <td>NaN</td>\n      <td>NaN</td>\n      <td>NaN</td>\n    </tr>\n    <tr>\n      <th>15204</th>\n      <td>6211.0</td>\n      <td>6.0</td>\n      <td>100.0</td>\n      <td>130.0</td>\n      <td>I; Go</td>\n      <td>Go</td>\n      <td>fSms</td>\n      <td>2.5Y 6/4</td>\n      <td>1.0</td>\n      <td>C0</td>\n      <td>h0</td>\n      <td>Wf4</td>\n      <td>NaN</td>\n      <td>NaN</td>\n      <td>NaN</td>\n      <td>NaN</td>\n      <td>NaN</td>\n      <td>NaN</td>\n    </tr>\n    <tr>\n      <th>15205</th>\n      <td>6211.0</td>\n      <td>7.0</td>\n      <td>130.0</td>\n      <td>155.0</td>\n      <td>I; Gr</td>\n      <td>Gr</td>\n      <td>fSms</td>\n      <td>2.5Y 5/4</td>\n      <td>1.0</td>\n      <td>C0</td>\n      <td>h0</td>\n      <td>Wf2</td>\n      <td>NaN</td>\n      <td>NaN</td>\n      <td>NaN</td>\n      <td>NaN</td>\n      <td>NaN</td>\n      <td>NaN</td>\n    </tr>\n  </tbody>\n</table>\n<p>15206 rows × 18 columns</p>\n</div>"
     },
     "execution_count": 6,
     "metadata": {},
     "output_type": "execute_result"
    }
   ],
   "source": [
    "# Add an extra column to the original dataset with the simplified horizon symbols\n",
    "\n",
    "# Apply the simplification function to each row of the 'Horizontsymbol' column\n",
    "col_name = \"relevanter Anteil\" # try to predict 'relevanter Anteil' first; otherwise, resort to 'stark vereinfacht'\n",
    "df['Horizontsymbol_relevant'] = df['Horizontsymbol'].apply(lambda x: bgr_data.simplify_string(x, df_simple, col_name))\n",
    "\n",
    "# Reorder the columns\n",
    "cols = df.columns.tolist()\n",
    "cols.insert(cols.index('Horizontsymbol') + 1, 'Horizontsymbol_relevant')\n",
    "cols.pop() # remove the duplicate at the end\n",
    "df = df[cols]\n",
    "df"
   ],
   "metadata": {
    "collapsed": false,
    "pycharm": {
     "name": "#%%\n"
    }
   }
  },
  {
   "cell_type": "markdown",
   "source": [
    "#### Join images and further tables"
   ],
   "metadata": {
    "collapsed": false
   }
  },
  {
   "cell_type": "code",
   "execution_count": 7,
   "outputs": [
    {
     "data": {
      "text/plain": "               file   Point\n0   BB_0896_Y_1.JPG   896.0\n1   BB_0903_Y_1.JPG   903.0\n2   BW_4930_Y_1.JPG  4930.0\n3   BW_5183_Y_1.JPG  5183.0\n4   BW_5462_Y_1.JPG  5462.0\n5   BY_3651_Y_1.JPG  3651.0\n6   BY_3934_Y_1.JPG  3934.0\n7   BY_3979_Y_1.JPG  3979.0\n8   BY_4039_Y_1.JPG  4039.0\n9   BY_4302_Y_1.JPG  4302.0\n10  BY_4360_Y_1.JPG  4360.0\n11  BY_4568_Y_1.JPG  4568.0\n12  BY_4895_Y_1.JPG  4895.0\n13  BY_4910_Y_1.JPG  4910.0\n14  BY_5439_Y_1.JPG  5439.0",
      "text/html": "<div>\n<style scoped>\n    .dataframe tbody tr th:only-of-type {\n        vertical-align: middle;\n    }\n\n    .dataframe tbody tr th {\n        vertical-align: top;\n    }\n\n    .dataframe thead th {\n        text-align: right;\n    }\n</style>\n<table border=\"1\" class=\"dataframe\">\n  <thead>\n    <tr style=\"text-align: right;\">\n      <th></th>\n      <th>file</th>\n      <th>Point</th>\n    </tr>\n  </thead>\n  <tbody>\n    <tr>\n      <th>0</th>\n      <td>BB_0896_Y_1.JPG</td>\n      <td>896.0</td>\n    </tr>\n    <tr>\n      <th>1</th>\n      <td>BB_0903_Y_1.JPG</td>\n      <td>903.0</td>\n    </tr>\n    <tr>\n      <th>2</th>\n      <td>BW_4930_Y_1.JPG</td>\n      <td>4930.0</td>\n    </tr>\n    <tr>\n      <th>3</th>\n      <td>BW_5183_Y_1.JPG</td>\n      <td>5183.0</td>\n    </tr>\n    <tr>\n      <th>4</th>\n      <td>BW_5462_Y_1.JPG</td>\n      <td>5462.0</td>\n    </tr>\n    <tr>\n      <th>5</th>\n      <td>BY_3651_Y_1.JPG</td>\n      <td>3651.0</td>\n    </tr>\n    <tr>\n      <th>6</th>\n      <td>BY_3934_Y_1.JPG</td>\n      <td>3934.0</td>\n    </tr>\n    <tr>\n      <th>7</th>\n      <td>BY_3979_Y_1.JPG</td>\n      <td>3979.0</td>\n    </tr>\n    <tr>\n      <th>8</th>\n      <td>BY_4039_Y_1.JPG</td>\n      <td>4039.0</td>\n    </tr>\n    <tr>\n      <th>9</th>\n      <td>BY_4302_Y_1.JPG</td>\n      <td>4302.0</td>\n    </tr>\n    <tr>\n      <th>10</th>\n      <td>BY_4360_Y_1.JPG</td>\n      <td>4360.0</td>\n    </tr>\n    <tr>\n      <th>11</th>\n      <td>BY_4568_Y_1.JPG</td>\n      <td>4568.0</td>\n    </tr>\n    <tr>\n      <th>12</th>\n      <td>BY_4895_Y_1.JPG</td>\n      <td>4895.0</td>\n    </tr>\n    <tr>\n      <th>13</th>\n      <td>BY_4910_Y_1.JPG</td>\n      <td>4910.0</td>\n    </tr>\n    <tr>\n      <th>14</th>\n      <td>BY_5439_Y_1.JPG</td>\n      <td>5439.0</td>\n    </tr>\n  </tbody>\n</table>\n</div>"
     },
     "execution_count": 7,
     "metadata": {},
     "output_type": "execute_result"
    }
   ],
   "source": [
    "# Read image dataset and add file path as extra column to df\n",
    "image_dataset = os.listdir(path_pictures)\n",
    "img_files = pd.DataFrame(image_dataset, columns=['file'])\n",
    "img_files['Point'] = img_files['file'].str.split(\"_\").map(lambda x: x[1]).astype(float) # for error 'list index out of range', delete @eaDir\n",
    "#img_files['HorizontID'] = img_files['file'].str.split('.').map(lambda x: x[0][-1]).astype(float) # uncomment only for segmented horizon patches\n",
    "img_files.head(15)"
   ],
   "metadata": {
    "collapsed": false,
    "pycharm": {
     "name": "#%%\n"
    }
   }
  },
  {
   "cell_type": "code",
   "execution_count": 8,
   "outputs": [
    {
     "name": "stdout",
     "output_type": "stream",
     "text": [
      "16316\n"
     ]
    },
    {
     "data": {
      "text/plain": "    Point  HorizontID  Obergrenze  Untergrenze Horizontsymbol  \\\n0     2.0         1.0         0.0         28.0          I; Ap   \n1     2.0         2.0        28.0         54.0           I; E   \n2     2.0         3.0        54.0         68.0         II; Bv   \n3     2.0         4.0        68.0         96.0   III; Bv-ilCv   \n4     2.0         5.0        96.0        201.0      III; ilCv   \n5     3.0         1.0         0.0         12.0     I; tbSw-Ah   \n6     3.0         2.0        12.0         30.0    I; tbSw-rAp   \n7     3.0         3.0        30.0         54.0    I; tbrGo-Sw   \n8     3.0         4.0        54.0        125.0     I; tbGo-Sd   \n9     3.0         5.0       125.0        160.0      II; tmGor   \n10    3.0         6.0       160.0        201.0      II; tmeGr   \n11    4.0         1.0         0.0         30.0     I; Sw-tbAp   \n12    4.0         2.0        30.0         74.0        I; tbSq   \n13    4.0         3.0        74.0        140.0       I; tbGro   \n14    4.0         4.0       140.0        200.0        I; tbGr   \n\n   Horizontsymbol_relevant Bodenart   Bodenfarbe  Steine Karbonat  \\\n0                       Ap      Sl2    7.5YR 3/2     3.0       C0   \n1                        E      Sl2     10YR 3/3     3.0       C0   \n2                       Bv      Sl2    7.5YR 4/3    10.0       C0   \n3                   Bv-ilC     fSms    7.5YR 6/4     1.0       C0   \n4                      ilC     mSfs     10YR 7/4     1.0       C0   \n5                   tSw-Ah      Ls3     10YR 4/2     0.0       C0   \n6                   tSw-Ap      Ls2     10YR 4/2     0.0       C0   \n7                   tGo-Sw      Ls4     2.5Y 5/1     0.0       C0   \n8                   tGo-Sd       Lu       5Y 5/1     0.0       C0   \n9                     tGor      Su3       5Y 5/1     0.0       C0   \n10                     tGr      Su3  GLEY1 4/5GY     0.0     C3.2   \n11                  Sw-tAp      Tu3       5Y 5/2     0.0       C0   \n12                     tSq      Tu3       5Y 5/1     0.0       C0   \n13                    tGro      Tu4       5Y 6/1     0.0       C0   \n14                     tGr      Tu4    GLEY1 5/N     0.0       C0   \n\n   Humusgehaltsklasse Durchwurzelung  Unnamed: 11 Bundesland  PointID  \\\n0                  h3            Wf4          NaN         SH      2.0   \n1                  h2            Wf3          NaN         SH      3.0   \n2                  h1            Wf3          NaN         SH      4.0   \n3                  h0            Wf2          NaN         SH      5.0   \n4                  h0            NaN          NaN         SH      6.0   \n5                  h3            Wf6          NaN         SH      7.0   \n6                  h2            Wf4          NaN         SH      8.0   \n7                  h1            Wf2          NaN         SH     10.0   \n8                  h1            NaN          NaN         SH     11.0   \n9                  h1            NaN          NaN         SH     12.0   \n10                 h1            NaN          NaN         SH     14.0   \n11                 h3            Wf4          NaN         SH     15.0   \n12                 h1            Wf3          NaN         SH     16.0   \n13                 h0            Wf1          NaN         SH     17.0   \n14                 h0            NaN          NaN         SH     18.0   \n\n    Unnamed: 14    profile  max_depth  \\\n0           NaN  BB_0541.0      100.0   \n1           NaN  BB_0600.0       90.0   \n2           NaN  BB_0601.0      100.0   \n3           NaN  BB_0659.0      100.0   \n4           NaN  BB_0660.0      100.0   \n5           NaN  BB_0661.0      100.0   \n6           NaN  BB_0662.0      100.0   \n7           NaN  BB_0663.0      100.0   \n8           NaN  BB_0718.0      100.0   \n9           NaN  BB_0720.0      110.0   \n10          NaN  BB_0721.0      100.0   \n11          NaN  BB_0722.0      100.0   \n12          NaN  BB_0723.0      100.0   \n13          NaN  BB_0725.0       90.0   \n14          NaN  BB_0781.0      100.0   \n\n                                                 file  \n0   ../data/BGR/Profilbilder_no_ruler_no_sky/SH_00...  \n1   ../data/BGR/Profilbilder_no_ruler_no_sky/SH_00...  \n2   ../data/BGR/Profilbilder_no_ruler_no_sky/SH_00...  \n3   ../data/BGR/Profilbilder_no_ruler_no_sky/SH_00...  \n4   ../data/BGR/Profilbilder_no_ruler_no_sky/SH_00...  \n5   ../data/BGR/Profilbilder_no_ruler_no_sky/SH_00...  \n6   ../data/BGR/Profilbilder_no_ruler_no_sky/SH_00...  \n7   ../data/BGR/Profilbilder_no_ruler_no_sky/SH_00...  \n8   ../data/BGR/Profilbilder_no_ruler_no_sky/SH_00...  \n9   ../data/BGR/Profilbilder_no_ruler_no_sky/SH_00...  \n10  ../data/BGR/Profilbilder_no_ruler_no_sky/SH_00...  \n11  ../data/BGR/Profilbilder_no_ruler_no_sky/SH_00...  \n12  ../data/BGR/Profilbilder_no_ruler_no_sky/SH_00...  \n13  ../data/BGR/Profilbilder_no_ruler_no_sky/SH_00...  \n14  ../data/BGR/Profilbilder_no_ruler_no_sky/SH_00...  ",
      "text/html": "<div>\n<style scoped>\n    .dataframe tbody tr th:only-of-type {\n        vertical-align: middle;\n    }\n\n    .dataframe tbody tr th {\n        vertical-align: top;\n    }\n\n    .dataframe thead th {\n        text-align: right;\n    }\n</style>\n<table border=\"1\" class=\"dataframe\">\n  <thead>\n    <tr style=\"text-align: right;\">\n      <th></th>\n      <th>Point</th>\n      <th>HorizontID</th>\n      <th>Obergrenze</th>\n      <th>Untergrenze</th>\n      <th>Horizontsymbol</th>\n      <th>Horizontsymbol_relevant</th>\n      <th>Bodenart</th>\n      <th>Bodenfarbe</th>\n      <th>Steine</th>\n      <th>Karbonat</th>\n      <th>Humusgehaltsklasse</th>\n      <th>Durchwurzelung</th>\n      <th>Unnamed: 11</th>\n      <th>Bundesland</th>\n      <th>PointID</th>\n      <th>Unnamed: 14</th>\n      <th>profile</th>\n      <th>max_depth</th>\n      <th>file</th>\n    </tr>\n  </thead>\n  <tbody>\n    <tr>\n      <th>0</th>\n      <td>2.0</td>\n      <td>1.0</td>\n      <td>0.0</td>\n      <td>28.0</td>\n      <td>I; Ap</td>\n      <td>Ap</td>\n      <td>Sl2</td>\n      <td>7.5YR 3/2</td>\n      <td>3.0</td>\n      <td>C0</td>\n      <td>h3</td>\n      <td>Wf4</td>\n      <td>NaN</td>\n      <td>SH</td>\n      <td>2.0</td>\n      <td>NaN</td>\n      <td>BB_0541.0</td>\n      <td>100.0</td>\n      <td>../data/BGR/Profilbilder_no_ruler_no_sky/SH_00...</td>\n    </tr>\n    <tr>\n      <th>1</th>\n      <td>2.0</td>\n      <td>2.0</td>\n      <td>28.0</td>\n      <td>54.0</td>\n      <td>I; E</td>\n      <td>E</td>\n      <td>Sl2</td>\n      <td>10YR 3/3</td>\n      <td>3.0</td>\n      <td>C0</td>\n      <td>h2</td>\n      <td>Wf3</td>\n      <td>NaN</td>\n      <td>SH</td>\n      <td>3.0</td>\n      <td>NaN</td>\n      <td>BB_0600.0</td>\n      <td>90.0</td>\n      <td>../data/BGR/Profilbilder_no_ruler_no_sky/SH_00...</td>\n    </tr>\n    <tr>\n      <th>2</th>\n      <td>2.0</td>\n      <td>3.0</td>\n      <td>54.0</td>\n      <td>68.0</td>\n      <td>II; Bv</td>\n      <td>Bv</td>\n      <td>Sl2</td>\n      <td>7.5YR 4/3</td>\n      <td>10.0</td>\n      <td>C0</td>\n      <td>h1</td>\n      <td>Wf3</td>\n      <td>NaN</td>\n      <td>SH</td>\n      <td>4.0</td>\n      <td>NaN</td>\n      <td>BB_0601.0</td>\n      <td>100.0</td>\n      <td>../data/BGR/Profilbilder_no_ruler_no_sky/SH_00...</td>\n    </tr>\n    <tr>\n      <th>3</th>\n      <td>2.0</td>\n      <td>4.0</td>\n      <td>68.0</td>\n      <td>96.0</td>\n      <td>III; Bv-ilCv</td>\n      <td>Bv-ilC</td>\n      <td>fSms</td>\n      <td>7.5YR 6/4</td>\n      <td>1.0</td>\n      <td>C0</td>\n      <td>h0</td>\n      <td>Wf2</td>\n      <td>NaN</td>\n      <td>SH</td>\n      <td>5.0</td>\n      <td>NaN</td>\n      <td>BB_0659.0</td>\n      <td>100.0</td>\n      <td>../data/BGR/Profilbilder_no_ruler_no_sky/SH_00...</td>\n    </tr>\n    <tr>\n      <th>4</th>\n      <td>2.0</td>\n      <td>5.0</td>\n      <td>96.0</td>\n      <td>201.0</td>\n      <td>III; ilCv</td>\n      <td>ilC</td>\n      <td>mSfs</td>\n      <td>10YR 7/4</td>\n      <td>1.0</td>\n      <td>C0</td>\n      <td>h0</td>\n      <td>NaN</td>\n      <td>NaN</td>\n      <td>SH</td>\n      <td>6.0</td>\n      <td>NaN</td>\n      <td>BB_0660.0</td>\n      <td>100.0</td>\n      <td>../data/BGR/Profilbilder_no_ruler_no_sky/SH_00...</td>\n    </tr>\n    <tr>\n      <th>5</th>\n      <td>3.0</td>\n      <td>1.0</td>\n      <td>0.0</td>\n      <td>12.0</td>\n      <td>I; tbSw-Ah</td>\n      <td>tSw-Ah</td>\n      <td>Ls3</td>\n      <td>10YR 4/2</td>\n      <td>0.0</td>\n      <td>C0</td>\n      <td>h3</td>\n      <td>Wf6</td>\n      <td>NaN</td>\n      <td>SH</td>\n      <td>7.0</td>\n      <td>NaN</td>\n      <td>BB_0661.0</td>\n      <td>100.0</td>\n      <td>../data/BGR/Profilbilder_no_ruler_no_sky/SH_00...</td>\n    </tr>\n    <tr>\n      <th>6</th>\n      <td>3.0</td>\n      <td>2.0</td>\n      <td>12.0</td>\n      <td>30.0</td>\n      <td>I; tbSw-rAp</td>\n      <td>tSw-Ap</td>\n      <td>Ls2</td>\n      <td>10YR 4/2</td>\n      <td>0.0</td>\n      <td>C0</td>\n      <td>h2</td>\n      <td>Wf4</td>\n      <td>NaN</td>\n      <td>SH</td>\n      <td>8.0</td>\n      <td>NaN</td>\n      <td>BB_0662.0</td>\n      <td>100.0</td>\n      <td>../data/BGR/Profilbilder_no_ruler_no_sky/SH_00...</td>\n    </tr>\n    <tr>\n      <th>7</th>\n      <td>3.0</td>\n      <td>3.0</td>\n      <td>30.0</td>\n      <td>54.0</td>\n      <td>I; tbrGo-Sw</td>\n      <td>tGo-Sw</td>\n      <td>Ls4</td>\n      <td>2.5Y 5/1</td>\n      <td>0.0</td>\n      <td>C0</td>\n      <td>h1</td>\n      <td>Wf2</td>\n      <td>NaN</td>\n      <td>SH</td>\n      <td>10.0</td>\n      <td>NaN</td>\n      <td>BB_0663.0</td>\n      <td>100.0</td>\n      <td>../data/BGR/Profilbilder_no_ruler_no_sky/SH_00...</td>\n    </tr>\n    <tr>\n      <th>8</th>\n      <td>3.0</td>\n      <td>4.0</td>\n      <td>54.0</td>\n      <td>125.0</td>\n      <td>I; tbGo-Sd</td>\n      <td>tGo-Sd</td>\n      <td>Lu</td>\n      <td>5Y 5/1</td>\n      <td>0.0</td>\n      <td>C0</td>\n      <td>h1</td>\n      <td>NaN</td>\n      <td>NaN</td>\n      <td>SH</td>\n      <td>11.0</td>\n      <td>NaN</td>\n      <td>BB_0718.0</td>\n      <td>100.0</td>\n      <td>../data/BGR/Profilbilder_no_ruler_no_sky/SH_00...</td>\n    </tr>\n    <tr>\n      <th>9</th>\n      <td>3.0</td>\n      <td>5.0</td>\n      <td>125.0</td>\n      <td>160.0</td>\n      <td>II; tmGor</td>\n      <td>tGor</td>\n      <td>Su3</td>\n      <td>5Y 5/1</td>\n      <td>0.0</td>\n      <td>C0</td>\n      <td>h1</td>\n      <td>NaN</td>\n      <td>NaN</td>\n      <td>SH</td>\n      <td>12.0</td>\n      <td>NaN</td>\n      <td>BB_0720.0</td>\n      <td>110.0</td>\n      <td>../data/BGR/Profilbilder_no_ruler_no_sky/SH_00...</td>\n    </tr>\n    <tr>\n      <th>10</th>\n      <td>3.0</td>\n      <td>6.0</td>\n      <td>160.0</td>\n      <td>201.0</td>\n      <td>II; tmeGr</td>\n      <td>tGr</td>\n      <td>Su3</td>\n      <td>GLEY1 4/5GY</td>\n      <td>0.0</td>\n      <td>C3.2</td>\n      <td>h1</td>\n      <td>NaN</td>\n      <td>NaN</td>\n      <td>SH</td>\n      <td>14.0</td>\n      <td>NaN</td>\n      <td>BB_0721.0</td>\n      <td>100.0</td>\n      <td>../data/BGR/Profilbilder_no_ruler_no_sky/SH_00...</td>\n    </tr>\n    <tr>\n      <th>11</th>\n      <td>4.0</td>\n      <td>1.0</td>\n      <td>0.0</td>\n      <td>30.0</td>\n      <td>I; Sw-tbAp</td>\n      <td>Sw-tAp</td>\n      <td>Tu3</td>\n      <td>5Y 5/2</td>\n      <td>0.0</td>\n      <td>C0</td>\n      <td>h3</td>\n      <td>Wf4</td>\n      <td>NaN</td>\n      <td>SH</td>\n      <td>15.0</td>\n      <td>NaN</td>\n      <td>BB_0722.0</td>\n      <td>100.0</td>\n      <td>../data/BGR/Profilbilder_no_ruler_no_sky/SH_00...</td>\n    </tr>\n    <tr>\n      <th>12</th>\n      <td>4.0</td>\n      <td>2.0</td>\n      <td>30.0</td>\n      <td>74.0</td>\n      <td>I; tbSq</td>\n      <td>tSq</td>\n      <td>Tu3</td>\n      <td>5Y 5/1</td>\n      <td>0.0</td>\n      <td>C0</td>\n      <td>h1</td>\n      <td>Wf3</td>\n      <td>NaN</td>\n      <td>SH</td>\n      <td>16.0</td>\n      <td>NaN</td>\n      <td>BB_0723.0</td>\n      <td>100.0</td>\n      <td>../data/BGR/Profilbilder_no_ruler_no_sky/SH_00...</td>\n    </tr>\n    <tr>\n      <th>13</th>\n      <td>4.0</td>\n      <td>3.0</td>\n      <td>74.0</td>\n      <td>140.0</td>\n      <td>I; tbGro</td>\n      <td>tGro</td>\n      <td>Tu4</td>\n      <td>5Y 6/1</td>\n      <td>0.0</td>\n      <td>C0</td>\n      <td>h0</td>\n      <td>Wf1</td>\n      <td>NaN</td>\n      <td>SH</td>\n      <td>17.0</td>\n      <td>NaN</td>\n      <td>BB_0725.0</td>\n      <td>90.0</td>\n      <td>../data/BGR/Profilbilder_no_ruler_no_sky/SH_00...</td>\n    </tr>\n    <tr>\n      <th>14</th>\n      <td>4.0</td>\n      <td>4.0</td>\n      <td>140.0</td>\n      <td>200.0</td>\n      <td>I; tbGr</td>\n      <td>tGr</td>\n      <td>Tu4</td>\n      <td>GLEY1 5/N</td>\n      <td>0.0</td>\n      <td>C0</td>\n      <td>h0</td>\n      <td>NaN</td>\n      <td>NaN</td>\n      <td>SH</td>\n      <td>18.0</td>\n      <td>NaN</td>\n      <td>BB_0781.0</td>\n      <td>100.0</td>\n      <td>../data/BGR/Profilbilder_no_ruler_no_sky/SH_00...</td>\n    </tr>\n  </tbody>\n</table>\n</div>"
     },
     "execution_count": 8,
     "metadata": {},
     "output_type": "execute_result"
    }
   ],
   "source": [
    "df = pd.merge(df, img_files, how='inner', on=['Point']) # for full images\n",
    "#df = pd.merge(df, img_files, how='inner', on=['Point', 'HorizontID']) # for patches\n",
    "df['file'] = df['file'].map(lambda x: os.path.join(path_pictures, x))\n",
    "print(len(df))\n",
    "df.head(15)"
   ],
   "metadata": {
    "collapsed": false,
    "pycharm": {
     "name": "#%%\n"
    }
   }
  },
  {
   "cell_type": "markdown",
   "source": [
    "**Note**: When merging with the image dataset, the total dataframe increases in size, because some soil pictures were taken from more than one angle. These are still not duplicates, although the table features are the same for every such image."
   ],
   "metadata": {
    "collapsed": false
   }
  },
  {
   "cell_type": "code",
   "execution_count": 9,
   "outputs": [],
   "source": [
    "# Join with annotator ids\n",
    "#df_k = pd.read_csv(path_csv_annotator_ids)\n",
    "#df_k = df_k.rename({'PointID':'Point'},axis=1)\n",
    "#df_k.head()"
   ],
   "metadata": {
    "collapsed": false,
    "pycharm": {
     "name": "#%%\n"
    }
   }
  },
  {
   "cell_type": "code",
   "execution_count": 10,
   "outputs": [],
   "source": [
    "#df = pd.merge(df, df_k, how='inner', on='Point')\n",
    "#len(df)"
   ],
   "metadata": {
    "collapsed": false,
    "pycharm": {
     "name": "#%%\n"
    }
   }
  },
  {
   "cell_type": "markdown",
   "source": [
    "**Note**: When joining with the annotator ids, the size of df decreases, since we don't have this id for every sample in the df."
   ],
   "metadata": {
    "collapsed": false
   }
  },
  {
   "cell_type": "code",
   "execution_count": 11,
   "outputs": [
    {
     "name": "stdout",
     "output_type": "stream",
     "text": [
      "3106\n"
     ]
    },
    {
     "data": {
      "text/plain": "  Point Bundesland  Probenahme_Monat  Probenahme_Jahr       xcoord  \\\n0     2         SH                11             2015  462216.1283   \n1     3         SH                 6             2016  480546.9384   \n2     4         SH                 8             2018  484922.3074   \n3     5         SH                10             2015  497355.9905   \n4     6         SH                10             2015  505020.3377   \n\n        ycoord Bodenklimaraum_Name Landnutzung BZE_Moor Hauptbodentyp  \\\n0  6079359.775       Marsch - Nord           A        0            YE   \n1  6079739.216       Marsch - Nord           G        0            MD   \n2  6080011.471       Marsch - Nord           A        0            MK   \n3  6079646.589       Marsch - Nord           G        0            RQ   \n4   6080401.37        Geest - Nord           G        0            YU   \n\n  BodenVarTypSub GrundwaStufe GrundwaStand  Moormaechtigkeit  \\\n0          YE/BB            0         >200               0.0   \n1            MDn         GWS4          135               0.0   \n2            MKn         GWS4          105               0.0   \n3     p2RQ/GG-PP         GWS4          180               0.0   \n4        aGGe-YU         GWS4          140               0.0   \n\n   Torfmaechtigkeit Neigung Exposition Woelbung Reliefformtyp LageImRelief  \\\n0               0.0      N0        NaN       GG             V            Z   \n1               0.0      N0        NaN       GG           TSF            Z   \n2               0.0      N1         NE       GG            TH            Z   \n3               0.0    N0.2         SS       GG           KSF            K   \n4               0.0      N0        NaN       GG           TSF            Z   \n\n   KV_0_30  KV_30_100  \n0    81.89      54.19  \n1    71.62      59.74  \n2    65.60     120.40  \n3    88.82     220.87  \n4    62.97      84.35  ",
      "text/html": "<div>\n<style scoped>\n    .dataframe tbody tr th:only-of-type {\n        vertical-align: middle;\n    }\n\n    .dataframe tbody tr th {\n        vertical-align: top;\n    }\n\n    .dataframe thead th {\n        text-align: right;\n    }\n</style>\n<table border=\"1\" class=\"dataframe\">\n  <thead>\n    <tr style=\"text-align: right;\">\n      <th></th>\n      <th>Point</th>\n      <th>Bundesland</th>\n      <th>Probenahme_Monat</th>\n      <th>Probenahme_Jahr</th>\n      <th>xcoord</th>\n      <th>ycoord</th>\n      <th>Bodenklimaraum_Name</th>\n      <th>Landnutzung</th>\n      <th>BZE_Moor</th>\n      <th>Hauptbodentyp</th>\n      <th>BodenVarTypSub</th>\n      <th>GrundwaStufe</th>\n      <th>GrundwaStand</th>\n      <th>Moormaechtigkeit</th>\n      <th>Torfmaechtigkeit</th>\n      <th>Neigung</th>\n      <th>Exposition</th>\n      <th>Woelbung</th>\n      <th>Reliefformtyp</th>\n      <th>LageImRelief</th>\n      <th>KV_0_30</th>\n      <th>KV_30_100</th>\n    </tr>\n  </thead>\n  <tbody>\n    <tr>\n      <th>0</th>\n      <td>2</td>\n      <td>SH</td>\n      <td>11</td>\n      <td>2015</td>\n      <td>462216.1283</td>\n      <td>6079359.775</td>\n      <td>Marsch - Nord</td>\n      <td>A</td>\n      <td>0</td>\n      <td>YE</td>\n      <td>YE/BB</td>\n      <td>0</td>\n      <td>&gt;200</td>\n      <td>0.0</td>\n      <td>0.0</td>\n      <td>N0</td>\n      <td>NaN</td>\n      <td>GG</td>\n      <td>V</td>\n      <td>Z</td>\n      <td>81.89</td>\n      <td>54.19</td>\n    </tr>\n    <tr>\n      <th>1</th>\n      <td>3</td>\n      <td>SH</td>\n      <td>6</td>\n      <td>2016</td>\n      <td>480546.9384</td>\n      <td>6079739.216</td>\n      <td>Marsch - Nord</td>\n      <td>G</td>\n      <td>0</td>\n      <td>MD</td>\n      <td>MDn</td>\n      <td>GWS4</td>\n      <td>135</td>\n      <td>0.0</td>\n      <td>0.0</td>\n      <td>N0</td>\n      <td>NaN</td>\n      <td>GG</td>\n      <td>TSF</td>\n      <td>Z</td>\n      <td>71.62</td>\n      <td>59.74</td>\n    </tr>\n    <tr>\n      <th>2</th>\n      <td>4</td>\n      <td>SH</td>\n      <td>8</td>\n      <td>2018</td>\n      <td>484922.3074</td>\n      <td>6080011.471</td>\n      <td>Marsch - Nord</td>\n      <td>A</td>\n      <td>0</td>\n      <td>MK</td>\n      <td>MKn</td>\n      <td>GWS4</td>\n      <td>105</td>\n      <td>0.0</td>\n      <td>0.0</td>\n      <td>N1</td>\n      <td>NE</td>\n      <td>GG</td>\n      <td>TH</td>\n      <td>Z</td>\n      <td>65.60</td>\n      <td>120.40</td>\n    </tr>\n    <tr>\n      <th>3</th>\n      <td>5</td>\n      <td>SH</td>\n      <td>10</td>\n      <td>2015</td>\n      <td>497355.9905</td>\n      <td>6079646.589</td>\n      <td>Marsch - Nord</td>\n      <td>G</td>\n      <td>0</td>\n      <td>RQ</td>\n      <td>p2RQ/GG-PP</td>\n      <td>GWS4</td>\n      <td>180</td>\n      <td>0.0</td>\n      <td>0.0</td>\n      <td>N0.2</td>\n      <td>SS</td>\n      <td>GG</td>\n      <td>KSF</td>\n      <td>K</td>\n      <td>88.82</td>\n      <td>220.87</td>\n    </tr>\n    <tr>\n      <th>4</th>\n      <td>6</td>\n      <td>SH</td>\n      <td>10</td>\n      <td>2015</td>\n      <td>505020.3377</td>\n      <td>6080401.37</td>\n      <td>Geest - Nord</td>\n      <td>G</td>\n      <td>0</td>\n      <td>YU</td>\n      <td>aGGe-YU</td>\n      <td>GWS4</td>\n      <td>140</td>\n      <td>0.0</td>\n      <td>0.0</td>\n      <td>N0</td>\n      <td>NaN</td>\n      <td>GG</td>\n      <td>TSF</td>\n      <td>Z</td>\n      <td>62.97</td>\n      <td>84.35</td>\n    </tr>\n  </tbody>\n</table>\n</div>"
     },
     "execution_count": 11,
     "metadata": {},
     "output_type": "execute_result"
    }
   ],
   "source": [
    "# Join with table containing geographical infos\n",
    "df_loc = pd.read_csv(path_csv_locations, encoding='unicode_escape')\n",
    "df_loc = df_loc.rename({'PointID':'Point'},axis=1)\n",
    "print(len(df_loc))\n",
    "df_loc.head()"
   ],
   "metadata": {
    "collapsed": false,
    "pycharm": {
     "name": "#%%\n"
    }
   }
  },
  {
   "cell_type": "code",
   "execution_count": 12,
   "outputs": [
    {
     "data": {
      "text/plain": "16316"
     },
     "execution_count": 12,
     "metadata": {},
     "output_type": "execute_result"
    }
   ],
   "source": [
    "# There are some string artifacts when reading the Standort dataframe. Set them to NaN and remove the rows\n",
    "df_loc['Point'] = pd.to_numeric(df_loc['Point'], errors='coerce')\n",
    "df_loc = df_loc.dropna(subset=['Point'])\n",
    "df = pd.merge(df, df_loc, how='inner', on='Point')\n",
    "len(df)"
   ],
   "metadata": {
    "collapsed": false,
    "pycharm": {
     "name": "#%%\n"
    }
   }
  },
  {
   "cell_type": "markdown",
   "source": [
    "**Note** Size of df stays the same after merging with df_loc (Points in df_loc are all contained in Points df)."
   ],
   "metadata": {
    "collapsed": false
   }
  },
  {
   "cell_type": "code",
   "execution_count": 13,
   "outputs": [
    {
     "data": {
      "text/plain": "        Point  Obergrenze  Untergrenze Horizontsymbol_relevant Bodenart  \\\n0         2.0         0.0         28.0                      Ap      Sl2   \n1         2.0        28.0         54.0                       E      Sl2   \n2         2.0        54.0         68.0                      Bv      Sl2   \n3         2.0        68.0         96.0                  Bv-ilC     fSms   \n4         2.0        96.0        201.0                     ilC     mSfs   \n...       ...         ...          ...                     ...      ...   \n16311  6211.0        70.0        100.0                  Go-Bbs     fSms   \n16312  6211.0       100.0        130.0                      Go     fSms   \n16313  6211.0       100.0        130.0                      Go     fSms   \n16314  6211.0       130.0        155.0                      Gr     fSms   \n16315  6211.0       130.0        155.0                      Gr     fSms   \n\n      Bodenfarbe  Steine Karbonat Humusgehaltsklasse Durchwurzelung  \\\n0      7.5YR 3/2     3.0       C0                 h3            Wf4   \n1       10YR 3/3     3.0       C0                 h2            Wf3   \n2      7.5YR 4/3    10.0       C0                 h1            Wf3   \n3      7.5YR 6/4     1.0       C0                 h0            Wf2   \n4       10YR 7/4     1.0       C0                 h0            NaN   \n...          ...     ...      ...                ...            ...   \n16311  7.5YR 5/4     1.0       C0                 h1            Wf6   \n16312   2.5Y 6/4     1.0       C0                 h0            Wf4   \n16313   2.5Y 6/4     1.0       C0                 h0            Wf4   \n16314   2.5Y 5/4     1.0       C0                 h0            Wf2   \n16315   2.5Y 5/4     1.0       C0                 h0            Wf2   \n\n                                                    file  Probenahme_Monat  \\\n0      ../data/BGR/Profilbilder_no_ruler_no_sky/SH_00...                11   \n1      ../data/BGR/Profilbilder_no_ruler_no_sky/SH_00...                11   \n2      ../data/BGR/Profilbilder_no_ruler_no_sky/SH_00...                11   \n3      ../data/BGR/Profilbilder_no_ruler_no_sky/SH_00...                11   \n4      ../data/BGR/Profilbilder_no_ruler_no_sky/SH_00...                11   \n...                                                  ...               ...   \n16311  ../data/BGR/Profilbilder_no_ruler_no_sky/NI_62...                 6   \n16312  ../data/BGR/Profilbilder_no_ruler_no_sky/NI_62...                 6   \n16313  ../data/BGR/Profilbilder_no_ruler_no_sky/NI_62...                 6   \n16314  ../data/BGR/Profilbilder_no_ruler_no_sky/NI_62...                 6   \n16315  ../data/BGR/Profilbilder_no_ruler_no_sky/NI_62...                 6   \n\n       Probenahme_Jahr       xcoord       ycoord  \\\n0                 2015  462216.1283  6079359.775   \n1                 2015  462216.1283  6079359.775   \n2                 2015  462216.1283  6079359.775   \n3                 2015  462216.1283  6079359.775   \n4                 2015  462216.1283  6079359.775   \n...                ...          ...          ...   \n16311             2012  522076.9633  5930456.114   \n16312             2012  522076.9633  5930456.114   \n16313             2012  522076.9633  5930456.114   \n16314             2012  522076.9633  5930456.114   \n16315             2012  522076.9633  5930456.114   \n\n                      Bodenklimaraum_Name Landnutzung BZE_Moor Hauptbodentyp  \\\n0                           Marsch - Nord           A        0            YE   \n1                           Marsch - Nord           A        0            YE   \n2                           Marsch - Nord           A        0            YE   \n3                           Marsch - Nord           A        0            YE   \n4                           Marsch - Nord           A        0            YE   \n...                                   ...         ...      ...           ...   \n16311  Elbe-Weser-Dreieck / sandige Böden           G        0            PP   \n16312  Elbe-Weser-Dreieck / sandige Böden           G        0            PP   \n16313  Elbe-Weser-Dreieck / sandige Böden           G        0            PP   \n16314  Elbe-Weser-Dreieck / sandige Böden           G        0            PP   \n16315  Elbe-Weser-Dreieck / sandige Böden           G        0            PP   \n\n      BodenVarTypSub GrundwaStufe  GrundwaStand  Moormaechtigkeit  \\\n0              YE/BB            0         200.0               0.0   \n1              YE/BB            0         200.0               0.0   \n2              YE/BB            0         200.0               0.0   \n3              YE/BB            0         200.0               0.0   \n4              YE/BB            0         200.0               0.0   \n...              ...          ...           ...               ...   \n16311          GG-PP         GWS4         110.0               0.0   \n16312          GG-PP         GWS4         110.0               0.0   \n16313          GG-PP         GWS4         110.0               0.0   \n16314          GG-PP         GWS4         110.0               0.0   \n16315          GG-PP         GWS4         110.0               0.0   \n\n       Torfmaechtigkeit Neigung Exposition Woelbung Reliefformtyp  \\\n0                   0.0      N0        NaN       GG             V   \n1                   0.0      N0        NaN       GG             V   \n2                   0.0      N0        NaN       GG             V   \n3                   0.0      N0        NaN       GG             V   \n4                   0.0      N0        NaN       GG             V   \n...                 ...     ...        ...      ...           ...   \n16311               0.0      N0        NaN       GG           TSF   \n16312               0.0      N0        NaN       GG           TSF   \n16313               0.0      N0        NaN       GG           TSF   \n16314               0.0      N0        NaN       GG           TSF   \n16315               0.0      N0        NaN       GG           TSF   \n\n      LageImRelief  KV_0_30  KV_30_100  \n0                Z    81.89      54.19  \n1                Z    81.89      54.19  \n2                Z    81.89      54.19  \n3                Z    81.89      54.19  \n4                Z    81.89      54.19  \n...            ...      ...        ...  \n16311            T   117.59      87.72  \n16312            T   117.59      87.72  \n16313            T   117.59      87.72  \n16314            T   117.59      87.72  \n16315            T   117.59      87.72  \n\n[16316 rows x 31 columns]",
      "text/html": "<div>\n<style scoped>\n    .dataframe tbody tr th:only-of-type {\n        vertical-align: middle;\n    }\n\n    .dataframe tbody tr th {\n        vertical-align: top;\n    }\n\n    .dataframe thead th {\n        text-align: right;\n    }\n</style>\n<table border=\"1\" class=\"dataframe\">\n  <thead>\n    <tr style=\"text-align: right;\">\n      <th></th>\n      <th>Point</th>\n      <th>Obergrenze</th>\n      <th>Untergrenze</th>\n      <th>Horizontsymbol_relevant</th>\n      <th>Bodenart</th>\n      <th>Bodenfarbe</th>\n      <th>Steine</th>\n      <th>Karbonat</th>\n      <th>Humusgehaltsklasse</th>\n      <th>Durchwurzelung</th>\n      <th>file</th>\n      <th>Probenahme_Monat</th>\n      <th>Probenahme_Jahr</th>\n      <th>xcoord</th>\n      <th>ycoord</th>\n      <th>Bodenklimaraum_Name</th>\n      <th>Landnutzung</th>\n      <th>BZE_Moor</th>\n      <th>Hauptbodentyp</th>\n      <th>BodenVarTypSub</th>\n      <th>GrundwaStufe</th>\n      <th>GrundwaStand</th>\n      <th>Moormaechtigkeit</th>\n      <th>Torfmaechtigkeit</th>\n      <th>Neigung</th>\n      <th>Exposition</th>\n      <th>Woelbung</th>\n      <th>Reliefformtyp</th>\n      <th>LageImRelief</th>\n      <th>KV_0_30</th>\n      <th>KV_30_100</th>\n    </tr>\n  </thead>\n  <tbody>\n    <tr>\n      <th>0</th>\n      <td>2.0</td>\n      <td>0.0</td>\n      <td>28.0</td>\n      <td>Ap</td>\n      <td>Sl2</td>\n      <td>7.5YR 3/2</td>\n      <td>3.0</td>\n      <td>C0</td>\n      <td>h3</td>\n      <td>Wf4</td>\n      <td>../data/BGR/Profilbilder_no_ruler_no_sky/SH_00...</td>\n      <td>11</td>\n      <td>2015</td>\n      <td>462216.1283</td>\n      <td>6079359.775</td>\n      <td>Marsch - Nord</td>\n      <td>A</td>\n      <td>0</td>\n      <td>YE</td>\n      <td>YE/BB</td>\n      <td>0</td>\n      <td>200.0</td>\n      <td>0.0</td>\n      <td>0.0</td>\n      <td>N0</td>\n      <td>NaN</td>\n      <td>GG</td>\n      <td>V</td>\n      <td>Z</td>\n      <td>81.89</td>\n      <td>54.19</td>\n    </tr>\n    <tr>\n      <th>1</th>\n      <td>2.0</td>\n      <td>28.0</td>\n      <td>54.0</td>\n      <td>E</td>\n      <td>Sl2</td>\n      <td>10YR 3/3</td>\n      <td>3.0</td>\n      <td>C0</td>\n      <td>h2</td>\n      <td>Wf3</td>\n      <td>../data/BGR/Profilbilder_no_ruler_no_sky/SH_00...</td>\n      <td>11</td>\n      <td>2015</td>\n      <td>462216.1283</td>\n      <td>6079359.775</td>\n      <td>Marsch - Nord</td>\n      <td>A</td>\n      <td>0</td>\n      <td>YE</td>\n      <td>YE/BB</td>\n      <td>0</td>\n      <td>200.0</td>\n      <td>0.0</td>\n      <td>0.0</td>\n      <td>N0</td>\n      <td>NaN</td>\n      <td>GG</td>\n      <td>V</td>\n      <td>Z</td>\n      <td>81.89</td>\n      <td>54.19</td>\n    </tr>\n    <tr>\n      <th>2</th>\n      <td>2.0</td>\n      <td>54.0</td>\n      <td>68.0</td>\n      <td>Bv</td>\n      <td>Sl2</td>\n      <td>7.5YR 4/3</td>\n      <td>10.0</td>\n      <td>C0</td>\n      <td>h1</td>\n      <td>Wf3</td>\n      <td>../data/BGR/Profilbilder_no_ruler_no_sky/SH_00...</td>\n      <td>11</td>\n      <td>2015</td>\n      <td>462216.1283</td>\n      <td>6079359.775</td>\n      <td>Marsch - Nord</td>\n      <td>A</td>\n      <td>0</td>\n      <td>YE</td>\n      <td>YE/BB</td>\n      <td>0</td>\n      <td>200.0</td>\n      <td>0.0</td>\n      <td>0.0</td>\n      <td>N0</td>\n      <td>NaN</td>\n      <td>GG</td>\n      <td>V</td>\n      <td>Z</td>\n      <td>81.89</td>\n      <td>54.19</td>\n    </tr>\n    <tr>\n      <th>3</th>\n      <td>2.0</td>\n      <td>68.0</td>\n      <td>96.0</td>\n      <td>Bv-ilC</td>\n      <td>fSms</td>\n      <td>7.5YR 6/4</td>\n      <td>1.0</td>\n      <td>C0</td>\n      <td>h0</td>\n      <td>Wf2</td>\n      <td>../data/BGR/Profilbilder_no_ruler_no_sky/SH_00...</td>\n      <td>11</td>\n      <td>2015</td>\n      <td>462216.1283</td>\n      <td>6079359.775</td>\n      <td>Marsch - Nord</td>\n      <td>A</td>\n      <td>0</td>\n      <td>YE</td>\n      <td>YE/BB</td>\n      <td>0</td>\n      <td>200.0</td>\n      <td>0.0</td>\n      <td>0.0</td>\n      <td>N0</td>\n      <td>NaN</td>\n      <td>GG</td>\n      <td>V</td>\n      <td>Z</td>\n      <td>81.89</td>\n      <td>54.19</td>\n    </tr>\n    <tr>\n      <th>4</th>\n      <td>2.0</td>\n      <td>96.0</td>\n      <td>201.0</td>\n      <td>ilC</td>\n      <td>mSfs</td>\n      <td>10YR 7/4</td>\n      <td>1.0</td>\n      <td>C0</td>\n      <td>h0</td>\n      <td>NaN</td>\n      <td>../data/BGR/Profilbilder_no_ruler_no_sky/SH_00...</td>\n      <td>11</td>\n      <td>2015</td>\n      <td>462216.1283</td>\n      <td>6079359.775</td>\n      <td>Marsch - Nord</td>\n      <td>A</td>\n      <td>0</td>\n      <td>YE</td>\n      <td>YE/BB</td>\n      <td>0</td>\n      <td>200.0</td>\n      <td>0.0</td>\n      <td>0.0</td>\n      <td>N0</td>\n      <td>NaN</td>\n      <td>GG</td>\n      <td>V</td>\n      <td>Z</td>\n      <td>81.89</td>\n      <td>54.19</td>\n    </tr>\n    <tr>\n      <th>...</th>\n      <td>...</td>\n      <td>...</td>\n      <td>...</td>\n      <td>...</td>\n      <td>...</td>\n      <td>...</td>\n      <td>...</td>\n      <td>...</td>\n      <td>...</td>\n      <td>...</td>\n      <td>...</td>\n      <td>...</td>\n      <td>...</td>\n      <td>...</td>\n      <td>...</td>\n      <td>...</td>\n      <td>...</td>\n      <td>...</td>\n      <td>...</td>\n      <td>...</td>\n      <td>...</td>\n      <td>...</td>\n      <td>...</td>\n      <td>...</td>\n      <td>...</td>\n      <td>...</td>\n      <td>...</td>\n      <td>...</td>\n      <td>...</td>\n      <td>...</td>\n      <td>...</td>\n    </tr>\n    <tr>\n      <th>16311</th>\n      <td>6211.0</td>\n      <td>70.0</td>\n      <td>100.0</td>\n      <td>Go-Bbs</td>\n      <td>fSms</td>\n      <td>7.5YR 5/4</td>\n      <td>1.0</td>\n      <td>C0</td>\n      <td>h1</td>\n      <td>Wf6</td>\n      <td>../data/BGR/Profilbilder_no_ruler_no_sky/NI_62...</td>\n      <td>6</td>\n      <td>2012</td>\n      <td>522076.9633</td>\n      <td>5930456.114</td>\n      <td>Elbe-Weser-Dreieck / sandige Böden</td>\n      <td>G</td>\n      <td>0</td>\n      <td>PP</td>\n      <td>GG-PP</td>\n      <td>GWS4</td>\n      <td>110.0</td>\n      <td>0.0</td>\n      <td>0.0</td>\n      <td>N0</td>\n      <td>NaN</td>\n      <td>GG</td>\n      <td>TSF</td>\n      <td>T</td>\n      <td>117.59</td>\n      <td>87.72</td>\n    </tr>\n    <tr>\n      <th>16312</th>\n      <td>6211.0</td>\n      <td>100.0</td>\n      <td>130.0</td>\n      <td>Go</td>\n      <td>fSms</td>\n      <td>2.5Y 6/4</td>\n      <td>1.0</td>\n      <td>C0</td>\n      <td>h0</td>\n      <td>Wf4</td>\n      <td>../data/BGR/Profilbilder_no_ruler_no_sky/NI_62...</td>\n      <td>6</td>\n      <td>2012</td>\n      <td>522076.9633</td>\n      <td>5930456.114</td>\n      <td>Elbe-Weser-Dreieck / sandige Böden</td>\n      <td>G</td>\n      <td>0</td>\n      <td>PP</td>\n      <td>GG-PP</td>\n      <td>GWS4</td>\n      <td>110.0</td>\n      <td>0.0</td>\n      <td>0.0</td>\n      <td>N0</td>\n      <td>NaN</td>\n      <td>GG</td>\n      <td>TSF</td>\n      <td>T</td>\n      <td>117.59</td>\n      <td>87.72</td>\n    </tr>\n    <tr>\n      <th>16313</th>\n      <td>6211.0</td>\n      <td>100.0</td>\n      <td>130.0</td>\n      <td>Go</td>\n      <td>fSms</td>\n      <td>2.5Y 6/4</td>\n      <td>1.0</td>\n      <td>C0</td>\n      <td>h0</td>\n      <td>Wf4</td>\n      <td>../data/BGR/Profilbilder_no_ruler_no_sky/NI_62...</td>\n      <td>6</td>\n      <td>2012</td>\n      <td>522076.9633</td>\n      <td>5930456.114</td>\n      <td>Elbe-Weser-Dreieck / sandige Böden</td>\n      <td>G</td>\n      <td>0</td>\n      <td>PP</td>\n      <td>GG-PP</td>\n      <td>GWS4</td>\n      <td>110.0</td>\n      <td>0.0</td>\n      <td>0.0</td>\n      <td>N0</td>\n      <td>NaN</td>\n      <td>GG</td>\n      <td>TSF</td>\n      <td>T</td>\n      <td>117.59</td>\n      <td>87.72</td>\n    </tr>\n    <tr>\n      <th>16314</th>\n      <td>6211.0</td>\n      <td>130.0</td>\n      <td>155.0</td>\n      <td>Gr</td>\n      <td>fSms</td>\n      <td>2.5Y 5/4</td>\n      <td>1.0</td>\n      <td>C0</td>\n      <td>h0</td>\n      <td>Wf2</td>\n      <td>../data/BGR/Profilbilder_no_ruler_no_sky/NI_62...</td>\n      <td>6</td>\n      <td>2012</td>\n      <td>522076.9633</td>\n      <td>5930456.114</td>\n      <td>Elbe-Weser-Dreieck / sandige Böden</td>\n      <td>G</td>\n      <td>0</td>\n      <td>PP</td>\n      <td>GG-PP</td>\n      <td>GWS4</td>\n      <td>110.0</td>\n      <td>0.0</td>\n      <td>0.0</td>\n      <td>N0</td>\n      <td>NaN</td>\n      <td>GG</td>\n      <td>TSF</td>\n      <td>T</td>\n      <td>117.59</td>\n      <td>87.72</td>\n    </tr>\n    <tr>\n      <th>16315</th>\n      <td>6211.0</td>\n      <td>130.0</td>\n      <td>155.0</td>\n      <td>Gr</td>\n      <td>fSms</td>\n      <td>2.5Y 5/4</td>\n      <td>1.0</td>\n      <td>C0</td>\n      <td>h0</td>\n      <td>Wf2</td>\n      <td>../data/BGR/Profilbilder_no_ruler_no_sky/NI_62...</td>\n      <td>6</td>\n      <td>2012</td>\n      <td>522076.9633</td>\n      <td>5930456.114</td>\n      <td>Elbe-Weser-Dreieck / sandige Böden</td>\n      <td>G</td>\n      <td>0</td>\n      <td>PP</td>\n      <td>GG-PP</td>\n      <td>GWS4</td>\n      <td>110.0</td>\n      <td>0.0</td>\n      <td>0.0</td>\n      <td>N0</td>\n      <td>NaN</td>\n      <td>GG</td>\n      <td>TSF</td>\n      <td>T</td>\n      <td>117.59</td>\n      <td>87.72</td>\n    </tr>\n  </tbody>\n</table>\n<p>16316 rows × 31 columns</p>\n</div>"
     },
     "execution_count": 13,
     "metadata": {},
     "output_type": "execute_result"
    }
   ],
   "source": [
    "# Decide on which columns to keep for training\n",
    "keep_columns = ['Point', #'HorizontID',\n",
    "                'Obergrenze', 'Untergrenze',\n",
    "                #'Horizontsymbol',\n",
    "                'Horizontsymbol_relevant',\n",
    "                #'Horizont_cluster',\n",
    "                'Bodenart', 'Bodenfarbe', 'Steine', 'Karbonat', 'Humusgehaltsklasse', 'Durchwurzelung',\n",
    "                #'max_depth', # not needed for training (and also has mostly NaNs)\n",
    "                'file',\n",
    "                #'Aufnehmer', # only when merged with annotators\n",
    "                'Probenahme_Monat', 'Probenahme_Jahr', 'xcoord', 'ycoord', 'Bodenklimaraum_Name',\n",
    "                'Landnutzung', 'BZE_Moor', 'Hauptbodentyp', 'BodenVarTypSub', 'GrundwaStufe', 'GrundwaStand', 'Moormaechtigkeit',\n",
    "                'Torfmaechtigkeit', 'Neigung', 'Exposition', 'Woelbung', 'Reliefformtyp', 'LageImRelief', 'KV_0_30', 'KV_30_100']\n",
    "df = df[keep_columns]\n",
    "df['GrundwaStand'] = df['GrundwaStand'].str.replace('>','').astype(float)\n",
    "df['ycoord'] = df['ycoord'].astype(float)\n",
    "df"
   ],
   "metadata": {
    "collapsed": false,
    "pycharm": {
     "name": "#%%\n"
    }
   }
  },
  {
   "cell_type": "code",
   "execution_count": 14,
   "outputs": [
    {
     "data": {
      "text/plain": "13621"
     },
     "execution_count": 14,
     "metadata": {},
     "output_type": "execute_result"
    }
   ],
   "source": [
    "# Profile images only show horizons up to ~1 meter depth\n",
    "# Note: Filter only necessary when joining table with whole images, not horizon segments\n",
    "df = df[df['Obergrenze'] < 100]\n",
    "len(df)"
   ],
   "metadata": {
    "collapsed": false,
    "pycharm": {
     "name": "#%%\n"
    }
   }
  },
  {
   "cell_type": "markdown",
   "source": [
    "#### Imputation"
   ],
   "metadata": {
    "collapsed": false
   }
  },
  {
   "cell_type": "code",
   "execution_count": 15,
   "outputs": [
    {
     "name": "stderr",
     "output_type": "stream",
     "text": [
      "/tmp/ipykernel_986842/1919224170.py:2: SettingWithCopyWarning: \n",
      "A value is trying to be set on a copy of a slice from a DataFrame.\n",
      "Try using .loc[row_indexer,col_indexer] = value instead\n",
      "\n",
      "See the caveats in the documentation: https://pandas.pydata.org/pandas-docs/stable/user_guide/indexing.html#returning-a-view-versus-a-copy\n",
      "  df['Steine'] = df['Steine'].fillna(0.0)\n",
      "/tmp/ipykernel_986842/1919224170.py:3: SettingWithCopyWarning: \n",
      "A value is trying to be set on a copy of a slice from a DataFrame.\n",
      "Try using .loc[row_indexer,col_indexer] = value instead\n",
      "\n",
      "See the caveats in the documentation: https://pandas.pydata.org/pandas-docs/stable/user_guide/indexing.html#returning-a-view-versus-a-copy\n",
      "  df['Durchwurzelung'] = df['Durchwurzelung'].fillna('Wf0')\n",
      "/tmp/ipykernel_986842/1919224170.py:4: SettingWithCopyWarning: \n",
      "A value is trying to be set on a copy of a slice from a DataFrame.\n",
      "Try using .loc[row_indexer,col_indexer] = value instead\n",
      "\n",
      "See the caveats in the documentation: https://pandas.pydata.org/pandas-docs/stable/user_guide/indexing.html#returning-a-view-versus-a-copy\n",
      "  df['Durchwurzelung'] = df['Durchwurzelung'].str.split(',').str[0] # Some values have double labels; only keep the first one\n",
      "/tmp/ipykernel_986842/1919224170.py:5: SettingWithCopyWarning: \n",
      "A value is trying to be set on a copy of a slice from a DataFrame.\n",
      "Try using .loc[row_indexer,col_indexer] = value instead\n",
      "\n",
      "See the caveats in the documentation: https://pandas.pydata.org/pandas-docs/stable/user_guide/indexing.html#returning-a-view-versus-a-copy\n",
      "  df['Exposition'] = df['Exposition'].replace(['0', '---'], 'KE') # KE = Keine\n"
     ]
    }
   ],
   "source": [
    "# Replace some of the missing values with recommendations from geology\n",
    "df['Steine'] = df['Steine'].fillna(0.0)\n",
    "df['Durchwurzelung'] = df['Durchwurzelung'].fillna('Wf0')\n",
    "df['Durchwurzelung'] = df['Durchwurzelung'].str.split(',').str[0] # Some values have double labels; only keep the first one\n",
    "df['Exposition'] = df['Exposition'].replace(['0', '---'], 'KE') # KE = Keine\n",
    "df.loc[df['Exposition'].isna() & (df['Neigung'] == 'N0'), 'Exposition'] = 'KE' # NaN-Exposition should be 'KE', when Neigung is N0 (there will still be some other NaNs in Exposition"
   ],
   "metadata": {
    "collapsed": false,
    "pycharm": {
     "name": "#%%\n"
    }
   }
  },
  {
   "cell_type": "markdown",
   "source": [
    "#### Features and Labels Encoding"
   ],
   "metadata": {
    "collapsed": false
   }
  },
  {
   "cell_type": "code",
   "execution_count": 16,
   "outputs": [],
   "source": [
    "target = 'Horizontsymbol_relevant' #'Horizont_cluster'\n",
    "num_features   = ['xcoord','ycoord', 'Steine', 'GrundwaStand', 'Moormaechtigkeit', 'Torfmaechtigkeit', 'KV_0_30', 'KV_30_100']\n",
    "categ_features = ['Probenahme_Monat', 'Probenahme_Jahr',\n",
    "                  'Bodenart', 'Bodenfarbe', 'Karbonat', 'Humusgehaltsklasse', 'Durchwurzelung', 'Bodenklimaraum_Name',\n",
    "                  'Landnutzung', 'BZE_Moor', 'Hauptbodentyp', 'BodenVarTypSub', 'GrundwaStufe', 'Neigung',\n",
    "                  'Exposition', 'Woelbung', 'Reliefformtyp', 'LageImRelief']\n",
    "feature_columns = num_features + categ_features"
   ],
   "metadata": {
    "collapsed": false,
    "pycharm": {
     "name": "#%%\n"
    }
   }
  },
  {
   "cell_type": "code",
   "execution_count": 17,
   "outputs": [
    {
     "data": {
      "text/plain": "Horizontsymbol_relevant\nAp         2399\nAh          742\nBv          546\nSd          483\nGo          403\n           ... \nBsh-Bv        1\nilC+Ap        1\nM-Gkso        1\naAh°Gor       1\naAcp2         1\nName: count, Length: 1568, dtype: int64"
     },
     "execution_count": 17,
     "metadata": {},
     "output_type": "execute_result"
    }
   ],
   "source": [
    "counts = df[target].value_counts()\n",
    "counts"
   ],
   "metadata": {
    "collapsed": false,
    "pycharm": {
     "name": "#%%\n"
    }
   }
  },
  {
   "cell_type": "code",
   "execution_count": 18,
   "outputs": [
    {
     "name": "stdout",
     "output_type": "stream",
     "text": [
      "(87, 61)\n"
     ]
    },
    {
     "data": {
      "text/plain": "{'ind2label': ['ilC',\n  'Ael',\n  'Sd',\n  'C.',\n  'imCv',\n  'E.',\n  'emC',\n  'cC',\n  'clC',\n  'ilCbtv',\n  'aelC',\n  'Cv',\n  'Bsh',\n  'Axh',\n  'Bhv',\n  'P.',\n  'Bvt',\n  'Acxh',\n  'Gro',\n  'iC',\n  'tGro',\n  'Go',\n  'Ap',\n  'Gw',\n  'Aep',\n  'cmC',\n  'imC',\n  'Ssw',\n  'Mc',\n  'Hw',\n  'Acp',\n  'mCv',\n  'Bv',\n  'Sswd',\n  'elC',\n  'lC',\n  'Aeh',\n  'Bhs',\n  'Cj',\n  'tGr',\n  'Axp',\n  'bE',\n  'Gr',\n  'Gkso',\n  'Gor',\n  'M.',\n  'Bsv',\n  'Sw',\n  'Bt',\n  'Bcv',\n  'Btv',\n  'Hr',\n  'Hv',\n  'elCc',\n  'Bs',\n  'R.',\n  'tGo',\n  'Bh',\n  'Ah',\n  'Cbtv',\n  'Al',\n  'Sw-Bv',\n  'Bv-ilC',\n  'Bt-Sd',\n  'Bv-Cv',\n  'Sd-ilC',\n  'Al-Sw',\n  'Al-Bv',\n  'M-Go',\n  'Ael-Bt',\n  'Ah-Bv',\n  'Sw-M',\n  'Sw-Ap',\n  'Bv-Ael',\n  'Go-ilC',\n  'elC-P',\n  'Sd-Bv',\n  'Sw-ilC',\n  'Al-Bt',\n  'Sw-Ah',\n  'P-Sd',\n  'Sd-lC',\n  'Sw-Go',\n  'Sw-Bt',\n  'Sd-Btv',\n  'Bv-elC',\n  'M-Gro'],\n 'label2ind': {'ilC': 0,\n  'Ael': 1,\n  'Sd': 2,\n  'C.': 3,\n  'imCv': 4,\n  'E.': 5,\n  'emC': 6,\n  'cC': 7,\n  'clC': 8,\n  'ilCbtv': 9,\n  'aelC': 10,\n  'Cv': 11,\n  'Bsh': 12,\n  'Axh': 13,\n  'Bhv': 14,\n  'P.': 15,\n  'Bvt': 16,\n  'Acxh': 17,\n  'Gro': 18,\n  'iC': 19,\n  'tGro': 20,\n  'Go': 21,\n  'Ap': 22,\n  'Gw': 23,\n  'Aep': 24,\n  'cmC': 25,\n  'imC': 26,\n  'Ssw': 27,\n  'Mc': 28,\n  'Hw': 29,\n  'Acp': 30,\n  'mCv': 31,\n  'Bv': 32,\n  'Sswd': 33,\n  'elC': 34,\n  'lC': 35,\n  'Aeh': 36,\n  'Bhs': 37,\n  'Cj': 38,\n  'tGr': 39,\n  'Axp': 40,\n  'bE': 41,\n  'Gr': 42,\n  'Gkso': 43,\n  'Gor': 44,\n  'M.': 45,\n  'Bsv': 46,\n  'Sw': 47,\n  'Bt': 48,\n  'Bcv': 49,\n  'Btv': 50,\n  'Hr': 51,\n  'Hv': 52,\n  'elCc': 53,\n  'Bs': 54,\n  'R.': 55,\n  'tGo': 56,\n  'Bh': 57,\n  'Ah': 58,\n  'Cbtv': 59,\n  'Al': 60,\n  'Sw-Bv': 61,\n  'Bv-ilC': 62,\n  'Bt-Sd': 63,\n  'Bv-Cv': 64,\n  'Sd-ilC': 65,\n  'Al-Sw': 66,\n  'Al-Bv': 67,\n  'M-Go': 68,\n  'Ael-Bt': 69,\n  'Ah-Bv': 70,\n  'Sw-M': 71,\n  'Sw-Ap': 72,\n  'Bv-Ael': 73,\n  'Go-ilC': 74,\n  'elC-P': 75,\n  'Sd-Bv': 76,\n  'Sw-ilC': 77,\n  'Al-Bt': 78,\n  'Sw-Ah': 79,\n  'P-Sd': 80,\n  'Sd-lC': 81,\n  'Sw-Go': 82,\n  'Sw-Bt': 83,\n  'Sd-Btv': 84,\n  'Bv-elC': 85,\n  'M-Gro': 86},\n 'embedding': array([[1.  , 0.  , 0.  , ..., 0.  , 0.  , 0.  ],\n        [0.  , 1.  , 0.  , ..., 0.  , 0.  , 0.  ],\n        [0.  , 0.  , 1.  , ..., 0.  , 0.  , 0.  ],\n        ...,\n        [0.  , 0.  , 0.5 , ..., 0.  , 0.  , 0.  ],\n        [0.25, 0.  , 0.  , ..., 0.  , 0.  , 0.  ],\n        [0.  , 0.  , 0.  , ..., 0.  , 0.  , 0.  ]])}"
     },
     "execution_count": 18,
     "metadata": {},
     "output_type": "execute_result"
    }
   ],
   "source": [
    "# If already computed, load the HCE embeddings for the labels (see Label_Graph.ipynb)\n",
    "with open('./BGR/label_embeddings/all_horizons_embeddings.pickle', 'rb') as handle:\n",
    "    emb_dict = pickle.load(handle)\n",
    "print(np.shape(emb_dict['embedding']))\n",
    "emb_dict"
   ],
   "metadata": {
    "collapsed": false,
    "pycharm": {
     "name": "#%%\n"
    }
   }
  },
  {
   "cell_type": "code",
   "execution_count": 19,
   "outputs": [
    {
     "data": {
      "text/plain": "{'ilC': 0,\n 'Ael': 1,\n 'Sd': 2,\n 'C': 3,\n 'imCv': 4,\n 'E': 5,\n 'emC': 6,\n 'cC': 7,\n 'clC': 8,\n 'ilCbtv': 9,\n 'aelC': 10,\n 'Cv': 11,\n 'Bsh': 12,\n 'Axh': 13,\n 'Bhv': 14,\n 'P': 15,\n 'Bvt': 16,\n 'Acxh': 17,\n 'Gro': 18,\n 'iC': 19,\n 'tGro': 20,\n 'Go': 21,\n 'Ap': 22,\n 'Gw': 23,\n 'Aep': 24,\n 'cmC': 25,\n 'imC': 26,\n 'Ssw': 27,\n 'Mc': 28,\n 'Hw': 29,\n 'Acp': 30,\n 'mCv': 31,\n 'Bv': 32,\n 'Sswd': 33,\n 'elC': 34,\n 'lC': 35,\n 'Aeh': 36,\n 'Bhs': 37,\n 'Cj': 38,\n 'tGr': 39,\n 'Axp': 40,\n 'bE': 41,\n 'Gr': 42,\n 'Gkso': 43,\n 'Gor': 44,\n 'M': 45,\n 'Bsv': 46,\n 'Sw': 47,\n 'Bt': 48,\n 'Bcv': 49,\n 'Btv': 50,\n 'Hr': 51,\n 'Hv': 52,\n 'elCc': 53,\n 'Bs': 54,\n 'R': 55,\n 'tGo': 56,\n 'Bh': 57,\n 'Ah': 58,\n 'Cbtv': 59,\n 'Al': 60,\n 'Sw-Bv': 61,\n 'Bv-ilC': 62,\n 'Bt-Sd': 63,\n 'Bv-Cv': 64,\n 'Sd-ilC': 65,\n 'Al-Sw': 66,\n 'Al-Bv': 67,\n 'M-Go': 68,\n 'Ael-Bt': 69,\n 'Ah-Bv': 70,\n 'Sw-M': 71,\n 'Sw-Ap': 72,\n 'Bv-Ael': 73,\n 'Go-ilC': 74,\n 'elC-P': 75,\n 'Sd-Bv': 76,\n 'Sw-ilC': 77,\n 'Al-Bt': 78,\n 'Sw-Ah': 79,\n 'P-Sd': 80,\n 'Sd-lC': 81,\n 'Sw-Go': 82,\n 'Sw-Bt': 83,\n 'Sd-Btv': 84,\n 'Bv-elC': 85,\n 'M-Gro': 86}"
     },
     "execution_count": 19,
     "metadata": {},
     "output_type": "execute_result"
    }
   ],
   "source": [
    "# For HCE: create separate dict where labels made out only of main symbols are stripped of the full stop '.'\n",
    "# Note: We will use the label indexes from the embedding dictionary instead of a new sparse one-hot encoding to ease access to the embedding vectors during training via the original indexes from the emb_dict\n",
    "dict_mapping = {}\n",
    "for key, value in emb_dict['label2ind'].items():\n",
    "    dict_mapping[key.strip('.')] = value\n",
    "dict_mapping"
   ],
   "metadata": {
    "collapsed": false,
    "pycharm": {
     "name": "#%%\n"
    }
   }
  },
  {
   "cell_type": "code",
   "execution_count": 20,
   "outputs": [
    {
     "name": "stderr",
     "output_type": "stream",
     "text": [
      "/tmp/ipykernel_986842/1744044841.py:2: SettingWithCopyWarning: \n",
      "A value is trying to be set on a copy of a slice from a DataFrame.\n",
      "Try using .loc[row_indexer,col_indexer] = value instead\n",
      "\n",
      "See the caveats in the documentation: https://pandas.pydata.org/pandas-docs/stable/user_guide/indexing.html#returning-a-view-versus-a-copy\n",
      "  df[target] = df[target].str.replace('+', '-', regex=False)\n",
      "/tmp/ipykernel_986842/1744044841.py:3: SettingWithCopyWarning: \n",
      "A value is trying to be set on a copy of a slice from a DataFrame.\n",
      "Try using .loc[row_indexer,col_indexer] = value instead\n",
      "\n",
      "See the caveats in the documentation: https://pandas.pydata.org/pandas-docs/stable/user_guide/indexing.html#returning-a-view-versus-a-copy\n",
      "  df[target] = df[target].str.replace('°', '-', regex=False) # also these, so that there is only one type of mixtures (the minus-mixture)\n",
      "/tmp/ipykernel_986842/1744044841.py:5: SettingWithCopyWarning: \n",
      "A value is trying to be set on a copy of a slice from a DataFrame.\n",
      "Try using .loc[row_indexer,col_indexer] = value instead\n",
      "\n",
      "See the caveats in the documentation: https://pandas.pydata.org/pandas-docs/stable/user_guide/indexing.html#returning-a-view-versus-a-copy\n",
      "  df[target] = df[target].str.replace(r'\\d+$', '', regex=True)\n"
     ]
    }
   ],
   "source": [
    "# Replace '+' with '-' in the target column (see Label_Graph.ipynb)\n",
    "df[target] = df[target].str.replace('+', '-', regex=False)\n",
    "df[target] = df[target].str.replace('°', '-', regex=False) # also these, so that there is only one type of mixtures (the minus-mixture)\n",
    "# Remove trailing numbers from the labels in the target column (they only account for how often the horizon is seen in the same picture)\n",
    "df[target] = df[target].str.replace(r'\\d+$', '', regex=True)"
   ],
   "metadata": {
    "collapsed": false,
    "pycharm": {
     "name": "#%%\n"
    }
   }
  },
  {
   "cell_type": "code",
   "execution_count": 21,
   "outputs": [
    {
     "data": {
      "text/plain": "{'Ap': 'Ap',\n 'E': 'E',\n 'Bv': 'Bv',\n 'Bv-ilC': 'Bv-ilC',\n 'ilC': 'ilC',\n 'tSw-Ah': 'Sw-Ah',\n 'tSw-Ap': 'Sw-Ap',\n 'tGo-Sw': 'tGo',\n 'tGo-Sd': 'tGo',\n 'Sw-tAp': 'Sw-Ap',\n 'tSq': 'Sd',\n 'tGro': 'tGro',\n 'Aeh': 'Aeh',\n 'Aep': 'Aep',\n 'oCv': 'Cv',\n 'fOh': 'Bsh',\n 'Ae': 'Ael',\n 'Bsh-Go': 'Bsh',\n 'Bs-Go': 'M-Go',\n 'R-Ah': 'Ah',\n 'R-Gso-Gr': 'Gor',\n 'R-Gr-Gso': 'M-Gro',\n 'R-Go-Gso': 'Gkso',\n 'tbSq': 'Sd',\n 'tGor': 'tGr',\n 'tAp-Go': 'tGo',\n 'Ah-ilCv': 'Bv-ilC',\n 'Aeh-Go': 'Aeh',\n 'Bs-Gw': 'Bsh',\n 'Go-Bhs': 'Bhs',\n 'Go-Ap': 'Sw-Ap',\n 'Go': 'Go',\n 'Gor': 'Gor',\n 'Gr': 'Gr',\n 'Gw': 'Gw',\n 'ilC-Bsh-Bs': 'ilC',\n 'Bhs-ilC': 'Bv-ilC',\n 'M': 'M',\n 'tAp': 'Ap',\n 'tGo': 'tGo',\n 'Hw': 'Hw',\n 'fnHr': 'Hr',\n 'tGo-Ap': 'tGo',\n 'Gro': 'Gro',\n 'Bh-Gw': 'Bhv',\n 'Bhs-Bs': 'Bhs',\n 'Bhs-Go': 'Bhs',\n 'Bhs': 'Bhs',\n 'Sw-Bs': 'Sw-Bv',\n 'Sd': 'Sd',\n 'Sw': 'Sw',\n 'Ap-Al': 'Ael',\n 'Bt-Sd': 'Bt-Sd',\n 'Al-Sw': 'Al-Sw',\n 'Ah': 'Ah',\n 'Swd': 'Sd',\n 'Bh-Aeh': 'Bv-Ael',\n 'Bsh': 'Bsh',\n 'Bs': 'Bs',\n 'Bbs-ilCv': 'Bv-ilC',\n 'Bbh-Bs-ilCv': 'Bv-ilC',\n 'Sd-Bv': 'Sd-Bv',\n 'Cv': 'Cv',\n 'ilC-Sw': 'Al-Sw',\n 'Bv-Sw': 'Bt-Sd',\n 'Sw-Al': 'Sw-Ap',\n 'Sd-Bt': 'Sd-Bv',\n 'tmeGo': 'tGo',\n 'Sw-Bhs-Ae': 'Sw-Bv',\n 'Bs-Sw': 'Bt-Sd',\n 'Bs-ilC': 'Bv-ilC',\n 'R-Go-Bsh': 'Bsh',\n 'Bv-Alh': 'Bv-ilC',\n 'Bvt': 'Bvt',\n 'Sw-Ap': 'Sw-Ap',\n 'Sd-Ap': 'Sw-Ap',\n 'Bv-Ah': 'Bv-Cv',\n 'ilC-Bv': 'ilCbtv',\n 'Bhs-Sw': 'Bhs',\n 'C-Ap': 'Ap',\n 'Bsv': 'Bsv',\n 'eSwd': 'Sd',\n 'Ap-Sw': 'Al-Sw',\n 'tGo-Ah': 'tGo',\n 'fnHw': 'Hw',\n 'Sw-ilC': 'Sw-ilC',\n 'Hv': 'Hv',\n 'Hr': 'Hr',\n 'Al': 'Al',\n 'Sw-M': 'Sw-M',\n 'Bv-Al': 'Bv-Ael',\n 'Bt': 'Bt',\n 'Axp': 'Axp',\n 'Axh': 'Axh',\n 'Axh-Sw': 'Al-Sw',\n 'elC': 'elC',\n 'Sd-lC': 'Sd-lC',\n 'Sd-ilC': 'Sd-ilC',\n 'tGr': 'tGr',\n 'tbGo': 'tGo',\n 'nHv': 'Hv',\n 'Swd-ilCv': 'Sd-ilC',\n 'Go-Aa': 'Go',\n 'Sdw-Bvt': 'Sw-Bv',\n 'Sw-Bv': 'Sw-Bv',\n 'Go-Ah': 'Sw-Ah',\n 'tbGor': 'tGr',\n 'tAh-Sd': 'Bt-Sd',\n 'Hv-Ah': 'Sw-Ah',\n 'lC-Hv': 'ilCbtv',\n 'tGr-Hr': 'tGro',\n 'toGr': 'tGr',\n 'Hm': 'Hw',\n 'Ha': 'Hw',\n 'Ae-Gw': 'Al-Sw',\n 'Ae-Bh-Gw': 'Aeh',\n 'Ah-Gr': 'Ah-Bv',\n 'Bsh-Gr': 'Bsh',\n 'R-Sw-Ap': 'Sw-Ap',\n 'R-Ah-Sw': 'Al-Sw',\n 'Go-Bs': 'Go',\n 'Ap-Swd': 'Al-Sw',\n 'M-Sw': 'Sw',\n 'Sw-Bt': 'Sw-Bt',\n 'Ap-Bt': 'Al-Bt',\n 'Aa': 'Ap',\n 'eSd': 'Sd',\n 'Ah-Go': 'M-Go',\n 'Al-Bv': 'Al-Bv',\n 'Btv': 'Btv',\n 'tSd-Go': 'Sw-Go',\n 'tSd-tGo': 'Sw-Go',\n 'Ahe': 'Ah',\n 'R-Ah-Bsh': 'Ah-Bv',\n 'ilCbtv': 'ilCbtv',\n 'Sw-Ah': 'Sw-Ah',\n 'Ah-Sd': 'Bt-Sd',\n 'P-Sd': 'P-Sd',\n 'Ah-Sw': 'Al-Sw',\n 'Sw-Bt-Al': 'Sw-Bt',\n 'Sw-Sd': 'Sw-Bv',\n 'Al-Bt-Swd': 'Bt-Sd',\n 'Bhv': 'Bhv',\n 'Bt-Al': 'Bt-Sd',\n 'tAh': 'Ah',\n 'Hv-Go': 'M-Go',\n 'Ae-Go': 'M-Go',\n 'Bh-Go': 'M-Go',\n 'Ae-Bh': 'Aeh',\n 'Bhs-Ssw': 'Ssw',\n 'hHv': 'Hv',\n 'Bbt-Bv': 'Btv',\n 'Bbt-ilC': 'Bv-ilC',\n 'Acp': 'Acp',\n 'Bt-Cv': 'Bv-Cv',\n 'Alh': 'Axh',\n 'Bh-Ae': 'Bv-Ael',\n 'Ae-Bs-Bh': 'Ael-Bt',\n 'Al-Bt': 'Al-Bt',\n 'lCv': 'Cv',\n 'Gho': 'Gro',\n 'Bs-ilCv': 'Bv-ilC',\n 'R': 'R',\n 'ilCv': 'ilC',\n 'M-Go': 'M-Go',\n 'Fr-Hw-Hr': 'Hw',\n 'Fr': 'Gr',\n 'R-Bhs': 'Bhs',\n 'Bbh': 'Bsh',\n 'Bv-M': 'Bvt',\n 'Ap-Al-Bv': 'Al-Bv',\n 'Sw-Btv': 'Sw-Bv',\n 'R-eSwd': 'P-Sd',\n 'Ah-Bv': 'Ah-Bv',\n 'Cbtv': 'Cbtv',\n 'ilC-Bbt': 'ilCbtv',\n 'Hp': 'Ap',\n 'Hca': 'cC',\n 'Hcw': 'Hw',\n 'Hcr': 'Hr',\n 'Ahl-Bv': 'Al-Bv',\n 'Ael': 'Ael',\n 'Ael-Bt': 'Ael-Bt',\n 'eAp': 'Ap',\n 'ijlCv': 'ilC',\n 'Go-Ahe': 'Go-ilC',\n 'Bt-Al-Sw': 'Al-Sw',\n 'Ahl': 'Ael',\n 'Sd-Btv': 'Sd-Btv',\n 'Bv-Ael-Sw': 'Bv-Ael',\n 'Ael-Sw': 'Al-Sw',\n 'lC': 'lC',\n 'Ht': 'Hw',\n 'fF': 'Sd',\n 'jeC': 'ilC',\n 'tGo-Ah-Sd': 'tGo',\n 'tAp-Sw': 'Al-Sw',\n 'nHr': 'Hr',\n 'Go-Sw': 'Al-Sw',\n 'H': 'C',\n 'F': 'C',\n 'oGr': 'tGr',\n 'Bs-Swd': 'Bt-Sd',\n 'R-ilC-Bhs': 'ilC',\n 'ilCv-Bs': 'ilC',\n 'Bv-Sd': 'Bt-Sd',\n 'Ael-Bv': 'Al-Bv',\n 'Ael-Bbt': 'Ael-Bt',\n 'Bt-Sdw': 'Bt-Sd',\n 'Bsh-Bv': 'Ah-Bv',\n 'R-Al': 'Al',\n 'C-Bbt': 'Bvt',\n 'Bbt-Al': 'Bt-Sd',\n 'lC-Bbt': 'Al-Bt',\n 'Al-Bv-Sw': 'Al-Sw',\n 'Swd-Bbt-Bv': 'Sd-Btv',\n 'Sd-Sw': 'Al-Sw',\n 'R-Ap': 'Ap',\n 'R-Aeh': 'Aeh',\n 'Gw-Bhs': 'Bhs',\n 'Bhs-Gw': 'Bhs',\n 'Hcv': 'Bcv',\n 'nHcr': 'Hr',\n 'rGo': 'Go',\n 'Fh': 'Bh',\n 'R-Ap-Ae-Bsh': 'Bsh',\n 'Go-Bsh': 'Bsh',\n 'Fr-Hw': 'Hw',\n 'Al-Swd': 'Al-Sw',\n 'Bv-Ael': 'Bv-Ael',\n 'R-Bs': 'Bs',\n 'tmzGr': 'tGr',\n 'Sw-Bsh': 'Sw-Bv',\n 'oC': 'C',\n 'Sw-Go': 'Sw-Go',\n 'Sd-Go': 'Sw-Go',\n 'eGro': 'Gro',\n 'Ctv-Sw': 'Bt-Sd',\n 'Ctv-Sd': 'Bt-Sd',\n 'Go-C': 'Go',\n 'eCv': 'Cv',\n 'Al-Bbt': 'Al-Bt',\n 'Bt-Ael': 'Bv-Ael',\n 'Bt-Sw-Al': 'Bt-Sd',\n 'Btv-Sd': 'Bt-Sd',\n 'tSq-Sw': 'Al-Sw',\n 'tAh-Go': 'tGo',\n 'Ahe-Bh-Bs': 'Ael-Bt',\n 'Bbs-Bsv-Bhs': 'Bsh',\n 'Sg-C': 'Sw-M',\n 'Bh': 'Bh',\n 'Go-Bv': 'Sw-Bv',\n 'hHw': 'Hw',\n 'nHw': 'Hw',\n 'C-Bbh-Bbs': 'Bhs',\n 'tGo-Sq': 'tGo',\n 'tAa': 'Ap',\n 'Go-Aeh': 'Aeh',\n 'Gmso': 'Gkso',\n 'Go-Swd': 'Bt-Sd',\n 'Bv-elC': 'Bv-elC',\n 'elCv': 'elC',\n 'Hcm': 'cC',\n 'Sdw-R': 'Sw-M',\n 'Bv-Bbt': 'Bvt',\n 'rnHv': 'Hv',\n 'Go-E': 'Go',\n 'Ae-Bhs': 'Aeh',\n 'Ht-Hv': 'Btv',\n 'Bs-Cv': 'Bv-Cv',\n 'Bs-Bh': 'Bsh',\n 'Ae-Aap': 'Aep',\n 'tpGo': 'tGo',\n 'Bvs': 'Bvt',\n 'enHr': 'Hr',\n 'Bv-Cv': 'Bv-Cv',\n 'Sw-Bv-Ael': 'Bv-Ael',\n 'Ap-Bv': 'Al-Bv',\n 'Al-Btv': 'Al-Bv',\n 'tSw-Sq': 'Sw-Bv',\n 'Aa-Go': 'M-Go',\n 'Gro-Go': 'Gro',\n 'Gor-Go': 'Gro',\n 'Go-Sd': 'Bt-Sd',\n 'F-Gw': 'Gw',\n 'Bv-Gw': 'Bv-Cv',\n 'Bh-Bs': 'Bhs',\n 'Ssw': 'Ssw',\n 'Bbt-Ael': 'Bv-Ael',\n 'Bbt-Cv-Bv': 'Bv-Cv',\n 'Ae-Bsh': 'Bsh',\n 'Bt-ilC': 'Bv-ilC',\n 'Bv-Go': 'Bv-Cv',\n 'Cv-Bv': 'Sw-Bv',\n 'Sw-Ael': 'Sw-Ap',\n 'Sd-lCc': 'Sd-lC',\n 'Swd-lCv': 'Sd-lC',\n 'tSw': 'Sw',\n 'Bv-Bh': 'Bv-Cv',\n 'Ap-Bsh': 'Bsh',\n 'Bsv-C': 'Bsv',\n 'jM': 'M',\n 'jM-jilCv': 'Bv-ilC',\n 'Go-ilC': 'Go-ilC',\n 'Ahe-Bh-Sw': 'Al-Sw',\n 'Bhsv': 'Bhv',\n 'Bbs': 'Bhs',\n 'Bt-Swd': 'Bt-Sd',\n 'Sdw-Ap': 'Sw-Ap',\n 'Sw-Cv': 'Sw-Bv',\n 'Gro-Sd': 'Gro',\n 'Bv-lCv': 'Bv-Cv',\n 'ilCv-Bt': 'Al-Bt',\n 'Sg-ilC': 'Sd-ilC',\n 'ilC-Go': 'ilC',\n 'Acxp': 'Acxh',\n 'elCc-Acxh': 'Acxh',\n 'elCc': 'elCc',\n 'eSw-lCv': 'Sw-Bv',\n 'Ah-Hv': 'Ah-Bv',\n 'jSw': 'Sw',\n 'Sd-Gor': 'Sw-Go',\n 'Ae-Bs-Go': 'Al-Bv',\n 'Sw-Bv-Cv': 'Sw-Bv',\n 'F-Go': 'M-Go',\n 'F-Gor': 'Gor',\n 'M-Ah': 'Ah',\n 'Aap': 'Ap',\n 'Sew': 'Ssw',\n 'Sd-Gkso': 'Gkso',\n 'Ahe-Bh': 'Ah-Bv',\n 'Bms': 'Bhs',\n 'Sw-Bhs': 'Sw-Bv',\n 'Aa-Bh': 'Al-Bv',\n 'Gmso-Bh': 'Gkso',\n 'Gso': 'Gro',\n 'aAh-Gor': 'Gor',\n 'ilC-Ap': 'ilC',\n 'Bs-Gso': 'M-Go',\n 'Ach': 'Axh',\n 'Acp-Gco': 'Acp',\n 'Gcro-Swd': 'Gro',\n 'Gco': 'Gro',\n 'Gcor': 'Gor',\n 'Sw-Axh': 'Sw-Ah',\n 'Axh-Swd': 'Al-Sw',\n 'Hcvm': 'Bcv',\n 'nHcv': 'Bcv',\n 'Bbh-Bbs-Bv': 'Ah-Bv',\n 'Bbh-Bbs-ilCv': 'Bv-ilC',\n 'Ahe-Ae': 'Ah-Bv',\n 'Go-Ae-Bsh': 'Bsh',\n 'Ae-Ap': 'Aep',\n 'lC-Bbs': 'lC',\n 'yGo-Ah': 'Sw-Ah',\n 'yGro': 'Gro',\n 'Ae-Bh-Bms': 'Ael-Bt',\n 'Bbs-Cv': 'Bv-Cv',\n 'rAep': 'Aep',\n 'Bhv-ilCv': 'Bv-ilC',\n 'Gkso': 'Gkso',\n 'aSw-M': 'Sw-M',\n 'Gkso-Gr': 'Gkso',\n 'Ah-Ahe-Bh': 'Ah-Bv',\n 'Go-Bsv-Bh': 'Bsh',\n 'R-Gr-H-Go': 'M-Gro',\n 'R-H-rGr-Go': 'M-Gro',\n 'R-Bh-Bs-Go': 'Bhs',\n 'Bhs-lC': 'Bhs',\n 'R-Bs-ilC-Ae': 'Bv-ilC',\n 'Bh-Bv': 'Ah-Bv',\n 'S-Ap': 'Sw-Ap',\n 'Sg-Ap': 'Sw-Ap',\n 'Sg-Bv': 'Sw-Bv',\n 'Go-Bv-Ctv': 'Bv-Cv',\n 'Ctv-Go': 'tGo',\n 'Swd-Bvt': 'Sw-Bv',\n 'Ael-Btv': 'Ael-Bt',\n 'Sw-Bt-ilCv': 'Sw-ilC',\n 'Sd-Bt-Ael': 'Bv-Ael',\n 'Bt-elCv': 'Bv-elC',\n 'Ael-M': 'Ael',\n 'R-Go-Bhs-Aa': 'Bhs',\n 'R-Gr': 'tGr',\n 'R-Go-rGr-H': 'Gor',\n 'jnHv': 'Hv',\n 'Hw-Gr': 'Sw-Go',\n 'C-M': 'C',\n 'Gkso-Bs': 'Gkso',\n 'R-Go-Hv': 'M-Go',\n 'R-Hv': 'Hv',\n 'R-Gr-Go-Hv': 'M-Gro',\n 'Cv-Sw': 'Al-Sw',\n 'Cv-Swd': 'Bt-Sd',\n 'Sw-Bv-ilC': 'Bv-ilC',\n 'Swd-ilCtv': 'Sd-ilC',\n 'Swd-elCc': 'Sd-ilC',\n 'Go-Bsv': 'Bsv',\n 'Go-Cbtv': 'ilCbtv',\n 'R-Go-Bs-Bh': 'Bsh',\n 'R-Bs-Bh-Ae': 'Bsh',\n 'H-Ah': 'Ah',\n 'H-Go': 'M-Go',\n 'H-Gro': 'M-Gro',\n 'aGr': 'tGr',\n 'aM': 'M',\n 'Go-lC': 'Go-ilC',\n 'Swd-Ap': 'Sw-Ap',\n 'aGo': 'Go',\n 'jAh': 'Ah',\n 'oGo': 'Go',\n 'Bv-Al-Sg': 'Bv-ilC',\n 'Bvt-Sg': 'Bt-Sd',\n 'Sg': 'Sd',\n 'Bv-Ctv': 'Bv-Cv',\n 'ilCtv': 'ilCbtv',\n 'Gcro': 'Gro',\n 'Bv-Gor': 'Gor',\n 'R-H-Go': 'M-Go',\n 'R-H-Bh-rGor': 'Gor',\n 'R-Gr-Hm': 'M-Gro',\n 'R-Gr-Hm-Go': 'M-Gro',\n 'R-Bh-Ae-Bs': 'Bv-Ael',\n 'Bsh-Bbs-Bbh': 'Bsh',\n 'ilC-Bbs-Bbh': 'ilCbtv',\n 'R-Bs-Aa-Bsh': 'Bsh',\n 'R-Ahe-Bh-Bs': 'Ael-Bt',\n 'Bbh-Go': 'M-Go',\n 'R-Sw-Ah': 'Sw-Ah',\n 'ilC-Bhs': 'ilC',\n 'R-Sw': 'Sw',\n 'Sd-Bvt': 'Sd-Bv',\n 'Bv-Bhs': 'Bhs',\n 'ilC-Bbs': 'ilC',\n 'ilC-Bbs-Bhs': 'ilCbtv',\n 'M-Sd': 'P-Sd',\n 'M-Sd-Go': 'M-Go',\n 'Bv-Ah-Go': 'Bv-Ael',\n 'Sw-Ael-Bv': 'Sw-Bv',\n 'Ah-Gw': 'Al-Sw',\n 'rGw': 'Gw',\n 'Gr-Hw': 'Gro',\n 'Gr-Hr': 'Gro',\n 'Bv-ilC-Go': 'Bv-ilC',\n 'R-hH-Go': 'M-Go',\n 'Fh-Gor': 'Gor',\n 'R-Go-H': 'M-Go',\n 'jaGo': 'Go',\n 'ilCv-Sd': 'ilC',\n 'M-Gro': 'M-Gro',\n 'M-Gor': 'M-Go',\n 'ailCv': 'ilC',\n 'A-Bv': 'Al-Bv',\n 'Gho-Bv-Al': 'Ah-Bv',\n 'Go-Bt': 'Al-Bt',\n 'Gcr-Go': 'Gro',\n 'Bvt-Ael': 'Bv-Ael',\n 'Go-Ctv': 'Bv-Cv',\n 'Bh-Ahe': 'Bv-Ael',\n 'Gw-Aap': 'Sw-Ap',\n 'Go-M': 'Go',\n 'Gor-Sd': 'Gor',\n 'Bhv-ilC': 'Bv-ilC',\n 'Sw-Bhv': 'Sw-Bv',\n 'Bv-Cbtv': 'Bv-Cv',\n 'Go-Bv-Ap': 'Sw-Bv',\n 'Fo': 'Go',\n 'Sw-M-Go': 'Sw-Go',\n 'Sd-M-Gro': 'M-Gro',\n 'R-H-Bs-ilC': 'Bv-ilC',\n 'R-Bh-Bhs-H': 'Bhs',\n 'R-Bh-Bs-Sw': 'Bhs',\n 'Ae-Hv': 'Al-Bv',\n 'Ah-ilC': 'Bv-ilC',\n 'Hv-ilC': 'Bv-ilC',\n 'Ael-Bt-Sd': 'Ael-Bt',\n 'Bbt-lCv': 'Bv-Cv',\n 'Gho-Bv': 'Ah-Bv',\n 'aAcp': 'Acp',\n 'aGco': 'Gro',\n 'Fw': 'Gw',\n 'jGo-M': 'Go',\n 'Gor-M': 'Gor',\n 'eM': 'M',\n 'Sdw-M-Go': 'Sw-Go',\n 'Sd-M-Go': 'M-Go',\n 'Hw-M-Go': 'M-Go',\n 'R-hH-Cv': 'Bv-Cv',\n 'R-C-H': 'elC-P',\n 'R-H-Gho': 'M-Go',\n 'R-Ae-Bhs-Gkso': 'Gkso',\n 'R-Bhs-Go': 'Bhs',\n 'R-Bsh-Ae': 'Bsh',\n 'Bh-Bs-ilC': 'Bv-ilC',\n 'R-Go-Hm': 'M-Go',\n 'Bhms': 'Bhs',\n 'Sdw-Bt-Ael': 'Bv-Ael',\n 'Swd-Ael-Bt': 'Ael-Bt',\n 'Swd-Ael-Bbt': 'Ael-Bt',\n 'renHv-rnHvp': 'Bv-Cv',\n 'M-Gr': 'M-Go',\n 'Sd-elC': 'Sd-ilC',\n 'jAp': 'Ap',\n 'eAh': 'Ah',\n 'aAp': 'Ap',\n 'aAh': 'Ah',\n 'Ghor': 'Gor',\n 'Fh-Fw': 'Al-Sw',\n 'Ghr': 'Gr',\n 'gE': 'E',\n 'Go-Bhv': 'Bhv',\n 'R-Bh-Bs-Ahe': 'Bsh',\n 'Bbh-ilC': 'Bv-ilC',\n 'Gw-ilC': 'Go-ilC',\n 'R-ilC-Bsh-Ahe': 'ilC',\n 'Bhs-Cv': 'Bv-Cv',\n 'Ae-Ahe': 'Aeh',\n 'Bhs-ilCv': 'Bv-ilC',\n 'R-Bh-Bv-Ah': 'Ah-Bv',\n 'R-Bv-Bhv-C': 'Bv-ilC',\n 'R-Bh-Ahe-Bs': 'Ah-Bv',\n 'F-Gr': 'tGr',\n 'ilC-Bt': 'Al-Bt',\n 'Go-Bbt': 'Go-ilC',\n 'Sg-Ap-Bv': 'Sw-Bv',\n 'Bv-ilCbtv': 'ilCbtv',\n 'Sg-elCc': 'elCc',\n 'Sg-elCv': 'Sd-ilC',\n 'Ah-Ae-Bhs': 'Ah-Bv',\n 'Bhs-lCv': 'Bv-Cv',\n 'Ahe-Go': 'M-Go',\n 'R-Bsh-Go': 'Bsh',\n 'R-Ae-Bhs-ilC': 'Bv-ilC',\n 'E-Al': 'Al',\n 'R-Go-Aa': 'M-Go',\n 'R-Ae-Bh': 'Aeh',\n 'R-gE': 'E',\n 'Bh-ilCv': 'Bv-ilC',\n 'Gr-Sd': 'Bt-Sd',\n 'Yr': 'Gr',\n 'fF-eGro': 'M-Gro',\n 'fFr': 'tGr',\n 'R-H-Go-Bs': 'M-Go',\n 'R-Go-Aeh-Bhs': 'Ael-Bt',\n 'R-Aeh-Bhs-Go': 'Ael-Bt',\n 'Bsh-rGo': 'Bsh',\n 'R-Go': 'M-Go',\n 'R-Gw-ilCv': 'Go-ilC',\n 'Bv-Bs': 'Bv-Cv',\n 'raeM-Go': 'M-Go',\n 'Bv-ilCv-Bbt': 'Bv-ilC',\n 'jSw-Ap': 'Sw-Ap',\n 'Sd-Ex': 'Sd-Bv',\n 'elCkc-Sd': 'elCc',\n 'R-Gr-Bh-Gso': 'M-Gro',\n 'R-Ap-Gro': 'M-Gro',\n 'Bv-imC': 'Bv-ilC',\n 'Cv-Sd': 'Bt-Sd',\n 'rGkso': 'Gkso',\n 'Gkso-Go': 'Gkso',\n 'R-Bv-Ap': 'Bv-Cv',\n 'Ap-Aeh': 'Aeh',\n 'Bh-Gmso': 'Bhs',\n 'Bt-Ael-Swd': 'Bt-Sd',\n 'aGso': 'Gro',\n 'aGro': 'Gro',\n 'Gso-Bv': 'Sw-Bv',\n 'Sd-Ael-Bt': 'Ael-Bt',\n 'Go-ilC-Bbt': 'Go-ilC',\n 'Ah-Swd': 'Al-Sw',\n 'bE': 'bE',\n 'bE-Go': 'M-Go',\n 'Bhv-Sw': 'Bhv',\n 'Go-gE': 'Go',\n 'P': 'P',\n 'ilC-Go-Ah': 'ilC',\n 'Fr-Gro': 'M-Gro',\n 'Fr-Gor': 'Gor',\n 'Fr-Gr': 'tGr',\n 'Ap-Go': 'M-Go',\n 'elC-Bbt': 'Ael-Bt',\n 'Ahe-Bhs': 'Ah-Bv',\n 'Bbhs': 'Bhs',\n 'Bbhs-Go': 'Bhs',\n 'Swd-elCv': 'Sd-ilC',\n 'cmC': 'cmC',\n 'raGo': 'Go',\n 'R-Go-Bs-Ae': 'M-Go',\n 'M-ilCv': 'ilC',\n 'Sdg': 'Sd',\n 'Sw-P': 'Sw-M',\n 'Sd-P': 'Sd',\n 'elC-P': 'elC-P',\n 'aM-Go': 'M-Go',\n 'Sdw': 'Sd',\n 'rAp': 'Ap',\n 'Bv-Gkso': 'Gkso',\n 'Sw-Al-Bv': 'Sw-Bv',\n 'elC-Axh': 'elC-P',\n 'Axh-elC': 'Bv-elC',\n 'Sw-elC': 'Sw-ilC',\n 'Al-Axh': 'Axh',\n 'Bv-Axh': 'Bv-Ael',\n 'Acxh': 'Acxh',\n 'elCc-Swd': 'elCc',\n 'ilC-Ael-Sw': 'Al-Sw',\n 'Go-Bv-Gr': 'Gor',\n 'Gro-Sg': 'Gro',\n 'R-Ae-Bs-Ap': 'Aep',\n 'R-Ah-Ae-Bs': 'Ah-Bv',\n 'Bv-Ap': 'Bv-Cv',\n 'R-E-Aa-Go': 'M-Go',\n 'Go-Bvs': 'Sw-Bv',\n 'Ah-Gro': 'M-Gro',\n 'Gkso-Gro': 'Gkso',\n 'H-Gkso-Gr': 'Gkso',\n 'Bj-Cv': 'Bv-Cv',\n 'Bh-Bcv': 'Ah-Bv',\n 'Bcv-elC': 'Bv-elC',\n 'elC-Sd': 'elC-P',\n 'clC': 'clC',\n 'lCv-Bcv': 'Bcv',\n 'lC-emC': 'emC',\n 'elC-emC': 'elC-P',\n 'elC-Acxh': 'Acxh',\n 'rGcro-elC': 'Go-ilC',\n 'eAcp': 'Acp',\n 'Sg-Bv-ilCv': 'Bv-ilC',\n 'Fh-Fo': 'M-Go',\n 'Ah-Sw-Ael': 'Al-Sw',\n 'Bt-Scdw': 'Bt-Sd',\n 'Scd': 'Sd',\n 'R-Bhs-Ap-Go': 'Bhs',\n 'R-Bh': 'Bh',\n 'ilC-Bsh': 'ilC',\n 'E-Go': 'M-Go',\n 'Go-ilC-Bhs': 'Go-ilC',\n 'Go-Sw-Sd': 'Sw-Bv',\n 'Bhs-Go-Sw': 'Bhs',\n 'Go-Sdw': 'Bt-Sd',\n 'Bt-Sw': 'Bt-Sd',\n 'imC': 'imC',\n 'Sdg-Bt': 'Sd-Bv',\n 'emC': 'emC',\n 'Swd-Axh': 'Sw-Ah',\n 'Go-Axh': 'Axh',\n 'Axh-Go': 'Axh',\n 'Bcv-Axh': 'Bv-Ael',\n 'R-Hv-Ah-ilCv': 'Bv-ilC',\n 'Go-Ael': 'Bv-Ael',\n 'Go-Bt-Ael': 'Bv-Ael',\n 'Btv-Ael': 'Bv-Ael',\n 'Gr-Go': 'Gro',\n 'R-Go-Ah': 'M-Go',\n 'Bms-Go': 'M-Go',\n 'R-Bsv': 'Bsv',\n 'Sd-Cv': 'Sd-Bv',\n 'Btv-ilC': 'Bv-ilC',\n 'Bcv-Tv': 'Bv-Cv',\n 'cC-Swd': 'Bt-Sd',\n 'Go-Acxh': 'Acxh',\n 'Ael-Sd-Bt': 'Ael-Bt',\n 'Ael-Ap': 'Ael-Bt',\n 'Bhs-Aeh': 'Bv-Ael',\n 'ilC-Bsv': 'ilCbtv',\n 'elCv-Bcv': 'elCc',\n 'R-E': 'E',\n 'Srd': 'Sd',\n 'gE-Go': 'M-Go',\n 'gbE-Ap': 'Sw-Ap',\n 'Aeh-Bsh': 'Ael-Bt',\n 'Ae-Bh-Bs': 'Ael-Bt',\n 'Al-Bvt': 'Al-Bv',\n 'jeM': 'Ael',\n 'Swd-lCv-Axh': 'Sw-Ah',\n 'Axh-M': 'Axh',\n 'Acxh-elCc': 'Acxh',\n 'elCc-Axh': 'elCc',\n 'aAxp': 'Axp',\n 'Sw-Bt-Sd': 'Bt-Sd',\n 'Bbt-Ael-Bv': 'Al-Bv',\n 'Sw-Bv-Bbt': 'Sw-Bv',\n 'Bbt': 'Bvt',\n 'rGo-ilCv': 'Go-ilC',\n 'Sg-Ael-Bt': 'Ael-Bt',\n 'Swd-lCv-Bbt': 'Sd-lC',\n 'ejCv': 'imCv',\n 'Go-ilCv-H': 'Go-ilC',\n 'aelC': 'aelC',\n 'Gkso-M': 'Gkso',\n 'Gkso-Go-Bhsv': 'Gkso',\n 'Sewd': 'Sswd',\n 'Sswd': 'Sswd',\n 'Go-Sw-E': 'Al-Sw',\n 'P-Cv-Swd': 'P-Sd',\n 'elC-Scd': 'elCc',\n 'Al-Ap': 'Al-Sw',\n 'Sd-Al-Bt': 'Al-Bt',\n 'mCv': 'mCv',\n 'Axh-Bv': 'Ah-Bv',\n 'Bv-elCc': 'Bv-elC',\n 'Axh-lC': 'Axh',\n 'Axh-ilCv-Sw': 'Al-Sw',\n 'Swd-Go-M': 'Sw-Go',\n 'Ah-M': 'Ah',\n 'jGo': 'Go',\n 'Aah-Gr': 'Ah-Bv',\n 'raAp': 'Ap',\n 'M-Gso': 'M-Go',\n 'raGr': 'tGr',\n 'eGo-Cv': 'Bv-Cv',\n 'eC-Go': 'M-Go',\n 'Sdw-Bv-Al': 'Sw-Bv',\n 'Go-Mc': 'Go',\n 'E-ilC': 'ilC',\n 'Bh-Sw': 'Bt-Sd',\n 'Swd-eCv': 'Sw-Bv',\n 'eC-Sd': 'Bt-Sd',\n 'Bt-Al-Bv': 'Al-Bv',\n 'Al-Bv-Bt': 'Al-Bv',\n 'M-Sdw': 'P-Sd',\n 'Sw-Ael-Bt': 'Ael-Bt',\n 'elC-Ap': 'elC-P',\n 'jeF': 'Ael',\n 'Bcv-Cc': 'Bv-Cv',\n 'Go-Cc-elCv': 'Go-ilC',\n 'Axh-Bv-elC': 'Bv-elC',\n 'eAxp': 'Axp',\n 'Sw-Bt-Ael': 'Bv-Ael',\n 'Sdw-Go': 'Sw-Go',\n 'H-Go-Ah': 'M-Go',\n 'ylC': 'ilC',\n 'Ae-Bhs-Go': 'Aeh',\n 'Ae-Bh-Go': 'Aeh',\n 'F-Gr-Gor': 'M-Gro',\n 'Sd-elCv': 'Sd-ilC',\n 'Ah-eC': 'Ah-Bv',\n 'C': 'C',\n 'elCv-Axh-Bv': 'Ah-Bv',\n 'Bcv': 'Bcv',\n 'Sg-Axh': 'Sw-Ah',\n 'Axh-Sg': 'Axh',\n 'Ael-Bv-Btv': 'Ael-Bt',\n 'elC-Bv': 'Al-Bv',\n 'Swd-lC': 'Sd-lC',\n 'M-Swd': 'P-Sd',\n 'Sw-Ah-Go': 'Sw-Ah',\n 'rSw-Go': 'Sw-Go',\n 'Sw-Gr': 'Sw-Go',\n 'Ap-Sw-ilCv': 'Sw-ilC',\n 'Sg-Bv-ilCbtv': 'ilCbtv',\n 'Sg-Al': 'Sw-Ap',\n 'Bhs-Ae': 'Bhs',\n 'Al-Bt-Sw': 'Al-Sw',\n 'Acp-Swd-Bv': 'Sw-Bv',\n 'Go-Bv-Swd': 'Bt-Sd',\n 'Bv-Tv': 'Bv-Cv',\n 'Tv-elC': 'Bv-elC',\n 'Ah-Cv': 'Ah-Bv',\n 'M-Bv': 'Bv',\n 'iC': 'iC',\n 'Axh-elCc': 'elCc',\n 'Alh-Bv': 'Al-Bv',\n 'Go-Swd-M': 'Sw-M',\n 'Swd-Go': 'Sw-Go',\n 'Gro-Swd': 'Gro',\n 'Gr-Sd-Go': 'Sw-Go',\n 'aeM': 'Ael',\n 'M-Al-Bv': 'Al-Bv',\n 'ilC-Sd': 'ilC',\n 'xCn': 'C',\n 'Bcv-lCc': 'Bv-ilC',\n 'Bcv-elCc': 'Bv-elC',\n 'elCc-Bcv': 'elCc',\n 'Mc': 'Mc',\n 'Sw-lC': 'Sw-ilC',\n 'Serw': 'Ssw',\n 'M-Gkso': 'Gkso',\n 'jilCv': 'ilC',\n 'Ap-E': 'Ap',\n 'Bv-Swd': 'Bt-Sd',\n 'Bt-Sg': 'Bt-Sd',\n 'iCv-Sd': 'Bt-Sd',\n 'Btv-Sdw': 'Bt-Sd',\n 'mcC': 'cC',\n 'Al-Bt-Sdw': 'Bt-Sd',\n 'mC': 'C',\n 'cmCv-elCv': 'Bv-elC',\n 'Cc-Bcv': 'Bcv',\n 'Bt-elC': 'Bv-elC',\n 'ilCn': 'ilC',\n 'Sg-M': 'Sw-M',\n 'rGr': 'tGr',\n 'Ahl-Bt': 'Ael-Bt',\n 'Sg-Bt': 'Sw-Bt',\n 'M-elC': 'aelC',\n 'Gkso-Gor': 'Gkso',\n 'R-Axh': 'Axh',\n 'Bt-elCc': 'Bv-elC',\n 'lCc-Sd': 'Bt-Sd',\n 'Sdw-Bt': 'Sw-Bt',\n 'Sw-Sd-Bt': 'Sw-Bt',\n 'Sg-Go': 'Sw-Go',\n 'Swd-Bt-ilC': 'Sd-ilC',\n 'Bt-lCv': 'Bv-Cv',\n 'Sd-M': 'Sw-M',\n 'elC-Go': 'elC-P',\n 'aeGo': 'aelC',\n 'rAxh': 'Axh',\n 'Bt-Axh': 'Axh',\n 'Bvt-Axh': 'Bv-Ael',\n 'eMc': 'Mc',\n 'R-Bvt': 'Bvt',\n 'ilC-Swd': 'Al-Sw',\n 'mCn': 'mCv',\n 'Swd-Bbt': 'Sw-Bt',\n 'imCv': 'imCv',\n 'eCv-Sw': 'Al-Sw',\n 'Sw-lCc': 'Sw-ilC',\n 'Gro-M': 'Gro',\n 'jeAp': 'Ap',\n 'jelC': 'aelC',\n 'elCn': 'elC',\n 'Sg-ilCv': 'Sd-ilC',\n 'Swd-M': 'Sw-M',\n 'jlCv': 'ilC',\n 'Btv-Sg': 'Bt-Sd',\n 'Al-Swd-Bt': 'Al-Sw',\n 'ilCv-Bv': 'ilCbtv',\n 'Sd-C': 'Sd-lC',\n 'Bv-mCv': 'Bv-Cv',\n 'Bv-iCv': 'Bv-Cv',\n 'M-Sw-Go': 'Sw-Go',\n 'Sw-Gro': 'Sw-Go',\n 'Swd-Gro': 'Sw-Go',\n 'aeSw-M': 'Sw-M',\n 'Axh-ilC': 'Bv-ilC',\n 'Axh-elCv': 'Ah-Bv',\n 'Ah-P': 'Ah',\n 'P-Axh': 'Axh',\n 'Axh-lCc': 'Axh',\n 'lCc': 'lC',\n 'jeSwd-lC': 'Sd-lC',\n 'Sg-Btv': 'Sd-Btv',\n 'M-Ap': 'Ap',\n 'lC-Bv': 'Sw-Bv',\n 'elC-eAh': 'elC-P',\n 'Axh-Bt': 'Ael-Bt',\n 'Swd-Axh-Bht': 'Sw-Ah',\n 'Ael-Swd': 'Al-Sw',\n 'Sg-Bvt-Al': 'Sw-Bv',\n 'Sg-Bvt': 'Sw-Bv',\n 'Swd-ilC': 'Sd-ilC',\n 'Btv-Swd': 'Bt-Sd',\n 'jilC': 'ilC',\n 'Bht': 'Bhv',\n 'Al-Bht': 'Al-Bt',\n 'Swd-C': 'Sw-M',\n 'sGo': 'Go',\n 'Srw': 'Ssw',\n 'Acxh-elCkc': 'Acxh',\n 'elCkc': 'elCc',\n 'ilC-Axh': 'ilC',\n 'Bv-Axh-ilCv': 'Bv-ilC',\n 'Axh-Bcv': 'Ah-Bv',\n 'Sw-Bht': 'Sw-Bt',\n 'Bvt-Al-Sdw': 'Bt-Sd',\n 'Bvt-Sd': 'Bt-Sd',\n 'Bv-ixCv': 'Bv-ilC',\n 'Bv-P': 'Bvt',\n 'lC-Bt': 'Al-Bt',\n 'Sdw-Bht': 'Sw-Bt',\n 'aeAxh': 'Axh',\n 'Ctv': 'Cv',\n 'ixCv': 'imCv',\n 'Sd-Bt-M': 'Sd-Btv',\n 'cmCn': 'cmC',\n 'exC': 'emC',\n 'Bv-Acxh': 'Acxh',\n 'M-ilC': 'ilC',\n 'Bht-Bv': 'Ah-Bv',\n 'xCv': 'Cv',\n 'Swd-Sw': 'Sw-Bv',\n 'ixCn': 'ilC',\n 'Swd-Bv-ilC': 'Bv-ilC',\n 'Sw-Hp': 'Sw-Ap',\n 'Sw-H-Serw': 'Sw-Bv',\n 'Bt-Bv-Cv': 'Bv-Cv',\n 'Bj-Sd': 'Bt-Sd',\n 'lC-Sd': 'Bt-Sd',\n 'Bv-Tv-cC': 'Bv-ilC',\n 'Tv-cC': 'cC',\n 'Tv-cCv': 'Bv-Cv',\n 'cxC': 'cC',\n 'Sw-ilCv': 'Sw-ilC',\n 'Al-Btv-Swd': 'Bt-Sd',\n 'Bt-Gco': 'tGro',\n 'Swd-P-Bv': 'Sw-Bv',\n 'Bfv': 'Bhv',\n 'aGo-M': 'Go',\n 'sSw': 'Sw',\n 'jC': 'C',\n 'Sw-Ah-Bv': 'Sw-Bv',\n 'Sd-Cj': 'Sd-Bv',\n 'Bhv-Cv': 'Bv-Cv',\n 'Bt-Sd-Sw': 'Bt-Sd',\n 'sSdw': 'Sd',\n 'ilC-Bt-Swd': 'Bt-Sd',\n 'Ah-exC': 'Ah-Bv',\n 'Cj': 'Cj',\n 'Go-Srw': 'Gor',\n 'Bv-P-ilC': 'Bv-ilC',\n 'Sd-ilCv': 'Sd-ilC',\n 'sSwd': 'Sd',\n 'aSg-M': 'Sw-M',\n 'Bv-Tcv-elC': 'Bv-elC',\n 'Bfv-Sw-ilC': 'Bv-ilC',\n 'P-Bv': 'Bv',\n 'P-ilC': 'ilC',\n 'Bj': 'Bv',\n 'ilCv-Cj': 'ilC',\n 'Sdw-M': 'Sw-M',\n 'lCv-sGo': 'M-Go',\n 'Ap-Bv-ilCv': 'Bv-ilC',\n 'Gw-M': 'Sw-M',\n 'Btv-Sw': 'Bt-Sd',\n 'yilCv': 'ilC',\n 'Yr-Bv': 'Sw-Bv',\n 'Cj-ilCv': 'Bv-ilC',\n 'Sw-Bv-P': 'Sw-Bv',\n 'M-Sew': 'Ssw',\n 'Swd-Cj': 'Sw-Bv',\n 'Sd-Gco': 'Sw-Go',\n 'Btv-lCv': 'Bv-Cv',\n 'Sdg-Bv': 'Sd-Bv',\n 'P-Sw': 'P-Sd',\n 'Bv-P-Sd': 'Bt-Sd',\n 'lCv-Bv': 'Sw-Bv',\n 'Sew-M': 'Sw-M',\n 'Acxh-Al': 'Acxh',\n 'Acxh-Bt': 'Acxh',\n 'ilC-P': 'elC-P',\n 'Sw-Bv-Sd': 'Sw-Bv',\n 'Cj-Cv': 'Bv-Cv',\n 'Sw-lCv': 'Sw-Bv',\n 'Acp-Bcv-cC': 'Al-Bv',\n 'cC': 'cC',\n 'aeAp': 'aelC',\n 'Bv-eC': 'Bv-elC',\n 'emCn': 'emC',\n 'Ah-Bv-cCv': 'Bv-Cv',\n 'Sdw-Ah': 'Sw-Ah',\n 'arGo-P-Sd': 'P-Sd',\n 'M-P-Axh': 'Axh',\n 'aeAh-P': 'elC-P',\n 'elC-Bvt': 'Al-Bv',\n 'eCc': 'elCc',\n 'Bv-Ah-eCv': 'Bv-Cv',\n 'Bv-eCv': 'Bv-Cv',\n 'Tv': 'Cv',\n 'P-Srd': 'P-Sd',\n 'Swd-Cj-lC': 'Sd-ilC',\n 'eSg-lCv': 'Sd-lC',\n 'elCv-Sg': 'elC-P',\n 'Acp-elC-Bcv': 'Al-Bv',\n 'Bv-cCv': 'Bv-Cv',\n 'Acp-P': 'Acp',\n 'P-elCv': 'aelC',\n 'elCv-P': 'elC-P',\n 'ixC': 'ilC',\n 'aeMc': 'aelC',\n 'lC-cmC': 'cmC',\n 'Go-P': 'Go',\n 'Sd-Bt-R': 'Sd-Btv',\n 'eC': 'C',\n 'lCv-Sw': 'Al-Sw',\n 'elC-Tv': 'elC-P',\n 'eAh-P': 'elC-P',\n 'P-lC': 'ilC',\n 'Sw-Tv': 'Sw-Bv',\n 'Tv-Sw': 'Al-Sw',\n 'Tv-Swd': 'Bt-Sd',\n 'Al-Swd-Btv': 'Sd-Btv',\n 'Swd-fBj': 'Sw-Bv',\n 'Al-Sd-Bt': 'Al-Bt',\n 'Ckc': 'C',\n 'fBj-Sd': 'Bt-Sd',\n 'Tv-eCv': 'Bv-Cv',\n 'Ap-Sew': 'Al-Sw',\n 'aM-Gro': 'M-Gro',\n 'Sdw-C': 'Sw-M',\n 'Acp-clC': 'clC',\n 'Cc': 'C',\n 'Swd-Bv': 'Sw-Bv',\n 'Sdw-ilCv': 'Sd-ilC',\n 'Ah-Bv-elC': 'Bv-elC',\n 'ilC-Swd-Bv': 'Sw-Bv',\n 'elC-cmC': 'elCc',\n 'Sd-iC': 'Sd-ilC',\n 'Bv-C': 'Bv-Cv',\n ...}"
     },
     "execution_count": 21,
     "metadata": {},
     "output_type": "execute_result"
    }
   ],
   "source": [
    "# Map rare labels to frequent labels via Levenshtein distance\n",
    "# Any better ideas? Sometimes the mapping is not very faithful to geological meaning\n",
    "from jellyfish import levenshtein_distance as ld\n",
    "rare_labels_mapping = {}\n",
    "list_dict_mapping = list(dict_mapping.keys())\n",
    "for lab in df[target].unique():\n",
    "    if lab in list_dict_mapping:\n",
    "        rare_labels_mapping[lab] = lab # for applying the map later in the df, we need the identity mappings as well\n",
    "    else:\n",
    "        similarities = [ld(lab, freq_lab) for freq_lab in list_dict_mapping]\n",
    "        best_match = list_dict_mapping[np.argmin(similarities)]\n",
    "        rare_labels_mapping[lab] = best_match\n",
    "rare_labels_mapping"
   ],
   "metadata": {
    "collapsed": false,
    "pycharm": {
     "name": "#%%\n"
    }
   }
  },
  {
   "cell_type": "code",
   "execution_count": 22,
   "outputs": [
    {
     "data": {
      "text/plain": "1218"
     },
     "execution_count": 22,
     "metadata": {},
     "output_type": "execute_result"
    }
   ],
   "source": [
    "len(rare_labels_mapping)\n",
    "# ToDo: manually correct the weird mappings\n",
    "# Note: maybe use a second string distance to decide the winner, in case of a tie?"
   ],
   "metadata": {
    "collapsed": false,
    "pycharm": {
     "name": "#%%\n"
    }
   }
  },
  {
   "cell_type": "code",
   "execution_count": 23,
   "outputs": [
    {
     "name": "stderr",
     "output_type": "stream",
     "text": [
      "/tmp/ipykernel_986842/3489057721.py:2: SettingWithCopyWarning: \n",
      "A value is trying to be set on a copy of a slice from a DataFrame.\n",
      "Try using .loc[row_indexer,col_indexer] = value instead\n",
      "\n",
      "See the caveats in the documentation: https://pandas.pydata.org/pandas-docs/stable/user_guide/indexing.html#returning-a-view-versus-a-copy\n",
      "  df[target] = df[target].map(rare_labels_mapping)\n"
     ]
    },
    {
     "data": {
      "text/plain": "        Point  Obergrenze  Untergrenze Horizontsymbol_relevant Bodenart  \\\n0         2.0         0.0         28.0                      Ap      Sl2   \n1         2.0        28.0         54.0                       E      Sl2   \n2         2.0        54.0         68.0                      Bv      Sl2   \n3         2.0        68.0         96.0                  Bv-ilC     fSms   \n4         2.0        96.0        201.0                     ilC     mSfs   \n...       ...         ...          ...                     ...      ...   \n16307  6211.0        27.0         50.0                     Bhs     fSms   \n16308  6211.0        50.0         70.0                     Bsh     fSms   \n16309  6211.0        50.0         70.0                     Bsh     fSms   \n16310  6211.0        70.0        100.0                  Go-ilC     fSms   \n16311  6211.0        70.0        100.0                  Go-ilC     fSms   \n\n      Bodenfarbe  Steine Karbonat Humusgehaltsklasse Durchwurzelung  \\\n0      7.5YR 3/2     3.0       C0                 h3            Wf4   \n1       10YR 3/3     3.0       C0                 h2            Wf3   \n2      7.5YR 4/3    10.0       C0                 h1            Wf3   \n3      7.5YR 6/4     1.0       C0                 h0            Wf2   \n4       10YR 7/4     1.0       C0                 h0            Wf0   \n...          ...     ...      ...                ...            ...   \n16307    5YR 3/2     1.0       C0                 h2            Wf3   \n16308    5YR 4/3     1.0       C0                 h1            Wf2   \n16309    5YR 4/3     1.0       C0                 h1            Wf2   \n16310  7.5YR 5/4     1.0       C0                 h1            Wf6   \n16311  7.5YR 5/4     1.0       C0                 h1            Wf6   \n\n                                                    file  Probenahme_Monat  \\\n0      ../data/BGR/Profilbilder_no_ruler_no_sky/SH_00...                11   \n1      ../data/BGR/Profilbilder_no_ruler_no_sky/SH_00...                11   \n2      ../data/BGR/Profilbilder_no_ruler_no_sky/SH_00...                11   \n3      ../data/BGR/Profilbilder_no_ruler_no_sky/SH_00...                11   \n4      ../data/BGR/Profilbilder_no_ruler_no_sky/SH_00...                11   \n...                                                  ...               ...   \n16307  ../data/BGR/Profilbilder_no_ruler_no_sky/NI_62...                 6   \n16308  ../data/BGR/Profilbilder_no_ruler_no_sky/NI_62...                 6   \n16309  ../data/BGR/Profilbilder_no_ruler_no_sky/NI_62...                 6   \n16310  ../data/BGR/Profilbilder_no_ruler_no_sky/NI_62...                 6   \n16311  ../data/BGR/Profilbilder_no_ruler_no_sky/NI_62...                 6   \n\n       Probenahme_Jahr       xcoord       ycoord  \\\n0                 2015  462216.1283  6079359.775   \n1                 2015  462216.1283  6079359.775   \n2                 2015  462216.1283  6079359.775   \n3                 2015  462216.1283  6079359.775   \n4                 2015  462216.1283  6079359.775   \n...                ...          ...          ...   \n16307             2012  522076.9633  5930456.114   \n16308             2012  522076.9633  5930456.114   \n16309             2012  522076.9633  5930456.114   \n16310             2012  522076.9633  5930456.114   \n16311             2012  522076.9633  5930456.114   \n\n                      Bodenklimaraum_Name Landnutzung BZE_Moor Hauptbodentyp  \\\n0                           Marsch - Nord           A        0            YE   \n1                           Marsch - Nord           A        0            YE   \n2                           Marsch - Nord           A        0            YE   \n3                           Marsch - Nord           A        0            YE   \n4                           Marsch - Nord           A        0            YE   \n...                                   ...         ...      ...           ...   \n16307  Elbe-Weser-Dreieck / sandige Böden           G        0            PP   \n16308  Elbe-Weser-Dreieck / sandige Böden           G        0            PP   \n16309  Elbe-Weser-Dreieck / sandige Böden           G        0            PP   \n16310  Elbe-Weser-Dreieck / sandige Böden           G        0            PP   \n16311  Elbe-Weser-Dreieck / sandige Böden           G        0            PP   \n\n      BodenVarTypSub GrundwaStufe  GrundwaStand  Moormaechtigkeit  \\\n0              YE/BB            0         200.0               0.0   \n1              YE/BB            0         200.0               0.0   \n2              YE/BB            0         200.0               0.0   \n3              YE/BB            0         200.0               0.0   \n4              YE/BB            0         200.0               0.0   \n...              ...          ...           ...               ...   \n16307          GG-PP         GWS4         110.0               0.0   \n16308          GG-PP         GWS4         110.0               0.0   \n16309          GG-PP         GWS4         110.0               0.0   \n16310          GG-PP         GWS4         110.0               0.0   \n16311          GG-PP         GWS4         110.0               0.0   \n\n       Torfmaechtigkeit Neigung Exposition Woelbung Reliefformtyp  \\\n0                   0.0      N0         KE       GG             V   \n1                   0.0      N0         KE       GG             V   \n2                   0.0      N0         KE       GG             V   \n3                   0.0      N0         KE       GG             V   \n4                   0.0      N0         KE       GG             V   \n...                 ...     ...        ...      ...           ...   \n16307               0.0      N0         KE       GG           TSF   \n16308               0.0      N0         KE       GG           TSF   \n16309               0.0      N0         KE       GG           TSF   \n16310               0.0      N0         KE       GG           TSF   \n16311               0.0      N0         KE       GG           TSF   \n\n      LageImRelief  KV_0_30  KV_30_100  \n0                Z    81.89      54.19  \n1                Z    81.89      54.19  \n2                Z    81.89      54.19  \n3                Z    81.89      54.19  \n4                Z    81.89      54.19  \n...            ...      ...        ...  \n16307            T   117.59      87.72  \n16308            T   117.59      87.72  \n16309            T   117.59      87.72  \n16310            T   117.59      87.72  \n16311            T   117.59      87.72  \n\n[13621 rows x 31 columns]",
      "text/html": "<div>\n<style scoped>\n    .dataframe tbody tr th:only-of-type {\n        vertical-align: middle;\n    }\n\n    .dataframe tbody tr th {\n        vertical-align: top;\n    }\n\n    .dataframe thead th {\n        text-align: right;\n    }\n</style>\n<table border=\"1\" class=\"dataframe\">\n  <thead>\n    <tr style=\"text-align: right;\">\n      <th></th>\n      <th>Point</th>\n      <th>Obergrenze</th>\n      <th>Untergrenze</th>\n      <th>Horizontsymbol_relevant</th>\n      <th>Bodenart</th>\n      <th>Bodenfarbe</th>\n      <th>Steine</th>\n      <th>Karbonat</th>\n      <th>Humusgehaltsklasse</th>\n      <th>Durchwurzelung</th>\n      <th>file</th>\n      <th>Probenahme_Monat</th>\n      <th>Probenahme_Jahr</th>\n      <th>xcoord</th>\n      <th>ycoord</th>\n      <th>Bodenklimaraum_Name</th>\n      <th>Landnutzung</th>\n      <th>BZE_Moor</th>\n      <th>Hauptbodentyp</th>\n      <th>BodenVarTypSub</th>\n      <th>GrundwaStufe</th>\n      <th>GrundwaStand</th>\n      <th>Moormaechtigkeit</th>\n      <th>Torfmaechtigkeit</th>\n      <th>Neigung</th>\n      <th>Exposition</th>\n      <th>Woelbung</th>\n      <th>Reliefformtyp</th>\n      <th>LageImRelief</th>\n      <th>KV_0_30</th>\n      <th>KV_30_100</th>\n    </tr>\n  </thead>\n  <tbody>\n    <tr>\n      <th>0</th>\n      <td>2.0</td>\n      <td>0.0</td>\n      <td>28.0</td>\n      <td>Ap</td>\n      <td>Sl2</td>\n      <td>7.5YR 3/2</td>\n      <td>3.0</td>\n      <td>C0</td>\n      <td>h3</td>\n      <td>Wf4</td>\n      <td>../data/BGR/Profilbilder_no_ruler_no_sky/SH_00...</td>\n      <td>11</td>\n      <td>2015</td>\n      <td>462216.1283</td>\n      <td>6079359.775</td>\n      <td>Marsch - Nord</td>\n      <td>A</td>\n      <td>0</td>\n      <td>YE</td>\n      <td>YE/BB</td>\n      <td>0</td>\n      <td>200.0</td>\n      <td>0.0</td>\n      <td>0.0</td>\n      <td>N0</td>\n      <td>KE</td>\n      <td>GG</td>\n      <td>V</td>\n      <td>Z</td>\n      <td>81.89</td>\n      <td>54.19</td>\n    </tr>\n    <tr>\n      <th>1</th>\n      <td>2.0</td>\n      <td>28.0</td>\n      <td>54.0</td>\n      <td>E</td>\n      <td>Sl2</td>\n      <td>10YR 3/3</td>\n      <td>3.0</td>\n      <td>C0</td>\n      <td>h2</td>\n      <td>Wf3</td>\n      <td>../data/BGR/Profilbilder_no_ruler_no_sky/SH_00...</td>\n      <td>11</td>\n      <td>2015</td>\n      <td>462216.1283</td>\n      <td>6079359.775</td>\n      <td>Marsch - Nord</td>\n      <td>A</td>\n      <td>0</td>\n      <td>YE</td>\n      <td>YE/BB</td>\n      <td>0</td>\n      <td>200.0</td>\n      <td>0.0</td>\n      <td>0.0</td>\n      <td>N0</td>\n      <td>KE</td>\n      <td>GG</td>\n      <td>V</td>\n      <td>Z</td>\n      <td>81.89</td>\n      <td>54.19</td>\n    </tr>\n    <tr>\n      <th>2</th>\n      <td>2.0</td>\n      <td>54.0</td>\n      <td>68.0</td>\n      <td>Bv</td>\n      <td>Sl2</td>\n      <td>7.5YR 4/3</td>\n      <td>10.0</td>\n      <td>C0</td>\n      <td>h1</td>\n      <td>Wf3</td>\n      <td>../data/BGR/Profilbilder_no_ruler_no_sky/SH_00...</td>\n      <td>11</td>\n      <td>2015</td>\n      <td>462216.1283</td>\n      <td>6079359.775</td>\n      <td>Marsch - Nord</td>\n      <td>A</td>\n      <td>0</td>\n      <td>YE</td>\n      <td>YE/BB</td>\n      <td>0</td>\n      <td>200.0</td>\n      <td>0.0</td>\n      <td>0.0</td>\n      <td>N0</td>\n      <td>KE</td>\n      <td>GG</td>\n      <td>V</td>\n      <td>Z</td>\n      <td>81.89</td>\n      <td>54.19</td>\n    </tr>\n    <tr>\n      <th>3</th>\n      <td>2.0</td>\n      <td>68.0</td>\n      <td>96.0</td>\n      <td>Bv-ilC</td>\n      <td>fSms</td>\n      <td>7.5YR 6/4</td>\n      <td>1.0</td>\n      <td>C0</td>\n      <td>h0</td>\n      <td>Wf2</td>\n      <td>../data/BGR/Profilbilder_no_ruler_no_sky/SH_00...</td>\n      <td>11</td>\n      <td>2015</td>\n      <td>462216.1283</td>\n      <td>6079359.775</td>\n      <td>Marsch - Nord</td>\n      <td>A</td>\n      <td>0</td>\n      <td>YE</td>\n      <td>YE/BB</td>\n      <td>0</td>\n      <td>200.0</td>\n      <td>0.0</td>\n      <td>0.0</td>\n      <td>N0</td>\n      <td>KE</td>\n      <td>GG</td>\n      <td>V</td>\n      <td>Z</td>\n      <td>81.89</td>\n      <td>54.19</td>\n    </tr>\n    <tr>\n      <th>4</th>\n      <td>2.0</td>\n      <td>96.0</td>\n      <td>201.0</td>\n      <td>ilC</td>\n      <td>mSfs</td>\n      <td>10YR 7/4</td>\n      <td>1.0</td>\n      <td>C0</td>\n      <td>h0</td>\n      <td>Wf0</td>\n      <td>../data/BGR/Profilbilder_no_ruler_no_sky/SH_00...</td>\n      <td>11</td>\n      <td>2015</td>\n      <td>462216.1283</td>\n      <td>6079359.775</td>\n      <td>Marsch - Nord</td>\n      <td>A</td>\n      <td>0</td>\n      <td>YE</td>\n      <td>YE/BB</td>\n      <td>0</td>\n      <td>200.0</td>\n      <td>0.0</td>\n      <td>0.0</td>\n      <td>N0</td>\n      <td>KE</td>\n      <td>GG</td>\n      <td>V</td>\n      <td>Z</td>\n      <td>81.89</td>\n      <td>54.19</td>\n    </tr>\n    <tr>\n      <th>...</th>\n      <td>...</td>\n      <td>...</td>\n      <td>...</td>\n      <td>...</td>\n      <td>...</td>\n      <td>...</td>\n      <td>...</td>\n      <td>...</td>\n      <td>...</td>\n      <td>...</td>\n      <td>...</td>\n      <td>...</td>\n      <td>...</td>\n      <td>...</td>\n      <td>...</td>\n      <td>...</td>\n      <td>...</td>\n      <td>...</td>\n      <td>...</td>\n      <td>...</td>\n      <td>...</td>\n      <td>...</td>\n      <td>...</td>\n      <td>...</td>\n      <td>...</td>\n      <td>...</td>\n      <td>...</td>\n      <td>...</td>\n      <td>...</td>\n      <td>...</td>\n      <td>...</td>\n    </tr>\n    <tr>\n      <th>16307</th>\n      <td>6211.0</td>\n      <td>27.0</td>\n      <td>50.0</td>\n      <td>Bhs</td>\n      <td>fSms</td>\n      <td>5YR 3/2</td>\n      <td>1.0</td>\n      <td>C0</td>\n      <td>h2</td>\n      <td>Wf3</td>\n      <td>../data/BGR/Profilbilder_no_ruler_no_sky/NI_62...</td>\n      <td>6</td>\n      <td>2012</td>\n      <td>522076.9633</td>\n      <td>5930456.114</td>\n      <td>Elbe-Weser-Dreieck / sandige Böden</td>\n      <td>G</td>\n      <td>0</td>\n      <td>PP</td>\n      <td>GG-PP</td>\n      <td>GWS4</td>\n      <td>110.0</td>\n      <td>0.0</td>\n      <td>0.0</td>\n      <td>N0</td>\n      <td>KE</td>\n      <td>GG</td>\n      <td>TSF</td>\n      <td>T</td>\n      <td>117.59</td>\n      <td>87.72</td>\n    </tr>\n    <tr>\n      <th>16308</th>\n      <td>6211.0</td>\n      <td>50.0</td>\n      <td>70.0</td>\n      <td>Bsh</td>\n      <td>fSms</td>\n      <td>5YR 4/3</td>\n      <td>1.0</td>\n      <td>C0</td>\n      <td>h1</td>\n      <td>Wf2</td>\n      <td>../data/BGR/Profilbilder_no_ruler_no_sky/NI_62...</td>\n      <td>6</td>\n      <td>2012</td>\n      <td>522076.9633</td>\n      <td>5930456.114</td>\n      <td>Elbe-Weser-Dreieck / sandige Böden</td>\n      <td>G</td>\n      <td>0</td>\n      <td>PP</td>\n      <td>GG-PP</td>\n      <td>GWS4</td>\n      <td>110.0</td>\n      <td>0.0</td>\n      <td>0.0</td>\n      <td>N0</td>\n      <td>KE</td>\n      <td>GG</td>\n      <td>TSF</td>\n      <td>T</td>\n      <td>117.59</td>\n      <td>87.72</td>\n    </tr>\n    <tr>\n      <th>16309</th>\n      <td>6211.0</td>\n      <td>50.0</td>\n      <td>70.0</td>\n      <td>Bsh</td>\n      <td>fSms</td>\n      <td>5YR 4/3</td>\n      <td>1.0</td>\n      <td>C0</td>\n      <td>h1</td>\n      <td>Wf2</td>\n      <td>../data/BGR/Profilbilder_no_ruler_no_sky/NI_62...</td>\n      <td>6</td>\n      <td>2012</td>\n      <td>522076.9633</td>\n      <td>5930456.114</td>\n      <td>Elbe-Weser-Dreieck / sandige Böden</td>\n      <td>G</td>\n      <td>0</td>\n      <td>PP</td>\n      <td>GG-PP</td>\n      <td>GWS4</td>\n      <td>110.0</td>\n      <td>0.0</td>\n      <td>0.0</td>\n      <td>N0</td>\n      <td>KE</td>\n      <td>GG</td>\n      <td>TSF</td>\n      <td>T</td>\n      <td>117.59</td>\n      <td>87.72</td>\n    </tr>\n    <tr>\n      <th>16310</th>\n      <td>6211.0</td>\n      <td>70.0</td>\n      <td>100.0</td>\n      <td>Go-ilC</td>\n      <td>fSms</td>\n      <td>7.5YR 5/4</td>\n      <td>1.0</td>\n      <td>C0</td>\n      <td>h1</td>\n      <td>Wf6</td>\n      <td>../data/BGR/Profilbilder_no_ruler_no_sky/NI_62...</td>\n      <td>6</td>\n      <td>2012</td>\n      <td>522076.9633</td>\n      <td>5930456.114</td>\n      <td>Elbe-Weser-Dreieck / sandige Böden</td>\n      <td>G</td>\n      <td>0</td>\n      <td>PP</td>\n      <td>GG-PP</td>\n      <td>GWS4</td>\n      <td>110.0</td>\n      <td>0.0</td>\n      <td>0.0</td>\n      <td>N0</td>\n      <td>KE</td>\n      <td>GG</td>\n      <td>TSF</td>\n      <td>T</td>\n      <td>117.59</td>\n      <td>87.72</td>\n    </tr>\n    <tr>\n      <th>16311</th>\n      <td>6211.0</td>\n      <td>70.0</td>\n      <td>100.0</td>\n      <td>Go-ilC</td>\n      <td>fSms</td>\n      <td>7.5YR 5/4</td>\n      <td>1.0</td>\n      <td>C0</td>\n      <td>h1</td>\n      <td>Wf6</td>\n      <td>../data/BGR/Profilbilder_no_ruler_no_sky/NI_62...</td>\n      <td>6</td>\n      <td>2012</td>\n      <td>522076.9633</td>\n      <td>5930456.114</td>\n      <td>Elbe-Weser-Dreieck / sandige Böden</td>\n      <td>G</td>\n      <td>0</td>\n      <td>PP</td>\n      <td>GG-PP</td>\n      <td>GWS4</td>\n      <td>110.0</td>\n      <td>0.0</td>\n      <td>0.0</td>\n      <td>N0</td>\n      <td>KE</td>\n      <td>GG</td>\n      <td>TSF</td>\n      <td>T</td>\n      <td>117.59</td>\n      <td>87.72</td>\n    </tr>\n  </tbody>\n</table>\n<p>13621 rows × 31 columns</p>\n</div>"
     },
     "execution_count": 23,
     "metadata": {},
     "output_type": "execute_result"
    }
   ],
   "source": [
    "# Map rare labels onto frequent labels\n",
    "df[target] = df[target].map(rare_labels_mapping)\n",
    "df"
   ],
   "metadata": {
    "collapsed": false,
    "pycharm": {
     "name": "#%%\n"
    }
   }
  },
  {
   "cell_type": "code",
   "execution_count": 24,
   "outputs": [
    {
     "name": "stderr",
     "output_type": "stream",
     "text": [
      "/tmp/ipykernel_986842/1051670463.py:3: SettingWithCopyWarning: \n",
      "A value is trying to be set on a copy of a slice from a DataFrame.\n",
      "Try using .loc[row_indexer,col_indexer] = value instead\n",
      "\n",
      "See the caveats in the documentation: https://pandas.pydata.org/pandas-docs/stable/user_guide/indexing.html#returning-a-view-versus-a-copy\n",
      "  df[target] = df[target].map(dict_mapping) # in conjunction with HCEs\n",
      "/tmp/ipykernel_986842/1051670463.py:4: SettingWithCopyWarning: \n",
      "A value is trying to be set on a copy of a slice from a DataFrame.\n",
      "Try using .loc[row_indexer,col_indexer] = value instead\n",
      "\n",
      "See the caveats in the documentation: https://pandas.pydata.org/pandas-docs/stable/user_guide/indexing.html#returning-a-view-versus-a-copy\n",
      "  df[target] = df[target].astype(int)\n"
     ]
    },
    {
     "data": {
      "text/plain": "   Point  Obergrenze  Untergrenze  Horizontsymbol_relevant Bodenart  \\\n0    2.0         0.0         28.0                       22      Sl2   \n1    2.0        28.0         54.0                        5      Sl2   \n2    2.0        54.0         68.0                       32      Sl2   \n3    2.0        68.0         96.0                       62     fSms   \n4    2.0        96.0        201.0                        0     mSfs   \n\n  Bodenfarbe  Steine Karbonat Humusgehaltsklasse Durchwurzelung  \\\n0  7.5YR 3/2     3.0       C0                 h3            Wf4   \n1   10YR 3/3     3.0       C0                 h2            Wf3   \n2  7.5YR 4/3    10.0       C0                 h1            Wf3   \n3  7.5YR 6/4     1.0       C0                 h0            Wf2   \n4   10YR 7/4     1.0       C0                 h0            Wf0   \n\n                                                file  Probenahme_Monat  \\\n0  ../data/BGR/Profilbilder_no_ruler_no_sky/SH_00...                11   \n1  ../data/BGR/Profilbilder_no_ruler_no_sky/SH_00...                11   \n2  ../data/BGR/Profilbilder_no_ruler_no_sky/SH_00...                11   \n3  ../data/BGR/Profilbilder_no_ruler_no_sky/SH_00...                11   \n4  ../data/BGR/Profilbilder_no_ruler_no_sky/SH_00...                11   \n\n   Probenahme_Jahr       xcoord       ycoord Bodenklimaraum_Name Landnutzung  \\\n0             2015  462216.1283  6079359.775       Marsch - Nord           A   \n1             2015  462216.1283  6079359.775       Marsch - Nord           A   \n2             2015  462216.1283  6079359.775       Marsch - Nord           A   \n3             2015  462216.1283  6079359.775       Marsch - Nord           A   \n4             2015  462216.1283  6079359.775       Marsch - Nord           A   \n\n  BZE_Moor Hauptbodentyp BodenVarTypSub GrundwaStufe  GrundwaStand  \\\n0        0            YE          YE/BB            0         200.0   \n1        0            YE          YE/BB            0         200.0   \n2        0            YE          YE/BB            0         200.0   \n3        0            YE          YE/BB            0         200.0   \n4        0            YE          YE/BB            0         200.0   \n\n   Moormaechtigkeit  Torfmaechtigkeit Neigung Exposition Woelbung  \\\n0               0.0               0.0      N0         KE       GG   \n1               0.0               0.0      N0         KE       GG   \n2               0.0               0.0      N0         KE       GG   \n3               0.0               0.0      N0         KE       GG   \n4               0.0               0.0      N0         KE       GG   \n\n  Reliefformtyp LageImRelief  KV_0_30  KV_30_100  \n0             V            Z    81.89      54.19  \n1             V            Z    81.89      54.19  \n2             V            Z    81.89      54.19  \n3             V            Z    81.89      54.19  \n4             V            Z    81.89      54.19  ",
      "text/html": "<div>\n<style scoped>\n    .dataframe tbody tr th:only-of-type {\n        vertical-align: middle;\n    }\n\n    .dataframe tbody tr th {\n        vertical-align: top;\n    }\n\n    .dataframe thead th {\n        text-align: right;\n    }\n</style>\n<table border=\"1\" class=\"dataframe\">\n  <thead>\n    <tr style=\"text-align: right;\">\n      <th></th>\n      <th>Point</th>\n      <th>Obergrenze</th>\n      <th>Untergrenze</th>\n      <th>Horizontsymbol_relevant</th>\n      <th>Bodenart</th>\n      <th>Bodenfarbe</th>\n      <th>Steine</th>\n      <th>Karbonat</th>\n      <th>Humusgehaltsklasse</th>\n      <th>Durchwurzelung</th>\n      <th>file</th>\n      <th>Probenahme_Monat</th>\n      <th>Probenahme_Jahr</th>\n      <th>xcoord</th>\n      <th>ycoord</th>\n      <th>Bodenklimaraum_Name</th>\n      <th>Landnutzung</th>\n      <th>BZE_Moor</th>\n      <th>Hauptbodentyp</th>\n      <th>BodenVarTypSub</th>\n      <th>GrundwaStufe</th>\n      <th>GrundwaStand</th>\n      <th>Moormaechtigkeit</th>\n      <th>Torfmaechtigkeit</th>\n      <th>Neigung</th>\n      <th>Exposition</th>\n      <th>Woelbung</th>\n      <th>Reliefformtyp</th>\n      <th>LageImRelief</th>\n      <th>KV_0_30</th>\n      <th>KV_30_100</th>\n    </tr>\n  </thead>\n  <tbody>\n    <tr>\n      <th>0</th>\n      <td>2.0</td>\n      <td>0.0</td>\n      <td>28.0</td>\n      <td>22</td>\n      <td>Sl2</td>\n      <td>7.5YR 3/2</td>\n      <td>3.0</td>\n      <td>C0</td>\n      <td>h3</td>\n      <td>Wf4</td>\n      <td>../data/BGR/Profilbilder_no_ruler_no_sky/SH_00...</td>\n      <td>11</td>\n      <td>2015</td>\n      <td>462216.1283</td>\n      <td>6079359.775</td>\n      <td>Marsch - Nord</td>\n      <td>A</td>\n      <td>0</td>\n      <td>YE</td>\n      <td>YE/BB</td>\n      <td>0</td>\n      <td>200.0</td>\n      <td>0.0</td>\n      <td>0.0</td>\n      <td>N0</td>\n      <td>KE</td>\n      <td>GG</td>\n      <td>V</td>\n      <td>Z</td>\n      <td>81.89</td>\n      <td>54.19</td>\n    </tr>\n    <tr>\n      <th>1</th>\n      <td>2.0</td>\n      <td>28.0</td>\n      <td>54.0</td>\n      <td>5</td>\n      <td>Sl2</td>\n      <td>10YR 3/3</td>\n      <td>3.0</td>\n      <td>C0</td>\n      <td>h2</td>\n      <td>Wf3</td>\n      <td>../data/BGR/Profilbilder_no_ruler_no_sky/SH_00...</td>\n      <td>11</td>\n      <td>2015</td>\n      <td>462216.1283</td>\n      <td>6079359.775</td>\n      <td>Marsch - Nord</td>\n      <td>A</td>\n      <td>0</td>\n      <td>YE</td>\n      <td>YE/BB</td>\n      <td>0</td>\n      <td>200.0</td>\n      <td>0.0</td>\n      <td>0.0</td>\n      <td>N0</td>\n      <td>KE</td>\n      <td>GG</td>\n      <td>V</td>\n      <td>Z</td>\n      <td>81.89</td>\n      <td>54.19</td>\n    </tr>\n    <tr>\n      <th>2</th>\n      <td>2.0</td>\n      <td>54.0</td>\n      <td>68.0</td>\n      <td>32</td>\n      <td>Sl2</td>\n      <td>7.5YR 4/3</td>\n      <td>10.0</td>\n      <td>C0</td>\n      <td>h1</td>\n      <td>Wf3</td>\n      <td>../data/BGR/Profilbilder_no_ruler_no_sky/SH_00...</td>\n      <td>11</td>\n      <td>2015</td>\n      <td>462216.1283</td>\n      <td>6079359.775</td>\n      <td>Marsch - Nord</td>\n      <td>A</td>\n      <td>0</td>\n      <td>YE</td>\n      <td>YE/BB</td>\n      <td>0</td>\n      <td>200.0</td>\n      <td>0.0</td>\n      <td>0.0</td>\n      <td>N0</td>\n      <td>KE</td>\n      <td>GG</td>\n      <td>V</td>\n      <td>Z</td>\n      <td>81.89</td>\n      <td>54.19</td>\n    </tr>\n    <tr>\n      <th>3</th>\n      <td>2.0</td>\n      <td>68.0</td>\n      <td>96.0</td>\n      <td>62</td>\n      <td>fSms</td>\n      <td>7.5YR 6/4</td>\n      <td>1.0</td>\n      <td>C0</td>\n      <td>h0</td>\n      <td>Wf2</td>\n      <td>../data/BGR/Profilbilder_no_ruler_no_sky/SH_00...</td>\n      <td>11</td>\n      <td>2015</td>\n      <td>462216.1283</td>\n      <td>6079359.775</td>\n      <td>Marsch - Nord</td>\n      <td>A</td>\n      <td>0</td>\n      <td>YE</td>\n      <td>YE/BB</td>\n      <td>0</td>\n      <td>200.0</td>\n      <td>0.0</td>\n      <td>0.0</td>\n      <td>N0</td>\n      <td>KE</td>\n      <td>GG</td>\n      <td>V</td>\n      <td>Z</td>\n      <td>81.89</td>\n      <td>54.19</td>\n    </tr>\n    <tr>\n      <th>4</th>\n      <td>2.0</td>\n      <td>96.0</td>\n      <td>201.0</td>\n      <td>0</td>\n      <td>mSfs</td>\n      <td>10YR 7/4</td>\n      <td>1.0</td>\n      <td>C0</td>\n      <td>h0</td>\n      <td>Wf0</td>\n      <td>../data/BGR/Profilbilder_no_ruler_no_sky/SH_00...</td>\n      <td>11</td>\n      <td>2015</td>\n      <td>462216.1283</td>\n      <td>6079359.775</td>\n      <td>Marsch - Nord</td>\n      <td>A</td>\n      <td>0</td>\n      <td>YE</td>\n      <td>YE/BB</td>\n      <td>0</td>\n      <td>200.0</td>\n      <td>0.0</td>\n      <td>0.0</td>\n      <td>N0</td>\n      <td>KE</td>\n      <td>GG</td>\n      <td>V</td>\n      <td>Z</td>\n      <td>81.89</td>\n      <td>54.19</td>\n    </tr>\n  </tbody>\n</table>\n</div>"
     },
     "execution_count": 24,
     "metadata": {},
     "output_type": "execute_result"
    }
   ],
   "source": [
    "# One-hot encoding of the target column\n",
    "#bgr_data.encode_categorical_columns(df, target) # for standard one-hot vectors of the targets\n",
    "df[target] = df[target].map(dict_mapping) # in conjunction with HCEs\n",
    "df[target] = df[target].astype(int)\n",
    "df.head(5)"
   ],
   "metadata": {
    "collapsed": false,
    "pycharm": {
     "name": "#%%\n"
    }
   }
  },
  {
   "cell_type": "code",
   "execution_count": 25,
   "outputs": [
    {
     "name": "stderr",
     "output_type": "stream",
     "text": [
      "/mnt/KInsektDaten/teo/./BGR/bgr/soil/datasets.py:35: SettingWithCopyWarning: \n",
      "A value is trying to be set on a copy of a slice from a DataFrame.\n",
      "Try using .loc[row_indexer,col_indexer] = value instead\n",
      "\n",
      "See the caveats in the documentation: https://pandas.pydata.org/pandas-docs/stable/user_guide/indexing.html#returning-a-view-versus-a-copy\n",
      "  df[col_name] = df[col_name].replace(counts.index, range(len(counts)))\n",
      "/mnt/KInsektDaten/teo/./BGR/bgr/soil/datasets.py:35: FutureWarning: Downcasting behavior in `replace` is deprecated and will be removed in a future version. To retain the old behavior, explicitly call `result.infer_objects(copy=False)`. To opt-in to the future behavior, set `pd.set_option('future.no_silent_downcasting', True)`\n",
      "  df[col_name] = df[col_name].replace(counts.index, range(len(counts)))\n",
      "/mnt/KInsektDaten/teo/./BGR/bgr/soil/datasets.py:35: SettingWithCopyWarning: \n",
      "A value is trying to be set on a copy of a slice from a DataFrame.\n",
      "Try using .loc[row_indexer,col_indexer] = value instead\n",
      "\n",
      "See the caveats in the documentation: https://pandas.pydata.org/pandas-docs/stable/user_guide/indexing.html#returning-a-view-versus-a-copy\n",
      "  df[col_name] = df[col_name].replace(counts.index, range(len(counts)))\n",
      "/mnt/KInsektDaten/teo/./BGR/bgr/soil/datasets.py:35: FutureWarning: Downcasting behavior in `replace` is deprecated and will be removed in a future version. To retain the old behavior, explicitly call `result.infer_objects(copy=False)`. To opt-in to the future behavior, set `pd.set_option('future.no_silent_downcasting', True)`\n",
      "  df[col_name] = df[col_name].replace(counts.index, range(len(counts)))\n",
      "/mnt/KInsektDaten/teo/./BGR/bgr/soil/datasets.py:35: SettingWithCopyWarning: \n",
      "A value is trying to be set on a copy of a slice from a DataFrame.\n",
      "Try using .loc[row_indexer,col_indexer] = value instead\n",
      "\n",
      "See the caveats in the documentation: https://pandas.pydata.org/pandas-docs/stable/user_guide/indexing.html#returning-a-view-versus-a-copy\n",
      "  df[col_name] = df[col_name].replace(counts.index, range(len(counts)))\n",
      "/mnt/KInsektDaten/teo/./BGR/bgr/soil/datasets.py:35: FutureWarning: Downcasting behavior in `replace` is deprecated and will be removed in a future version. To retain the old behavior, explicitly call `result.infer_objects(copy=False)`. To opt-in to the future behavior, set `pd.set_option('future.no_silent_downcasting', True)`\n",
      "  df[col_name] = df[col_name].replace(counts.index, range(len(counts)))\n",
      "/mnt/KInsektDaten/teo/./BGR/bgr/soil/datasets.py:35: SettingWithCopyWarning: \n",
      "A value is trying to be set on a copy of a slice from a DataFrame.\n",
      "Try using .loc[row_indexer,col_indexer] = value instead\n",
      "\n",
      "See the caveats in the documentation: https://pandas.pydata.org/pandas-docs/stable/user_guide/indexing.html#returning-a-view-versus-a-copy\n",
      "  df[col_name] = df[col_name].replace(counts.index, range(len(counts)))\n",
      "/mnt/KInsektDaten/teo/./BGR/bgr/soil/datasets.py:35: FutureWarning: Downcasting behavior in `replace` is deprecated and will be removed in a future version. To retain the old behavior, explicitly call `result.infer_objects(copy=False)`. To opt-in to the future behavior, set `pd.set_option('future.no_silent_downcasting', True)`\n",
      "  df[col_name] = df[col_name].replace(counts.index, range(len(counts)))\n",
      "/mnt/KInsektDaten/teo/./BGR/bgr/soil/datasets.py:35: SettingWithCopyWarning: \n",
      "A value is trying to be set on a copy of a slice from a DataFrame.\n",
      "Try using .loc[row_indexer,col_indexer] = value instead\n",
      "\n",
      "See the caveats in the documentation: https://pandas.pydata.org/pandas-docs/stable/user_guide/indexing.html#returning-a-view-versus-a-copy\n",
      "  df[col_name] = df[col_name].replace(counts.index, range(len(counts)))\n",
      "/mnt/KInsektDaten/teo/./BGR/bgr/soil/datasets.py:35: FutureWarning: Downcasting behavior in `replace` is deprecated and will be removed in a future version. To retain the old behavior, explicitly call `result.infer_objects(copy=False)`. To opt-in to the future behavior, set `pd.set_option('future.no_silent_downcasting', True)`\n",
      "  df[col_name] = df[col_name].replace(counts.index, range(len(counts)))\n",
      "/mnt/KInsektDaten/teo/./BGR/bgr/soil/datasets.py:35: SettingWithCopyWarning: \n",
      "A value is trying to be set on a copy of a slice from a DataFrame.\n",
      "Try using .loc[row_indexer,col_indexer] = value instead\n",
      "\n",
      "See the caveats in the documentation: https://pandas.pydata.org/pandas-docs/stable/user_guide/indexing.html#returning-a-view-versus-a-copy\n",
      "  df[col_name] = df[col_name].replace(counts.index, range(len(counts)))\n",
      "/mnt/KInsektDaten/teo/./BGR/bgr/soil/datasets.py:35: FutureWarning: Downcasting behavior in `replace` is deprecated and will be removed in a future version. To retain the old behavior, explicitly call `result.infer_objects(copy=False)`. To opt-in to the future behavior, set `pd.set_option('future.no_silent_downcasting', True)`\n",
      "  df[col_name] = df[col_name].replace(counts.index, range(len(counts)))\n",
      "/mnt/KInsektDaten/teo/./BGR/bgr/soil/datasets.py:35: SettingWithCopyWarning: \n",
      "A value is trying to be set on a copy of a slice from a DataFrame.\n",
      "Try using .loc[row_indexer,col_indexer] = value instead\n",
      "\n",
      "See the caveats in the documentation: https://pandas.pydata.org/pandas-docs/stable/user_guide/indexing.html#returning-a-view-versus-a-copy\n",
      "  df[col_name] = df[col_name].replace(counts.index, range(len(counts)))\n",
      "/mnt/KInsektDaten/teo/./BGR/bgr/soil/datasets.py:35: FutureWarning: Downcasting behavior in `replace` is deprecated and will be removed in a future version. To retain the old behavior, explicitly call `result.infer_objects(copy=False)`. To opt-in to the future behavior, set `pd.set_option('future.no_silent_downcasting', True)`\n",
      "  df[col_name] = df[col_name].replace(counts.index, range(len(counts)))\n",
      "/mnt/KInsektDaten/teo/./BGR/bgr/soil/datasets.py:35: SettingWithCopyWarning: \n",
      "A value is trying to be set on a copy of a slice from a DataFrame.\n",
      "Try using .loc[row_indexer,col_indexer] = value instead\n",
      "\n",
      "See the caveats in the documentation: https://pandas.pydata.org/pandas-docs/stable/user_guide/indexing.html#returning-a-view-versus-a-copy\n",
      "  df[col_name] = df[col_name].replace(counts.index, range(len(counts)))\n",
      "/mnt/KInsektDaten/teo/./BGR/bgr/soil/datasets.py:35: FutureWarning: Downcasting behavior in `replace` is deprecated and will be removed in a future version. To retain the old behavior, explicitly call `result.infer_objects(copy=False)`. To opt-in to the future behavior, set `pd.set_option('future.no_silent_downcasting', True)`\n",
      "  df[col_name] = df[col_name].replace(counts.index, range(len(counts)))\n",
      "/mnt/KInsektDaten/teo/./BGR/bgr/soil/datasets.py:35: SettingWithCopyWarning: \n",
      "A value is trying to be set on a copy of a slice from a DataFrame.\n",
      "Try using .loc[row_indexer,col_indexer] = value instead\n",
      "\n",
      "See the caveats in the documentation: https://pandas.pydata.org/pandas-docs/stable/user_guide/indexing.html#returning-a-view-versus-a-copy\n",
      "  df[col_name] = df[col_name].replace(counts.index, range(len(counts)))\n",
      "/mnt/KInsektDaten/teo/./BGR/bgr/soil/datasets.py:35: FutureWarning: Downcasting behavior in `replace` is deprecated and will be removed in a future version. To retain the old behavior, explicitly call `result.infer_objects(copy=False)`. To opt-in to the future behavior, set `pd.set_option('future.no_silent_downcasting', True)`\n",
      "  df[col_name] = df[col_name].replace(counts.index, range(len(counts)))\n",
      "/mnt/KInsektDaten/teo/./BGR/bgr/soil/datasets.py:35: SettingWithCopyWarning: \n",
      "A value is trying to be set on a copy of a slice from a DataFrame.\n",
      "Try using .loc[row_indexer,col_indexer] = value instead\n",
      "\n",
      "See the caveats in the documentation: https://pandas.pydata.org/pandas-docs/stable/user_guide/indexing.html#returning-a-view-versus-a-copy\n",
      "  df[col_name] = df[col_name].replace(counts.index, range(len(counts)))\n",
      "/mnt/KInsektDaten/teo/./BGR/bgr/soil/datasets.py:35: FutureWarning: Downcasting behavior in `replace` is deprecated and will be removed in a future version. To retain the old behavior, explicitly call `result.infer_objects(copy=False)`. To opt-in to the future behavior, set `pd.set_option('future.no_silent_downcasting', True)`\n",
      "  df[col_name] = df[col_name].replace(counts.index, range(len(counts)))\n",
      "/mnt/KInsektDaten/teo/./BGR/bgr/soil/datasets.py:35: SettingWithCopyWarning: \n",
      "A value is trying to be set on a copy of a slice from a DataFrame.\n",
      "Try using .loc[row_indexer,col_indexer] = value instead\n",
      "\n",
      "See the caveats in the documentation: https://pandas.pydata.org/pandas-docs/stable/user_guide/indexing.html#returning-a-view-versus-a-copy\n",
      "  df[col_name] = df[col_name].replace(counts.index, range(len(counts)))\n",
      "/mnt/KInsektDaten/teo/./BGR/bgr/soil/datasets.py:35: FutureWarning: Downcasting behavior in `replace` is deprecated and will be removed in a future version. To retain the old behavior, explicitly call `result.infer_objects(copy=False)`. To opt-in to the future behavior, set `pd.set_option('future.no_silent_downcasting', True)`\n",
      "  df[col_name] = df[col_name].replace(counts.index, range(len(counts)))\n",
      "/mnt/KInsektDaten/teo/./BGR/bgr/soil/datasets.py:35: SettingWithCopyWarning: \n",
      "A value is trying to be set on a copy of a slice from a DataFrame.\n",
      "Try using .loc[row_indexer,col_indexer] = value instead\n",
      "\n",
      "See the caveats in the documentation: https://pandas.pydata.org/pandas-docs/stable/user_guide/indexing.html#returning-a-view-versus-a-copy\n",
      "  df[col_name] = df[col_name].replace(counts.index, range(len(counts)))\n",
      "/mnt/KInsektDaten/teo/./BGR/bgr/soil/datasets.py:35: FutureWarning: Downcasting behavior in `replace` is deprecated and will be removed in a future version. To retain the old behavior, explicitly call `result.infer_objects(copy=False)`. To opt-in to the future behavior, set `pd.set_option('future.no_silent_downcasting', True)`\n",
      "  df[col_name] = df[col_name].replace(counts.index, range(len(counts)))\n",
      "/mnt/KInsektDaten/teo/./BGR/bgr/soil/datasets.py:35: SettingWithCopyWarning: \n",
      "A value is trying to be set on a copy of a slice from a DataFrame.\n",
      "Try using .loc[row_indexer,col_indexer] = value instead\n",
      "\n",
      "See the caveats in the documentation: https://pandas.pydata.org/pandas-docs/stable/user_guide/indexing.html#returning-a-view-versus-a-copy\n",
      "  df[col_name] = df[col_name].replace(counts.index, range(len(counts)))\n",
      "/mnt/KInsektDaten/teo/./BGR/bgr/soil/datasets.py:35: FutureWarning: Downcasting behavior in `replace` is deprecated and will be removed in a future version. To retain the old behavior, explicitly call `result.infer_objects(copy=False)`. To opt-in to the future behavior, set `pd.set_option('future.no_silent_downcasting', True)`\n",
      "  df[col_name] = df[col_name].replace(counts.index, range(len(counts)))\n",
      "/mnt/KInsektDaten/teo/./BGR/bgr/soil/datasets.py:35: SettingWithCopyWarning: \n",
      "A value is trying to be set on a copy of a slice from a DataFrame.\n",
      "Try using .loc[row_indexer,col_indexer] = value instead\n",
      "\n",
      "See the caveats in the documentation: https://pandas.pydata.org/pandas-docs/stable/user_guide/indexing.html#returning-a-view-versus-a-copy\n",
      "  df[col_name] = df[col_name].replace(counts.index, range(len(counts)))\n",
      "/mnt/KInsektDaten/teo/./BGR/bgr/soil/datasets.py:35: FutureWarning: Downcasting behavior in `replace` is deprecated and will be removed in a future version. To retain the old behavior, explicitly call `result.infer_objects(copy=False)`. To opt-in to the future behavior, set `pd.set_option('future.no_silent_downcasting', True)`\n",
      "  df[col_name] = df[col_name].replace(counts.index, range(len(counts)))\n",
      "/mnt/KInsektDaten/teo/./BGR/bgr/soil/datasets.py:35: SettingWithCopyWarning: \n",
      "A value is trying to be set on a copy of a slice from a DataFrame.\n",
      "Try using .loc[row_indexer,col_indexer] = value instead\n",
      "\n",
      "See the caveats in the documentation: https://pandas.pydata.org/pandas-docs/stable/user_guide/indexing.html#returning-a-view-versus-a-copy\n",
      "  df[col_name] = df[col_name].replace(counts.index, range(len(counts)))\n",
      "/mnt/KInsektDaten/teo/./BGR/bgr/soil/datasets.py:35: FutureWarning: Downcasting behavior in `replace` is deprecated and will be removed in a future version. To retain the old behavior, explicitly call `result.infer_objects(copy=False)`. To opt-in to the future behavior, set `pd.set_option('future.no_silent_downcasting', True)`\n",
      "  df[col_name] = df[col_name].replace(counts.index, range(len(counts)))\n",
      "/mnt/KInsektDaten/teo/./BGR/bgr/soil/datasets.py:35: SettingWithCopyWarning: \n",
      "A value is trying to be set on a copy of a slice from a DataFrame.\n",
      "Try using .loc[row_indexer,col_indexer] = value instead\n",
      "\n",
      "See the caveats in the documentation: https://pandas.pydata.org/pandas-docs/stable/user_guide/indexing.html#returning-a-view-versus-a-copy\n",
      "  df[col_name] = df[col_name].replace(counts.index, range(len(counts)))\n",
      "/mnt/KInsektDaten/teo/./BGR/bgr/soil/datasets.py:35: FutureWarning: Downcasting behavior in `replace` is deprecated and will be removed in a future version. To retain the old behavior, explicitly call `result.infer_objects(copy=False)`. To opt-in to the future behavior, set `pd.set_option('future.no_silent_downcasting', True)`\n",
      "  df[col_name] = df[col_name].replace(counts.index, range(len(counts)))\n",
      "/mnt/KInsektDaten/teo/./BGR/bgr/soil/datasets.py:35: SettingWithCopyWarning: \n",
      "A value is trying to be set on a copy of a slice from a DataFrame.\n",
      "Try using .loc[row_indexer,col_indexer] = value instead\n",
      "\n",
      "See the caveats in the documentation: https://pandas.pydata.org/pandas-docs/stable/user_guide/indexing.html#returning-a-view-versus-a-copy\n",
      "  df[col_name] = df[col_name].replace(counts.index, range(len(counts)))\n"
     ]
    },
    {
     "data": {
      "text/plain": "        Point  Obergrenze  Untergrenze  Horizontsymbol_relevant  Bodenart  \\\n0         2.0         0.0         28.0                       22       3.0   \n1         2.0        28.0         54.0                        5       3.0   \n2         2.0        54.0         68.0                       32       3.0   \n3         2.0        68.0         96.0                       62       8.0   \n4         2.0        96.0        201.0                        0       7.0   \n...       ...         ...          ...                      ...       ...   \n16307  6211.0        27.0         50.0                       37       8.0   \n16308  6211.0        50.0         70.0                       12       8.0   \n16309  6211.0        50.0         70.0                       12       8.0   \n16310  6211.0        70.0        100.0                       74       8.0   \n16311  6211.0        70.0        100.0                       74       8.0   \n\n       Bodenfarbe  Steine  Karbonat  Humusgehaltsklasse  Durchwurzelung  \\\n0            24.0     3.0         0                 1.0               4   \n1             0.0     3.0         0                 3.0               3   \n2            20.0    10.0         0                 2.0               3   \n3            72.0     1.0         0                 0.0               1   \n4            37.0     1.0         0                 0.0               0   \n...           ...     ...       ...                 ...             ...   \n16307        68.0     1.0         0                 3.0               3   \n16308        38.0     1.0         0                 2.0               1   \n16309        38.0     1.0         0                 2.0               1   \n16310        19.0     1.0         0                 2.0               6   \n16311        19.0     1.0         0                 2.0               6   \n\n                                                    file  Probenahme_Monat  \\\n0      ../data/BGR/Profilbilder_no_ruler_no_sky/SH_00...                 3   \n1      ../data/BGR/Profilbilder_no_ruler_no_sky/SH_00...                 3   \n2      ../data/BGR/Profilbilder_no_ruler_no_sky/SH_00...                 3   \n3      ../data/BGR/Profilbilder_no_ruler_no_sky/SH_00...                 3   \n4      ../data/BGR/Profilbilder_no_ruler_no_sky/SH_00...                 3   \n...                                                  ...               ...   \n16307  ../data/BGR/Profilbilder_no_ruler_no_sky/NI_62...                10   \n16308  ../data/BGR/Profilbilder_no_ruler_no_sky/NI_62...                10   \n16309  ../data/BGR/Profilbilder_no_ruler_no_sky/NI_62...                10   \n16310  ../data/BGR/Profilbilder_no_ruler_no_sky/NI_62...                10   \n16311  ../data/BGR/Profilbilder_no_ruler_no_sky/NI_62...                10   \n\n       Probenahme_Jahr       xcoord       ycoord  Bodenklimaraum_Name  \\\n0                    4  462216.1283  6079359.775                   37   \n1                    4  462216.1283  6079359.775                   37   \n2                    4  462216.1283  6079359.775                   37   \n3                    4  462216.1283  6079359.775                   37   \n4                    4  462216.1283  6079359.775                   37   \n...                ...          ...          ...                  ...   \n16307                0  522076.9633  5930456.114                   15   \n16308                0  522076.9633  5930456.114                   15   \n16309                0  522076.9633  5930456.114                   15   \n16310                0  522076.9633  5930456.114                   15   \n16311                0  522076.9633  5930456.114                   15   \n\n       Landnutzung  BZE_Moor  Hauptbodentyp  BodenVarTypSub  GrundwaStufe  \\\n0                0         0             15             247           0.0   \n1                0         0             15             247           0.0   \n2                0         0             15             247           0.0   \n3                0         0             15             247           0.0   \n4                0         0             15             247           0.0   \n...            ...       ...            ...             ...           ...   \n16307            1         0              8              42           1.0   \n16308            1         0              8              42           1.0   \n16309            1         0              8              42           1.0   \n16310            1         0              8              42           1.0   \n16311            1         0              8              42           1.0   \n\n       GrundwaStand  Moormaechtigkeit  Torfmaechtigkeit  Neigung  Exposition  \\\n0             200.0               0.0               0.0      0.0         0.0   \n1             200.0               0.0               0.0      0.0         0.0   \n2             200.0               0.0               0.0      0.0         0.0   \n3             200.0               0.0               0.0      0.0         0.0   \n4             200.0               0.0               0.0      0.0         0.0   \n...             ...               ...               ...      ...         ...   \n16307         110.0               0.0               0.0      0.0         0.0   \n16308         110.0               0.0               0.0      0.0         0.0   \n16309         110.0               0.0               0.0      0.0         0.0   \n16310         110.0               0.0               0.0      0.0         0.0   \n16311         110.0               0.0               0.0      0.0         0.0   \n\n       Woelbung  Reliefformtyp  LageImRelief  KV_0_30  KV_30_100  \n0           0.0            1.0           0.0    81.89      54.19  \n1           0.0            1.0           0.0    81.89      54.19  \n2           0.0            1.0           0.0    81.89      54.19  \n3           0.0            1.0           0.0    81.89      54.19  \n4           0.0            1.0           0.0    81.89      54.19  \n...         ...            ...           ...      ...        ...  \n16307       0.0            2.0           5.0   117.59      87.72  \n16308       0.0            2.0           5.0   117.59      87.72  \n16309       0.0            2.0           5.0   117.59      87.72  \n16310       0.0            2.0           5.0   117.59      87.72  \n16311       0.0            2.0           5.0   117.59      87.72  \n\n[13621 rows x 31 columns]",
      "text/html": "<div>\n<style scoped>\n    .dataframe tbody tr th:only-of-type {\n        vertical-align: middle;\n    }\n\n    .dataframe tbody tr th {\n        vertical-align: top;\n    }\n\n    .dataframe thead th {\n        text-align: right;\n    }\n</style>\n<table border=\"1\" class=\"dataframe\">\n  <thead>\n    <tr style=\"text-align: right;\">\n      <th></th>\n      <th>Point</th>\n      <th>Obergrenze</th>\n      <th>Untergrenze</th>\n      <th>Horizontsymbol_relevant</th>\n      <th>Bodenart</th>\n      <th>Bodenfarbe</th>\n      <th>Steine</th>\n      <th>Karbonat</th>\n      <th>Humusgehaltsklasse</th>\n      <th>Durchwurzelung</th>\n      <th>file</th>\n      <th>Probenahme_Monat</th>\n      <th>Probenahme_Jahr</th>\n      <th>xcoord</th>\n      <th>ycoord</th>\n      <th>Bodenklimaraum_Name</th>\n      <th>Landnutzung</th>\n      <th>BZE_Moor</th>\n      <th>Hauptbodentyp</th>\n      <th>BodenVarTypSub</th>\n      <th>GrundwaStufe</th>\n      <th>GrundwaStand</th>\n      <th>Moormaechtigkeit</th>\n      <th>Torfmaechtigkeit</th>\n      <th>Neigung</th>\n      <th>Exposition</th>\n      <th>Woelbung</th>\n      <th>Reliefformtyp</th>\n      <th>LageImRelief</th>\n      <th>KV_0_30</th>\n      <th>KV_30_100</th>\n    </tr>\n  </thead>\n  <tbody>\n    <tr>\n      <th>0</th>\n      <td>2.0</td>\n      <td>0.0</td>\n      <td>28.0</td>\n      <td>22</td>\n      <td>3.0</td>\n      <td>24.0</td>\n      <td>3.0</td>\n      <td>0</td>\n      <td>1.0</td>\n      <td>4</td>\n      <td>../data/BGR/Profilbilder_no_ruler_no_sky/SH_00...</td>\n      <td>3</td>\n      <td>4</td>\n      <td>462216.1283</td>\n      <td>6079359.775</td>\n      <td>37</td>\n      <td>0</td>\n      <td>0</td>\n      <td>15</td>\n      <td>247</td>\n      <td>0.0</td>\n      <td>200.0</td>\n      <td>0.0</td>\n      <td>0.0</td>\n      <td>0.0</td>\n      <td>0.0</td>\n      <td>0.0</td>\n      <td>1.0</td>\n      <td>0.0</td>\n      <td>81.89</td>\n      <td>54.19</td>\n    </tr>\n    <tr>\n      <th>1</th>\n      <td>2.0</td>\n      <td>28.0</td>\n      <td>54.0</td>\n      <td>5</td>\n      <td>3.0</td>\n      <td>0.0</td>\n      <td>3.0</td>\n      <td>0</td>\n      <td>3.0</td>\n      <td>3</td>\n      <td>../data/BGR/Profilbilder_no_ruler_no_sky/SH_00...</td>\n      <td>3</td>\n      <td>4</td>\n      <td>462216.1283</td>\n      <td>6079359.775</td>\n      <td>37</td>\n      <td>0</td>\n      <td>0</td>\n      <td>15</td>\n      <td>247</td>\n      <td>0.0</td>\n      <td>200.0</td>\n      <td>0.0</td>\n      <td>0.0</td>\n      <td>0.0</td>\n      <td>0.0</td>\n      <td>0.0</td>\n      <td>1.0</td>\n      <td>0.0</td>\n      <td>81.89</td>\n      <td>54.19</td>\n    </tr>\n    <tr>\n      <th>2</th>\n      <td>2.0</td>\n      <td>54.0</td>\n      <td>68.0</td>\n      <td>32</td>\n      <td>3.0</td>\n      <td>20.0</td>\n      <td>10.0</td>\n      <td>0</td>\n      <td>2.0</td>\n      <td>3</td>\n      <td>../data/BGR/Profilbilder_no_ruler_no_sky/SH_00...</td>\n      <td>3</td>\n      <td>4</td>\n      <td>462216.1283</td>\n      <td>6079359.775</td>\n      <td>37</td>\n      <td>0</td>\n      <td>0</td>\n      <td>15</td>\n      <td>247</td>\n      <td>0.0</td>\n      <td>200.0</td>\n      <td>0.0</td>\n      <td>0.0</td>\n      <td>0.0</td>\n      <td>0.0</td>\n      <td>0.0</td>\n      <td>1.0</td>\n      <td>0.0</td>\n      <td>81.89</td>\n      <td>54.19</td>\n    </tr>\n    <tr>\n      <th>3</th>\n      <td>2.0</td>\n      <td>68.0</td>\n      <td>96.0</td>\n      <td>62</td>\n      <td>8.0</td>\n      <td>72.0</td>\n      <td>1.0</td>\n      <td>0</td>\n      <td>0.0</td>\n      <td>1</td>\n      <td>../data/BGR/Profilbilder_no_ruler_no_sky/SH_00...</td>\n      <td>3</td>\n      <td>4</td>\n      <td>462216.1283</td>\n      <td>6079359.775</td>\n      <td>37</td>\n      <td>0</td>\n      <td>0</td>\n      <td>15</td>\n      <td>247</td>\n      <td>0.0</td>\n      <td>200.0</td>\n      <td>0.0</td>\n      <td>0.0</td>\n      <td>0.0</td>\n      <td>0.0</td>\n      <td>0.0</td>\n      <td>1.0</td>\n      <td>0.0</td>\n      <td>81.89</td>\n      <td>54.19</td>\n    </tr>\n    <tr>\n      <th>4</th>\n      <td>2.0</td>\n      <td>96.0</td>\n      <td>201.0</td>\n      <td>0</td>\n      <td>7.0</td>\n      <td>37.0</td>\n      <td>1.0</td>\n      <td>0</td>\n      <td>0.0</td>\n      <td>0</td>\n      <td>../data/BGR/Profilbilder_no_ruler_no_sky/SH_00...</td>\n      <td>3</td>\n      <td>4</td>\n      <td>462216.1283</td>\n      <td>6079359.775</td>\n      <td>37</td>\n      <td>0</td>\n      <td>0</td>\n      <td>15</td>\n      <td>247</td>\n      <td>0.0</td>\n      <td>200.0</td>\n      <td>0.0</td>\n      <td>0.0</td>\n      <td>0.0</td>\n      <td>0.0</td>\n      <td>0.0</td>\n      <td>1.0</td>\n      <td>0.0</td>\n      <td>81.89</td>\n      <td>54.19</td>\n    </tr>\n    <tr>\n      <th>...</th>\n      <td>...</td>\n      <td>...</td>\n      <td>...</td>\n      <td>...</td>\n      <td>...</td>\n      <td>...</td>\n      <td>...</td>\n      <td>...</td>\n      <td>...</td>\n      <td>...</td>\n      <td>...</td>\n      <td>...</td>\n      <td>...</td>\n      <td>...</td>\n      <td>...</td>\n      <td>...</td>\n      <td>...</td>\n      <td>...</td>\n      <td>...</td>\n      <td>...</td>\n      <td>...</td>\n      <td>...</td>\n      <td>...</td>\n      <td>...</td>\n      <td>...</td>\n      <td>...</td>\n      <td>...</td>\n      <td>...</td>\n      <td>...</td>\n      <td>...</td>\n      <td>...</td>\n    </tr>\n    <tr>\n      <th>16307</th>\n      <td>6211.0</td>\n      <td>27.0</td>\n      <td>50.0</td>\n      <td>37</td>\n      <td>8.0</td>\n      <td>68.0</td>\n      <td>1.0</td>\n      <td>0</td>\n      <td>3.0</td>\n      <td>3</td>\n      <td>../data/BGR/Profilbilder_no_ruler_no_sky/NI_62...</td>\n      <td>10</td>\n      <td>0</td>\n      <td>522076.9633</td>\n      <td>5930456.114</td>\n      <td>15</td>\n      <td>1</td>\n      <td>0</td>\n      <td>8</td>\n      <td>42</td>\n      <td>1.0</td>\n      <td>110.0</td>\n      <td>0.0</td>\n      <td>0.0</td>\n      <td>0.0</td>\n      <td>0.0</td>\n      <td>0.0</td>\n      <td>2.0</td>\n      <td>5.0</td>\n      <td>117.59</td>\n      <td>87.72</td>\n    </tr>\n    <tr>\n      <th>16308</th>\n      <td>6211.0</td>\n      <td>50.0</td>\n      <td>70.0</td>\n      <td>12</td>\n      <td>8.0</td>\n      <td>38.0</td>\n      <td>1.0</td>\n      <td>0</td>\n      <td>2.0</td>\n      <td>1</td>\n      <td>../data/BGR/Profilbilder_no_ruler_no_sky/NI_62...</td>\n      <td>10</td>\n      <td>0</td>\n      <td>522076.9633</td>\n      <td>5930456.114</td>\n      <td>15</td>\n      <td>1</td>\n      <td>0</td>\n      <td>8</td>\n      <td>42</td>\n      <td>1.0</td>\n      <td>110.0</td>\n      <td>0.0</td>\n      <td>0.0</td>\n      <td>0.0</td>\n      <td>0.0</td>\n      <td>0.0</td>\n      <td>2.0</td>\n      <td>5.0</td>\n      <td>117.59</td>\n      <td>87.72</td>\n    </tr>\n    <tr>\n      <th>16309</th>\n      <td>6211.0</td>\n      <td>50.0</td>\n      <td>70.0</td>\n      <td>12</td>\n      <td>8.0</td>\n      <td>38.0</td>\n      <td>1.0</td>\n      <td>0</td>\n      <td>2.0</td>\n      <td>1</td>\n      <td>../data/BGR/Profilbilder_no_ruler_no_sky/NI_62...</td>\n      <td>10</td>\n      <td>0</td>\n      <td>522076.9633</td>\n      <td>5930456.114</td>\n      <td>15</td>\n      <td>1</td>\n      <td>0</td>\n      <td>8</td>\n      <td>42</td>\n      <td>1.0</td>\n      <td>110.0</td>\n      <td>0.0</td>\n      <td>0.0</td>\n      <td>0.0</td>\n      <td>0.0</td>\n      <td>0.0</td>\n      <td>2.0</td>\n      <td>5.0</td>\n      <td>117.59</td>\n      <td>87.72</td>\n    </tr>\n    <tr>\n      <th>16310</th>\n      <td>6211.0</td>\n      <td>70.0</td>\n      <td>100.0</td>\n      <td>74</td>\n      <td>8.0</td>\n      <td>19.0</td>\n      <td>1.0</td>\n      <td>0</td>\n      <td>2.0</td>\n      <td>6</td>\n      <td>../data/BGR/Profilbilder_no_ruler_no_sky/NI_62...</td>\n      <td>10</td>\n      <td>0</td>\n      <td>522076.9633</td>\n      <td>5930456.114</td>\n      <td>15</td>\n      <td>1</td>\n      <td>0</td>\n      <td>8</td>\n      <td>42</td>\n      <td>1.0</td>\n      <td>110.0</td>\n      <td>0.0</td>\n      <td>0.0</td>\n      <td>0.0</td>\n      <td>0.0</td>\n      <td>0.0</td>\n      <td>2.0</td>\n      <td>5.0</td>\n      <td>117.59</td>\n      <td>87.72</td>\n    </tr>\n    <tr>\n      <th>16311</th>\n      <td>6211.0</td>\n      <td>70.0</td>\n      <td>100.0</td>\n      <td>74</td>\n      <td>8.0</td>\n      <td>19.0</td>\n      <td>1.0</td>\n      <td>0</td>\n      <td>2.0</td>\n      <td>6</td>\n      <td>../data/BGR/Profilbilder_no_ruler_no_sky/NI_62...</td>\n      <td>10</td>\n      <td>0</td>\n      <td>522076.9633</td>\n      <td>5930456.114</td>\n      <td>15</td>\n      <td>1</td>\n      <td>0</td>\n      <td>8</td>\n      <td>42</td>\n      <td>1.0</td>\n      <td>110.0</td>\n      <td>0.0</td>\n      <td>0.0</td>\n      <td>0.0</td>\n      <td>0.0</td>\n      <td>0.0</td>\n      <td>2.0</td>\n      <td>5.0</td>\n      <td>117.59</td>\n      <td>87.72</td>\n    </tr>\n  </tbody>\n</table>\n<p>13621 rows × 31 columns</p>\n</div>"
     },
     "execution_count": 25,
     "metadata": {},
     "output_type": "execute_result"
    }
   ],
   "source": [
    "# Encode categorical features (NaNs are left NaNs)\n",
    "for categ in categ_features:\n",
    "    bgr_data.encode_categorical_columns(df, categ)\n",
    "df"
   ],
   "metadata": {
    "collapsed": false,
    "pycharm": {
     "name": "#%%\n"
    }
   }
  },
  {
   "cell_type": "code",
   "execution_count": 26,
   "outputs": [
    {
     "name": "stdout",
     "output_type": "stream",
     "text": [
      "<class 'pandas.core.frame.DataFrame'>\n",
      "Index: 13621 entries, 0 to 16311\n",
      "Data columns (total 31 columns):\n",
      " #   Column                   Non-Null Count  Dtype  \n",
      "---  ------                   --------------  -----  \n",
      " 0   Point                    13621 non-null  float64\n",
      " 1   Obergrenze               13621 non-null  float64\n",
      " 2   Untergrenze              13621 non-null  float64\n",
      " 3   Horizontsymbol_relevant  13621 non-null  int64  \n",
      " 4   Bodenart                 13589 non-null  float64\n",
      " 5   Bodenfarbe               13572 non-null  float64\n",
      " 6   Steine                   13621 non-null  float64\n",
      " 7   Karbonat                 13621 non-null  int64  \n",
      " 8   Humusgehaltsklasse       13615 non-null  float64\n",
      " 9   Durchwurzelung           13621 non-null  int64  \n",
      " 10  file                     13621 non-null  object \n",
      " 11  Probenahme_Monat         13621 non-null  int64  \n",
      " 12  Probenahme_Jahr          13621 non-null  int64  \n",
      " 13  xcoord                   13621 non-null  float64\n",
      " 14  ycoord                   13621 non-null  float64\n",
      " 15  Bodenklimaraum_Name      13621 non-null  int64  \n",
      " 16  Landnutzung              13621 non-null  int64  \n",
      " 17  BZE_Moor                 13621 non-null  int64  \n",
      " 18  Hauptbodentyp            13621 non-null  int64  \n",
      " 19  BodenVarTypSub           13621 non-null  int64  \n",
      " 20  GrundwaStufe             13609 non-null  float64\n",
      " 21  GrundwaStand             11401 non-null  float64\n",
      " 22  Moormaechtigkeit         13609 non-null  float64\n",
      " 23  Torfmaechtigkeit         13609 non-null  float64\n",
      " 24  Neigung                  13609 non-null  float64\n",
      " 25  Exposition               12901 non-null  float64\n",
      " 26  Woelbung                 13609 non-null  float64\n",
      " 27  Reliefformtyp            13609 non-null  float64\n",
      " 28  LageImRelief             13609 non-null  float64\n",
      " 29  KV_0_30                  13609 non-null  float64\n",
      " 30  KV_30_100                13552 non-null  float64\n",
      "dtypes: float64(20), int64(10), object(1)\n",
      "memory usage: 3.3+ MB\n"
     ]
    }
   ],
   "source": [
    "# Some columns still have NaNs\n",
    "# For now, we are replacing the missing values with the column medians\n",
    "# Any better ideas? In particular the column GrundwaStand has quite a few missing entries...\n",
    "df.info()\n",
    "df = df.fillna(df.median(numeric_only=True))"
   ],
   "metadata": {
    "collapsed": false,
    "pycharm": {
     "name": "#%%\n"
    }
   }
  },
  {
   "cell_type": "code",
   "execution_count": 27,
   "outputs": [
    {
     "data": {
      "text/plain": "3101"
     },
     "execution_count": 27,
     "metadata": {},
     "output_type": "execute_result"
    }
   ],
   "source": [
    "len(df['Point'].unique()) # number of unique images"
   ],
   "metadata": {
    "collapsed": false,
    "pycharm": {
     "name": "#%%\n"
    }
   }
  },
  {
   "cell_type": "markdown",
   "source": [
    "### Training"
   ],
   "metadata": {
    "collapsed": false
   }
  },
  {
   "cell_type": "code",
   "execution_count": 28,
   "outputs": [],
   "source": [
    "# Split variables into different categories according to their roles in the sequential training\n",
    "soil_infos = ['Bodenart', 'Bodenfarbe', 'Steine', 'Karbonat', 'Humusgehaltsklasse', 'Durchwurzelung']#, 'max_depth', 'HorizontID']\n",
    "\n",
    "geotemp_img_infos = [#'Point',\n",
    "                     'Probenahme_Monat', 'Probenahme_Jahr', 'xcoord', 'ycoord', 'Bodenklimaraum_Name', 'Landnutzung', 'BZE_Moor', 'Hauptbodentyp', 'BodenVarTypSub', 'GrundwaStufe', 'GrundwaStand',\n",
    "                     'Moormaechtigkeit', 'Torfmaechtigkeit', 'Neigung', 'Exposition', 'Woelbung', 'Reliefformtyp', 'LageImRelief', 'KV_0_30', 'KV_30_100',\n",
    "                     'file']\n",
    "\n",
    "depth_markers = ['Obergrenze', 'Untergrenze']\n",
    "\n",
    "# horizon symbols already in 'target' (see above)"
   ],
   "metadata": {
    "collapsed": false,
    "pycharm": {
     "name": "#%%\n"
    }
   }
  },
  {
   "cell_type": "code",
   "execution_count": 29,
   "outputs": [
    {
     "data": {
      "text/plain": "      index  Probenahme_Monat  Probenahme_Jahr       xcoord       ycoord  \\\n0         0                 1                7  819021.7488  5941699.083   \n1         1                 1                6  819307.3864  5935183.595   \n2         2                 8                6  826424.5503  5932240.596   \n3         3                 4                6  807568.3913  5926533.227   \n4         4                 1                6  818608.7036  5925050.271   \n...     ...               ...              ...          ...          ...   \n3342   3342                 0                6  648389.8108  5588119.501   \n3343   3343                 0                4  688216.3809  5588885.660   \n3344   3344                 0                4  701551.6557  5587919.679   \n3345   3345                 3                4  653547.6374  5581353.991   \n3346   3346                 4                5  620404.8554  5569180.493   \n\n      Bodenklimaraum_Name  Landnutzung  BZE_Moor  Hauptbodentyp  \\\n0                       7            0         0             12   \n1                       7            0         0             11   \n2                       7            0         0             10   \n3                       7            0         0             12   \n4                       7            0         0              7   \n...                   ...          ...       ...            ...   \n3342                   10            1         0              0   \n3343                   10            0         0              0   \n3344                   10            0         0              0   \n3345                   10            0         0              0   \n3346                   10            0         0              5   \n\n      BodenVarTypSub  GrundwaStufe  GrundwaStand  Moormaechtigkeit  \\\n0                770           0.0         200.0               0.0   \n1                371           0.0         200.0               0.0   \n2                 22           0.0         200.0               0.0   \n3                 44           0.0         200.0               0.0   \n4                413           2.0         200.0               0.0   \n...              ...           ...           ...               ...   \n3342             616           0.0         200.0               0.0   \n3343               9           0.0         200.0               0.0   \n3344               0           0.0         200.0               0.0   \n3345               2           0.0         200.0               0.0   \n3346               3           0.0         200.0               0.0   \n\n      Torfmaechtigkeit  Neigung  Exposition  Woelbung  Reliefformtyp  \\\n0                  0.0      3.0         1.0       1.0            0.0   \n1                  0.0      2.0         2.0       0.0            0.0   \n2                  0.0      3.0         2.0       0.0            0.0   \n3                  0.0      4.0         5.0       2.0           14.0   \n4                  0.0      3.0         5.0       0.0            4.0   \n...                ...      ...         ...       ...            ...   \n3342               0.0      8.0         7.0       7.0            0.0   \n3343               0.0      1.0         4.0       6.0            0.0   \n3344               0.0      6.0         4.0       0.0            0.0   \n3345               0.0      5.0         2.0       0.0            3.0   \n3346               0.0      1.0         3.0       0.0            0.0   \n\n      LageImRelief  KV_0_30  KV_30_100  \\\n0              1.0    38.60      21.42   \n1              3.0    34.91      11.67   \n2              1.0    42.21      34.56   \n3              3.0    37.39      13.22   \n4              1.0    48.47      16.43   \n...            ...      ...        ...   \n3342           3.0    48.82       2.46   \n3343           1.0    69.19      23.61   \n3344           1.0    75.65       9.34   \n3345           5.0    61.72      30.69   \n3346           3.0    80.30      19.58   \n\n                                                   file  \\\n0     ../data/BGR/Profilbilder_no_ruler_no_sky/BB_05...   \n1     ../data/BGR/Profilbilder_no_ruler_no_sky/BB_06...   \n2     ../data/BGR/Profilbilder_no_ruler_no_sky/BB_06...   \n3     ../data/BGR/Profilbilder_no_ruler_no_sky/BB_06...   \n4     ../data/BGR/Profilbilder_no_ruler_no_sky/BB_06...   \n...                                                 ...   \n3342  ../data/BGR/Profilbilder_no_ruler_no_sky/TH_34...   \n3343  ../data/BGR/Profilbilder_no_ruler_no_sky/TH_34...   \n3344  ../data/BGR/Profilbilder_no_ruler_no_sky/TH_34...   \n3345  ../data/BGR/Profilbilder_no_ruler_no_sky/TH_35...   \n3346  ../data/BGR/Profilbilder_no_ruler_no_sky/TH_35...   \n\n                                Untergrenze  \\\n0                 [30.0, 38.0, 50.0, 200.0]   \n1     [29.0, 40.0, 54.0, 60.0, 80.0, 201.0]   \n2                 [28.0, 50.0, 74.0, 110.0]   \n3                 [30.0, 47.0, 73.0, 102.0]   \n4           [33.0, 43.0, 71.0, 88.0, 100.0]   \n...                                     ...   \n3342               [14.0, 40.0, 60.0, 93.0]   \n3343                    [34.0, 69.0, 140.0]   \n3344              [20.0, 27.0, 70.0, 100.0]   \n3345              [31.0, 49.0, 71.0, 144.0]   \n3346                     [27.0, 70.0, 92.0]   \n\n                                Bodenart                          Bodenfarbe  \\\n0                 [3.0, 3.0, 10.0, 12.0]               [1.0, 1.0, 10.0, 5.0]   \n1     [11.0, 11.0, 6.0, 10.0, 3.0, 21.0]  [4.0, 5.0, 29.0, 30.0, 42.0, 75.0]   \n2               [10.0, 11.0, 11.0, 11.0]                [0.0, 0.0, 3.0, 3.0]   \n3                   [2.0, 2.0, 3.0, 3.0]             [0.0, 10.0, 13.0, 16.0]   \n4           [28.0, 7.0, 2.0, 20.0, 10.0]       [0.0, 15.0, 54.0, 44.0, 14.0]   \n...                                  ...                                 ...   \n3342            [15.0, 15.0, 26.0, 26.0]              [6.0, 5.0, 53.0, 53.0]   \n3343                    [4.0, 4.0, 18.0]                    [0.0, 3.0, 10.0]   \n3344            [15.0, 15.0, 15.0, 26.0]               [2.0, 2.0, 3.0, 23.0]   \n3345            [15.0, 15.0, 15.0, 33.0]               [1.0, 7.0, 5.0, 16.0]   \n3346                    [1.0, 12.0, 1.0]                   [6.0, 23.0, 31.0]   \n\n                              Steine            Karbonat  \\\n0               [2.0, 2.0, 4.0, 4.0]        [0, 0, 0, 0]   \n1     [3.0, 3.0, 3.0, 3.0, 3.0, 3.0]  [2, 0, 2, 5, 7, 5]   \n2               [4.0, 4.0, 4.0, 4.0]        [0, 0, 7, 7]   \n3               [4.0, 4.0, 2.0, 2.0]        [0, 0, 0, 0]   \n4          [1.0, 0.0, 0.0, 0.0, 0.0]     [0, 0, 0, 0, 0]   \n...                              ...                 ...   \n3342        [60.0, 75.0, 90.0, 90.0]        [0, 0, 0, 0]   \n3343              [20.0, 30.0, 25.0]           [0, 0, 0]   \n3344        [15.0, 25.0, 60.0, 90.0]        [0, 0, 0, 0]   \n3345          [5.0, 5.0, 20.0, 25.0]        [0, 0, 0, 0]   \n3346               [3.0, 10.0, 30.0]           [3, 4, 4]   \n\n                  Humusgehaltsklasse      Durchwurzelung  \\\n0               [3.0, 3.0, 0.0, 0.0]        [3, 3, 1, 2]   \n1     [1.0, 2.0, 2.0, 2.0, 2.0, 0.0]  [4, 3, 1, 1, 1, 0]   \n2               [1.0, 3.0, 2.0, 0.0]        [4, 3, 3, 1]   \n3               [1.0, 2.0, 0.0, 0.0]        [3, 1, 1, 2]   \n4          [1.0, 2.0, 2.0, 0.0, 0.0]     [3, 0, 0, 0, 0]   \n...                              ...                 ...   \n3342            [1.0, 2.0, 0.0, 0.0]        [5, 3, 1, 2]   \n3343                 [1.0, 2.0, 0.0]           [5, 3, 1]   \n3344            [1.0, 1.0, 2.0, 0.0]        [4, 1, 0, 0]   \n3345            [1.0, 2.0, 0.0, 0.0]        [3, 2, 2, 2]   \n3346                 [1.0, 2.0, 0.0]           [0, 4, 4]   \n\n       Horizontsymbol_relevant  \n0             [22, 22, 73, 76]  \n1     [22, 65, 65, 81, 81, 81]  \n2             [40, 13, 34, 34]  \n3              [22, 1, 69, 78]  \n4           [22, 0, 65, 0, 68]  \n...                        ...  \n3342          [22, 14, 62, 77]  \n3343              [22, 32, 77]  \n3344           [22, 22, 32, 0]  \n3345           [22, 32, 47, 2]  \n3346              [22, 34, 34]  \n\n[3347 rows x 30 columns]",
      "text/html": "<div>\n<style scoped>\n    .dataframe tbody tr th:only-of-type {\n        vertical-align: middle;\n    }\n\n    .dataframe tbody tr th {\n        vertical-align: top;\n    }\n\n    .dataframe thead th {\n        text-align: right;\n    }\n</style>\n<table border=\"1\" class=\"dataframe\">\n  <thead>\n    <tr style=\"text-align: right;\">\n      <th></th>\n      <th>index</th>\n      <th>Probenahme_Monat</th>\n      <th>Probenahme_Jahr</th>\n      <th>xcoord</th>\n      <th>ycoord</th>\n      <th>Bodenklimaraum_Name</th>\n      <th>Landnutzung</th>\n      <th>BZE_Moor</th>\n      <th>Hauptbodentyp</th>\n      <th>BodenVarTypSub</th>\n      <th>GrundwaStufe</th>\n      <th>GrundwaStand</th>\n      <th>Moormaechtigkeit</th>\n      <th>Torfmaechtigkeit</th>\n      <th>Neigung</th>\n      <th>Exposition</th>\n      <th>Woelbung</th>\n      <th>Reliefformtyp</th>\n      <th>LageImRelief</th>\n      <th>KV_0_30</th>\n      <th>KV_30_100</th>\n      <th>file</th>\n      <th>Untergrenze</th>\n      <th>Bodenart</th>\n      <th>Bodenfarbe</th>\n      <th>Steine</th>\n      <th>Karbonat</th>\n      <th>Humusgehaltsklasse</th>\n      <th>Durchwurzelung</th>\n      <th>Horizontsymbol_relevant</th>\n    </tr>\n  </thead>\n  <tbody>\n    <tr>\n      <th>0</th>\n      <td>0</td>\n      <td>1</td>\n      <td>7</td>\n      <td>819021.7488</td>\n      <td>5941699.083</td>\n      <td>7</td>\n      <td>0</td>\n      <td>0</td>\n      <td>12</td>\n      <td>770</td>\n      <td>0.0</td>\n      <td>200.0</td>\n      <td>0.0</td>\n      <td>0.0</td>\n      <td>3.0</td>\n      <td>1.0</td>\n      <td>1.0</td>\n      <td>0.0</td>\n      <td>1.0</td>\n      <td>38.60</td>\n      <td>21.42</td>\n      <td>../data/BGR/Profilbilder_no_ruler_no_sky/BB_05...</td>\n      <td>[30.0, 38.0, 50.0, 200.0]</td>\n      <td>[3.0, 3.0, 10.0, 12.0]</td>\n      <td>[1.0, 1.0, 10.0, 5.0]</td>\n      <td>[2.0, 2.0, 4.0, 4.0]</td>\n      <td>[0, 0, 0, 0]</td>\n      <td>[3.0, 3.0, 0.0, 0.0]</td>\n      <td>[3, 3, 1, 2]</td>\n      <td>[22, 22, 73, 76]</td>\n    </tr>\n    <tr>\n      <th>1</th>\n      <td>1</td>\n      <td>1</td>\n      <td>6</td>\n      <td>819307.3864</td>\n      <td>5935183.595</td>\n      <td>7</td>\n      <td>0</td>\n      <td>0</td>\n      <td>11</td>\n      <td>371</td>\n      <td>0.0</td>\n      <td>200.0</td>\n      <td>0.0</td>\n      <td>0.0</td>\n      <td>2.0</td>\n      <td>2.0</td>\n      <td>0.0</td>\n      <td>0.0</td>\n      <td>3.0</td>\n      <td>34.91</td>\n      <td>11.67</td>\n      <td>../data/BGR/Profilbilder_no_ruler_no_sky/BB_06...</td>\n      <td>[29.0, 40.0, 54.0, 60.0, 80.0, 201.0]</td>\n      <td>[11.0, 11.0, 6.0, 10.0, 3.0, 21.0]</td>\n      <td>[4.0, 5.0, 29.0, 30.0, 42.0, 75.0]</td>\n      <td>[3.0, 3.0, 3.0, 3.0, 3.0, 3.0]</td>\n      <td>[2, 0, 2, 5, 7, 5]</td>\n      <td>[1.0, 2.0, 2.0, 2.0, 2.0, 0.0]</td>\n      <td>[4, 3, 1, 1, 1, 0]</td>\n      <td>[22, 65, 65, 81, 81, 81]</td>\n    </tr>\n    <tr>\n      <th>2</th>\n      <td>2</td>\n      <td>8</td>\n      <td>6</td>\n      <td>826424.5503</td>\n      <td>5932240.596</td>\n      <td>7</td>\n      <td>0</td>\n      <td>0</td>\n      <td>10</td>\n      <td>22</td>\n      <td>0.0</td>\n      <td>200.0</td>\n      <td>0.0</td>\n      <td>0.0</td>\n      <td>3.0</td>\n      <td>2.0</td>\n      <td>0.0</td>\n      <td>0.0</td>\n      <td>1.0</td>\n      <td>42.21</td>\n      <td>34.56</td>\n      <td>../data/BGR/Profilbilder_no_ruler_no_sky/BB_06...</td>\n      <td>[28.0, 50.0, 74.0, 110.0]</td>\n      <td>[10.0, 11.0, 11.0, 11.0]</td>\n      <td>[0.0, 0.0, 3.0, 3.0]</td>\n      <td>[4.0, 4.0, 4.0, 4.0]</td>\n      <td>[0, 0, 7, 7]</td>\n      <td>[1.0, 3.0, 2.0, 0.0]</td>\n      <td>[4, 3, 3, 1]</td>\n      <td>[40, 13, 34, 34]</td>\n    </tr>\n    <tr>\n      <th>3</th>\n      <td>3</td>\n      <td>4</td>\n      <td>6</td>\n      <td>807568.3913</td>\n      <td>5926533.227</td>\n      <td>7</td>\n      <td>0</td>\n      <td>0</td>\n      <td>12</td>\n      <td>44</td>\n      <td>0.0</td>\n      <td>200.0</td>\n      <td>0.0</td>\n      <td>0.0</td>\n      <td>4.0</td>\n      <td>5.0</td>\n      <td>2.0</td>\n      <td>14.0</td>\n      <td>3.0</td>\n      <td>37.39</td>\n      <td>13.22</td>\n      <td>../data/BGR/Profilbilder_no_ruler_no_sky/BB_06...</td>\n      <td>[30.0, 47.0, 73.0, 102.0]</td>\n      <td>[2.0, 2.0, 3.0, 3.0]</td>\n      <td>[0.0, 10.0, 13.0, 16.0]</td>\n      <td>[4.0, 4.0, 2.0, 2.0]</td>\n      <td>[0, 0, 0, 0]</td>\n      <td>[1.0, 2.0, 0.0, 0.0]</td>\n      <td>[3, 1, 1, 2]</td>\n      <td>[22, 1, 69, 78]</td>\n    </tr>\n    <tr>\n      <th>4</th>\n      <td>4</td>\n      <td>1</td>\n      <td>6</td>\n      <td>818608.7036</td>\n      <td>5925050.271</td>\n      <td>7</td>\n      <td>0</td>\n      <td>0</td>\n      <td>7</td>\n      <td>413</td>\n      <td>2.0</td>\n      <td>200.0</td>\n      <td>0.0</td>\n      <td>0.0</td>\n      <td>3.0</td>\n      <td>5.0</td>\n      <td>0.0</td>\n      <td>4.0</td>\n      <td>1.0</td>\n      <td>48.47</td>\n      <td>16.43</td>\n      <td>../data/BGR/Profilbilder_no_ruler_no_sky/BB_06...</td>\n      <td>[33.0, 43.0, 71.0, 88.0, 100.0]</td>\n      <td>[28.0, 7.0, 2.0, 20.0, 10.0]</td>\n      <td>[0.0, 15.0, 54.0, 44.0, 14.0]</td>\n      <td>[1.0, 0.0, 0.0, 0.0, 0.0]</td>\n      <td>[0, 0, 0, 0, 0]</td>\n      <td>[1.0, 2.0, 2.0, 0.0, 0.0]</td>\n      <td>[3, 0, 0, 0, 0]</td>\n      <td>[22, 0, 65, 0, 68]</td>\n    </tr>\n    <tr>\n      <th>...</th>\n      <td>...</td>\n      <td>...</td>\n      <td>...</td>\n      <td>...</td>\n      <td>...</td>\n      <td>...</td>\n      <td>...</td>\n      <td>...</td>\n      <td>...</td>\n      <td>...</td>\n      <td>...</td>\n      <td>...</td>\n      <td>...</td>\n      <td>...</td>\n      <td>...</td>\n      <td>...</td>\n      <td>...</td>\n      <td>...</td>\n      <td>...</td>\n      <td>...</td>\n      <td>...</td>\n      <td>...</td>\n      <td>...</td>\n      <td>...</td>\n      <td>...</td>\n      <td>...</td>\n      <td>...</td>\n      <td>...</td>\n      <td>...</td>\n      <td>...</td>\n    </tr>\n    <tr>\n      <th>3342</th>\n      <td>3342</td>\n      <td>0</td>\n      <td>6</td>\n      <td>648389.8108</td>\n      <td>5588119.501</td>\n      <td>10</td>\n      <td>1</td>\n      <td>0</td>\n      <td>0</td>\n      <td>616</td>\n      <td>0.0</td>\n      <td>200.0</td>\n      <td>0.0</td>\n      <td>0.0</td>\n      <td>8.0</td>\n      <td>7.0</td>\n      <td>7.0</td>\n      <td>0.0</td>\n      <td>3.0</td>\n      <td>48.82</td>\n      <td>2.46</td>\n      <td>../data/BGR/Profilbilder_no_ruler_no_sky/TH_34...</td>\n      <td>[14.0, 40.0, 60.0, 93.0]</td>\n      <td>[15.0, 15.0, 26.0, 26.0]</td>\n      <td>[6.0, 5.0, 53.0, 53.0]</td>\n      <td>[60.0, 75.0, 90.0, 90.0]</td>\n      <td>[0, 0, 0, 0]</td>\n      <td>[1.0, 2.0, 0.0, 0.0]</td>\n      <td>[5, 3, 1, 2]</td>\n      <td>[22, 14, 62, 77]</td>\n    </tr>\n    <tr>\n      <th>3343</th>\n      <td>3343</td>\n      <td>0</td>\n      <td>4</td>\n      <td>688216.3809</td>\n      <td>5588885.660</td>\n      <td>10</td>\n      <td>0</td>\n      <td>0</td>\n      <td>0</td>\n      <td>9</td>\n      <td>0.0</td>\n      <td>200.0</td>\n      <td>0.0</td>\n      <td>0.0</td>\n      <td>1.0</td>\n      <td>4.0</td>\n      <td>6.0</td>\n      <td>0.0</td>\n      <td>1.0</td>\n      <td>69.19</td>\n      <td>23.61</td>\n      <td>../data/BGR/Profilbilder_no_ruler_no_sky/TH_34...</td>\n      <td>[34.0, 69.0, 140.0]</td>\n      <td>[4.0, 4.0, 18.0]</td>\n      <td>[0.0, 3.0, 10.0]</td>\n      <td>[20.0, 30.0, 25.0]</td>\n      <td>[0, 0, 0]</td>\n      <td>[1.0, 2.0, 0.0]</td>\n      <td>[5, 3, 1]</td>\n      <td>[22, 32, 77]</td>\n    </tr>\n    <tr>\n      <th>3344</th>\n      <td>3344</td>\n      <td>0</td>\n      <td>4</td>\n      <td>701551.6557</td>\n      <td>5587919.679</td>\n      <td>10</td>\n      <td>0</td>\n      <td>0</td>\n      <td>0</td>\n      <td>0</td>\n      <td>0.0</td>\n      <td>200.0</td>\n      <td>0.0</td>\n      <td>0.0</td>\n      <td>6.0</td>\n      <td>4.0</td>\n      <td>0.0</td>\n      <td>0.0</td>\n      <td>1.0</td>\n      <td>75.65</td>\n      <td>9.34</td>\n      <td>../data/BGR/Profilbilder_no_ruler_no_sky/TH_34...</td>\n      <td>[20.0, 27.0, 70.0, 100.0]</td>\n      <td>[15.0, 15.0, 15.0, 26.0]</td>\n      <td>[2.0, 2.0, 3.0, 23.0]</td>\n      <td>[15.0, 25.0, 60.0, 90.0]</td>\n      <td>[0, 0, 0, 0]</td>\n      <td>[1.0, 1.0, 2.0, 0.0]</td>\n      <td>[4, 1, 0, 0]</td>\n      <td>[22, 22, 32, 0]</td>\n    </tr>\n    <tr>\n      <th>3345</th>\n      <td>3345</td>\n      <td>3</td>\n      <td>4</td>\n      <td>653547.6374</td>\n      <td>5581353.991</td>\n      <td>10</td>\n      <td>0</td>\n      <td>0</td>\n      <td>0</td>\n      <td>2</td>\n      <td>0.0</td>\n      <td>200.0</td>\n      <td>0.0</td>\n      <td>0.0</td>\n      <td>5.0</td>\n      <td>2.0</td>\n      <td>0.0</td>\n      <td>3.0</td>\n      <td>5.0</td>\n      <td>61.72</td>\n      <td>30.69</td>\n      <td>../data/BGR/Profilbilder_no_ruler_no_sky/TH_35...</td>\n      <td>[31.0, 49.0, 71.0, 144.0]</td>\n      <td>[15.0, 15.0, 15.0, 33.0]</td>\n      <td>[1.0, 7.0, 5.0, 16.0]</td>\n      <td>[5.0, 5.0, 20.0, 25.0]</td>\n      <td>[0, 0, 0, 0]</td>\n      <td>[1.0, 2.0, 0.0, 0.0]</td>\n      <td>[3, 2, 2, 2]</td>\n      <td>[22, 32, 47, 2]</td>\n    </tr>\n    <tr>\n      <th>3346</th>\n      <td>3346</td>\n      <td>4</td>\n      <td>5</td>\n      <td>620404.8554</td>\n      <td>5569180.493</td>\n      <td>10</td>\n      <td>0</td>\n      <td>0</td>\n      <td>5</td>\n      <td>3</td>\n      <td>0.0</td>\n      <td>200.0</td>\n      <td>0.0</td>\n      <td>0.0</td>\n      <td>1.0</td>\n      <td>3.0</td>\n      <td>0.0</td>\n      <td>0.0</td>\n      <td>3.0</td>\n      <td>80.30</td>\n      <td>19.58</td>\n      <td>../data/BGR/Profilbilder_no_ruler_no_sky/TH_35...</td>\n      <td>[27.0, 70.0, 92.0]</td>\n      <td>[1.0, 12.0, 1.0]</td>\n      <td>[6.0, 23.0, 31.0]</td>\n      <td>[3.0, 10.0, 30.0]</td>\n      <td>[3, 4, 4]</td>\n      <td>[1.0, 2.0, 0.0]</td>\n      <td>[0, 4, 4]</td>\n      <td>[22, 34, 34]</td>\n    </tr>\n  </tbody>\n</table>\n<p>3347 rows × 30 columns</p>\n</div>"
     },
     "execution_count": 29,
     "metadata": {},
     "output_type": "execute_result"
    }
   ],
   "source": [
    "# The dataframe has one row per horizon\n",
    "# For sequential training, make it one row per full image (the depth markers and the morphological features will be stored as lists and used later as ground truth in training)\n",
    "df = df.groupby('file', as_index=False).agg({     # Group by images, not by Point, since there are sometimes several images (different angles) for the same Point\n",
    "    **{gt: 'first' for gt in geotemp_img_infos},  # Take the first value (all are the same for each image, including the image path)\n",
    "    'Untergrenze': list,                          # Combine depth markers into a list (only lower bound Untergrenze actually needed)\n",
    "    **{st: list for st in soil_infos},            # Combine tabular features into lists (in the order of the horizons top to bottom)\n",
    "    target: list\n",
    "}).reset_index()\n",
    "geotemp_img_infos = ['index'] + geotemp_img_infos # Add the new index column\n",
    "                                                  # Used only for accessing the morphological features in the dataframe\n",
    "                                                  # (they have different shapes and cannot be stacked in tensor batches)\n",
    "df"
   ],
   "metadata": {
    "collapsed": false,
    "pycharm": {
     "name": "#%%\n"
    }
   }
  },
  {
   "cell_type": "code",
   "execution_count": 30,
   "outputs": [
    {
     "data": {
      "text/plain": "      index  Probenahme_Monat  Probenahme_Jahr       xcoord       ycoord  \\\n0         0                 1                7  819021.7488  5941699.083   \n1         1                 1                6  819307.3864  5935183.595   \n2         2                 8                6  826424.5503  5932240.596   \n3         3                 4                6  807568.3913  5926533.227   \n4         4                 1                6  818608.7036  5925050.271   \n...     ...               ...              ...          ...          ...   \n3342   3342                 0                6  648389.8108  5588119.501   \n3343   3343                 0                4  688216.3809  5588885.660   \n3344   3344                 0                4  701551.6557  5587919.679   \n3345   3345                 3                4  653547.6374  5581353.991   \n3346   3346                 4                5  620404.8554  5569180.493   \n\n      Bodenklimaraum_Name  Landnutzung  BZE_Moor  Hauptbodentyp  \\\n0                       7            0         0             12   \n1                       7            0         0             11   \n2                       7            0         0             10   \n3                       7            0         0             12   \n4                       7            0         0              7   \n...                   ...          ...       ...            ...   \n3342                   10            1         0              0   \n3343                   10            0         0              0   \n3344                   10            0         0              0   \n3345                   10            0         0              0   \n3346                   10            0         0              5   \n\n      BodenVarTypSub  GrundwaStufe  GrundwaStand  Moormaechtigkeit  \\\n0                770           0.0         200.0               0.0   \n1                371           0.0         200.0               0.0   \n2                 22           0.0         200.0               0.0   \n3                 44           0.0         200.0               0.0   \n4                413           2.0         200.0               0.0   \n...              ...           ...           ...               ...   \n3342             616           0.0         200.0               0.0   \n3343               9           0.0         200.0               0.0   \n3344               0           0.0         200.0               0.0   \n3345               2           0.0         200.0               0.0   \n3346               3           0.0         200.0               0.0   \n\n      Torfmaechtigkeit  Neigung  Exposition  Woelbung  Reliefformtyp  \\\n0                  0.0      3.0         1.0       1.0            0.0   \n1                  0.0      2.0         2.0       0.0            0.0   \n2                  0.0      3.0         2.0       0.0            0.0   \n3                  0.0      4.0         5.0       2.0           14.0   \n4                  0.0      3.0         5.0       0.0            4.0   \n...                ...      ...         ...       ...            ...   \n3342               0.0      8.0         7.0       7.0            0.0   \n3343               0.0      1.0         4.0       6.0            0.0   \n3344               0.0      6.0         4.0       0.0            0.0   \n3345               0.0      5.0         2.0       0.0            3.0   \n3346               0.0      1.0         3.0       0.0            0.0   \n\n      LageImRelief  KV_0_30  KV_30_100  \\\n0              1.0    38.60      21.42   \n1              3.0    34.91      11.67   \n2              1.0    42.21      34.56   \n3              3.0    37.39      13.22   \n4              1.0    48.47      16.43   \n...            ...      ...        ...   \n3342           3.0    48.82       2.46   \n3343           1.0    69.19      23.61   \n3344           1.0    75.65       9.34   \n3345           5.0    61.72      30.69   \n3346           3.0    80.30      19.58   \n\n                                                   file  \\\n0     ../data/BGR/Profilbilder_no_ruler_no_sky/BB_05...   \n1     ../data/BGR/Profilbilder_no_ruler_no_sky/BB_06...   \n2     ../data/BGR/Profilbilder_no_ruler_no_sky/BB_06...   \n3     ../data/BGR/Profilbilder_no_ruler_no_sky/BB_06...   \n4     ../data/BGR/Profilbilder_no_ruler_no_sky/BB_06...   \n...                                                 ...   \n3342  ../data/BGR/Profilbilder_no_ruler_no_sky/TH_34...   \n3343  ../data/BGR/Profilbilder_no_ruler_no_sky/TH_34...   \n3344  ../data/BGR/Profilbilder_no_ruler_no_sky/TH_34...   \n3345  ../data/BGR/Profilbilder_no_ruler_no_sky/TH_35...   \n3346  ../data/BGR/Profilbilder_no_ruler_no_sky/TH_35...   \n\n                           Untergrenze                            Bodenart  \\\n0                [0.3, 0.38, 0.5, 1.0]              [3.0, 3.0, 10.0, 12.0]   \n1     [0.29, 0.4, 0.54, 0.6, 0.8, 1.0]  [11.0, 11.0, 6.0, 10.0, 3.0, 21.0]   \n2               [0.28, 0.5, 0.74, 1.0]            [10.0, 11.0, 11.0, 11.0]   \n3               [0.3, 0.47, 0.73, 1.0]                [2.0, 2.0, 3.0, 3.0]   \n4        [0.33, 0.43, 0.71, 0.88, 1.0]        [28.0, 7.0, 2.0, 20.0, 10.0]   \n...                                ...                                 ...   \n3342             [0.14, 0.4, 0.6, 1.0]            [15.0, 15.0, 26.0, 26.0]   \n3343                 [0.34, 0.69, 1.0]                    [4.0, 4.0, 18.0]   \n3344             [0.2, 0.27, 0.7, 1.0]            [15.0, 15.0, 15.0, 26.0]   \n3345           [0.31, 0.49, 0.71, 1.0]            [15.0, 15.0, 15.0, 33.0]   \n3346                  [0.27, 0.7, 1.0]                    [1.0, 12.0, 1.0]   \n\n                              Bodenfarbe                          Steine  \\\n0                  [1.0, 1.0, 10.0, 5.0]            [2.0, 2.0, 4.0, 4.0]   \n1     [4.0, 5.0, 29.0, 30.0, 42.0, 75.0]  [3.0, 3.0, 3.0, 3.0, 3.0, 3.0]   \n2                   [0.0, 0.0, 3.0, 3.0]            [4.0, 4.0, 4.0, 4.0]   \n3                [0.0, 10.0, 13.0, 16.0]            [4.0, 4.0, 2.0, 2.0]   \n4          [0.0, 15.0, 54.0, 44.0, 14.0]       [1.0, 0.0, 0.0, 0.0, 0.0]   \n...                                  ...                             ...   \n3342              [6.0, 5.0, 53.0, 53.0]        [60.0, 75.0, 90.0, 90.0]   \n3343                    [0.0, 3.0, 10.0]              [20.0, 30.0, 25.0]   \n3344               [2.0, 2.0, 3.0, 23.0]        [15.0, 25.0, 60.0, 90.0]   \n3345               [1.0, 7.0, 5.0, 16.0]          [5.0, 5.0, 20.0, 25.0]   \n3346                   [6.0, 23.0, 31.0]               [3.0, 10.0, 30.0]   \n\n                Karbonat              Humusgehaltsklasse      Durchwurzelung  \\\n0           [0, 0, 0, 0]            [3.0, 3.0, 0.0, 0.0]        [3, 3, 1, 2]   \n1     [2, 0, 2, 5, 7, 5]  [1.0, 2.0, 2.0, 2.0, 2.0, 0.0]  [4, 3, 1, 1, 1, 0]   \n2           [0, 0, 7, 7]            [1.0, 3.0, 2.0, 0.0]        [4, 3, 3, 1]   \n3           [0, 0, 0, 0]            [1.0, 2.0, 0.0, 0.0]        [3, 1, 1, 2]   \n4        [0, 0, 0, 0, 0]       [1.0, 2.0, 2.0, 0.0, 0.0]     [3, 0, 0, 0, 0]   \n...                  ...                             ...                 ...   \n3342        [0, 0, 0, 0]            [1.0, 2.0, 0.0, 0.0]        [5, 3, 1, 2]   \n3343           [0, 0, 0]                 [1.0, 2.0, 0.0]           [5, 3, 1]   \n3344        [0, 0, 0, 0]            [1.0, 1.0, 2.0, 0.0]        [4, 1, 0, 0]   \n3345        [0, 0, 0, 0]            [1.0, 2.0, 0.0, 0.0]        [3, 2, 2, 2]   \n3346           [3, 4, 4]                 [1.0, 2.0, 0.0]           [0, 4, 4]   \n\n       Horizontsymbol_relevant  \n0             [22, 22, 73, 76]  \n1     [22, 65, 65, 81, 81, 81]  \n2             [40, 13, 34, 34]  \n3              [22, 1, 69, 78]  \n4           [22, 0, 65, 0, 68]  \n...                        ...  \n3342          [22, 14, 62, 77]  \n3343              [22, 32, 77]  \n3344           [22, 22, 32, 0]  \n3345           [22, 32, 47, 2]  \n3346              [22, 34, 34]  \n\n[3347 rows x 30 columns]",
      "text/html": "<div>\n<style scoped>\n    .dataframe tbody tr th:only-of-type {\n        vertical-align: middle;\n    }\n\n    .dataframe tbody tr th {\n        vertical-align: top;\n    }\n\n    .dataframe thead th {\n        text-align: right;\n    }\n</style>\n<table border=\"1\" class=\"dataframe\">\n  <thead>\n    <tr style=\"text-align: right;\">\n      <th></th>\n      <th>index</th>\n      <th>Probenahme_Monat</th>\n      <th>Probenahme_Jahr</th>\n      <th>xcoord</th>\n      <th>ycoord</th>\n      <th>Bodenklimaraum_Name</th>\n      <th>Landnutzung</th>\n      <th>BZE_Moor</th>\n      <th>Hauptbodentyp</th>\n      <th>BodenVarTypSub</th>\n      <th>GrundwaStufe</th>\n      <th>GrundwaStand</th>\n      <th>Moormaechtigkeit</th>\n      <th>Torfmaechtigkeit</th>\n      <th>Neigung</th>\n      <th>Exposition</th>\n      <th>Woelbung</th>\n      <th>Reliefformtyp</th>\n      <th>LageImRelief</th>\n      <th>KV_0_30</th>\n      <th>KV_30_100</th>\n      <th>file</th>\n      <th>Untergrenze</th>\n      <th>Bodenart</th>\n      <th>Bodenfarbe</th>\n      <th>Steine</th>\n      <th>Karbonat</th>\n      <th>Humusgehaltsklasse</th>\n      <th>Durchwurzelung</th>\n      <th>Horizontsymbol_relevant</th>\n    </tr>\n  </thead>\n  <tbody>\n    <tr>\n      <th>0</th>\n      <td>0</td>\n      <td>1</td>\n      <td>7</td>\n      <td>819021.7488</td>\n      <td>5941699.083</td>\n      <td>7</td>\n      <td>0</td>\n      <td>0</td>\n      <td>12</td>\n      <td>770</td>\n      <td>0.0</td>\n      <td>200.0</td>\n      <td>0.0</td>\n      <td>0.0</td>\n      <td>3.0</td>\n      <td>1.0</td>\n      <td>1.0</td>\n      <td>0.0</td>\n      <td>1.0</td>\n      <td>38.60</td>\n      <td>21.42</td>\n      <td>../data/BGR/Profilbilder_no_ruler_no_sky/BB_05...</td>\n      <td>[0.3, 0.38, 0.5, 1.0]</td>\n      <td>[3.0, 3.0, 10.0, 12.0]</td>\n      <td>[1.0, 1.0, 10.0, 5.0]</td>\n      <td>[2.0, 2.0, 4.0, 4.0]</td>\n      <td>[0, 0, 0, 0]</td>\n      <td>[3.0, 3.0, 0.0, 0.0]</td>\n      <td>[3, 3, 1, 2]</td>\n      <td>[22, 22, 73, 76]</td>\n    </tr>\n    <tr>\n      <th>1</th>\n      <td>1</td>\n      <td>1</td>\n      <td>6</td>\n      <td>819307.3864</td>\n      <td>5935183.595</td>\n      <td>7</td>\n      <td>0</td>\n      <td>0</td>\n      <td>11</td>\n      <td>371</td>\n      <td>0.0</td>\n      <td>200.0</td>\n      <td>0.0</td>\n      <td>0.0</td>\n      <td>2.0</td>\n      <td>2.0</td>\n      <td>0.0</td>\n      <td>0.0</td>\n      <td>3.0</td>\n      <td>34.91</td>\n      <td>11.67</td>\n      <td>../data/BGR/Profilbilder_no_ruler_no_sky/BB_06...</td>\n      <td>[0.29, 0.4, 0.54, 0.6, 0.8, 1.0]</td>\n      <td>[11.0, 11.0, 6.0, 10.0, 3.0, 21.0]</td>\n      <td>[4.0, 5.0, 29.0, 30.0, 42.0, 75.0]</td>\n      <td>[3.0, 3.0, 3.0, 3.0, 3.0, 3.0]</td>\n      <td>[2, 0, 2, 5, 7, 5]</td>\n      <td>[1.0, 2.0, 2.0, 2.0, 2.0, 0.0]</td>\n      <td>[4, 3, 1, 1, 1, 0]</td>\n      <td>[22, 65, 65, 81, 81, 81]</td>\n    </tr>\n    <tr>\n      <th>2</th>\n      <td>2</td>\n      <td>8</td>\n      <td>6</td>\n      <td>826424.5503</td>\n      <td>5932240.596</td>\n      <td>7</td>\n      <td>0</td>\n      <td>0</td>\n      <td>10</td>\n      <td>22</td>\n      <td>0.0</td>\n      <td>200.0</td>\n      <td>0.0</td>\n      <td>0.0</td>\n      <td>3.0</td>\n      <td>2.0</td>\n      <td>0.0</td>\n      <td>0.0</td>\n      <td>1.0</td>\n      <td>42.21</td>\n      <td>34.56</td>\n      <td>../data/BGR/Profilbilder_no_ruler_no_sky/BB_06...</td>\n      <td>[0.28, 0.5, 0.74, 1.0]</td>\n      <td>[10.0, 11.0, 11.0, 11.0]</td>\n      <td>[0.0, 0.0, 3.0, 3.0]</td>\n      <td>[4.0, 4.0, 4.0, 4.0]</td>\n      <td>[0, 0, 7, 7]</td>\n      <td>[1.0, 3.0, 2.0, 0.0]</td>\n      <td>[4, 3, 3, 1]</td>\n      <td>[40, 13, 34, 34]</td>\n    </tr>\n    <tr>\n      <th>3</th>\n      <td>3</td>\n      <td>4</td>\n      <td>6</td>\n      <td>807568.3913</td>\n      <td>5926533.227</td>\n      <td>7</td>\n      <td>0</td>\n      <td>0</td>\n      <td>12</td>\n      <td>44</td>\n      <td>0.0</td>\n      <td>200.0</td>\n      <td>0.0</td>\n      <td>0.0</td>\n      <td>4.0</td>\n      <td>5.0</td>\n      <td>2.0</td>\n      <td>14.0</td>\n      <td>3.0</td>\n      <td>37.39</td>\n      <td>13.22</td>\n      <td>../data/BGR/Profilbilder_no_ruler_no_sky/BB_06...</td>\n      <td>[0.3, 0.47, 0.73, 1.0]</td>\n      <td>[2.0, 2.0, 3.0, 3.0]</td>\n      <td>[0.0, 10.0, 13.0, 16.0]</td>\n      <td>[4.0, 4.0, 2.0, 2.0]</td>\n      <td>[0, 0, 0, 0]</td>\n      <td>[1.0, 2.0, 0.0, 0.0]</td>\n      <td>[3, 1, 1, 2]</td>\n      <td>[22, 1, 69, 78]</td>\n    </tr>\n    <tr>\n      <th>4</th>\n      <td>4</td>\n      <td>1</td>\n      <td>6</td>\n      <td>818608.7036</td>\n      <td>5925050.271</td>\n      <td>7</td>\n      <td>0</td>\n      <td>0</td>\n      <td>7</td>\n      <td>413</td>\n      <td>2.0</td>\n      <td>200.0</td>\n      <td>0.0</td>\n      <td>0.0</td>\n      <td>3.0</td>\n      <td>5.0</td>\n      <td>0.0</td>\n      <td>4.0</td>\n      <td>1.0</td>\n      <td>48.47</td>\n      <td>16.43</td>\n      <td>../data/BGR/Profilbilder_no_ruler_no_sky/BB_06...</td>\n      <td>[0.33, 0.43, 0.71, 0.88, 1.0]</td>\n      <td>[28.0, 7.0, 2.0, 20.0, 10.0]</td>\n      <td>[0.0, 15.0, 54.0, 44.0, 14.0]</td>\n      <td>[1.0, 0.0, 0.0, 0.0, 0.0]</td>\n      <td>[0, 0, 0, 0, 0]</td>\n      <td>[1.0, 2.0, 2.0, 0.0, 0.0]</td>\n      <td>[3, 0, 0, 0, 0]</td>\n      <td>[22, 0, 65, 0, 68]</td>\n    </tr>\n    <tr>\n      <th>...</th>\n      <td>...</td>\n      <td>...</td>\n      <td>...</td>\n      <td>...</td>\n      <td>...</td>\n      <td>...</td>\n      <td>...</td>\n      <td>...</td>\n      <td>...</td>\n      <td>...</td>\n      <td>...</td>\n      <td>...</td>\n      <td>...</td>\n      <td>...</td>\n      <td>...</td>\n      <td>...</td>\n      <td>...</td>\n      <td>...</td>\n      <td>...</td>\n      <td>...</td>\n      <td>...</td>\n      <td>...</td>\n      <td>...</td>\n      <td>...</td>\n      <td>...</td>\n      <td>...</td>\n      <td>...</td>\n      <td>...</td>\n      <td>...</td>\n      <td>...</td>\n    </tr>\n    <tr>\n      <th>3342</th>\n      <td>3342</td>\n      <td>0</td>\n      <td>6</td>\n      <td>648389.8108</td>\n      <td>5588119.501</td>\n      <td>10</td>\n      <td>1</td>\n      <td>0</td>\n      <td>0</td>\n      <td>616</td>\n      <td>0.0</td>\n      <td>200.0</td>\n      <td>0.0</td>\n      <td>0.0</td>\n      <td>8.0</td>\n      <td>7.0</td>\n      <td>7.0</td>\n      <td>0.0</td>\n      <td>3.0</td>\n      <td>48.82</td>\n      <td>2.46</td>\n      <td>../data/BGR/Profilbilder_no_ruler_no_sky/TH_34...</td>\n      <td>[0.14, 0.4, 0.6, 1.0]</td>\n      <td>[15.0, 15.0, 26.0, 26.0]</td>\n      <td>[6.0, 5.0, 53.0, 53.0]</td>\n      <td>[60.0, 75.0, 90.0, 90.0]</td>\n      <td>[0, 0, 0, 0]</td>\n      <td>[1.0, 2.0, 0.0, 0.0]</td>\n      <td>[5, 3, 1, 2]</td>\n      <td>[22, 14, 62, 77]</td>\n    </tr>\n    <tr>\n      <th>3343</th>\n      <td>3343</td>\n      <td>0</td>\n      <td>4</td>\n      <td>688216.3809</td>\n      <td>5588885.660</td>\n      <td>10</td>\n      <td>0</td>\n      <td>0</td>\n      <td>0</td>\n      <td>9</td>\n      <td>0.0</td>\n      <td>200.0</td>\n      <td>0.0</td>\n      <td>0.0</td>\n      <td>1.0</td>\n      <td>4.0</td>\n      <td>6.0</td>\n      <td>0.0</td>\n      <td>1.0</td>\n      <td>69.19</td>\n      <td>23.61</td>\n      <td>../data/BGR/Profilbilder_no_ruler_no_sky/TH_34...</td>\n      <td>[0.34, 0.69, 1.0]</td>\n      <td>[4.0, 4.0, 18.0]</td>\n      <td>[0.0, 3.0, 10.0]</td>\n      <td>[20.0, 30.0, 25.0]</td>\n      <td>[0, 0, 0]</td>\n      <td>[1.0, 2.0, 0.0]</td>\n      <td>[5, 3, 1]</td>\n      <td>[22, 32, 77]</td>\n    </tr>\n    <tr>\n      <th>3344</th>\n      <td>3344</td>\n      <td>0</td>\n      <td>4</td>\n      <td>701551.6557</td>\n      <td>5587919.679</td>\n      <td>10</td>\n      <td>0</td>\n      <td>0</td>\n      <td>0</td>\n      <td>0</td>\n      <td>0.0</td>\n      <td>200.0</td>\n      <td>0.0</td>\n      <td>0.0</td>\n      <td>6.0</td>\n      <td>4.0</td>\n      <td>0.0</td>\n      <td>0.0</td>\n      <td>1.0</td>\n      <td>75.65</td>\n      <td>9.34</td>\n      <td>../data/BGR/Profilbilder_no_ruler_no_sky/TH_34...</td>\n      <td>[0.2, 0.27, 0.7, 1.0]</td>\n      <td>[15.0, 15.0, 15.0, 26.0]</td>\n      <td>[2.0, 2.0, 3.0, 23.0]</td>\n      <td>[15.0, 25.0, 60.0, 90.0]</td>\n      <td>[0, 0, 0, 0]</td>\n      <td>[1.0, 1.0, 2.0, 0.0]</td>\n      <td>[4, 1, 0, 0]</td>\n      <td>[22, 22, 32, 0]</td>\n    </tr>\n    <tr>\n      <th>3345</th>\n      <td>3345</td>\n      <td>3</td>\n      <td>4</td>\n      <td>653547.6374</td>\n      <td>5581353.991</td>\n      <td>10</td>\n      <td>0</td>\n      <td>0</td>\n      <td>0</td>\n      <td>2</td>\n      <td>0.0</td>\n      <td>200.0</td>\n      <td>0.0</td>\n      <td>0.0</td>\n      <td>5.0</td>\n      <td>2.0</td>\n      <td>0.0</td>\n      <td>3.0</td>\n      <td>5.0</td>\n      <td>61.72</td>\n      <td>30.69</td>\n      <td>../data/BGR/Profilbilder_no_ruler_no_sky/TH_35...</td>\n      <td>[0.31, 0.49, 0.71, 1.0]</td>\n      <td>[15.0, 15.0, 15.0, 33.0]</td>\n      <td>[1.0, 7.0, 5.0, 16.0]</td>\n      <td>[5.0, 5.0, 20.0, 25.0]</td>\n      <td>[0, 0, 0, 0]</td>\n      <td>[1.0, 2.0, 0.0, 0.0]</td>\n      <td>[3, 2, 2, 2]</td>\n      <td>[22, 32, 47, 2]</td>\n    </tr>\n    <tr>\n      <th>3346</th>\n      <td>3346</td>\n      <td>4</td>\n      <td>5</td>\n      <td>620404.8554</td>\n      <td>5569180.493</td>\n      <td>10</td>\n      <td>0</td>\n      <td>0</td>\n      <td>5</td>\n      <td>3</td>\n      <td>0.0</td>\n      <td>200.0</td>\n      <td>0.0</td>\n      <td>0.0</td>\n      <td>1.0</td>\n      <td>3.0</td>\n      <td>0.0</td>\n      <td>0.0</td>\n      <td>3.0</td>\n      <td>80.30</td>\n      <td>19.58</td>\n      <td>../data/BGR/Profilbilder_no_ruler_no_sky/TH_35...</td>\n      <td>[0.27, 0.7, 1.0]</td>\n      <td>[1.0, 12.0, 1.0]</td>\n      <td>[6.0, 23.0, 31.0]</td>\n      <td>[3.0, 10.0, 30.0]</td>\n      <td>[3, 4, 4]</td>\n      <td>[1.0, 2.0, 0.0]</td>\n      <td>[0, 4, 4]</td>\n      <td>[22, 34, 34]</td>\n    </tr>\n  </tbody>\n</table>\n<p>3347 rows × 30 columns</p>\n</div>"
     },
     "execution_count": 30,
     "metadata": {},
     "output_type": "execute_result"
    }
   ],
   "source": [
    "# Only rows with Obergrenze < 100 were kept. This lead to some Untergrenze values still being above 100.\n",
    "# Round these down to 100 for a correct loss calculation (see depth_marker_loss)\n",
    "# Also normalize labels to interval [0.0, 1.0] for faster convergence and stability\n",
    "def modify_df_list(lst, max_boundary=100.0):\n",
    "    lst[-1] = max_boundary\n",
    "    lst = [x/max_boundary for x in lst]\n",
    "    return lst\n",
    "df['Untergrenze'] = df['Untergrenze'].apply(modify_df_list)\n",
    "df"
   ],
   "metadata": {
    "collapsed": false,
    "pycharm": {
     "name": "#%%\n"
    }
   }
  },
  {
   "cell_type": "code",
   "execution_count": 31,
   "outputs": [
    {
     "name": "stdout",
     "output_type": "stream",
     "text": [
      "Minimum number of horizons: 2\n",
      "Maximum number of horizons: 8\n"
     ]
    }
   ],
   "source": [
    "# Get the lengths of the lists in the 'Untergrenze' column\n",
    "list_lengths = df['Untergrenze'].apply(len)\n",
    "\n",
    "min_length = list_lengths.min()\n",
    "max_length = list_lengths.max()\n",
    "\n",
    "print(f\"Minimum number of horizons: {min_length}\")\n",
    "print(f\"Maximum number of horizons: {max_length}\")"
   ],
   "metadata": {
    "collapsed": false,
    "pycharm": {
     "name": "#%%\n"
    }
   }
  },
  {
   "cell_type": "code",
   "execution_count": 32,
   "outputs": [
    {
     "name": "stdout",
     "output_type": "stream",
     "text": [
      "List with minimum length: [0.32, 1.0]\n",
      "List with maximum length: [0.13, 0.26, 0.4, 0.58, 0.68, 0.83, 0.98, 1.0]\n"
     ]
    }
   ],
   "source": [
    "min_length_list = df[df['Untergrenze'].apply(len) == min_length]['Untergrenze'].values[0]\n",
    "max_length_list = df[df['Untergrenze'].apply(len) == max_length]['Untergrenze'].values[0]\n",
    "print(f\"List with minimum length: {min_length_list}\")\n",
    "print(f\"List with maximum length: {max_length_list}\")"
   ],
   "metadata": {
    "collapsed": false,
    "pycharm": {
     "name": "#%%\n"
    }
   }
  },
  {
   "cell_type": "code",
   "execution_count": 33,
   "outputs": [],
   "source": [
    "# Define the image normalization\n",
    "normalize = transforms.Compose([\n",
    "    transforms.ToTensor(),\n",
    "    transforms.Normalize(mean=[0.485, 0.456, 0.406], std=[0.229, 0.224, 0.225]), # Normalize with ImageNet statistics\n",
    "])"
   ],
   "metadata": {
    "collapsed": false,
    "pycharm": {
     "name": "#%%\n"
    }
   }
  },
  {
   "cell_type": "code",
   "execution_count": 34,
   "outputs": [
    {
     "data": {
      "text/plain": "HorizonClassifier(\n  (image_encoder): ImageEncoder(\n    (cnn): ResNet(\n      (conv1): Conv2d(3, 64, kernel_size=(7, 7), stride=(2, 2), padding=(3, 3), bias=False)\n      (bn1): BatchNorm2d(64, eps=1e-05, momentum=0.1, affine=True, track_running_stats=True)\n      (relu): ReLU(inplace=True)\n      (maxpool): MaxPool2d(kernel_size=3, stride=2, padding=1, dilation=1, ceil_mode=False)\n      (layer1): Sequential(\n        (0): BasicBlock(\n          (conv1): Conv2d(64, 64, kernel_size=(3, 3), stride=(1, 1), padding=(1, 1), bias=False)\n          (bn1): BatchNorm2d(64, eps=1e-05, momentum=0.1, affine=True, track_running_stats=True)\n          (relu): ReLU(inplace=True)\n          (conv2): Conv2d(64, 64, kernel_size=(3, 3), stride=(1, 1), padding=(1, 1), bias=False)\n          (bn2): BatchNorm2d(64, eps=1e-05, momentum=0.1, affine=True, track_running_stats=True)\n        )\n        (1): BasicBlock(\n          (conv1): Conv2d(64, 64, kernel_size=(3, 3), stride=(1, 1), padding=(1, 1), bias=False)\n          (bn1): BatchNorm2d(64, eps=1e-05, momentum=0.1, affine=True, track_running_stats=True)\n          (relu): ReLU(inplace=True)\n          (conv2): Conv2d(64, 64, kernel_size=(3, 3), stride=(1, 1), padding=(1, 1), bias=False)\n          (bn2): BatchNorm2d(64, eps=1e-05, momentum=0.1, affine=True, track_running_stats=True)\n        )\n      )\n      (layer2): Sequential(\n        (0): BasicBlock(\n          (conv1): Conv2d(64, 128, kernel_size=(3, 3), stride=(2, 2), padding=(1, 1), bias=False)\n          (bn1): BatchNorm2d(128, eps=1e-05, momentum=0.1, affine=True, track_running_stats=True)\n          (relu): ReLU(inplace=True)\n          (conv2): Conv2d(128, 128, kernel_size=(3, 3), stride=(1, 1), padding=(1, 1), bias=False)\n          (bn2): BatchNorm2d(128, eps=1e-05, momentum=0.1, affine=True, track_running_stats=True)\n          (downsample): Sequential(\n            (0): Conv2d(64, 128, kernel_size=(1, 1), stride=(2, 2), bias=False)\n            (1): BatchNorm2d(128, eps=1e-05, momentum=0.1, affine=True, track_running_stats=True)\n          )\n        )\n        (1): BasicBlock(\n          (conv1): Conv2d(128, 128, kernel_size=(3, 3), stride=(1, 1), padding=(1, 1), bias=False)\n          (bn1): BatchNorm2d(128, eps=1e-05, momentum=0.1, affine=True, track_running_stats=True)\n          (relu): ReLU(inplace=True)\n          (conv2): Conv2d(128, 128, kernel_size=(3, 3), stride=(1, 1), padding=(1, 1), bias=False)\n          (bn2): BatchNorm2d(128, eps=1e-05, momentum=0.1, affine=True, track_running_stats=True)\n        )\n      )\n      (layer3): Sequential(\n        (0): BasicBlock(\n          (conv1): Conv2d(128, 256, kernel_size=(3, 3), stride=(2, 2), padding=(1, 1), bias=False)\n          (bn1): BatchNorm2d(256, eps=1e-05, momentum=0.1, affine=True, track_running_stats=True)\n          (relu): ReLU(inplace=True)\n          (conv2): Conv2d(256, 256, kernel_size=(3, 3), stride=(1, 1), padding=(1, 1), bias=False)\n          (bn2): BatchNorm2d(256, eps=1e-05, momentum=0.1, affine=True, track_running_stats=True)\n          (downsample): Sequential(\n            (0): Conv2d(128, 256, kernel_size=(1, 1), stride=(2, 2), bias=False)\n            (1): BatchNorm2d(256, eps=1e-05, momentum=0.1, affine=True, track_running_stats=True)\n          )\n        )\n        (1): BasicBlock(\n          (conv1): Conv2d(256, 256, kernel_size=(3, 3), stride=(1, 1), padding=(1, 1), bias=False)\n          (bn1): BatchNorm2d(256, eps=1e-05, momentum=0.1, affine=True, track_running_stats=True)\n          (relu): ReLU(inplace=True)\n          (conv2): Conv2d(256, 256, kernel_size=(3, 3), stride=(1, 1), padding=(1, 1), bias=False)\n          (bn2): BatchNorm2d(256, eps=1e-05, momentum=0.1, affine=True, track_running_stats=True)\n        )\n      )\n      (layer4): Sequential(\n        (0): BasicBlock(\n          (conv1): Conv2d(256, 512, kernel_size=(3, 3), stride=(2, 2), padding=(1, 1), bias=False)\n          (bn1): BatchNorm2d(512, eps=1e-05, momentum=0.1, affine=True, track_running_stats=True)\n          (relu): ReLU(inplace=True)\n          (conv2): Conv2d(512, 512, kernel_size=(3, 3), stride=(1, 1), padding=(1, 1), bias=False)\n          (bn2): BatchNorm2d(512, eps=1e-05, momentum=0.1, affine=True, track_running_stats=True)\n          (downsample): Sequential(\n            (0): Conv2d(256, 512, kernel_size=(1, 1), stride=(2, 2), bias=False)\n            (1): BatchNorm2d(512, eps=1e-05, momentum=0.1, affine=True, track_running_stats=True)\n          )\n        )\n        (1): BasicBlock(\n          (conv1): Conv2d(512, 512, kernel_size=(3, 3), stride=(1, 1), padding=(1, 1), bias=False)\n          (bn1): BatchNorm2d(512, eps=1e-05, momentum=0.1, affine=True, track_running_stats=True)\n          (relu): ReLU(inplace=True)\n          (conv2): Conv2d(512, 512, kernel_size=(3, 3), stride=(1, 1), padding=(1, 1), bias=False)\n          (bn2): BatchNorm2d(512, eps=1e-05, momentum=0.1, affine=True, track_running_stats=True)\n        )\n      )\n      (avgpool): AdaptiveAvgPool2d(output_size=(1, 1))\n      (fc): Identity()\n    )\n  )\n  (geo_temp_encoder): GeoTemporalEncoder(\n    (encoder): Sequential(\n      (0): Linear(in_features=21, out_features=64, bias=True)\n      (1): ReLU()\n      (2): Linear(in_features=64, out_features=32, bias=True)\n      (3): ReLU()\n    )\n  )\n  (depth_marker_predictor): DepthMarkerPredictor(\n    (fc): Sequential(\n      (0): Linear(in_features=544, out_features=128, bias=True)\n      (1): ReLU()\n      (2): Linear(in_features=128, out_features=128, bias=True)\n    )\n    (transformer): TransformerEncoder(\n      (layers): ModuleList(\n        (0): TransformerEncoderLayer(\n          (self_attn): MultiheadAttention(\n            (out_proj): NonDynamicallyQuantizableLinear(in_features=128, out_features=128, bias=True)\n          )\n          (linear1): Linear(in_features=128, out_features=2048, bias=True)\n          (dropout): Dropout(p=0.1, inplace=False)\n          (linear2): Linear(in_features=2048, out_features=128, bias=True)\n          (norm1): LayerNorm((128,), eps=1e-05, elementwise_affine=True)\n          (norm2): LayerNorm((128,), eps=1e-05, elementwise_affine=True)\n          (dropout1): Dropout(p=0.1, inplace=False)\n          (dropout2): Dropout(p=0.1, inplace=False)\n        )\n        (1): TransformerEncoderLayer(\n          (self_attn): MultiheadAttention(\n            (out_proj): NonDynamicallyQuantizableLinear(in_features=128, out_features=128, bias=True)\n          )\n          (linear1): Linear(in_features=128, out_features=2048, bias=True)\n          (dropout): Dropout(p=0.1, inplace=False)\n          (linear2): Linear(in_features=2048, out_features=128, bias=True)\n          (norm1): LayerNorm((128,), eps=1e-05, elementwise_affine=True)\n          (norm2): LayerNorm((128,), eps=1e-05, elementwise_affine=True)\n          (dropout1): Dropout(p=0.1, inplace=False)\n          (dropout2): Dropout(p=0.1, inplace=False)\n        )\n      )\n    )\n    (predictor): Linear(in_features=128, out_features=1, bias=True)\n  )\n)"
     },
     "execution_count": 34,
     "metadata": {},
     "output_type": "execute_result"
    }
   ],
   "source": [
    "# Initialize model\n",
    "#num_classes = len(df[target].unique()) # for one-hot encoding\n",
    "#num_classes = emb_dict['embedding'].shape[1] # for HCE (the dim. of final layer in the model should match the dim of the embedded label vectors)\n",
    "model = bgr_mod.HorizonClassifier(geo_temp_input_dim=len(geotemp_img_infos)-1, # without counting the img path\n",
    "                                  max_seq_len = max_length,                    # fixed from longest list of horizons in one image from dataset\n",
    "                                  stop_token = 1.0)                            # End of Sequence Token at -1 meters\n",
    "\n",
    "device = torch.device(\"cuda:0\" if torch.cuda.is_available() else \"cpu\")\n",
    "model.to(device)"
   ],
   "metadata": {
    "collapsed": false,
    "pycharm": {
     "name": "#%%\n"
    }
   }
  },
  {
   "cell_type": "code",
   "execution_count": 35,
   "outputs": [
    {
     "name": "stdout",
     "output_type": "stream",
     "text": [
      "2510 samples for training.\n",
      "837 samples for validating.\n"
     ]
    }
   ],
   "source": [
    "# Data split\n",
    "#train_df, val_df = train_test_split(df, stratify=df[target], random_state=2024)\n",
    "train_df, val_df = train_test_split(df, random_state=2024) # ToDo: not stratified...\n",
    "\n",
    "print(f'{len(train_df)} samples for training.')\n",
    "print(f'{len(val_df)} samples for validating.')"
   ],
   "metadata": {
    "collapsed": false,
    "pycharm": {
     "name": "#%%\n"
    }
   }
  },
  {
   "cell_type": "code",
   "execution_count": 36,
   "outputs": [],
   "source": [
    "# Define the image transforms for augmentation\n",
    "augment = [\n",
    "    transforms.ColorJitter(brightness=0.3, contrast=0.3, saturation=0.3, hue=0.1),\n",
    "    transforms.GaussianBlur(kernel_size=(5, 5), sigma=(1., 3.))\n",
    "]"
   ],
   "metadata": {
    "collapsed": false,
    "pycharm": {
     "name": "#%%\n"
    }
   }
  },
  {
   "cell_type": "code",
   "execution_count": 37,
   "outputs": [],
   "source": [
    "# Create Dataset object with image and tabular features\n",
    "train_dataset = bgr_data.ImageTabularDataset(dataframe=train_df,#[:100],\n",
    "                                             normalize=normalize,\n",
    "                                             augment=augment,\n",
    "                                             image_path='file',\n",
    "                                             #label=depth_markers[1], # predict list of lower boundaries (Untergrenze)\n",
    "                                             label=None, # no label column as input; access it instead via Point during training\n",
    "                                             feature_columns=geotemp_img_infos[:-1])\n",
    "\n",
    "train_loader = DataLoader(train_dataset, batch_size=64, shuffle=True, num_workers=16)\n",
    "\n",
    "# Training parameters\n",
    "optimizer = optim.AdamW(model.parameters(), lr=1e-3, weight_decay=1e-4)\n",
    "#criterion = nn.CrossEntropyLoss()\n",
    "#criterion = TopKLoss(k=5)\n",
    "#criterion = nn.CosineEmbeddingLoss() # for HCE: 1 - cos(prediction, target)\n",
    "criterion = DepthMarkerLoss()\n",
    "\n",
    "# Note: Is MSE better for HCE?"
   ],
   "metadata": {
    "collapsed": false,
    "pycharm": {
     "name": "#%%\n"
    }
   }
  },
  {
   "cell_type": "code",
   "execution_count": 38,
   "outputs": [],
   "source": [
    "### Callbacks\n",
    "scheduler = torch.optim.lr_scheduler.ReduceLROnPlateau(optimizer, mode='min', factor=0.1, patience=3, threshold=0.1, min_lr=1e-5, verbose=True)\n",
    "early_stopping = EarlyStopping(patience=10, min_delta=0.01, verbose=True) # looks at val_loss (see callbacks.py)"
   ],
   "metadata": {
    "collapsed": false,
    "pycharm": {
     "name": "#%%\n"
    }
   }
  },
  {
   "cell_type": "code",
   "execution_count": 39,
   "outputs": [
    {
     "name": "stdout",
     "output_type": "stream",
     "text": [
      "Training size original: 2510\n",
      "Training size after augmentation: 7530\n"
     ]
    }
   ],
   "source": [
    "print(f\"Training size original: {len(train_dataset.dataframe)}\")\n",
    "print(f\"Training size after augmentation: {len(train_dataset)}\")"
   ],
   "metadata": {
    "collapsed": false,
    "pycharm": {
     "name": "#%%\n"
    }
   }
  },
  {
   "cell_type": "code",
   "execution_count": 40,
   "outputs": [
    {
     "name": "stderr",
     "output_type": "stream",
     "text": [
      "Clipping input data to the valid range for imshow with RGB data ([0..1] for floats or [0..255] for integers).\n",
      "Clipping input data to the valid range for imshow with RGB data ([0..1] for floats or [0..255] for integers).\n",
      "Clipping input data to the valid range for imshow with RGB data ([0..1] for floats or [0..255] for integers).\n"
     ]
    },
    {
     "name": "stdout",
     "output_type": "stream",
     "text": [
      "Image 0\n",
      "tensor([1.7890e+03, 7.0000e+00, 0.0000e+00, 5.0506e+05, 5.8320e+06, 6.0000e+00,\n",
      "        0.0000e+00, 0.0000e+00, 0.0000e+00, 2.0000e+00, 0.0000e+00, 2.0000e+02,\n",
      "        0.0000e+00, 0.0000e+00, 3.0000e+00, 2.0000e+00, 2.0000e+00, 0.0000e+00,\n",
      "        3.0000e+00, 5.3780e+01, 1.5110e+01])\n",
      "Image 1\n",
      "tensor([1.7890e+03, 7.0000e+00, 0.0000e+00, 5.0506e+05, 5.8320e+06, 6.0000e+00,\n",
      "        0.0000e+00, 0.0000e+00, 0.0000e+00, 2.0000e+00, 0.0000e+00, 2.0000e+02,\n",
      "        0.0000e+00, 0.0000e+00, 3.0000e+00, 2.0000e+00, 2.0000e+00, 0.0000e+00,\n",
      "        3.0000e+00, 5.3780e+01, 1.5110e+01])\n",
      "Image 2\n",
      "tensor([1.7890e+03, 7.0000e+00, 0.0000e+00, 5.0506e+05, 5.8320e+06, 6.0000e+00,\n",
      "        0.0000e+00, 0.0000e+00, 0.0000e+00, 2.0000e+00, 0.0000e+00, 2.0000e+02,\n",
      "        0.0000e+00, 0.0000e+00, 3.0000e+00, 2.0000e+00, 2.0000e+00, 0.0000e+00,\n",
      "        3.0000e+00, 5.3780e+01, 1.5110e+01])\n"
     ]
    },
    {
     "data": {
      "text/plain": "<Figure size 720x576 with 3 Axes>",
      "image/svg+xml": "<?xml version=\"1.0\" encoding=\"utf-8\" standalone=\"no\"?>\n<!DOCTYPE svg PUBLIC \"-//W3C//DTD SVG 1.1//EN\"\n  \"http://www.w3.org/Graphics/SVG/1.1/DTD/svg11.dtd\">\n<svg xmlns:xlink=\"http://www.w3.org/1999/xlink\" width=\"572.4pt\" height=\"178.517647pt\" viewBox=\"0 0 572.4 178.517647\" xmlns=\"http://www.w3.org/2000/svg\" version=\"1.1\">\n <metadata>\n  <rdf:RDF xmlns:dc=\"http://purl.org/dc/elements/1.1/\" xmlns:cc=\"http://creativecommons.org/ns#\" xmlns:rdf=\"http://www.w3.org/1999/02/22-rdf-syntax-ns#\">\n   <cc:Work>\n    <dc:type rdf:resource=\"http://purl.org/dc/dcmitype/StillImage\"/>\n    <dc:date>2025-01-24T11:39:06.399118</dc:date>\n    <dc:format>image/svg+xml</dc:format>\n    <dc:creator>\n     <cc:Agent>\n      <dc:title>Matplotlib v3.5.1, https://matplotlib.org/</dc:title>\n     </cc:Agent>\n    </dc:creator>\n   </cc:Work>\n  </rdf:RDF>\n </metadata>\n <defs>\n  <style type=\"text/css\">*{stroke-linejoin: round; stroke-linecap: butt}</style>\n </defs>\n <g id=\"figure_1\">\n  <g id=\"patch_1\">\n   <path d=\"M 0 178.517647 \nL 572.4 178.517647 \nL 572.4 0 \nL 0 0 \nL 0 178.517647 \nz\n\" style=\"fill: none\"/>\n  </g>\n  <g id=\"axes_1\">\n   <g clip-path=\"url(#p70860bfddb)\">\n    <image xlink:href=\"data:image/png;base64,\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\" id=\"image2d04d0c2e1\" transform=\"scale(1 -1)translate(0 -165)\" x=\"7.2\" y=\"-6.317647\" width=\"165\" height=\"165\"/>\n   </g>\n  </g>\n  <g id=\"axes_2\">\n   <g clip-path=\"url(#p0597fee48c)\">\n    <image xlink:href=\"data:image/png;base64,\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\" id=\"image2fb36626bd\" transform=\"scale(1 -1)translate(0 -165)\" x=\"204.141176\" y=\"-6.317647\" width=\"165\" height=\"165\"/>\n   </g>\n  </g>\n  <g id=\"axes_3\">\n   <g clip-path=\"url(#p2271cb70b0)\">\n    <image xlink:href=\"data:image/png;base64,\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\" id=\"image09bd2d8760\" transform=\"scale(1 -1)translate(0 -165)\" x=\"401.082353\" y=\"-6.317647\" width=\"165\" height=\"165\"/>\n   </g>\n  </g>\n </g>\n <defs>\n  <clipPath id=\"p70860bfddb\">\n   <rect x=\"7.2\" y=\"7.2\" width=\"164.117647\" height=\"164.117647\"/>\n  </clipPath>\n  <clipPath id=\"p0597fee48c\">\n   <rect x=\"204.141176\" y=\"7.2\" width=\"164.117647\" height=\"164.117647\"/>\n  </clipPath>\n  <clipPath id=\"p2271cb70b0\">\n   <rect x=\"401.082353\" y=\"7.2\" width=\"164.117647\" height=\"164.117647\"/>\n  </clipPath>\n </defs>\n</svg>\n"
     },
     "metadata": {
      "needs_background": "light"
     },
     "output_type": "display_data"
    }
   ],
   "source": [
    "# Check an augmented subset\n",
    "aug_images = []\n",
    "for i in range(len(train_dataset)):\n",
    "    image, tabular_features = train_dataset[i]\n",
    "    aug_images.append(image)\n",
    "    print(f\"Image {i}\")\n",
    "    print(tabular_features)\n",
    "    if i == 2: break\n",
    "\n",
    "plt.figure(figsize=(10, 8))\n",
    "for i in range(len(aug_images)):\n",
    "    plt.subplot(1, 3, i+1)\n",
    "    plt.imshow(aug_images[i].swapaxes(0,2).swapaxes(0,1)) # returned shape is (c, h, w)\n",
    "    plt.axis('off')"
   ],
   "metadata": {
    "collapsed": false,
    "pycharm": {
     "name": "#%%\n"
    }
   }
  },
  {
   "cell_type": "code",
   "execution_count": 41,
   "outputs": [],
   "source": [
    "val_dataset = bgr_data.ImageTabularDataset(dataframe=val_df,#[:100],\n",
    "                                           normalize=normalize,\n",
    "                                           image_path='file',\n",
    "                                           #label=depth_markers[1],\n",
    "                                           label=None,\n",
    "                                           feature_columns=geotemp_img_infos[:-1])\n",
    "\n",
    "val_loader = DataLoader(val_dataset, batch_size=64, shuffle=True, num_workers=16)"
   ],
   "metadata": {
    "collapsed": false,
    "pycharm": {
     "name": "#%%\n"
    }
   }
  },
  {
   "cell_type": "code",
   "execution_count": 48,
   "outputs": [
    {
     "name": "stdout",
     "output_type": "stream",
     "text": [
      "Epoch 1/10\n"
     ]
    },
    {
     "name": "stderr",
     "output_type": "stream",
     "text": [
      "                                                                                                                        "
     ]
    },
    {
     "name": "stdout",
     "output_type": "stream",
     "text": [
      "0.5050651249239\n"
     ]
    },
    {
     "name": "stderr",
     "output_type": "stream",
     "text": [
      "\r"
     ]
    }
   ],
   "source": [
    "model.train()\n",
    "epochs = 10\n",
    "lr_history, train_loss_history, val_loss_history = [], [], []\n",
    "for epoch in range(epochs):\n",
    "    print(f\"Epoch {epoch + 1}/{epochs}\")\n",
    "    # Training loop\n",
    "    train_loss_total = 0\n",
    "    train_loader_tqdm = tqdm(train_loader, desc=\"Training\", leave=False)\n",
    "    for batch in train_loader_tqdm:\n",
    "        images, geotemp_features = batch\n",
    "        images, geotemp_features = images.to(device), geotemp_features.to(device)\n",
    "\n",
    "        optimizer.zero_grad() # otherwise, PyTorch accumulates the gradients during backprop\n",
    "\n",
    "        # Predict depth markers (as padded tensors)\n",
    "        pred_depths = model(image=images, geo_temp=geotemp_features)\n",
    "\n",
    "        # Get corresponding true depth markers via index column in df (the first value in every row in geotemp)\n",
    "        # Note: you need to account for duplicate indexes resulting after the augmentations in the ImageTabularDataset class (is there a better way than duplicating indexes during augmentation?)\n",
    "        true_depths = []\n",
    "        batch_indices = geotemp_features.cpu().numpy()[:, 0]\n",
    "        for idx in batch_indices:\n",
    "            depths = df.loc[df['index'] == idx, 'Untergrenze'].values  # Get the true depths for the current index\n",
    "            true_depths.append(depths[0])  # Append as a list\n",
    "        # Turn list of depths into a padded tensor and also return mask of valid positions\n",
    "        padded_true_depths, true_masks = pad_tensor(true_depths,\n",
    "                                                    max_seq_len=model.depth_marker_predictor.max_seq_len,\n",
    "                                                    stop_token=model.depth_marker_predictor.stop_token,\n",
    "                                                    device=device)\n",
    "\n",
    "        train_loss = criterion(pred_depths, padded_true_depths, true_masks)\n",
    "\n",
    "        train_loss.backward()\n",
    "        clip_grad_norm_(model.parameters(), max_norm=1.0)\n",
    "        optimizer.step()\n",
    "\n",
    "        train_loss_total += train_loss.item()\n",
    "        train_loader_tqdm.set_postfix(loss=train_loss.item())\n",
    "\n",
    "    avg_train_loss = train_loss_total / len(train_loader)\n",
    "\n",
    "    # Evaluation loop\n",
    "    model.eval()\n",
    "    val_loss_total = 0\n",
    "    val_loader_tqdm = tqdm(val_loader, desc=\"Evaluating\", leave=False)\n",
    "    with torch.no_grad():\n",
    "        for batch in val_loader_tqdm:\n",
    "            images, tabular_features = batch\n",
    "            images, tabular_features = images.to(device), tabular_features.to(device)\n",
    "\n",
    "            # Predict depth markers (as padded tensors)\n",
    "            pred_depths = model(image=images, geo_temp=geotemp_features)\n",
    "\n",
    "            # Get corresponding true depth markers via index column in df (see training step above)\n",
    "            true_depths = []\n",
    "            batch_indices = geotemp_features.cpu().numpy()[:, 0]\n",
    "            for idx in batch_indices:\n",
    "                depths = df.loc[df['index'] == idx, 'Untergrenze'].values  # Get the true depths for the current index\n",
    "                true_depths.append(depths[0])  # Append as a list\n",
    "            # Turn list of depths into a padded tensor and also return mask of valid positions\n",
    "            padded_true_depths, true_masks = pad_tensor(true_depths,\n",
    "                                                        max_seq_len=model.depth_marker_predictor.max_seq_len,\n",
    "                                                        stop_token=model.depth_marker_predictor.stop_token,\n",
    "                                                        device=device)\n",
    "\n",
    "            val_loss = criterion(pred_depths, padded_true_depths, true_masks)\n",
    "            val_loss_total += val_loss.item()\n"
   ],
   "metadata": {
    "collapsed": false,
    "pycharm": {
     "name": "#%%\n"
    }
   }
  },
  {
   "cell_type": "code",
   "execution_count": 49,
   "outputs": [
    {
     "name": "stdout",
     "output_type": "stream",
     "text": [
      "True:\n",
      "tensor([0.1000, 0.2900, 0.4900, 0.6600, 1.0000, 1.0000, 1.0000, 1.0000],\n",
      "       device='cuda:0')\n",
      "Predicted:\n",
      "tensor([0.5435, 0.5847, 0.5617, 0.5544, 0.5449, 0.5711, 0.5673, 0.6302],\n",
      "       device='cuda:0', grad_fn=<UnbindBackward0>)\n",
      " \n",
      "True:\n",
      "tensor([0.2800, 0.5200, 0.7000, 1.0000, 1.0000, 1.0000, 1.0000, 1.0000],\n",
      "       device='cuda:0')\n",
      "Predicted:\n",
      "tensor([0.5234, 0.5450, 0.5984, 0.5945, 0.5683, 0.5940, 0.6112, 0.5808],\n",
      "       device='cuda:0', grad_fn=<UnbindBackward0>)\n",
      " \n",
      "True:\n",
      "tensor([0.3000, 0.4000, 1.0000, 1.0000, 1.0000, 1.0000, 1.0000, 1.0000],\n",
      "       device='cuda:0')\n",
      "Predicted:\n",
      "tensor([0.6052, 0.5577, 0.5824, 0.6545, 0.5664, 0.6448, 0.5229, 0.5167],\n",
      "       device='cuda:0', grad_fn=<UnbindBackward0>)\n",
      " \n",
      "True:\n",
      "tensor([0.3300, 0.7200, 1.0000, 1.0000, 1.0000, 1.0000, 1.0000, 1.0000],\n",
      "       device='cuda:0')\n",
      "Predicted:\n",
      "tensor([0.4741, 0.5606, 0.5268, 0.6461, 0.5628, 0.5458, 0.5655, 0.5863],\n",
      "       device='cuda:0', grad_fn=<UnbindBackward0>)\n",
      " \n",
      "True:\n",
      "tensor([0.2600, 0.4600, 1.0000, 1.0000, 1.0000, 1.0000, 1.0000, 1.0000],\n",
      "       device='cuda:0')\n",
      "Predicted:\n",
      "tensor([0.5892, 0.5803, 0.5488, 0.5042, 0.6089, 0.5725, 0.5487, 0.6048],\n",
      "       device='cuda:0', grad_fn=<UnbindBackward0>)\n",
      " \n",
      "True:\n",
      "tensor([0.3200, 0.5400, 1.0000, 1.0000, 1.0000, 1.0000, 1.0000, 1.0000],\n",
      "       device='cuda:0')\n",
      "Predicted:\n",
      "tensor([0.5851, 0.5707, 0.6283, 0.6025, 0.5887, 0.5280, 0.5261, 0.6002],\n",
      "       device='cuda:0', grad_fn=<UnbindBackward0>)\n",
      " \n",
      "True:\n",
      "tensor([0.3000, 0.7000, 1.0000, 1.0000, 1.0000, 1.0000, 1.0000, 1.0000],\n",
      "       device='cuda:0')\n",
      "Predicted:\n",
      "tensor([0.5362, 0.5964, 0.6061, 0.5756, 0.4977, 0.5868, 0.5395, 0.5801],\n",
      "       device='cuda:0', grad_fn=<UnbindBackward0>)\n",
      " \n",
      "True:\n",
      "tensor([0.2200, 0.5400, 1.0000, 1.0000, 1.0000, 1.0000, 1.0000, 1.0000],\n",
      "       device='cuda:0')\n",
      "Predicted:\n",
      "tensor([0.6171, 0.4838, 0.5293, 0.6064, 0.5691, 0.5661, 0.6054, 0.5859],\n",
      "       device='cuda:0', grad_fn=<UnbindBackward0>)\n",
      " \n",
      "True:\n",
      "tensor([0.1400, 0.3300, 0.6700, 1.0000, 1.0000, 1.0000, 1.0000, 1.0000],\n",
      "       device='cuda:0')\n",
      "Predicted:\n",
      "tensor([0.5769, 0.5971, 0.5581, 0.5853, 0.4747, 0.5323, 0.5078, 0.4780],\n",
      "       device='cuda:0', grad_fn=<UnbindBackward0>)\n",
      " \n",
      "True:\n",
      "tensor([0.3000, 0.5200, 1.0000, 1.0000, 1.0000, 1.0000, 1.0000, 1.0000],\n",
      "       device='cuda:0')\n",
      "Predicted:\n",
      "tensor([0.4908, 0.5749, 0.4588, 0.5043, 0.6347, 0.5419, 0.5447, 0.5747],\n",
      "       device='cuda:0', grad_fn=<UnbindBackward0>)\n",
      " \n",
      "True:\n",
      "tensor([0.0700, 0.3400, 0.4900, 1.0000, 1.0000, 1.0000, 1.0000, 1.0000],\n",
      "       device='cuda:0')\n",
      "Predicted:\n",
      "tensor([0.5296, 0.4709, 0.5461, 0.5723, 0.5270, 0.5427, 0.5975, 0.5893],\n",
      "       device='cuda:0', grad_fn=<UnbindBackward0>)\n",
      " \n",
      "True:\n",
      "tensor([0.2900, 0.7000, 1.0000, 1.0000, 1.0000, 1.0000, 1.0000, 1.0000],\n",
      "       device='cuda:0')\n",
      "Predicted:\n",
      "tensor([0.5976, 0.4241, 0.5689, 0.5688, 0.5569, 0.5286, 0.5765, 0.5560],\n",
      "       device='cuda:0', grad_fn=<UnbindBackward0>)\n",
      " \n",
      "True:\n",
      "tensor([0.2000, 0.3400, 0.5300, 0.7300, 1.0000, 1.0000, 1.0000, 1.0000],\n",
      "       device='cuda:0')\n",
      "Predicted:\n",
      "tensor([0.5746, 0.5982, 0.5541, 0.5876, 0.5341, 0.5868, 0.4774, 0.5886],\n",
      "       device='cuda:0', grad_fn=<UnbindBackward0>)\n",
      " \n",
      "True:\n",
      "tensor([0.1000, 0.2700, 0.7200, 1.0000, 1.0000, 1.0000, 1.0000, 1.0000],\n",
      "       device='cuda:0')\n",
      "Predicted:\n",
      "tensor([0.6202, 0.5654, 0.5401, 0.5537, 0.6454, 0.5969, 0.5744, 0.5633],\n",
      "       device='cuda:0', grad_fn=<UnbindBackward0>)\n",
      " \n",
      "True:\n",
      "tensor([0.1000, 0.3200, 0.7000, 1.0000, 1.0000, 1.0000, 1.0000, 1.0000],\n",
      "       device='cuda:0')\n",
      "Predicted:\n",
      "tensor([0.6348, 0.5315, 0.5295, 0.5336, 0.5392, 0.5564, 0.5306, 0.5828],\n",
      "       device='cuda:0', grad_fn=<UnbindBackward0>)\n",
      " \n",
      "True:\n",
      "tensor([0.2700, 0.4800, 1.0000, 1.0000, 1.0000, 1.0000, 1.0000, 1.0000],\n",
      "       device='cuda:0')\n",
      "Predicted:\n",
      "tensor([0.5948, 0.5001, 0.5758, 0.5576, 0.6252, 0.4527, 0.5484, 0.5303],\n",
      "       device='cuda:0', grad_fn=<UnbindBackward0>)\n",
      " \n",
      "True:\n",
      "tensor([0.3000, 0.6000, 1.0000, 1.0000, 1.0000, 1.0000, 1.0000, 1.0000],\n",
      "       device='cuda:0')\n",
      "Predicted:\n",
      "tensor([0.5344, 0.5334, 0.5139, 0.5201, 0.6313, 0.5410, 0.5612, 0.6135],\n",
      "       device='cuda:0', grad_fn=<UnbindBackward0>)\n",
      " \n",
      "True:\n",
      "tensor([0.3200, 0.7000, 1.0000, 1.0000, 1.0000, 1.0000, 1.0000, 1.0000],\n",
      "       device='cuda:0')\n",
      "Predicted:\n",
      "tensor([0.5841, 0.5854, 0.5355, 0.5782, 0.6006, 0.5747, 0.5440, 0.5510],\n",
      "       device='cuda:0', grad_fn=<UnbindBackward0>)\n",
      " \n",
      "True:\n",
      "tensor([0.1300, 0.2600, 1.0000, 1.0000, 1.0000, 1.0000, 1.0000, 1.0000],\n",
      "       device='cuda:0')\n",
      "Predicted:\n",
      "tensor([0.5862, 0.5335, 0.5809, 0.5529, 0.5738, 0.6114, 0.5334, 0.5761],\n",
      "       device='cuda:0', grad_fn=<UnbindBackward0>)\n",
      " \n",
      "True:\n",
      "tensor([0.1000, 0.3400, 0.5000, 1.0000, 1.0000, 1.0000, 1.0000, 1.0000],\n",
      "       device='cuda:0')\n",
      "Predicted:\n",
      "tensor([0.5657, 0.6062, 0.5821, 0.5523, 0.5815, 0.5605, 0.5734, 0.6020],\n",
      "       device='cuda:0', grad_fn=<UnbindBackward0>)\n",
      " \n",
      "True:\n",
      "tensor([0.1300, 0.3400, 0.5800, 1.0000, 1.0000, 1.0000, 1.0000, 1.0000],\n",
      "       device='cuda:0')\n",
      "Predicted:\n",
      "tensor([0.6030, 0.5328, 0.5562, 0.5710, 0.5980, 0.5537, 0.5692, 0.5894],\n",
      "       device='cuda:0', grad_fn=<UnbindBackward0>)\n",
      " \n",
      "True:\n",
      "tensor([0.2800, 0.4700, 0.6000, 0.7000, 1.0000, 1.0000, 1.0000, 1.0000],\n",
      "       device='cuda:0')\n",
      "Predicted:\n",
      "tensor([0.6013, 0.5767, 0.5279, 0.6278, 0.5520, 0.5604, 0.5669, 0.6304],\n",
      "       device='cuda:0', grad_fn=<UnbindBackward0>)\n",
      " \n",
      "True:\n",
      "tensor([0.3000, 0.5300, 0.8000, 1.0000, 1.0000, 1.0000, 1.0000, 1.0000],\n",
      "       device='cuda:0')\n",
      "Predicted:\n",
      "tensor([0.5497, 0.4555, 0.6047, 0.5246, 0.5213, 0.6034, 0.5315, 0.5902],\n",
      "       device='cuda:0', grad_fn=<UnbindBackward0>)\n",
      " \n",
      "True:\n",
      "tensor([0.1300, 0.3200, 0.6700, 1.0000, 1.0000, 1.0000, 1.0000, 1.0000],\n",
      "       device='cuda:0')\n",
      "Predicted:\n",
      "tensor([0.6147, 0.5900, 0.6206, 0.5690, 0.5775, 0.5115, 0.5772, 0.5437],\n",
      "       device='cuda:0', grad_fn=<UnbindBackward0>)\n",
      " \n",
      "True:\n",
      "tensor([0.3200, 0.5000, 0.6000, 0.9000, 1.0000, 1.0000, 1.0000, 1.0000],\n",
      "       device='cuda:0')\n",
      "Predicted:\n",
      "tensor([0.5694, 0.5995, 0.5606, 0.5489, 0.5431, 0.5839, 0.5882, 0.5891],\n",
      "       device='cuda:0', grad_fn=<UnbindBackward0>)\n",
      " \n",
      "True:\n",
      "tensor([0.3200, 0.7000, 1.0000, 1.0000, 1.0000, 1.0000, 1.0000, 1.0000],\n",
      "       device='cuda:0')\n",
      "Predicted:\n",
      "tensor([0.5406, 0.6504, 0.5563, 0.5415, 0.5514, 0.5821, 0.5636, 0.5874],\n",
      "       device='cuda:0', grad_fn=<UnbindBackward0>)\n",
      " \n",
      "True:\n",
      "tensor([0.3600, 0.5000, 0.7000, 1.0000, 1.0000, 1.0000, 1.0000, 1.0000],\n",
      "       device='cuda:0')\n",
      "Predicted:\n",
      "tensor([0.6407, 0.5435, 0.5782, 0.6106, 0.6113, 0.6351, 0.5541, 0.5643],\n",
      "       device='cuda:0', grad_fn=<UnbindBackward0>)\n",
      " \n",
      "True:\n",
      "tensor([0.1300, 0.2800, 0.6100, 1.0000, 1.0000, 1.0000, 1.0000, 1.0000],\n",
      "       device='cuda:0')\n",
      "Predicted:\n",
      "tensor([0.5218, 0.6313, 0.6089, 0.5612, 0.5878, 0.6063, 0.5704, 0.5043],\n",
      "       device='cuda:0', grad_fn=<UnbindBackward0>)\n",
      " \n",
      "True:\n",
      "tensor([0.2000, 0.3300, 0.5000, 1.0000, 1.0000, 1.0000, 1.0000, 1.0000],\n",
      "       device='cuda:0')\n",
      "Predicted:\n",
      "tensor([0.5889, 0.6323, 0.5661, 0.5424, 0.6007, 0.5688, 0.5530, 0.5532],\n",
      "       device='cuda:0', grad_fn=<UnbindBackward0>)\n",
      " \n",
      "True:\n",
      "tensor([0.3100, 0.4800, 1.0000, 1.0000, 1.0000, 1.0000, 1.0000, 1.0000],\n",
      "       device='cuda:0')\n",
      "Predicted:\n",
      "tensor([0.6200, 0.5789, 0.6083, 0.5632, 0.5719, 0.5083, 0.3455, 0.5268],\n",
      "       device='cuda:0', grad_fn=<UnbindBackward0>)\n",
      " \n",
      "True:\n",
      "tensor([0.1200, 0.3400, 1.0000, 1.0000, 1.0000, 1.0000, 1.0000, 1.0000],\n",
      "       device='cuda:0')\n",
      "Predicted:\n",
      "tensor([0.5558, 0.6297, 0.5720, 0.5054, 0.5899, 0.5879, 0.5933, 0.5209],\n",
      "       device='cuda:0', grad_fn=<UnbindBackward0>)\n",
      " \n",
      "True:\n",
      "tensor([0.1000, 0.5200, 0.9200, 1.0000, 1.0000, 1.0000, 1.0000, 1.0000],\n",
      "       device='cuda:0')\n",
      "Predicted:\n",
      "tensor([0.5860, 0.4953, 0.5737, 0.5749, 0.6111, 0.6510, 0.5718, 0.5452],\n",
      "       device='cuda:0', grad_fn=<UnbindBackward0>)\n",
      " \n",
      "True:\n",
      "tensor([0.3300, 0.4300, 0.7100, 0.8800, 1.0000, 1.0000, 1.0000, 1.0000],\n",
      "       device='cuda:0')\n",
      "Predicted:\n",
      "tensor([0.5878, 0.5651, 0.5629, 0.5575, 0.5392, 0.5928, 0.5653, 0.5828],\n",
      "       device='cuda:0', grad_fn=<UnbindBackward0>)\n",
      " \n",
      "True:\n",
      "tensor([0.3000, 0.5400, 0.9600, 1.0000, 1.0000, 1.0000, 1.0000, 1.0000],\n",
      "       device='cuda:0')\n",
      "Predicted:\n",
      "tensor([0.4895, 0.5388, 0.6014, 0.5582, 0.5399, 0.6163, 0.5948, 0.5862],\n",
      "       device='cuda:0', grad_fn=<UnbindBackward0>)\n",
      " \n",
      "True:\n",
      "tensor([0.1300, 0.2300, 0.7000, 1.0000, 1.0000, 1.0000, 1.0000, 1.0000],\n",
      "       device='cuda:0')\n",
      "Predicted:\n",
      "tensor([0.6020, 0.6247, 0.5727, 0.4754, 0.6187, 0.5991, 0.5325, 0.5590],\n",
      "       device='cuda:0', grad_fn=<UnbindBackward0>)\n",
      " \n",
      "True:\n",
      "tensor([0.2000, 0.4700, 0.7000, 1.0000, 1.0000, 1.0000, 1.0000, 1.0000],\n",
      "       device='cuda:0')\n",
      "Predicted:\n",
      "tensor([0.5810, 0.5028, 0.5868, 0.5616, 0.5590, 0.5665, 0.5561, 0.5537],\n",
      "       device='cuda:0', grad_fn=<UnbindBackward0>)\n",
      " \n",
      "True:\n",
      "tensor([0.1200, 0.3300, 0.6800, 1.0000, 1.0000, 1.0000, 1.0000, 1.0000],\n",
      "       device='cuda:0')\n",
      "Predicted:\n",
      "tensor([0.5905, 0.6072, 0.5741, 0.5698, 0.5523, 0.6259, 0.4866, 0.4557],\n",
      "       device='cuda:0', grad_fn=<UnbindBackward0>)\n",
      " \n",
      "True:\n",
      "tensor([0.2600, 0.7000, 1.0000, 1.0000, 1.0000, 1.0000, 1.0000, 1.0000],\n",
      "       device='cuda:0')\n",
      "Predicted:\n",
      "tensor([0.5528, 0.5976, 0.5792, 0.5311, 0.5986, 0.5382, 0.4784, 0.5004],\n",
      "       device='cuda:0', grad_fn=<UnbindBackward0>)\n",
      " \n",
      "True:\n",
      "tensor([0.2600, 0.5400, 0.7000, 1.0000, 1.0000, 1.0000, 1.0000, 1.0000],\n",
      "       device='cuda:0')\n",
      "Predicted:\n",
      "tensor([0.5898, 0.5734, 0.5166, 0.5616, 0.6265, 0.5477, 0.5488, 0.5233],\n",
      "       device='cuda:0', grad_fn=<UnbindBackward0>)\n",
      " \n",
      "True:\n",
      "tensor([0.2300, 0.5300, 0.7300, 0.9700, 1.0000, 1.0000, 1.0000, 1.0000],\n",
      "       device='cuda:0')\n",
      "Predicted:\n",
      "tensor([0.4724, 0.5831, 0.5389, 0.5593, 0.4820, 0.5808, 0.5787, 0.5897],\n",
      "       device='cuda:0', grad_fn=<UnbindBackward0>)\n",
      " \n",
      "True:\n",
      "tensor([0.3300, 0.7300, 1.0000, 1.0000, 1.0000, 1.0000, 1.0000, 1.0000],\n",
      "       device='cuda:0')\n",
      "Predicted:\n",
      "tensor([0.5691, 0.5756, 0.5758, 0.5414, 0.5596, 0.6194, 0.5283, 0.5638],\n",
      "       device='cuda:0', grad_fn=<UnbindBackward0>)\n",
      " \n",
      "True:\n",
      "tensor([0.2900, 0.4100, 0.7200, 1.0000, 1.0000, 1.0000, 1.0000, 1.0000],\n",
      "       device='cuda:0')\n",
      "Predicted:\n",
      "tensor([0.5532, 0.5830, 0.5763, 0.6273, 0.5148, 0.5996, 0.5783, 0.5240],\n",
      "       device='cuda:0', grad_fn=<UnbindBackward0>)\n",
      " \n"
     ]
    }
   ],
   "source": [
    "for true_dep, pred_dep in zip(padded_true_depths, pred_depths):\n",
    "    print('True:')\n",
    "    print(true_dep)\n",
    "    print('Predicted:')\n",
    "    print(pred_dep)\n",
    "    print(' ')"
   ],
   "metadata": {
    "collapsed": false,
    "pycharm": {
     "name": "#%%\n"
    }
   }
  },
  {
   "cell_type": "markdown",
   "source": [
    "### Evaluation"
   ],
   "metadata": {
    "collapsed": false
   }
  },
  {
   "cell_type": "code",
   "execution_count": null,
   "outputs": [],
   "source": [
    "plt.figure(figsize=(21, 6))\n",
    "\n",
    "complete_epochs = len(train_acc_history)+1\n",
    "plt.subplot(1, 3, 1)\n",
    "plt.plot(range(1, complete_epochs), train_loss_history, label='Train Loss', marker='o', color='b')\n",
    "plt.plot(range(1, complete_epochs), val_loss_history,  label='Validation Loss',  marker='o', color='r')\n",
    "plt.title('Loss Curves')\n",
    "plt.xlabel('Epoch')\n",
    "plt.ylabel('Loss')\n",
    "plt.legend()\n",
    "plt.grid()\n",
    "\n",
    "plt.subplot(1, 3, 2)\n",
    "plt.plot(range(1, complete_epochs), train_acc_history, label='Train Accuracy', marker='o', color='b')\n",
    "plt.plot(range(1, complete_epochs), val_acc_history, label='Validation Accuracy', marker='o', color='r')\n",
    "plt.title('Accuracy Curves')\n",
    "plt.xlabel('Epoch')\n",
    "plt.ylabel('Accuracy')\n",
    "plt.legend()\n",
    "plt.grid()\n",
    "\n",
    "plt.subplot(1, 3, 3)\n",
    "plt.plot(range(1, complete_epochs), train_topk_acc_history, label=f'Train Top {criterion.k} Accuracy', marker='o', color='b')\n",
    "plt.plot(range(1, complete_epochs), val_topk_acc_history, label=f'Validation Top {criterion.k} Accuracy', marker='o', color='r')\n",
    "plt.title(f'Top {criterion.k} Accuracy Curves')\n",
    "plt.xlabel('Epoch')\n",
    "plt.ylabel(f'Top {criterion.k} Accuracy')\n",
    "plt.legend()\n",
    "plt.grid()\n",
    "\n",
    "plt.tight_layout()\n",
    "plt.show()"
   ],
   "metadata": {
    "collapsed": false,
    "pycharm": {
     "name": "#%%\n"
    }
   }
  },
  {
   "cell_type": "code",
   "execution_count": null,
   "outputs": [],
   "source": [
    "plt.figure(figsize=(8, 6))\n",
    "plt.plot(range(1, complete_epochs), lr_history, marker='o', linestyle='-', color='b')\n",
    "plt.title(\"Learning Rate Evolution\")\n",
    "plt.xlabel(\"Epoch\")\n",
    "plt.ylabel(\"Learning Rate\")\n",
    "plt.grid()\n",
    "plt.show()"
   ],
   "metadata": {
    "collapsed": false,
    "pycharm": {
     "name": "#%%\n"
    }
   }
  },
  {
   "cell_type": "code",
   "execution_count": null,
   "outputs": [],
   "source": [
    "model.eval()  # Setze das Modell in den Evaluierungsmodus\n",
    "with torch.no_grad():\n",
    "    outputs = []\n",
    "    val_loader_tqdm = tqdm(val_loader, desc=\"Evaluating\", leave=False)\n",
    "    for batch in val_loader_tqdm:\n",
    "        images, tabular_features, labels = batch\n",
    "        images, tabular_features, labels = images.to(device), tabular_features.to(device), labels.to(device)\n",
    "        outputs.append(model(image=images, tabular_features=tabular_features))"
   ],
   "metadata": {
    "collapsed": false,
    "pycharm": {
     "name": "#%%\n"
    }
   }
  },
  {
   "cell_type": "code",
   "execution_count": null,
   "outputs": [],
   "source": [
    "from sklearn.metrics import classification_report, confusion_matrix\n",
    "\n",
    "# Convert outputs to predicted labels (adjust based on your model's output format)\n",
    "predicted_probs, predicted_labels = [], []\n",
    "for output in outputs:\n",
    "\n",
    "    predicted_labels.extend(torch.argmax(output, dim=1).tolist())\n",
    "    predicted_probs.extend(torch.softmax(output, dim=1).cpu().numpy()) # Convert logits to probabilities\n",
    "\n",
    "# Convert true labels to a list\n",
    "true_labels = [label.item() for batch in val_loader for label in batch[2]]\n",
    "\n",
    "# Calculate metrics\n",
    "report = classification_report(true_labels, predicted_labels)\n",
    "print(report)"
   ],
   "metadata": {
    "collapsed": false,
    "pycharm": {
     "name": "#%%\n"
    }
   }
  },
  {
   "cell_type": "code",
   "execution_count": null,
   "outputs": [],
   "source": [
    "# Compute PR curve for each class\n",
    "from sklearn.metrics import precision_recall_curve, average_precision_score\n",
    "from sklearn.preprocessing import label_binarize\n",
    "\n",
    "predicted_probs = np.array(predicted_probs)\n",
    "true_labels = np.array(true_labels)\n",
    "n_classes = predicted_probs.shape[1]\n",
    "precision, recall, avg_precision = {}, {}, {}\n",
    "# Binarize the labels (one-hot encoding for multiclass)\n",
    "true_labels_binarized = label_binarize(true_labels, classes=np.arange(n_classes))\n",
    "\n",
    "for i in range(n_classes):\n",
    "    precision[i], recall[i], _ = precision_recall_curve(true_labels_binarized[:, i], predicted_probs[:, i])\n",
    "    avg_precision[i] = average_precision_score(true_labels_binarized[:, i], predicted_probs[:, i])\n",
    "\n",
    "# Compute macro-average PR curve\n",
    "precision[\"macro\"], recall[\"macro\"], _ = precision_recall_curve(true_labels_binarized.ravel(), predicted_probs.ravel())\n",
    "avg_precision[\"macro\"] = average_precision_score(true_labels_binarized, predicted_probs, average=\"macro\")"
   ],
   "metadata": {
    "collapsed": false,
    "pycharm": {
     "name": "#%%\n"
    }
   }
  },
  {
   "cell_type": "code",
   "execution_count": null,
   "outputs": [],
   "source": [
    "plt.figure(figsize=(10, 8))\n",
    "\n",
    "# Plot PR curves for each class\n",
    "for i in range(n_classes):\n",
    "    plt.plot(recall[i], precision[i], lw=2, label=f'Class {i} (AP = {avg_precision[i]:.2f})')\n",
    "\n",
    "# Plot macro-average PR curve\n",
    "plt.plot(recall[\"macro\"], precision[\"macro\"], linestyle='--', lw=2, color='black',\n",
    "         label=f'Macro-average (AP = {avg_precision[\"macro\"]:.2f})')\n",
    "\n",
    "plt.xlabel('Recall')\n",
    "plt.ylabel('Precision')\n",
    "plt.title('Precision-Recall Curves')\n",
    "plt.legend(loc='upper right')\n",
    "plt.grid()\n",
    "plt.show()"
   ],
   "metadata": {
    "collapsed": false,
    "pycharm": {
     "name": "#%%\n"
    }
   }
  },
  {
   "cell_type": "code",
   "execution_count": null,
   "outputs": [],
   "source": [
    "cm = confusion_matrix(true_labels, predicted_labels)\n",
    "\n",
    "plt.figure(figsize=(10, 7))\n",
    "sns.heatmap(cm, annot=True, fmt=\"d\", cmap=\"Blues\")\n",
    "plt.xlabel(\"Predicted Label\")\n",
    "plt.ylabel(\"True Label\")\n",
    "plt.title(\"Confusion Matrix\")\n",
    "plt.show()"
   ],
   "metadata": {
    "collapsed": false,
    "pycharm": {
     "name": "#%%\n"
    }
   }
  }
 ],
 "metadata": {
  "kernelspec": {
   "name": "sam",
   "language": "python",
   "display_name": "sam"
  },
  "language_info": {
   "codemirror_mode": {
    "name": "ipython",
    "version": 3
   },
   "file_extension": ".py",
   "mimetype": "text/x-python",
   "name": "python",
   "nbconvert_exporter": "python",
   "pygments_lexer": "ipython3",
   "version": "3.9.19"
  }
 },
 "nbformat": 4,
 "nbformat_minor": 5
}