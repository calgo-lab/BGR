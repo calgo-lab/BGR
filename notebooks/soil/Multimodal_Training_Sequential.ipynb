{
 "cells": [
  {
   "cell_type": "markdown",
   "source": [
    "## Multimodal Training Sequential\n",
    "\n",
    "Predict horizon boundaries from full images and geo-temporal infos. Afterwards, predict morphological features and symbol for every horizon"
   ],
   "metadata": {
    "collapsed": false
   }
  },
  {
   "cell_type": "code",
   "execution_count": 1,
   "outputs": [],
   "source": [
    "import os\n",
    "import pickle\n",
    "\n",
    "import matplotlib.pylab as plt\n",
    "import numpy as np\n",
    "import pandas as pd\n",
    "import seaborn as sns\n",
    "import torch\n",
    "import torch.optim as optim\n",
    "import torchvision.transforms as transforms\n",
    "from sklearn.model_selection import train_test_split\n",
    "from torch.nn.utils import clip_grad_norm_  # modifies the tensors in-place (vs clip_grad_norm)\n",
    "from torch.utils.data import DataLoader\n",
    "from tqdm import tqdm\n",
    "\n",
    "pd.set_option(\"display.max_columns\", None)\n",
    "np.random.seed(42)\n",
    "\n",
    "%matplotlib inline\n",
    "%config InlineBackend.figure_format = 'svg'"
   ],
   "metadata": {
    "collapsed": false,
    "pycharm": {
     "name": "#%%\n"
    }
   }
  },
  {
   "cell_type": "code",
   "execution_count": 2,
   "outputs": [],
   "source": [
    "import sys\n",
    "sys.path.append('./BGR')\n",
    "import bgr.soil.datasets as bgr_data\n",
    "import bgr.soil.models as bgr_mod\n",
    "from bgr.soil.callbacks import EarlyStopping, ModelCheckpoint\n",
    "from bgr.soil.metrics import DepthMarkerLoss\n",
    "from bgr.soil.utils import pad_tensor"
   ],
   "metadata": {
    "collapsed": false,
    "pycharm": {
     "name": "#%%\n"
    }
   }
  },
  {
   "cell_type": "code",
   "execution_count": 3,
   "outputs": [],
   "source": [
    "path_csv = \"../data/BGR/data_horizons.csv\"\n",
    "path_csv_annotator_ids = '../data/BGR/Kartierer_ID.csv'\n",
    "path_csv_locations = '../data/BGR/STANDORT.csv'\n",
    "path_horizons_simple = '../data/BGR/Vereinfachung_Horizontsymbole.csv'\n",
    "path_pictures = \"../data/BGR/Profilbilder_no_ruler_no_sky/\"\n",
    "#path_pictures = \"../data/BGR/Horizonte/\""
   ],
   "metadata": {
    "collapsed": false,
    "pycharm": {
     "name": "#%%\n"
    }
   }
  },
  {
   "cell_type": "markdown",
   "source": [
    "### Data Loading"
   ],
   "metadata": {
    "collapsed": false
   }
  },
  {
   "cell_type": "code",
   "execution_count": 4,
   "outputs": [
    {
     "name": "stdout",
     "output_type": "stream",
     "text": [
      "15207\n",
      "15206\n"
     ]
    },
    {
     "data": {
      "text/plain": "        Point  HorizontID  Obergrenze  Untergrenze Horizontsymbol Bodenart  \\\n0         2.0         1.0         0.0         28.0          I; Ap      Sl2   \n1         2.0         2.0        28.0         54.0           I; E      Sl2   \n2         2.0         3.0        54.0         68.0         II; Bv      Sl2   \n3         2.0         4.0        68.0         96.0   III; Bv-ilCv     fSms   \n4         2.0         5.0        96.0        201.0      III; ilCv     mSfs   \n...       ...         ...         ...          ...            ...      ...   \n15201  6211.0         3.0        27.0         50.0      I; Bbh+Bs     fSms   \n15202  6211.0         4.0        50.0         70.0      I; Bbs+Bs     fSms   \n15203  6211.0         5.0        70.0        100.0      I; Go-Bbs     fSms   \n15204  6211.0         6.0       100.0        130.0          I; Go     fSms   \n15205  6211.0         7.0       130.0        155.0          I; Gr     fSms   \n\n      Bodenfarbe  Steine Karbonat Humusgehaltsklasse Durchwurzelung  \\\n0      7.5YR 3/2     3.0       C0                 h3            Wf4   \n1       10YR 3/3     3.0       C0                 h2            Wf3   \n2      7.5YR 4/3    10.0       C0                 h1            Wf3   \n3      7.5YR 6/4     1.0       C0                 h0            Wf2   \n4       10YR 7/4     1.0       C0                 h0            NaN   \n...          ...     ...      ...                ...            ...   \n15201    5YR 3/2     1.0       C0                 h2            Wf3   \n15202    5YR 4/3     1.0       C0                 h1            Wf2   \n15203  7.5YR 5/4     1.0       C0                 h1            Wf6   \n15204   2.5Y 6/4     1.0       C0                 h0            Wf4   \n15205   2.5Y 5/4     1.0       C0                 h0            Wf2   \n\n       Unnamed: 11 Bundesland  PointID  Unnamed: 14    profile  max_depth  \n0              NaN         SH      2.0          NaN  BB_0541.0      100.0  \n1              NaN         SH      3.0          NaN  BB_0600.0       90.0  \n2              NaN         SH      4.0          NaN  BB_0601.0      100.0  \n3              NaN         SH      5.0          NaN  BB_0659.0      100.0  \n4              NaN         SH      6.0          NaN  BB_0660.0      100.0  \n...            ...        ...      ...          ...        ...        ...  \n15201          NaN        NaN      NaN          NaN        NaN        NaN  \n15202          NaN        NaN      NaN          NaN        NaN        NaN  \n15203          NaN        NaN      NaN          NaN        NaN        NaN  \n15204          NaN        NaN      NaN          NaN        NaN        NaN  \n15205          NaN        NaN      NaN          NaN        NaN        NaN  \n\n[15206 rows x 17 columns]",
      "text/html": "<div>\n<style scoped>\n    .dataframe tbody tr th:only-of-type {\n        vertical-align: middle;\n    }\n\n    .dataframe tbody tr th {\n        vertical-align: top;\n    }\n\n    .dataframe thead th {\n        text-align: right;\n    }\n</style>\n<table border=\"1\" class=\"dataframe\">\n  <thead>\n    <tr style=\"text-align: right;\">\n      <th></th>\n      <th>Point</th>\n      <th>HorizontID</th>\n      <th>Obergrenze</th>\n      <th>Untergrenze</th>\n      <th>Horizontsymbol</th>\n      <th>Bodenart</th>\n      <th>Bodenfarbe</th>\n      <th>Steine</th>\n      <th>Karbonat</th>\n      <th>Humusgehaltsklasse</th>\n      <th>Durchwurzelung</th>\n      <th>Unnamed: 11</th>\n      <th>Bundesland</th>\n      <th>PointID</th>\n      <th>Unnamed: 14</th>\n      <th>profile</th>\n      <th>max_depth</th>\n    </tr>\n  </thead>\n  <tbody>\n    <tr>\n      <th>0</th>\n      <td>2.0</td>\n      <td>1.0</td>\n      <td>0.0</td>\n      <td>28.0</td>\n      <td>I; Ap</td>\n      <td>Sl2</td>\n      <td>7.5YR 3/2</td>\n      <td>3.0</td>\n      <td>C0</td>\n      <td>h3</td>\n      <td>Wf4</td>\n      <td>NaN</td>\n      <td>SH</td>\n      <td>2.0</td>\n      <td>NaN</td>\n      <td>BB_0541.0</td>\n      <td>100.0</td>\n    </tr>\n    <tr>\n      <th>1</th>\n      <td>2.0</td>\n      <td>2.0</td>\n      <td>28.0</td>\n      <td>54.0</td>\n      <td>I; E</td>\n      <td>Sl2</td>\n      <td>10YR 3/3</td>\n      <td>3.0</td>\n      <td>C0</td>\n      <td>h2</td>\n      <td>Wf3</td>\n      <td>NaN</td>\n      <td>SH</td>\n      <td>3.0</td>\n      <td>NaN</td>\n      <td>BB_0600.0</td>\n      <td>90.0</td>\n    </tr>\n    <tr>\n      <th>2</th>\n      <td>2.0</td>\n      <td>3.0</td>\n      <td>54.0</td>\n      <td>68.0</td>\n      <td>II; Bv</td>\n      <td>Sl2</td>\n      <td>7.5YR 4/3</td>\n      <td>10.0</td>\n      <td>C0</td>\n      <td>h1</td>\n      <td>Wf3</td>\n      <td>NaN</td>\n      <td>SH</td>\n      <td>4.0</td>\n      <td>NaN</td>\n      <td>BB_0601.0</td>\n      <td>100.0</td>\n    </tr>\n    <tr>\n      <th>3</th>\n      <td>2.0</td>\n      <td>4.0</td>\n      <td>68.0</td>\n      <td>96.0</td>\n      <td>III; Bv-ilCv</td>\n      <td>fSms</td>\n      <td>7.5YR 6/4</td>\n      <td>1.0</td>\n      <td>C0</td>\n      <td>h0</td>\n      <td>Wf2</td>\n      <td>NaN</td>\n      <td>SH</td>\n      <td>5.0</td>\n      <td>NaN</td>\n      <td>BB_0659.0</td>\n      <td>100.0</td>\n    </tr>\n    <tr>\n      <th>4</th>\n      <td>2.0</td>\n      <td>5.0</td>\n      <td>96.0</td>\n      <td>201.0</td>\n      <td>III; ilCv</td>\n      <td>mSfs</td>\n      <td>10YR 7/4</td>\n      <td>1.0</td>\n      <td>C0</td>\n      <td>h0</td>\n      <td>NaN</td>\n      <td>NaN</td>\n      <td>SH</td>\n      <td>6.0</td>\n      <td>NaN</td>\n      <td>BB_0660.0</td>\n      <td>100.0</td>\n    </tr>\n    <tr>\n      <th>...</th>\n      <td>...</td>\n      <td>...</td>\n      <td>...</td>\n      <td>...</td>\n      <td>...</td>\n      <td>...</td>\n      <td>...</td>\n      <td>...</td>\n      <td>...</td>\n      <td>...</td>\n      <td>...</td>\n      <td>...</td>\n      <td>...</td>\n      <td>...</td>\n      <td>...</td>\n      <td>...</td>\n      <td>...</td>\n    </tr>\n    <tr>\n      <th>15201</th>\n      <td>6211.0</td>\n      <td>3.0</td>\n      <td>27.0</td>\n      <td>50.0</td>\n      <td>I; Bbh+Bs</td>\n      <td>fSms</td>\n      <td>5YR 3/2</td>\n      <td>1.0</td>\n      <td>C0</td>\n      <td>h2</td>\n      <td>Wf3</td>\n      <td>NaN</td>\n      <td>NaN</td>\n      <td>NaN</td>\n      <td>NaN</td>\n      <td>NaN</td>\n      <td>NaN</td>\n    </tr>\n    <tr>\n      <th>15202</th>\n      <td>6211.0</td>\n      <td>4.0</td>\n      <td>50.0</td>\n      <td>70.0</td>\n      <td>I; Bbs+Bs</td>\n      <td>fSms</td>\n      <td>5YR 4/3</td>\n      <td>1.0</td>\n      <td>C0</td>\n      <td>h1</td>\n      <td>Wf2</td>\n      <td>NaN</td>\n      <td>NaN</td>\n      <td>NaN</td>\n      <td>NaN</td>\n      <td>NaN</td>\n      <td>NaN</td>\n    </tr>\n    <tr>\n      <th>15203</th>\n      <td>6211.0</td>\n      <td>5.0</td>\n      <td>70.0</td>\n      <td>100.0</td>\n      <td>I; Go-Bbs</td>\n      <td>fSms</td>\n      <td>7.5YR 5/4</td>\n      <td>1.0</td>\n      <td>C0</td>\n      <td>h1</td>\n      <td>Wf6</td>\n      <td>NaN</td>\n      <td>NaN</td>\n      <td>NaN</td>\n      <td>NaN</td>\n      <td>NaN</td>\n      <td>NaN</td>\n    </tr>\n    <tr>\n      <th>15204</th>\n      <td>6211.0</td>\n      <td>6.0</td>\n      <td>100.0</td>\n      <td>130.0</td>\n      <td>I; Go</td>\n      <td>fSms</td>\n      <td>2.5Y 6/4</td>\n      <td>1.0</td>\n      <td>C0</td>\n      <td>h0</td>\n      <td>Wf4</td>\n      <td>NaN</td>\n      <td>NaN</td>\n      <td>NaN</td>\n      <td>NaN</td>\n      <td>NaN</td>\n      <td>NaN</td>\n    </tr>\n    <tr>\n      <th>15205</th>\n      <td>6211.0</td>\n      <td>7.0</td>\n      <td>130.0</td>\n      <td>155.0</td>\n      <td>I; Gr</td>\n      <td>fSms</td>\n      <td>2.5Y 5/4</td>\n      <td>1.0</td>\n      <td>C0</td>\n      <td>h0</td>\n      <td>Wf2</td>\n      <td>NaN</td>\n      <td>NaN</td>\n      <td>NaN</td>\n      <td>NaN</td>\n      <td>NaN</td>\n      <td>NaN</td>\n    </tr>\n  </tbody>\n</table>\n<p>15206 rows × 17 columns</p>\n</div>"
     },
     "execution_count": 4,
     "metadata": {},
     "output_type": "execute_result"
    }
   ],
   "source": [
    "df = pd.read_csv(path_csv)\n",
    "print(len(df.index))\n",
    "df = df.dropna(subset=['Horizontsymbol'])\n",
    "print(len(df.index))\n",
    "df#.head()"
   ],
   "metadata": {
    "collapsed": false,
    "pycharm": {
     "name": "#%%\n"
    }
   }
  },
  {
   "cell_type": "code",
   "execution_count": 5,
   "outputs": [
    {
     "data": {
      "text/plain": "  Horiz  Anzahl im Datensatz relevanter Anteil stark vereinfacht\n0    Ap                 1762                Ap                Ap\n1    Bv                  626                Bv                Bv\n2  ilCv                  620               ilC                Cv\n3  elCv                  500               elC                Cv\n4    Ah                  455                Ah                Ah",
      "text/html": "<div>\n<style scoped>\n    .dataframe tbody tr th:only-of-type {\n        vertical-align: middle;\n    }\n\n    .dataframe tbody tr th {\n        vertical-align: top;\n    }\n\n    .dataframe thead th {\n        text-align: right;\n    }\n</style>\n<table border=\"1\" class=\"dataframe\">\n  <thead>\n    <tr style=\"text-align: right;\">\n      <th></th>\n      <th>Horiz</th>\n      <th>Anzahl im Datensatz</th>\n      <th>relevanter Anteil</th>\n      <th>stark vereinfacht</th>\n    </tr>\n  </thead>\n  <tbody>\n    <tr>\n      <th>0</th>\n      <td>Ap</td>\n      <td>1762</td>\n      <td>Ap</td>\n      <td>Ap</td>\n    </tr>\n    <tr>\n      <th>1</th>\n      <td>Bv</td>\n      <td>626</td>\n      <td>Bv</td>\n      <td>Bv</td>\n    </tr>\n    <tr>\n      <th>2</th>\n      <td>ilCv</td>\n      <td>620</td>\n      <td>ilC</td>\n      <td>Cv</td>\n    </tr>\n    <tr>\n      <th>3</th>\n      <td>elCv</td>\n      <td>500</td>\n      <td>elC</td>\n      <td>Cv</td>\n    </tr>\n    <tr>\n      <th>4</th>\n      <td>Ah</td>\n      <td>455</td>\n      <td>Ah</td>\n      <td>Ah</td>\n    </tr>\n  </tbody>\n</table>\n</div>"
     },
     "execution_count": 5,
     "metadata": {},
     "output_type": "execute_result"
    }
   ],
   "source": [
    "df_simple = pd.read_csv(path_horizons_simple)\n",
    "df_simple.rename(columns={\"relevanter Anteil = was sinntragend und detektierbar ist - es sind nicht alles gültige Symbole\": \"relevanter Anteil\"}, inplace=True)\n",
    "df_simple.head()"
   ],
   "metadata": {
    "collapsed": false,
    "pycharm": {
     "name": "#%%\n"
    }
   }
  },
  {
   "cell_type": "code",
   "execution_count": 6,
   "outputs": [
    {
     "data": {
      "text/plain": "        Point  HorizontID  Obergrenze  Untergrenze Horizontsymbol  \\\n0         2.0         1.0         0.0         28.0          I; Ap   \n1         2.0         2.0        28.0         54.0           I; E   \n2         2.0         3.0        54.0         68.0         II; Bv   \n3         2.0         4.0        68.0         96.0   III; Bv-ilCv   \n4         2.0         5.0        96.0        201.0      III; ilCv   \n...       ...         ...         ...          ...            ...   \n15201  6211.0         3.0        27.0         50.0      I; Bbh+Bs   \n15202  6211.0         4.0        50.0         70.0      I; Bbs+Bs   \n15203  6211.0         5.0        70.0        100.0      I; Go-Bbs   \n15204  6211.0         6.0       100.0        130.0          I; Go   \n15205  6211.0         7.0       130.0        155.0          I; Gr   \n\n      Horizontsymbol_relevant Bodenart Bodenfarbe  Steine Karbonat  \\\n0                          Ap      Sl2  7.5YR 3/2     3.0       C0   \n1                           E      Sl2   10YR 3/3     3.0       C0   \n2                          Bv      Sl2  7.5YR 4/3    10.0       C0   \n3                      Bv-ilC     fSms  7.5YR 6/4     1.0       C0   \n4                         ilC     mSfs   10YR 7/4     1.0       C0   \n...                       ...      ...        ...     ...      ...   \n15201                  Bbh+Bs     fSms    5YR 3/2     1.0       C0   \n15202                  Bbs+Bs     fSms    5YR 4/3     1.0       C0   \n15203                  Go-Bbs     fSms  7.5YR 5/4     1.0       C0   \n15204                      Go     fSms   2.5Y 6/4     1.0       C0   \n15205                      Gr     fSms   2.5Y 5/4     1.0       C0   \n\n      Humusgehaltsklasse Durchwurzelung  Unnamed: 11 Bundesland  PointID  \\\n0                     h3            Wf4          NaN         SH      2.0   \n1                     h2            Wf3          NaN         SH      3.0   \n2                     h1            Wf3          NaN         SH      4.0   \n3                     h0            Wf2          NaN         SH      5.0   \n4                     h0            NaN          NaN         SH      6.0   \n...                  ...            ...          ...        ...      ...   \n15201                 h2            Wf3          NaN        NaN      NaN   \n15202                 h1            Wf2          NaN        NaN      NaN   \n15203                 h1            Wf6          NaN        NaN      NaN   \n15204                 h0            Wf4          NaN        NaN      NaN   \n15205                 h0            Wf2          NaN        NaN      NaN   \n\n       Unnamed: 14    profile  max_depth  \n0              NaN  BB_0541.0      100.0  \n1              NaN  BB_0600.0       90.0  \n2              NaN  BB_0601.0      100.0  \n3              NaN  BB_0659.0      100.0  \n4              NaN  BB_0660.0      100.0  \n...            ...        ...        ...  \n15201          NaN        NaN        NaN  \n15202          NaN        NaN        NaN  \n15203          NaN        NaN        NaN  \n15204          NaN        NaN        NaN  \n15205          NaN        NaN        NaN  \n\n[15206 rows x 18 columns]",
      "text/html": "<div>\n<style scoped>\n    .dataframe tbody tr th:only-of-type {\n        vertical-align: middle;\n    }\n\n    .dataframe tbody tr th {\n        vertical-align: top;\n    }\n\n    .dataframe thead th {\n        text-align: right;\n    }\n</style>\n<table border=\"1\" class=\"dataframe\">\n  <thead>\n    <tr style=\"text-align: right;\">\n      <th></th>\n      <th>Point</th>\n      <th>HorizontID</th>\n      <th>Obergrenze</th>\n      <th>Untergrenze</th>\n      <th>Horizontsymbol</th>\n      <th>Horizontsymbol_relevant</th>\n      <th>Bodenart</th>\n      <th>Bodenfarbe</th>\n      <th>Steine</th>\n      <th>Karbonat</th>\n      <th>Humusgehaltsklasse</th>\n      <th>Durchwurzelung</th>\n      <th>Unnamed: 11</th>\n      <th>Bundesland</th>\n      <th>PointID</th>\n      <th>Unnamed: 14</th>\n      <th>profile</th>\n      <th>max_depth</th>\n    </tr>\n  </thead>\n  <tbody>\n    <tr>\n      <th>0</th>\n      <td>2.0</td>\n      <td>1.0</td>\n      <td>0.0</td>\n      <td>28.0</td>\n      <td>I; Ap</td>\n      <td>Ap</td>\n      <td>Sl2</td>\n      <td>7.5YR 3/2</td>\n      <td>3.0</td>\n      <td>C0</td>\n      <td>h3</td>\n      <td>Wf4</td>\n      <td>NaN</td>\n      <td>SH</td>\n      <td>2.0</td>\n      <td>NaN</td>\n      <td>BB_0541.0</td>\n      <td>100.0</td>\n    </tr>\n    <tr>\n      <th>1</th>\n      <td>2.0</td>\n      <td>2.0</td>\n      <td>28.0</td>\n      <td>54.0</td>\n      <td>I; E</td>\n      <td>E</td>\n      <td>Sl2</td>\n      <td>10YR 3/3</td>\n      <td>3.0</td>\n      <td>C0</td>\n      <td>h2</td>\n      <td>Wf3</td>\n      <td>NaN</td>\n      <td>SH</td>\n      <td>3.0</td>\n      <td>NaN</td>\n      <td>BB_0600.0</td>\n      <td>90.0</td>\n    </tr>\n    <tr>\n      <th>2</th>\n      <td>2.0</td>\n      <td>3.0</td>\n      <td>54.0</td>\n      <td>68.0</td>\n      <td>II; Bv</td>\n      <td>Bv</td>\n      <td>Sl2</td>\n      <td>7.5YR 4/3</td>\n      <td>10.0</td>\n      <td>C0</td>\n      <td>h1</td>\n      <td>Wf3</td>\n      <td>NaN</td>\n      <td>SH</td>\n      <td>4.0</td>\n      <td>NaN</td>\n      <td>BB_0601.0</td>\n      <td>100.0</td>\n    </tr>\n    <tr>\n      <th>3</th>\n      <td>2.0</td>\n      <td>4.0</td>\n      <td>68.0</td>\n      <td>96.0</td>\n      <td>III; Bv-ilCv</td>\n      <td>Bv-ilC</td>\n      <td>fSms</td>\n      <td>7.5YR 6/4</td>\n      <td>1.0</td>\n      <td>C0</td>\n      <td>h0</td>\n      <td>Wf2</td>\n      <td>NaN</td>\n      <td>SH</td>\n      <td>5.0</td>\n      <td>NaN</td>\n      <td>BB_0659.0</td>\n      <td>100.0</td>\n    </tr>\n    <tr>\n      <th>4</th>\n      <td>2.0</td>\n      <td>5.0</td>\n      <td>96.0</td>\n      <td>201.0</td>\n      <td>III; ilCv</td>\n      <td>ilC</td>\n      <td>mSfs</td>\n      <td>10YR 7/4</td>\n      <td>1.0</td>\n      <td>C0</td>\n      <td>h0</td>\n      <td>NaN</td>\n      <td>NaN</td>\n      <td>SH</td>\n      <td>6.0</td>\n      <td>NaN</td>\n      <td>BB_0660.0</td>\n      <td>100.0</td>\n    </tr>\n    <tr>\n      <th>...</th>\n      <td>...</td>\n      <td>...</td>\n      <td>...</td>\n      <td>...</td>\n      <td>...</td>\n      <td>...</td>\n      <td>...</td>\n      <td>...</td>\n      <td>...</td>\n      <td>...</td>\n      <td>...</td>\n      <td>...</td>\n      <td>...</td>\n      <td>...</td>\n      <td>...</td>\n      <td>...</td>\n      <td>...</td>\n      <td>...</td>\n    </tr>\n    <tr>\n      <th>15201</th>\n      <td>6211.0</td>\n      <td>3.0</td>\n      <td>27.0</td>\n      <td>50.0</td>\n      <td>I; Bbh+Bs</td>\n      <td>Bbh+Bs</td>\n      <td>fSms</td>\n      <td>5YR 3/2</td>\n      <td>1.0</td>\n      <td>C0</td>\n      <td>h2</td>\n      <td>Wf3</td>\n      <td>NaN</td>\n      <td>NaN</td>\n      <td>NaN</td>\n      <td>NaN</td>\n      <td>NaN</td>\n      <td>NaN</td>\n    </tr>\n    <tr>\n      <th>15202</th>\n      <td>6211.0</td>\n      <td>4.0</td>\n      <td>50.0</td>\n      <td>70.0</td>\n      <td>I; Bbs+Bs</td>\n      <td>Bbs+Bs</td>\n      <td>fSms</td>\n      <td>5YR 4/3</td>\n      <td>1.0</td>\n      <td>C0</td>\n      <td>h1</td>\n      <td>Wf2</td>\n      <td>NaN</td>\n      <td>NaN</td>\n      <td>NaN</td>\n      <td>NaN</td>\n      <td>NaN</td>\n      <td>NaN</td>\n    </tr>\n    <tr>\n      <th>15203</th>\n      <td>6211.0</td>\n      <td>5.0</td>\n      <td>70.0</td>\n      <td>100.0</td>\n      <td>I; Go-Bbs</td>\n      <td>Go-Bbs</td>\n      <td>fSms</td>\n      <td>7.5YR 5/4</td>\n      <td>1.0</td>\n      <td>C0</td>\n      <td>h1</td>\n      <td>Wf6</td>\n      <td>NaN</td>\n      <td>NaN</td>\n      <td>NaN</td>\n      <td>NaN</td>\n      <td>NaN</td>\n      <td>NaN</td>\n    </tr>\n    <tr>\n      <th>15204</th>\n      <td>6211.0</td>\n      <td>6.0</td>\n      <td>100.0</td>\n      <td>130.0</td>\n      <td>I; Go</td>\n      <td>Go</td>\n      <td>fSms</td>\n      <td>2.5Y 6/4</td>\n      <td>1.0</td>\n      <td>C0</td>\n      <td>h0</td>\n      <td>Wf4</td>\n      <td>NaN</td>\n      <td>NaN</td>\n      <td>NaN</td>\n      <td>NaN</td>\n      <td>NaN</td>\n      <td>NaN</td>\n    </tr>\n    <tr>\n      <th>15205</th>\n      <td>6211.0</td>\n      <td>7.0</td>\n      <td>130.0</td>\n      <td>155.0</td>\n      <td>I; Gr</td>\n      <td>Gr</td>\n      <td>fSms</td>\n      <td>2.5Y 5/4</td>\n      <td>1.0</td>\n      <td>C0</td>\n      <td>h0</td>\n      <td>Wf2</td>\n      <td>NaN</td>\n      <td>NaN</td>\n      <td>NaN</td>\n      <td>NaN</td>\n      <td>NaN</td>\n      <td>NaN</td>\n    </tr>\n  </tbody>\n</table>\n<p>15206 rows × 18 columns</p>\n</div>"
     },
     "execution_count": 6,
     "metadata": {},
     "output_type": "execute_result"
    }
   ],
   "source": [
    "# Add an extra column to the original dataset with the simplified horizon symbols\n",
    "\n",
    "# Apply the simplification function to each row of the 'Horizontsymbol' column\n",
    "col_name = \"relevanter Anteil\" # try to predict 'relevanter Anteil' first; otherwise, resort to 'stark vereinfacht'\n",
    "df['Horizontsymbol_relevant'] = df['Horizontsymbol'].apply(lambda x: bgr_data.simplify_string(x, df_simple, col_name))\n",
    "\n",
    "# Reorder the columns\n",
    "cols = df.columns.tolist()\n",
    "cols.insert(cols.index('Horizontsymbol') + 1, 'Horizontsymbol_relevant')\n",
    "cols.pop() # remove the duplicate at the end\n",
    "df = df[cols]\n",
    "df"
   ],
   "metadata": {
    "collapsed": false,
    "pycharm": {
     "name": "#%%\n"
    }
   }
  },
  {
   "cell_type": "markdown",
   "source": [
    "#### Join images and further tables"
   ],
   "metadata": {
    "collapsed": false
   }
  },
  {
   "cell_type": "code",
   "execution_count": 7,
   "outputs": [
    {
     "data": {
      "text/plain": "               file   Point\n0   BB_0896_Y_1.JPG   896.0\n1   BB_0903_Y_1.JPG   903.0\n2   BW_4930_Y_1.JPG  4930.0\n3   BW_5183_Y_1.JPG  5183.0\n4   BW_5462_Y_1.JPG  5462.0\n5   BY_3651_Y_1.JPG  3651.0\n6   BY_3934_Y_1.JPG  3934.0\n7   BY_3979_Y_1.JPG  3979.0\n8   BY_4039_Y_1.JPG  4039.0\n9   BY_4302_Y_1.JPG  4302.0\n10  BY_4360_Y_1.JPG  4360.0\n11  BY_4568_Y_1.JPG  4568.0\n12  BY_4895_Y_1.JPG  4895.0\n13  BY_4910_Y_1.JPG  4910.0\n14  BY_5439_Y_1.JPG  5439.0",
      "text/html": "<div>\n<style scoped>\n    .dataframe tbody tr th:only-of-type {\n        vertical-align: middle;\n    }\n\n    .dataframe tbody tr th {\n        vertical-align: top;\n    }\n\n    .dataframe thead th {\n        text-align: right;\n    }\n</style>\n<table border=\"1\" class=\"dataframe\">\n  <thead>\n    <tr style=\"text-align: right;\">\n      <th></th>\n      <th>file</th>\n      <th>Point</th>\n    </tr>\n  </thead>\n  <tbody>\n    <tr>\n      <th>0</th>\n      <td>BB_0896_Y_1.JPG</td>\n      <td>896.0</td>\n    </tr>\n    <tr>\n      <th>1</th>\n      <td>BB_0903_Y_1.JPG</td>\n      <td>903.0</td>\n    </tr>\n    <tr>\n      <th>2</th>\n      <td>BW_4930_Y_1.JPG</td>\n      <td>4930.0</td>\n    </tr>\n    <tr>\n      <th>3</th>\n      <td>BW_5183_Y_1.JPG</td>\n      <td>5183.0</td>\n    </tr>\n    <tr>\n      <th>4</th>\n      <td>BW_5462_Y_1.JPG</td>\n      <td>5462.0</td>\n    </tr>\n    <tr>\n      <th>5</th>\n      <td>BY_3651_Y_1.JPG</td>\n      <td>3651.0</td>\n    </tr>\n    <tr>\n      <th>6</th>\n      <td>BY_3934_Y_1.JPG</td>\n      <td>3934.0</td>\n    </tr>\n    <tr>\n      <th>7</th>\n      <td>BY_3979_Y_1.JPG</td>\n      <td>3979.0</td>\n    </tr>\n    <tr>\n      <th>8</th>\n      <td>BY_4039_Y_1.JPG</td>\n      <td>4039.0</td>\n    </tr>\n    <tr>\n      <th>9</th>\n      <td>BY_4302_Y_1.JPG</td>\n      <td>4302.0</td>\n    </tr>\n    <tr>\n      <th>10</th>\n      <td>BY_4360_Y_1.JPG</td>\n      <td>4360.0</td>\n    </tr>\n    <tr>\n      <th>11</th>\n      <td>BY_4568_Y_1.JPG</td>\n      <td>4568.0</td>\n    </tr>\n    <tr>\n      <th>12</th>\n      <td>BY_4895_Y_1.JPG</td>\n      <td>4895.0</td>\n    </tr>\n    <tr>\n      <th>13</th>\n      <td>BY_4910_Y_1.JPG</td>\n      <td>4910.0</td>\n    </tr>\n    <tr>\n      <th>14</th>\n      <td>BY_5439_Y_1.JPG</td>\n      <td>5439.0</td>\n    </tr>\n  </tbody>\n</table>\n</div>"
     },
     "execution_count": 7,
     "metadata": {},
     "output_type": "execute_result"
    }
   ],
   "source": [
    "# Read image dataset and add file path as extra column to df\n",
    "image_dataset = os.listdir(path_pictures)\n",
    "img_files = pd.DataFrame(image_dataset, columns=['file'])\n",
    "img_files['Point'] = img_files['file'].str.split(\"_\").map(lambda x: x[1]).astype(float) # for error 'list index out of range', delete @eaDir\n",
    "#img_files['HorizontID'] = img_files['file'].str.split('.').map(lambda x: x[0][-1]).astype(float) # uncomment only for segmented horizon patches\n",
    "img_files.head(15)"
   ],
   "metadata": {
    "collapsed": false,
    "pycharm": {
     "name": "#%%\n"
    }
   }
  },
  {
   "cell_type": "code",
   "execution_count": 8,
   "outputs": [
    {
     "name": "stdout",
     "output_type": "stream",
     "text": [
      "16316\n"
     ]
    },
    {
     "data": {
      "text/plain": "    Point  HorizontID  Obergrenze  Untergrenze Horizontsymbol  \\\n0     2.0         1.0         0.0         28.0          I; Ap   \n1     2.0         2.0        28.0         54.0           I; E   \n2     2.0         3.0        54.0         68.0         II; Bv   \n3     2.0         4.0        68.0         96.0   III; Bv-ilCv   \n4     2.0         5.0        96.0        201.0      III; ilCv   \n5     3.0         1.0         0.0         12.0     I; tbSw-Ah   \n6     3.0         2.0        12.0         30.0    I; tbSw-rAp   \n7     3.0         3.0        30.0         54.0    I; tbrGo-Sw   \n8     3.0         4.0        54.0        125.0     I; tbGo-Sd   \n9     3.0         5.0       125.0        160.0      II; tmGor   \n10    3.0         6.0       160.0        201.0      II; tmeGr   \n11    4.0         1.0         0.0         30.0     I; Sw-tbAp   \n12    4.0         2.0        30.0         74.0        I; tbSq   \n13    4.0         3.0        74.0        140.0       I; tbGro   \n14    4.0         4.0       140.0        200.0        I; tbGr   \n\n   Horizontsymbol_relevant Bodenart   Bodenfarbe  Steine Karbonat  \\\n0                       Ap      Sl2    7.5YR 3/2     3.0       C0   \n1                        E      Sl2     10YR 3/3     3.0       C0   \n2                       Bv      Sl2    7.5YR 4/3    10.0       C0   \n3                   Bv-ilC     fSms    7.5YR 6/4     1.0       C0   \n4                      ilC     mSfs     10YR 7/4     1.0       C0   \n5                   tSw-Ah      Ls3     10YR 4/2     0.0       C0   \n6                   tSw-Ap      Ls2     10YR 4/2     0.0       C0   \n7                   tGo-Sw      Ls4     2.5Y 5/1     0.0       C0   \n8                   tGo-Sd       Lu       5Y 5/1     0.0       C0   \n9                     tGor      Su3       5Y 5/1     0.0       C0   \n10                     tGr      Su3  GLEY1 4/5GY     0.0     C3.2   \n11                  Sw-tAp      Tu3       5Y 5/2     0.0       C0   \n12                     tSq      Tu3       5Y 5/1     0.0       C0   \n13                    tGro      Tu4       5Y 6/1     0.0       C0   \n14                     tGr      Tu4    GLEY1 5/N     0.0       C0   \n\n   Humusgehaltsklasse Durchwurzelung  Unnamed: 11 Bundesland  PointID  \\\n0                  h3            Wf4          NaN         SH      2.0   \n1                  h2            Wf3          NaN         SH      3.0   \n2                  h1            Wf3          NaN         SH      4.0   \n3                  h0            Wf2          NaN         SH      5.0   \n4                  h0            NaN          NaN         SH      6.0   \n5                  h3            Wf6          NaN         SH      7.0   \n6                  h2            Wf4          NaN         SH      8.0   \n7                  h1            Wf2          NaN         SH     10.0   \n8                  h1            NaN          NaN         SH     11.0   \n9                  h1            NaN          NaN         SH     12.0   \n10                 h1            NaN          NaN         SH     14.0   \n11                 h3            Wf4          NaN         SH     15.0   \n12                 h1            Wf3          NaN         SH     16.0   \n13                 h0            Wf1          NaN         SH     17.0   \n14                 h0            NaN          NaN         SH     18.0   \n\n    Unnamed: 14    profile  max_depth  \\\n0           NaN  BB_0541.0      100.0   \n1           NaN  BB_0600.0       90.0   \n2           NaN  BB_0601.0      100.0   \n3           NaN  BB_0659.0      100.0   \n4           NaN  BB_0660.0      100.0   \n5           NaN  BB_0661.0      100.0   \n6           NaN  BB_0662.0      100.0   \n7           NaN  BB_0663.0      100.0   \n8           NaN  BB_0718.0      100.0   \n9           NaN  BB_0720.0      110.0   \n10          NaN  BB_0721.0      100.0   \n11          NaN  BB_0722.0      100.0   \n12          NaN  BB_0723.0      100.0   \n13          NaN  BB_0725.0       90.0   \n14          NaN  BB_0781.0      100.0   \n\n                                                 file  \n0   ../data/BGR/Profilbilder_no_ruler_no_sky/SH_00...  \n1   ../data/BGR/Profilbilder_no_ruler_no_sky/SH_00...  \n2   ../data/BGR/Profilbilder_no_ruler_no_sky/SH_00...  \n3   ../data/BGR/Profilbilder_no_ruler_no_sky/SH_00...  \n4   ../data/BGR/Profilbilder_no_ruler_no_sky/SH_00...  \n5   ../data/BGR/Profilbilder_no_ruler_no_sky/SH_00...  \n6   ../data/BGR/Profilbilder_no_ruler_no_sky/SH_00...  \n7   ../data/BGR/Profilbilder_no_ruler_no_sky/SH_00...  \n8   ../data/BGR/Profilbilder_no_ruler_no_sky/SH_00...  \n9   ../data/BGR/Profilbilder_no_ruler_no_sky/SH_00...  \n10  ../data/BGR/Profilbilder_no_ruler_no_sky/SH_00...  \n11  ../data/BGR/Profilbilder_no_ruler_no_sky/SH_00...  \n12  ../data/BGR/Profilbilder_no_ruler_no_sky/SH_00...  \n13  ../data/BGR/Profilbilder_no_ruler_no_sky/SH_00...  \n14  ../data/BGR/Profilbilder_no_ruler_no_sky/SH_00...  ",
      "text/html": "<div>\n<style scoped>\n    .dataframe tbody tr th:only-of-type {\n        vertical-align: middle;\n    }\n\n    .dataframe tbody tr th {\n        vertical-align: top;\n    }\n\n    .dataframe thead th {\n        text-align: right;\n    }\n</style>\n<table border=\"1\" class=\"dataframe\">\n  <thead>\n    <tr style=\"text-align: right;\">\n      <th></th>\n      <th>Point</th>\n      <th>HorizontID</th>\n      <th>Obergrenze</th>\n      <th>Untergrenze</th>\n      <th>Horizontsymbol</th>\n      <th>Horizontsymbol_relevant</th>\n      <th>Bodenart</th>\n      <th>Bodenfarbe</th>\n      <th>Steine</th>\n      <th>Karbonat</th>\n      <th>Humusgehaltsklasse</th>\n      <th>Durchwurzelung</th>\n      <th>Unnamed: 11</th>\n      <th>Bundesland</th>\n      <th>PointID</th>\n      <th>Unnamed: 14</th>\n      <th>profile</th>\n      <th>max_depth</th>\n      <th>file</th>\n    </tr>\n  </thead>\n  <tbody>\n    <tr>\n      <th>0</th>\n      <td>2.0</td>\n      <td>1.0</td>\n      <td>0.0</td>\n      <td>28.0</td>\n      <td>I; Ap</td>\n      <td>Ap</td>\n      <td>Sl2</td>\n      <td>7.5YR 3/2</td>\n      <td>3.0</td>\n      <td>C0</td>\n      <td>h3</td>\n      <td>Wf4</td>\n      <td>NaN</td>\n      <td>SH</td>\n      <td>2.0</td>\n      <td>NaN</td>\n      <td>BB_0541.0</td>\n      <td>100.0</td>\n      <td>../data/BGR/Profilbilder_no_ruler_no_sky/SH_00...</td>\n    </tr>\n    <tr>\n      <th>1</th>\n      <td>2.0</td>\n      <td>2.0</td>\n      <td>28.0</td>\n      <td>54.0</td>\n      <td>I; E</td>\n      <td>E</td>\n      <td>Sl2</td>\n      <td>10YR 3/3</td>\n      <td>3.0</td>\n      <td>C0</td>\n      <td>h2</td>\n      <td>Wf3</td>\n      <td>NaN</td>\n      <td>SH</td>\n      <td>3.0</td>\n      <td>NaN</td>\n      <td>BB_0600.0</td>\n      <td>90.0</td>\n      <td>../data/BGR/Profilbilder_no_ruler_no_sky/SH_00...</td>\n    </tr>\n    <tr>\n      <th>2</th>\n      <td>2.0</td>\n      <td>3.0</td>\n      <td>54.0</td>\n      <td>68.0</td>\n      <td>II; Bv</td>\n      <td>Bv</td>\n      <td>Sl2</td>\n      <td>7.5YR 4/3</td>\n      <td>10.0</td>\n      <td>C0</td>\n      <td>h1</td>\n      <td>Wf3</td>\n      <td>NaN</td>\n      <td>SH</td>\n      <td>4.0</td>\n      <td>NaN</td>\n      <td>BB_0601.0</td>\n      <td>100.0</td>\n      <td>../data/BGR/Profilbilder_no_ruler_no_sky/SH_00...</td>\n    </tr>\n    <tr>\n      <th>3</th>\n      <td>2.0</td>\n      <td>4.0</td>\n      <td>68.0</td>\n      <td>96.0</td>\n      <td>III; Bv-ilCv</td>\n      <td>Bv-ilC</td>\n      <td>fSms</td>\n      <td>7.5YR 6/4</td>\n      <td>1.0</td>\n      <td>C0</td>\n      <td>h0</td>\n      <td>Wf2</td>\n      <td>NaN</td>\n      <td>SH</td>\n      <td>5.0</td>\n      <td>NaN</td>\n      <td>BB_0659.0</td>\n      <td>100.0</td>\n      <td>../data/BGR/Profilbilder_no_ruler_no_sky/SH_00...</td>\n    </tr>\n    <tr>\n      <th>4</th>\n      <td>2.0</td>\n      <td>5.0</td>\n      <td>96.0</td>\n      <td>201.0</td>\n      <td>III; ilCv</td>\n      <td>ilC</td>\n      <td>mSfs</td>\n      <td>10YR 7/4</td>\n      <td>1.0</td>\n      <td>C0</td>\n      <td>h0</td>\n      <td>NaN</td>\n      <td>NaN</td>\n      <td>SH</td>\n      <td>6.0</td>\n      <td>NaN</td>\n      <td>BB_0660.0</td>\n      <td>100.0</td>\n      <td>../data/BGR/Profilbilder_no_ruler_no_sky/SH_00...</td>\n    </tr>\n    <tr>\n      <th>5</th>\n      <td>3.0</td>\n      <td>1.0</td>\n      <td>0.0</td>\n      <td>12.0</td>\n      <td>I; tbSw-Ah</td>\n      <td>tSw-Ah</td>\n      <td>Ls3</td>\n      <td>10YR 4/2</td>\n      <td>0.0</td>\n      <td>C0</td>\n      <td>h3</td>\n      <td>Wf6</td>\n      <td>NaN</td>\n      <td>SH</td>\n      <td>7.0</td>\n      <td>NaN</td>\n      <td>BB_0661.0</td>\n      <td>100.0</td>\n      <td>../data/BGR/Profilbilder_no_ruler_no_sky/SH_00...</td>\n    </tr>\n    <tr>\n      <th>6</th>\n      <td>3.0</td>\n      <td>2.0</td>\n      <td>12.0</td>\n      <td>30.0</td>\n      <td>I; tbSw-rAp</td>\n      <td>tSw-Ap</td>\n      <td>Ls2</td>\n      <td>10YR 4/2</td>\n      <td>0.0</td>\n      <td>C0</td>\n      <td>h2</td>\n      <td>Wf4</td>\n      <td>NaN</td>\n      <td>SH</td>\n      <td>8.0</td>\n      <td>NaN</td>\n      <td>BB_0662.0</td>\n      <td>100.0</td>\n      <td>../data/BGR/Profilbilder_no_ruler_no_sky/SH_00...</td>\n    </tr>\n    <tr>\n      <th>7</th>\n      <td>3.0</td>\n      <td>3.0</td>\n      <td>30.0</td>\n      <td>54.0</td>\n      <td>I; tbrGo-Sw</td>\n      <td>tGo-Sw</td>\n      <td>Ls4</td>\n      <td>2.5Y 5/1</td>\n      <td>0.0</td>\n      <td>C0</td>\n      <td>h1</td>\n      <td>Wf2</td>\n      <td>NaN</td>\n      <td>SH</td>\n      <td>10.0</td>\n      <td>NaN</td>\n      <td>BB_0663.0</td>\n      <td>100.0</td>\n      <td>../data/BGR/Profilbilder_no_ruler_no_sky/SH_00...</td>\n    </tr>\n    <tr>\n      <th>8</th>\n      <td>3.0</td>\n      <td>4.0</td>\n      <td>54.0</td>\n      <td>125.0</td>\n      <td>I; tbGo-Sd</td>\n      <td>tGo-Sd</td>\n      <td>Lu</td>\n      <td>5Y 5/1</td>\n      <td>0.0</td>\n      <td>C0</td>\n      <td>h1</td>\n      <td>NaN</td>\n      <td>NaN</td>\n      <td>SH</td>\n      <td>11.0</td>\n      <td>NaN</td>\n      <td>BB_0718.0</td>\n      <td>100.0</td>\n      <td>../data/BGR/Profilbilder_no_ruler_no_sky/SH_00...</td>\n    </tr>\n    <tr>\n      <th>9</th>\n      <td>3.0</td>\n      <td>5.0</td>\n      <td>125.0</td>\n      <td>160.0</td>\n      <td>II; tmGor</td>\n      <td>tGor</td>\n      <td>Su3</td>\n      <td>5Y 5/1</td>\n      <td>0.0</td>\n      <td>C0</td>\n      <td>h1</td>\n      <td>NaN</td>\n      <td>NaN</td>\n      <td>SH</td>\n      <td>12.0</td>\n      <td>NaN</td>\n      <td>BB_0720.0</td>\n      <td>110.0</td>\n      <td>../data/BGR/Profilbilder_no_ruler_no_sky/SH_00...</td>\n    </tr>\n    <tr>\n      <th>10</th>\n      <td>3.0</td>\n      <td>6.0</td>\n      <td>160.0</td>\n      <td>201.0</td>\n      <td>II; tmeGr</td>\n      <td>tGr</td>\n      <td>Su3</td>\n      <td>GLEY1 4/5GY</td>\n      <td>0.0</td>\n      <td>C3.2</td>\n      <td>h1</td>\n      <td>NaN</td>\n      <td>NaN</td>\n      <td>SH</td>\n      <td>14.0</td>\n      <td>NaN</td>\n      <td>BB_0721.0</td>\n      <td>100.0</td>\n      <td>../data/BGR/Profilbilder_no_ruler_no_sky/SH_00...</td>\n    </tr>\n    <tr>\n      <th>11</th>\n      <td>4.0</td>\n      <td>1.0</td>\n      <td>0.0</td>\n      <td>30.0</td>\n      <td>I; Sw-tbAp</td>\n      <td>Sw-tAp</td>\n      <td>Tu3</td>\n      <td>5Y 5/2</td>\n      <td>0.0</td>\n      <td>C0</td>\n      <td>h3</td>\n      <td>Wf4</td>\n      <td>NaN</td>\n      <td>SH</td>\n      <td>15.0</td>\n      <td>NaN</td>\n      <td>BB_0722.0</td>\n      <td>100.0</td>\n      <td>../data/BGR/Profilbilder_no_ruler_no_sky/SH_00...</td>\n    </tr>\n    <tr>\n      <th>12</th>\n      <td>4.0</td>\n      <td>2.0</td>\n      <td>30.0</td>\n      <td>74.0</td>\n      <td>I; tbSq</td>\n      <td>tSq</td>\n      <td>Tu3</td>\n      <td>5Y 5/1</td>\n      <td>0.0</td>\n      <td>C0</td>\n      <td>h1</td>\n      <td>Wf3</td>\n      <td>NaN</td>\n      <td>SH</td>\n      <td>16.0</td>\n      <td>NaN</td>\n      <td>BB_0723.0</td>\n      <td>100.0</td>\n      <td>../data/BGR/Profilbilder_no_ruler_no_sky/SH_00...</td>\n    </tr>\n    <tr>\n      <th>13</th>\n      <td>4.0</td>\n      <td>3.0</td>\n      <td>74.0</td>\n      <td>140.0</td>\n      <td>I; tbGro</td>\n      <td>tGro</td>\n      <td>Tu4</td>\n      <td>5Y 6/1</td>\n      <td>0.0</td>\n      <td>C0</td>\n      <td>h0</td>\n      <td>Wf1</td>\n      <td>NaN</td>\n      <td>SH</td>\n      <td>17.0</td>\n      <td>NaN</td>\n      <td>BB_0725.0</td>\n      <td>90.0</td>\n      <td>../data/BGR/Profilbilder_no_ruler_no_sky/SH_00...</td>\n    </tr>\n    <tr>\n      <th>14</th>\n      <td>4.0</td>\n      <td>4.0</td>\n      <td>140.0</td>\n      <td>200.0</td>\n      <td>I; tbGr</td>\n      <td>tGr</td>\n      <td>Tu4</td>\n      <td>GLEY1 5/N</td>\n      <td>0.0</td>\n      <td>C0</td>\n      <td>h0</td>\n      <td>NaN</td>\n      <td>NaN</td>\n      <td>SH</td>\n      <td>18.0</td>\n      <td>NaN</td>\n      <td>BB_0781.0</td>\n      <td>100.0</td>\n      <td>../data/BGR/Profilbilder_no_ruler_no_sky/SH_00...</td>\n    </tr>\n  </tbody>\n</table>\n</div>"
     },
     "execution_count": 8,
     "metadata": {},
     "output_type": "execute_result"
    }
   ],
   "source": [
    "df = pd.merge(df, img_files, how='inner', on=['Point']) # for full images\n",
    "#df = pd.merge(df, img_files, how='inner', on=['Point', 'HorizontID']) # for patches\n",
    "df['file'] = df['file'].map(lambda x: os.path.join(path_pictures, x))\n",
    "print(len(df))\n",
    "df.head(15)"
   ],
   "metadata": {
    "collapsed": false,
    "pycharm": {
     "name": "#%%\n"
    }
   }
  },
  {
   "cell_type": "markdown",
   "source": [
    "**Note**: When merging with the image dataset, the total dataframe increases in size, because some soil pictures were taken from more than one angle. These are still not duplicates, although the table features are the same for every such image."
   ],
   "metadata": {
    "collapsed": false
   }
  },
  {
   "cell_type": "code",
   "execution_count": 9,
   "outputs": [],
   "source": [
    "# Join with annotator ids\n",
    "#df_k = pd.read_csv(path_csv_annotator_ids)\n",
    "#df_k = df_k.rename({'PointID':'Point'},axis=1)\n",
    "#df_k.head()"
   ],
   "metadata": {
    "collapsed": false,
    "pycharm": {
     "name": "#%%\n"
    }
   }
  },
  {
   "cell_type": "code",
   "execution_count": 10,
   "outputs": [],
   "source": [
    "#df = pd.merge(df, df_k, how='inner', on='Point')\n",
    "#len(df)"
   ],
   "metadata": {
    "collapsed": false,
    "pycharm": {
     "name": "#%%\n"
    }
   }
  },
  {
   "cell_type": "markdown",
   "source": [
    "**Note**: When joining with the annotator ids, the size of df decreases, since we don't have this id for every sample in the df."
   ],
   "metadata": {
    "collapsed": false
   }
  },
  {
   "cell_type": "code",
   "execution_count": 11,
   "outputs": [
    {
     "name": "stdout",
     "output_type": "stream",
     "text": [
      "3106\n"
     ]
    },
    {
     "data": {
      "text/plain": "  Point Bundesland  Probenahme_Monat  Probenahme_Jahr       xcoord  \\\n0     2         SH                11             2015  462216.1283   \n1     3         SH                 6             2016  480546.9384   \n2     4         SH                 8             2018  484922.3074   \n3     5         SH                10             2015  497355.9905   \n4     6         SH                10             2015  505020.3377   \n\n        ycoord Bodenklimaraum_Name Landnutzung BZE_Moor Hauptbodentyp  \\\n0  6079359.775       Marsch - Nord           A        0            YE   \n1  6079739.216       Marsch - Nord           G        0            MD   \n2  6080011.471       Marsch - Nord           A        0            MK   \n3  6079646.589       Marsch - Nord           G        0            RQ   \n4   6080401.37        Geest - Nord           G        0            YU   \n\n  BodenVarTypSub GrundwaStufe GrundwaStand  Moormaechtigkeit  \\\n0          YE/BB            0         >200               0.0   \n1            MDn         GWS4          135               0.0   \n2            MKn         GWS4          105               0.0   \n3     p2RQ/GG-PP         GWS4          180               0.0   \n4        aGGe-YU         GWS4          140               0.0   \n\n   Torfmaechtigkeit Neigung Exposition Woelbung Reliefformtyp LageImRelief  \\\n0               0.0      N0        NaN       GG             V            Z   \n1               0.0      N0        NaN       GG           TSF            Z   \n2               0.0      N1         NE       GG            TH            Z   \n3               0.0    N0.2         SS       GG           KSF            K   \n4               0.0      N0        NaN       GG           TSF            Z   \n\n   KV_0_30  KV_30_100  \n0    81.89      54.19  \n1    71.62      59.74  \n2    65.60     120.40  \n3    88.82     220.87  \n4    62.97      84.35  ",
      "text/html": "<div>\n<style scoped>\n    .dataframe tbody tr th:only-of-type {\n        vertical-align: middle;\n    }\n\n    .dataframe tbody tr th {\n        vertical-align: top;\n    }\n\n    .dataframe thead th {\n        text-align: right;\n    }\n</style>\n<table border=\"1\" class=\"dataframe\">\n  <thead>\n    <tr style=\"text-align: right;\">\n      <th></th>\n      <th>Point</th>\n      <th>Bundesland</th>\n      <th>Probenahme_Monat</th>\n      <th>Probenahme_Jahr</th>\n      <th>xcoord</th>\n      <th>ycoord</th>\n      <th>Bodenklimaraum_Name</th>\n      <th>Landnutzung</th>\n      <th>BZE_Moor</th>\n      <th>Hauptbodentyp</th>\n      <th>BodenVarTypSub</th>\n      <th>GrundwaStufe</th>\n      <th>GrundwaStand</th>\n      <th>Moormaechtigkeit</th>\n      <th>Torfmaechtigkeit</th>\n      <th>Neigung</th>\n      <th>Exposition</th>\n      <th>Woelbung</th>\n      <th>Reliefformtyp</th>\n      <th>LageImRelief</th>\n      <th>KV_0_30</th>\n      <th>KV_30_100</th>\n    </tr>\n  </thead>\n  <tbody>\n    <tr>\n      <th>0</th>\n      <td>2</td>\n      <td>SH</td>\n      <td>11</td>\n      <td>2015</td>\n      <td>462216.1283</td>\n      <td>6079359.775</td>\n      <td>Marsch - Nord</td>\n      <td>A</td>\n      <td>0</td>\n      <td>YE</td>\n      <td>YE/BB</td>\n      <td>0</td>\n      <td>&gt;200</td>\n      <td>0.0</td>\n      <td>0.0</td>\n      <td>N0</td>\n      <td>NaN</td>\n      <td>GG</td>\n      <td>V</td>\n      <td>Z</td>\n      <td>81.89</td>\n      <td>54.19</td>\n    </tr>\n    <tr>\n      <th>1</th>\n      <td>3</td>\n      <td>SH</td>\n      <td>6</td>\n      <td>2016</td>\n      <td>480546.9384</td>\n      <td>6079739.216</td>\n      <td>Marsch - Nord</td>\n      <td>G</td>\n      <td>0</td>\n      <td>MD</td>\n      <td>MDn</td>\n      <td>GWS4</td>\n      <td>135</td>\n      <td>0.0</td>\n      <td>0.0</td>\n      <td>N0</td>\n      <td>NaN</td>\n      <td>GG</td>\n      <td>TSF</td>\n      <td>Z</td>\n      <td>71.62</td>\n      <td>59.74</td>\n    </tr>\n    <tr>\n      <th>2</th>\n      <td>4</td>\n      <td>SH</td>\n      <td>8</td>\n      <td>2018</td>\n      <td>484922.3074</td>\n      <td>6080011.471</td>\n      <td>Marsch - Nord</td>\n      <td>A</td>\n      <td>0</td>\n      <td>MK</td>\n      <td>MKn</td>\n      <td>GWS4</td>\n      <td>105</td>\n      <td>0.0</td>\n      <td>0.0</td>\n      <td>N1</td>\n      <td>NE</td>\n      <td>GG</td>\n      <td>TH</td>\n      <td>Z</td>\n      <td>65.60</td>\n      <td>120.40</td>\n    </tr>\n    <tr>\n      <th>3</th>\n      <td>5</td>\n      <td>SH</td>\n      <td>10</td>\n      <td>2015</td>\n      <td>497355.9905</td>\n      <td>6079646.589</td>\n      <td>Marsch - Nord</td>\n      <td>G</td>\n      <td>0</td>\n      <td>RQ</td>\n      <td>p2RQ/GG-PP</td>\n      <td>GWS4</td>\n      <td>180</td>\n      <td>0.0</td>\n      <td>0.0</td>\n      <td>N0.2</td>\n      <td>SS</td>\n      <td>GG</td>\n      <td>KSF</td>\n      <td>K</td>\n      <td>88.82</td>\n      <td>220.87</td>\n    </tr>\n    <tr>\n      <th>4</th>\n      <td>6</td>\n      <td>SH</td>\n      <td>10</td>\n      <td>2015</td>\n      <td>505020.3377</td>\n      <td>6080401.37</td>\n      <td>Geest - Nord</td>\n      <td>G</td>\n      <td>0</td>\n      <td>YU</td>\n      <td>aGGe-YU</td>\n      <td>GWS4</td>\n      <td>140</td>\n      <td>0.0</td>\n      <td>0.0</td>\n      <td>N0</td>\n      <td>NaN</td>\n      <td>GG</td>\n      <td>TSF</td>\n      <td>Z</td>\n      <td>62.97</td>\n      <td>84.35</td>\n    </tr>\n  </tbody>\n</table>\n</div>"
     },
     "execution_count": 11,
     "metadata": {},
     "output_type": "execute_result"
    }
   ],
   "source": [
    "# Join with table containing geographical infos\n",
    "df_loc = pd.read_csv(path_csv_locations, encoding='unicode_escape')\n",
    "df_loc = df_loc.rename({'PointID':'Point'},axis=1)\n",
    "print(len(df_loc))\n",
    "df_loc.head()"
   ],
   "metadata": {
    "collapsed": false,
    "pycharm": {
     "name": "#%%\n"
    }
   }
  },
  {
   "cell_type": "code",
   "execution_count": 12,
   "outputs": [
    {
     "data": {
      "text/plain": "16316"
     },
     "execution_count": 12,
     "metadata": {},
     "output_type": "execute_result"
    }
   ],
   "source": [
    "# There are some string artifacts when reading the Standort dataframe. Set them to NaN and remove the rows\n",
    "df_loc['Point'] = pd.to_numeric(df_loc['Point'], errors='coerce')\n",
    "df_loc = df_loc.dropna(subset=['Point'])\n",
    "df = pd.merge(df, df_loc, how='inner', on='Point')\n",
    "len(df)"
   ],
   "metadata": {
    "collapsed": false,
    "pycharm": {
     "name": "#%%\n"
    }
   }
  },
  {
   "cell_type": "markdown",
   "source": [
    "**Note** Size of df stays the same after merging with df_loc (Points in df_loc are all contained in Points df)."
   ],
   "metadata": {
    "collapsed": false
   }
  },
  {
   "cell_type": "code",
   "execution_count": 13,
   "outputs": [
    {
     "data": {
      "text/plain": "        Point  Obergrenze  Untergrenze Horizontsymbol_relevant Bodenart  \\\n0         2.0         0.0         28.0                      Ap      Sl2   \n1         2.0        28.0         54.0                       E      Sl2   \n2         2.0        54.0         68.0                      Bv      Sl2   \n3         2.0        68.0         96.0                  Bv-ilC     fSms   \n4         2.0        96.0        201.0                     ilC     mSfs   \n...       ...         ...          ...                     ...      ...   \n16311  6211.0        70.0        100.0                  Go-Bbs     fSms   \n16312  6211.0       100.0        130.0                      Go     fSms   \n16313  6211.0       100.0        130.0                      Go     fSms   \n16314  6211.0       130.0        155.0                      Gr     fSms   \n16315  6211.0       130.0        155.0                      Gr     fSms   \n\n      Bodenfarbe  Steine Karbonat Humusgehaltsklasse Durchwurzelung  \\\n0      7.5YR 3/2     3.0       C0                 h3            Wf4   \n1       10YR 3/3     3.0       C0                 h2            Wf3   \n2      7.5YR 4/3    10.0       C0                 h1            Wf3   \n3      7.5YR 6/4     1.0       C0                 h0            Wf2   \n4       10YR 7/4     1.0       C0                 h0            NaN   \n...          ...     ...      ...                ...            ...   \n16311  7.5YR 5/4     1.0       C0                 h1            Wf6   \n16312   2.5Y 6/4     1.0       C0                 h0            Wf4   \n16313   2.5Y 6/4     1.0       C0                 h0            Wf4   \n16314   2.5Y 5/4     1.0       C0                 h0            Wf2   \n16315   2.5Y 5/4     1.0       C0                 h0            Wf2   \n\n                                                    file  Probenahme_Monat  \\\n0      ../data/BGR/Profilbilder_no_ruler_no_sky/SH_00...                11   \n1      ../data/BGR/Profilbilder_no_ruler_no_sky/SH_00...                11   \n2      ../data/BGR/Profilbilder_no_ruler_no_sky/SH_00...                11   \n3      ../data/BGR/Profilbilder_no_ruler_no_sky/SH_00...                11   \n4      ../data/BGR/Profilbilder_no_ruler_no_sky/SH_00...                11   \n...                                                  ...               ...   \n16311  ../data/BGR/Profilbilder_no_ruler_no_sky/NI_62...                 6   \n16312  ../data/BGR/Profilbilder_no_ruler_no_sky/NI_62...                 6   \n16313  ../data/BGR/Profilbilder_no_ruler_no_sky/NI_62...                 6   \n16314  ../data/BGR/Profilbilder_no_ruler_no_sky/NI_62...                 6   \n16315  ../data/BGR/Profilbilder_no_ruler_no_sky/NI_62...                 6   \n\n       Probenahme_Jahr       xcoord       ycoord  \\\n0                 2015  462216.1283  6079359.775   \n1                 2015  462216.1283  6079359.775   \n2                 2015  462216.1283  6079359.775   \n3                 2015  462216.1283  6079359.775   \n4                 2015  462216.1283  6079359.775   \n...                ...          ...          ...   \n16311             2012  522076.9633  5930456.114   \n16312             2012  522076.9633  5930456.114   \n16313             2012  522076.9633  5930456.114   \n16314             2012  522076.9633  5930456.114   \n16315             2012  522076.9633  5930456.114   \n\n                      Bodenklimaraum_Name Landnutzung BZE_Moor Hauptbodentyp  \\\n0                           Marsch - Nord           A        0            YE   \n1                           Marsch - Nord           A        0            YE   \n2                           Marsch - Nord           A        0            YE   \n3                           Marsch - Nord           A        0            YE   \n4                           Marsch - Nord           A        0            YE   \n...                                   ...         ...      ...           ...   \n16311  Elbe-Weser-Dreieck / sandige Böden           G        0            PP   \n16312  Elbe-Weser-Dreieck / sandige Böden           G        0            PP   \n16313  Elbe-Weser-Dreieck / sandige Böden           G        0            PP   \n16314  Elbe-Weser-Dreieck / sandige Böden           G        0            PP   \n16315  Elbe-Weser-Dreieck / sandige Böden           G        0            PP   \n\n      BodenVarTypSub GrundwaStufe  GrundwaStand  Moormaechtigkeit  \\\n0              YE/BB            0         200.0               0.0   \n1              YE/BB            0         200.0               0.0   \n2              YE/BB            0         200.0               0.0   \n3              YE/BB            0         200.0               0.0   \n4              YE/BB            0         200.0               0.0   \n...              ...          ...           ...               ...   \n16311          GG-PP         GWS4         110.0               0.0   \n16312          GG-PP         GWS4         110.0               0.0   \n16313          GG-PP         GWS4         110.0               0.0   \n16314          GG-PP         GWS4         110.0               0.0   \n16315          GG-PP         GWS4         110.0               0.0   \n\n       Torfmaechtigkeit Neigung Exposition Woelbung Reliefformtyp  \\\n0                   0.0      N0        NaN       GG             V   \n1                   0.0      N0        NaN       GG             V   \n2                   0.0      N0        NaN       GG             V   \n3                   0.0      N0        NaN       GG             V   \n4                   0.0      N0        NaN       GG             V   \n...                 ...     ...        ...      ...           ...   \n16311               0.0      N0        NaN       GG           TSF   \n16312               0.0      N0        NaN       GG           TSF   \n16313               0.0      N0        NaN       GG           TSF   \n16314               0.0      N0        NaN       GG           TSF   \n16315               0.0      N0        NaN       GG           TSF   \n\n      LageImRelief  KV_0_30  KV_30_100  \n0                Z    81.89      54.19  \n1                Z    81.89      54.19  \n2                Z    81.89      54.19  \n3                Z    81.89      54.19  \n4                Z    81.89      54.19  \n...            ...      ...        ...  \n16311            T   117.59      87.72  \n16312            T   117.59      87.72  \n16313            T   117.59      87.72  \n16314            T   117.59      87.72  \n16315            T   117.59      87.72  \n\n[16316 rows x 31 columns]",
      "text/html": "<div>\n<style scoped>\n    .dataframe tbody tr th:only-of-type {\n        vertical-align: middle;\n    }\n\n    .dataframe tbody tr th {\n        vertical-align: top;\n    }\n\n    .dataframe thead th {\n        text-align: right;\n    }\n</style>\n<table border=\"1\" class=\"dataframe\">\n  <thead>\n    <tr style=\"text-align: right;\">\n      <th></th>\n      <th>Point</th>\n      <th>Obergrenze</th>\n      <th>Untergrenze</th>\n      <th>Horizontsymbol_relevant</th>\n      <th>Bodenart</th>\n      <th>Bodenfarbe</th>\n      <th>Steine</th>\n      <th>Karbonat</th>\n      <th>Humusgehaltsklasse</th>\n      <th>Durchwurzelung</th>\n      <th>file</th>\n      <th>Probenahme_Monat</th>\n      <th>Probenahme_Jahr</th>\n      <th>xcoord</th>\n      <th>ycoord</th>\n      <th>Bodenklimaraum_Name</th>\n      <th>Landnutzung</th>\n      <th>BZE_Moor</th>\n      <th>Hauptbodentyp</th>\n      <th>BodenVarTypSub</th>\n      <th>GrundwaStufe</th>\n      <th>GrundwaStand</th>\n      <th>Moormaechtigkeit</th>\n      <th>Torfmaechtigkeit</th>\n      <th>Neigung</th>\n      <th>Exposition</th>\n      <th>Woelbung</th>\n      <th>Reliefformtyp</th>\n      <th>LageImRelief</th>\n      <th>KV_0_30</th>\n      <th>KV_30_100</th>\n    </tr>\n  </thead>\n  <tbody>\n    <tr>\n      <th>0</th>\n      <td>2.0</td>\n      <td>0.0</td>\n      <td>28.0</td>\n      <td>Ap</td>\n      <td>Sl2</td>\n      <td>7.5YR 3/2</td>\n      <td>3.0</td>\n      <td>C0</td>\n      <td>h3</td>\n      <td>Wf4</td>\n      <td>../data/BGR/Profilbilder_no_ruler_no_sky/SH_00...</td>\n      <td>11</td>\n      <td>2015</td>\n      <td>462216.1283</td>\n      <td>6079359.775</td>\n      <td>Marsch - Nord</td>\n      <td>A</td>\n      <td>0</td>\n      <td>YE</td>\n      <td>YE/BB</td>\n      <td>0</td>\n      <td>200.0</td>\n      <td>0.0</td>\n      <td>0.0</td>\n      <td>N0</td>\n      <td>NaN</td>\n      <td>GG</td>\n      <td>V</td>\n      <td>Z</td>\n      <td>81.89</td>\n      <td>54.19</td>\n    </tr>\n    <tr>\n      <th>1</th>\n      <td>2.0</td>\n      <td>28.0</td>\n      <td>54.0</td>\n      <td>E</td>\n      <td>Sl2</td>\n      <td>10YR 3/3</td>\n      <td>3.0</td>\n      <td>C0</td>\n      <td>h2</td>\n      <td>Wf3</td>\n      <td>../data/BGR/Profilbilder_no_ruler_no_sky/SH_00...</td>\n      <td>11</td>\n      <td>2015</td>\n      <td>462216.1283</td>\n      <td>6079359.775</td>\n      <td>Marsch - Nord</td>\n      <td>A</td>\n      <td>0</td>\n      <td>YE</td>\n      <td>YE/BB</td>\n      <td>0</td>\n      <td>200.0</td>\n      <td>0.0</td>\n      <td>0.0</td>\n      <td>N0</td>\n      <td>NaN</td>\n      <td>GG</td>\n      <td>V</td>\n      <td>Z</td>\n      <td>81.89</td>\n      <td>54.19</td>\n    </tr>\n    <tr>\n      <th>2</th>\n      <td>2.0</td>\n      <td>54.0</td>\n      <td>68.0</td>\n      <td>Bv</td>\n      <td>Sl2</td>\n      <td>7.5YR 4/3</td>\n      <td>10.0</td>\n      <td>C0</td>\n      <td>h1</td>\n      <td>Wf3</td>\n      <td>../data/BGR/Profilbilder_no_ruler_no_sky/SH_00...</td>\n      <td>11</td>\n      <td>2015</td>\n      <td>462216.1283</td>\n      <td>6079359.775</td>\n      <td>Marsch - Nord</td>\n      <td>A</td>\n      <td>0</td>\n      <td>YE</td>\n      <td>YE/BB</td>\n      <td>0</td>\n      <td>200.0</td>\n      <td>0.0</td>\n      <td>0.0</td>\n      <td>N0</td>\n      <td>NaN</td>\n      <td>GG</td>\n      <td>V</td>\n      <td>Z</td>\n      <td>81.89</td>\n      <td>54.19</td>\n    </tr>\n    <tr>\n      <th>3</th>\n      <td>2.0</td>\n      <td>68.0</td>\n      <td>96.0</td>\n      <td>Bv-ilC</td>\n      <td>fSms</td>\n      <td>7.5YR 6/4</td>\n      <td>1.0</td>\n      <td>C0</td>\n      <td>h0</td>\n      <td>Wf2</td>\n      <td>../data/BGR/Profilbilder_no_ruler_no_sky/SH_00...</td>\n      <td>11</td>\n      <td>2015</td>\n      <td>462216.1283</td>\n      <td>6079359.775</td>\n      <td>Marsch - Nord</td>\n      <td>A</td>\n      <td>0</td>\n      <td>YE</td>\n      <td>YE/BB</td>\n      <td>0</td>\n      <td>200.0</td>\n      <td>0.0</td>\n      <td>0.0</td>\n      <td>N0</td>\n      <td>NaN</td>\n      <td>GG</td>\n      <td>V</td>\n      <td>Z</td>\n      <td>81.89</td>\n      <td>54.19</td>\n    </tr>\n    <tr>\n      <th>4</th>\n      <td>2.0</td>\n      <td>96.0</td>\n      <td>201.0</td>\n      <td>ilC</td>\n      <td>mSfs</td>\n      <td>10YR 7/4</td>\n      <td>1.0</td>\n      <td>C0</td>\n      <td>h0</td>\n      <td>NaN</td>\n      <td>../data/BGR/Profilbilder_no_ruler_no_sky/SH_00...</td>\n      <td>11</td>\n      <td>2015</td>\n      <td>462216.1283</td>\n      <td>6079359.775</td>\n      <td>Marsch - Nord</td>\n      <td>A</td>\n      <td>0</td>\n      <td>YE</td>\n      <td>YE/BB</td>\n      <td>0</td>\n      <td>200.0</td>\n      <td>0.0</td>\n      <td>0.0</td>\n      <td>N0</td>\n      <td>NaN</td>\n      <td>GG</td>\n      <td>V</td>\n      <td>Z</td>\n      <td>81.89</td>\n      <td>54.19</td>\n    </tr>\n    <tr>\n      <th>...</th>\n      <td>...</td>\n      <td>...</td>\n      <td>...</td>\n      <td>...</td>\n      <td>...</td>\n      <td>...</td>\n      <td>...</td>\n      <td>...</td>\n      <td>...</td>\n      <td>...</td>\n      <td>...</td>\n      <td>...</td>\n      <td>...</td>\n      <td>...</td>\n      <td>...</td>\n      <td>...</td>\n      <td>...</td>\n      <td>...</td>\n      <td>...</td>\n      <td>...</td>\n      <td>...</td>\n      <td>...</td>\n      <td>...</td>\n      <td>...</td>\n      <td>...</td>\n      <td>...</td>\n      <td>...</td>\n      <td>...</td>\n      <td>...</td>\n      <td>...</td>\n      <td>...</td>\n    </tr>\n    <tr>\n      <th>16311</th>\n      <td>6211.0</td>\n      <td>70.0</td>\n      <td>100.0</td>\n      <td>Go-Bbs</td>\n      <td>fSms</td>\n      <td>7.5YR 5/4</td>\n      <td>1.0</td>\n      <td>C0</td>\n      <td>h1</td>\n      <td>Wf6</td>\n      <td>../data/BGR/Profilbilder_no_ruler_no_sky/NI_62...</td>\n      <td>6</td>\n      <td>2012</td>\n      <td>522076.9633</td>\n      <td>5930456.114</td>\n      <td>Elbe-Weser-Dreieck / sandige Böden</td>\n      <td>G</td>\n      <td>0</td>\n      <td>PP</td>\n      <td>GG-PP</td>\n      <td>GWS4</td>\n      <td>110.0</td>\n      <td>0.0</td>\n      <td>0.0</td>\n      <td>N0</td>\n      <td>NaN</td>\n      <td>GG</td>\n      <td>TSF</td>\n      <td>T</td>\n      <td>117.59</td>\n      <td>87.72</td>\n    </tr>\n    <tr>\n      <th>16312</th>\n      <td>6211.0</td>\n      <td>100.0</td>\n      <td>130.0</td>\n      <td>Go</td>\n      <td>fSms</td>\n      <td>2.5Y 6/4</td>\n      <td>1.0</td>\n      <td>C0</td>\n      <td>h0</td>\n      <td>Wf4</td>\n      <td>../data/BGR/Profilbilder_no_ruler_no_sky/NI_62...</td>\n      <td>6</td>\n      <td>2012</td>\n      <td>522076.9633</td>\n      <td>5930456.114</td>\n      <td>Elbe-Weser-Dreieck / sandige Böden</td>\n      <td>G</td>\n      <td>0</td>\n      <td>PP</td>\n      <td>GG-PP</td>\n      <td>GWS4</td>\n      <td>110.0</td>\n      <td>0.0</td>\n      <td>0.0</td>\n      <td>N0</td>\n      <td>NaN</td>\n      <td>GG</td>\n      <td>TSF</td>\n      <td>T</td>\n      <td>117.59</td>\n      <td>87.72</td>\n    </tr>\n    <tr>\n      <th>16313</th>\n      <td>6211.0</td>\n      <td>100.0</td>\n      <td>130.0</td>\n      <td>Go</td>\n      <td>fSms</td>\n      <td>2.5Y 6/4</td>\n      <td>1.0</td>\n      <td>C0</td>\n      <td>h0</td>\n      <td>Wf4</td>\n      <td>../data/BGR/Profilbilder_no_ruler_no_sky/NI_62...</td>\n      <td>6</td>\n      <td>2012</td>\n      <td>522076.9633</td>\n      <td>5930456.114</td>\n      <td>Elbe-Weser-Dreieck / sandige Böden</td>\n      <td>G</td>\n      <td>0</td>\n      <td>PP</td>\n      <td>GG-PP</td>\n      <td>GWS4</td>\n      <td>110.0</td>\n      <td>0.0</td>\n      <td>0.0</td>\n      <td>N0</td>\n      <td>NaN</td>\n      <td>GG</td>\n      <td>TSF</td>\n      <td>T</td>\n      <td>117.59</td>\n      <td>87.72</td>\n    </tr>\n    <tr>\n      <th>16314</th>\n      <td>6211.0</td>\n      <td>130.0</td>\n      <td>155.0</td>\n      <td>Gr</td>\n      <td>fSms</td>\n      <td>2.5Y 5/4</td>\n      <td>1.0</td>\n      <td>C0</td>\n      <td>h0</td>\n      <td>Wf2</td>\n      <td>../data/BGR/Profilbilder_no_ruler_no_sky/NI_62...</td>\n      <td>6</td>\n      <td>2012</td>\n      <td>522076.9633</td>\n      <td>5930456.114</td>\n      <td>Elbe-Weser-Dreieck / sandige Böden</td>\n      <td>G</td>\n      <td>0</td>\n      <td>PP</td>\n      <td>GG-PP</td>\n      <td>GWS4</td>\n      <td>110.0</td>\n      <td>0.0</td>\n      <td>0.0</td>\n      <td>N0</td>\n      <td>NaN</td>\n      <td>GG</td>\n      <td>TSF</td>\n      <td>T</td>\n      <td>117.59</td>\n      <td>87.72</td>\n    </tr>\n    <tr>\n      <th>16315</th>\n      <td>6211.0</td>\n      <td>130.0</td>\n      <td>155.0</td>\n      <td>Gr</td>\n      <td>fSms</td>\n      <td>2.5Y 5/4</td>\n      <td>1.0</td>\n      <td>C0</td>\n      <td>h0</td>\n      <td>Wf2</td>\n      <td>../data/BGR/Profilbilder_no_ruler_no_sky/NI_62...</td>\n      <td>6</td>\n      <td>2012</td>\n      <td>522076.9633</td>\n      <td>5930456.114</td>\n      <td>Elbe-Weser-Dreieck / sandige Böden</td>\n      <td>G</td>\n      <td>0</td>\n      <td>PP</td>\n      <td>GG-PP</td>\n      <td>GWS4</td>\n      <td>110.0</td>\n      <td>0.0</td>\n      <td>0.0</td>\n      <td>N0</td>\n      <td>NaN</td>\n      <td>GG</td>\n      <td>TSF</td>\n      <td>T</td>\n      <td>117.59</td>\n      <td>87.72</td>\n    </tr>\n  </tbody>\n</table>\n<p>16316 rows × 31 columns</p>\n</div>"
     },
     "execution_count": 13,
     "metadata": {},
     "output_type": "execute_result"
    }
   ],
   "source": [
    "# Decide on which columns to keep for training\n",
    "keep_columns = ['Point', #'HorizontID',\n",
    "                'Obergrenze', 'Untergrenze',\n",
    "                #'Horizontsymbol',\n",
    "                'Horizontsymbol_relevant',\n",
    "                #'Horizont_cluster',\n",
    "                'Bodenart', 'Bodenfarbe', 'Steine', 'Karbonat', 'Humusgehaltsklasse', 'Durchwurzelung',\n",
    "                #'max_depth', # not needed for training (and also has mostly NaNs)\n",
    "                'file',\n",
    "                #'Aufnehmer', # only when merged with annotators\n",
    "                'Probenahme_Monat', 'Probenahme_Jahr', 'xcoord', 'ycoord', 'Bodenklimaraum_Name',\n",
    "                'Landnutzung', 'BZE_Moor', 'Hauptbodentyp', 'BodenVarTypSub', 'GrundwaStufe', 'GrundwaStand', 'Moormaechtigkeit',\n",
    "                'Torfmaechtigkeit', 'Neigung', 'Exposition', 'Woelbung', 'Reliefformtyp', 'LageImRelief', 'KV_0_30', 'KV_30_100']\n",
    "df = df[keep_columns]\n",
    "df['GrundwaStand'] = df['GrundwaStand'].str.replace('>','').astype(float)\n",
    "df['ycoord'] = df['ycoord'].astype(float)\n",
    "df"
   ],
   "metadata": {
    "collapsed": false,
    "pycharm": {
     "name": "#%%\n"
    }
   }
  },
  {
   "cell_type": "code",
   "execution_count": 14,
   "outputs": [
    {
     "data": {
      "text/plain": "13621"
     },
     "execution_count": 14,
     "metadata": {},
     "output_type": "execute_result"
    }
   ],
   "source": [
    "# Profile images only show horizons up to ~1 meter depth\n",
    "# Note: Filter only necessary when joining table with whole images, not horizon segments\n",
    "df = df[df['Obergrenze'] < 100]\n",
    "len(df)"
   ],
   "metadata": {
    "collapsed": false,
    "pycharm": {
     "name": "#%%\n"
    }
   }
  },
  {
   "cell_type": "markdown",
   "source": [
    "#### Imputation"
   ],
   "metadata": {
    "collapsed": false
   }
  },
  {
   "cell_type": "code",
   "execution_count": 15,
   "outputs": [
    {
     "name": "stderr",
     "output_type": "stream",
     "text": [
      "/tmp/ipykernel_1227360/1919224170.py:2: SettingWithCopyWarning: \n",
      "A value is trying to be set on a copy of a slice from a DataFrame.\n",
      "Try using .loc[row_indexer,col_indexer] = value instead\n",
      "\n",
      "See the caveats in the documentation: https://pandas.pydata.org/pandas-docs/stable/user_guide/indexing.html#returning-a-view-versus-a-copy\n",
      "  df['Steine'] = df['Steine'].fillna(0.0)\n",
      "/tmp/ipykernel_1227360/1919224170.py:3: SettingWithCopyWarning: \n",
      "A value is trying to be set on a copy of a slice from a DataFrame.\n",
      "Try using .loc[row_indexer,col_indexer] = value instead\n",
      "\n",
      "See the caveats in the documentation: https://pandas.pydata.org/pandas-docs/stable/user_guide/indexing.html#returning-a-view-versus-a-copy\n",
      "  df['Durchwurzelung'] = df['Durchwurzelung'].fillna('Wf0')\n",
      "/tmp/ipykernel_1227360/1919224170.py:4: SettingWithCopyWarning: \n",
      "A value is trying to be set on a copy of a slice from a DataFrame.\n",
      "Try using .loc[row_indexer,col_indexer] = value instead\n",
      "\n",
      "See the caveats in the documentation: https://pandas.pydata.org/pandas-docs/stable/user_guide/indexing.html#returning-a-view-versus-a-copy\n",
      "  df['Durchwurzelung'] = df['Durchwurzelung'].str.split(',').str[0] # Some values have double labels; only keep the first one\n",
      "/tmp/ipykernel_1227360/1919224170.py:5: SettingWithCopyWarning: \n",
      "A value is trying to be set on a copy of a slice from a DataFrame.\n",
      "Try using .loc[row_indexer,col_indexer] = value instead\n",
      "\n",
      "See the caveats in the documentation: https://pandas.pydata.org/pandas-docs/stable/user_guide/indexing.html#returning-a-view-versus-a-copy\n",
      "  df['Exposition'] = df['Exposition'].replace(['0', '---'], 'KE') # KE = Keine\n"
     ]
    }
   ],
   "source": [
    "# Replace some of the missing values with recommendations from geology\n",
    "df['Steine'] = df['Steine'].fillna(0.0)\n",
    "df['Durchwurzelung'] = df['Durchwurzelung'].fillna('Wf0')\n",
    "df['Durchwurzelung'] = df['Durchwurzelung'].str.split(',').str[0] # Some values have double labels; only keep the first one\n",
    "df['Exposition'] = df['Exposition'].replace(['0', '---'], 'KE') # KE = Keine\n",
    "df.loc[df['Exposition'].isna() & (df['Neigung'] == 'N0'), 'Exposition'] = 'KE' # NaN-Exposition should be 'KE', when Neigung is N0 (there will still be some other NaNs in Exposition"
   ],
   "metadata": {
    "collapsed": false,
    "pycharm": {
     "name": "#%%\n"
    }
   }
  },
  {
   "cell_type": "markdown",
   "source": [
    "#### Features and Labels Encoding"
   ],
   "metadata": {
    "collapsed": false
   }
  },
  {
   "cell_type": "code",
   "execution_count": 16,
   "outputs": [],
   "source": [
    "target = 'Horizontsymbol_relevant' #'Horizont_cluster'\n",
    "num_features   = ['xcoord','ycoord', 'Steine', 'GrundwaStand', 'Moormaechtigkeit', 'Torfmaechtigkeit', 'KV_0_30', 'KV_30_100']\n",
    "categ_features = ['Probenahme_Monat', 'Probenahme_Jahr',\n",
    "                  'Bodenart', 'Bodenfarbe', 'Karbonat', 'Humusgehaltsklasse', 'Durchwurzelung', 'Bodenklimaraum_Name',\n",
    "                  'Landnutzung', 'BZE_Moor', 'Hauptbodentyp', 'BodenVarTypSub', 'GrundwaStufe', 'Neigung',\n",
    "                  'Exposition', 'Woelbung', 'Reliefformtyp', 'LageImRelief']\n",
    "feature_columns = num_features + categ_features"
   ],
   "metadata": {
    "collapsed": false,
    "pycharm": {
     "name": "#%%\n"
    }
   }
  },
  {
   "cell_type": "code",
   "execution_count": 17,
   "outputs": [
    {
     "data": {
      "text/plain": "Horizontsymbol_relevant\nAp         2399\nAh          742\nBv          546\nSd          483\nGo          403\n           ... \nBsh-Bv        1\nilC+Ap        1\nM-Gkso        1\naAh°Gor       1\naAcp2         1\nName: count, Length: 1568, dtype: int64"
     },
     "execution_count": 17,
     "metadata": {},
     "output_type": "execute_result"
    }
   ],
   "source": [
    "counts = df[target].value_counts()\n",
    "counts"
   ],
   "metadata": {
    "collapsed": false,
    "pycharm": {
     "name": "#%%\n"
    }
   }
  },
  {
   "cell_type": "code",
   "execution_count": 18,
   "outputs": [
    {
     "name": "stdout",
     "output_type": "stream",
     "text": [
      "(87, 61)\n"
     ]
    },
    {
     "data": {
      "text/plain": "{'ind2label': ['ilC',\n  'Ael',\n  'Sd',\n  'C.',\n  'imCv',\n  'E.',\n  'emC',\n  'cC',\n  'clC',\n  'ilCbtv',\n  'aelC',\n  'Cv',\n  'Bsh',\n  'Axh',\n  'Bhv',\n  'P.',\n  'Bvt',\n  'Acxh',\n  'Gro',\n  'iC',\n  'tGro',\n  'Go',\n  'Ap',\n  'Gw',\n  'Aep',\n  'cmC',\n  'imC',\n  'Ssw',\n  'Mc',\n  'Hw',\n  'Acp',\n  'mCv',\n  'Bv',\n  'Sswd',\n  'elC',\n  'lC',\n  'Aeh',\n  'Bhs',\n  'Cj',\n  'tGr',\n  'Axp',\n  'bE',\n  'Gr',\n  'Gkso',\n  'Gor',\n  'M.',\n  'Bsv',\n  'Sw',\n  'Bt',\n  'Bcv',\n  'Btv',\n  'Hr',\n  'Hv',\n  'elCc',\n  'Bs',\n  'R.',\n  'tGo',\n  'Bh',\n  'Ah',\n  'Cbtv',\n  'Al',\n  'Sw-Bv',\n  'Bv-ilC',\n  'Bt-Sd',\n  'Bv-Cv',\n  'Sd-ilC',\n  'Al-Sw',\n  'Al-Bv',\n  'M-Go',\n  'Ael-Bt',\n  'Ah-Bv',\n  'Sw-M',\n  'Sw-Ap',\n  'Bv-Ael',\n  'Go-ilC',\n  'elC-P',\n  'Sd-Bv',\n  'Sw-ilC',\n  'Al-Bt',\n  'Sw-Ah',\n  'P-Sd',\n  'Sd-lC',\n  'Sw-Go',\n  'Sw-Bt',\n  'Sd-Btv',\n  'Bv-elC',\n  'M-Gro'],\n 'label2ind': {'ilC': 0,\n  'Ael': 1,\n  'Sd': 2,\n  'C.': 3,\n  'imCv': 4,\n  'E.': 5,\n  'emC': 6,\n  'cC': 7,\n  'clC': 8,\n  'ilCbtv': 9,\n  'aelC': 10,\n  'Cv': 11,\n  'Bsh': 12,\n  'Axh': 13,\n  'Bhv': 14,\n  'P.': 15,\n  'Bvt': 16,\n  'Acxh': 17,\n  'Gro': 18,\n  'iC': 19,\n  'tGro': 20,\n  'Go': 21,\n  'Ap': 22,\n  'Gw': 23,\n  'Aep': 24,\n  'cmC': 25,\n  'imC': 26,\n  'Ssw': 27,\n  'Mc': 28,\n  'Hw': 29,\n  'Acp': 30,\n  'mCv': 31,\n  'Bv': 32,\n  'Sswd': 33,\n  'elC': 34,\n  'lC': 35,\n  'Aeh': 36,\n  'Bhs': 37,\n  'Cj': 38,\n  'tGr': 39,\n  'Axp': 40,\n  'bE': 41,\n  'Gr': 42,\n  'Gkso': 43,\n  'Gor': 44,\n  'M.': 45,\n  'Bsv': 46,\n  'Sw': 47,\n  'Bt': 48,\n  'Bcv': 49,\n  'Btv': 50,\n  'Hr': 51,\n  'Hv': 52,\n  'elCc': 53,\n  'Bs': 54,\n  'R.': 55,\n  'tGo': 56,\n  'Bh': 57,\n  'Ah': 58,\n  'Cbtv': 59,\n  'Al': 60,\n  'Sw-Bv': 61,\n  'Bv-ilC': 62,\n  'Bt-Sd': 63,\n  'Bv-Cv': 64,\n  'Sd-ilC': 65,\n  'Al-Sw': 66,\n  'Al-Bv': 67,\n  'M-Go': 68,\n  'Ael-Bt': 69,\n  'Ah-Bv': 70,\n  'Sw-M': 71,\n  'Sw-Ap': 72,\n  'Bv-Ael': 73,\n  'Go-ilC': 74,\n  'elC-P': 75,\n  'Sd-Bv': 76,\n  'Sw-ilC': 77,\n  'Al-Bt': 78,\n  'Sw-Ah': 79,\n  'P-Sd': 80,\n  'Sd-lC': 81,\n  'Sw-Go': 82,\n  'Sw-Bt': 83,\n  'Sd-Btv': 84,\n  'Bv-elC': 85,\n  'M-Gro': 86},\n 'embedding': array([[1.  , 0.  , 0.  , ..., 0.  , 0.  , 0.  ],\n        [0.  , 1.  , 0.  , ..., 0.  , 0.  , 0.  ],\n        [0.  , 0.  , 1.  , ..., 0.  , 0.  , 0.  ],\n        ...,\n        [0.  , 0.  , 0.5 , ..., 0.  , 0.  , 0.  ],\n        [0.25, 0.  , 0.  , ..., 0.  , 0.  , 0.  ],\n        [0.  , 0.  , 0.  , ..., 0.  , 0.  , 0.  ]])}"
     },
     "execution_count": 18,
     "metadata": {},
     "output_type": "execute_result"
    }
   ],
   "source": [
    "# If already computed, load the HCE embeddings for the labels (see Label_Graph.ipynb)\n",
    "with open('./BGR/label_embeddings/all_horizons_embeddings.pickle', 'rb') as handle:\n",
    "    emb_dict = pickle.load(handle)\n",
    "print(np.shape(emb_dict['embedding']))\n",
    "emb_dict"
   ],
   "metadata": {
    "collapsed": false,
    "pycharm": {
     "name": "#%%\n"
    }
   }
  },
  {
   "cell_type": "code",
   "execution_count": 19,
   "outputs": [
    {
     "data": {
      "text/plain": "{'ilC': 0,\n 'Ael': 1,\n 'Sd': 2,\n 'C': 3,\n 'imCv': 4,\n 'E': 5,\n 'emC': 6,\n 'cC': 7,\n 'clC': 8,\n 'ilCbtv': 9,\n 'aelC': 10,\n 'Cv': 11,\n 'Bsh': 12,\n 'Axh': 13,\n 'Bhv': 14,\n 'P': 15,\n 'Bvt': 16,\n 'Acxh': 17,\n 'Gro': 18,\n 'iC': 19,\n 'tGro': 20,\n 'Go': 21,\n 'Ap': 22,\n 'Gw': 23,\n 'Aep': 24,\n 'cmC': 25,\n 'imC': 26,\n 'Ssw': 27,\n 'Mc': 28,\n 'Hw': 29,\n 'Acp': 30,\n 'mCv': 31,\n 'Bv': 32,\n 'Sswd': 33,\n 'elC': 34,\n 'lC': 35,\n 'Aeh': 36,\n 'Bhs': 37,\n 'Cj': 38,\n 'tGr': 39,\n 'Axp': 40,\n 'bE': 41,\n 'Gr': 42,\n 'Gkso': 43,\n 'Gor': 44,\n 'M': 45,\n 'Bsv': 46,\n 'Sw': 47,\n 'Bt': 48,\n 'Bcv': 49,\n 'Btv': 50,\n 'Hr': 51,\n 'Hv': 52,\n 'elCc': 53,\n 'Bs': 54,\n 'R': 55,\n 'tGo': 56,\n 'Bh': 57,\n 'Ah': 58,\n 'Cbtv': 59,\n 'Al': 60,\n 'Sw-Bv': 61,\n 'Bv-ilC': 62,\n 'Bt-Sd': 63,\n 'Bv-Cv': 64,\n 'Sd-ilC': 65,\n 'Al-Sw': 66,\n 'Al-Bv': 67,\n 'M-Go': 68,\n 'Ael-Bt': 69,\n 'Ah-Bv': 70,\n 'Sw-M': 71,\n 'Sw-Ap': 72,\n 'Bv-Ael': 73,\n 'Go-ilC': 74,\n 'elC-P': 75,\n 'Sd-Bv': 76,\n 'Sw-ilC': 77,\n 'Al-Bt': 78,\n 'Sw-Ah': 79,\n 'P-Sd': 80,\n 'Sd-lC': 81,\n 'Sw-Go': 82,\n 'Sw-Bt': 83,\n 'Sd-Btv': 84,\n 'Bv-elC': 85,\n 'M-Gro': 86}"
     },
     "execution_count": 19,
     "metadata": {},
     "output_type": "execute_result"
    }
   ],
   "source": [
    "# For HCE: create separate dict where labels made out only of main symbols are stripped of the full stop '.'\n",
    "# Note: We will use the label indexes from the embedding dictionary instead of a new sparse one-hot encoding to ease access to the embedding vectors during training via the original indexes from the emb_dict\n",
    "dict_mapping = {}\n",
    "for key, value in emb_dict['label2ind'].items():\n",
    "    dict_mapping[key.strip('.')] = value\n",
    "dict_mapping"
   ],
   "metadata": {
    "collapsed": false,
    "pycharm": {
     "name": "#%%\n"
    }
   }
  },
  {
   "cell_type": "code",
   "execution_count": 20,
   "outputs": [
    {
     "name": "stderr",
     "output_type": "stream",
     "text": [
      "/tmp/ipykernel_1227360/1744044841.py:2: SettingWithCopyWarning: \n",
      "A value is trying to be set on a copy of a slice from a DataFrame.\n",
      "Try using .loc[row_indexer,col_indexer] = value instead\n",
      "\n",
      "See the caveats in the documentation: https://pandas.pydata.org/pandas-docs/stable/user_guide/indexing.html#returning-a-view-versus-a-copy\n",
      "  df[target] = df[target].str.replace('+', '-', regex=False)\n",
      "/tmp/ipykernel_1227360/1744044841.py:3: SettingWithCopyWarning: \n",
      "A value is trying to be set on a copy of a slice from a DataFrame.\n",
      "Try using .loc[row_indexer,col_indexer] = value instead\n",
      "\n",
      "See the caveats in the documentation: https://pandas.pydata.org/pandas-docs/stable/user_guide/indexing.html#returning-a-view-versus-a-copy\n",
      "  df[target] = df[target].str.replace('°', '-', regex=False) # also these, so that there is only one type of mixtures (the minus-mixture)\n",
      "/tmp/ipykernel_1227360/1744044841.py:5: SettingWithCopyWarning: \n",
      "A value is trying to be set on a copy of a slice from a DataFrame.\n",
      "Try using .loc[row_indexer,col_indexer] = value instead\n",
      "\n",
      "See the caveats in the documentation: https://pandas.pydata.org/pandas-docs/stable/user_guide/indexing.html#returning-a-view-versus-a-copy\n",
      "  df[target] = df[target].str.replace(r'\\d+$', '', regex=True)\n"
     ]
    }
   ],
   "source": [
    "# Replace '+' with '-' in the target column (see Label_Graph.ipynb)\n",
    "df[target] = df[target].str.replace('+', '-', regex=False)\n",
    "df[target] = df[target].str.replace('°', '-', regex=False) # also these, so that there is only one type of mixtures (the minus-mixture)\n",
    "# Remove trailing numbers from the labels in the target column (they only account for how often the horizon is seen in the same picture)\n",
    "df[target] = df[target].str.replace(r'\\d+$', '', regex=True)"
   ],
   "metadata": {
    "collapsed": false,
    "pycharm": {
     "name": "#%%\n"
    }
   }
  },
  {
   "cell_type": "code",
   "execution_count": 21,
   "outputs": [
    {
     "data": {
      "text/plain": "{'Ap': 'Ap',\n 'E': 'E',\n 'Bv': 'Bv',\n 'Bv-ilC': 'Bv-ilC',\n 'ilC': 'ilC',\n 'tSw-Ah': 'Sw-Ah',\n 'tSw-Ap': 'Sw-Ap',\n 'tGo-Sw': 'tGo',\n 'tGo-Sd': 'tGo',\n 'Sw-tAp': 'Sw-Ap',\n 'tSq': 'Sd',\n 'tGro': 'tGro',\n 'Aeh': 'Aeh',\n 'Aep': 'Aep',\n 'oCv': 'Cv',\n 'fOh': 'Bsh',\n 'Ae': 'Ael',\n 'Bsh-Go': 'Bsh',\n 'Bs-Go': 'M-Go',\n 'R-Ah': 'Ah',\n 'R-Gso-Gr': 'Gor',\n 'R-Gr-Gso': 'M-Gro',\n 'R-Go-Gso': 'Gkso',\n 'tbSq': 'Sd',\n 'tGor': 'tGr',\n 'tAp-Go': 'tGo',\n 'Ah-ilCv': 'Bv-ilC',\n 'Aeh-Go': 'Aeh',\n 'Bs-Gw': 'Bsh',\n 'Go-Bhs': 'Bhs',\n 'Go-Ap': 'Sw-Ap',\n 'Go': 'Go',\n 'Gor': 'Gor',\n 'Gr': 'Gr',\n 'Gw': 'Gw',\n 'ilC-Bsh-Bs': 'ilC',\n 'Bhs-ilC': 'Bv-ilC',\n 'M': 'M',\n 'tAp': 'Ap',\n 'tGo': 'tGo',\n 'Hw': 'Hw',\n 'fnHr': 'Hr',\n 'tGo-Ap': 'tGo',\n 'Gro': 'Gro',\n 'Bh-Gw': 'Bhv',\n 'Bhs-Bs': 'Bhs',\n 'Bhs-Go': 'Bhs',\n 'Bhs': 'Bhs',\n 'Sw-Bs': 'Sw-Bv',\n 'Sd': 'Sd',\n 'Sw': 'Sw',\n 'Ap-Al': 'Ael',\n 'Bt-Sd': 'Bt-Sd',\n 'Al-Sw': 'Al-Sw',\n 'Ah': 'Ah',\n 'Swd': 'Sd',\n 'Bh-Aeh': 'Bv-Ael',\n 'Bsh': 'Bsh',\n 'Bs': 'Bs',\n 'Bbs-ilCv': 'Bv-ilC',\n 'Bbh-Bs-ilCv': 'Bv-ilC',\n 'Sd-Bv': 'Sd-Bv',\n 'Cv': 'Cv',\n 'ilC-Sw': 'Al-Sw',\n 'Bv-Sw': 'Bt-Sd',\n 'Sw-Al': 'Sw-Ap',\n 'Sd-Bt': 'Sd-Bv',\n 'tmeGo': 'tGo',\n 'Sw-Bhs-Ae': 'Sw-Bv',\n 'Bs-Sw': 'Bt-Sd',\n 'Bs-ilC': 'Bv-ilC',\n 'R-Go-Bsh': 'Bsh',\n 'Bv-Alh': 'Bv-ilC',\n 'Bvt': 'Bvt',\n 'Sw-Ap': 'Sw-Ap',\n 'Sd-Ap': 'Sw-Ap',\n 'Bv-Ah': 'Bv-Cv',\n 'ilC-Bv': 'ilCbtv',\n 'Bhs-Sw': 'Bhs',\n 'C-Ap': 'Ap',\n 'Bsv': 'Bsv',\n 'eSwd': 'Sd',\n 'Ap-Sw': 'Al-Sw',\n 'tGo-Ah': 'tGo',\n 'fnHw': 'Hw',\n 'Sw-ilC': 'Sw-ilC',\n 'Hv': 'Hv',\n 'Hr': 'Hr',\n 'Al': 'Al',\n 'Sw-M': 'Sw-M',\n 'Bv-Al': 'Bv-Ael',\n 'Bt': 'Bt',\n 'Axp': 'Axp',\n 'Axh': 'Axh',\n 'Axh-Sw': 'Al-Sw',\n 'elC': 'elC',\n 'Sd-lC': 'Sd-lC',\n 'Sd-ilC': 'Sd-ilC',\n 'tGr': 'tGr',\n 'tbGo': 'tGo',\n 'nHv': 'Hv',\n 'Swd-ilCv': 'Sd-ilC',\n 'Go-Aa': 'Go',\n 'Sdw-Bvt': 'Sw-Bv',\n 'Sw-Bv': 'Sw-Bv',\n 'Go-Ah': 'Sw-Ah',\n 'tbGor': 'tGr',\n 'tAh-Sd': 'Bt-Sd',\n 'Hv-Ah': 'Sw-Ah',\n 'lC-Hv': 'ilCbtv',\n 'tGr-Hr': 'tGro',\n 'toGr': 'tGr',\n 'Hm': 'Hw',\n 'Ha': 'Hw',\n 'Ae-Gw': 'Al-Sw',\n 'Ae-Bh-Gw': 'Aeh',\n 'Ah-Gr': 'Ah-Bv',\n 'Bsh-Gr': 'Bsh',\n 'R-Sw-Ap': 'Sw-Ap',\n 'R-Ah-Sw': 'Al-Sw',\n 'Go-Bs': 'Go',\n 'Ap-Swd': 'Al-Sw',\n 'M-Sw': 'Sw',\n 'Sw-Bt': 'Sw-Bt',\n 'Ap-Bt': 'Al-Bt',\n 'Aa': 'Ap',\n 'eSd': 'Sd',\n 'Ah-Go': 'M-Go',\n 'Al-Bv': 'Al-Bv',\n 'Btv': 'Btv',\n 'tSd-Go': 'Sw-Go',\n 'tSd-tGo': 'Sw-Go',\n 'Ahe': 'Ah',\n 'R-Ah-Bsh': 'Ah-Bv',\n 'ilCbtv': 'ilCbtv',\n 'Sw-Ah': 'Sw-Ah',\n 'Ah-Sd': 'Bt-Sd',\n 'P-Sd': 'P-Sd',\n 'Ah-Sw': 'Al-Sw',\n 'Sw-Bt-Al': 'Sw-Bt',\n 'Sw-Sd': 'Sw-Bv',\n 'Al-Bt-Swd': 'Bt-Sd',\n 'Bhv': 'Bhv',\n 'Bt-Al': 'Bt-Sd',\n 'tAh': 'Ah',\n 'Hv-Go': 'M-Go',\n 'Ae-Go': 'M-Go',\n 'Bh-Go': 'M-Go',\n 'Ae-Bh': 'Aeh',\n 'Bhs-Ssw': 'Ssw',\n 'hHv': 'Hv',\n 'Bbt-Bv': 'Btv',\n 'Bbt-ilC': 'Bv-ilC',\n 'Acp': 'Acp',\n 'Bt-Cv': 'Bv-Cv',\n 'Alh': 'Axh',\n 'Bh-Ae': 'Bv-Ael',\n 'Ae-Bs-Bh': 'Ael-Bt',\n 'Al-Bt': 'Al-Bt',\n 'lCv': 'Cv',\n 'Gho': 'Gro',\n 'Bs-ilCv': 'Bv-ilC',\n 'R': 'R',\n 'ilCv': 'ilC',\n 'M-Go': 'M-Go',\n 'Fr-Hw-Hr': 'Hw',\n 'Fr': 'Gr',\n 'R-Bhs': 'Bhs',\n 'Bbh': 'Bsh',\n 'Bv-M': 'Bvt',\n 'Ap-Al-Bv': 'Al-Bv',\n 'Sw-Btv': 'Sw-Bv',\n 'R-eSwd': 'P-Sd',\n 'Ah-Bv': 'Ah-Bv',\n 'Cbtv': 'Cbtv',\n 'ilC-Bbt': 'ilCbtv',\n 'Hp': 'Ap',\n 'Hca': 'cC',\n 'Hcw': 'Hw',\n 'Hcr': 'Hr',\n 'Ahl-Bv': 'Al-Bv',\n 'Ael': 'Ael',\n 'Ael-Bt': 'Ael-Bt',\n 'eAp': 'Ap',\n 'ijlCv': 'ilC',\n 'Go-Ahe': 'Go-ilC',\n 'Bt-Al-Sw': 'Al-Sw',\n 'Ahl': 'Ael',\n 'Sd-Btv': 'Sd-Btv',\n 'Bv-Ael-Sw': 'Bv-Ael',\n 'Ael-Sw': 'Al-Sw',\n 'lC': 'lC',\n 'Ht': 'Hw',\n 'fF': 'Sd',\n 'jeC': 'ilC',\n 'tGo-Ah-Sd': 'tGo',\n 'tAp-Sw': 'Al-Sw',\n 'nHr': 'Hr',\n 'Go-Sw': 'Al-Sw',\n 'H': 'C',\n 'F': 'C',\n 'oGr': 'tGr',\n 'Bs-Swd': 'Bt-Sd',\n 'R-ilC-Bhs': 'ilC',\n 'ilCv-Bs': 'ilC',\n 'Bv-Sd': 'Bt-Sd',\n 'Ael-Bv': 'Al-Bv',\n 'Ael-Bbt': 'Ael-Bt',\n 'Bt-Sdw': 'Bt-Sd',\n 'Bsh-Bv': 'Ah-Bv',\n 'R-Al': 'Al',\n 'C-Bbt': 'Bvt',\n 'Bbt-Al': 'Bt-Sd',\n 'lC-Bbt': 'Al-Bt',\n 'Al-Bv-Sw': 'Al-Sw',\n 'Swd-Bbt-Bv': 'Sd-Btv',\n 'Sd-Sw': 'Al-Sw',\n 'R-Ap': 'Ap',\n 'R-Aeh': 'Aeh',\n 'Gw-Bhs': 'Bhs',\n 'Bhs-Gw': 'Bhs',\n 'Hcv': 'Bcv',\n 'nHcr': 'Hr',\n 'rGo': 'Go',\n 'Fh': 'Bh',\n 'R-Ap-Ae-Bsh': 'Bsh',\n 'Go-Bsh': 'Bsh',\n 'Fr-Hw': 'Hw',\n 'Al-Swd': 'Al-Sw',\n 'Bv-Ael': 'Bv-Ael',\n 'R-Bs': 'Bs',\n 'tmzGr': 'tGr',\n 'Sw-Bsh': 'Sw-Bv',\n 'oC': 'C',\n 'Sw-Go': 'Sw-Go',\n 'Sd-Go': 'Sw-Go',\n 'eGro': 'Gro',\n 'Ctv-Sw': 'Bt-Sd',\n 'Ctv-Sd': 'Bt-Sd',\n 'Go-C': 'Go',\n 'eCv': 'Cv',\n 'Al-Bbt': 'Al-Bt',\n 'Bt-Ael': 'Bv-Ael',\n 'Bt-Sw-Al': 'Bt-Sd',\n 'Btv-Sd': 'Bt-Sd',\n 'tSq-Sw': 'Al-Sw',\n 'tAh-Go': 'tGo',\n 'Ahe-Bh-Bs': 'Ael-Bt',\n 'Bbs-Bsv-Bhs': 'Bsh',\n 'Sg-C': 'Sw-M',\n 'Bh': 'Bh',\n 'Go-Bv': 'Sw-Bv',\n 'hHw': 'Hw',\n 'nHw': 'Hw',\n 'C-Bbh-Bbs': 'Bhs',\n 'tGo-Sq': 'tGo',\n 'tAa': 'Ap',\n 'Go-Aeh': 'Aeh',\n 'Gmso': 'Gkso',\n 'Go-Swd': 'Bt-Sd',\n 'Bv-elC': 'Bv-elC',\n 'elCv': 'elC',\n 'Hcm': 'cC',\n 'Sdw-R': 'Sw-M',\n 'Bv-Bbt': 'Bvt',\n 'rnHv': 'Hv',\n 'Go-E': 'Go',\n 'Ae-Bhs': 'Aeh',\n 'Ht-Hv': 'Btv',\n 'Bs-Cv': 'Bv-Cv',\n 'Bs-Bh': 'Bsh',\n 'Ae-Aap': 'Aep',\n 'tpGo': 'tGo',\n 'Bvs': 'Bvt',\n 'enHr': 'Hr',\n 'Bv-Cv': 'Bv-Cv',\n 'Sw-Bv-Ael': 'Bv-Ael',\n 'Ap-Bv': 'Al-Bv',\n 'Al-Btv': 'Al-Bv',\n 'tSw-Sq': 'Sw-Bv',\n 'Aa-Go': 'M-Go',\n 'Gro-Go': 'Gro',\n 'Gor-Go': 'Gro',\n 'Go-Sd': 'Bt-Sd',\n 'F-Gw': 'Gw',\n 'Bv-Gw': 'Bv-Cv',\n 'Bh-Bs': 'Bhs',\n 'Ssw': 'Ssw',\n 'Bbt-Ael': 'Bv-Ael',\n 'Bbt-Cv-Bv': 'Bv-Cv',\n 'Ae-Bsh': 'Bsh',\n 'Bt-ilC': 'Bv-ilC',\n 'Bv-Go': 'Bv-Cv',\n 'Cv-Bv': 'Sw-Bv',\n 'Sw-Ael': 'Sw-Ap',\n 'Sd-lCc': 'Sd-lC',\n 'Swd-lCv': 'Sd-lC',\n 'tSw': 'Sw',\n 'Bv-Bh': 'Bv-Cv',\n 'Ap-Bsh': 'Bsh',\n 'Bsv-C': 'Bsv',\n 'jM': 'M',\n 'jM-jilCv': 'Bv-ilC',\n 'Go-ilC': 'Go-ilC',\n 'Ahe-Bh-Sw': 'Al-Sw',\n 'Bhsv': 'Bhv',\n 'Bbs': 'Bhs',\n 'Bt-Swd': 'Bt-Sd',\n 'Sdw-Ap': 'Sw-Ap',\n 'Sw-Cv': 'Sw-Bv',\n 'Gro-Sd': 'Gro',\n 'Bv-lCv': 'Bv-Cv',\n 'ilCv-Bt': 'Al-Bt',\n 'Sg-ilC': 'Sd-ilC',\n 'ilC-Go': 'ilC',\n 'Acxp': 'Acxh',\n 'elCc-Acxh': 'Acxh',\n 'elCc': 'elCc',\n 'eSw-lCv': 'Sw-Bv',\n 'Ah-Hv': 'Ah-Bv',\n 'jSw': 'Sw',\n 'Sd-Gor': 'Sw-Go',\n 'Ae-Bs-Go': 'Al-Bv',\n 'Sw-Bv-Cv': 'Sw-Bv',\n 'F-Go': 'M-Go',\n 'F-Gor': 'Gor',\n 'M-Ah': 'Ah',\n 'Aap': 'Ap',\n 'Sew': 'Ssw',\n 'Sd-Gkso': 'Gkso',\n 'Ahe-Bh': 'Ah-Bv',\n 'Bms': 'Bhs',\n 'Sw-Bhs': 'Sw-Bv',\n 'Aa-Bh': 'Al-Bv',\n 'Gmso-Bh': 'Gkso',\n 'Gso': 'Gro',\n 'aAh-Gor': 'Gor',\n 'ilC-Ap': 'ilC',\n 'Bs-Gso': 'M-Go',\n 'Ach': 'Axh',\n 'Acp-Gco': 'Acp',\n 'Gcro-Swd': 'Gro',\n 'Gco': 'Gro',\n 'Gcor': 'Gor',\n 'Sw-Axh': 'Sw-Ah',\n 'Axh-Swd': 'Al-Sw',\n 'Hcvm': 'Bcv',\n 'nHcv': 'Bcv',\n 'Bbh-Bbs-Bv': 'Ah-Bv',\n 'Bbh-Bbs-ilCv': 'Bv-ilC',\n 'Ahe-Ae': 'Ah-Bv',\n 'Go-Ae-Bsh': 'Bsh',\n 'Ae-Ap': 'Aep',\n 'lC-Bbs': 'lC',\n 'yGo-Ah': 'Sw-Ah',\n 'yGro': 'Gro',\n 'Ae-Bh-Bms': 'Ael-Bt',\n 'Bbs-Cv': 'Bv-Cv',\n 'rAep': 'Aep',\n 'Bhv-ilCv': 'Bv-ilC',\n 'Gkso': 'Gkso',\n 'aSw-M': 'Sw-M',\n 'Gkso-Gr': 'Gkso',\n 'Ah-Ahe-Bh': 'Ah-Bv',\n 'Go-Bsv-Bh': 'Bsh',\n 'R-Gr-H-Go': 'M-Gro',\n 'R-H-rGr-Go': 'M-Gro',\n 'R-Bh-Bs-Go': 'Bhs',\n 'Bhs-lC': 'Bhs',\n 'R-Bs-ilC-Ae': 'Bv-ilC',\n 'Bh-Bv': 'Ah-Bv',\n 'S-Ap': 'Sw-Ap',\n 'Sg-Ap': 'Sw-Ap',\n 'Sg-Bv': 'Sw-Bv',\n 'Go-Bv-Ctv': 'Bv-Cv',\n 'Ctv-Go': 'tGo',\n 'Swd-Bvt': 'Sw-Bv',\n 'Ael-Btv': 'Ael-Bt',\n 'Sw-Bt-ilCv': 'Sw-ilC',\n 'Sd-Bt-Ael': 'Bv-Ael',\n 'Bt-elCv': 'Bv-elC',\n 'Ael-M': 'Ael',\n 'R-Go-Bhs-Aa': 'Bhs',\n 'R-Gr': 'tGr',\n 'R-Go-rGr-H': 'Gor',\n 'jnHv': 'Hv',\n 'Hw-Gr': 'Sw-Go',\n 'C-M': 'C',\n 'Gkso-Bs': 'Gkso',\n 'R-Go-Hv': 'M-Go',\n 'R-Hv': 'Hv',\n 'R-Gr-Go-Hv': 'M-Gro',\n 'Cv-Sw': 'Al-Sw',\n 'Cv-Swd': 'Bt-Sd',\n 'Sw-Bv-ilC': 'Bv-ilC',\n 'Swd-ilCtv': 'Sd-ilC',\n 'Swd-elCc': 'Sd-ilC',\n 'Go-Bsv': 'Bsv',\n 'Go-Cbtv': 'ilCbtv',\n 'R-Go-Bs-Bh': 'Bsh',\n 'R-Bs-Bh-Ae': 'Bsh',\n 'H-Ah': 'Ah',\n 'H-Go': 'M-Go',\n 'H-Gro': 'M-Gro',\n 'aGr': 'tGr',\n 'aM': 'M',\n 'Go-lC': 'Go-ilC',\n 'Swd-Ap': 'Sw-Ap',\n 'aGo': 'Go',\n 'jAh': 'Ah',\n 'oGo': 'Go',\n 'Bv-Al-Sg': 'Bv-ilC',\n 'Bvt-Sg': 'Bt-Sd',\n 'Sg': 'Sd',\n 'Bv-Ctv': 'Bv-Cv',\n 'ilCtv': 'ilCbtv',\n 'Gcro': 'Gro',\n 'Bv-Gor': 'Gor',\n 'R-H-Go': 'M-Go',\n 'R-H-Bh-rGor': 'Gor',\n 'R-Gr-Hm': 'M-Gro',\n 'R-Gr-Hm-Go': 'M-Gro',\n 'R-Bh-Ae-Bs': 'Bv-Ael',\n 'Bsh-Bbs-Bbh': 'Bsh',\n 'ilC-Bbs-Bbh': 'ilCbtv',\n 'R-Bs-Aa-Bsh': 'Bsh',\n 'R-Ahe-Bh-Bs': 'Ael-Bt',\n 'Bbh-Go': 'M-Go',\n 'R-Sw-Ah': 'Sw-Ah',\n 'ilC-Bhs': 'ilC',\n 'R-Sw': 'Sw',\n 'Sd-Bvt': 'Sd-Bv',\n 'Bv-Bhs': 'Bhs',\n 'ilC-Bbs': 'ilC',\n 'ilC-Bbs-Bhs': 'ilCbtv',\n 'M-Sd': 'P-Sd',\n 'M-Sd-Go': 'M-Go',\n 'Bv-Ah-Go': 'Bv-Ael',\n 'Sw-Ael-Bv': 'Sw-Bv',\n 'Ah-Gw': 'Al-Sw',\n 'rGw': 'Gw',\n 'Gr-Hw': 'Gro',\n 'Gr-Hr': 'Gro',\n 'Bv-ilC-Go': 'Bv-ilC',\n 'R-hH-Go': 'M-Go',\n 'Fh-Gor': 'Gor',\n 'R-Go-H': 'M-Go',\n 'jaGo': 'Go',\n 'ilCv-Sd': 'ilC',\n 'M-Gro': 'M-Gro',\n 'M-Gor': 'M-Go',\n 'ailCv': 'ilC',\n 'A-Bv': 'Al-Bv',\n 'Gho-Bv-Al': 'Ah-Bv',\n 'Go-Bt': 'Al-Bt',\n 'Gcr-Go': 'Gro',\n 'Bvt-Ael': 'Bv-Ael',\n 'Go-Ctv': 'Bv-Cv',\n 'Bh-Ahe': 'Bv-Ael',\n 'Gw-Aap': 'Sw-Ap',\n 'Go-M': 'Go',\n 'Gor-Sd': 'Gor',\n 'Bhv-ilC': 'Bv-ilC',\n 'Sw-Bhv': 'Sw-Bv',\n 'Bv-Cbtv': 'Bv-Cv',\n 'Go-Bv-Ap': 'Sw-Bv',\n 'Fo': 'Go',\n 'Sw-M-Go': 'Sw-Go',\n 'Sd-M-Gro': 'M-Gro',\n 'R-H-Bs-ilC': 'Bv-ilC',\n 'R-Bh-Bhs-H': 'Bhs',\n 'R-Bh-Bs-Sw': 'Bhs',\n 'Ae-Hv': 'Al-Bv',\n 'Ah-ilC': 'Bv-ilC',\n 'Hv-ilC': 'Bv-ilC',\n 'Ael-Bt-Sd': 'Ael-Bt',\n 'Bbt-lCv': 'Bv-Cv',\n 'Gho-Bv': 'Ah-Bv',\n 'aAcp': 'Acp',\n 'aGco': 'Gro',\n 'Fw': 'Gw',\n 'jGo-M': 'Go',\n 'Gor-M': 'Gor',\n 'eM': 'M',\n 'Sdw-M-Go': 'Sw-Go',\n 'Sd-M-Go': 'M-Go',\n 'Hw-M-Go': 'M-Go',\n 'R-hH-Cv': 'Bv-Cv',\n 'R-C-H': 'elC-P',\n 'R-H-Gho': 'M-Go',\n 'R-Ae-Bhs-Gkso': 'Gkso',\n 'R-Bhs-Go': 'Bhs',\n 'R-Bsh-Ae': 'Bsh',\n 'Bh-Bs-ilC': 'Bv-ilC',\n 'R-Go-Hm': 'M-Go',\n 'Bhms': 'Bhs',\n 'Sdw-Bt-Ael': 'Bv-Ael',\n 'Swd-Ael-Bt': 'Ael-Bt',\n 'Swd-Ael-Bbt': 'Ael-Bt',\n 'renHv-rnHvp': 'Bv-Cv',\n 'M-Gr': 'M-Go',\n 'Sd-elC': 'Sd-ilC',\n 'jAp': 'Ap',\n 'eAh': 'Ah',\n 'aAp': 'Ap',\n 'aAh': 'Ah',\n 'Ghor': 'Gor',\n 'Fh-Fw': 'Al-Sw',\n 'Ghr': 'Gr',\n 'gE': 'E',\n 'Go-Bhv': 'Bhv',\n 'R-Bh-Bs-Ahe': 'Bsh',\n 'Bbh-ilC': 'Bv-ilC',\n 'Gw-ilC': 'Go-ilC',\n 'R-ilC-Bsh-Ahe': 'ilC',\n 'Bhs-Cv': 'Bv-Cv',\n 'Ae-Ahe': 'Aeh',\n 'Bhs-ilCv': 'Bv-ilC',\n 'R-Bh-Bv-Ah': 'Ah-Bv',\n 'R-Bv-Bhv-C': 'Bv-ilC',\n 'R-Bh-Ahe-Bs': 'Ah-Bv',\n 'F-Gr': 'tGr',\n 'ilC-Bt': 'Al-Bt',\n 'Go-Bbt': 'Go-ilC',\n 'Sg-Ap-Bv': 'Sw-Bv',\n 'Bv-ilCbtv': 'ilCbtv',\n 'Sg-elCc': 'elCc',\n 'Sg-elCv': 'Sd-ilC',\n 'Ah-Ae-Bhs': 'Ah-Bv',\n 'Bhs-lCv': 'Bv-Cv',\n 'Ahe-Go': 'M-Go',\n 'R-Bsh-Go': 'Bsh',\n 'R-Ae-Bhs-ilC': 'Bv-ilC',\n 'E-Al': 'Al',\n 'R-Go-Aa': 'M-Go',\n 'R-Ae-Bh': 'Aeh',\n 'R-gE': 'E',\n 'Bh-ilCv': 'Bv-ilC',\n 'Gr-Sd': 'Bt-Sd',\n 'Yr': 'Gr',\n 'fF-eGro': 'M-Gro',\n 'fFr': 'tGr',\n 'R-H-Go-Bs': 'M-Go',\n 'R-Go-Aeh-Bhs': 'Ael-Bt',\n 'R-Aeh-Bhs-Go': 'Ael-Bt',\n 'Bsh-rGo': 'Bsh',\n 'R-Go': 'M-Go',\n 'R-Gw-ilCv': 'Go-ilC',\n 'Bv-Bs': 'Bv-Cv',\n 'raeM-Go': 'M-Go',\n 'Bv-ilCv-Bbt': 'Bv-ilC',\n 'jSw-Ap': 'Sw-Ap',\n 'Sd-Ex': 'Sd-Bv',\n 'elCkc-Sd': 'elCc',\n 'R-Gr-Bh-Gso': 'M-Gro',\n 'R-Ap-Gro': 'M-Gro',\n 'Bv-imC': 'Bv-ilC',\n 'Cv-Sd': 'Bt-Sd',\n 'rGkso': 'Gkso',\n 'Gkso-Go': 'Gkso',\n 'R-Bv-Ap': 'Bv-Cv',\n 'Ap-Aeh': 'Aeh',\n 'Bh-Gmso': 'Bhs',\n 'Bt-Ael-Swd': 'Bt-Sd',\n 'aGso': 'Gro',\n 'aGro': 'Gro',\n 'Gso-Bv': 'Sw-Bv',\n 'Sd-Ael-Bt': 'Ael-Bt',\n 'Go-ilC-Bbt': 'Go-ilC',\n 'Ah-Swd': 'Al-Sw',\n 'bE': 'bE',\n 'bE-Go': 'M-Go',\n 'Bhv-Sw': 'Bhv',\n 'Go-gE': 'Go',\n 'P': 'P',\n 'ilC-Go-Ah': 'ilC',\n 'Fr-Gro': 'M-Gro',\n 'Fr-Gor': 'Gor',\n 'Fr-Gr': 'tGr',\n 'Ap-Go': 'M-Go',\n 'elC-Bbt': 'Ael-Bt',\n 'Ahe-Bhs': 'Ah-Bv',\n 'Bbhs': 'Bhs',\n 'Bbhs-Go': 'Bhs',\n 'Swd-elCv': 'Sd-ilC',\n 'cmC': 'cmC',\n 'raGo': 'Go',\n 'R-Go-Bs-Ae': 'M-Go',\n 'M-ilCv': 'ilC',\n 'Sdg': 'Sd',\n 'Sw-P': 'Sw-M',\n 'Sd-P': 'Sd',\n 'elC-P': 'elC-P',\n 'aM-Go': 'M-Go',\n 'Sdw': 'Sd',\n 'rAp': 'Ap',\n 'Bv-Gkso': 'Gkso',\n 'Sw-Al-Bv': 'Sw-Bv',\n 'elC-Axh': 'elC-P',\n 'Axh-elC': 'Bv-elC',\n 'Sw-elC': 'Sw-ilC',\n 'Al-Axh': 'Axh',\n 'Bv-Axh': 'Bv-Ael',\n 'Acxh': 'Acxh',\n 'elCc-Swd': 'elCc',\n 'ilC-Ael-Sw': 'Al-Sw',\n 'Go-Bv-Gr': 'Gor',\n 'Gro-Sg': 'Gro',\n 'R-Ae-Bs-Ap': 'Aep',\n 'R-Ah-Ae-Bs': 'Ah-Bv',\n 'Bv-Ap': 'Bv-Cv',\n 'R-E-Aa-Go': 'M-Go',\n 'Go-Bvs': 'Sw-Bv',\n 'Ah-Gro': 'M-Gro',\n 'Gkso-Gro': 'Gkso',\n 'H-Gkso-Gr': 'Gkso',\n 'Bj-Cv': 'Bv-Cv',\n 'Bh-Bcv': 'Ah-Bv',\n 'Bcv-elC': 'Bv-elC',\n 'elC-Sd': 'elC-P',\n 'clC': 'clC',\n 'lCv-Bcv': 'Bcv',\n 'lC-emC': 'emC',\n 'elC-emC': 'elC-P',\n 'elC-Acxh': 'Acxh',\n 'rGcro-elC': 'Go-ilC',\n 'eAcp': 'Acp',\n 'Sg-Bv-ilCv': 'Bv-ilC',\n 'Fh-Fo': 'M-Go',\n 'Ah-Sw-Ael': 'Al-Sw',\n 'Bt-Scdw': 'Bt-Sd',\n 'Scd': 'Sd',\n 'R-Bhs-Ap-Go': 'Bhs',\n 'R-Bh': 'Bh',\n 'ilC-Bsh': 'ilC',\n 'E-Go': 'M-Go',\n 'Go-ilC-Bhs': 'Go-ilC',\n 'Go-Sw-Sd': 'Sw-Bv',\n 'Bhs-Go-Sw': 'Bhs',\n 'Go-Sdw': 'Bt-Sd',\n 'Bt-Sw': 'Bt-Sd',\n 'imC': 'imC',\n 'Sdg-Bt': 'Sd-Bv',\n 'emC': 'emC',\n 'Swd-Axh': 'Sw-Ah',\n 'Go-Axh': 'Axh',\n 'Axh-Go': 'Axh',\n 'Bcv-Axh': 'Bv-Ael',\n 'R-Hv-Ah-ilCv': 'Bv-ilC',\n 'Go-Ael': 'Bv-Ael',\n 'Go-Bt-Ael': 'Bv-Ael',\n 'Btv-Ael': 'Bv-Ael',\n 'Gr-Go': 'Gro',\n 'R-Go-Ah': 'M-Go',\n 'Bms-Go': 'M-Go',\n 'R-Bsv': 'Bsv',\n 'Sd-Cv': 'Sd-Bv',\n 'Btv-ilC': 'Bv-ilC',\n 'Bcv-Tv': 'Bv-Cv',\n 'cC-Swd': 'Bt-Sd',\n 'Go-Acxh': 'Acxh',\n 'Ael-Sd-Bt': 'Ael-Bt',\n 'Ael-Ap': 'Ael-Bt',\n 'Bhs-Aeh': 'Bv-Ael',\n 'ilC-Bsv': 'ilCbtv',\n 'elCv-Bcv': 'elCc',\n 'R-E': 'E',\n 'Srd': 'Sd',\n 'gE-Go': 'M-Go',\n 'gbE-Ap': 'Sw-Ap',\n 'Aeh-Bsh': 'Ael-Bt',\n 'Ae-Bh-Bs': 'Ael-Bt',\n 'Al-Bvt': 'Al-Bv',\n 'jeM': 'Ael',\n 'Swd-lCv-Axh': 'Sw-Ah',\n 'Axh-M': 'Axh',\n 'Acxh-elCc': 'Acxh',\n 'elCc-Axh': 'elCc',\n 'aAxp': 'Axp',\n 'Sw-Bt-Sd': 'Bt-Sd',\n 'Bbt-Ael-Bv': 'Al-Bv',\n 'Sw-Bv-Bbt': 'Sw-Bv',\n 'Bbt': 'Bvt',\n 'rGo-ilCv': 'Go-ilC',\n 'Sg-Ael-Bt': 'Ael-Bt',\n 'Swd-lCv-Bbt': 'Sd-lC',\n 'ejCv': 'imCv',\n 'Go-ilCv-H': 'Go-ilC',\n 'aelC': 'aelC',\n 'Gkso-M': 'Gkso',\n 'Gkso-Go-Bhsv': 'Gkso',\n 'Sewd': 'Sswd',\n 'Sswd': 'Sswd',\n 'Go-Sw-E': 'Al-Sw',\n 'P-Cv-Swd': 'P-Sd',\n 'elC-Scd': 'elCc',\n 'Al-Ap': 'Al-Sw',\n 'Sd-Al-Bt': 'Al-Bt',\n 'mCv': 'mCv',\n 'Axh-Bv': 'Ah-Bv',\n 'Bv-elCc': 'Bv-elC',\n 'Axh-lC': 'Axh',\n 'Axh-ilCv-Sw': 'Al-Sw',\n 'Swd-Go-M': 'Sw-Go',\n 'Ah-M': 'Ah',\n 'jGo': 'Go',\n 'Aah-Gr': 'Ah-Bv',\n 'raAp': 'Ap',\n 'M-Gso': 'M-Go',\n 'raGr': 'tGr',\n 'eGo-Cv': 'Bv-Cv',\n 'eC-Go': 'M-Go',\n 'Sdw-Bv-Al': 'Sw-Bv',\n 'Go-Mc': 'Go',\n 'E-ilC': 'ilC',\n 'Bh-Sw': 'Bt-Sd',\n 'Swd-eCv': 'Sw-Bv',\n 'eC-Sd': 'Bt-Sd',\n 'Bt-Al-Bv': 'Al-Bv',\n 'Al-Bv-Bt': 'Al-Bv',\n 'M-Sdw': 'P-Sd',\n 'Sw-Ael-Bt': 'Ael-Bt',\n 'elC-Ap': 'elC-P',\n 'jeF': 'Ael',\n 'Bcv-Cc': 'Bv-Cv',\n 'Go-Cc-elCv': 'Go-ilC',\n 'Axh-Bv-elC': 'Bv-elC',\n 'eAxp': 'Axp',\n 'Sw-Bt-Ael': 'Bv-Ael',\n 'Sdw-Go': 'Sw-Go',\n 'H-Go-Ah': 'M-Go',\n 'ylC': 'ilC',\n 'Ae-Bhs-Go': 'Aeh',\n 'Ae-Bh-Go': 'Aeh',\n 'F-Gr-Gor': 'M-Gro',\n 'Sd-elCv': 'Sd-ilC',\n 'Ah-eC': 'Ah-Bv',\n 'C': 'C',\n 'elCv-Axh-Bv': 'Ah-Bv',\n 'Bcv': 'Bcv',\n 'Sg-Axh': 'Sw-Ah',\n 'Axh-Sg': 'Axh',\n 'Ael-Bv-Btv': 'Ael-Bt',\n 'elC-Bv': 'Al-Bv',\n 'Swd-lC': 'Sd-lC',\n 'M-Swd': 'P-Sd',\n 'Sw-Ah-Go': 'Sw-Ah',\n 'rSw-Go': 'Sw-Go',\n 'Sw-Gr': 'Sw-Go',\n 'Ap-Sw-ilCv': 'Sw-ilC',\n 'Sg-Bv-ilCbtv': 'ilCbtv',\n 'Sg-Al': 'Sw-Ap',\n 'Bhs-Ae': 'Bhs',\n 'Al-Bt-Sw': 'Al-Sw',\n 'Acp-Swd-Bv': 'Sw-Bv',\n 'Go-Bv-Swd': 'Bt-Sd',\n 'Bv-Tv': 'Bv-Cv',\n 'Tv-elC': 'Bv-elC',\n 'Ah-Cv': 'Ah-Bv',\n 'M-Bv': 'Bv',\n 'iC': 'iC',\n 'Axh-elCc': 'elCc',\n 'Alh-Bv': 'Al-Bv',\n 'Go-Swd-M': 'Sw-M',\n 'Swd-Go': 'Sw-Go',\n 'Gro-Swd': 'Gro',\n 'Gr-Sd-Go': 'Sw-Go',\n 'aeM': 'Ael',\n 'M-Al-Bv': 'Al-Bv',\n 'ilC-Sd': 'ilC',\n 'xCn': 'C',\n 'Bcv-lCc': 'Bv-ilC',\n 'Bcv-elCc': 'Bv-elC',\n 'elCc-Bcv': 'elCc',\n 'Mc': 'Mc',\n 'Sw-lC': 'Sw-ilC',\n 'Serw': 'Ssw',\n 'M-Gkso': 'Gkso',\n 'jilCv': 'ilC',\n 'Ap-E': 'Ap',\n 'Bv-Swd': 'Bt-Sd',\n 'Bt-Sg': 'Bt-Sd',\n 'iCv-Sd': 'Bt-Sd',\n 'Btv-Sdw': 'Bt-Sd',\n 'mcC': 'cC',\n 'Al-Bt-Sdw': 'Bt-Sd',\n 'mC': 'C',\n 'cmCv-elCv': 'Bv-elC',\n 'Cc-Bcv': 'Bcv',\n 'Bt-elC': 'Bv-elC',\n 'ilCn': 'ilC',\n 'Sg-M': 'Sw-M',\n 'rGr': 'tGr',\n 'Ahl-Bt': 'Ael-Bt',\n 'Sg-Bt': 'Sw-Bt',\n 'M-elC': 'aelC',\n 'Gkso-Gor': 'Gkso',\n 'R-Axh': 'Axh',\n 'Bt-elCc': 'Bv-elC',\n 'lCc-Sd': 'Bt-Sd',\n 'Sdw-Bt': 'Sw-Bt',\n 'Sw-Sd-Bt': 'Sw-Bt',\n 'Sg-Go': 'Sw-Go',\n 'Swd-Bt-ilC': 'Sd-ilC',\n 'Bt-lCv': 'Bv-Cv',\n 'Sd-M': 'Sw-M',\n 'elC-Go': 'elC-P',\n 'aeGo': 'aelC',\n 'rAxh': 'Axh',\n 'Bt-Axh': 'Axh',\n 'Bvt-Axh': 'Bv-Ael',\n 'eMc': 'Mc',\n 'R-Bvt': 'Bvt',\n 'ilC-Swd': 'Al-Sw',\n 'mCn': 'mCv',\n 'Swd-Bbt': 'Sw-Bt',\n 'imCv': 'imCv',\n 'eCv-Sw': 'Al-Sw',\n 'Sw-lCc': 'Sw-ilC',\n 'Gro-M': 'Gro',\n 'jeAp': 'Ap',\n 'jelC': 'aelC',\n 'elCn': 'elC',\n 'Sg-ilCv': 'Sd-ilC',\n 'Swd-M': 'Sw-M',\n 'jlCv': 'ilC',\n 'Btv-Sg': 'Bt-Sd',\n 'Al-Swd-Bt': 'Al-Sw',\n 'ilCv-Bv': 'ilCbtv',\n 'Sd-C': 'Sd-lC',\n 'Bv-mCv': 'Bv-Cv',\n 'Bv-iCv': 'Bv-Cv',\n 'M-Sw-Go': 'Sw-Go',\n 'Sw-Gro': 'Sw-Go',\n 'Swd-Gro': 'Sw-Go',\n 'aeSw-M': 'Sw-M',\n 'Axh-ilC': 'Bv-ilC',\n 'Axh-elCv': 'Ah-Bv',\n 'Ah-P': 'Ah',\n 'P-Axh': 'Axh',\n 'Axh-lCc': 'Axh',\n 'lCc': 'lC',\n 'jeSwd-lC': 'Sd-lC',\n 'Sg-Btv': 'Sd-Btv',\n 'M-Ap': 'Ap',\n 'lC-Bv': 'Sw-Bv',\n 'elC-eAh': 'elC-P',\n 'Axh-Bt': 'Ael-Bt',\n 'Swd-Axh-Bht': 'Sw-Ah',\n 'Ael-Swd': 'Al-Sw',\n 'Sg-Bvt-Al': 'Sw-Bv',\n 'Sg-Bvt': 'Sw-Bv',\n 'Swd-ilC': 'Sd-ilC',\n 'Btv-Swd': 'Bt-Sd',\n 'jilC': 'ilC',\n 'Bht': 'Bhv',\n 'Al-Bht': 'Al-Bt',\n 'Swd-C': 'Sw-M',\n 'sGo': 'Go',\n 'Srw': 'Ssw',\n 'Acxh-elCkc': 'Acxh',\n 'elCkc': 'elCc',\n 'ilC-Axh': 'ilC',\n 'Bv-Axh-ilCv': 'Bv-ilC',\n 'Axh-Bcv': 'Ah-Bv',\n 'Sw-Bht': 'Sw-Bt',\n 'Bvt-Al-Sdw': 'Bt-Sd',\n 'Bvt-Sd': 'Bt-Sd',\n 'Bv-ixCv': 'Bv-ilC',\n 'Bv-P': 'Bvt',\n 'lC-Bt': 'Al-Bt',\n 'Sdw-Bht': 'Sw-Bt',\n 'aeAxh': 'Axh',\n 'Ctv': 'Cv',\n 'ixCv': 'imCv',\n 'Sd-Bt-M': 'Sd-Btv',\n 'cmCn': 'cmC',\n 'exC': 'emC',\n 'Bv-Acxh': 'Acxh',\n 'M-ilC': 'ilC',\n 'Bht-Bv': 'Ah-Bv',\n 'xCv': 'Cv',\n 'Swd-Sw': 'Sw-Bv',\n 'ixCn': 'ilC',\n 'Swd-Bv-ilC': 'Bv-ilC',\n 'Sw-Hp': 'Sw-Ap',\n 'Sw-H-Serw': 'Sw-Bv',\n 'Bt-Bv-Cv': 'Bv-Cv',\n 'Bj-Sd': 'Bt-Sd',\n 'lC-Sd': 'Bt-Sd',\n 'Bv-Tv-cC': 'Bv-ilC',\n 'Tv-cC': 'cC',\n 'Tv-cCv': 'Bv-Cv',\n 'cxC': 'cC',\n 'Sw-ilCv': 'Sw-ilC',\n 'Al-Btv-Swd': 'Bt-Sd',\n 'Bt-Gco': 'tGro',\n 'Swd-P-Bv': 'Sw-Bv',\n 'Bfv': 'Bhv',\n 'aGo-M': 'Go',\n 'sSw': 'Sw',\n 'jC': 'C',\n 'Sw-Ah-Bv': 'Sw-Bv',\n 'Sd-Cj': 'Sd-Bv',\n 'Bhv-Cv': 'Bv-Cv',\n 'Bt-Sd-Sw': 'Bt-Sd',\n 'sSdw': 'Sd',\n 'ilC-Bt-Swd': 'Bt-Sd',\n 'Ah-exC': 'Ah-Bv',\n 'Cj': 'Cj',\n 'Go-Srw': 'Gor',\n 'Bv-P-ilC': 'Bv-ilC',\n 'Sd-ilCv': 'Sd-ilC',\n 'sSwd': 'Sd',\n 'aSg-M': 'Sw-M',\n 'Bv-Tcv-elC': 'Bv-elC',\n 'Bfv-Sw-ilC': 'Bv-ilC',\n 'P-Bv': 'Bv',\n 'P-ilC': 'ilC',\n 'Bj': 'Bv',\n 'ilCv-Cj': 'ilC',\n 'Sdw-M': 'Sw-M',\n 'lCv-sGo': 'M-Go',\n 'Ap-Bv-ilCv': 'Bv-ilC',\n 'Gw-M': 'Sw-M',\n 'Btv-Sw': 'Bt-Sd',\n 'yilCv': 'ilC',\n 'Yr-Bv': 'Sw-Bv',\n 'Cj-ilCv': 'Bv-ilC',\n 'Sw-Bv-P': 'Sw-Bv',\n 'M-Sew': 'Ssw',\n 'Swd-Cj': 'Sw-Bv',\n 'Sd-Gco': 'Sw-Go',\n 'Btv-lCv': 'Bv-Cv',\n 'Sdg-Bv': 'Sd-Bv',\n 'P-Sw': 'P-Sd',\n 'Bv-P-Sd': 'Bt-Sd',\n 'lCv-Bv': 'Sw-Bv',\n 'Sew-M': 'Sw-M',\n 'Acxh-Al': 'Acxh',\n 'Acxh-Bt': 'Acxh',\n 'ilC-P': 'elC-P',\n 'Sw-Bv-Sd': 'Sw-Bv',\n 'Cj-Cv': 'Bv-Cv',\n 'Sw-lCv': 'Sw-Bv',\n 'Acp-Bcv-cC': 'Al-Bv',\n 'cC': 'cC',\n 'aeAp': 'aelC',\n 'Bv-eC': 'Bv-elC',\n 'emCn': 'emC',\n 'Ah-Bv-cCv': 'Bv-Cv',\n 'Sdw-Ah': 'Sw-Ah',\n 'arGo-P-Sd': 'P-Sd',\n 'M-P-Axh': 'Axh',\n 'aeAh-P': 'elC-P',\n 'elC-Bvt': 'Al-Bv',\n 'eCc': 'elCc',\n 'Bv-Ah-eCv': 'Bv-Cv',\n 'Bv-eCv': 'Bv-Cv',\n 'Tv': 'Cv',\n 'P-Srd': 'P-Sd',\n 'Swd-Cj-lC': 'Sd-ilC',\n 'eSg-lCv': 'Sd-lC',\n 'elCv-Sg': 'elC-P',\n 'Acp-elC-Bcv': 'Al-Bv',\n 'Bv-cCv': 'Bv-Cv',\n 'Acp-P': 'Acp',\n 'P-elCv': 'aelC',\n 'elCv-P': 'elC-P',\n 'ixC': 'ilC',\n 'aeMc': 'aelC',\n 'lC-cmC': 'cmC',\n 'Go-P': 'Go',\n 'Sd-Bt-R': 'Sd-Btv',\n 'eC': 'C',\n 'lCv-Sw': 'Al-Sw',\n 'elC-Tv': 'elC-P',\n 'eAh-P': 'elC-P',\n 'P-lC': 'ilC',\n 'Sw-Tv': 'Sw-Bv',\n 'Tv-Sw': 'Al-Sw',\n 'Tv-Swd': 'Bt-Sd',\n 'Al-Swd-Btv': 'Sd-Btv',\n 'Swd-fBj': 'Sw-Bv',\n 'Al-Sd-Bt': 'Al-Bt',\n 'Ckc': 'C',\n 'fBj-Sd': 'Bt-Sd',\n 'Tv-eCv': 'Bv-Cv',\n 'Ap-Sew': 'Al-Sw',\n 'aM-Gro': 'M-Gro',\n 'Sdw-C': 'Sw-M',\n 'Acp-clC': 'clC',\n 'Cc': 'C',\n 'Swd-Bv': 'Sw-Bv',\n 'Sdw-ilCv': 'Sd-ilC',\n 'Ah-Bv-elC': 'Bv-elC',\n 'ilC-Swd-Bv': 'Sw-Bv',\n 'elC-cmC': 'elCc',\n 'Sd-iC': 'Sd-ilC',\n 'Bv-C': 'Bv-Cv',\n ...}"
     },
     "execution_count": 21,
     "metadata": {},
     "output_type": "execute_result"
    }
   ],
   "source": [
    "# Map rare labels to frequent labels via Levenshtein distance\n",
    "# Any better ideas? Sometimes the mapping is not very faithful to geological meaning\n",
    "from jellyfish import levenshtein_distance as ld\n",
    "rare_labels_mapping = {}\n",
    "list_dict_mapping = list(dict_mapping.keys())\n",
    "for lab in df[target].unique():\n",
    "    if lab in list_dict_mapping:\n",
    "        rare_labels_mapping[lab] = lab # for applying the map later in the df, we need the identity mappings as well\n",
    "    else:\n",
    "        similarities = [ld(lab, freq_lab) for freq_lab in list_dict_mapping]\n",
    "        best_match = list_dict_mapping[np.argmin(similarities)]\n",
    "        rare_labels_mapping[lab] = best_match\n",
    "rare_labels_mapping"
   ],
   "metadata": {
    "collapsed": false,
    "pycharm": {
     "name": "#%%\n"
    }
   }
  },
  {
   "cell_type": "code",
   "execution_count": 22,
   "outputs": [
    {
     "data": {
      "text/plain": "1218"
     },
     "execution_count": 22,
     "metadata": {},
     "output_type": "execute_result"
    }
   ],
   "source": [
    "len(rare_labels_mapping)\n",
    "# ToDo: manually correct the weird mappings\n",
    "# Note: maybe use a second string distance to decide the winner, in case of a tie?"
   ],
   "metadata": {
    "collapsed": false,
    "pycharm": {
     "name": "#%%\n"
    }
   }
  },
  {
   "cell_type": "code",
   "execution_count": 23,
   "outputs": [
    {
     "name": "stderr",
     "output_type": "stream",
     "text": [
      "/tmp/ipykernel_1227360/3489057721.py:2: SettingWithCopyWarning: \n",
      "A value is trying to be set on a copy of a slice from a DataFrame.\n",
      "Try using .loc[row_indexer,col_indexer] = value instead\n",
      "\n",
      "See the caveats in the documentation: https://pandas.pydata.org/pandas-docs/stable/user_guide/indexing.html#returning-a-view-versus-a-copy\n",
      "  df[target] = df[target].map(rare_labels_mapping)\n"
     ]
    },
    {
     "data": {
      "text/plain": "        Point  Obergrenze  Untergrenze Horizontsymbol_relevant Bodenart  \\\n0         2.0         0.0         28.0                      Ap      Sl2   \n1         2.0        28.0         54.0                       E      Sl2   \n2         2.0        54.0         68.0                      Bv      Sl2   \n3         2.0        68.0         96.0                  Bv-ilC     fSms   \n4         2.0        96.0        201.0                     ilC     mSfs   \n...       ...         ...          ...                     ...      ...   \n16307  6211.0        27.0         50.0                     Bhs     fSms   \n16308  6211.0        50.0         70.0                     Bsh     fSms   \n16309  6211.0        50.0         70.0                     Bsh     fSms   \n16310  6211.0        70.0        100.0                  Go-ilC     fSms   \n16311  6211.0        70.0        100.0                  Go-ilC     fSms   \n\n      Bodenfarbe  Steine Karbonat Humusgehaltsklasse Durchwurzelung  \\\n0      7.5YR 3/2     3.0       C0                 h3            Wf4   \n1       10YR 3/3     3.0       C0                 h2            Wf3   \n2      7.5YR 4/3    10.0       C0                 h1            Wf3   \n3      7.5YR 6/4     1.0       C0                 h0            Wf2   \n4       10YR 7/4     1.0       C0                 h0            Wf0   \n...          ...     ...      ...                ...            ...   \n16307    5YR 3/2     1.0       C0                 h2            Wf3   \n16308    5YR 4/3     1.0       C0                 h1            Wf2   \n16309    5YR 4/3     1.0       C0                 h1            Wf2   \n16310  7.5YR 5/4     1.0       C0                 h1            Wf6   \n16311  7.5YR 5/4     1.0       C0                 h1            Wf6   \n\n                                                    file  Probenahme_Monat  \\\n0      ../data/BGR/Profilbilder_no_ruler_no_sky/SH_00...                11   \n1      ../data/BGR/Profilbilder_no_ruler_no_sky/SH_00...                11   \n2      ../data/BGR/Profilbilder_no_ruler_no_sky/SH_00...                11   \n3      ../data/BGR/Profilbilder_no_ruler_no_sky/SH_00...                11   \n4      ../data/BGR/Profilbilder_no_ruler_no_sky/SH_00...                11   \n...                                                  ...               ...   \n16307  ../data/BGR/Profilbilder_no_ruler_no_sky/NI_62...                 6   \n16308  ../data/BGR/Profilbilder_no_ruler_no_sky/NI_62...                 6   \n16309  ../data/BGR/Profilbilder_no_ruler_no_sky/NI_62...                 6   \n16310  ../data/BGR/Profilbilder_no_ruler_no_sky/NI_62...                 6   \n16311  ../data/BGR/Profilbilder_no_ruler_no_sky/NI_62...                 6   \n\n       Probenahme_Jahr       xcoord       ycoord  \\\n0                 2015  462216.1283  6079359.775   \n1                 2015  462216.1283  6079359.775   \n2                 2015  462216.1283  6079359.775   \n3                 2015  462216.1283  6079359.775   \n4                 2015  462216.1283  6079359.775   \n...                ...          ...          ...   \n16307             2012  522076.9633  5930456.114   \n16308             2012  522076.9633  5930456.114   \n16309             2012  522076.9633  5930456.114   \n16310             2012  522076.9633  5930456.114   \n16311             2012  522076.9633  5930456.114   \n\n                      Bodenklimaraum_Name Landnutzung BZE_Moor Hauptbodentyp  \\\n0                           Marsch - Nord           A        0            YE   \n1                           Marsch - Nord           A        0            YE   \n2                           Marsch - Nord           A        0            YE   \n3                           Marsch - Nord           A        0            YE   \n4                           Marsch - Nord           A        0            YE   \n...                                   ...         ...      ...           ...   \n16307  Elbe-Weser-Dreieck / sandige Böden           G        0            PP   \n16308  Elbe-Weser-Dreieck / sandige Böden           G        0            PP   \n16309  Elbe-Weser-Dreieck / sandige Böden           G        0            PP   \n16310  Elbe-Weser-Dreieck / sandige Böden           G        0            PP   \n16311  Elbe-Weser-Dreieck / sandige Böden           G        0            PP   \n\n      BodenVarTypSub GrundwaStufe  GrundwaStand  Moormaechtigkeit  \\\n0              YE/BB            0         200.0               0.0   \n1              YE/BB            0         200.0               0.0   \n2              YE/BB            0         200.0               0.0   \n3              YE/BB            0         200.0               0.0   \n4              YE/BB            0         200.0               0.0   \n...              ...          ...           ...               ...   \n16307          GG-PP         GWS4         110.0               0.0   \n16308          GG-PP         GWS4         110.0               0.0   \n16309          GG-PP         GWS4         110.0               0.0   \n16310          GG-PP         GWS4         110.0               0.0   \n16311          GG-PP         GWS4         110.0               0.0   \n\n       Torfmaechtigkeit Neigung Exposition Woelbung Reliefformtyp  \\\n0                   0.0      N0         KE       GG             V   \n1                   0.0      N0         KE       GG             V   \n2                   0.0      N0         KE       GG             V   \n3                   0.0      N0         KE       GG             V   \n4                   0.0      N0         KE       GG             V   \n...                 ...     ...        ...      ...           ...   \n16307               0.0      N0         KE       GG           TSF   \n16308               0.0      N0         KE       GG           TSF   \n16309               0.0      N0         KE       GG           TSF   \n16310               0.0      N0         KE       GG           TSF   \n16311               0.0      N0         KE       GG           TSF   \n\n      LageImRelief  KV_0_30  KV_30_100  \n0                Z    81.89      54.19  \n1                Z    81.89      54.19  \n2                Z    81.89      54.19  \n3                Z    81.89      54.19  \n4                Z    81.89      54.19  \n...            ...      ...        ...  \n16307            T   117.59      87.72  \n16308            T   117.59      87.72  \n16309            T   117.59      87.72  \n16310            T   117.59      87.72  \n16311            T   117.59      87.72  \n\n[13621 rows x 31 columns]",
      "text/html": "<div>\n<style scoped>\n    .dataframe tbody tr th:only-of-type {\n        vertical-align: middle;\n    }\n\n    .dataframe tbody tr th {\n        vertical-align: top;\n    }\n\n    .dataframe thead th {\n        text-align: right;\n    }\n</style>\n<table border=\"1\" class=\"dataframe\">\n  <thead>\n    <tr style=\"text-align: right;\">\n      <th></th>\n      <th>Point</th>\n      <th>Obergrenze</th>\n      <th>Untergrenze</th>\n      <th>Horizontsymbol_relevant</th>\n      <th>Bodenart</th>\n      <th>Bodenfarbe</th>\n      <th>Steine</th>\n      <th>Karbonat</th>\n      <th>Humusgehaltsklasse</th>\n      <th>Durchwurzelung</th>\n      <th>file</th>\n      <th>Probenahme_Monat</th>\n      <th>Probenahme_Jahr</th>\n      <th>xcoord</th>\n      <th>ycoord</th>\n      <th>Bodenklimaraum_Name</th>\n      <th>Landnutzung</th>\n      <th>BZE_Moor</th>\n      <th>Hauptbodentyp</th>\n      <th>BodenVarTypSub</th>\n      <th>GrundwaStufe</th>\n      <th>GrundwaStand</th>\n      <th>Moormaechtigkeit</th>\n      <th>Torfmaechtigkeit</th>\n      <th>Neigung</th>\n      <th>Exposition</th>\n      <th>Woelbung</th>\n      <th>Reliefformtyp</th>\n      <th>LageImRelief</th>\n      <th>KV_0_30</th>\n      <th>KV_30_100</th>\n    </tr>\n  </thead>\n  <tbody>\n    <tr>\n      <th>0</th>\n      <td>2.0</td>\n      <td>0.0</td>\n      <td>28.0</td>\n      <td>Ap</td>\n      <td>Sl2</td>\n      <td>7.5YR 3/2</td>\n      <td>3.0</td>\n      <td>C0</td>\n      <td>h3</td>\n      <td>Wf4</td>\n      <td>../data/BGR/Profilbilder_no_ruler_no_sky/SH_00...</td>\n      <td>11</td>\n      <td>2015</td>\n      <td>462216.1283</td>\n      <td>6079359.775</td>\n      <td>Marsch - Nord</td>\n      <td>A</td>\n      <td>0</td>\n      <td>YE</td>\n      <td>YE/BB</td>\n      <td>0</td>\n      <td>200.0</td>\n      <td>0.0</td>\n      <td>0.0</td>\n      <td>N0</td>\n      <td>KE</td>\n      <td>GG</td>\n      <td>V</td>\n      <td>Z</td>\n      <td>81.89</td>\n      <td>54.19</td>\n    </tr>\n    <tr>\n      <th>1</th>\n      <td>2.0</td>\n      <td>28.0</td>\n      <td>54.0</td>\n      <td>E</td>\n      <td>Sl2</td>\n      <td>10YR 3/3</td>\n      <td>3.0</td>\n      <td>C0</td>\n      <td>h2</td>\n      <td>Wf3</td>\n      <td>../data/BGR/Profilbilder_no_ruler_no_sky/SH_00...</td>\n      <td>11</td>\n      <td>2015</td>\n      <td>462216.1283</td>\n      <td>6079359.775</td>\n      <td>Marsch - Nord</td>\n      <td>A</td>\n      <td>0</td>\n      <td>YE</td>\n      <td>YE/BB</td>\n      <td>0</td>\n      <td>200.0</td>\n      <td>0.0</td>\n      <td>0.0</td>\n      <td>N0</td>\n      <td>KE</td>\n      <td>GG</td>\n      <td>V</td>\n      <td>Z</td>\n      <td>81.89</td>\n      <td>54.19</td>\n    </tr>\n    <tr>\n      <th>2</th>\n      <td>2.0</td>\n      <td>54.0</td>\n      <td>68.0</td>\n      <td>Bv</td>\n      <td>Sl2</td>\n      <td>7.5YR 4/3</td>\n      <td>10.0</td>\n      <td>C0</td>\n      <td>h1</td>\n      <td>Wf3</td>\n      <td>../data/BGR/Profilbilder_no_ruler_no_sky/SH_00...</td>\n      <td>11</td>\n      <td>2015</td>\n      <td>462216.1283</td>\n      <td>6079359.775</td>\n      <td>Marsch - Nord</td>\n      <td>A</td>\n      <td>0</td>\n      <td>YE</td>\n      <td>YE/BB</td>\n      <td>0</td>\n      <td>200.0</td>\n      <td>0.0</td>\n      <td>0.0</td>\n      <td>N0</td>\n      <td>KE</td>\n      <td>GG</td>\n      <td>V</td>\n      <td>Z</td>\n      <td>81.89</td>\n      <td>54.19</td>\n    </tr>\n    <tr>\n      <th>3</th>\n      <td>2.0</td>\n      <td>68.0</td>\n      <td>96.0</td>\n      <td>Bv-ilC</td>\n      <td>fSms</td>\n      <td>7.5YR 6/4</td>\n      <td>1.0</td>\n      <td>C0</td>\n      <td>h0</td>\n      <td>Wf2</td>\n      <td>../data/BGR/Profilbilder_no_ruler_no_sky/SH_00...</td>\n      <td>11</td>\n      <td>2015</td>\n      <td>462216.1283</td>\n      <td>6079359.775</td>\n      <td>Marsch - Nord</td>\n      <td>A</td>\n      <td>0</td>\n      <td>YE</td>\n      <td>YE/BB</td>\n      <td>0</td>\n      <td>200.0</td>\n      <td>0.0</td>\n      <td>0.0</td>\n      <td>N0</td>\n      <td>KE</td>\n      <td>GG</td>\n      <td>V</td>\n      <td>Z</td>\n      <td>81.89</td>\n      <td>54.19</td>\n    </tr>\n    <tr>\n      <th>4</th>\n      <td>2.0</td>\n      <td>96.0</td>\n      <td>201.0</td>\n      <td>ilC</td>\n      <td>mSfs</td>\n      <td>10YR 7/4</td>\n      <td>1.0</td>\n      <td>C0</td>\n      <td>h0</td>\n      <td>Wf0</td>\n      <td>../data/BGR/Profilbilder_no_ruler_no_sky/SH_00...</td>\n      <td>11</td>\n      <td>2015</td>\n      <td>462216.1283</td>\n      <td>6079359.775</td>\n      <td>Marsch - Nord</td>\n      <td>A</td>\n      <td>0</td>\n      <td>YE</td>\n      <td>YE/BB</td>\n      <td>0</td>\n      <td>200.0</td>\n      <td>0.0</td>\n      <td>0.0</td>\n      <td>N0</td>\n      <td>KE</td>\n      <td>GG</td>\n      <td>V</td>\n      <td>Z</td>\n      <td>81.89</td>\n      <td>54.19</td>\n    </tr>\n    <tr>\n      <th>...</th>\n      <td>...</td>\n      <td>...</td>\n      <td>...</td>\n      <td>...</td>\n      <td>...</td>\n      <td>...</td>\n      <td>...</td>\n      <td>...</td>\n      <td>...</td>\n      <td>...</td>\n      <td>...</td>\n      <td>...</td>\n      <td>...</td>\n      <td>...</td>\n      <td>...</td>\n      <td>...</td>\n      <td>...</td>\n      <td>...</td>\n      <td>...</td>\n      <td>...</td>\n      <td>...</td>\n      <td>...</td>\n      <td>...</td>\n      <td>...</td>\n      <td>...</td>\n      <td>...</td>\n      <td>...</td>\n      <td>...</td>\n      <td>...</td>\n      <td>...</td>\n      <td>...</td>\n    </tr>\n    <tr>\n      <th>16307</th>\n      <td>6211.0</td>\n      <td>27.0</td>\n      <td>50.0</td>\n      <td>Bhs</td>\n      <td>fSms</td>\n      <td>5YR 3/2</td>\n      <td>1.0</td>\n      <td>C0</td>\n      <td>h2</td>\n      <td>Wf3</td>\n      <td>../data/BGR/Profilbilder_no_ruler_no_sky/NI_62...</td>\n      <td>6</td>\n      <td>2012</td>\n      <td>522076.9633</td>\n      <td>5930456.114</td>\n      <td>Elbe-Weser-Dreieck / sandige Böden</td>\n      <td>G</td>\n      <td>0</td>\n      <td>PP</td>\n      <td>GG-PP</td>\n      <td>GWS4</td>\n      <td>110.0</td>\n      <td>0.0</td>\n      <td>0.0</td>\n      <td>N0</td>\n      <td>KE</td>\n      <td>GG</td>\n      <td>TSF</td>\n      <td>T</td>\n      <td>117.59</td>\n      <td>87.72</td>\n    </tr>\n    <tr>\n      <th>16308</th>\n      <td>6211.0</td>\n      <td>50.0</td>\n      <td>70.0</td>\n      <td>Bsh</td>\n      <td>fSms</td>\n      <td>5YR 4/3</td>\n      <td>1.0</td>\n      <td>C0</td>\n      <td>h1</td>\n      <td>Wf2</td>\n      <td>../data/BGR/Profilbilder_no_ruler_no_sky/NI_62...</td>\n      <td>6</td>\n      <td>2012</td>\n      <td>522076.9633</td>\n      <td>5930456.114</td>\n      <td>Elbe-Weser-Dreieck / sandige Böden</td>\n      <td>G</td>\n      <td>0</td>\n      <td>PP</td>\n      <td>GG-PP</td>\n      <td>GWS4</td>\n      <td>110.0</td>\n      <td>0.0</td>\n      <td>0.0</td>\n      <td>N0</td>\n      <td>KE</td>\n      <td>GG</td>\n      <td>TSF</td>\n      <td>T</td>\n      <td>117.59</td>\n      <td>87.72</td>\n    </tr>\n    <tr>\n      <th>16309</th>\n      <td>6211.0</td>\n      <td>50.0</td>\n      <td>70.0</td>\n      <td>Bsh</td>\n      <td>fSms</td>\n      <td>5YR 4/3</td>\n      <td>1.0</td>\n      <td>C0</td>\n      <td>h1</td>\n      <td>Wf2</td>\n      <td>../data/BGR/Profilbilder_no_ruler_no_sky/NI_62...</td>\n      <td>6</td>\n      <td>2012</td>\n      <td>522076.9633</td>\n      <td>5930456.114</td>\n      <td>Elbe-Weser-Dreieck / sandige Böden</td>\n      <td>G</td>\n      <td>0</td>\n      <td>PP</td>\n      <td>GG-PP</td>\n      <td>GWS4</td>\n      <td>110.0</td>\n      <td>0.0</td>\n      <td>0.0</td>\n      <td>N0</td>\n      <td>KE</td>\n      <td>GG</td>\n      <td>TSF</td>\n      <td>T</td>\n      <td>117.59</td>\n      <td>87.72</td>\n    </tr>\n    <tr>\n      <th>16310</th>\n      <td>6211.0</td>\n      <td>70.0</td>\n      <td>100.0</td>\n      <td>Go-ilC</td>\n      <td>fSms</td>\n      <td>7.5YR 5/4</td>\n      <td>1.0</td>\n      <td>C0</td>\n      <td>h1</td>\n      <td>Wf6</td>\n      <td>../data/BGR/Profilbilder_no_ruler_no_sky/NI_62...</td>\n      <td>6</td>\n      <td>2012</td>\n      <td>522076.9633</td>\n      <td>5930456.114</td>\n      <td>Elbe-Weser-Dreieck / sandige Böden</td>\n      <td>G</td>\n      <td>0</td>\n      <td>PP</td>\n      <td>GG-PP</td>\n      <td>GWS4</td>\n      <td>110.0</td>\n      <td>0.0</td>\n      <td>0.0</td>\n      <td>N0</td>\n      <td>KE</td>\n      <td>GG</td>\n      <td>TSF</td>\n      <td>T</td>\n      <td>117.59</td>\n      <td>87.72</td>\n    </tr>\n    <tr>\n      <th>16311</th>\n      <td>6211.0</td>\n      <td>70.0</td>\n      <td>100.0</td>\n      <td>Go-ilC</td>\n      <td>fSms</td>\n      <td>7.5YR 5/4</td>\n      <td>1.0</td>\n      <td>C0</td>\n      <td>h1</td>\n      <td>Wf6</td>\n      <td>../data/BGR/Profilbilder_no_ruler_no_sky/NI_62...</td>\n      <td>6</td>\n      <td>2012</td>\n      <td>522076.9633</td>\n      <td>5930456.114</td>\n      <td>Elbe-Weser-Dreieck / sandige Böden</td>\n      <td>G</td>\n      <td>0</td>\n      <td>PP</td>\n      <td>GG-PP</td>\n      <td>GWS4</td>\n      <td>110.0</td>\n      <td>0.0</td>\n      <td>0.0</td>\n      <td>N0</td>\n      <td>KE</td>\n      <td>GG</td>\n      <td>TSF</td>\n      <td>T</td>\n      <td>117.59</td>\n      <td>87.72</td>\n    </tr>\n  </tbody>\n</table>\n<p>13621 rows × 31 columns</p>\n</div>"
     },
     "execution_count": 23,
     "metadata": {},
     "output_type": "execute_result"
    }
   ],
   "source": [
    "# Map rare labels onto frequent labels\n",
    "df[target] = df[target].map(rare_labels_mapping)\n",
    "df"
   ],
   "metadata": {
    "collapsed": false,
    "pycharm": {
     "name": "#%%\n"
    }
   }
  },
  {
   "cell_type": "code",
   "execution_count": 24,
   "outputs": [
    {
     "name": "stderr",
     "output_type": "stream",
     "text": [
      "/tmp/ipykernel_1227360/1051670463.py:3: SettingWithCopyWarning: \n",
      "A value is trying to be set on a copy of a slice from a DataFrame.\n",
      "Try using .loc[row_indexer,col_indexer] = value instead\n",
      "\n",
      "See the caveats in the documentation: https://pandas.pydata.org/pandas-docs/stable/user_guide/indexing.html#returning-a-view-versus-a-copy\n",
      "  df[target] = df[target].map(dict_mapping) # in conjunction with HCEs\n",
      "/tmp/ipykernel_1227360/1051670463.py:4: SettingWithCopyWarning: \n",
      "A value is trying to be set on a copy of a slice from a DataFrame.\n",
      "Try using .loc[row_indexer,col_indexer] = value instead\n",
      "\n",
      "See the caveats in the documentation: https://pandas.pydata.org/pandas-docs/stable/user_guide/indexing.html#returning-a-view-versus-a-copy\n",
      "  df[target] = df[target].astype(int)\n"
     ]
    },
    {
     "data": {
      "text/plain": "   Point  Obergrenze  Untergrenze  Horizontsymbol_relevant Bodenart  \\\n0    2.0         0.0         28.0                       22      Sl2   \n1    2.0        28.0         54.0                        5      Sl2   \n2    2.0        54.0         68.0                       32      Sl2   \n3    2.0        68.0         96.0                       62     fSms   \n4    2.0        96.0        201.0                        0     mSfs   \n\n  Bodenfarbe  Steine Karbonat Humusgehaltsklasse Durchwurzelung  \\\n0  7.5YR 3/2     3.0       C0                 h3            Wf4   \n1   10YR 3/3     3.0       C0                 h2            Wf3   \n2  7.5YR 4/3    10.0       C0                 h1            Wf3   \n3  7.5YR 6/4     1.0       C0                 h0            Wf2   \n4   10YR 7/4     1.0       C0                 h0            Wf0   \n\n                                                file  Probenahme_Monat  \\\n0  ../data/BGR/Profilbilder_no_ruler_no_sky/SH_00...                11   \n1  ../data/BGR/Profilbilder_no_ruler_no_sky/SH_00...                11   \n2  ../data/BGR/Profilbilder_no_ruler_no_sky/SH_00...                11   \n3  ../data/BGR/Profilbilder_no_ruler_no_sky/SH_00...                11   \n4  ../data/BGR/Profilbilder_no_ruler_no_sky/SH_00...                11   \n\n   Probenahme_Jahr       xcoord       ycoord Bodenklimaraum_Name Landnutzung  \\\n0             2015  462216.1283  6079359.775       Marsch - Nord           A   \n1             2015  462216.1283  6079359.775       Marsch - Nord           A   \n2             2015  462216.1283  6079359.775       Marsch - Nord           A   \n3             2015  462216.1283  6079359.775       Marsch - Nord           A   \n4             2015  462216.1283  6079359.775       Marsch - Nord           A   \n\n  BZE_Moor Hauptbodentyp BodenVarTypSub GrundwaStufe  GrundwaStand  \\\n0        0            YE          YE/BB            0         200.0   \n1        0            YE          YE/BB            0         200.0   \n2        0            YE          YE/BB            0         200.0   \n3        0            YE          YE/BB            0         200.0   \n4        0            YE          YE/BB            0         200.0   \n\n   Moormaechtigkeit  Torfmaechtigkeit Neigung Exposition Woelbung  \\\n0               0.0               0.0      N0         KE       GG   \n1               0.0               0.0      N0         KE       GG   \n2               0.0               0.0      N0         KE       GG   \n3               0.0               0.0      N0         KE       GG   \n4               0.0               0.0      N0         KE       GG   \n\n  Reliefformtyp LageImRelief  KV_0_30  KV_30_100  \n0             V            Z    81.89      54.19  \n1             V            Z    81.89      54.19  \n2             V            Z    81.89      54.19  \n3             V            Z    81.89      54.19  \n4             V            Z    81.89      54.19  ",
      "text/html": "<div>\n<style scoped>\n    .dataframe tbody tr th:only-of-type {\n        vertical-align: middle;\n    }\n\n    .dataframe tbody tr th {\n        vertical-align: top;\n    }\n\n    .dataframe thead th {\n        text-align: right;\n    }\n</style>\n<table border=\"1\" class=\"dataframe\">\n  <thead>\n    <tr style=\"text-align: right;\">\n      <th></th>\n      <th>Point</th>\n      <th>Obergrenze</th>\n      <th>Untergrenze</th>\n      <th>Horizontsymbol_relevant</th>\n      <th>Bodenart</th>\n      <th>Bodenfarbe</th>\n      <th>Steine</th>\n      <th>Karbonat</th>\n      <th>Humusgehaltsklasse</th>\n      <th>Durchwurzelung</th>\n      <th>file</th>\n      <th>Probenahme_Monat</th>\n      <th>Probenahme_Jahr</th>\n      <th>xcoord</th>\n      <th>ycoord</th>\n      <th>Bodenklimaraum_Name</th>\n      <th>Landnutzung</th>\n      <th>BZE_Moor</th>\n      <th>Hauptbodentyp</th>\n      <th>BodenVarTypSub</th>\n      <th>GrundwaStufe</th>\n      <th>GrundwaStand</th>\n      <th>Moormaechtigkeit</th>\n      <th>Torfmaechtigkeit</th>\n      <th>Neigung</th>\n      <th>Exposition</th>\n      <th>Woelbung</th>\n      <th>Reliefformtyp</th>\n      <th>LageImRelief</th>\n      <th>KV_0_30</th>\n      <th>KV_30_100</th>\n    </tr>\n  </thead>\n  <tbody>\n    <tr>\n      <th>0</th>\n      <td>2.0</td>\n      <td>0.0</td>\n      <td>28.0</td>\n      <td>22</td>\n      <td>Sl2</td>\n      <td>7.5YR 3/2</td>\n      <td>3.0</td>\n      <td>C0</td>\n      <td>h3</td>\n      <td>Wf4</td>\n      <td>../data/BGR/Profilbilder_no_ruler_no_sky/SH_00...</td>\n      <td>11</td>\n      <td>2015</td>\n      <td>462216.1283</td>\n      <td>6079359.775</td>\n      <td>Marsch - Nord</td>\n      <td>A</td>\n      <td>0</td>\n      <td>YE</td>\n      <td>YE/BB</td>\n      <td>0</td>\n      <td>200.0</td>\n      <td>0.0</td>\n      <td>0.0</td>\n      <td>N0</td>\n      <td>KE</td>\n      <td>GG</td>\n      <td>V</td>\n      <td>Z</td>\n      <td>81.89</td>\n      <td>54.19</td>\n    </tr>\n    <tr>\n      <th>1</th>\n      <td>2.0</td>\n      <td>28.0</td>\n      <td>54.0</td>\n      <td>5</td>\n      <td>Sl2</td>\n      <td>10YR 3/3</td>\n      <td>3.0</td>\n      <td>C0</td>\n      <td>h2</td>\n      <td>Wf3</td>\n      <td>../data/BGR/Profilbilder_no_ruler_no_sky/SH_00...</td>\n      <td>11</td>\n      <td>2015</td>\n      <td>462216.1283</td>\n      <td>6079359.775</td>\n      <td>Marsch - Nord</td>\n      <td>A</td>\n      <td>0</td>\n      <td>YE</td>\n      <td>YE/BB</td>\n      <td>0</td>\n      <td>200.0</td>\n      <td>0.0</td>\n      <td>0.0</td>\n      <td>N0</td>\n      <td>KE</td>\n      <td>GG</td>\n      <td>V</td>\n      <td>Z</td>\n      <td>81.89</td>\n      <td>54.19</td>\n    </tr>\n    <tr>\n      <th>2</th>\n      <td>2.0</td>\n      <td>54.0</td>\n      <td>68.0</td>\n      <td>32</td>\n      <td>Sl2</td>\n      <td>7.5YR 4/3</td>\n      <td>10.0</td>\n      <td>C0</td>\n      <td>h1</td>\n      <td>Wf3</td>\n      <td>../data/BGR/Profilbilder_no_ruler_no_sky/SH_00...</td>\n      <td>11</td>\n      <td>2015</td>\n      <td>462216.1283</td>\n      <td>6079359.775</td>\n      <td>Marsch - Nord</td>\n      <td>A</td>\n      <td>0</td>\n      <td>YE</td>\n      <td>YE/BB</td>\n      <td>0</td>\n      <td>200.0</td>\n      <td>0.0</td>\n      <td>0.0</td>\n      <td>N0</td>\n      <td>KE</td>\n      <td>GG</td>\n      <td>V</td>\n      <td>Z</td>\n      <td>81.89</td>\n      <td>54.19</td>\n    </tr>\n    <tr>\n      <th>3</th>\n      <td>2.0</td>\n      <td>68.0</td>\n      <td>96.0</td>\n      <td>62</td>\n      <td>fSms</td>\n      <td>7.5YR 6/4</td>\n      <td>1.0</td>\n      <td>C0</td>\n      <td>h0</td>\n      <td>Wf2</td>\n      <td>../data/BGR/Profilbilder_no_ruler_no_sky/SH_00...</td>\n      <td>11</td>\n      <td>2015</td>\n      <td>462216.1283</td>\n      <td>6079359.775</td>\n      <td>Marsch - Nord</td>\n      <td>A</td>\n      <td>0</td>\n      <td>YE</td>\n      <td>YE/BB</td>\n      <td>0</td>\n      <td>200.0</td>\n      <td>0.0</td>\n      <td>0.0</td>\n      <td>N0</td>\n      <td>KE</td>\n      <td>GG</td>\n      <td>V</td>\n      <td>Z</td>\n      <td>81.89</td>\n      <td>54.19</td>\n    </tr>\n    <tr>\n      <th>4</th>\n      <td>2.0</td>\n      <td>96.0</td>\n      <td>201.0</td>\n      <td>0</td>\n      <td>mSfs</td>\n      <td>10YR 7/4</td>\n      <td>1.0</td>\n      <td>C0</td>\n      <td>h0</td>\n      <td>Wf0</td>\n      <td>../data/BGR/Profilbilder_no_ruler_no_sky/SH_00...</td>\n      <td>11</td>\n      <td>2015</td>\n      <td>462216.1283</td>\n      <td>6079359.775</td>\n      <td>Marsch - Nord</td>\n      <td>A</td>\n      <td>0</td>\n      <td>YE</td>\n      <td>YE/BB</td>\n      <td>0</td>\n      <td>200.0</td>\n      <td>0.0</td>\n      <td>0.0</td>\n      <td>N0</td>\n      <td>KE</td>\n      <td>GG</td>\n      <td>V</td>\n      <td>Z</td>\n      <td>81.89</td>\n      <td>54.19</td>\n    </tr>\n  </tbody>\n</table>\n</div>"
     },
     "execution_count": 24,
     "metadata": {},
     "output_type": "execute_result"
    }
   ],
   "source": [
    "# One-hot encoding of the target column\n",
    "#bgr_data.encode_categorical_columns(df, target) # for standard one-hot vectors of the targets\n",
    "df[target] = df[target].map(dict_mapping) # in conjunction with HCEs\n",
    "df[target] = df[target].astype(int)\n",
    "df.head(5)"
   ],
   "metadata": {
    "collapsed": false,
    "pycharm": {
     "name": "#%%\n"
    }
   }
  },
  {
   "cell_type": "code",
   "execution_count": 25,
   "outputs": [
    {
     "name": "stderr",
     "output_type": "stream",
     "text": [
      "/mnt/KInsektDaten/teo/./BGR/bgr/soil/datasets.py:35: SettingWithCopyWarning: \n",
      "A value is trying to be set on a copy of a slice from a DataFrame.\n",
      "Try using .loc[row_indexer,col_indexer] = value instead\n",
      "\n",
      "See the caveats in the documentation: https://pandas.pydata.org/pandas-docs/stable/user_guide/indexing.html#returning-a-view-versus-a-copy\n",
      "  df[col_name] = df[col_name].replace(counts.index, range(len(counts)))\n",
      "/mnt/KInsektDaten/teo/./BGR/bgr/soil/datasets.py:35: FutureWarning: Downcasting behavior in `replace` is deprecated and will be removed in a future version. To retain the old behavior, explicitly call `result.infer_objects(copy=False)`. To opt-in to the future behavior, set `pd.set_option('future.no_silent_downcasting', True)`\n",
      "  df[col_name] = df[col_name].replace(counts.index, range(len(counts)))\n",
      "/mnt/KInsektDaten/teo/./BGR/bgr/soil/datasets.py:35: SettingWithCopyWarning: \n",
      "A value is trying to be set on a copy of a slice from a DataFrame.\n",
      "Try using .loc[row_indexer,col_indexer] = value instead\n",
      "\n",
      "See the caveats in the documentation: https://pandas.pydata.org/pandas-docs/stable/user_guide/indexing.html#returning-a-view-versus-a-copy\n",
      "  df[col_name] = df[col_name].replace(counts.index, range(len(counts)))\n",
      "/mnt/KInsektDaten/teo/./BGR/bgr/soil/datasets.py:35: FutureWarning: Downcasting behavior in `replace` is deprecated and will be removed in a future version. To retain the old behavior, explicitly call `result.infer_objects(copy=False)`. To opt-in to the future behavior, set `pd.set_option('future.no_silent_downcasting', True)`\n",
      "  df[col_name] = df[col_name].replace(counts.index, range(len(counts)))\n",
      "/mnt/KInsektDaten/teo/./BGR/bgr/soil/datasets.py:35: SettingWithCopyWarning: \n",
      "A value is trying to be set on a copy of a slice from a DataFrame.\n",
      "Try using .loc[row_indexer,col_indexer] = value instead\n",
      "\n",
      "See the caveats in the documentation: https://pandas.pydata.org/pandas-docs/stable/user_guide/indexing.html#returning-a-view-versus-a-copy\n",
      "  df[col_name] = df[col_name].replace(counts.index, range(len(counts)))\n",
      "/mnt/KInsektDaten/teo/./BGR/bgr/soil/datasets.py:35: FutureWarning: Downcasting behavior in `replace` is deprecated and will be removed in a future version. To retain the old behavior, explicitly call `result.infer_objects(copy=False)`. To opt-in to the future behavior, set `pd.set_option('future.no_silent_downcasting', True)`\n",
      "  df[col_name] = df[col_name].replace(counts.index, range(len(counts)))\n",
      "/mnt/KInsektDaten/teo/./BGR/bgr/soil/datasets.py:35: SettingWithCopyWarning: \n",
      "A value is trying to be set on a copy of a slice from a DataFrame.\n",
      "Try using .loc[row_indexer,col_indexer] = value instead\n",
      "\n",
      "See the caveats in the documentation: https://pandas.pydata.org/pandas-docs/stable/user_guide/indexing.html#returning-a-view-versus-a-copy\n",
      "  df[col_name] = df[col_name].replace(counts.index, range(len(counts)))\n",
      "/mnt/KInsektDaten/teo/./BGR/bgr/soil/datasets.py:35: FutureWarning: Downcasting behavior in `replace` is deprecated and will be removed in a future version. To retain the old behavior, explicitly call `result.infer_objects(copy=False)`. To opt-in to the future behavior, set `pd.set_option('future.no_silent_downcasting', True)`\n",
      "  df[col_name] = df[col_name].replace(counts.index, range(len(counts)))\n",
      "/mnt/KInsektDaten/teo/./BGR/bgr/soil/datasets.py:35: SettingWithCopyWarning: \n",
      "A value is trying to be set on a copy of a slice from a DataFrame.\n",
      "Try using .loc[row_indexer,col_indexer] = value instead\n",
      "\n",
      "See the caveats in the documentation: https://pandas.pydata.org/pandas-docs/stable/user_guide/indexing.html#returning-a-view-versus-a-copy\n",
      "  df[col_name] = df[col_name].replace(counts.index, range(len(counts)))\n",
      "/mnt/KInsektDaten/teo/./BGR/bgr/soil/datasets.py:35: FutureWarning: Downcasting behavior in `replace` is deprecated and will be removed in a future version. To retain the old behavior, explicitly call `result.infer_objects(copy=False)`. To opt-in to the future behavior, set `pd.set_option('future.no_silent_downcasting', True)`\n",
      "  df[col_name] = df[col_name].replace(counts.index, range(len(counts)))\n",
      "/mnt/KInsektDaten/teo/./BGR/bgr/soil/datasets.py:35: SettingWithCopyWarning: \n",
      "A value is trying to be set on a copy of a slice from a DataFrame.\n",
      "Try using .loc[row_indexer,col_indexer] = value instead\n",
      "\n",
      "See the caveats in the documentation: https://pandas.pydata.org/pandas-docs/stable/user_guide/indexing.html#returning-a-view-versus-a-copy\n",
      "  df[col_name] = df[col_name].replace(counts.index, range(len(counts)))\n",
      "/mnt/KInsektDaten/teo/./BGR/bgr/soil/datasets.py:35: FutureWarning: Downcasting behavior in `replace` is deprecated and will be removed in a future version. To retain the old behavior, explicitly call `result.infer_objects(copy=False)`. To opt-in to the future behavior, set `pd.set_option('future.no_silent_downcasting', True)`\n",
      "  df[col_name] = df[col_name].replace(counts.index, range(len(counts)))\n",
      "/mnt/KInsektDaten/teo/./BGR/bgr/soil/datasets.py:35: SettingWithCopyWarning: \n",
      "A value is trying to be set on a copy of a slice from a DataFrame.\n",
      "Try using .loc[row_indexer,col_indexer] = value instead\n",
      "\n",
      "See the caveats in the documentation: https://pandas.pydata.org/pandas-docs/stable/user_guide/indexing.html#returning-a-view-versus-a-copy\n",
      "  df[col_name] = df[col_name].replace(counts.index, range(len(counts)))\n",
      "/mnt/KInsektDaten/teo/./BGR/bgr/soil/datasets.py:35: FutureWarning: Downcasting behavior in `replace` is deprecated and will be removed in a future version. To retain the old behavior, explicitly call `result.infer_objects(copy=False)`. To opt-in to the future behavior, set `pd.set_option('future.no_silent_downcasting', True)`\n",
      "  df[col_name] = df[col_name].replace(counts.index, range(len(counts)))\n",
      "/mnt/KInsektDaten/teo/./BGR/bgr/soil/datasets.py:35: SettingWithCopyWarning: \n",
      "A value is trying to be set on a copy of a slice from a DataFrame.\n",
      "Try using .loc[row_indexer,col_indexer] = value instead\n",
      "\n",
      "See the caveats in the documentation: https://pandas.pydata.org/pandas-docs/stable/user_guide/indexing.html#returning-a-view-versus-a-copy\n",
      "  df[col_name] = df[col_name].replace(counts.index, range(len(counts)))\n",
      "/mnt/KInsektDaten/teo/./BGR/bgr/soil/datasets.py:35: FutureWarning: Downcasting behavior in `replace` is deprecated and will be removed in a future version. To retain the old behavior, explicitly call `result.infer_objects(copy=False)`. To opt-in to the future behavior, set `pd.set_option('future.no_silent_downcasting', True)`\n",
      "  df[col_name] = df[col_name].replace(counts.index, range(len(counts)))\n",
      "/mnt/KInsektDaten/teo/./BGR/bgr/soil/datasets.py:35: SettingWithCopyWarning: \n",
      "A value is trying to be set on a copy of a slice from a DataFrame.\n",
      "Try using .loc[row_indexer,col_indexer] = value instead\n",
      "\n",
      "See the caveats in the documentation: https://pandas.pydata.org/pandas-docs/stable/user_guide/indexing.html#returning-a-view-versus-a-copy\n",
      "  df[col_name] = df[col_name].replace(counts.index, range(len(counts)))\n",
      "/mnt/KInsektDaten/teo/./BGR/bgr/soil/datasets.py:35: FutureWarning: Downcasting behavior in `replace` is deprecated and will be removed in a future version. To retain the old behavior, explicitly call `result.infer_objects(copy=False)`. To opt-in to the future behavior, set `pd.set_option('future.no_silent_downcasting', True)`\n",
      "  df[col_name] = df[col_name].replace(counts.index, range(len(counts)))\n",
      "/mnt/KInsektDaten/teo/./BGR/bgr/soil/datasets.py:35: SettingWithCopyWarning: \n",
      "A value is trying to be set on a copy of a slice from a DataFrame.\n",
      "Try using .loc[row_indexer,col_indexer] = value instead\n",
      "\n",
      "See the caveats in the documentation: https://pandas.pydata.org/pandas-docs/stable/user_guide/indexing.html#returning-a-view-versus-a-copy\n",
      "  df[col_name] = df[col_name].replace(counts.index, range(len(counts)))\n",
      "/mnt/KInsektDaten/teo/./BGR/bgr/soil/datasets.py:35: FutureWarning: Downcasting behavior in `replace` is deprecated and will be removed in a future version. To retain the old behavior, explicitly call `result.infer_objects(copy=False)`. To opt-in to the future behavior, set `pd.set_option('future.no_silent_downcasting', True)`\n",
      "  df[col_name] = df[col_name].replace(counts.index, range(len(counts)))\n",
      "/mnt/KInsektDaten/teo/./BGR/bgr/soil/datasets.py:35: SettingWithCopyWarning: \n",
      "A value is trying to be set on a copy of a slice from a DataFrame.\n",
      "Try using .loc[row_indexer,col_indexer] = value instead\n",
      "\n",
      "See the caveats in the documentation: https://pandas.pydata.org/pandas-docs/stable/user_guide/indexing.html#returning-a-view-versus-a-copy\n",
      "  df[col_name] = df[col_name].replace(counts.index, range(len(counts)))\n",
      "/mnt/KInsektDaten/teo/./BGR/bgr/soil/datasets.py:35: FutureWarning: Downcasting behavior in `replace` is deprecated and will be removed in a future version. To retain the old behavior, explicitly call `result.infer_objects(copy=False)`. To opt-in to the future behavior, set `pd.set_option('future.no_silent_downcasting', True)`\n",
      "  df[col_name] = df[col_name].replace(counts.index, range(len(counts)))\n",
      "/mnt/KInsektDaten/teo/./BGR/bgr/soil/datasets.py:35: SettingWithCopyWarning: \n",
      "A value is trying to be set on a copy of a slice from a DataFrame.\n",
      "Try using .loc[row_indexer,col_indexer] = value instead\n",
      "\n",
      "See the caveats in the documentation: https://pandas.pydata.org/pandas-docs/stable/user_guide/indexing.html#returning-a-view-versus-a-copy\n",
      "  df[col_name] = df[col_name].replace(counts.index, range(len(counts)))\n",
      "/mnt/KInsektDaten/teo/./BGR/bgr/soil/datasets.py:35: FutureWarning: Downcasting behavior in `replace` is deprecated and will be removed in a future version. To retain the old behavior, explicitly call `result.infer_objects(copy=False)`. To opt-in to the future behavior, set `pd.set_option('future.no_silent_downcasting', True)`\n",
      "  df[col_name] = df[col_name].replace(counts.index, range(len(counts)))\n",
      "/mnt/KInsektDaten/teo/./BGR/bgr/soil/datasets.py:35: SettingWithCopyWarning: \n",
      "A value is trying to be set on a copy of a slice from a DataFrame.\n",
      "Try using .loc[row_indexer,col_indexer] = value instead\n",
      "\n",
      "See the caveats in the documentation: https://pandas.pydata.org/pandas-docs/stable/user_guide/indexing.html#returning-a-view-versus-a-copy\n",
      "  df[col_name] = df[col_name].replace(counts.index, range(len(counts)))\n",
      "/mnt/KInsektDaten/teo/./BGR/bgr/soil/datasets.py:35: FutureWarning: Downcasting behavior in `replace` is deprecated and will be removed in a future version. To retain the old behavior, explicitly call `result.infer_objects(copy=False)`. To opt-in to the future behavior, set `pd.set_option('future.no_silent_downcasting', True)`\n",
      "  df[col_name] = df[col_name].replace(counts.index, range(len(counts)))\n",
      "/mnt/KInsektDaten/teo/./BGR/bgr/soil/datasets.py:35: SettingWithCopyWarning: \n",
      "A value is trying to be set on a copy of a slice from a DataFrame.\n",
      "Try using .loc[row_indexer,col_indexer] = value instead\n",
      "\n",
      "See the caveats in the documentation: https://pandas.pydata.org/pandas-docs/stable/user_guide/indexing.html#returning-a-view-versus-a-copy\n",
      "  df[col_name] = df[col_name].replace(counts.index, range(len(counts)))\n",
      "/mnt/KInsektDaten/teo/./BGR/bgr/soil/datasets.py:35: FutureWarning: Downcasting behavior in `replace` is deprecated and will be removed in a future version. To retain the old behavior, explicitly call `result.infer_objects(copy=False)`. To opt-in to the future behavior, set `pd.set_option('future.no_silent_downcasting', True)`\n",
      "  df[col_name] = df[col_name].replace(counts.index, range(len(counts)))\n",
      "/mnt/KInsektDaten/teo/./BGR/bgr/soil/datasets.py:35: SettingWithCopyWarning: \n",
      "A value is trying to be set on a copy of a slice from a DataFrame.\n",
      "Try using .loc[row_indexer,col_indexer] = value instead\n",
      "\n",
      "See the caveats in the documentation: https://pandas.pydata.org/pandas-docs/stable/user_guide/indexing.html#returning-a-view-versus-a-copy\n",
      "  df[col_name] = df[col_name].replace(counts.index, range(len(counts)))\n",
      "/mnt/KInsektDaten/teo/./BGR/bgr/soil/datasets.py:35: FutureWarning: Downcasting behavior in `replace` is deprecated and will be removed in a future version. To retain the old behavior, explicitly call `result.infer_objects(copy=False)`. To opt-in to the future behavior, set `pd.set_option('future.no_silent_downcasting', True)`\n",
      "  df[col_name] = df[col_name].replace(counts.index, range(len(counts)))\n",
      "/mnt/KInsektDaten/teo/./BGR/bgr/soil/datasets.py:35: SettingWithCopyWarning: \n",
      "A value is trying to be set on a copy of a slice from a DataFrame.\n",
      "Try using .loc[row_indexer,col_indexer] = value instead\n",
      "\n",
      "See the caveats in the documentation: https://pandas.pydata.org/pandas-docs/stable/user_guide/indexing.html#returning-a-view-versus-a-copy\n",
      "  df[col_name] = df[col_name].replace(counts.index, range(len(counts)))\n",
      "/mnt/KInsektDaten/teo/./BGR/bgr/soil/datasets.py:35: FutureWarning: Downcasting behavior in `replace` is deprecated and will be removed in a future version. To retain the old behavior, explicitly call `result.infer_objects(copy=False)`. To opt-in to the future behavior, set `pd.set_option('future.no_silent_downcasting', True)`\n",
      "  df[col_name] = df[col_name].replace(counts.index, range(len(counts)))\n",
      "/mnt/KInsektDaten/teo/./BGR/bgr/soil/datasets.py:35: SettingWithCopyWarning: \n",
      "A value is trying to be set on a copy of a slice from a DataFrame.\n",
      "Try using .loc[row_indexer,col_indexer] = value instead\n",
      "\n",
      "See the caveats in the documentation: https://pandas.pydata.org/pandas-docs/stable/user_guide/indexing.html#returning-a-view-versus-a-copy\n",
      "  df[col_name] = df[col_name].replace(counts.index, range(len(counts)))\n"
     ]
    },
    {
     "data": {
      "text/plain": "        Point  Obergrenze  Untergrenze  Horizontsymbol_relevant  Bodenart  \\\n0         2.0         0.0         28.0                       22       3.0   \n1         2.0        28.0         54.0                        5       3.0   \n2         2.0        54.0         68.0                       32       3.0   \n3         2.0        68.0         96.0                       62       8.0   \n4         2.0        96.0        201.0                        0       7.0   \n...       ...         ...          ...                      ...       ...   \n16307  6211.0        27.0         50.0                       37       8.0   \n16308  6211.0        50.0         70.0                       12       8.0   \n16309  6211.0        50.0         70.0                       12       8.0   \n16310  6211.0        70.0        100.0                       74       8.0   \n16311  6211.0        70.0        100.0                       74       8.0   \n\n       Bodenfarbe  Steine  Karbonat  Humusgehaltsklasse  Durchwurzelung  \\\n0            24.0     3.0         0                 1.0               4   \n1             0.0     3.0         0                 3.0               3   \n2            20.0    10.0         0                 2.0               3   \n3            72.0     1.0         0                 0.0               1   \n4            37.0     1.0         0                 0.0               0   \n...           ...     ...       ...                 ...             ...   \n16307        68.0     1.0         0                 3.0               3   \n16308        38.0     1.0         0                 2.0               1   \n16309        38.0     1.0         0                 2.0               1   \n16310        19.0     1.0         0                 2.0               6   \n16311        19.0     1.0         0                 2.0               6   \n\n                                                    file  Probenahme_Monat  \\\n0      ../data/BGR/Profilbilder_no_ruler_no_sky/SH_00...                 3   \n1      ../data/BGR/Profilbilder_no_ruler_no_sky/SH_00...                 3   \n2      ../data/BGR/Profilbilder_no_ruler_no_sky/SH_00...                 3   \n3      ../data/BGR/Profilbilder_no_ruler_no_sky/SH_00...                 3   \n4      ../data/BGR/Profilbilder_no_ruler_no_sky/SH_00...                 3   \n...                                                  ...               ...   \n16307  ../data/BGR/Profilbilder_no_ruler_no_sky/NI_62...                10   \n16308  ../data/BGR/Profilbilder_no_ruler_no_sky/NI_62...                10   \n16309  ../data/BGR/Profilbilder_no_ruler_no_sky/NI_62...                10   \n16310  ../data/BGR/Profilbilder_no_ruler_no_sky/NI_62...                10   \n16311  ../data/BGR/Profilbilder_no_ruler_no_sky/NI_62...                10   \n\n       Probenahme_Jahr       xcoord       ycoord  Bodenklimaraum_Name  \\\n0                    4  462216.1283  6079359.775                   37   \n1                    4  462216.1283  6079359.775                   37   \n2                    4  462216.1283  6079359.775                   37   \n3                    4  462216.1283  6079359.775                   37   \n4                    4  462216.1283  6079359.775                   37   \n...                ...          ...          ...                  ...   \n16307                0  522076.9633  5930456.114                   15   \n16308                0  522076.9633  5930456.114                   15   \n16309                0  522076.9633  5930456.114                   15   \n16310                0  522076.9633  5930456.114                   15   \n16311                0  522076.9633  5930456.114                   15   \n\n       Landnutzung  BZE_Moor  Hauptbodentyp  BodenVarTypSub  GrundwaStufe  \\\n0                0         0             15             247           0.0   \n1                0         0             15             247           0.0   \n2                0         0             15             247           0.0   \n3                0         0             15             247           0.0   \n4                0         0             15             247           0.0   \n...            ...       ...            ...             ...           ...   \n16307            1         0              8              42           1.0   \n16308            1         0              8              42           1.0   \n16309            1         0              8              42           1.0   \n16310            1         0              8              42           1.0   \n16311            1         0              8              42           1.0   \n\n       GrundwaStand  Moormaechtigkeit  Torfmaechtigkeit  Neigung  Exposition  \\\n0             200.0               0.0               0.0      0.0         0.0   \n1             200.0               0.0               0.0      0.0         0.0   \n2             200.0               0.0               0.0      0.0         0.0   \n3             200.0               0.0               0.0      0.0         0.0   \n4             200.0               0.0               0.0      0.0         0.0   \n...             ...               ...               ...      ...         ...   \n16307         110.0               0.0               0.0      0.0         0.0   \n16308         110.0               0.0               0.0      0.0         0.0   \n16309         110.0               0.0               0.0      0.0         0.0   \n16310         110.0               0.0               0.0      0.0         0.0   \n16311         110.0               0.0               0.0      0.0         0.0   \n\n       Woelbung  Reliefformtyp  LageImRelief  KV_0_30  KV_30_100  \n0           0.0            1.0           0.0    81.89      54.19  \n1           0.0            1.0           0.0    81.89      54.19  \n2           0.0            1.0           0.0    81.89      54.19  \n3           0.0            1.0           0.0    81.89      54.19  \n4           0.0            1.0           0.0    81.89      54.19  \n...         ...            ...           ...      ...        ...  \n16307       0.0            2.0           5.0   117.59      87.72  \n16308       0.0            2.0           5.0   117.59      87.72  \n16309       0.0            2.0           5.0   117.59      87.72  \n16310       0.0            2.0           5.0   117.59      87.72  \n16311       0.0            2.0           5.0   117.59      87.72  \n\n[13621 rows x 31 columns]",
      "text/html": "<div>\n<style scoped>\n    .dataframe tbody tr th:only-of-type {\n        vertical-align: middle;\n    }\n\n    .dataframe tbody tr th {\n        vertical-align: top;\n    }\n\n    .dataframe thead th {\n        text-align: right;\n    }\n</style>\n<table border=\"1\" class=\"dataframe\">\n  <thead>\n    <tr style=\"text-align: right;\">\n      <th></th>\n      <th>Point</th>\n      <th>Obergrenze</th>\n      <th>Untergrenze</th>\n      <th>Horizontsymbol_relevant</th>\n      <th>Bodenart</th>\n      <th>Bodenfarbe</th>\n      <th>Steine</th>\n      <th>Karbonat</th>\n      <th>Humusgehaltsklasse</th>\n      <th>Durchwurzelung</th>\n      <th>file</th>\n      <th>Probenahme_Monat</th>\n      <th>Probenahme_Jahr</th>\n      <th>xcoord</th>\n      <th>ycoord</th>\n      <th>Bodenklimaraum_Name</th>\n      <th>Landnutzung</th>\n      <th>BZE_Moor</th>\n      <th>Hauptbodentyp</th>\n      <th>BodenVarTypSub</th>\n      <th>GrundwaStufe</th>\n      <th>GrundwaStand</th>\n      <th>Moormaechtigkeit</th>\n      <th>Torfmaechtigkeit</th>\n      <th>Neigung</th>\n      <th>Exposition</th>\n      <th>Woelbung</th>\n      <th>Reliefformtyp</th>\n      <th>LageImRelief</th>\n      <th>KV_0_30</th>\n      <th>KV_30_100</th>\n    </tr>\n  </thead>\n  <tbody>\n    <tr>\n      <th>0</th>\n      <td>2.0</td>\n      <td>0.0</td>\n      <td>28.0</td>\n      <td>22</td>\n      <td>3.0</td>\n      <td>24.0</td>\n      <td>3.0</td>\n      <td>0</td>\n      <td>1.0</td>\n      <td>4</td>\n      <td>../data/BGR/Profilbilder_no_ruler_no_sky/SH_00...</td>\n      <td>3</td>\n      <td>4</td>\n      <td>462216.1283</td>\n      <td>6079359.775</td>\n      <td>37</td>\n      <td>0</td>\n      <td>0</td>\n      <td>15</td>\n      <td>247</td>\n      <td>0.0</td>\n      <td>200.0</td>\n      <td>0.0</td>\n      <td>0.0</td>\n      <td>0.0</td>\n      <td>0.0</td>\n      <td>0.0</td>\n      <td>1.0</td>\n      <td>0.0</td>\n      <td>81.89</td>\n      <td>54.19</td>\n    </tr>\n    <tr>\n      <th>1</th>\n      <td>2.0</td>\n      <td>28.0</td>\n      <td>54.0</td>\n      <td>5</td>\n      <td>3.0</td>\n      <td>0.0</td>\n      <td>3.0</td>\n      <td>0</td>\n      <td>3.0</td>\n      <td>3</td>\n      <td>../data/BGR/Profilbilder_no_ruler_no_sky/SH_00...</td>\n      <td>3</td>\n      <td>4</td>\n      <td>462216.1283</td>\n      <td>6079359.775</td>\n      <td>37</td>\n      <td>0</td>\n      <td>0</td>\n      <td>15</td>\n      <td>247</td>\n      <td>0.0</td>\n      <td>200.0</td>\n      <td>0.0</td>\n      <td>0.0</td>\n      <td>0.0</td>\n      <td>0.0</td>\n      <td>0.0</td>\n      <td>1.0</td>\n      <td>0.0</td>\n      <td>81.89</td>\n      <td>54.19</td>\n    </tr>\n    <tr>\n      <th>2</th>\n      <td>2.0</td>\n      <td>54.0</td>\n      <td>68.0</td>\n      <td>32</td>\n      <td>3.0</td>\n      <td>20.0</td>\n      <td>10.0</td>\n      <td>0</td>\n      <td>2.0</td>\n      <td>3</td>\n      <td>../data/BGR/Profilbilder_no_ruler_no_sky/SH_00...</td>\n      <td>3</td>\n      <td>4</td>\n      <td>462216.1283</td>\n      <td>6079359.775</td>\n      <td>37</td>\n      <td>0</td>\n      <td>0</td>\n      <td>15</td>\n      <td>247</td>\n      <td>0.0</td>\n      <td>200.0</td>\n      <td>0.0</td>\n      <td>0.0</td>\n      <td>0.0</td>\n      <td>0.0</td>\n      <td>0.0</td>\n      <td>1.0</td>\n      <td>0.0</td>\n      <td>81.89</td>\n      <td>54.19</td>\n    </tr>\n    <tr>\n      <th>3</th>\n      <td>2.0</td>\n      <td>68.0</td>\n      <td>96.0</td>\n      <td>62</td>\n      <td>8.0</td>\n      <td>72.0</td>\n      <td>1.0</td>\n      <td>0</td>\n      <td>0.0</td>\n      <td>1</td>\n      <td>../data/BGR/Profilbilder_no_ruler_no_sky/SH_00...</td>\n      <td>3</td>\n      <td>4</td>\n      <td>462216.1283</td>\n      <td>6079359.775</td>\n      <td>37</td>\n      <td>0</td>\n      <td>0</td>\n      <td>15</td>\n      <td>247</td>\n      <td>0.0</td>\n      <td>200.0</td>\n      <td>0.0</td>\n      <td>0.0</td>\n      <td>0.0</td>\n      <td>0.0</td>\n      <td>0.0</td>\n      <td>1.0</td>\n      <td>0.0</td>\n      <td>81.89</td>\n      <td>54.19</td>\n    </tr>\n    <tr>\n      <th>4</th>\n      <td>2.0</td>\n      <td>96.0</td>\n      <td>201.0</td>\n      <td>0</td>\n      <td>7.0</td>\n      <td>37.0</td>\n      <td>1.0</td>\n      <td>0</td>\n      <td>0.0</td>\n      <td>0</td>\n      <td>../data/BGR/Profilbilder_no_ruler_no_sky/SH_00...</td>\n      <td>3</td>\n      <td>4</td>\n      <td>462216.1283</td>\n      <td>6079359.775</td>\n      <td>37</td>\n      <td>0</td>\n      <td>0</td>\n      <td>15</td>\n      <td>247</td>\n      <td>0.0</td>\n      <td>200.0</td>\n      <td>0.0</td>\n      <td>0.0</td>\n      <td>0.0</td>\n      <td>0.0</td>\n      <td>0.0</td>\n      <td>1.0</td>\n      <td>0.0</td>\n      <td>81.89</td>\n      <td>54.19</td>\n    </tr>\n    <tr>\n      <th>...</th>\n      <td>...</td>\n      <td>...</td>\n      <td>...</td>\n      <td>...</td>\n      <td>...</td>\n      <td>...</td>\n      <td>...</td>\n      <td>...</td>\n      <td>...</td>\n      <td>...</td>\n      <td>...</td>\n      <td>...</td>\n      <td>...</td>\n      <td>...</td>\n      <td>...</td>\n      <td>...</td>\n      <td>...</td>\n      <td>...</td>\n      <td>...</td>\n      <td>...</td>\n      <td>...</td>\n      <td>...</td>\n      <td>...</td>\n      <td>...</td>\n      <td>...</td>\n      <td>...</td>\n      <td>...</td>\n      <td>...</td>\n      <td>...</td>\n      <td>...</td>\n      <td>...</td>\n    </tr>\n    <tr>\n      <th>16307</th>\n      <td>6211.0</td>\n      <td>27.0</td>\n      <td>50.0</td>\n      <td>37</td>\n      <td>8.0</td>\n      <td>68.0</td>\n      <td>1.0</td>\n      <td>0</td>\n      <td>3.0</td>\n      <td>3</td>\n      <td>../data/BGR/Profilbilder_no_ruler_no_sky/NI_62...</td>\n      <td>10</td>\n      <td>0</td>\n      <td>522076.9633</td>\n      <td>5930456.114</td>\n      <td>15</td>\n      <td>1</td>\n      <td>0</td>\n      <td>8</td>\n      <td>42</td>\n      <td>1.0</td>\n      <td>110.0</td>\n      <td>0.0</td>\n      <td>0.0</td>\n      <td>0.0</td>\n      <td>0.0</td>\n      <td>0.0</td>\n      <td>2.0</td>\n      <td>5.0</td>\n      <td>117.59</td>\n      <td>87.72</td>\n    </tr>\n    <tr>\n      <th>16308</th>\n      <td>6211.0</td>\n      <td>50.0</td>\n      <td>70.0</td>\n      <td>12</td>\n      <td>8.0</td>\n      <td>38.0</td>\n      <td>1.0</td>\n      <td>0</td>\n      <td>2.0</td>\n      <td>1</td>\n      <td>../data/BGR/Profilbilder_no_ruler_no_sky/NI_62...</td>\n      <td>10</td>\n      <td>0</td>\n      <td>522076.9633</td>\n      <td>5930456.114</td>\n      <td>15</td>\n      <td>1</td>\n      <td>0</td>\n      <td>8</td>\n      <td>42</td>\n      <td>1.0</td>\n      <td>110.0</td>\n      <td>0.0</td>\n      <td>0.0</td>\n      <td>0.0</td>\n      <td>0.0</td>\n      <td>0.0</td>\n      <td>2.0</td>\n      <td>5.0</td>\n      <td>117.59</td>\n      <td>87.72</td>\n    </tr>\n    <tr>\n      <th>16309</th>\n      <td>6211.0</td>\n      <td>50.0</td>\n      <td>70.0</td>\n      <td>12</td>\n      <td>8.0</td>\n      <td>38.0</td>\n      <td>1.0</td>\n      <td>0</td>\n      <td>2.0</td>\n      <td>1</td>\n      <td>../data/BGR/Profilbilder_no_ruler_no_sky/NI_62...</td>\n      <td>10</td>\n      <td>0</td>\n      <td>522076.9633</td>\n      <td>5930456.114</td>\n      <td>15</td>\n      <td>1</td>\n      <td>0</td>\n      <td>8</td>\n      <td>42</td>\n      <td>1.0</td>\n      <td>110.0</td>\n      <td>0.0</td>\n      <td>0.0</td>\n      <td>0.0</td>\n      <td>0.0</td>\n      <td>0.0</td>\n      <td>2.0</td>\n      <td>5.0</td>\n      <td>117.59</td>\n      <td>87.72</td>\n    </tr>\n    <tr>\n      <th>16310</th>\n      <td>6211.0</td>\n      <td>70.0</td>\n      <td>100.0</td>\n      <td>74</td>\n      <td>8.0</td>\n      <td>19.0</td>\n      <td>1.0</td>\n      <td>0</td>\n      <td>2.0</td>\n      <td>6</td>\n      <td>../data/BGR/Profilbilder_no_ruler_no_sky/NI_62...</td>\n      <td>10</td>\n      <td>0</td>\n      <td>522076.9633</td>\n      <td>5930456.114</td>\n      <td>15</td>\n      <td>1</td>\n      <td>0</td>\n      <td>8</td>\n      <td>42</td>\n      <td>1.0</td>\n      <td>110.0</td>\n      <td>0.0</td>\n      <td>0.0</td>\n      <td>0.0</td>\n      <td>0.0</td>\n      <td>0.0</td>\n      <td>2.0</td>\n      <td>5.0</td>\n      <td>117.59</td>\n      <td>87.72</td>\n    </tr>\n    <tr>\n      <th>16311</th>\n      <td>6211.0</td>\n      <td>70.0</td>\n      <td>100.0</td>\n      <td>74</td>\n      <td>8.0</td>\n      <td>19.0</td>\n      <td>1.0</td>\n      <td>0</td>\n      <td>2.0</td>\n      <td>6</td>\n      <td>../data/BGR/Profilbilder_no_ruler_no_sky/NI_62...</td>\n      <td>10</td>\n      <td>0</td>\n      <td>522076.9633</td>\n      <td>5930456.114</td>\n      <td>15</td>\n      <td>1</td>\n      <td>0</td>\n      <td>8</td>\n      <td>42</td>\n      <td>1.0</td>\n      <td>110.0</td>\n      <td>0.0</td>\n      <td>0.0</td>\n      <td>0.0</td>\n      <td>0.0</td>\n      <td>0.0</td>\n      <td>2.0</td>\n      <td>5.0</td>\n      <td>117.59</td>\n      <td>87.72</td>\n    </tr>\n  </tbody>\n</table>\n<p>13621 rows × 31 columns</p>\n</div>"
     },
     "execution_count": 25,
     "metadata": {},
     "output_type": "execute_result"
    }
   ],
   "source": [
    "# Encode categorical features (NaNs are left NaNs)\n",
    "for categ in categ_features:\n",
    "    bgr_data.encode_categorical_columns(df, categ)\n",
    "df"
   ],
   "metadata": {
    "collapsed": false,
    "pycharm": {
     "name": "#%%\n"
    }
   }
  },
  {
   "cell_type": "code",
   "execution_count": 26,
   "outputs": [
    {
     "name": "stdout",
     "output_type": "stream",
     "text": [
      "<class 'pandas.core.frame.DataFrame'>\n",
      "Index: 13621 entries, 0 to 16311\n",
      "Data columns (total 31 columns):\n",
      " #   Column                   Non-Null Count  Dtype  \n",
      "---  ------                   --------------  -----  \n",
      " 0   Point                    13621 non-null  float64\n",
      " 1   Obergrenze               13621 non-null  float64\n",
      " 2   Untergrenze              13621 non-null  float64\n",
      " 3   Horizontsymbol_relevant  13621 non-null  int64  \n",
      " 4   Bodenart                 13589 non-null  float64\n",
      " 5   Bodenfarbe               13572 non-null  float64\n",
      " 6   Steine                   13621 non-null  float64\n",
      " 7   Karbonat                 13621 non-null  int64  \n",
      " 8   Humusgehaltsklasse       13615 non-null  float64\n",
      " 9   Durchwurzelung           13621 non-null  int64  \n",
      " 10  file                     13621 non-null  object \n",
      " 11  Probenahme_Monat         13621 non-null  int64  \n",
      " 12  Probenahme_Jahr          13621 non-null  int64  \n",
      " 13  xcoord                   13621 non-null  float64\n",
      " 14  ycoord                   13621 non-null  float64\n",
      " 15  Bodenklimaraum_Name      13621 non-null  int64  \n",
      " 16  Landnutzung              13621 non-null  int64  \n",
      " 17  BZE_Moor                 13621 non-null  int64  \n",
      " 18  Hauptbodentyp            13621 non-null  int64  \n",
      " 19  BodenVarTypSub           13621 non-null  int64  \n",
      " 20  GrundwaStufe             13609 non-null  float64\n",
      " 21  GrundwaStand             11401 non-null  float64\n",
      " 22  Moormaechtigkeit         13609 non-null  float64\n",
      " 23  Torfmaechtigkeit         13609 non-null  float64\n",
      " 24  Neigung                  13609 non-null  float64\n",
      " 25  Exposition               12901 non-null  float64\n",
      " 26  Woelbung                 13609 non-null  float64\n",
      " 27  Reliefformtyp            13609 non-null  float64\n",
      " 28  LageImRelief             13609 non-null  float64\n",
      " 29  KV_0_30                  13609 non-null  float64\n",
      " 30  KV_30_100                13552 non-null  float64\n",
      "dtypes: float64(20), int64(10), object(1)\n",
      "memory usage: 3.3+ MB\n"
     ]
    }
   ],
   "source": [
    "# Some columns still have NaNs\n",
    "# For now, we are replacing the missing values with the column medians\n",
    "# Any better ideas? In particular the column GrundwaStand has quite a few missing entries...\n",
    "df.info()\n",
    "df = df.fillna(df.median(numeric_only=True))"
   ],
   "metadata": {
    "collapsed": false,
    "pycharm": {
     "name": "#%%\n"
    }
   }
  },
  {
   "cell_type": "code",
   "execution_count": 27,
   "outputs": [
    {
     "data": {
      "text/plain": "3101"
     },
     "execution_count": 27,
     "metadata": {},
     "output_type": "execute_result"
    }
   ],
   "source": [
    "len(df['Point'].unique()) # number of unique images"
   ],
   "metadata": {
    "collapsed": false,
    "pycharm": {
     "name": "#%%\n"
    }
   }
  },
  {
   "cell_type": "markdown",
   "source": [
    "### Training"
   ],
   "metadata": {
    "collapsed": false
   }
  },
  {
   "cell_type": "code",
   "execution_count": 28,
   "outputs": [],
   "source": [
    "# Split variables into different categories according to their roles in the sequential training\n",
    "soil_infos = ['Bodenart', 'Bodenfarbe', 'Steine', 'Karbonat', 'Humusgehaltsklasse', 'Durchwurzelung']#, 'max_depth', 'HorizontID']\n",
    "\n",
    "geotemp_img_infos = [#'Point',\n",
    "                     'Probenahme_Monat', 'Probenahme_Jahr', 'xcoord', 'ycoord', 'Bodenklimaraum_Name', 'Landnutzung', 'BZE_Moor', 'Hauptbodentyp', 'BodenVarTypSub', 'GrundwaStufe', 'GrundwaStand',\n",
    "                     'Moormaechtigkeit', 'Torfmaechtigkeit', 'Neigung', 'Exposition', 'Woelbung', 'Reliefformtyp', 'LageImRelief', 'KV_0_30', 'KV_30_100',\n",
    "                     'file']\n",
    "\n",
    "depth_markers = ['Obergrenze', 'Untergrenze']\n",
    "\n",
    "# horizon symbols already in 'target' (see above)"
   ],
   "metadata": {
    "collapsed": false,
    "pycharm": {
     "name": "#%%\n"
    }
   }
  },
  {
   "cell_type": "code",
   "execution_count": 29,
   "outputs": [
    {
     "data": {
      "text/plain": "      index  Probenahme_Monat  Probenahme_Jahr       xcoord       ycoord  \\\n0         0                 1                7  819021.7488  5941699.083   \n1         1                 1                6  819307.3864  5935183.595   \n2         2                 8                6  826424.5503  5932240.596   \n3         3                 4                6  807568.3913  5926533.227   \n4         4                 1                6  818608.7036  5925050.271   \n...     ...               ...              ...          ...          ...   \n3342   3342                 0                6  648389.8108  5588119.501   \n3343   3343                 0                4  688216.3809  5588885.660   \n3344   3344                 0                4  701551.6557  5587919.679   \n3345   3345                 3                4  653547.6374  5581353.991   \n3346   3346                 4                5  620404.8554  5569180.493   \n\n      Bodenklimaraum_Name  Landnutzung  BZE_Moor  Hauptbodentyp  \\\n0                       7            0         0             12   \n1                       7            0         0             11   \n2                       7            0         0             10   \n3                       7            0         0             12   \n4                       7            0         0              7   \n...                   ...          ...       ...            ...   \n3342                   10            1         0              0   \n3343                   10            0         0              0   \n3344                   10            0         0              0   \n3345                   10            0         0              0   \n3346                   10            0         0              5   \n\n      BodenVarTypSub  GrundwaStufe  GrundwaStand  Moormaechtigkeit  \\\n0                770           0.0         200.0               0.0   \n1                371           0.0         200.0               0.0   \n2                 22           0.0         200.0               0.0   \n3                 44           0.0         200.0               0.0   \n4                413           2.0         200.0               0.0   \n...              ...           ...           ...               ...   \n3342             616           0.0         200.0               0.0   \n3343               9           0.0         200.0               0.0   \n3344               0           0.0         200.0               0.0   \n3345               2           0.0         200.0               0.0   \n3346               3           0.0         200.0               0.0   \n\n      Torfmaechtigkeit  Neigung  Exposition  Woelbung  Reliefformtyp  \\\n0                  0.0      3.0         1.0       1.0            0.0   \n1                  0.0      2.0         2.0       0.0            0.0   \n2                  0.0      3.0         2.0       0.0            0.0   \n3                  0.0      4.0         5.0       2.0           14.0   \n4                  0.0      3.0         5.0       0.0            4.0   \n...                ...      ...         ...       ...            ...   \n3342               0.0      8.0         7.0       7.0            0.0   \n3343               0.0      1.0         4.0       6.0            0.0   \n3344               0.0      6.0         4.0       0.0            0.0   \n3345               0.0      5.0         2.0       0.0            3.0   \n3346               0.0      1.0         3.0       0.0            0.0   \n\n      LageImRelief  KV_0_30  KV_30_100  \\\n0              1.0    38.60      21.42   \n1              3.0    34.91      11.67   \n2              1.0    42.21      34.56   \n3              3.0    37.39      13.22   \n4              1.0    48.47      16.43   \n...            ...      ...        ...   \n3342           3.0    48.82       2.46   \n3343           1.0    69.19      23.61   \n3344           1.0    75.65       9.34   \n3345           5.0    61.72      30.69   \n3346           3.0    80.30      19.58   \n\n                                                   file  \\\n0     ../data/BGR/Profilbilder_no_ruler_no_sky/BB_05...   \n1     ../data/BGR/Profilbilder_no_ruler_no_sky/BB_06...   \n2     ../data/BGR/Profilbilder_no_ruler_no_sky/BB_06...   \n3     ../data/BGR/Profilbilder_no_ruler_no_sky/BB_06...   \n4     ../data/BGR/Profilbilder_no_ruler_no_sky/BB_06...   \n...                                                 ...   \n3342  ../data/BGR/Profilbilder_no_ruler_no_sky/TH_34...   \n3343  ../data/BGR/Profilbilder_no_ruler_no_sky/TH_34...   \n3344  ../data/BGR/Profilbilder_no_ruler_no_sky/TH_34...   \n3345  ../data/BGR/Profilbilder_no_ruler_no_sky/TH_35...   \n3346  ../data/BGR/Profilbilder_no_ruler_no_sky/TH_35...   \n\n                                Untergrenze  \\\n0                 [30.0, 38.0, 50.0, 200.0]   \n1     [29.0, 40.0, 54.0, 60.0, 80.0, 201.0]   \n2                 [28.0, 50.0, 74.0, 110.0]   \n3                 [30.0, 47.0, 73.0, 102.0]   \n4           [33.0, 43.0, 71.0, 88.0, 100.0]   \n...                                     ...   \n3342               [14.0, 40.0, 60.0, 93.0]   \n3343                    [34.0, 69.0, 140.0]   \n3344              [20.0, 27.0, 70.0, 100.0]   \n3345              [31.0, 49.0, 71.0, 144.0]   \n3346                     [27.0, 70.0, 92.0]   \n\n                                Bodenart                          Bodenfarbe  \\\n0                 [3.0, 3.0, 10.0, 12.0]               [1.0, 1.0, 10.0, 5.0]   \n1     [11.0, 11.0, 6.0, 10.0, 3.0, 21.0]  [4.0, 5.0, 29.0, 30.0, 42.0, 75.0]   \n2               [10.0, 11.0, 11.0, 11.0]                [0.0, 0.0, 3.0, 3.0]   \n3                   [2.0, 2.0, 3.0, 3.0]             [0.0, 10.0, 13.0, 16.0]   \n4           [28.0, 7.0, 2.0, 20.0, 10.0]       [0.0, 15.0, 54.0, 44.0, 14.0]   \n...                                  ...                                 ...   \n3342            [15.0, 15.0, 26.0, 26.0]              [6.0, 5.0, 53.0, 53.0]   \n3343                    [4.0, 4.0, 18.0]                    [0.0, 3.0, 10.0]   \n3344            [15.0, 15.0, 15.0, 26.0]               [2.0, 2.0, 3.0, 23.0]   \n3345            [15.0, 15.0, 15.0, 33.0]               [1.0, 7.0, 5.0, 16.0]   \n3346                    [1.0, 12.0, 1.0]                   [6.0, 23.0, 31.0]   \n\n                              Steine            Karbonat  \\\n0               [2.0, 2.0, 4.0, 4.0]        [0, 0, 0, 0]   \n1     [3.0, 3.0, 3.0, 3.0, 3.0, 3.0]  [2, 0, 2, 5, 7, 5]   \n2               [4.0, 4.0, 4.0, 4.0]        [0, 0, 7, 7]   \n3               [4.0, 4.0, 2.0, 2.0]        [0, 0, 0, 0]   \n4          [1.0, 0.0, 0.0, 0.0, 0.0]     [0, 0, 0, 0, 0]   \n...                              ...                 ...   \n3342        [60.0, 75.0, 90.0, 90.0]        [0, 0, 0, 0]   \n3343              [20.0, 30.0, 25.0]           [0, 0, 0]   \n3344        [15.0, 25.0, 60.0, 90.0]        [0, 0, 0, 0]   \n3345          [5.0, 5.0, 20.0, 25.0]        [0, 0, 0, 0]   \n3346               [3.0, 10.0, 30.0]           [3, 4, 4]   \n\n                  Humusgehaltsklasse      Durchwurzelung  \\\n0               [3.0, 3.0, 0.0, 0.0]        [3, 3, 1, 2]   \n1     [1.0, 2.0, 2.0, 2.0, 2.0, 0.0]  [4, 3, 1, 1, 1, 0]   \n2               [1.0, 3.0, 2.0, 0.0]        [4, 3, 3, 1]   \n3               [1.0, 2.0, 0.0, 0.0]        [3, 1, 1, 2]   \n4          [1.0, 2.0, 2.0, 0.0, 0.0]     [3, 0, 0, 0, 0]   \n...                              ...                 ...   \n3342            [1.0, 2.0, 0.0, 0.0]        [5, 3, 1, 2]   \n3343                 [1.0, 2.0, 0.0]           [5, 3, 1]   \n3344            [1.0, 1.0, 2.0, 0.0]        [4, 1, 0, 0]   \n3345            [1.0, 2.0, 0.0, 0.0]        [3, 2, 2, 2]   \n3346                 [1.0, 2.0, 0.0]           [0, 4, 4]   \n\n       Horizontsymbol_relevant  \n0             [22, 22, 73, 76]  \n1     [22, 65, 65, 81, 81, 81]  \n2             [40, 13, 34, 34]  \n3              [22, 1, 69, 78]  \n4           [22, 0, 65, 0, 68]  \n...                        ...  \n3342          [22, 14, 62, 77]  \n3343              [22, 32, 77]  \n3344           [22, 22, 32, 0]  \n3345           [22, 32, 47, 2]  \n3346              [22, 34, 34]  \n\n[3347 rows x 30 columns]",
      "text/html": "<div>\n<style scoped>\n    .dataframe tbody tr th:only-of-type {\n        vertical-align: middle;\n    }\n\n    .dataframe tbody tr th {\n        vertical-align: top;\n    }\n\n    .dataframe thead th {\n        text-align: right;\n    }\n</style>\n<table border=\"1\" class=\"dataframe\">\n  <thead>\n    <tr style=\"text-align: right;\">\n      <th></th>\n      <th>index</th>\n      <th>Probenahme_Monat</th>\n      <th>Probenahme_Jahr</th>\n      <th>xcoord</th>\n      <th>ycoord</th>\n      <th>Bodenklimaraum_Name</th>\n      <th>Landnutzung</th>\n      <th>BZE_Moor</th>\n      <th>Hauptbodentyp</th>\n      <th>BodenVarTypSub</th>\n      <th>GrundwaStufe</th>\n      <th>GrundwaStand</th>\n      <th>Moormaechtigkeit</th>\n      <th>Torfmaechtigkeit</th>\n      <th>Neigung</th>\n      <th>Exposition</th>\n      <th>Woelbung</th>\n      <th>Reliefformtyp</th>\n      <th>LageImRelief</th>\n      <th>KV_0_30</th>\n      <th>KV_30_100</th>\n      <th>file</th>\n      <th>Untergrenze</th>\n      <th>Bodenart</th>\n      <th>Bodenfarbe</th>\n      <th>Steine</th>\n      <th>Karbonat</th>\n      <th>Humusgehaltsklasse</th>\n      <th>Durchwurzelung</th>\n      <th>Horizontsymbol_relevant</th>\n    </tr>\n  </thead>\n  <tbody>\n    <tr>\n      <th>0</th>\n      <td>0</td>\n      <td>1</td>\n      <td>7</td>\n      <td>819021.7488</td>\n      <td>5941699.083</td>\n      <td>7</td>\n      <td>0</td>\n      <td>0</td>\n      <td>12</td>\n      <td>770</td>\n      <td>0.0</td>\n      <td>200.0</td>\n      <td>0.0</td>\n      <td>0.0</td>\n      <td>3.0</td>\n      <td>1.0</td>\n      <td>1.0</td>\n      <td>0.0</td>\n      <td>1.0</td>\n      <td>38.60</td>\n      <td>21.42</td>\n      <td>../data/BGR/Profilbilder_no_ruler_no_sky/BB_05...</td>\n      <td>[30.0, 38.0, 50.0, 200.0]</td>\n      <td>[3.0, 3.0, 10.0, 12.0]</td>\n      <td>[1.0, 1.0, 10.0, 5.0]</td>\n      <td>[2.0, 2.0, 4.0, 4.0]</td>\n      <td>[0, 0, 0, 0]</td>\n      <td>[3.0, 3.0, 0.0, 0.0]</td>\n      <td>[3, 3, 1, 2]</td>\n      <td>[22, 22, 73, 76]</td>\n    </tr>\n    <tr>\n      <th>1</th>\n      <td>1</td>\n      <td>1</td>\n      <td>6</td>\n      <td>819307.3864</td>\n      <td>5935183.595</td>\n      <td>7</td>\n      <td>0</td>\n      <td>0</td>\n      <td>11</td>\n      <td>371</td>\n      <td>0.0</td>\n      <td>200.0</td>\n      <td>0.0</td>\n      <td>0.0</td>\n      <td>2.0</td>\n      <td>2.0</td>\n      <td>0.0</td>\n      <td>0.0</td>\n      <td>3.0</td>\n      <td>34.91</td>\n      <td>11.67</td>\n      <td>../data/BGR/Profilbilder_no_ruler_no_sky/BB_06...</td>\n      <td>[29.0, 40.0, 54.0, 60.0, 80.0, 201.0]</td>\n      <td>[11.0, 11.0, 6.0, 10.0, 3.0, 21.0]</td>\n      <td>[4.0, 5.0, 29.0, 30.0, 42.0, 75.0]</td>\n      <td>[3.0, 3.0, 3.0, 3.0, 3.0, 3.0]</td>\n      <td>[2, 0, 2, 5, 7, 5]</td>\n      <td>[1.0, 2.0, 2.0, 2.0, 2.0, 0.0]</td>\n      <td>[4, 3, 1, 1, 1, 0]</td>\n      <td>[22, 65, 65, 81, 81, 81]</td>\n    </tr>\n    <tr>\n      <th>2</th>\n      <td>2</td>\n      <td>8</td>\n      <td>6</td>\n      <td>826424.5503</td>\n      <td>5932240.596</td>\n      <td>7</td>\n      <td>0</td>\n      <td>0</td>\n      <td>10</td>\n      <td>22</td>\n      <td>0.0</td>\n      <td>200.0</td>\n      <td>0.0</td>\n      <td>0.0</td>\n      <td>3.0</td>\n      <td>2.0</td>\n      <td>0.0</td>\n      <td>0.0</td>\n      <td>1.0</td>\n      <td>42.21</td>\n      <td>34.56</td>\n      <td>../data/BGR/Profilbilder_no_ruler_no_sky/BB_06...</td>\n      <td>[28.0, 50.0, 74.0, 110.0]</td>\n      <td>[10.0, 11.0, 11.0, 11.0]</td>\n      <td>[0.0, 0.0, 3.0, 3.0]</td>\n      <td>[4.0, 4.0, 4.0, 4.0]</td>\n      <td>[0, 0, 7, 7]</td>\n      <td>[1.0, 3.0, 2.0, 0.0]</td>\n      <td>[4, 3, 3, 1]</td>\n      <td>[40, 13, 34, 34]</td>\n    </tr>\n    <tr>\n      <th>3</th>\n      <td>3</td>\n      <td>4</td>\n      <td>6</td>\n      <td>807568.3913</td>\n      <td>5926533.227</td>\n      <td>7</td>\n      <td>0</td>\n      <td>0</td>\n      <td>12</td>\n      <td>44</td>\n      <td>0.0</td>\n      <td>200.0</td>\n      <td>0.0</td>\n      <td>0.0</td>\n      <td>4.0</td>\n      <td>5.0</td>\n      <td>2.0</td>\n      <td>14.0</td>\n      <td>3.0</td>\n      <td>37.39</td>\n      <td>13.22</td>\n      <td>../data/BGR/Profilbilder_no_ruler_no_sky/BB_06...</td>\n      <td>[30.0, 47.0, 73.0, 102.0]</td>\n      <td>[2.0, 2.0, 3.0, 3.0]</td>\n      <td>[0.0, 10.0, 13.0, 16.0]</td>\n      <td>[4.0, 4.0, 2.0, 2.0]</td>\n      <td>[0, 0, 0, 0]</td>\n      <td>[1.0, 2.0, 0.0, 0.0]</td>\n      <td>[3, 1, 1, 2]</td>\n      <td>[22, 1, 69, 78]</td>\n    </tr>\n    <tr>\n      <th>4</th>\n      <td>4</td>\n      <td>1</td>\n      <td>6</td>\n      <td>818608.7036</td>\n      <td>5925050.271</td>\n      <td>7</td>\n      <td>0</td>\n      <td>0</td>\n      <td>7</td>\n      <td>413</td>\n      <td>2.0</td>\n      <td>200.0</td>\n      <td>0.0</td>\n      <td>0.0</td>\n      <td>3.0</td>\n      <td>5.0</td>\n      <td>0.0</td>\n      <td>4.0</td>\n      <td>1.0</td>\n      <td>48.47</td>\n      <td>16.43</td>\n      <td>../data/BGR/Profilbilder_no_ruler_no_sky/BB_06...</td>\n      <td>[33.0, 43.0, 71.0, 88.0, 100.0]</td>\n      <td>[28.0, 7.0, 2.0, 20.0, 10.0]</td>\n      <td>[0.0, 15.0, 54.0, 44.0, 14.0]</td>\n      <td>[1.0, 0.0, 0.0, 0.0, 0.0]</td>\n      <td>[0, 0, 0, 0, 0]</td>\n      <td>[1.0, 2.0, 2.0, 0.0, 0.0]</td>\n      <td>[3, 0, 0, 0, 0]</td>\n      <td>[22, 0, 65, 0, 68]</td>\n    </tr>\n    <tr>\n      <th>...</th>\n      <td>...</td>\n      <td>...</td>\n      <td>...</td>\n      <td>...</td>\n      <td>...</td>\n      <td>...</td>\n      <td>...</td>\n      <td>...</td>\n      <td>...</td>\n      <td>...</td>\n      <td>...</td>\n      <td>...</td>\n      <td>...</td>\n      <td>...</td>\n      <td>...</td>\n      <td>...</td>\n      <td>...</td>\n      <td>...</td>\n      <td>...</td>\n      <td>...</td>\n      <td>...</td>\n      <td>...</td>\n      <td>...</td>\n      <td>...</td>\n      <td>...</td>\n      <td>...</td>\n      <td>...</td>\n      <td>...</td>\n      <td>...</td>\n      <td>...</td>\n    </tr>\n    <tr>\n      <th>3342</th>\n      <td>3342</td>\n      <td>0</td>\n      <td>6</td>\n      <td>648389.8108</td>\n      <td>5588119.501</td>\n      <td>10</td>\n      <td>1</td>\n      <td>0</td>\n      <td>0</td>\n      <td>616</td>\n      <td>0.0</td>\n      <td>200.0</td>\n      <td>0.0</td>\n      <td>0.0</td>\n      <td>8.0</td>\n      <td>7.0</td>\n      <td>7.0</td>\n      <td>0.0</td>\n      <td>3.0</td>\n      <td>48.82</td>\n      <td>2.46</td>\n      <td>../data/BGR/Profilbilder_no_ruler_no_sky/TH_34...</td>\n      <td>[14.0, 40.0, 60.0, 93.0]</td>\n      <td>[15.0, 15.0, 26.0, 26.0]</td>\n      <td>[6.0, 5.0, 53.0, 53.0]</td>\n      <td>[60.0, 75.0, 90.0, 90.0]</td>\n      <td>[0, 0, 0, 0]</td>\n      <td>[1.0, 2.0, 0.0, 0.0]</td>\n      <td>[5, 3, 1, 2]</td>\n      <td>[22, 14, 62, 77]</td>\n    </tr>\n    <tr>\n      <th>3343</th>\n      <td>3343</td>\n      <td>0</td>\n      <td>4</td>\n      <td>688216.3809</td>\n      <td>5588885.660</td>\n      <td>10</td>\n      <td>0</td>\n      <td>0</td>\n      <td>0</td>\n      <td>9</td>\n      <td>0.0</td>\n      <td>200.0</td>\n      <td>0.0</td>\n      <td>0.0</td>\n      <td>1.0</td>\n      <td>4.0</td>\n      <td>6.0</td>\n      <td>0.0</td>\n      <td>1.0</td>\n      <td>69.19</td>\n      <td>23.61</td>\n      <td>../data/BGR/Profilbilder_no_ruler_no_sky/TH_34...</td>\n      <td>[34.0, 69.0, 140.0]</td>\n      <td>[4.0, 4.0, 18.0]</td>\n      <td>[0.0, 3.0, 10.0]</td>\n      <td>[20.0, 30.0, 25.0]</td>\n      <td>[0, 0, 0]</td>\n      <td>[1.0, 2.0, 0.0]</td>\n      <td>[5, 3, 1]</td>\n      <td>[22, 32, 77]</td>\n    </tr>\n    <tr>\n      <th>3344</th>\n      <td>3344</td>\n      <td>0</td>\n      <td>4</td>\n      <td>701551.6557</td>\n      <td>5587919.679</td>\n      <td>10</td>\n      <td>0</td>\n      <td>0</td>\n      <td>0</td>\n      <td>0</td>\n      <td>0.0</td>\n      <td>200.0</td>\n      <td>0.0</td>\n      <td>0.0</td>\n      <td>6.0</td>\n      <td>4.0</td>\n      <td>0.0</td>\n      <td>0.0</td>\n      <td>1.0</td>\n      <td>75.65</td>\n      <td>9.34</td>\n      <td>../data/BGR/Profilbilder_no_ruler_no_sky/TH_34...</td>\n      <td>[20.0, 27.0, 70.0, 100.0]</td>\n      <td>[15.0, 15.0, 15.0, 26.0]</td>\n      <td>[2.0, 2.0, 3.0, 23.0]</td>\n      <td>[15.0, 25.0, 60.0, 90.0]</td>\n      <td>[0, 0, 0, 0]</td>\n      <td>[1.0, 1.0, 2.0, 0.0]</td>\n      <td>[4, 1, 0, 0]</td>\n      <td>[22, 22, 32, 0]</td>\n    </tr>\n    <tr>\n      <th>3345</th>\n      <td>3345</td>\n      <td>3</td>\n      <td>4</td>\n      <td>653547.6374</td>\n      <td>5581353.991</td>\n      <td>10</td>\n      <td>0</td>\n      <td>0</td>\n      <td>0</td>\n      <td>2</td>\n      <td>0.0</td>\n      <td>200.0</td>\n      <td>0.0</td>\n      <td>0.0</td>\n      <td>5.0</td>\n      <td>2.0</td>\n      <td>0.0</td>\n      <td>3.0</td>\n      <td>5.0</td>\n      <td>61.72</td>\n      <td>30.69</td>\n      <td>../data/BGR/Profilbilder_no_ruler_no_sky/TH_35...</td>\n      <td>[31.0, 49.0, 71.0, 144.0]</td>\n      <td>[15.0, 15.0, 15.0, 33.0]</td>\n      <td>[1.0, 7.0, 5.0, 16.0]</td>\n      <td>[5.0, 5.0, 20.0, 25.0]</td>\n      <td>[0, 0, 0, 0]</td>\n      <td>[1.0, 2.0, 0.0, 0.0]</td>\n      <td>[3, 2, 2, 2]</td>\n      <td>[22, 32, 47, 2]</td>\n    </tr>\n    <tr>\n      <th>3346</th>\n      <td>3346</td>\n      <td>4</td>\n      <td>5</td>\n      <td>620404.8554</td>\n      <td>5569180.493</td>\n      <td>10</td>\n      <td>0</td>\n      <td>0</td>\n      <td>5</td>\n      <td>3</td>\n      <td>0.0</td>\n      <td>200.0</td>\n      <td>0.0</td>\n      <td>0.0</td>\n      <td>1.0</td>\n      <td>3.0</td>\n      <td>0.0</td>\n      <td>0.0</td>\n      <td>3.0</td>\n      <td>80.30</td>\n      <td>19.58</td>\n      <td>../data/BGR/Profilbilder_no_ruler_no_sky/TH_35...</td>\n      <td>[27.0, 70.0, 92.0]</td>\n      <td>[1.0, 12.0, 1.0]</td>\n      <td>[6.0, 23.0, 31.0]</td>\n      <td>[3.0, 10.0, 30.0]</td>\n      <td>[3, 4, 4]</td>\n      <td>[1.0, 2.0, 0.0]</td>\n      <td>[0, 4, 4]</td>\n      <td>[22, 34, 34]</td>\n    </tr>\n  </tbody>\n</table>\n<p>3347 rows × 30 columns</p>\n</div>"
     },
     "execution_count": 29,
     "metadata": {},
     "output_type": "execute_result"
    }
   ],
   "source": [
    "# The dataframe has one row per horizon\n",
    "# For sequential training, make it one row per full image (the depth markers and the morphological features will be stored as lists and used later as ground truth in training)\n",
    "df = df.groupby('file', as_index=False).agg({     # Group by images, not by Point, since there are sometimes several images (different angles) for the same Point\n",
    "    **{gt: 'first' for gt in geotemp_img_infos},  # Take the first value (all are the same for each image, including the image path)\n",
    "    'Untergrenze': list,                          # Combine depth markers into a list (only lower bound Untergrenze actually needed)\n",
    "    **{st: list for st in soil_infos},            # Combine tabular features into lists (in the order of the horizons top to bottom)\n",
    "    target: list\n",
    "}).reset_index()\n",
    "geotemp_img_infos = ['index'] + geotemp_img_infos # Add the new index column\n",
    "                                                  # Used only for accessing the depths, morphological features and horizon labels from the dataframe\n",
    "                                                  # (they have different shapes and cannot be stacked in tensor batches)\n",
    "df"
   ],
   "metadata": {
    "collapsed": false,
    "pycharm": {
     "name": "#%%\n"
    }
   }
  },
  {
   "cell_type": "code",
   "execution_count": 30,
   "outputs": [
    {
     "data": {
      "text/plain": "      index  Probenahme_Monat  Probenahme_Jahr       xcoord       ycoord  \\\n0         0                 1                7  819021.7488  5941699.083   \n1         1                 1                6  819307.3864  5935183.595   \n2         2                 8                6  826424.5503  5932240.596   \n3         3                 4                6  807568.3913  5926533.227   \n4         4                 1                6  818608.7036  5925050.271   \n...     ...               ...              ...          ...          ...   \n3342   3342                 0                6  648389.8108  5588119.501   \n3343   3343                 0                4  688216.3809  5588885.660   \n3344   3344                 0                4  701551.6557  5587919.679   \n3345   3345                 3                4  653547.6374  5581353.991   \n3346   3346                 4                5  620404.8554  5569180.493   \n\n      Bodenklimaraum_Name  Landnutzung  BZE_Moor  Hauptbodentyp  \\\n0                       7            0         0             12   \n1                       7            0         0             11   \n2                       7            0         0             10   \n3                       7            0         0             12   \n4                       7            0         0              7   \n...                   ...          ...       ...            ...   \n3342                   10            1         0              0   \n3343                   10            0         0              0   \n3344                   10            0         0              0   \n3345                   10            0         0              0   \n3346                   10            0         0              5   \n\n      BodenVarTypSub  GrundwaStufe  GrundwaStand  Moormaechtigkeit  \\\n0                770           0.0         200.0               0.0   \n1                371           0.0         200.0               0.0   \n2                 22           0.0         200.0               0.0   \n3                 44           0.0         200.0               0.0   \n4                413           2.0         200.0               0.0   \n...              ...           ...           ...               ...   \n3342             616           0.0         200.0               0.0   \n3343               9           0.0         200.0               0.0   \n3344               0           0.0         200.0               0.0   \n3345               2           0.0         200.0               0.0   \n3346               3           0.0         200.0               0.0   \n\n      Torfmaechtigkeit  Neigung  Exposition  Woelbung  Reliefformtyp  \\\n0                  0.0      3.0         1.0       1.0            0.0   \n1                  0.0      2.0         2.0       0.0            0.0   \n2                  0.0      3.0         2.0       0.0            0.0   \n3                  0.0      4.0         5.0       2.0           14.0   \n4                  0.0      3.0         5.0       0.0            4.0   \n...                ...      ...         ...       ...            ...   \n3342               0.0      8.0         7.0       7.0            0.0   \n3343               0.0      1.0         4.0       6.0            0.0   \n3344               0.0      6.0         4.0       0.0            0.0   \n3345               0.0      5.0         2.0       0.0            3.0   \n3346               0.0      1.0         3.0       0.0            0.0   \n\n      LageImRelief  KV_0_30  KV_30_100  \\\n0              1.0    38.60      21.42   \n1              3.0    34.91      11.67   \n2              1.0    42.21      34.56   \n3              3.0    37.39      13.22   \n4              1.0    48.47      16.43   \n...            ...      ...        ...   \n3342           3.0    48.82       2.46   \n3343           1.0    69.19      23.61   \n3344           1.0    75.65       9.34   \n3345           5.0    61.72      30.69   \n3346           3.0    80.30      19.58   \n\n                                                   file  \\\n0     ../data/BGR/Profilbilder_no_ruler_no_sky/BB_05...   \n1     ../data/BGR/Profilbilder_no_ruler_no_sky/BB_06...   \n2     ../data/BGR/Profilbilder_no_ruler_no_sky/BB_06...   \n3     ../data/BGR/Profilbilder_no_ruler_no_sky/BB_06...   \n4     ../data/BGR/Profilbilder_no_ruler_no_sky/BB_06...   \n...                                                 ...   \n3342  ../data/BGR/Profilbilder_no_ruler_no_sky/TH_34...   \n3343  ../data/BGR/Profilbilder_no_ruler_no_sky/TH_34...   \n3344  ../data/BGR/Profilbilder_no_ruler_no_sky/TH_34...   \n3345  ../data/BGR/Profilbilder_no_ruler_no_sky/TH_35...   \n3346  ../data/BGR/Profilbilder_no_ruler_no_sky/TH_35...   \n\n                           Untergrenze                            Bodenart  \\\n0                [0.3, 0.38, 0.5, 1.0]              [3.0, 3.0, 10.0, 12.0]   \n1     [0.29, 0.4, 0.54, 0.6, 0.8, 1.0]  [11.0, 11.0, 6.0, 10.0, 3.0, 21.0]   \n2               [0.28, 0.5, 0.74, 1.0]            [10.0, 11.0, 11.0, 11.0]   \n3               [0.3, 0.47, 0.73, 1.0]                [2.0, 2.0, 3.0, 3.0]   \n4        [0.33, 0.43, 0.71, 0.88, 1.0]        [28.0, 7.0, 2.0, 20.0, 10.0]   \n...                                ...                                 ...   \n3342             [0.14, 0.4, 0.6, 1.0]            [15.0, 15.0, 26.0, 26.0]   \n3343                 [0.34, 0.69, 1.0]                    [4.0, 4.0, 18.0]   \n3344             [0.2, 0.27, 0.7, 1.0]            [15.0, 15.0, 15.0, 26.0]   \n3345           [0.31, 0.49, 0.71, 1.0]            [15.0, 15.0, 15.0, 33.0]   \n3346                  [0.27, 0.7, 1.0]                    [1.0, 12.0, 1.0]   \n\n                              Bodenfarbe                          Steine  \\\n0                  [1.0, 1.0, 10.0, 5.0]            [2.0, 2.0, 4.0, 4.0]   \n1     [4.0, 5.0, 29.0, 30.0, 42.0, 75.0]  [3.0, 3.0, 3.0, 3.0, 3.0, 3.0]   \n2                   [0.0, 0.0, 3.0, 3.0]            [4.0, 4.0, 4.0, 4.0]   \n3                [0.0, 10.0, 13.0, 16.0]            [4.0, 4.0, 2.0, 2.0]   \n4          [0.0, 15.0, 54.0, 44.0, 14.0]       [1.0, 0.0, 0.0, 0.0, 0.0]   \n...                                  ...                             ...   \n3342              [6.0, 5.0, 53.0, 53.0]        [60.0, 75.0, 90.0, 90.0]   \n3343                    [0.0, 3.0, 10.0]              [20.0, 30.0, 25.0]   \n3344               [2.0, 2.0, 3.0, 23.0]        [15.0, 25.0, 60.0, 90.0]   \n3345               [1.0, 7.0, 5.0, 16.0]          [5.0, 5.0, 20.0, 25.0]   \n3346                   [6.0, 23.0, 31.0]               [3.0, 10.0, 30.0]   \n\n                Karbonat              Humusgehaltsklasse      Durchwurzelung  \\\n0           [0, 0, 0, 0]            [3.0, 3.0, 0.0, 0.0]        [3, 3, 1, 2]   \n1     [2, 0, 2, 5, 7, 5]  [1.0, 2.0, 2.0, 2.0, 2.0, 0.0]  [4, 3, 1, 1, 1, 0]   \n2           [0, 0, 7, 7]            [1.0, 3.0, 2.0, 0.0]        [4, 3, 3, 1]   \n3           [0, 0, 0, 0]            [1.0, 2.0, 0.0, 0.0]        [3, 1, 1, 2]   \n4        [0, 0, 0, 0, 0]       [1.0, 2.0, 2.0, 0.0, 0.0]     [3, 0, 0, 0, 0]   \n...                  ...                             ...                 ...   \n3342        [0, 0, 0, 0]            [1.0, 2.0, 0.0, 0.0]        [5, 3, 1, 2]   \n3343           [0, 0, 0]                 [1.0, 2.0, 0.0]           [5, 3, 1]   \n3344        [0, 0, 0, 0]            [1.0, 1.0, 2.0, 0.0]        [4, 1, 0, 0]   \n3345        [0, 0, 0, 0]            [1.0, 2.0, 0.0, 0.0]        [3, 2, 2, 2]   \n3346           [3, 4, 4]                 [1.0, 2.0, 0.0]           [0, 4, 4]   \n\n       Horizontsymbol_relevant  \n0             [22, 22, 73, 76]  \n1     [22, 65, 65, 81, 81, 81]  \n2             [40, 13, 34, 34]  \n3              [22, 1, 69, 78]  \n4           [22, 0, 65, 0, 68]  \n...                        ...  \n3342          [22, 14, 62, 77]  \n3343              [22, 32, 77]  \n3344           [22, 22, 32, 0]  \n3345           [22, 32, 47, 2]  \n3346              [22, 34, 34]  \n\n[3347 rows x 30 columns]",
      "text/html": "<div>\n<style scoped>\n    .dataframe tbody tr th:only-of-type {\n        vertical-align: middle;\n    }\n\n    .dataframe tbody tr th {\n        vertical-align: top;\n    }\n\n    .dataframe thead th {\n        text-align: right;\n    }\n</style>\n<table border=\"1\" class=\"dataframe\">\n  <thead>\n    <tr style=\"text-align: right;\">\n      <th></th>\n      <th>index</th>\n      <th>Probenahme_Monat</th>\n      <th>Probenahme_Jahr</th>\n      <th>xcoord</th>\n      <th>ycoord</th>\n      <th>Bodenklimaraum_Name</th>\n      <th>Landnutzung</th>\n      <th>BZE_Moor</th>\n      <th>Hauptbodentyp</th>\n      <th>BodenVarTypSub</th>\n      <th>GrundwaStufe</th>\n      <th>GrundwaStand</th>\n      <th>Moormaechtigkeit</th>\n      <th>Torfmaechtigkeit</th>\n      <th>Neigung</th>\n      <th>Exposition</th>\n      <th>Woelbung</th>\n      <th>Reliefformtyp</th>\n      <th>LageImRelief</th>\n      <th>KV_0_30</th>\n      <th>KV_30_100</th>\n      <th>file</th>\n      <th>Untergrenze</th>\n      <th>Bodenart</th>\n      <th>Bodenfarbe</th>\n      <th>Steine</th>\n      <th>Karbonat</th>\n      <th>Humusgehaltsklasse</th>\n      <th>Durchwurzelung</th>\n      <th>Horizontsymbol_relevant</th>\n    </tr>\n  </thead>\n  <tbody>\n    <tr>\n      <th>0</th>\n      <td>0</td>\n      <td>1</td>\n      <td>7</td>\n      <td>819021.7488</td>\n      <td>5941699.083</td>\n      <td>7</td>\n      <td>0</td>\n      <td>0</td>\n      <td>12</td>\n      <td>770</td>\n      <td>0.0</td>\n      <td>200.0</td>\n      <td>0.0</td>\n      <td>0.0</td>\n      <td>3.0</td>\n      <td>1.0</td>\n      <td>1.0</td>\n      <td>0.0</td>\n      <td>1.0</td>\n      <td>38.60</td>\n      <td>21.42</td>\n      <td>../data/BGR/Profilbilder_no_ruler_no_sky/BB_05...</td>\n      <td>[0.3, 0.38, 0.5, 1.0]</td>\n      <td>[3.0, 3.0, 10.0, 12.0]</td>\n      <td>[1.0, 1.0, 10.0, 5.0]</td>\n      <td>[2.0, 2.0, 4.0, 4.0]</td>\n      <td>[0, 0, 0, 0]</td>\n      <td>[3.0, 3.0, 0.0, 0.0]</td>\n      <td>[3, 3, 1, 2]</td>\n      <td>[22, 22, 73, 76]</td>\n    </tr>\n    <tr>\n      <th>1</th>\n      <td>1</td>\n      <td>1</td>\n      <td>6</td>\n      <td>819307.3864</td>\n      <td>5935183.595</td>\n      <td>7</td>\n      <td>0</td>\n      <td>0</td>\n      <td>11</td>\n      <td>371</td>\n      <td>0.0</td>\n      <td>200.0</td>\n      <td>0.0</td>\n      <td>0.0</td>\n      <td>2.0</td>\n      <td>2.0</td>\n      <td>0.0</td>\n      <td>0.0</td>\n      <td>3.0</td>\n      <td>34.91</td>\n      <td>11.67</td>\n      <td>../data/BGR/Profilbilder_no_ruler_no_sky/BB_06...</td>\n      <td>[0.29, 0.4, 0.54, 0.6, 0.8, 1.0]</td>\n      <td>[11.0, 11.0, 6.0, 10.0, 3.0, 21.0]</td>\n      <td>[4.0, 5.0, 29.0, 30.0, 42.0, 75.0]</td>\n      <td>[3.0, 3.0, 3.0, 3.0, 3.0, 3.0]</td>\n      <td>[2, 0, 2, 5, 7, 5]</td>\n      <td>[1.0, 2.0, 2.0, 2.0, 2.0, 0.0]</td>\n      <td>[4, 3, 1, 1, 1, 0]</td>\n      <td>[22, 65, 65, 81, 81, 81]</td>\n    </tr>\n    <tr>\n      <th>2</th>\n      <td>2</td>\n      <td>8</td>\n      <td>6</td>\n      <td>826424.5503</td>\n      <td>5932240.596</td>\n      <td>7</td>\n      <td>0</td>\n      <td>0</td>\n      <td>10</td>\n      <td>22</td>\n      <td>0.0</td>\n      <td>200.0</td>\n      <td>0.0</td>\n      <td>0.0</td>\n      <td>3.0</td>\n      <td>2.0</td>\n      <td>0.0</td>\n      <td>0.0</td>\n      <td>1.0</td>\n      <td>42.21</td>\n      <td>34.56</td>\n      <td>../data/BGR/Profilbilder_no_ruler_no_sky/BB_06...</td>\n      <td>[0.28, 0.5, 0.74, 1.0]</td>\n      <td>[10.0, 11.0, 11.0, 11.0]</td>\n      <td>[0.0, 0.0, 3.0, 3.0]</td>\n      <td>[4.0, 4.0, 4.0, 4.0]</td>\n      <td>[0, 0, 7, 7]</td>\n      <td>[1.0, 3.0, 2.0, 0.0]</td>\n      <td>[4, 3, 3, 1]</td>\n      <td>[40, 13, 34, 34]</td>\n    </tr>\n    <tr>\n      <th>3</th>\n      <td>3</td>\n      <td>4</td>\n      <td>6</td>\n      <td>807568.3913</td>\n      <td>5926533.227</td>\n      <td>7</td>\n      <td>0</td>\n      <td>0</td>\n      <td>12</td>\n      <td>44</td>\n      <td>0.0</td>\n      <td>200.0</td>\n      <td>0.0</td>\n      <td>0.0</td>\n      <td>4.0</td>\n      <td>5.0</td>\n      <td>2.0</td>\n      <td>14.0</td>\n      <td>3.0</td>\n      <td>37.39</td>\n      <td>13.22</td>\n      <td>../data/BGR/Profilbilder_no_ruler_no_sky/BB_06...</td>\n      <td>[0.3, 0.47, 0.73, 1.0]</td>\n      <td>[2.0, 2.0, 3.0, 3.0]</td>\n      <td>[0.0, 10.0, 13.0, 16.0]</td>\n      <td>[4.0, 4.0, 2.0, 2.0]</td>\n      <td>[0, 0, 0, 0]</td>\n      <td>[1.0, 2.0, 0.0, 0.0]</td>\n      <td>[3, 1, 1, 2]</td>\n      <td>[22, 1, 69, 78]</td>\n    </tr>\n    <tr>\n      <th>4</th>\n      <td>4</td>\n      <td>1</td>\n      <td>6</td>\n      <td>818608.7036</td>\n      <td>5925050.271</td>\n      <td>7</td>\n      <td>0</td>\n      <td>0</td>\n      <td>7</td>\n      <td>413</td>\n      <td>2.0</td>\n      <td>200.0</td>\n      <td>0.0</td>\n      <td>0.0</td>\n      <td>3.0</td>\n      <td>5.0</td>\n      <td>0.0</td>\n      <td>4.0</td>\n      <td>1.0</td>\n      <td>48.47</td>\n      <td>16.43</td>\n      <td>../data/BGR/Profilbilder_no_ruler_no_sky/BB_06...</td>\n      <td>[0.33, 0.43, 0.71, 0.88, 1.0]</td>\n      <td>[28.0, 7.0, 2.0, 20.0, 10.0]</td>\n      <td>[0.0, 15.0, 54.0, 44.0, 14.0]</td>\n      <td>[1.0, 0.0, 0.0, 0.0, 0.0]</td>\n      <td>[0, 0, 0, 0, 0]</td>\n      <td>[1.0, 2.0, 2.0, 0.0, 0.0]</td>\n      <td>[3, 0, 0, 0, 0]</td>\n      <td>[22, 0, 65, 0, 68]</td>\n    </tr>\n    <tr>\n      <th>...</th>\n      <td>...</td>\n      <td>...</td>\n      <td>...</td>\n      <td>...</td>\n      <td>...</td>\n      <td>...</td>\n      <td>...</td>\n      <td>...</td>\n      <td>...</td>\n      <td>...</td>\n      <td>...</td>\n      <td>...</td>\n      <td>...</td>\n      <td>...</td>\n      <td>...</td>\n      <td>...</td>\n      <td>...</td>\n      <td>...</td>\n      <td>...</td>\n      <td>...</td>\n      <td>...</td>\n      <td>...</td>\n      <td>...</td>\n      <td>...</td>\n      <td>...</td>\n      <td>...</td>\n      <td>...</td>\n      <td>...</td>\n      <td>...</td>\n      <td>...</td>\n    </tr>\n    <tr>\n      <th>3342</th>\n      <td>3342</td>\n      <td>0</td>\n      <td>6</td>\n      <td>648389.8108</td>\n      <td>5588119.501</td>\n      <td>10</td>\n      <td>1</td>\n      <td>0</td>\n      <td>0</td>\n      <td>616</td>\n      <td>0.0</td>\n      <td>200.0</td>\n      <td>0.0</td>\n      <td>0.0</td>\n      <td>8.0</td>\n      <td>7.0</td>\n      <td>7.0</td>\n      <td>0.0</td>\n      <td>3.0</td>\n      <td>48.82</td>\n      <td>2.46</td>\n      <td>../data/BGR/Profilbilder_no_ruler_no_sky/TH_34...</td>\n      <td>[0.14, 0.4, 0.6, 1.0]</td>\n      <td>[15.0, 15.0, 26.0, 26.0]</td>\n      <td>[6.0, 5.0, 53.0, 53.0]</td>\n      <td>[60.0, 75.0, 90.0, 90.0]</td>\n      <td>[0, 0, 0, 0]</td>\n      <td>[1.0, 2.0, 0.0, 0.0]</td>\n      <td>[5, 3, 1, 2]</td>\n      <td>[22, 14, 62, 77]</td>\n    </tr>\n    <tr>\n      <th>3343</th>\n      <td>3343</td>\n      <td>0</td>\n      <td>4</td>\n      <td>688216.3809</td>\n      <td>5588885.660</td>\n      <td>10</td>\n      <td>0</td>\n      <td>0</td>\n      <td>0</td>\n      <td>9</td>\n      <td>0.0</td>\n      <td>200.0</td>\n      <td>0.0</td>\n      <td>0.0</td>\n      <td>1.0</td>\n      <td>4.0</td>\n      <td>6.0</td>\n      <td>0.0</td>\n      <td>1.0</td>\n      <td>69.19</td>\n      <td>23.61</td>\n      <td>../data/BGR/Profilbilder_no_ruler_no_sky/TH_34...</td>\n      <td>[0.34, 0.69, 1.0]</td>\n      <td>[4.0, 4.0, 18.0]</td>\n      <td>[0.0, 3.0, 10.0]</td>\n      <td>[20.0, 30.0, 25.0]</td>\n      <td>[0, 0, 0]</td>\n      <td>[1.0, 2.0, 0.0]</td>\n      <td>[5, 3, 1]</td>\n      <td>[22, 32, 77]</td>\n    </tr>\n    <tr>\n      <th>3344</th>\n      <td>3344</td>\n      <td>0</td>\n      <td>4</td>\n      <td>701551.6557</td>\n      <td>5587919.679</td>\n      <td>10</td>\n      <td>0</td>\n      <td>0</td>\n      <td>0</td>\n      <td>0</td>\n      <td>0.0</td>\n      <td>200.0</td>\n      <td>0.0</td>\n      <td>0.0</td>\n      <td>6.0</td>\n      <td>4.0</td>\n      <td>0.0</td>\n      <td>0.0</td>\n      <td>1.0</td>\n      <td>75.65</td>\n      <td>9.34</td>\n      <td>../data/BGR/Profilbilder_no_ruler_no_sky/TH_34...</td>\n      <td>[0.2, 0.27, 0.7, 1.0]</td>\n      <td>[15.0, 15.0, 15.0, 26.0]</td>\n      <td>[2.0, 2.0, 3.0, 23.0]</td>\n      <td>[15.0, 25.0, 60.0, 90.0]</td>\n      <td>[0, 0, 0, 0]</td>\n      <td>[1.0, 1.0, 2.0, 0.0]</td>\n      <td>[4, 1, 0, 0]</td>\n      <td>[22, 22, 32, 0]</td>\n    </tr>\n    <tr>\n      <th>3345</th>\n      <td>3345</td>\n      <td>3</td>\n      <td>4</td>\n      <td>653547.6374</td>\n      <td>5581353.991</td>\n      <td>10</td>\n      <td>0</td>\n      <td>0</td>\n      <td>0</td>\n      <td>2</td>\n      <td>0.0</td>\n      <td>200.0</td>\n      <td>0.0</td>\n      <td>0.0</td>\n      <td>5.0</td>\n      <td>2.0</td>\n      <td>0.0</td>\n      <td>3.0</td>\n      <td>5.0</td>\n      <td>61.72</td>\n      <td>30.69</td>\n      <td>../data/BGR/Profilbilder_no_ruler_no_sky/TH_35...</td>\n      <td>[0.31, 0.49, 0.71, 1.0]</td>\n      <td>[15.0, 15.0, 15.0, 33.0]</td>\n      <td>[1.0, 7.0, 5.0, 16.0]</td>\n      <td>[5.0, 5.0, 20.0, 25.0]</td>\n      <td>[0, 0, 0, 0]</td>\n      <td>[1.0, 2.0, 0.0, 0.0]</td>\n      <td>[3, 2, 2, 2]</td>\n      <td>[22, 32, 47, 2]</td>\n    </tr>\n    <tr>\n      <th>3346</th>\n      <td>3346</td>\n      <td>4</td>\n      <td>5</td>\n      <td>620404.8554</td>\n      <td>5569180.493</td>\n      <td>10</td>\n      <td>0</td>\n      <td>0</td>\n      <td>5</td>\n      <td>3</td>\n      <td>0.0</td>\n      <td>200.0</td>\n      <td>0.0</td>\n      <td>0.0</td>\n      <td>1.0</td>\n      <td>3.0</td>\n      <td>0.0</td>\n      <td>0.0</td>\n      <td>3.0</td>\n      <td>80.30</td>\n      <td>19.58</td>\n      <td>../data/BGR/Profilbilder_no_ruler_no_sky/TH_35...</td>\n      <td>[0.27, 0.7, 1.0]</td>\n      <td>[1.0, 12.0, 1.0]</td>\n      <td>[6.0, 23.0, 31.0]</td>\n      <td>[3.0, 10.0, 30.0]</td>\n      <td>[3, 4, 4]</td>\n      <td>[1.0, 2.0, 0.0]</td>\n      <td>[0, 4, 4]</td>\n      <td>[22, 34, 34]</td>\n    </tr>\n  </tbody>\n</table>\n<p>3347 rows × 30 columns</p>\n</div>"
     },
     "execution_count": 30,
     "metadata": {},
     "output_type": "execute_result"
    }
   ],
   "source": [
    "# Only rows with Obergrenze < 100 were kept. This lead to some Untergrenze values still being above 100.\n",
    "# Round these down to 100 for a correct loss calculation.\n",
    "# Also normalize labels to interval [0.0, 1.0] for faster convergence and stability.\n",
    "\n",
    "df['Untergrenze'] = df['Untergrenze'].apply(bgr_data.normalize_df_list)\n",
    "df"
   ],
   "metadata": {
    "collapsed": false,
    "pycharm": {
     "name": "#%%\n"
    }
   }
  },
  {
   "cell_type": "code",
   "execution_count": 31,
   "outputs": [
    {
     "name": "stdout",
     "output_type": "stream",
     "text": [
      "Minimum number of horizons: 2\n",
      "Maximum number of horizons: 8\n"
     ]
    }
   ],
   "source": [
    "# Get the lengths of the lists in the 'Untergrenze' column\n",
    "list_lengths = df['Untergrenze'].apply(len)\n",
    "\n",
    "min_length = list_lengths.min()\n",
    "max_length = list_lengths.max()\n",
    "\n",
    "print(f\"Minimum number of horizons: {min_length}\")\n",
    "print(f\"Maximum number of horizons: {max_length}\")"
   ],
   "metadata": {
    "collapsed": false,
    "pycharm": {
     "name": "#%%\n"
    }
   }
  },
  {
   "cell_type": "code",
   "execution_count": 32,
   "outputs": [
    {
     "name": "stdout",
     "output_type": "stream",
     "text": [
      "List with minimum length: [0.32, 1.0]\n",
      "List with maximum length: [0.13, 0.26, 0.4, 0.58, 0.68, 0.83, 0.98, 1.0]\n"
     ]
    }
   ],
   "source": [
    "min_length_list = df[df['Untergrenze'].apply(len) == min_length]['Untergrenze'].values[0]\n",
    "max_length_list = df[df['Untergrenze'].apply(len) == max_length]['Untergrenze'].values[0]\n",
    "print(f\"List with minimum length: {min_length_list}\")\n",
    "print(f\"List with maximum length: {max_length_list}\")"
   ],
   "metadata": {
    "collapsed": false,
    "pycharm": {
     "name": "#%%\n"
    }
   }
  },
  {
   "cell_type": "code",
   "execution_count": 33,
   "outputs": [],
   "source": [
    "# Define the image normalization\n",
    "normalize = transforms.Compose([\n",
    "    transforms.ToTensor(),\n",
    "    transforms.Normalize(mean=[0.485, 0.456, 0.406], std=[0.229, 0.224, 0.225]), # Normalize with ImageNet statistics\n",
    "])"
   ],
   "metadata": {
    "collapsed": false,
    "pycharm": {
     "name": "#%%\n"
    }
   }
  },
  {
   "cell_type": "code",
   "execution_count": 34,
   "outputs": [
    {
     "data": {
      "text/plain": "HorizonClassifier(\n  (image_encoder): ImageEncoder(\n    (cnn): ResNet(\n      (conv1): Conv2d(3, 64, kernel_size=(7, 7), stride=(2, 2), padding=(3, 3), bias=False)\n      (bn1): BatchNorm2d(64, eps=1e-05, momentum=0.1, affine=True, track_running_stats=True)\n      (relu): ReLU(inplace=True)\n      (maxpool): MaxPool2d(kernel_size=3, stride=2, padding=1, dilation=1, ceil_mode=False)\n      (layer1): Sequential(\n        (0): BasicBlock(\n          (conv1): Conv2d(64, 64, kernel_size=(3, 3), stride=(1, 1), padding=(1, 1), bias=False)\n          (bn1): BatchNorm2d(64, eps=1e-05, momentum=0.1, affine=True, track_running_stats=True)\n          (relu): ReLU(inplace=True)\n          (conv2): Conv2d(64, 64, kernel_size=(3, 3), stride=(1, 1), padding=(1, 1), bias=False)\n          (bn2): BatchNorm2d(64, eps=1e-05, momentum=0.1, affine=True, track_running_stats=True)\n        )\n        (1): BasicBlock(\n          (conv1): Conv2d(64, 64, kernel_size=(3, 3), stride=(1, 1), padding=(1, 1), bias=False)\n          (bn1): BatchNorm2d(64, eps=1e-05, momentum=0.1, affine=True, track_running_stats=True)\n          (relu): ReLU(inplace=True)\n          (conv2): Conv2d(64, 64, kernel_size=(3, 3), stride=(1, 1), padding=(1, 1), bias=False)\n          (bn2): BatchNorm2d(64, eps=1e-05, momentum=0.1, affine=True, track_running_stats=True)\n        )\n      )\n      (layer2): Sequential(\n        (0): BasicBlock(\n          (conv1): Conv2d(64, 128, kernel_size=(3, 3), stride=(2, 2), padding=(1, 1), bias=False)\n          (bn1): BatchNorm2d(128, eps=1e-05, momentum=0.1, affine=True, track_running_stats=True)\n          (relu): ReLU(inplace=True)\n          (conv2): Conv2d(128, 128, kernel_size=(3, 3), stride=(1, 1), padding=(1, 1), bias=False)\n          (bn2): BatchNorm2d(128, eps=1e-05, momentum=0.1, affine=True, track_running_stats=True)\n          (downsample): Sequential(\n            (0): Conv2d(64, 128, kernel_size=(1, 1), stride=(2, 2), bias=False)\n            (1): BatchNorm2d(128, eps=1e-05, momentum=0.1, affine=True, track_running_stats=True)\n          )\n        )\n        (1): BasicBlock(\n          (conv1): Conv2d(128, 128, kernel_size=(3, 3), stride=(1, 1), padding=(1, 1), bias=False)\n          (bn1): BatchNorm2d(128, eps=1e-05, momentum=0.1, affine=True, track_running_stats=True)\n          (relu): ReLU(inplace=True)\n          (conv2): Conv2d(128, 128, kernel_size=(3, 3), stride=(1, 1), padding=(1, 1), bias=False)\n          (bn2): BatchNorm2d(128, eps=1e-05, momentum=0.1, affine=True, track_running_stats=True)\n        )\n      )\n      (layer3): Sequential(\n        (0): BasicBlock(\n          (conv1): Conv2d(128, 256, kernel_size=(3, 3), stride=(2, 2), padding=(1, 1), bias=False)\n          (bn1): BatchNorm2d(256, eps=1e-05, momentum=0.1, affine=True, track_running_stats=True)\n          (relu): ReLU(inplace=True)\n          (conv2): Conv2d(256, 256, kernel_size=(3, 3), stride=(1, 1), padding=(1, 1), bias=False)\n          (bn2): BatchNorm2d(256, eps=1e-05, momentum=0.1, affine=True, track_running_stats=True)\n          (downsample): Sequential(\n            (0): Conv2d(128, 256, kernel_size=(1, 1), stride=(2, 2), bias=False)\n            (1): BatchNorm2d(256, eps=1e-05, momentum=0.1, affine=True, track_running_stats=True)\n          )\n        )\n        (1): BasicBlock(\n          (conv1): Conv2d(256, 256, kernel_size=(3, 3), stride=(1, 1), padding=(1, 1), bias=False)\n          (bn1): BatchNorm2d(256, eps=1e-05, momentum=0.1, affine=True, track_running_stats=True)\n          (relu): ReLU(inplace=True)\n          (conv2): Conv2d(256, 256, kernel_size=(3, 3), stride=(1, 1), padding=(1, 1), bias=False)\n          (bn2): BatchNorm2d(256, eps=1e-05, momentum=0.1, affine=True, track_running_stats=True)\n        )\n      )\n      (layer4): Sequential(\n        (0): BasicBlock(\n          (conv1): Conv2d(256, 512, kernel_size=(3, 3), stride=(2, 2), padding=(1, 1), bias=False)\n          (bn1): BatchNorm2d(512, eps=1e-05, momentum=0.1, affine=True, track_running_stats=True)\n          (relu): ReLU(inplace=True)\n          (conv2): Conv2d(512, 512, kernel_size=(3, 3), stride=(1, 1), padding=(1, 1), bias=False)\n          (bn2): BatchNorm2d(512, eps=1e-05, momentum=0.1, affine=True, track_running_stats=True)\n          (downsample): Sequential(\n            (0): Conv2d(256, 512, kernel_size=(1, 1), stride=(2, 2), bias=False)\n            (1): BatchNorm2d(512, eps=1e-05, momentum=0.1, affine=True, track_running_stats=True)\n          )\n        )\n        (1): BasicBlock(\n          (conv1): Conv2d(512, 512, kernel_size=(3, 3), stride=(1, 1), padding=(1, 1), bias=False)\n          (bn1): BatchNorm2d(512, eps=1e-05, momentum=0.1, affine=True, track_running_stats=True)\n          (relu): ReLU(inplace=True)\n          (conv2): Conv2d(512, 512, kernel_size=(3, 3), stride=(1, 1), padding=(1, 1), bias=False)\n          (bn2): BatchNorm2d(512, eps=1e-05, momentum=0.1, affine=True, track_running_stats=True)\n        )\n      )\n      (avgpool): AdaptiveAvgPool2d(output_size=(1, 1))\n      (fc): Identity()\n    )\n  )\n  (geo_temp_encoder): GeoTemporalEncoder(\n    (encoder): Sequential(\n      (0): Linear(in_features=21, out_features=64, bias=True)\n      (1): BatchNorm1d(64, eps=1e-05, momentum=0.1, affine=True, track_running_stats=True)\n      (2): ReLU()\n      (3): Linear(in_features=64, out_features=32, bias=True)\n      (4): BatchNorm1d(32, eps=1e-05, momentum=0.1, affine=True, track_running_stats=True)\n      (5): ReLU()\n    )\n  )\n  (depth_marker_predictor): LSTMDepthMarkerPredictor(\n    (fc): Sequential(\n      (0): Linear(in_features=544, out_features=256, bias=True)\n      (1): ReLU()\n      (2): Dropout(p=0.2, inplace=False)\n    )\n    (rnn): LSTM(256, 256, num_layers=2, batch_first=True, dropout=0.2)\n    (predictor): Linear(in_features=256, out_features=1, bias=True)\n  )\n)"
     },
     "execution_count": 34,
     "metadata": {},
     "output_type": "execute_result"
    }
   ],
   "source": [
    "# Initialize model\n",
    "#num_classes = len(df[target].unique()) # for one-hot encoding\n",
    "#num_classes = emb_dict['embedding'].shape[1] # for HCE (the dim. of final layer in the model should match the dim of the embedded label vectors)\n",
    "model = bgr_mod.HorizonClassifier(geo_temp_input_dim=len(geotemp_img_infos)-1, # without counting the img path\n",
    "                                  max_seq_len = max_length,                    # fixed from longest list of horizons in one image from dataset\n",
    "                                  #transformer_dim=128,\n",
    "                                  #num_transformer_heads=4,\n",
    "                                  #num_transformer_layers=2,\n",
    "                                  rnn_hidden_dim=256,\n",
    "                                  stop_token=1.0)                            # End of Sequence Token at -1 meters\n",
    "\n",
    "device = torch.device(\"cuda:0\" if torch.cuda.is_available() else \"cpu\")\n",
    "model.to(device)"
   ],
   "metadata": {
    "collapsed": false,
    "pycharm": {
     "name": "#%%\n"
    }
   }
  },
  {
   "cell_type": "code",
   "execution_count": 35,
   "outputs": [
    {
     "name": "stdout",
     "output_type": "stream",
     "text": [
      "2510 samples for training.\n",
      "837 samples for validating.\n"
     ]
    }
   ],
   "source": [
    "# Data split\n",
    "#train_df, val_df = train_test_split(df, stratify=df[target], random_state=2024)\n",
    "train_df, val_df = train_test_split(df, random_state=2024) # ToDo: not stratified...\n",
    "\n",
    "print(f'{len(train_df)} samples for training.')\n",
    "print(f'{len(val_df)} samples for validating.')"
   ],
   "metadata": {
    "collapsed": false,
    "pycharm": {
     "name": "#%%\n"
    }
   }
  },
  {
   "cell_type": "code",
   "execution_count": 36,
   "outputs": [],
   "source": [
    "# Define the image transforms for augmentation\n",
    "augment = [\n",
    "    transforms.ColorJitter(brightness=0.3, contrast=0.3, saturation=0.3, hue=0.1),\n",
    "    transforms.GaussianBlur(kernel_size=(5, 5), sigma=(1., 3.))\n",
    "]"
   ],
   "metadata": {
    "collapsed": false,
    "pycharm": {
     "name": "#%%\n"
    }
   }
  },
  {
   "cell_type": "code",
   "execution_count": 37,
   "outputs": [],
   "source": [
    "batch_size = 64\n",
    "# Create Dataset object with image and tabular features\n",
    "train_dataset = bgr_data.ImageTabularDataset(dataframe=train_df,\n",
    "                                             normalize=normalize,\n",
    "                                             augment=augment,\n",
    "                                             image_path='file',\n",
    "                                             label=None, # no label column as input; access it instead via 'index' during training\n",
    "                                             feature_columns=geotemp_img_infos[:-1])\n",
    "\n",
    "train_loader = DataLoader(train_dataset, batch_size=batch_size, shuffle=True, num_workers=16,\n",
    "                          drop_last=True) # any better idea than drop_last? without it, tensors don't get concatenated properly\n",
    "\n",
    "# Training parameters\n",
    "optimizer = optim.AdamW(model.parameters(), lr=1e-3, weight_decay=1e-2)\n",
    "#criterion = nn.CrossEntropyLoss()\n",
    "#criterion = TopKLoss(k=5)\n",
    "#criterion = nn.CosineEmbeddingLoss() # for HCE: 1 - cos(prediction, target)\n",
    "criterion = DepthMarkerLoss(lambda_mono=0.0, lambda_div=0.0)\n",
    "\n",
    "# Note: Is MSE better for HCE?"
   ],
   "metadata": {
    "collapsed": false,
    "pycharm": {
     "name": "#%%\n"
    }
   }
  },
  {
   "cell_type": "code",
   "execution_count": 39,
   "outputs": [],
   "source": [
    "### Callbacks\n",
    "scheduler = torch.optim.lr_scheduler.ReduceLROnPlateau(optimizer, mode='min', factor=0.1, patience=5, threshold=0.1, min_lr=1e-5, verbose=True)\n",
    "early_stopping = EarlyStopping(patience=10, min_delta=0.01, verbose=True) # looks at val_loss (see callbacks.py)\n",
    "checkpoint = ModelCheckpoint(save_path='./BGR/models/lstm_depthmarker.pth',\n",
    "                             monitor='avg_val_loss', mode='min', verbose=True)"
   ],
   "metadata": {
    "collapsed": false,
    "pycharm": {
     "name": "#%%\n"
    }
   }
  },
  {
   "cell_type": "code",
   "execution_count": 40,
   "outputs": [
    {
     "name": "stdout",
     "output_type": "stream",
     "text": [
      "Training size original: 2510\n",
      "Training size after augmentation: 7530\n"
     ]
    }
   ],
   "source": [
    "print(f\"Training size original: {len(train_dataset.dataframe)}\")\n",
    "print(f\"Training size after augmentation: {len(train_dataset)}\")"
   ],
   "metadata": {
    "collapsed": false,
    "pycharm": {
     "name": "#%%\n"
    }
   }
  },
  {
   "cell_type": "code",
   "execution_count": 41,
   "outputs": [
    {
     "name": "stdout",
     "output_type": "stream",
     "text": [
      "Image 0\n",
      "tensor([1.7890e+03, 7.0000e+00, 0.0000e+00, 5.0506e+05, 5.8320e+06, 6.0000e+00,\n",
      "        0.0000e+00, 0.0000e+00, 0.0000e+00, 2.0000e+00, 0.0000e+00, 2.0000e+02,\n",
      "        0.0000e+00, 0.0000e+00, 3.0000e+00, 2.0000e+00, 2.0000e+00, 0.0000e+00,\n",
      "        3.0000e+00, 5.3780e+01, 1.5110e+01])\n",
      "Image 1\n",
      "tensor([1.7890e+03, 7.0000e+00, 0.0000e+00, 5.0506e+05, 5.8320e+06, 6.0000e+00,\n",
      "        0.0000e+00, 0.0000e+00, 0.0000e+00, 2.0000e+00, 0.0000e+00, 2.0000e+02,\n",
      "        0.0000e+00, 0.0000e+00, 3.0000e+00, 2.0000e+00, 2.0000e+00, 0.0000e+00,\n",
      "        3.0000e+00, 5.3780e+01, 1.5110e+01])\n"
     ]
    },
    {
     "name": "stderr",
     "output_type": "stream",
     "text": [
      "Clipping input data to the valid range for imshow with RGB data ([0..1] for floats or [0..255] for integers).\n",
      "Clipping input data to the valid range for imshow with RGB data ([0..1] for floats or [0..255] for integers).\n",
      "Clipping input data to the valid range for imshow with RGB data ([0..1] for floats or [0..255] for integers).\n"
     ]
    },
    {
     "name": "stdout",
     "output_type": "stream",
     "text": [
      "Image 2\n",
      "tensor([1.7890e+03, 7.0000e+00, 0.0000e+00, 5.0506e+05, 5.8320e+06, 6.0000e+00,\n",
      "        0.0000e+00, 0.0000e+00, 0.0000e+00, 2.0000e+00, 0.0000e+00, 2.0000e+02,\n",
      "        0.0000e+00, 0.0000e+00, 3.0000e+00, 2.0000e+00, 2.0000e+00, 0.0000e+00,\n",
      "        3.0000e+00, 5.3780e+01, 1.5110e+01])\n"
     ]
    },
    {
     "data": {
      "text/plain": "<Figure size 720x576 with 3 Axes>",
      "image/svg+xml": "<?xml version=\"1.0\" encoding=\"utf-8\" standalone=\"no\"?>\n<!DOCTYPE svg PUBLIC \"-//W3C//DTD SVG 1.1//EN\"\n  \"http://www.w3.org/Graphics/SVG/1.1/DTD/svg11.dtd\">\n<svg xmlns:xlink=\"http://www.w3.org/1999/xlink\" width=\"572.4pt\" height=\"178.517647pt\" viewBox=\"0 0 572.4 178.517647\" xmlns=\"http://www.w3.org/2000/svg\" version=\"1.1\">\n <metadata>\n  <rdf:RDF xmlns:dc=\"http://purl.org/dc/elements/1.1/\" xmlns:cc=\"http://creativecommons.org/ns#\" xmlns:rdf=\"http://www.w3.org/1999/02/22-rdf-syntax-ns#\">\n   <cc:Work>\n    <dc:type rdf:resource=\"http://purl.org/dc/dcmitype/StillImage\"/>\n    <dc:date>2025-01-28T16:02:24.701444</dc:date>\n    <dc:format>image/svg+xml</dc:format>\n    <dc:creator>\n     <cc:Agent>\n      <dc:title>Matplotlib v3.5.1, https://matplotlib.org/</dc:title>\n     </cc:Agent>\n    </dc:creator>\n   </cc:Work>\n  </rdf:RDF>\n </metadata>\n <defs>\n  <style type=\"text/css\">*{stroke-linejoin: round; stroke-linecap: butt}</style>\n </defs>\n <g id=\"figure_1\">\n  <g id=\"patch_1\">\n   <path d=\"M 0 178.517647 \nL 572.4 178.517647 \nL 572.4 0 \nL 0 0 \nL 0 178.517647 \nz\n\" style=\"fill: none\"/>\n  </g>\n  <g id=\"axes_1\">\n   <g clip-path=\"url(#p3b0b8b2120)\">\n    <image xlink:href=\"data:image/png;base64,\niVBORw0KGgoAAAANSUhEUgAAAKUAAAClCAYAAAA9Kz3aAACP50lEQVR4nOz9R7B1WZbfh/2Ou/dcf583n88vfWVl+a723WgYEoQhBpAECqEgZQiKwRAHGmkizaQZgwNJVCikIAcciAOGJIYII0BwDTTQja7urqrMykqfn3/eXH/vsRr898p9v0RWG3QD6CrkiXjx3rv3mH3WXnuZ/zI7AGo+52gCBVC6/yP3ewd4HegA7wEfu/MA7gGvAE+ACTACGsAS2AP67mFtd/4l0HN/p0AObLjzpu6zEXAK3AduAQHwXfd55P4/Aio3trF7Ru2+7wHb7vmXa8+au3FkwMpdP3H/j4GWu6503y3dtYk7LwRm7rwh8JGjgz2jDXzDXXftxoujW+zo23L3OXbXTdw4X3PPtDE23LOW7hm1G3Pp/m65e8aOHjnQdc9aOlpmbuwD933l7m3XFMCBe2bm7mv3yR0tEzeWyv2UbhxNd97S/b0NLBwdbfyn7vzCjdfm7hj4wM3dDTT3MT/iyNxFOMLZRE+Bp8CLwG3gDLhau+ZjNEmbwDvuQV00MQliEiNE101G5M6/cOfZswI0SfvuRQ+BZgpFBv+s0rXXbgwhnqk/cETDEelFR4ie+527l8cRL3W/e2v3mOCZtes+W7nr2+731BH1HTQh4dq7bbj36qKJTt3fO+7zhbvfyP1tk7oJbDlaDh3NFu43aFKb7twYTfTSjalCTFe650VubnbdPWo3RhvT0tGh7Who55SIoeyZQ/wiMAZtuue13DO30MKZrn0frM1j8zPvNHfvsoMWg71PsXbd73oE7kGF+/0SYpC+e5Fj4GTt+xQx7LF7mTvuBRI3KHvxyhGpcuet3LUTtLpuuN8D4E4A3QSqBFYFPFzBbwJvOWK0gTcRY42Bc7xEabjv+0h6jB0hQjd+I0jo3rXhrjt3hCzd2LtuEhru3h13XrH2nDmeUSr85NnEDICbaDF94K5punsl7m/TTn3EpFM3NrtvCjxAjNBx71C5z20MxpRGV5OMNo+xe7fMXV+4c2L3vGu0sEK8ZsvXaJXiF+EesJtCksJsDueZl74X7hlNNzajXebGUrs5u3D3T/hdmDLEr267wdxdeIgmdYGk5kvuZjO08peOgA1H1A5i2l03uFvupT923xnhA56f5N01AuzgJ3CCGOYKL8UHbqymYnDjnSGJmuPVghHXCDV3zzty97Znrty9G+7exjC7jgYD9/0p3lzI8ZPccLSz8Ry7+76MZ4rA3fPAfTdz9wjdNTY5bXffBZ5pE0c7k+IT92OmQeruf+HmZeCuO8Izlalrk95mjpy5cQTu/9j9n7t7NNx3IZrPwy7sHsJkBI9OvNQ9BR66e2y5sZvaNyFVunGM3eefq74HjqiZe2jP3XCCbKcn7rsJXlLeRZOVIGYxW61wBFhXoTVeZU7cRMzctTVexc3deC4REyV4idXH2zYBYuqmm6AGYlrc+Lfxtuulu0flnp+jhYE7xxhp6sZukryNV2kztKhm7l17eBs8c0Q1adtxdKnxkjrHSy/cd7aYu0AvhKeVt9Vx15m9Xbn72wSP3Tiv3fPBS6rI0d2OJd6unOM1Q+F+5u7/AzwDlu6+Nt4AL5k77vy4hnIOzdo/b+LGewtvp7bx829SunK0rNx3nzJl5P5puQe13Ik1WllLvLFvBqr9/RitxlvI2Rk4Qk3dCz1EksUIaav/nvt/giSuOUOBe9aBI9QD4H1336/jV7DZIC33chmw2YCygFnljXUzARK82dDEq9HSvatJ2sy936kj3tJNlkmmTXe9EdakC3gpZlLHTIQAMW+EV+0m1bvut9mOVQipG3+y9j14RjHaNxBDB2ufrfALtbF2njlFiZuvdcbG0TJ3NDEpG7oxz9x7D9aeNXHnHwOjGbQWYk5jdpOyJtzs6LlrTdDYYizd70/V9y0kUeaIQZrIwUjdC8zcy87wxrwZs+ZkmOp4wQ0+BT5BjGYTkuI9RVMJU8QAA8SI18Az4FU0eQXei91yxJm5a1p4JjHJ0HbPwV2XO+J03btcuL+HaPGsq/LA0eAEzyQJWqjGUCYhuu4d+nh7NEBMMsLbypk7v+2eY2oqx2uIm+79TeKZaivcOSYBczd5PXfuZO17827jtXcL3b1ivGZJHe3MqzePeuTeqcJL2JV77tvuXl9z51/jHd/YzcFqjQ499//APcMY2SSuoQQR3uZfd3Br3GB23U3P3YVmaNsFZ44I5kEbAc3OmeKPBKmbA+TomINhKtA8N5N2E/fbbLdjd33TPaeDX3Xm6R7jJUXPEbvGq/clsB9DEcFs5RnCDGq7l93PmHuM1PKGu5fZXxF+8nHjX3cabEGYgT/H24EmqbvuPHPmRm48ttha+IWIo7mZNybla0cLszNN4j5xP4V7Xs/R3jSLHebgNNx7GTOZJLVzbGFPkVM2QDyyxMNm4G3wGM8r5kWbtlh/rjGi0c6ktdnlQRdq8wp77iUNyjDvuIEXsxfuBi13zjFSzz/qaAC/hKTnFn4CT/FwR4aHCMzGy93/BkuY4d50RLx2BDJnxDxts1vt3ARoNqCTQryEq8wz1sLd+xJJZrP1umv3KHkeIbjEmx+mwo25srXrCoTjdpEjuC7pOu6cId62MylmUNMMzxS2gEyNrtCCGeKRDHPo7P+R++zA0b2PRw4MjrtATGxmVh+/AA1LXOLhIGP+9UVlJkzp6BHhNaLZ8QZ9VXib20w0m08zabpAPMDbV328277CqxmblALZfbYSjJl+tyMD/g5yXt5AnueBu48Z7CYp7J6mUsGv8rEjhGF9BuquE9lUq8EwsY0/g4vMS4aem4gtvJqKkd06c5+Z6WKe+Qjv/MzxEm2El+yGgS7xNqAxiD3bpIqpcwOZDbG4xsMw5hiZsCjdu5rTEOCdrmd4ddlHNvwjtHC77ueOG2MzhbqC3NHEghoNd07s7gvPS9gYb8608Z6ymU312jVmQmT4hWQmi2kTm1uTyub4xkO0wk7xKyTBq6I2Xm20I1iWcnwipFrMy/3skeBVA+7cvw/8DrIVv4pX1Rmy4czLe+Sea174Ek2smQiRI77ZJjaZbbxkNU+6WDvPFpetSFvZ61Gmx4hJDMIywN2iK2ZbGuNP3O9tvO206T7ruM8Mh7TnDhxdpnhmsIVyiRZE2413gFdx5jAYfGOe6xDvpK0zvl1r87FCF+cJLFY619RxY+3+RscIb6pUbl7W/YHZZ+hrwmoL2AngWe0XWR/vkNkY7TBzLnJ0iu+6m3Txq9bsPsMFDS4IS31u4HQbeCMSQRNn7Bi3X+FX6GP8yhgD/wwtgl9w96/dGGqkUsyuHeLVQd+dC56BjMmMcKYSjKjmFZvzYd6iOTVmaNtivOfOfRd5/OfuPiYlzUloImm/g8dqTR3bj0VOzKu3Se8FkNTehjN1bsLAmG6Cx2cDR89rPMCe4hnN3nsLb9fbggNvOjSAkxJWEzHsgjUMNtDcVIFzziqNdSOBMtOivI0Pdy6QCWHq3WAwk+KtWtrXNAX4KJo5ZOBDnoYLJ0B84ghgHp2pJXuQhZZqvFF9zxFgO4aDLagKWFzDvBTxOkg9G5EGeE/PiHuGwnMWZTAoqnb3N5VgDHOFZ7R11f6BG6dhYSZZp/gIUQ8P59gErvBS0hjfzIcrhMcaLrd+mPTadd/3kKq0+4FXX2bfhkDacJIohOVSfxuqAN5uM5OjcP+funuYCjeV18bHws0ZNFx1gZi5DiGrIax90MHeoQHsJorCBDHUDehUEDUgCSCfQbCCpYs6VBXMK784a56PhNnRX6ODxfiHeAfINES8dh/zyE0bxbaKzGBfupvaSbYax3g1E+NWfw1nI4gDOCrFhAZtnOMTLszu3EWrbYqkp31uxr09w0wGszON4GYnrq+0LXxCgH1vUiTGM3YvgDqVHVWUEEfQayksNq20YD4G/imCsT6PIVmbgE+QNA2Q6m7joRUL85nNHAFlqf9zN3BzWiZ4Bs3xUJoxtiELJk2XiGnqBsxyuKzcfd2zzO47DZ1abbnFvhBzdoEwgHYXwi4kbTHuOINlAFEXUudGr2ZQLqGaQL8BwzUc0n5aeBNq3QF8isdK1wXdOmZrARhzDO0nBu/OG+BtDoNJnEP3nQX6DRxNSpiUmqibPO8Nm/3Xdd+Z4W9Q0w288W4r3mxQg2hqvHo388JW53Lt5QxSarkfs21sIqMUxm2InJcWXcD4DI6n3sO30KAx8ecxpTHYetaNYZW7SBIv8Ixr9wyAtPSTluDVlTkCBV5aWpJEx9H6zF0XAFsRFDFMCtg7gIMIZhP4wbWERBlA0IRRKabtzn1kpY8Y8sZdCA+gaMB8AvORmLwdwdU5fHgFFyUchnKIihoGLp59jXeyzM41swNHm+21ebM5s/k0obKunU3oGE4bz90XN1swbsDHI0mx1BHmEnmWHcRc5lWZujO4wnDJCKk/A7BtsBWeyW0Q5tlt46ERe+Fq7X+Do0ylmRe6gYcdTIWZ42DJCEkErT3o9XWD8RWslpqcZq3nnuAzbN7EqzrDCI1J1z1fc2pKNw5zYmwxLtz47bM9R5MygKD2WUKGaqxHqCb4mPQ23k7MgP1NiLdgcQHzIZyeQieBXgq5M7BnSw9OmwQ106bldOjVESRNmJ6LEVsJBCHMC5g6QVOV3mQwU8ccV5unxPGIBVIqhARM8YKtiTeh1hm6drQN165dAbF5W6cZ/FYhYryCxO8Ir/sbuNQxfIaMvWwaOUyvhE4A/dpHfiy5YIZX15Z0EOBjugt8xMMSG87WJjvleQiBtRey1WfSrcRLtKSrSSxSl1vZhvEpZCut/iE+VSxGeOo95Gme4CNORosFPsacuPGcIYl8jQ+tmXO2i4e52sjJMXjLDruv3c9+G4xUuXsfAVfXMJlCVkJzCnUJQQVlBbuxmM5MF5unFG/ShAlMMtjdgTz3Nt0y17s+xCfTnOMdzMzRwNRy0323g5f6xlQWlt1w79dw/1tCizmdkaPVHh4S6iJzkEvklV067/rU3fAX8Tbehb2gW+kWViqBdgl5CHkL6jYUE2hnHkM7xsfWc/ciL+AjQgY/WcTEmD3BA7sm5s3oT4AogLR+3vueu2cYoRo5NDIoQji9hPBab19kXtWmwFagCapqD9TfxqvzBJ8VZNDNx47AR24Ce0iybbvxWECiCGGnCc0YpkvR67rS5A3d+ZWblBkedjLcuEQJLYdAkMA/yOCkEAKw655VAMvMA9QWghziUwwjZC92KqhriJvQ7knSLpdaqHEG4xKmtY/rb7v733BzN8H7FabRbJyX7u8dvLq2rCWjSct91k1k8w5D8VVYQ72CoAF1zz1wP3A2mTNmTfWaIZ84D2hRe2xpBQxiaA9gUcBlJmfit0uP1Vk0wDC1HXdPwxRN7ZrqS/B2liU2GBRzI5ZxTsNJlUqQRRoKsqoqiFfyPMMesAnhrlZf9RSyYw3aNIDZx80Q6gBagVCEJ2uTYuPI0YK9wktmi4E3HYN0WPMsU2hEsL0PnW2oY7h6DNUlHE29yjP1fInPDTVtUSDGPnD3bKZwVCmndF756JrZ+4YmdPFRKtYYwVIF9xvQ3If0hhycOoHlHFancoqCueZxmnmHdxhC5xaUTZidwvLaY8imtSxsatLepHTffbblvi9DGB5Cckth4NVczyxmEP+7btAT4Lr2OZTwvKebIVsDvG0XI09wvAWTJjw6gjIXEY/dfSxqkjjiDvCpYgaY1vismU08cJvhIwcWSvyghGwGg7nPEOoECk1t34SNbVitYDaSTVS1IRhAK4JuG4otiB5AMJIqpXLhRaf7A4cjbjmarDtBpnILJOF3kDS95d7pDA8QL4DjTO/wlRHsNSFJoBjB5UznWhwcvBnS4vnojWGc1+7zxtJnNhkAXePj5pbk8ZTnw5dTxxhmClUllCu4OpU6LyMY7kE0gFUKzQ5kE+gtoZy6UHMNjQY096A7gNUZzE/kldsC6rrnxnh7v+Hm3cbTAKIYghLiEpo9h1w4kDn4C1APkOT6TXxm+SCQ+18gG8gQ+zCEsYOAVkAVwWMX5emi+h0LXcLzdoVFYcyTN0Y0Qq2reMuGwU2IedMBem67KUajhFaqIH6JxH9VwGgie2s4gM5NaAxg2IG8hvpI9liSydCP8ueTAkz1WWKGmRDrnmPo3m3bjT0MYRFCWUOrgkELTiL4YA63KrixCb0hBGNYLCAroM6ch1r5hN8JPpRpi9bGY8B/BwmDwrnzOdAPpR1WhR+34cQGsZktWLnzb7SgkUDrBqQHEEaSfukQkhiKI8ifQn0N+co5ZDEM70CyI2fp4lg0b+CTLwxnzfA5pQneMTaTMI5g44bCitNMQiOKIf4QXwj2K3ibrqy9O2+22sx9d4FUTQbMHGA+RMVduwi22I6gncvDNW+rwKs+kwLmna4fJj1MShjWaR79jLU0pxqSESxGnrHMlk0RE7TOJQFnU71oGsF4BvlE4+/iVU53jbBzfOqb2Uxz99vsxQgXAat8Dmcd6F67PRh0YHkOYQOWbUj70E+kGpdTSfRgob8tmmOQUwepYLMRQ3y+QVB7r75CScFV5bXOEtm5F3jBkDu6nLjxvpHBVxpwsy8Q/eIxZCPIxhA3oF1BFEGYivEyIC5g+RRWF9Dqwo09SdTiyuOR5mSZnWyJLhYIiYB2G9pDaLWhSKAbQHWmROH4RXyIz9RhCkwCOK19YdO5+31V+ShCw73wLnCzAcMU0gQ2GtArgJGkQbk2SFNTtmINzTdM0laVwUaGX5oa/TSevvIZ4m28t4q7v4VOW5EW2HwOyabgoLRW/LcGRpXPRg/dhFuAIMOHTUs8+GvIwBhf1LaDL9Fo1rA3h5sL2G1Blgo7zOewWsA8geZAOOFo5WlkeF4u0nGMt8VMi7Rc+CmrlAi8E0ujnRay9SM3nsdurDd4Ppt7H1VLFsDNGFotyK9hcQSNY409TKDblz08PtXLG4Zbo4Eul1CMoTGExqYkXtdhZdkxXC69N20CzBZ2AowXMK+huhAMlQA9xwjx0J34FF+X0QQua/jQEeflNcKk+Ny/dW85KmCVSTVNC9hPIKx8epPBNeshvcba3waKG4hsRrJBDS18DdAJXoIaIG1OmcVgj909nxbQmUAw0UwFkTzvupYtavZqF584vHDMFeMjLE20AK6QeTNHocinjglaeIDfiH9eQzjX32czpdClucbQmwmYTnNYZD7PwJAGg4O28bU1BXLyijbMlxDnQgsoYTfS5C7de+y5OXvsftp4e2+Ii6kvpLLzERRL6DehE0EUQrLU/KUlLGufSLEeACgrmF9CcQn9PrTuQ7AHcQyjT2QzGq7ZwAcamkBUK3uLWpBWji8ei9so7y9HYbPYDfgQX03YXJuoJc/nK146Ys0qhaQsRHm1RmhjMvPOLKxmEm7ddqzxkqpE+X4GBV24H4sKNfDGew8vYcwerZGdVXYlwauxHJplLemS1R78N8Y39Wigr31X4iW1jWEfn93z2P1+4phiA0n9gRvfcQ2tlSs/riA69yB8idcc5gieuOdY0MDUejSB/YnP7DaNZTQduXsafNVDuDM8byZZwkjpAtFxBVdz2cZpAFelH1cXX5VoodQY77C2AwHe5ULXLi8Fe0X4MKmZIAt3ryawUXohNEf8NQfiRwgwrVHx16H72cBLp0uexwoN2R+530/QirbY9W7oCsacjTNae5HYPdjyCRO8ijJG6qHJu1xjgjOeB5YNajDmMUbdcddVjlidbchTmB5D06HuNT7Bd3NtLEUgfK529x4jyXnmiLrh3m/C81BIjI/IxI5+t3le0oNPhm0DtxOp8Q18wkQTRWWuSzlrBgtl7nlPkJaycbhcCZo8n99o2LONzaSk5TEcu++H7qdT6B23ge3KQ2GGQ1d4DHbJ8w5YO4XGbZg34XoFiyewuvZwl5kdfXz+gjly1zyf4GswYTxF6qiJR+drNxkWd7XojNld26xBQmtEaruXfHUDNgbw6BRGU99pYeAGuo9P+FyPyhhumeDT3Oy7cO17A9sturTEO08DYKcD0aZA63ig0F7HId5zvIQxh8rA4J0IxoVsQ7MvF/iMoz5+AYGvUW/jExMMizPzpoFfOAaIR8B1Gxo7MFlBVEJzA+oIqjm0xjC4hLDwaYQW8QBfHmE0NIYzuMWkZ443K0yyrVBmVR9hn7fcORYGjfFoy6bjgxlOEzk/wxJHOo4IyRZULkyXNKSZzmdS36a1eniM1Bj1d9w7jRBP2fvEDTzAbWLVJI8x2zmem2f4kGCEd05qJLo3Wg6EbsJBE9pTr+rtMKZbdx4MHjJIxgYLWiwdvNPRR4xtot8YuwekTci2oHMb5lNFDMIYgiEES4HowRIWpfdSx4jxeoWvKWpvwKMxPCx97N3e1SbPvM2BG1fgPrNkk3Dt3DN8SXIGpCPYmcFxJfwvvoJeAlUO1wWsSl/Ga8w1XKN5E58RZY7MEL/QTSKZrb2e9PAL7n1zPPRV4LuV2H0NmzUMslP796qALFT0hxEUhbDORlPOU6uSF1/OYT7zsN8En1J4Cx/tM7+iB8S3HZEsrhy4l7BkCPAgr4WKLLZp0sQgkyqESSzjPn8A0fJ5A/cMn6xQoVVjkZzZGuEsVtp1E5wgG2sD7xGb1OjhU/Q3IlG9uakIQT2Vd5tuiQrTSFGWqK2oxeUMnta690vAfgpVJrtzGMPhLoxPFEGZ4tXOrhuXIRI1YtY+Pl0uWDu/wjtK77n32wKCwmuByUI2meGgbSS9jHFWa+9q7273zfDFfsZ4Fha1mHUQObu+hq3KpxAaQxqicoHPFc3wKvYKL7FbkUKUYRuqoYRAnsPoQuNq9pXwkiVQN0XzxUq5mtUMlitf72RmXd89f2cD4hSf2m4SzCbepJtdBMpMTl3kZ+QGPXVEzks4HwvbqhEeGLXkUCymOneCz7i5xmevTBEm10KSymxGA1xNXffxmc8tfJ14HShcli/lOY6nevl6A3oZ1Esx6dSFaaIIFpFCio9qgf/tttK3ejN4fKaY8L1UnHWMB80NCDbVbNIF/Kp3uP6nLUs2kXS/iVANQyQsUWOK99pN1ZnnegctuKelb7jQdGMp1+5lC7nhaBI2pE6HhUDvIJGXvVpIFRf18+C20TnBN5QwDdl081nGgrLyvpCW5hTqke7z4EiedKcN4xz2m0oQaTdhsw/TC5jn0IvhuIRx7efQbM7pCIL/COou3gMy9QzP106YZ2pMZU7Qp/bYGnE6KL1+a6Bw1fQSlgsR0WAPs0lNJVt4rYOXCAbCmnNlSRoWTouQOq7dCVe1zIYwEDxV1CJiHsq+WeReMi3wWdATd/+7ga7tJvImm01oHyo0mJZQjzWhSe1tWHMsLMhgkFfegFXbecUjRZIMUZihJGELHJhTcQ8PB+2GivSUwFaq5JPRSvZx5MDsbgpnFawiiBMB8bPSF2ltNBTtms805mUgR6qovbnTcfQwpjCs9BJvQk0c7QlkCr3cgRcOFNE5nyrlrZPALIPdDehvwtG5BMBlIWb+6QO9+MfnEmxJ7dMLzfzqAPcOIfiLsq/p4TEuA6JTnk8xe4xXE118gdO6g2KSIUTSK6t17zbPA+cWOgvXrjUmNFvTpI8xsK3aIHA2b1uqOU8VzRifKJ7bDSFbekllYDdrzzOb0LxEc2TytWcB9Hpijv4WZHPYTMWgxUhmSoG3wUqg34VFApe5pPAsl/Nk6tw8d4tR9/BtX2pcU4gYNptKkBjXnj5VDOmhpEixEJowuA1PFy6vcqUFOAPOl7ATCoG4XCpMOK89urFETsyOe6bFzm0OCnxhmwVPniENc7AN5RgeLrS4XgPuRbCqoZ8qB6ExhMUczo8lnTdjSHItEHO65khDBY72c8dTcQsf+um4D40xwNsWplbMzrTITw+P4+G+v0RMOwX+sTvnZ1AY0hyrFlqFTxyBtvEG+8RN2BDfxsPwzBUCd6MIjnIlt4YxzC5huAVhDsfPfFsZs1NHa2O8hYemZvggwNLd3yJDLeBqIrVetyHuQB5D2FISQXyioEEZSwpXpZKJwz60Cpg9E7QDstVMoqZokc7xPSmdICENoNdxQHggpjSnJKpg9xiapeyzbFPjHragcwOipoegdhbQ6GlR7Y6lrY7PVdqQz5U69wD4LeArKNRcoc96+JLrAXB/Ey5jmF/AqZNygTPhNoGqARt3df9RqfEtnwmBGe7D02fwqxO4XfpI2wVesC0cbWbA/w+FMtUJIoaNjmLCUeHjrHZygM+rW+DTs8ymmbuJNHG8AnouEvABinz8VdQL6DBSOGtViSkfw6dt8iywb7Fok5YFfrEsgM2Ws6OOBfi2B2KUy4fCGr+Dd6ZCvGnx2DGGrVTTCAN8NZ1BKyb5zUVvH6qGpUyVu5j2YDWVJ5/2HaOHUI3c50tNcBefAmf02gK+jN5/D7g5UK4loaCsHKgSScNZ7QSDkxAp0G0qFLhyUnA2Vyx6msPqUlGrVReqW9DpK4li6x5k11oJB0+gd64UvR30zJMavltLq2yinNc3gaKCaAt+9ja8/QCeXSmsabZm2VB0K+jAdhc+/kgw12Cp2P98Cr+eq/7pEPiS44mZ+/s+wshvBK773l+FupUIjugnTs2slNk8yb2TY56d2YSmFlf4CsIEX1Bk6vqfoiJ/O24Bf8kx5xm+/d4Gz9fWVPh6IYNeAqSeso4kUrqCRgnDHgSZYInrK4HPP0Sr3mxR8DFxg24u8Uyzg8f3tvFd3Gp8YkELCDtSn52hyyKfC5gvC9gIYJg4pyGUKq8yTcqk8lqmcDRtRfB2KQa4E0HXhUtmpQYSJ650Yi6Ja3OwiGDZl2mUNqAb+SSHfA7PjhVG7QbyhBsbkHWhfxNaHchO4MO3YDTXHC/doggCOF3ABzm8U2lcrzr6HQG/+BL85W/C2+/Br74D7RiOF8oSewD8SgJ/7mfg6IfQcDZ5Hygv4JOZ+MCCHEt0zlYKL4XQXEEjlTkW/FWoDc8aBIqFBqE87CL3NpOptSa+fsRWvTFmk+drqWfIuzzDOzkOteEAH6YytW1qs0A2zDU+i9xUPgFch0qfu5fC4SEsJq7kdAxHM8/AY0eEh/iMGbOhzJkyqT7Ee9Ylvtwjcvex8KlhtY1tQR7NJpwfQTtUQkK0lGfbacL2Jp+u4KRUZlC29H0kI7cgBoGKvhrOHpxVSk3rNOWYlJXLznG0usI7Z033LpstaMWCZo6XHlYKAuj2oHsT0l1orOD0A3h6rvsf3oHLE3m9G7sqrquA757Bb57AWa0xvdSGF0IYduFxBE/OFardKeHDUnPztRi+1Id6LpxyUUOzko0chzJJ4tSlxvXc+y6g14XzU+huwZe+DsG/B3XDrYQBHobp41O6LhGMMUCr5zHelS/wnvfMMVULn60c4qMDJrVM4hruaTFgwwKNKc3Tbrln7LVhvlKGTNNx8GkAH2WuH3rtHQODukD1Nj18VGQb34fc1LstOAvttfFZ3AZUmwZYoZBkkirhdZnLhBidK/5frTkn7UB5g/1N2Lqpc8fP4PpaEFoXX65Q8HypbI4v1rf71XgnyRasRUksCjdz57XxCz+J5AAGley+j5Ek3Y+1YI4qleU2IpUjz0r4pNS8z4HXO/CXD6H6SOf+NpKO23hhYijJXYQkLPA1UFXoeKsWZhpGEHVgEkKW6/qoI2w4+Bmozdhk7eX23cumeE/tCT7l3xhszvMZzWYbNlHKuzHgIBVMFJQaxKr0EjdHDGmAvcW2LfSEu2fbAYR57U2FEd6JuMQzMfiISAtvqxqGaFCOeZtmPhhEM3b/t/DFV5fuerOt6xCiBMImNNuqcRmNZCtbxGrPnduKJUGHHTFusYJ27Sdzio/9t9c+M/vdMGSDUUZ4LbaFryM3iOsKn/FvmGqKD30aDJe5dzX4Z4wPXfbd96fuPtsIdDfz6sSN05CKC3ftTcSYNqYecG8IrUzZ5atEkNnwAC4XMB5L6v7mWM+KDbMb4qEaA83N0Unx8dUrfFpViAxXU687+CB+iNKTOkhMx5XA3KtC9s4lvhQ3W/t7fQyG65nXXeZa7e1QTG3A9aZ7hxQvXc3keIiYd4fn26cEeO/ePHSTjvb/HO9gLd04Hrq/d1AB1iqDRguSAvq5iGuq1a4PkO0boXSxqlLm996m8MeTM6l+s6kNOkvwteE2HngejbD5S9auMQFh0FPqaGK0brp377n7/wCfvmdS2iJ7IZJ6HTyTt4BWCEvnqJ4hRqzc35fAN1K4V+h5/UO4+ZpwzOW1VPPpFM6vYTyBzQFElxKEIUI5nuvT3cX3oQ7cYBtIUm3gMUPLPDG8bxfvED11BDSAtC4lURohtAvlERpuZ8a/xXONsSbu8x28BI1Rjt8Kr1pPP8M4Z47YG46Qb+A7XhyvEfcIrfxXed62tPF08FLO1NMc35/dJNpOLQB/mUOaSk0OF7KlPk0bqgUYt2NItwWRlECQKmu7rH2BWIVfFMZo1/jUPwtcBPjSggYeCJ8jCZatvZMJEOc/fZo+VuOjOEtHf/tt147weayX7vNvAi9uw5u3Ye8hZJmExWUB782V9vb3ltAP4E/uw619GJ3AfKzgRDNWQvFiLI//701kU78cwV/quiyhDt5DNXVrqgB8dvc2Pmphojpzk7eBr+0+xicEZ7hEglwTFyEjPnJwUY7P9p67Z5m6vFojpDkaC7zaN1trhZdkNmHmiMUoSXmCb8jfRCvb1IvZiQZ/2XPNGbJQpoH9BpTbhLNSfDdvQbWnSbqeyu7d3oGDOyGDQcpiPGdypahFMXP46NxHmYyPO2vPWZfu1dp5hnxc83zHX3MuDfuzRWZ47wW+XGSCHM4B3uwxbNIcvhLf173C2/pVBxYDSO6qKK4Tw8YIdk7gaAwnXTjsq59A9Ay6Kzi/lK16M4GDnuqDXsngF2so29Deh53bEI/doIf46r09JKEq9xJvuYk0uybFR3aOgD/l/h/jV9jcEcYmvyj5tAtChFc/Ab6LWomXDuvEz/DSeYnvwNBcO69wxDPJPsZLXVNjFn2yCFWNz5Kp0MLKkWQ1iMsWnDkTJd62S9y1jblKi+ulsrdXC1UuJl0Y3oad1xICSqaF6pbCAOq+ok+UEM4gXLkkhspLZgP07T1MYNT4WHl77X3MsbuBT8sDz+ytGPolfFLr/5fcuSW+pNlw6AfuHhuISYcITRi8BlUE7d2Azm6bKE05fXTJ5eOarJDjtxFCOoONGRy0IblUHsJW7RIvSojmcrCuWcuw34fkFsQfAd8GftY9/BpJOrNPMnwzAnvpKd7I3cPbh5d4tfEi8ogHjohHPF9oZVEN87wtcmQE7OMTC8DDTOYpH+AzkHJ8D2/zWFd4SW0MZNLTbDHL4CndmMxrte9xY7GIipk6ljhh9lkKbBVKOSvOFCbLc4HsUQwXJyvSPnR2oOgq9FaX0OnIOeIr0AiEbU7ekWduppJhpwZHJWvjs7CrLeLC0dns4hk+O38JHBVem+wBw0AVhKczwVJ17VPT3nTXDgK3EDpQ78IzN8E7q5p4NiNZzdjtw+DQCYAclgPIprC4hOTK5aB2YbipdyOBYiL4rBPKjKmd99UdQWz2hXmzM/yqmyJDdoTv9mqhxiU+CdjilzN8Ktd3UUTgdXxjzgyvmm1SC7xEAK/SzYkxgpuXaDaVfWeYZIXvHButfWYSwJyDMT4qBN6wt4lfsFYghe/81uH57G2T3BZM6Li/i4lszGQLNnswf6rw3HQuMLwRwfxUD6r7cDmG3gH0NlRDHcaKcXeacDpXlo3lIlSRQplRoDjzCR5ZKPGedYiEyyk+rt9ee8fYnTutlb7XQtE3HA2XCO6K+0rzCysoW5AcQLKSeXL8DC7PRZxqATt92NxSgVycqzfR4Q3ot+RbVDGUCayewun34WqmrVl296F9A5ImdEqoHjrv+2Pg/47PcFn3Qt/GZwH11l7s1hqzGFC7xIckzVA3e2/ffW5RmghvG87xyRGmiq/dtQbJXOL37zGVZSrKICBT5wbqmwdvNlaP53uSm5ScIolukmeL54vnDbjvRnCrJ9gnr71Na9DKIBYzdg6UMnc1hwfvw3YKV2M4mwuA7rp44zhUfuP4maTL7i24/VVJ2eUFFMeQ7EJnV0Q+f0/RoQaC17Zrb4bESP1bOUfHzZE5ZD202M/xNrpFq0ZGK4enhiUUTYi3INxQdGW1gmqlsO7JM2Vk9YHzUibH65EWzauvCcNtb8HNW6oBGi1kXzcasH0Lygy+u4T2TJWQ7aFCofFYhWjB68o1oERq+8itlmv8YZ5ehPCn23g80TxfI445SLYiDesb4pNIMzwGGvJ8ClXqnmmgu4HFY7w0NZvOmLqPl56mnkyCPuJ5ZMGka8o/nwVjzDpcu7/ZO9s42zIUc14ULtk1EMRTx9DdgWig7Osq0SR8+LE87L1UtekrIKlk33X6OrcIoUihdnhO7wCKuSao7e5ZnsDl++oal2dS9WGtOqheImkWRAKpz6fwTu3hqw5+Q6eFY9INvEmToJaC3T6UTfjgAq5z2IjhsA3dErp7kmj5HE7fgwfOCzZbfhMlkOx3IOjCgyv4uRdgbwXJwmWHdZRIslzCw2cyXQYdZar3KogWwnjja3ybkHptQnbwALlJL3uR8dqkmR3Wxdt3xjQmrcwbNkAZPDhu6sew0RYeijBHyAmW5yrfmngHyRwhO2+Ot2+XeHjpCp+OdwOfqjbHS14zZzZ5Ps1uha97rypJqk5LaiebQt6UuqMJM2ckJyncbal6Mqo0KXkJFwvdM3eTlXQEwGe18L92Kdis2YDGQnBalUJyD3p34PJKtlmrod5HSVOZU0WtqBYfSoUGSLicO6Y0DWimmYU5QTDO2ZUPkpwh7HVvrISJwWPYnqsv5ulK89PCF/ltBDJXFikc3oZf/rkuh1swe28KF4okNTswfgTVCbzpMLc8gslcHUXCDiwjiE1C2GraXJsgU3smMXprzGOqzmCgCVJ7vbVJNDjHPGoDwzNHlBsa16fGvE380P3/zI0BfC/2qbveYAtQD/UlUldDfCoaeLhnHXjuue9Ntd3A9z8y7/aI5x2FJpqcmZuwr97n0xBR2hfEldXw9F1oRlLvHy6hH4kh68qFOSuV2zaBdAEbK4gymJwq//LOV1VXVIcQ5HC9VNnExib092BYw1YbLgK4Pta94wEEPcXhV1PvsKSOTsf4xga2IE17mOkT4Xft6CDUZIqXpnkOk2PPB+YQmW1/UQsQP5kJi/6lnQVfevN1vvqnmizeepcn35kydyuhEUFcQqtU2pstzMYN7e8Y3HI2vTkUBtLapJm9dYGvc7Zzcnw4bOX+33QTaGCwecAWNzYmjx0B7rnfA+dmj2rfnfcxXsqZmjEP+8R9vot3uCyUmODreCxKYpEb8J73tXsnc3Qs4aHlzj9CcNhtN2Ft5CXPakEd7W1JtsUF5BO/xfQe8PeQ6fB1PK5r72+mwHrU5gQt8lcO4P59GG7G3D3cZpSVzOcZRT5ldFVSnEN+DNFUkrY0Bg+VSjdvwvhC6XQfoL7yFlPv4h1B8LAcbt6G+AXYQ9rmfI1uZl+vm21mk7eAQQizSMGTcQ13bvX4P/7vvk5rfM77/+UPmD9SmLl9E3bvQ2sI12N4+D0Rp/MKRAcQfFvw2qdSxwa7xIebRmsMYWreEjBW+LBWiIeTbrqfFJ8Vc+6+D1B4suNe/gwfcw2RRNrCb8dnjoSF4AZ41W6OlQHjhmsagxquagBx5d5tiZeaZm4YrGIRkgVizNK9iyEFO3hMNcL1nszVO73E2+RTno+0TNx19nyLphzjGwjsRPClL8H2l2L27m0SRzWNuEmxGnH5aMLpD2HyfWW0n+El1Ryvoo/d2B+jxWBq2pjQ5m2GLwfew8NNW+6eGb6Gp0AM/mxtngzuC5H0XQaSfKcRPMiU+/DTt2B/Br1jePMWfP1NZQhtv9og3wgJi5hHvzPnycOKRqp8z9g80rkjpk3cOX4VnbtJGeIjH+YszN1L99Hqtwk7xJeeGnwywPfIMQm84e55jk+e2HEvOsR7uH087BHinasNvKQ2b9kY1UKK+dp9zAFq44F3++4Cn343wjNuhtTldq1E6Ju3YXEMfSdau0OVB4zmPmRp9LAxm0QxqWzmRQdpi3QI+3eUNjiZQ/NRwUZ1SrCXkL5wm2zaoDVI2Hy5oJjVZJ8oDW2GL6greH6jqFtIk8zWaGmhxSGS+i0njbLcw3VTZAcbkG5ROotr1/hwrkWSQpQdFa08CB8Cf/sjnzTdfAZvXMNf+gr86Vca1IslH35vxfGHNVUGyUgmS/BXoTaHIHNMUboJsjDjMUL/d/A1yOYA2HUW5F+P0oRu8DUe95vh1esESRTLdEnxALsB4xGSmNfunB33wk/WrjNzo3TMdOV+77hnmiS08KlBUhahMvVuJksXLSpz1jYT6Lt4XNBT4dbV27A3VZ5jmTmp2VGSwnTho2MVWjAT/OIws8KkDMCgCa+8pHaBi4Uyy8MYgtsBd1/aYmtzlzAMybIJv/M3H/HeP9BEWqizjUc+7P8Srxl28cwIesn2hpqgRqWKwOpSBWBkMLuGT5bwXuU38DrCJ5vYojJTKMT7DcZPiaNj4eZpF0WKuig/881XVA15/EwLumqqvCXu4aXFmXuQTZKp8EM8KGsq19T3evaKEdmYzZibNeLMUKHRbXxhfoz3dlOe38fvEcpiuQa+5V7uAs/8YzxsZLFhW+1TPGJwgXdsbDy5G4/BUAaQD/HZT70e7L8O8z5EPVjlbvJe1YvGCAQOI9XELAp4+AN499zjpH13f8NsF3inrmkTvYLx+0rWjZuwu62mUYNZzdXH58STBTu3bpMMdoi7j4kGNclIRDLn0ebAJKKp2RbeKakCZTVFexDvKiN9o61NnCYTCNrK4q8rRal2M7/ALQfCBM4cbzKZuZQhU+D77vvbyBwzR/oACZmjORz/jg9qFCgBeriE+Cle1SX4dCbchH4fnxHUwkdzLPxnD+vjMcAKGe41PoEVN0BTvQHeybBVth66M2PbmOhtfEKBeX62SMzutRVq4LmpszO8fbq59i7mcPXxiMEA78htdODgDWjehPoS8o/VVhnkDc/mEPYg2IfpyqmeGgYD+Frh+iFNVJ5xim+rmOFtPAdNMkH7R7YyOGhBEcFiBuUI4jsQ7tYU+QXF0TW7+01mX15w9RQG51oUjUJJIFnuky3MeTMmDRFK0ALqkSRSlCg0SAXdlpr8G3wTNRRu3HkGzwrfX91MqC4+5Hnofl/hi/YOkK3ZXhuPaQ3zYUb4MK6FleP1qEuBh4dsBRzgHRRzcMzBsJeN8UVXNT4yZDab2TQLns9S7uAlln1mki5y49lFzPsG3ju+5Z5lIb7x2gRYKLJAC+NsbWwtR7yZe58CMekcX8yFe7+TQGGxVg6H1zD/CD56pEaiwz50umLC5TPYvyvsrg5UVXlnE3o3od9RiPGTt5UVlCDmBJ8kYtht173PI1QisLNwpSYBrI6gdTVnvj9ndCWPdTyW2RC2oB6KufYnUF7B5kS5i+BrtieO/tfoheO5Ekc6N6C/C2WksdSBis6quVLRVhUsGmL6W3itCL6MZIBvwP8ySgcc4SNyFtCY4LcX/DK+Y90K782nQPwx3hZchw7M1mrgU9YMaA3xOXbrXl3HfW/OhDHYy3j1X+KhkCm++bwZ6nZ/g3aaeLtpiE9KsHDoFC+1zbO1yTbCmBNlBvnSTY5FmkYo7d+iNy+gGun3r+EH34H7DXiWw4e1nJLDiQayuyWH4IN3FC5760M4m8I7MfyZAfzpb0nirUotlmMU0jUP2NRrgJcofXwo9xphjp9cw+J3JBHzQqHERelq1ENYnoqocaAIT1gKK61iGDZkowaOuBMEH5UBTGZw5xru3RdO+Na78L0fCvKKKt/5ZICSN4Lal7yYDT9Egsts9jbesT3CByAiR/cXkWDo4TFsQzUMgQlC5QVwGx+otyQFY4ylDWxt8sd4ER7h+xAaYzfW7mNYY4SXji18D3TD6MwBstBfA59I0MYnPVjUxpwIe+YEn9p2gY/qGDbXxqt4i83fwFc4mtdfAININUGgSsLpCr5XycG6An7Z0WzPvdskEHieoVrqc+DnA5c5XvvubSP3jDE+rm/YqC3gzRaMIrjVhp1uQJ3VbDUhH6tFdh67EtpC+YkmBIzGSxR/bkZiwDpUAVkdwPUc9vowyuA0VsJtWKgq87rWIsjxhXM5Cg4c9GB2pr6jS3yx4JuhCtu23Lxcus8NxbGonqEC9rNw82RIiTmfPZS9/+mmPfZShg328CrZVPVg7X9jOvPUY3ePEI9rmiov+OeZ1Ow4w82aeEfKJKphpQbvmFMSIxxuhN+Q3UyREL9qJ/haHAP8r9z3Xbz5sIdMBTM/bnYFYhc5zK7g6ALOFpKUJ+5dHrnfpwgsbiDG/rJ7hu0yEfL85lCVo5ktImPYXeA6gMEW3N5RXVN7V714qksI5hDP4PSpcMp+5ObDsLtAKWCdBOqm3ruVQp5Igpc59LchHMK9G/DVDdU9XR/B77wD5aU3gc6QaXMFvDdWskSBzw7D0f0iEM0sMnfl5vpFVNNtOPUCbz+a32D4tanuA3ziTg1uV1qeryvJHaFuuptYSLKPVoQ5QOYg9PHeVIIHXQ0bW7qBfddNzE13zja+Y8TcvaA5IiYBUnyc3BjpCsgCpXK1K5/ydoVW4TV+86jcjd+IMMB3Z+ignNKtNjyZw+0mDLaVTb0YqcfmRSknwSR3x0kiSnVuO8KD9A2ez45v4TucGVRyhXOmQmX3FDW8MFTE4yxTQ9WHhdTszSbsxXDYg04O509gXvmGVlt4G76ZQDLUS46nSvzo3YFFU53owlgZOFEGewns9SCYweMncD2TY2ZYdB0oG+gUVS+aPWxmli1g1ua8h886SvHOr9nOdt0Qr/Zbji5beMEFeJhlPZ4Z4zG/Q7RyDtyFVzxfDmHqxzDKZO0+5sh03T3WQ5FGgLG7fohP+rjAVxkarmkTDioRvdFTour1BN6eq4OahUdz1uAGnsdWbZFc41X71lBx6aJUFs40032uawHDSehCgpHqjW63YKMHwbmchlNHh018YkmAFk0jUsOCuXuXd905/4N9eGkXshHcOoAoguMLTeSHD+AHM3h75koxTp9PL1wiaf0U75zeyaF75jrvBrAIYDlVDfb1Sk0cGhtKKZtN4ckTmQKP5rI9LSZ+A0n6A4RRvwL8OlrsKzcPZjaZ6i3xOHbhaGv2pOGypo1yfPdgM8GW+GDLp8f6BHXw5ZElMtAN1xui9nQW77bkC1PLphYtKSDBt/Yze/R9N5Bb7vMTxNybeKDZ8LWM50OI1+53VEMxhsEMrgI+7UbcQ8x8hZf8nUATM8Xbhbkj2h4Qd+FqBTfbLiUtk8dMpe0BbSFWlZoFRMCggP0u3GkoDj3D54aauuogB2SrBcVSKnTpaHQG/NaFti1uVPBbP9SMLBfOYVi5neCQ/brr3vsjNwf33Dws8GrVaJ0Dl4FoFB4Jliqa2nA0zOHhY4HVr96A11+Fhx/BB++pZWO9UinsIIFxBd8rRde+e84UXy8/xpdMZHifYO7m9MAx2Qf4CJHlMTTx2LVhnCPW1HeKV8MH+MiH2Zdmt10iifBl/ArYw8d2LQ7dwOOT4G1Rc4p+gJde9929zXY0L908dvAJHk0kQa/wEZ2ue+mRI9wLeJtyu69JXhUqdM8CZYH/9lix3ApJgt3QZcCELq5d+87A8wq6G/DdU0U/OsCgLVzv6lrZLg28hz3A52qGaBH1Av19AXxQa/xmR3dDvcMLlberIzyqYfZ1iN+hIsCXlAzwuaIWwzZUIgCaIQSx64q2oSDAO4+hjuD+IXzlNb3De+/D00uocvhkrh0n9jaElUaZ4KlJoEynSS2ms5i7RXLMJ4l4vkDte25cCX7XYtNWId4xbvF8wds/d2w5RjhF2S59R9Sn+GRfs/XOEKyS8Xyy7ornSwc23eemhqZ4fDTGh7BMjZiXbTaLqYYIb6MZQcK17y/deM1jr/CJxqYJpvjE4TO8+dEHNgP1Amo3oah078VIkZtFoYke9NVWJZsBJZxXKjq7FTrJUfHpJqAFyjnca8F8Idhlgi8hyYH7kZ7Vqz1UEuHNgBKfSgbeTMnwu5+ZljKIrh0qIzxHice1C8aPatG2E6ifzzCWmVF1RJP3z5Ss22tAs4bpmfDZdg/yc1iNlYAyx6tmU98rvEq2oIjRwbTHE7wQs3cb4lEgwCfj2iSB3yIElMLVdjedI9viHZ5PZTLc8j5asQ/wTpMF7sc8v8uYTdi6mjail+7ldvFw05H7fB+/afkKLzH2EIN9hK/37uHbKb+ETAbTBC9vudqjS0m+2VxEGdUqAWhmsCx0o90AGrEY56yUrRYE6rLb68BsIkkaVD4n1eLfOZIu8cLXwxt0NkdO2Hat58bunU1LGZphE2+LdtO9iy3uJh77MxtvWWs/n3GpRVHWLqoWOFMjgQcjKJ20P9hQRnxZwuRIz9oeQhLLJg5LiLZg2ITOpbq8GfJSu7me4PeSHLrxPMG3cDEh9MDN1TXe+bwJBH8CamfKfLrLgRGgiy9fAN9z8sHaZ589QkfQCJ9iZiDxNc8nEDTRCt/Aq+kp3gtfICYe4qVbFx91Mk97hsckDYqy6IUB9QZxbSP7qOHutR3BZgPaqZyVy6VP9ZoHssvyyne0/dpAJsGzE/gwUxg2BL4SCF/7wL3Hy/gED7Nfd9x4hu73Eh96+x4+QDBYo4uN30UCmaJnrMNeN9fezRzIjqP9O3jc0cDpwr3fZkdNTheFMt/LSmB8lAoT5VoaoeeC3bOFEpETA9IrL1BW7n07gct5cJqg5+brA8RLKQpdmj16jg+FhkgDB78ItdlCJmprd7Ndd8Ex3sEwtWKM1sBnozuB8inYvu8Iu4UkWITPKDEYwBgmwa+yda8c/GJZ4JmwgcdL7XyT4oaLLvH5hE1kK78JvBgIUD4vPW7Ywcf8U0fczSb0B/BsCt+bwd9x73UngK2GvFmTdn33rsd429ccvcd4CdZz56ZrP4Z5mto6xkd2QBIxc+O7ESir3WA2s70Ga9fH7n3SUP0yzx2GY9I7RLZ1kjoJGKv0YpEpXNlouwrEa6gmSnGrcVGgwkd1jFeSUNsJXgBxLClcFdIMxqxmG8/x7XI2HI3O8A7pIagR/9gR8Rrv9TYcMRqoTLZ0EzzGQwLGkPawAI/sp/gQZNsNIMBLuh28x1jjIYYUn8N3gYcJDIS2xA+zt0ztW4zV7JQOsoXN+N7Gb8FiURaDmCw+byp9G9l8ywyqTJM2Qp5wjLC7t1Y+GvHLAbwcCmN8ueFqvtFWgjE+48qeUeMFgKm+XbSrbLOv/Yeo+bTtYg85Yt1d2XmrKSyvYLaSmZLjG43ZQpiheywrveeRm4cX3DuPawiXUucxYjyjaSdWE9rEIRZUYpwzPGNbUGOBCuFypKKnhQ+U2FyuhyBD5JNUPL/NttmWJ0C8dBN6w50cIW7tuok3R8Tislt4yME8xYkjcBzq3J1aq8RizabCSnfNTqyXPS19HBi85G258yz8B76coUT2YYDPDCrxNkmKVEKET4e7QAzadYTLa3miNi6z1QxOMSehquBsIuxwPV57d6A+jbOl4trZWL9DFL5rByroGtTeHDG81yCVGNneEb7MtbeAD5bwsBYuaAGEG8BrNdxfQRpJkiS34foMjq+9c3GKX3TfR+84qLXIIiR0xu7dRmhhWj5DXXuzZTtXBGlROTPOSWdzXgwZMBMuxm99MsanIMZI6rfxzc/sOHHjNdx7gGfS+J4bbIVUbI3veWgqpNeFPIB3JiJqH28vmuprRzKIh6kSX59ew9OVbL1rPHDeQp0kLMZ8hlfHBjGZ12bQghGggTOWXQRkgk9qzfBmwty98CY+jHcLlbOervh0E6F67Vpb/caU126sndg7AWZ3z0ZQjPz2eKEbYwMYhuonbo6cRXUCfMTMsOBLNzlbbjL/CdBxDHm/JWxxkWkhnddwegWHI6ECu7dVY74bqeygzBXHbjfheATtqcYzxe/DY2N50Y3nDG/vmhnUc3S7Xfmeonfb8HSmd9px8/UY78jN3f3H+LqejLVKR0eLMd4Wtri6OdbG7ADx/VSrcz14Dl7NthD429+FzQh+7VqDeqUJjUQVbC3U5rhsQrKj2Ot+A/IjbY65uekmPID5XB5rVWlf8M0ALqaybbJCyaXGgBmubUiiyemlcJDAVhMuxrCXi0jthkJzm03Y2oOiA9cjqGYCiPNQhnuewUtOb06A/g40U0WDViu3YSZepUcI8I4ijX0Y6Iu2AwnnC03KUzy+NnNG3gZaqEUNWwlcrhROjFFJbLslwL0CkgYcLeE8k4f/F3bhxT1BNMvc7QnkYIpOCMdziM9gqyswvNmUHdfqKIk3z+HqMbx7orqZG23BQq2u7jWfCnvdc0xkzNJx4x4hdT5oiz7bOwpJXkxg+gwmGZ9uNmXay4RZhO+w0nN8ZPDeEo+umHYt8U7sheO/+KdehJ2n8PEEPih8WNBglI0mxC4b4/25bJNvbcHBJjx45qIRhUJV9UJqYFlBNIAXBzC6gqcj3aMXienCUJMVFRBWsN2SN/ek1Ordx9uLpkabiZhjVqs8M4pUlxzG0O1AZ1MXzWqpuI1NmIVKfJ0t9fZZCWkifLEYqxXdcq6JmuBrddYlZRuoSqcRUmg7nVWuvCNye23V17WyuPe31DtnMofTCy2uvBCI369VhjpZabwfL31ywlkNPzyBu6fw0xHc7yjC1GoIimq04dUB7O4oxJmPhBkGLdi+o5SvyRT29qD9AN5+DNsd2N6Go2MoJx69iAL4ckNjLktYlnJUrivVt5/NoJxBsVIq39OZd+K6ePvYNE0bH8+eAjuBSkmKUql2UaifKfCo8G2yr5F03Ud5s/G7xxL9rdAXqzcjtRY+Ar4RwW5Dyar3I5dmVcPPfTui8/2I8VnG+YlwsHQMWxNo9Z0kWEGnATc35O22ekqdOr8QzBK31MJkOZG3ltZ6qd1YTUXJIW1DFsH5AvKl0q1WTdlVdaTrrgrZPIMmzGdQnUG7owyZIlKv7TSH1GUHTBdi6rkLp/UdIU/wdpLF2sFHIsqFD2O2Qh+RWiEC9x1z5rUagq6AuoDpVDmQS8cMeSZ7LorVeKBdSR0O8XH6j50dE43gK1vqAFwN5SVnY3j2EPIdtYiJeoJqjuawewM29yUE9l6B7vdgeqVt9j6aOvzVvW9cQ3OleiAiYZDXxfP9kqbAd6eeaYb43IYS3xXOHMwhsBdpflshvLAvbLdaKXyZphBHwn6LITxZwuUUNrvw0blMj/h4Ku/pB5nafKQo5ITj3t+cw+YSntUi1g+BD6/gxWcVOy9WFA7xr07h/RKuHikXMQllE9WVEhrSUG1AVrVszl5bbfP2bmlHh3IGrzrXfTqW01Qt9bsNrGaya0OnnhbAfKn0rXIGzbYkcDeSpD6/VAuTJNAE5UBRqJVKELqyDWfAN/AA/SjQeHeQSVEHiv/aBqMjNxnbTWhW8oAtOLB0DDVwGufqVGPaaEjarNBCv6xhmLtc1BpuN+CNPQHdWS6p9faVyzpqKFn3wTksYrhzKFgmDiUh01g0KSuYHcF3fsshGk34eAbfX0KaSZudFt7ZaCNbdh9lqRugX7kFt9vRon1pD24M1C4mKSFJ9E5ZAGkHoiZ8cgxJGwpnjqSxIl84KKnbVxvBOIDJGJ49gfMrtdfe24U7B9BdwvDUtQr/v7xAnR3BuwsBuCf41n64lT3EZ3UYLhYitfVKA759V5LoHxwr83m7IaLHlUoGKtSWYzCEsK3PWi3obMDWgSbi3Xeh09aGQFWl1ifFFFYXsr0aDViutMKWhRZMgOtJFIjJ04ak0HSp5NcRWgw7banNIlfa1ukK5inca4kRz8eysSa1TIzzpcySVQCLpQsx4qNTLeBeAv22PpxV8DjTjreGADSQkxT3YD+B8aUW6FXlE1k6gaRGL4Dbh7K9l1NhhddjuKwkSe/tw/EMfviMT7fnO9xwJRaRtsMbDFUiMV2o8CxswGKuLUUeraCYw3aprVNGtbaf3mrI7k3asqnDhRgy6bhchpkk6N6ewoyNCja6EKSat8EOhKmERTFXLPP8zEm0WibO1Sm02rB7AO2+tOeHH8A7F/C9icyVIfCnu4oYHdcQ/OcD6tlE4rZOtNLPY235O89lX8SOSQ0YN4wqQ17uL6Twl/YFi9QF9HuaAID5BC4vlbq1vauuCNESFjnUPRj0NBlPnsgJinO31UeoVTWfqYCKQPbncuTGigfyS1wsegidgcyDs7HA3gzIYshC4Y5bTThawd+q4W4Mf35T2TjP5trBzLDMBb5AroHPVq/cz2uBHLphQ5Lv2Uo1LQU+NWvi7vM68FqoUGTY0F7Ys6UclSCC04kiKl+/D08eQZHA8Rg+yeVw3GjCTiqJ9s5c0vPr+9Ik5QK2NrSYn13Cdab2e8crSeVGDK0lpFNJy0YM8wYc3IbdXdjekM28nPNpf8kwkGS/voTOFsSbek40U1OqMoKdW9DdaFAmBSMqrp9CYxWQlTWdrtR0kcPkQhopTlyup/Mi51O4uhLslAHDSgu0k0Lwv4moV+ilglrwz+W1GKUs4LeOtXnPFLjv4p9N4HAP9m9qD8JoqhbDzQAmI6hj4XvNgWzKxw/ECHciif5hKlW1rCCs4eW78uTrWip2lclTrGtopGKMuTO4q4XSq0CrLknEiFVDjkPSlJQZjUWY+RzOCpcI4EDPZg3noZj5jRpaTShixb1r512XtVPLITyr/A67d9HfAYKZMuBvIFv451ECRF75baQr3I4azvS4uQ956SoVK2XkTApN2F5fSQ9HEzmerRI+yj3YnuB7KoWhPr9Xw+1QzPu4VA/xGUIEVgj+uQvc7ipfczSG07Hs9OsSbg3h7m3ROa41X+RQT/WSvX1ptCKH2YUkeeggqe5GwIqa0UwvupgoKz6oVB4ctXz0aXwtxzIOIEy0ENoD2D8UDYpcTlaVQfC/jak/KYXwb8Rwdyg4pddX0H01gndnrq1IIBX3A8T5P7Mrz/VyBDc7gmuKHO7elJcYNmTMX58qW7rfgFEuO2pzS5NSzFWA9fRYqfyDHQ04TSUpM6czGw1BSUXpVhua5FZL+rKq4PpcUZXJSpJylcGJY5AN4KstORVBJQdqWcBo5qXaKYqQtB0j3UilSi+X8CQXgA6K416h/x8h7/EQJXu82lcC7aKSGZRI6Ku8IIIvb0DpoKdVpmThKIUbdzSm0ZE6/Hba8OAhPL2CXyvFiL2GHLuk8hhvjU8wmeLLkq/dgrmLj53vJWq513A2fx1J2lbOdAlCNTFttNSGerkSY7VqOD2DOpfJ0unB5rYEwGQCZxfOkU0F1cWBzKDRVHOaNqXKgxCaLUFXRS6hVDVkdpG7xOUlxEUFB6H6J84XcH7uUo0u9GJpIJsnqEWEY9Z2hG3Cr1+I+C/N4NeQGn3xCF5qwm5XZaZnIzHenVuCaK4u4OxaFXO9VPe6dQvOR+oOWyNCWSp8nmvXrLoWIwaVvNAgVAPT80fweKY9pg8asnui2OGNSzHbU2RvdZBavzGBQeULyyyWP0Zqby90oHIBjdrjaC187LbhmHHbXfN30F4wG8A3A6EO/X0tou0JnB7JE++EQjhuHGpiykiLbToTyvDwVOUXT3KN56Gjd177BgDgw7Y7oeAiiwBZqLHvxpY4hp3m0gJJAMNIpRJ5KqiszmRXf/LM94dy0CgHbir6QGcl7DbLYBHK9FjMXO5CS3jszMXaJ/Bpo4kokFDppnA3cUWKLgiyuhACQyQtF/wVqDed1AlrScNuG64XMsovHAG6iPm+56TEXgD/87vwgzOl0n8lcPiT83hXtbas+KkBXDgA+qDlJMRMK2W4KSO4qLTKmi2p/fEcHp0JAupHMBxCb1MOT7mQii0rOUjNVAQ9n2p8IK9+spLRXoXwoNDEVo7AK2Qj3nSEfqEF3YGSfx/NYeQiThM3qWmgeLfBRSt8qt8UX38yd0x76v6PQpk8f/Ib6pDbC6A7h3op2/vqVDhldyhPf76AeQzv/EAOyaSGwxg+LgRtbVXSaKtUW89lua+tnyMw/Bt4MHwHpeM1IjhaaBP7Gt9C5W5He/k0G/DwWJvFxrG2gr7Gp8ztx5qjuJbp00QBi41dBSrOziGbuvyICk5yjWXkGNuiWzuRvPr7N1wxXxuG92QDl2PIFnJwg9egftlNVh95jzSEKc5qrdgiEMZ0uvBJC1vACw3ZQmnqwPDabafrPOjJFDZ2YLjhKvjOIFgpghIiR6G3Jc84iuRZfvCeoIi0CU8cZaIGtGMx4zxziQCl7NIaif1NfL6nhc3cqwCSnJeFT90y1TfHJ01s4qXqBc9vLGD3s2OAT0bZwXcvW6IFMMYDzSNkh94H/vw9+Jk9vd90pp7nRSaVN57BP7vWu95MYJzBV2/D1aVCtv/NWKjDL91UCQhXes4JPpO9dM89wOcQ9N27WOTFchaMeW/GsnOjWlpzEULUUciyU0Avl5YJQpkOUaRF1OnJZj9fwvcz0c7yHXbwvT6n+BY6hwG8uAWbuzDYE9xVLKEay6+IGhA/dhOzxG/SuZHBTy/1/89tSr38/WeqZx474pfAMFNx0m5fE3V+DCeZbIReX+p9MhfQHcV6YNSAjSHMr+H6qWqY2wMImjC5gnziVHclzPG8gsnS14Xbyqsd0bci2TyLyicmGGxlYbDNCPaGcDxVSPWJm8SlY9qJY8K7eAA8RTHo0jFcC1+KXCMzZoQvsGu6n31clpG7x8FATtv75/DOCv7rh9ISP3sHBrtw476cuPMnsqV/dlsqLFtCr4SHJ3LmLme634vAx0/UheJbfRcgqPX9wwJ+O/Md73J8JvdOKLPnCb5U+S20QHdrOXYWlcpq+NKGtNhmA4ojgey0XJODAkZLeOtCbbbzmk9bt3QcfU7wFa0byGTptTWP41JacHQtc205lq3bbspHiG2i/wE+2+Y+8NZMmSZFAT97D14ZQHqmBN8r97BnSHJtztWEvlfCaAXzMbQGsLEF7bFWVtASNVbnkhJFANNUDL8qBREQwAuvKH2r0YK6pZj3Oz9QM/caeG8C75Sa+DsIaF7gqzFvx9BxAHoSqonADNmcUaCVOozhrUJlrM0KDkt1vzjDd3UL8JGKuft/F6mlhZuA9/CJtz/A18IP8SW0t0bw51vw2hDCK/gbGfwXT+AfHsF/+LoiHnECOwdS44uZJixAYcleJBhnN4J7pcZ06Gz8sIavfz0kSgKOjktenMELR/CdKzHTdSj77sUm3NqWh/7SRBpof08C5TtHis2/eChcNezIqUzbkoKrQCu1lXiNUc3haQ6/VasAcOQW7W1U673EV1guHc12nPqPU/kT+UhmXjsQonMGRBP1lA9+QSFrzvBdwBJUKZesSYISb/jW+Oyb1E3kYSjb67QW0r/bkxeZ1nArcRnNbWXXZJlslwwZ300H+yQNxaabbU1U1BKQ+/778DufaDyTEP72tcb7At6zjJ2EutUWvDHLFHe9vJJkOHYEjUK43YbdOdwfQJnBg6VstBqpPfBJwzP3d4rvEjJzDHmJV5NXeI0DvvAelHr2Qiyp/7DyNStfa8CfugN/4g50E7g6F+BdNWDnED5+rMhIWMPfegt+q3w+F/Obu7BfKiO8KuFWQ/7A2Vxhu/u3Be1cz+DmC8oRuHgIR0/hjZ9Rx7Xvfh/G5/DynYjpqGQxg3svuBLZCzH/cqGtl3d2pAUffQi/tfQ72Zrj1UMFhYGjz+tIMl8jZOL1CDb6YvrJTLTvBE67JUr3awUu87ztVvg1vn1dgK8cNK5v4tupHOIr6BK0ytK2AOplpv9nNZznUh0vtuDmnlZiVcmTns+FNS4Wir8PN5VeFkeu+GwAvT24GMHjR3ByLoD7yQq+g08gXT+a+NhsE9/kcx38jh2D9QKt3gN8YwXw/ZNW+JSuyjHfFlpM7yI46MQxZoL3yi1+bc/tuPseu+sshvzMMde3u/CfvqGXuTjVYiwTePQMbm7C5Rx+84FsvvNAte3vuGduoWz6NmrvvBcrTLoI4MUDOGzCh0dwFsJLXWjmKrGNWsoWH63gYgXbw4CvvFKzvFKQo9GAt74L2aWk2aKGwR1BZN99RxtFXSAI7YhPgZLnKgJa+EXadwz7jYEW73SuCBGO75JQOHcMBP+zBvUrmwqYT2on/WLtCV2ttHXFJHCofCWvOiwVK91x4reoFNmIUNQlq5S98zRT8VbsJm63q/48qbMxa4dZ5kvZO8uFsM1+3+2rksJqKaC4nME/egS/XshGifAtARdugi6RzXvA83mOC7zTYo7Pa6iO5gxfxJXgy3N7KFy6KNV5LG0qZWvQUAZSXiu55CqC7xZy3vJaEvUGSowdtOHDhXIkN9rweAEfVTIJNhxD95BU/VYb/t2XBNP0Iw220VbE5+E5fOcjjX9nqO8eTeVVT0JpozCDVuXTwd4P4KPa198njkluAl8L4EYix6XXglED/t5U7/PALcYvAd8K4Jdek7Pz7EhZQxaO/RCfhzvFa6JgbYHuu0XzSqSdame5SndPS733rcSZKal4ph8IvI/rUhGIrQ348u2ArZd2aQ9Sro6PePhxxvFDB2Y31TC02VQNcFlI7SYtdWFthAKumy6aM8sUc15OlcUzAR5P4WDKp41R26G8uDCAceBS0RYQT6BzJjijE8CwBdEKmqVvWLAH7CaqmQ4jOJl7AHmEd2RwzHeJVuihI9qB+3kVnzE9cit62IDNoQOBc9jYht27ss9+/R1t1v7zL8HBpaJXP70FywiePIYfPlDnicsaPpjJ1vx6KGZuZcoN+Ahvlz5yY/3VOXzwPdWd/8U9ONwUI9+6A8kBvP0U/tYYOIVXI7gdwUsd2LsndKPOVIP+9ifwbAKvBnCjdlthp0qmOHdJIMMt3ffoVGD1K/twdwEfn8JxG2YB5Fc+4/waCPrSLM25MruuajHih7jIEr5aYAdJ7Mg5n9NScM+0grdLLciDBA63JIiiSvH33ractuB/ElAfxoJ2ygbc3GiyvxOyGq+YTSpyF9VYrJTxvJFCce0SX7eFn9WBwO28krd9fOyA0r7sx9FUjDPPlESwuSXxXeUCjbOZ3iiMXHeKEGZjRRwGPUnVPFPk6GLiEmcj2OzLdo1z+P6xCLWBLzJb4HurtxDU0u2oO2/tpD+xcLq4lgrZ7mihRb2QuAEX5xVBA77yK/fZ/7e/ztO33uX/+p+9zT9+WPPX9uSJ7r8IW/fhiYstfvctePcUfvYW/OalvOkXUtlkyxj+2wdyrNr4JhAjt4Bi1LH4RgSzhjLQt4EfjOH/Wfj6pyYSBGlLUMovJPDzL8AnDyXxZgu4yEWD2wncHspZXK2g2dGi2QnhS3cUbSkK+QLDLYgbok+du0ZU5zA+VW7su5mSXc4cs47wGVZmOt0I4MauS+yo4fGZpGwdCvtOkakx3BBm3VlJUmzeceHd/9s29fZt2DgQo1ydSAZbeleUiLHmMyVaZJciXL8n8LYuoNGDuAuNvkJnq4VzbEJJ1PkSqlo/1w4krSsxSN2A0bm88NOGoi3JuQqQdveFj13OJHnjWoX6b+Hb/d0EfimBzVwMDarJxhGocmrmnyJvfQB8swv7r8DRVI5FCnRasL8Pt+5BnQSkg13Kuiabj5iNagbdPl//D36ZujPl8V//x/yj/37GK18POX2UUs5jVvMRzRhu3FP48r//m/CVTSU/fPRQdCBSMvKzJfygVPjyLNNEGYwVIgfhf3wI93qSZFv34OEU/psP4dlI9eGnyImondZ4I4A32/Ao13bGhgSkyCGZAr8AfP0Afv5PBDx4t4YZ3HtFQiOOYHoOB1uKa2/dhDAJWJU1jRIujuD0RO0Az98XJPSDEial9vZ5pSmJvEzg5hD6t4RBXo0ViBmv5MxMJwofG/BbLgUH9frQv6FmCcHf+CXqVQFbu8KIZqdiqNFYce2wJSZdLiVRmEJQyHt6PHI2Sw1ngcDwrQR2WsLWhkNBPasl9DbExFFTjk6jKe+80RBjTObw/hV8/zE0ctl6u4lU8HdduO0m8AtNmHbdrlcz14CgCXEGw7bitU9zjetWA14YiCGKjjbgLCdwuwfxHvz1pzCawF/Z0x7coUPBP3mgHM/3r6ROXwwUEPj2//AFynrJ6refkY8Cenci7r62SXrY4bf/0SeUV5JERQ3TC3mX81DjzFZ6/52bSiCJIsFdj1fK7jmfwq8/VfIISEK+mcJeqeyhrRZQismzLrw/gvc/Vv35zQi+saHF+7aLqw+AW1t6zt8+V0P9PxnBfqpm/x/EsFvCy9uqzLxCzfdbiZJC/vId+NbPBJStmqcfwCcfw8dHkrbHT+HbfdjZhqDhM+I7G9K2/YFEfoDMt/OxMrXithbA9FzaLaolSAZdSAZKDq/zkOC7/zH1kw+Uzby7L28YxCjX18raLgtlclMJ3M5W+v79Efyg1sOv8Z7mjVAZQZubCr53W1KNyxls7ehem1vyutNaeXaLXHl5ZyMlgbaaUk9PThXkDyPFz6NcTlF7qCSGJFaUYXnpMlD6KoldLGVnxXNv/F9eCObY3oZHS/gvHyt97a+8JKdhFQr3HAP/5Bn8w0sHvgfwUxH83K4kXasB77+rpgSdfkDYDtndLkkDLeY8hKgL734oUP/uC3DzMKDdblHkS2bjilaiZJPLSqZTUMPf/S78dx8pPxNHyzeBXzlQiDZN1DGtbsix+uEH0N8Spnu4J010/AwuT1Uq8bU3lFNwOYMnzxR23d6Bjz6Gf/qeNonf24Ljc/jBuXDps1JZ7L0YXuvBv/ca3NyCtz+A7z6Ro9OstWBeeBHSHWHQqxICAsKqpuMgvXoF01O4uFRKXh1JW9S5ar46W5BkAYN+TasjLRmHEPwfvkLdWgnEDWL48KHyESczSZ8QaLdltxSlDIc6kDMzz+RNbqXwQlODDZEHtVhKGrZbGsykhn4i4LWXysOuAQqttsuZHIk6FQdNpkqteneke20l8HoX7m3I5mu2BLLPm/DsQtnVr9+Rt5q2ZBddnsPJh4I/gjb8k8fw/36gyM0YZftYXHYb18QrkePzdu5bCe4Dr8SaqKQryZ8tFS8PK9iKFf24ua3Cr7Sndzk9UX3O3i7cvAnD7ZStWwGz6YLJlSJYq5Wym5ZT9Y88m8G5wyYPK3nizaYYqhEpgbfRUWbRyQX81jNtlRe14HQpOOgU2alf24Q/8Q14YwA3+6odGo9Flzt39PLLQrS+vJaN//hMoc7zDN7ow5/9WbhxOyAL4eioZn6myoG4chJ/oIU3nkF32KDTzWjVwqODTPH81QLee0dRvKCGZVOOzTd+uc3FZciHb015YU/O5XwOwf8S6m/chhdf1s3/4Q/h8bEYK1xJFceBXPkVCv2dIC/qVWC3BbtNSEsBts2+vMDRuTp2JYmk4Okcek15dZ2mVmxZKwevcqKdJmzekCQdncuJmI0kfa4nsm93Qycd2kpCXiTwjy/h3Uv4mQ349k24caBnLiZSo+TK9Hk4he/PhBZcuAjOuTdv/kBHG99k4cvIdGkncCN2Ca1N/X924Tpb3Fel53BbGO14Ksaup7CaCHUIShVvRRsOIjvXIms0lYsY1YKZOkNhuPOlEqiXDVi04OMzePZMAPf3M+GHCSrG+mYK37wLt/ZlUm3fk2RdLrU9ymgK45G0WhQoM+v0DDZuuSTqjmrdH/yOan4GbdmdnUM5Vo8/lgb59s93aHUjskLObjkfs5jIJk2jFnWrTdTJeXoy5vbtJp1ewOg8ICWjyks++ASC/9er1EGh1bb9EmzdgbNxxCfvlgxK2UDFSF7dfzWWKr8ofYvlMICfCeGrsRyRnRvCOduBiuWjUi80ybQ62rUkWasNy1BG73IuW/B6Ilvv5h48fag+2zES682WAvdxqEySPFfbkagtdTmbS9JcT7RQtnYUZ88zTWg1kbdXpDCeqBlVjlOhubxES+S4xtfipMiznDg1HjlmDGpFsHYaAv4PtuT85ZmiSOOFKj7TUHslhh1o7WnB1aUeVBQuqbWWZI8ihRbzQvmUnzxWBelWCLf6Dr9tKvNpNtek57nuGSeqS8prJVPEiYPnngojnI/lXG7vy5bv9aXFiqXDjFFaXV0BNfQGkt4np1LZmzfUcY3AtVZcuSBHW58VS/jbP4BJEfDt1+H2rZDb9++zd3iblAar41POJ1e09/okDfjVv/Mul5OFWi1OA4qyJi5VoBj8xwfUYaRY9KAL26GSdA+60JwqTapsKW/x4/fgwQX8P0Y+t9DiwvtIhd8ZwMuFPKoyU5C9N1AIsdeVIV252PS80mqcT4TtZQ4auPO6iFNdyFtrbAtMzy8lYWYLSatVKWxyoyd4KIgFORWZHKhG0xfqT68lha5X8NThpoMYbjaktqa5r+Ir3M9HjgG/HOkl77akRstK0FQZyB5c1aoITDvCbkHvMl/B3rZs56trLcbOUI5AVvha7tAlS0SJk4oLMQhInVWIYRsNd3+HjKQJPH4oJg3b8GShWP7bS5kUP39DJdI18gGyAuIOXFzIFt/dkoSnpVyF5ULFaFUuhu445r4YS6gELWhsyRwLQyEvq5GyzTc7KmX424/g0USC6xnClHsoz/ao8onIljzTwTfk6gOvOQfJ0IhPU7iGqTJ//qf34E4LLubw+BlMzpQV8v1SRnGMr2fZcsw5A74ZwZ/bgnu7CjnWyLPvdZQPuVoJK7xaqnlnoyF1V1ViqCqSjVlWyrYumy7f8FKfLZZapTnwYa4F9WIiQl2UcgoGDk6xqM7lVB77GAHZ1xnPbZ+yiRI5HpQ+fPkWLgkj1Lk/n8D+DYHLxUpJD91EcNViobbQ4wDyBOYuKnMwEERy/lT5oBtd6OzIyF8tVRxXl4LdWinkc2mPINAimy6UVpYkSpDNZhp0cwidruLWRSmtcL7Uor3AFf6FcDeC17d0PyIt9unElZy05GkvHf5Zh3IwF3PBeWlL16WRwPfJGKaRFuNoBfs7Cg3WpRCZ5Uq2ZZHDKoZfvxZ9Oy3N7SrzpcbHjrZfcrRux4p7p+VnmPKzxysB/EddtWMpAjg6US3LslKJ5ekCntSqWb4JfCVRCcVkCi/dhC99G04ewK9/V/bQL99SZOjDR5rI0wCKphI/o4pP+4PHsSRLVUHSF57YjGSzVpUYoN2R+rseKxTajxXaPFvKOQhCOWeNhuyyTk9e4AdjH6cd4hN0m44Q30F2ZuK++6lA0vLjWgtwK/DJve3AAfU13GzBSy2ZMI9m8EGlJvvDGm4P4GoK46VvJNXsixbkeuewlDSkkJQNE427qkSPpOEyxR3DhE1JvkbiTJlEkjOfwdVEuZijSi9y+0AOGS77KG1LurZcGDcvlcgx3BBkN51DFQTEzYTjk5y6hpv7CVfHOY1GTRHC03Npl5dvy+7spirzmM/g4hkcOfhoO5FDGEcSKkEpZl+Weo8qU/3/YEv0vzyHeBff9d/wrRTXoauGJxOVQj5GQf4XQnil4x5Wq163WwvAfa0lJshLSFYQjlRycNdN4rIS3JA34HtLeb+tOdyaS81fxJA1IJ8qrPiVBmz3FAItc5kQubN5qPSirYbs2q0dJS7c2lRm95Mr1aR0G9Duyru8GPsspwqf9h8HkgjLWvbdpWPSb6Ok1xz4WukSimtXUhDJQVskyv55toTGAt64C185hC+XYoRGJTt3Egq/NBFwea3rW4GruSnVcGBnKBsvcHZ0WcoxItA146mYuZ0phyAIBLeFtaRtUcmG7zUBh1nmS12TpvD0QulxL9yCT87hSaFdKWYl/OaJFvurfbjMArZ7TRppyaKA4GaTMipYjmtOryAZQjyF908khLpNhQ7rucp29zbhTq1y6uVCiytcicniQPbseKGoWoQw3EZT2jRoudS1ECWQNt1kmUqb4vuLF056vB7BnQQOI924DhRkH4RKqL2slNT5pQPBAuFYqyZqCeZ5L4fHFdwO4OUBnEyUlvU+8ohD97wN5DTtJ/BLsey4S6Q+N2JXFF8oOYQW/GYBmzG8UKo2Zy9QZ9oIxe1Hc1ey0NIk5g5kr2vVqTyrFPm5csz6Mr4v5G208O6nQiYGG+rTs1iJgMOG1FTSEyQURJDNJeHLpaCY65HGW4RwPhG8c7Al5ygK9D6tjkyD2dKV5MbykuNIUmW6cM5NV9dNlhrLZCy1+14BOwm8uANPzrVQw1BIyP0XZY8/+Eia7jcW8FEJX4nh67G6Vfw6iueHhTTOrHaRtIYW4u1aAodac3SNGlV0AgUxLkrlSW45AZZGUuulk/gbQzFl0pEtvpiINstKTuEs+D3U9486grXfNc/f5LN/25EiaOINVAe0qGUS7LX13dMlfLdUlsocn12+iWyPx26B3AZeb6mtS7MWDpbGcHtX+Gq1hJ2BJEgYuOyeiZJ854hB7x5oz5yocnUxAXx0oS4hH7pn/BxqxzyqfYrWM6TCXwNeD+WYjCKp2802HHaEc7aaInyN7EsCMc0qU4b9agWPz2HQkSYIajHvZAHHGTwaa2K/uq0+S3FX8FFUCrE4O1N0rZnCd09kB7/YdnvyzBVJqxuKVn0888nIh4Fs/zst2N1QZ7y3HV1uOnpfo81ZN5C9eI0Ys+3evePm8hsDuNWUX/AskzP74mtqJzN1+OtyqSz2Q2CrB92uzBQqIRHhlsKWzz7Rgts/gJe/9S/IlP+iRw/488AriVTXLJCzMJ9pW5DMAYYjU6WBIj7ga55XibKJ4ppP99dZoq1G4pUIH0cyB7KVsy8D1VZXse6dLwUAtyIxZJAo1v4wlwP3IvCzoSr+2k15jVdO55+WinLtotYtJwW856T8Dr7Hd4TU6kYiiKofSlpfo4rFcSHM9VZXnvd8Bae51xY94N+J4Ou31WShQlhilEpy5istuvMpfLSStmjN9Lz+ltT46Fq25ccroQb37+ia/aYW5ONT+J0rt/dmJNUdpnA0U8n0C205Z0+utPtZXimOfVqKSYcprCLtOpYGMgOuL5RkfI0W8hj4mQC+tiO0I78SrdubgvImUwmGuNL8t4H468gVf+xuAr87pwbu5/MA5wgfIfm8Y4J6MM4LeKmU0Z/n0CyUZHDuzturpTI3Qon0onR2XyTHaNgVQWrUbWI10Yr9nUr3eFooHNmtlISxlUgVxpHqipaVBlu6MTwr5RWuHBG/B+zXsiOXibqk9RB+2KhEqzNgs4SfGsLXWnAyVfJBoyGnarJyUaqV74lpJmUTmUJPKxWOgSaVQHH2bwbaw6ZZwfHENXZoShXXMWxtyuPNV5rU2y2VO9QL1z3EQVWdA7Vi7I2kam/2NUFRJLz59oHaH1YruNGFrdtyRPYraRfrB9RPIC7luTeA/UCRo/eXcOC0yTSAr98QqD5/X/S6cgGKEkGBUe2QFDQ/q6WKBk8LeClQ1WQrgeCnHf+dIPVkEMn1GhO28FWDDcd8K3yxVOEYro3v/Nty14/455v2J8BPAV9yjNFFDtYK1YRM3cscxvDKgTzLR08UBUoGUo/tyEVAcu2dOJ/D1Ux2FkgCPqyVNb/AN/ZsoBqkbfd3t61y1qulCFmhxbkFfMk5NAGCPPqJVOZiJbv5/q4SWc5HckLmOdy5ITMic/bR1alszeZKdmzp4uuDWID5tFT0aaPrurmlattyOZVHurkJhzeUhzm6dvXhKyWwPHwCn4zleN3py+mrCqn6OBYzPJhq4VGrPLcVyIZuBLpuWfnFaBjtpZuzztp8DgMxY6uGTXefqpYtnAVCAbYHgg+/N/WtDefIFv9mKgy8iVQ7pb47dkx7M4KbPeU0xBf4PLj7+BZwLXzvIIdUfLop5Cf4Bpn3HUM9RLhe6D43fHDdrrQjd8w6CMSEde2zlqNItuJhrCZOzYGzubqqCuzEIgChstSTRP2FVqFs1JWz5YJaDfNv1iLOpXvuY/yOBCmKjDx032/je6o/RUS/X0n1ukcqwylWjmLaVCeO33qkc/spPLh0EjNxIcwavvlSCFHKJ0dzTk/lGEQlfMVN9qoSlEMfGl34yk9FXGUheZxwdpZzmeW8uqdUv9FUDsV8JpXddBMRN8RgjUqebYzGuWxoV9x+Gy4XkorFUhKpHakxxJMSth3yMV4IYei5ue5Hms9mIg+5CrS4qkqmQD9SLkLDYWr5Urz0yM3xAUIwBk3FwGe17p/jk7A7LdjYgIM95UEEvwJ103Frho9qJHoGFyh7usDXvczx6jvB9yx8hi/iCvHQS+Wui5BU/Cayybac/RfGGkASqQFWErva4pY89jiRmltkyi6KEcwwHDpUYK5Us8cnss1GpcMC8V15T914Go4YCb69yft4KbHAVzPGbsEd4juprdx1RegX1LWTNnvumhu4jG+U4t9qQRiHbGxXtHrQiRo8/KSgs6jYbsvTfjBXIkbccN59DCeEvLBRs92qGaZKtl2t5LUPd+TIPHgsSVvgSjVaUpNxIHgpSOVsVIVA7WYiqb4xlLM0ncOTI12TdvVeZ+cqXWgEQjOs8iAOJYFDnEnVFAZZusUxm8IjF3A/XinT/BT4Vhe+cdc1n0glROYLeO8B/L0xPAngzxzC6ztqORj8omPKpiO8QT/RmkR7ilRaid+wPsfHgTP8XuBLFHJs47O/z/Gbj6c8X1yV4ysoNyLFaaOWCuJbTUmfKJZxfHItDCufKzGkKJXuthuKibO2umu8d6J4OoHswYYxZCTCPsn5dA/xEl95eM7zFZrttbGduUVnGuABKgFouO8XPG8zlsgEuNWGnS2F7iZX0N2O+fa/fcjN/ZLzH66gzujGfb7z3oKj7JrdXsmzh3JErjPRYCeUydBoSPodbKs843qq3M/RhUu2biqSdXIhe3YvUSnJMpaUuxhr7KGjfRq6Nn0brkFBLCn46Eh5nqAIXYJKfRMXiLCjCJUNNV+J2ZeZxv0M31/9e3j/ZBP4kwdq5NWqVTrya5lvO2lH8FXZzqrucwMIHMNFbsIuHVOueL6XTo2XigG+b01jTW93GmK8xVJRl1ZXEZkAIfmzmdL2M6TKtlN5Yo8zVe693Ib7TWhvy9a8mgkkzpe6ttWXYX77LrzyTYh6qgh8+kOoFkqvyyoYnwmSIVJEYTCAf/gYflhJZb/kmO5d9747qIisdrSx78wJrB0NciT1G/gdMMo1WvUi9WLvZPBiD/7af/JX+M4PPyQtHvIXf/ZN3vngE6pGi81OkycfvkNRL3n6WLmfQQmHO1JpJ5eKgoWlmk/dfy3k2aLiH/+mUr7u3FWWT5XDwzNlArWBe5saUFLJk067mpfLmSQsOGZD6ryuZbNmta/kbMQKelzWrqluoD6S7+AduBYeLps53mkC+0OIB/CPH0pqTtz5ffymrqaxcly/dAeys3IXPHZE3XYn7CEJN0E3HbjvXN4BE7yEXSCJEtdOHaAVfrPh1HyqpIVspVXabaowq1PJrgpC13co1LYmrzRk/G7twclCqubpFP7mWDhnArRH7uV+AKv3lcnz5UA1PC/sKysoA36jUE+heQHbGfyZAv6tG/DmCRxlvnz4DUTsM3xvIkMbzO7dSJxZUAoUHjuahKEWgMulUO10qT3EAxTa+8HHv86bX77Dyy/8WR699z5vfe8BG4OI4VcO+PCTJbORPPanS1VCfulcGGD/plZ8XUAxhlUSkjZqkrSmbMI7R/D4Ct6bi7FeR1jnwytlZzUjwVDRWJskbLRk2y2R/VsWCoNa675upGTjJNB7hrUkfw1sploY3cz3Ulo5Bj1xP8ZgyxHsTuHFUNDXzPHXGN++e+oW+G3cfkR3naSsHIeb920qvOsYc+qYskJiuIsmu+vOMxv0CV58WzTkp9zKCHFtm1He3rAt43Y1h9NnSirIMrixrezwZtONoy0VcT2V3fg3z9X04BKvGn4/EFaAGLiPVvQNpF6XOUxyv6HUOTJZxvgyUjsS4FsbqolhAd9Zyqv9cqha7WcZ/LB23TGQwT9du/7PvN7gm9+8T7bMePftR6xOcv7si6rs+6eP4Tfeg62+6nPKTFlUo0x0PHfvcOjmqREJzw1x4cVEpslDxxA3gNdSYcFZqQjT7S1Fd6qlaxjWFNNeTxUzv5xrYW11xEQ5LuGkFDPmS9HEghuzNboGwDTU4mvjCsRKSdqkBd+fwq9VnhnBlyTf7cDdUHXqwb5jyjkawBBvE5kzYMkJkXtZS2gwu6zCZ2nPkbS9Yq1+Gqm4gOe3m7vVgi/fU8rTB5/A0ZWcntdfVPbKaq4GBPOFMLK0qVT6hyOtxqWb8PfwUg03ppfXxn6Bh6VsnH03tp2GbNPaRZOeoUW45wiWu+s/xO+GAMpuaSMCG3TyEJ/2FqKYfwuhFTM+/4hQVtU3G/BgoffYRy1V9ruSvt2+EiVWhUoMul2XzZ/BO0+0kCOUVRQkCiWO3Xu+0Vaj1oP7MNzbo8xmNMMpH34XumnI/ksdPnk0YfRUdl7dUPiPUA1wz69VHBYCNwfCRj92brOhFSv3Hq1AlQNRKFMpTWU2rCqB7E+mLmS9hrjsd+D1PQmpsyOhA7HBNy3HRDZxIHX2BC+K7/B8A6kIz8xmAqzw2/taBs7UXR8gG9VgKJaw9VQhqLrWvZIQji61qusMPjzVhUWplWyTbpGcAi2kPr5JV4yHokI3brORW+4zHKM8zHy3tKfuup67Zwsx9R5yakKUzT1yf3/g/v4avozXFkeJMLh9/CL8vKMEHpVwM4d7TXiplo1XFtpfaBEq2XZWSzuMgbsBvDSEvQO1eHmSueYGhTpXWJZTD/itOeSfQPUQgvCUupZ+jip4M614ZTyhn8P9IbywrcTpuiF7/+wELp7A8RNNaLNS1ek2Uv8390WH66lrAziCZwsJjEdAK1f48sjN+Q7wtQj2ugouDFPY3VTjq2KpPgF1DMGGSzY22Ma8b2MyU8EV8qB38T12NpDt1XB/z9xETHg+srOJpEYKn+773HKM1HS/2yE8qKQaavh0I/YCZVtHKzH3ui3Sccx06sa76/5fIsKNkJ1S4cH8Kb6X+ebaT+6+u3bPjfGSdu7uNXTnlI7IH+O1iy2SP+iRAn8aeLkpey5xAYVV5grKYjVz+NVctH0DeDWU6u73JdWu50IVxo5pq1ATXefKsr8sNe4ZPjtq6cbeA/6tBtzYUKeKygHrhz145S5cncF331NT0xDBTnkOB/tysCYTbVw/qyTJ31lpB5ERWsyGWRpys4s6jxzEalgQFi7zvlKziUYK8bo7vm77gJgjwkvGx3gjdoV3imJ8X5yCf96+m6EJrBADzvARgwAxZreSlHnZvdD38BImWHmw3uCrMR5+Mmx1heqGQjfGGZIaO+78C/yGAik+ODBy46oRA9rYSrx07eODAiYNY/wuvQFaLE6o/MhjC2/CtJCHv4+yqgKUmV4UyhTKC3nBTScpli7Sdb9WSuB0pCycgxg2N3yjsDxXsV+20NbQP7yGp7UzWwJpsqtac3YYaDyX52rR9wwxURRA72P4RgceXGvhR8CtpWjw7gXcuVYOwdlKyMgCaZuRe1cTIGZ/Fm4OikxOUuLmrmTNsZz+PhMyfq+TTFX+njf6fRwxYrofZYNt41e6rT4Du0M8VHWGt3VifMOpH3V83jt8NhqV4s0HO28P32q6hSTtI7y2qfA2+WePyF3XQMw6cecOkPS2a29tKq3sN+Z+IX61BV/bUnhyNtPWeHms7PEokv09n8HJiRjmEplGt7quAe1K4cjKxaLjTHb1tTOjTGv2G8pceoKP+lX4bW0yPLabBirIM7NqhQ+muOQgYlQ2bI6RRQyXyPZe8Lvwm2Gk5tR83uq3i9c93C+Of/mHLYA9fAOrS/f7s8ePSpIxKbXAd/Z1gMKnTWNb7jPLd0iRfZ4jzfcYMd/vdZjjvH6uRcws8mf4rn1X/1FKui+Ofz2HCYYBHjv8w97PbPrQ3Xcf+HIs2OcfZJKon3ed2fqmwZwz/6njuOB3d/6CZC32/Xkr7Sfp+FFq9IvjX97RxTMo/Gitu36E5nX+pDNkCNztwW778zOXQDYTwIutkH//L32bO7e3/hWN7l/sCIB7vYhv3WlxJ/1Rb/Wv97DUNzt+PyZe+Huf8uN/bLWaNKKQ8wUMatUXxe67tfyCTxfmsII3OmOKy2s6uKYLf4TjCVAJR/KH5KMaOJuVjC9WFPmPj/H1e9Hy9+V9/7geZsf84s+8xPX5M6KrGQ8uVXoaIW93iGyjNFZ5xHYvJSlyfqEPf+HNkP/67+b86kIA8P02LMqEGy+9wovfeIN3v/ur/Ob3nv2uJsHnEbgJ3NuG1VSbz4PHOMMADlKVTPxudtdP8hH/3qf8+B6Wz/nr3/uQdrNWB4jqeSa5RkSIa5XALoqKrIDfzkK+XEd8N8x54O6zrGBZ10wWS5LLK/qLnC/hMmkCNULtIAb+UUcPLYZ3z/l0g6j18TQj+MvfivmNTwJ+43H+6Xf9QN0sjrPnz2/ge7L/pBw/0ZLyD3K8GMK9e/Brj5Xu1gxV/rDKoddJCZOQZbFisShVJuuoloauFh05i1183HmAiDvGByI6sQrZogC+fLfH//qvvsl/9f99m//un4yIA1UIvnYIZ1WD8bJBJyg4WZZcj3ICl8zQQHuEx6V2tfj9wDI/TsdPjKSMEbA+wdcPRfhIz+91zGox1W5fG75HgfbbCcuA129u0hjEHE8uWJzN2GjA7zxTrmgrgh/O/Mq2EOp2BP/Ogbqu/XVnrHaBXzxQIdjtDvyn/8FN7vy5n+M/+/88oGbESz34M9/Y4J/82hWvfGmPn/7Z+5yNLjl6esrbb11yMs046KoTBQuB15bR9ZN0/NhKSsPOrtb+X4cfusAvv9jj7kGTjx6P+QePMubV80m6nz1+P8RoR0rrupoo/PfaEL7+Jrz1PvzGU8cgFbycBtS9mnwGHzpAL0KtFa8X8EIC/4tfaHO8bFIx47/4pxn/yf/o57m9ueDv/P0P6A53iRsho7MR5yfndHptimLJYpkzXcLpVFGrnzSGhB9jpvz9HOo6EdCrajZqGLTUzmQ0Ua22ZU2DL5ZrheoG99k8gM87AlSw3wjhdgX/4Z/co+pO+D//nTnMXJwXn0CyBXyrA18awt+90P41oxr+5IsB06ual771Klmrw2Ky5PTJMQ8+vOSsrNVwNlCuYZzLZr0qZUdaFCTEb3/yeUeTHx/H6SeaKX/UYaltFo8NUAhtK1Ch1HmhisPf67Ck5a67fg+F+95HUvFNXLJzQz17Liqd++2WatM/KVTbflk+X4Yc4zfOGiPG3kIowRA1qZ2slCQx/sOR4o/l8W8kU/5RHObI7OASokMlI1zXPrw2RMzWD1VbPmUtGbZWdOluqA2WHsz8NtY/6nm1e+ZBqBrqo0JS04rWwMeS7Zp1rzxCiRCLMCQPoK4rbc66dk31mfvEUUhVV5RrN2riG8x+9oiQbV8jDbFAdu9LPVUTXJ3BW2tq6PMiPF8w5Y/x0UQNAiaB359mC2967KBUwyJQruYeaqb64gs36fRaPDs+4uJiColql5YrdZBbok4dqxq++rUb5OUFv/1BxmhRaWe2wJVGJyqVyD+T8RGiVL8GalQwrr1GWme2Lqrvf1qr65sdXzDlT/Cx3s3EmGK9+tSqCNajW5+WvYTCZQPg5nZIsAoJpgVloFS4oKHe6pOlqlHtqNee/RIh06DiSf3PZyqFaAGdfc64v2DKfwMPi25GgSv/iFS/ve4IJahALURdMS5qXzu/qAOqGqjrT1POQhQ4WC8Ks0Sf9fTGOIJ2EtNZFpzw+c7XF0z5b9jRwDPIjVbIPK8Iw4gggGer8jn7roP6jc5KlWY0K+h2Y+ogosgCJkXFSZZ9umHBfqR6o8/asVvu+04Mr+w3+dZPv8z//r99iwwPaXXwFbFfMOUXx7/S45UoZLjd4TdOJs993sUz5U9MROff1ONHZZb/cT1WQcWXhxNmM/h46hOF13HhLyTlj/nRx7dC+XE4dvE99n/U8QVT/gQc1jDsX6TE94/j8QVT/gQcP2mT+G9E5vlP+vGTxJDwBVN+cfwxPL5gyi+OP3bHF0z5xfHH7viCKf81HBZR+eL4/OMLpvzXcLQRjPPF8fwR4RfsT5rz9sXxY358EWb84vjXfkQoY2mvE/Ozr+99wZQ/Toept5+kYrEEdSY+bCd8+Wtv8tO//M0vmPLH6bDk3B/HI0T5levFeuA6R9fwcF5RPj4hffuDL2zKL45/NUcK3GuFdJsR1+OcJApopRAGNWXlGr4S0U/CLyTlF4eO30+Lvj/sUQdNsrjLjDPqvGYVQ5qGLJc17RUc7Le4cav/haT84vijPz6PqRqoN/uoVK279dLfieH2TsCw1WKvu8fuYOsLpvyjPqw09Xcjaojvkvsvk/iG+W2jHuof8K8nIThEvZmSCJpxzE4UcbjR5uBgk0YUUtUZT4/PmYxK+knnC6b8oz4+mwluTGqf1/hNs9yepoT8/nIhrRpxvfWgbTHzo8ZiY2ihGvTPPud3y1z/LHPYhl5/0LzNJtqfstmEQbdD0mizWhTMpwuqMqei4mpZf9qQ4Y+UKbv8/tqd/CQf67ZZhDLDW6iThW31sn4keMYq8Z07ftTxeUz/WVswATqBum9ENVxWeu7AnTvGlyH8QWzJ9T7of1RHG+2xdI22S7Hn/IGZ0ryjnyS87EcdN1AntSl+F4M/6PF5RB7iN6L6ozraAewlEQeNkMMbKa1Om0cnl/zwOOe09ExlEttwT/B7cbYiWJV/uN7wAW5jrCQkq2BRVjTcd+tbxzSAw0Qb1f92vrZvEv8CTDkEegEc1T95jLkuDVpI+odI+owRc/5xalCa4BpzofYw2+2ERqPBeJXzeJZ9ut2zHSFu09QutCIhnwUl4xxGS3WsuMrUKOtHbXVSfea79Q0ObHeIEBi2E+YFXGY5Pff9BE+/DqKz7bXzh1LfMb6bwo+aoJTfnxT4rGMQfObvGNUNW/8au+eMNUK43jy26kN+dyfCGK/ieRupgyasEWinLyv3rN05tt+kbYX3eYcROrL7uAapi1pjdFsjPveOn9ee8PO2kbFGXG2cem5DKw5ImwFn1zWnRa0dzcKAsKFt6fJKHS3Gdc2sEh1rIIohCHXXLWoagXbALWuvEWys1pPIth757Fg/awL8YSssP8UprfnmZ9F2mxQbEI4oV3gVsN6O7rPM86MOm4j1hkot1M7OdhRrAzdCSBJYBlCHAceLmqSGFyIZzkkzptOqOZuVPJqqr411080+57msvc8WsJcEXJQhp1WpliUNyKOAqKzpBgFpq2Y2gWWpcQX4dihmP6esFfhHAe0kJqlKDm92KMOSOgiZzVYUZcV8mfB4suSq8rsC7zbEtMe5xpUmEa/vdlguF3xwkZM2I6grZln96Q5dSQRpI2Fvc4O793ZZ5ReMJhckCfT7XdqpNjrPy4hJVnB1OeO9TybMspqoH1HUEUEORRByOV9ysx3zZ271qKcLzuZLpiEUi5A6qKhD9Qx6Wjy/AZMx62cF0x/Ww49/Zr9NEUGrEXM+HWunp0p7TffTlI3ugDzPuRqPmJUlK7dvYOT6w9j2wyFuBSOGnSJGt0ls4iWYeZw5Xv23kMRrJXCrH9DpprQaKcN2iyCWigmAV65KwryinQbE/Zhmu01Rldwocl5e1JxcjZkuluyWJVGSsMxqsryg10sZDnt0OglVUZDUAWkYERdNygqejUfMFjPayxWdVgPKklbaYBGWzJcrKsfscaK2zlQyYwhguxWwsdmm1WoySLs0GjHz2YJuL+V6cs3FdMbTy5wkjTkcNMiCgqvrgjBQs6hpBdPAOzudMGQWNJgHK/XADAM2CSiDmlkDwiRmPi/Y3mlz54UuaXtJPS/oxyl5vuJ6POLoeExVRERhQB1WDHobfPPFFk8v5gStgnxRE9YJZQxHiyX5omQ2KSELOJvINOtQsZVKa0yK50Oc/yI5oW18e8Pf7Qj+i7/2K3URNliUAavFgmI2ZzYdkUQhnX6LVq/NfL5kOl4ynZfUpBSrFZP5KUW+YLooKKuQsA4IqEk7AVUdcX66ICwq0mZEK23RbCaSrM2Qsq6Zz+fUVFR1TZw22NzeJAgjWAS0mk32D3eIk5gqLIjCijrIKcsVEQ2qIqIoMsKopsxj6rqiJiKOIuIgZjHXfq1JK6WMArJlQVFAXQXkyxmL6YQ0bREEAfPllCCMSKIWcRBzdvSUxbwgbbRJ4oCqLplQcDYe0WyWhAREQU2nFbK9sUU76dHuNGm1E1ZFxqKoaLc7rJYrqqqimTSpAxit5kRpk0YQEiznFKuA+SwnbUXM8xUnV+d8crTkwaimrKFdw92tiFFR8nikhlMN1Ab75U7MC7tdDvf7bN/boqqXJHXNbDZmMp+TtprM5zOqqmCZ1zx9mFNXEcUCsqzmclVyWtYEsdR1XMK9zYD97ZjpuGQwTOikJfPLivOzmpMcLquaeSVz4PNa97XwG7GCV/u2P6PtXLbuaK2bLuv3DP5P/6s/XZ8cnzEeZ8RBk+yyYnx8wa2b20TdmmeXU7JVQFEE9HubdIcd0mbMcBv6mw0uL2dMplPqKqesYblaEdMgylvMr2Z0Oim9fpssz7iaXnE1XRFGKZv9AWW1oApragK63SH9Xo9GGrBcLkjTiKycsywnNMKEKGoR1gGNOKFatsjznEY/o65gma1YZjOoa1pRizyrGF1mlEWL7cMBYRyxXOacHp9xcTKiqiuSpMHm5pBmG+ImdNpNNra6XI1GvPvWU8Iw5qWXbpFGCXE7ZLw65wc//AE/eHdJGsDL97tEQch0lFFkIa+89jpJo8X1ckHcanB5fc5yNqPbTrh5Y5vJbMTpxTnEKY8/HHM46LC11WXYaTPYbNNqF3z06CP+/m+PWOZQFdBMAuog4GpWsTMMmJQh03nJThhyf3vARq9L1JaV9403X6Es5sxWBTlLGs2ApBGynK9YLHJOnl1wfn5Fo52wmtakYczmXpuLWcF0tOLerW329ja5vBqTVzWbaZd8kVE1QrJqyfjqnOvrJR88LXhciNHM5jZHJcXvOWQ7VqybcuY4VsgnaOB3E7Y9JpdA3Ci2uHu4QXQ7Y5FNmC8KnmUZ+VXJeL7iar5itVxxej6h3TkjbbdIG0Nu397mhWaXra1NdvYgCiOyxYp8FRCFDZpxk6rKqZOStA0EK07OEuoPLtjq3OClO7dZZVeczK8YT1YEQUKWVxCEJEmDMKxI2w3qoEkapOTTkGyZU2Y52cmU2XIBmxW9zpCk2WBzKLQvDEKyck7S7FBVQ+JGRlGWVFVAtz2gcdil0WhSVxXL+ZwP3/2YRiem1U3oHjdJoibDXpc0bRLWIY1mRbffJCr73LizS9Re8PS9EQ+fwq1hSr/fo9Xu0mynPD0947qIaZcVV5M53bRBmefk8xl3DjfZGzRoNzeJsic8/eQZzSBgOpnz7oMpaQvC1pIJUpWzHMhrGtTc3m5zcrlgXpW0I5iVFaeXE1bzJR9lGf1GlzA65tU3dmmlHUZHZ4xHOY1GQkKT4cYG2WrAfPyURlizfWPA5HpElHS4sQ0fHh1z9SCnOV+yjFOuqgUfP70mqAteuL1Jo9WhDOd0e01uHa7olSFzArKyYnY+4bzwO/EuA7jbS4iihGW2YJzXPHTbrNztNtnrxRzPZiym2s9o5JjzIIDNULZ18J//+3+13tjsEwQly2LJdHFNvQyJZgGUEHcq5lHGopozLWecXswZny/IRyWbvU2++vU32D3cod1qQwV1VROGEXmeEccRURwRhBVBEBFFUAdLyhLCIISgpAxD5vMFi+WK5XJBL+3TbqcsFjPKsmC1vKTVTEiilLqqiZI21CHT+YxHR0+4urpie2OTV++/RK8ZsagW5KuMIIwJ45QSyLIMgoDFfEVeFNRVxSrLyRdLrifXjOYTHp0dk68yNhopYQU72zvcPNhjd6NF1Ovy7kePOTu/5vWX75JETRbTCZdX12R1QVXXtFttGs0mdZiSJimj63M63RbtRkK/2wMq8iyj1dukqgNOTk65vr4kD3LyYkwYFvQ2GvQ6GzTjNgRtjp6d8/DBR7R7ISeXC979YMw8h3Yj4NXbXc7HU77zNKes4JV2n7/0Z98kz1eEYczofMxiNqJcTdk+uMOqbnD87IzlYslH4xntsOAXfuouBzu7XF9OyLKM+XzKtFiRs2A2X3J1AeMcmhsNhkHCS1t7JK2ERTmnSHJa/ZS0jkkaA5azkuVkxnh8yeNH18yLFf0BHNzY5MHHE47GNS8ddNja7MN0xFtPrni8hLysKUq1c7nRhq29LnGYBoyXc64vRjQaKaPJitV8wcXJBe12m1e+dJdOo8Ug3SKIajb6U676Y2bjFZPJkribUgYRV9MZSRgRVBVlUbJcLGk2Iwih2U7Is5yqqInDBnUNq9WSTrdH3O5Q5BFlkdBpDRj0mrRabaKgRZYvSeMmjSSiLCuKvCSKG9RRg0Ey4EbeJuWSiIhnj1YsZmOa/YBuv0UzhfH5Ka3OkCQKKUvFS3pbA+aznOv5iMm8oqbLarWkHfeo4xVpukE2jhhfN7mqQ8KsQzdssbFxyLPTOe8/HbPd22F+njKZduj12wx7LbJ8zmg25/LynMl0whtfeom6gGcnUxYbKXmRURcQ1Gfk4YS33nmf0azihfu7vHrjDg+eXvG9i4IkyrnFgt2tJnf2X+DG1pA8POdwsuLluyl1lhNGBavsmtUnU4YJnK9gvJjwve+8T7OdMJnOCJOEF+/tE5YxdbBga6NFK+2xWqXcmN1gOpmw0btF2t7koLNNxZLjZ5/QzSqaaY+01Wc8XvHkbExJyKDTo9ftEDdgo9kjK3LqYE6eX5NNF9Rlh7QBvWHKdD7g+nzKh6dLvvfgnMONAW/c3aSThFBC2uvy5ZdKXm9GnF5kXI0DahrMplOGVUycRF0WixWdzga9XofBZpuizLj70i2SRoMwiGk2Y6IoIQwjur199rYWhFFIVdWkjQZ5sSLPF6TdNmH9/+/qXHrkuMow/JxTp+59m77UjMfOxHJsBTkRBJZkAawj8R9Ysefv8BsQGyR2CCQkhIi4x2Andjxjz0xPT/d0V3VXV9Wpc+qw6AQi/sX7Ps+r7xN4viCIInAO0zZ0VYvVmmpf4ZzPYDDEmZbNaoGq10ipKHctXton1zU3zR37Xct2WxAHlviox2g6QqUJjehYbwpM26Dbiry+Ylc0tLUkCGImUpCdTYnDhC9eLFjdfE4c9Sh3mov5nI++/QHH7xyxXa9Z54cHJ0ncYzad0NgtXifIbcun/3rBL9dbBv0e01HC+8dT/Djk789eUxT/pNoZllXF09kRSRxxXuRoHBPnMYl96iJjfDzA61nmd2s2+Qbfa3Htln27YzCM8WJBtb/h+RcrPj/f8Of5DjzBjz88IY3vk9kB9955j9UqITtNsEZQVzXaWNbbBZ0MefBYkG9LurLm9OSIq+s7Xt00nB4F+KlPKFO6TuJJSS9JuHnzin2Z88EHH/EgO0W7FiF9BsOMIAg5v3yG8Hwu57d0KMbDmLQnccLR74eMR1P6oxghLM4aVsslVktsF3Ayy9C65sEjS1HkXN2+olYeUnl4QpCohFAFDHoBaT/F832KskPXmiQOKKqcKBKIn//0J05IhTYtng9hqhASYhUcQKn8au9sweJwymDdAag541CdQgU+VgmME0hfEPkBvqeQncPVhrvVBk8EpL0eWjmMaQ4hWXlI6ah2Jau7Nb1Ukoxjym3N8nZH6IW09ZayrRkfT2mtY77ccn5xyZMnj8hmE0Zxyn7fsLhZIOgYH6UIodmVO6xp2OxbfCKub9bcvF0jGsmTp1Pe/+5DlEq5Wi7QLkDvS/rSQ8mAstjw2ZfP+fdVwapxpAq+dzpjNjvh7P0Z8/lbfvfHS6JQ8vHT+9yuC168XjM68ontkEePHjKZDphkfcJIcXW+5dXLC7KsTxJJAt/HUx7Kl4i+5fr6ktXqjrqSSBnx8P6EWTrGb0L8QUrbarRumWYj+rOAtsn5228/5dPPLjg7mzE8zmis49GTh1yvrygKy/joPkkcIQVkJ0Ok0Bhbo/Ma3++ThGOc9FCJRBhLU+6pygprDVE/xThH4KUM0inp0OAHh6P8eb4kTvsoL2S+zLGdIox8hGwBi2xjnPM4mvRwXUF/1MM5n23eslnvuL1bMptMeHB6D2sFb2+v6IShl0TkuyW9OEH85Rc/c2EYg2uxVHRSIWSKM4qmsUgZAQ4poW1ruk4T+n20UTRNhzMGL4TOlzgvJIz7KKlQzoKx0DmM7kiiIYPhmJaSqrmjqQs80dLcLthdrgjiiKPHx6hpiNaCzkh841Ft1mxWSzptqeqaNzdLFostlfbpTEheWqw4tNTaGpQQqM4R+ALrDLVrcc7HVR3jQY97oww/0ji/4fZ2jcOj7WLcruQ7jzMGxyNqV7POr5nP59xsG27zPdM042x6Sq8XkkQhRZ6DkDgp6TqLbltwEmzEaDCis5YORxJGCDz29Zqkp3jx5SuePXuJFHCSnZKEMb5yZCcj0sEQ4QLapqIfhISBh1YhQRBjTI3pGra7hmwyYZAa1jfP+cPv37BZLHj4zof84JNPEP2GVV4wHJ2wLUpWyyUPzo45vT+lqXd0+5bJ5ISmEVRaY5QhDjz8Dux+hxCG0tRcXL0FAgLZ4/69B/SSHkEUs9+XSCkwXYM2hr229EZDhANrDigt8H201vi+T+c6pOio64Z8WyKjEB8BuiVQiqLdsFotCFWArTVKRgjn/nSYXLryUORFwEG2jfif6RQcrKXh4FySb5T/b84UviZR3xRT/y/UvqZWLbgamj262CFdgKcN9u4lV5crri/WfPH8kvnra67enrNoblnoiutGU7eOfdVSlpqyMf9lXIfUKPGQyK/Qrv2KkPkoBv2ENA5pTYsTFmNaUj/k4/ee8MPvP+Uki8nrBoTAuQ4hHCoVGDqcdfi+YhD1uLvdsc1binWFpyKqqsa0mjCKIQgIQ0dZ37C4u+TiYsE/3nRkRyGf/OhbJLHl9as5d8st2fSU2WhEmIQMh318FdDkFVHqEQWOTb5mvfHo9+5xepZQFOdUa43T4AUBcRqzbyp0XaAYM548pp8lzNdz9kKgOonfWo6PM9Ikptq3GC3I8y1N0zKZZXSdIO0HhJHjaDRAxiHltqCuW5x1uAaQEg+Pfn+AEAFKOTqvJi8WXM6vaXTD2bvvMhxMsMZHCMFms2G/r5llJ/jKx5iWqq4JQo/O2sOHuF5IqS95/folv/r1b/jr5yWTmeQ/hF7zGzk4QvsAAAAASUVORK5CYII=\" id=\"image34de87a9fd\" transform=\"scale(1 -1)translate(0 -165)\" x=\"7.2\" y=\"-6.317647\" width=\"165\" height=\"165\"/>\n   </g>\n  </g>\n  <g id=\"axes_2\">\n   <g clip-path=\"url(#p5a4904972d)\">\n    <image xlink:href=\"data:image/png;base64,\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\" id=\"imagea1f8991a9f\" transform=\"scale(1 -1)translate(0 -165)\" x=\"204.141176\" y=\"-6.317647\" width=\"165\" height=\"165\"/>\n   </g>\n  </g>\n  <g id=\"axes_3\">\n   <g clip-path=\"url(#p2c15bf4784)\">\n    <image xlink:href=\"data:image/png;base64,\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\" id=\"image6e9f051b6c\" transform=\"scale(1 -1)translate(0 -165)\" x=\"401.082353\" y=\"-6.317647\" width=\"165\" height=\"165\"/>\n   </g>\n  </g>\n </g>\n <defs>\n  <clipPath id=\"p3b0b8b2120\">\n   <rect x=\"7.2\" y=\"7.2\" width=\"164.117647\" height=\"164.117647\"/>\n  </clipPath>\n  <clipPath id=\"p5a4904972d\">\n   <rect x=\"204.141176\" y=\"7.2\" width=\"164.117647\" height=\"164.117647\"/>\n  </clipPath>\n  <clipPath id=\"p2c15bf4784\">\n   <rect x=\"401.082353\" y=\"7.2\" width=\"164.117647\" height=\"164.117647\"/>\n  </clipPath>\n </defs>\n</svg>\n"
     },
     "metadata": {
      "needs_background": "light"
     },
     "output_type": "display_data"
    }
   ],
   "source": [
    "# Check an augmented subset\n",
    "if augment:\n",
    "    aug_images = []\n",
    "    for i in range(len(train_dataset)):\n",
    "        image, tabular_features = train_dataset[i]\n",
    "        aug_images.append(image)\n",
    "        print(f\"Image {i}\")\n",
    "        print(tabular_features)\n",
    "        if i == 2: break\n",
    "\n",
    "    plt.figure(figsize=(10, 8))\n",
    "    for i in range(len(aug_images)):\n",
    "        plt.subplot(1, 3, i+1)\n",
    "        plt.imshow(aug_images[i].swapaxes(0,2).swapaxes(0,1)) # returned shape is (c, h, w)\n",
    "        plt.axis('off')"
   ],
   "metadata": {
    "collapsed": false,
    "pycharm": {
     "name": "#%%\n"
    }
   }
  },
  {
   "cell_type": "code",
   "execution_count": 42,
   "outputs": [],
   "source": [
    "val_dataset = bgr_data.ImageTabularDataset(dataframe=val_df,\n",
    "                                           normalize=normalize,\n",
    "                                           image_path='file',\n",
    "                                           label=None,\n",
    "                                           feature_columns=geotemp_img_infos[:-1])\n",
    "\n",
    "val_loader = DataLoader(val_dataset, batch_size=batch_size, shuffle=True, num_workers=16, drop_last=True)"
   ],
   "metadata": {
    "collapsed": false,
    "pycharm": {
     "name": "#%%\n"
    }
   }
  },
  {
   "cell_type": "code",
   "execution_count": 43,
   "outputs": [
    {
     "name": "stdout",
     "output_type": "stream",
     "text": [
      "Epoch 1/20\n"
     ]
    },
    {
     "name": "stderr",
     "output_type": "stream",
     "text": [
      "                                                                                                                        \r"
     ]
    },
    {
     "name": "stdout",
     "output_type": "stream",
     "text": [
      "Model checkpoint saved at './BGR/models/lstm_depthmarker.pth' with avg_val_loss: 0.0130\n",
      "Epoch 1, Training Loss: 0.0271\n",
      "Validation Loss: 0.0130\n",
      "Current LR: 0.001\n",
      "Epoch 2/20\n"
     ]
    },
    {
     "name": "stderr",
     "output_type": "stream",
     "text": [
      "                                                                                                                        \r"
     ]
    },
    {
     "name": "stdout",
     "output_type": "stream",
     "text": [
      "Model checkpoint saved at './BGR/models/lstm_depthmarker.pth' with avg_val_loss: 0.0121\n",
      "Epoch 2, Training Loss: 0.0131\n",
      "Validation Loss: 0.0121\n",
      "Current LR: 0.001\n",
      "EarlyStopping: No improvement for 1 epochs.\n",
      "Epoch 3/20\n"
     ]
    },
    {
     "name": "stderr",
     "output_type": "stream",
     "text": [
      "                                                                                                                        \r"
     ]
    },
    {
     "name": "stdout",
     "output_type": "stream",
     "text": [
      "Epoch 3, Training Loss: 0.0129\n",
      "Validation Loss: 0.0124\n",
      "Current LR: 0.001\n",
      "EarlyStopping: No improvement for 2 epochs.\n",
      "Epoch 4/20\n"
     ]
    },
    {
     "name": "stderr",
     "output_type": "stream",
     "text": [
      "                                                                                                                        \r"
     ]
    },
    {
     "name": "stdout",
     "output_type": "stream",
     "text": [
      "Model checkpoint saved at './BGR/models/lstm_depthmarker.pth' with avg_val_loss: 0.0111\n",
      "Epoch 4, Training Loss: 0.0127\n",
      "Validation Loss: 0.0111\n",
      "Current LR: 0.001\n",
      "EarlyStopping: No improvement for 3 epochs.\n",
      "Epoch 5/20\n"
     ]
    },
    {
     "name": "stderr",
     "output_type": "stream",
     "text": [
      "                                                                                                                        \r"
     ]
    },
    {
     "name": "stdout",
     "output_type": "stream",
     "text": [
      "Epoch 5, Training Loss: 0.0123\n",
      "Validation Loss: 0.0112\n",
      "Current LR: 0.001\n",
      "EarlyStopping: No improvement for 4 epochs.\n",
      "Epoch 6/20\n"
     ]
    },
    {
     "name": "stderr",
     "output_type": "stream",
     "text": [
      "                                                                                                                        \r"
     ]
    },
    {
     "name": "stdout",
     "output_type": "stream",
     "text": [
      "Epoch 6, Training Loss: 0.0122\n",
      "Validation Loss: 0.0125\n",
      "Current LR: 0.001\n",
      "EarlyStopping: No improvement for 5 epochs.\n",
      "Epoch 7/20\n"
     ]
    },
    {
     "name": "stderr",
     "output_type": "stream",
     "text": [
      "                                                                                                                        \r"
     ]
    },
    {
     "name": "stdout",
     "output_type": "stream",
     "text": [
      "Model checkpoint saved at './BGR/models/lstm_depthmarker.pth' with avg_val_loss: 0.0109\n",
      "Epoch 7, Training Loss: 0.0120\n",
      "Validation Loss: 0.0109\n",
      "Current LR: 0.001\n",
      "EarlyStopping: No improvement for 6 epochs.\n",
      "Epoch 8/20\n"
     ]
    },
    {
     "name": "stderr",
     "output_type": "stream",
     "text": [
      "                                                                                                                        \r"
     ]
    },
    {
     "name": "stdout",
     "output_type": "stream",
     "text": [
      "Epoch 8, Training Loss: 0.0120\n",
      "Validation Loss: 0.0126\n",
      "Current LR: 0.001\n",
      "EarlyStopping: No improvement for 7 epochs.\n",
      "Epoch 9/20\n"
     ]
    },
    {
     "name": "stderr",
     "output_type": "stream",
     "text": [
      "                                                                                                                        \r"
     ]
    },
    {
     "name": "stdout",
     "output_type": "stream",
     "text": [
      "Epoch 9, Training Loss: 0.0121\n",
      "Validation Loss: 0.0114\n",
      "Current LR: 0.001\n",
      "EarlyStopping: No improvement for 8 epochs.\n",
      "Epoch 10/20\n"
     ]
    },
    {
     "name": "stderr",
     "output_type": "stream",
     "text": [
      "                                                                                                                        \r"
     ]
    },
    {
     "name": "stdout",
     "output_type": "stream",
     "text": [
      "Epoch    10: reducing learning rate of group 0 to 1.0000e-04.\n",
      "Epoch 10, Training Loss: 0.0117\n",
      "Validation Loss: 0.0110\n",
      "Current LR: 0.0001\n",
      "EarlyStopping: No improvement for 9 epochs.\n",
      "Epoch 11/20\n"
     ]
    },
    {
     "name": "stderr",
     "output_type": "stream",
     "text": [
      "                                                                                                                        \r"
     ]
    },
    {
     "name": "stdout",
     "output_type": "stream",
     "text": [
      "Model checkpoint saved at './BGR/models/lstm_depthmarker.pth' with avg_val_loss: 0.0107\n",
      "Epoch 11, Training Loss: 0.0112\n",
      "Validation Loss: 0.0107\n",
      "Current LR: 0.0001\n",
      "EarlyStopping: No improvement for 10 epochs.\n",
      "Early stopping at epoch 11\n"
     ]
    }
   ],
   "source": [
    "epochs = 20\n",
    "lr_history, train_loss_history, val_loss_history = [], [], []\n",
    "for epoch in range(epochs):\n",
    "    print(f\"Epoch {epoch + 1}/{epochs}\")\n",
    "    # Training loop\n",
    "    model.train() # Important: reset the model in training mode at the beginning of every epoch\n",
    "    train_loss_total = 0\n",
    "    train_loader_tqdm = tqdm(train_loader, desc=\"Training\", leave=False)\n",
    "    for batch in train_loader_tqdm:\n",
    "        images, geotemp_features = batch\n",
    "        images, geotemp_features = images.to(device), geotemp_features.to(device)\n",
    "\n",
    "        optimizer.zero_grad() # otherwise, PyTorch accumulates the gradients during backprop\n",
    "\n",
    "        # Get corresponding true depth markers via index column in df (the first value in every row in geotemp)\n",
    "        # Note: this accounts for duplicate indexes resulting after the augmentations in the ImageTabularDataset class (is there a better way than duplicating indexes during augmentation?)\n",
    "        true_depths = []\n",
    "        batch_indices = geotemp_features.cpu().numpy()[:, 0]\n",
    "        for idx in batch_indices:\n",
    "            depths = df.loc[df['index'] == idx, 'Untergrenze'].values  # Get the true depths for the current index\n",
    "            true_depths.append(depths[0])  # Append as a list\n",
    "        # Turn list of depths into a padded tensor and also return mask of valid positions\n",
    "        padded_true_depths = pad_tensor(true_depths,\n",
    "                                        max_seq_len=model.depth_marker_predictor.max_seq_len,\n",
    "                                        stop_token=model.depth_marker_predictor.stop_token,\n",
    "                                        device=device)\n",
    "\n",
    "        # Predict depth markers (as padded tensors)\n",
    "        train_pred_depths = model(image=images, geo_temp=geotemp_features,\n",
    "                                  targets=padded_true_depths) # use ground truth for teacher forcing\n",
    "\n",
    "        train_loss = criterion(train_pred_depths, padded_true_depths)\n",
    "\n",
    "        train_loss.backward()\n",
    "        clip_grad_norm_(model.parameters(), max_norm=1.0)\n",
    "        optimizer.step()\n",
    "\n",
    "        train_loss_total += train_loss.item()\n",
    "        train_loader_tqdm.set_postfix(loss=train_loss.item())\n",
    "\n",
    "    avg_train_loss = train_loss_total / len(train_loader)\n",
    "\n",
    "    # Evaluation loop\n",
    "    model.eval() # Set model in evaluation mode before running inference\n",
    "    val_loss_total = 0\n",
    "    val_loader_tqdm = tqdm(val_loader, desc=\"Evaluating\", leave=False)\n",
    "    with torch.no_grad():\n",
    "        for batch in val_loader_tqdm:\n",
    "            images, geotemp_features = batch\n",
    "            images, geotemp_features = images.to(device), geotemp_features.to(device)\n",
    "\n",
    "            # Get corresponding true depth markers via index column in df (see training step above)\n",
    "            true_depths = []\n",
    "            batch_indices = geotemp_features.cpu().numpy()[:, 0]\n",
    "\n",
    "            for idx in batch_indices:\n",
    "                depths = df.loc[df['index'] == idx, 'Untergrenze'].values  # Get the true depths for the current index\n",
    "                true_depths.append(depths[0])  # Append as a list\n",
    "            # Turn list of depths into a padded tensor and also return mask of valid positions\n",
    "            padded_true_depths = pad_tensor(true_depths,\n",
    "                                            max_seq_len=model.depth_marker_predictor.max_seq_len,\n",
    "                                            stop_token=model.depth_marker_predictor.stop_token,\n",
    "                                            device=device)\n",
    "\n",
    "            # Predict depth markers (as padded tensors)\n",
    "            val_pred_depths = model(image=images, geo_temp=geotemp_features, targets=None)\n",
    "\n",
    "            val_loss = criterion(val_pred_depths, padded_true_depths)\n",
    "            val_loss_total += val_loss.item()\n",
    "\n",
    "    avg_val_loss = val_loss_total / len(val_loader)\n",
    "\n",
    "    # Save checkpoint if validation loss is at an optimum\n",
    "    checkpoint(model, avg_val_loss)\n",
    "    # Apply the scheduler with validation loss\n",
    "    scheduler.step(avg_val_loss)\n",
    "    # Log the current learning rate\n",
    "    current_lr = optimizer.param_groups[0]['lr']\n",
    "    lr_history.append(current_lr)\n",
    "    # Log metrics\n",
    "    train_loss_history.append(avg_train_loss); val_loss_history.append(avg_val_loss)\n",
    "\n",
    "    print(f\"Epoch {epoch+1}, Training Loss: {avg_train_loss:.4f}\")\n",
    "    print(f\"Validation Loss: {avg_val_loss:.4f}\")\n",
    "    print(f\"Current LR: {current_lr}\")\n",
    "\n",
    "    # Early stopping check\n",
    "    early_stopping(avg_val_loss)\n",
    "    if early_stopping.should_stop:\n",
    "        print(f\"Early stopping at epoch {epoch+1}\")\n",
    "        break"
   ],
   "metadata": {
    "collapsed": false,
    "pycharm": {
     "name": "#%%\n"
    }
   }
  },
  {
   "cell_type": "markdown",
   "source": [
    "### Evaluation"
   ],
   "metadata": {
    "collapsed": false
   }
  },
  {
   "cell_type": "code",
   "execution_count": 44,
   "outputs": [
    {
     "name": "stdout",
     "output_type": "stream",
     "text": [
      "True:\n",
      "tensor([0.3000, 0.5000, 0.6800, 0.8500, 1.0000, 1.0000, 1.0000, 1.0000],\n",
      "       device='cuda:0')\n",
      "Predicted:\n",
      "tensor([0.1766, 0.3752, 0.6418, 0.8681, 1.0000, 1.0000, 1.0000, 1.0000],\n",
      "       device='cuda:0')\n",
      " \n",
      "True:\n",
      "tensor([0.1400, 0.3100, 0.4600, 1.0000, 1.0000, 1.0000, 1.0000, 1.0000],\n",
      "       device='cuda:0')\n",
      "Predicted:\n",
      "tensor([0.2503, 0.4913, 0.7690, 0.9601, 1.0000, 1.0000, 1.0000, 1.0000],\n",
      "       device='cuda:0')\n",
      " \n",
      "True:\n",
      "tensor([0.1000, 0.2700, 0.7000, 1.0000, 1.0000, 1.0000, 1.0000, 1.0000],\n",
      "       device='cuda:0')\n",
      "Predicted:\n",
      "tensor([0.1278, 0.3123, 0.5950, 0.8565, 1.0000, 1.0000, 1.0000, 1.0000],\n",
      "       device='cuda:0')\n",
      " \n",
      "True:\n",
      "tensor([0.4200, 0.4800, 0.6000, 0.9000, 1.0000, 1.0000, 1.0000, 1.0000],\n",
      "       device='cuda:0')\n",
      "Predicted:\n",
      "tensor([0.2759, 0.5103, 0.7751, 0.9558, 1.0000, 1.0000, 1.0000, 1.0000],\n",
      "       device='cuda:0')\n",
      " \n",
      "True:\n",
      "tensor([0.3000, 0.4700, 0.6800, 1.0000, 1.0000, 1.0000, 1.0000, 1.0000],\n",
      "       device='cuda:0')\n",
      "Predicted:\n",
      "tensor([0.2370, 0.4769, 0.7568, 0.9527, 1.0000, 1.0000, 1.0000, 1.0000],\n",
      "       device='cuda:0')\n",
      " \n",
      "True:\n",
      "tensor([0.3400, 0.5000, 0.6600, 0.9700, 1.0000, 1.0000, 1.0000, 1.0000],\n",
      "       device='cuda:0')\n",
      "Predicted:\n",
      "tensor([0.2749, 0.5225, 0.7892, 0.9628, 1.0000, 1.0000, 1.0000, 1.0000],\n",
      "       device='cuda:0')\n",
      " \n",
      "True:\n",
      "tensor([0.3000, 0.4000, 0.7000, 1.0000, 1.0000, 1.0000, 1.0000, 1.0000],\n",
      "       device='cuda:0')\n",
      "Predicted:\n",
      "tensor([0.3179, 0.5639, 0.8214, 0.9861, 1.0000, 1.0000, 1.0000, 1.0000],\n",
      "       device='cuda:0')\n",
      " \n",
      "True:\n",
      "tensor([0.0800, 0.4700, 0.5700, 0.6500, 1.0000, 1.0000, 1.0000, 1.0000],\n",
      "       device='cuda:0')\n",
      "Predicted:\n",
      "tensor([0.1569, 0.3551, 0.6325, 0.8723, 1.0000, 1.0000, 1.0000, 1.0000],\n",
      "       device='cuda:0')\n",
      " \n",
      "True:\n",
      "tensor([0.3000, 0.5000, 0.7000, 1.0000, 1.0000, 1.0000, 1.0000, 1.0000],\n",
      "       device='cuda:0')\n",
      "Predicted:\n",
      "tensor([0.1652, 0.3800, 0.6713, 0.9072, 1.0000, 1.0000, 1.0000, 1.0000],\n",
      "       device='cuda:0')\n",
      " \n",
      "True:\n",
      "tensor([0.1000, 0.2200, 0.7300, 1.0000, 1.0000, 1.0000, 1.0000, 1.0000],\n",
      "       device='cuda:0')\n",
      "Predicted:\n",
      "tensor([0.2928, 0.5413, 0.8067, 0.9780, 1.0000, 1.0000, 1.0000, 1.0000],\n",
      "       device='cuda:0')\n",
      " \n",
      "True:\n",
      "tensor([0.2700, 0.5400, 1.0000, 1.0000, 1.0000, 1.0000, 1.0000, 1.0000],\n",
      "       device='cuda:0')\n",
      "Predicted:\n",
      "tensor([0.2715, 0.5170, 0.7849, 0.9612, 1.0000, 1.0000, 1.0000, 1.0000],\n",
      "       device='cuda:0')\n",
      " \n",
      "True:\n",
      "tensor([0.3100, 0.9700, 1.0000, 1.0000, 1.0000, 1.0000, 1.0000, 1.0000],\n",
      "       device='cuda:0')\n",
      "Predicted:\n",
      "tensor([0.2676, 0.5248, 0.8029, 0.9820, 1.0000, 1.0000, 1.0000, 1.0000],\n",
      "       device='cuda:0')\n",
      " \n",
      "True:\n",
      "tensor([0.2600, 0.4600, 1.0000, 1.0000, 1.0000, 1.0000, 1.0000, 1.0000],\n",
      "       device='cuda:0')\n",
      "Predicted:\n",
      "tensor([0.3052, 0.5670, 0.8385, 1.0000, 1.0000, 1.0000, 1.0000, 1.0000],\n",
      "       device='cuda:0')\n",
      " \n",
      "True:\n",
      "tensor([0.1200, 0.3000, 0.5000, 1.0000, 1.0000, 1.0000, 1.0000, 1.0000],\n",
      "       device='cuda:0')\n",
      "Predicted:\n",
      "tensor([0.1421, 0.3361, 0.6197, 0.8704, 1.0000, 1.0000, 1.0000, 1.0000],\n",
      "       device='cuda:0')\n",
      " \n",
      "True:\n",
      "tensor([0.0900, 0.3100, 0.6700, 0.8800, 1.0000, 1.0000, 1.0000, 1.0000],\n",
      "       device='cuda:0')\n",
      "Predicted:\n",
      "tensor([0.1998, 0.4299, 0.7116, 0.9213, 1.0000, 1.0000, 1.0000, 1.0000],\n",
      "       device='cuda:0')\n",
      " \n",
      "True:\n",
      "tensor([0.2800, 0.5400, 1.0000, 1.0000, 1.0000, 1.0000, 1.0000, 1.0000],\n",
      "       device='cuda:0')\n",
      "Predicted:\n",
      "tensor([0.3185, 0.5801, 0.8442, 1.0000, 1.0000, 1.0000, 1.0000, 1.0000],\n",
      "       device='cuda:0')\n",
      " \n",
      "True:\n",
      "tensor([0.3000, 0.5000, 0.8500, 1.0000, 1.0000, 1.0000, 1.0000, 1.0000],\n",
      "       device='cuda:0')\n",
      "Predicted:\n",
      "tensor([0.2043, 0.4353, 0.7213, 0.9338, 1.0000, 1.0000, 1.0000, 1.0000],\n",
      "       device='cuda:0')\n",
      " \n",
      "True:\n",
      "tensor([0.3000, 0.4200, 0.5400, 0.7400, 1.0000, 1.0000, 1.0000, 1.0000],\n",
      "       device='cuda:0')\n",
      "Predicted:\n",
      "tensor([0.2160, 0.4454, 0.7207, 0.9222, 1.0000, 1.0000, 1.0000, 1.0000],\n",
      "       device='cuda:0')\n",
      " \n",
      "True:\n",
      "tensor([0.3400, 0.4000, 0.5400, 0.7000, 1.0000, 1.0000, 1.0000, 1.0000],\n",
      "       device='cuda:0')\n",
      "Predicted:\n",
      "tensor([0.2840, 0.5222, 0.7869, 0.9646, 1.0000, 1.0000, 1.0000, 1.0000],\n",
      "       device='cuda:0')\n",
      " \n",
      "True:\n",
      "tensor([0.2700, 0.4800, 0.6800, 1.0000, 1.0000, 1.0000, 1.0000, 1.0000],\n",
      "       device='cuda:0')\n",
      "Predicted:\n",
      "tensor([0.1610, 0.3607, 0.6353, 0.8731, 1.0000, 1.0000, 1.0000, 1.0000],\n",
      "       device='cuda:0')\n",
      " \n",
      "True:\n",
      "tensor([0.2700, 0.5000, 0.7000, 0.9000, 1.0000, 1.0000, 1.0000, 1.0000],\n",
      "       device='cuda:0')\n",
      "Predicted:\n",
      "tensor([0.2826, 0.5481, 0.8269, 1.0000, 1.0000, 1.0000, 1.0000, 1.0000],\n",
      "       device='cuda:0')\n",
      " \n",
      "True:\n",
      "tensor([0.3200, 0.6700, 1.0000, 1.0000, 1.0000, 1.0000, 1.0000, 1.0000],\n",
      "       device='cuda:0')\n",
      "Predicted:\n",
      "tensor([0.2393, 0.4759, 0.7526, 0.9475, 1.0000, 1.0000, 1.0000, 1.0000],\n",
      "       device='cuda:0')\n",
      " \n",
      "True:\n",
      "tensor([0.3400, 0.4800, 0.7400, 1.0000, 1.0000, 1.0000, 1.0000, 1.0000],\n",
      "       device='cuda:0')\n",
      "Predicted:\n",
      "tensor([0.2445, 0.4801, 0.7549, 0.9481, 1.0000, 1.0000, 1.0000, 1.0000],\n",
      "       device='cuda:0')\n",
      " \n",
      "True:\n",
      "tensor([0.3400, 0.4000, 1.0000, 1.0000, 1.0000, 1.0000, 1.0000, 1.0000],\n",
      "       device='cuda:0')\n",
      "Predicted:\n",
      "tensor([0.2132, 0.4383, 0.7165, 0.9254, 1.0000, 1.0000, 1.0000, 1.0000],\n",
      "       device='cuda:0')\n",
      " \n",
      "True:\n",
      "tensor([0.1200, 0.3100, 0.7000, 0.9600, 1.0000, 1.0000, 1.0000, 1.0000],\n",
      "       device='cuda:0')\n",
      "Predicted:\n",
      "tensor([0.1756, 0.3958, 0.6853, 0.9138, 1.0000, 1.0000, 1.0000, 1.0000],\n",
      "       device='cuda:0')\n",
      " \n",
      "True:\n",
      "tensor([0.3100, 0.4200, 0.8000, 1.0000, 1.0000, 1.0000, 1.0000, 1.0000],\n",
      "       device='cuda:0')\n",
      "Predicted:\n",
      "tensor([0.2899, 0.5341, 0.7990, 0.9726, 1.0000, 1.0000, 1.0000, 1.0000],\n",
      "       device='cuda:0')\n",
      " \n",
      "True:\n",
      "tensor([0.3000, 0.5300, 0.7000, 1.0000, 1.0000, 1.0000, 1.0000, 1.0000],\n",
      "       device='cuda:0')\n",
      "Predicted:\n",
      "tensor([0.2382, 0.4824, 0.7650, 0.9606, 1.0000, 1.0000, 1.0000, 1.0000],\n",
      "       device='cuda:0')\n",
      " \n",
      "True:\n",
      "tensor([0.1100, 0.2000, 0.4200, 0.5400, 1.0000, 1.0000, 1.0000, 1.0000],\n",
      "       device='cuda:0')\n",
      "Predicted:\n",
      "tensor([0.1210, 0.3004, 0.5828, 0.8501, 1.0000, 1.0000, 1.0000, 1.0000],\n",
      "       device='cuda:0')\n",
      " \n",
      "True:\n",
      "tensor([0.1500, 0.2900, 0.7400, 1.0000, 1.0000, 1.0000, 1.0000, 1.0000],\n",
      "       device='cuda:0')\n",
      "Predicted:\n",
      "tensor([0.2140, 0.4479, 0.7334, 0.9421, 1.0000, 1.0000, 1.0000, 1.0000],\n",
      "       device='cuda:0')\n",
      " \n",
      "True:\n",
      "tensor([0.3000, 0.3700, 0.5200, 1.0000, 1.0000, 1.0000, 1.0000, 1.0000],\n",
      "       device='cuda:0')\n",
      "Predicted:\n",
      "tensor([0.2244, 0.4640, 0.7500, 0.9527, 1.0000, 1.0000, 1.0000, 1.0000],\n",
      "       device='cuda:0')\n",
      " \n",
      "True:\n",
      "tensor([0.3000, 0.9000, 1.0000, 1.0000, 1.0000, 1.0000, 1.0000, 1.0000],\n",
      "       device='cuda:0')\n",
      "Predicted:\n",
      "tensor([0.2478, 0.4806, 0.7491, 0.9371, 1.0000, 1.0000, 1.0000, 1.0000],\n",
      "       device='cuda:0')\n",
      " \n",
      "True:\n",
      "tensor([0.2900, 0.4600, 0.6800, 1.0000, 1.0000, 1.0000, 1.0000, 1.0000],\n",
      "       device='cuda:0')\n",
      "Predicted:\n",
      "tensor([0.2869, 0.5484, 0.8218, 1.0000, 1.0000, 1.0000, 1.0000, 1.0000],\n",
      "       device='cuda:0')\n",
      " \n",
      "True:\n",
      "tensor([0.0600, 0.2700, 0.5400, 0.6800, 0.9600, 1.0000, 1.0000, 1.0000],\n",
      "       device='cuda:0')\n",
      "Predicted:\n",
      "tensor([0.1487, 0.3532, 0.6434, 0.8907, 1.0000, 1.0000, 1.0000, 1.0000],\n",
      "       device='cuda:0')\n",
      " \n",
      "True:\n",
      "tensor([0.2700, 0.3700, 0.7400, 1.0000, 1.0000, 1.0000, 1.0000, 1.0000],\n",
      "       device='cuda:0')\n",
      "Predicted:\n",
      "tensor([0.2528, 0.4774, 0.7442, 0.9360, 1.0000, 1.0000, 1.0000, 1.0000],\n",
      "       device='cuda:0')\n",
      " \n",
      "True:\n",
      "tensor([0.1400, 0.3400, 0.4700, 0.5200, 0.6000, 1.0000, 1.0000, 1.0000],\n",
      "       device='cuda:0')\n",
      "Predicted:\n",
      "tensor([0.1711, 0.3687, 0.6348, 0.8633, 1.0000, 1.0000, 1.0000, 1.0000],\n",
      "       device='cuda:0')\n",
      " \n",
      "True:\n",
      "tensor([0.4100, 0.5500, 0.7000, 1.0000, 1.0000, 1.0000, 1.0000, 1.0000],\n",
      "       device='cuda:0')\n",
      "Predicted:\n",
      "tensor([0.2919, 0.5532, 0.8237, 1.0000, 1.0000, 1.0000, 1.0000, 1.0000],\n",
      "       device='cuda:0')\n",
      " \n",
      "True:\n",
      "tensor([0.3000, 0.8000, 1.0000, 1.0000, 1.0000, 1.0000, 1.0000, 1.0000],\n",
      "       device='cuda:0')\n",
      "Predicted:\n",
      "tensor([0.2937, 0.5512, 0.8225, 1.0000, 1.0000, 1.0000, 1.0000, 1.0000],\n",
      "       device='cuda:0')\n",
      " \n",
      "True:\n",
      "tensor([0.1300, 0.2800, 1.0000, 1.0000, 1.0000, 1.0000, 1.0000, 1.0000],\n",
      "       device='cuda:0')\n",
      "Predicted:\n",
      "tensor([0.2610, 0.5054, 0.7757, 0.9558, 1.0000, 1.0000, 1.0000, 1.0000],\n",
      "       device='cuda:0')\n",
      " \n",
      "True:\n",
      "tensor([0.3400, 0.5200, 1.0000, 1.0000, 1.0000, 1.0000, 1.0000, 1.0000],\n",
      "       device='cuda:0')\n",
      "Predicted:\n",
      "tensor([0.3037, 0.5570, 0.8209, 0.9883, 1.0000, 1.0000, 1.0000, 1.0000],\n",
      "       device='cuda:0')\n",
      " \n",
      "True:\n",
      "tensor([0.3200, 0.3500, 0.3800, 0.4900, 0.7400, 1.0000, 1.0000, 1.0000],\n",
      "       device='cuda:0')\n",
      "Predicted:\n",
      "tensor([0.2671, 0.4968, 0.7595, 0.9422, 1.0000, 1.0000, 1.0000, 1.0000],\n",
      "       device='cuda:0')\n",
      " \n",
      "True:\n",
      "tensor([0.3200, 0.7300, 1.0000, 1.0000, 1.0000, 1.0000, 1.0000, 1.0000],\n",
      "       device='cuda:0')\n",
      "Predicted:\n",
      "tensor([0.2518, 0.4944, 0.7680, 0.9530, 1.0000, 1.0000, 1.0000, 1.0000],\n",
      "       device='cuda:0')\n",
      " \n",
      "True:\n",
      "tensor([0.3300, 0.5000, 0.7000, 1.0000, 1.0000, 1.0000, 1.0000, 1.0000],\n",
      "       device='cuda:0')\n",
      "Predicted:\n",
      "tensor([0.2982, 0.5651, 0.8374, 1.0000, 1.0000, 1.0000, 1.0000, 1.0000],\n",
      "       device='cuda:0')\n",
      " \n",
      "True:\n",
      "tensor([0.3800, 1.0000, 1.0000, 1.0000, 1.0000, 1.0000, 1.0000, 1.0000],\n",
      "       device='cuda:0')\n",
      "Predicted:\n",
      "tensor([0.2912, 0.5460, 0.8118, 0.9795, 1.0000, 1.0000, 1.0000, 1.0000],\n",
      "       device='cuda:0')\n",
      " \n",
      "True:\n",
      "tensor([0.3200, 0.4600, 1.0000, 1.0000, 1.0000, 1.0000, 1.0000, 1.0000],\n",
      "       device='cuda:0')\n",
      "Predicted:\n",
      "tensor([0.1318, 0.3211, 0.6059, 0.8660, 1.0000, 1.0000, 1.0000, 1.0000],\n",
      "       device='cuda:0')\n",
      " \n",
      "True:\n",
      "tensor([0.3200, 0.4800, 0.6800, 1.0000, 1.0000, 1.0000, 1.0000, 1.0000],\n",
      "       device='cuda:0')\n",
      "Predicted:\n",
      "tensor([0.3207, 0.5837, 0.8503, 1.0000, 1.0000, 1.0000, 1.0000, 1.0000],\n",
      "       device='cuda:0')\n",
      " \n",
      "True:\n",
      "tensor([0.3300, 0.6800, 0.9600, 1.0000, 1.0000, 1.0000, 1.0000, 1.0000],\n",
      "       device='cuda:0')\n",
      "Predicted:\n",
      "tensor([0.2930, 0.5311, 0.7939, 0.9694, 1.0000, 1.0000, 1.0000, 1.0000],\n",
      "       device='cuda:0')\n",
      " \n",
      "True:\n",
      "tensor([0.3100, 0.4800, 0.7300, 1.0000, 1.0000, 1.0000, 1.0000, 1.0000],\n",
      "       device='cuda:0')\n",
      "Predicted:\n",
      "tensor([0.3200, 0.5881, 0.8587, 1.0000, 1.0000, 1.0000, 1.0000, 1.0000],\n",
      "       device='cuda:0')\n",
      " \n",
      "True:\n",
      "tensor([0.3300, 0.4800, 1.0000, 1.0000, 1.0000, 1.0000, 1.0000, 1.0000],\n",
      "       device='cuda:0')\n",
      "Predicted:\n",
      "tensor([0.2759, 0.5227, 0.7963, 0.9779, 1.0000, 1.0000, 1.0000, 1.0000],\n",
      "       device='cuda:0')\n",
      " \n",
      "True:\n",
      "tensor([0.2600, 0.5000, 1.0000, 1.0000, 1.0000, 1.0000, 1.0000, 1.0000],\n",
      "       device='cuda:0')\n",
      "Predicted:\n",
      "tensor([0.2549, 0.4998, 0.7769, 0.9637, 1.0000, 1.0000, 1.0000, 1.0000],\n",
      "       device='cuda:0')\n",
      " \n",
      "True:\n",
      "tensor([0.3200, 0.5300, 0.7400, 0.9800, 1.0000, 1.0000, 1.0000, 1.0000],\n",
      "       device='cuda:0')\n",
      "Predicted:\n",
      "tensor([0.2623, 0.4888, 0.7497, 0.9336, 1.0000, 1.0000, 1.0000, 1.0000],\n",
      "       device='cuda:0')\n",
      " \n",
      "True:\n",
      "tensor([0.1200, 0.4000, 0.5800, 0.8000, 1.0000, 1.0000, 1.0000, 1.0000],\n",
      "       device='cuda:0')\n",
      "Predicted:\n",
      "tensor([0.1687, 0.3805, 0.6645, 0.8974, 1.0000, 1.0000, 1.0000, 1.0000],\n",
      "       device='cuda:0')\n",
      " \n",
      "True:\n",
      "tensor([0.3700, 0.4800, 1.0000, 1.0000, 1.0000, 1.0000, 1.0000, 1.0000],\n",
      "       device='cuda:0')\n",
      "Predicted:\n",
      "tensor([0.2677, 0.5277, 0.8040, 0.9791, 1.0000, 1.0000, 1.0000, 1.0000],\n",
      "       device='cuda:0')\n",
      " \n",
      "True:\n",
      "tensor([0.3000, 0.5200, 1.0000, 1.0000, 1.0000, 1.0000, 1.0000, 1.0000],\n",
      "       device='cuda:0')\n",
      "Predicted:\n",
      "tensor([0.2476, 0.4933, 0.7774, 0.9729, 1.0000, 1.0000, 1.0000, 1.0000],\n",
      "       device='cuda:0')\n",
      " \n",
      "True:\n",
      "tensor([0.3400, 0.5300, 0.7000, 1.0000, 1.0000, 1.0000, 1.0000, 1.0000],\n",
      "       device='cuda:0')\n",
      "Predicted:\n",
      "tensor([0.2780, 0.5358, 0.8113, 0.9870, 1.0000, 1.0000, 1.0000, 1.0000],\n",
      "       device='cuda:0')\n",
      " \n",
      "True:\n",
      "tensor([0.2000, 0.2800, 0.6000, 1.0000, 1.0000, 1.0000, 1.0000, 1.0000],\n",
      "       device='cuda:0')\n",
      "Predicted:\n",
      "tensor([0.2213, 0.4443, 0.7169, 0.9211, 1.0000, 1.0000, 1.0000, 1.0000],\n",
      "       device='cuda:0')\n",
      " \n",
      "True:\n",
      "tensor([0.1200, 0.3000, 0.6100, 1.0000, 1.0000, 1.0000, 1.0000, 1.0000],\n",
      "       device='cuda:0')\n",
      "Predicted:\n",
      "tensor([0.2364, 0.4605, 0.7446, 0.9690, 1.0000, 1.0000, 1.0000, 1.0000],\n",
      "       device='cuda:0')\n",
      " \n",
      "True:\n",
      "tensor([0.3000, 0.7000, 1.0000, 1.0000, 1.0000, 1.0000, 1.0000, 1.0000],\n",
      "       device='cuda:0')\n",
      "Predicted:\n",
      "tensor([0.2457, 0.4793, 0.7531, 0.9466, 1.0000, 1.0000, 1.0000, 1.0000],\n",
      "       device='cuda:0')\n",
      " \n",
      "True:\n",
      "tensor([0.3300, 0.4300, 0.6000, 0.7200, 1.0000, 1.0000, 1.0000, 1.0000],\n",
      "       device='cuda:0')\n",
      "Predicted:\n",
      "tensor([0.2946, 0.5564, 0.8257, 1.0000, 1.0000, 1.0000, 1.0000, 1.0000],\n",
      "       device='cuda:0')\n",
      " \n",
      "True:\n",
      "tensor([0.0800, 0.3000, 0.5000, 0.6600, 0.7400, 1.0000, 1.0000, 1.0000],\n",
      "       device='cuda:0')\n",
      "Predicted:\n",
      "tensor([0.1718, 0.3566, 0.6068, 0.8342, 1.0000, 1.0000, 1.0000, 1.0000],\n",
      "       device='cuda:0')\n",
      " \n",
      "True:\n",
      "tensor([0.3000, 0.5000, 0.7000, 1.0000, 1.0000, 1.0000, 1.0000, 1.0000],\n",
      "       device='cuda:0')\n",
      "Predicted:\n",
      "tensor([0.2372, 0.4849, 0.7675, 0.9588, 1.0000, 1.0000, 1.0000, 1.0000],\n",
      "       device='cuda:0')\n",
      " \n",
      "True:\n",
      "tensor([0.2800, 0.4700, 1.0000, 1.0000, 1.0000, 1.0000, 1.0000, 1.0000],\n",
      "       device='cuda:0')\n",
      "Predicted:\n",
      "tensor([0.2420, 0.4765, 0.7519, 0.9468, 1.0000, 1.0000, 1.0000, 1.0000],\n",
      "       device='cuda:0')\n",
      " \n",
      "True:\n",
      "tensor([0.2800, 0.3800, 0.4900, 0.7400, 0.9800, 1.0000, 1.0000, 1.0000],\n",
      "       device='cuda:0')\n",
      "Predicted:\n",
      "tensor([0.3164, 0.5648, 0.8237, 0.9885, 1.0000, 1.0000, 1.0000, 1.0000],\n",
      "       device='cuda:0')\n",
      " \n",
      "True:\n",
      "tensor([0.1200, 0.3000, 0.5300, 1.0000, 1.0000, 1.0000, 1.0000, 1.0000],\n",
      "       device='cuda:0')\n",
      "Predicted:\n",
      "tensor([0.1848, 0.4095, 0.7000, 0.9237, 1.0000, 1.0000, 1.0000, 1.0000],\n",
      "       device='cuda:0')\n",
      " \n",
      "True:\n",
      "tensor([0.0900, 0.3000, 0.5100, 0.7400, 1.0000, 1.0000, 1.0000, 1.0000],\n",
      "       device='cuda:0')\n",
      "Predicted:\n",
      "tensor([0.1435, 0.3397, 0.6220, 0.8725, 1.0000, 1.0000, 1.0000, 1.0000],\n",
      "       device='cuda:0')\n",
      " \n"
     ]
    }
   ],
   "source": [
    "# LSTM\n",
    "for true_dep, pred_dep in zip(padded_true_depths, val_pred_depths):\n",
    "    print('True:')\n",
    "    print(true_dep)\n",
    "    print('Predicted:')\n",
    "    print(pred_dep)\n",
    "    print(' ')"
   ],
   "metadata": {
    "collapsed": false,
    "pycharm": {
     "name": "#%%\n"
    }
   }
  },
  {
   "cell_type": "code",
   "execution_count": 45,
   "outputs": [
    {
     "data": {
      "text/plain": "<Figure size 1512x432 with 1 Axes>",
      "image/svg+xml": "<?xml version=\"1.0\" encoding=\"utf-8\" standalone=\"no\"?>\n<!DOCTYPE svg PUBLIC \"-//W3C//DTD SVG 1.1//EN\"\n  \"http://www.w3.org/Graphics/SVG/1.1/DTD/svg11.dtd\">\n<svg xmlns:xlink=\"http://www.w3.org/1999/xlink\" width=\"536.722917pt\" height=\"423.274375pt\" viewBox=\"0 0 536.722917 423.274375\" xmlns=\"http://www.w3.org/2000/svg\" version=\"1.1\">\n <metadata>\n  <rdf:RDF xmlns:dc=\"http://purl.org/dc/elements/1.1/\" xmlns:cc=\"http://creativecommons.org/ns#\" xmlns:rdf=\"http://www.w3.org/1999/02/22-rdf-syntax-ns#\">\n   <cc:Work>\n    <dc:type rdf:resource=\"http://purl.org/dc/dcmitype/StillImage\"/>\n    <dc:date>2025-01-28T16:08:08.737224</dc:date>\n    <dc:format>image/svg+xml</dc:format>\n    <dc:creator>\n     <cc:Agent>\n      <dc:title>Matplotlib v3.5.1, https://matplotlib.org/</dc:title>\n     </cc:Agent>\n    </dc:creator>\n   </cc:Work>\n  </rdf:RDF>\n </metadata>\n <defs>\n  <style type=\"text/css\">*{stroke-linejoin: round; stroke-linecap: butt}</style>\n </defs>\n <g id=\"figure_1\">\n  <g id=\"patch_1\">\n   <path d=\"M 0 423.274375 \nL 536.722917 423.274375 \nL 536.722917 0 \nL 0 0 \nL 0 423.274375 \nz\n\" style=\"fill: none\"/>\n  </g>\n  <g id=\"axes_1\">\n   <g id=\"patch_2\">\n    <path d=\"M 56.50625 385.718125 \nL 529.522917 385.718125 \nL 529.522917 22.318125 \nL 56.50625 22.318125 \nz\n\" style=\"fill: #ffffff\"/>\n   </g>\n   <g id=\"matplotlib.axis_1\">\n    <g id=\"xtick_1\">\n     <g id=\"line2d_1\">\n      <path d=\"M 121.008523 385.718125 \nL 121.008523 22.318125 \n\" clip-path=\"url(#p7211b8c331)\" style=\"fill: none; stroke: #b0b0b0; stroke-width: 0.8; stroke-linecap: square\"/>\n     </g>\n     <g id=\"line2d_2\">\n      <defs>\n       <path id=\"m1fae72ca7d\" d=\"M 0 0 \nL 0 3.5 \n\" style=\"stroke: #000000; stroke-width: 0.8\"/>\n      </defs>\n      <g>\n       <use xlink:href=\"#m1fae72ca7d\" x=\"121.008523\" y=\"385.718125\" style=\"stroke: #000000; stroke-width: 0.8\"/>\n      </g>\n     </g>\n     <g id=\"text_1\">\n      <!-- 2 -->\n      <g transform=\"translate(117.827273 400.316562)scale(0.1 -0.1)\">\n       <defs>\n        <path id=\"DejaVuSans-32\" d=\"M 1228 531 \nL 3431 531 \nL 3431 0 \nL 469 0 \nL 469 531 \nQ 828 903 1448 1529 \nQ 2069 2156 2228 2338 \nQ 2531 2678 2651 2914 \nQ 2772 3150 2772 3378 \nQ 2772 3750 2511 3984 \nQ 2250 4219 1831 4219 \nQ 1534 4219 1204 4116 \nQ 875 4013 500 3803 \nL 500 4441 \nQ 881 4594 1212 4672 \nQ 1544 4750 1819 4750 \nQ 2544 4750 2975 4387 \nQ 3406 4025 3406 3419 \nQ 3406 3131 3298 2873 \nQ 3191 2616 2906 2266 \nQ 2828 2175 2409 1742 \nQ 1991 1309 1228 531 \nz\n\" transform=\"scale(0.015625)\"/>\n       </defs>\n       <use xlink:href=\"#DejaVuSans-32\"/>\n      </g>\n     </g>\n    </g>\n    <g id=\"xtick_2\">\n     <g id=\"line2d_3\">\n      <path d=\"M 207.011553 385.718125 \nL 207.011553 22.318125 \n\" clip-path=\"url(#p7211b8c331)\" style=\"fill: none; stroke: #b0b0b0; stroke-width: 0.8; stroke-linecap: square\"/>\n     </g>\n     <g id=\"line2d_4\">\n      <g>\n       <use xlink:href=\"#m1fae72ca7d\" x=\"207.011553\" y=\"385.718125\" style=\"stroke: #000000; stroke-width: 0.8\"/>\n      </g>\n     </g>\n     <g id=\"text_2\">\n      <!-- 4 -->\n      <g transform=\"translate(203.830303 400.316562)scale(0.1 -0.1)\">\n       <defs>\n        <path id=\"DejaVuSans-34\" d=\"M 2419 4116 \nL 825 1625 \nL 2419 1625 \nL 2419 4116 \nz\nM 2253 4666 \nL 3047 4666 \nL 3047 1625 \nL 3713 1625 \nL 3713 1100 \nL 3047 1100 \nL 3047 0 \nL 2419 0 \nL 2419 1100 \nL 313 1100 \nL 313 1709 \nL 2253 4666 \nz\n\" transform=\"scale(0.015625)\"/>\n       </defs>\n       <use xlink:href=\"#DejaVuSans-34\"/>\n      </g>\n     </g>\n    </g>\n    <g id=\"xtick_3\">\n     <g id=\"line2d_5\">\n      <path d=\"M 293.014583 385.718125 \nL 293.014583 22.318125 \n\" clip-path=\"url(#p7211b8c331)\" style=\"fill: none; stroke: #b0b0b0; stroke-width: 0.8; stroke-linecap: square\"/>\n     </g>\n     <g id=\"line2d_6\">\n      <g>\n       <use xlink:href=\"#m1fae72ca7d\" x=\"293.014583\" y=\"385.718125\" style=\"stroke: #000000; stroke-width: 0.8\"/>\n      </g>\n     </g>\n     <g id=\"text_3\">\n      <!-- 6 -->\n      <g transform=\"translate(289.833333 400.316562)scale(0.1 -0.1)\">\n       <defs>\n        <path id=\"DejaVuSans-36\" d=\"M 2113 2584 \nQ 1688 2584 1439 2293 \nQ 1191 2003 1191 1497 \nQ 1191 994 1439 701 \nQ 1688 409 2113 409 \nQ 2538 409 2786 701 \nQ 3034 994 3034 1497 \nQ 3034 2003 2786 2293 \nQ 2538 2584 2113 2584 \nz\nM 3366 4563 \nL 3366 3988 \nQ 3128 4100 2886 4159 \nQ 2644 4219 2406 4219 \nQ 1781 4219 1451 3797 \nQ 1122 3375 1075 2522 \nQ 1259 2794 1537 2939 \nQ 1816 3084 2150 3084 \nQ 2853 3084 3261 2657 \nQ 3669 2231 3669 1497 \nQ 3669 778 3244 343 \nQ 2819 -91 2113 -91 \nQ 1303 -91 875 529 \nQ 447 1150 447 2328 \nQ 447 3434 972 4092 \nQ 1497 4750 2381 4750 \nQ 2619 4750 2861 4703 \nQ 3103 4656 3366 4563 \nz\n\" transform=\"scale(0.015625)\"/>\n       </defs>\n       <use xlink:href=\"#DejaVuSans-36\"/>\n      </g>\n     </g>\n    </g>\n    <g id=\"xtick_4\">\n     <g id=\"line2d_7\">\n      <path d=\"M 379.017614 385.718125 \nL 379.017614 22.318125 \n\" clip-path=\"url(#p7211b8c331)\" style=\"fill: none; stroke: #b0b0b0; stroke-width: 0.8; stroke-linecap: square\"/>\n     </g>\n     <g id=\"line2d_8\">\n      <g>\n       <use xlink:href=\"#m1fae72ca7d\" x=\"379.017614\" y=\"385.718125\" style=\"stroke: #000000; stroke-width: 0.8\"/>\n      </g>\n     </g>\n     <g id=\"text_4\">\n      <!-- 8 -->\n      <g transform=\"translate(375.836364 400.316562)scale(0.1 -0.1)\">\n       <defs>\n        <path id=\"DejaVuSans-38\" d=\"M 2034 2216 \nQ 1584 2216 1326 1975 \nQ 1069 1734 1069 1313 \nQ 1069 891 1326 650 \nQ 1584 409 2034 409 \nQ 2484 409 2743 651 \nQ 3003 894 3003 1313 \nQ 3003 1734 2745 1975 \nQ 2488 2216 2034 2216 \nz\nM 1403 2484 \nQ 997 2584 770 2862 \nQ 544 3141 544 3541 \nQ 544 4100 942 4425 \nQ 1341 4750 2034 4750 \nQ 2731 4750 3128 4425 \nQ 3525 4100 3525 3541 \nQ 3525 3141 3298 2862 \nQ 3072 2584 2669 2484 \nQ 3125 2378 3379 2068 \nQ 3634 1759 3634 1313 \nQ 3634 634 3220 271 \nQ 2806 -91 2034 -91 \nQ 1263 -91 848 271 \nQ 434 634 434 1313 \nQ 434 1759 690 2068 \nQ 947 2378 1403 2484 \nz\nM 1172 3481 \nQ 1172 3119 1398 2916 \nQ 1625 2713 2034 2713 \nQ 2441 2713 2670 2916 \nQ 2900 3119 2900 3481 \nQ 2900 3844 2670 4047 \nQ 2441 4250 2034 4250 \nQ 1625 4250 1398 4047 \nQ 1172 3844 1172 3481 \nz\n\" transform=\"scale(0.015625)\"/>\n       </defs>\n       <use xlink:href=\"#DejaVuSans-38\"/>\n      </g>\n     </g>\n    </g>\n    <g id=\"xtick_5\">\n     <g id=\"line2d_9\">\n      <path d=\"M 465.020644 385.718125 \nL 465.020644 22.318125 \n\" clip-path=\"url(#p7211b8c331)\" style=\"fill: none; stroke: #b0b0b0; stroke-width: 0.8; stroke-linecap: square\"/>\n     </g>\n     <g id=\"line2d_10\">\n      <g>\n       <use xlink:href=\"#m1fae72ca7d\" x=\"465.020644\" y=\"385.718125\" style=\"stroke: #000000; stroke-width: 0.8\"/>\n      </g>\n     </g>\n     <g id=\"text_5\">\n      <!-- 10 -->\n      <g transform=\"translate(458.658144 400.316562)scale(0.1 -0.1)\">\n       <defs>\n        <path id=\"DejaVuSans-31\" d=\"M 794 531 \nL 1825 531 \nL 1825 4091 \nL 703 3866 \nL 703 4441 \nL 1819 4666 \nL 2450 4666 \nL 2450 531 \nL 3481 531 \nL 3481 0 \nL 794 0 \nL 794 531 \nz\n\" transform=\"scale(0.015625)\"/>\n        <path id=\"DejaVuSans-30\" d=\"M 2034 4250 \nQ 1547 4250 1301 3770 \nQ 1056 3291 1056 2328 \nQ 1056 1369 1301 889 \nQ 1547 409 2034 409 \nQ 2525 409 2770 889 \nQ 3016 1369 3016 2328 \nQ 3016 3291 2770 3770 \nQ 2525 4250 2034 4250 \nz\nM 2034 4750 \nQ 2819 4750 3233 4129 \nQ 3647 3509 3647 2328 \nQ 3647 1150 3233 529 \nQ 2819 -91 2034 -91 \nQ 1250 -91 836 529 \nQ 422 1150 422 2328 \nQ 422 3509 836 4129 \nQ 1250 4750 2034 4750 \nz\n\" transform=\"scale(0.015625)\"/>\n       </defs>\n       <use xlink:href=\"#DejaVuSans-31\"/>\n       <use xlink:href=\"#DejaVuSans-30\" x=\"63.623047\"/>\n      </g>\n     </g>\n    </g>\n    <g id=\"text_6\">\n     <!-- Epoch -->\n     <g transform=\"translate(277.703646 413.994687)scale(0.1 -0.1)\">\n      <defs>\n       <path id=\"DejaVuSans-45\" d=\"M 628 4666 \nL 3578 4666 \nL 3578 4134 \nL 1259 4134 \nL 1259 2753 \nL 3481 2753 \nL 3481 2222 \nL 1259 2222 \nL 1259 531 \nL 3634 531 \nL 3634 0 \nL 628 0 \nL 628 4666 \nz\n\" transform=\"scale(0.015625)\"/>\n       <path id=\"DejaVuSans-70\" d=\"M 1159 525 \nL 1159 -1331 \nL 581 -1331 \nL 581 3500 \nL 1159 3500 \nL 1159 2969 \nQ 1341 3281 1617 3432 \nQ 1894 3584 2278 3584 \nQ 2916 3584 3314 3078 \nQ 3713 2572 3713 1747 \nQ 3713 922 3314 415 \nQ 2916 -91 2278 -91 \nQ 1894 -91 1617 61 \nQ 1341 213 1159 525 \nz\nM 3116 1747 \nQ 3116 2381 2855 2742 \nQ 2594 3103 2138 3103 \nQ 1681 3103 1420 2742 \nQ 1159 2381 1159 1747 \nQ 1159 1113 1420 752 \nQ 1681 391 2138 391 \nQ 2594 391 2855 752 \nQ 3116 1113 3116 1747 \nz\n\" transform=\"scale(0.015625)\"/>\n       <path id=\"DejaVuSans-6f\" d=\"M 1959 3097 \nQ 1497 3097 1228 2736 \nQ 959 2375 959 1747 \nQ 959 1119 1226 758 \nQ 1494 397 1959 397 \nQ 2419 397 2687 759 \nQ 2956 1122 2956 1747 \nQ 2956 2369 2687 2733 \nQ 2419 3097 1959 3097 \nz\nM 1959 3584 \nQ 2709 3584 3137 3096 \nQ 3566 2609 3566 1747 \nQ 3566 888 3137 398 \nQ 2709 -91 1959 -91 \nQ 1206 -91 779 398 \nQ 353 888 353 1747 \nQ 353 2609 779 3096 \nQ 1206 3584 1959 3584 \nz\n\" transform=\"scale(0.015625)\"/>\n       <path id=\"DejaVuSans-63\" d=\"M 3122 3366 \nL 3122 2828 \nQ 2878 2963 2633 3030 \nQ 2388 3097 2138 3097 \nQ 1578 3097 1268 2742 \nQ 959 2388 959 1747 \nQ 959 1106 1268 751 \nQ 1578 397 2138 397 \nQ 2388 397 2633 464 \nQ 2878 531 3122 666 \nL 3122 134 \nQ 2881 22 2623 -34 \nQ 2366 -91 2075 -91 \nQ 1284 -91 818 406 \nQ 353 903 353 1747 \nQ 353 2603 823 3093 \nQ 1294 3584 2113 3584 \nQ 2378 3584 2631 3529 \nQ 2884 3475 3122 3366 \nz\n\" transform=\"scale(0.015625)\"/>\n       <path id=\"DejaVuSans-68\" d=\"M 3513 2113 \nL 3513 0 \nL 2938 0 \nL 2938 2094 \nQ 2938 2591 2744 2837 \nQ 2550 3084 2163 3084 \nQ 1697 3084 1428 2787 \nQ 1159 2491 1159 1978 \nL 1159 0 \nL 581 0 \nL 581 4863 \nL 1159 4863 \nL 1159 2956 \nQ 1366 3272 1645 3428 \nQ 1925 3584 2291 3584 \nQ 2894 3584 3203 3211 \nQ 3513 2838 3513 2113 \nz\n\" transform=\"scale(0.015625)\"/>\n      </defs>\n      <use xlink:href=\"#DejaVuSans-45\"/>\n      <use xlink:href=\"#DejaVuSans-70\" x=\"63.183594\"/>\n      <use xlink:href=\"#DejaVuSans-6f\" x=\"126.660156\"/>\n      <use xlink:href=\"#DejaVuSans-63\" x=\"187.841797\"/>\n      <use xlink:href=\"#DejaVuSans-68\" x=\"242.822266\"/>\n     </g>\n    </g>\n   </g>\n   <g id=\"matplotlib.axis_2\">\n    <g id=\"ytick_1\">\n     <g id=\"line2d_11\">\n      <path d=\"M 56.50625 384.327563 \nL 529.522917 384.327563 \n\" clip-path=\"url(#p7211b8c331)\" style=\"fill: none; stroke: #b0b0b0; stroke-width: 0.8; stroke-linecap: square\"/>\n     </g>\n     <g id=\"line2d_12\">\n      <defs>\n       <path id=\"me55a62be8b\" d=\"M 0 0 \nL -3.5 0 \n\" style=\"stroke: #000000; stroke-width: 0.8\"/>\n      </defs>\n      <g>\n       <use xlink:href=\"#me55a62be8b\" x=\"56.50625\" y=\"384.327563\" style=\"stroke: #000000; stroke-width: 0.8\"/>\n      </g>\n     </g>\n     <g id=\"text_7\">\n      <!-- 0.010 -->\n      <g transform=\"translate(20.878125 388.126781)scale(0.1 -0.1)\">\n       <defs>\n        <path id=\"DejaVuSans-2e\" d=\"M 684 794 \nL 1344 794 \nL 1344 0 \nL 684 0 \nL 684 794 \nz\n\" transform=\"scale(0.015625)\"/>\n       </defs>\n       <use xlink:href=\"#DejaVuSans-30\"/>\n       <use xlink:href=\"#DejaVuSans-2e\" x=\"63.623047\"/>\n       <use xlink:href=\"#DejaVuSans-30\" x=\"95.410156\"/>\n       <use xlink:href=\"#DejaVuSans-31\" x=\"159.033203\"/>\n       <use xlink:href=\"#DejaVuSans-30\" x=\"222.65625\"/>\n      </g>\n     </g>\n    </g>\n    <g id=\"ytick_2\">\n     <g id=\"line2d_13\">\n      <path d=\"M 56.50625 343.931541 \nL 529.522917 343.931541 \n\" clip-path=\"url(#p7211b8c331)\" style=\"fill: none; stroke: #b0b0b0; stroke-width: 0.8; stroke-linecap: square\"/>\n     </g>\n     <g id=\"line2d_14\">\n      <g>\n       <use xlink:href=\"#me55a62be8b\" x=\"56.50625\" y=\"343.931541\" style=\"stroke: #000000; stroke-width: 0.8\"/>\n      </g>\n     </g>\n     <g id=\"text_8\">\n      <!-- 0.012 -->\n      <g transform=\"translate(20.878125 347.73076)scale(0.1 -0.1)\">\n       <use xlink:href=\"#DejaVuSans-30\"/>\n       <use xlink:href=\"#DejaVuSans-2e\" x=\"63.623047\"/>\n       <use xlink:href=\"#DejaVuSans-30\" x=\"95.410156\"/>\n       <use xlink:href=\"#DejaVuSans-31\" x=\"159.033203\"/>\n       <use xlink:href=\"#DejaVuSans-32\" x=\"222.65625\"/>\n      </g>\n     </g>\n    </g>\n    <g id=\"ytick_3\">\n     <g id=\"line2d_15\">\n      <path d=\"M 56.50625 303.53552 \nL 529.522917 303.53552 \n\" clip-path=\"url(#p7211b8c331)\" style=\"fill: none; stroke: #b0b0b0; stroke-width: 0.8; stroke-linecap: square\"/>\n     </g>\n     <g id=\"line2d_16\">\n      <g>\n       <use xlink:href=\"#me55a62be8b\" x=\"56.50625\" y=\"303.53552\" style=\"stroke: #000000; stroke-width: 0.8\"/>\n      </g>\n     </g>\n     <g id=\"text_9\">\n      <!-- 0.014 -->\n      <g transform=\"translate(20.878125 307.334739)scale(0.1 -0.1)\">\n       <use xlink:href=\"#DejaVuSans-30\"/>\n       <use xlink:href=\"#DejaVuSans-2e\" x=\"63.623047\"/>\n       <use xlink:href=\"#DejaVuSans-30\" x=\"95.410156\"/>\n       <use xlink:href=\"#DejaVuSans-31\" x=\"159.033203\"/>\n       <use xlink:href=\"#DejaVuSans-34\" x=\"222.65625\"/>\n      </g>\n     </g>\n    </g>\n    <g id=\"ytick_4\">\n     <g id=\"line2d_17\">\n      <path d=\"M 56.50625 263.139499 \nL 529.522917 263.139499 \n\" clip-path=\"url(#p7211b8c331)\" style=\"fill: none; stroke: #b0b0b0; stroke-width: 0.8; stroke-linecap: square\"/>\n     </g>\n     <g id=\"line2d_18\">\n      <g>\n       <use xlink:href=\"#me55a62be8b\" x=\"56.50625\" y=\"263.139499\" style=\"stroke: #000000; stroke-width: 0.8\"/>\n      </g>\n     </g>\n     <g id=\"text_10\">\n      <!-- 0.016 -->\n      <g transform=\"translate(20.878125 266.938718)scale(0.1 -0.1)\">\n       <use xlink:href=\"#DejaVuSans-30\"/>\n       <use xlink:href=\"#DejaVuSans-2e\" x=\"63.623047\"/>\n       <use xlink:href=\"#DejaVuSans-30\" x=\"95.410156\"/>\n       <use xlink:href=\"#DejaVuSans-31\" x=\"159.033203\"/>\n       <use xlink:href=\"#DejaVuSans-36\" x=\"222.65625\"/>\n      </g>\n     </g>\n    </g>\n    <g id=\"ytick_5\">\n     <g id=\"line2d_19\">\n      <path d=\"M 56.50625 222.743477 \nL 529.522917 222.743477 \n\" clip-path=\"url(#p7211b8c331)\" style=\"fill: none; stroke: #b0b0b0; stroke-width: 0.8; stroke-linecap: square\"/>\n     </g>\n     <g id=\"line2d_20\">\n      <g>\n       <use xlink:href=\"#me55a62be8b\" x=\"56.50625\" y=\"222.743477\" style=\"stroke: #000000; stroke-width: 0.8\"/>\n      </g>\n     </g>\n     <g id=\"text_11\">\n      <!-- 0.018 -->\n      <g transform=\"translate(20.878125 226.542696)scale(0.1 -0.1)\">\n       <use xlink:href=\"#DejaVuSans-30\"/>\n       <use xlink:href=\"#DejaVuSans-2e\" x=\"63.623047\"/>\n       <use xlink:href=\"#DejaVuSans-30\" x=\"95.410156\"/>\n       <use xlink:href=\"#DejaVuSans-31\" x=\"159.033203\"/>\n       <use xlink:href=\"#DejaVuSans-38\" x=\"222.65625\"/>\n      </g>\n     </g>\n    </g>\n    <g id=\"ytick_6\">\n     <g id=\"line2d_21\">\n      <path d=\"M 56.50625 182.347456 \nL 529.522917 182.347456 \n\" clip-path=\"url(#p7211b8c331)\" style=\"fill: none; stroke: #b0b0b0; stroke-width: 0.8; stroke-linecap: square\"/>\n     </g>\n     <g id=\"line2d_22\">\n      <g>\n       <use xlink:href=\"#me55a62be8b\" x=\"56.50625\" y=\"182.347456\" style=\"stroke: #000000; stroke-width: 0.8\"/>\n      </g>\n     </g>\n     <g id=\"text_12\">\n      <!-- 0.020 -->\n      <g transform=\"translate(20.878125 186.146675)scale(0.1 -0.1)\">\n       <use xlink:href=\"#DejaVuSans-30\"/>\n       <use xlink:href=\"#DejaVuSans-2e\" x=\"63.623047\"/>\n       <use xlink:href=\"#DejaVuSans-30\" x=\"95.410156\"/>\n       <use xlink:href=\"#DejaVuSans-32\" x=\"159.033203\"/>\n       <use xlink:href=\"#DejaVuSans-30\" x=\"222.65625\"/>\n      </g>\n     </g>\n    </g>\n    <g id=\"ytick_7\">\n     <g id=\"line2d_23\">\n      <path d=\"M 56.50625 141.951435 \nL 529.522917 141.951435 \n\" clip-path=\"url(#p7211b8c331)\" style=\"fill: none; stroke: #b0b0b0; stroke-width: 0.8; stroke-linecap: square\"/>\n     </g>\n     <g id=\"line2d_24\">\n      <g>\n       <use xlink:href=\"#me55a62be8b\" x=\"56.50625\" y=\"141.951435\" style=\"stroke: #000000; stroke-width: 0.8\"/>\n      </g>\n     </g>\n     <g id=\"text_13\">\n      <!-- 0.022 -->\n      <g transform=\"translate(20.878125 145.750654)scale(0.1 -0.1)\">\n       <use xlink:href=\"#DejaVuSans-30\"/>\n       <use xlink:href=\"#DejaVuSans-2e\" x=\"63.623047\"/>\n       <use xlink:href=\"#DejaVuSans-30\" x=\"95.410156\"/>\n       <use xlink:href=\"#DejaVuSans-32\" x=\"159.033203\"/>\n       <use xlink:href=\"#DejaVuSans-32\" x=\"222.65625\"/>\n      </g>\n     </g>\n    </g>\n    <g id=\"ytick_8\">\n     <g id=\"line2d_25\">\n      <path d=\"M 56.50625 101.555414 \nL 529.522917 101.555414 \n\" clip-path=\"url(#p7211b8c331)\" style=\"fill: none; stroke: #b0b0b0; stroke-width: 0.8; stroke-linecap: square\"/>\n     </g>\n     <g id=\"line2d_26\">\n      <g>\n       <use xlink:href=\"#me55a62be8b\" x=\"56.50625\" y=\"101.555414\" style=\"stroke: #000000; stroke-width: 0.8\"/>\n      </g>\n     </g>\n     <g id=\"text_14\">\n      <!-- 0.024 -->\n      <g transform=\"translate(20.878125 105.354632)scale(0.1 -0.1)\">\n       <use xlink:href=\"#DejaVuSans-30\"/>\n       <use xlink:href=\"#DejaVuSans-2e\" x=\"63.623047\"/>\n       <use xlink:href=\"#DejaVuSans-30\" x=\"95.410156\"/>\n       <use xlink:href=\"#DejaVuSans-32\" x=\"159.033203\"/>\n       <use xlink:href=\"#DejaVuSans-34\" x=\"222.65625\"/>\n      </g>\n     </g>\n    </g>\n    <g id=\"ytick_9\">\n     <g id=\"line2d_27\">\n      <path d=\"M 56.50625 61.159392 \nL 529.522917 61.159392 \n\" clip-path=\"url(#p7211b8c331)\" style=\"fill: none; stroke: #b0b0b0; stroke-width: 0.8; stroke-linecap: square\"/>\n     </g>\n     <g id=\"line2d_28\">\n      <g>\n       <use xlink:href=\"#me55a62be8b\" x=\"56.50625\" y=\"61.159392\" style=\"stroke: #000000; stroke-width: 0.8\"/>\n      </g>\n     </g>\n     <g id=\"text_15\">\n      <!-- 0.026 -->\n      <g transform=\"translate(20.878125 64.958611)scale(0.1 -0.1)\">\n       <use xlink:href=\"#DejaVuSans-30\"/>\n       <use xlink:href=\"#DejaVuSans-2e\" x=\"63.623047\"/>\n       <use xlink:href=\"#DejaVuSans-30\" x=\"95.410156\"/>\n       <use xlink:href=\"#DejaVuSans-32\" x=\"159.033203\"/>\n       <use xlink:href=\"#DejaVuSans-36\" x=\"222.65625\"/>\n      </g>\n     </g>\n    </g>\n    <g id=\"text_16\">\n     <!-- Loss -->\n     <g transform=\"translate(14.798438 214.985312)rotate(-90)scale(0.1 -0.1)\">\n      <defs>\n       <path id=\"DejaVuSans-4c\" d=\"M 628 4666 \nL 1259 4666 \nL 1259 531 \nL 3531 531 \nL 3531 0 \nL 628 0 \nL 628 4666 \nz\n\" transform=\"scale(0.015625)\"/>\n       <path id=\"DejaVuSans-73\" d=\"M 2834 3397 \nL 2834 2853 \nQ 2591 2978 2328 3040 \nQ 2066 3103 1784 3103 \nQ 1356 3103 1142 2972 \nQ 928 2841 928 2578 \nQ 928 2378 1081 2264 \nQ 1234 2150 1697 2047 \nL 1894 2003 \nQ 2506 1872 2764 1633 \nQ 3022 1394 3022 966 \nQ 3022 478 2636 193 \nQ 2250 -91 1575 -91 \nQ 1294 -91 989 -36 \nQ 684 19 347 128 \nL 347 722 \nQ 666 556 975 473 \nQ 1284 391 1588 391 \nQ 1994 391 2212 530 \nQ 2431 669 2431 922 \nQ 2431 1156 2273 1281 \nQ 2116 1406 1581 1522 \nL 1381 1569 \nQ 847 1681 609 1914 \nQ 372 2147 372 2553 \nQ 372 3047 722 3315 \nQ 1072 3584 1716 3584 \nQ 2034 3584 2315 3537 \nQ 2597 3491 2834 3397 \nz\n\" transform=\"scale(0.015625)\"/>\n      </defs>\n      <use xlink:href=\"#DejaVuSans-4c\"/>\n      <use xlink:href=\"#DejaVuSans-6f\" x=\"53.962891\"/>\n      <use xlink:href=\"#DejaVuSans-73\" x=\"115.144531\"/>\n      <use xlink:href=\"#DejaVuSans-73\" x=\"167.244141\"/>\n     </g>\n    </g>\n   </g>\n   <g id=\"line2d_29\">\n    <path d=\"M 78.007008 38.836307 \nL 121.008523 320.983496 \nL 164.010038 324.967258 \nL 207.011553 329.194148 \nL 250.013068 337.833535 \nL 293.014583 339.366885 \nL 336.016098 343.766502 \nL 379.017614 343.080014 \nL 422.019129 341.854711 \nL 465.020644 350.158767 \nL 508.022159 359.418379 \n\" clip-path=\"url(#p7211b8c331)\" style=\"fill: none; stroke: #0000ff; stroke-width: 1.5; stroke-linecap: square\"/>\n    <defs>\n     <path id=\"m48ea9b8e19\" d=\"M 0 3 \nC 0.795609 3 1.55874 2.683901 2.12132 2.12132 \nC 2.683901 1.55874 3 0.795609 3 0 \nC 3 -0.795609 2.683901 -1.55874 2.12132 -2.12132 \nC 1.55874 -2.683901 0.795609 -3 0 -3 \nC -0.795609 -3 -1.55874 -2.683901 -2.12132 -2.12132 \nC -2.683901 -1.55874 -3 -0.795609 -3 0 \nC -3 0.795609 -2.683901 1.55874 -2.12132 2.12132 \nC -1.55874 2.683901 -0.795609 3 0 3 \nz\n\" style=\"stroke: #0000ff\"/>\n    </defs>\n    <g clip-path=\"url(#p7211b8c331)\">\n     <use xlink:href=\"#m48ea9b8e19\" x=\"78.007008\" y=\"38.836307\" style=\"fill: #0000ff; stroke: #0000ff\"/>\n     <use xlink:href=\"#m48ea9b8e19\" x=\"121.008523\" y=\"320.983496\" style=\"fill: #0000ff; stroke: #0000ff\"/>\n     <use xlink:href=\"#m48ea9b8e19\" x=\"164.010038\" y=\"324.967258\" style=\"fill: #0000ff; stroke: #0000ff\"/>\n     <use xlink:href=\"#m48ea9b8e19\" x=\"207.011553\" y=\"329.194148\" style=\"fill: #0000ff; stroke: #0000ff\"/>\n     <use xlink:href=\"#m48ea9b8e19\" x=\"250.013068\" y=\"337.833535\" style=\"fill: #0000ff; stroke: #0000ff\"/>\n     <use xlink:href=\"#m48ea9b8e19\" x=\"293.014583\" y=\"339.366885\" style=\"fill: #0000ff; stroke: #0000ff\"/>\n     <use xlink:href=\"#m48ea9b8e19\" x=\"336.016098\" y=\"343.766502\" style=\"fill: #0000ff; stroke: #0000ff\"/>\n     <use xlink:href=\"#m48ea9b8e19\" x=\"379.017614\" y=\"343.080014\" style=\"fill: #0000ff; stroke: #0000ff\"/>\n     <use xlink:href=\"#m48ea9b8e19\" x=\"422.019129\" y=\"341.854711\" style=\"fill: #0000ff; stroke: #0000ff\"/>\n     <use xlink:href=\"#m48ea9b8e19\" x=\"465.020644\" y=\"350.158767\" style=\"fill: #0000ff; stroke: #0000ff\"/>\n     <use xlink:href=\"#m48ea9b8e19\" x=\"508.022159\" y=\"359.418379\" style=\"fill: #0000ff; stroke: #0000ff\"/>\n    </g>\n   </g>\n   <g id=\"line2d_30\">\n    <path d=\"M 78.007008 323.820459 \nL 121.008523 342.839169 \nL 164.010038 336.521072 \nL 207.011553 361.843411 \nL 250.013068 360.936959 \nL 293.014583 333.97794 \nL 336.016098 365.96365 \nL 379.017614 332.578794 \nL 422.019129 356.61223 \nL 465.020644 364.444733 \nL 508.022159 369.199943 \n\" clip-path=\"url(#p7211b8c331)\" style=\"fill: none; stroke: #ff0000; stroke-width: 1.5; stroke-linecap: square\"/>\n    <defs>\n     <path id=\"m208cb3fe8f\" d=\"M 0 3 \nC 0.795609 3 1.55874 2.683901 2.12132 2.12132 \nC 2.683901 1.55874 3 0.795609 3 0 \nC 3 -0.795609 2.683901 -1.55874 2.12132 -2.12132 \nC 1.55874 -2.683901 0.795609 -3 0 -3 \nC -0.795609 -3 -1.55874 -2.683901 -2.12132 -2.12132 \nC -2.683901 -1.55874 -3 -0.795609 -3 0 \nC -3 0.795609 -2.683901 1.55874 -2.12132 2.12132 \nC -1.55874 2.683901 -0.795609 3 0 3 \nz\n\" style=\"stroke: #ff0000\"/>\n    </defs>\n    <g clip-path=\"url(#p7211b8c331)\">\n     <use xlink:href=\"#m208cb3fe8f\" x=\"78.007008\" y=\"323.820459\" style=\"fill: #ff0000; stroke: #ff0000\"/>\n     <use xlink:href=\"#m208cb3fe8f\" x=\"121.008523\" y=\"342.839169\" style=\"fill: #ff0000; stroke: #ff0000\"/>\n     <use xlink:href=\"#m208cb3fe8f\" x=\"164.010038\" y=\"336.521072\" style=\"fill: #ff0000; stroke: #ff0000\"/>\n     <use xlink:href=\"#m208cb3fe8f\" x=\"207.011553\" y=\"361.843411\" style=\"fill: #ff0000; stroke: #ff0000\"/>\n     <use xlink:href=\"#m208cb3fe8f\" x=\"250.013068\" y=\"360.936959\" style=\"fill: #ff0000; stroke: #ff0000\"/>\n     <use xlink:href=\"#m208cb3fe8f\" x=\"293.014583\" y=\"333.97794\" style=\"fill: #ff0000; stroke: #ff0000\"/>\n     <use xlink:href=\"#m208cb3fe8f\" x=\"336.016098\" y=\"365.96365\" style=\"fill: #ff0000; stroke: #ff0000\"/>\n     <use xlink:href=\"#m208cb3fe8f\" x=\"379.017614\" y=\"332.578794\" style=\"fill: #ff0000; stroke: #ff0000\"/>\n     <use xlink:href=\"#m208cb3fe8f\" x=\"422.019129\" y=\"356.61223\" style=\"fill: #ff0000; stroke: #ff0000\"/>\n     <use xlink:href=\"#m208cb3fe8f\" x=\"465.020644\" y=\"364.444733\" style=\"fill: #ff0000; stroke: #ff0000\"/>\n     <use xlink:href=\"#m208cb3fe8f\" x=\"508.022159\" y=\"369.199943\" style=\"fill: #ff0000; stroke: #ff0000\"/>\n    </g>\n   </g>\n   <g id=\"patch_3\">\n    <path d=\"M 56.50625 385.718125 \nL 56.50625 22.318125 \n\" style=\"fill: none; stroke: #000000; stroke-width: 0.8; stroke-linejoin: miter; stroke-linecap: square\"/>\n   </g>\n   <g id=\"patch_4\">\n    <path d=\"M 529.522917 385.718125 \nL 529.522917 22.318125 \n\" style=\"fill: none; stroke: #000000; stroke-width: 0.8; stroke-linejoin: miter; stroke-linecap: square\"/>\n   </g>\n   <g id=\"patch_5\">\n    <path d=\"M 56.50625 385.718125 \nL 529.522917 385.718125 \n\" style=\"fill: none; stroke: #000000; stroke-width: 0.8; stroke-linejoin: miter; stroke-linecap: square\"/>\n   </g>\n   <g id=\"patch_6\">\n    <path d=\"M 56.50625 22.318125 \nL 529.522917 22.318125 \n\" style=\"fill: none; stroke: #000000; stroke-width: 0.8; stroke-linejoin: miter; stroke-linecap: square\"/>\n   </g>\n   <g id=\"text_17\">\n    <!-- Loss Curves LSTM -->\n    <g transform=\"translate(239.218958 16.318125)scale(0.12 -0.12)\">\n     <defs>\n      <path id=\"DejaVuSans-20\" transform=\"scale(0.015625)\"/>\n      <path id=\"DejaVuSans-43\" d=\"M 4122 4306 \nL 4122 3641 \nQ 3803 3938 3442 4084 \nQ 3081 4231 2675 4231 \nQ 1875 4231 1450 3742 \nQ 1025 3253 1025 2328 \nQ 1025 1406 1450 917 \nQ 1875 428 2675 428 \nQ 3081 428 3442 575 \nQ 3803 722 4122 1019 \nL 4122 359 \nQ 3791 134 3420 21 \nQ 3050 -91 2638 -91 \nQ 1578 -91 968 557 \nQ 359 1206 359 2328 \nQ 359 3453 968 4101 \nQ 1578 4750 2638 4750 \nQ 3056 4750 3426 4639 \nQ 3797 4528 4122 4306 \nz\n\" transform=\"scale(0.015625)\"/>\n      <path id=\"DejaVuSans-75\" d=\"M 544 1381 \nL 544 3500 \nL 1119 3500 \nL 1119 1403 \nQ 1119 906 1312 657 \nQ 1506 409 1894 409 \nQ 2359 409 2629 706 \nQ 2900 1003 2900 1516 \nL 2900 3500 \nL 3475 3500 \nL 3475 0 \nL 2900 0 \nL 2900 538 \nQ 2691 219 2414 64 \nQ 2138 -91 1772 -91 \nQ 1169 -91 856 284 \nQ 544 659 544 1381 \nz\nM 1991 3584 \nL 1991 3584 \nz\n\" transform=\"scale(0.015625)\"/>\n      <path id=\"DejaVuSans-72\" d=\"M 2631 2963 \nQ 2534 3019 2420 3045 \nQ 2306 3072 2169 3072 \nQ 1681 3072 1420 2755 \nQ 1159 2438 1159 1844 \nL 1159 0 \nL 581 0 \nL 581 3500 \nL 1159 3500 \nL 1159 2956 \nQ 1341 3275 1631 3429 \nQ 1922 3584 2338 3584 \nQ 2397 3584 2469 3576 \nQ 2541 3569 2628 3553 \nL 2631 2963 \nz\n\" transform=\"scale(0.015625)\"/>\n      <path id=\"DejaVuSans-76\" d=\"M 191 3500 \nL 800 3500 \nL 1894 563 \nL 2988 3500 \nL 3597 3500 \nL 2284 0 \nL 1503 0 \nL 191 3500 \nz\n\" transform=\"scale(0.015625)\"/>\n      <path id=\"DejaVuSans-65\" d=\"M 3597 1894 \nL 3597 1613 \nL 953 1613 \nQ 991 1019 1311 708 \nQ 1631 397 2203 397 \nQ 2534 397 2845 478 \nQ 3156 559 3463 722 \nL 3463 178 \nQ 3153 47 2828 -22 \nQ 2503 -91 2169 -91 \nQ 1331 -91 842 396 \nQ 353 884 353 1716 \nQ 353 2575 817 3079 \nQ 1281 3584 2069 3584 \nQ 2775 3584 3186 3129 \nQ 3597 2675 3597 1894 \nz\nM 3022 2063 \nQ 3016 2534 2758 2815 \nQ 2500 3097 2075 3097 \nQ 1594 3097 1305 2825 \nQ 1016 2553 972 2059 \nL 3022 2063 \nz\n\" transform=\"scale(0.015625)\"/>\n      <path id=\"DejaVuSans-53\" d=\"M 3425 4513 \nL 3425 3897 \nQ 3066 4069 2747 4153 \nQ 2428 4238 2131 4238 \nQ 1616 4238 1336 4038 \nQ 1056 3838 1056 3469 \nQ 1056 3159 1242 3001 \nQ 1428 2844 1947 2747 \nL 2328 2669 \nQ 3034 2534 3370 2195 \nQ 3706 1856 3706 1288 \nQ 3706 609 3251 259 \nQ 2797 -91 1919 -91 \nQ 1588 -91 1214 -16 \nQ 841 59 441 206 \nL 441 856 \nQ 825 641 1194 531 \nQ 1563 422 1919 422 \nQ 2459 422 2753 634 \nQ 3047 847 3047 1241 \nQ 3047 1584 2836 1778 \nQ 2625 1972 2144 2069 \nL 1759 2144 \nQ 1053 2284 737 2584 \nQ 422 2884 422 3419 \nQ 422 4038 858 4394 \nQ 1294 4750 2059 4750 \nQ 2388 4750 2728 4690 \nQ 3069 4631 3425 4513 \nz\n\" transform=\"scale(0.015625)\"/>\n      <path id=\"DejaVuSans-54\" d=\"M -19 4666 \nL 3928 4666 \nL 3928 4134 \nL 2272 4134 \nL 2272 0 \nL 1638 0 \nL 1638 4134 \nL -19 4134 \nL -19 4666 \nz\n\" transform=\"scale(0.015625)\"/>\n      <path id=\"DejaVuSans-4d\" d=\"M 628 4666 \nL 1569 4666 \nL 2759 1491 \nL 3956 4666 \nL 4897 4666 \nL 4897 0 \nL 4281 0 \nL 4281 4097 \nL 3078 897 \nL 2444 897 \nL 1241 4097 \nL 1241 0 \nL 628 0 \nL 628 4666 \nz\n\" transform=\"scale(0.015625)\"/>\n     </defs>\n     <use xlink:href=\"#DejaVuSans-4c\"/>\n     <use xlink:href=\"#DejaVuSans-6f\" x=\"53.962891\"/>\n     <use xlink:href=\"#DejaVuSans-73\" x=\"115.144531\"/>\n     <use xlink:href=\"#DejaVuSans-73\" x=\"167.244141\"/>\n     <use xlink:href=\"#DejaVuSans-20\" x=\"219.34375\"/>\n     <use xlink:href=\"#DejaVuSans-43\" x=\"251.130859\"/>\n     <use xlink:href=\"#DejaVuSans-75\" x=\"320.955078\"/>\n     <use xlink:href=\"#DejaVuSans-72\" x=\"384.333984\"/>\n     <use xlink:href=\"#DejaVuSans-76\" x=\"425.447266\"/>\n     <use xlink:href=\"#DejaVuSans-65\" x=\"484.626953\"/>\n     <use xlink:href=\"#DejaVuSans-73\" x=\"546.150391\"/>\n     <use xlink:href=\"#DejaVuSans-20\" x=\"598.25\"/>\n     <use xlink:href=\"#DejaVuSans-4c\" x=\"630.037109\"/>\n     <use xlink:href=\"#DejaVuSans-53\" x=\"685.75\"/>\n     <use xlink:href=\"#DejaVuSans-54\" x=\"749.226562\"/>\n     <use xlink:href=\"#DejaVuSans-4d\" x=\"810.310547\"/>\n    </g>\n   </g>\n   <g id=\"legend_1\">\n    <g id=\"patch_7\">\n     <path d=\"M 416.029167 59.674375 \nL 522.522917 59.674375 \nQ 524.522917 59.674375 524.522917 57.674375 \nL 524.522917 29.318125 \nQ 524.522917 27.318125 522.522917 27.318125 \nL 416.029167 27.318125 \nQ 414.029167 27.318125 414.029167 29.318125 \nL 414.029167 57.674375 \nQ 414.029167 59.674375 416.029167 59.674375 \nz\n\" style=\"fill: #ffffff; opacity: 0.8; stroke: #cccccc; stroke-linejoin: miter\"/>\n    </g>\n    <g id=\"line2d_31\">\n     <path d=\"M 418.029167 35.416562 \nL 428.029167 35.416562 \nL 438.029167 35.416562 \n\" style=\"fill: none; stroke: #0000ff; stroke-width: 1.5; stroke-linecap: square\"/>\n     <g>\n      <use xlink:href=\"#m48ea9b8e19\" x=\"428.029167\" y=\"35.416562\" style=\"fill: #0000ff; stroke: #0000ff\"/>\n     </g>\n    </g>\n    <g id=\"text_18\">\n     <!-- Train Loss -->\n     <g transform=\"translate(446.029167 38.916562)scale(0.1 -0.1)\">\n      <defs>\n       <path id=\"DejaVuSans-61\" d=\"M 2194 1759 \nQ 1497 1759 1228 1600 \nQ 959 1441 959 1056 \nQ 959 750 1161 570 \nQ 1363 391 1709 391 \nQ 2188 391 2477 730 \nQ 2766 1069 2766 1631 \nL 2766 1759 \nL 2194 1759 \nz\nM 3341 1997 \nL 3341 0 \nL 2766 0 \nL 2766 531 \nQ 2569 213 2275 61 \nQ 1981 -91 1556 -91 \nQ 1019 -91 701 211 \nQ 384 513 384 1019 \nQ 384 1609 779 1909 \nQ 1175 2209 1959 2209 \nL 2766 2209 \nL 2766 2266 \nQ 2766 2663 2505 2880 \nQ 2244 3097 1772 3097 \nQ 1472 3097 1187 3025 \nQ 903 2953 641 2809 \nL 641 3341 \nQ 956 3463 1253 3523 \nQ 1550 3584 1831 3584 \nQ 2591 3584 2966 3190 \nQ 3341 2797 3341 1997 \nz\n\" transform=\"scale(0.015625)\"/>\n       <path id=\"DejaVuSans-69\" d=\"M 603 3500 \nL 1178 3500 \nL 1178 0 \nL 603 0 \nL 603 3500 \nz\nM 603 4863 \nL 1178 4863 \nL 1178 4134 \nL 603 4134 \nL 603 4863 \nz\n\" transform=\"scale(0.015625)\"/>\n       <path id=\"DejaVuSans-6e\" d=\"M 3513 2113 \nL 3513 0 \nL 2938 0 \nL 2938 2094 \nQ 2938 2591 2744 2837 \nQ 2550 3084 2163 3084 \nQ 1697 3084 1428 2787 \nQ 1159 2491 1159 1978 \nL 1159 0 \nL 581 0 \nL 581 3500 \nL 1159 3500 \nL 1159 2956 \nQ 1366 3272 1645 3428 \nQ 1925 3584 2291 3584 \nQ 2894 3584 3203 3211 \nQ 3513 2838 3513 2113 \nz\n\" transform=\"scale(0.015625)\"/>\n      </defs>\n      <use xlink:href=\"#DejaVuSans-54\"/>\n      <use xlink:href=\"#DejaVuSans-72\" x=\"46.333984\"/>\n      <use xlink:href=\"#DejaVuSans-61\" x=\"87.447266\"/>\n      <use xlink:href=\"#DejaVuSans-69\" x=\"148.726562\"/>\n      <use xlink:href=\"#DejaVuSans-6e\" x=\"176.509766\"/>\n      <use xlink:href=\"#DejaVuSans-20\" x=\"239.888672\"/>\n      <use xlink:href=\"#DejaVuSans-4c\" x=\"271.675781\"/>\n      <use xlink:href=\"#DejaVuSans-6f\" x=\"325.638672\"/>\n      <use xlink:href=\"#DejaVuSans-73\" x=\"386.820312\"/>\n      <use xlink:href=\"#DejaVuSans-73\" x=\"438.919922\"/>\n     </g>\n    </g>\n    <g id=\"line2d_32\">\n     <path d=\"M 418.029167 50.094687 \nL 428.029167 50.094687 \nL 438.029167 50.094687 \n\" style=\"fill: none; stroke: #ff0000; stroke-width: 1.5; stroke-linecap: square\"/>\n     <g>\n      <use xlink:href=\"#m208cb3fe8f\" x=\"428.029167\" y=\"50.094687\" style=\"fill: #ff0000; stroke: #ff0000\"/>\n     </g>\n    </g>\n    <g id=\"text_19\">\n     <!-- Validation Loss -->\n     <g transform=\"translate(446.029167 53.594687)scale(0.1 -0.1)\">\n      <defs>\n       <path id=\"DejaVuSans-56\" d=\"M 1831 0 \nL 50 4666 \nL 709 4666 \nL 2188 738 \nL 3669 4666 \nL 4325 4666 \nL 2547 0 \nL 1831 0 \nz\n\" transform=\"scale(0.015625)\"/>\n       <path id=\"DejaVuSans-6c\" d=\"M 603 4863 \nL 1178 4863 \nL 1178 0 \nL 603 0 \nL 603 4863 \nz\n\" transform=\"scale(0.015625)\"/>\n       <path id=\"DejaVuSans-64\" d=\"M 2906 2969 \nL 2906 4863 \nL 3481 4863 \nL 3481 0 \nL 2906 0 \nL 2906 525 \nQ 2725 213 2448 61 \nQ 2172 -91 1784 -91 \nQ 1150 -91 751 415 \nQ 353 922 353 1747 \nQ 353 2572 751 3078 \nQ 1150 3584 1784 3584 \nQ 2172 3584 2448 3432 \nQ 2725 3281 2906 2969 \nz\nM 947 1747 \nQ 947 1113 1208 752 \nQ 1469 391 1925 391 \nQ 2381 391 2643 752 \nQ 2906 1113 2906 1747 \nQ 2906 2381 2643 2742 \nQ 2381 3103 1925 3103 \nQ 1469 3103 1208 2742 \nQ 947 2381 947 1747 \nz\n\" transform=\"scale(0.015625)\"/>\n       <path id=\"DejaVuSans-74\" d=\"M 1172 4494 \nL 1172 3500 \nL 2356 3500 \nL 2356 3053 \nL 1172 3053 \nL 1172 1153 \nQ 1172 725 1289 603 \nQ 1406 481 1766 481 \nL 2356 481 \nL 2356 0 \nL 1766 0 \nQ 1100 0 847 248 \nQ 594 497 594 1153 \nL 594 3053 \nL 172 3053 \nL 172 3500 \nL 594 3500 \nL 594 4494 \nL 1172 4494 \nz\n\" transform=\"scale(0.015625)\"/>\n      </defs>\n      <use xlink:href=\"#DejaVuSans-56\"/>\n      <use xlink:href=\"#DejaVuSans-61\" x=\"60.658203\"/>\n      <use xlink:href=\"#DejaVuSans-6c\" x=\"121.9375\"/>\n      <use xlink:href=\"#DejaVuSans-69\" x=\"149.720703\"/>\n      <use xlink:href=\"#DejaVuSans-64\" x=\"177.503906\"/>\n      <use xlink:href=\"#DejaVuSans-61\" x=\"240.980469\"/>\n      <use xlink:href=\"#DejaVuSans-74\" x=\"302.259766\"/>\n      <use xlink:href=\"#DejaVuSans-69\" x=\"341.46875\"/>\n      <use xlink:href=\"#DejaVuSans-6f\" x=\"369.251953\"/>\n      <use xlink:href=\"#DejaVuSans-6e\" x=\"430.433594\"/>\n      <use xlink:href=\"#DejaVuSans-20\" x=\"493.8125\"/>\n      <use xlink:href=\"#DejaVuSans-4c\" x=\"525.599609\"/>\n      <use xlink:href=\"#DejaVuSans-6f\" x=\"579.5625\"/>\n      <use xlink:href=\"#DejaVuSans-73\" x=\"640.744141\"/>\n      <use xlink:href=\"#DejaVuSans-73\" x=\"692.84375\"/>\n     </g>\n    </g>\n   </g>\n  </g>\n </g>\n <defs>\n  <clipPath id=\"p7211b8c331\">\n   <rect x=\"56.50625\" y=\"22.318125\" width=\"473.016667\" height=\"363.4\"/>\n  </clipPath>\n </defs>\n</svg>\n"
     },
     "metadata": {
      "needs_background": "light"
     },
     "output_type": "display_data"
    }
   ],
   "source": [
    "plt.figure(figsize=(21, 6))\n",
    "\n",
    "complete_epochs = len(train_loss_history)+1\n",
    "plt.subplot(1, 3, 1)\n",
    "plt.plot(range(1, complete_epochs), train_loss_history, label='Train Loss', marker='o', color='b')\n",
    "plt.plot(range(1, complete_epochs), val_loss_history,  label='Validation Loss',  marker='o', color='r')\n",
    "plt.title('Loss Curves LSTM')\n",
    "plt.xlabel('Epoch')\n",
    "plt.ylabel('Loss')\n",
    "plt.legend()\n",
    "plt.grid()\n",
    "plt.tight_layout()\n",
    "plt.show()"
   ],
   "metadata": {
    "collapsed": false,
    "pycharm": {
     "name": "#%%\n"
    }
   }
  },
  {
   "cell_type": "markdown",
   "source": [
    "To complete after the model is able to predict horizon labels"
   ],
   "metadata": {
    "collapsed": false
   }
  },
  {
   "cell_type": "code",
   "execution_count": null,
   "outputs": [],
   "source": [
    "model.eval()  # Setze das Modell in den Evaluierungsmodus\n",
    "with torch.no_grad():\n",
    "    outputs = []\n",
    "    val_loader_tqdm = tqdm(val_loader, desc=\"Evaluating\", leave=False)\n",
    "    for batch in val_loader_tqdm:\n",
    "        images, tabular_features, labels = batch\n",
    "        images, tabular_features, labels = images.to(device), tabular_features.to(device), labels.to(device)\n",
    "        outputs.append(model(image=images, tabular_features=tabular_features))"
   ],
   "metadata": {
    "collapsed": false,
    "pycharm": {
     "name": "#%%\n"
    }
   }
  },
  {
   "cell_type": "code",
   "execution_count": null,
   "outputs": [],
   "source": [
    "from sklearn.metrics import classification_report, confusion_matrix\n",
    "\n",
    "# Convert outputs to predicted labels (adjust based on your model's output format)\n",
    "predicted_probs, predicted_labels = [], []\n",
    "for output in outputs:\n",
    "\n",
    "    predicted_labels.extend(torch.argmax(output, dim=1).tolist())\n",
    "    predicted_probs.extend(torch.softmax(output, dim=1).cpu().numpy()) # Convert logits to probabilities\n",
    "\n",
    "# Convert true labels to a list\n",
    "true_labels = [label.item() for batch in val_loader for label in batch[2]]\n",
    "\n",
    "# Calculate metrics\n",
    "report = classification_report(true_labels, predicted_labels)\n",
    "print(report)"
   ],
   "metadata": {
    "collapsed": false,
    "pycharm": {
     "name": "#%%\n"
    }
   }
  },
  {
   "cell_type": "code",
   "execution_count": null,
   "outputs": [],
   "source": [
    "# Compute PR curve for each class\n",
    "from sklearn.metrics import precision_recall_curve, average_precision_score\n",
    "from sklearn.preprocessing import label_binarize\n",
    "\n",
    "predicted_probs = np.array(predicted_probs)\n",
    "true_labels = np.array(true_labels)\n",
    "n_classes = predicted_probs.shape[1]\n",
    "precision, recall, avg_precision = {}, {}, {}\n",
    "# Binarize the labels (one-hot encoding for multiclass)\n",
    "true_labels_binarized = label_binarize(true_labels, classes=np.arange(n_classes))\n",
    "\n",
    "for i in range(n_classes):\n",
    "    precision[i], recall[i], _ = precision_recall_curve(true_labels_binarized[:, i], predicted_probs[:, i])\n",
    "    avg_precision[i] = average_precision_score(true_labels_binarized[:, i], predicted_probs[:, i])\n",
    "\n",
    "# Compute macro-average PR curve\n",
    "precision[\"macro\"], recall[\"macro\"], _ = precision_recall_curve(true_labels_binarized.ravel(), predicted_probs.ravel())\n",
    "avg_precision[\"macro\"] = average_precision_score(true_labels_binarized, predicted_probs, average=\"macro\")"
   ],
   "metadata": {
    "collapsed": false,
    "pycharm": {
     "name": "#%%\n"
    }
   }
  },
  {
   "cell_type": "code",
   "execution_count": null,
   "outputs": [],
   "source": [
    "plt.figure(figsize=(10, 8))\n",
    "\n",
    "# Plot PR curves for each class\n",
    "for i in range(n_classes):\n",
    "    plt.plot(recall[i], precision[i], lw=2, label=f'Class {i} (AP = {avg_precision[i]:.2f})')\n",
    "\n",
    "# Plot macro-average PR curve\n",
    "plt.plot(recall[\"macro\"], precision[\"macro\"], linestyle='--', lw=2, color='black',\n",
    "         label=f'Macro-average (AP = {avg_precision[\"macro\"]:.2f})')\n",
    "\n",
    "plt.xlabel('Recall')\n",
    "plt.ylabel('Precision')\n",
    "plt.title('Precision-Recall Curves')\n",
    "plt.legend(loc='upper right')\n",
    "plt.grid()\n",
    "plt.show()"
   ],
   "metadata": {
    "collapsed": false,
    "pycharm": {
     "name": "#%%\n"
    }
   }
  },
  {
   "cell_type": "code",
   "execution_count": null,
   "outputs": [],
   "source": [
    "cm = confusion_matrix(true_labels, predicted_labels)\n",
    "\n",
    "plt.figure(figsize=(10, 7))\n",
    "sns.heatmap(cm, annot=True, fmt=\"d\", cmap=\"Blues\")\n",
    "plt.xlabel(\"Predicted Label\")\n",
    "plt.ylabel(\"True Label\")\n",
    "plt.title(\"Confusion Matrix\")\n",
    "plt.show()"
   ],
   "metadata": {
    "collapsed": false,
    "pycharm": {
     "name": "#%%\n"
    }
   }
  }
 ],
 "metadata": {
  "kernelspec": {
   "name": "sam",
   "language": "python",
   "display_name": "sam"
  },
  "language_info": {
   "codemirror_mode": {
    "name": "ipython",
    "version": 3
   },
   "file_extension": ".py",
   "mimetype": "text/x-python",
   "name": "python",
   "nbconvert_exporter": "python",
   "pygments_lexer": "ipython3",
   "version": "3.9.19"
  }
 },
 "nbformat": 4,
 "nbformat_minor": 5
}