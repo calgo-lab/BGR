{
 "cells": [
  {
   "cell_type": "markdown",
   "source": [
    "## Multimodal Training Sequential\n",
    "\n",
    "Predict horizon boundaries from full images and geo-temporal infos. Afterwards, predict morphological features and symbol for every horizon"
   ],
   "metadata": {
    "collapsed": false
   }
  },
  {
   "cell_type": "code",
   "execution_count": 1,
   "outputs": [],
   "source": [
    "import os\n",
    "import pickle\n",
    "\n",
    "import matplotlib.pylab as plt\n",
    "import numpy as np\n",
    "import pandas as pd\n",
    "import seaborn as sns\n",
    "import torch\n",
    "import torch.optim as optim\n",
    "import torch.nn as nn\n",
    "import torchvision.transforms as transforms\n",
    "from sklearn.model_selection import train_test_split\n",
    "from torch.nn.utils import clip_grad_norm_  # modifies the tensors in-place (vs clip_grad_norm)\n",
    "from torch.utils.data import DataLoader\n",
    "from tqdm import tqdm\n",
    "\n",
    "pd.set_option(\"display.max_columns\", None)\n",
    "np.random.seed(42)\n",
    "\n",
    "%matplotlib inline\n",
    "%config InlineBackend.figure_format = 'svg'"
   ],
   "metadata": {
    "collapsed": false,
    "pycharm": {
     "name": "#%%\n"
    }
   }
  },
  {
   "cell_type": "code",
   "execution_count": 2,
   "outputs": [],
   "source": [
    "import sys\n",
    "sys.path.append('./BGR')\n",
    "import bgr.soil.datasets as bgr_data\n",
    "import bgr.soil.modelling.general_models as bgr_mod\n",
    "from bgr.soil.callbacks import EarlyStopping, ModelCheckpoint\n",
    "from bgr.soil.metrics import DepthMarkerLoss\n",
    "from bgr.soil.utils import pad_tensor"
   ],
   "metadata": {
    "collapsed": false,
    "pycharm": {
     "name": "#%%\n"
    }
   }
  },
  {
   "cell_type": "code",
   "execution_count": 3,
   "outputs": [],
   "source": [
    "path_csv = \"../data/BGR/data_horizons.csv\"\n",
    "path_csv_annotator_ids = '../data/BGR/Kartierer_ID.csv'\n",
    "path_csv_locations = '../data/BGR/STANDORT.csv'\n",
    "path_horizons_simple = '../data/BGR/Vereinfachung_Horizontsymbole.csv'\n",
    "path_pictures = \"../data/BGR/Profilbilder_no_ruler_no_sky/\"\n",
    "#path_pictures = \"../data/BGR/Horizonte/\""
   ],
   "metadata": {
    "collapsed": false,
    "pycharm": {
     "name": "#%%\n"
    }
   }
  },
  {
   "cell_type": "markdown",
   "source": [
    "### Data Loading"
   ],
   "metadata": {
    "collapsed": false
   }
  },
  {
   "cell_type": "code",
   "execution_count": 4,
   "outputs": [
    {
     "name": "stdout",
     "output_type": "stream",
     "text": [
      "15207\n",
      "15206\n"
     ]
    },
    {
     "data": {
      "text/plain": "        Point  HorizontID  Obergrenze  Untergrenze Horizontsymbol Bodenart  \\\n0         2.0         1.0         0.0         28.0          I; Ap      Sl2   \n1         2.0         2.0        28.0         54.0           I; E      Sl2   \n2         2.0         3.0        54.0         68.0         II; Bv      Sl2   \n3         2.0         4.0        68.0         96.0   III; Bv-ilCv     fSms   \n4         2.0         5.0        96.0        201.0      III; ilCv     mSfs   \n...       ...         ...         ...          ...            ...      ...   \n15201  6211.0         3.0        27.0         50.0      I; Bbh+Bs     fSms   \n15202  6211.0         4.0        50.0         70.0      I; Bbs+Bs     fSms   \n15203  6211.0         5.0        70.0        100.0      I; Go-Bbs     fSms   \n15204  6211.0         6.0       100.0        130.0          I; Go     fSms   \n15205  6211.0         7.0       130.0        155.0          I; Gr     fSms   \n\n      Bodenfarbe  Steine Karbonat Humusgehaltsklasse Durchwurzelung  \\\n0      7.5YR 3/2     3.0       C0                 h3            Wf4   \n1       10YR 3/3     3.0       C0                 h2            Wf3   \n2      7.5YR 4/3    10.0       C0                 h1            Wf3   \n3      7.5YR 6/4     1.0       C0                 h0            Wf2   \n4       10YR 7/4     1.0       C0                 h0            NaN   \n...          ...     ...      ...                ...            ...   \n15201    5YR 3/2     1.0       C0                 h2            Wf3   \n15202    5YR 4/3     1.0       C0                 h1            Wf2   \n15203  7.5YR 5/4     1.0       C0                 h1            Wf6   \n15204   2.5Y 6/4     1.0       C0                 h0            Wf4   \n15205   2.5Y 5/4     1.0       C0                 h0            Wf2   \n\n       Unnamed: 11 Bundesland  PointID  Unnamed: 14    profile  max_depth  \n0              NaN         SH      2.0          NaN  BB_0541.0      100.0  \n1              NaN         SH      3.0          NaN  BB_0600.0       90.0  \n2              NaN         SH      4.0          NaN  BB_0601.0      100.0  \n3              NaN         SH      5.0          NaN  BB_0659.0      100.0  \n4              NaN         SH      6.0          NaN  BB_0660.0      100.0  \n...            ...        ...      ...          ...        ...        ...  \n15201          NaN        NaN      NaN          NaN        NaN        NaN  \n15202          NaN        NaN      NaN          NaN        NaN        NaN  \n15203          NaN        NaN      NaN          NaN        NaN        NaN  \n15204          NaN        NaN      NaN          NaN        NaN        NaN  \n15205          NaN        NaN      NaN          NaN        NaN        NaN  \n\n[15206 rows x 17 columns]",
      "text/html": "<div>\n<style scoped>\n    .dataframe tbody tr th:only-of-type {\n        vertical-align: middle;\n    }\n\n    .dataframe tbody tr th {\n        vertical-align: top;\n    }\n\n    .dataframe thead th {\n        text-align: right;\n    }\n</style>\n<table border=\"1\" class=\"dataframe\">\n  <thead>\n    <tr style=\"text-align: right;\">\n      <th></th>\n      <th>Point</th>\n      <th>HorizontID</th>\n      <th>Obergrenze</th>\n      <th>Untergrenze</th>\n      <th>Horizontsymbol</th>\n      <th>Bodenart</th>\n      <th>Bodenfarbe</th>\n      <th>Steine</th>\n      <th>Karbonat</th>\n      <th>Humusgehaltsklasse</th>\n      <th>Durchwurzelung</th>\n      <th>Unnamed: 11</th>\n      <th>Bundesland</th>\n      <th>PointID</th>\n      <th>Unnamed: 14</th>\n      <th>profile</th>\n      <th>max_depth</th>\n    </tr>\n  </thead>\n  <tbody>\n    <tr>\n      <th>0</th>\n      <td>2.0</td>\n      <td>1.0</td>\n      <td>0.0</td>\n      <td>28.0</td>\n      <td>I; Ap</td>\n      <td>Sl2</td>\n      <td>7.5YR 3/2</td>\n      <td>3.0</td>\n      <td>C0</td>\n      <td>h3</td>\n      <td>Wf4</td>\n      <td>NaN</td>\n      <td>SH</td>\n      <td>2.0</td>\n      <td>NaN</td>\n      <td>BB_0541.0</td>\n      <td>100.0</td>\n    </tr>\n    <tr>\n      <th>1</th>\n      <td>2.0</td>\n      <td>2.0</td>\n      <td>28.0</td>\n      <td>54.0</td>\n      <td>I; E</td>\n      <td>Sl2</td>\n      <td>10YR 3/3</td>\n      <td>3.0</td>\n      <td>C0</td>\n      <td>h2</td>\n      <td>Wf3</td>\n      <td>NaN</td>\n      <td>SH</td>\n      <td>3.0</td>\n      <td>NaN</td>\n      <td>BB_0600.0</td>\n      <td>90.0</td>\n    </tr>\n    <tr>\n      <th>2</th>\n      <td>2.0</td>\n      <td>3.0</td>\n      <td>54.0</td>\n      <td>68.0</td>\n      <td>II; Bv</td>\n      <td>Sl2</td>\n      <td>7.5YR 4/3</td>\n      <td>10.0</td>\n      <td>C0</td>\n      <td>h1</td>\n      <td>Wf3</td>\n      <td>NaN</td>\n      <td>SH</td>\n      <td>4.0</td>\n      <td>NaN</td>\n      <td>BB_0601.0</td>\n      <td>100.0</td>\n    </tr>\n    <tr>\n      <th>3</th>\n      <td>2.0</td>\n      <td>4.0</td>\n      <td>68.0</td>\n      <td>96.0</td>\n      <td>III; Bv-ilCv</td>\n      <td>fSms</td>\n      <td>7.5YR 6/4</td>\n      <td>1.0</td>\n      <td>C0</td>\n      <td>h0</td>\n      <td>Wf2</td>\n      <td>NaN</td>\n      <td>SH</td>\n      <td>5.0</td>\n      <td>NaN</td>\n      <td>BB_0659.0</td>\n      <td>100.0</td>\n    </tr>\n    <tr>\n      <th>4</th>\n      <td>2.0</td>\n      <td>5.0</td>\n      <td>96.0</td>\n      <td>201.0</td>\n      <td>III; ilCv</td>\n      <td>mSfs</td>\n      <td>10YR 7/4</td>\n      <td>1.0</td>\n      <td>C0</td>\n      <td>h0</td>\n      <td>NaN</td>\n      <td>NaN</td>\n      <td>SH</td>\n      <td>6.0</td>\n      <td>NaN</td>\n      <td>BB_0660.0</td>\n      <td>100.0</td>\n    </tr>\n    <tr>\n      <th>...</th>\n      <td>...</td>\n      <td>...</td>\n      <td>...</td>\n      <td>...</td>\n      <td>...</td>\n      <td>...</td>\n      <td>...</td>\n      <td>...</td>\n      <td>...</td>\n      <td>...</td>\n      <td>...</td>\n      <td>...</td>\n      <td>...</td>\n      <td>...</td>\n      <td>...</td>\n      <td>...</td>\n      <td>...</td>\n    </tr>\n    <tr>\n      <th>15201</th>\n      <td>6211.0</td>\n      <td>3.0</td>\n      <td>27.0</td>\n      <td>50.0</td>\n      <td>I; Bbh+Bs</td>\n      <td>fSms</td>\n      <td>5YR 3/2</td>\n      <td>1.0</td>\n      <td>C0</td>\n      <td>h2</td>\n      <td>Wf3</td>\n      <td>NaN</td>\n      <td>NaN</td>\n      <td>NaN</td>\n      <td>NaN</td>\n      <td>NaN</td>\n      <td>NaN</td>\n    </tr>\n    <tr>\n      <th>15202</th>\n      <td>6211.0</td>\n      <td>4.0</td>\n      <td>50.0</td>\n      <td>70.0</td>\n      <td>I; Bbs+Bs</td>\n      <td>fSms</td>\n      <td>5YR 4/3</td>\n      <td>1.0</td>\n      <td>C0</td>\n      <td>h1</td>\n      <td>Wf2</td>\n      <td>NaN</td>\n      <td>NaN</td>\n      <td>NaN</td>\n      <td>NaN</td>\n      <td>NaN</td>\n      <td>NaN</td>\n    </tr>\n    <tr>\n      <th>15203</th>\n      <td>6211.0</td>\n      <td>5.0</td>\n      <td>70.0</td>\n      <td>100.0</td>\n      <td>I; Go-Bbs</td>\n      <td>fSms</td>\n      <td>7.5YR 5/4</td>\n      <td>1.0</td>\n      <td>C0</td>\n      <td>h1</td>\n      <td>Wf6</td>\n      <td>NaN</td>\n      <td>NaN</td>\n      <td>NaN</td>\n      <td>NaN</td>\n      <td>NaN</td>\n      <td>NaN</td>\n    </tr>\n    <tr>\n      <th>15204</th>\n      <td>6211.0</td>\n      <td>6.0</td>\n      <td>100.0</td>\n      <td>130.0</td>\n      <td>I; Go</td>\n      <td>fSms</td>\n      <td>2.5Y 6/4</td>\n      <td>1.0</td>\n      <td>C0</td>\n      <td>h0</td>\n      <td>Wf4</td>\n      <td>NaN</td>\n      <td>NaN</td>\n      <td>NaN</td>\n      <td>NaN</td>\n      <td>NaN</td>\n      <td>NaN</td>\n    </tr>\n    <tr>\n      <th>15205</th>\n      <td>6211.0</td>\n      <td>7.0</td>\n      <td>130.0</td>\n      <td>155.0</td>\n      <td>I; Gr</td>\n      <td>fSms</td>\n      <td>2.5Y 5/4</td>\n      <td>1.0</td>\n      <td>C0</td>\n      <td>h0</td>\n      <td>Wf2</td>\n      <td>NaN</td>\n      <td>NaN</td>\n      <td>NaN</td>\n      <td>NaN</td>\n      <td>NaN</td>\n      <td>NaN</td>\n    </tr>\n  </tbody>\n</table>\n<p>15206 rows × 17 columns</p>\n</div>"
     },
     "execution_count": 4,
     "metadata": {},
     "output_type": "execute_result"
    }
   ],
   "source": [
    "df = pd.read_csv(path_csv)\n",
    "print(len(df.index))\n",
    "df = df.dropna(subset=['Horizontsymbol'])\n",
    "print(len(df.index))\n",
    "df#.head()"
   ],
   "metadata": {
    "collapsed": false,
    "pycharm": {
     "name": "#%%\n"
    }
   }
  },
  {
   "cell_type": "code",
   "execution_count": 5,
   "outputs": [
    {
     "data": {
      "text/plain": "  Horiz  Anzahl im Datensatz relevanter Anteil stark vereinfacht\n0    Ap                 1762                Ap                Ap\n1    Bv                  626                Bv                Bv\n2  ilCv                  620               ilC                Cv\n3  elCv                  500               elC                Cv\n4    Ah                  455                Ah                Ah",
      "text/html": "<div>\n<style scoped>\n    .dataframe tbody tr th:only-of-type {\n        vertical-align: middle;\n    }\n\n    .dataframe tbody tr th {\n        vertical-align: top;\n    }\n\n    .dataframe thead th {\n        text-align: right;\n    }\n</style>\n<table border=\"1\" class=\"dataframe\">\n  <thead>\n    <tr style=\"text-align: right;\">\n      <th></th>\n      <th>Horiz</th>\n      <th>Anzahl im Datensatz</th>\n      <th>relevanter Anteil</th>\n      <th>stark vereinfacht</th>\n    </tr>\n  </thead>\n  <tbody>\n    <tr>\n      <th>0</th>\n      <td>Ap</td>\n      <td>1762</td>\n      <td>Ap</td>\n      <td>Ap</td>\n    </tr>\n    <tr>\n      <th>1</th>\n      <td>Bv</td>\n      <td>626</td>\n      <td>Bv</td>\n      <td>Bv</td>\n    </tr>\n    <tr>\n      <th>2</th>\n      <td>ilCv</td>\n      <td>620</td>\n      <td>ilC</td>\n      <td>Cv</td>\n    </tr>\n    <tr>\n      <th>3</th>\n      <td>elCv</td>\n      <td>500</td>\n      <td>elC</td>\n      <td>Cv</td>\n    </tr>\n    <tr>\n      <th>4</th>\n      <td>Ah</td>\n      <td>455</td>\n      <td>Ah</td>\n      <td>Ah</td>\n    </tr>\n  </tbody>\n</table>\n</div>"
     },
     "execution_count": 5,
     "metadata": {},
     "output_type": "execute_result"
    }
   ],
   "source": [
    "df_simple = pd.read_csv(path_horizons_simple)\n",
    "df_simple.rename(columns={\"relevanter Anteil = was sinntragend und detektierbar ist - es sind nicht alles gültige Symbole\": \"relevanter Anteil\"}, inplace=True)\n",
    "df_simple.head()"
   ],
   "metadata": {
    "collapsed": false,
    "pycharm": {
     "name": "#%%\n"
    }
   }
  },
  {
   "cell_type": "code",
   "execution_count": 6,
   "outputs": [
    {
     "data": {
      "text/plain": "        Point  HorizontID  Obergrenze  Untergrenze Horizontsymbol  \\\n0         2.0         1.0         0.0         28.0          I; Ap   \n1         2.0         2.0        28.0         54.0           I; E   \n2         2.0         3.0        54.0         68.0         II; Bv   \n3         2.0         4.0        68.0         96.0   III; Bv-ilCv   \n4         2.0         5.0        96.0        201.0      III; ilCv   \n...       ...         ...         ...          ...            ...   \n15201  6211.0         3.0        27.0         50.0      I; Bbh+Bs   \n15202  6211.0         4.0        50.0         70.0      I; Bbs+Bs   \n15203  6211.0         5.0        70.0        100.0      I; Go-Bbs   \n15204  6211.0         6.0       100.0        130.0          I; Go   \n15205  6211.0         7.0       130.0        155.0          I; Gr   \n\n      Horizontsymbol_relevant Bodenart Bodenfarbe  Steine Karbonat  \\\n0                          Ap      Sl2  7.5YR 3/2     3.0       C0   \n1                           E      Sl2   10YR 3/3     3.0       C0   \n2                          Bv      Sl2  7.5YR 4/3    10.0       C0   \n3                      Bv-ilC     fSms  7.5YR 6/4     1.0       C0   \n4                         ilC     mSfs   10YR 7/4     1.0       C0   \n...                       ...      ...        ...     ...      ...   \n15201                  Bbh+Bs     fSms    5YR 3/2     1.0       C0   \n15202                  Bbs+Bs     fSms    5YR 4/3     1.0       C0   \n15203                  Go-Bbs     fSms  7.5YR 5/4     1.0       C0   \n15204                      Go     fSms   2.5Y 6/4     1.0       C0   \n15205                      Gr     fSms   2.5Y 5/4     1.0       C0   \n\n      Humusgehaltsklasse Durchwurzelung  Unnamed: 11 Bundesland  PointID  \\\n0                     h3            Wf4          NaN         SH      2.0   \n1                     h2            Wf3          NaN         SH      3.0   \n2                     h1            Wf3          NaN         SH      4.0   \n3                     h0            Wf2          NaN         SH      5.0   \n4                     h0            NaN          NaN         SH      6.0   \n...                  ...            ...          ...        ...      ...   \n15201                 h2            Wf3          NaN        NaN      NaN   \n15202                 h1            Wf2          NaN        NaN      NaN   \n15203                 h1            Wf6          NaN        NaN      NaN   \n15204                 h0            Wf4          NaN        NaN      NaN   \n15205                 h0            Wf2          NaN        NaN      NaN   \n\n       Unnamed: 14    profile  max_depth  \n0              NaN  BB_0541.0      100.0  \n1              NaN  BB_0600.0       90.0  \n2              NaN  BB_0601.0      100.0  \n3              NaN  BB_0659.0      100.0  \n4              NaN  BB_0660.0      100.0  \n...            ...        ...        ...  \n15201          NaN        NaN        NaN  \n15202          NaN        NaN        NaN  \n15203          NaN        NaN        NaN  \n15204          NaN        NaN        NaN  \n15205          NaN        NaN        NaN  \n\n[15206 rows x 18 columns]",
      "text/html": "<div>\n<style scoped>\n    .dataframe tbody tr th:only-of-type {\n        vertical-align: middle;\n    }\n\n    .dataframe tbody tr th {\n        vertical-align: top;\n    }\n\n    .dataframe thead th {\n        text-align: right;\n    }\n</style>\n<table border=\"1\" class=\"dataframe\">\n  <thead>\n    <tr style=\"text-align: right;\">\n      <th></th>\n      <th>Point</th>\n      <th>HorizontID</th>\n      <th>Obergrenze</th>\n      <th>Untergrenze</th>\n      <th>Horizontsymbol</th>\n      <th>Horizontsymbol_relevant</th>\n      <th>Bodenart</th>\n      <th>Bodenfarbe</th>\n      <th>Steine</th>\n      <th>Karbonat</th>\n      <th>Humusgehaltsklasse</th>\n      <th>Durchwurzelung</th>\n      <th>Unnamed: 11</th>\n      <th>Bundesland</th>\n      <th>PointID</th>\n      <th>Unnamed: 14</th>\n      <th>profile</th>\n      <th>max_depth</th>\n    </tr>\n  </thead>\n  <tbody>\n    <tr>\n      <th>0</th>\n      <td>2.0</td>\n      <td>1.0</td>\n      <td>0.0</td>\n      <td>28.0</td>\n      <td>I; Ap</td>\n      <td>Ap</td>\n      <td>Sl2</td>\n      <td>7.5YR 3/2</td>\n      <td>3.0</td>\n      <td>C0</td>\n      <td>h3</td>\n      <td>Wf4</td>\n      <td>NaN</td>\n      <td>SH</td>\n      <td>2.0</td>\n      <td>NaN</td>\n      <td>BB_0541.0</td>\n      <td>100.0</td>\n    </tr>\n    <tr>\n      <th>1</th>\n      <td>2.0</td>\n      <td>2.0</td>\n      <td>28.0</td>\n      <td>54.0</td>\n      <td>I; E</td>\n      <td>E</td>\n      <td>Sl2</td>\n      <td>10YR 3/3</td>\n      <td>3.0</td>\n      <td>C0</td>\n      <td>h2</td>\n      <td>Wf3</td>\n      <td>NaN</td>\n      <td>SH</td>\n      <td>3.0</td>\n      <td>NaN</td>\n      <td>BB_0600.0</td>\n      <td>90.0</td>\n    </tr>\n    <tr>\n      <th>2</th>\n      <td>2.0</td>\n      <td>3.0</td>\n      <td>54.0</td>\n      <td>68.0</td>\n      <td>II; Bv</td>\n      <td>Bv</td>\n      <td>Sl2</td>\n      <td>7.5YR 4/3</td>\n      <td>10.0</td>\n      <td>C0</td>\n      <td>h1</td>\n      <td>Wf3</td>\n      <td>NaN</td>\n      <td>SH</td>\n      <td>4.0</td>\n      <td>NaN</td>\n      <td>BB_0601.0</td>\n      <td>100.0</td>\n    </tr>\n    <tr>\n      <th>3</th>\n      <td>2.0</td>\n      <td>4.0</td>\n      <td>68.0</td>\n      <td>96.0</td>\n      <td>III; Bv-ilCv</td>\n      <td>Bv-ilC</td>\n      <td>fSms</td>\n      <td>7.5YR 6/4</td>\n      <td>1.0</td>\n      <td>C0</td>\n      <td>h0</td>\n      <td>Wf2</td>\n      <td>NaN</td>\n      <td>SH</td>\n      <td>5.0</td>\n      <td>NaN</td>\n      <td>BB_0659.0</td>\n      <td>100.0</td>\n    </tr>\n    <tr>\n      <th>4</th>\n      <td>2.0</td>\n      <td>5.0</td>\n      <td>96.0</td>\n      <td>201.0</td>\n      <td>III; ilCv</td>\n      <td>ilC</td>\n      <td>mSfs</td>\n      <td>10YR 7/4</td>\n      <td>1.0</td>\n      <td>C0</td>\n      <td>h0</td>\n      <td>NaN</td>\n      <td>NaN</td>\n      <td>SH</td>\n      <td>6.0</td>\n      <td>NaN</td>\n      <td>BB_0660.0</td>\n      <td>100.0</td>\n    </tr>\n    <tr>\n      <th>...</th>\n      <td>...</td>\n      <td>...</td>\n      <td>...</td>\n      <td>...</td>\n      <td>...</td>\n      <td>...</td>\n      <td>...</td>\n      <td>...</td>\n      <td>...</td>\n      <td>...</td>\n      <td>...</td>\n      <td>...</td>\n      <td>...</td>\n      <td>...</td>\n      <td>...</td>\n      <td>...</td>\n      <td>...</td>\n      <td>...</td>\n    </tr>\n    <tr>\n      <th>15201</th>\n      <td>6211.0</td>\n      <td>3.0</td>\n      <td>27.0</td>\n      <td>50.0</td>\n      <td>I; Bbh+Bs</td>\n      <td>Bbh+Bs</td>\n      <td>fSms</td>\n      <td>5YR 3/2</td>\n      <td>1.0</td>\n      <td>C0</td>\n      <td>h2</td>\n      <td>Wf3</td>\n      <td>NaN</td>\n      <td>NaN</td>\n      <td>NaN</td>\n      <td>NaN</td>\n      <td>NaN</td>\n      <td>NaN</td>\n    </tr>\n    <tr>\n      <th>15202</th>\n      <td>6211.0</td>\n      <td>4.0</td>\n      <td>50.0</td>\n      <td>70.0</td>\n      <td>I; Bbs+Bs</td>\n      <td>Bbs+Bs</td>\n      <td>fSms</td>\n      <td>5YR 4/3</td>\n      <td>1.0</td>\n      <td>C0</td>\n      <td>h1</td>\n      <td>Wf2</td>\n      <td>NaN</td>\n      <td>NaN</td>\n      <td>NaN</td>\n      <td>NaN</td>\n      <td>NaN</td>\n      <td>NaN</td>\n    </tr>\n    <tr>\n      <th>15203</th>\n      <td>6211.0</td>\n      <td>5.0</td>\n      <td>70.0</td>\n      <td>100.0</td>\n      <td>I; Go-Bbs</td>\n      <td>Go-Bbs</td>\n      <td>fSms</td>\n      <td>7.5YR 5/4</td>\n      <td>1.0</td>\n      <td>C0</td>\n      <td>h1</td>\n      <td>Wf6</td>\n      <td>NaN</td>\n      <td>NaN</td>\n      <td>NaN</td>\n      <td>NaN</td>\n      <td>NaN</td>\n      <td>NaN</td>\n    </tr>\n    <tr>\n      <th>15204</th>\n      <td>6211.0</td>\n      <td>6.0</td>\n      <td>100.0</td>\n      <td>130.0</td>\n      <td>I; Go</td>\n      <td>Go</td>\n      <td>fSms</td>\n      <td>2.5Y 6/4</td>\n      <td>1.0</td>\n      <td>C0</td>\n      <td>h0</td>\n      <td>Wf4</td>\n      <td>NaN</td>\n      <td>NaN</td>\n      <td>NaN</td>\n      <td>NaN</td>\n      <td>NaN</td>\n      <td>NaN</td>\n    </tr>\n    <tr>\n      <th>15205</th>\n      <td>6211.0</td>\n      <td>7.0</td>\n      <td>130.0</td>\n      <td>155.0</td>\n      <td>I; Gr</td>\n      <td>Gr</td>\n      <td>fSms</td>\n      <td>2.5Y 5/4</td>\n      <td>1.0</td>\n      <td>C0</td>\n      <td>h0</td>\n      <td>Wf2</td>\n      <td>NaN</td>\n      <td>NaN</td>\n      <td>NaN</td>\n      <td>NaN</td>\n      <td>NaN</td>\n      <td>NaN</td>\n    </tr>\n  </tbody>\n</table>\n<p>15206 rows × 18 columns</p>\n</div>"
     },
     "execution_count": 6,
     "metadata": {},
     "output_type": "execute_result"
    }
   ],
   "source": [
    "# Add an extra column to the original dataset with the simplified horizon symbols\n",
    "\n",
    "# Apply the simplification function to each row of the 'Horizontsymbol' column\n",
    "col_name = \"relevanter Anteil\" # try to predict 'relevanter Anteil' first; otherwise, resort to 'stark vereinfacht'\n",
    "df['Horizontsymbol_relevant'] = df['Horizontsymbol'].apply(lambda x: bgr_data.simplify_string(x, df_simple, col_name))\n",
    "\n",
    "# Reorder the columns\n",
    "cols = df.columns.tolist()\n",
    "cols.insert(cols.index('Horizontsymbol') + 1, 'Horizontsymbol_relevant')\n",
    "cols.pop() # remove the duplicate at the end\n",
    "df = df[cols]\n",
    "df"
   ],
   "metadata": {
    "collapsed": false,
    "pycharm": {
     "name": "#%%\n"
    }
   }
  },
  {
   "cell_type": "markdown",
   "source": [
    "#### Join images and further tables"
   ],
   "metadata": {
    "collapsed": false
   }
  },
  {
   "cell_type": "code",
   "execution_count": 7,
   "outputs": [
    {
     "data": {
      "text/plain": "               file   Point\n0   BB_0896_Y_1.JPG   896.0\n1   BB_0903_Y_1.JPG   903.0\n2   BW_4930_Y_1.JPG  4930.0\n3   BW_5183_Y_1.JPG  5183.0\n4   BW_5462_Y_1.JPG  5462.0\n5   BY_3651_Y_1.JPG  3651.0\n6   BY_3934_Y_1.JPG  3934.0\n7   BY_3979_Y_1.JPG  3979.0\n8   BY_4039_Y_1.JPG  4039.0\n9   BY_4302_Y_1.JPG  4302.0\n10  BY_4360_Y_1.JPG  4360.0\n11  BY_4568_Y_1.JPG  4568.0\n12  BY_4895_Y_1.JPG  4895.0\n13  BY_4910_Y_1.JPG  4910.0\n14  BY_5439_Y_1.JPG  5439.0",
      "text/html": "<div>\n<style scoped>\n    .dataframe tbody tr th:only-of-type {\n        vertical-align: middle;\n    }\n\n    .dataframe tbody tr th {\n        vertical-align: top;\n    }\n\n    .dataframe thead th {\n        text-align: right;\n    }\n</style>\n<table border=\"1\" class=\"dataframe\">\n  <thead>\n    <tr style=\"text-align: right;\">\n      <th></th>\n      <th>file</th>\n      <th>Point</th>\n    </tr>\n  </thead>\n  <tbody>\n    <tr>\n      <th>0</th>\n      <td>BB_0896_Y_1.JPG</td>\n      <td>896.0</td>\n    </tr>\n    <tr>\n      <th>1</th>\n      <td>BB_0903_Y_1.JPG</td>\n      <td>903.0</td>\n    </tr>\n    <tr>\n      <th>2</th>\n      <td>BW_4930_Y_1.JPG</td>\n      <td>4930.0</td>\n    </tr>\n    <tr>\n      <th>3</th>\n      <td>BW_5183_Y_1.JPG</td>\n      <td>5183.0</td>\n    </tr>\n    <tr>\n      <th>4</th>\n      <td>BW_5462_Y_1.JPG</td>\n      <td>5462.0</td>\n    </tr>\n    <tr>\n      <th>5</th>\n      <td>BY_3651_Y_1.JPG</td>\n      <td>3651.0</td>\n    </tr>\n    <tr>\n      <th>6</th>\n      <td>BY_3934_Y_1.JPG</td>\n      <td>3934.0</td>\n    </tr>\n    <tr>\n      <th>7</th>\n      <td>BY_3979_Y_1.JPG</td>\n      <td>3979.0</td>\n    </tr>\n    <tr>\n      <th>8</th>\n      <td>BY_4039_Y_1.JPG</td>\n      <td>4039.0</td>\n    </tr>\n    <tr>\n      <th>9</th>\n      <td>BY_4302_Y_1.JPG</td>\n      <td>4302.0</td>\n    </tr>\n    <tr>\n      <th>10</th>\n      <td>BY_4360_Y_1.JPG</td>\n      <td>4360.0</td>\n    </tr>\n    <tr>\n      <th>11</th>\n      <td>BY_4568_Y_1.JPG</td>\n      <td>4568.0</td>\n    </tr>\n    <tr>\n      <th>12</th>\n      <td>BY_4895_Y_1.JPG</td>\n      <td>4895.0</td>\n    </tr>\n    <tr>\n      <th>13</th>\n      <td>BY_4910_Y_1.JPG</td>\n      <td>4910.0</td>\n    </tr>\n    <tr>\n      <th>14</th>\n      <td>BY_5439_Y_1.JPG</td>\n      <td>5439.0</td>\n    </tr>\n  </tbody>\n</table>\n</div>"
     },
     "execution_count": 7,
     "metadata": {},
     "output_type": "execute_result"
    }
   ],
   "source": [
    "# Read image dataset and add file path as extra column to df\n",
    "image_dataset = os.listdir(path_pictures)\n",
    "img_files = pd.DataFrame(image_dataset, columns=['file'])\n",
    "img_files['Point'] = img_files['file'].str.split(\"_\").map(lambda x: x[1]).astype(float) # for error 'list index out of range', delete @eaDir\n",
    "#img_files['HorizontID'] = img_files['file'].str.split('.').map(lambda x: x[0][-1]).astype(float) # uncomment only for segmented horizon patches\n",
    "img_files.head(15)"
   ],
   "metadata": {
    "collapsed": false,
    "pycharm": {
     "name": "#%%\n"
    }
   }
  },
  {
   "cell_type": "code",
   "execution_count": 8,
   "outputs": [
    {
     "name": "stdout",
     "output_type": "stream",
     "text": [
      "16316\n"
     ]
    },
    {
     "data": {
      "text/plain": "    Point  HorizontID  Obergrenze  Untergrenze Horizontsymbol  \\\n0     2.0         1.0         0.0         28.0          I; Ap   \n1     2.0         2.0        28.0         54.0           I; E   \n2     2.0         3.0        54.0         68.0         II; Bv   \n3     2.0         4.0        68.0         96.0   III; Bv-ilCv   \n4     2.0         5.0        96.0        201.0      III; ilCv   \n5     3.0         1.0         0.0         12.0     I; tbSw-Ah   \n6     3.0         2.0        12.0         30.0    I; tbSw-rAp   \n7     3.0         3.0        30.0         54.0    I; tbrGo-Sw   \n8     3.0         4.0        54.0        125.0     I; tbGo-Sd   \n9     3.0         5.0       125.0        160.0      II; tmGor   \n10    3.0         6.0       160.0        201.0      II; tmeGr   \n11    4.0         1.0         0.0         30.0     I; Sw-tbAp   \n12    4.0         2.0        30.0         74.0        I; tbSq   \n13    4.0         3.0        74.0        140.0       I; tbGro   \n14    4.0         4.0       140.0        200.0        I; tbGr   \n\n   Horizontsymbol_relevant Bodenart   Bodenfarbe  Steine Karbonat  \\\n0                       Ap      Sl2    7.5YR 3/2     3.0       C0   \n1                        E      Sl2     10YR 3/3     3.0       C0   \n2                       Bv      Sl2    7.5YR 4/3    10.0       C0   \n3                   Bv-ilC     fSms    7.5YR 6/4     1.0       C0   \n4                      ilC     mSfs     10YR 7/4     1.0       C0   \n5                   tSw-Ah      Ls3     10YR 4/2     0.0       C0   \n6                   tSw-Ap      Ls2     10YR 4/2     0.0       C0   \n7                   tGo-Sw      Ls4     2.5Y 5/1     0.0       C0   \n8                   tGo-Sd       Lu       5Y 5/1     0.0       C0   \n9                     tGor      Su3       5Y 5/1     0.0       C0   \n10                     tGr      Su3  GLEY1 4/5GY     0.0     C3.2   \n11                  Sw-tAp      Tu3       5Y 5/2     0.0       C0   \n12                     tSq      Tu3       5Y 5/1     0.0       C0   \n13                    tGro      Tu4       5Y 6/1     0.0       C0   \n14                     tGr      Tu4    GLEY1 5/N     0.0       C0   \n\n   Humusgehaltsklasse Durchwurzelung  Unnamed: 11 Bundesland  PointID  \\\n0                  h3            Wf4          NaN         SH      2.0   \n1                  h2            Wf3          NaN         SH      3.0   \n2                  h1            Wf3          NaN         SH      4.0   \n3                  h0            Wf2          NaN         SH      5.0   \n4                  h0            NaN          NaN         SH      6.0   \n5                  h3            Wf6          NaN         SH      7.0   \n6                  h2            Wf4          NaN         SH      8.0   \n7                  h1            Wf2          NaN         SH     10.0   \n8                  h1            NaN          NaN         SH     11.0   \n9                  h1            NaN          NaN         SH     12.0   \n10                 h1            NaN          NaN         SH     14.0   \n11                 h3            Wf4          NaN         SH     15.0   \n12                 h1            Wf3          NaN         SH     16.0   \n13                 h0            Wf1          NaN         SH     17.0   \n14                 h0            NaN          NaN         SH     18.0   \n\n    Unnamed: 14    profile  max_depth  \\\n0           NaN  BB_0541.0      100.0   \n1           NaN  BB_0600.0       90.0   \n2           NaN  BB_0601.0      100.0   \n3           NaN  BB_0659.0      100.0   \n4           NaN  BB_0660.0      100.0   \n5           NaN  BB_0661.0      100.0   \n6           NaN  BB_0662.0      100.0   \n7           NaN  BB_0663.0      100.0   \n8           NaN  BB_0718.0      100.0   \n9           NaN  BB_0720.0      110.0   \n10          NaN  BB_0721.0      100.0   \n11          NaN  BB_0722.0      100.0   \n12          NaN  BB_0723.0      100.0   \n13          NaN  BB_0725.0       90.0   \n14          NaN  BB_0781.0      100.0   \n\n                                                 file  \n0   ../data/BGR/Profilbilder_no_ruler_no_sky/SH_00...  \n1   ../data/BGR/Profilbilder_no_ruler_no_sky/SH_00...  \n2   ../data/BGR/Profilbilder_no_ruler_no_sky/SH_00...  \n3   ../data/BGR/Profilbilder_no_ruler_no_sky/SH_00...  \n4   ../data/BGR/Profilbilder_no_ruler_no_sky/SH_00...  \n5   ../data/BGR/Profilbilder_no_ruler_no_sky/SH_00...  \n6   ../data/BGR/Profilbilder_no_ruler_no_sky/SH_00...  \n7   ../data/BGR/Profilbilder_no_ruler_no_sky/SH_00...  \n8   ../data/BGR/Profilbilder_no_ruler_no_sky/SH_00...  \n9   ../data/BGR/Profilbilder_no_ruler_no_sky/SH_00...  \n10  ../data/BGR/Profilbilder_no_ruler_no_sky/SH_00...  \n11  ../data/BGR/Profilbilder_no_ruler_no_sky/SH_00...  \n12  ../data/BGR/Profilbilder_no_ruler_no_sky/SH_00...  \n13  ../data/BGR/Profilbilder_no_ruler_no_sky/SH_00...  \n14  ../data/BGR/Profilbilder_no_ruler_no_sky/SH_00...  ",
      "text/html": "<div>\n<style scoped>\n    .dataframe tbody tr th:only-of-type {\n        vertical-align: middle;\n    }\n\n    .dataframe tbody tr th {\n        vertical-align: top;\n    }\n\n    .dataframe thead th {\n        text-align: right;\n    }\n</style>\n<table border=\"1\" class=\"dataframe\">\n  <thead>\n    <tr style=\"text-align: right;\">\n      <th></th>\n      <th>Point</th>\n      <th>HorizontID</th>\n      <th>Obergrenze</th>\n      <th>Untergrenze</th>\n      <th>Horizontsymbol</th>\n      <th>Horizontsymbol_relevant</th>\n      <th>Bodenart</th>\n      <th>Bodenfarbe</th>\n      <th>Steine</th>\n      <th>Karbonat</th>\n      <th>Humusgehaltsklasse</th>\n      <th>Durchwurzelung</th>\n      <th>Unnamed: 11</th>\n      <th>Bundesland</th>\n      <th>PointID</th>\n      <th>Unnamed: 14</th>\n      <th>profile</th>\n      <th>max_depth</th>\n      <th>file</th>\n    </tr>\n  </thead>\n  <tbody>\n    <tr>\n      <th>0</th>\n      <td>2.0</td>\n      <td>1.0</td>\n      <td>0.0</td>\n      <td>28.0</td>\n      <td>I; Ap</td>\n      <td>Ap</td>\n      <td>Sl2</td>\n      <td>7.5YR 3/2</td>\n      <td>3.0</td>\n      <td>C0</td>\n      <td>h3</td>\n      <td>Wf4</td>\n      <td>NaN</td>\n      <td>SH</td>\n      <td>2.0</td>\n      <td>NaN</td>\n      <td>BB_0541.0</td>\n      <td>100.0</td>\n      <td>../data/BGR/Profilbilder_no_ruler_no_sky/SH_00...</td>\n    </tr>\n    <tr>\n      <th>1</th>\n      <td>2.0</td>\n      <td>2.0</td>\n      <td>28.0</td>\n      <td>54.0</td>\n      <td>I; E</td>\n      <td>E</td>\n      <td>Sl2</td>\n      <td>10YR 3/3</td>\n      <td>3.0</td>\n      <td>C0</td>\n      <td>h2</td>\n      <td>Wf3</td>\n      <td>NaN</td>\n      <td>SH</td>\n      <td>3.0</td>\n      <td>NaN</td>\n      <td>BB_0600.0</td>\n      <td>90.0</td>\n      <td>../data/BGR/Profilbilder_no_ruler_no_sky/SH_00...</td>\n    </tr>\n    <tr>\n      <th>2</th>\n      <td>2.0</td>\n      <td>3.0</td>\n      <td>54.0</td>\n      <td>68.0</td>\n      <td>II; Bv</td>\n      <td>Bv</td>\n      <td>Sl2</td>\n      <td>7.5YR 4/3</td>\n      <td>10.0</td>\n      <td>C0</td>\n      <td>h1</td>\n      <td>Wf3</td>\n      <td>NaN</td>\n      <td>SH</td>\n      <td>4.0</td>\n      <td>NaN</td>\n      <td>BB_0601.0</td>\n      <td>100.0</td>\n      <td>../data/BGR/Profilbilder_no_ruler_no_sky/SH_00...</td>\n    </tr>\n    <tr>\n      <th>3</th>\n      <td>2.0</td>\n      <td>4.0</td>\n      <td>68.0</td>\n      <td>96.0</td>\n      <td>III; Bv-ilCv</td>\n      <td>Bv-ilC</td>\n      <td>fSms</td>\n      <td>7.5YR 6/4</td>\n      <td>1.0</td>\n      <td>C0</td>\n      <td>h0</td>\n      <td>Wf2</td>\n      <td>NaN</td>\n      <td>SH</td>\n      <td>5.0</td>\n      <td>NaN</td>\n      <td>BB_0659.0</td>\n      <td>100.0</td>\n      <td>../data/BGR/Profilbilder_no_ruler_no_sky/SH_00...</td>\n    </tr>\n    <tr>\n      <th>4</th>\n      <td>2.0</td>\n      <td>5.0</td>\n      <td>96.0</td>\n      <td>201.0</td>\n      <td>III; ilCv</td>\n      <td>ilC</td>\n      <td>mSfs</td>\n      <td>10YR 7/4</td>\n      <td>1.0</td>\n      <td>C0</td>\n      <td>h0</td>\n      <td>NaN</td>\n      <td>NaN</td>\n      <td>SH</td>\n      <td>6.0</td>\n      <td>NaN</td>\n      <td>BB_0660.0</td>\n      <td>100.0</td>\n      <td>../data/BGR/Profilbilder_no_ruler_no_sky/SH_00...</td>\n    </tr>\n    <tr>\n      <th>5</th>\n      <td>3.0</td>\n      <td>1.0</td>\n      <td>0.0</td>\n      <td>12.0</td>\n      <td>I; tbSw-Ah</td>\n      <td>tSw-Ah</td>\n      <td>Ls3</td>\n      <td>10YR 4/2</td>\n      <td>0.0</td>\n      <td>C0</td>\n      <td>h3</td>\n      <td>Wf6</td>\n      <td>NaN</td>\n      <td>SH</td>\n      <td>7.0</td>\n      <td>NaN</td>\n      <td>BB_0661.0</td>\n      <td>100.0</td>\n      <td>../data/BGR/Profilbilder_no_ruler_no_sky/SH_00...</td>\n    </tr>\n    <tr>\n      <th>6</th>\n      <td>3.0</td>\n      <td>2.0</td>\n      <td>12.0</td>\n      <td>30.0</td>\n      <td>I; tbSw-rAp</td>\n      <td>tSw-Ap</td>\n      <td>Ls2</td>\n      <td>10YR 4/2</td>\n      <td>0.0</td>\n      <td>C0</td>\n      <td>h2</td>\n      <td>Wf4</td>\n      <td>NaN</td>\n      <td>SH</td>\n      <td>8.0</td>\n      <td>NaN</td>\n      <td>BB_0662.0</td>\n      <td>100.0</td>\n      <td>../data/BGR/Profilbilder_no_ruler_no_sky/SH_00...</td>\n    </tr>\n    <tr>\n      <th>7</th>\n      <td>3.0</td>\n      <td>3.0</td>\n      <td>30.0</td>\n      <td>54.0</td>\n      <td>I; tbrGo-Sw</td>\n      <td>tGo-Sw</td>\n      <td>Ls4</td>\n      <td>2.5Y 5/1</td>\n      <td>0.0</td>\n      <td>C0</td>\n      <td>h1</td>\n      <td>Wf2</td>\n      <td>NaN</td>\n      <td>SH</td>\n      <td>10.0</td>\n      <td>NaN</td>\n      <td>BB_0663.0</td>\n      <td>100.0</td>\n      <td>../data/BGR/Profilbilder_no_ruler_no_sky/SH_00...</td>\n    </tr>\n    <tr>\n      <th>8</th>\n      <td>3.0</td>\n      <td>4.0</td>\n      <td>54.0</td>\n      <td>125.0</td>\n      <td>I; tbGo-Sd</td>\n      <td>tGo-Sd</td>\n      <td>Lu</td>\n      <td>5Y 5/1</td>\n      <td>0.0</td>\n      <td>C0</td>\n      <td>h1</td>\n      <td>NaN</td>\n      <td>NaN</td>\n      <td>SH</td>\n      <td>11.0</td>\n      <td>NaN</td>\n      <td>BB_0718.0</td>\n      <td>100.0</td>\n      <td>../data/BGR/Profilbilder_no_ruler_no_sky/SH_00...</td>\n    </tr>\n    <tr>\n      <th>9</th>\n      <td>3.0</td>\n      <td>5.0</td>\n      <td>125.0</td>\n      <td>160.0</td>\n      <td>II; tmGor</td>\n      <td>tGor</td>\n      <td>Su3</td>\n      <td>5Y 5/1</td>\n      <td>0.0</td>\n      <td>C0</td>\n      <td>h1</td>\n      <td>NaN</td>\n      <td>NaN</td>\n      <td>SH</td>\n      <td>12.0</td>\n      <td>NaN</td>\n      <td>BB_0720.0</td>\n      <td>110.0</td>\n      <td>../data/BGR/Profilbilder_no_ruler_no_sky/SH_00...</td>\n    </tr>\n    <tr>\n      <th>10</th>\n      <td>3.0</td>\n      <td>6.0</td>\n      <td>160.0</td>\n      <td>201.0</td>\n      <td>II; tmeGr</td>\n      <td>tGr</td>\n      <td>Su3</td>\n      <td>GLEY1 4/5GY</td>\n      <td>0.0</td>\n      <td>C3.2</td>\n      <td>h1</td>\n      <td>NaN</td>\n      <td>NaN</td>\n      <td>SH</td>\n      <td>14.0</td>\n      <td>NaN</td>\n      <td>BB_0721.0</td>\n      <td>100.0</td>\n      <td>../data/BGR/Profilbilder_no_ruler_no_sky/SH_00...</td>\n    </tr>\n    <tr>\n      <th>11</th>\n      <td>4.0</td>\n      <td>1.0</td>\n      <td>0.0</td>\n      <td>30.0</td>\n      <td>I; Sw-tbAp</td>\n      <td>Sw-tAp</td>\n      <td>Tu3</td>\n      <td>5Y 5/2</td>\n      <td>0.0</td>\n      <td>C0</td>\n      <td>h3</td>\n      <td>Wf4</td>\n      <td>NaN</td>\n      <td>SH</td>\n      <td>15.0</td>\n      <td>NaN</td>\n      <td>BB_0722.0</td>\n      <td>100.0</td>\n      <td>../data/BGR/Profilbilder_no_ruler_no_sky/SH_00...</td>\n    </tr>\n    <tr>\n      <th>12</th>\n      <td>4.0</td>\n      <td>2.0</td>\n      <td>30.0</td>\n      <td>74.0</td>\n      <td>I; tbSq</td>\n      <td>tSq</td>\n      <td>Tu3</td>\n      <td>5Y 5/1</td>\n      <td>0.0</td>\n      <td>C0</td>\n      <td>h1</td>\n      <td>Wf3</td>\n      <td>NaN</td>\n      <td>SH</td>\n      <td>16.0</td>\n      <td>NaN</td>\n      <td>BB_0723.0</td>\n      <td>100.0</td>\n      <td>../data/BGR/Profilbilder_no_ruler_no_sky/SH_00...</td>\n    </tr>\n    <tr>\n      <th>13</th>\n      <td>4.0</td>\n      <td>3.0</td>\n      <td>74.0</td>\n      <td>140.0</td>\n      <td>I; tbGro</td>\n      <td>tGro</td>\n      <td>Tu4</td>\n      <td>5Y 6/1</td>\n      <td>0.0</td>\n      <td>C0</td>\n      <td>h0</td>\n      <td>Wf1</td>\n      <td>NaN</td>\n      <td>SH</td>\n      <td>17.0</td>\n      <td>NaN</td>\n      <td>BB_0725.0</td>\n      <td>90.0</td>\n      <td>../data/BGR/Profilbilder_no_ruler_no_sky/SH_00...</td>\n    </tr>\n    <tr>\n      <th>14</th>\n      <td>4.0</td>\n      <td>4.0</td>\n      <td>140.0</td>\n      <td>200.0</td>\n      <td>I; tbGr</td>\n      <td>tGr</td>\n      <td>Tu4</td>\n      <td>GLEY1 5/N</td>\n      <td>0.0</td>\n      <td>C0</td>\n      <td>h0</td>\n      <td>NaN</td>\n      <td>NaN</td>\n      <td>SH</td>\n      <td>18.0</td>\n      <td>NaN</td>\n      <td>BB_0781.0</td>\n      <td>100.0</td>\n      <td>../data/BGR/Profilbilder_no_ruler_no_sky/SH_00...</td>\n    </tr>\n  </tbody>\n</table>\n</div>"
     },
     "execution_count": 8,
     "metadata": {},
     "output_type": "execute_result"
    }
   ],
   "source": [
    "df = pd.merge(df, img_files, how='inner', on=['Point']) # for full images\n",
    "#df = pd.merge(df, img_files, how='inner', on=['Point', 'HorizontID']) # for patches\n",
    "df['file'] = df['file'].map(lambda x: os.path.join(path_pictures, x))\n",
    "print(len(df))\n",
    "df.head(15)"
   ],
   "metadata": {
    "collapsed": false,
    "pycharm": {
     "name": "#%%\n"
    }
   }
  },
  {
   "cell_type": "markdown",
   "source": [
    "**Note**: When merging with the image dataset, the total dataframe increases in size, because some soil pictures were taken from more than one angle. These are still not duplicates, although the table features are the same for every such image."
   ],
   "metadata": {
    "collapsed": false
   }
  },
  {
   "cell_type": "code",
   "execution_count": 9,
   "outputs": [],
   "source": [
    "# Join with annotator ids\n",
    "#df_k = pd.read_csv(path_csv_annotator_ids)\n",
    "#df_k = df_k.rename({'PointID':'Point'},axis=1)\n",
    "#df_k.head()"
   ],
   "metadata": {
    "collapsed": false,
    "pycharm": {
     "name": "#%%\n"
    }
   }
  },
  {
   "cell_type": "code",
   "execution_count": 10,
   "outputs": [],
   "source": [
    "#df = pd.merge(df, df_k, how='inner', on='Point')\n",
    "#len(df)"
   ],
   "metadata": {
    "collapsed": false,
    "pycharm": {
     "name": "#%%\n"
    }
   }
  },
  {
   "cell_type": "markdown",
   "source": [
    "**Note**: When joining with the annotator ids, the size of df decreases, since we don't have this id for every sample in the df."
   ],
   "metadata": {
    "collapsed": false
   }
  },
  {
   "cell_type": "code",
   "execution_count": 11,
   "outputs": [
    {
     "name": "stdout",
     "output_type": "stream",
     "text": [
      "3106\n"
     ]
    },
    {
     "data": {
      "text/plain": "  Point Bundesland  Probenahme_Monat  Probenahme_Jahr       xcoord  \\\n0     2         SH                11             2015  462216.1283   \n1     3         SH                 6             2016  480546.9384   \n2     4         SH                 8             2018  484922.3074   \n3     5         SH                10             2015  497355.9905   \n4     6         SH                10             2015  505020.3377   \n\n        ycoord Bodenklimaraum_Name Landnutzung BZE_Moor Hauptbodentyp  \\\n0  6079359.775       Marsch - Nord           A        0            YE   \n1  6079739.216       Marsch - Nord           G        0            MD   \n2  6080011.471       Marsch - Nord           A        0            MK   \n3  6079646.589       Marsch - Nord           G        0            RQ   \n4   6080401.37        Geest - Nord           G        0            YU   \n\n  BodenVarTypSub GrundwaStufe GrundwaStand  Moormaechtigkeit  \\\n0          YE/BB            0         >200               0.0   \n1            MDn         GWS4          135               0.0   \n2            MKn         GWS4          105               0.0   \n3     p2RQ/GG-PP         GWS4          180               0.0   \n4        aGGe-YU         GWS4          140               0.0   \n\n   Torfmaechtigkeit Neigung Exposition Woelbung Reliefformtyp LageImRelief  \\\n0               0.0      N0        NaN       GG             V            Z   \n1               0.0      N0        NaN       GG           TSF            Z   \n2               0.0      N1         NE       GG            TH            Z   \n3               0.0    N0.2         SS       GG           KSF            K   \n4               0.0      N0        NaN       GG           TSF            Z   \n\n   KV_0_30  KV_30_100  \n0    81.89      54.19  \n1    71.62      59.74  \n2    65.60     120.40  \n3    88.82     220.87  \n4    62.97      84.35  ",
      "text/html": "<div>\n<style scoped>\n    .dataframe tbody tr th:only-of-type {\n        vertical-align: middle;\n    }\n\n    .dataframe tbody tr th {\n        vertical-align: top;\n    }\n\n    .dataframe thead th {\n        text-align: right;\n    }\n</style>\n<table border=\"1\" class=\"dataframe\">\n  <thead>\n    <tr style=\"text-align: right;\">\n      <th></th>\n      <th>Point</th>\n      <th>Bundesland</th>\n      <th>Probenahme_Monat</th>\n      <th>Probenahme_Jahr</th>\n      <th>xcoord</th>\n      <th>ycoord</th>\n      <th>Bodenklimaraum_Name</th>\n      <th>Landnutzung</th>\n      <th>BZE_Moor</th>\n      <th>Hauptbodentyp</th>\n      <th>BodenVarTypSub</th>\n      <th>GrundwaStufe</th>\n      <th>GrundwaStand</th>\n      <th>Moormaechtigkeit</th>\n      <th>Torfmaechtigkeit</th>\n      <th>Neigung</th>\n      <th>Exposition</th>\n      <th>Woelbung</th>\n      <th>Reliefformtyp</th>\n      <th>LageImRelief</th>\n      <th>KV_0_30</th>\n      <th>KV_30_100</th>\n    </tr>\n  </thead>\n  <tbody>\n    <tr>\n      <th>0</th>\n      <td>2</td>\n      <td>SH</td>\n      <td>11</td>\n      <td>2015</td>\n      <td>462216.1283</td>\n      <td>6079359.775</td>\n      <td>Marsch - Nord</td>\n      <td>A</td>\n      <td>0</td>\n      <td>YE</td>\n      <td>YE/BB</td>\n      <td>0</td>\n      <td>&gt;200</td>\n      <td>0.0</td>\n      <td>0.0</td>\n      <td>N0</td>\n      <td>NaN</td>\n      <td>GG</td>\n      <td>V</td>\n      <td>Z</td>\n      <td>81.89</td>\n      <td>54.19</td>\n    </tr>\n    <tr>\n      <th>1</th>\n      <td>3</td>\n      <td>SH</td>\n      <td>6</td>\n      <td>2016</td>\n      <td>480546.9384</td>\n      <td>6079739.216</td>\n      <td>Marsch - Nord</td>\n      <td>G</td>\n      <td>0</td>\n      <td>MD</td>\n      <td>MDn</td>\n      <td>GWS4</td>\n      <td>135</td>\n      <td>0.0</td>\n      <td>0.0</td>\n      <td>N0</td>\n      <td>NaN</td>\n      <td>GG</td>\n      <td>TSF</td>\n      <td>Z</td>\n      <td>71.62</td>\n      <td>59.74</td>\n    </tr>\n    <tr>\n      <th>2</th>\n      <td>4</td>\n      <td>SH</td>\n      <td>8</td>\n      <td>2018</td>\n      <td>484922.3074</td>\n      <td>6080011.471</td>\n      <td>Marsch - Nord</td>\n      <td>A</td>\n      <td>0</td>\n      <td>MK</td>\n      <td>MKn</td>\n      <td>GWS4</td>\n      <td>105</td>\n      <td>0.0</td>\n      <td>0.0</td>\n      <td>N1</td>\n      <td>NE</td>\n      <td>GG</td>\n      <td>TH</td>\n      <td>Z</td>\n      <td>65.60</td>\n      <td>120.40</td>\n    </tr>\n    <tr>\n      <th>3</th>\n      <td>5</td>\n      <td>SH</td>\n      <td>10</td>\n      <td>2015</td>\n      <td>497355.9905</td>\n      <td>6079646.589</td>\n      <td>Marsch - Nord</td>\n      <td>G</td>\n      <td>0</td>\n      <td>RQ</td>\n      <td>p2RQ/GG-PP</td>\n      <td>GWS4</td>\n      <td>180</td>\n      <td>0.0</td>\n      <td>0.0</td>\n      <td>N0.2</td>\n      <td>SS</td>\n      <td>GG</td>\n      <td>KSF</td>\n      <td>K</td>\n      <td>88.82</td>\n      <td>220.87</td>\n    </tr>\n    <tr>\n      <th>4</th>\n      <td>6</td>\n      <td>SH</td>\n      <td>10</td>\n      <td>2015</td>\n      <td>505020.3377</td>\n      <td>6080401.37</td>\n      <td>Geest - Nord</td>\n      <td>G</td>\n      <td>0</td>\n      <td>YU</td>\n      <td>aGGe-YU</td>\n      <td>GWS4</td>\n      <td>140</td>\n      <td>0.0</td>\n      <td>0.0</td>\n      <td>N0</td>\n      <td>NaN</td>\n      <td>GG</td>\n      <td>TSF</td>\n      <td>Z</td>\n      <td>62.97</td>\n      <td>84.35</td>\n    </tr>\n  </tbody>\n</table>\n</div>"
     },
     "execution_count": 11,
     "metadata": {},
     "output_type": "execute_result"
    }
   ],
   "source": [
    "# Join with table containing geographical infos\n",
    "df_loc = pd.read_csv(path_csv_locations, encoding='unicode_escape')\n",
    "df_loc = df_loc.rename({'PointID':'Point'},axis=1)\n",
    "print(len(df_loc))\n",
    "df_loc.head()"
   ],
   "metadata": {
    "collapsed": false,
    "pycharm": {
     "name": "#%%\n"
    }
   }
  },
  {
   "cell_type": "code",
   "execution_count": 12,
   "outputs": [
    {
     "data": {
      "text/plain": "16316"
     },
     "execution_count": 12,
     "metadata": {},
     "output_type": "execute_result"
    }
   ],
   "source": [
    "# There are some string artifacts when reading the Standort dataframe. Set them to NaN and remove the rows\n",
    "df_loc['Point'] = pd.to_numeric(df_loc['Point'], errors='coerce')\n",
    "df_loc = df_loc.dropna(subset=['Point'])\n",
    "df = pd.merge(df, df_loc, how='inner', on='Point')\n",
    "len(df)"
   ],
   "metadata": {
    "collapsed": false,
    "pycharm": {
     "name": "#%%\n"
    }
   }
  },
  {
   "cell_type": "markdown",
   "source": [
    "**Note** Size of df stays the same after merging with df_loc (Points in df_loc are all contained in Points df)."
   ],
   "metadata": {
    "collapsed": false
   }
  },
  {
   "cell_type": "code",
   "execution_count": 13,
   "outputs": [
    {
     "data": {
      "text/plain": "        Point  Obergrenze  Untergrenze Horizontsymbol_relevant Bodenart  \\\n0         2.0         0.0         28.0                      Ap      Sl2   \n1         2.0        28.0         54.0                       E      Sl2   \n2         2.0        54.0         68.0                      Bv      Sl2   \n3         2.0        68.0         96.0                  Bv-ilC     fSms   \n4         2.0        96.0        201.0                     ilC     mSfs   \n...       ...         ...          ...                     ...      ...   \n16311  6211.0        70.0        100.0                  Go-Bbs     fSms   \n16312  6211.0       100.0        130.0                      Go     fSms   \n16313  6211.0       100.0        130.0                      Go     fSms   \n16314  6211.0       130.0        155.0                      Gr     fSms   \n16315  6211.0       130.0        155.0                      Gr     fSms   \n\n      Bodenfarbe  Steine Karbonat Humusgehaltsklasse Durchwurzelung  \\\n0      7.5YR 3/2     3.0       C0                 h3            Wf4   \n1       10YR 3/3     3.0       C0                 h2            Wf3   \n2      7.5YR 4/3    10.0       C0                 h1            Wf3   \n3      7.5YR 6/4     1.0       C0                 h0            Wf2   \n4       10YR 7/4     1.0       C0                 h0            NaN   \n...          ...     ...      ...                ...            ...   \n16311  7.5YR 5/4     1.0       C0                 h1            Wf6   \n16312   2.5Y 6/4     1.0       C0                 h0            Wf4   \n16313   2.5Y 6/4     1.0       C0                 h0            Wf4   \n16314   2.5Y 5/4     1.0       C0                 h0            Wf2   \n16315   2.5Y 5/4     1.0       C0                 h0            Wf2   \n\n                                                    file  Probenahme_Monat  \\\n0      ../data/BGR/Profilbilder_no_ruler_no_sky/SH_00...                11   \n1      ../data/BGR/Profilbilder_no_ruler_no_sky/SH_00...                11   \n2      ../data/BGR/Profilbilder_no_ruler_no_sky/SH_00...                11   \n3      ../data/BGR/Profilbilder_no_ruler_no_sky/SH_00...                11   \n4      ../data/BGR/Profilbilder_no_ruler_no_sky/SH_00...                11   \n...                                                  ...               ...   \n16311  ../data/BGR/Profilbilder_no_ruler_no_sky/NI_62...                 6   \n16312  ../data/BGR/Profilbilder_no_ruler_no_sky/NI_62...                 6   \n16313  ../data/BGR/Profilbilder_no_ruler_no_sky/NI_62...                 6   \n16314  ../data/BGR/Profilbilder_no_ruler_no_sky/NI_62...                 6   \n16315  ../data/BGR/Profilbilder_no_ruler_no_sky/NI_62...                 6   \n\n       Probenahme_Jahr       xcoord       ycoord  \\\n0                 2015  462216.1283  6079359.775   \n1                 2015  462216.1283  6079359.775   \n2                 2015  462216.1283  6079359.775   \n3                 2015  462216.1283  6079359.775   \n4                 2015  462216.1283  6079359.775   \n...                ...          ...          ...   \n16311             2012  522076.9633  5930456.114   \n16312             2012  522076.9633  5930456.114   \n16313             2012  522076.9633  5930456.114   \n16314             2012  522076.9633  5930456.114   \n16315             2012  522076.9633  5930456.114   \n\n                      Bodenklimaraum_Name Landnutzung BZE_Moor Hauptbodentyp  \\\n0                           Marsch - Nord           A        0            YE   \n1                           Marsch - Nord           A        0            YE   \n2                           Marsch - Nord           A        0            YE   \n3                           Marsch - Nord           A        0            YE   \n4                           Marsch - Nord           A        0            YE   \n...                                   ...         ...      ...           ...   \n16311  Elbe-Weser-Dreieck / sandige Böden           G        0            PP   \n16312  Elbe-Weser-Dreieck / sandige Böden           G        0            PP   \n16313  Elbe-Weser-Dreieck / sandige Böden           G        0            PP   \n16314  Elbe-Weser-Dreieck / sandige Böden           G        0            PP   \n16315  Elbe-Weser-Dreieck / sandige Böden           G        0            PP   \n\n      BodenVarTypSub GrundwaStufe  GrundwaStand  Moormaechtigkeit  \\\n0              YE/BB            0         200.0               0.0   \n1              YE/BB            0         200.0               0.0   \n2              YE/BB            0         200.0               0.0   \n3              YE/BB            0         200.0               0.0   \n4              YE/BB            0         200.0               0.0   \n...              ...          ...           ...               ...   \n16311          GG-PP         GWS4         110.0               0.0   \n16312          GG-PP         GWS4         110.0               0.0   \n16313          GG-PP         GWS4         110.0               0.0   \n16314          GG-PP         GWS4         110.0               0.0   \n16315          GG-PP         GWS4         110.0               0.0   \n\n       Torfmaechtigkeit Neigung Exposition Woelbung Reliefformtyp  \\\n0                   0.0      N0        NaN       GG             V   \n1                   0.0      N0        NaN       GG             V   \n2                   0.0      N0        NaN       GG             V   \n3                   0.0      N0        NaN       GG             V   \n4                   0.0      N0        NaN       GG             V   \n...                 ...     ...        ...      ...           ...   \n16311               0.0      N0        NaN       GG           TSF   \n16312               0.0      N0        NaN       GG           TSF   \n16313               0.0      N0        NaN       GG           TSF   \n16314               0.0      N0        NaN       GG           TSF   \n16315               0.0      N0        NaN       GG           TSF   \n\n      LageImRelief  KV_0_30  KV_30_100  \n0                Z    81.89      54.19  \n1                Z    81.89      54.19  \n2                Z    81.89      54.19  \n3                Z    81.89      54.19  \n4                Z    81.89      54.19  \n...            ...      ...        ...  \n16311            T   117.59      87.72  \n16312            T   117.59      87.72  \n16313            T   117.59      87.72  \n16314            T   117.59      87.72  \n16315            T   117.59      87.72  \n\n[16316 rows x 31 columns]",
      "text/html": "<div>\n<style scoped>\n    .dataframe tbody tr th:only-of-type {\n        vertical-align: middle;\n    }\n\n    .dataframe tbody tr th {\n        vertical-align: top;\n    }\n\n    .dataframe thead th {\n        text-align: right;\n    }\n</style>\n<table border=\"1\" class=\"dataframe\">\n  <thead>\n    <tr style=\"text-align: right;\">\n      <th></th>\n      <th>Point</th>\n      <th>Obergrenze</th>\n      <th>Untergrenze</th>\n      <th>Horizontsymbol_relevant</th>\n      <th>Bodenart</th>\n      <th>Bodenfarbe</th>\n      <th>Steine</th>\n      <th>Karbonat</th>\n      <th>Humusgehaltsklasse</th>\n      <th>Durchwurzelung</th>\n      <th>file</th>\n      <th>Probenahme_Monat</th>\n      <th>Probenahme_Jahr</th>\n      <th>xcoord</th>\n      <th>ycoord</th>\n      <th>Bodenklimaraum_Name</th>\n      <th>Landnutzung</th>\n      <th>BZE_Moor</th>\n      <th>Hauptbodentyp</th>\n      <th>BodenVarTypSub</th>\n      <th>GrundwaStufe</th>\n      <th>GrundwaStand</th>\n      <th>Moormaechtigkeit</th>\n      <th>Torfmaechtigkeit</th>\n      <th>Neigung</th>\n      <th>Exposition</th>\n      <th>Woelbung</th>\n      <th>Reliefformtyp</th>\n      <th>LageImRelief</th>\n      <th>KV_0_30</th>\n      <th>KV_30_100</th>\n    </tr>\n  </thead>\n  <tbody>\n    <tr>\n      <th>0</th>\n      <td>2.0</td>\n      <td>0.0</td>\n      <td>28.0</td>\n      <td>Ap</td>\n      <td>Sl2</td>\n      <td>7.5YR 3/2</td>\n      <td>3.0</td>\n      <td>C0</td>\n      <td>h3</td>\n      <td>Wf4</td>\n      <td>../data/BGR/Profilbilder_no_ruler_no_sky/SH_00...</td>\n      <td>11</td>\n      <td>2015</td>\n      <td>462216.1283</td>\n      <td>6079359.775</td>\n      <td>Marsch - Nord</td>\n      <td>A</td>\n      <td>0</td>\n      <td>YE</td>\n      <td>YE/BB</td>\n      <td>0</td>\n      <td>200.0</td>\n      <td>0.0</td>\n      <td>0.0</td>\n      <td>N0</td>\n      <td>NaN</td>\n      <td>GG</td>\n      <td>V</td>\n      <td>Z</td>\n      <td>81.89</td>\n      <td>54.19</td>\n    </tr>\n    <tr>\n      <th>1</th>\n      <td>2.0</td>\n      <td>28.0</td>\n      <td>54.0</td>\n      <td>E</td>\n      <td>Sl2</td>\n      <td>10YR 3/3</td>\n      <td>3.0</td>\n      <td>C0</td>\n      <td>h2</td>\n      <td>Wf3</td>\n      <td>../data/BGR/Profilbilder_no_ruler_no_sky/SH_00...</td>\n      <td>11</td>\n      <td>2015</td>\n      <td>462216.1283</td>\n      <td>6079359.775</td>\n      <td>Marsch - Nord</td>\n      <td>A</td>\n      <td>0</td>\n      <td>YE</td>\n      <td>YE/BB</td>\n      <td>0</td>\n      <td>200.0</td>\n      <td>0.0</td>\n      <td>0.0</td>\n      <td>N0</td>\n      <td>NaN</td>\n      <td>GG</td>\n      <td>V</td>\n      <td>Z</td>\n      <td>81.89</td>\n      <td>54.19</td>\n    </tr>\n    <tr>\n      <th>2</th>\n      <td>2.0</td>\n      <td>54.0</td>\n      <td>68.0</td>\n      <td>Bv</td>\n      <td>Sl2</td>\n      <td>7.5YR 4/3</td>\n      <td>10.0</td>\n      <td>C0</td>\n      <td>h1</td>\n      <td>Wf3</td>\n      <td>../data/BGR/Profilbilder_no_ruler_no_sky/SH_00...</td>\n      <td>11</td>\n      <td>2015</td>\n      <td>462216.1283</td>\n      <td>6079359.775</td>\n      <td>Marsch - Nord</td>\n      <td>A</td>\n      <td>0</td>\n      <td>YE</td>\n      <td>YE/BB</td>\n      <td>0</td>\n      <td>200.0</td>\n      <td>0.0</td>\n      <td>0.0</td>\n      <td>N0</td>\n      <td>NaN</td>\n      <td>GG</td>\n      <td>V</td>\n      <td>Z</td>\n      <td>81.89</td>\n      <td>54.19</td>\n    </tr>\n    <tr>\n      <th>3</th>\n      <td>2.0</td>\n      <td>68.0</td>\n      <td>96.0</td>\n      <td>Bv-ilC</td>\n      <td>fSms</td>\n      <td>7.5YR 6/4</td>\n      <td>1.0</td>\n      <td>C0</td>\n      <td>h0</td>\n      <td>Wf2</td>\n      <td>../data/BGR/Profilbilder_no_ruler_no_sky/SH_00...</td>\n      <td>11</td>\n      <td>2015</td>\n      <td>462216.1283</td>\n      <td>6079359.775</td>\n      <td>Marsch - Nord</td>\n      <td>A</td>\n      <td>0</td>\n      <td>YE</td>\n      <td>YE/BB</td>\n      <td>0</td>\n      <td>200.0</td>\n      <td>0.0</td>\n      <td>0.0</td>\n      <td>N0</td>\n      <td>NaN</td>\n      <td>GG</td>\n      <td>V</td>\n      <td>Z</td>\n      <td>81.89</td>\n      <td>54.19</td>\n    </tr>\n    <tr>\n      <th>4</th>\n      <td>2.0</td>\n      <td>96.0</td>\n      <td>201.0</td>\n      <td>ilC</td>\n      <td>mSfs</td>\n      <td>10YR 7/4</td>\n      <td>1.0</td>\n      <td>C0</td>\n      <td>h0</td>\n      <td>NaN</td>\n      <td>../data/BGR/Profilbilder_no_ruler_no_sky/SH_00...</td>\n      <td>11</td>\n      <td>2015</td>\n      <td>462216.1283</td>\n      <td>6079359.775</td>\n      <td>Marsch - Nord</td>\n      <td>A</td>\n      <td>0</td>\n      <td>YE</td>\n      <td>YE/BB</td>\n      <td>0</td>\n      <td>200.0</td>\n      <td>0.0</td>\n      <td>0.0</td>\n      <td>N0</td>\n      <td>NaN</td>\n      <td>GG</td>\n      <td>V</td>\n      <td>Z</td>\n      <td>81.89</td>\n      <td>54.19</td>\n    </tr>\n    <tr>\n      <th>...</th>\n      <td>...</td>\n      <td>...</td>\n      <td>...</td>\n      <td>...</td>\n      <td>...</td>\n      <td>...</td>\n      <td>...</td>\n      <td>...</td>\n      <td>...</td>\n      <td>...</td>\n      <td>...</td>\n      <td>...</td>\n      <td>...</td>\n      <td>...</td>\n      <td>...</td>\n      <td>...</td>\n      <td>...</td>\n      <td>...</td>\n      <td>...</td>\n      <td>...</td>\n      <td>...</td>\n      <td>...</td>\n      <td>...</td>\n      <td>...</td>\n      <td>...</td>\n      <td>...</td>\n      <td>...</td>\n      <td>...</td>\n      <td>...</td>\n      <td>...</td>\n      <td>...</td>\n    </tr>\n    <tr>\n      <th>16311</th>\n      <td>6211.0</td>\n      <td>70.0</td>\n      <td>100.0</td>\n      <td>Go-Bbs</td>\n      <td>fSms</td>\n      <td>7.5YR 5/4</td>\n      <td>1.0</td>\n      <td>C0</td>\n      <td>h1</td>\n      <td>Wf6</td>\n      <td>../data/BGR/Profilbilder_no_ruler_no_sky/NI_62...</td>\n      <td>6</td>\n      <td>2012</td>\n      <td>522076.9633</td>\n      <td>5930456.114</td>\n      <td>Elbe-Weser-Dreieck / sandige Böden</td>\n      <td>G</td>\n      <td>0</td>\n      <td>PP</td>\n      <td>GG-PP</td>\n      <td>GWS4</td>\n      <td>110.0</td>\n      <td>0.0</td>\n      <td>0.0</td>\n      <td>N0</td>\n      <td>NaN</td>\n      <td>GG</td>\n      <td>TSF</td>\n      <td>T</td>\n      <td>117.59</td>\n      <td>87.72</td>\n    </tr>\n    <tr>\n      <th>16312</th>\n      <td>6211.0</td>\n      <td>100.0</td>\n      <td>130.0</td>\n      <td>Go</td>\n      <td>fSms</td>\n      <td>2.5Y 6/4</td>\n      <td>1.0</td>\n      <td>C0</td>\n      <td>h0</td>\n      <td>Wf4</td>\n      <td>../data/BGR/Profilbilder_no_ruler_no_sky/NI_62...</td>\n      <td>6</td>\n      <td>2012</td>\n      <td>522076.9633</td>\n      <td>5930456.114</td>\n      <td>Elbe-Weser-Dreieck / sandige Böden</td>\n      <td>G</td>\n      <td>0</td>\n      <td>PP</td>\n      <td>GG-PP</td>\n      <td>GWS4</td>\n      <td>110.0</td>\n      <td>0.0</td>\n      <td>0.0</td>\n      <td>N0</td>\n      <td>NaN</td>\n      <td>GG</td>\n      <td>TSF</td>\n      <td>T</td>\n      <td>117.59</td>\n      <td>87.72</td>\n    </tr>\n    <tr>\n      <th>16313</th>\n      <td>6211.0</td>\n      <td>100.0</td>\n      <td>130.0</td>\n      <td>Go</td>\n      <td>fSms</td>\n      <td>2.5Y 6/4</td>\n      <td>1.0</td>\n      <td>C0</td>\n      <td>h0</td>\n      <td>Wf4</td>\n      <td>../data/BGR/Profilbilder_no_ruler_no_sky/NI_62...</td>\n      <td>6</td>\n      <td>2012</td>\n      <td>522076.9633</td>\n      <td>5930456.114</td>\n      <td>Elbe-Weser-Dreieck / sandige Böden</td>\n      <td>G</td>\n      <td>0</td>\n      <td>PP</td>\n      <td>GG-PP</td>\n      <td>GWS4</td>\n      <td>110.0</td>\n      <td>0.0</td>\n      <td>0.0</td>\n      <td>N0</td>\n      <td>NaN</td>\n      <td>GG</td>\n      <td>TSF</td>\n      <td>T</td>\n      <td>117.59</td>\n      <td>87.72</td>\n    </tr>\n    <tr>\n      <th>16314</th>\n      <td>6211.0</td>\n      <td>130.0</td>\n      <td>155.0</td>\n      <td>Gr</td>\n      <td>fSms</td>\n      <td>2.5Y 5/4</td>\n      <td>1.0</td>\n      <td>C0</td>\n      <td>h0</td>\n      <td>Wf2</td>\n      <td>../data/BGR/Profilbilder_no_ruler_no_sky/NI_62...</td>\n      <td>6</td>\n      <td>2012</td>\n      <td>522076.9633</td>\n      <td>5930456.114</td>\n      <td>Elbe-Weser-Dreieck / sandige Böden</td>\n      <td>G</td>\n      <td>0</td>\n      <td>PP</td>\n      <td>GG-PP</td>\n      <td>GWS4</td>\n      <td>110.0</td>\n      <td>0.0</td>\n      <td>0.0</td>\n      <td>N0</td>\n      <td>NaN</td>\n      <td>GG</td>\n      <td>TSF</td>\n      <td>T</td>\n      <td>117.59</td>\n      <td>87.72</td>\n    </tr>\n    <tr>\n      <th>16315</th>\n      <td>6211.0</td>\n      <td>130.0</td>\n      <td>155.0</td>\n      <td>Gr</td>\n      <td>fSms</td>\n      <td>2.5Y 5/4</td>\n      <td>1.0</td>\n      <td>C0</td>\n      <td>h0</td>\n      <td>Wf2</td>\n      <td>../data/BGR/Profilbilder_no_ruler_no_sky/NI_62...</td>\n      <td>6</td>\n      <td>2012</td>\n      <td>522076.9633</td>\n      <td>5930456.114</td>\n      <td>Elbe-Weser-Dreieck / sandige Böden</td>\n      <td>G</td>\n      <td>0</td>\n      <td>PP</td>\n      <td>GG-PP</td>\n      <td>GWS4</td>\n      <td>110.0</td>\n      <td>0.0</td>\n      <td>0.0</td>\n      <td>N0</td>\n      <td>NaN</td>\n      <td>GG</td>\n      <td>TSF</td>\n      <td>T</td>\n      <td>117.59</td>\n      <td>87.72</td>\n    </tr>\n  </tbody>\n</table>\n<p>16316 rows × 31 columns</p>\n</div>"
     },
     "execution_count": 13,
     "metadata": {},
     "output_type": "execute_result"
    }
   ],
   "source": [
    "# Decide on which columns to keep for training\n",
    "keep_columns = ['Point', #'HorizontID',\n",
    "                'Obergrenze', 'Untergrenze',\n",
    "                #'Horizontsymbol',\n",
    "                'Horizontsymbol_relevant',\n",
    "                #'Horizont_cluster',\n",
    "                'Bodenart', 'Bodenfarbe', 'Steine', 'Karbonat', 'Humusgehaltsklasse', 'Durchwurzelung',\n",
    "                #'max_depth', # not needed for training (and also has mostly NaNs)\n",
    "                'file',\n",
    "                #'Aufnehmer', # only when merged with annotators\n",
    "                'Probenahme_Monat', 'Probenahme_Jahr', 'xcoord', 'ycoord', 'Bodenklimaraum_Name',\n",
    "                'Landnutzung', 'BZE_Moor', 'Hauptbodentyp', 'BodenVarTypSub', 'GrundwaStufe', 'GrundwaStand', 'Moormaechtigkeit',\n",
    "                'Torfmaechtigkeit', 'Neigung', 'Exposition', 'Woelbung', 'Reliefformtyp', 'LageImRelief', 'KV_0_30', 'KV_30_100']\n",
    "df = df[keep_columns]\n",
    "df['GrundwaStand'] = df['GrundwaStand'].str.replace('>','').astype(float)\n",
    "df['ycoord'] = df['ycoord'].astype(float)\n",
    "df"
   ],
   "metadata": {
    "collapsed": false,
    "pycharm": {
     "name": "#%%\n"
    }
   }
  },
  {
   "cell_type": "code",
   "execution_count": 14,
   "outputs": [
    {
     "data": {
      "text/plain": "13621"
     },
     "execution_count": 14,
     "metadata": {},
     "output_type": "execute_result"
    }
   ],
   "source": [
    "# Profile images only show horizons up to ~1 meter depth\n",
    "# Note: Filter only necessary when joining table with whole images, not horizon segments\n",
    "df = df[df['Obergrenze'] < 100]\n",
    "len(df)"
   ],
   "metadata": {
    "collapsed": false,
    "pycharm": {
     "name": "#%%\n"
    }
   }
  },
  {
   "cell_type": "markdown",
   "source": [
    "#### Imputation"
   ],
   "metadata": {
    "collapsed": false
   }
  },
  {
   "cell_type": "code",
   "execution_count": 15,
   "outputs": [
    {
     "name": "stderr",
     "output_type": "stream",
     "text": [
      "/tmp/ipykernel_1329007/1919224170.py:2: SettingWithCopyWarning: \n",
      "A value is trying to be set on a copy of a slice from a DataFrame.\n",
      "Try using .loc[row_indexer,col_indexer] = value instead\n",
      "\n",
      "See the caveats in the documentation: https://pandas.pydata.org/pandas-docs/stable/user_guide/indexing.html#returning-a-view-versus-a-copy\n",
      "  df['Steine'] = df['Steine'].fillna(0.0)\n",
      "/tmp/ipykernel_1329007/1919224170.py:3: SettingWithCopyWarning: \n",
      "A value is trying to be set on a copy of a slice from a DataFrame.\n",
      "Try using .loc[row_indexer,col_indexer] = value instead\n",
      "\n",
      "See the caveats in the documentation: https://pandas.pydata.org/pandas-docs/stable/user_guide/indexing.html#returning-a-view-versus-a-copy\n",
      "  df['Durchwurzelung'] = df['Durchwurzelung'].fillna('Wf0')\n",
      "/tmp/ipykernel_1329007/1919224170.py:4: SettingWithCopyWarning: \n",
      "A value is trying to be set on a copy of a slice from a DataFrame.\n",
      "Try using .loc[row_indexer,col_indexer] = value instead\n",
      "\n",
      "See the caveats in the documentation: https://pandas.pydata.org/pandas-docs/stable/user_guide/indexing.html#returning-a-view-versus-a-copy\n",
      "  df['Durchwurzelung'] = df['Durchwurzelung'].str.split(',').str[0] # Some values have double labels; only keep the first one\n",
      "/tmp/ipykernel_1329007/1919224170.py:5: SettingWithCopyWarning: \n",
      "A value is trying to be set on a copy of a slice from a DataFrame.\n",
      "Try using .loc[row_indexer,col_indexer] = value instead\n",
      "\n",
      "See the caveats in the documentation: https://pandas.pydata.org/pandas-docs/stable/user_guide/indexing.html#returning-a-view-versus-a-copy\n",
      "  df['Exposition'] = df['Exposition'].replace(['0', '---'], 'KE') # KE = Keine\n"
     ]
    }
   ],
   "source": [
    "# Replace some of the missing values with recommendations from geology\n",
    "df['Steine'] = df['Steine'].fillna(0.0)\n",
    "df['Durchwurzelung'] = df['Durchwurzelung'].fillna('Wf0')\n",
    "df['Durchwurzelung'] = df['Durchwurzelung'].str.split(',').str[0] # Some values have double labels; only keep the first one\n",
    "df['Exposition'] = df['Exposition'].replace(['0', '---'], 'KE') # KE = Keine\n",
    "df.loc[df['Exposition'].isna() & (df['Neigung'] == 'N0'), 'Exposition'] = 'KE' # NaN-Exposition should be 'KE', when Neigung is N0 (there will still be some other NaNs in Exposition"
   ],
   "metadata": {
    "collapsed": false,
    "pycharm": {
     "name": "#%%\n"
    }
   }
  },
  {
   "cell_type": "markdown",
   "source": [
    "#### Features and Labels Encoding"
   ],
   "metadata": {
    "collapsed": false
   }
  },
  {
   "cell_type": "code",
   "execution_count": 16,
   "outputs": [],
   "source": [
    "target = 'Horizontsymbol_relevant' #'Horizont_cluster'\n",
    "num_features   = ['xcoord','ycoord', 'Steine', 'GrundwaStand', 'Moormaechtigkeit', 'Torfmaechtigkeit', 'KV_0_30', 'KV_30_100']\n",
    "categ_features = ['Probenahme_Monat', 'Probenahme_Jahr',\n",
    "                  'Bodenart', 'Bodenfarbe', 'Karbonat', 'Humusgehaltsklasse', 'Durchwurzelung', 'Bodenklimaraum_Name',\n",
    "                  'Landnutzung', 'BZE_Moor', 'Hauptbodentyp', 'BodenVarTypSub', 'GrundwaStufe', 'Neigung',\n",
    "                  'Exposition', 'Woelbung', 'Reliefformtyp', 'LageImRelief']\n",
    "feature_columns = num_features + categ_features"
   ],
   "metadata": {
    "collapsed": false,
    "pycharm": {
     "name": "#%%\n"
    }
   }
  },
  {
   "cell_type": "code",
   "execution_count": 17,
   "outputs": [
    {
     "data": {
      "text/plain": "Horizontsymbol_relevant\nAp         2399\nAh          742\nBv          546\nSd          483\nGo          403\n           ... \nBsh-Bv        1\nilC+Ap        1\nM-Gkso        1\naAh°Gor       1\naAcp2         1\nName: count, Length: 1568, dtype: int64"
     },
     "execution_count": 17,
     "metadata": {},
     "output_type": "execute_result"
    }
   ],
   "source": [
    "counts = df[target].value_counts()\n",
    "counts"
   ],
   "metadata": {
    "collapsed": false,
    "pycharm": {
     "name": "#%%\n"
    }
   }
  },
  {
   "cell_type": "code",
   "execution_count": 18,
   "outputs": [
    {
     "name": "stdout",
     "output_type": "stream",
     "text": [
      "(87, 61)\n"
     ]
    },
    {
     "data": {
      "text/plain": "{'ind2label': ['ilC',\n  'Ael',\n  'Sd',\n  'C.',\n  'imCv',\n  'E.',\n  'emC',\n  'cC',\n  'clC',\n  'ilCbtv',\n  'aelC',\n  'Cv',\n  'Bsh',\n  'Axh',\n  'Bhv',\n  'P.',\n  'Bvt',\n  'Acxh',\n  'Gro',\n  'iC',\n  'tGro',\n  'Go',\n  'Ap',\n  'Gw',\n  'Aep',\n  'cmC',\n  'imC',\n  'Ssw',\n  'Mc',\n  'Hw',\n  'Acp',\n  'mCv',\n  'Bv',\n  'Sswd',\n  'elC',\n  'lC',\n  'Aeh',\n  'Bhs',\n  'Cj',\n  'tGr',\n  'Axp',\n  'bE',\n  'Gr',\n  'Gkso',\n  'Gor',\n  'M.',\n  'Bsv',\n  'Sw',\n  'Bt',\n  'Bcv',\n  'Btv',\n  'Hr',\n  'Hv',\n  'elCc',\n  'Bs',\n  'R.',\n  'tGo',\n  'Bh',\n  'Ah',\n  'Cbtv',\n  'Al',\n  'Sw-Bv',\n  'Bv-ilC',\n  'Bt-Sd',\n  'Bv-Cv',\n  'Sd-ilC',\n  'Al-Sw',\n  'Al-Bv',\n  'M-Go',\n  'Ael-Bt',\n  'Ah-Bv',\n  'Sw-M',\n  'Sw-Ap',\n  'Bv-Ael',\n  'Go-ilC',\n  'elC-P',\n  'Sd-Bv',\n  'Sw-ilC',\n  'Al-Bt',\n  'Sw-Ah',\n  'P-Sd',\n  'Sd-lC',\n  'Sw-Go',\n  'Sw-Bt',\n  'Sd-Btv',\n  'Bv-elC',\n  'M-Gro'],\n 'label2ind': {'ilC': 0,\n  'Ael': 1,\n  'Sd': 2,\n  'C.': 3,\n  'imCv': 4,\n  'E.': 5,\n  'emC': 6,\n  'cC': 7,\n  'clC': 8,\n  'ilCbtv': 9,\n  'aelC': 10,\n  'Cv': 11,\n  'Bsh': 12,\n  'Axh': 13,\n  'Bhv': 14,\n  'P.': 15,\n  'Bvt': 16,\n  'Acxh': 17,\n  'Gro': 18,\n  'iC': 19,\n  'tGro': 20,\n  'Go': 21,\n  'Ap': 22,\n  'Gw': 23,\n  'Aep': 24,\n  'cmC': 25,\n  'imC': 26,\n  'Ssw': 27,\n  'Mc': 28,\n  'Hw': 29,\n  'Acp': 30,\n  'mCv': 31,\n  'Bv': 32,\n  'Sswd': 33,\n  'elC': 34,\n  'lC': 35,\n  'Aeh': 36,\n  'Bhs': 37,\n  'Cj': 38,\n  'tGr': 39,\n  'Axp': 40,\n  'bE': 41,\n  'Gr': 42,\n  'Gkso': 43,\n  'Gor': 44,\n  'M.': 45,\n  'Bsv': 46,\n  'Sw': 47,\n  'Bt': 48,\n  'Bcv': 49,\n  'Btv': 50,\n  'Hr': 51,\n  'Hv': 52,\n  'elCc': 53,\n  'Bs': 54,\n  'R.': 55,\n  'tGo': 56,\n  'Bh': 57,\n  'Ah': 58,\n  'Cbtv': 59,\n  'Al': 60,\n  'Sw-Bv': 61,\n  'Bv-ilC': 62,\n  'Bt-Sd': 63,\n  'Bv-Cv': 64,\n  'Sd-ilC': 65,\n  'Al-Sw': 66,\n  'Al-Bv': 67,\n  'M-Go': 68,\n  'Ael-Bt': 69,\n  'Ah-Bv': 70,\n  'Sw-M': 71,\n  'Sw-Ap': 72,\n  'Bv-Ael': 73,\n  'Go-ilC': 74,\n  'elC-P': 75,\n  'Sd-Bv': 76,\n  'Sw-ilC': 77,\n  'Al-Bt': 78,\n  'Sw-Ah': 79,\n  'P-Sd': 80,\n  'Sd-lC': 81,\n  'Sw-Go': 82,\n  'Sw-Bt': 83,\n  'Sd-Btv': 84,\n  'Bv-elC': 85,\n  'M-Gro': 86},\n 'embedding': array([[1.  , 0.  , 0.  , ..., 0.  , 0.  , 0.  ],\n        [0.  , 1.  , 0.  , ..., 0.  , 0.  , 0.  ],\n        [0.  , 0.  , 1.  , ..., 0.  , 0.  , 0.  ],\n        ...,\n        [0.  , 0.  , 0.5 , ..., 0.  , 0.  , 0.  ],\n        [0.25, 0.  , 0.  , ..., 0.  , 0.  , 0.  ],\n        [0.  , 0.  , 0.  , ..., 0.  , 0.  , 0.  ]])}"
     },
     "execution_count": 18,
     "metadata": {},
     "output_type": "execute_result"
    }
   ],
   "source": [
    "# If already computed, load the HCE embeddings for the labels (see Label_Graph.ipynb)\n",
    "with open('./BGR/label_embeddings/all_horizons_embeddings.pickle', 'rb') as handle:\n",
    "    emb_dict = pickle.load(handle)\n",
    "print(np.shape(emb_dict['embedding']))\n",
    "emb_dict"
   ],
   "metadata": {
    "collapsed": false,
    "pycharm": {
     "name": "#%%\n"
    }
   }
  },
  {
   "cell_type": "code",
   "execution_count": 19,
   "outputs": [
    {
     "data": {
      "text/plain": "{'ilC': 0,\n 'Ael': 1,\n 'Sd': 2,\n 'C': 3,\n 'imCv': 4,\n 'E': 5,\n 'emC': 6,\n 'cC': 7,\n 'clC': 8,\n 'ilCbtv': 9,\n 'aelC': 10,\n 'Cv': 11,\n 'Bsh': 12,\n 'Axh': 13,\n 'Bhv': 14,\n 'P': 15,\n 'Bvt': 16,\n 'Acxh': 17,\n 'Gro': 18,\n 'iC': 19,\n 'tGro': 20,\n 'Go': 21,\n 'Ap': 22,\n 'Gw': 23,\n 'Aep': 24,\n 'cmC': 25,\n 'imC': 26,\n 'Ssw': 27,\n 'Mc': 28,\n 'Hw': 29,\n 'Acp': 30,\n 'mCv': 31,\n 'Bv': 32,\n 'Sswd': 33,\n 'elC': 34,\n 'lC': 35,\n 'Aeh': 36,\n 'Bhs': 37,\n 'Cj': 38,\n 'tGr': 39,\n 'Axp': 40,\n 'bE': 41,\n 'Gr': 42,\n 'Gkso': 43,\n 'Gor': 44,\n 'M': 45,\n 'Bsv': 46,\n 'Sw': 47,\n 'Bt': 48,\n 'Bcv': 49,\n 'Btv': 50,\n 'Hr': 51,\n 'Hv': 52,\n 'elCc': 53,\n 'Bs': 54,\n 'R': 55,\n 'tGo': 56,\n 'Bh': 57,\n 'Ah': 58,\n 'Cbtv': 59,\n 'Al': 60,\n 'Sw-Bv': 61,\n 'Bv-ilC': 62,\n 'Bt-Sd': 63,\n 'Bv-Cv': 64,\n 'Sd-ilC': 65,\n 'Al-Sw': 66,\n 'Al-Bv': 67,\n 'M-Go': 68,\n 'Ael-Bt': 69,\n 'Ah-Bv': 70,\n 'Sw-M': 71,\n 'Sw-Ap': 72,\n 'Bv-Ael': 73,\n 'Go-ilC': 74,\n 'elC-P': 75,\n 'Sd-Bv': 76,\n 'Sw-ilC': 77,\n 'Al-Bt': 78,\n 'Sw-Ah': 79,\n 'P-Sd': 80,\n 'Sd-lC': 81,\n 'Sw-Go': 82,\n 'Sw-Bt': 83,\n 'Sd-Btv': 84,\n 'Bv-elC': 85,\n 'M-Gro': 86}"
     },
     "execution_count": 19,
     "metadata": {},
     "output_type": "execute_result"
    }
   ],
   "source": [
    "# For HCE: create separate dict where labels made out only of main symbols are stripped of the full stop '.'\n",
    "# Note: We will use the label indexes from the embedding dictionary instead of a new sparse one-hot encoding to ease access to the embedding vectors during training via the original indexes from the emb_dict\n",
    "dict_mapping = {}\n",
    "for key, value in emb_dict['label2ind'].items():\n",
    "    dict_mapping[key.strip('.')] = value\n",
    "dict_mapping"
   ],
   "metadata": {
    "collapsed": false,
    "pycharm": {
     "name": "#%%\n"
    }
   }
  },
  {
   "cell_type": "code",
   "execution_count": 20,
   "outputs": [
    {
     "name": "stderr",
     "output_type": "stream",
     "text": [
      "/tmp/ipykernel_1329007/1744044841.py:2: SettingWithCopyWarning: \n",
      "A value is trying to be set on a copy of a slice from a DataFrame.\n",
      "Try using .loc[row_indexer,col_indexer] = value instead\n",
      "\n",
      "See the caveats in the documentation: https://pandas.pydata.org/pandas-docs/stable/user_guide/indexing.html#returning-a-view-versus-a-copy\n",
      "  df[target] = df[target].str.replace('+', '-', regex=False)\n",
      "/tmp/ipykernel_1329007/1744044841.py:3: SettingWithCopyWarning: \n",
      "A value is trying to be set on a copy of a slice from a DataFrame.\n",
      "Try using .loc[row_indexer,col_indexer] = value instead\n",
      "\n",
      "See the caveats in the documentation: https://pandas.pydata.org/pandas-docs/stable/user_guide/indexing.html#returning-a-view-versus-a-copy\n",
      "  df[target] = df[target].str.replace('°', '-', regex=False) # also these, so that there is only one type of mixtures (the minus-mixture)\n",
      "/tmp/ipykernel_1329007/1744044841.py:5: SettingWithCopyWarning: \n",
      "A value is trying to be set on a copy of a slice from a DataFrame.\n",
      "Try using .loc[row_indexer,col_indexer] = value instead\n",
      "\n",
      "See the caveats in the documentation: https://pandas.pydata.org/pandas-docs/stable/user_guide/indexing.html#returning-a-view-versus-a-copy\n",
      "  df[target] = df[target].str.replace(r'\\d+$', '', regex=True)\n"
     ]
    }
   ],
   "source": [
    "# Replace '+' with '-' in the target column (see Label_Graph.ipynb)\n",
    "df[target] = df[target].str.replace('+', '-', regex=False)\n",
    "df[target] = df[target].str.replace('°', '-', regex=False) # also these, so that there is only one type of mixtures (the minus-mixture)\n",
    "# Remove trailing numbers from the labels in the target column (they only account for how often the horizon is seen in the same picture)\n",
    "df[target] = df[target].str.replace(r'\\d+$', '', regex=True)"
   ],
   "metadata": {
    "collapsed": false,
    "pycharm": {
     "name": "#%%\n"
    }
   }
  },
  {
   "cell_type": "code",
   "execution_count": 21,
   "outputs": [
    {
     "data": {
      "text/plain": "{'Ap': 'Ap',\n 'E': 'E',\n 'Bv': 'Bv',\n 'Bv-ilC': 'Bv-ilC',\n 'ilC': 'ilC',\n 'tSw-Ah': 'Sw-Ah',\n 'tSw-Ap': 'Sw-Ap',\n 'tGo-Sw': 'tGo',\n 'tGo-Sd': 'tGo',\n 'Sw-tAp': 'Sw-Ap',\n 'tSq': 'Sd',\n 'tGro': 'tGro',\n 'Aeh': 'Aeh',\n 'Aep': 'Aep',\n 'oCv': 'Cv',\n 'fOh': 'Bsh',\n 'Ae': 'Ael',\n 'Bsh-Go': 'Bsh',\n 'Bs-Go': 'M-Go',\n 'R-Ah': 'Ah',\n 'R-Gso-Gr': 'Gor',\n 'R-Gr-Gso': 'M-Gro',\n 'R-Go-Gso': 'Gkso',\n 'tbSq': 'Sd',\n 'tGor': 'tGr',\n 'tAp-Go': 'tGo',\n 'Ah-ilCv': 'Bv-ilC',\n 'Aeh-Go': 'Aeh',\n 'Bs-Gw': 'Bsh',\n 'Go-Bhs': 'Bhs',\n 'Go-Ap': 'Sw-Ap',\n 'Go': 'Go',\n 'Gor': 'Gor',\n 'Gr': 'Gr',\n 'Gw': 'Gw',\n 'ilC-Bsh-Bs': 'ilC',\n 'Bhs-ilC': 'Bv-ilC',\n 'M': 'M',\n 'tAp': 'Ap',\n 'tGo': 'tGo',\n 'Hw': 'Hw',\n 'fnHr': 'Hr',\n 'tGo-Ap': 'tGo',\n 'Gro': 'Gro',\n 'Bh-Gw': 'Bhv',\n 'Bhs-Bs': 'Bhs',\n 'Bhs-Go': 'Bhs',\n 'Bhs': 'Bhs',\n 'Sw-Bs': 'Sw-Bv',\n 'Sd': 'Sd',\n 'Sw': 'Sw',\n 'Ap-Al': 'Ael',\n 'Bt-Sd': 'Bt-Sd',\n 'Al-Sw': 'Al-Sw',\n 'Ah': 'Ah',\n 'Swd': 'Sd',\n 'Bh-Aeh': 'Bv-Ael',\n 'Bsh': 'Bsh',\n 'Bs': 'Bs',\n 'Bbs-ilCv': 'Bv-ilC',\n 'Bbh-Bs-ilCv': 'Bv-ilC',\n 'Sd-Bv': 'Sd-Bv',\n 'Cv': 'Cv',\n 'ilC-Sw': 'Al-Sw',\n 'Bv-Sw': 'Bt-Sd',\n 'Sw-Al': 'Sw-Ap',\n 'Sd-Bt': 'Sd-Bv',\n 'tmeGo': 'tGo',\n 'Sw-Bhs-Ae': 'Sw-Bv',\n 'Bs-Sw': 'Bt-Sd',\n 'Bs-ilC': 'Bv-ilC',\n 'R-Go-Bsh': 'Bsh',\n 'Bv-Alh': 'Bv-ilC',\n 'Bvt': 'Bvt',\n 'Sw-Ap': 'Sw-Ap',\n 'Sd-Ap': 'Sw-Ap',\n 'Bv-Ah': 'Bv-Cv',\n 'ilC-Bv': 'ilCbtv',\n 'Bhs-Sw': 'Bhs',\n 'C-Ap': 'Ap',\n 'Bsv': 'Bsv',\n 'eSwd': 'Sd',\n 'Ap-Sw': 'Al-Sw',\n 'tGo-Ah': 'tGo',\n 'fnHw': 'Hw',\n 'Sw-ilC': 'Sw-ilC',\n 'Hv': 'Hv',\n 'Hr': 'Hr',\n 'Al': 'Al',\n 'Sw-M': 'Sw-M',\n 'Bv-Al': 'Bv-Ael',\n 'Bt': 'Bt',\n 'Axp': 'Axp',\n 'Axh': 'Axh',\n 'Axh-Sw': 'Al-Sw',\n 'elC': 'elC',\n 'Sd-lC': 'Sd-lC',\n 'Sd-ilC': 'Sd-ilC',\n 'tGr': 'tGr',\n 'tbGo': 'tGo',\n 'nHv': 'Hv',\n 'Swd-ilCv': 'Sd-ilC',\n 'Go-Aa': 'Go',\n 'Sdw-Bvt': 'Sw-Bv',\n 'Sw-Bv': 'Sw-Bv',\n 'Go-Ah': 'Sw-Ah',\n 'tbGor': 'tGr',\n 'tAh-Sd': 'Bt-Sd',\n 'Hv-Ah': 'Sw-Ah',\n 'lC-Hv': 'ilCbtv',\n 'tGr-Hr': 'tGro',\n 'toGr': 'tGr',\n 'Hm': 'Hw',\n 'Ha': 'Hw',\n 'Ae-Gw': 'Al-Sw',\n 'Ae-Bh-Gw': 'Aeh',\n 'Ah-Gr': 'Ah-Bv',\n 'Bsh-Gr': 'Bsh',\n 'R-Sw-Ap': 'Sw-Ap',\n 'R-Ah-Sw': 'Al-Sw',\n 'Go-Bs': 'Go',\n 'Ap-Swd': 'Al-Sw',\n 'M-Sw': 'Sw',\n 'Sw-Bt': 'Sw-Bt',\n 'Ap-Bt': 'Al-Bt',\n 'Aa': 'Ap',\n 'eSd': 'Sd',\n 'Ah-Go': 'M-Go',\n 'Al-Bv': 'Al-Bv',\n 'Btv': 'Btv',\n 'tSd-Go': 'Sw-Go',\n 'tSd-tGo': 'Sw-Go',\n 'Ahe': 'Ah',\n 'R-Ah-Bsh': 'Ah-Bv',\n 'ilCbtv': 'ilCbtv',\n 'Sw-Ah': 'Sw-Ah',\n 'Ah-Sd': 'Bt-Sd',\n 'P-Sd': 'P-Sd',\n 'Ah-Sw': 'Al-Sw',\n 'Sw-Bt-Al': 'Sw-Bt',\n 'Sw-Sd': 'Sw-Bv',\n 'Al-Bt-Swd': 'Bt-Sd',\n 'Bhv': 'Bhv',\n 'Bt-Al': 'Bt-Sd',\n 'tAh': 'Ah',\n 'Hv-Go': 'M-Go',\n 'Ae-Go': 'M-Go',\n 'Bh-Go': 'M-Go',\n 'Ae-Bh': 'Aeh',\n 'Bhs-Ssw': 'Ssw',\n 'hHv': 'Hv',\n 'Bbt-Bv': 'Btv',\n 'Bbt-ilC': 'Bv-ilC',\n 'Acp': 'Acp',\n 'Bt-Cv': 'Bv-Cv',\n 'Alh': 'Axh',\n 'Bh-Ae': 'Bv-Ael',\n 'Ae-Bs-Bh': 'Ael-Bt',\n 'Al-Bt': 'Al-Bt',\n 'lCv': 'Cv',\n 'Gho': 'Gro',\n 'Bs-ilCv': 'Bv-ilC',\n 'R': 'R',\n 'ilCv': 'ilC',\n 'M-Go': 'M-Go',\n 'Fr-Hw-Hr': 'Hw',\n 'Fr': 'Gr',\n 'R-Bhs': 'Bhs',\n 'Bbh': 'Bsh',\n 'Bv-M': 'Bvt',\n 'Ap-Al-Bv': 'Al-Bv',\n 'Sw-Btv': 'Sw-Bv',\n 'R-eSwd': 'P-Sd',\n 'Ah-Bv': 'Ah-Bv',\n 'Cbtv': 'Cbtv',\n 'ilC-Bbt': 'ilCbtv',\n 'Hp': 'Ap',\n 'Hca': 'cC',\n 'Hcw': 'Hw',\n 'Hcr': 'Hr',\n 'Ahl-Bv': 'Al-Bv',\n 'Ael': 'Ael',\n 'Ael-Bt': 'Ael-Bt',\n 'eAp': 'Ap',\n 'ijlCv': 'ilC',\n 'Go-Ahe': 'Go-ilC',\n 'Bt-Al-Sw': 'Al-Sw',\n 'Ahl': 'Ael',\n 'Sd-Btv': 'Sd-Btv',\n 'Bv-Ael-Sw': 'Bv-Ael',\n 'Ael-Sw': 'Al-Sw',\n 'lC': 'lC',\n 'Ht': 'Hw',\n 'fF': 'Sd',\n 'jeC': 'ilC',\n 'tGo-Ah-Sd': 'tGo',\n 'tAp-Sw': 'Al-Sw',\n 'nHr': 'Hr',\n 'Go-Sw': 'Al-Sw',\n 'H': 'C',\n 'F': 'C',\n 'oGr': 'tGr',\n 'Bs-Swd': 'Bt-Sd',\n 'R-ilC-Bhs': 'ilC',\n 'ilCv-Bs': 'ilC',\n 'Bv-Sd': 'Bt-Sd',\n 'Ael-Bv': 'Al-Bv',\n 'Ael-Bbt': 'Ael-Bt',\n 'Bt-Sdw': 'Bt-Sd',\n 'Bsh-Bv': 'Ah-Bv',\n 'R-Al': 'Al',\n 'C-Bbt': 'Bvt',\n 'Bbt-Al': 'Bt-Sd',\n 'lC-Bbt': 'Al-Bt',\n 'Al-Bv-Sw': 'Al-Sw',\n 'Swd-Bbt-Bv': 'Sd-Btv',\n 'Sd-Sw': 'Al-Sw',\n 'R-Ap': 'Ap',\n 'R-Aeh': 'Aeh',\n 'Gw-Bhs': 'Bhs',\n 'Bhs-Gw': 'Bhs',\n 'Hcv': 'Bcv',\n 'nHcr': 'Hr',\n 'rGo': 'Go',\n 'Fh': 'Bh',\n 'R-Ap-Ae-Bsh': 'Bsh',\n 'Go-Bsh': 'Bsh',\n 'Fr-Hw': 'Hw',\n 'Al-Swd': 'Al-Sw',\n 'Bv-Ael': 'Bv-Ael',\n 'R-Bs': 'Bs',\n 'tmzGr': 'tGr',\n 'Sw-Bsh': 'Sw-Bv',\n 'oC': 'C',\n 'Sw-Go': 'Sw-Go',\n 'Sd-Go': 'Sw-Go',\n 'eGro': 'Gro',\n 'Ctv-Sw': 'Bt-Sd',\n 'Ctv-Sd': 'Bt-Sd',\n 'Go-C': 'Go',\n 'eCv': 'Cv',\n 'Al-Bbt': 'Al-Bt',\n 'Bt-Ael': 'Bv-Ael',\n 'Bt-Sw-Al': 'Bt-Sd',\n 'Btv-Sd': 'Bt-Sd',\n 'tSq-Sw': 'Al-Sw',\n 'tAh-Go': 'tGo',\n 'Ahe-Bh-Bs': 'Ael-Bt',\n 'Bbs-Bsv-Bhs': 'Bsh',\n 'Sg-C': 'Sw-M',\n 'Bh': 'Bh',\n 'Go-Bv': 'Sw-Bv',\n 'hHw': 'Hw',\n 'nHw': 'Hw',\n 'C-Bbh-Bbs': 'Bhs',\n 'tGo-Sq': 'tGo',\n 'tAa': 'Ap',\n 'Go-Aeh': 'Aeh',\n 'Gmso': 'Gkso',\n 'Go-Swd': 'Bt-Sd',\n 'Bv-elC': 'Bv-elC',\n 'elCv': 'elC',\n 'Hcm': 'cC',\n 'Sdw-R': 'Sw-M',\n 'Bv-Bbt': 'Bvt',\n 'rnHv': 'Hv',\n 'Go-E': 'Go',\n 'Ae-Bhs': 'Aeh',\n 'Ht-Hv': 'Btv',\n 'Bs-Cv': 'Bv-Cv',\n 'Bs-Bh': 'Bsh',\n 'Ae-Aap': 'Aep',\n 'tpGo': 'tGo',\n 'Bvs': 'Bvt',\n 'enHr': 'Hr',\n 'Bv-Cv': 'Bv-Cv',\n 'Sw-Bv-Ael': 'Bv-Ael',\n 'Ap-Bv': 'Al-Bv',\n 'Al-Btv': 'Al-Bv',\n 'tSw-Sq': 'Sw-Bv',\n 'Aa-Go': 'M-Go',\n 'Gro-Go': 'Gro',\n 'Gor-Go': 'Gro',\n 'Go-Sd': 'Bt-Sd',\n 'F-Gw': 'Gw',\n 'Bv-Gw': 'Bv-Cv',\n 'Bh-Bs': 'Bhs',\n 'Ssw': 'Ssw',\n 'Bbt-Ael': 'Bv-Ael',\n 'Bbt-Cv-Bv': 'Bv-Cv',\n 'Ae-Bsh': 'Bsh',\n 'Bt-ilC': 'Bv-ilC',\n 'Bv-Go': 'Bv-Cv',\n 'Cv-Bv': 'Sw-Bv',\n 'Sw-Ael': 'Sw-Ap',\n 'Sd-lCc': 'Sd-lC',\n 'Swd-lCv': 'Sd-lC',\n 'tSw': 'Sw',\n 'Bv-Bh': 'Bv-Cv',\n 'Ap-Bsh': 'Bsh',\n 'Bsv-C': 'Bsv',\n 'jM': 'M',\n 'jM-jilCv': 'Bv-ilC',\n 'Go-ilC': 'Go-ilC',\n 'Ahe-Bh-Sw': 'Al-Sw',\n 'Bhsv': 'Bhv',\n 'Bbs': 'Bhs',\n 'Bt-Swd': 'Bt-Sd',\n 'Sdw-Ap': 'Sw-Ap',\n 'Sw-Cv': 'Sw-Bv',\n 'Gro-Sd': 'Gro',\n 'Bv-lCv': 'Bv-Cv',\n 'ilCv-Bt': 'Al-Bt',\n 'Sg-ilC': 'Sd-ilC',\n 'ilC-Go': 'ilC',\n 'Acxp': 'Acxh',\n 'elCc-Acxh': 'Acxh',\n 'elCc': 'elCc',\n 'eSw-lCv': 'Sw-Bv',\n 'Ah-Hv': 'Ah-Bv',\n 'jSw': 'Sw',\n 'Sd-Gor': 'Sw-Go',\n 'Ae-Bs-Go': 'Al-Bv',\n 'Sw-Bv-Cv': 'Sw-Bv',\n 'F-Go': 'M-Go',\n 'F-Gor': 'Gor',\n 'M-Ah': 'Ah',\n 'Aap': 'Ap',\n 'Sew': 'Ssw',\n 'Sd-Gkso': 'Gkso',\n 'Ahe-Bh': 'Ah-Bv',\n 'Bms': 'Bhs',\n 'Sw-Bhs': 'Sw-Bv',\n 'Aa-Bh': 'Al-Bv',\n 'Gmso-Bh': 'Gkso',\n 'Gso': 'Gro',\n 'aAh-Gor': 'Gor',\n 'ilC-Ap': 'ilC',\n 'Bs-Gso': 'M-Go',\n 'Ach': 'Axh',\n 'Acp-Gco': 'Acp',\n 'Gcro-Swd': 'Gro',\n 'Gco': 'Gro',\n 'Gcor': 'Gor',\n 'Sw-Axh': 'Sw-Ah',\n 'Axh-Swd': 'Al-Sw',\n 'Hcvm': 'Bcv',\n 'nHcv': 'Bcv',\n 'Bbh-Bbs-Bv': 'Ah-Bv',\n 'Bbh-Bbs-ilCv': 'Bv-ilC',\n 'Ahe-Ae': 'Ah-Bv',\n 'Go-Ae-Bsh': 'Bsh',\n 'Ae-Ap': 'Aep',\n 'lC-Bbs': 'lC',\n 'yGo-Ah': 'Sw-Ah',\n 'yGro': 'Gro',\n 'Ae-Bh-Bms': 'Ael-Bt',\n 'Bbs-Cv': 'Bv-Cv',\n 'rAep': 'Aep',\n 'Bhv-ilCv': 'Bv-ilC',\n 'Gkso': 'Gkso',\n 'aSw-M': 'Sw-M',\n 'Gkso-Gr': 'Gkso',\n 'Ah-Ahe-Bh': 'Ah-Bv',\n 'Go-Bsv-Bh': 'Bsh',\n 'R-Gr-H-Go': 'M-Gro',\n 'R-H-rGr-Go': 'M-Gro',\n 'R-Bh-Bs-Go': 'Bhs',\n 'Bhs-lC': 'Bhs',\n 'R-Bs-ilC-Ae': 'Bv-ilC',\n 'Bh-Bv': 'Ah-Bv',\n 'S-Ap': 'Sw-Ap',\n 'Sg-Ap': 'Sw-Ap',\n 'Sg-Bv': 'Sw-Bv',\n 'Go-Bv-Ctv': 'Bv-Cv',\n 'Ctv-Go': 'tGo',\n 'Swd-Bvt': 'Sw-Bv',\n 'Ael-Btv': 'Ael-Bt',\n 'Sw-Bt-ilCv': 'Sw-ilC',\n 'Sd-Bt-Ael': 'Bv-Ael',\n 'Bt-elCv': 'Bv-elC',\n 'Ael-M': 'Ael',\n 'R-Go-Bhs-Aa': 'Bhs',\n 'R-Gr': 'tGr',\n 'R-Go-rGr-H': 'Gor',\n 'jnHv': 'Hv',\n 'Hw-Gr': 'Sw-Go',\n 'C-M': 'C',\n 'Gkso-Bs': 'Gkso',\n 'R-Go-Hv': 'M-Go',\n 'R-Hv': 'Hv',\n 'R-Gr-Go-Hv': 'M-Gro',\n 'Cv-Sw': 'Al-Sw',\n 'Cv-Swd': 'Bt-Sd',\n 'Sw-Bv-ilC': 'Bv-ilC',\n 'Swd-ilCtv': 'Sd-ilC',\n 'Swd-elCc': 'Sd-ilC',\n 'Go-Bsv': 'Bsv',\n 'Go-Cbtv': 'ilCbtv',\n 'R-Go-Bs-Bh': 'Bsh',\n 'R-Bs-Bh-Ae': 'Bsh',\n 'H-Ah': 'Ah',\n 'H-Go': 'M-Go',\n 'H-Gro': 'M-Gro',\n 'aGr': 'tGr',\n 'aM': 'M',\n 'Go-lC': 'Go-ilC',\n 'Swd-Ap': 'Sw-Ap',\n 'aGo': 'Go',\n 'jAh': 'Ah',\n 'oGo': 'Go',\n 'Bv-Al-Sg': 'Bv-ilC',\n 'Bvt-Sg': 'Bt-Sd',\n 'Sg': 'Sd',\n 'Bv-Ctv': 'Bv-Cv',\n 'ilCtv': 'ilCbtv',\n 'Gcro': 'Gro',\n 'Bv-Gor': 'Gor',\n 'R-H-Go': 'M-Go',\n 'R-H-Bh-rGor': 'Gor',\n 'R-Gr-Hm': 'M-Gro',\n 'R-Gr-Hm-Go': 'M-Gro',\n 'R-Bh-Ae-Bs': 'Bv-Ael',\n 'Bsh-Bbs-Bbh': 'Bsh',\n 'ilC-Bbs-Bbh': 'ilCbtv',\n 'R-Bs-Aa-Bsh': 'Bsh',\n 'R-Ahe-Bh-Bs': 'Ael-Bt',\n 'Bbh-Go': 'M-Go',\n 'R-Sw-Ah': 'Sw-Ah',\n 'ilC-Bhs': 'ilC',\n 'R-Sw': 'Sw',\n 'Sd-Bvt': 'Sd-Bv',\n 'Bv-Bhs': 'Bhs',\n 'ilC-Bbs': 'ilC',\n 'ilC-Bbs-Bhs': 'ilCbtv',\n 'M-Sd': 'P-Sd',\n 'M-Sd-Go': 'M-Go',\n 'Bv-Ah-Go': 'Bv-Ael',\n 'Sw-Ael-Bv': 'Sw-Bv',\n 'Ah-Gw': 'Al-Sw',\n 'rGw': 'Gw',\n 'Gr-Hw': 'Gro',\n 'Gr-Hr': 'Gro',\n 'Bv-ilC-Go': 'Bv-ilC',\n 'R-hH-Go': 'M-Go',\n 'Fh-Gor': 'Gor',\n 'R-Go-H': 'M-Go',\n 'jaGo': 'Go',\n 'ilCv-Sd': 'ilC',\n 'M-Gro': 'M-Gro',\n 'M-Gor': 'M-Go',\n 'ailCv': 'ilC',\n 'A-Bv': 'Al-Bv',\n 'Gho-Bv-Al': 'Ah-Bv',\n 'Go-Bt': 'Al-Bt',\n 'Gcr-Go': 'Gro',\n 'Bvt-Ael': 'Bv-Ael',\n 'Go-Ctv': 'Bv-Cv',\n 'Bh-Ahe': 'Bv-Ael',\n 'Gw-Aap': 'Sw-Ap',\n 'Go-M': 'Go',\n 'Gor-Sd': 'Gor',\n 'Bhv-ilC': 'Bv-ilC',\n 'Sw-Bhv': 'Sw-Bv',\n 'Bv-Cbtv': 'Bv-Cv',\n 'Go-Bv-Ap': 'Sw-Bv',\n 'Fo': 'Go',\n 'Sw-M-Go': 'Sw-Go',\n 'Sd-M-Gro': 'M-Gro',\n 'R-H-Bs-ilC': 'Bv-ilC',\n 'R-Bh-Bhs-H': 'Bhs',\n 'R-Bh-Bs-Sw': 'Bhs',\n 'Ae-Hv': 'Al-Bv',\n 'Ah-ilC': 'Bv-ilC',\n 'Hv-ilC': 'Bv-ilC',\n 'Ael-Bt-Sd': 'Ael-Bt',\n 'Bbt-lCv': 'Bv-Cv',\n 'Gho-Bv': 'Ah-Bv',\n 'aAcp': 'Acp',\n 'aGco': 'Gro',\n 'Fw': 'Gw',\n 'jGo-M': 'Go',\n 'Gor-M': 'Gor',\n 'eM': 'M',\n 'Sdw-M-Go': 'Sw-Go',\n 'Sd-M-Go': 'M-Go',\n 'Hw-M-Go': 'M-Go',\n 'R-hH-Cv': 'Bv-Cv',\n 'R-C-H': 'elC-P',\n 'R-H-Gho': 'M-Go',\n 'R-Ae-Bhs-Gkso': 'Gkso',\n 'R-Bhs-Go': 'Bhs',\n 'R-Bsh-Ae': 'Bsh',\n 'Bh-Bs-ilC': 'Bv-ilC',\n 'R-Go-Hm': 'M-Go',\n 'Bhms': 'Bhs',\n 'Sdw-Bt-Ael': 'Bv-Ael',\n 'Swd-Ael-Bt': 'Ael-Bt',\n 'Swd-Ael-Bbt': 'Ael-Bt',\n 'renHv-rnHvp': 'Bv-Cv',\n 'M-Gr': 'M-Go',\n 'Sd-elC': 'Sd-ilC',\n 'jAp': 'Ap',\n 'eAh': 'Ah',\n 'aAp': 'Ap',\n 'aAh': 'Ah',\n 'Ghor': 'Gor',\n 'Fh-Fw': 'Al-Sw',\n 'Ghr': 'Gr',\n 'gE': 'E',\n 'Go-Bhv': 'Bhv',\n 'R-Bh-Bs-Ahe': 'Bsh',\n 'Bbh-ilC': 'Bv-ilC',\n 'Gw-ilC': 'Go-ilC',\n 'R-ilC-Bsh-Ahe': 'ilC',\n 'Bhs-Cv': 'Bv-Cv',\n 'Ae-Ahe': 'Aeh',\n 'Bhs-ilCv': 'Bv-ilC',\n 'R-Bh-Bv-Ah': 'Ah-Bv',\n 'R-Bv-Bhv-C': 'Bv-ilC',\n 'R-Bh-Ahe-Bs': 'Ah-Bv',\n 'F-Gr': 'tGr',\n 'ilC-Bt': 'Al-Bt',\n 'Go-Bbt': 'Go-ilC',\n 'Sg-Ap-Bv': 'Sw-Bv',\n 'Bv-ilCbtv': 'ilCbtv',\n 'Sg-elCc': 'elCc',\n 'Sg-elCv': 'Sd-ilC',\n 'Ah-Ae-Bhs': 'Ah-Bv',\n 'Bhs-lCv': 'Bv-Cv',\n 'Ahe-Go': 'M-Go',\n 'R-Bsh-Go': 'Bsh',\n 'R-Ae-Bhs-ilC': 'Bv-ilC',\n 'E-Al': 'Al',\n 'R-Go-Aa': 'M-Go',\n 'R-Ae-Bh': 'Aeh',\n 'R-gE': 'E',\n 'Bh-ilCv': 'Bv-ilC',\n 'Gr-Sd': 'Bt-Sd',\n 'Yr': 'Gr',\n 'fF-eGro': 'M-Gro',\n 'fFr': 'tGr',\n 'R-H-Go-Bs': 'M-Go',\n 'R-Go-Aeh-Bhs': 'Ael-Bt',\n 'R-Aeh-Bhs-Go': 'Ael-Bt',\n 'Bsh-rGo': 'Bsh',\n 'R-Go': 'M-Go',\n 'R-Gw-ilCv': 'Go-ilC',\n 'Bv-Bs': 'Bv-Cv',\n 'raeM-Go': 'M-Go',\n 'Bv-ilCv-Bbt': 'Bv-ilC',\n 'jSw-Ap': 'Sw-Ap',\n 'Sd-Ex': 'Sd-Bv',\n 'elCkc-Sd': 'elCc',\n 'R-Gr-Bh-Gso': 'M-Gro',\n 'R-Ap-Gro': 'M-Gro',\n 'Bv-imC': 'Bv-ilC',\n 'Cv-Sd': 'Bt-Sd',\n 'rGkso': 'Gkso',\n 'Gkso-Go': 'Gkso',\n 'R-Bv-Ap': 'Bv-Cv',\n 'Ap-Aeh': 'Aeh',\n 'Bh-Gmso': 'Bhs',\n 'Bt-Ael-Swd': 'Bt-Sd',\n 'aGso': 'Gro',\n 'aGro': 'Gro',\n 'Gso-Bv': 'Sw-Bv',\n 'Sd-Ael-Bt': 'Ael-Bt',\n 'Go-ilC-Bbt': 'Go-ilC',\n 'Ah-Swd': 'Al-Sw',\n 'bE': 'bE',\n 'bE-Go': 'M-Go',\n 'Bhv-Sw': 'Bhv',\n 'Go-gE': 'Go',\n 'P': 'P',\n 'ilC-Go-Ah': 'ilC',\n 'Fr-Gro': 'M-Gro',\n 'Fr-Gor': 'Gor',\n 'Fr-Gr': 'tGr',\n 'Ap-Go': 'M-Go',\n 'elC-Bbt': 'Ael-Bt',\n 'Ahe-Bhs': 'Ah-Bv',\n 'Bbhs': 'Bhs',\n 'Bbhs-Go': 'Bhs',\n 'Swd-elCv': 'Sd-ilC',\n 'cmC': 'cmC',\n 'raGo': 'Go',\n 'R-Go-Bs-Ae': 'M-Go',\n 'M-ilCv': 'ilC',\n 'Sdg': 'Sd',\n 'Sw-P': 'Sw-M',\n 'Sd-P': 'Sd',\n 'elC-P': 'elC-P',\n 'aM-Go': 'M-Go',\n 'Sdw': 'Sd',\n 'rAp': 'Ap',\n 'Bv-Gkso': 'Gkso',\n 'Sw-Al-Bv': 'Sw-Bv',\n 'elC-Axh': 'elC-P',\n 'Axh-elC': 'Bv-elC',\n 'Sw-elC': 'Sw-ilC',\n 'Al-Axh': 'Axh',\n 'Bv-Axh': 'Bv-Ael',\n 'Acxh': 'Acxh',\n 'elCc-Swd': 'elCc',\n 'ilC-Ael-Sw': 'Al-Sw',\n 'Go-Bv-Gr': 'Gor',\n 'Gro-Sg': 'Gro',\n 'R-Ae-Bs-Ap': 'Aep',\n 'R-Ah-Ae-Bs': 'Ah-Bv',\n 'Bv-Ap': 'Bv-Cv',\n 'R-E-Aa-Go': 'M-Go',\n 'Go-Bvs': 'Sw-Bv',\n 'Ah-Gro': 'M-Gro',\n 'Gkso-Gro': 'Gkso',\n 'H-Gkso-Gr': 'Gkso',\n 'Bj-Cv': 'Bv-Cv',\n 'Bh-Bcv': 'Ah-Bv',\n 'Bcv-elC': 'Bv-elC',\n 'elC-Sd': 'elC-P',\n 'clC': 'clC',\n 'lCv-Bcv': 'Bcv',\n 'lC-emC': 'emC',\n 'elC-emC': 'elC-P',\n 'elC-Acxh': 'Acxh',\n 'rGcro-elC': 'Go-ilC',\n 'eAcp': 'Acp',\n 'Sg-Bv-ilCv': 'Bv-ilC',\n 'Fh-Fo': 'M-Go',\n 'Ah-Sw-Ael': 'Al-Sw',\n 'Bt-Scdw': 'Bt-Sd',\n 'Scd': 'Sd',\n 'R-Bhs-Ap-Go': 'Bhs',\n 'R-Bh': 'Bh',\n 'ilC-Bsh': 'ilC',\n 'E-Go': 'M-Go',\n 'Go-ilC-Bhs': 'Go-ilC',\n 'Go-Sw-Sd': 'Sw-Bv',\n 'Bhs-Go-Sw': 'Bhs',\n 'Go-Sdw': 'Bt-Sd',\n 'Bt-Sw': 'Bt-Sd',\n 'imC': 'imC',\n 'Sdg-Bt': 'Sd-Bv',\n 'emC': 'emC',\n 'Swd-Axh': 'Sw-Ah',\n 'Go-Axh': 'Axh',\n 'Axh-Go': 'Axh',\n 'Bcv-Axh': 'Bv-Ael',\n 'R-Hv-Ah-ilCv': 'Bv-ilC',\n 'Go-Ael': 'Bv-Ael',\n 'Go-Bt-Ael': 'Bv-Ael',\n 'Btv-Ael': 'Bv-Ael',\n 'Gr-Go': 'Gro',\n 'R-Go-Ah': 'M-Go',\n 'Bms-Go': 'M-Go',\n 'R-Bsv': 'Bsv',\n 'Sd-Cv': 'Sd-Bv',\n 'Btv-ilC': 'Bv-ilC',\n 'Bcv-Tv': 'Bv-Cv',\n 'cC-Swd': 'Bt-Sd',\n 'Go-Acxh': 'Acxh',\n 'Ael-Sd-Bt': 'Ael-Bt',\n 'Ael-Ap': 'Ael-Bt',\n 'Bhs-Aeh': 'Bv-Ael',\n 'ilC-Bsv': 'ilCbtv',\n 'elCv-Bcv': 'elCc',\n 'R-E': 'E',\n 'Srd': 'Sd',\n 'gE-Go': 'M-Go',\n 'gbE-Ap': 'Sw-Ap',\n 'Aeh-Bsh': 'Ael-Bt',\n 'Ae-Bh-Bs': 'Ael-Bt',\n 'Al-Bvt': 'Al-Bv',\n 'jeM': 'Ael',\n 'Swd-lCv-Axh': 'Sw-Ah',\n 'Axh-M': 'Axh',\n 'Acxh-elCc': 'Acxh',\n 'elCc-Axh': 'elCc',\n 'aAxp': 'Axp',\n 'Sw-Bt-Sd': 'Bt-Sd',\n 'Bbt-Ael-Bv': 'Al-Bv',\n 'Sw-Bv-Bbt': 'Sw-Bv',\n 'Bbt': 'Bvt',\n 'rGo-ilCv': 'Go-ilC',\n 'Sg-Ael-Bt': 'Ael-Bt',\n 'Swd-lCv-Bbt': 'Sd-lC',\n 'ejCv': 'imCv',\n 'Go-ilCv-H': 'Go-ilC',\n 'aelC': 'aelC',\n 'Gkso-M': 'Gkso',\n 'Gkso-Go-Bhsv': 'Gkso',\n 'Sewd': 'Sswd',\n 'Sswd': 'Sswd',\n 'Go-Sw-E': 'Al-Sw',\n 'P-Cv-Swd': 'P-Sd',\n 'elC-Scd': 'elCc',\n 'Al-Ap': 'Al-Sw',\n 'Sd-Al-Bt': 'Al-Bt',\n 'mCv': 'mCv',\n 'Axh-Bv': 'Ah-Bv',\n 'Bv-elCc': 'Bv-elC',\n 'Axh-lC': 'Axh',\n 'Axh-ilCv-Sw': 'Al-Sw',\n 'Swd-Go-M': 'Sw-Go',\n 'Ah-M': 'Ah',\n 'jGo': 'Go',\n 'Aah-Gr': 'Ah-Bv',\n 'raAp': 'Ap',\n 'M-Gso': 'M-Go',\n 'raGr': 'tGr',\n 'eGo-Cv': 'Bv-Cv',\n 'eC-Go': 'M-Go',\n 'Sdw-Bv-Al': 'Sw-Bv',\n 'Go-Mc': 'Go',\n 'E-ilC': 'ilC',\n 'Bh-Sw': 'Bt-Sd',\n 'Swd-eCv': 'Sw-Bv',\n 'eC-Sd': 'Bt-Sd',\n 'Bt-Al-Bv': 'Al-Bv',\n 'Al-Bv-Bt': 'Al-Bv',\n 'M-Sdw': 'P-Sd',\n 'Sw-Ael-Bt': 'Ael-Bt',\n 'elC-Ap': 'elC-P',\n 'jeF': 'Ael',\n 'Bcv-Cc': 'Bv-Cv',\n 'Go-Cc-elCv': 'Go-ilC',\n 'Axh-Bv-elC': 'Bv-elC',\n 'eAxp': 'Axp',\n 'Sw-Bt-Ael': 'Bv-Ael',\n 'Sdw-Go': 'Sw-Go',\n 'H-Go-Ah': 'M-Go',\n 'ylC': 'ilC',\n 'Ae-Bhs-Go': 'Aeh',\n 'Ae-Bh-Go': 'Aeh',\n 'F-Gr-Gor': 'M-Gro',\n 'Sd-elCv': 'Sd-ilC',\n 'Ah-eC': 'Ah-Bv',\n 'C': 'C',\n 'elCv-Axh-Bv': 'Ah-Bv',\n 'Bcv': 'Bcv',\n 'Sg-Axh': 'Sw-Ah',\n 'Axh-Sg': 'Axh',\n 'Ael-Bv-Btv': 'Ael-Bt',\n 'elC-Bv': 'Al-Bv',\n 'Swd-lC': 'Sd-lC',\n 'M-Swd': 'P-Sd',\n 'Sw-Ah-Go': 'Sw-Ah',\n 'rSw-Go': 'Sw-Go',\n 'Sw-Gr': 'Sw-Go',\n 'Ap-Sw-ilCv': 'Sw-ilC',\n 'Sg-Bv-ilCbtv': 'ilCbtv',\n 'Sg-Al': 'Sw-Ap',\n 'Bhs-Ae': 'Bhs',\n 'Al-Bt-Sw': 'Al-Sw',\n 'Acp-Swd-Bv': 'Sw-Bv',\n 'Go-Bv-Swd': 'Bt-Sd',\n 'Bv-Tv': 'Bv-Cv',\n 'Tv-elC': 'Bv-elC',\n 'Ah-Cv': 'Ah-Bv',\n 'M-Bv': 'Bv',\n 'iC': 'iC',\n 'Axh-elCc': 'elCc',\n 'Alh-Bv': 'Al-Bv',\n 'Go-Swd-M': 'Sw-M',\n 'Swd-Go': 'Sw-Go',\n 'Gro-Swd': 'Gro',\n 'Gr-Sd-Go': 'Sw-Go',\n 'aeM': 'Ael',\n 'M-Al-Bv': 'Al-Bv',\n 'ilC-Sd': 'ilC',\n 'xCn': 'C',\n 'Bcv-lCc': 'Bv-ilC',\n 'Bcv-elCc': 'Bv-elC',\n 'elCc-Bcv': 'elCc',\n 'Mc': 'Mc',\n 'Sw-lC': 'Sw-ilC',\n 'Serw': 'Ssw',\n 'M-Gkso': 'Gkso',\n 'jilCv': 'ilC',\n 'Ap-E': 'Ap',\n 'Bv-Swd': 'Bt-Sd',\n 'Bt-Sg': 'Bt-Sd',\n 'iCv-Sd': 'Bt-Sd',\n 'Btv-Sdw': 'Bt-Sd',\n 'mcC': 'cC',\n 'Al-Bt-Sdw': 'Bt-Sd',\n 'mC': 'C',\n 'cmCv-elCv': 'Bv-elC',\n 'Cc-Bcv': 'Bcv',\n 'Bt-elC': 'Bv-elC',\n 'ilCn': 'ilC',\n 'Sg-M': 'Sw-M',\n 'rGr': 'tGr',\n 'Ahl-Bt': 'Ael-Bt',\n 'Sg-Bt': 'Sw-Bt',\n 'M-elC': 'aelC',\n 'Gkso-Gor': 'Gkso',\n 'R-Axh': 'Axh',\n 'Bt-elCc': 'Bv-elC',\n 'lCc-Sd': 'Bt-Sd',\n 'Sdw-Bt': 'Sw-Bt',\n 'Sw-Sd-Bt': 'Sw-Bt',\n 'Sg-Go': 'Sw-Go',\n 'Swd-Bt-ilC': 'Sd-ilC',\n 'Bt-lCv': 'Bv-Cv',\n 'Sd-M': 'Sw-M',\n 'elC-Go': 'elC-P',\n 'aeGo': 'aelC',\n 'rAxh': 'Axh',\n 'Bt-Axh': 'Axh',\n 'Bvt-Axh': 'Bv-Ael',\n 'eMc': 'Mc',\n 'R-Bvt': 'Bvt',\n 'ilC-Swd': 'Al-Sw',\n 'mCn': 'mCv',\n 'Swd-Bbt': 'Sw-Bt',\n 'imCv': 'imCv',\n 'eCv-Sw': 'Al-Sw',\n 'Sw-lCc': 'Sw-ilC',\n 'Gro-M': 'Gro',\n 'jeAp': 'Ap',\n 'jelC': 'aelC',\n 'elCn': 'elC',\n 'Sg-ilCv': 'Sd-ilC',\n 'Swd-M': 'Sw-M',\n 'jlCv': 'ilC',\n 'Btv-Sg': 'Bt-Sd',\n 'Al-Swd-Bt': 'Al-Sw',\n 'ilCv-Bv': 'ilCbtv',\n 'Sd-C': 'Sd-lC',\n 'Bv-mCv': 'Bv-Cv',\n 'Bv-iCv': 'Bv-Cv',\n 'M-Sw-Go': 'Sw-Go',\n 'Sw-Gro': 'Sw-Go',\n 'Swd-Gro': 'Sw-Go',\n 'aeSw-M': 'Sw-M',\n 'Axh-ilC': 'Bv-ilC',\n 'Axh-elCv': 'Ah-Bv',\n 'Ah-P': 'Ah',\n 'P-Axh': 'Axh',\n 'Axh-lCc': 'Axh',\n 'lCc': 'lC',\n 'jeSwd-lC': 'Sd-lC',\n 'Sg-Btv': 'Sd-Btv',\n 'M-Ap': 'Ap',\n 'lC-Bv': 'Sw-Bv',\n 'elC-eAh': 'elC-P',\n 'Axh-Bt': 'Ael-Bt',\n 'Swd-Axh-Bht': 'Sw-Ah',\n 'Ael-Swd': 'Al-Sw',\n 'Sg-Bvt-Al': 'Sw-Bv',\n 'Sg-Bvt': 'Sw-Bv',\n 'Swd-ilC': 'Sd-ilC',\n 'Btv-Swd': 'Bt-Sd',\n 'jilC': 'ilC',\n 'Bht': 'Bhv',\n 'Al-Bht': 'Al-Bt',\n 'Swd-C': 'Sw-M',\n 'sGo': 'Go',\n 'Srw': 'Ssw',\n 'Acxh-elCkc': 'Acxh',\n 'elCkc': 'elCc',\n 'ilC-Axh': 'ilC',\n 'Bv-Axh-ilCv': 'Bv-ilC',\n 'Axh-Bcv': 'Ah-Bv',\n 'Sw-Bht': 'Sw-Bt',\n 'Bvt-Al-Sdw': 'Bt-Sd',\n 'Bvt-Sd': 'Bt-Sd',\n 'Bv-ixCv': 'Bv-ilC',\n 'Bv-P': 'Bvt',\n 'lC-Bt': 'Al-Bt',\n 'Sdw-Bht': 'Sw-Bt',\n 'aeAxh': 'Axh',\n 'Ctv': 'Cv',\n 'ixCv': 'imCv',\n 'Sd-Bt-M': 'Sd-Btv',\n 'cmCn': 'cmC',\n 'exC': 'emC',\n 'Bv-Acxh': 'Acxh',\n 'M-ilC': 'ilC',\n 'Bht-Bv': 'Ah-Bv',\n 'xCv': 'Cv',\n 'Swd-Sw': 'Sw-Bv',\n 'ixCn': 'ilC',\n 'Swd-Bv-ilC': 'Bv-ilC',\n 'Sw-Hp': 'Sw-Ap',\n 'Sw-H-Serw': 'Sw-Bv',\n 'Bt-Bv-Cv': 'Bv-Cv',\n 'Bj-Sd': 'Bt-Sd',\n 'lC-Sd': 'Bt-Sd',\n 'Bv-Tv-cC': 'Bv-ilC',\n 'Tv-cC': 'cC',\n 'Tv-cCv': 'Bv-Cv',\n 'cxC': 'cC',\n 'Sw-ilCv': 'Sw-ilC',\n 'Al-Btv-Swd': 'Bt-Sd',\n 'Bt-Gco': 'tGro',\n 'Swd-P-Bv': 'Sw-Bv',\n 'Bfv': 'Bhv',\n 'aGo-M': 'Go',\n 'sSw': 'Sw',\n 'jC': 'C',\n 'Sw-Ah-Bv': 'Sw-Bv',\n 'Sd-Cj': 'Sd-Bv',\n 'Bhv-Cv': 'Bv-Cv',\n 'Bt-Sd-Sw': 'Bt-Sd',\n 'sSdw': 'Sd',\n 'ilC-Bt-Swd': 'Bt-Sd',\n 'Ah-exC': 'Ah-Bv',\n 'Cj': 'Cj',\n 'Go-Srw': 'Gor',\n 'Bv-P-ilC': 'Bv-ilC',\n 'Sd-ilCv': 'Sd-ilC',\n 'sSwd': 'Sd',\n 'aSg-M': 'Sw-M',\n 'Bv-Tcv-elC': 'Bv-elC',\n 'Bfv-Sw-ilC': 'Bv-ilC',\n 'P-Bv': 'Bv',\n 'P-ilC': 'ilC',\n 'Bj': 'Bv',\n 'ilCv-Cj': 'ilC',\n 'Sdw-M': 'Sw-M',\n 'lCv-sGo': 'M-Go',\n 'Ap-Bv-ilCv': 'Bv-ilC',\n 'Gw-M': 'Sw-M',\n 'Btv-Sw': 'Bt-Sd',\n 'yilCv': 'ilC',\n 'Yr-Bv': 'Sw-Bv',\n 'Cj-ilCv': 'Bv-ilC',\n 'Sw-Bv-P': 'Sw-Bv',\n 'M-Sew': 'Ssw',\n 'Swd-Cj': 'Sw-Bv',\n 'Sd-Gco': 'Sw-Go',\n 'Btv-lCv': 'Bv-Cv',\n 'Sdg-Bv': 'Sd-Bv',\n 'P-Sw': 'P-Sd',\n 'Bv-P-Sd': 'Bt-Sd',\n 'lCv-Bv': 'Sw-Bv',\n 'Sew-M': 'Sw-M',\n 'Acxh-Al': 'Acxh',\n 'Acxh-Bt': 'Acxh',\n 'ilC-P': 'elC-P',\n 'Sw-Bv-Sd': 'Sw-Bv',\n 'Cj-Cv': 'Bv-Cv',\n 'Sw-lCv': 'Sw-Bv',\n 'Acp-Bcv-cC': 'Al-Bv',\n 'cC': 'cC',\n 'aeAp': 'aelC',\n 'Bv-eC': 'Bv-elC',\n 'emCn': 'emC',\n 'Ah-Bv-cCv': 'Bv-Cv',\n 'Sdw-Ah': 'Sw-Ah',\n 'arGo-P-Sd': 'P-Sd',\n 'M-P-Axh': 'Axh',\n 'aeAh-P': 'elC-P',\n 'elC-Bvt': 'Al-Bv',\n 'eCc': 'elCc',\n 'Bv-Ah-eCv': 'Bv-Cv',\n 'Bv-eCv': 'Bv-Cv',\n 'Tv': 'Cv',\n 'P-Srd': 'P-Sd',\n 'Swd-Cj-lC': 'Sd-ilC',\n 'eSg-lCv': 'Sd-lC',\n 'elCv-Sg': 'elC-P',\n 'Acp-elC-Bcv': 'Al-Bv',\n 'Bv-cCv': 'Bv-Cv',\n 'Acp-P': 'Acp',\n 'P-elCv': 'aelC',\n 'elCv-P': 'elC-P',\n 'ixC': 'ilC',\n 'aeMc': 'aelC',\n 'lC-cmC': 'cmC',\n 'Go-P': 'Go',\n 'Sd-Bt-R': 'Sd-Btv',\n 'eC': 'C',\n 'lCv-Sw': 'Al-Sw',\n 'elC-Tv': 'elC-P',\n 'eAh-P': 'elC-P',\n 'P-lC': 'ilC',\n 'Sw-Tv': 'Sw-Bv',\n 'Tv-Sw': 'Al-Sw',\n 'Tv-Swd': 'Bt-Sd',\n 'Al-Swd-Btv': 'Sd-Btv',\n 'Swd-fBj': 'Sw-Bv',\n 'Al-Sd-Bt': 'Al-Bt',\n 'Ckc': 'C',\n 'fBj-Sd': 'Bt-Sd',\n 'Tv-eCv': 'Bv-Cv',\n 'Ap-Sew': 'Al-Sw',\n 'aM-Gro': 'M-Gro',\n 'Sdw-C': 'Sw-M',\n 'Acp-clC': 'clC',\n 'Cc': 'C',\n 'Swd-Bv': 'Sw-Bv',\n 'Sdw-ilCv': 'Sd-ilC',\n 'Ah-Bv-elC': 'Bv-elC',\n 'ilC-Swd-Bv': 'Sw-Bv',\n 'elC-cmC': 'elCc',\n 'Sd-iC': 'Sd-ilC',\n 'Bv-C': 'Bv-Cv',\n ...}"
     },
     "execution_count": 21,
     "metadata": {},
     "output_type": "execute_result"
    }
   ],
   "source": [
    "# Map rare labels to frequent labels via Levenshtein distance\n",
    "# Any better ideas? Sometimes the mapping is not very faithful to geological meaning\n",
    "from jellyfish import levenshtein_distance as ld\n",
    "rare_labels_mapping = {}\n",
    "list_dict_mapping = list(dict_mapping.keys())\n",
    "for lab in df[target].unique():\n",
    "    if lab in list_dict_mapping:\n",
    "        rare_labels_mapping[lab] = lab # for applying the map later in the df, we need the identity mappings as well\n",
    "    else:\n",
    "        similarities = [ld(lab, freq_lab) for freq_lab in list_dict_mapping]\n",
    "        best_match = list_dict_mapping[np.argmin(similarities)]\n",
    "        rare_labels_mapping[lab] = best_match\n",
    "rare_labels_mapping"
   ],
   "metadata": {
    "collapsed": false,
    "pycharm": {
     "name": "#%%\n"
    }
   }
  },
  {
   "cell_type": "code",
   "execution_count": 22,
   "outputs": [
    {
     "data": {
      "text/plain": "1218"
     },
     "execution_count": 22,
     "metadata": {},
     "output_type": "execute_result"
    }
   ],
   "source": [
    "len(rare_labels_mapping)\n",
    "# ToDo: manually correct the weird mappings\n",
    "# Note: maybe use a second string distance to decide the winner, in case of a tie?"
   ],
   "metadata": {
    "collapsed": false,
    "pycharm": {
     "name": "#%%\n"
    }
   }
  },
  {
   "cell_type": "code",
   "execution_count": 23,
   "outputs": [
    {
     "name": "stderr",
     "output_type": "stream",
     "text": [
      "/tmp/ipykernel_1329007/3489057721.py:2: SettingWithCopyWarning: \n",
      "A value is trying to be set on a copy of a slice from a DataFrame.\n",
      "Try using .loc[row_indexer,col_indexer] = value instead\n",
      "\n",
      "See the caveats in the documentation: https://pandas.pydata.org/pandas-docs/stable/user_guide/indexing.html#returning-a-view-versus-a-copy\n",
      "  df[target] = df[target].map(rare_labels_mapping)\n"
     ]
    },
    {
     "data": {
      "text/plain": "        Point  Obergrenze  Untergrenze Horizontsymbol_relevant Bodenart  \\\n0         2.0         0.0         28.0                      Ap      Sl2   \n1         2.0        28.0         54.0                       E      Sl2   \n2         2.0        54.0         68.0                      Bv      Sl2   \n3         2.0        68.0         96.0                  Bv-ilC     fSms   \n4         2.0        96.0        201.0                     ilC     mSfs   \n...       ...         ...          ...                     ...      ...   \n16307  6211.0        27.0         50.0                     Bhs     fSms   \n16308  6211.0        50.0         70.0                     Bsh     fSms   \n16309  6211.0        50.0         70.0                     Bsh     fSms   \n16310  6211.0        70.0        100.0                  Go-ilC     fSms   \n16311  6211.0        70.0        100.0                  Go-ilC     fSms   \n\n      Bodenfarbe  Steine Karbonat Humusgehaltsklasse Durchwurzelung  \\\n0      7.5YR 3/2     3.0       C0                 h3            Wf4   \n1       10YR 3/3     3.0       C0                 h2            Wf3   \n2      7.5YR 4/3    10.0       C0                 h1            Wf3   \n3      7.5YR 6/4     1.0       C0                 h0            Wf2   \n4       10YR 7/4     1.0       C0                 h0            Wf0   \n...          ...     ...      ...                ...            ...   \n16307    5YR 3/2     1.0       C0                 h2            Wf3   \n16308    5YR 4/3     1.0       C0                 h1            Wf2   \n16309    5YR 4/3     1.0       C0                 h1            Wf2   \n16310  7.5YR 5/4     1.0       C0                 h1            Wf6   \n16311  7.5YR 5/4     1.0       C0                 h1            Wf6   \n\n                                                    file  Probenahme_Monat  \\\n0      ../data/BGR/Profilbilder_no_ruler_no_sky/SH_00...                11   \n1      ../data/BGR/Profilbilder_no_ruler_no_sky/SH_00...                11   \n2      ../data/BGR/Profilbilder_no_ruler_no_sky/SH_00...                11   \n3      ../data/BGR/Profilbilder_no_ruler_no_sky/SH_00...                11   \n4      ../data/BGR/Profilbilder_no_ruler_no_sky/SH_00...                11   \n...                                                  ...               ...   \n16307  ../data/BGR/Profilbilder_no_ruler_no_sky/NI_62...                 6   \n16308  ../data/BGR/Profilbilder_no_ruler_no_sky/NI_62...                 6   \n16309  ../data/BGR/Profilbilder_no_ruler_no_sky/NI_62...                 6   \n16310  ../data/BGR/Profilbilder_no_ruler_no_sky/NI_62...                 6   \n16311  ../data/BGR/Profilbilder_no_ruler_no_sky/NI_62...                 6   \n\n       Probenahme_Jahr       xcoord       ycoord  \\\n0                 2015  462216.1283  6079359.775   \n1                 2015  462216.1283  6079359.775   \n2                 2015  462216.1283  6079359.775   \n3                 2015  462216.1283  6079359.775   \n4                 2015  462216.1283  6079359.775   \n...                ...          ...          ...   \n16307             2012  522076.9633  5930456.114   \n16308             2012  522076.9633  5930456.114   \n16309             2012  522076.9633  5930456.114   \n16310             2012  522076.9633  5930456.114   \n16311             2012  522076.9633  5930456.114   \n\n                      Bodenklimaraum_Name Landnutzung BZE_Moor Hauptbodentyp  \\\n0                           Marsch - Nord           A        0            YE   \n1                           Marsch - Nord           A        0            YE   \n2                           Marsch - Nord           A        0            YE   \n3                           Marsch - Nord           A        0            YE   \n4                           Marsch - Nord           A        0            YE   \n...                                   ...         ...      ...           ...   \n16307  Elbe-Weser-Dreieck / sandige Böden           G        0            PP   \n16308  Elbe-Weser-Dreieck / sandige Böden           G        0            PP   \n16309  Elbe-Weser-Dreieck / sandige Böden           G        0            PP   \n16310  Elbe-Weser-Dreieck / sandige Böden           G        0            PP   \n16311  Elbe-Weser-Dreieck / sandige Böden           G        0            PP   \n\n      BodenVarTypSub GrundwaStufe  GrundwaStand  Moormaechtigkeit  \\\n0              YE/BB            0         200.0               0.0   \n1              YE/BB            0         200.0               0.0   \n2              YE/BB            0         200.0               0.0   \n3              YE/BB            0         200.0               0.0   \n4              YE/BB            0         200.0               0.0   \n...              ...          ...           ...               ...   \n16307          GG-PP         GWS4         110.0               0.0   \n16308          GG-PP         GWS4         110.0               0.0   \n16309          GG-PP         GWS4         110.0               0.0   \n16310          GG-PP         GWS4         110.0               0.0   \n16311          GG-PP         GWS4         110.0               0.0   \n\n       Torfmaechtigkeit Neigung Exposition Woelbung Reliefformtyp  \\\n0                   0.0      N0         KE       GG             V   \n1                   0.0      N0         KE       GG             V   \n2                   0.0      N0         KE       GG             V   \n3                   0.0      N0         KE       GG             V   \n4                   0.0      N0         KE       GG             V   \n...                 ...     ...        ...      ...           ...   \n16307               0.0      N0         KE       GG           TSF   \n16308               0.0      N0         KE       GG           TSF   \n16309               0.0      N0         KE       GG           TSF   \n16310               0.0      N0         KE       GG           TSF   \n16311               0.0      N0         KE       GG           TSF   \n\n      LageImRelief  KV_0_30  KV_30_100  \n0                Z    81.89      54.19  \n1                Z    81.89      54.19  \n2                Z    81.89      54.19  \n3                Z    81.89      54.19  \n4                Z    81.89      54.19  \n...            ...      ...        ...  \n16307            T   117.59      87.72  \n16308            T   117.59      87.72  \n16309            T   117.59      87.72  \n16310            T   117.59      87.72  \n16311            T   117.59      87.72  \n\n[13621 rows x 31 columns]",
      "text/html": "<div>\n<style scoped>\n    .dataframe tbody tr th:only-of-type {\n        vertical-align: middle;\n    }\n\n    .dataframe tbody tr th {\n        vertical-align: top;\n    }\n\n    .dataframe thead th {\n        text-align: right;\n    }\n</style>\n<table border=\"1\" class=\"dataframe\">\n  <thead>\n    <tr style=\"text-align: right;\">\n      <th></th>\n      <th>Point</th>\n      <th>Obergrenze</th>\n      <th>Untergrenze</th>\n      <th>Horizontsymbol_relevant</th>\n      <th>Bodenart</th>\n      <th>Bodenfarbe</th>\n      <th>Steine</th>\n      <th>Karbonat</th>\n      <th>Humusgehaltsklasse</th>\n      <th>Durchwurzelung</th>\n      <th>file</th>\n      <th>Probenahme_Monat</th>\n      <th>Probenahme_Jahr</th>\n      <th>xcoord</th>\n      <th>ycoord</th>\n      <th>Bodenklimaraum_Name</th>\n      <th>Landnutzung</th>\n      <th>BZE_Moor</th>\n      <th>Hauptbodentyp</th>\n      <th>BodenVarTypSub</th>\n      <th>GrundwaStufe</th>\n      <th>GrundwaStand</th>\n      <th>Moormaechtigkeit</th>\n      <th>Torfmaechtigkeit</th>\n      <th>Neigung</th>\n      <th>Exposition</th>\n      <th>Woelbung</th>\n      <th>Reliefformtyp</th>\n      <th>LageImRelief</th>\n      <th>KV_0_30</th>\n      <th>KV_30_100</th>\n    </tr>\n  </thead>\n  <tbody>\n    <tr>\n      <th>0</th>\n      <td>2.0</td>\n      <td>0.0</td>\n      <td>28.0</td>\n      <td>Ap</td>\n      <td>Sl2</td>\n      <td>7.5YR 3/2</td>\n      <td>3.0</td>\n      <td>C0</td>\n      <td>h3</td>\n      <td>Wf4</td>\n      <td>../data/BGR/Profilbilder_no_ruler_no_sky/SH_00...</td>\n      <td>11</td>\n      <td>2015</td>\n      <td>462216.1283</td>\n      <td>6079359.775</td>\n      <td>Marsch - Nord</td>\n      <td>A</td>\n      <td>0</td>\n      <td>YE</td>\n      <td>YE/BB</td>\n      <td>0</td>\n      <td>200.0</td>\n      <td>0.0</td>\n      <td>0.0</td>\n      <td>N0</td>\n      <td>KE</td>\n      <td>GG</td>\n      <td>V</td>\n      <td>Z</td>\n      <td>81.89</td>\n      <td>54.19</td>\n    </tr>\n    <tr>\n      <th>1</th>\n      <td>2.0</td>\n      <td>28.0</td>\n      <td>54.0</td>\n      <td>E</td>\n      <td>Sl2</td>\n      <td>10YR 3/3</td>\n      <td>3.0</td>\n      <td>C0</td>\n      <td>h2</td>\n      <td>Wf3</td>\n      <td>../data/BGR/Profilbilder_no_ruler_no_sky/SH_00...</td>\n      <td>11</td>\n      <td>2015</td>\n      <td>462216.1283</td>\n      <td>6079359.775</td>\n      <td>Marsch - Nord</td>\n      <td>A</td>\n      <td>0</td>\n      <td>YE</td>\n      <td>YE/BB</td>\n      <td>0</td>\n      <td>200.0</td>\n      <td>0.0</td>\n      <td>0.0</td>\n      <td>N0</td>\n      <td>KE</td>\n      <td>GG</td>\n      <td>V</td>\n      <td>Z</td>\n      <td>81.89</td>\n      <td>54.19</td>\n    </tr>\n    <tr>\n      <th>2</th>\n      <td>2.0</td>\n      <td>54.0</td>\n      <td>68.0</td>\n      <td>Bv</td>\n      <td>Sl2</td>\n      <td>7.5YR 4/3</td>\n      <td>10.0</td>\n      <td>C0</td>\n      <td>h1</td>\n      <td>Wf3</td>\n      <td>../data/BGR/Profilbilder_no_ruler_no_sky/SH_00...</td>\n      <td>11</td>\n      <td>2015</td>\n      <td>462216.1283</td>\n      <td>6079359.775</td>\n      <td>Marsch - Nord</td>\n      <td>A</td>\n      <td>0</td>\n      <td>YE</td>\n      <td>YE/BB</td>\n      <td>0</td>\n      <td>200.0</td>\n      <td>0.0</td>\n      <td>0.0</td>\n      <td>N0</td>\n      <td>KE</td>\n      <td>GG</td>\n      <td>V</td>\n      <td>Z</td>\n      <td>81.89</td>\n      <td>54.19</td>\n    </tr>\n    <tr>\n      <th>3</th>\n      <td>2.0</td>\n      <td>68.0</td>\n      <td>96.0</td>\n      <td>Bv-ilC</td>\n      <td>fSms</td>\n      <td>7.5YR 6/4</td>\n      <td>1.0</td>\n      <td>C0</td>\n      <td>h0</td>\n      <td>Wf2</td>\n      <td>../data/BGR/Profilbilder_no_ruler_no_sky/SH_00...</td>\n      <td>11</td>\n      <td>2015</td>\n      <td>462216.1283</td>\n      <td>6079359.775</td>\n      <td>Marsch - Nord</td>\n      <td>A</td>\n      <td>0</td>\n      <td>YE</td>\n      <td>YE/BB</td>\n      <td>0</td>\n      <td>200.0</td>\n      <td>0.0</td>\n      <td>0.0</td>\n      <td>N0</td>\n      <td>KE</td>\n      <td>GG</td>\n      <td>V</td>\n      <td>Z</td>\n      <td>81.89</td>\n      <td>54.19</td>\n    </tr>\n    <tr>\n      <th>4</th>\n      <td>2.0</td>\n      <td>96.0</td>\n      <td>201.0</td>\n      <td>ilC</td>\n      <td>mSfs</td>\n      <td>10YR 7/4</td>\n      <td>1.0</td>\n      <td>C0</td>\n      <td>h0</td>\n      <td>Wf0</td>\n      <td>../data/BGR/Profilbilder_no_ruler_no_sky/SH_00...</td>\n      <td>11</td>\n      <td>2015</td>\n      <td>462216.1283</td>\n      <td>6079359.775</td>\n      <td>Marsch - Nord</td>\n      <td>A</td>\n      <td>0</td>\n      <td>YE</td>\n      <td>YE/BB</td>\n      <td>0</td>\n      <td>200.0</td>\n      <td>0.0</td>\n      <td>0.0</td>\n      <td>N0</td>\n      <td>KE</td>\n      <td>GG</td>\n      <td>V</td>\n      <td>Z</td>\n      <td>81.89</td>\n      <td>54.19</td>\n    </tr>\n    <tr>\n      <th>...</th>\n      <td>...</td>\n      <td>...</td>\n      <td>...</td>\n      <td>...</td>\n      <td>...</td>\n      <td>...</td>\n      <td>...</td>\n      <td>...</td>\n      <td>...</td>\n      <td>...</td>\n      <td>...</td>\n      <td>...</td>\n      <td>...</td>\n      <td>...</td>\n      <td>...</td>\n      <td>...</td>\n      <td>...</td>\n      <td>...</td>\n      <td>...</td>\n      <td>...</td>\n      <td>...</td>\n      <td>...</td>\n      <td>...</td>\n      <td>...</td>\n      <td>...</td>\n      <td>...</td>\n      <td>...</td>\n      <td>...</td>\n      <td>...</td>\n      <td>...</td>\n      <td>...</td>\n    </tr>\n    <tr>\n      <th>16307</th>\n      <td>6211.0</td>\n      <td>27.0</td>\n      <td>50.0</td>\n      <td>Bhs</td>\n      <td>fSms</td>\n      <td>5YR 3/2</td>\n      <td>1.0</td>\n      <td>C0</td>\n      <td>h2</td>\n      <td>Wf3</td>\n      <td>../data/BGR/Profilbilder_no_ruler_no_sky/NI_62...</td>\n      <td>6</td>\n      <td>2012</td>\n      <td>522076.9633</td>\n      <td>5930456.114</td>\n      <td>Elbe-Weser-Dreieck / sandige Böden</td>\n      <td>G</td>\n      <td>0</td>\n      <td>PP</td>\n      <td>GG-PP</td>\n      <td>GWS4</td>\n      <td>110.0</td>\n      <td>0.0</td>\n      <td>0.0</td>\n      <td>N0</td>\n      <td>KE</td>\n      <td>GG</td>\n      <td>TSF</td>\n      <td>T</td>\n      <td>117.59</td>\n      <td>87.72</td>\n    </tr>\n    <tr>\n      <th>16308</th>\n      <td>6211.0</td>\n      <td>50.0</td>\n      <td>70.0</td>\n      <td>Bsh</td>\n      <td>fSms</td>\n      <td>5YR 4/3</td>\n      <td>1.0</td>\n      <td>C0</td>\n      <td>h1</td>\n      <td>Wf2</td>\n      <td>../data/BGR/Profilbilder_no_ruler_no_sky/NI_62...</td>\n      <td>6</td>\n      <td>2012</td>\n      <td>522076.9633</td>\n      <td>5930456.114</td>\n      <td>Elbe-Weser-Dreieck / sandige Böden</td>\n      <td>G</td>\n      <td>0</td>\n      <td>PP</td>\n      <td>GG-PP</td>\n      <td>GWS4</td>\n      <td>110.0</td>\n      <td>0.0</td>\n      <td>0.0</td>\n      <td>N0</td>\n      <td>KE</td>\n      <td>GG</td>\n      <td>TSF</td>\n      <td>T</td>\n      <td>117.59</td>\n      <td>87.72</td>\n    </tr>\n    <tr>\n      <th>16309</th>\n      <td>6211.0</td>\n      <td>50.0</td>\n      <td>70.0</td>\n      <td>Bsh</td>\n      <td>fSms</td>\n      <td>5YR 4/3</td>\n      <td>1.0</td>\n      <td>C0</td>\n      <td>h1</td>\n      <td>Wf2</td>\n      <td>../data/BGR/Profilbilder_no_ruler_no_sky/NI_62...</td>\n      <td>6</td>\n      <td>2012</td>\n      <td>522076.9633</td>\n      <td>5930456.114</td>\n      <td>Elbe-Weser-Dreieck / sandige Böden</td>\n      <td>G</td>\n      <td>0</td>\n      <td>PP</td>\n      <td>GG-PP</td>\n      <td>GWS4</td>\n      <td>110.0</td>\n      <td>0.0</td>\n      <td>0.0</td>\n      <td>N0</td>\n      <td>KE</td>\n      <td>GG</td>\n      <td>TSF</td>\n      <td>T</td>\n      <td>117.59</td>\n      <td>87.72</td>\n    </tr>\n    <tr>\n      <th>16310</th>\n      <td>6211.0</td>\n      <td>70.0</td>\n      <td>100.0</td>\n      <td>Go-ilC</td>\n      <td>fSms</td>\n      <td>7.5YR 5/4</td>\n      <td>1.0</td>\n      <td>C0</td>\n      <td>h1</td>\n      <td>Wf6</td>\n      <td>../data/BGR/Profilbilder_no_ruler_no_sky/NI_62...</td>\n      <td>6</td>\n      <td>2012</td>\n      <td>522076.9633</td>\n      <td>5930456.114</td>\n      <td>Elbe-Weser-Dreieck / sandige Böden</td>\n      <td>G</td>\n      <td>0</td>\n      <td>PP</td>\n      <td>GG-PP</td>\n      <td>GWS4</td>\n      <td>110.0</td>\n      <td>0.0</td>\n      <td>0.0</td>\n      <td>N0</td>\n      <td>KE</td>\n      <td>GG</td>\n      <td>TSF</td>\n      <td>T</td>\n      <td>117.59</td>\n      <td>87.72</td>\n    </tr>\n    <tr>\n      <th>16311</th>\n      <td>6211.0</td>\n      <td>70.0</td>\n      <td>100.0</td>\n      <td>Go-ilC</td>\n      <td>fSms</td>\n      <td>7.5YR 5/4</td>\n      <td>1.0</td>\n      <td>C0</td>\n      <td>h1</td>\n      <td>Wf6</td>\n      <td>../data/BGR/Profilbilder_no_ruler_no_sky/NI_62...</td>\n      <td>6</td>\n      <td>2012</td>\n      <td>522076.9633</td>\n      <td>5930456.114</td>\n      <td>Elbe-Weser-Dreieck / sandige Böden</td>\n      <td>G</td>\n      <td>0</td>\n      <td>PP</td>\n      <td>GG-PP</td>\n      <td>GWS4</td>\n      <td>110.0</td>\n      <td>0.0</td>\n      <td>0.0</td>\n      <td>N0</td>\n      <td>KE</td>\n      <td>GG</td>\n      <td>TSF</td>\n      <td>T</td>\n      <td>117.59</td>\n      <td>87.72</td>\n    </tr>\n  </tbody>\n</table>\n<p>13621 rows × 31 columns</p>\n</div>"
     },
     "execution_count": 23,
     "metadata": {},
     "output_type": "execute_result"
    }
   ],
   "source": [
    "# Map rare labels onto frequent labels\n",
    "df[target] = df[target].map(rare_labels_mapping)\n",
    "df"
   ],
   "metadata": {
    "collapsed": false,
    "pycharm": {
     "name": "#%%\n"
    }
   }
  },
  {
   "cell_type": "code",
   "execution_count": 24,
   "outputs": [
    {
     "name": "stderr",
     "output_type": "stream",
     "text": [
      "/tmp/ipykernel_1329007/1051670463.py:3: SettingWithCopyWarning: \n",
      "A value is trying to be set on a copy of a slice from a DataFrame.\n",
      "Try using .loc[row_indexer,col_indexer] = value instead\n",
      "\n",
      "See the caveats in the documentation: https://pandas.pydata.org/pandas-docs/stable/user_guide/indexing.html#returning-a-view-versus-a-copy\n",
      "  df[target] = df[target].map(dict_mapping) # in conjunction with HCEs\n",
      "/tmp/ipykernel_1329007/1051670463.py:4: SettingWithCopyWarning: \n",
      "A value is trying to be set on a copy of a slice from a DataFrame.\n",
      "Try using .loc[row_indexer,col_indexer] = value instead\n",
      "\n",
      "See the caveats in the documentation: https://pandas.pydata.org/pandas-docs/stable/user_guide/indexing.html#returning-a-view-versus-a-copy\n",
      "  df[target] = df[target].astype(int)\n"
     ]
    },
    {
     "data": {
      "text/plain": "   Point  Obergrenze  Untergrenze  Horizontsymbol_relevant Bodenart  \\\n0    2.0         0.0         28.0                       22      Sl2   \n1    2.0        28.0         54.0                        5      Sl2   \n2    2.0        54.0         68.0                       32      Sl2   \n3    2.0        68.0         96.0                       62     fSms   \n4    2.0        96.0        201.0                        0     mSfs   \n\n  Bodenfarbe  Steine Karbonat Humusgehaltsklasse Durchwurzelung  \\\n0  7.5YR 3/2     3.0       C0                 h3            Wf4   \n1   10YR 3/3     3.0       C0                 h2            Wf3   \n2  7.5YR 4/3    10.0       C0                 h1            Wf3   \n3  7.5YR 6/4     1.0       C0                 h0            Wf2   \n4   10YR 7/4     1.0       C0                 h0            Wf0   \n\n                                                file  Probenahme_Monat  \\\n0  ../data/BGR/Profilbilder_no_ruler_no_sky/SH_00...                11   \n1  ../data/BGR/Profilbilder_no_ruler_no_sky/SH_00...                11   \n2  ../data/BGR/Profilbilder_no_ruler_no_sky/SH_00...                11   \n3  ../data/BGR/Profilbilder_no_ruler_no_sky/SH_00...                11   \n4  ../data/BGR/Profilbilder_no_ruler_no_sky/SH_00...                11   \n\n   Probenahme_Jahr       xcoord       ycoord Bodenklimaraum_Name Landnutzung  \\\n0             2015  462216.1283  6079359.775       Marsch - Nord           A   \n1             2015  462216.1283  6079359.775       Marsch - Nord           A   \n2             2015  462216.1283  6079359.775       Marsch - Nord           A   \n3             2015  462216.1283  6079359.775       Marsch - Nord           A   \n4             2015  462216.1283  6079359.775       Marsch - Nord           A   \n\n  BZE_Moor Hauptbodentyp BodenVarTypSub GrundwaStufe  GrundwaStand  \\\n0        0            YE          YE/BB            0         200.0   \n1        0            YE          YE/BB            0         200.0   \n2        0            YE          YE/BB            0         200.0   \n3        0            YE          YE/BB            0         200.0   \n4        0            YE          YE/BB            0         200.0   \n\n   Moormaechtigkeit  Torfmaechtigkeit Neigung Exposition Woelbung  \\\n0               0.0               0.0      N0         KE       GG   \n1               0.0               0.0      N0         KE       GG   \n2               0.0               0.0      N0         KE       GG   \n3               0.0               0.0      N0         KE       GG   \n4               0.0               0.0      N0         KE       GG   \n\n  Reliefformtyp LageImRelief  KV_0_30  KV_30_100  \n0             V            Z    81.89      54.19  \n1             V            Z    81.89      54.19  \n2             V            Z    81.89      54.19  \n3             V            Z    81.89      54.19  \n4             V            Z    81.89      54.19  ",
      "text/html": "<div>\n<style scoped>\n    .dataframe tbody tr th:only-of-type {\n        vertical-align: middle;\n    }\n\n    .dataframe tbody tr th {\n        vertical-align: top;\n    }\n\n    .dataframe thead th {\n        text-align: right;\n    }\n</style>\n<table border=\"1\" class=\"dataframe\">\n  <thead>\n    <tr style=\"text-align: right;\">\n      <th></th>\n      <th>Point</th>\n      <th>Obergrenze</th>\n      <th>Untergrenze</th>\n      <th>Horizontsymbol_relevant</th>\n      <th>Bodenart</th>\n      <th>Bodenfarbe</th>\n      <th>Steine</th>\n      <th>Karbonat</th>\n      <th>Humusgehaltsklasse</th>\n      <th>Durchwurzelung</th>\n      <th>file</th>\n      <th>Probenahme_Monat</th>\n      <th>Probenahme_Jahr</th>\n      <th>xcoord</th>\n      <th>ycoord</th>\n      <th>Bodenklimaraum_Name</th>\n      <th>Landnutzung</th>\n      <th>BZE_Moor</th>\n      <th>Hauptbodentyp</th>\n      <th>BodenVarTypSub</th>\n      <th>GrundwaStufe</th>\n      <th>GrundwaStand</th>\n      <th>Moormaechtigkeit</th>\n      <th>Torfmaechtigkeit</th>\n      <th>Neigung</th>\n      <th>Exposition</th>\n      <th>Woelbung</th>\n      <th>Reliefformtyp</th>\n      <th>LageImRelief</th>\n      <th>KV_0_30</th>\n      <th>KV_30_100</th>\n    </tr>\n  </thead>\n  <tbody>\n    <tr>\n      <th>0</th>\n      <td>2.0</td>\n      <td>0.0</td>\n      <td>28.0</td>\n      <td>22</td>\n      <td>Sl2</td>\n      <td>7.5YR 3/2</td>\n      <td>3.0</td>\n      <td>C0</td>\n      <td>h3</td>\n      <td>Wf4</td>\n      <td>../data/BGR/Profilbilder_no_ruler_no_sky/SH_00...</td>\n      <td>11</td>\n      <td>2015</td>\n      <td>462216.1283</td>\n      <td>6079359.775</td>\n      <td>Marsch - Nord</td>\n      <td>A</td>\n      <td>0</td>\n      <td>YE</td>\n      <td>YE/BB</td>\n      <td>0</td>\n      <td>200.0</td>\n      <td>0.0</td>\n      <td>0.0</td>\n      <td>N0</td>\n      <td>KE</td>\n      <td>GG</td>\n      <td>V</td>\n      <td>Z</td>\n      <td>81.89</td>\n      <td>54.19</td>\n    </tr>\n    <tr>\n      <th>1</th>\n      <td>2.0</td>\n      <td>28.0</td>\n      <td>54.0</td>\n      <td>5</td>\n      <td>Sl2</td>\n      <td>10YR 3/3</td>\n      <td>3.0</td>\n      <td>C0</td>\n      <td>h2</td>\n      <td>Wf3</td>\n      <td>../data/BGR/Profilbilder_no_ruler_no_sky/SH_00...</td>\n      <td>11</td>\n      <td>2015</td>\n      <td>462216.1283</td>\n      <td>6079359.775</td>\n      <td>Marsch - Nord</td>\n      <td>A</td>\n      <td>0</td>\n      <td>YE</td>\n      <td>YE/BB</td>\n      <td>0</td>\n      <td>200.0</td>\n      <td>0.0</td>\n      <td>0.0</td>\n      <td>N0</td>\n      <td>KE</td>\n      <td>GG</td>\n      <td>V</td>\n      <td>Z</td>\n      <td>81.89</td>\n      <td>54.19</td>\n    </tr>\n    <tr>\n      <th>2</th>\n      <td>2.0</td>\n      <td>54.0</td>\n      <td>68.0</td>\n      <td>32</td>\n      <td>Sl2</td>\n      <td>7.5YR 4/3</td>\n      <td>10.0</td>\n      <td>C0</td>\n      <td>h1</td>\n      <td>Wf3</td>\n      <td>../data/BGR/Profilbilder_no_ruler_no_sky/SH_00...</td>\n      <td>11</td>\n      <td>2015</td>\n      <td>462216.1283</td>\n      <td>6079359.775</td>\n      <td>Marsch - Nord</td>\n      <td>A</td>\n      <td>0</td>\n      <td>YE</td>\n      <td>YE/BB</td>\n      <td>0</td>\n      <td>200.0</td>\n      <td>0.0</td>\n      <td>0.0</td>\n      <td>N0</td>\n      <td>KE</td>\n      <td>GG</td>\n      <td>V</td>\n      <td>Z</td>\n      <td>81.89</td>\n      <td>54.19</td>\n    </tr>\n    <tr>\n      <th>3</th>\n      <td>2.0</td>\n      <td>68.0</td>\n      <td>96.0</td>\n      <td>62</td>\n      <td>fSms</td>\n      <td>7.5YR 6/4</td>\n      <td>1.0</td>\n      <td>C0</td>\n      <td>h0</td>\n      <td>Wf2</td>\n      <td>../data/BGR/Profilbilder_no_ruler_no_sky/SH_00...</td>\n      <td>11</td>\n      <td>2015</td>\n      <td>462216.1283</td>\n      <td>6079359.775</td>\n      <td>Marsch - Nord</td>\n      <td>A</td>\n      <td>0</td>\n      <td>YE</td>\n      <td>YE/BB</td>\n      <td>0</td>\n      <td>200.0</td>\n      <td>0.0</td>\n      <td>0.0</td>\n      <td>N0</td>\n      <td>KE</td>\n      <td>GG</td>\n      <td>V</td>\n      <td>Z</td>\n      <td>81.89</td>\n      <td>54.19</td>\n    </tr>\n    <tr>\n      <th>4</th>\n      <td>2.0</td>\n      <td>96.0</td>\n      <td>201.0</td>\n      <td>0</td>\n      <td>mSfs</td>\n      <td>10YR 7/4</td>\n      <td>1.0</td>\n      <td>C0</td>\n      <td>h0</td>\n      <td>Wf0</td>\n      <td>../data/BGR/Profilbilder_no_ruler_no_sky/SH_00...</td>\n      <td>11</td>\n      <td>2015</td>\n      <td>462216.1283</td>\n      <td>6079359.775</td>\n      <td>Marsch - Nord</td>\n      <td>A</td>\n      <td>0</td>\n      <td>YE</td>\n      <td>YE/BB</td>\n      <td>0</td>\n      <td>200.0</td>\n      <td>0.0</td>\n      <td>0.0</td>\n      <td>N0</td>\n      <td>KE</td>\n      <td>GG</td>\n      <td>V</td>\n      <td>Z</td>\n      <td>81.89</td>\n      <td>54.19</td>\n    </tr>\n  </tbody>\n</table>\n</div>"
     },
     "execution_count": 24,
     "metadata": {},
     "output_type": "execute_result"
    }
   ],
   "source": [
    "# One-hot encoding of the target column\n",
    "#bgr_data.encode_categorical_columns(df, target) # for standard one-hot vectors of the targets\n",
    "df[target] = df[target].map(dict_mapping) # in conjunction with HCEs\n",
    "df[target] = df[target].astype(int)\n",
    "df.head(5)"
   ],
   "metadata": {
    "collapsed": false,
    "pycharm": {
     "name": "#%%\n"
    }
   }
  },
  {
   "cell_type": "code",
   "execution_count": 25,
   "outputs": [
    {
     "name": "stderr",
     "output_type": "stream",
     "text": [
      "/mnt/KInsektDaten/teo/./BGR/bgr/soil/datasets.py:35: SettingWithCopyWarning: \n",
      "A value is trying to be set on a copy of a slice from a DataFrame.\n",
      "Try using .loc[row_indexer,col_indexer] = value instead\n",
      "\n",
      "See the caveats in the documentation: https://pandas.pydata.org/pandas-docs/stable/user_guide/indexing.html#returning-a-view-versus-a-copy\n",
      "  df[col_name] = df[col_name].replace(counts.index, range(len(counts)))\n",
      "/mnt/KInsektDaten/teo/./BGR/bgr/soil/datasets.py:35: FutureWarning: Downcasting behavior in `replace` is deprecated and will be removed in a future version. To retain the old behavior, explicitly call `result.infer_objects(copy=False)`. To opt-in to the future behavior, set `pd.set_option('future.no_silent_downcasting', True)`\n",
      "  df[col_name] = df[col_name].replace(counts.index, range(len(counts)))\n",
      "/mnt/KInsektDaten/teo/./BGR/bgr/soil/datasets.py:35: SettingWithCopyWarning: \n",
      "A value is trying to be set on a copy of a slice from a DataFrame.\n",
      "Try using .loc[row_indexer,col_indexer] = value instead\n",
      "\n",
      "See the caveats in the documentation: https://pandas.pydata.org/pandas-docs/stable/user_guide/indexing.html#returning-a-view-versus-a-copy\n",
      "  df[col_name] = df[col_name].replace(counts.index, range(len(counts)))\n",
      "/mnt/KInsektDaten/teo/./BGR/bgr/soil/datasets.py:35: FutureWarning: Downcasting behavior in `replace` is deprecated and will be removed in a future version. To retain the old behavior, explicitly call `result.infer_objects(copy=False)`. To opt-in to the future behavior, set `pd.set_option('future.no_silent_downcasting', True)`\n",
      "  df[col_name] = df[col_name].replace(counts.index, range(len(counts)))\n",
      "/mnt/KInsektDaten/teo/./BGR/bgr/soil/datasets.py:35: SettingWithCopyWarning: \n",
      "A value is trying to be set on a copy of a slice from a DataFrame.\n",
      "Try using .loc[row_indexer,col_indexer] = value instead\n",
      "\n",
      "See the caveats in the documentation: https://pandas.pydata.org/pandas-docs/stable/user_guide/indexing.html#returning-a-view-versus-a-copy\n",
      "  df[col_name] = df[col_name].replace(counts.index, range(len(counts)))\n",
      "/mnt/KInsektDaten/teo/./BGR/bgr/soil/datasets.py:35: FutureWarning: Downcasting behavior in `replace` is deprecated and will be removed in a future version. To retain the old behavior, explicitly call `result.infer_objects(copy=False)`. To opt-in to the future behavior, set `pd.set_option('future.no_silent_downcasting', True)`\n",
      "  df[col_name] = df[col_name].replace(counts.index, range(len(counts)))\n",
      "/mnt/KInsektDaten/teo/./BGR/bgr/soil/datasets.py:35: SettingWithCopyWarning: \n",
      "A value is trying to be set on a copy of a slice from a DataFrame.\n",
      "Try using .loc[row_indexer,col_indexer] = value instead\n",
      "\n",
      "See the caveats in the documentation: https://pandas.pydata.org/pandas-docs/stable/user_guide/indexing.html#returning-a-view-versus-a-copy\n",
      "  df[col_name] = df[col_name].replace(counts.index, range(len(counts)))\n",
      "/mnt/KInsektDaten/teo/./BGR/bgr/soil/datasets.py:35: FutureWarning: Downcasting behavior in `replace` is deprecated and will be removed in a future version. To retain the old behavior, explicitly call `result.infer_objects(copy=False)`. To opt-in to the future behavior, set `pd.set_option('future.no_silent_downcasting', True)`\n",
      "  df[col_name] = df[col_name].replace(counts.index, range(len(counts)))\n",
      "/mnt/KInsektDaten/teo/./BGR/bgr/soil/datasets.py:35: SettingWithCopyWarning: \n",
      "A value is trying to be set on a copy of a slice from a DataFrame.\n",
      "Try using .loc[row_indexer,col_indexer] = value instead\n",
      "\n",
      "See the caveats in the documentation: https://pandas.pydata.org/pandas-docs/stable/user_guide/indexing.html#returning-a-view-versus-a-copy\n",
      "  df[col_name] = df[col_name].replace(counts.index, range(len(counts)))\n",
      "/mnt/KInsektDaten/teo/./BGR/bgr/soil/datasets.py:35: FutureWarning: Downcasting behavior in `replace` is deprecated and will be removed in a future version. To retain the old behavior, explicitly call `result.infer_objects(copy=False)`. To opt-in to the future behavior, set `pd.set_option('future.no_silent_downcasting', True)`\n",
      "  df[col_name] = df[col_name].replace(counts.index, range(len(counts)))\n",
      "/mnt/KInsektDaten/teo/./BGR/bgr/soil/datasets.py:35: SettingWithCopyWarning: \n",
      "A value is trying to be set on a copy of a slice from a DataFrame.\n",
      "Try using .loc[row_indexer,col_indexer] = value instead\n",
      "\n",
      "See the caveats in the documentation: https://pandas.pydata.org/pandas-docs/stable/user_guide/indexing.html#returning-a-view-versus-a-copy\n",
      "  df[col_name] = df[col_name].replace(counts.index, range(len(counts)))\n",
      "/mnt/KInsektDaten/teo/./BGR/bgr/soil/datasets.py:35: FutureWarning: Downcasting behavior in `replace` is deprecated and will be removed in a future version. To retain the old behavior, explicitly call `result.infer_objects(copy=False)`. To opt-in to the future behavior, set `pd.set_option('future.no_silent_downcasting', True)`\n",
      "  df[col_name] = df[col_name].replace(counts.index, range(len(counts)))\n",
      "/mnt/KInsektDaten/teo/./BGR/bgr/soil/datasets.py:35: SettingWithCopyWarning: \n",
      "A value is trying to be set on a copy of a slice from a DataFrame.\n",
      "Try using .loc[row_indexer,col_indexer] = value instead\n",
      "\n",
      "See the caveats in the documentation: https://pandas.pydata.org/pandas-docs/stable/user_guide/indexing.html#returning-a-view-versus-a-copy\n",
      "  df[col_name] = df[col_name].replace(counts.index, range(len(counts)))\n",
      "/mnt/KInsektDaten/teo/./BGR/bgr/soil/datasets.py:35: FutureWarning: Downcasting behavior in `replace` is deprecated and will be removed in a future version. To retain the old behavior, explicitly call `result.infer_objects(copy=False)`. To opt-in to the future behavior, set `pd.set_option('future.no_silent_downcasting', True)`\n",
      "  df[col_name] = df[col_name].replace(counts.index, range(len(counts)))\n",
      "/mnt/KInsektDaten/teo/./BGR/bgr/soil/datasets.py:35: SettingWithCopyWarning: \n",
      "A value is trying to be set on a copy of a slice from a DataFrame.\n",
      "Try using .loc[row_indexer,col_indexer] = value instead\n",
      "\n",
      "See the caveats in the documentation: https://pandas.pydata.org/pandas-docs/stable/user_guide/indexing.html#returning-a-view-versus-a-copy\n",
      "  df[col_name] = df[col_name].replace(counts.index, range(len(counts)))\n",
      "/mnt/KInsektDaten/teo/./BGR/bgr/soil/datasets.py:35: FutureWarning: Downcasting behavior in `replace` is deprecated and will be removed in a future version. To retain the old behavior, explicitly call `result.infer_objects(copy=False)`. To opt-in to the future behavior, set `pd.set_option('future.no_silent_downcasting', True)`\n",
      "  df[col_name] = df[col_name].replace(counts.index, range(len(counts)))\n",
      "/mnt/KInsektDaten/teo/./BGR/bgr/soil/datasets.py:35: SettingWithCopyWarning: \n",
      "A value is trying to be set on a copy of a slice from a DataFrame.\n",
      "Try using .loc[row_indexer,col_indexer] = value instead\n",
      "\n",
      "See the caveats in the documentation: https://pandas.pydata.org/pandas-docs/stable/user_guide/indexing.html#returning-a-view-versus-a-copy\n",
      "  df[col_name] = df[col_name].replace(counts.index, range(len(counts)))\n",
      "/mnt/KInsektDaten/teo/./BGR/bgr/soil/datasets.py:35: FutureWarning: Downcasting behavior in `replace` is deprecated and will be removed in a future version. To retain the old behavior, explicitly call `result.infer_objects(copy=False)`. To opt-in to the future behavior, set `pd.set_option('future.no_silent_downcasting', True)`\n",
      "  df[col_name] = df[col_name].replace(counts.index, range(len(counts)))\n",
      "/mnt/KInsektDaten/teo/./BGR/bgr/soil/datasets.py:35: SettingWithCopyWarning: \n",
      "A value is trying to be set on a copy of a slice from a DataFrame.\n",
      "Try using .loc[row_indexer,col_indexer] = value instead\n",
      "\n",
      "See the caveats in the documentation: https://pandas.pydata.org/pandas-docs/stable/user_guide/indexing.html#returning-a-view-versus-a-copy\n",
      "  df[col_name] = df[col_name].replace(counts.index, range(len(counts)))\n",
      "/mnt/KInsektDaten/teo/./BGR/bgr/soil/datasets.py:35: FutureWarning: Downcasting behavior in `replace` is deprecated and will be removed in a future version. To retain the old behavior, explicitly call `result.infer_objects(copy=False)`. To opt-in to the future behavior, set `pd.set_option('future.no_silent_downcasting', True)`\n",
      "  df[col_name] = df[col_name].replace(counts.index, range(len(counts)))\n",
      "/mnt/KInsektDaten/teo/./BGR/bgr/soil/datasets.py:35: SettingWithCopyWarning: \n",
      "A value is trying to be set on a copy of a slice from a DataFrame.\n",
      "Try using .loc[row_indexer,col_indexer] = value instead\n",
      "\n",
      "See the caveats in the documentation: https://pandas.pydata.org/pandas-docs/stable/user_guide/indexing.html#returning-a-view-versus-a-copy\n",
      "  df[col_name] = df[col_name].replace(counts.index, range(len(counts)))\n",
      "/mnt/KInsektDaten/teo/./BGR/bgr/soil/datasets.py:35: FutureWarning: Downcasting behavior in `replace` is deprecated and will be removed in a future version. To retain the old behavior, explicitly call `result.infer_objects(copy=False)`. To opt-in to the future behavior, set `pd.set_option('future.no_silent_downcasting', True)`\n",
      "  df[col_name] = df[col_name].replace(counts.index, range(len(counts)))\n",
      "/mnt/KInsektDaten/teo/./BGR/bgr/soil/datasets.py:35: SettingWithCopyWarning: \n",
      "A value is trying to be set on a copy of a slice from a DataFrame.\n",
      "Try using .loc[row_indexer,col_indexer] = value instead\n",
      "\n",
      "See the caveats in the documentation: https://pandas.pydata.org/pandas-docs/stable/user_guide/indexing.html#returning-a-view-versus-a-copy\n",
      "  df[col_name] = df[col_name].replace(counts.index, range(len(counts)))\n",
      "/mnt/KInsektDaten/teo/./BGR/bgr/soil/datasets.py:35: FutureWarning: Downcasting behavior in `replace` is deprecated and will be removed in a future version. To retain the old behavior, explicitly call `result.infer_objects(copy=False)`. To opt-in to the future behavior, set `pd.set_option('future.no_silent_downcasting', True)`\n",
      "  df[col_name] = df[col_name].replace(counts.index, range(len(counts)))\n",
      "/mnt/KInsektDaten/teo/./BGR/bgr/soil/datasets.py:35: SettingWithCopyWarning: \n",
      "A value is trying to be set on a copy of a slice from a DataFrame.\n",
      "Try using .loc[row_indexer,col_indexer] = value instead\n",
      "\n",
      "See the caveats in the documentation: https://pandas.pydata.org/pandas-docs/stable/user_guide/indexing.html#returning-a-view-versus-a-copy\n",
      "  df[col_name] = df[col_name].replace(counts.index, range(len(counts)))\n",
      "/mnt/KInsektDaten/teo/./BGR/bgr/soil/datasets.py:35: FutureWarning: Downcasting behavior in `replace` is deprecated and will be removed in a future version. To retain the old behavior, explicitly call `result.infer_objects(copy=False)`. To opt-in to the future behavior, set `pd.set_option('future.no_silent_downcasting', True)`\n",
      "  df[col_name] = df[col_name].replace(counts.index, range(len(counts)))\n",
      "/mnt/KInsektDaten/teo/./BGR/bgr/soil/datasets.py:35: SettingWithCopyWarning: \n",
      "A value is trying to be set on a copy of a slice from a DataFrame.\n",
      "Try using .loc[row_indexer,col_indexer] = value instead\n",
      "\n",
      "See the caveats in the documentation: https://pandas.pydata.org/pandas-docs/stable/user_guide/indexing.html#returning-a-view-versus-a-copy\n",
      "  df[col_name] = df[col_name].replace(counts.index, range(len(counts)))\n",
      "/mnt/KInsektDaten/teo/./BGR/bgr/soil/datasets.py:35: FutureWarning: Downcasting behavior in `replace` is deprecated and will be removed in a future version. To retain the old behavior, explicitly call `result.infer_objects(copy=False)`. To opt-in to the future behavior, set `pd.set_option('future.no_silent_downcasting', True)`\n",
      "  df[col_name] = df[col_name].replace(counts.index, range(len(counts)))\n",
      "/mnt/KInsektDaten/teo/./BGR/bgr/soil/datasets.py:35: SettingWithCopyWarning: \n",
      "A value is trying to be set on a copy of a slice from a DataFrame.\n",
      "Try using .loc[row_indexer,col_indexer] = value instead\n",
      "\n",
      "See the caveats in the documentation: https://pandas.pydata.org/pandas-docs/stable/user_guide/indexing.html#returning-a-view-versus-a-copy\n",
      "  df[col_name] = df[col_name].replace(counts.index, range(len(counts)))\n",
      "/mnt/KInsektDaten/teo/./BGR/bgr/soil/datasets.py:35: FutureWarning: Downcasting behavior in `replace` is deprecated and will be removed in a future version. To retain the old behavior, explicitly call `result.infer_objects(copy=False)`. To opt-in to the future behavior, set `pd.set_option('future.no_silent_downcasting', True)`\n",
      "  df[col_name] = df[col_name].replace(counts.index, range(len(counts)))\n",
      "/mnt/KInsektDaten/teo/./BGR/bgr/soil/datasets.py:35: SettingWithCopyWarning: \n",
      "A value is trying to be set on a copy of a slice from a DataFrame.\n",
      "Try using .loc[row_indexer,col_indexer] = value instead\n",
      "\n",
      "See the caveats in the documentation: https://pandas.pydata.org/pandas-docs/stable/user_guide/indexing.html#returning-a-view-versus-a-copy\n",
      "  df[col_name] = df[col_name].replace(counts.index, range(len(counts)))\n",
      "/mnt/KInsektDaten/teo/./BGR/bgr/soil/datasets.py:35: FutureWarning: Downcasting behavior in `replace` is deprecated and will be removed in a future version. To retain the old behavior, explicitly call `result.infer_objects(copy=False)`. To opt-in to the future behavior, set `pd.set_option('future.no_silent_downcasting', True)`\n",
      "  df[col_name] = df[col_name].replace(counts.index, range(len(counts)))\n",
      "/mnt/KInsektDaten/teo/./BGR/bgr/soil/datasets.py:35: SettingWithCopyWarning: \n",
      "A value is trying to be set on a copy of a slice from a DataFrame.\n",
      "Try using .loc[row_indexer,col_indexer] = value instead\n",
      "\n",
      "See the caveats in the documentation: https://pandas.pydata.org/pandas-docs/stable/user_guide/indexing.html#returning-a-view-versus-a-copy\n",
      "  df[col_name] = df[col_name].replace(counts.index, range(len(counts)))\n"
     ]
    },
    {
     "data": {
      "text/plain": "        Point  Obergrenze  Untergrenze  Horizontsymbol_relevant  Bodenart  \\\n0         2.0         0.0         28.0                       22       3.0   \n1         2.0        28.0         54.0                        5       3.0   \n2         2.0        54.0         68.0                       32       3.0   \n3         2.0        68.0         96.0                       62       8.0   \n4         2.0        96.0        201.0                        0       7.0   \n...       ...         ...          ...                      ...       ...   \n16307  6211.0        27.0         50.0                       37       8.0   \n16308  6211.0        50.0         70.0                       12       8.0   \n16309  6211.0        50.0         70.0                       12       8.0   \n16310  6211.0        70.0        100.0                       74       8.0   \n16311  6211.0        70.0        100.0                       74       8.0   \n\n       Bodenfarbe  Steine  Karbonat  Humusgehaltsklasse  Durchwurzelung  \\\n0            24.0     3.0         0                 1.0               4   \n1             0.0     3.0         0                 3.0               3   \n2            20.0    10.0         0                 2.0               3   \n3            72.0     1.0         0                 0.0               1   \n4            37.0     1.0         0                 0.0               0   \n...           ...     ...       ...                 ...             ...   \n16307        68.0     1.0         0                 3.0               3   \n16308        38.0     1.0         0                 2.0               1   \n16309        38.0     1.0         0                 2.0               1   \n16310        19.0     1.0         0                 2.0               6   \n16311        19.0     1.0         0                 2.0               6   \n\n                                                    file  Probenahme_Monat  \\\n0      ../data/BGR/Profilbilder_no_ruler_no_sky/SH_00...                 3   \n1      ../data/BGR/Profilbilder_no_ruler_no_sky/SH_00...                 3   \n2      ../data/BGR/Profilbilder_no_ruler_no_sky/SH_00...                 3   \n3      ../data/BGR/Profilbilder_no_ruler_no_sky/SH_00...                 3   \n4      ../data/BGR/Profilbilder_no_ruler_no_sky/SH_00...                 3   \n...                                                  ...               ...   \n16307  ../data/BGR/Profilbilder_no_ruler_no_sky/NI_62...                10   \n16308  ../data/BGR/Profilbilder_no_ruler_no_sky/NI_62...                10   \n16309  ../data/BGR/Profilbilder_no_ruler_no_sky/NI_62...                10   \n16310  ../data/BGR/Profilbilder_no_ruler_no_sky/NI_62...                10   \n16311  ../data/BGR/Profilbilder_no_ruler_no_sky/NI_62...                10   \n\n       Probenahme_Jahr       xcoord       ycoord  Bodenklimaraum_Name  \\\n0                    4  462216.1283  6079359.775                   37   \n1                    4  462216.1283  6079359.775                   37   \n2                    4  462216.1283  6079359.775                   37   \n3                    4  462216.1283  6079359.775                   37   \n4                    4  462216.1283  6079359.775                   37   \n...                ...          ...          ...                  ...   \n16307                0  522076.9633  5930456.114                   15   \n16308                0  522076.9633  5930456.114                   15   \n16309                0  522076.9633  5930456.114                   15   \n16310                0  522076.9633  5930456.114                   15   \n16311                0  522076.9633  5930456.114                   15   \n\n       Landnutzung  BZE_Moor  Hauptbodentyp  BodenVarTypSub  GrundwaStufe  \\\n0                0         0             15             247           0.0   \n1                0         0             15             247           0.0   \n2                0         0             15             247           0.0   \n3                0         0             15             247           0.0   \n4                0         0             15             247           0.0   \n...            ...       ...            ...             ...           ...   \n16307            1         0              8              42           1.0   \n16308            1         0              8              42           1.0   \n16309            1         0              8              42           1.0   \n16310            1         0              8              42           1.0   \n16311            1         0              8              42           1.0   \n\n       GrundwaStand  Moormaechtigkeit  Torfmaechtigkeit  Neigung  Exposition  \\\n0             200.0               0.0               0.0      0.0         0.0   \n1             200.0               0.0               0.0      0.0         0.0   \n2             200.0               0.0               0.0      0.0         0.0   \n3             200.0               0.0               0.0      0.0         0.0   \n4             200.0               0.0               0.0      0.0         0.0   \n...             ...               ...               ...      ...         ...   \n16307         110.0               0.0               0.0      0.0         0.0   \n16308         110.0               0.0               0.0      0.0         0.0   \n16309         110.0               0.0               0.0      0.0         0.0   \n16310         110.0               0.0               0.0      0.0         0.0   \n16311         110.0               0.0               0.0      0.0         0.0   \n\n       Woelbung  Reliefformtyp  LageImRelief  KV_0_30  KV_30_100  \n0           0.0            1.0           0.0    81.89      54.19  \n1           0.0            1.0           0.0    81.89      54.19  \n2           0.0            1.0           0.0    81.89      54.19  \n3           0.0            1.0           0.0    81.89      54.19  \n4           0.0            1.0           0.0    81.89      54.19  \n...         ...            ...           ...      ...        ...  \n16307       0.0            2.0           5.0   117.59      87.72  \n16308       0.0            2.0           5.0   117.59      87.72  \n16309       0.0            2.0           5.0   117.59      87.72  \n16310       0.0            2.0           5.0   117.59      87.72  \n16311       0.0            2.0           5.0   117.59      87.72  \n\n[13621 rows x 31 columns]",
      "text/html": "<div>\n<style scoped>\n    .dataframe tbody tr th:only-of-type {\n        vertical-align: middle;\n    }\n\n    .dataframe tbody tr th {\n        vertical-align: top;\n    }\n\n    .dataframe thead th {\n        text-align: right;\n    }\n</style>\n<table border=\"1\" class=\"dataframe\">\n  <thead>\n    <tr style=\"text-align: right;\">\n      <th></th>\n      <th>Point</th>\n      <th>Obergrenze</th>\n      <th>Untergrenze</th>\n      <th>Horizontsymbol_relevant</th>\n      <th>Bodenart</th>\n      <th>Bodenfarbe</th>\n      <th>Steine</th>\n      <th>Karbonat</th>\n      <th>Humusgehaltsklasse</th>\n      <th>Durchwurzelung</th>\n      <th>file</th>\n      <th>Probenahme_Monat</th>\n      <th>Probenahme_Jahr</th>\n      <th>xcoord</th>\n      <th>ycoord</th>\n      <th>Bodenklimaraum_Name</th>\n      <th>Landnutzung</th>\n      <th>BZE_Moor</th>\n      <th>Hauptbodentyp</th>\n      <th>BodenVarTypSub</th>\n      <th>GrundwaStufe</th>\n      <th>GrundwaStand</th>\n      <th>Moormaechtigkeit</th>\n      <th>Torfmaechtigkeit</th>\n      <th>Neigung</th>\n      <th>Exposition</th>\n      <th>Woelbung</th>\n      <th>Reliefformtyp</th>\n      <th>LageImRelief</th>\n      <th>KV_0_30</th>\n      <th>KV_30_100</th>\n    </tr>\n  </thead>\n  <tbody>\n    <tr>\n      <th>0</th>\n      <td>2.0</td>\n      <td>0.0</td>\n      <td>28.0</td>\n      <td>22</td>\n      <td>3.0</td>\n      <td>24.0</td>\n      <td>3.0</td>\n      <td>0</td>\n      <td>1.0</td>\n      <td>4</td>\n      <td>../data/BGR/Profilbilder_no_ruler_no_sky/SH_00...</td>\n      <td>3</td>\n      <td>4</td>\n      <td>462216.1283</td>\n      <td>6079359.775</td>\n      <td>37</td>\n      <td>0</td>\n      <td>0</td>\n      <td>15</td>\n      <td>247</td>\n      <td>0.0</td>\n      <td>200.0</td>\n      <td>0.0</td>\n      <td>0.0</td>\n      <td>0.0</td>\n      <td>0.0</td>\n      <td>0.0</td>\n      <td>1.0</td>\n      <td>0.0</td>\n      <td>81.89</td>\n      <td>54.19</td>\n    </tr>\n    <tr>\n      <th>1</th>\n      <td>2.0</td>\n      <td>28.0</td>\n      <td>54.0</td>\n      <td>5</td>\n      <td>3.0</td>\n      <td>0.0</td>\n      <td>3.0</td>\n      <td>0</td>\n      <td>3.0</td>\n      <td>3</td>\n      <td>../data/BGR/Profilbilder_no_ruler_no_sky/SH_00...</td>\n      <td>3</td>\n      <td>4</td>\n      <td>462216.1283</td>\n      <td>6079359.775</td>\n      <td>37</td>\n      <td>0</td>\n      <td>0</td>\n      <td>15</td>\n      <td>247</td>\n      <td>0.0</td>\n      <td>200.0</td>\n      <td>0.0</td>\n      <td>0.0</td>\n      <td>0.0</td>\n      <td>0.0</td>\n      <td>0.0</td>\n      <td>1.0</td>\n      <td>0.0</td>\n      <td>81.89</td>\n      <td>54.19</td>\n    </tr>\n    <tr>\n      <th>2</th>\n      <td>2.0</td>\n      <td>54.0</td>\n      <td>68.0</td>\n      <td>32</td>\n      <td>3.0</td>\n      <td>20.0</td>\n      <td>10.0</td>\n      <td>0</td>\n      <td>2.0</td>\n      <td>3</td>\n      <td>../data/BGR/Profilbilder_no_ruler_no_sky/SH_00...</td>\n      <td>3</td>\n      <td>4</td>\n      <td>462216.1283</td>\n      <td>6079359.775</td>\n      <td>37</td>\n      <td>0</td>\n      <td>0</td>\n      <td>15</td>\n      <td>247</td>\n      <td>0.0</td>\n      <td>200.0</td>\n      <td>0.0</td>\n      <td>0.0</td>\n      <td>0.0</td>\n      <td>0.0</td>\n      <td>0.0</td>\n      <td>1.0</td>\n      <td>0.0</td>\n      <td>81.89</td>\n      <td>54.19</td>\n    </tr>\n    <tr>\n      <th>3</th>\n      <td>2.0</td>\n      <td>68.0</td>\n      <td>96.0</td>\n      <td>62</td>\n      <td>8.0</td>\n      <td>72.0</td>\n      <td>1.0</td>\n      <td>0</td>\n      <td>0.0</td>\n      <td>1</td>\n      <td>../data/BGR/Profilbilder_no_ruler_no_sky/SH_00...</td>\n      <td>3</td>\n      <td>4</td>\n      <td>462216.1283</td>\n      <td>6079359.775</td>\n      <td>37</td>\n      <td>0</td>\n      <td>0</td>\n      <td>15</td>\n      <td>247</td>\n      <td>0.0</td>\n      <td>200.0</td>\n      <td>0.0</td>\n      <td>0.0</td>\n      <td>0.0</td>\n      <td>0.0</td>\n      <td>0.0</td>\n      <td>1.0</td>\n      <td>0.0</td>\n      <td>81.89</td>\n      <td>54.19</td>\n    </tr>\n    <tr>\n      <th>4</th>\n      <td>2.0</td>\n      <td>96.0</td>\n      <td>201.0</td>\n      <td>0</td>\n      <td>7.0</td>\n      <td>37.0</td>\n      <td>1.0</td>\n      <td>0</td>\n      <td>0.0</td>\n      <td>0</td>\n      <td>../data/BGR/Profilbilder_no_ruler_no_sky/SH_00...</td>\n      <td>3</td>\n      <td>4</td>\n      <td>462216.1283</td>\n      <td>6079359.775</td>\n      <td>37</td>\n      <td>0</td>\n      <td>0</td>\n      <td>15</td>\n      <td>247</td>\n      <td>0.0</td>\n      <td>200.0</td>\n      <td>0.0</td>\n      <td>0.0</td>\n      <td>0.0</td>\n      <td>0.0</td>\n      <td>0.0</td>\n      <td>1.0</td>\n      <td>0.0</td>\n      <td>81.89</td>\n      <td>54.19</td>\n    </tr>\n    <tr>\n      <th>...</th>\n      <td>...</td>\n      <td>...</td>\n      <td>...</td>\n      <td>...</td>\n      <td>...</td>\n      <td>...</td>\n      <td>...</td>\n      <td>...</td>\n      <td>...</td>\n      <td>...</td>\n      <td>...</td>\n      <td>...</td>\n      <td>...</td>\n      <td>...</td>\n      <td>...</td>\n      <td>...</td>\n      <td>...</td>\n      <td>...</td>\n      <td>...</td>\n      <td>...</td>\n      <td>...</td>\n      <td>...</td>\n      <td>...</td>\n      <td>...</td>\n      <td>...</td>\n      <td>...</td>\n      <td>...</td>\n      <td>...</td>\n      <td>...</td>\n      <td>...</td>\n      <td>...</td>\n    </tr>\n    <tr>\n      <th>16307</th>\n      <td>6211.0</td>\n      <td>27.0</td>\n      <td>50.0</td>\n      <td>37</td>\n      <td>8.0</td>\n      <td>68.0</td>\n      <td>1.0</td>\n      <td>0</td>\n      <td>3.0</td>\n      <td>3</td>\n      <td>../data/BGR/Profilbilder_no_ruler_no_sky/NI_62...</td>\n      <td>10</td>\n      <td>0</td>\n      <td>522076.9633</td>\n      <td>5930456.114</td>\n      <td>15</td>\n      <td>1</td>\n      <td>0</td>\n      <td>8</td>\n      <td>42</td>\n      <td>1.0</td>\n      <td>110.0</td>\n      <td>0.0</td>\n      <td>0.0</td>\n      <td>0.0</td>\n      <td>0.0</td>\n      <td>0.0</td>\n      <td>2.0</td>\n      <td>5.0</td>\n      <td>117.59</td>\n      <td>87.72</td>\n    </tr>\n    <tr>\n      <th>16308</th>\n      <td>6211.0</td>\n      <td>50.0</td>\n      <td>70.0</td>\n      <td>12</td>\n      <td>8.0</td>\n      <td>38.0</td>\n      <td>1.0</td>\n      <td>0</td>\n      <td>2.0</td>\n      <td>1</td>\n      <td>../data/BGR/Profilbilder_no_ruler_no_sky/NI_62...</td>\n      <td>10</td>\n      <td>0</td>\n      <td>522076.9633</td>\n      <td>5930456.114</td>\n      <td>15</td>\n      <td>1</td>\n      <td>0</td>\n      <td>8</td>\n      <td>42</td>\n      <td>1.0</td>\n      <td>110.0</td>\n      <td>0.0</td>\n      <td>0.0</td>\n      <td>0.0</td>\n      <td>0.0</td>\n      <td>0.0</td>\n      <td>2.0</td>\n      <td>5.0</td>\n      <td>117.59</td>\n      <td>87.72</td>\n    </tr>\n    <tr>\n      <th>16309</th>\n      <td>6211.0</td>\n      <td>50.0</td>\n      <td>70.0</td>\n      <td>12</td>\n      <td>8.0</td>\n      <td>38.0</td>\n      <td>1.0</td>\n      <td>0</td>\n      <td>2.0</td>\n      <td>1</td>\n      <td>../data/BGR/Profilbilder_no_ruler_no_sky/NI_62...</td>\n      <td>10</td>\n      <td>0</td>\n      <td>522076.9633</td>\n      <td>5930456.114</td>\n      <td>15</td>\n      <td>1</td>\n      <td>0</td>\n      <td>8</td>\n      <td>42</td>\n      <td>1.0</td>\n      <td>110.0</td>\n      <td>0.0</td>\n      <td>0.0</td>\n      <td>0.0</td>\n      <td>0.0</td>\n      <td>0.0</td>\n      <td>2.0</td>\n      <td>5.0</td>\n      <td>117.59</td>\n      <td>87.72</td>\n    </tr>\n    <tr>\n      <th>16310</th>\n      <td>6211.0</td>\n      <td>70.0</td>\n      <td>100.0</td>\n      <td>74</td>\n      <td>8.0</td>\n      <td>19.0</td>\n      <td>1.0</td>\n      <td>0</td>\n      <td>2.0</td>\n      <td>6</td>\n      <td>../data/BGR/Profilbilder_no_ruler_no_sky/NI_62...</td>\n      <td>10</td>\n      <td>0</td>\n      <td>522076.9633</td>\n      <td>5930456.114</td>\n      <td>15</td>\n      <td>1</td>\n      <td>0</td>\n      <td>8</td>\n      <td>42</td>\n      <td>1.0</td>\n      <td>110.0</td>\n      <td>0.0</td>\n      <td>0.0</td>\n      <td>0.0</td>\n      <td>0.0</td>\n      <td>0.0</td>\n      <td>2.0</td>\n      <td>5.0</td>\n      <td>117.59</td>\n      <td>87.72</td>\n    </tr>\n    <tr>\n      <th>16311</th>\n      <td>6211.0</td>\n      <td>70.0</td>\n      <td>100.0</td>\n      <td>74</td>\n      <td>8.0</td>\n      <td>19.0</td>\n      <td>1.0</td>\n      <td>0</td>\n      <td>2.0</td>\n      <td>6</td>\n      <td>../data/BGR/Profilbilder_no_ruler_no_sky/NI_62...</td>\n      <td>10</td>\n      <td>0</td>\n      <td>522076.9633</td>\n      <td>5930456.114</td>\n      <td>15</td>\n      <td>1</td>\n      <td>0</td>\n      <td>8</td>\n      <td>42</td>\n      <td>1.0</td>\n      <td>110.0</td>\n      <td>0.0</td>\n      <td>0.0</td>\n      <td>0.0</td>\n      <td>0.0</td>\n      <td>0.0</td>\n      <td>2.0</td>\n      <td>5.0</td>\n      <td>117.59</td>\n      <td>87.72</td>\n    </tr>\n  </tbody>\n</table>\n<p>13621 rows × 31 columns</p>\n</div>"
     },
     "execution_count": 25,
     "metadata": {},
     "output_type": "execute_result"
    }
   ],
   "source": [
    "# Encode categorical features (NaNs are left NaNs)\n",
    "for categ in categ_features:\n",
    "    bgr_data.encode_categorical_columns(df, categ)\n",
    "df"
   ],
   "metadata": {
    "collapsed": false,
    "pycharm": {
     "name": "#%%\n"
    }
   }
  },
  {
   "cell_type": "code",
   "execution_count": 26,
   "outputs": [
    {
     "name": "stdout",
     "output_type": "stream",
     "text": [
      "<class 'pandas.core.frame.DataFrame'>\n",
      "Index: 13621 entries, 0 to 16311\n",
      "Data columns (total 31 columns):\n",
      " #   Column                   Non-Null Count  Dtype  \n",
      "---  ------                   --------------  -----  \n",
      " 0   Point                    13621 non-null  float64\n",
      " 1   Obergrenze               13621 non-null  float64\n",
      " 2   Untergrenze              13621 non-null  float64\n",
      " 3   Horizontsymbol_relevant  13621 non-null  int64  \n",
      " 4   Bodenart                 13589 non-null  float64\n",
      " 5   Bodenfarbe               13572 non-null  float64\n",
      " 6   Steine                   13621 non-null  float64\n",
      " 7   Karbonat                 13621 non-null  int64  \n",
      " 8   Humusgehaltsklasse       13615 non-null  float64\n",
      " 9   Durchwurzelung           13621 non-null  int64  \n",
      " 10  file                     13621 non-null  object \n",
      " 11  Probenahme_Monat         13621 non-null  int64  \n",
      " 12  Probenahme_Jahr          13621 non-null  int64  \n",
      " 13  xcoord                   13621 non-null  float64\n",
      " 14  ycoord                   13621 non-null  float64\n",
      " 15  Bodenklimaraum_Name      13621 non-null  int64  \n",
      " 16  Landnutzung              13621 non-null  int64  \n",
      " 17  BZE_Moor                 13621 non-null  int64  \n",
      " 18  Hauptbodentyp            13621 non-null  int64  \n",
      " 19  BodenVarTypSub           13621 non-null  int64  \n",
      " 20  GrundwaStufe             13609 non-null  float64\n",
      " 21  GrundwaStand             11401 non-null  float64\n",
      " 22  Moormaechtigkeit         13609 non-null  float64\n",
      " 23  Torfmaechtigkeit         13609 non-null  float64\n",
      " 24  Neigung                  13609 non-null  float64\n",
      " 25  Exposition               12901 non-null  float64\n",
      " 26  Woelbung                 13609 non-null  float64\n",
      " 27  Reliefformtyp            13609 non-null  float64\n",
      " 28  LageImRelief             13609 non-null  float64\n",
      " 29  KV_0_30                  13609 non-null  float64\n",
      " 30  KV_30_100                13552 non-null  float64\n",
      "dtypes: float64(20), int64(10), object(1)\n",
      "memory usage: 3.3+ MB\n"
     ]
    }
   ],
   "source": [
    "# Some columns still have NaNs\n",
    "# For now, we are replacing the missing values with the column medians\n",
    "# Any better ideas? In particular the column GrundwaStand has quite a few missing entries...\n",
    "df.info()\n",
    "df = df.fillna(df.median(numeric_only=True))"
   ],
   "metadata": {
    "collapsed": false,
    "pycharm": {
     "name": "#%%\n"
    }
   }
  },
  {
   "cell_type": "code",
   "execution_count": 27,
   "outputs": [
    {
     "data": {
      "text/plain": "        Point  Obergrenze  Untergrenze  Horizontsymbol_relevant  Bodenart  \\\n0         2.0         0.0         28.0                       22       3.0   \n1         2.0        28.0         54.0                        5       3.0   \n2         2.0        54.0         68.0                       32       3.0   \n3         2.0        68.0         96.0                       62       8.0   \n4         2.0        96.0        201.0                        0       7.0   \n...       ...         ...          ...                      ...       ...   \n16307  6211.0        27.0         50.0                       37       8.0   \n16308  6211.0        50.0         70.0                       12       8.0   \n16309  6211.0        50.0         70.0                       12       8.0   \n16310  6211.0        70.0        100.0                       74       8.0   \n16311  6211.0        70.0        100.0                       74       8.0   \n\n       Bodenfarbe  Steine  Karbonat  Humusgehaltsklasse  Durchwurzelung  \\\n0            24.0    0.03         0                 1.0               4   \n1             0.0    0.03         0                 3.0               3   \n2            20.0    0.10         0                 2.0               3   \n3            72.0    0.01         0                 0.0               1   \n4            37.0    0.01         0                 0.0               0   \n...           ...     ...       ...                 ...             ...   \n16307        68.0    0.01         0                 3.0               3   \n16308        38.0    0.01         0                 2.0               1   \n16309        38.0    0.01         0                 2.0               1   \n16310        19.0    0.01         0                 2.0               6   \n16311        19.0    0.01         0                 2.0               6   \n\n                                                    file  Probenahme_Monat  \\\n0      ../data/BGR/Profilbilder_no_ruler_no_sky/SH_00...                 3   \n1      ../data/BGR/Profilbilder_no_ruler_no_sky/SH_00...                 3   \n2      ../data/BGR/Profilbilder_no_ruler_no_sky/SH_00...                 3   \n3      ../data/BGR/Profilbilder_no_ruler_no_sky/SH_00...                 3   \n4      ../data/BGR/Profilbilder_no_ruler_no_sky/SH_00...                 3   \n...                                                  ...               ...   \n16307  ../data/BGR/Profilbilder_no_ruler_no_sky/NI_62...                10   \n16308  ../data/BGR/Profilbilder_no_ruler_no_sky/NI_62...                10   \n16309  ../data/BGR/Profilbilder_no_ruler_no_sky/NI_62...                10   \n16310  ../data/BGR/Profilbilder_no_ruler_no_sky/NI_62...                10   \n16311  ../data/BGR/Profilbilder_no_ruler_no_sky/NI_62...                10   \n\n       Probenahme_Jahr       xcoord       ycoord  Bodenklimaraum_Name  \\\n0                    4  462216.1283  6079359.775                   37   \n1                    4  462216.1283  6079359.775                   37   \n2                    4  462216.1283  6079359.775                   37   \n3                    4  462216.1283  6079359.775                   37   \n4                    4  462216.1283  6079359.775                   37   \n...                ...          ...          ...                  ...   \n16307                0  522076.9633  5930456.114                   15   \n16308                0  522076.9633  5930456.114                   15   \n16309                0  522076.9633  5930456.114                   15   \n16310                0  522076.9633  5930456.114                   15   \n16311                0  522076.9633  5930456.114                   15   \n\n       Landnutzung  BZE_Moor  Hauptbodentyp  BodenVarTypSub  GrundwaStufe  \\\n0                0         0             15             247           0.0   \n1                0         0             15             247           0.0   \n2                0         0             15             247           0.0   \n3                0         0             15             247           0.0   \n4                0         0             15             247           0.0   \n...            ...       ...            ...             ...           ...   \n16307            1         0              8              42           1.0   \n16308            1         0              8              42           1.0   \n16309            1         0              8              42           1.0   \n16310            1         0              8              42           1.0   \n16311            1         0              8              42           1.0   \n\n       GrundwaStand  Moormaechtigkeit  Torfmaechtigkeit  Neigung  Exposition  \\\n0             200.0               0.0               0.0      0.0         0.0   \n1             200.0               0.0               0.0      0.0         0.0   \n2             200.0               0.0               0.0      0.0         0.0   \n3             200.0               0.0               0.0      0.0         0.0   \n4             200.0               0.0               0.0      0.0         0.0   \n...             ...               ...               ...      ...         ...   \n16307         110.0               0.0               0.0      0.0         0.0   \n16308         110.0               0.0               0.0      0.0         0.0   \n16309         110.0               0.0               0.0      0.0         0.0   \n16310         110.0               0.0               0.0      0.0         0.0   \n16311         110.0               0.0               0.0      0.0         0.0   \n\n       Woelbung  Reliefformtyp  LageImRelief  KV_0_30  KV_30_100  \n0           0.0            1.0           0.0    81.89      54.19  \n1           0.0            1.0           0.0    81.89      54.19  \n2           0.0            1.0           0.0    81.89      54.19  \n3           0.0            1.0           0.0    81.89      54.19  \n4           0.0            1.0           0.0    81.89      54.19  \n...         ...            ...           ...      ...        ...  \n16307       0.0            2.0           5.0   117.59      87.72  \n16308       0.0            2.0           5.0   117.59      87.72  \n16309       0.0            2.0           5.0   117.59      87.72  \n16310       0.0            2.0           5.0   117.59      87.72  \n16311       0.0            2.0           5.0   117.59      87.72  \n\n[13621 rows x 31 columns]",
      "text/html": "<div>\n<style scoped>\n    .dataframe tbody tr th:only-of-type {\n        vertical-align: middle;\n    }\n\n    .dataframe tbody tr th {\n        vertical-align: top;\n    }\n\n    .dataframe thead th {\n        text-align: right;\n    }\n</style>\n<table border=\"1\" class=\"dataframe\">\n  <thead>\n    <tr style=\"text-align: right;\">\n      <th></th>\n      <th>Point</th>\n      <th>Obergrenze</th>\n      <th>Untergrenze</th>\n      <th>Horizontsymbol_relevant</th>\n      <th>Bodenart</th>\n      <th>Bodenfarbe</th>\n      <th>Steine</th>\n      <th>Karbonat</th>\n      <th>Humusgehaltsklasse</th>\n      <th>Durchwurzelung</th>\n      <th>file</th>\n      <th>Probenahme_Monat</th>\n      <th>Probenahme_Jahr</th>\n      <th>xcoord</th>\n      <th>ycoord</th>\n      <th>Bodenklimaraum_Name</th>\n      <th>Landnutzung</th>\n      <th>BZE_Moor</th>\n      <th>Hauptbodentyp</th>\n      <th>BodenVarTypSub</th>\n      <th>GrundwaStufe</th>\n      <th>GrundwaStand</th>\n      <th>Moormaechtigkeit</th>\n      <th>Torfmaechtigkeit</th>\n      <th>Neigung</th>\n      <th>Exposition</th>\n      <th>Woelbung</th>\n      <th>Reliefformtyp</th>\n      <th>LageImRelief</th>\n      <th>KV_0_30</th>\n      <th>KV_30_100</th>\n    </tr>\n  </thead>\n  <tbody>\n    <tr>\n      <th>0</th>\n      <td>2.0</td>\n      <td>0.0</td>\n      <td>28.0</td>\n      <td>22</td>\n      <td>3.0</td>\n      <td>24.0</td>\n      <td>0.03</td>\n      <td>0</td>\n      <td>1.0</td>\n      <td>4</td>\n      <td>../data/BGR/Profilbilder_no_ruler_no_sky/SH_00...</td>\n      <td>3</td>\n      <td>4</td>\n      <td>462216.1283</td>\n      <td>6079359.775</td>\n      <td>37</td>\n      <td>0</td>\n      <td>0</td>\n      <td>15</td>\n      <td>247</td>\n      <td>0.0</td>\n      <td>200.0</td>\n      <td>0.0</td>\n      <td>0.0</td>\n      <td>0.0</td>\n      <td>0.0</td>\n      <td>0.0</td>\n      <td>1.0</td>\n      <td>0.0</td>\n      <td>81.89</td>\n      <td>54.19</td>\n    </tr>\n    <tr>\n      <th>1</th>\n      <td>2.0</td>\n      <td>28.0</td>\n      <td>54.0</td>\n      <td>5</td>\n      <td>3.0</td>\n      <td>0.0</td>\n      <td>0.03</td>\n      <td>0</td>\n      <td>3.0</td>\n      <td>3</td>\n      <td>../data/BGR/Profilbilder_no_ruler_no_sky/SH_00...</td>\n      <td>3</td>\n      <td>4</td>\n      <td>462216.1283</td>\n      <td>6079359.775</td>\n      <td>37</td>\n      <td>0</td>\n      <td>0</td>\n      <td>15</td>\n      <td>247</td>\n      <td>0.0</td>\n      <td>200.0</td>\n      <td>0.0</td>\n      <td>0.0</td>\n      <td>0.0</td>\n      <td>0.0</td>\n      <td>0.0</td>\n      <td>1.0</td>\n      <td>0.0</td>\n      <td>81.89</td>\n      <td>54.19</td>\n    </tr>\n    <tr>\n      <th>2</th>\n      <td>2.0</td>\n      <td>54.0</td>\n      <td>68.0</td>\n      <td>32</td>\n      <td>3.0</td>\n      <td>20.0</td>\n      <td>0.10</td>\n      <td>0</td>\n      <td>2.0</td>\n      <td>3</td>\n      <td>../data/BGR/Profilbilder_no_ruler_no_sky/SH_00...</td>\n      <td>3</td>\n      <td>4</td>\n      <td>462216.1283</td>\n      <td>6079359.775</td>\n      <td>37</td>\n      <td>0</td>\n      <td>0</td>\n      <td>15</td>\n      <td>247</td>\n      <td>0.0</td>\n      <td>200.0</td>\n      <td>0.0</td>\n      <td>0.0</td>\n      <td>0.0</td>\n      <td>0.0</td>\n      <td>0.0</td>\n      <td>1.0</td>\n      <td>0.0</td>\n      <td>81.89</td>\n      <td>54.19</td>\n    </tr>\n    <tr>\n      <th>3</th>\n      <td>2.0</td>\n      <td>68.0</td>\n      <td>96.0</td>\n      <td>62</td>\n      <td>8.0</td>\n      <td>72.0</td>\n      <td>0.01</td>\n      <td>0</td>\n      <td>0.0</td>\n      <td>1</td>\n      <td>../data/BGR/Profilbilder_no_ruler_no_sky/SH_00...</td>\n      <td>3</td>\n      <td>4</td>\n      <td>462216.1283</td>\n      <td>6079359.775</td>\n      <td>37</td>\n      <td>0</td>\n      <td>0</td>\n      <td>15</td>\n      <td>247</td>\n      <td>0.0</td>\n      <td>200.0</td>\n      <td>0.0</td>\n      <td>0.0</td>\n      <td>0.0</td>\n      <td>0.0</td>\n      <td>0.0</td>\n      <td>1.0</td>\n      <td>0.0</td>\n      <td>81.89</td>\n      <td>54.19</td>\n    </tr>\n    <tr>\n      <th>4</th>\n      <td>2.0</td>\n      <td>96.0</td>\n      <td>201.0</td>\n      <td>0</td>\n      <td>7.0</td>\n      <td>37.0</td>\n      <td>0.01</td>\n      <td>0</td>\n      <td>0.0</td>\n      <td>0</td>\n      <td>../data/BGR/Profilbilder_no_ruler_no_sky/SH_00...</td>\n      <td>3</td>\n      <td>4</td>\n      <td>462216.1283</td>\n      <td>6079359.775</td>\n      <td>37</td>\n      <td>0</td>\n      <td>0</td>\n      <td>15</td>\n      <td>247</td>\n      <td>0.0</td>\n      <td>200.0</td>\n      <td>0.0</td>\n      <td>0.0</td>\n      <td>0.0</td>\n      <td>0.0</td>\n      <td>0.0</td>\n      <td>1.0</td>\n      <td>0.0</td>\n      <td>81.89</td>\n      <td>54.19</td>\n    </tr>\n    <tr>\n      <th>...</th>\n      <td>...</td>\n      <td>...</td>\n      <td>...</td>\n      <td>...</td>\n      <td>...</td>\n      <td>...</td>\n      <td>...</td>\n      <td>...</td>\n      <td>...</td>\n      <td>...</td>\n      <td>...</td>\n      <td>...</td>\n      <td>...</td>\n      <td>...</td>\n      <td>...</td>\n      <td>...</td>\n      <td>...</td>\n      <td>...</td>\n      <td>...</td>\n      <td>...</td>\n      <td>...</td>\n      <td>...</td>\n      <td>...</td>\n      <td>...</td>\n      <td>...</td>\n      <td>...</td>\n      <td>...</td>\n      <td>...</td>\n      <td>...</td>\n      <td>...</td>\n      <td>...</td>\n    </tr>\n    <tr>\n      <th>16307</th>\n      <td>6211.0</td>\n      <td>27.0</td>\n      <td>50.0</td>\n      <td>37</td>\n      <td>8.0</td>\n      <td>68.0</td>\n      <td>0.01</td>\n      <td>0</td>\n      <td>3.0</td>\n      <td>3</td>\n      <td>../data/BGR/Profilbilder_no_ruler_no_sky/NI_62...</td>\n      <td>10</td>\n      <td>0</td>\n      <td>522076.9633</td>\n      <td>5930456.114</td>\n      <td>15</td>\n      <td>1</td>\n      <td>0</td>\n      <td>8</td>\n      <td>42</td>\n      <td>1.0</td>\n      <td>110.0</td>\n      <td>0.0</td>\n      <td>0.0</td>\n      <td>0.0</td>\n      <td>0.0</td>\n      <td>0.0</td>\n      <td>2.0</td>\n      <td>5.0</td>\n      <td>117.59</td>\n      <td>87.72</td>\n    </tr>\n    <tr>\n      <th>16308</th>\n      <td>6211.0</td>\n      <td>50.0</td>\n      <td>70.0</td>\n      <td>12</td>\n      <td>8.0</td>\n      <td>38.0</td>\n      <td>0.01</td>\n      <td>0</td>\n      <td>2.0</td>\n      <td>1</td>\n      <td>../data/BGR/Profilbilder_no_ruler_no_sky/NI_62...</td>\n      <td>10</td>\n      <td>0</td>\n      <td>522076.9633</td>\n      <td>5930456.114</td>\n      <td>15</td>\n      <td>1</td>\n      <td>0</td>\n      <td>8</td>\n      <td>42</td>\n      <td>1.0</td>\n      <td>110.0</td>\n      <td>0.0</td>\n      <td>0.0</td>\n      <td>0.0</td>\n      <td>0.0</td>\n      <td>0.0</td>\n      <td>2.0</td>\n      <td>5.0</td>\n      <td>117.59</td>\n      <td>87.72</td>\n    </tr>\n    <tr>\n      <th>16309</th>\n      <td>6211.0</td>\n      <td>50.0</td>\n      <td>70.0</td>\n      <td>12</td>\n      <td>8.0</td>\n      <td>38.0</td>\n      <td>0.01</td>\n      <td>0</td>\n      <td>2.0</td>\n      <td>1</td>\n      <td>../data/BGR/Profilbilder_no_ruler_no_sky/NI_62...</td>\n      <td>10</td>\n      <td>0</td>\n      <td>522076.9633</td>\n      <td>5930456.114</td>\n      <td>15</td>\n      <td>1</td>\n      <td>0</td>\n      <td>8</td>\n      <td>42</td>\n      <td>1.0</td>\n      <td>110.0</td>\n      <td>0.0</td>\n      <td>0.0</td>\n      <td>0.0</td>\n      <td>0.0</td>\n      <td>0.0</td>\n      <td>2.0</td>\n      <td>5.0</td>\n      <td>117.59</td>\n      <td>87.72</td>\n    </tr>\n    <tr>\n      <th>16310</th>\n      <td>6211.0</td>\n      <td>70.0</td>\n      <td>100.0</td>\n      <td>74</td>\n      <td>8.0</td>\n      <td>19.0</td>\n      <td>0.01</td>\n      <td>0</td>\n      <td>2.0</td>\n      <td>6</td>\n      <td>../data/BGR/Profilbilder_no_ruler_no_sky/NI_62...</td>\n      <td>10</td>\n      <td>0</td>\n      <td>522076.9633</td>\n      <td>5930456.114</td>\n      <td>15</td>\n      <td>1</td>\n      <td>0</td>\n      <td>8</td>\n      <td>42</td>\n      <td>1.0</td>\n      <td>110.0</td>\n      <td>0.0</td>\n      <td>0.0</td>\n      <td>0.0</td>\n      <td>0.0</td>\n      <td>0.0</td>\n      <td>2.0</td>\n      <td>5.0</td>\n      <td>117.59</td>\n      <td>87.72</td>\n    </tr>\n    <tr>\n      <th>16311</th>\n      <td>6211.0</td>\n      <td>70.0</td>\n      <td>100.0</td>\n      <td>74</td>\n      <td>8.0</td>\n      <td>19.0</td>\n      <td>0.01</td>\n      <td>0</td>\n      <td>2.0</td>\n      <td>6</td>\n      <td>../data/BGR/Profilbilder_no_ruler_no_sky/NI_62...</td>\n      <td>10</td>\n      <td>0</td>\n      <td>522076.9633</td>\n      <td>5930456.114</td>\n      <td>15</td>\n      <td>1</td>\n      <td>0</td>\n      <td>8</td>\n      <td>42</td>\n      <td>1.0</td>\n      <td>110.0</td>\n      <td>0.0</td>\n      <td>0.0</td>\n      <td>0.0</td>\n      <td>0.0</td>\n      <td>0.0</td>\n      <td>2.0</td>\n      <td>5.0</td>\n      <td>117.59</td>\n      <td>87.72</td>\n    </tr>\n  </tbody>\n</table>\n<p>13621 rows × 31 columns</p>\n</div>"
     },
     "execution_count": 27,
     "metadata": {},
     "output_type": "execute_result"
    }
   ],
   "source": [
    "# Normalize stones for better convergence in the MSE loss below\n",
    "df['Steine'] = df['Steine']/df['Steine'].max() # max is 100\n",
    "df"
   ],
   "metadata": {
    "collapsed": false,
    "pycharm": {
     "name": "#%%\n"
    }
   }
  },
  {
   "cell_type": "code",
   "execution_count": 28,
   "outputs": [
    {
     "data": {
      "text/plain": "{'Stones_Predictor': {'output_dim': 1, 'classification': False},\n 'Carbonate_Predictor': {'output_dim': 12, 'classification': True},\n 'Humus_Predictor': {'output_dim': 8, 'classification': True},\n 'Rooting_Predictor': {'output_dim': 19, 'classification': True}}"
     },
     "execution_count": 28,
     "metadata": {},
     "output_type": "execute_result"
    }
   ],
   "source": [
    "# Used for constructing the tabular predictors in the general model\n",
    "# For every tabular feature name, specify the output dimension and if it's a classification task\n",
    "# ToDo: can the classes for soil type and color be clustered further? There's a lot of them :^)\n",
    "tabular_predictors_dict = {\n",
    "    #'Soil_Type_Predictor':  {'output_dim': len(df['Bodenart'].unique()),           'classification': True},\n",
    "    #'Soil_Color_Predictor': {'output_dim': len(df['Bodenfarbe'].unique()),         'classification': True},\n",
    "    'Stones_Predictor':     {'output_dim': 1,                                      'classification': False},\n",
    "    'Carbonate_Predictor':  {'output_dim': len(df['Karbonat'].unique()),           'classification': True},\n",
    "    'Humus_Predictor':      {'output_dim': len(df['Humusgehaltsklasse'].unique()), 'classification': True},\n",
    "    'Rooting_Predictor':    {'output_dim': len(df['Durchwurzelung'].unique()),     'classification': True}\n",
    "}\n",
    "tabular_predictors_dict"
   ],
   "metadata": {
    "collapsed": false,
    "pycharm": {
     "name": "#%%\n"
    }
   }
  },
  {
   "cell_type": "code",
   "execution_count": 29,
   "outputs": [
    {
     "data": {
      "text/plain": "3101"
     },
     "execution_count": 29,
     "metadata": {},
     "output_type": "execute_result"
    }
   ],
   "source": [
    "len(df['Point'].unique()) # number of unique images"
   ],
   "metadata": {
    "collapsed": false,
    "pycharm": {
     "name": "#%%\n"
    }
   }
  },
  {
   "cell_type": "markdown",
   "source": [
    "### Training"
   ],
   "metadata": {
    "collapsed": false
   }
  },
  {
   "cell_type": "code",
   "execution_count": 30,
   "outputs": [],
   "source": [
    "# Split variables into different categories according to their roles in the sequential training\n",
    "soil_infos = ['Bodenart', 'Bodenfarbe', 'Steine', 'Karbonat', 'Humusgehaltsklasse', 'Durchwurzelung']#, 'max_depth', 'HorizontID']\n",
    "\n",
    "geotemp_img_infos = [#'Point',\n",
    "                     'Probenahme_Monat', 'Probenahme_Jahr', 'xcoord', 'ycoord', 'Bodenklimaraum_Name', 'Landnutzung', 'BZE_Moor', 'Hauptbodentyp', 'BodenVarTypSub', 'GrundwaStufe', 'GrundwaStand',\n",
    "                     'Moormaechtigkeit', 'Torfmaechtigkeit', 'Neigung', 'Exposition', 'Woelbung', 'Reliefformtyp', 'LageImRelief', 'KV_0_30', 'KV_30_100',\n",
    "                     'file']\n",
    "\n",
    "depth_markers = ['Obergrenze', 'Untergrenze']\n",
    "\n",
    "# horizon symbols already in 'target' (see above)"
   ],
   "metadata": {
    "collapsed": false,
    "pycharm": {
     "name": "#%%\n"
    }
   }
  },
  {
   "cell_type": "code",
   "execution_count": 31,
   "outputs": [
    {
     "data": {
      "text/plain": "      index  Probenahme_Monat  Probenahme_Jahr       xcoord       ycoord  \\\n0         0                 1                7  819021.7488  5941699.083   \n1         1                 1                6  819307.3864  5935183.595   \n2         2                 8                6  826424.5503  5932240.596   \n3         3                 4                6  807568.3913  5926533.227   \n4         4                 1                6  818608.7036  5925050.271   \n...     ...               ...              ...          ...          ...   \n3342   3342                 0                6  648389.8108  5588119.501   \n3343   3343                 0                4  688216.3809  5588885.660   \n3344   3344                 0                4  701551.6557  5587919.679   \n3345   3345                 3                4  653547.6374  5581353.991   \n3346   3346                 4                5  620404.8554  5569180.493   \n\n      Bodenklimaraum_Name  Landnutzung  BZE_Moor  Hauptbodentyp  \\\n0                       7            0         0             12   \n1                       7            0         0             11   \n2                       7            0         0             10   \n3                       7            0         0             12   \n4                       7            0         0              7   \n...                   ...          ...       ...            ...   \n3342                   10            1         0              0   \n3343                   10            0         0              0   \n3344                   10            0         0              0   \n3345                   10            0         0              0   \n3346                   10            0         0              5   \n\n      BodenVarTypSub  GrundwaStufe  GrundwaStand  Moormaechtigkeit  \\\n0                770           0.0         200.0               0.0   \n1                371           0.0         200.0               0.0   \n2                 22           0.0         200.0               0.0   \n3                 44           0.0         200.0               0.0   \n4                413           2.0         200.0               0.0   \n...              ...           ...           ...               ...   \n3342             616           0.0         200.0               0.0   \n3343               9           0.0         200.0               0.0   \n3344               0           0.0         200.0               0.0   \n3345               2           0.0         200.0               0.0   \n3346               3           0.0         200.0               0.0   \n\n      Torfmaechtigkeit  Neigung  Exposition  Woelbung  Reliefformtyp  \\\n0                  0.0      3.0         1.0       1.0            0.0   \n1                  0.0      2.0         2.0       0.0            0.0   \n2                  0.0      3.0         2.0       0.0            0.0   \n3                  0.0      4.0         5.0       2.0           14.0   \n4                  0.0      3.0         5.0       0.0            4.0   \n...                ...      ...         ...       ...            ...   \n3342               0.0      8.0         7.0       7.0            0.0   \n3343               0.0      1.0         4.0       6.0            0.0   \n3344               0.0      6.0         4.0       0.0            0.0   \n3345               0.0      5.0         2.0       0.0            3.0   \n3346               0.0      1.0         3.0       0.0            0.0   \n\n      LageImRelief  KV_0_30  KV_30_100  \\\n0              1.0    38.60      21.42   \n1              3.0    34.91      11.67   \n2              1.0    42.21      34.56   \n3              3.0    37.39      13.22   \n4              1.0    48.47      16.43   \n...            ...      ...        ...   \n3342           3.0    48.82       2.46   \n3343           1.0    69.19      23.61   \n3344           1.0    75.65       9.34   \n3345           5.0    61.72      30.69   \n3346           3.0    80.30      19.58   \n\n                                                   file  \\\n0     ../data/BGR/Profilbilder_no_ruler_no_sky/BB_05...   \n1     ../data/BGR/Profilbilder_no_ruler_no_sky/BB_06...   \n2     ../data/BGR/Profilbilder_no_ruler_no_sky/BB_06...   \n3     ../data/BGR/Profilbilder_no_ruler_no_sky/BB_06...   \n4     ../data/BGR/Profilbilder_no_ruler_no_sky/BB_06...   \n...                                                 ...   \n3342  ../data/BGR/Profilbilder_no_ruler_no_sky/TH_34...   \n3343  ../data/BGR/Profilbilder_no_ruler_no_sky/TH_34...   \n3344  ../data/BGR/Profilbilder_no_ruler_no_sky/TH_34...   \n3345  ../data/BGR/Profilbilder_no_ruler_no_sky/TH_35...   \n3346  ../data/BGR/Profilbilder_no_ruler_no_sky/TH_35...   \n\n                                Untergrenze  \\\n0                 [30.0, 38.0, 50.0, 200.0]   \n1     [29.0, 40.0, 54.0, 60.0, 80.0, 201.0]   \n2                 [28.0, 50.0, 74.0, 110.0]   \n3                 [30.0, 47.0, 73.0, 102.0]   \n4           [33.0, 43.0, 71.0, 88.0, 100.0]   \n...                                     ...   \n3342               [14.0, 40.0, 60.0, 93.0]   \n3343                    [34.0, 69.0, 140.0]   \n3344              [20.0, 27.0, 70.0, 100.0]   \n3345              [31.0, 49.0, 71.0, 144.0]   \n3346                     [27.0, 70.0, 92.0]   \n\n                                Bodenart                          Bodenfarbe  \\\n0                 [3.0, 3.0, 10.0, 12.0]               [1.0, 1.0, 10.0, 5.0]   \n1     [11.0, 11.0, 6.0, 10.0, 3.0, 21.0]  [4.0, 5.0, 29.0, 30.0, 42.0, 75.0]   \n2               [10.0, 11.0, 11.0, 11.0]                [0.0, 0.0, 3.0, 3.0]   \n3                   [2.0, 2.0, 3.0, 3.0]             [0.0, 10.0, 13.0, 16.0]   \n4           [28.0, 7.0, 2.0, 20.0, 10.0]       [0.0, 15.0, 54.0, 44.0, 14.0]   \n...                                  ...                                 ...   \n3342            [15.0, 15.0, 26.0, 26.0]              [6.0, 5.0, 53.0, 53.0]   \n3343                    [4.0, 4.0, 18.0]                    [0.0, 3.0, 10.0]   \n3344            [15.0, 15.0, 15.0, 26.0]               [2.0, 2.0, 3.0, 23.0]   \n3345            [15.0, 15.0, 15.0, 33.0]               [1.0, 7.0, 5.0, 16.0]   \n3346                    [1.0, 12.0, 1.0]                   [6.0, 23.0, 31.0]   \n\n                                    Steine            Karbonat  \\\n0                 [0.02, 0.02, 0.04, 0.04]        [0, 0, 0, 0]   \n1     [0.03, 0.03, 0.03, 0.03, 0.03, 0.03]  [2, 0, 2, 5, 7, 5]   \n2                 [0.04, 0.04, 0.04, 0.04]        [0, 0, 7, 7]   \n3                 [0.04, 0.04, 0.02, 0.02]        [0, 0, 0, 0]   \n4               [0.01, 0.0, 0.0, 0.0, 0.0]     [0, 0, 0, 0, 0]   \n...                                    ...                 ...   \n3342                 [0.6, 0.75, 0.9, 0.9]        [0, 0, 0, 0]   \n3343                      [0.2, 0.3, 0.25]           [0, 0, 0]   \n3344                [0.15, 0.25, 0.6, 0.9]        [0, 0, 0, 0]   \n3345               [0.05, 0.05, 0.2, 0.25]        [0, 0, 0, 0]   \n3346                      [0.03, 0.1, 0.3]           [3, 4, 4]   \n\n                  Humusgehaltsklasse      Durchwurzelung  \\\n0               [3.0, 3.0, 0.0, 0.0]        [3, 3, 1, 2]   \n1     [1.0, 2.0, 2.0, 2.0, 2.0, 0.0]  [4, 3, 1, 1, 1, 0]   \n2               [1.0, 3.0, 2.0, 0.0]        [4, 3, 3, 1]   \n3               [1.0, 2.0, 0.0, 0.0]        [3, 1, 1, 2]   \n4          [1.0, 2.0, 2.0, 0.0, 0.0]     [3, 0, 0, 0, 0]   \n...                              ...                 ...   \n3342            [1.0, 2.0, 0.0, 0.0]        [5, 3, 1, 2]   \n3343                 [1.0, 2.0, 0.0]           [5, 3, 1]   \n3344            [1.0, 1.0, 2.0, 0.0]        [4, 1, 0, 0]   \n3345            [1.0, 2.0, 0.0, 0.0]        [3, 2, 2, 2]   \n3346                 [1.0, 2.0, 0.0]           [0, 4, 4]   \n\n       Horizontsymbol_relevant  \n0             [22, 22, 73, 76]  \n1     [22, 65, 65, 81, 81, 81]  \n2             [40, 13, 34, 34]  \n3              [22, 1, 69, 78]  \n4           [22, 0, 65, 0, 68]  \n...                        ...  \n3342          [22, 14, 62, 77]  \n3343              [22, 32, 77]  \n3344           [22, 22, 32, 0]  \n3345           [22, 32, 47, 2]  \n3346              [22, 34, 34]  \n\n[3347 rows x 30 columns]",
      "text/html": "<div>\n<style scoped>\n    .dataframe tbody tr th:only-of-type {\n        vertical-align: middle;\n    }\n\n    .dataframe tbody tr th {\n        vertical-align: top;\n    }\n\n    .dataframe thead th {\n        text-align: right;\n    }\n</style>\n<table border=\"1\" class=\"dataframe\">\n  <thead>\n    <tr style=\"text-align: right;\">\n      <th></th>\n      <th>index</th>\n      <th>Probenahme_Monat</th>\n      <th>Probenahme_Jahr</th>\n      <th>xcoord</th>\n      <th>ycoord</th>\n      <th>Bodenklimaraum_Name</th>\n      <th>Landnutzung</th>\n      <th>BZE_Moor</th>\n      <th>Hauptbodentyp</th>\n      <th>BodenVarTypSub</th>\n      <th>GrundwaStufe</th>\n      <th>GrundwaStand</th>\n      <th>Moormaechtigkeit</th>\n      <th>Torfmaechtigkeit</th>\n      <th>Neigung</th>\n      <th>Exposition</th>\n      <th>Woelbung</th>\n      <th>Reliefformtyp</th>\n      <th>LageImRelief</th>\n      <th>KV_0_30</th>\n      <th>KV_30_100</th>\n      <th>file</th>\n      <th>Untergrenze</th>\n      <th>Bodenart</th>\n      <th>Bodenfarbe</th>\n      <th>Steine</th>\n      <th>Karbonat</th>\n      <th>Humusgehaltsklasse</th>\n      <th>Durchwurzelung</th>\n      <th>Horizontsymbol_relevant</th>\n    </tr>\n  </thead>\n  <tbody>\n    <tr>\n      <th>0</th>\n      <td>0</td>\n      <td>1</td>\n      <td>7</td>\n      <td>819021.7488</td>\n      <td>5941699.083</td>\n      <td>7</td>\n      <td>0</td>\n      <td>0</td>\n      <td>12</td>\n      <td>770</td>\n      <td>0.0</td>\n      <td>200.0</td>\n      <td>0.0</td>\n      <td>0.0</td>\n      <td>3.0</td>\n      <td>1.0</td>\n      <td>1.0</td>\n      <td>0.0</td>\n      <td>1.0</td>\n      <td>38.60</td>\n      <td>21.42</td>\n      <td>../data/BGR/Profilbilder_no_ruler_no_sky/BB_05...</td>\n      <td>[30.0, 38.0, 50.0, 200.0]</td>\n      <td>[3.0, 3.0, 10.0, 12.0]</td>\n      <td>[1.0, 1.0, 10.0, 5.0]</td>\n      <td>[0.02, 0.02, 0.04, 0.04]</td>\n      <td>[0, 0, 0, 0]</td>\n      <td>[3.0, 3.0, 0.0, 0.0]</td>\n      <td>[3, 3, 1, 2]</td>\n      <td>[22, 22, 73, 76]</td>\n    </tr>\n    <tr>\n      <th>1</th>\n      <td>1</td>\n      <td>1</td>\n      <td>6</td>\n      <td>819307.3864</td>\n      <td>5935183.595</td>\n      <td>7</td>\n      <td>0</td>\n      <td>0</td>\n      <td>11</td>\n      <td>371</td>\n      <td>0.0</td>\n      <td>200.0</td>\n      <td>0.0</td>\n      <td>0.0</td>\n      <td>2.0</td>\n      <td>2.0</td>\n      <td>0.0</td>\n      <td>0.0</td>\n      <td>3.0</td>\n      <td>34.91</td>\n      <td>11.67</td>\n      <td>../data/BGR/Profilbilder_no_ruler_no_sky/BB_06...</td>\n      <td>[29.0, 40.0, 54.0, 60.0, 80.0, 201.0]</td>\n      <td>[11.0, 11.0, 6.0, 10.0, 3.0, 21.0]</td>\n      <td>[4.0, 5.0, 29.0, 30.0, 42.0, 75.0]</td>\n      <td>[0.03, 0.03, 0.03, 0.03, 0.03, 0.03]</td>\n      <td>[2, 0, 2, 5, 7, 5]</td>\n      <td>[1.0, 2.0, 2.0, 2.0, 2.0, 0.0]</td>\n      <td>[4, 3, 1, 1, 1, 0]</td>\n      <td>[22, 65, 65, 81, 81, 81]</td>\n    </tr>\n    <tr>\n      <th>2</th>\n      <td>2</td>\n      <td>8</td>\n      <td>6</td>\n      <td>826424.5503</td>\n      <td>5932240.596</td>\n      <td>7</td>\n      <td>0</td>\n      <td>0</td>\n      <td>10</td>\n      <td>22</td>\n      <td>0.0</td>\n      <td>200.0</td>\n      <td>0.0</td>\n      <td>0.0</td>\n      <td>3.0</td>\n      <td>2.0</td>\n      <td>0.0</td>\n      <td>0.0</td>\n      <td>1.0</td>\n      <td>42.21</td>\n      <td>34.56</td>\n      <td>../data/BGR/Profilbilder_no_ruler_no_sky/BB_06...</td>\n      <td>[28.0, 50.0, 74.0, 110.0]</td>\n      <td>[10.0, 11.0, 11.0, 11.0]</td>\n      <td>[0.0, 0.0, 3.0, 3.0]</td>\n      <td>[0.04, 0.04, 0.04, 0.04]</td>\n      <td>[0, 0, 7, 7]</td>\n      <td>[1.0, 3.0, 2.0, 0.0]</td>\n      <td>[4, 3, 3, 1]</td>\n      <td>[40, 13, 34, 34]</td>\n    </tr>\n    <tr>\n      <th>3</th>\n      <td>3</td>\n      <td>4</td>\n      <td>6</td>\n      <td>807568.3913</td>\n      <td>5926533.227</td>\n      <td>7</td>\n      <td>0</td>\n      <td>0</td>\n      <td>12</td>\n      <td>44</td>\n      <td>0.0</td>\n      <td>200.0</td>\n      <td>0.0</td>\n      <td>0.0</td>\n      <td>4.0</td>\n      <td>5.0</td>\n      <td>2.0</td>\n      <td>14.0</td>\n      <td>3.0</td>\n      <td>37.39</td>\n      <td>13.22</td>\n      <td>../data/BGR/Profilbilder_no_ruler_no_sky/BB_06...</td>\n      <td>[30.0, 47.0, 73.0, 102.0]</td>\n      <td>[2.0, 2.0, 3.0, 3.0]</td>\n      <td>[0.0, 10.0, 13.0, 16.0]</td>\n      <td>[0.04, 0.04, 0.02, 0.02]</td>\n      <td>[0, 0, 0, 0]</td>\n      <td>[1.0, 2.0, 0.0, 0.0]</td>\n      <td>[3, 1, 1, 2]</td>\n      <td>[22, 1, 69, 78]</td>\n    </tr>\n    <tr>\n      <th>4</th>\n      <td>4</td>\n      <td>1</td>\n      <td>6</td>\n      <td>818608.7036</td>\n      <td>5925050.271</td>\n      <td>7</td>\n      <td>0</td>\n      <td>0</td>\n      <td>7</td>\n      <td>413</td>\n      <td>2.0</td>\n      <td>200.0</td>\n      <td>0.0</td>\n      <td>0.0</td>\n      <td>3.0</td>\n      <td>5.0</td>\n      <td>0.0</td>\n      <td>4.0</td>\n      <td>1.0</td>\n      <td>48.47</td>\n      <td>16.43</td>\n      <td>../data/BGR/Profilbilder_no_ruler_no_sky/BB_06...</td>\n      <td>[33.0, 43.0, 71.0, 88.0, 100.0]</td>\n      <td>[28.0, 7.0, 2.0, 20.0, 10.0]</td>\n      <td>[0.0, 15.0, 54.0, 44.0, 14.0]</td>\n      <td>[0.01, 0.0, 0.0, 0.0, 0.0]</td>\n      <td>[0, 0, 0, 0, 0]</td>\n      <td>[1.0, 2.0, 2.0, 0.0, 0.0]</td>\n      <td>[3, 0, 0, 0, 0]</td>\n      <td>[22, 0, 65, 0, 68]</td>\n    </tr>\n    <tr>\n      <th>...</th>\n      <td>...</td>\n      <td>...</td>\n      <td>...</td>\n      <td>...</td>\n      <td>...</td>\n      <td>...</td>\n      <td>...</td>\n      <td>...</td>\n      <td>...</td>\n      <td>...</td>\n      <td>...</td>\n      <td>...</td>\n      <td>...</td>\n      <td>...</td>\n      <td>...</td>\n      <td>...</td>\n      <td>...</td>\n      <td>...</td>\n      <td>...</td>\n      <td>...</td>\n      <td>...</td>\n      <td>...</td>\n      <td>...</td>\n      <td>...</td>\n      <td>...</td>\n      <td>...</td>\n      <td>...</td>\n      <td>...</td>\n      <td>...</td>\n      <td>...</td>\n    </tr>\n    <tr>\n      <th>3342</th>\n      <td>3342</td>\n      <td>0</td>\n      <td>6</td>\n      <td>648389.8108</td>\n      <td>5588119.501</td>\n      <td>10</td>\n      <td>1</td>\n      <td>0</td>\n      <td>0</td>\n      <td>616</td>\n      <td>0.0</td>\n      <td>200.0</td>\n      <td>0.0</td>\n      <td>0.0</td>\n      <td>8.0</td>\n      <td>7.0</td>\n      <td>7.0</td>\n      <td>0.0</td>\n      <td>3.0</td>\n      <td>48.82</td>\n      <td>2.46</td>\n      <td>../data/BGR/Profilbilder_no_ruler_no_sky/TH_34...</td>\n      <td>[14.0, 40.0, 60.0, 93.0]</td>\n      <td>[15.0, 15.0, 26.0, 26.0]</td>\n      <td>[6.0, 5.0, 53.0, 53.0]</td>\n      <td>[0.6, 0.75, 0.9, 0.9]</td>\n      <td>[0, 0, 0, 0]</td>\n      <td>[1.0, 2.0, 0.0, 0.0]</td>\n      <td>[5, 3, 1, 2]</td>\n      <td>[22, 14, 62, 77]</td>\n    </tr>\n    <tr>\n      <th>3343</th>\n      <td>3343</td>\n      <td>0</td>\n      <td>4</td>\n      <td>688216.3809</td>\n      <td>5588885.660</td>\n      <td>10</td>\n      <td>0</td>\n      <td>0</td>\n      <td>0</td>\n      <td>9</td>\n      <td>0.0</td>\n      <td>200.0</td>\n      <td>0.0</td>\n      <td>0.0</td>\n      <td>1.0</td>\n      <td>4.0</td>\n      <td>6.0</td>\n      <td>0.0</td>\n      <td>1.0</td>\n      <td>69.19</td>\n      <td>23.61</td>\n      <td>../data/BGR/Profilbilder_no_ruler_no_sky/TH_34...</td>\n      <td>[34.0, 69.0, 140.0]</td>\n      <td>[4.0, 4.0, 18.0]</td>\n      <td>[0.0, 3.0, 10.0]</td>\n      <td>[0.2, 0.3, 0.25]</td>\n      <td>[0, 0, 0]</td>\n      <td>[1.0, 2.0, 0.0]</td>\n      <td>[5, 3, 1]</td>\n      <td>[22, 32, 77]</td>\n    </tr>\n    <tr>\n      <th>3344</th>\n      <td>3344</td>\n      <td>0</td>\n      <td>4</td>\n      <td>701551.6557</td>\n      <td>5587919.679</td>\n      <td>10</td>\n      <td>0</td>\n      <td>0</td>\n      <td>0</td>\n      <td>0</td>\n      <td>0.0</td>\n      <td>200.0</td>\n      <td>0.0</td>\n      <td>0.0</td>\n      <td>6.0</td>\n      <td>4.0</td>\n      <td>0.0</td>\n      <td>0.0</td>\n      <td>1.0</td>\n      <td>75.65</td>\n      <td>9.34</td>\n      <td>../data/BGR/Profilbilder_no_ruler_no_sky/TH_34...</td>\n      <td>[20.0, 27.0, 70.0, 100.0]</td>\n      <td>[15.0, 15.0, 15.0, 26.0]</td>\n      <td>[2.0, 2.0, 3.0, 23.0]</td>\n      <td>[0.15, 0.25, 0.6, 0.9]</td>\n      <td>[0, 0, 0, 0]</td>\n      <td>[1.0, 1.0, 2.0, 0.0]</td>\n      <td>[4, 1, 0, 0]</td>\n      <td>[22, 22, 32, 0]</td>\n    </tr>\n    <tr>\n      <th>3345</th>\n      <td>3345</td>\n      <td>3</td>\n      <td>4</td>\n      <td>653547.6374</td>\n      <td>5581353.991</td>\n      <td>10</td>\n      <td>0</td>\n      <td>0</td>\n      <td>0</td>\n      <td>2</td>\n      <td>0.0</td>\n      <td>200.0</td>\n      <td>0.0</td>\n      <td>0.0</td>\n      <td>5.0</td>\n      <td>2.0</td>\n      <td>0.0</td>\n      <td>3.0</td>\n      <td>5.0</td>\n      <td>61.72</td>\n      <td>30.69</td>\n      <td>../data/BGR/Profilbilder_no_ruler_no_sky/TH_35...</td>\n      <td>[31.0, 49.0, 71.0, 144.0]</td>\n      <td>[15.0, 15.0, 15.0, 33.0]</td>\n      <td>[1.0, 7.0, 5.0, 16.0]</td>\n      <td>[0.05, 0.05, 0.2, 0.25]</td>\n      <td>[0, 0, 0, 0]</td>\n      <td>[1.0, 2.0, 0.0, 0.0]</td>\n      <td>[3, 2, 2, 2]</td>\n      <td>[22, 32, 47, 2]</td>\n    </tr>\n    <tr>\n      <th>3346</th>\n      <td>3346</td>\n      <td>4</td>\n      <td>5</td>\n      <td>620404.8554</td>\n      <td>5569180.493</td>\n      <td>10</td>\n      <td>0</td>\n      <td>0</td>\n      <td>5</td>\n      <td>3</td>\n      <td>0.0</td>\n      <td>200.0</td>\n      <td>0.0</td>\n      <td>0.0</td>\n      <td>1.0</td>\n      <td>3.0</td>\n      <td>0.0</td>\n      <td>0.0</td>\n      <td>3.0</td>\n      <td>80.30</td>\n      <td>19.58</td>\n      <td>../data/BGR/Profilbilder_no_ruler_no_sky/TH_35...</td>\n      <td>[27.0, 70.0, 92.0]</td>\n      <td>[1.0, 12.0, 1.0]</td>\n      <td>[6.0, 23.0, 31.0]</td>\n      <td>[0.03, 0.1, 0.3]</td>\n      <td>[3, 4, 4]</td>\n      <td>[1.0, 2.0, 0.0]</td>\n      <td>[0, 4, 4]</td>\n      <td>[22, 34, 34]</td>\n    </tr>\n  </tbody>\n</table>\n<p>3347 rows × 30 columns</p>\n</div>"
     },
     "execution_count": 31,
     "metadata": {},
     "output_type": "execute_result"
    }
   ],
   "source": [
    "# The dataframe has one row per horizon\n",
    "# For sequential training, make it one row per full image (the depth markers and the morphological features will be stored as lists and used later as ground truth in training)\n",
    "df = df.groupby('file', as_index=False).agg({     # Group by images, not by Point, since there are sometimes several images (different angles) for the same Point\n",
    "    **{gt: 'first' for gt in geotemp_img_infos},  # Take the first value (all are the same for each image, including the image path)\n",
    "    'Untergrenze': list,                          # Combine depth markers into a list (only lower bound Untergrenze actually needed)\n",
    "    **{st: list for st in soil_infos},            # Combine tabular features into lists (in the order of the horizons top to bottom)\n",
    "    target: list\n",
    "}).reset_index()\n",
    "geotemp_img_infos = ['index'] + geotemp_img_infos # Add the new index column\n",
    "                                                  # Used only for accessing the depths, morphological features and horizon labels from the dataframe\n",
    "                                                  # (they have different shapes and cannot be stacked in tensor batches)\n",
    "df"
   ],
   "metadata": {
    "collapsed": false,
    "pycharm": {
     "name": "#%%\n"
    }
   }
  },
  {
   "cell_type": "code",
   "execution_count": 32,
   "outputs": [
    {
     "data": {
      "text/plain": "      index  Probenahme_Monat  Probenahme_Jahr       xcoord       ycoord  \\\n0         0                 1                7  819021.7488  5941699.083   \n1         1                 1                6  819307.3864  5935183.595   \n2         2                 8                6  826424.5503  5932240.596   \n3         3                 4                6  807568.3913  5926533.227   \n4         4                 1                6  818608.7036  5925050.271   \n...     ...               ...              ...          ...          ...   \n3342   3342                 0                6  648389.8108  5588119.501   \n3343   3343                 0                4  688216.3809  5588885.660   \n3344   3344                 0                4  701551.6557  5587919.679   \n3345   3345                 3                4  653547.6374  5581353.991   \n3346   3346                 4                5  620404.8554  5569180.493   \n\n      Bodenklimaraum_Name  Landnutzung  BZE_Moor  Hauptbodentyp  \\\n0                       7            0         0             12   \n1                       7            0         0             11   \n2                       7            0         0             10   \n3                       7            0         0             12   \n4                       7            0         0              7   \n...                   ...          ...       ...            ...   \n3342                   10            1         0              0   \n3343                   10            0         0              0   \n3344                   10            0         0              0   \n3345                   10            0         0              0   \n3346                   10            0         0              5   \n\n      BodenVarTypSub  GrundwaStufe  GrundwaStand  Moormaechtigkeit  \\\n0                770           0.0         200.0               0.0   \n1                371           0.0         200.0               0.0   \n2                 22           0.0         200.0               0.0   \n3                 44           0.0         200.0               0.0   \n4                413           2.0         200.0               0.0   \n...              ...           ...           ...               ...   \n3342             616           0.0         200.0               0.0   \n3343               9           0.0         200.0               0.0   \n3344               0           0.0         200.0               0.0   \n3345               2           0.0         200.0               0.0   \n3346               3           0.0         200.0               0.0   \n\n      Torfmaechtigkeit  Neigung  Exposition  Woelbung  Reliefformtyp  \\\n0                  0.0      3.0         1.0       1.0            0.0   \n1                  0.0      2.0         2.0       0.0            0.0   \n2                  0.0      3.0         2.0       0.0            0.0   \n3                  0.0      4.0         5.0       2.0           14.0   \n4                  0.0      3.0         5.0       0.0            4.0   \n...                ...      ...         ...       ...            ...   \n3342               0.0      8.0         7.0       7.0            0.0   \n3343               0.0      1.0         4.0       6.0            0.0   \n3344               0.0      6.0         4.0       0.0            0.0   \n3345               0.0      5.0         2.0       0.0            3.0   \n3346               0.0      1.0         3.0       0.0            0.0   \n\n      LageImRelief  KV_0_30  KV_30_100  \\\n0              1.0    38.60      21.42   \n1              3.0    34.91      11.67   \n2              1.0    42.21      34.56   \n3              3.0    37.39      13.22   \n4              1.0    48.47      16.43   \n...            ...      ...        ...   \n3342           3.0    48.82       2.46   \n3343           1.0    69.19      23.61   \n3344           1.0    75.65       9.34   \n3345           5.0    61.72      30.69   \n3346           3.0    80.30      19.58   \n\n                                                   file  \\\n0     ../data/BGR/Profilbilder_no_ruler_no_sky/BB_05...   \n1     ../data/BGR/Profilbilder_no_ruler_no_sky/BB_06...   \n2     ../data/BGR/Profilbilder_no_ruler_no_sky/BB_06...   \n3     ../data/BGR/Profilbilder_no_ruler_no_sky/BB_06...   \n4     ../data/BGR/Profilbilder_no_ruler_no_sky/BB_06...   \n...                                                 ...   \n3342  ../data/BGR/Profilbilder_no_ruler_no_sky/TH_34...   \n3343  ../data/BGR/Profilbilder_no_ruler_no_sky/TH_34...   \n3344  ../data/BGR/Profilbilder_no_ruler_no_sky/TH_34...   \n3345  ../data/BGR/Profilbilder_no_ruler_no_sky/TH_35...   \n3346  ../data/BGR/Profilbilder_no_ruler_no_sky/TH_35...   \n\n                           Untergrenze                            Bodenart  \\\n0                [0.3, 0.38, 0.5, 1.0]              [3.0, 3.0, 10.0, 12.0]   \n1     [0.29, 0.4, 0.54, 0.6, 0.8, 1.0]  [11.0, 11.0, 6.0, 10.0, 3.0, 21.0]   \n2               [0.28, 0.5, 0.74, 1.0]            [10.0, 11.0, 11.0, 11.0]   \n3               [0.3, 0.47, 0.73, 1.0]                [2.0, 2.0, 3.0, 3.0]   \n4        [0.33, 0.43, 0.71, 0.88, 1.0]        [28.0, 7.0, 2.0, 20.0, 10.0]   \n...                                ...                                 ...   \n3342             [0.14, 0.4, 0.6, 1.0]            [15.0, 15.0, 26.0, 26.0]   \n3343                 [0.34, 0.69, 1.0]                    [4.0, 4.0, 18.0]   \n3344             [0.2, 0.27, 0.7, 1.0]            [15.0, 15.0, 15.0, 26.0]   \n3345           [0.31, 0.49, 0.71, 1.0]            [15.0, 15.0, 15.0, 33.0]   \n3346                  [0.27, 0.7, 1.0]                    [1.0, 12.0, 1.0]   \n\n                              Bodenfarbe  \\\n0                  [1.0, 1.0, 10.0, 5.0]   \n1     [4.0, 5.0, 29.0, 30.0, 42.0, 75.0]   \n2                   [0.0, 0.0, 3.0, 3.0]   \n3                [0.0, 10.0, 13.0, 16.0]   \n4          [0.0, 15.0, 54.0, 44.0, 14.0]   \n...                                  ...   \n3342              [6.0, 5.0, 53.0, 53.0]   \n3343                    [0.0, 3.0, 10.0]   \n3344               [2.0, 2.0, 3.0, 23.0]   \n3345               [1.0, 7.0, 5.0, 16.0]   \n3346                   [6.0, 23.0, 31.0]   \n\n                                    Steine            Karbonat  \\\n0                 [0.02, 0.02, 0.04, 0.04]        [0, 0, 0, 0]   \n1     [0.03, 0.03, 0.03, 0.03, 0.03, 0.03]  [2, 0, 2, 5, 7, 5]   \n2                 [0.04, 0.04, 0.04, 0.04]        [0, 0, 7, 7]   \n3                 [0.04, 0.04, 0.02, 0.02]        [0, 0, 0, 0]   \n4               [0.01, 0.0, 0.0, 0.0, 0.0]     [0, 0, 0, 0, 0]   \n...                                    ...                 ...   \n3342                 [0.6, 0.75, 0.9, 0.9]        [0, 0, 0, 0]   \n3343                      [0.2, 0.3, 0.25]           [0, 0, 0]   \n3344                [0.15, 0.25, 0.6, 0.9]        [0, 0, 0, 0]   \n3345               [0.05, 0.05, 0.2, 0.25]        [0, 0, 0, 0]   \n3346                      [0.03, 0.1, 0.3]           [3, 4, 4]   \n\n                  Humusgehaltsklasse      Durchwurzelung  \\\n0               [3.0, 3.0, 0.0, 0.0]        [3, 3, 1, 2]   \n1     [1.0, 2.0, 2.0, 2.0, 2.0, 0.0]  [4, 3, 1, 1, 1, 0]   \n2               [1.0, 3.0, 2.0, 0.0]        [4, 3, 3, 1]   \n3               [1.0, 2.0, 0.0, 0.0]        [3, 1, 1, 2]   \n4          [1.0, 2.0, 2.0, 0.0, 0.0]     [3, 0, 0, 0, 0]   \n...                              ...                 ...   \n3342            [1.0, 2.0, 0.0, 0.0]        [5, 3, 1, 2]   \n3343                 [1.0, 2.0, 0.0]           [5, 3, 1]   \n3344            [1.0, 1.0, 2.0, 0.0]        [4, 1, 0, 0]   \n3345            [1.0, 2.0, 0.0, 0.0]        [3, 2, 2, 2]   \n3346                 [1.0, 2.0, 0.0]           [0, 4, 4]   \n\n       Horizontsymbol_relevant  \n0             [22, 22, 73, 76]  \n1     [22, 65, 65, 81, 81, 81]  \n2             [40, 13, 34, 34]  \n3              [22, 1, 69, 78]  \n4           [22, 0, 65, 0, 68]  \n...                        ...  \n3342          [22, 14, 62, 77]  \n3343              [22, 32, 77]  \n3344           [22, 22, 32, 0]  \n3345           [22, 32, 47, 2]  \n3346              [22, 34, 34]  \n\n[3347 rows x 30 columns]",
      "text/html": "<div>\n<style scoped>\n    .dataframe tbody tr th:only-of-type {\n        vertical-align: middle;\n    }\n\n    .dataframe tbody tr th {\n        vertical-align: top;\n    }\n\n    .dataframe thead th {\n        text-align: right;\n    }\n</style>\n<table border=\"1\" class=\"dataframe\">\n  <thead>\n    <tr style=\"text-align: right;\">\n      <th></th>\n      <th>index</th>\n      <th>Probenahme_Monat</th>\n      <th>Probenahme_Jahr</th>\n      <th>xcoord</th>\n      <th>ycoord</th>\n      <th>Bodenklimaraum_Name</th>\n      <th>Landnutzung</th>\n      <th>BZE_Moor</th>\n      <th>Hauptbodentyp</th>\n      <th>BodenVarTypSub</th>\n      <th>GrundwaStufe</th>\n      <th>GrundwaStand</th>\n      <th>Moormaechtigkeit</th>\n      <th>Torfmaechtigkeit</th>\n      <th>Neigung</th>\n      <th>Exposition</th>\n      <th>Woelbung</th>\n      <th>Reliefformtyp</th>\n      <th>LageImRelief</th>\n      <th>KV_0_30</th>\n      <th>KV_30_100</th>\n      <th>file</th>\n      <th>Untergrenze</th>\n      <th>Bodenart</th>\n      <th>Bodenfarbe</th>\n      <th>Steine</th>\n      <th>Karbonat</th>\n      <th>Humusgehaltsklasse</th>\n      <th>Durchwurzelung</th>\n      <th>Horizontsymbol_relevant</th>\n    </tr>\n  </thead>\n  <tbody>\n    <tr>\n      <th>0</th>\n      <td>0</td>\n      <td>1</td>\n      <td>7</td>\n      <td>819021.7488</td>\n      <td>5941699.083</td>\n      <td>7</td>\n      <td>0</td>\n      <td>0</td>\n      <td>12</td>\n      <td>770</td>\n      <td>0.0</td>\n      <td>200.0</td>\n      <td>0.0</td>\n      <td>0.0</td>\n      <td>3.0</td>\n      <td>1.0</td>\n      <td>1.0</td>\n      <td>0.0</td>\n      <td>1.0</td>\n      <td>38.60</td>\n      <td>21.42</td>\n      <td>../data/BGR/Profilbilder_no_ruler_no_sky/BB_05...</td>\n      <td>[0.3, 0.38, 0.5, 1.0]</td>\n      <td>[3.0, 3.0, 10.0, 12.0]</td>\n      <td>[1.0, 1.0, 10.0, 5.0]</td>\n      <td>[0.02, 0.02, 0.04, 0.04]</td>\n      <td>[0, 0, 0, 0]</td>\n      <td>[3.0, 3.0, 0.0, 0.0]</td>\n      <td>[3, 3, 1, 2]</td>\n      <td>[22, 22, 73, 76]</td>\n    </tr>\n    <tr>\n      <th>1</th>\n      <td>1</td>\n      <td>1</td>\n      <td>6</td>\n      <td>819307.3864</td>\n      <td>5935183.595</td>\n      <td>7</td>\n      <td>0</td>\n      <td>0</td>\n      <td>11</td>\n      <td>371</td>\n      <td>0.0</td>\n      <td>200.0</td>\n      <td>0.0</td>\n      <td>0.0</td>\n      <td>2.0</td>\n      <td>2.0</td>\n      <td>0.0</td>\n      <td>0.0</td>\n      <td>3.0</td>\n      <td>34.91</td>\n      <td>11.67</td>\n      <td>../data/BGR/Profilbilder_no_ruler_no_sky/BB_06...</td>\n      <td>[0.29, 0.4, 0.54, 0.6, 0.8, 1.0]</td>\n      <td>[11.0, 11.0, 6.0, 10.0, 3.0, 21.0]</td>\n      <td>[4.0, 5.0, 29.0, 30.0, 42.0, 75.0]</td>\n      <td>[0.03, 0.03, 0.03, 0.03, 0.03, 0.03]</td>\n      <td>[2, 0, 2, 5, 7, 5]</td>\n      <td>[1.0, 2.0, 2.0, 2.0, 2.0, 0.0]</td>\n      <td>[4, 3, 1, 1, 1, 0]</td>\n      <td>[22, 65, 65, 81, 81, 81]</td>\n    </tr>\n    <tr>\n      <th>2</th>\n      <td>2</td>\n      <td>8</td>\n      <td>6</td>\n      <td>826424.5503</td>\n      <td>5932240.596</td>\n      <td>7</td>\n      <td>0</td>\n      <td>0</td>\n      <td>10</td>\n      <td>22</td>\n      <td>0.0</td>\n      <td>200.0</td>\n      <td>0.0</td>\n      <td>0.0</td>\n      <td>3.0</td>\n      <td>2.0</td>\n      <td>0.0</td>\n      <td>0.0</td>\n      <td>1.0</td>\n      <td>42.21</td>\n      <td>34.56</td>\n      <td>../data/BGR/Profilbilder_no_ruler_no_sky/BB_06...</td>\n      <td>[0.28, 0.5, 0.74, 1.0]</td>\n      <td>[10.0, 11.0, 11.0, 11.0]</td>\n      <td>[0.0, 0.0, 3.0, 3.0]</td>\n      <td>[0.04, 0.04, 0.04, 0.04]</td>\n      <td>[0, 0, 7, 7]</td>\n      <td>[1.0, 3.0, 2.0, 0.0]</td>\n      <td>[4, 3, 3, 1]</td>\n      <td>[40, 13, 34, 34]</td>\n    </tr>\n    <tr>\n      <th>3</th>\n      <td>3</td>\n      <td>4</td>\n      <td>6</td>\n      <td>807568.3913</td>\n      <td>5926533.227</td>\n      <td>7</td>\n      <td>0</td>\n      <td>0</td>\n      <td>12</td>\n      <td>44</td>\n      <td>0.0</td>\n      <td>200.0</td>\n      <td>0.0</td>\n      <td>0.0</td>\n      <td>4.0</td>\n      <td>5.0</td>\n      <td>2.0</td>\n      <td>14.0</td>\n      <td>3.0</td>\n      <td>37.39</td>\n      <td>13.22</td>\n      <td>../data/BGR/Profilbilder_no_ruler_no_sky/BB_06...</td>\n      <td>[0.3, 0.47, 0.73, 1.0]</td>\n      <td>[2.0, 2.0, 3.0, 3.0]</td>\n      <td>[0.0, 10.0, 13.0, 16.0]</td>\n      <td>[0.04, 0.04, 0.02, 0.02]</td>\n      <td>[0, 0, 0, 0]</td>\n      <td>[1.0, 2.0, 0.0, 0.0]</td>\n      <td>[3, 1, 1, 2]</td>\n      <td>[22, 1, 69, 78]</td>\n    </tr>\n    <tr>\n      <th>4</th>\n      <td>4</td>\n      <td>1</td>\n      <td>6</td>\n      <td>818608.7036</td>\n      <td>5925050.271</td>\n      <td>7</td>\n      <td>0</td>\n      <td>0</td>\n      <td>7</td>\n      <td>413</td>\n      <td>2.0</td>\n      <td>200.0</td>\n      <td>0.0</td>\n      <td>0.0</td>\n      <td>3.0</td>\n      <td>5.0</td>\n      <td>0.0</td>\n      <td>4.0</td>\n      <td>1.0</td>\n      <td>48.47</td>\n      <td>16.43</td>\n      <td>../data/BGR/Profilbilder_no_ruler_no_sky/BB_06...</td>\n      <td>[0.33, 0.43, 0.71, 0.88, 1.0]</td>\n      <td>[28.0, 7.0, 2.0, 20.0, 10.0]</td>\n      <td>[0.0, 15.0, 54.0, 44.0, 14.0]</td>\n      <td>[0.01, 0.0, 0.0, 0.0, 0.0]</td>\n      <td>[0, 0, 0, 0, 0]</td>\n      <td>[1.0, 2.0, 2.0, 0.0, 0.0]</td>\n      <td>[3, 0, 0, 0, 0]</td>\n      <td>[22, 0, 65, 0, 68]</td>\n    </tr>\n    <tr>\n      <th>...</th>\n      <td>...</td>\n      <td>...</td>\n      <td>...</td>\n      <td>...</td>\n      <td>...</td>\n      <td>...</td>\n      <td>...</td>\n      <td>...</td>\n      <td>...</td>\n      <td>...</td>\n      <td>...</td>\n      <td>...</td>\n      <td>...</td>\n      <td>...</td>\n      <td>...</td>\n      <td>...</td>\n      <td>...</td>\n      <td>...</td>\n      <td>...</td>\n      <td>...</td>\n      <td>...</td>\n      <td>...</td>\n      <td>...</td>\n      <td>...</td>\n      <td>...</td>\n      <td>...</td>\n      <td>...</td>\n      <td>...</td>\n      <td>...</td>\n      <td>...</td>\n    </tr>\n    <tr>\n      <th>3342</th>\n      <td>3342</td>\n      <td>0</td>\n      <td>6</td>\n      <td>648389.8108</td>\n      <td>5588119.501</td>\n      <td>10</td>\n      <td>1</td>\n      <td>0</td>\n      <td>0</td>\n      <td>616</td>\n      <td>0.0</td>\n      <td>200.0</td>\n      <td>0.0</td>\n      <td>0.0</td>\n      <td>8.0</td>\n      <td>7.0</td>\n      <td>7.0</td>\n      <td>0.0</td>\n      <td>3.0</td>\n      <td>48.82</td>\n      <td>2.46</td>\n      <td>../data/BGR/Profilbilder_no_ruler_no_sky/TH_34...</td>\n      <td>[0.14, 0.4, 0.6, 1.0]</td>\n      <td>[15.0, 15.0, 26.0, 26.0]</td>\n      <td>[6.0, 5.0, 53.0, 53.0]</td>\n      <td>[0.6, 0.75, 0.9, 0.9]</td>\n      <td>[0, 0, 0, 0]</td>\n      <td>[1.0, 2.0, 0.0, 0.0]</td>\n      <td>[5, 3, 1, 2]</td>\n      <td>[22, 14, 62, 77]</td>\n    </tr>\n    <tr>\n      <th>3343</th>\n      <td>3343</td>\n      <td>0</td>\n      <td>4</td>\n      <td>688216.3809</td>\n      <td>5588885.660</td>\n      <td>10</td>\n      <td>0</td>\n      <td>0</td>\n      <td>0</td>\n      <td>9</td>\n      <td>0.0</td>\n      <td>200.0</td>\n      <td>0.0</td>\n      <td>0.0</td>\n      <td>1.0</td>\n      <td>4.0</td>\n      <td>6.0</td>\n      <td>0.0</td>\n      <td>1.0</td>\n      <td>69.19</td>\n      <td>23.61</td>\n      <td>../data/BGR/Profilbilder_no_ruler_no_sky/TH_34...</td>\n      <td>[0.34, 0.69, 1.0]</td>\n      <td>[4.0, 4.0, 18.0]</td>\n      <td>[0.0, 3.0, 10.0]</td>\n      <td>[0.2, 0.3, 0.25]</td>\n      <td>[0, 0, 0]</td>\n      <td>[1.0, 2.0, 0.0]</td>\n      <td>[5, 3, 1]</td>\n      <td>[22, 32, 77]</td>\n    </tr>\n    <tr>\n      <th>3344</th>\n      <td>3344</td>\n      <td>0</td>\n      <td>4</td>\n      <td>701551.6557</td>\n      <td>5587919.679</td>\n      <td>10</td>\n      <td>0</td>\n      <td>0</td>\n      <td>0</td>\n      <td>0</td>\n      <td>0.0</td>\n      <td>200.0</td>\n      <td>0.0</td>\n      <td>0.0</td>\n      <td>6.0</td>\n      <td>4.0</td>\n      <td>0.0</td>\n      <td>0.0</td>\n      <td>1.0</td>\n      <td>75.65</td>\n      <td>9.34</td>\n      <td>../data/BGR/Profilbilder_no_ruler_no_sky/TH_34...</td>\n      <td>[0.2, 0.27, 0.7, 1.0]</td>\n      <td>[15.0, 15.0, 15.0, 26.0]</td>\n      <td>[2.0, 2.0, 3.0, 23.0]</td>\n      <td>[0.15, 0.25, 0.6, 0.9]</td>\n      <td>[0, 0, 0, 0]</td>\n      <td>[1.0, 1.0, 2.0, 0.0]</td>\n      <td>[4, 1, 0, 0]</td>\n      <td>[22, 22, 32, 0]</td>\n    </tr>\n    <tr>\n      <th>3345</th>\n      <td>3345</td>\n      <td>3</td>\n      <td>4</td>\n      <td>653547.6374</td>\n      <td>5581353.991</td>\n      <td>10</td>\n      <td>0</td>\n      <td>0</td>\n      <td>0</td>\n      <td>2</td>\n      <td>0.0</td>\n      <td>200.0</td>\n      <td>0.0</td>\n      <td>0.0</td>\n      <td>5.0</td>\n      <td>2.0</td>\n      <td>0.0</td>\n      <td>3.0</td>\n      <td>5.0</td>\n      <td>61.72</td>\n      <td>30.69</td>\n      <td>../data/BGR/Profilbilder_no_ruler_no_sky/TH_35...</td>\n      <td>[0.31, 0.49, 0.71, 1.0]</td>\n      <td>[15.0, 15.0, 15.0, 33.0]</td>\n      <td>[1.0, 7.0, 5.0, 16.0]</td>\n      <td>[0.05, 0.05, 0.2, 0.25]</td>\n      <td>[0, 0, 0, 0]</td>\n      <td>[1.0, 2.0, 0.0, 0.0]</td>\n      <td>[3, 2, 2, 2]</td>\n      <td>[22, 32, 47, 2]</td>\n    </tr>\n    <tr>\n      <th>3346</th>\n      <td>3346</td>\n      <td>4</td>\n      <td>5</td>\n      <td>620404.8554</td>\n      <td>5569180.493</td>\n      <td>10</td>\n      <td>0</td>\n      <td>0</td>\n      <td>5</td>\n      <td>3</td>\n      <td>0.0</td>\n      <td>200.0</td>\n      <td>0.0</td>\n      <td>0.0</td>\n      <td>1.0</td>\n      <td>3.0</td>\n      <td>0.0</td>\n      <td>0.0</td>\n      <td>3.0</td>\n      <td>80.30</td>\n      <td>19.58</td>\n      <td>../data/BGR/Profilbilder_no_ruler_no_sky/TH_35...</td>\n      <td>[0.27, 0.7, 1.0]</td>\n      <td>[1.0, 12.0, 1.0]</td>\n      <td>[6.0, 23.0, 31.0]</td>\n      <td>[0.03, 0.1, 0.3]</td>\n      <td>[3, 4, 4]</td>\n      <td>[1.0, 2.0, 0.0]</td>\n      <td>[0, 4, 4]</td>\n      <td>[22, 34, 34]</td>\n    </tr>\n  </tbody>\n</table>\n<p>3347 rows × 30 columns</p>\n</div>"
     },
     "execution_count": 32,
     "metadata": {},
     "output_type": "execute_result"
    }
   ],
   "source": [
    "# Only rows with Obergrenze < 100 were kept. This lead to some Untergrenze values still being above 100.\n",
    "# Round these down to 100 for a correct loss calculation.\n",
    "# Also normalize labels to interval [0.0, 1.0] for faster convergence and stability.\n",
    "\n",
    "df['Untergrenze'] = df['Untergrenze'].apply(bgr_data.normalize_df_list)\n",
    "df"
   ],
   "metadata": {
    "collapsed": false,
    "pycharm": {
     "name": "#%%\n"
    }
   }
  },
  {
   "cell_type": "code",
   "execution_count": 33,
   "outputs": [
    {
     "name": "stdout",
     "output_type": "stream",
     "text": [
      "Minimum number of horizons: 2\n",
      "Maximum number of horizons: 8\n"
     ]
    }
   ],
   "source": [
    "# Get the lengths of the lists in the 'Untergrenze' column\n",
    "list_lengths = df['Untergrenze'].apply(len)\n",
    "\n",
    "min_length = list_lengths.min()\n",
    "max_length = list_lengths.max()\n",
    "\n",
    "print(f\"Minimum number of horizons: {min_length}\")\n",
    "print(f\"Maximum number of horizons: {max_length}\")"
   ],
   "metadata": {
    "collapsed": false,
    "pycharm": {
     "name": "#%%\n"
    }
   }
  },
  {
   "cell_type": "code",
   "execution_count": 34,
   "outputs": [
    {
     "name": "stdout",
     "output_type": "stream",
     "text": [
      "List with minimum length: [0.32, 1.0]\n",
      "List with maximum length: [0.13, 0.26, 0.4, 0.58, 0.68, 0.83, 0.98, 1.0]\n"
     ]
    }
   ],
   "source": [
    "min_length_list = df[df['Untergrenze'].apply(len) == min_length]['Untergrenze'].values[0]\n",
    "max_length_list = df[df['Untergrenze'].apply(len) == max_length]['Untergrenze'].values[0]\n",
    "print(f\"List with minimum length: {min_length_list}\")\n",
    "print(f\"List with maximum length: {max_length_list}\")"
   ],
   "metadata": {
    "collapsed": false,
    "pycharm": {
     "name": "#%%\n"
    }
   }
  },
  {
   "cell_type": "code",
   "execution_count": 35,
   "outputs": [],
   "source": [
    "# Define the image normalization\n",
    "normalize = transforms.Compose([\n",
    "    transforms.ToTensor(),\n",
    "    transforms.Normalize(mean=[0.485, 0.456, 0.406], std=[0.229, 0.224, 0.225]), # Normalize with ImageNet statistics\n",
    "])"
   ],
   "metadata": {
    "collapsed": false,
    "pycharm": {
     "name": "#%%\n"
    }
   }
  },
  {
   "cell_type": "code",
   "execution_count": 36,
   "outputs": [
    {
     "data": {
      "text/plain": "HorizonClassifier(\n  (image_encoder): ImageEncoder(\n    (cnn): ResNet(\n      (conv1): Conv2d(3, 64, kernel_size=(7, 7), stride=(2, 2), padding=(3, 3), bias=False)\n      (bn1): BatchNorm2d(64, eps=1e-05, momentum=0.1, affine=True, track_running_stats=True)\n      (relu): ReLU(inplace=True)\n      (maxpool): MaxPool2d(kernel_size=3, stride=2, padding=1, dilation=1, ceil_mode=False)\n      (layer1): Sequential(\n        (0): BasicBlock(\n          (conv1): Conv2d(64, 64, kernel_size=(3, 3), stride=(1, 1), padding=(1, 1), bias=False)\n          (bn1): BatchNorm2d(64, eps=1e-05, momentum=0.1, affine=True, track_running_stats=True)\n          (relu): ReLU(inplace=True)\n          (conv2): Conv2d(64, 64, kernel_size=(3, 3), stride=(1, 1), padding=(1, 1), bias=False)\n          (bn2): BatchNorm2d(64, eps=1e-05, momentum=0.1, affine=True, track_running_stats=True)\n        )\n        (1): BasicBlock(\n          (conv1): Conv2d(64, 64, kernel_size=(3, 3), stride=(1, 1), padding=(1, 1), bias=False)\n          (bn1): BatchNorm2d(64, eps=1e-05, momentum=0.1, affine=True, track_running_stats=True)\n          (relu): ReLU(inplace=True)\n          (conv2): Conv2d(64, 64, kernel_size=(3, 3), stride=(1, 1), padding=(1, 1), bias=False)\n          (bn2): BatchNorm2d(64, eps=1e-05, momentum=0.1, affine=True, track_running_stats=True)\n        )\n      )\n      (layer2): Sequential(\n        (0): BasicBlock(\n          (conv1): Conv2d(64, 128, kernel_size=(3, 3), stride=(2, 2), padding=(1, 1), bias=False)\n          (bn1): BatchNorm2d(128, eps=1e-05, momentum=0.1, affine=True, track_running_stats=True)\n          (relu): ReLU(inplace=True)\n          (conv2): Conv2d(128, 128, kernel_size=(3, 3), stride=(1, 1), padding=(1, 1), bias=False)\n          (bn2): BatchNorm2d(128, eps=1e-05, momentum=0.1, affine=True, track_running_stats=True)\n          (downsample): Sequential(\n            (0): Conv2d(64, 128, kernel_size=(1, 1), stride=(2, 2), bias=False)\n            (1): BatchNorm2d(128, eps=1e-05, momentum=0.1, affine=True, track_running_stats=True)\n          )\n        )\n        (1): BasicBlock(\n          (conv1): Conv2d(128, 128, kernel_size=(3, 3), stride=(1, 1), padding=(1, 1), bias=False)\n          (bn1): BatchNorm2d(128, eps=1e-05, momentum=0.1, affine=True, track_running_stats=True)\n          (relu): ReLU(inplace=True)\n          (conv2): Conv2d(128, 128, kernel_size=(3, 3), stride=(1, 1), padding=(1, 1), bias=False)\n          (bn2): BatchNorm2d(128, eps=1e-05, momentum=0.1, affine=True, track_running_stats=True)\n        )\n      )\n      (layer3): Sequential(\n        (0): BasicBlock(\n          (conv1): Conv2d(128, 256, kernel_size=(3, 3), stride=(2, 2), padding=(1, 1), bias=False)\n          (bn1): BatchNorm2d(256, eps=1e-05, momentum=0.1, affine=True, track_running_stats=True)\n          (relu): ReLU(inplace=True)\n          (conv2): Conv2d(256, 256, kernel_size=(3, 3), stride=(1, 1), padding=(1, 1), bias=False)\n          (bn2): BatchNorm2d(256, eps=1e-05, momentum=0.1, affine=True, track_running_stats=True)\n          (downsample): Sequential(\n            (0): Conv2d(128, 256, kernel_size=(1, 1), stride=(2, 2), bias=False)\n            (1): BatchNorm2d(256, eps=1e-05, momentum=0.1, affine=True, track_running_stats=True)\n          )\n        )\n        (1): BasicBlock(\n          (conv1): Conv2d(256, 256, kernel_size=(3, 3), stride=(1, 1), padding=(1, 1), bias=False)\n          (bn1): BatchNorm2d(256, eps=1e-05, momentum=0.1, affine=True, track_running_stats=True)\n          (relu): ReLU(inplace=True)\n          (conv2): Conv2d(256, 256, kernel_size=(3, 3), stride=(1, 1), padding=(1, 1), bias=False)\n          (bn2): BatchNorm2d(256, eps=1e-05, momentum=0.1, affine=True, track_running_stats=True)\n        )\n      )\n      (layer4): Sequential(\n        (0): BasicBlock(\n          (conv1): Conv2d(256, 512, kernel_size=(3, 3), stride=(2, 2), padding=(1, 1), bias=False)\n          (bn1): BatchNorm2d(512, eps=1e-05, momentum=0.1, affine=True, track_running_stats=True)\n          (relu): ReLU(inplace=True)\n          (conv2): Conv2d(512, 512, kernel_size=(3, 3), stride=(1, 1), padding=(1, 1), bias=False)\n          (bn2): BatchNorm2d(512, eps=1e-05, momentum=0.1, affine=True, track_running_stats=True)\n          (downsample): Sequential(\n            (0): Conv2d(256, 512, kernel_size=(1, 1), stride=(2, 2), bias=False)\n            (1): BatchNorm2d(512, eps=1e-05, momentum=0.1, affine=True, track_running_stats=True)\n          )\n        )\n        (1): BasicBlock(\n          (conv1): Conv2d(512, 512, kernel_size=(3, 3), stride=(1, 1), padding=(1, 1), bias=False)\n          (bn1): BatchNorm2d(512, eps=1e-05, momentum=0.1, affine=True, track_running_stats=True)\n          (relu): ReLU(inplace=True)\n          (conv2): Conv2d(512, 512, kernel_size=(3, 3), stride=(1, 1), padding=(1, 1), bias=False)\n          (bn2): BatchNorm2d(512, eps=1e-05, momentum=0.1, affine=True, track_running_stats=True)\n        )\n      )\n      (avgpool): AdaptiveAvgPool2d(output_size=(1, 1))\n      (fc): Identity()\n    )\n  )\n  (geo_temp_encoder): GeoTemporalEncoder(\n    (encoder): Sequential(\n      (0): Linear(in_features=21, out_features=64, bias=True)\n      (1): BatchNorm1d(64, eps=1e-05, momentum=0.1, affine=True, track_running_stats=True)\n      (2): ReLU()\n      (3): Linear(in_features=64, out_features=32, bias=True)\n      (4): BatchNorm1d(32, eps=1e-05, momentum=0.1, affine=True, track_running_stats=True)\n      (5): ReLU()\n    )\n  )\n  (depth_marker_predictor): LSTMDepthMarkerPredictor(\n    (fc): Sequential(\n      (0): Linear(in_features=544, out_features=256, bias=True)\n      (1): ReLU()\n      (2): Dropout(p=0.2, inplace=False)\n    )\n    (rnn): LSTM(256, 256, num_layers=2, batch_first=True, dropout=0.2)\n    (predictor): Linear(in_features=256, out_features=1, bias=True)\n  )\n)"
     },
     "execution_count": 36,
     "metadata": {},
     "output_type": "execute_result"
    }
   ],
   "source": [
    "# Initialize model\n",
    "#num_classes = len(df[target].unique()) # for one-hot encoding\n",
    "#num_classes = emb_dict['embedding'].shape[1] # for HCE (the dim. of final layer in the model should match the dim of the embedded label vectors)\n",
    "device = torch.device(\"cuda:0\" if torch.cuda.is_available() else \"cpu\")\n",
    "model = bgr_mod.HorizonClassifier(geo_temp_input_dim=len(geotemp_img_infos)-1, # without counting the img path\n",
    "                                  max_seq_len = max_length,                    # fixed from longest list of horizons in one image from dataset\n",
    "                                  stop_token=1.0,                              # End of Sequence Token at -1 meters\n",
    "                                  #transformer_dim=128,\n",
    "                                  #num_transformer_heads=4,\n",
    "                                  #num_transformer_layers=2,\n",
    "                                  rnn_hidden_dim=256,\n",
    "                                  tabular_predictors_dict=tabular_predictors_dict, # for constructing the tabular predictors\n",
    "                                  tab_pred_device=device)\n",
    "model.to(device)"
   ],
   "metadata": {
    "collapsed": false,
    "pycharm": {
     "name": "#%%\n"
    }
   }
  },
  {
   "cell_type": "code",
   "execution_count": 37,
   "outputs": [
    {
     "name": "stdout",
     "output_type": "stream",
     "text": [
      "2510 samples for training.\n",
      "837 samples for validating.\n"
     ]
    }
   ],
   "source": [
    "# Data split\n",
    "#train_df, val_df = train_test_split(df, stratify=df[target], random_state=2024)\n",
    "train_df, val_df = train_test_split(df, random_state=2024) # ToDo: not stratified...\n",
    "\n",
    "print(f'{len(train_df)} samples for training.')\n",
    "print(f'{len(val_df)} samples for validating.')"
   ],
   "metadata": {
    "collapsed": false,
    "pycharm": {
     "name": "#%%\n"
    }
   }
  },
  {
   "cell_type": "code",
   "execution_count": 38,
   "outputs": [],
   "source": [
    "# Define the image transforms for augmentation\n",
    "augment = [\n",
    "    transforms.ColorJitter(brightness=0.3, contrast=0.3, saturation=0.3, hue=0.1),\n",
    "    transforms.GaussianBlur(kernel_size=(5, 5), sigma=(1., 3.))\n",
    "]"
   ],
   "metadata": {
    "collapsed": false,
    "pycharm": {
     "name": "#%%\n"
    }
   }
  },
  {
   "cell_type": "code",
   "execution_count": 39,
   "outputs": [],
   "source": [
    "batch_size = 64\n",
    "# Create Dataset object with image and tabular features\n",
    "train_dataset = bgr_data.ImageTabularDataset(dataframe=train_df,\n",
    "                                             normalize=normalize,\n",
    "                                             augment=augment,\n",
    "                                             image_path='file',\n",
    "                                             label=None, # no label column as input; access it instead via 'index' during training\n",
    "                                             feature_columns=geotemp_img_infos[:-1])\n",
    "\n",
    "train_loader = DataLoader(train_dataset, batch_size=batch_size, shuffle=True, num_workers=16,\n",
    "                          drop_last=True) # any better idea than drop_last? without it, tensors don't get concatenated properly\n",
    "\n",
    "# Training parameters\n",
    "optimizer = optim.AdamW(model.parameters(), lr=1e-3, weight_decay=1e-2)\n",
    "\n",
    "depth_loss = DepthMarkerLoss(lambda_mono=0.0, lambda_div=0.0)\n",
    "# All the tabular classifiers get a CE loss, all regressors get MSE\n",
    "soil_losses = {}\n",
    "for tab_predictor in tabular_predictors_dict:\n",
    "    if tabular_predictors_dict[tab_predictor]['classification']:\n",
    "        soil_losses[tab_predictor] = nn.CrossEntropyLoss()\n",
    "    else:\n",
    "        soil_losses[tab_predictor] = nn.MSELoss()\n",
    "\n",
    "# Note: Is MSE better for HCE?\n",
    "#criterion = nn.CrossEntropyLoss()\n",
    "#criterion = TopKLoss(k=5)\n",
    "#criterion = nn.CosineEmbeddingLoss() # for HCE: 1 - cos(prediction, target)"
   ],
   "metadata": {
    "collapsed": false,
    "pycharm": {
     "name": "#%%\n"
    }
   }
  },
  {
   "cell_type": "code",
   "execution_count": 40,
   "outputs": [],
   "source": [
    "### Callbacks\n",
    "scheduler = torch.optim.lr_scheduler.ReduceLROnPlateau(optimizer, mode='min', factor=0.1, patience=5, threshold=0.1, min_lr=1e-5, verbose=True)\n",
    "early_stopping = EarlyStopping(patience=10, min_delta=0.01, verbose=True) # looks at val_loss (see callbacks.py)\n",
    "#checkpoint = ModelCheckpoint(save_path='./BGR/models/lstm_depthmarker.pth', monitor='avg_val_loss', mode='min', verbose=True)\n",
    "#checkpoint = ModelCheckpoint(save_path='./BGR/models/lstm_depthmarker_mlp_tabular_stones_humus.pth',\n",
    "#                             monitor='avg_val_loss', mode='min', verbose=True)\n",
    "checkpoint = ModelCheckpoint(save_path='./BGR/models/lstm_depthmarker_mlp_tabular_stones_carb_humus_root.pth',\n",
    "                             monitor='avg_val_loss', mode='min', verbose=True)"
   ],
   "metadata": {
    "collapsed": false,
    "pycharm": {
     "name": "#%%\n"
    }
   }
  },
  {
   "cell_type": "code",
   "execution_count": 41,
   "outputs": [
    {
     "name": "stdout",
     "output_type": "stream",
     "text": [
      "Training size original: 2510\n",
      "Training size after augmentation: 7530\n"
     ]
    }
   ],
   "source": [
    "print(f\"Training size original: {len(train_dataset.dataframe)}\")\n",
    "print(f\"Training size after augmentation: {len(train_dataset)}\")"
   ],
   "metadata": {
    "collapsed": false,
    "pycharm": {
     "name": "#%%\n"
    }
   }
  },
  {
   "cell_type": "code",
   "execution_count": 42,
   "outputs": [
    {
     "name": "stderr",
     "output_type": "stream",
     "text": [
      "Clipping input data to the valid range for imshow with RGB data ([0..1] for floats or [0..255] for integers).\n",
      "Clipping input data to the valid range for imshow with RGB data ([0..1] for floats or [0..255] for integers).\n",
      "Clipping input data to the valid range for imshow with RGB data ([0..1] for floats or [0..255] for integers).\n"
     ]
    },
    {
     "name": "stdout",
     "output_type": "stream",
     "text": [
      "Image 0\n",
      "tensor([1.7890e+03, 7.0000e+00, 0.0000e+00, 5.0506e+05, 5.8320e+06, 6.0000e+00,\n",
      "        0.0000e+00, 0.0000e+00, 0.0000e+00, 2.0000e+00, 0.0000e+00, 2.0000e+02,\n",
      "        0.0000e+00, 0.0000e+00, 3.0000e+00, 2.0000e+00, 2.0000e+00, 0.0000e+00,\n",
      "        3.0000e+00, 5.3780e+01, 1.5110e+01])\n",
      "Image 1\n",
      "tensor([1.7890e+03, 7.0000e+00, 0.0000e+00, 5.0506e+05, 5.8320e+06, 6.0000e+00,\n",
      "        0.0000e+00, 0.0000e+00, 0.0000e+00, 2.0000e+00, 0.0000e+00, 2.0000e+02,\n",
      "        0.0000e+00, 0.0000e+00, 3.0000e+00, 2.0000e+00, 2.0000e+00, 0.0000e+00,\n",
      "        3.0000e+00, 5.3780e+01, 1.5110e+01])\n",
      "Image 2\n",
      "tensor([1.7890e+03, 7.0000e+00, 0.0000e+00, 5.0506e+05, 5.8320e+06, 6.0000e+00,\n",
      "        0.0000e+00, 0.0000e+00, 0.0000e+00, 2.0000e+00, 0.0000e+00, 2.0000e+02,\n",
      "        0.0000e+00, 0.0000e+00, 3.0000e+00, 2.0000e+00, 2.0000e+00, 0.0000e+00,\n",
      "        3.0000e+00, 5.3780e+01, 1.5110e+01])\n"
     ]
    },
    {
     "data": {
      "text/plain": "<Figure size 720x576 with 3 Axes>",
      "image/svg+xml": "<?xml version=\"1.0\" encoding=\"utf-8\" standalone=\"no\"?>\n<!DOCTYPE svg PUBLIC \"-//W3C//DTD SVG 1.1//EN\"\n  \"http://www.w3.org/Graphics/SVG/1.1/DTD/svg11.dtd\">\n<svg xmlns:xlink=\"http://www.w3.org/1999/xlink\" width=\"572.4pt\" height=\"178.517647pt\" viewBox=\"0 0 572.4 178.517647\" xmlns=\"http://www.w3.org/2000/svg\" version=\"1.1\">\n <metadata>\n  <rdf:RDF xmlns:dc=\"http://purl.org/dc/elements/1.1/\" xmlns:cc=\"http://creativecommons.org/ns#\" xmlns:rdf=\"http://www.w3.org/1999/02/22-rdf-syntax-ns#\">\n   <cc:Work>\n    <dc:type rdf:resource=\"http://purl.org/dc/dcmitype/StillImage\"/>\n    <dc:date>2025-01-31T17:18:16.670519</dc:date>\n    <dc:format>image/svg+xml</dc:format>\n    <dc:creator>\n     <cc:Agent>\n      <dc:title>Matplotlib v3.5.1, https://matplotlib.org/</dc:title>\n     </cc:Agent>\n    </dc:creator>\n   </cc:Work>\n  </rdf:RDF>\n </metadata>\n <defs>\n  <style type=\"text/css\">*{stroke-linejoin: round; stroke-linecap: butt}</style>\n </defs>\n <g id=\"figure_1\">\n  <g id=\"patch_1\">\n   <path d=\"M 0 178.517647 \nL 572.4 178.517647 \nL 572.4 0 \nL 0 0 \nL 0 178.517647 \nz\n\" style=\"fill: none\"/>\n  </g>\n  <g id=\"axes_1\">\n   <g clip-path=\"url(#pc75c9d1ba8)\">\n    <image xlink:href=\"data:image/png;base64,\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\" id=\"image5bf9b0e0aa\" transform=\"scale(1 -1)translate(0 -165)\" x=\"7.2\" y=\"-6.317647\" width=\"165\" height=\"165\"/>\n   </g>\n  </g>\n  <g id=\"axes_2\">\n   <g clip-path=\"url(#pe9982e28e0)\">\n    <image xlink:href=\"data:image/png;base64,\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\" id=\"image9752547292\" transform=\"scale(1 -1)translate(0 -165)\" x=\"204.141176\" y=\"-6.317647\" width=\"165\" height=\"165\"/>\n   </g>\n  </g>\n  <g id=\"axes_3\">\n   <g clip-path=\"url(#pef1bff08a9)\">\n    <image xlink:href=\"data:image/png;base64,\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\" id=\"image1bd409d412\" transform=\"scale(1 -1)translate(0 -165)\" x=\"401.082353\" y=\"-6.317647\" width=\"165\" height=\"165\"/>\n   </g>\n  </g>\n </g>\n <defs>\n  <clipPath id=\"pc75c9d1ba8\">\n   <rect x=\"7.2\" y=\"7.2\" width=\"164.117647\" height=\"164.117647\"/>\n  </clipPath>\n  <clipPath id=\"pe9982e28e0\">\n   <rect x=\"204.141176\" y=\"7.2\" width=\"164.117647\" height=\"164.117647\"/>\n  </clipPath>\n  <clipPath id=\"pef1bff08a9\">\n   <rect x=\"401.082353\" y=\"7.2\" width=\"164.117647\" height=\"164.117647\"/>\n  </clipPath>\n </defs>\n</svg>\n"
     },
     "metadata": {
      "needs_background": "light"
     },
     "output_type": "display_data"
    }
   ],
   "source": [
    "# Check an augmented subset\n",
    "if augment:\n",
    "    aug_images = []\n",
    "    for i in range(len(train_dataset)):\n",
    "        image, tabular_features = train_dataset[i]\n",
    "        aug_images.append(image)\n",
    "        print(f\"Image {i}\")\n",
    "        print(tabular_features)\n",
    "        if i == 2: break\n",
    "\n",
    "    plt.figure(figsize=(10, 8))\n",
    "    for i in range(len(aug_images)):\n",
    "        plt.subplot(1, 3, i+1)\n",
    "        plt.imshow(aug_images[i].swapaxes(0,2).swapaxes(0,1)) # returned shape is (c, h, w)\n",
    "        plt.axis('off')"
   ],
   "metadata": {
    "collapsed": false,
    "pycharm": {
     "name": "#%%\n"
    }
   }
  },
  {
   "cell_type": "code",
   "execution_count": 43,
   "outputs": [],
   "source": [
    "val_dataset = bgr_data.ImageTabularDataset(dataframe=val_df,\n",
    "                                           normalize=normalize,\n",
    "                                           image_path='file',\n",
    "                                           label=None,\n",
    "                                           feature_columns=geotemp_img_infos[:-1])\n",
    "\n",
    "val_loader = DataLoader(val_dataset, batch_size=batch_size, shuffle=True, num_workers=16, drop_last=True)"
   ],
   "metadata": {
    "collapsed": false,
    "pycharm": {
     "name": "#%%\n"
    }
   }
  },
  {
   "cell_type": "code",
   "execution_count": 44,
   "outputs": [
    {
     "data": {
      "text/plain": "{'Stones_Predictor': tensor([-0.1659, -0.1662, -0.1661, -0.1662, -0.1661, -0.1662, -0.1661, -0.1661,\n         -0.0951, -0.0949, -0.0949, -0.0948, -0.0948, -0.0948, -0.0948, -0.0948,\n         -0.0676, -0.0675, -0.0675, -0.0675, -0.0675, -0.0674, -0.0675, -0.0675,\n          0.0193,  0.0194,  0.0194,  0.0194,  0.0193,  0.0194,  0.0194,  0.0194,\n         -0.0494, -0.0493, -0.0493, -0.0493, -0.0493, -0.0493, -0.0493, -0.0493,\n         -0.0462, -0.0463, -0.0463, -0.0463, -0.0463, -0.0463, -0.0463, -0.0463,\n         -0.0244, -0.0242, -0.0241, -0.0241, -0.0242, -0.0242, -0.0241, -0.0241,\n         -0.0170, -0.0169, -0.0169, -0.0169, -0.0169, -0.0169, -0.0169, -0.0169,\n         -0.0928, -0.0925, -0.0925, -0.0925, -0.0926, -0.0926, -0.0927, -0.0927,\n         -0.1544, -0.1544, -0.1545, -0.1544, -0.1545, -0.1544, -0.1544, -0.1545,\n         -0.0853, -0.0853, -0.0853, -0.0853, -0.0853, -0.0853, -0.0853, -0.0853,\n         -0.0182, -0.0179, -0.0179, -0.0179, -0.0180, -0.0180, -0.0179, -0.0179,\n         -0.0070, -0.0068, -0.0069, -0.0069, -0.0069, -0.0069, -0.0069, -0.0068,\n          0.0009,  0.0010,  0.0009,  0.0009,  0.0009,  0.0009,  0.0009,  0.0009,\n          0.0094,  0.0095,  0.0095,  0.0095,  0.0095,  0.0095,  0.0095,  0.0095,\n         -0.0463, -0.0462, -0.0463, -0.0463, -0.0463, -0.0463, -0.0463, -0.0463,\n         -0.0803, -0.0802, -0.0802, -0.0802, -0.0802, -0.0802, -0.0802, -0.0802,\n         -0.1312, -0.1314, -0.1314, -0.1314, -0.1315, -0.1314, -0.1314, -0.1314,\n         -0.1075, -0.1074, -0.1074, -0.1074, -0.1074, -0.1074, -0.1074, -0.1074,\n         -0.0273, -0.0271, -0.0271, -0.0271, -0.0271, -0.0270, -0.0271, -0.0270,\n         -0.1536, -0.1536, -0.1535, -0.1535, -0.1536, -0.1536, -0.1535, -0.1536,\n          0.0522,  0.0523,  0.0523,  0.0523,  0.0523,  0.0524,  0.0524,  0.0524,\n         -0.0597, -0.0596, -0.0596, -0.0596, -0.0596, -0.0596, -0.0596, -0.0596,\n         -0.1342, -0.1342, -0.1342, -0.1342, -0.1342, -0.1342, -0.1342, -0.1342,\n         -0.0767, -0.0765, -0.0765, -0.0765, -0.0765, -0.0765, -0.0765, -0.0765,\n         -0.0281, -0.0280, -0.0280, -0.0280, -0.0281, -0.0281, -0.0281, -0.0280,\n         -0.0918, -0.0916, -0.0916, -0.0916, -0.0916, -0.0916, -0.0916, -0.0915,\n         -0.0337, -0.0334, -0.0334, -0.0334, -0.0334, -0.0334, -0.0334, -0.0334,\n         -0.0610, -0.0608, -0.0608, -0.0608, -0.0608, -0.0608, -0.0608, -0.0608,\n         -0.0766, -0.0766, -0.0766, -0.0766, -0.0766, -0.0766, -0.0766, -0.0766,\n          0.0063,  0.0065,  0.0065,  0.0065,  0.0065,  0.0066,  0.0065,  0.0065,\n         -0.0138, -0.0138, -0.0138, -0.0138, -0.0138, -0.0138, -0.0138, -0.0138,\n         -0.1027, -0.1026, -0.1026, -0.1026, -0.1026, -0.1026, -0.1026, -0.1026,\n         -0.0223, -0.0222, -0.0222, -0.0222, -0.0222, -0.0222, -0.0222, -0.0222,\n         -0.0059, -0.0059, -0.0059, -0.0059, -0.0059, -0.0059, -0.0059, -0.0059,\n         -0.0672, -0.0670, -0.0670, -0.0670, -0.0670, -0.0670, -0.0670, -0.0670,\n         -0.0135, -0.0133, -0.0133, -0.0133, -0.0133, -0.0133, -0.0133, -0.0133,\n         -0.0673, -0.0673, -0.0673, -0.0673, -0.0673, -0.0674, -0.0674, -0.0674,\n         -0.1331, -0.1329, -0.1329, -0.1329, -0.1330, -0.1330, -0.1330, -0.1329,\n          0.0341,  0.0342,  0.0341,  0.0342,  0.0342,  0.0342,  0.0342,  0.0342,\n          0.0039,  0.0042,  0.0042,  0.0042,  0.0041,  0.0041,  0.0042,  0.0042,\n          0.0167,  0.0167,  0.0167,  0.0167,  0.0167,  0.0168,  0.0168,  0.0168,\n         -0.0295, -0.0294, -0.0294, -0.0295, -0.0295, -0.0295, -0.0294, -0.0294,\n          0.0100,  0.0101,  0.0101,  0.0101,  0.0101,  0.0101,  0.0101,  0.0101,\n         -0.1024, -0.1023, -0.1023, -0.1022, -0.1023, -0.1022, -0.1022, -0.1022,\n         -0.0605, -0.0603, -0.0604, -0.0604, -0.0604, -0.0604, -0.0604, -0.0604,\n         -0.0128, -0.0126, -0.0126, -0.0127, -0.0126, -0.0126, -0.0126, -0.0126,\n         -0.0522, -0.0519, -0.0520, -0.0519, -0.0520, -0.0520, -0.0519, -0.0519,\n         -0.0596, -0.0595, -0.0595, -0.0595, -0.0595, -0.0595, -0.0595, -0.0595,\n         -0.0898, -0.0898, -0.0898, -0.0897, -0.0897, -0.0897, -0.0897, -0.0897,\n         -0.0558, -0.0556, -0.0556, -0.0557, -0.0557, -0.0556, -0.0556, -0.0556,\n          0.0188,  0.0189,  0.0189,  0.0188,  0.0188,  0.0188,  0.0188,  0.0189,\n         -0.1083, -0.1081, -0.1082, -0.1082, -0.1082, -0.1083, -0.1083, -0.1082,\n          0.0468,  0.0468,  0.0468,  0.0468,  0.0468,  0.0468,  0.0468,  0.0468,\n         -0.0156, -0.0153, -0.0153, -0.0153, -0.0153, -0.0153, -0.0153, -0.0153,\n         -0.0006, -0.0006, -0.0006, -0.0006, -0.0006, -0.0006, -0.0006, -0.0007,\n         -0.0796, -0.0794, -0.0794, -0.0794, -0.0794, -0.0794, -0.0794, -0.0794,\n          0.0123,  0.0124,  0.0124,  0.0124,  0.0123,  0.0123,  0.0123,  0.0123,\n         -0.0121, -0.0120, -0.0120, -0.0120, -0.0120, -0.0120, -0.0120, -0.0120,\n         -0.0573, -0.0572, -0.0572, -0.0572, -0.0572, -0.0572, -0.0572, -0.0572,\n         -0.0356, -0.0354, -0.0353, -0.0353, -0.0353, -0.0353, -0.0352, -0.0352,\n         -0.0944, -0.0945, -0.0945, -0.0945, -0.0945, -0.0945, -0.0945, -0.0945,\n         -0.1154, -0.1152, -0.1153, -0.1153, -0.1154, -0.1153, -0.1154, -0.1153,\n         -0.0334, -0.0334, -0.0334, -0.0335, -0.0334, -0.0335, -0.0334, -0.0334],\n        device='cuda:0', grad_fn=<SqueezeBackward0>),\n 'Carbonate_Predictor': tensor([[0.0867, 0.0820, 0.0725,  ..., 0.0844, 0.0647, 0.0798],\n         [0.0867, 0.0820, 0.0725,  ..., 0.0844, 0.0647, 0.0798],\n         [0.0867, 0.0820, 0.0725,  ..., 0.0844, 0.0647, 0.0798],\n         ...,\n         [0.0783, 0.0779, 0.0769,  ..., 0.0745, 0.0765, 0.0792],\n         [0.0783, 0.0779, 0.0769,  ..., 0.0745, 0.0765, 0.0792],\n         [0.0783, 0.0779, 0.0769,  ..., 0.0745, 0.0765, 0.0792]],\n        device='cuda:0', grad_fn=<SqueezeBackward0>),\n 'Humus_Predictor': tensor([[0.1477, 0.1307, 0.1442,  ..., 0.1112, 0.1193, 0.1198],\n         [0.1477, 0.1307, 0.1441,  ..., 0.1112, 0.1192, 0.1198],\n         [0.1477, 0.1307, 0.1442,  ..., 0.1112, 0.1192, 0.1198],\n         ...,\n         [0.1469, 0.1232, 0.1371,  ..., 0.1247, 0.1086, 0.1131],\n         [0.1469, 0.1232, 0.1371,  ..., 0.1247, 0.1086, 0.1131],\n         [0.1469, 0.1232, 0.1371,  ..., 0.1247, 0.1086, 0.1131]],\n        device='cuda:0', grad_fn=<SqueezeBackward0>),\n 'Rooting_Predictor': tensor([[0.0532, 0.0632, 0.0475,  ..., 0.0500, 0.0515, 0.0533],\n         [0.0532, 0.0632, 0.0475,  ..., 0.0500, 0.0515, 0.0534],\n         [0.0532, 0.0632, 0.0475,  ..., 0.0500, 0.0515, 0.0534],\n         ...,\n         [0.0515, 0.0649, 0.0486,  ..., 0.0438, 0.0476, 0.0536],\n         [0.0515, 0.0649, 0.0486,  ..., 0.0438, 0.0476, 0.0536],\n         [0.0515, 0.0649, 0.0486,  ..., 0.0438, 0.0476, 0.0536]],\n        device='cuda:0', grad_fn=<SqueezeBackward0>)}"
     },
     "execution_count": 44,
     "metadata": {},
     "output_type": "execute_result"
    }
   ],
   "source": [
    "\n",
    "for batch in val_loader:\n",
    "    images, geotemp_features = batch\n",
    "    images, geotemp_features = images.to(device), geotemp_features.to(device)\n",
    "\n",
    "    pred_depths, tabular_predictions = model(image=images, geo_temp=geotemp_features, true_depths=None) # use the model's own predicted depths at inference time\n",
    "tabular_predictions\n"
   ],
   "metadata": {
    "collapsed": false,
    "pycharm": {
     "name": "#%%\n"
    }
   }
  },
  {
   "cell_type": "code",
   "execution_count": 56,
   "outputs": [
    {
     "name": "stdout",
     "output_type": "stream",
     "text": [
      "Epoch 1/20\n"
     ]
    },
    {
     "name": "stderr",
     "output_type": "stream",
     "text": [
      "                                                                                                                        \r"
     ]
    },
    {
     "name": "stdout",
     "output_type": "stream",
     "text": [
      "Model checkpoint saved at './BGR/models/lstm_depthmarker_mlp_tabular_stones_carb_humus_root.pth' with avg_val_loss: 7.2077\n",
      "Epoch 1, Training Total Loss: 7.2743\n",
      "Depth Loss: 0.0137\n",
      "Stones Loss: 0.0259, Carb Loss: 2.2431\n",
      "Humus Loss: 2.0526, Root Loss: 2.9391\n",
      "\n",
      "Validation Total Loss: 7.2077\n",
      "Depth Loss: 0.0133\n",
      "Stones Loss: 0.0224, Carb Loss: 2.1842\n",
      "Humus Loss: 2.0500, Root Loss: 2.9378\n",
      "Current LR: 0.001\n",
      "Epoch 2/20\n"
     ]
    },
    {
     "name": "stderr",
     "output_type": "stream",
     "text": [
      "                                                                                                                        \r"
     ]
    },
    {
     "ename": "KeyboardInterrupt",
     "evalue": "",
     "output_type": "error",
     "traceback": [
      "\u001B[0;31m---------------------------------------------------------------------------\u001B[0m",
      "\u001B[0;31mKeyboardInterrupt\u001B[0m                         Traceback (most recent call last)",
      "Input \u001B[0;32mIn [56]\u001B[0m, in \u001B[0;36m<cell line: 3>\u001B[0;34m()\u001B[0m\n\u001B[1;32m     43\u001B[0m \u001B[38;5;66;03m# Compute individual losses, then sum them together for backprop\u001B[39;00m\n\u001B[1;32m     44\u001B[0m train_depth_loss \u001B[38;5;241m=\u001B[39m depth_loss(pred_depths, padded_true_depths)\n\u001B[0;32m---> 45\u001B[0m train_stones_loss \u001B[38;5;241m=\u001B[39m \u001B[43msoil_losses\u001B[49m\u001B[43m[\u001B[49m\u001B[38;5;124;43m'\u001B[39;49m\u001B[38;5;124;43mStones_Predictor\u001B[39;49m\u001B[38;5;124;43m'\u001B[39;49m\u001B[43m]\u001B[49m\u001B[43m(\u001B[49m\u001B[43mtabular_predictions\u001B[49m\u001B[43m[\u001B[49m\u001B[38;5;124;43m'\u001B[39;49m\u001B[38;5;124;43mStones_Predictor\u001B[39;49m\u001B[38;5;124;43m'\u001B[39;49m\u001B[43m]\u001B[49m\u001B[43m,\u001B[49m\u001B[43m \u001B[49m\u001B[43mtrue_stones\u001B[49m\u001B[43m)\u001B[49m\n\u001B[1;32m     46\u001B[0m train_carb_loss \u001B[38;5;241m=\u001B[39m soil_losses[\u001B[38;5;124m'\u001B[39m\u001B[38;5;124mCarbonate_Predictor\u001B[39m\u001B[38;5;124m'\u001B[39m](tabular_predictions[\u001B[38;5;124m'\u001B[39m\u001B[38;5;124mCarbonate_Predictor\u001B[39m\u001B[38;5;124m'\u001B[39m], true_carb)\n\u001B[1;32m     47\u001B[0m train_humus_loss  \u001B[38;5;241m=\u001B[39m soil_losses[\u001B[38;5;124m'\u001B[39m\u001B[38;5;124mHumus_Predictor\u001B[39m\u001B[38;5;124m'\u001B[39m](tabular_predictions[\u001B[38;5;124m'\u001B[39m\u001B[38;5;124mHumus_Predictor\u001B[39m\u001B[38;5;124m'\u001B[39m], true_humus)\n",
      "File \u001B[0;32m~/anaconda3/envs/torch_gpu_sam/lib/python3.9/site-packages/torch/nn/modules/module.py:1102\u001B[0m, in \u001B[0;36mModule._call_impl\u001B[0;34m(self, *input, **kwargs)\u001B[0m\n\u001B[1;32m   1098\u001B[0m \u001B[38;5;66;03m# If we don't have any hooks, we want to skip the rest of the logic in\u001B[39;00m\n\u001B[1;32m   1099\u001B[0m \u001B[38;5;66;03m# this function, and just call forward.\u001B[39;00m\n\u001B[1;32m   1100\u001B[0m \u001B[38;5;28;01mif\u001B[39;00m \u001B[38;5;129;01mnot\u001B[39;00m (\u001B[38;5;28mself\u001B[39m\u001B[38;5;241m.\u001B[39m_backward_hooks \u001B[38;5;129;01mor\u001B[39;00m \u001B[38;5;28mself\u001B[39m\u001B[38;5;241m.\u001B[39m_forward_hooks \u001B[38;5;129;01mor\u001B[39;00m \u001B[38;5;28mself\u001B[39m\u001B[38;5;241m.\u001B[39m_forward_pre_hooks \u001B[38;5;129;01mor\u001B[39;00m _global_backward_hooks\n\u001B[1;32m   1101\u001B[0m         \u001B[38;5;129;01mor\u001B[39;00m _global_forward_hooks \u001B[38;5;129;01mor\u001B[39;00m _global_forward_pre_hooks):\n\u001B[0;32m-> 1102\u001B[0m     \u001B[38;5;28;01mreturn\u001B[39;00m \u001B[43mforward_call\u001B[49m\u001B[43m(\u001B[49m\u001B[38;5;241;43m*\u001B[39;49m\u001B[38;5;28;43minput\u001B[39;49m\u001B[43m,\u001B[49m\u001B[43m \u001B[49m\u001B[38;5;241;43m*\u001B[39;49m\u001B[38;5;241;43m*\u001B[39;49m\u001B[43mkwargs\u001B[49m\u001B[43m)\u001B[49m\n\u001B[1;32m   1103\u001B[0m \u001B[38;5;66;03m# Do not call functions when jit is used\u001B[39;00m\n\u001B[1;32m   1104\u001B[0m full_backward_hooks, non_full_backward_hooks \u001B[38;5;241m=\u001B[39m [], []\n",
      "File \u001B[0;32m~/anaconda3/envs/torch_gpu_sam/lib/python3.9/site-packages/torch/nn/modules/loss.py:520\u001B[0m, in \u001B[0;36mMSELoss.forward\u001B[0;34m(self, input, target)\u001B[0m\n\u001B[1;32m    519\u001B[0m \u001B[38;5;28;01mdef\u001B[39;00m \u001B[38;5;21mforward\u001B[39m(\u001B[38;5;28mself\u001B[39m, \u001B[38;5;28minput\u001B[39m: Tensor, target: Tensor) \u001B[38;5;241m-\u001B[39m\u001B[38;5;241m>\u001B[39m Tensor:\n\u001B[0;32m--> 520\u001B[0m     \u001B[38;5;28;01mreturn\u001B[39;00m \u001B[43mF\u001B[49m\u001B[38;5;241;43m.\u001B[39;49m\u001B[43mmse_loss\u001B[49m\u001B[43m(\u001B[49m\u001B[38;5;28;43minput\u001B[39;49m\u001B[43m,\u001B[49m\u001B[43m \u001B[49m\u001B[43mtarget\u001B[49m\u001B[43m,\u001B[49m\u001B[43m \u001B[49m\u001B[43mreduction\u001B[49m\u001B[38;5;241;43m=\u001B[39;49m\u001B[38;5;28;43mself\u001B[39;49m\u001B[38;5;241;43m.\u001B[39;49m\u001B[43mreduction\u001B[49m\u001B[43m)\u001B[49m\n",
      "File \u001B[0;32m~/anaconda3/envs/torch_gpu_sam/lib/python3.9/site-packages/torch/nn/functional.py:3112\u001B[0m, in \u001B[0;36mmse_loss\u001B[0;34m(input, target, size_average, reduce, reduction)\u001B[0m\n\u001B[1;32m   3109\u001B[0m     reduction \u001B[38;5;241m=\u001B[39m _Reduction\u001B[38;5;241m.\u001B[39mlegacy_get_string(size_average, reduce)\n\u001B[1;32m   3111\u001B[0m expanded_input, expanded_target \u001B[38;5;241m=\u001B[39m torch\u001B[38;5;241m.\u001B[39mbroadcast_tensors(\u001B[38;5;28minput\u001B[39m, target)\n\u001B[0;32m-> 3112\u001B[0m \u001B[38;5;28;01mreturn\u001B[39;00m \u001B[43mtorch\u001B[49m\u001B[38;5;241;43m.\u001B[39;49m\u001B[43m_C\u001B[49m\u001B[38;5;241;43m.\u001B[39;49m\u001B[43m_nn\u001B[49m\u001B[38;5;241;43m.\u001B[39;49m\u001B[43mmse_loss\u001B[49m\u001B[43m(\u001B[49m\u001B[43mexpanded_input\u001B[49m\u001B[43m,\u001B[49m\u001B[43m \u001B[49m\u001B[43mexpanded_target\u001B[49m\u001B[43m,\u001B[49m\u001B[43m \u001B[49m\u001B[43m_Reduction\u001B[49m\u001B[38;5;241;43m.\u001B[39;49m\u001B[43mget_enum\u001B[49m\u001B[43m(\u001B[49m\u001B[43mreduction\u001B[49m\u001B[43m)\u001B[49m\u001B[43m)\u001B[49m\n",
      "\u001B[0;31mKeyboardInterrupt\u001B[0m: "
     ]
    }
   ],
   "source": [
    "epochs = 20\n",
    "lr_history, train_loss_history, val_loss_history = [], [], []\n",
    "for epoch in range(epochs):\n",
    "    print(f\"Epoch {epoch + 1}/{epochs}\")\n",
    "    # Training loop\n",
    "    model.train() # Important: reset the model in training mode at the beginning of every epoch\n",
    "    train_depth_loss_total = 0.0\n",
    "    train_stones_loss_total, train_carb_loss_total, train_humus_loss_total, train_root_loss_total = 0.0, 0.0, 0.0, 0.0\n",
    "    train_loss_total = 0.0\n",
    "    train_loader_tqdm = tqdm(train_loader, desc=\"Training\", leave=False)\n",
    "    for batch in train_loader_tqdm:\n",
    "        images, geotemp_features = batch\n",
    "        images, geotemp_features = images.to(device), geotemp_features.to(device)\n",
    "\n",
    "        optimizer.zero_grad() # otherwise, PyTorch accumulates the gradients during backprop\n",
    "\n",
    "        # Get corresponding true depth markers and morphological features via index column in df (the first value in every row in geotemp)\n",
    "        # Note: the code accounts for duplicate indexes resulting after the augmentations in the ImageTabularDataset class (is there a better way than duplicating indexes during augmentation?)\n",
    "        true_depths = []\n",
    "        true_stones, true_carb, true_humus, true_root = [], [], [], []\n",
    "        batch_indices = geotemp_features.cpu().numpy()[:, 0]\n",
    "        for idx in batch_indices:\n",
    "            true_depths.append( df.loc[df['index'] == idx, 'Untergrenze'].values[0] )\n",
    "            true_stones.append( torch.tensor(df.loc[df['index'] == idx, 'Steine'].values[0]) )\n",
    "            true_carb.append( torch.tensor(df.loc[df['index'] == idx, 'Karbonat'].values[0]) )\n",
    "            true_humus.append( torch.tensor(df.loc[df['index'] == idx, 'Humusgehaltsklasse'].values[0]).long() ) # categoricals need to be Long for the CE loss\n",
    "            true_root.append( torch.tensor(df.loc[df['index'] == idx, 'Durchwurzelung'].values[0]) )\n",
    "        true_stones = torch.stack([item for sublist in true_stones for item in sublist], dim=0).to(device)\n",
    "        true_carb   = torch.stack([item for sublist in true_carb for item in sublist], dim=0).to(device)\n",
    "        true_humus  = torch.stack([item for sublist in true_humus for item in sublist], dim=0).to(device)\n",
    "        true_root   = torch.stack([item for sublist in true_root for item in sublist], dim=0).to(device)\n",
    "\n",
    "        # Turn list of depths into a padded tensor and also return mask of valid positions\n",
    "        padded_true_depths = pad_tensor(true_depths,\n",
    "                                        max_seq_len=model.depth_marker_predictor.max_seq_len,\n",
    "                                        stop_token=model.depth_marker_predictor.stop_token,\n",
    "                                        device=device)\n",
    "\n",
    "        # Predict depth markers (as padded tensors) and morphological features (only pred_stones is a number from regression, the rest are softmax)\n",
    "        pred_depths, tabular_predictions = model(image=images, geo_temp=geotemp_features,\n",
    "                                                 true_depths=true_depths) # use ground truth depths during training for concatenation with image-geotemp vector (padded_true_depths needed for LSTMTabular)\n",
    "\n",
    "        # Compute individual losses, then sum them together for backprop\n",
    "        train_depth_loss = depth_loss(pred_depths, padded_true_depths)\n",
    "        train_stones_loss = soil_losses['Stones_Predictor'](tabular_predictions['Stones_Predictor'], true_stones)\n",
    "        train_carb_loss = soil_losses['Carbonate_Predictor'](tabular_predictions['Carbonate_Predictor'], true_carb)\n",
    "        train_humus_loss  = soil_losses['Humus_Predictor'](tabular_predictions['Humus_Predictor'], true_humus)\n",
    "        train_root_loss = soil_losses['Rooting_Predictor'](tabular_predictions['Rooting_Predictor'], true_root)\n",
    "        train_loss = train_depth_loss + train_stones_loss + train_carb_loss + train_humus_loss + train_root_loss\n",
    "        # Note: any reason to weight the losses differently?\n",
    "\n",
    "        train_loss.backward()\n",
    "        clip_grad_norm_(model.parameters(), max_norm=1.0)\n",
    "        optimizer.step()\n",
    "\n",
    "        train_depth_loss_total += train_depth_loss.item()\n",
    "        train_stones_loss_total += train_stones_loss.item()\n",
    "        train_carb_loss_total += train_carb_loss.item()\n",
    "        train_humus_loss_total += train_humus_loss.item()\n",
    "        train_root_loss_total += train_root_loss.item()\n",
    "        train_loss_total += train_loss.item()\n",
    "        train_loader_tqdm.set_postfix(loss=train_loss.item())\n",
    "\n",
    "    avg_train_depth_loss = train_depth_loss_total / len(train_loader)\n",
    "    avg_train_stones_loss = train_stones_loss_total / len(train_loader)\n",
    "    avg_train_carb_loss = train_carb_loss_total / len(train_loader)\n",
    "    avg_train_humus_loss = train_humus_loss_total / len(train_loader)\n",
    "    avg_train_root_loss = train_root_loss_total / len(train_loader)\n",
    "    avg_train_loss = train_loss_total / len(train_loader)\n",
    "\n",
    "    # Evaluation loop\n",
    "    model.eval() # Set model in evaluation mode before running inference\n",
    "    val_depth_loss_total = 0.0\n",
    "    val_stones_loss_total, val_carb_loss_total, val_humus_loss_total, val_root_loss_total = 0.0, 0.0, 0.0, 0.0\n",
    "    val_loss_total = 0.0\n",
    "    val_loader_tqdm = tqdm(val_loader, desc=\"Evaluating\", leave=False)\n",
    "    with torch.no_grad():\n",
    "        for batch in val_loader_tqdm:\n",
    "            images, geotemp_features = batch\n",
    "            images, geotemp_features = images.to(device), geotemp_features.to(device)\n",
    "\n",
    "            # Get corresponding true depth markers via index column in df (see training step above)\n",
    "            true_depths = []\n",
    "            true_stones, true_carb, true_humus, true_root = [], [], [], []\n",
    "            batch_indices = geotemp_features.cpu().numpy()[:, 0]\n",
    "            for idx in batch_indices:\n",
    "                true_depths.append( df.loc[df['index'] == idx, 'Untergrenze'].values[0] )\n",
    "                true_stones.append( torch.tensor(df.loc[df['index'] == idx, 'Steine'].values[0]) )\n",
    "                true_carb.append( torch.tensor(df.loc[df['index'] == idx, 'Karbonat'].values[0]) )\n",
    "                true_humus.append( torch.tensor(df.loc[df['index'] == idx, 'Humusgehaltsklasse'].values[0]).long() )\n",
    "                true_root.append( torch.tensor(df.loc[df['index'] == idx, 'Durchwurzelung'].values[0]) )\n",
    "            true_stones = torch.stack([item for sublist in true_stones for item in sublist], dim=0).to(device)\n",
    "            true_carb   = torch.stack([item for sublist in true_carb for item in sublist], dim=0).to(device)\n",
    "            true_humus  = torch.stack([item for sublist in true_humus for item in sublist], dim=0).to(device)\n",
    "            true_root   = torch.stack([item for sublist in true_root for item in sublist], dim=0).to(device)\n",
    "\n",
    "            # Turn list of depths into a padded tensor and also return mask of valid positions\n",
    "            padded_true_depths = pad_tensor(true_depths,\n",
    "                                            max_seq_len=model.depth_marker_predictor.max_seq_len,\n",
    "                                            stop_token=model.depth_marker_predictor.stop_token,\n",
    "                                            device=device)\n",
    "\n",
    "            # Predict depth markers (as padded tensors) and morphological features\n",
    "            pred_depths, tabular_predictions = model(image=images, geo_temp=geotemp_features,\n",
    "                                                     true_depths=true_depths)\n",
    "            # Note: should we use the model's predicted depths here?\n",
    "            # But then there can be a mismatch between the number of true tabular labels and the ones that can be predicted...\n",
    "\n",
    "            val_depth_loss = depth_loss(pred_depths, padded_true_depths)\n",
    "            val_stones_loss = soil_losses['Stones_Predictor'](tabular_predictions['Stones_Predictor'], true_stones)\n",
    "            val_carb_loss = soil_losses['Carbonate_Predictor'](tabular_predictions['Carbonate_Predictor'], true_carb)\n",
    "            val_humus_loss  = soil_losses['Humus_Predictor'](tabular_predictions['Humus_Predictor'], true_humus)\n",
    "            val_root_loss = soil_losses['Rooting_Predictor'](tabular_predictions['Rooting_Predictor'], true_root)\n",
    "            val_loss = val_depth_loss + val_stones_loss + val_carb_loss + val_humus_loss + val_root_loss\n",
    "\n",
    "            val_depth_loss_total += val_depth_loss.item()\n",
    "            val_stones_loss_total += val_stones_loss.item()\n",
    "            val_carb_loss_total += val_carb_loss.item()\n",
    "            val_humus_loss_total += val_humus_loss.item()\n",
    "            val_root_loss_total += val_root_loss.item()\n",
    "            val_loss_total += val_loss.item()\n",
    "\n",
    "    avg_val_depth_loss = val_depth_loss_total / len(val_loader)\n",
    "    avg_val_stones_loss = val_stones_loss_total / len(val_loader)\n",
    "    avg_val_carb_loss = val_carb_loss_total / len(val_loader)\n",
    "    avg_val_humus_loss = val_humus_loss_total / len(val_loader)\n",
    "    avg_val_root_loss = val_root_loss_total / len(val_loader)\n",
    "    avg_val_loss = val_loss_total / len(val_loader)\n",
    "\n",
    "    # Save checkpoint if validation loss is at an optimum\n",
    "    checkpoint(model, avg_val_loss)\n",
    "    # Apply the scheduler with validation loss\n",
    "    scheduler.step(avg_val_loss)\n",
    "    # Log the current learning rate\n",
    "    current_lr = optimizer.param_groups[0]['lr']\n",
    "    lr_history.append(current_lr)\n",
    "    # Log metrics\n",
    "    train_loss_history.append(avg_train_loss); val_loss_history.append(avg_val_loss)\n",
    "\n",
    "    print(f\"Epoch {epoch+1}, Training Total Loss: {avg_train_loss:.4f}\")\n",
    "    print(f\"Depth Loss: {avg_train_depth_loss:.4f}\")\n",
    "    print(f\"Stones Loss: {avg_train_stones_loss:.4f}, Carb Loss: {avg_train_carb_loss:.4f}\")\n",
    "    print(f\"Humus Loss: {avg_train_humus_loss:.4f}, Root Loss: {avg_train_root_loss:.4f}\")\n",
    "    print(f\"\\nValidation Total Loss: {avg_val_loss:.4f}\")\n",
    "    print(f\"Depth Loss: {avg_val_depth_loss:.4f}\")\n",
    "    print(f\"Stones Loss: {avg_val_stones_loss:.4f}, Carb Loss: {avg_val_carb_loss:.4f}\")\n",
    "    print(f\"Humus Loss: {avg_val_humus_loss:.4f}, Root Loss: {avg_val_root_loss:.4f}\")\n",
    "    print(f\"Current LR: {current_lr}\")\n",
    "\n",
    "    # Early stopping check\n",
    "    early_stopping(avg_val_loss)\n",
    "    if early_stopping.should_stop:\n",
    "        print(f\"Early stopping at epoch {epoch+1}\")\n",
    "        break"
   ],
   "metadata": {
    "collapsed": false,
    "pycharm": {
     "name": "#%%\n"
    }
   }
  },
  {
   "cell_type": "markdown",
   "source": [
    "### Evaluation"
   ],
   "metadata": {
    "collapsed": false
   }
  },
  {
   "cell_type": "code",
   "execution_count": 46,
   "outputs": [
    {
     "name": "stdout",
     "output_type": "stream",
     "text": [
      "True:\n",
      "tensor([0.3000, 0.8000, 1.0000, 1.0000, 1.0000, 1.0000, 1.0000, 1.0000],\n",
      "       device='cuda:0')\n",
      "Predicted:\n",
      "tensor([0.2478, 0.4899, 0.7608, 0.9590, 1.0000, 1.0000, 1.0000, 1.0000],\n",
      "       device='cuda:0')\n",
      " \n",
      "True:\n",
      "tensor([0.3200, 0.4700, 0.6000, 0.8300, 1.0000, 1.0000, 1.0000, 1.0000],\n",
      "       device='cuda:0')\n",
      "Predicted:\n",
      "tensor([0.2751, 0.4863, 0.7423, 0.9289, 1.0000, 1.0000, 1.0000, 1.0000],\n",
      "       device='cuda:0')\n",
      " \n",
      "True:\n",
      "tensor([0.1000, 0.2000, 0.4000, 0.4800, 0.7100, 1.0000, 1.0000, 1.0000],\n",
      "       device='cuda:0')\n",
      "Predicted:\n",
      "tensor([0.2320, 0.5142, 0.8208, 1.0000, 1.0000, 1.0000, 1.0000, 1.0000],\n",
      "       device='cuda:0')\n",
      " \n",
      "True:\n",
      "tensor([0.2800, 0.5000, 1.0000, 1.0000, 1.0000, 1.0000, 1.0000, 1.0000],\n",
      "       device='cuda:0')\n",
      "Predicted:\n",
      "tensor([0.2750, 0.4838, 0.7382, 0.9241, 1.0000, 1.0000, 1.0000, 1.0000],\n",
      "       device='cuda:0')\n",
      " \n",
      "True:\n",
      "tensor([0.3000, 0.5400, 0.7000, 1.0000, 1.0000, 1.0000, 1.0000, 1.0000],\n",
      "       device='cuda:0')\n",
      "Predicted:\n",
      "tensor([0.2514, 0.4789, 0.7478, 0.9487, 1.0000, 1.0000, 1.0000, 1.0000],\n",
      "       device='cuda:0')\n",
      " \n",
      "True:\n",
      "tensor([0.1000, 0.1800, 0.4600, 0.9600, 1.0000, 1.0000, 1.0000, 1.0000],\n",
      "       device='cuda:0')\n",
      "Predicted:\n",
      "tensor([0.2235, 0.4594, 0.7411, 0.9581, 1.0000, 1.0000, 1.0000, 1.0000],\n",
      "       device='cuda:0')\n",
      " \n",
      "True:\n",
      "tensor([0.3400, 0.7000, 1.0000, 1.0000, 1.0000, 1.0000, 1.0000, 1.0000],\n",
      "       device='cuda:0')\n",
      "Predicted:\n",
      "tensor([0.2790, 0.5404, 0.8074, 0.9875, 1.0000, 1.0000, 1.0000, 1.0000],\n",
      "       device='cuda:0')\n",
      " \n",
      "True:\n",
      "tensor([0.3200, 0.4800, 0.6800, 1.0000, 1.0000, 1.0000, 1.0000, 1.0000],\n",
      "       device='cuda:0')\n",
      "Predicted:\n",
      "tensor([0.2738, 0.4778, 0.7289, 0.9141, 1.0000, 1.0000, 1.0000, 1.0000],\n",
      "       device='cuda:0')\n",
      " \n",
      "True:\n",
      "tensor([0.3400, 0.4800, 0.6300, 0.8000, 1.0000, 1.0000, 1.0000, 1.0000],\n",
      "       device='cuda:0')\n",
      "Predicted:\n",
      "tensor([0.2814, 0.5021, 0.7624, 0.9479, 1.0000, 1.0000, 1.0000, 1.0000],\n",
      "       device='cuda:0')\n",
      " \n",
      "True:\n",
      "tensor([0.3000, 0.5400, 0.9500, 1.0000, 1.0000, 1.0000, 1.0000, 1.0000],\n",
      "       device='cuda:0')\n",
      "Predicted:\n",
      "tensor([0.2777, 0.4823, 0.7327, 0.9158, 1.0000, 1.0000, 1.0000, 1.0000],\n",
      "       device='cuda:0')\n",
      " \n",
      "True:\n",
      "tensor([0.2700, 0.4700, 0.6800, 0.8500, 1.0000, 1.0000, 1.0000, 1.0000],\n",
      "       device='cuda:0')\n",
      "Predicted:\n",
      "tensor([0.2775, 0.5552, 0.8376, 1.0000, 1.0000, 1.0000, 1.0000, 1.0000],\n",
      "       device='cuda:0')\n",
      " \n",
      "True:\n",
      "tensor([0.2000, 1.0000, 1.0000, 1.0000, 1.0000, 1.0000, 1.0000, 1.0000],\n",
      "       device='cuda:0')\n",
      "Predicted:\n",
      "tensor([0.2296, 0.4911, 0.7847, 1.0000, 1.0000, 1.0000, 1.0000, 1.0000],\n",
      "       device='cuda:0')\n",
      " \n",
      "True:\n",
      "tensor([0.4200, 0.4800, 0.6000, 0.9000, 1.0000, 1.0000, 1.0000, 1.0000],\n",
      "       device='cuda:0')\n",
      "Predicted:\n",
      "tensor([0.2804, 0.4917, 0.7460, 0.9295, 1.0000, 1.0000, 1.0000, 1.0000],\n",
      "       device='cuda:0')\n",
      " \n",
      "True:\n",
      "tensor([0.3000, 0.4800, 0.9700, 1.0000, 1.0000, 1.0000, 1.0000, 1.0000],\n",
      "       device='cuda:0')\n",
      "Predicted:\n",
      "tensor([0.1898, 0.4036, 0.6731, 0.8989, 1.0000, 1.0000, 1.0000, 1.0000],\n",
      "       device='cuda:0')\n",
      " \n",
      "True:\n",
      "tensor([0.3000, 0.5000, 0.6600, 1.0000, 1.0000, 1.0000, 1.0000, 1.0000],\n",
      "       device='cuda:0')\n",
      "Predicted:\n",
      "tensor([0.1953, 0.4451, 0.7479, 0.9860, 1.0000, 1.0000, 1.0000, 1.0000],\n",
      "       device='cuda:0')\n",
      " \n",
      "True:\n",
      "tensor([0.2000, 0.3300, 0.5000, 1.0000, 1.0000, 1.0000, 1.0000, 1.0000],\n",
      "       device='cuda:0')\n",
      "Predicted:\n",
      "tensor([0.2247, 0.4518, 0.7230, 0.9333, 1.0000, 1.0000, 1.0000, 1.0000],\n",
      "       device='cuda:0')\n",
      " \n",
      "True:\n",
      "tensor([0.2800, 0.8500, 1.0000, 1.0000, 1.0000, 1.0000, 1.0000, 1.0000],\n",
      "       device='cuda:0')\n",
      "Predicted:\n",
      "tensor([0.2739, 0.4800, 0.7327, 0.9185, 1.0000, 1.0000, 1.0000, 1.0000],\n",
      "       device='cuda:0')\n",
      " \n",
      "True:\n",
      "tensor([0.3400, 0.7400, 1.0000, 1.0000, 1.0000, 1.0000, 1.0000, 1.0000],\n",
      "       device='cuda:0')\n",
      "Predicted:\n",
      "tensor([0.1816, 0.4062, 0.6903, 0.9265, 1.0000, 1.0000, 1.0000, 1.0000],\n",
      "       device='cuda:0')\n",
      " \n",
      "True:\n",
      "tensor([0.3400, 0.4600, 1.0000, 1.0000, 1.0000, 1.0000, 1.0000, 1.0000],\n",
      "       device='cuda:0')\n",
      "Predicted:\n",
      "tensor([0.2751, 0.4861, 0.7421, 0.9287, 1.0000, 1.0000, 1.0000, 1.0000],\n",
      "       device='cuda:0')\n",
      " \n",
      "True:\n",
      "tensor([0.0800, 0.3100, 0.5100, 0.6800, 1.0000, 1.0000, 1.0000, 1.0000],\n",
      "       device='cuda:0')\n",
      "Predicted:\n",
      "tensor([0.2353, 0.4753, 0.7423, 0.9418, 1.0000, 1.0000, 1.0000, 1.0000],\n",
      "       device='cuda:0')\n",
      " \n",
      "True:\n",
      "tensor([0.3000, 0.7000, 1.0000, 1.0000, 1.0000, 1.0000, 1.0000, 1.0000],\n",
      "       device='cuda:0')\n",
      "Predicted:\n",
      "tensor([0.2487, 0.4929, 0.7702, 0.9734, 1.0000, 1.0000, 1.0000, 1.0000],\n",
      "       device='cuda:0')\n",
      " \n",
      "True:\n",
      "tensor([0.1100, 0.2300, 0.7400, 1.0000, 1.0000, 1.0000, 1.0000, 1.0000],\n",
      "       device='cuda:0')\n",
      "Predicted:\n",
      "tensor([0.3019, 0.5750, 0.8581, 1.0000, 1.0000, 1.0000, 1.0000, 1.0000],\n",
      "       device='cuda:0')\n",
      " \n",
      "True:\n",
      "tensor([0.3000, 0.4000, 0.6000, 0.8000, 0.9000, 1.0000, 1.0000, 1.0000],\n",
      "       device='cuda:0')\n",
      "Predicted:\n",
      "tensor([0.2321, 0.5140, 0.8261, 1.0000, 1.0000, 1.0000, 1.0000, 1.0000],\n",
      "       device='cuda:0')\n",
      " \n",
      "True:\n",
      "tensor([0.1200, 0.2600, 0.4700, 0.6900, 0.9000, 1.0000, 1.0000, 1.0000],\n",
      "       device='cuda:0')\n",
      "Predicted:\n",
      "tensor([0.2422, 0.5062, 0.7956, 1.0000, 1.0000, 1.0000, 1.0000, 1.0000],\n",
      "       device='cuda:0')\n",
      " \n",
      "True:\n",
      "tensor([0.3300, 0.4800, 0.6600, 0.9600, 1.0000, 1.0000, 1.0000, 1.0000],\n",
      "       device='cuda:0')\n",
      "Predicted:\n",
      "tensor([0.2458, 0.5242, 0.8214, 1.0000, 1.0000, 1.0000, 1.0000, 1.0000],\n",
      "       device='cuda:0')\n",
      " \n",
      "True:\n",
      "tensor([0.3300, 0.5400, 0.8000, 1.0000, 1.0000, 1.0000, 1.0000, 1.0000],\n",
      "       device='cuda:0')\n",
      "Predicted:\n",
      "tensor([0.2969, 0.5717, 0.8559, 1.0000, 1.0000, 1.0000, 1.0000, 1.0000],\n",
      "       device='cuda:0')\n",
      " \n",
      "True:\n",
      "tensor([0.2000, 0.6600, 1.0000, 1.0000, 1.0000, 1.0000, 1.0000, 1.0000],\n",
      "       device='cuda:0')\n",
      "Predicted:\n",
      "tensor([0.2505, 0.5081, 0.7768, 0.9677, 1.0000, 1.0000, 1.0000, 1.0000],\n",
      "       device='cuda:0')\n",
      " \n",
      "True:\n",
      "tensor([0.3800, 1.0000, 1.0000, 1.0000, 1.0000, 1.0000, 1.0000, 1.0000],\n",
      "       device='cuda:0')\n",
      "Predicted:\n",
      "tensor([0.3093, 0.6014, 0.8859, 1.0000, 1.0000, 1.0000, 1.0000, 1.0000],\n",
      "       device='cuda:0')\n",
      " \n",
      "True:\n",
      "tensor([0.2800, 0.4000, 0.6000, 1.0000, 1.0000, 1.0000, 1.0000, 1.0000],\n",
      "       device='cuda:0')\n",
      "Predicted:\n",
      "tensor([0.2762, 0.5398, 0.8293, 1.0000, 1.0000, 1.0000, 1.0000, 1.0000],\n",
      "       device='cuda:0')\n",
      " \n",
      "True:\n",
      "tensor([0.1000, 0.3100, 0.8000, 1.0000, 1.0000, 1.0000, 1.0000, 1.0000],\n",
      "       device='cuda:0')\n",
      "Predicted:\n",
      "tensor([0.3018, 0.5552, 0.8266, 1.0000, 1.0000, 1.0000, 1.0000, 1.0000],\n",
      "       device='cuda:0')\n",
      " \n",
      "True:\n",
      "tensor([0.5800, 0.7000, 1.0000, 1.0000, 1.0000, 1.0000, 1.0000, 1.0000],\n",
      "       device='cuda:0')\n",
      "Predicted:\n",
      "tensor([0.2952, 0.5401, 0.8115, 1.0000, 1.0000, 1.0000, 1.0000, 1.0000],\n",
      "       device='cuda:0')\n",
      " \n",
      "True:\n",
      "tensor([0.1400, 0.2800, 0.7400, 1.0000, 1.0000, 1.0000, 1.0000, 1.0000],\n",
      "       device='cuda:0')\n",
      "Predicted:\n",
      "tensor([0.2572, 0.5299, 0.8198, 1.0000, 1.0000, 1.0000, 1.0000, 1.0000],\n",
      "       device='cuda:0')\n",
      " \n",
      "True:\n",
      "tensor([0.1000, 0.2800, 0.5000, 1.0000, 1.0000, 1.0000, 1.0000, 1.0000],\n",
      "       device='cuda:0')\n",
      "Predicted:\n",
      "tensor([0.2801, 0.5488, 0.8319, 1.0000, 1.0000, 1.0000, 1.0000, 1.0000],\n",
      "       device='cuda:0')\n",
      " \n",
      "True:\n",
      "tensor([0.1200, 0.4800, 0.5800, 0.8200, 1.0000, 1.0000, 1.0000, 1.0000],\n",
      "       device='cuda:0')\n",
      "Predicted:\n",
      "tensor([0.1648, 0.3786, 0.6625, 0.9120, 1.0000, 1.0000, 1.0000, 1.0000],\n",
      "       device='cuda:0')\n",
      " \n",
      "True:\n",
      "tensor([0.1000, 0.3400, 0.7200, 1.0000, 1.0000, 1.0000, 1.0000, 1.0000],\n",
      "       device='cuda:0')\n",
      "Predicted:\n",
      "tensor([0.1755, 0.3919, 0.6731, 0.9124, 1.0000, 1.0000, 1.0000, 1.0000],\n",
      "       device='cuda:0')\n",
      " \n",
      "True:\n",
      "tensor([0.4000, 0.7000, 0.9200, 1.0000, 1.0000, 1.0000, 1.0000, 1.0000],\n",
      "       device='cuda:0')\n",
      "Predicted:\n",
      "tensor([0.2842, 0.5737, 0.8628, 1.0000, 1.0000, 1.0000, 1.0000, 1.0000],\n",
      "       device='cuda:0')\n",
      " \n",
      "True:\n",
      "tensor([0.2600, 0.4700, 0.7200, 1.0000, 1.0000, 1.0000, 1.0000, 1.0000],\n",
      "       device='cuda:0')\n",
      "Predicted:\n",
      "tensor([0.2216, 0.4841, 0.7819, 1.0000, 1.0000, 1.0000, 1.0000, 1.0000],\n",
      "       device='cuda:0')\n",
      " \n",
      "True:\n",
      "tensor([0.3000, 0.5000, 0.7400, 1.0000, 1.0000, 1.0000, 1.0000, 1.0000],\n",
      "       device='cuda:0')\n",
      "Predicted:\n",
      "tensor([0.2892, 0.5142, 0.7747, 0.9571, 1.0000, 1.0000, 1.0000, 1.0000],\n",
      "       device='cuda:0')\n",
      " \n",
      "True:\n",
      "tensor([0.0900, 0.3100, 0.6700, 0.8800, 1.0000, 1.0000, 1.0000, 1.0000],\n",
      "       device='cuda:0')\n",
      "Predicted:\n",
      "tensor([0.2872, 0.5183, 0.7848, 0.9709, 1.0000, 1.0000, 1.0000, 1.0000],\n",
      "       device='cuda:0')\n",
      " \n",
      "True:\n",
      "tensor([0.2800, 0.4800, 0.7000, 0.9600, 1.0000, 1.0000, 1.0000, 1.0000],\n",
      "       device='cuda:0')\n",
      "Predicted:\n",
      "tensor([0.2817, 0.5774, 0.8685, 1.0000, 1.0000, 1.0000, 1.0000, 1.0000],\n",
      "       device='cuda:0')\n",
      " \n",
      "True:\n",
      "tensor([0.1200, 0.3000, 0.4000, 0.7000, 1.0000, 1.0000, 1.0000, 1.0000],\n",
      "       device='cuda:0')\n",
      "Predicted:\n",
      "tensor([0.1871, 0.4158, 0.7047, 0.9414, 1.0000, 1.0000, 1.0000, 1.0000],\n",
      "       device='cuda:0')\n",
      " \n",
      "True:\n",
      "tensor([0.3000, 0.4900, 1.0000, 1.0000, 1.0000, 1.0000, 1.0000, 1.0000],\n",
      "       device='cuda:0')\n",
      "Predicted:\n",
      "tensor([0.2555, 0.5277, 0.8156, 1.0000, 1.0000, 1.0000, 1.0000, 1.0000],\n",
      "       device='cuda:0')\n",
      " \n",
      "True:\n",
      "tensor([0.1000, 0.2600, 0.6700, 0.8800, 1.0000, 1.0000, 1.0000, 1.0000],\n",
      "       device='cuda:0')\n",
      "Predicted:\n",
      "tensor([0.2788, 0.4881, 0.7415, 0.9253, 1.0000, 1.0000, 1.0000, 1.0000],\n",
      "       device='cuda:0')\n",
      " \n",
      "True:\n",
      "tensor([0.0600, 0.3300, 0.4600, 0.6600, 0.9000, 1.0000, 1.0000, 1.0000],\n",
      "       device='cuda:0')\n",
      "Predicted:\n",
      "tensor([0.2686, 0.5234, 0.7879, 0.9692, 1.0000, 1.0000, 1.0000, 1.0000],\n",
      "       device='cuda:0')\n",
      " \n",
      "True:\n",
      "tensor([0.0800, 0.2900, 0.5000, 0.8500, 1.0000, 1.0000, 1.0000, 1.0000],\n",
      "       device='cuda:0')\n",
      "Predicted:\n",
      "tensor([0.2608, 0.5537, 0.8571, 1.0000, 1.0000, 1.0000, 1.0000, 1.0000],\n",
      "       device='cuda:0')\n",
      " \n",
      "True:\n",
      "tensor([0.2000, 0.3000, 0.4600, 0.9600, 1.0000, 1.0000, 1.0000, 1.0000],\n",
      "       device='cuda:0')\n",
      "Predicted:\n",
      "tensor([0.2864, 0.5109, 0.7724, 0.9565, 1.0000, 1.0000, 1.0000, 1.0000],\n",
      "       device='cuda:0')\n",
      " \n",
      "True:\n",
      "tensor([0.3400, 0.5400, 0.8800, 1.0000, 1.0000, 1.0000, 1.0000, 1.0000],\n",
      "       device='cuda:0')\n",
      "Predicted:\n",
      "tensor([0.2753, 0.5045, 0.7733, 0.9652, 1.0000, 1.0000, 1.0000, 1.0000],\n",
      "       device='cuda:0')\n",
      " \n",
      "True:\n",
      "tensor([0.3200, 0.7200, 1.0000, 1.0000, 1.0000, 1.0000, 1.0000, 1.0000],\n",
      "       device='cuda:0')\n",
      "Predicted:\n",
      "tensor([0.2782, 0.4926, 0.7502, 0.9365, 1.0000, 1.0000, 1.0000, 1.0000],\n",
      "       device='cuda:0')\n",
      " \n",
      "True:\n",
      "tensor([0.3000, 0.5000, 0.7000, 1.0000, 1.0000, 1.0000, 1.0000, 1.0000],\n",
      "       device='cuda:0')\n",
      "Predicted:\n",
      "tensor([0.2635, 0.5255, 0.8024, 1.0000, 1.0000, 1.0000, 1.0000, 1.0000],\n",
      "       device='cuda:0')\n",
      " \n",
      "True:\n",
      "tensor([0.3000, 0.4600, 0.9700, 1.0000, 1.0000, 1.0000, 1.0000, 1.0000],\n",
      "       device='cuda:0')\n",
      "Predicted:\n",
      "tensor([0.2868, 0.5106, 0.7715, 0.9552, 1.0000, 1.0000, 1.0000, 1.0000],\n",
      "       device='cuda:0')\n",
      " \n",
      "True:\n",
      "tensor([0.3000, 1.0000, 1.0000, 1.0000, 1.0000, 1.0000, 1.0000, 1.0000],\n",
      "       device='cuda:0')\n",
      "Predicted:\n",
      "tensor([0.3054, 0.5924, 0.8744, 1.0000, 1.0000, 1.0000, 1.0000, 1.0000],\n",
      "       device='cuda:0')\n",
      " \n",
      "True:\n",
      "tensor([0.3400, 0.4000, 0.5400, 0.7000, 1.0000, 1.0000, 1.0000, 1.0000],\n",
      "       device='cuda:0')\n",
      "Predicted:\n",
      "tensor([0.2764, 0.4807, 0.7313, 0.9151, 1.0000, 1.0000, 1.0000, 1.0000],\n",
      "       device='cuda:0')\n",
      " \n",
      "True:\n",
      "tensor([0.3400, 0.5300, 0.7000, 1.0000, 1.0000, 1.0000, 1.0000, 1.0000],\n",
      "       device='cuda:0')\n",
      "Predicted:\n",
      "tensor([0.2283, 0.4936, 0.7872, 1.0000, 1.0000, 1.0000, 1.0000, 1.0000],\n",
      "       device='cuda:0')\n",
      " \n",
      "True:\n",
      "tensor([0.4100, 0.6600, 0.8000, 1.0000, 1.0000, 1.0000, 1.0000, 1.0000],\n",
      "       device='cuda:0')\n",
      "Predicted:\n",
      "tensor([0.3044, 0.5743, 0.8525, 1.0000, 1.0000, 1.0000, 1.0000, 1.0000],\n",
      "       device='cuda:0')\n",
      " \n",
      "True:\n",
      "tensor([0.3300, 0.4000, 0.5300, 0.8000, 1.0000, 1.0000, 1.0000, 1.0000],\n",
      "       device='cuda:0')\n",
      "Predicted:\n",
      "tensor([0.2599, 0.5365, 0.8290, 1.0000, 1.0000, 1.0000, 1.0000, 1.0000],\n",
      "       device='cuda:0')\n",
      " \n",
      "True:\n",
      "tensor([0.3300, 0.5200, 1.0000, 1.0000, 1.0000, 1.0000, 1.0000, 1.0000],\n",
      "       device='cuda:0')\n",
      "Predicted:\n",
      "tensor([0.2842, 0.5326, 0.8044, 1.0000, 1.0000, 1.0000, 1.0000, 1.0000],\n",
      "       device='cuda:0')\n",
      " \n",
      "True:\n",
      "tensor([0.3400, 1.0000, 1.0000, 1.0000, 1.0000, 1.0000, 1.0000, 1.0000],\n",
      "       device='cuda:0')\n",
      "Predicted:\n",
      "tensor([0.2890, 0.5157, 0.7777, 0.9608, 1.0000, 1.0000, 1.0000, 1.0000],\n",
      "       device='cuda:0')\n",
      " \n",
      "True:\n",
      "tensor([0.1500, 0.3400, 1.0000, 1.0000, 1.0000, 1.0000, 1.0000, 1.0000],\n",
      "       device='cuda:0')\n",
      "Predicted:\n",
      "tensor([0.1651, 0.3771, 0.6592, 0.9070, 1.0000, 1.0000, 1.0000, 1.0000],\n",
      "       device='cuda:0')\n",
      " \n",
      "True:\n",
      "tensor([0.1200, 0.2800, 0.7200, 1.0000, 1.0000, 1.0000, 1.0000, 1.0000],\n",
      "       device='cuda:0')\n",
      "Predicted:\n",
      "tensor([0.2514, 0.5294, 0.8238, 1.0000, 1.0000, 1.0000, 1.0000, 1.0000],\n",
      "       device='cuda:0')\n",
      " \n",
      "True:\n",
      "tensor([0.4000, 0.5000, 0.6700, 1.0000, 1.0000, 1.0000, 1.0000, 1.0000],\n",
      "       device='cuda:0')\n",
      "Predicted:\n",
      "tensor([0.2729, 0.4845, 0.7415, 0.9294, 1.0000, 1.0000, 1.0000, 1.0000],\n",
      "       device='cuda:0')\n",
      " \n",
      "True:\n",
      "tensor([0.3400, 0.6600, 1.0000, 1.0000, 1.0000, 1.0000, 1.0000, 1.0000],\n",
      "       device='cuda:0')\n",
      "Predicted:\n",
      "tensor([0.2146, 0.4691, 0.7670, 1.0000, 1.0000, 1.0000, 1.0000, 1.0000],\n",
      "       device='cuda:0')\n",
      " \n",
      "True:\n",
      "tensor([0.3200, 0.4800, 0.6800, 1.0000, 1.0000, 1.0000, 1.0000, 1.0000],\n",
      "       device='cuda:0')\n",
      "Predicted:\n",
      "tensor([0.2553, 0.5248, 0.8128, 1.0000, 1.0000, 1.0000, 1.0000, 1.0000],\n",
      "       device='cuda:0')\n",
      " \n",
      "True:\n",
      "tensor([0.1000, 0.2000, 0.4500, 1.0000, 1.0000, 1.0000, 1.0000, 1.0000],\n",
      "       device='cuda:0')\n",
      "Predicted:\n",
      "tensor([0.2161, 0.4790, 0.7754, 1.0000, 1.0000, 1.0000, 1.0000, 1.0000],\n",
      "       device='cuda:0')\n",
      " \n",
      "True:\n",
      "tensor([0.1000, 0.3000, 0.6000, 0.8000, 0.9000, 1.0000, 1.0000, 1.0000],\n",
      "       device='cuda:0')\n",
      "Predicted:\n",
      "tensor([0.1928, 0.4408, 0.7411, 0.9798, 1.0000, 1.0000, 1.0000, 1.0000],\n",
      "       device='cuda:0')\n",
      " \n"
     ]
    }
   ],
   "source": [
    "# LSTM\n",
    "for true_dep, pred_dep in zip(padded_true_depths, pred_depths):\n",
    "    print('True:')\n",
    "    print(true_dep)\n",
    "    print('Predicted:')\n",
    "    print(pred_dep)\n",
    "    print(' ')"
   ],
   "metadata": {
    "collapsed": false,
    "pycharm": {
     "name": "#%%\n"
    }
   }
  },
  {
   "cell_type": "code",
   "execution_count": 47,
   "outputs": [
    {
     "data": {
      "text/plain": "<Figure size 1512x432 with 1 Axes>",
      "image/svg+xml": "<?xml version=\"1.0\" encoding=\"utf-8\" standalone=\"no\"?>\n<!DOCTYPE svg PUBLIC \"-//W3C//DTD SVG 1.1//EN\"\n  \"http://www.w3.org/Graphics/SVG/1.1/DTD/svg11.dtd\">\n<svg xmlns:xlink=\"http://www.w3.org/1999/xlink\" width=\"411pt\" height=\"423.274375pt\" viewBox=\"0 0 411 423.274375\" xmlns=\"http://www.w3.org/2000/svg\" version=\"1.1\">\n <metadata>\n  <rdf:RDF xmlns:dc=\"http://purl.org/dc/elements/1.1/\" xmlns:cc=\"http://creativecommons.org/ns#\" xmlns:rdf=\"http://www.w3.org/1999/02/22-rdf-syntax-ns#\">\n   <cc:Work>\n    <dc:type rdf:resource=\"http://purl.org/dc/dcmitype/StillImage\"/>\n    <dc:date>2025-01-30T20:07:45.981091</dc:date>\n    <dc:format>image/svg+xml</dc:format>\n    <dc:creator>\n     <cc:Agent>\n      <dc:title>Matplotlib v3.5.1, https://matplotlib.org/</dc:title>\n     </cc:Agent>\n    </dc:creator>\n   </cc:Work>\n  </rdf:RDF>\n </metadata>\n <defs>\n  <style type=\"text/css\">*{stroke-linejoin: round; stroke-linecap: butt}</style>\n </defs>\n <g id=\"figure_1\">\n  <g id=\"patch_1\">\n   <path d=\"M 0 423.274375 \nL 411 423.274375 \nL 411 0 \nL 0 0 \nL 0 423.274375 \nz\n\" style=\"fill: none\"/>\n  </g>\n  <g id=\"axes_1\">\n   <g id=\"patch_2\">\n    <path d=\"M 50.14375 385.718125 \nL 403.8 385.718125 \nL 403.8 22.318125 \nL 50.14375 22.318125 \nz\n\" style=\"fill: #ffffff\"/>\n   </g>\n   <g id=\"matplotlib.axis_1\">\n    <g id=\"xtick_1\">\n     <g id=\"line2d_1\">\n      <path d=\"M 87.652746 385.718125 \nL 87.652746 22.318125 \n\" clip-path=\"url(#p85c25f0b53)\" style=\"fill: none; stroke: #b0b0b0; stroke-width: 0.8; stroke-linecap: square\"/>\n     </g>\n     <g id=\"line2d_2\">\n      <defs>\n       <path id=\"m90f8ee4df8\" d=\"M 0 0 \nL 0 3.5 \n\" style=\"stroke: #000000; stroke-width: 0.8\"/>\n      </defs>\n      <g>\n       <use xlink:href=\"#m90f8ee4df8\" x=\"87.652746\" y=\"385.718125\" style=\"stroke: #000000; stroke-width: 0.8\"/>\n      </g>\n     </g>\n     <g id=\"text_1\">\n      <!-- 2 -->\n      <g transform=\"translate(84.471496 400.316562)scale(0.1 -0.1)\">\n       <defs>\n        <path id=\"DejaVuSans-32\" d=\"M 1228 531 \nL 3431 531 \nL 3431 0 \nL 469 0 \nL 469 531 \nQ 828 903 1448 1529 \nQ 2069 2156 2228 2338 \nQ 2531 2678 2651 2914 \nQ 2772 3150 2772 3378 \nQ 2772 3750 2511 3984 \nQ 2250 4219 1831 4219 \nQ 1534 4219 1204 4116 \nQ 875 4013 500 3803 \nL 500 4441 \nQ 881 4594 1212 4672 \nQ 1544 4750 1819 4750 \nQ 2544 4750 2975 4387 \nQ 3406 4025 3406 3419 \nQ 3406 3131 3298 2873 \nQ 3191 2616 2906 2266 \nQ 2828 2175 2409 1742 \nQ 1991 1309 1228 531 \nz\n\" transform=\"scale(0.015625)\"/>\n       </defs>\n       <use xlink:href=\"#DejaVuSans-32\"/>\n      </g>\n     </g>\n    </g>\n    <g id=\"xtick_2\">\n     <g id=\"line2d_3\">\n      <path d=\"M 130.52017 385.718125 \nL 130.52017 22.318125 \n\" clip-path=\"url(#p85c25f0b53)\" style=\"fill: none; stroke: #b0b0b0; stroke-width: 0.8; stroke-linecap: square\"/>\n     </g>\n     <g id=\"line2d_4\">\n      <g>\n       <use xlink:href=\"#m90f8ee4df8\" x=\"130.52017\" y=\"385.718125\" style=\"stroke: #000000; stroke-width: 0.8\"/>\n      </g>\n     </g>\n     <g id=\"text_2\">\n      <!-- 4 -->\n      <g transform=\"translate(127.33892 400.316562)scale(0.1 -0.1)\">\n       <defs>\n        <path id=\"DejaVuSans-34\" d=\"M 2419 4116 \nL 825 1625 \nL 2419 1625 \nL 2419 4116 \nz\nM 2253 4666 \nL 3047 4666 \nL 3047 1625 \nL 3713 1625 \nL 3713 1100 \nL 3047 1100 \nL 3047 0 \nL 2419 0 \nL 2419 1100 \nL 313 1100 \nL 313 1709 \nL 2253 4666 \nz\n\" transform=\"scale(0.015625)\"/>\n       </defs>\n       <use xlink:href=\"#DejaVuSans-34\"/>\n      </g>\n     </g>\n    </g>\n    <g id=\"xtick_3\">\n     <g id=\"line2d_5\">\n      <path d=\"M 173.387595 385.718125 \nL 173.387595 22.318125 \n\" clip-path=\"url(#p85c25f0b53)\" style=\"fill: none; stroke: #b0b0b0; stroke-width: 0.8; stroke-linecap: square\"/>\n     </g>\n     <g id=\"line2d_6\">\n      <g>\n       <use xlink:href=\"#m90f8ee4df8\" x=\"173.387595\" y=\"385.718125\" style=\"stroke: #000000; stroke-width: 0.8\"/>\n      </g>\n     </g>\n     <g id=\"text_3\">\n      <!-- 6 -->\n      <g transform=\"translate(170.206345 400.316562)scale(0.1 -0.1)\">\n       <defs>\n        <path id=\"DejaVuSans-36\" d=\"M 2113 2584 \nQ 1688 2584 1439 2293 \nQ 1191 2003 1191 1497 \nQ 1191 994 1439 701 \nQ 1688 409 2113 409 \nQ 2538 409 2786 701 \nQ 3034 994 3034 1497 \nQ 3034 2003 2786 2293 \nQ 2538 2584 2113 2584 \nz\nM 3366 4563 \nL 3366 3988 \nQ 3128 4100 2886 4159 \nQ 2644 4219 2406 4219 \nQ 1781 4219 1451 3797 \nQ 1122 3375 1075 2522 \nQ 1259 2794 1537 2939 \nQ 1816 3084 2150 3084 \nQ 2853 3084 3261 2657 \nQ 3669 2231 3669 1497 \nQ 3669 778 3244 343 \nQ 2819 -91 2113 -91 \nQ 1303 -91 875 529 \nQ 447 1150 447 2328 \nQ 447 3434 972 4092 \nQ 1497 4750 2381 4750 \nQ 2619 4750 2861 4703 \nQ 3103 4656 3366 4563 \nz\n\" transform=\"scale(0.015625)\"/>\n       </defs>\n       <use xlink:href=\"#DejaVuSans-36\"/>\n      </g>\n     </g>\n    </g>\n    <g id=\"xtick_4\">\n     <g id=\"line2d_7\">\n      <path d=\"M 216.255019 385.718125 \nL 216.255019 22.318125 \n\" clip-path=\"url(#p85c25f0b53)\" style=\"fill: none; stroke: #b0b0b0; stroke-width: 0.8; stroke-linecap: square\"/>\n     </g>\n     <g id=\"line2d_8\">\n      <g>\n       <use xlink:href=\"#m90f8ee4df8\" x=\"216.255019\" y=\"385.718125\" style=\"stroke: #000000; stroke-width: 0.8\"/>\n      </g>\n     </g>\n     <g id=\"text_4\">\n      <!-- 8 -->\n      <g transform=\"translate(213.073769 400.316562)scale(0.1 -0.1)\">\n       <defs>\n        <path id=\"DejaVuSans-38\" d=\"M 2034 2216 \nQ 1584 2216 1326 1975 \nQ 1069 1734 1069 1313 \nQ 1069 891 1326 650 \nQ 1584 409 2034 409 \nQ 2484 409 2743 651 \nQ 3003 894 3003 1313 \nQ 3003 1734 2745 1975 \nQ 2488 2216 2034 2216 \nz\nM 1403 2484 \nQ 997 2584 770 2862 \nQ 544 3141 544 3541 \nQ 544 4100 942 4425 \nQ 1341 4750 2034 4750 \nQ 2731 4750 3128 4425 \nQ 3525 4100 3525 3541 \nQ 3525 3141 3298 2862 \nQ 3072 2584 2669 2484 \nQ 3125 2378 3379 2068 \nQ 3634 1759 3634 1313 \nQ 3634 634 3220 271 \nQ 2806 -91 2034 -91 \nQ 1263 -91 848 271 \nQ 434 634 434 1313 \nQ 434 1759 690 2068 \nQ 947 2378 1403 2484 \nz\nM 1172 3481 \nQ 1172 3119 1398 2916 \nQ 1625 2713 2034 2713 \nQ 2441 2713 2670 2916 \nQ 2900 3119 2900 3481 \nQ 2900 3844 2670 4047 \nQ 2441 4250 2034 4250 \nQ 1625 4250 1398 4047 \nQ 1172 3844 1172 3481 \nz\n\" transform=\"scale(0.015625)\"/>\n       </defs>\n       <use xlink:href=\"#DejaVuSans-38\"/>\n      </g>\n     </g>\n    </g>\n    <g id=\"xtick_5\">\n     <g id=\"line2d_9\">\n      <path d=\"M 259.122443 385.718125 \nL 259.122443 22.318125 \n\" clip-path=\"url(#p85c25f0b53)\" style=\"fill: none; stroke: #b0b0b0; stroke-width: 0.8; stroke-linecap: square\"/>\n     </g>\n     <g id=\"line2d_10\">\n      <g>\n       <use xlink:href=\"#m90f8ee4df8\" x=\"259.122443\" y=\"385.718125\" style=\"stroke: #000000; stroke-width: 0.8\"/>\n      </g>\n     </g>\n     <g id=\"text_5\">\n      <!-- 10 -->\n      <g transform=\"translate(252.759943 400.316562)scale(0.1 -0.1)\">\n       <defs>\n        <path id=\"DejaVuSans-31\" d=\"M 794 531 \nL 1825 531 \nL 1825 4091 \nL 703 3866 \nL 703 4441 \nL 1819 4666 \nL 2450 4666 \nL 2450 531 \nL 3481 531 \nL 3481 0 \nL 794 0 \nL 794 531 \nz\n\" transform=\"scale(0.015625)\"/>\n        <path id=\"DejaVuSans-30\" d=\"M 2034 4250 \nQ 1547 4250 1301 3770 \nQ 1056 3291 1056 2328 \nQ 1056 1369 1301 889 \nQ 1547 409 2034 409 \nQ 2525 409 2770 889 \nQ 3016 1369 3016 2328 \nQ 3016 3291 2770 3770 \nQ 2525 4250 2034 4250 \nz\nM 2034 4750 \nQ 2819 4750 3233 4129 \nQ 3647 3509 3647 2328 \nQ 3647 1150 3233 529 \nQ 2819 -91 2034 -91 \nQ 1250 -91 836 529 \nQ 422 1150 422 2328 \nQ 422 3509 836 4129 \nQ 1250 4750 2034 4750 \nz\n\" transform=\"scale(0.015625)\"/>\n       </defs>\n       <use xlink:href=\"#DejaVuSans-31\"/>\n       <use xlink:href=\"#DejaVuSans-30\" x=\"63.623047\"/>\n      </g>\n     </g>\n    </g>\n    <g id=\"xtick_6\">\n     <g id=\"line2d_11\">\n      <path d=\"M 301.989867 385.718125 \nL 301.989867 22.318125 \n\" clip-path=\"url(#p85c25f0b53)\" style=\"fill: none; stroke: #b0b0b0; stroke-width: 0.8; stroke-linecap: square\"/>\n     </g>\n     <g id=\"line2d_12\">\n      <g>\n       <use xlink:href=\"#m90f8ee4df8\" x=\"301.989867\" y=\"385.718125\" style=\"stroke: #000000; stroke-width: 0.8\"/>\n      </g>\n     </g>\n     <g id=\"text_6\">\n      <!-- 12 -->\n      <g transform=\"translate(295.627367 400.316562)scale(0.1 -0.1)\">\n       <use xlink:href=\"#DejaVuSans-31\"/>\n       <use xlink:href=\"#DejaVuSans-32\" x=\"63.623047\"/>\n      </g>\n     </g>\n    </g>\n    <g id=\"xtick_7\">\n     <g id=\"line2d_13\">\n      <path d=\"M 344.857292 385.718125 \nL 344.857292 22.318125 \n\" clip-path=\"url(#p85c25f0b53)\" style=\"fill: none; stroke: #b0b0b0; stroke-width: 0.8; stroke-linecap: square\"/>\n     </g>\n     <g id=\"line2d_14\">\n      <g>\n       <use xlink:href=\"#m90f8ee4df8\" x=\"344.857292\" y=\"385.718125\" style=\"stroke: #000000; stroke-width: 0.8\"/>\n      </g>\n     </g>\n     <g id=\"text_7\">\n      <!-- 14 -->\n      <g transform=\"translate(338.494792 400.316562)scale(0.1 -0.1)\">\n       <use xlink:href=\"#DejaVuSans-31\"/>\n       <use xlink:href=\"#DejaVuSans-34\" x=\"63.623047\"/>\n      </g>\n     </g>\n    </g>\n    <g id=\"xtick_8\">\n     <g id=\"line2d_15\">\n      <path d=\"M 387.724716 385.718125 \nL 387.724716 22.318125 \n\" clip-path=\"url(#p85c25f0b53)\" style=\"fill: none; stroke: #b0b0b0; stroke-width: 0.8; stroke-linecap: square\"/>\n     </g>\n     <g id=\"line2d_16\">\n      <g>\n       <use xlink:href=\"#m90f8ee4df8\" x=\"387.724716\" y=\"385.718125\" style=\"stroke: #000000; stroke-width: 0.8\"/>\n      </g>\n     </g>\n     <g id=\"text_8\">\n      <!-- 16 -->\n      <g transform=\"translate(381.362216 400.316562)scale(0.1 -0.1)\">\n       <use xlink:href=\"#DejaVuSans-31\"/>\n       <use xlink:href=\"#DejaVuSans-36\" x=\"63.623047\"/>\n      </g>\n     </g>\n    </g>\n    <g id=\"text_9\">\n     <!-- Epoch -->\n     <g transform=\"translate(211.660938 413.994687)scale(0.1 -0.1)\">\n      <defs>\n       <path id=\"DejaVuSans-45\" d=\"M 628 4666 \nL 3578 4666 \nL 3578 4134 \nL 1259 4134 \nL 1259 2753 \nL 3481 2753 \nL 3481 2222 \nL 1259 2222 \nL 1259 531 \nL 3634 531 \nL 3634 0 \nL 628 0 \nL 628 4666 \nz\n\" transform=\"scale(0.015625)\"/>\n       <path id=\"DejaVuSans-70\" d=\"M 1159 525 \nL 1159 -1331 \nL 581 -1331 \nL 581 3500 \nL 1159 3500 \nL 1159 2969 \nQ 1341 3281 1617 3432 \nQ 1894 3584 2278 3584 \nQ 2916 3584 3314 3078 \nQ 3713 2572 3713 1747 \nQ 3713 922 3314 415 \nQ 2916 -91 2278 -91 \nQ 1894 -91 1617 61 \nQ 1341 213 1159 525 \nz\nM 3116 1747 \nQ 3116 2381 2855 2742 \nQ 2594 3103 2138 3103 \nQ 1681 3103 1420 2742 \nQ 1159 2381 1159 1747 \nQ 1159 1113 1420 752 \nQ 1681 391 2138 391 \nQ 2594 391 2855 752 \nQ 3116 1113 3116 1747 \nz\n\" transform=\"scale(0.015625)\"/>\n       <path id=\"DejaVuSans-6f\" d=\"M 1959 3097 \nQ 1497 3097 1228 2736 \nQ 959 2375 959 1747 \nQ 959 1119 1226 758 \nQ 1494 397 1959 397 \nQ 2419 397 2687 759 \nQ 2956 1122 2956 1747 \nQ 2956 2369 2687 2733 \nQ 2419 3097 1959 3097 \nz\nM 1959 3584 \nQ 2709 3584 3137 3096 \nQ 3566 2609 3566 1747 \nQ 3566 888 3137 398 \nQ 2709 -91 1959 -91 \nQ 1206 -91 779 398 \nQ 353 888 353 1747 \nQ 353 2609 779 3096 \nQ 1206 3584 1959 3584 \nz\n\" transform=\"scale(0.015625)\"/>\n       <path id=\"DejaVuSans-63\" d=\"M 3122 3366 \nL 3122 2828 \nQ 2878 2963 2633 3030 \nQ 2388 3097 2138 3097 \nQ 1578 3097 1268 2742 \nQ 959 2388 959 1747 \nQ 959 1106 1268 751 \nQ 1578 397 2138 397 \nQ 2388 397 2633 464 \nQ 2878 531 3122 666 \nL 3122 134 \nQ 2881 22 2623 -34 \nQ 2366 -91 2075 -91 \nQ 1284 -91 818 406 \nQ 353 903 353 1747 \nQ 353 2603 823 3093 \nQ 1294 3584 2113 3584 \nQ 2378 3584 2631 3529 \nQ 2884 3475 3122 3366 \nz\n\" transform=\"scale(0.015625)\"/>\n       <path id=\"DejaVuSans-68\" d=\"M 3513 2113 \nL 3513 0 \nL 2938 0 \nL 2938 2094 \nQ 2938 2591 2744 2837 \nQ 2550 3084 2163 3084 \nQ 1697 3084 1428 2787 \nQ 1159 2491 1159 1978 \nL 1159 0 \nL 581 0 \nL 581 4863 \nL 1159 4863 \nL 1159 2956 \nQ 1366 3272 1645 3428 \nQ 1925 3584 2291 3584 \nQ 2894 3584 3203 3211 \nQ 3513 2838 3513 2113 \nz\n\" transform=\"scale(0.015625)\"/>\n      </defs>\n      <use xlink:href=\"#DejaVuSans-45\"/>\n      <use xlink:href=\"#DejaVuSans-70\" x=\"63.183594\"/>\n      <use xlink:href=\"#DejaVuSans-6f\" x=\"126.660156\"/>\n      <use xlink:href=\"#DejaVuSans-63\" x=\"187.841797\"/>\n      <use xlink:href=\"#DejaVuSans-68\" x=\"242.822266\"/>\n     </g>\n    </g>\n   </g>\n   <g id=\"matplotlib.axis_2\">\n    <g id=\"ytick_1\">\n     <g id=\"line2d_17\">\n      <path d=\"M 50.14375 360.902928 \nL 403.8 360.902928 \n\" clip-path=\"url(#p85c25f0b53)\" style=\"fill: none; stroke: #b0b0b0; stroke-width: 0.8; stroke-linecap: square\"/>\n     </g>\n     <g id=\"line2d_18\">\n      <defs>\n       <path id=\"m957cbb20a8\" d=\"M 0 0 \nL -3.5 0 \n\" style=\"stroke: #000000; stroke-width: 0.8\"/>\n      </defs>\n      <g>\n       <use xlink:href=\"#m957cbb20a8\" x=\"50.14375\" y=\"360.902928\" style=\"stroke: #000000; stroke-width: 0.8\"/>\n      </g>\n     </g>\n     <g id=\"text_10\">\n      <!-- 1.90 -->\n      <g transform=\"translate(20.878125 364.702147)scale(0.1 -0.1)\">\n       <defs>\n        <path id=\"DejaVuSans-2e\" d=\"M 684 794 \nL 1344 794 \nL 1344 0 \nL 684 0 \nL 684 794 \nz\n\" transform=\"scale(0.015625)\"/>\n        <path id=\"DejaVuSans-39\" d=\"M 703 97 \nL 703 672 \nQ 941 559 1184 500 \nQ 1428 441 1663 441 \nQ 2288 441 2617 861 \nQ 2947 1281 2994 2138 \nQ 2813 1869 2534 1725 \nQ 2256 1581 1919 1581 \nQ 1219 1581 811 2004 \nQ 403 2428 403 3163 \nQ 403 3881 828 4315 \nQ 1253 4750 1959 4750 \nQ 2769 4750 3195 4129 \nQ 3622 3509 3622 2328 \nQ 3622 1225 3098 567 \nQ 2575 -91 1691 -91 \nQ 1453 -91 1209 -44 \nQ 966 3 703 97 \nz\nM 1959 2075 \nQ 2384 2075 2632 2365 \nQ 2881 2656 2881 3163 \nQ 2881 3666 2632 3958 \nQ 2384 4250 1959 4250 \nQ 1534 4250 1286 3958 \nQ 1038 3666 1038 3163 \nQ 1038 2656 1286 2365 \nQ 1534 2075 1959 2075 \nz\n\" transform=\"scale(0.015625)\"/>\n       </defs>\n       <use xlink:href=\"#DejaVuSans-31\"/>\n       <use xlink:href=\"#DejaVuSans-2e\" x=\"63.623047\"/>\n       <use xlink:href=\"#DejaVuSans-39\" x=\"95.410156\"/>\n       <use xlink:href=\"#DejaVuSans-30\" x=\"159.033203\"/>\n      </g>\n     </g>\n    </g>\n    <g id=\"ytick_2\">\n     <g id=\"line2d_19\">\n      <path d=\"M 50.14375 285.970048 \nL 403.8 285.970048 \n\" clip-path=\"url(#p85c25f0b53)\" style=\"fill: none; stroke: #b0b0b0; stroke-width: 0.8; stroke-linecap: square\"/>\n     </g>\n     <g id=\"line2d_20\">\n      <g>\n       <use xlink:href=\"#m957cbb20a8\" x=\"50.14375\" y=\"285.970048\" style=\"stroke: #000000; stroke-width: 0.8\"/>\n      </g>\n     </g>\n     <g id=\"text_11\">\n      <!-- 1.95 -->\n      <g transform=\"translate(20.878125 289.769266)scale(0.1 -0.1)\">\n       <defs>\n        <path id=\"DejaVuSans-35\" d=\"M 691 4666 \nL 3169 4666 \nL 3169 4134 \nL 1269 4134 \nL 1269 2991 \nQ 1406 3038 1543 3061 \nQ 1681 3084 1819 3084 \nQ 2600 3084 3056 2656 \nQ 3513 2228 3513 1497 \nQ 3513 744 3044 326 \nQ 2575 -91 1722 -91 \nQ 1428 -91 1123 -41 \nQ 819 9 494 109 \nL 494 744 \nQ 775 591 1075 516 \nQ 1375 441 1709 441 \nQ 2250 441 2565 725 \nQ 2881 1009 2881 1497 \nQ 2881 1984 2565 2268 \nQ 2250 2553 1709 2553 \nQ 1456 2553 1204 2497 \nQ 953 2441 691 2322 \nL 691 4666 \nz\n\" transform=\"scale(0.015625)\"/>\n       </defs>\n       <use xlink:href=\"#DejaVuSans-31\"/>\n       <use xlink:href=\"#DejaVuSans-2e\" x=\"63.623047\"/>\n       <use xlink:href=\"#DejaVuSans-39\" x=\"95.410156\"/>\n       <use xlink:href=\"#DejaVuSans-35\" x=\"159.033203\"/>\n      </g>\n     </g>\n    </g>\n    <g id=\"ytick_3\">\n     <g id=\"line2d_21\">\n      <path d=\"M 50.14375 211.037167 \nL 403.8 211.037167 \n\" clip-path=\"url(#p85c25f0b53)\" style=\"fill: none; stroke: #b0b0b0; stroke-width: 0.8; stroke-linecap: square\"/>\n     </g>\n     <g id=\"line2d_22\">\n      <g>\n       <use xlink:href=\"#m957cbb20a8\" x=\"50.14375\" y=\"211.037167\" style=\"stroke: #000000; stroke-width: 0.8\"/>\n      </g>\n     </g>\n     <g id=\"text_12\">\n      <!-- 2.00 -->\n      <g transform=\"translate(20.878125 214.836386)scale(0.1 -0.1)\">\n       <use xlink:href=\"#DejaVuSans-32\"/>\n       <use xlink:href=\"#DejaVuSans-2e\" x=\"63.623047\"/>\n       <use xlink:href=\"#DejaVuSans-30\" x=\"95.410156\"/>\n       <use xlink:href=\"#DejaVuSans-30\" x=\"159.033203\"/>\n      </g>\n     </g>\n    </g>\n    <g id=\"ytick_4\">\n     <g id=\"line2d_23\">\n      <path d=\"M 50.14375 136.104286 \nL 403.8 136.104286 \n\" clip-path=\"url(#p85c25f0b53)\" style=\"fill: none; stroke: #b0b0b0; stroke-width: 0.8; stroke-linecap: square\"/>\n     </g>\n     <g id=\"line2d_24\">\n      <g>\n       <use xlink:href=\"#m957cbb20a8\" x=\"50.14375\" y=\"136.104286\" style=\"stroke: #000000; stroke-width: 0.8\"/>\n      </g>\n     </g>\n     <g id=\"text_13\">\n      <!-- 2.05 -->\n      <g transform=\"translate(20.878125 139.903505)scale(0.1 -0.1)\">\n       <use xlink:href=\"#DejaVuSans-32\"/>\n       <use xlink:href=\"#DejaVuSans-2e\" x=\"63.623047\"/>\n       <use xlink:href=\"#DejaVuSans-30\" x=\"95.410156\"/>\n       <use xlink:href=\"#DejaVuSans-35\" x=\"159.033203\"/>\n      </g>\n     </g>\n    </g>\n    <g id=\"ytick_5\">\n     <g id=\"line2d_25\">\n      <path d=\"M 50.14375 61.171405 \nL 403.8 61.171405 \n\" clip-path=\"url(#p85c25f0b53)\" style=\"fill: none; stroke: #b0b0b0; stroke-width: 0.8; stroke-linecap: square\"/>\n     </g>\n     <g id=\"line2d_26\">\n      <g>\n       <use xlink:href=\"#m957cbb20a8\" x=\"50.14375\" y=\"61.171405\" style=\"stroke: #000000; stroke-width: 0.8\"/>\n      </g>\n     </g>\n     <g id=\"text_14\">\n      <!-- 2.10 -->\n      <g transform=\"translate(20.878125 64.970624)scale(0.1 -0.1)\">\n       <use xlink:href=\"#DejaVuSans-32\"/>\n       <use xlink:href=\"#DejaVuSans-2e\" x=\"63.623047\"/>\n       <use xlink:href=\"#DejaVuSans-31\" x=\"95.410156\"/>\n       <use xlink:href=\"#DejaVuSans-30\" x=\"159.033203\"/>\n      </g>\n     </g>\n    </g>\n    <g id=\"text_15\">\n     <!-- Loss -->\n     <g transform=\"translate(14.798438 214.985312)rotate(-90)scale(0.1 -0.1)\">\n      <defs>\n       <path id=\"DejaVuSans-4c\" d=\"M 628 4666 \nL 1259 4666 \nL 1259 531 \nL 3531 531 \nL 3531 0 \nL 628 0 \nL 628 4666 \nz\n\" transform=\"scale(0.015625)\"/>\n       <path id=\"DejaVuSans-73\" d=\"M 2834 3397 \nL 2834 2853 \nQ 2591 2978 2328 3040 \nQ 2066 3103 1784 3103 \nQ 1356 3103 1142 2972 \nQ 928 2841 928 2578 \nQ 928 2378 1081 2264 \nQ 1234 2150 1697 2047 \nL 1894 2003 \nQ 2506 1872 2764 1633 \nQ 3022 1394 3022 966 \nQ 3022 478 2636 193 \nQ 2250 -91 1575 -91 \nQ 1294 -91 989 -36 \nQ 684 19 347 128 \nL 347 722 \nQ 666 556 975 473 \nQ 1284 391 1588 391 \nQ 1994 391 2212 530 \nQ 2431 669 2431 922 \nQ 2431 1156 2273 1281 \nQ 2116 1406 1581 1522 \nL 1381 1569 \nQ 847 1681 609 1914 \nQ 372 2147 372 2553 \nQ 372 3047 722 3315 \nQ 1072 3584 1716 3584 \nQ 2034 3584 2315 3537 \nQ 2597 3491 2834 3397 \nz\n\" transform=\"scale(0.015625)\"/>\n      </defs>\n      <use xlink:href=\"#DejaVuSans-4c\"/>\n      <use xlink:href=\"#DejaVuSans-6f\" x=\"53.962891\"/>\n      <use xlink:href=\"#DejaVuSans-73\" x=\"115.144531\"/>\n      <use xlink:href=\"#DejaVuSans-73\" x=\"167.244141\"/>\n     </g>\n    </g>\n   </g>\n   <g id=\"line2d_27\">\n    <path d=\"M 66.219034 38.836307 \nL 87.652746 111.585773 \nL 109.086458 142.288678 \nL 130.52017 168.116567 \nL 151.953883 195.990579 \nL 173.387595 229.814818 \nL 194.821307 264.423846 \nL 216.255019 299.494069 \nL 237.688731 311.388172 \nL 259.122443 319.265557 \nL 280.556155 327.333413 \nL 301.989867 341.205978 \nL 323.42358 356.459292 \nL 344.857292 365.662191 \nL 366.291004 367.772579 \nL 387.724716 369.199943 \n\" clip-path=\"url(#p85c25f0b53)\" style=\"fill: none; stroke: #0000ff; stroke-width: 1.5; stroke-linecap: square\"/>\n    <defs>\n     <path id=\"m14c008fab6\" d=\"M 0 3 \nC 0.795609 3 1.55874 2.683901 2.12132 2.12132 \nC 2.683901 1.55874 3 0.795609 3 0 \nC 3 -0.795609 2.683901 -1.55874 2.12132 -2.12132 \nC 1.55874 -2.683901 0.795609 -3 0 -3 \nC -0.795609 -3 -1.55874 -2.683901 -2.12132 -2.12132 \nC -2.683901 -1.55874 -3 -0.795609 -3 0 \nC -3 0.795609 -2.683901 1.55874 -2.12132 2.12132 \nC -1.55874 2.683901 -0.795609 3 0 3 \nz\n\" style=\"stroke: #0000ff\"/>\n    </defs>\n    <g clip-path=\"url(#p85c25f0b53)\">\n     <use xlink:href=\"#m14c008fab6\" x=\"66.219034\" y=\"38.836307\" style=\"fill: #0000ff; stroke: #0000ff\"/>\n     <use xlink:href=\"#m14c008fab6\" x=\"87.652746\" y=\"111.585773\" style=\"fill: #0000ff; stroke: #0000ff\"/>\n     <use xlink:href=\"#m14c008fab6\" x=\"109.086458\" y=\"142.288678\" style=\"fill: #0000ff; stroke: #0000ff\"/>\n     <use xlink:href=\"#m14c008fab6\" x=\"130.52017\" y=\"168.116567\" style=\"fill: #0000ff; stroke: #0000ff\"/>\n     <use xlink:href=\"#m14c008fab6\" x=\"151.953883\" y=\"195.990579\" style=\"fill: #0000ff; stroke: #0000ff\"/>\n     <use xlink:href=\"#m14c008fab6\" x=\"173.387595\" y=\"229.814818\" style=\"fill: #0000ff; stroke: #0000ff\"/>\n     <use xlink:href=\"#m14c008fab6\" x=\"194.821307\" y=\"264.423846\" style=\"fill: #0000ff; stroke: #0000ff\"/>\n     <use xlink:href=\"#m14c008fab6\" x=\"216.255019\" y=\"299.494069\" style=\"fill: #0000ff; stroke: #0000ff\"/>\n     <use xlink:href=\"#m14c008fab6\" x=\"237.688731\" y=\"311.388172\" style=\"fill: #0000ff; stroke: #0000ff\"/>\n     <use xlink:href=\"#m14c008fab6\" x=\"259.122443\" y=\"319.265557\" style=\"fill: #0000ff; stroke: #0000ff\"/>\n     <use xlink:href=\"#m14c008fab6\" x=\"280.556155\" y=\"327.333413\" style=\"fill: #0000ff; stroke: #0000ff\"/>\n     <use xlink:href=\"#m14c008fab6\" x=\"301.989867\" y=\"341.205978\" style=\"fill: #0000ff; stroke: #0000ff\"/>\n     <use xlink:href=\"#m14c008fab6\" x=\"323.42358\" y=\"356.459292\" style=\"fill: #0000ff; stroke: #0000ff\"/>\n     <use xlink:href=\"#m14c008fab6\" x=\"344.857292\" y=\"365.662191\" style=\"fill: #0000ff; stroke: #0000ff\"/>\n     <use xlink:href=\"#m14c008fab6\" x=\"366.291004\" y=\"367.772579\" style=\"fill: #0000ff; stroke: #0000ff\"/>\n     <use xlink:href=\"#m14c008fab6\" x=\"387.724716\" y=\"369.199943\" style=\"fill: #0000ff; stroke: #0000ff\"/>\n    </g>\n   </g>\n   <g id=\"line2d_28\">\n    <path d=\"M 66.219034 94.082155 \nL 87.652746 149.410088 \nL 109.086458 156.519717 \nL 130.52017 163.613184 \nL 151.953883 174.932449 \nL 173.387595 201.45703 \nL 194.821307 205.114858 \nL 216.255019 205.791022 \nL 237.688731 208.755056 \nL 259.122443 205.800353 \nL 280.556155 192.31535 \nL 301.989867 198.723707 \nL 323.42358 202.951263 \nL 344.857292 197.390633 \nL 366.291004 197.304838 \nL 387.724716 198.001684 \n\" clip-path=\"url(#p85c25f0b53)\" style=\"fill: none; stroke: #ff0000; stroke-width: 1.5; stroke-linecap: square\"/>\n    <defs>\n     <path id=\"m0f9554ed6c\" d=\"M 0 3 \nC 0.795609 3 1.55874 2.683901 2.12132 2.12132 \nC 2.683901 1.55874 3 0.795609 3 0 \nC 3 -0.795609 2.683901 -1.55874 2.12132 -2.12132 \nC 1.55874 -2.683901 0.795609 -3 0 -3 \nC -0.795609 -3 -1.55874 -2.683901 -2.12132 -2.12132 \nC -2.683901 -1.55874 -3 -0.795609 -3 0 \nC -3 0.795609 -2.683901 1.55874 -2.12132 2.12132 \nC -1.55874 2.683901 -0.795609 3 0 3 \nz\n\" style=\"stroke: #ff0000\"/>\n    </defs>\n    <g clip-path=\"url(#p85c25f0b53)\">\n     <use xlink:href=\"#m0f9554ed6c\" x=\"66.219034\" y=\"94.082155\" style=\"fill: #ff0000; stroke: #ff0000\"/>\n     <use xlink:href=\"#m0f9554ed6c\" x=\"87.652746\" y=\"149.410088\" style=\"fill: #ff0000; stroke: #ff0000\"/>\n     <use xlink:href=\"#m0f9554ed6c\" x=\"109.086458\" y=\"156.519717\" style=\"fill: #ff0000; stroke: #ff0000\"/>\n     <use xlink:href=\"#m0f9554ed6c\" x=\"130.52017\" y=\"163.613184\" style=\"fill: #ff0000; stroke: #ff0000\"/>\n     <use xlink:href=\"#m0f9554ed6c\" x=\"151.953883\" y=\"174.932449\" style=\"fill: #ff0000; stroke: #ff0000\"/>\n     <use xlink:href=\"#m0f9554ed6c\" x=\"173.387595\" y=\"201.45703\" style=\"fill: #ff0000; stroke: #ff0000\"/>\n     <use xlink:href=\"#m0f9554ed6c\" x=\"194.821307\" y=\"205.114858\" style=\"fill: #ff0000; stroke: #ff0000\"/>\n     <use xlink:href=\"#m0f9554ed6c\" x=\"216.255019\" y=\"205.791022\" style=\"fill: #ff0000; stroke: #ff0000\"/>\n     <use xlink:href=\"#m0f9554ed6c\" x=\"237.688731\" y=\"208.755056\" style=\"fill: #ff0000; stroke: #ff0000\"/>\n     <use xlink:href=\"#m0f9554ed6c\" x=\"259.122443\" y=\"205.800353\" style=\"fill: #ff0000; stroke: #ff0000\"/>\n     <use xlink:href=\"#m0f9554ed6c\" x=\"280.556155\" y=\"192.31535\" style=\"fill: #ff0000; stroke: #ff0000\"/>\n     <use xlink:href=\"#m0f9554ed6c\" x=\"301.989867\" y=\"198.723707\" style=\"fill: #ff0000; stroke: #ff0000\"/>\n     <use xlink:href=\"#m0f9554ed6c\" x=\"323.42358\" y=\"202.951263\" style=\"fill: #ff0000; stroke: #ff0000\"/>\n     <use xlink:href=\"#m0f9554ed6c\" x=\"344.857292\" y=\"197.390633\" style=\"fill: #ff0000; stroke: #ff0000\"/>\n     <use xlink:href=\"#m0f9554ed6c\" x=\"366.291004\" y=\"197.304838\" style=\"fill: #ff0000; stroke: #ff0000\"/>\n     <use xlink:href=\"#m0f9554ed6c\" x=\"387.724716\" y=\"198.001684\" style=\"fill: #ff0000; stroke: #ff0000\"/>\n    </g>\n   </g>\n   <g id=\"patch_3\">\n    <path d=\"M 50.14375 385.718125 \nL 50.14375 22.318125 \n\" style=\"fill: none; stroke: #000000; stroke-width: 0.8; stroke-linejoin: miter; stroke-linecap: square\"/>\n   </g>\n   <g id=\"patch_4\">\n    <path d=\"M 403.8 385.718125 \nL 403.8 22.318125 \n\" style=\"fill: none; stroke: #000000; stroke-width: 0.8; stroke-linejoin: miter; stroke-linecap: square\"/>\n   </g>\n   <g id=\"patch_5\">\n    <path d=\"M 50.14375 385.718125 \nL 403.8 385.718125 \n\" style=\"fill: none; stroke: #000000; stroke-width: 0.8; stroke-linejoin: miter; stroke-linecap: square\"/>\n   </g>\n   <g id=\"patch_6\">\n    <path d=\"M 50.14375 22.318125 \nL 403.8 22.318125 \n\" style=\"fill: none; stroke: #000000; stroke-width: 0.8; stroke-linejoin: miter; stroke-linecap: square\"/>\n   </g>\n   <g id=\"text_16\">\n    <!-- Loss Curves -->\n    <g transform=\"translate(191.076875 16.318125)scale(0.12 -0.12)\">\n     <defs>\n      <path id=\"DejaVuSans-20\" transform=\"scale(0.015625)\"/>\n      <path id=\"DejaVuSans-43\" d=\"M 4122 4306 \nL 4122 3641 \nQ 3803 3938 3442 4084 \nQ 3081 4231 2675 4231 \nQ 1875 4231 1450 3742 \nQ 1025 3253 1025 2328 \nQ 1025 1406 1450 917 \nQ 1875 428 2675 428 \nQ 3081 428 3442 575 \nQ 3803 722 4122 1019 \nL 4122 359 \nQ 3791 134 3420 21 \nQ 3050 -91 2638 -91 \nQ 1578 -91 968 557 \nQ 359 1206 359 2328 \nQ 359 3453 968 4101 \nQ 1578 4750 2638 4750 \nQ 3056 4750 3426 4639 \nQ 3797 4528 4122 4306 \nz\n\" transform=\"scale(0.015625)\"/>\n      <path id=\"DejaVuSans-75\" d=\"M 544 1381 \nL 544 3500 \nL 1119 3500 \nL 1119 1403 \nQ 1119 906 1312 657 \nQ 1506 409 1894 409 \nQ 2359 409 2629 706 \nQ 2900 1003 2900 1516 \nL 2900 3500 \nL 3475 3500 \nL 3475 0 \nL 2900 0 \nL 2900 538 \nQ 2691 219 2414 64 \nQ 2138 -91 1772 -91 \nQ 1169 -91 856 284 \nQ 544 659 544 1381 \nz\nM 1991 3584 \nL 1991 3584 \nz\n\" transform=\"scale(0.015625)\"/>\n      <path id=\"DejaVuSans-72\" d=\"M 2631 2963 \nQ 2534 3019 2420 3045 \nQ 2306 3072 2169 3072 \nQ 1681 3072 1420 2755 \nQ 1159 2438 1159 1844 \nL 1159 0 \nL 581 0 \nL 581 3500 \nL 1159 3500 \nL 1159 2956 \nQ 1341 3275 1631 3429 \nQ 1922 3584 2338 3584 \nQ 2397 3584 2469 3576 \nQ 2541 3569 2628 3553 \nL 2631 2963 \nz\n\" transform=\"scale(0.015625)\"/>\n      <path id=\"DejaVuSans-76\" d=\"M 191 3500 \nL 800 3500 \nL 1894 563 \nL 2988 3500 \nL 3597 3500 \nL 2284 0 \nL 1503 0 \nL 191 3500 \nz\n\" transform=\"scale(0.015625)\"/>\n      <path id=\"DejaVuSans-65\" d=\"M 3597 1894 \nL 3597 1613 \nL 953 1613 \nQ 991 1019 1311 708 \nQ 1631 397 2203 397 \nQ 2534 397 2845 478 \nQ 3156 559 3463 722 \nL 3463 178 \nQ 3153 47 2828 -22 \nQ 2503 -91 2169 -91 \nQ 1331 -91 842 396 \nQ 353 884 353 1716 \nQ 353 2575 817 3079 \nQ 1281 3584 2069 3584 \nQ 2775 3584 3186 3129 \nQ 3597 2675 3597 1894 \nz\nM 3022 2063 \nQ 3016 2534 2758 2815 \nQ 2500 3097 2075 3097 \nQ 1594 3097 1305 2825 \nQ 1016 2553 972 2059 \nL 3022 2063 \nz\n\" transform=\"scale(0.015625)\"/>\n     </defs>\n     <use xlink:href=\"#DejaVuSans-4c\"/>\n     <use xlink:href=\"#DejaVuSans-6f\" x=\"53.962891\"/>\n     <use xlink:href=\"#DejaVuSans-73\" x=\"115.144531\"/>\n     <use xlink:href=\"#DejaVuSans-73\" x=\"167.244141\"/>\n     <use xlink:href=\"#DejaVuSans-20\" x=\"219.34375\"/>\n     <use xlink:href=\"#DejaVuSans-43\" x=\"251.130859\"/>\n     <use xlink:href=\"#DejaVuSans-75\" x=\"320.955078\"/>\n     <use xlink:href=\"#DejaVuSans-72\" x=\"384.333984\"/>\n     <use xlink:href=\"#DejaVuSans-76\" x=\"425.447266\"/>\n     <use xlink:href=\"#DejaVuSans-65\" x=\"484.626953\"/>\n     <use xlink:href=\"#DejaVuSans-73\" x=\"546.150391\"/>\n    </g>\n   </g>\n   <g id=\"legend_1\">\n    <g id=\"patch_7\">\n     <path d=\"M 263.775 59.674375 \nL 396.8 59.674375 \nQ 398.8 59.674375 398.8 57.674375 \nL 398.8 29.318125 \nQ 398.8 27.318125 396.8 27.318125 \nL 263.775 27.318125 \nQ 261.775 27.318125 261.775 29.318125 \nL 261.775 57.674375 \nQ 261.775 59.674375 263.775 59.674375 \nz\n\" style=\"fill: #ffffff; opacity: 0.8; stroke: #cccccc; stroke-linejoin: miter\"/>\n    </g>\n    <g id=\"line2d_29\">\n     <path d=\"M 265.775 35.416562 \nL 275.775 35.416562 \nL 285.775 35.416562 \n\" style=\"fill: none; stroke: #0000ff; stroke-width: 1.5; stroke-linecap: square\"/>\n     <g>\n      <use xlink:href=\"#m14c008fab6\" x=\"275.775\" y=\"35.416562\" style=\"fill: #0000ff; stroke: #0000ff\"/>\n     </g>\n    </g>\n    <g id=\"text_17\">\n     <!-- Total Train Loss -->\n     <g transform=\"translate(293.775 38.916562)scale(0.1 -0.1)\">\n      <defs>\n       <path id=\"DejaVuSans-54\" d=\"M -19 4666 \nL 3928 4666 \nL 3928 4134 \nL 2272 4134 \nL 2272 0 \nL 1638 0 \nL 1638 4134 \nL -19 4134 \nL -19 4666 \nz\n\" transform=\"scale(0.015625)\"/>\n       <path id=\"DejaVuSans-74\" d=\"M 1172 4494 \nL 1172 3500 \nL 2356 3500 \nL 2356 3053 \nL 1172 3053 \nL 1172 1153 \nQ 1172 725 1289 603 \nQ 1406 481 1766 481 \nL 2356 481 \nL 2356 0 \nL 1766 0 \nQ 1100 0 847 248 \nQ 594 497 594 1153 \nL 594 3053 \nL 172 3053 \nL 172 3500 \nL 594 3500 \nL 594 4494 \nL 1172 4494 \nz\n\" transform=\"scale(0.015625)\"/>\n       <path id=\"DejaVuSans-61\" d=\"M 2194 1759 \nQ 1497 1759 1228 1600 \nQ 959 1441 959 1056 \nQ 959 750 1161 570 \nQ 1363 391 1709 391 \nQ 2188 391 2477 730 \nQ 2766 1069 2766 1631 \nL 2766 1759 \nL 2194 1759 \nz\nM 3341 1997 \nL 3341 0 \nL 2766 0 \nL 2766 531 \nQ 2569 213 2275 61 \nQ 1981 -91 1556 -91 \nQ 1019 -91 701 211 \nQ 384 513 384 1019 \nQ 384 1609 779 1909 \nQ 1175 2209 1959 2209 \nL 2766 2209 \nL 2766 2266 \nQ 2766 2663 2505 2880 \nQ 2244 3097 1772 3097 \nQ 1472 3097 1187 3025 \nQ 903 2953 641 2809 \nL 641 3341 \nQ 956 3463 1253 3523 \nQ 1550 3584 1831 3584 \nQ 2591 3584 2966 3190 \nQ 3341 2797 3341 1997 \nz\n\" transform=\"scale(0.015625)\"/>\n       <path id=\"DejaVuSans-6c\" d=\"M 603 4863 \nL 1178 4863 \nL 1178 0 \nL 603 0 \nL 603 4863 \nz\n\" transform=\"scale(0.015625)\"/>\n       <path id=\"DejaVuSans-69\" d=\"M 603 3500 \nL 1178 3500 \nL 1178 0 \nL 603 0 \nL 603 3500 \nz\nM 603 4863 \nL 1178 4863 \nL 1178 4134 \nL 603 4134 \nL 603 4863 \nz\n\" transform=\"scale(0.015625)\"/>\n       <path id=\"DejaVuSans-6e\" d=\"M 3513 2113 \nL 3513 0 \nL 2938 0 \nL 2938 2094 \nQ 2938 2591 2744 2837 \nQ 2550 3084 2163 3084 \nQ 1697 3084 1428 2787 \nQ 1159 2491 1159 1978 \nL 1159 0 \nL 581 0 \nL 581 3500 \nL 1159 3500 \nL 1159 2956 \nQ 1366 3272 1645 3428 \nQ 1925 3584 2291 3584 \nQ 2894 3584 3203 3211 \nQ 3513 2838 3513 2113 \nz\n\" transform=\"scale(0.015625)\"/>\n      </defs>\n      <use xlink:href=\"#DejaVuSans-54\"/>\n      <use xlink:href=\"#DejaVuSans-6f\" x=\"44.083984\"/>\n      <use xlink:href=\"#DejaVuSans-74\" x=\"105.265625\"/>\n      <use xlink:href=\"#DejaVuSans-61\" x=\"144.474609\"/>\n      <use xlink:href=\"#DejaVuSans-6c\" x=\"205.753906\"/>\n      <use xlink:href=\"#DejaVuSans-20\" x=\"233.537109\"/>\n      <use xlink:href=\"#DejaVuSans-54\" x=\"265.324219\"/>\n      <use xlink:href=\"#DejaVuSans-72\" x=\"311.658203\"/>\n      <use xlink:href=\"#DejaVuSans-61\" x=\"352.771484\"/>\n      <use xlink:href=\"#DejaVuSans-69\" x=\"414.050781\"/>\n      <use xlink:href=\"#DejaVuSans-6e\" x=\"441.833984\"/>\n      <use xlink:href=\"#DejaVuSans-20\" x=\"505.212891\"/>\n      <use xlink:href=\"#DejaVuSans-4c\" x=\"537\"/>\n      <use xlink:href=\"#DejaVuSans-6f\" x=\"590.962891\"/>\n      <use xlink:href=\"#DejaVuSans-73\" x=\"652.144531\"/>\n      <use xlink:href=\"#DejaVuSans-73\" x=\"704.244141\"/>\n     </g>\n    </g>\n    <g id=\"line2d_30\">\n     <path d=\"M 265.775 50.094687 \nL 275.775 50.094687 \nL 285.775 50.094687 \n\" style=\"fill: none; stroke: #ff0000; stroke-width: 1.5; stroke-linecap: square\"/>\n     <g>\n      <use xlink:href=\"#m0f9554ed6c\" x=\"275.775\" y=\"50.094687\" style=\"fill: #ff0000; stroke: #ff0000\"/>\n     </g>\n    </g>\n    <g id=\"text_18\">\n     <!-- Total Validation Loss -->\n     <g transform=\"translate(293.775 53.594687)scale(0.1 -0.1)\">\n      <defs>\n       <path id=\"DejaVuSans-56\" d=\"M 1831 0 \nL 50 4666 \nL 709 4666 \nL 2188 738 \nL 3669 4666 \nL 4325 4666 \nL 2547 0 \nL 1831 0 \nz\n\" transform=\"scale(0.015625)\"/>\n       <path id=\"DejaVuSans-64\" d=\"M 2906 2969 \nL 2906 4863 \nL 3481 4863 \nL 3481 0 \nL 2906 0 \nL 2906 525 \nQ 2725 213 2448 61 \nQ 2172 -91 1784 -91 \nQ 1150 -91 751 415 \nQ 353 922 353 1747 \nQ 353 2572 751 3078 \nQ 1150 3584 1784 3584 \nQ 2172 3584 2448 3432 \nQ 2725 3281 2906 2969 \nz\nM 947 1747 \nQ 947 1113 1208 752 \nQ 1469 391 1925 391 \nQ 2381 391 2643 752 \nQ 2906 1113 2906 1747 \nQ 2906 2381 2643 2742 \nQ 2381 3103 1925 3103 \nQ 1469 3103 1208 2742 \nQ 947 2381 947 1747 \nz\n\" transform=\"scale(0.015625)\"/>\n      </defs>\n      <use xlink:href=\"#DejaVuSans-54\"/>\n      <use xlink:href=\"#DejaVuSans-6f\" x=\"44.083984\"/>\n      <use xlink:href=\"#DejaVuSans-74\" x=\"105.265625\"/>\n      <use xlink:href=\"#DejaVuSans-61\" x=\"144.474609\"/>\n      <use xlink:href=\"#DejaVuSans-6c\" x=\"205.753906\"/>\n      <use xlink:href=\"#DejaVuSans-20\" x=\"233.537109\"/>\n      <use xlink:href=\"#DejaVuSans-56\" x=\"265.324219\"/>\n      <use xlink:href=\"#DejaVuSans-61\" x=\"325.982422\"/>\n      <use xlink:href=\"#DejaVuSans-6c\" x=\"387.261719\"/>\n      <use xlink:href=\"#DejaVuSans-69\" x=\"415.044922\"/>\n      <use xlink:href=\"#DejaVuSans-64\" x=\"442.828125\"/>\n      <use xlink:href=\"#DejaVuSans-61\" x=\"506.304688\"/>\n      <use xlink:href=\"#DejaVuSans-74\" x=\"567.583984\"/>\n      <use xlink:href=\"#DejaVuSans-69\" x=\"606.792969\"/>\n      <use xlink:href=\"#DejaVuSans-6f\" x=\"634.576172\"/>\n      <use xlink:href=\"#DejaVuSans-6e\" x=\"695.757812\"/>\n      <use xlink:href=\"#DejaVuSans-20\" x=\"759.136719\"/>\n      <use xlink:href=\"#DejaVuSans-4c\" x=\"790.923828\"/>\n      <use xlink:href=\"#DejaVuSans-6f\" x=\"844.886719\"/>\n      <use xlink:href=\"#DejaVuSans-73\" x=\"906.068359\"/>\n      <use xlink:href=\"#DejaVuSans-73\" x=\"958.167969\"/>\n     </g>\n    </g>\n   </g>\n  </g>\n </g>\n <defs>\n  <clipPath id=\"p85c25f0b53\">\n   <rect x=\"50.14375\" y=\"22.318125\" width=\"353.65625\" height=\"363.4\"/>\n  </clipPath>\n </defs>\n</svg>\n"
     },
     "metadata": {
      "needs_background": "light"
     },
     "output_type": "display_data"
    }
   ],
   "source": [
    "plt.figure(figsize=(21, 6))\n",
    "\n",
    "complete_epochs = len(train_loss_history)+1\n",
    "plt.subplot(1, 4, 1)\n",
    "plt.plot(range(1, complete_epochs), train_loss_history, label='Total Train Loss', marker='o', color='b')\n",
    "plt.plot(range(1, complete_epochs), val_loss_history,  label='Total Validation Loss',  marker='o', color='r')\n",
    "plt.title('Loss Curves')\n",
    "plt.xlabel('Epoch')\n",
    "plt.ylabel('Loss')\n",
    "plt.legend()\n",
    "plt.grid()\n",
    "plt.tight_layout()\n",
    "plt.show()"
   ],
   "metadata": {
    "collapsed": false,
    "pycharm": {
     "name": "#%%\n"
    }
   }
  },
  {
   "cell_type": "markdown",
   "source": [
    "To complete after the model is able to predict horizon labels"
   ],
   "metadata": {
    "collapsed": false
   }
  },
  {
   "cell_type": "code",
   "execution_count": null,
   "outputs": [],
   "source": [
    "model.eval()  # Setze das Modell in den Evaluierungsmodus\n",
    "with torch.no_grad():\n",
    "    outputs = []\n",
    "    val_loader_tqdm = tqdm(val_loader, desc=\"Evaluating\", leave=False)\n",
    "    for batch in val_loader_tqdm:\n",
    "        images, tabular_features, labels = batch\n",
    "        images, tabular_features, labels = images.to(device), tabular_features.to(device), labels.to(device)\n",
    "        outputs.append(model(image=images, tabular_features=tabular_features))"
   ],
   "metadata": {
    "collapsed": false,
    "pycharm": {
     "name": "#%%\n"
    }
   }
  },
  {
   "cell_type": "code",
   "execution_count": null,
   "outputs": [],
   "source": [
    "from sklearn.metrics import classification_report, confusion_matrix\n",
    "\n",
    "# Convert outputs to predicted labels (adjust based on your model's output format)\n",
    "predicted_probs, predicted_labels = [], []\n",
    "for output in outputs:\n",
    "\n",
    "    predicted_labels.extend(torch.argmax(output, dim=1).tolist())\n",
    "    predicted_probs.extend(torch.softmax(output, dim=1).cpu().numpy()) # Convert logits to probabilities\n",
    "\n",
    "# Convert true labels to a list\n",
    "true_labels = [label.item() for batch in val_loader for label in batch[2]]\n",
    "\n",
    "# Calculate metrics\n",
    "report = classification_report(true_labels, predicted_labels)\n",
    "print(report)"
   ],
   "metadata": {
    "collapsed": false,
    "pycharm": {
     "name": "#%%\n"
    }
   }
  },
  {
   "cell_type": "code",
   "execution_count": null,
   "outputs": [],
   "source": [
    "# Compute PR curve for each class\n",
    "from sklearn.metrics import precision_recall_curve, average_precision_score\n",
    "from sklearn.preprocessing import label_binarize\n",
    "\n",
    "predicted_probs = np.array(predicted_probs)\n",
    "true_labels = np.array(true_labels)\n",
    "n_classes = predicted_probs.shape[1]\n",
    "precision, recall, avg_precision = {}, {}, {}\n",
    "# Binarize the labels (one-hot encoding for multiclass)\n",
    "true_labels_binarized = label_binarize(true_labels, classes=np.arange(n_classes))\n",
    "\n",
    "for i in range(n_classes):\n",
    "    precision[i], recall[i], _ = precision_recall_curve(true_labels_binarized[:, i], predicted_probs[:, i])\n",
    "    avg_precision[i] = average_precision_score(true_labels_binarized[:, i], predicted_probs[:, i])\n",
    "\n",
    "# Compute macro-average PR curve\n",
    "precision[\"macro\"], recall[\"macro\"], _ = precision_recall_curve(true_labels_binarized.ravel(), predicted_probs.ravel())\n",
    "avg_precision[\"macro\"] = average_precision_score(true_labels_binarized, predicted_probs, average=\"macro\")"
   ],
   "metadata": {
    "collapsed": false,
    "pycharm": {
     "name": "#%%\n"
    }
   }
  },
  {
   "cell_type": "code",
   "execution_count": null,
   "outputs": [],
   "source": [
    "plt.figure(figsize=(10, 8))\n",
    "\n",
    "# Plot PR curves for each class\n",
    "for i in range(n_classes):\n",
    "    plt.plot(recall[i], precision[i], lw=2, label=f'Class {i} (AP = {avg_precision[i]:.2f})')\n",
    "\n",
    "# Plot macro-average PR curve\n",
    "plt.plot(recall[\"macro\"], precision[\"macro\"], linestyle='--', lw=2, color='black',\n",
    "         label=f'Macro-average (AP = {avg_precision[\"macro\"]:.2f})')\n",
    "\n",
    "plt.xlabel('Recall')\n",
    "plt.ylabel('Precision')\n",
    "plt.title('Precision-Recall Curves')\n",
    "plt.legend(loc='upper right')\n",
    "plt.grid()\n",
    "plt.show()"
   ],
   "metadata": {
    "collapsed": false,
    "pycharm": {
     "name": "#%%\n"
    }
   }
  },
  {
   "cell_type": "code",
   "execution_count": null,
   "outputs": [],
   "source": [
    "cm = confusion_matrix(true_labels, predicted_labels)\n",
    "\n",
    "plt.figure(figsize=(10, 7))\n",
    "sns.heatmap(cm, annot=True, fmt=\"d\", cmap=\"Blues\")\n",
    "plt.xlabel(\"Predicted Label\")\n",
    "plt.ylabel(\"True Label\")\n",
    "plt.title(\"Confusion Matrix\")\n",
    "plt.show()"
   ],
   "metadata": {
    "collapsed": false,
    "pycharm": {
     "name": "#%%\n"
    }
   }
  }
 ],
 "metadata": {
  "kernelspec": {
   "name": "sam",
   "language": "python",
   "display_name": "sam"
  },
  "language_info": {
   "codemirror_mode": {
    "name": "ipython",
    "version": 3
   },
   "file_extension": ".py",
   "mimetype": "text/x-python",
   "name": "python",
   "nbconvert_exporter": "python",
   "pygments_lexer": "ipython3",
   "version": "3.9.19"
  }
 },
 "nbformat": 4,
 "nbformat_minor": 5
}