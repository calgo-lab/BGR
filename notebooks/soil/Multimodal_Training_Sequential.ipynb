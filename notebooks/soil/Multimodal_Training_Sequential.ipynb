{
 "cells": [
  {
   "cell_type": "markdown",
   "source": [
    "## Multimodal Training Sequential\n",
    "\n",
    "Predict horizon boundaries from full images and geo-temporal infos. Afterwards, predict morphological features and symbol for every horizon"
   ],
   "metadata": {
    "collapsed": false
   }
  },
  {
   "cell_type": "code",
   "execution_count": 1,
   "outputs": [],
   "source": [
    "import os\n",
    "import torch\n",
    "import pickle\n",
    "import torch.nn as nn\n",
    "from torch.nn.utils import clip_grad_norm_ # modifies the tensors in-place (vs clip_grad_norm)\n",
    "import torch.nn.functional as F\n",
    "from torch.utils.data import DataLoader\n",
    "import torch.optim as optim\n",
    "import torchvision.transforms as transforms\n",
    "import pandas as pd\n",
    "import matplotlib.pylab as plt\n",
    "import seaborn as sns\n",
    "import numpy as np\n",
    "from tqdm import tqdm\n",
    "from sklearn.model_selection import train_test_split\n",
    "from sklearn.feature_extraction.text import TfidfVectorizer\n",
    "from sklearn.cluster import KMeans\n",
    "from sklearn.manifold import TSNE\n",
    "\n",
    "pd.set_option(\"display.max_columns\", None)\n",
    "np.random.seed(42)\n",
    "\n",
    "%matplotlib inline\n",
    "%config InlineBackend.figure_format = 'svg'"
   ],
   "metadata": {
    "collapsed": false,
    "pycharm": {
     "name": "#%%\n"
    }
   }
  },
  {
   "cell_type": "code",
   "execution_count": 2,
   "outputs": [],
   "source": [
    "import sys\n",
    "sys.path.append('./BGR')\n",
    "import bgr.soil.datasets as bgr_data\n",
    "import bgr.soil.models as bgr_mod\n",
    "from bgr.soil.callbacks import EarlyStopping\n",
    "from bgr.soil.metrics import top_k_accuracy, TopKLoss, depth_marker_loss"
   ],
   "metadata": {
    "collapsed": false,
    "pycharm": {
     "name": "#%%\n"
    }
   }
  },
  {
   "cell_type": "code",
   "execution_count": 3,
   "outputs": [],
   "source": [
    "path_csv = \"../data/BGR/data_horizons.csv\"\n",
    "path_csv_annotator_ids = '../data/BGR/Kartierer_ID.csv'\n",
    "path_csv_locations = '../data/BGR/STANDORT.csv'\n",
    "path_horizons_simple = '../data/BGR/Vereinfachung_Horizontsymbole.csv'\n",
    "path_pictures = \"../data/BGR/Profilbilder_no_ruler_no_sky/\"\n",
    "#path_pictures = \"../data/BGR/Horizonte/\""
   ],
   "metadata": {
    "collapsed": false,
    "pycharm": {
     "name": "#%%\n"
    }
   }
  },
  {
   "cell_type": "markdown",
   "source": [
    "### Data Loading"
   ],
   "metadata": {
    "collapsed": false
   }
  },
  {
   "cell_type": "code",
   "execution_count": 4,
   "outputs": [
    {
     "name": "stdout",
     "output_type": "stream",
     "text": [
      "15207\n",
      "15206\n"
     ]
    },
    {
     "data": {
      "text/plain": "        Point  HorizontID  Obergrenze  Untergrenze Horizontsymbol Bodenart  \\\n0         2.0         1.0         0.0         28.0          I; Ap      Sl2   \n1         2.0         2.0        28.0         54.0           I; E      Sl2   \n2         2.0         3.0        54.0         68.0         II; Bv      Sl2   \n3         2.0         4.0        68.0         96.0   III; Bv-ilCv     fSms   \n4         2.0         5.0        96.0        201.0      III; ilCv     mSfs   \n...       ...         ...         ...          ...            ...      ...   \n15201  6211.0         3.0        27.0         50.0      I; Bbh+Bs     fSms   \n15202  6211.0         4.0        50.0         70.0      I; Bbs+Bs     fSms   \n15203  6211.0         5.0        70.0        100.0      I; Go-Bbs     fSms   \n15204  6211.0         6.0       100.0        130.0          I; Go     fSms   \n15205  6211.0         7.0       130.0        155.0          I; Gr     fSms   \n\n      Bodenfarbe  Steine Karbonat Humusgehaltsklasse Durchwurzelung  \\\n0      7.5YR 3/2     3.0       C0                 h3            Wf4   \n1       10YR 3/3     3.0       C0                 h2            Wf3   \n2      7.5YR 4/3    10.0       C0                 h1            Wf3   \n3      7.5YR 6/4     1.0       C0                 h0            Wf2   \n4       10YR 7/4     1.0       C0                 h0            NaN   \n...          ...     ...      ...                ...            ...   \n15201    5YR 3/2     1.0       C0                 h2            Wf3   \n15202    5YR 4/3     1.0       C0                 h1            Wf2   \n15203  7.5YR 5/4     1.0       C0                 h1            Wf6   \n15204   2.5Y 6/4     1.0       C0                 h0            Wf4   \n15205   2.5Y 5/4     1.0       C0                 h0            Wf2   \n\n       Unnamed: 11 Bundesland  PointID  Unnamed: 14    profile  max_depth  \n0              NaN         SH      2.0          NaN  BB_0541.0      100.0  \n1              NaN         SH      3.0          NaN  BB_0600.0       90.0  \n2              NaN         SH      4.0          NaN  BB_0601.0      100.0  \n3              NaN         SH      5.0          NaN  BB_0659.0      100.0  \n4              NaN         SH      6.0          NaN  BB_0660.0      100.0  \n...            ...        ...      ...          ...        ...        ...  \n15201          NaN        NaN      NaN          NaN        NaN        NaN  \n15202          NaN        NaN      NaN          NaN        NaN        NaN  \n15203          NaN        NaN      NaN          NaN        NaN        NaN  \n15204          NaN        NaN      NaN          NaN        NaN        NaN  \n15205          NaN        NaN      NaN          NaN        NaN        NaN  \n\n[15206 rows x 17 columns]",
      "text/html": "<div>\n<style scoped>\n    .dataframe tbody tr th:only-of-type {\n        vertical-align: middle;\n    }\n\n    .dataframe tbody tr th {\n        vertical-align: top;\n    }\n\n    .dataframe thead th {\n        text-align: right;\n    }\n</style>\n<table border=\"1\" class=\"dataframe\">\n  <thead>\n    <tr style=\"text-align: right;\">\n      <th></th>\n      <th>Point</th>\n      <th>HorizontID</th>\n      <th>Obergrenze</th>\n      <th>Untergrenze</th>\n      <th>Horizontsymbol</th>\n      <th>Bodenart</th>\n      <th>Bodenfarbe</th>\n      <th>Steine</th>\n      <th>Karbonat</th>\n      <th>Humusgehaltsklasse</th>\n      <th>Durchwurzelung</th>\n      <th>Unnamed: 11</th>\n      <th>Bundesland</th>\n      <th>PointID</th>\n      <th>Unnamed: 14</th>\n      <th>profile</th>\n      <th>max_depth</th>\n    </tr>\n  </thead>\n  <tbody>\n    <tr>\n      <th>0</th>\n      <td>2.0</td>\n      <td>1.0</td>\n      <td>0.0</td>\n      <td>28.0</td>\n      <td>I; Ap</td>\n      <td>Sl2</td>\n      <td>7.5YR 3/2</td>\n      <td>3.0</td>\n      <td>C0</td>\n      <td>h3</td>\n      <td>Wf4</td>\n      <td>NaN</td>\n      <td>SH</td>\n      <td>2.0</td>\n      <td>NaN</td>\n      <td>BB_0541.0</td>\n      <td>100.0</td>\n    </tr>\n    <tr>\n      <th>1</th>\n      <td>2.0</td>\n      <td>2.0</td>\n      <td>28.0</td>\n      <td>54.0</td>\n      <td>I; E</td>\n      <td>Sl2</td>\n      <td>10YR 3/3</td>\n      <td>3.0</td>\n      <td>C0</td>\n      <td>h2</td>\n      <td>Wf3</td>\n      <td>NaN</td>\n      <td>SH</td>\n      <td>3.0</td>\n      <td>NaN</td>\n      <td>BB_0600.0</td>\n      <td>90.0</td>\n    </tr>\n    <tr>\n      <th>2</th>\n      <td>2.0</td>\n      <td>3.0</td>\n      <td>54.0</td>\n      <td>68.0</td>\n      <td>II; Bv</td>\n      <td>Sl2</td>\n      <td>7.5YR 4/3</td>\n      <td>10.0</td>\n      <td>C0</td>\n      <td>h1</td>\n      <td>Wf3</td>\n      <td>NaN</td>\n      <td>SH</td>\n      <td>4.0</td>\n      <td>NaN</td>\n      <td>BB_0601.0</td>\n      <td>100.0</td>\n    </tr>\n    <tr>\n      <th>3</th>\n      <td>2.0</td>\n      <td>4.0</td>\n      <td>68.0</td>\n      <td>96.0</td>\n      <td>III; Bv-ilCv</td>\n      <td>fSms</td>\n      <td>7.5YR 6/4</td>\n      <td>1.0</td>\n      <td>C0</td>\n      <td>h0</td>\n      <td>Wf2</td>\n      <td>NaN</td>\n      <td>SH</td>\n      <td>5.0</td>\n      <td>NaN</td>\n      <td>BB_0659.0</td>\n      <td>100.0</td>\n    </tr>\n    <tr>\n      <th>4</th>\n      <td>2.0</td>\n      <td>5.0</td>\n      <td>96.0</td>\n      <td>201.0</td>\n      <td>III; ilCv</td>\n      <td>mSfs</td>\n      <td>10YR 7/4</td>\n      <td>1.0</td>\n      <td>C0</td>\n      <td>h0</td>\n      <td>NaN</td>\n      <td>NaN</td>\n      <td>SH</td>\n      <td>6.0</td>\n      <td>NaN</td>\n      <td>BB_0660.0</td>\n      <td>100.0</td>\n    </tr>\n    <tr>\n      <th>...</th>\n      <td>...</td>\n      <td>...</td>\n      <td>...</td>\n      <td>...</td>\n      <td>...</td>\n      <td>...</td>\n      <td>...</td>\n      <td>...</td>\n      <td>...</td>\n      <td>...</td>\n      <td>...</td>\n      <td>...</td>\n      <td>...</td>\n      <td>...</td>\n      <td>...</td>\n      <td>...</td>\n      <td>...</td>\n    </tr>\n    <tr>\n      <th>15201</th>\n      <td>6211.0</td>\n      <td>3.0</td>\n      <td>27.0</td>\n      <td>50.0</td>\n      <td>I; Bbh+Bs</td>\n      <td>fSms</td>\n      <td>5YR 3/2</td>\n      <td>1.0</td>\n      <td>C0</td>\n      <td>h2</td>\n      <td>Wf3</td>\n      <td>NaN</td>\n      <td>NaN</td>\n      <td>NaN</td>\n      <td>NaN</td>\n      <td>NaN</td>\n      <td>NaN</td>\n    </tr>\n    <tr>\n      <th>15202</th>\n      <td>6211.0</td>\n      <td>4.0</td>\n      <td>50.0</td>\n      <td>70.0</td>\n      <td>I; Bbs+Bs</td>\n      <td>fSms</td>\n      <td>5YR 4/3</td>\n      <td>1.0</td>\n      <td>C0</td>\n      <td>h1</td>\n      <td>Wf2</td>\n      <td>NaN</td>\n      <td>NaN</td>\n      <td>NaN</td>\n      <td>NaN</td>\n      <td>NaN</td>\n      <td>NaN</td>\n    </tr>\n    <tr>\n      <th>15203</th>\n      <td>6211.0</td>\n      <td>5.0</td>\n      <td>70.0</td>\n      <td>100.0</td>\n      <td>I; Go-Bbs</td>\n      <td>fSms</td>\n      <td>7.5YR 5/4</td>\n      <td>1.0</td>\n      <td>C0</td>\n      <td>h1</td>\n      <td>Wf6</td>\n      <td>NaN</td>\n      <td>NaN</td>\n      <td>NaN</td>\n      <td>NaN</td>\n      <td>NaN</td>\n      <td>NaN</td>\n    </tr>\n    <tr>\n      <th>15204</th>\n      <td>6211.0</td>\n      <td>6.0</td>\n      <td>100.0</td>\n      <td>130.0</td>\n      <td>I; Go</td>\n      <td>fSms</td>\n      <td>2.5Y 6/4</td>\n      <td>1.0</td>\n      <td>C0</td>\n      <td>h0</td>\n      <td>Wf4</td>\n      <td>NaN</td>\n      <td>NaN</td>\n      <td>NaN</td>\n      <td>NaN</td>\n      <td>NaN</td>\n      <td>NaN</td>\n    </tr>\n    <tr>\n      <th>15205</th>\n      <td>6211.0</td>\n      <td>7.0</td>\n      <td>130.0</td>\n      <td>155.0</td>\n      <td>I; Gr</td>\n      <td>fSms</td>\n      <td>2.5Y 5/4</td>\n      <td>1.0</td>\n      <td>C0</td>\n      <td>h0</td>\n      <td>Wf2</td>\n      <td>NaN</td>\n      <td>NaN</td>\n      <td>NaN</td>\n      <td>NaN</td>\n      <td>NaN</td>\n      <td>NaN</td>\n    </tr>\n  </tbody>\n</table>\n<p>15206 rows × 17 columns</p>\n</div>"
     },
     "execution_count": 4,
     "metadata": {},
     "output_type": "execute_result"
    }
   ],
   "source": [
    "df = pd.read_csv(path_csv)\n",
    "print(len(df.index))\n",
    "df = df.dropna(subset=['Horizontsymbol'])\n",
    "print(len(df.index))\n",
    "df#.head()"
   ],
   "metadata": {
    "collapsed": false,
    "pycharm": {
     "name": "#%%\n"
    }
   }
  },
  {
   "cell_type": "code",
   "execution_count": 5,
   "outputs": [
    {
     "data": {
      "text/plain": "  Horiz  Anzahl im Datensatz relevanter Anteil stark vereinfacht\n0    Ap                 1762                Ap                Ap\n1    Bv                  626                Bv                Bv\n2  ilCv                  620               ilC                Cv\n3  elCv                  500               elC                Cv\n4    Ah                  455                Ah                Ah",
      "text/html": "<div>\n<style scoped>\n    .dataframe tbody tr th:only-of-type {\n        vertical-align: middle;\n    }\n\n    .dataframe tbody tr th {\n        vertical-align: top;\n    }\n\n    .dataframe thead th {\n        text-align: right;\n    }\n</style>\n<table border=\"1\" class=\"dataframe\">\n  <thead>\n    <tr style=\"text-align: right;\">\n      <th></th>\n      <th>Horiz</th>\n      <th>Anzahl im Datensatz</th>\n      <th>relevanter Anteil</th>\n      <th>stark vereinfacht</th>\n    </tr>\n  </thead>\n  <tbody>\n    <tr>\n      <th>0</th>\n      <td>Ap</td>\n      <td>1762</td>\n      <td>Ap</td>\n      <td>Ap</td>\n    </tr>\n    <tr>\n      <th>1</th>\n      <td>Bv</td>\n      <td>626</td>\n      <td>Bv</td>\n      <td>Bv</td>\n    </tr>\n    <tr>\n      <th>2</th>\n      <td>ilCv</td>\n      <td>620</td>\n      <td>ilC</td>\n      <td>Cv</td>\n    </tr>\n    <tr>\n      <th>3</th>\n      <td>elCv</td>\n      <td>500</td>\n      <td>elC</td>\n      <td>Cv</td>\n    </tr>\n    <tr>\n      <th>4</th>\n      <td>Ah</td>\n      <td>455</td>\n      <td>Ah</td>\n      <td>Ah</td>\n    </tr>\n  </tbody>\n</table>\n</div>"
     },
     "execution_count": 5,
     "metadata": {},
     "output_type": "execute_result"
    }
   ],
   "source": [
    "df_simple = pd.read_csv(path_horizons_simple)\n",
    "df_simple.rename(columns={\"relevanter Anteil = was sinntragend und detektierbar ist - es sind nicht alles gültige Symbole\": \"relevanter Anteil\"}, inplace=True)\n",
    "df_simple.head()"
   ],
   "metadata": {
    "collapsed": false,
    "pycharm": {
     "name": "#%%\n"
    }
   }
  },
  {
   "cell_type": "code",
   "execution_count": 6,
   "outputs": [
    {
     "data": {
      "text/plain": "        Point  HorizontID  Obergrenze  Untergrenze Horizontsymbol  \\\n0         2.0         1.0         0.0         28.0          I; Ap   \n1         2.0         2.0        28.0         54.0           I; E   \n2         2.0         3.0        54.0         68.0         II; Bv   \n3         2.0         4.0        68.0         96.0   III; Bv-ilCv   \n4         2.0         5.0        96.0        201.0      III; ilCv   \n...       ...         ...         ...          ...            ...   \n15201  6211.0         3.0        27.0         50.0      I; Bbh+Bs   \n15202  6211.0         4.0        50.0         70.0      I; Bbs+Bs   \n15203  6211.0         5.0        70.0        100.0      I; Go-Bbs   \n15204  6211.0         6.0       100.0        130.0          I; Go   \n15205  6211.0         7.0       130.0        155.0          I; Gr   \n\n      Horizontsymbol_relevant Bodenart Bodenfarbe  Steine Karbonat  \\\n0                          Ap      Sl2  7.5YR 3/2     3.0       C0   \n1                           E      Sl2   10YR 3/3     3.0       C0   \n2                          Bv      Sl2  7.5YR 4/3    10.0       C0   \n3                      Bv-ilC     fSms  7.5YR 6/4     1.0       C0   \n4                         ilC     mSfs   10YR 7/4     1.0       C0   \n...                       ...      ...        ...     ...      ...   \n15201                  Bbh+Bs     fSms    5YR 3/2     1.0       C0   \n15202                  Bbs+Bs     fSms    5YR 4/3     1.0       C0   \n15203                  Go-Bbs     fSms  7.5YR 5/4     1.0       C0   \n15204                      Go     fSms   2.5Y 6/4     1.0       C0   \n15205                      Gr     fSms   2.5Y 5/4     1.0       C0   \n\n      Humusgehaltsklasse Durchwurzelung  Unnamed: 11 Bundesland  PointID  \\\n0                     h3            Wf4          NaN         SH      2.0   \n1                     h2            Wf3          NaN         SH      3.0   \n2                     h1            Wf3          NaN         SH      4.0   \n3                     h0            Wf2          NaN         SH      5.0   \n4                     h0            NaN          NaN         SH      6.0   \n...                  ...            ...          ...        ...      ...   \n15201                 h2            Wf3          NaN        NaN      NaN   \n15202                 h1            Wf2          NaN        NaN      NaN   \n15203                 h1            Wf6          NaN        NaN      NaN   \n15204                 h0            Wf4          NaN        NaN      NaN   \n15205                 h0            Wf2          NaN        NaN      NaN   \n\n       Unnamed: 14    profile  max_depth  \n0              NaN  BB_0541.0      100.0  \n1              NaN  BB_0600.0       90.0  \n2              NaN  BB_0601.0      100.0  \n3              NaN  BB_0659.0      100.0  \n4              NaN  BB_0660.0      100.0  \n...            ...        ...        ...  \n15201          NaN        NaN        NaN  \n15202          NaN        NaN        NaN  \n15203          NaN        NaN        NaN  \n15204          NaN        NaN        NaN  \n15205          NaN        NaN        NaN  \n\n[15206 rows x 18 columns]",
      "text/html": "<div>\n<style scoped>\n    .dataframe tbody tr th:only-of-type {\n        vertical-align: middle;\n    }\n\n    .dataframe tbody tr th {\n        vertical-align: top;\n    }\n\n    .dataframe thead th {\n        text-align: right;\n    }\n</style>\n<table border=\"1\" class=\"dataframe\">\n  <thead>\n    <tr style=\"text-align: right;\">\n      <th></th>\n      <th>Point</th>\n      <th>HorizontID</th>\n      <th>Obergrenze</th>\n      <th>Untergrenze</th>\n      <th>Horizontsymbol</th>\n      <th>Horizontsymbol_relevant</th>\n      <th>Bodenart</th>\n      <th>Bodenfarbe</th>\n      <th>Steine</th>\n      <th>Karbonat</th>\n      <th>Humusgehaltsklasse</th>\n      <th>Durchwurzelung</th>\n      <th>Unnamed: 11</th>\n      <th>Bundesland</th>\n      <th>PointID</th>\n      <th>Unnamed: 14</th>\n      <th>profile</th>\n      <th>max_depth</th>\n    </tr>\n  </thead>\n  <tbody>\n    <tr>\n      <th>0</th>\n      <td>2.0</td>\n      <td>1.0</td>\n      <td>0.0</td>\n      <td>28.0</td>\n      <td>I; Ap</td>\n      <td>Ap</td>\n      <td>Sl2</td>\n      <td>7.5YR 3/2</td>\n      <td>3.0</td>\n      <td>C0</td>\n      <td>h3</td>\n      <td>Wf4</td>\n      <td>NaN</td>\n      <td>SH</td>\n      <td>2.0</td>\n      <td>NaN</td>\n      <td>BB_0541.0</td>\n      <td>100.0</td>\n    </tr>\n    <tr>\n      <th>1</th>\n      <td>2.0</td>\n      <td>2.0</td>\n      <td>28.0</td>\n      <td>54.0</td>\n      <td>I; E</td>\n      <td>E</td>\n      <td>Sl2</td>\n      <td>10YR 3/3</td>\n      <td>3.0</td>\n      <td>C0</td>\n      <td>h2</td>\n      <td>Wf3</td>\n      <td>NaN</td>\n      <td>SH</td>\n      <td>3.0</td>\n      <td>NaN</td>\n      <td>BB_0600.0</td>\n      <td>90.0</td>\n    </tr>\n    <tr>\n      <th>2</th>\n      <td>2.0</td>\n      <td>3.0</td>\n      <td>54.0</td>\n      <td>68.0</td>\n      <td>II; Bv</td>\n      <td>Bv</td>\n      <td>Sl2</td>\n      <td>7.5YR 4/3</td>\n      <td>10.0</td>\n      <td>C0</td>\n      <td>h1</td>\n      <td>Wf3</td>\n      <td>NaN</td>\n      <td>SH</td>\n      <td>4.0</td>\n      <td>NaN</td>\n      <td>BB_0601.0</td>\n      <td>100.0</td>\n    </tr>\n    <tr>\n      <th>3</th>\n      <td>2.0</td>\n      <td>4.0</td>\n      <td>68.0</td>\n      <td>96.0</td>\n      <td>III; Bv-ilCv</td>\n      <td>Bv-ilC</td>\n      <td>fSms</td>\n      <td>7.5YR 6/4</td>\n      <td>1.0</td>\n      <td>C0</td>\n      <td>h0</td>\n      <td>Wf2</td>\n      <td>NaN</td>\n      <td>SH</td>\n      <td>5.0</td>\n      <td>NaN</td>\n      <td>BB_0659.0</td>\n      <td>100.0</td>\n    </tr>\n    <tr>\n      <th>4</th>\n      <td>2.0</td>\n      <td>5.0</td>\n      <td>96.0</td>\n      <td>201.0</td>\n      <td>III; ilCv</td>\n      <td>ilC</td>\n      <td>mSfs</td>\n      <td>10YR 7/4</td>\n      <td>1.0</td>\n      <td>C0</td>\n      <td>h0</td>\n      <td>NaN</td>\n      <td>NaN</td>\n      <td>SH</td>\n      <td>6.0</td>\n      <td>NaN</td>\n      <td>BB_0660.0</td>\n      <td>100.0</td>\n    </tr>\n    <tr>\n      <th>...</th>\n      <td>...</td>\n      <td>...</td>\n      <td>...</td>\n      <td>...</td>\n      <td>...</td>\n      <td>...</td>\n      <td>...</td>\n      <td>...</td>\n      <td>...</td>\n      <td>...</td>\n      <td>...</td>\n      <td>...</td>\n      <td>...</td>\n      <td>...</td>\n      <td>...</td>\n      <td>...</td>\n      <td>...</td>\n      <td>...</td>\n    </tr>\n    <tr>\n      <th>15201</th>\n      <td>6211.0</td>\n      <td>3.0</td>\n      <td>27.0</td>\n      <td>50.0</td>\n      <td>I; Bbh+Bs</td>\n      <td>Bbh+Bs</td>\n      <td>fSms</td>\n      <td>5YR 3/2</td>\n      <td>1.0</td>\n      <td>C0</td>\n      <td>h2</td>\n      <td>Wf3</td>\n      <td>NaN</td>\n      <td>NaN</td>\n      <td>NaN</td>\n      <td>NaN</td>\n      <td>NaN</td>\n      <td>NaN</td>\n    </tr>\n    <tr>\n      <th>15202</th>\n      <td>6211.0</td>\n      <td>4.0</td>\n      <td>50.0</td>\n      <td>70.0</td>\n      <td>I; Bbs+Bs</td>\n      <td>Bbs+Bs</td>\n      <td>fSms</td>\n      <td>5YR 4/3</td>\n      <td>1.0</td>\n      <td>C0</td>\n      <td>h1</td>\n      <td>Wf2</td>\n      <td>NaN</td>\n      <td>NaN</td>\n      <td>NaN</td>\n      <td>NaN</td>\n      <td>NaN</td>\n      <td>NaN</td>\n    </tr>\n    <tr>\n      <th>15203</th>\n      <td>6211.0</td>\n      <td>5.0</td>\n      <td>70.0</td>\n      <td>100.0</td>\n      <td>I; Go-Bbs</td>\n      <td>Go-Bbs</td>\n      <td>fSms</td>\n      <td>7.5YR 5/4</td>\n      <td>1.0</td>\n      <td>C0</td>\n      <td>h1</td>\n      <td>Wf6</td>\n      <td>NaN</td>\n      <td>NaN</td>\n      <td>NaN</td>\n      <td>NaN</td>\n      <td>NaN</td>\n      <td>NaN</td>\n    </tr>\n    <tr>\n      <th>15204</th>\n      <td>6211.0</td>\n      <td>6.0</td>\n      <td>100.0</td>\n      <td>130.0</td>\n      <td>I; Go</td>\n      <td>Go</td>\n      <td>fSms</td>\n      <td>2.5Y 6/4</td>\n      <td>1.0</td>\n      <td>C0</td>\n      <td>h0</td>\n      <td>Wf4</td>\n      <td>NaN</td>\n      <td>NaN</td>\n      <td>NaN</td>\n      <td>NaN</td>\n      <td>NaN</td>\n      <td>NaN</td>\n    </tr>\n    <tr>\n      <th>15205</th>\n      <td>6211.0</td>\n      <td>7.0</td>\n      <td>130.0</td>\n      <td>155.0</td>\n      <td>I; Gr</td>\n      <td>Gr</td>\n      <td>fSms</td>\n      <td>2.5Y 5/4</td>\n      <td>1.0</td>\n      <td>C0</td>\n      <td>h0</td>\n      <td>Wf2</td>\n      <td>NaN</td>\n      <td>NaN</td>\n      <td>NaN</td>\n      <td>NaN</td>\n      <td>NaN</td>\n      <td>NaN</td>\n    </tr>\n  </tbody>\n</table>\n<p>15206 rows × 18 columns</p>\n</div>"
     },
     "execution_count": 6,
     "metadata": {},
     "output_type": "execute_result"
    }
   ],
   "source": [
    "# Add an extra column to the original dataset with the simplified horizon symbols\n",
    "\n",
    "# Apply the simplification function to each row of the 'Horizontsymbol' column\n",
    "col_name = \"relevanter Anteil\" # try to predict 'relevanter Anteil' first; otherwise, resort to 'stark vereinfacht'\n",
    "df['Horizontsymbol_relevant'] = df['Horizontsymbol'].apply(lambda x: bgr_data.simplify_string(x, df_simple, col_name))\n",
    "\n",
    "# Reorder the columns\n",
    "cols = df.columns.tolist()\n",
    "cols.insert(cols.index('Horizontsymbol') + 1, 'Horizontsymbol_relevant')\n",
    "cols.pop() # remove the duplicate at the end\n",
    "df = df[cols]\n",
    "df"
   ],
   "metadata": {
    "collapsed": false,
    "pycharm": {
     "name": "#%%\n"
    }
   }
  },
  {
   "cell_type": "markdown",
   "source": [
    "#### Join images and further tables"
   ],
   "metadata": {
    "collapsed": false
   }
  },
  {
   "cell_type": "code",
   "execution_count": 7,
   "outputs": [
    {
     "data": {
      "text/plain": "               file   Point\n0   BB_0896_Y_1.JPG   896.0\n1   BB_0903_Y_1.JPG   903.0\n2   BW_4930_Y_1.JPG  4930.0\n3   BW_5183_Y_1.JPG  5183.0\n4   BW_5462_Y_1.JPG  5462.0\n5   BY_3651_Y_1.JPG  3651.0\n6   BY_3934_Y_1.JPG  3934.0\n7   BY_3979_Y_1.JPG  3979.0\n8   BY_4039_Y_1.JPG  4039.0\n9   BY_4302_Y_1.JPG  4302.0\n10  BY_4360_Y_1.JPG  4360.0\n11  BY_4568_Y_1.JPG  4568.0\n12  BY_4895_Y_1.JPG  4895.0\n13  BY_4910_Y_1.JPG  4910.0\n14  BY_5439_Y_1.JPG  5439.0",
      "text/html": "<div>\n<style scoped>\n    .dataframe tbody tr th:only-of-type {\n        vertical-align: middle;\n    }\n\n    .dataframe tbody tr th {\n        vertical-align: top;\n    }\n\n    .dataframe thead th {\n        text-align: right;\n    }\n</style>\n<table border=\"1\" class=\"dataframe\">\n  <thead>\n    <tr style=\"text-align: right;\">\n      <th></th>\n      <th>file</th>\n      <th>Point</th>\n    </tr>\n  </thead>\n  <tbody>\n    <tr>\n      <th>0</th>\n      <td>BB_0896_Y_1.JPG</td>\n      <td>896.0</td>\n    </tr>\n    <tr>\n      <th>1</th>\n      <td>BB_0903_Y_1.JPG</td>\n      <td>903.0</td>\n    </tr>\n    <tr>\n      <th>2</th>\n      <td>BW_4930_Y_1.JPG</td>\n      <td>4930.0</td>\n    </tr>\n    <tr>\n      <th>3</th>\n      <td>BW_5183_Y_1.JPG</td>\n      <td>5183.0</td>\n    </tr>\n    <tr>\n      <th>4</th>\n      <td>BW_5462_Y_1.JPG</td>\n      <td>5462.0</td>\n    </tr>\n    <tr>\n      <th>5</th>\n      <td>BY_3651_Y_1.JPG</td>\n      <td>3651.0</td>\n    </tr>\n    <tr>\n      <th>6</th>\n      <td>BY_3934_Y_1.JPG</td>\n      <td>3934.0</td>\n    </tr>\n    <tr>\n      <th>7</th>\n      <td>BY_3979_Y_1.JPG</td>\n      <td>3979.0</td>\n    </tr>\n    <tr>\n      <th>8</th>\n      <td>BY_4039_Y_1.JPG</td>\n      <td>4039.0</td>\n    </tr>\n    <tr>\n      <th>9</th>\n      <td>BY_4302_Y_1.JPG</td>\n      <td>4302.0</td>\n    </tr>\n    <tr>\n      <th>10</th>\n      <td>BY_4360_Y_1.JPG</td>\n      <td>4360.0</td>\n    </tr>\n    <tr>\n      <th>11</th>\n      <td>BY_4568_Y_1.JPG</td>\n      <td>4568.0</td>\n    </tr>\n    <tr>\n      <th>12</th>\n      <td>BY_4895_Y_1.JPG</td>\n      <td>4895.0</td>\n    </tr>\n    <tr>\n      <th>13</th>\n      <td>BY_4910_Y_1.JPG</td>\n      <td>4910.0</td>\n    </tr>\n    <tr>\n      <th>14</th>\n      <td>BY_5439_Y_1.JPG</td>\n      <td>5439.0</td>\n    </tr>\n  </tbody>\n</table>\n</div>"
     },
     "execution_count": 7,
     "metadata": {},
     "output_type": "execute_result"
    }
   ],
   "source": [
    "# Read image dataset and add file path as extra column to df\n",
    "image_dataset = os.listdir(path_pictures)\n",
    "img_files = pd.DataFrame(image_dataset, columns=['file'])\n",
    "img_files['Point'] = img_files['file'].str.split(\"_\").map(lambda x: x[1]).astype(float) # for error 'list index out of range', delete @eaDir\n",
    "#img_files['HorizontID'] = img_files['file'].str.split('.').map(lambda x: x[0][-1]).astype(float) # uncomment only for segmented horizon patches\n",
    "img_files.head(15)"
   ],
   "metadata": {
    "collapsed": false,
    "pycharm": {
     "name": "#%%\n"
    }
   }
  },
  {
   "cell_type": "code",
   "execution_count": 8,
   "outputs": [
    {
     "name": "stdout",
     "output_type": "stream",
     "text": [
      "16316\n"
     ]
    },
    {
     "data": {
      "text/plain": "    Point  HorizontID  Obergrenze  Untergrenze Horizontsymbol  \\\n0     2.0         1.0         0.0         28.0          I; Ap   \n1     2.0         2.0        28.0         54.0           I; E   \n2     2.0         3.0        54.0         68.0         II; Bv   \n3     2.0         4.0        68.0         96.0   III; Bv-ilCv   \n4     2.0         5.0        96.0        201.0      III; ilCv   \n5     3.0         1.0         0.0         12.0     I; tbSw-Ah   \n6     3.0         2.0        12.0         30.0    I; tbSw-rAp   \n7     3.0         3.0        30.0         54.0    I; tbrGo-Sw   \n8     3.0         4.0        54.0        125.0     I; tbGo-Sd   \n9     3.0         5.0       125.0        160.0      II; tmGor   \n10    3.0         6.0       160.0        201.0      II; tmeGr   \n11    4.0         1.0         0.0         30.0     I; Sw-tbAp   \n12    4.0         2.0        30.0         74.0        I; tbSq   \n13    4.0         3.0        74.0        140.0       I; tbGro   \n14    4.0         4.0       140.0        200.0        I; tbGr   \n\n   Horizontsymbol_relevant Bodenart   Bodenfarbe  Steine Karbonat  \\\n0                       Ap      Sl2    7.5YR 3/2     3.0       C0   \n1                        E      Sl2     10YR 3/3     3.0       C0   \n2                       Bv      Sl2    7.5YR 4/3    10.0       C0   \n3                   Bv-ilC     fSms    7.5YR 6/4     1.0       C0   \n4                      ilC     mSfs     10YR 7/4     1.0       C0   \n5                   tSw-Ah      Ls3     10YR 4/2     0.0       C0   \n6                   tSw-Ap      Ls2     10YR 4/2     0.0       C0   \n7                   tGo-Sw      Ls4     2.5Y 5/1     0.0       C0   \n8                   tGo-Sd       Lu       5Y 5/1     0.0       C0   \n9                     tGor      Su3       5Y 5/1     0.0       C0   \n10                     tGr      Su3  GLEY1 4/5GY     0.0     C3.2   \n11                  Sw-tAp      Tu3       5Y 5/2     0.0       C0   \n12                     tSq      Tu3       5Y 5/1     0.0       C0   \n13                    tGro      Tu4       5Y 6/1     0.0       C0   \n14                     tGr      Tu4    GLEY1 5/N     0.0       C0   \n\n   Humusgehaltsklasse Durchwurzelung  Unnamed: 11 Bundesland  PointID  \\\n0                  h3            Wf4          NaN         SH      2.0   \n1                  h2            Wf3          NaN         SH      3.0   \n2                  h1            Wf3          NaN         SH      4.0   \n3                  h0            Wf2          NaN         SH      5.0   \n4                  h0            NaN          NaN         SH      6.0   \n5                  h3            Wf6          NaN         SH      7.0   \n6                  h2            Wf4          NaN         SH      8.0   \n7                  h1            Wf2          NaN         SH     10.0   \n8                  h1            NaN          NaN         SH     11.0   \n9                  h1            NaN          NaN         SH     12.0   \n10                 h1            NaN          NaN         SH     14.0   \n11                 h3            Wf4          NaN         SH     15.0   \n12                 h1            Wf3          NaN         SH     16.0   \n13                 h0            Wf1          NaN         SH     17.0   \n14                 h0            NaN          NaN         SH     18.0   \n\n    Unnamed: 14    profile  max_depth  \\\n0           NaN  BB_0541.0      100.0   \n1           NaN  BB_0600.0       90.0   \n2           NaN  BB_0601.0      100.0   \n3           NaN  BB_0659.0      100.0   \n4           NaN  BB_0660.0      100.0   \n5           NaN  BB_0661.0      100.0   \n6           NaN  BB_0662.0      100.0   \n7           NaN  BB_0663.0      100.0   \n8           NaN  BB_0718.0      100.0   \n9           NaN  BB_0720.0      110.0   \n10          NaN  BB_0721.0      100.0   \n11          NaN  BB_0722.0      100.0   \n12          NaN  BB_0723.0      100.0   \n13          NaN  BB_0725.0       90.0   \n14          NaN  BB_0781.0      100.0   \n\n                                                 file  \n0   ../data/BGR/Profilbilder_no_ruler_no_sky/SH_00...  \n1   ../data/BGR/Profilbilder_no_ruler_no_sky/SH_00...  \n2   ../data/BGR/Profilbilder_no_ruler_no_sky/SH_00...  \n3   ../data/BGR/Profilbilder_no_ruler_no_sky/SH_00...  \n4   ../data/BGR/Profilbilder_no_ruler_no_sky/SH_00...  \n5   ../data/BGR/Profilbilder_no_ruler_no_sky/SH_00...  \n6   ../data/BGR/Profilbilder_no_ruler_no_sky/SH_00...  \n7   ../data/BGR/Profilbilder_no_ruler_no_sky/SH_00...  \n8   ../data/BGR/Profilbilder_no_ruler_no_sky/SH_00...  \n9   ../data/BGR/Profilbilder_no_ruler_no_sky/SH_00...  \n10  ../data/BGR/Profilbilder_no_ruler_no_sky/SH_00...  \n11  ../data/BGR/Profilbilder_no_ruler_no_sky/SH_00...  \n12  ../data/BGR/Profilbilder_no_ruler_no_sky/SH_00...  \n13  ../data/BGR/Profilbilder_no_ruler_no_sky/SH_00...  \n14  ../data/BGR/Profilbilder_no_ruler_no_sky/SH_00...  ",
      "text/html": "<div>\n<style scoped>\n    .dataframe tbody tr th:only-of-type {\n        vertical-align: middle;\n    }\n\n    .dataframe tbody tr th {\n        vertical-align: top;\n    }\n\n    .dataframe thead th {\n        text-align: right;\n    }\n</style>\n<table border=\"1\" class=\"dataframe\">\n  <thead>\n    <tr style=\"text-align: right;\">\n      <th></th>\n      <th>Point</th>\n      <th>HorizontID</th>\n      <th>Obergrenze</th>\n      <th>Untergrenze</th>\n      <th>Horizontsymbol</th>\n      <th>Horizontsymbol_relevant</th>\n      <th>Bodenart</th>\n      <th>Bodenfarbe</th>\n      <th>Steine</th>\n      <th>Karbonat</th>\n      <th>Humusgehaltsklasse</th>\n      <th>Durchwurzelung</th>\n      <th>Unnamed: 11</th>\n      <th>Bundesland</th>\n      <th>PointID</th>\n      <th>Unnamed: 14</th>\n      <th>profile</th>\n      <th>max_depth</th>\n      <th>file</th>\n    </tr>\n  </thead>\n  <tbody>\n    <tr>\n      <th>0</th>\n      <td>2.0</td>\n      <td>1.0</td>\n      <td>0.0</td>\n      <td>28.0</td>\n      <td>I; Ap</td>\n      <td>Ap</td>\n      <td>Sl2</td>\n      <td>7.5YR 3/2</td>\n      <td>3.0</td>\n      <td>C0</td>\n      <td>h3</td>\n      <td>Wf4</td>\n      <td>NaN</td>\n      <td>SH</td>\n      <td>2.0</td>\n      <td>NaN</td>\n      <td>BB_0541.0</td>\n      <td>100.0</td>\n      <td>../data/BGR/Profilbilder_no_ruler_no_sky/SH_00...</td>\n    </tr>\n    <tr>\n      <th>1</th>\n      <td>2.0</td>\n      <td>2.0</td>\n      <td>28.0</td>\n      <td>54.0</td>\n      <td>I; E</td>\n      <td>E</td>\n      <td>Sl2</td>\n      <td>10YR 3/3</td>\n      <td>3.0</td>\n      <td>C0</td>\n      <td>h2</td>\n      <td>Wf3</td>\n      <td>NaN</td>\n      <td>SH</td>\n      <td>3.0</td>\n      <td>NaN</td>\n      <td>BB_0600.0</td>\n      <td>90.0</td>\n      <td>../data/BGR/Profilbilder_no_ruler_no_sky/SH_00...</td>\n    </tr>\n    <tr>\n      <th>2</th>\n      <td>2.0</td>\n      <td>3.0</td>\n      <td>54.0</td>\n      <td>68.0</td>\n      <td>II; Bv</td>\n      <td>Bv</td>\n      <td>Sl2</td>\n      <td>7.5YR 4/3</td>\n      <td>10.0</td>\n      <td>C0</td>\n      <td>h1</td>\n      <td>Wf3</td>\n      <td>NaN</td>\n      <td>SH</td>\n      <td>4.0</td>\n      <td>NaN</td>\n      <td>BB_0601.0</td>\n      <td>100.0</td>\n      <td>../data/BGR/Profilbilder_no_ruler_no_sky/SH_00...</td>\n    </tr>\n    <tr>\n      <th>3</th>\n      <td>2.0</td>\n      <td>4.0</td>\n      <td>68.0</td>\n      <td>96.0</td>\n      <td>III; Bv-ilCv</td>\n      <td>Bv-ilC</td>\n      <td>fSms</td>\n      <td>7.5YR 6/4</td>\n      <td>1.0</td>\n      <td>C0</td>\n      <td>h0</td>\n      <td>Wf2</td>\n      <td>NaN</td>\n      <td>SH</td>\n      <td>5.0</td>\n      <td>NaN</td>\n      <td>BB_0659.0</td>\n      <td>100.0</td>\n      <td>../data/BGR/Profilbilder_no_ruler_no_sky/SH_00...</td>\n    </tr>\n    <tr>\n      <th>4</th>\n      <td>2.0</td>\n      <td>5.0</td>\n      <td>96.0</td>\n      <td>201.0</td>\n      <td>III; ilCv</td>\n      <td>ilC</td>\n      <td>mSfs</td>\n      <td>10YR 7/4</td>\n      <td>1.0</td>\n      <td>C0</td>\n      <td>h0</td>\n      <td>NaN</td>\n      <td>NaN</td>\n      <td>SH</td>\n      <td>6.0</td>\n      <td>NaN</td>\n      <td>BB_0660.0</td>\n      <td>100.0</td>\n      <td>../data/BGR/Profilbilder_no_ruler_no_sky/SH_00...</td>\n    </tr>\n    <tr>\n      <th>5</th>\n      <td>3.0</td>\n      <td>1.0</td>\n      <td>0.0</td>\n      <td>12.0</td>\n      <td>I; tbSw-Ah</td>\n      <td>tSw-Ah</td>\n      <td>Ls3</td>\n      <td>10YR 4/2</td>\n      <td>0.0</td>\n      <td>C0</td>\n      <td>h3</td>\n      <td>Wf6</td>\n      <td>NaN</td>\n      <td>SH</td>\n      <td>7.0</td>\n      <td>NaN</td>\n      <td>BB_0661.0</td>\n      <td>100.0</td>\n      <td>../data/BGR/Profilbilder_no_ruler_no_sky/SH_00...</td>\n    </tr>\n    <tr>\n      <th>6</th>\n      <td>3.0</td>\n      <td>2.0</td>\n      <td>12.0</td>\n      <td>30.0</td>\n      <td>I; tbSw-rAp</td>\n      <td>tSw-Ap</td>\n      <td>Ls2</td>\n      <td>10YR 4/2</td>\n      <td>0.0</td>\n      <td>C0</td>\n      <td>h2</td>\n      <td>Wf4</td>\n      <td>NaN</td>\n      <td>SH</td>\n      <td>8.0</td>\n      <td>NaN</td>\n      <td>BB_0662.0</td>\n      <td>100.0</td>\n      <td>../data/BGR/Profilbilder_no_ruler_no_sky/SH_00...</td>\n    </tr>\n    <tr>\n      <th>7</th>\n      <td>3.0</td>\n      <td>3.0</td>\n      <td>30.0</td>\n      <td>54.0</td>\n      <td>I; tbrGo-Sw</td>\n      <td>tGo-Sw</td>\n      <td>Ls4</td>\n      <td>2.5Y 5/1</td>\n      <td>0.0</td>\n      <td>C0</td>\n      <td>h1</td>\n      <td>Wf2</td>\n      <td>NaN</td>\n      <td>SH</td>\n      <td>10.0</td>\n      <td>NaN</td>\n      <td>BB_0663.0</td>\n      <td>100.0</td>\n      <td>../data/BGR/Profilbilder_no_ruler_no_sky/SH_00...</td>\n    </tr>\n    <tr>\n      <th>8</th>\n      <td>3.0</td>\n      <td>4.0</td>\n      <td>54.0</td>\n      <td>125.0</td>\n      <td>I; tbGo-Sd</td>\n      <td>tGo-Sd</td>\n      <td>Lu</td>\n      <td>5Y 5/1</td>\n      <td>0.0</td>\n      <td>C0</td>\n      <td>h1</td>\n      <td>NaN</td>\n      <td>NaN</td>\n      <td>SH</td>\n      <td>11.0</td>\n      <td>NaN</td>\n      <td>BB_0718.0</td>\n      <td>100.0</td>\n      <td>../data/BGR/Profilbilder_no_ruler_no_sky/SH_00...</td>\n    </tr>\n    <tr>\n      <th>9</th>\n      <td>3.0</td>\n      <td>5.0</td>\n      <td>125.0</td>\n      <td>160.0</td>\n      <td>II; tmGor</td>\n      <td>tGor</td>\n      <td>Su3</td>\n      <td>5Y 5/1</td>\n      <td>0.0</td>\n      <td>C0</td>\n      <td>h1</td>\n      <td>NaN</td>\n      <td>NaN</td>\n      <td>SH</td>\n      <td>12.0</td>\n      <td>NaN</td>\n      <td>BB_0720.0</td>\n      <td>110.0</td>\n      <td>../data/BGR/Profilbilder_no_ruler_no_sky/SH_00...</td>\n    </tr>\n    <tr>\n      <th>10</th>\n      <td>3.0</td>\n      <td>6.0</td>\n      <td>160.0</td>\n      <td>201.0</td>\n      <td>II; tmeGr</td>\n      <td>tGr</td>\n      <td>Su3</td>\n      <td>GLEY1 4/5GY</td>\n      <td>0.0</td>\n      <td>C3.2</td>\n      <td>h1</td>\n      <td>NaN</td>\n      <td>NaN</td>\n      <td>SH</td>\n      <td>14.0</td>\n      <td>NaN</td>\n      <td>BB_0721.0</td>\n      <td>100.0</td>\n      <td>../data/BGR/Profilbilder_no_ruler_no_sky/SH_00...</td>\n    </tr>\n    <tr>\n      <th>11</th>\n      <td>4.0</td>\n      <td>1.0</td>\n      <td>0.0</td>\n      <td>30.0</td>\n      <td>I; Sw-tbAp</td>\n      <td>Sw-tAp</td>\n      <td>Tu3</td>\n      <td>5Y 5/2</td>\n      <td>0.0</td>\n      <td>C0</td>\n      <td>h3</td>\n      <td>Wf4</td>\n      <td>NaN</td>\n      <td>SH</td>\n      <td>15.0</td>\n      <td>NaN</td>\n      <td>BB_0722.0</td>\n      <td>100.0</td>\n      <td>../data/BGR/Profilbilder_no_ruler_no_sky/SH_00...</td>\n    </tr>\n    <tr>\n      <th>12</th>\n      <td>4.0</td>\n      <td>2.0</td>\n      <td>30.0</td>\n      <td>74.0</td>\n      <td>I; tbSq</td>\n      <td>tSq</td>\n      <td>Tu3</td>\n      <td>5Y 5/1</td>\n      <td>0.0</td>\n      <td>C0</td>\n      <td>h1</td>\n      <td>Wf3</td>\n      <td>NaN</td>\n      <td>SH</td>\n      <td>16.0</td>\n      <td>NaN</td>\n      <td>BB_0723.0</td>\n      <td>100.0</td>\n      <td>../data/BGR/Profilbilder_no_ruler_no_sky/SH_00...</td>\n    </tr>\n    <tr>\n      <th>13</th>\n      <td>4.0</td>\n      <td>3.0</td>\n      <td>74.0</td>\n      <td>140.0</td>\n      <td>I; tbGro</td>\n      <td>tGro</td>\n      <td>Tu4</td>\n      <td>5Y 6/1</td>\n      <td>0.0</td>\n      <td>C0</td>\n      <td>h0</td>\n      <td>Wf1</td>\n      <td>NaN</td>\n      <td>SH</td>\n      <td>17.0</td>\n      <td>NaN</td>\n      <td>BB_0725.0</td>\n      <td>90.0</td>\n      <td>../data/BGR/Profilbilder_no_ruler_no_sky/SH_00...</td>\n    </tr>\n    <tr>\n      <th>14</th>\n      <td>4.0</td>\n      <td>4.0</td>\n      <td>140.0</td>\n      <td>200.0</td>\n      <td>I; tbGr</td>\n      <td>tGr</td>\n      <td>Tu4</td>\n      <td>GLEY1 5/N</td>\n      <td>0.0</td>\n      <td>C0</td>\n      <td>h0</td>\n      <td>NaN</td>\n      <td>NaN</td>\n      <td>SH</td>\n      <td>18.0</td>\n      <td>NaN</td>\n      <td>BB_0781.0</td>\n      <td>100.0</td>\n      <td>../data/BGR/Profilbilder_no_ruler_no_sky/SH_00...</td>\n    </tr>\n  </tbody>\n</table>\n</div>"
     },
     "execution_count": 8,
     "metadata": {},
     "output_type": "execute_result"
    }
   ],
   "source": [
    "df = pd.merge(df, img_files, how='inner', on=['Point']) # for full images\n",
    "#df = pd.merge(df, img_files, how='inner', on=['Point', 'HorizontID']) # for patches\n",
    "df['file'] = df['file'].map(lambda x: os.path.join(path_pictures, x))\n",
    "print(len(df))\n",
    "df.head(15)"
   ],
   "metadata": {
    "collapsed": false,
    "pycharm": {
     "name": "#%%\n"
    }
   }
  },
  {
   "cell_type": "markdown",
   "source": [
    "**Note**: When merging with the image dataset, the total dataframe increases in size, because some soil pictures were taken from more than one angle. These are still not duplicates, although the table features are the same for every such image."
   ],
   "metadata": {
    "collapsed": false
   }
  },
  {
   "cell_type": "code",
   "execution_count": 9,
   "outputs": [],
   "source": [
    "# Join with annotator ids\n",
    "#df_k = pd.read_csv(path_csv_annotator_ids)\n",
    "#df_k = df_k.rename({'PointID':'Point'},axis=1)\n",
    "#df_k.head()"
   ],
   "metadata": {
    "collapsed": false,
    "pycharm": {
     "name": "#%%\n"
    }
   }
  },
  {
   "cell_type": "code",
   "execution_count": 10,
   "outputs": [],
   "source": [
    "#df = pd.merge(df, df_k, how='inner', on='Point')\n",
    "#len(df)"
   ],
   "metadata": {
    "collapsed": false,
    "pycharm": {
     "name": "#%%\n"
    }
   }
  },
  {
   "cell_type": "markdown",
   "source": [
    "**Note**: When joining with the annotator ids, the size of df decreases, since we don't have this id for every sample in the df."
   ],
   "metadata": {
    "collapsed": false
   }
  },
  {
   "cell_type": "code",
   "execution_count": 11,
   "outputs": [
    {
     "name": "stdout",
     "output_type": "stream",
     "text": [
      "3106\n"
     ]
    },
    {
     "data": {
      "text/plain": "  Point Bundesland  Probenahme_Monat  Probenahme_Jahr       xcoord  \\\n0     2         SH                11             2015  462216.1283   \n1     3         SH                 6             2016  480546.9384   \n2     4         SH                 8             2018  484922.3074   \n3     5         SH                10             2015  497355.9905   \n4     6         SH                10             2015  505020.3377   \n\n        ycoord Bodenklimaraum_Name Landnutzung BZE_Moor Hauptbodentyp  \\\n0  6079359.775       Marsch - Nord           A        0            YE   \n1  6079739.216       Marsch - Nord           G        0            MD   \n2  6080011.471       Marsch - Nord           A        0            MK   \n3  6079646.589       Marsch - Nord           G        0            RQ   \n4   6080401.37        Geest - Nord           G        0            YU   \n\n  BodenVarTypSub GrundwaStufe GrundwaStand  Moormaechtigkeit  \\\n0          YE/BB            0         >200               0.0   \n1            MDn         GWS4          135               0.0   \n2            MKn         GWS4          105               0.0   \n3     p2RQ/GG-PP         GWS4          180               0.0   \n4        aGGe-YU         GWS4          140               0.0   \n\n   Torfmaechtigkeit Neigung Exposition Woelbung Reliefformtyp LageImRelief  \\\n0               0.0      N0        NaN       GG             V            Z   \n1               0.0      N0        NaN       GG           TSF            Z   \n2               0.0      N1         NE       GG            TH            Z   \n3               0.0    N0.2         SS       GG           KSF            K   \n4               0.0      N0        NaN       GG           TSF            Z   \n\n   KV_0_30  KV_30_100  \n0    81.89      54.19  \n1    71.62      59.74  \n2    65.60     120.40  \n3    88.82     220.87  \n4    62.97      84.35  ",
      "text/html": "<div>\n<style scoped>\n    .dataframe tbody tr th:only-of-type {\n        vertical-align: middle;\n    }\n\n    .dataframe tbody tr th {\n        vertical-align: top;\n    }\n\n    .dataframe thead th {\n        text-align: right;\n    }\n</style>\n<table border=\"1\" class=\"dataframe\">\n  <thead>\n    <tr style=\"text-align: right;\">\n      <th></th>\n      <th>Point</th>\n      <th>Bundesland</th>\n      <th>Probenahme_Monat</th>\n      <th>Probenahme_Jahr</th>\n      <th>xcoord</th>\n      <th>ycoord</th>\n      <th>Bodenklimaraum_Name</th>\n      <th>Landnutzung</th>\n      <th>BZE_Moor</th>\n      <th>Hauptbodentyp</th>\n      <th>BodenVarTypSub</th>\n      <th>GrundwaStufe</th>\n      <th>GrundwaStand</th>\n      <th>Moormaechtigkeit</th>\n      <th>Torfmaechtigkeit</th>\n      <th>Neigung</th>\n      <th>Exposition</th>\n      <th>Woelbung</th>\n      <th>Reliefformtyp</th>\n      <th>LageImRelief</th>\n      <th>KV_0_30</th>\n      <th>KV_30_100</th>\n    </tr>\n  </thead>\n  <tbody>\n    <tr>\n      <th>0</th>\n      <td>2</td>\n      <td>SH</td>\n      <td>11</td>\n      <td>2015</td>\n      <td>462216.1283</td>\n      <td>6079359.775</td>\n      <td>Marsch - Nord</td>\n      <td>A</td>\n      <td>0</td>\n      <td>YE</td>\n      <td>YE/BB</td>\n      <td>0</td>\n      <td>&gt;200</td>\n      <td>0.0</td>\n      <td>0.0</td>\n      <td>N0</td>\n      <td>NaN</td>\n      <td>GG</td>\n      <td>V</td>\n      <td>Z</td>\n      <td>81.89</td>\n      <td>54.19</td>\n    </tr>\n    <tr>\n      <th>1</th>\n      <td>3</td>\n      <td>SH</td>\n      <td>6</td>\n      <td>2016</td>\n      <td>480546.9384</td>\n      <td>6079739.216</td>\n      <td>Marsch - Nord</td>\n      <td>G</td>\n      <td>0</td>\n      <td>MD</td>\n      <td>MDn</td>\n      <td>GWS4</td>\n      <td>135</td>\n      <td>0.0</td>\n      <td>0.0</td>\n      <td>N0</td>\n      <td>NaN</td>\n      <td>GG</td>\n      <td>TSF</td>\n      <td>Z</td>\n      <td>71.62</td>\n      <td>59.74</td>\n    </tr>\n    <tr>\n      <th>2</th>\n      <td>4</td>\n      <td>SH</td>\n      <td>8</td>\n      <td>2018</td>\n      <td>484922.3074</td>\n      <td>6080011.471</td>\n      <td>Marsch - Nord</td>\n      <td>A</td>\n      <td>0</td>\n      <td>MK</td>\n      <td>MKn</td>\n      <td>GWS4</td>\n      <td>105</td>\n      <td>0.0</td>\n      <td>0.0</td>\n      <td>N1</td>\n      <td>NE</td>\n      <td>GG</td>\n      <td>TH</td>\n      <td>Z</td>\n      <td>65.60</td>\n      <td>120.40</td>\n    </tr>\n    <tr>\n      <th>3</th>\n      <td>5</td>\n      <td>SH</td>\n      <td>10</td>\n      <td>2015</td>\n      <td>497355.9905</td>\n      <td>6079646.589</td>\n      <td>Marsch - Nord</td>\n      <td>G</td>\n      <td>0</td>\n      <td>RQ</td>\n      <td>p2RQ/GG-PP</td>\n      <td>GWS4</td>\n      <td>180</td>\n      <td>0.0</td>\n      <td>0.0</td>\n      <td>N0.2</td>\n      <td>SS</td>\n      <td>GG</td>\n      <td>KSF</td>\n      <td>K</td>\n      <td>88.82</td>\n      <td>220.87</td>\n    </tr>\n    <tr>\n      <th>4</th>\n      <td>6</td>\n      <td>SH</td>\n      <td>10</td>\n      <td>2015</td>\n      <td>505020.3377</td>\n      <td>6080401.37</td>\n      <td>Geest - Nord</td>\n      <td>G</td>\n      <td>0</td>\n      <td>YU</td>\n      <td>aGGe-YU</td>\n      <td>GWS4</td>\n      <td>140</td>\n      <td>0.0</td>\n      <td>0.0</td>\n      <td>N0</td>\n      <td>NaN</td>\n      <td>GG</td>\n      <td>TSF</td>\n      <td>Z</td>\n      <td>62.97</td>\n      <td>84.35</td>\n    </tr>\n  </tbody>\n</table>\n</div>"
     },
     "execution_count": 11,
     "metadata": {},
     "output_type": "execute_result"
    }
   ],
   "source": [
    "# Join with table containing geographical infos\n",
    "df_loc = pd.read_csv(path_csv_locations, encoding='unicode_escape')\n",
    "df_loc = df_loc.rename({'PointID':'Point'},axis=1)\n",
    "print(len(df_loc))\n",
    "df_loc.head()"
   ],
   "metadata": {
    "collapsed": false,
    "pycharm": {
     "name": "#%%\n"
    }
   }
  },
  {
   "cell_type": "code",
   "execution_count": 12,
   "outputs": [
    {
     "data": {
      "text/plain": "16316"
     },
     "execution_count": 12,
     "metadata": {},
     "output_type": "execute_result"
    }
   ],
   "source": [
    "# There are some string artifacts when reading the Standort dataframe. Set them to NaN and remove the rows\n",
    "df_loc['Point'] = pd.to_numeric(df_loc['Point'], errors='coerce')\n",
    "df_loc = df_loc.dropna(subset=['Point'])\n",
    "df = pd.merge(df, df_loc, how='inner', on='Point')\n",
    "len(df)"
   ],
   "metadata": {
    "collapsed": false,
    "pycharm": {
     "name": "#%%\n"
    }
   }
  },
  {
   "cell_type": "markdown",
   "source": [
    "**Note** Size of df stays the same after merging with df_loc (Points in df_loc are all contained in Points df)."
   ],
   "metadata": {
    "collapsed": false
   }
  },
  {
   "cell_type": "code",
   "execution_count": 13,
   "outputs": [
    {
     "data": {
      "text/plain": "        Point  Obergrenze  Untergrenze Horizontsymbol_relevant Bodenart  \\\n0         2.0         0.0         28.0                      Ap      Sl2   \n1         2.0        28.0         54.0                       E      Sl2   \n2         2.0        54.0         68.0                      Bv      Sl2   \n3         2.0        68.0         96.0                  Bv-ilC     fSms   \n4         2.0        96.0        201.0                     ilC     mSfs   \n...       ...         ...          ...                     ...      ...   \n16311  6211.0        70.0        100.0                  Go-Bbs     fSms   \n16312  6211.0       100.0        130.0                      Go     fSms   \n16313  6211.0       100.0        130.0                      Go     fSms   \n16314  6211.0       130.0        155.0                      Gr     fSms   \n16315  6211.0       130.0        155.0                      Gr     fSms   \n\n      Bodenfarbe  Steine Karbonat Humusgehaltsklasse Durchwurzelung  \\\n0      7.5YR 3/2     3.0       C0                 h3            Wf4   \n1       10YR 3/3     3.0       C0                 h2            Wf3   \n2      7.5YR 4/3    10.0       C0                 h1            Wf3   \n3      7.5YR 6/4     1.0       C0                 h0            Wf2   \n4       10YR 7/4     1.0       C0                 h0            NaN   \n...          ...     ...      ...                ...            ...   \n16311  7.5YR 5/4     1.0       C0                 h1            Wf6   \n16312   2.5Y 6/4     1.0       C0                 h0            Wf4   \n16313   2.5Y 6/4     1.0       C0                 h0            Wf4   \n16314   2.5Y 5/4     1.0       C0                 h0            Wf2   \n16315   2.5Y 5/4     1.0       C0                 h0            Wf2   \n\n                                                    file  Probenahme_Monat  \\\n0      ../data/BGR/Profilbilder_no_ruler_no_sky/SH_00...                11   \n1      ../data/BGR/Profilbilder_no_ruler_no_sky/SH_00...                11   \n2      ../data/BGR/Profilbilder_no_ruler_no_sky/SH_00...                11   \n3      ../data/BGR/Profilbilder_no_ruler_no_sky/SH_00...                11   \n4      ../data/BGR/Profilbilder_no_ruler_no_sky/SH_00...                11   \n...                                                  ...               ...   \n16311  ../data/BGR/Profilbilder_no_ruler_no_sky/NI_62...                 6   \n16312  ../data/BGR/Profilbilder_no_ruler_no_sky/NI_62...                 6   \n16313  ../data/BGR/Profilbilder_no_ruler_no_sky/NI_62...                 6   \n16314  ../data/BGR/Profilbilder_no_ruler_no_sky/NI_62...                 6   \n16315  ../data/BGR/Profilbilder_no_ruler_no_sky/NI_62...                 6   \n\n       Probenahme_Jahr       xcoord       ycoord  \\\n0                 2015  462216.1283  6079359.775   \n1                 2015  462216.1283  6079359.775   \n2                 2015  462216.1283  6079359.775   \n3                 2015  462216.1283  6079359.775   \n4                 2015  462216.1283  6079359.775   \n...                ...          ...          ...   \n16311             2012  522076.9633  5930456.114   \n16312             2012  522076.9633  5930456.114   \n16313             2012  522076.9633  5930456.114   \n16314             2012  522076.9633  5930456.114   \n16315             2012  522076.9633  5930456.114   \n\n                      Bodenklimaraum_Name Landnutzung BZE_Moor Hauptbodentyp  \\\n0                           Marsch - Nord           A        0            YE   \n1                           Marsch - Nord           A        0            YE   \n2                           Marsch - Nord           A        0            YE   \n3                           Marsch - Nord           A        0            YE   \n4                           Marsch - Nord           A        0            YE   \n...                                   ...         ...      ...           ...   \n16311  Elbe-Weser-Dreieck / sandige Böden           G        0            PP   \n16312  Elbe-Weser-Dreieck / sandige Böden           G        0            PP   \n16313  Elbe-Weser-Dreieck / sandige Böden           G        0            PP   \n16314  Elbe-Weser-Dreieck / sandige Böden           G        0            PP   \n16315  Elbe-Weser-Dreieck / sandige Böden           G        0            PP   \n\n      BodenVarTypSub GrundwaStufe  GrundwaStand  Moormaechtigkeit  \\\n0              YE/BB            0         200.0               0.0   \n1              YE/BB            0         200.0               0.0   \n2              YE/BB            0         200.0               0.0   \n3              YE/BB            0         200.0               0.0   \n4              YE/BB            0         200.0               0.0   \n...              ...          ...           ...               ...   \n16311          GG-PP         GWS4         110.0               0.0   \n16312          GG-PP         GWS4         110.0               0.0   \n16313          GG-PP         GWS4         110.0               0.0   \n16314          GG-PP         GWS4         110.0               0.0   \n16315          GG-PP         GWS4         110.0               0.0   \n\n       Torfmaechtigkeit Neigung Exposition Woelbung Reliefformtyp  \\\n0                   0.0      N0        NaN       GG             V   \n1                   0.0      N0        NaN       GG             V   \n2                   0.0      N0        NaN       GG             V   \n3                   0.0      N0        NaN       GG             V   \n4                   0.0      N0        NaN       GG             V   \n...                 ...     ...        ...      ...           ...   \n16311               0.0      N0        NaN       GG           TSF   \n16312               0.0      N0        NaN       GG           TSF   \n16313               0.0      N0        NaN       GG           TSF   \n16314               0.0      N0        NaN       GG           TSF   \n16315               0.0      N0        NaN       GG           TSF   \n\n      LageImRelief  KV_0_30  KV_30_100  \n0                Z    81.89      54.19  \n1                Z    81.89      54.19  \n2                Z    81.89      54.19  \n3                Z    81.89      54.19  \n4                Z    81.89      54.19  \n...            ...      ...        ...  \n16311            T   117.59      87.72  \n16312            T   117.59      87.72  \n16313            T   117.59      87.72  \n16314            T   117.59      87.72  \n16315            T   117.59      87.72  \n\n[16316 rows x 31 columns]",
      "text/html": "<div>\n<style scoped>\n    .dataframe tbody tr th:only-of-type {\n        vertical-align: middle;\n    }\n\n    .dataframe tbody tr th {\n        vertical-align: top;\n    }\n\n    .dataframe thead th {\n        text-align: right;\n    }\n</style>\n<table border=\"1\" class=\"dataframe\">\n  <thead>\n    <tr style=\"text-align: right;\">\n      <th></th>\n      <th>Point</th>\n      <th>Obergrenze</th>\n      <th>Untergrenze</th>\n      <th>Horizontsymbol_relevant</th>\n      <th>Bodenart</th>\n      <th>Bodenfarbe</th>\n      <th>Steine</th>\n      <th>Karbonat</th>\n      <th>Humusgehaltsklasse</th>\n      <th>Durchwurzelung</th>\n      <th>file</th>\n      <th>Probenahme_Monat</th>\n      <th>Probenahme_Jahr</th>\n      <th>xcoord</th>\n      <th>ycoord</th>\n      <th>Bodenklimaraum_Name</th>\n      <th>Landnutzung</th>\n      <th>BZE_Moor</th>\n      <th>Hauptbodentyp</th>\n      <th>BodenVarTypSub</th>\n      <th>GrundwaStufe</th>\n      <th>GrundwaStand</th>\n      <th>Moormaechtigkeit</th>\n      <th>Torfmaechtigkeit</th>\n      <th>Neigung</th>\n      <th>Exposition</th>\n      <th>Woelbung</th>\n      <th>Reliefformtyp</th>\n      <th>LageImRelief</th>\n      <th>KV_0_30</th>\n      <th>KV_30_100</th>\n    </tr>\n  </thead>\n  <tbody>\n    <tr>\n      <th>0</th>\n      <td>2.0</td>\n      <td>0.0</td>\n      <td>28.0</td>\n      <td>Ap</td>\n      <td>Sl2</td>\n      <td>7.5YR 3/2</td>\n      <td>3.0</td>\n      <td>C0</td>\n      <td>h3</td>\n      <td>Wf4</td>\n      <td>../data/BGR/Profilbilder_no_ruler_no_sky/SH_00...</td>\n      <td>11</td>\n      <td>2015</td>\n      <td>462216.1283</td>\n      <td>6079359.775</td>\n      <td>Marsch - Nord</td>\n      <td>A</td>\n      <td>0</td>\n      <td>YE</td>\n      <td>YE/BB</td>\n      <td>0</td>\n      <td>200.0</td>\n      <td>0.0</td>\n      <td>0.0</td>\n      <td>N0</td>\n      <td>NaN</td>\n      <td>GG</td>\n      <td>V</td>\n      <td>Z</td>\n      <td>81.89</td>\n      <td>54.19</td>\n    </tr>\n    <tr>\n      <th>1</th>\n      <td>2.0</td>\n      <td>28.0</td>\n      <td>54.0</td>\n      <td>E</td>\n      <td>Sl2</td>\n      <td>10YR 3/3</td>\n      <td>3.0</td>\n      <td>C0</td>\n      <td>h2</td>\n      <td>Wf3</td>\n      <td>../data/BGR/Profilbilder_no_ruler_no_sky/SH_00...</td>\n      <td>11</td>\n      <td>2015</td>\n      <td>462216.1283</td>\n      <td>6079359.775</td>\n      <td>Marsch - Nord</td>\n      <td>A</td>\n      <td>0</td>\n      <td>YE</td>\n      <td>YE/BB</td>\n      <td>0</td>\n      <td>200.0</td>\n      <td>0.0</td>\n      <td>0.0</td>\n      <td>N0</td>\n      <td>NaN</td>\n      <td>GG</td>\n      <td>V</td>\n      <td>Z</td>\n      <td>81.89</td>\n      <td>54.19</td>\n    </tr>\n    <tr>\n      <th>2</th>\n      <td>2.0</td>\n      <td>54.0</td>\n      <td>68.0</td>\n      <td>Bv</td>\n      <td>Sl2</td>\n      <td>7.5YR 4/3</td>\n      <td>10.0</td>\n      <td>C0</td>\n      <td>h1</td>\n      <td>Wf3</td>\n      <td>../data/BGR/Profilbilder_no_ruler_no_sky/SH_00...</td>\n      <td>11</td>\n      <td>2015</td>\n      <td>462216.1283</td>\n      <td>6079359.775</td>\n      <td>Marsch - Nord</td>\n      <td>A</td>\n      <td>0</td>\n      <td>YE</td>\n      <td>YE/BB</td>\n      <td>0</td>\n      <td>200.0</td>\n      <td>0.0</td>\n      <td>0.0</td>\n      <td>N0</td>\n      <td>NaN</td>\n      <td>GG</td>\n      <td>V</td>\n      <td>Z</td>\n      <td>81.89</td>\n      <td>54.19</td>\n    </tr>\n    <tr>\n      <th>3</th>\n      <td>2.0</td>\n      <td>68.0</td>\n      <td>96.0</td>\n      <td>Bv-ilC</td>\n      <td>fSms</td>\n      <td>7.5YR 6/4</td>\n      <td>1.0</td>\n      <td>C0</td>\n      <td>h0</td>\n      <td>Wf2</td>\n      <td>../data/BGR/Profilbilder_no_ruler_no_sky/SH_00...</td>\n      <td>11</td>\n      <td>2015</td>\n      <td>462216.1283</td>\n      <td>6079359.775</td>\n      <td>Marsch - Nord</td>\n      <td>A</td>\n      <td>0</td>\n      <td>YE</td>\n      <td>YE/BB</td>\n      <td>0</td>\n      <td>200.0</td>\n      <td>0.0</td>\n      <td>0.0</td>\n      <td>N0</td>\n      <td>NaN</td>\n      <td>GG</td>\n      <td>V</td>\n      <td>Z</td>\n      <td>81.89</td>\n      <td>54.19</td>\n    </tr>\n    <tr>\n      <th>4</th>\n      <td>2.0</td>\n      <td>96.0</td>\n      <td>201.0</td>\n      <td>ilC</td>\n      <td>mSfs</td>\n      <td>10YR 7/4</td>\n      <td>1.0</td>\n      <td>C0</td>\n      <td>h0</td>\n      <td>NaN</td>\n      <td>../data/BGR/Profilbilder_no_ruler_no_sky/SH_00...</td>\n      <td>11</td>\n      <td>2015</td>\n      <td>462216.1283</td>\n      <td>6079359.775</td>\n      <td>Marsch - Nord</td>\n      <td>A</td>\n      <td>0</td>\n      <td>YE</td>\n      <td>YE/BB</td>\n      <td>0</td>\n      <td>200.0</td>\n      <td>0.0</td>\n      <td>0.0</td>\n      <td>N0</td>\n      <td>NaN</td>\n      <td>GG</td>\n      <td>V</td>\n      <td>Z</td>\n      <td>81.89</td>\n      <td>54.19</td>\n    </tr>\n    <tr>\n      <th>...</th>\n      <td>...</td>\n      <td>...</td>\n      <td>...</td>\n      <td>...</td>\n      <td>...</td>\n      <td>...</td>\n      <td>...</td>\n      <td>...</td>\n      <td>...</td>\n      <td>...</td>\n      <td>...</td>\n      <td>...</td>\n      <td>...</td>\n      <td>...</td>\n      <td>...</td>\n      <td>...</td>\n      <td>...</td>\n      <td>...</td>\n      <td>...</td>\n      <td>...</td>\n      <td>...</td>\n      <td>...</td>\n      <td>...</td>\n      <td>...</td>\n      <td>...</td>\n      <td>...</td>\n      <td>...</td>\n      <td>...</td>\n      <td>...</td>\n      <td>...</td>\n      <td>...</td>\n    </tr>\n    <tr>\n      <th>16311</th>\n      <td>6211.0</td>\n      <td>70.0</td>\n      <td>100.0</td>\n      <td>Go-Bbs</td>\n      <td>fSms</td>\n      <td>7.5YR 5/4</td>\n      <td>1.0</td>\n      <td>C0</td>\n      <td>h1</td>\n      <td>Wf6</td>\n      <td>../data/BGR/Profilbilder_no_ruler_no_sky/NI_62...</td>\n      <td>6</td>\n      <td>2012</td>\n      <td>522076.9633</td>\n      <td>5930456.114</td>\n      <td>Elbe-Weser-Dreieck / sandige Böden</td>\n      <td>G</td>\n      <td>0</td>\n      <td>PP</td>\n      <td>GG-PP</td>\n      <td>GWS4</td>\n      <td>110.0</td>\n      <td>0.0</td>\n      <td>0.0</td>\n      <td>N0</td>\n      <td>NaN</td>\n      <td>GG</td>\n      <td>TSF</td>\n      <td>T</td>\n      <td>117.59</td>\n      <td>87.72</td>\n    </tr>\n    <tr>\n      <th>16312</th>\n      <td>6211.0</td>\n      <td>100.0</td>\n      <td>130.0</td>\n      <td>Go</td>\n      <td>fSms</td>\n      <td>2.5Y 6/4</td>\n      <td>1.0</td>\n      <td>C0</td>\n      <td>h0</td>\n      <td>Wf4</td>\n      <td>../data/BGR/Profilbilder_no_ruler_no_sky/NI_62...</td>\n      <td>6</td>\n      <td>2012</td>\n      <td>522076.9633</td>\n      <td>5930456.114</td>\n      <td>Elbe-Weser-Dreieck / sandige Böden</td>\n      <td>G</td>\n      <td>0</td>\n      <td>PP</td>\n      <td>GG-PP</td>\n      <td>GWS4</td>\n      <td>110.0</td>\n      <td>0.0</td>\n      <td>0.0</td>\n      <td>N0</td>\n      <td>NaN</td>\n      <td>GG</td>\n      <td>TSF</td>\n      <td>T</td>\n      <td>117.59</td>\n      <td>87.72</td>\n    </tr>\n    <tr>\n      <th>16313</th>\n      <td>6211.0</td>\n      <td>100.0</td>\n      <td>130.0</td>\n      <td>Go</td>\n      <td>fSms</td>\n      <td>2.5Y 6/4</td>\n      <td>1.0</td>\n      <td>C0</td>\n      <td>h0</td>\n      <td>Wf4</td>\n      <td>../data/BGR/Profilbilder_no_ruler_no_sky/NI_62...</td>\n      <td>6</td>\n      <td>2012</td>\n      <td>522076.9633</td>\n      <td>5930456.114</td>\n      <td>Elbe-Weser-Dreieck / sandige Böden</td>\n      <td>G</td>\n      <td>0</td>\n      <td>PP</td>\n      <td>GG-PP</td>\n      <td>GWS4</td>\n      <td>110.0</td>\n      <td>0.0</td>\n      <td>0.0</td>\n      <td>N0</td>\n      <td>NaN</td>\n      <td>GG</td>\n      <td>TSF</td>\n      <td>T</td>\n      <td>117.59</td>\n      <td>87.72</td>\n    </tr>\n    <tr>\n      <th>16314</th>\n      <td>6211.0</td>\n      <td>130.0</td>\n      <td>155.0</td>\n      <td>Gr</td>\n      <td>fSms</td>\n      <td>2.5Y 5/4</td>\n      <td>1.0</td>\n      <td>C0</td>\n      <td>h0</td>\n      <td>Wf2</td>\n      <td>../data/BGR/Profilbilder_no_ruler_no_sky/NI_62...</td>\n      <td>6</td>\n      <td>2012</td>\n      <td>522076.9633</td>\n      <td>5930456.114</td>\n      <td>Elbe-Weser-Dreieck / sandige Böden</td>\n      <td>G</td>\n      <td>0</td>\n      <td>PP</td>\n      <td>GG-PP</td>\n      <td>GWS4</td>\n      <td>110.0</td>\n      <td>0.0</td>\n      <td>0.0</td>\n      <td>N0</td>\n      <td>NaN</td>\n      <td>GG</td>\n      <td>TSF</td>\n      <td>T</td>\n      <td>117.59</td>\n      <td>87.72</td>\n    </tr>\n    <tr>\n      <th>16315</th>\n      <td>6211.0</td>\n      <td>130.0</td>\n      <td>155.0</td>\n      <td>Gr</td>\n      <td>fSms</td>\n      <td>2.5Y 5/4</td>\n      <td>1.0</td>\n      <td>C0</td>\n      <td>h0</td>\n      <td>Wf2</td>\n      <td>../data/BGR/Profilbilder_no_ruler_no_sky/NI_62...</td>\n      <td>6</td>\n      <td>2012</td>\n      <td>522076.9633</td>\n      <td>5930456.114</td>\n      <td>Elbe-Weser-Dreieck / sandige Böden</td>\n      <td>G</td>\n      <td>0</td>\n      <td>PP</td>\n      <td>GG-PP</td>\n      <td>GWS4</td>\n      <td>110.0</td>\n      <td>0.0</td>\n      <td>0.0</td>\n      <td>N0</td>\n      <td>NaN</td>\n      <td>GG</td>\n      <td>TSF</td>\n      <td>T</td>\n      <td>117.59</td>\n      <td>87.72</td>\n    </tr>\n  </tbody>\n</table>\n<p>16316 rows × 31 columns</p>\n</div>"
     },
     "execution_count": 13,
     "metadata": {},
     "output_type": "execute_result"
    }
   ],
   "source": [
    "# Decide on which columns to keep for training\n",
    "keep_columns = ['Point', #'HorizontID',\n",
    "                'Obergrenze', 'Untergrenze',\n",
    "                #'Horizontsymbol',\n",
    "                'Horizontsymbol_relevant',\n",
    "                #'Horizont_cluster',\n",
    "                'Bodenart', 'Bodenfarbe', 'Steine', 'Karbonat', 'Humusgehaltsklasse', 'Durchwurzelung',\n",
    "                #'max_depth', # not needed for training (and also has mostly NaNs)\n",
    "                'file',\n",
    "                #'Aufnehmer', # only when merged with annotators\n",
    "                'Probenahme_Monat', 'Probenahme_Jahr', 'xcoord', 'ycoord', 'Bodenklimaraum_Name',\n",
    "                'Landnutzung', 'BZE_Moor', 'Hauptbodentyp', 'BodenVarTypSub', 'GrundwaStufe', 'GrundwaStand', 'Moormaechtigkeit',\n",
    "                'Torfmaechtigkeit', 'Neigung', 'Exposition', 'Woelbung', 'Reliefformtyp', 'LageImRelief', 'KV_0_30', 'KV_30_100']\n",
    "df = df[keep_columns]\n",
    "df['GrundwaStand'] = df['GrundwaStand'].str.replace('>','').astype(float)\n",
    "df['ycoord'] = df['ycoord'].astype(float)\n",
    "df"
   ],
   "metadata": {
    "collapsed": false,
    "pycharm": {
     "name": "#%%\n"
    }
   }
  },
  {
   "cell_type": "code",
   "execution_count": 14,
   "outputs": [
    {
     "data": {
      "text/plain": "13621"
     },
     "execution_count": 14,
     "metadata": {},
     "output_type": "execute_result"
    }
   ],
   "source": [
    "# Profile images only show horizons up to ~1 meter depth\n",
    "# Note: Filter only necessary when joining table with whole images, not horizon segments\n",
    "df = df[df['Obergrenze'] < 100]\n",
    "len(df)"
   ],
   "metadata": {
    "collapsed": false,
    "pycharm": {
     "name": "#%%\n"
    }
   }
  },
  {
   "cell_type": "markdown",
   "source": [
    "#### Imputation"
   ],
   "metadata": {
    "collapsed": false
   }
  },
  {
   "cell_type": "code",
   "execution_count": 15,
   "outputs": [
    {
     "name": "stderr",
     "output_type": "stream",
     "text": [
      "/tmp/ipykernel_949517/1919224170.py:2: SettingWithCopyWarning: \n",
      "A value is trying to be set on a copy of a slice from a DataFrame.\n",
      "Try using .loc[row_indexer,col_indexer] = value instead\n",
      "\n",
      "See the caveats in the documentation: https://pandas.pydata.org/pandas-docs/stable/user_guide/indexing.html#returning-a-view-versus-a-copy\n",
      "  df['Steine'] = df['Steine'].fillna(0.0)\n",
      "/tmp/ipykernel_949517/1919224170.py:3: SettingWithCopyWarning: \n",
      "A value is trying to be set on a copy of a slice from a DataFrame.\n",
      "Try using .loc[row_indexer,col_indexer] = value instead\n",
      "\n",
      "See the caveats in the documentation: https://pandas.pydata.org/pandas-docs/stable/user_guide/indexing.html#returning-a-view-versus-a-copy\n",
      "  df['Durchwurzelung'] = df['Durchwurzelung'].fillna('Wf0')\n",
      "/tmp/ipykernel_949517/1919224170.py:4: SettingWithCopyWarning: \n",
      "A value is trying to be set on a copy of a slice from a DataFrame.\n",
      "Try using .loc[row_indexer,col_indexer] = value instead\n",
      "\n",
      "See the caveats in the documentation: https://pandas.pydata.org/pandas-docs/stable/user_guide/indexing.html#returning-a-view-versus-a-copy\n",
      "  df['Durchwurzelung'] = df['Durchwurzelung'].str.split(',').str[0] # Some values have double labels; only keep the first one\n",
      "/tmp/ipykernel_949517/1919224170.py:5: SettingWithCopyWarning: \n",
      "A value is trying to be set on a copy of a slice from a DataFrame.\n",
      "Try using .loc[row_indexer,col_indexer] = value instead\n",
      "\n",
      "See the caveats in the documentation: https://pandas.pydata.org/pandas-docs/stable/user_guide/indexing.html#returning-a-view-versus-a-copy\n",
      "  df['Exposition'] = df['Exposition'].replace(['0', '---'], 'KE') # KE = Keine\n"
     ]
    }
   ],
   "source": [
    "# Replace some of the missing values with recommendations from geology\n",
    "df['Steine'] = df['Steine'].fillna(0.0)\n",
    "df['Durchwurzelung'] = df['Durchwurzelung'].fillna('Wf0')\n",
    "df['Durchwurzelung'] = df['Durchwurzelung'].str.split(',').str[0] # Some values have double labels; only keep the first one\n",
    "df['Exposition'] = df['Exposition'].replace(['0', '---'], 'KE') # KE = Keine\n",
    "df.loc[df['Exposition'].isna() & (df['Neigung'] == 'N0'), 'Exposition'] = 'KE' # NaN-Exposition should be 'KE', when Neigung is N0 (there will still be some other NaNs in Exposition"
   ],
   "metadata": {
    "collapsed": false,
    "pycharm": {
     "name": "#%%\n"
    }
   }
  },
  {
   "cell_type": "markdown",
   "source": [
    "#### Features and Labels Encoding"
   ],
   "metadata": {
    "collapsed": false
   }
  },
  {
   "cell_type": "code",
   "execution_count": 16,
   "outputs": [],
   "source": [
    "target = 'Horizontsymbol_relevant' #'Horizont_cluster'\n",
    "num_features   = ['xcoord','ycoord', 'Steine', 'GrundwaStand', 'Moormaechtigkeit', 'Torfmaechtigkeit', 'KV_0_30', 'KV_30_100']\n",
    "categ_features = ['Probenahme_Monat', 'Probenahme_Jahr',\n",
    "                  'Bodenart', 'Bodenfarbe', 'Karbonat', 'Humusgehaltsklasse', 'Durchwurzelung', 'Bodenklimaraum_Name',\n",
    "                  'Landnutzung', 'BZE_Moor', 'Hauptbodentyp', 'BodenVarTypSub', 'GrundwaStufe', 'Neigung',\n",
    "                  'Exposition', 'Woelbung', 'Reliefformtyp', 'LageImRelief']\n",
    "feature_columns = num_features + categ_features"
   ],
   "metadata": {
    "collapsed": false,
    "pycharm": {
     "name": "#%%\n"
    }
   }
  },
  {
   "cell_type": "code",
   "execution_count": 17,
   "outputs": [
    {
     "data": {
      "text/plain": "Horizontsymbol_relevant\nAp         2399\nAh          742\nBv          546\nSd          483\nGo          403\n           ... \nBsh-Bv        1\nilC+Ap        1\nM-Gkso        1\naAh°Gor       1\naAcp2         1\nName: count, Length: 1568, dtype: int64"
     },
     "execution_count": 17,
     "metadata": {},
     "output_type": "execute_result"
    }
   ],
   "source": [
    "counts = df[target].value_counts()\n",
    "counts"
   ],
   "metadata": {
    "collapsed": false,
    "pycharm": {
     "name": "#%%\n"
    }
   }
  },
  {
   "cell_type": "code",
   "execution_count": 18,
   "outputs": [
    {
     "name": "stdout",
     "output_type": "stream",
     "text": [
      "(87, 61)\n"
     ]
    },
    {
     "data": {
      "text/plain": "{'ind2label': ['ilC',\n  'Ael',\n  'Sd',\n  'C.',\n  'imCv',\n  'E.',\n  'emC',\n  'cC',\n  'clC',\n  'ilCbtv',\n  'aelC',\n  'Cv',\n  'Bsh',\n  'Axh',\n  'Bhv',\n  'P.',\n  'Bvt',\n  'Acxh',\n  'Gro',\n  'iC',\n  'tGro',\n  'Go',\n  'Ap',\n  'Gw',\n  'Aep',\n  'cmC',\n  'imC',\n  'Ssw',\n  'Mc',\n  'Hw',\n  'Acp',\n  'mCv',\n  'Bv',\n  'Sswd',\n  'elC',\n  'lC',\n  'Aeh',\n  'Bhs',\n  'Cj',\n  'tGr',\n  'Axp',\n  'bE',\n  'Gr',\n  'Gkso',\n  'Gor',\n  'M.',\n  'Bsv',\n  'Sw',\n  'Bt',\n  'Bcv',\n  'Btv',\n  'Hr',\n  'Hv',\n  'elCc',\n  'Bs',\n  'R.',\n  'tGo',\n  'Bh',\n  'Ah',\n  'Cbtv',\n  'Al',\n  'Sw-Bv',\n  'Bv-ilC',\n  'Bt-Sd',\n  'Bv-Cv',\n  'Sd-ilC',\n  'Al-Sw',\n  'Al-Bv',\n  'M-Go',\n  'Ael-Bt',\n  'Ah-Bv',\n  'Sw-M',\n  'Sw-Ap',\n  'Bv-Ael',\n  'Go-ilC',\n  'elC-P',\n  'Sd-Bv',\n  'Sw-ilC',\n  'Al-Bt',\n  'Sw-Ah',\n  'P-Sd',\n  'Sd-lC',\n  'Sw-Go',\n  'Sw-Bt',\n  'Sd-Btv',\n  'Bv-elC',\n  'M-Gro'],\n 'label2ind': {'ilC': 0,\n  'Ael': 1,\n  'Sd': 2,\n  'C.': 3,\n  'imCv': 4,\n  'E.': 5,\n  'emC': 6,\n  'cC': 7,\n  'clC': 8,\n  'ilCbtv': 9,\n  'aelC': 10,\n  'Cv': 11,\n  'Bsh': 12,\n  'Axh': 13,\n  'Bhv': 14,\n  'P.': 15,\n  'Bvt': 16,\n  'Acxh': 17,\n  'Gro': 18,\n  'iC': 19,\n  'tGro': 20,\n  'Go': 21,\n  'Ap': 22,\n  'Gw': 23,\n  'Aep': 24,\n  'cmC': 25,\n  'imC': 26,\n  'Ssw': 27,\n  'Mc': 28,\n  'Hw': 29,\n  'Acp': 30,\n  'mCv': 31,\n  'Bv': 32,\n  'Sswd': 33,\n  'elC': 34,\n  'lC': 35,\n  'Aeh': 36,\n  'Bhs': 37,\n  'Cj': 38,\n  'tGr': 39,\n  'Axp': 40,\n  'bE': 41,\n  'Gr': 42,\n  'Gkso': 43,\n  'Gor': 44,\n  'M.': 45,\n  'Bsv': 46,\n  'Sw': 47,\n  'Bt': 48,\n  'Bcv': 49,\n  'Btv': 50,\n  'Hr': 51,\n  'Hv': 52,\n  'elCc': 53,\n  'Bs': 54,\n  'R.': 55,\n  'tGo': 56,\n  'Bh': 57,\n  'Ah': 58,\n  'Cbtv': 59,\n  'Al': 60,\n  'Sw-Bv': 61,\n  'Bv-ilC': 62,\n  'Bt-Sd': 63,\n  'Bv-Cv': 64,\n  'Sd-ilC': 65,\n  'Al-Sw': 66,\n  'Al-Bv': 67,\n  'M-Go': 68,\n  'Ael-Bt': 69,\n  'Ah-Bv': 70,\n  'Sw-M': 71,\n  'Sw-Ap': 72,\n  'Bv-Ael': 73,\n  'Go-ilC': 74,\n  'elC-P': 75,\n  'Sd-Bv': 76,\n  'Sw-ilC': 77,\n  'Al-Bt': 78,\n  'Sw-Ah': 79,\n  'P-Sd': 80,\n  'Sd-lC': 81,\n  'Sw-Go': 82,\n  'Sw-Bt': 83,\n  'Sd-Btv': 84,\n  'Bv-elC': 85,\n  'M-Gro': 86},\n 'embedding': array([[1.  , 0.  , 0.  , ..., 0.  , 0.  , 0.  ],\n        [0.  , 1.  , 0.  , ..., 0.  , 0.  , 0.  ],\n        [0.  , 0.  , 1.  , ..., 0.  , 0.  , 0.  ],\n        ...,\n        [0.  , 0.  , 0.5 , ..., 0.  , 0.  , 0.  ],\n        [0.25, 0.  , 0.  , ..., 0.  , 0.  , 0.  ],\n        [0.  , 0.  , 0.  , ..., 0.  , 0.  , 0.  ]])}"
     },
     "execution_count": 18,
     "metadata": {},
     "output_type": "execute_result"
    }
   ],
   "source": [
    "# If already computed, load the HCE embeddings for the labels (see Label_Graph.ipynb)\n",
    "with open('./BGR/label_embeddings/all_horizons_embeddings.pickle', 'rb') as handle:\n",
    "    emb_dict = pickle.load(handle)\n",
    "print(np.shape(emb_dict['embedding']))\n",
    "emb_dict"
   ],
   "metadata": {
    "collapsed": false,
    "pycharm": {
     "name": "#%%\n"
    }
   }
  },
  {
   "cell_type": "code",
   "execution_count": 19,
   "outputs": [
    {
     "data": {
      "text/plain": "{'ilC': 0,\n 'Ael': 1,\n 'Sd': 2,\n 'C': 3,\n 'imCv': 4,\n 'E': 5,\n 'emC': 6,\n 'cC': 7,\n 'clC': 8,\n 'ilCbtv': 9,\n 'aelC': 10,\n 'Cv': 11,\n 'Bsh': 12,\n 'Axh': 13,\n 'Bhv': 14,\n 'P': 15,\n 'Bvt': 16,\n 'Acxh': 17,\n 'Gro': 18,\n 'iC': 19,\n 'tGro': 20,\n 'Go': 21,\n 'Ap': 22,\n 'Gw': 23,\n 'Aep': 24,\n 'cmC': 25,\n 'imC': 26,\n 'Ssw': 27,\n 'Mc': 28,\n 'Hw': 29,\n 'Acp': 30,\n 'mCv': 31,\n 'Bv': 32,\n 'Sswd': 33,\n 'elC': 34,\n 'lC': 35,\n 'Aeh': 36,\n 'Bhs': 37,\n 'Cj': 38,\n 'tGr': 39,\n 'Axp': 40,\n 'bE': 41,\n 'Gr': 42,\n 'Gkso': 43,\n 'Gor': 44,\n 'M': 45,\n 'Bsv': 46,\n 'Sw': 47,\n 'Bt': 48,\n 'Bcv': 49,\n 'Btv': 50,\n 'Hr': 51,\n 'Hv': 52,\n 'elCc': 53,\n 'Bs': 54,\n 'R': 55,\n 'tGo': 56,\n 'Bh': 57,\n 'Ah': 58,\n 'Cbtv': 59,\n 'Al': 60,\n 'Sw-Bv': 61,\n 'Bv-ilC': 62,\n 'Bt-Sd': 63,\n 'Bv-Cv': 64,\n 'Sd-ilC': 65,\n 'Al-Sw': 66,\n 'Al-Bv': 67,\n 'M-Go': 68,\n 'Ael-Bt': 69,\n 'Ah-Bv': 70,\n 'Sw-M': 71,\n 'Sw-Ap': 72,\n 'Bv-Ael': 73,\n 'Go-ilC': 74,\n 'elC-P': 75,\n 'Sd-Bv': 76,\n 'Sw-ilC': 77,\n 'Al-Bt': 78,\n 'Sw-Ah': 79,\n 'P-Sd': 80,\n 'Sd-lC': 81,\n 'Sw-Go': 82,\n 'Sw-Bt': 83,\n 'Sd-Btv': 84,\n 'Bv-elC': 85,\n 'M-Gro': 86}"
     },
     "execution_count": 19,
     "metadata": {},
     "output_type": "execute_result"
    }
   ],
   "source": [
    "# For HCE: create separate dict where labels made out only of main symbols are stripped of the full stop '.'\n",
    "# Note: We will use the label indexes from the embedding dictionary instead of a new sparse one-hot encoding to ease access to the embedding vectors during training via the original indexes from the emb_dict\n",
    "dict_mapping = {}\n",
    "for key, value in emb_dict['label2ind'].items():\n",
    "    dict_mapping[key.strip('.')] = value\n",
    "dict_mapping"
   ],
   "metadata": {
    "collapsed": false,
    "pycharm": {
     "name": "#%%\n"
    }
   }
  },
  {
   "cell_type": "code",
   "execution_count": 20,
   "outputs": [
    {
     "name": "stderr",
     "output_type": "stream",
     "text": [
      "/tmp/ipykernel_949517/1744044841.py:2: SettingWithCopyWarning: \n",
      "A value is trying to be set on a copy of a slice from a DataFrame.\n",
      "Try using .loc[row_indexer,col_indexer] = value instead\n",
      "\n",
      "See the caveats in the documentation: https://pandas.pydata.org/pandas-docs/stable/user_guide/indexing.html#returning-a-view-versus-a-copy\n",
      "  df[target] = df[target].str.replace('+', '-', regex=False)\n",
      "/tmp/ipykernel_949517/1744044841.py:3: SettingWithCopyWarning: \n",
      "A value is trying to be set on a copy of a slice from a DataFrame.\n",
      "Try using .loc[row_indexer,col_indexer] = value instead\n",
      "\n",
      "See the caveats in the documentation: https://pandas.pydata.org/pandas-docs/stable/user_guide/indexing.html#returning-a-view-versus-a-copy\n",
      "  df[target] = df[target].str.replace('°', '-', regex=False) # also these, so that there is only one type of mixtures (the minus-mixture)\n",
      "/tmp/ipykernel_949517/1744044841.py:5: SettingWithCopyWarning: \n",
      "A value is trying to be set on a copy of a slice from a DataFrame.\n",
      "Try using .loc[row_indexer,col_indexer] = value instead\n",
      "\n",
      "See the caveats in the documentation: https://pandas.pydata.org/pandas-docs/stable/user_guide/indexing.html#returning-a-view-versus-a-copy\n",
      "  df[target] = df[target].str.replace(r'\\d+$', '', regex=True)\n"
     ]
    }
   ],
   "source": [
    "# Replace '+' with '-' in the target column (see Label_Graph.ipynb)\n",
    "df[target] = df[target].str.replace('+', '-', regex=False)\n",
    "df[target] = df[target].str.replace('°', '-', regex=False) # also these, so that there is only one type of mixtures (the minus-mixture)\n",
    "# Remove trailing numbers from the labels in the target column (they only account for how often the horizon is seen in the same picture)\n",
    "df[target] = df[target].str.replace(r'\\d+$', '', regex=True)"
   ],
   "metadata": {
    "collapsed": false,
    "pycharm": {
     "name": "#%%\n"
    }
   }
  },
  {
   "cell_type": "code",
   "execution_count": 21,
   "outputs": [
    {
     "data": {
      "text/plain": "{'Ap': 'Ap',\n 'E': 'E',\n 'Bv': 'Bv',\n 'Bv-ilC': 'Bv-ilC',\n 'ilC': 'ilC',\n 'tSw-Ah': 'Sw-Ah',\n 'tSw-Ap': 'Sw-Ap',\n 'tGo-Sw': 'tGo',\n 'tGo-Sd': 'tGo',\n 'Sw-tAp': 'Sw-Ap',\n 'tSq': 'Sd',\n 'tGro': 'tGro',\n 'Aeh': 'Aeh',\n 'Aep': 'Aep',\n 'oCv': 'Cv',\n 'fOh': 'Bsh',\n 'Ae': 'Ael',\n 'Bsh-Go': 'Bsh',\n 'Bs-Go': 'M-Go',\n 'R-Ah': 'Ah',\n 'R-Gso-Gr': 'Gor',\n 'R-Gr-Gso': 'M-Gro',\n 'R-Go-Gso': 'Gkso',\n 'tbSq': 'Sd',\n 'tGor': 'tGr',\n 'tAp-Go': 'tGo',\n 'Ah-ilCv': 'Bv-ilC',\n 'Aeh-Go': 'Aeh',\n 'Bs-Gw': 'Bsh',\n 'Go-Bhs': 'Bhs',\n 'Go-Ap': 'Sw-Ap',\n 'Go': 'Go',\n 'Gor': 'Gor',\n 'Gr': 'Gr',\n 'Gw': 'Gw',\n 'ilC-Bsh-Bs': 'ilC',\n 'Bhs-ilC': 'Bv-ilC',\n 'M': 'M',\n 'tAp': 'Ap',\n 'tGo': 'tGo',\n 'Hw': 'Hw',\n 'fnHr': 'Hr',\n 'tGo-Ap': 'tGo',\n 'Gro': 'Gro',\n 'Bh-Gw': 'Bhv',\n 'Bhs-Bs': 'Bhs',\n 'Bhs-Go': 'Bhs',\n 'Bhs': 'Bhs',\n 'Sw-Bs': 'Sw-Bv',\n 'Sd': 'Sd',\n 'Sw': 'Sw',\n 'Ap-Al': 'Ael',\n 'Bt-Sd': 'Bt-Sd',\n 'Al-Sw': 'Al-Sw',\n 'Ah': 'Ah',\n 'Swd': 'Sd',\n 'Bh-Aeh': 'Bv-Ael',\n 'Bsh': 'Bsh',\n 'Bs': 'Bs',\n 'Bbs-ilCv': 'Bv-ilC',\n 'Bbh-Bs-ilCv': 'Bv-ilC',\n 'Sd-Bv': 'Sd-Bv',\n 'Cv': 'Cv',\n 'ilC-Sw': 'Al-Sw',\n 'Bv-Sw': 'Bt-Sd',\n 'Sw-Al': 'Sw-Ap',\n 'Sd-Bt': 'Sd-Bv',\n 'tmeGo': 'tGo',\n 'Sw-Bhs-Ae': 'Sw-Bv',\n 'Bs-Sw': 'Bt-Sd',\n 'Bs-ilC': 'Bv-ilC',\n 'R-Go-Bsh': 'Bsh',\n 'Bv-Alh': 'Bv-ilC',\n 'Bvt': 'Bvt',\n 'Sw-Ap': 'Sw-Ap',\n 'Sd-Ap': 'Sw-Ap',\n 'Bv-Ah': 'Bv-Cv',\n 'ilC-Bv': 'ilCbtv',\n 'Bhs-Sw': 'Bhs',\n 'C-Ap': 'Ap',\n 'Bsv': 'Bsv',\n 'eSwd': 'Sd',\n 'Ap-Sw': 'Al-Sw',\n 'tGo-Ah': 'tGo',\n 'fnHw': 'Hw',\n 'Sw-ilC': 'Sw-ilC',\n 'Hv': 'Hv',\n 'Hr': 'Hr',\n 'Al': 'Al',\n 'Sw-M': 'Sw-M',\n 'Bv-Al': 'Bv-Ael',\n 'Bt': 'Bt',\n 'Axp': 'Axp',\n 'Axh': 'Axh',\n 'Axh-Sw': 'Al-Sw',\n 'elC': 'elC',\n 'Sd-lC': 'Sd-lC',\n 'Sd-ilC': 'Sd-ilC',\n 'tGr': 'tGr',\n 'tbGo': 'tGo',\n 'nHv': 'Hv',\n 'Swd-ilCv': 'Sd-ilC',\n 'Go-Aa': 'Go',\n 'Sdw-Bvt': 'Sw-Bv',\n 'Sw-Bv': 'Sw-Bv',\n 'Go-Ah': 'Sw-Ah',\n 'tbGor': 'tGr',\n 'tAh-Sd': 'Bt-Sd',\n 'Hv-Ah': 'Sw-Ah',\n 'lC-Hv': 'ilCbtv',\n 'tGr-Hr': 'tGro',\n 'toGr': 'tGr',\n 'Hm': 'Hw',\n 'Ha': 'Hw',\n 'Ae-Gw': 'Al-Sw',\n 'Ae-Bh-Gw': 'Aeh',\n 'Ah-Gr': 'Ah-Bv',\n 'Bsh-Gr': 'Bsh',\n 'R-Sw-Ap': 'Sw-Ap',\n 'R-Ah-Sw': 'Al-Sw',\n 'Go-Bs': 'Go',\n 'Ap-Swd': 'Al-Sw',\n 'M-Sw': 'Sw',\n 'Sw-Bt': 'Sw-Bt',\n 'Ap-Bt': 'Al-Bt',\n 'Aa': 'Ap',\n 'eSd': 'Sd',\n 'Ah-Go': 'M-Go',\n 'Al-Bv': 'Al-Bv',\n 'Btv': 'Btv',\n 'tSd-Go': 'Sw-Go',\n 'tSd-tGo': 'Sw-Go',\n 'Ahe': 'Ah',\n 'R-Ah-Bsh': 'Ah-Bv',\n 'ilCbtv': 'ilCbtv',\n 'Sw-Ah': 'Sw-Ah',\n 'Ah-Sd': 'Bt-Sd',\n 'P-Sd': 'P-Sd',\n 'Ah-Sw': 'Al-Sw',\n 'Sw-Bt-Al': 'Sw-Bt',\n 'Sw-Sd': 'Sw-Bv',\n 'Al-Bt-Swd': 'Bt-Sd',\n 'Bhv': 'Bhv',\n 'Bt-Al': 'Bt-Sd',\n 'tAh': 'Ah',\n 'Hv-Go': 'M-Go',\n 'Ae-Go': 'M-Go',\n 'Bh-Go': 'M-Go',\n 'Ae-Bh': 'Aeh',\n 'Bhs-Ssw': 'Ssw',\n 'hHv': 'Hv',\n 'Bbt-Bv': 'Btv',\n 'Bbt-ilC': 'Bv-ilC',\n 'Acp': 'Acp',\n 'Bt-Cv': 'Bv-Cv',\n 'Alh': 'Axh',\n 'Bh-Ae': 'Bv-Ael',\n 'Ae-Bs-Bh': 'Ael-Bt',\n 'Al-Bt': 'Al-Bt',\n 'lCv': 'Cv',\n 'Gho': 'Gro',\n 'Bs-ilCv': 'Bv-ilC',\n 'R': 'R',\n 'ilCv': 'ilC',\n 'M-Go': 'M-Go',\n 'Fr-Hw-Hr': 'Hw',\n 'Fr': 'Gr',\n 'R-Bhs': 'Bhs',\n 'Bbh': 'Bsh',\n 'Bv-M': 'Bvt',\n 'Ap-Al-Bv': 'Al-Bv',\n 'Sw-Btv': 'Sw-Bv',\n 'R-eSwd': 'P-Sd',\n 'Ah-Bv': 'Ah-Bv',\n 'Cbtv': 'Cbtv',\n 'ilC-Bbt': 'ilCbtv',\n 'Hp': 'Ap',\n 'Hca': 'cC',\n 'Hcw': 'Hw',\n 'Hcr': 'Hr',\n 'Ahl-Bv': 'Al-Bv',\n 'Ael': 'Ael',\n 'Ael-Bt': 'Ael-Bt',\n 'eAp': 'Ap',\n 'ijlCv': 'ilC',\n 'Go-Ahe': 'Go-ilC',\n 'Bt-Al-Sw': 'Al-Sw',\n 'Ahl': 'Ael',\n 'Sd-Btv': 'Sd-Btv',\n 'Bv-Ael-Sw': 'Bv-Ael',\n 'Ael-Sw': 'Al-Sw',\n 'lC': 'lC',\n 'Ht': 'Hw',\n 'fF': 'Sd',\n 'jeC': 'ilC',\n 'tGo-Ah-Sd': 'tGo',\n 'tAp-Sw': 'Al-Sw',\n 'nHr': 'Hr',\n 'Go-Sw': 'Al-Sw',\n 'H': 'C',\n 'F': 'C',\n 'oGr': 'tGr',\n 'Bs-Swd': 'Bt-Sd',\n 'R-ilC-Bhs': 'ilC',\n 'ilCv-Bs': 'ilC',\n 'Bv-Sd': 'Bt-Sd',\n 'Ael-Bv': 'Al-Bv',\n 'Ael-Bbt': 'Ael-Bt',\n 'Bt-Sdw': 'Bt-Sd',\n 'Bsh-Bv': 'Ah-Bv',\n 'R-Al': 'Al',\n 'C-Bbt': 'Bvt',\n 'Bbt-Al': 'Bt-Sd',\n 'lC-Bbt': 'Al-Bt',\n 'Al-Bv-Sw': 'Al-Sw',\n 'Swd-Bbt-Bv': 'Sd-Btv',\n 'Sd-Sw': 'Al-Sw',\n 'R-Ap': 'Ap',\n 'R-Aeh': 'Aeh',\n 'Gw-Bhs': 'Bhs',\n 'Bhs-Gw': 'Bhs',\n 'Hcv': 'Bcv',\n 'nHcr': 'Hr',\n 'rGo': 'Go',\n 'Fh': 'Bh',\n 'R-Ap-Ae-Bsh': 'Bsh',\n 'Go-Bsh': 'Bsh',\n 'Fr-Hw': 'Hw',\n 'Al-Swd': 'Al-Sw',\n 'Bv-Ael': 'Bv-Ael',\n 'R-Bs': 'Bs',\n 'tmzGr': 'tGr',\n 'Sw-Bsh': 'Sw-Bv',\n 'oC': 'C',\n 'Sw-Go': 'Sw-Go',\n 'Sd-Go': 'Sw-Go',\n 'eGro': 'Gro',\n 'Ctv-Sw': 'Bt-Sd',\n 'Ctv-Sd': 'Bt-Sd',\n 'Go-C': 'Go',\n 'eCv': 'Cv',\n 'Al-Bbt': 'Al-Bt',\n 'Bt-Ael': 'Bv-Ael',\n 'Bt-Sw-Al': 'Bt-Sd',\n 'Btv-Sd': 'Bt-Sd',\n 'tSq-Sw': 'Al-Sw',\n 'tAh-Go': 'tGo',\n 'Ahe-Bh-Bs': 'Ael-Bt',\n 'Bbs-Bsv-Bhs': 'Bsh',\n 'Sg-C': 'Sw-M',\n 'Bh': 'Bh',\n 'Go-Bv': 'Sw-Bv',\n 'hHw': 'Hw',\n 'nHw': 'Hw',\n 'C-Bbh-Bbs': 'Bhs',\n 'tGo-Sq': 'tGo',\n 'tAa': 'Ap',\n 'Go-Aeh': 'Aeh',\n 'Gmso': 'Gkso',\n 'Go-Swd': 'Bt-Sd',\n 'Bv-elC': 'Bv-elC',\n 'elCv': 'elC',\n 'Hcm': 'cC',\n 'Sdw-R': 'Sw-M',\n 'Bv-Bbt': 'Bvt',\n 'rnHv': 'Hv',\n 'Go-E': 'Go',\n 'Ae-Bhs': 'Aeh',\n 'Ht-Hv': 'Btv',\n 'Bs-Cv': 'Bv-Cv',\n 'Bs-Bh': 'Bsh',\n 'Ae-Aap': 'Aep',\n 'tpGo': 'tGo',\n 'Bvs': 'Bvt',\n 'enHr': 'Hr',\n 'Bv-Cv': 'Bv-Cv',\n 'Sw-Bv-Ael': 'Bv-Ael',\n 'Ap-Bv': 'Al-Bv',\n 'Al-Btv': 'Al-Bv',\n 'tSw-Sq': 'Sw-Bv',\n 'Aa-Go': 'M-Go',\n 'Gro-Go': 'Gro',\n 'Gor-Go': 'Gro',\n 'Go-Sd': 'Bt-Sd',\n 'F-Gw': 'Gw',\n 'Bv-Gw': 'Bv-Cv',\n 'Bh-Bs': 'Bhs',\n 'Ssw': 'Ssw',\n 'Bbt-Ael': 'Bv-Ael',\n 'Bbt-Cv-Bv': 'Bv-Cv',\n 'Ae-Bsh': 'Bsh',\n 'Bt-ilC': 'Bv-ilC',\n 'Bv-Go': 'Bv-Cv',\n 'Cv-Bv': 'Sw-Bv',\n 'Sw-Ael': 'Sw-Ap',\n 'Sd-lCc': 'Sd-lC',\n 'Swd-lCv': 'Sd-lC',\n 'tSw': 'Sw',\n 'Bv-Bh': 'Bv-Cv',\n 'Ap-Bsh': 'Bsh',\n 'Bsv-C': 'Bsv',\n 'jM': 'M',\n 'jM-jilCv': 'Bv-ilC',\n 'Go-ilC': 'Go-ilC',\n 'Ahe-Bh-Sw': 'Al-Sw',\n 'Bhsv': 'Bhv',\n 'Bbs': 'Bhs',\n 'Bt-Swd': 'Bt-Sd',\n 'Sdw-Ap': 'Sw-Ap',\n 'Sw-Cv': 'Sw-Bv',\n 'Gro-Sd': 'Gro',\n 'Bv-lCv': 'Bv-Cv',\n 'ilCv-Bt': 'Al-Bt',\n 'Sg-ilC': 'Sd-ilC',\n 'ilC-Go': 'ilC',\n 'Acxp': 'Acxh',\n 'elCc-Acxh': 'Acxh',\n 'elCc': 'elCc',\n 'eSw-lCv': 'Sw-Bv',\n 'Ah-Hv': 'Ah-Bv',\n 'jSw': 'Sw',\n 'Sd-Gor': 'Sw-Go',\n 'Ae-Bs-Go': 'Al-Bv',\n 'Sw-Bv-Cv': 'Sw-Bv',\n 'F-Go': 'M-Go',\n 'F-Gor': 'Gor',\n 'M-Ah': 'Ah',\n 'Aap': 'Ap',\n 'Sew': 'Ssw',\n 'Sd-Gkso': 'Gkso',\n 'Ahe-Bh': 'Ah-Bv',\n 'Bms': 'Bhs',\n 'Sw-Bhs': 'Sw-Bv',\n 'Aa-Bh': 'Al-Bv',\n 'Gmso-Bh': 'Gkso',\n 'Gso': 'Gro',\n 'aAh-Gor': 'Gor',\n 'ilC-Ap': 'ilC',\n 'Bs-Gso': 'M-Go',\n 'Ach': 'Axh',\n 'Acp-Gco': 'Acp',\n 'Gcro-Swd': 'Gro',\n 'Gco': 'Gro',\n 'Gcor': 'Gor',\n 'Sw-Axh': 'Sw-Ah',\n 'Axh-Swd': 'Al-Sw',\n 'Hcvm': 'Bcv',\n 'nHcv': 'Bcv',\n 'Bbh-Bbs-Bv': 'Ah-Bv',\n 'Bbh-Bbs-ilCv': 'Bv-ilC',\n 'Ahe-Ae': 'Ah-Bv',\n 'Go-Ae-Bsh': 'Bsh',\n 'Ae-Ap': 'Aep',\n 'lC-Bbs': 'lC',\n 'yGo-Ah': 'Sw-Ah',\n 'yGro': 'Gro',\n 'Ae-Bh-Bms': 'Ael-Bt',\n 'Bbs-Cv': 'Bv-Cv',\n 'rAep': 'Aep',\n 'Bhv-ilCv': 'Bv-ilC',\n 'Gkso': 'Gkso',\n 'aSw-M': 'Sw-M',\n 'Gkso-Gr': 'Gkso',\n 'Ah-Ahe-Bh': 'Ah-Bv',\n 'Go-Bsv-Bh': 'Bsh',\n 'R-Gr-H-Go': 'M-Gro',\n 'R-H-rGr-Go': 'M-Gro',\n 'R-Bh-Bs-Go': 'Bhs',\n 'Bhs-lC': 'Bhs',\n 'R-Bs-ilC-Ae': 'Bv-ilC',\n 'Bh-Bv': 'Ah-Bv',\n 'S-Ap': 'Sw-Ap',\n 'Sg-Ap': 'Sw-Ap',\n 'Sg-Bv': 'Sw-Bv',\n 'Go-Bv-Ctv': 'Bv-Cv',\n 'Ctv-Go': 'tGo',\n 'Swd-Bvt': 'Sw-Bv',\n 'Ael-Btv': 'Ael-Bt',\n 'Sw-Bt-ilCv': 'Sw-ilC',\n 'Sd-Bt-Ael': 'Bv-Ael',\n 'Bt-elCv': 'Bv-elC',\n 'Ael-M': 'Ael',\n 'R-Go-Bhs-Aa': 'Bhs',\n 'R-Gr': 'tGr',\n 'R-Go-rGr-H': 'Gor',\n 'jnHv': 'Hv',\n 'Hw-Gr': 'Sw-Go',\n 'C-M': 'C',\n 'Gkso-Bs': 'Gkso',\n 'R-Go-Hv': 'M-Go',\n 'R-Hv': 'Hv',\n 'R-Gr-Go-Hv': 'M-Gro',\n 'Cv-Sw': 'Al-Sw',\n 'Cv-Swd': 'Bt-Sd',\n 'Sw-Bv-ilC': 'Bv-ilC',\n 'Swd-ilCtv': 'Sd-ilC',\n 'Swd-elCc': 'Sd-ilC',\n 'Go-Bsv': 'Bsv',\n 'Go-Cbtv': 'ilCbtv',\n 'R-Go-Bs-Bh': 'Bsh',\n 'R-Bs-Bh-Ae': 'Bsh',\n 'H-Ah': 'Ah',\n 'H-Go': 'M-Go',\n 'H-Gro': 'M-Gro',\n 'aGr': 'tGr',\n 'aM': 'M',\n 'Go-lC': 'Go-ilC',\n 'Swd-Ap': 'Sw-Ap',\n 'aGo': 'Go',\n 'jAh': 'Ah',\n 'oGo': 'Go',\n 'Bv-Al-Sg': 'Bv-ilC',\n 'Bvt-Sg': 'Bt-Sd',\n 'Sg': 'Sd',\n 'Bv-Ctv': 'Bv-Cv',\n 'ilCtv': 'ilCbtv',\n 'Gcro': 'Gro',\n 'Bv-Gor': 'Gor',\n 'R-H-Go': 'M-Go',\n 'R-H-Bh-rGor': 'Gor',\n 'R-Gr-Hm': 'M-Gro',\n 'R-Gr-Hm-Go': 'M-Gro',\n 'R-Bh-Ae-Bs': 'Bv-Ael',\n 'Bsh-Bbs-Bbh': 'Bsh',\n 'ilC-Bbs-Bbh': 'ilCbtv',\n 'R-Bs-Aa-Bsh': 'Bsh',\n 'R-Ahe-Bh-Bs': 'Ael-Bt',\n 'Bbh-Go': 'M-Go',\n 'R-Sw-Ah': 'Sw-Ah',\n 'ilC-Bhs': 'ilC',\n 'R-Sw': 'Sw',\n 'Sd-Bvt': 'Sd-Bv',\n 'Bv-Bhs': 'Bhs',\n 'ilC-Bbs': 'ilC',\n 'ilC-Bbs-Bhs': 'ilCbtv',\n 'M-Sd': 'P-Sd',\n 'M-Sd-Go': 'M-Go',\n 'Bv-Ah-Go': 'Bv-Ael',\n 'Sw-Ael-Bv': 'Sw-Bv',\n 'Ah-Gw': 'Al-Sw',\n 'rGw': 'Gw',\n 'Gr-Hw': 'Gro',\n 'Gr-Hr': 'Gro',\n 'Bv-ilC-Go': 'Bv-ilC',\n 'R-hH-Go': 'M-Go',\n 'Fh-Gor': 'Gor',\n 'R-Go-H': 'M-Go',\n 'jaGo': 'Go',\n 'ilCv-Sd': 'ilC',\n 'M-Gro': 'M-Gro',\n 'M-Gor': 'M-Go',\n 'ailCv': 'ilC',\n 'A-Bv': 'Al-Bv',\n 'Gho-Bv-Al': 'Ah-Bv',\n 'Go-Bt': 'Al-Bt',\n 'Gcr-Go': 'Gro',\n 'Bvt-Ael': 'Bv-Ael',\n 'Go-Ctv': 'Bv-Cv',\n 'Bh-Ahe': 'Bv-Ael',\n 'Gw-Aap': 'Sw-Ap',\n 'Go-M': 'Go',\n 'Gor-Sd': 'Gor',\n 'Bhv-ilC': 'Bv-ilC',\n 'Sw-Bhv': 'Sw-Bv',\n 'Bv-Cbtv': 'Bv-Cv',\n 'Go-Bv-Ap': 'Sw-Bv',\n 'Fo': 'Go',\n 'Sw-M-Go': 'Sw-Go',\n 'Sd-M-Gro': 'M-Gro',\n 'R-H-Bs-ilC': 'Bv-ilC',\n 'R-Bh-Bhs-H': 'Bhs',\n 'R-Bh-Bs-Sw': 'Bhs',\n 'Ae-Hv': 'Al-Bv',\n 'Ah-ilC': 'Bv-ilC',\n 'Hv-ilC': 'Bv-ilC',\n 'Ael-Bt-Sd': 'Ael-Bt',\n 'Bbt-lCv': 'Bv-Cv',\n 'Gho-Bv': 'Ah-Bv',\n 'aAcp': 'Acp',\n 'aGco': 'Gro',\n 'Fw': 'Gw',\n 'jGo-M': 'Go',\n 'Gor-M': 'Gor',\n 'eM': 'M',\n 'Sdw-M-Go': 'Sw-Go',\n 'Sd-M-Go': 'M-Go',\n 'Hw-M-Go': 'M-Go',\n 'R-hH-Cv': 'Bv-Cv',\n 'R-C-H': 'elC-P',\n 'R-H-Gho': 'M-Go',\n 'R-Ae-Bhs-Gkso': 'Gkso',\n 'R-Bhs-Go': 'Bhs',\n 'R-Bsh-Ae': 'Bsh',\n 'Bh-Bs-ilC': 'Bv-ilC',\n 'R-Go-Hm': 'M-Go',\n 'Bhms': 'Bhs',\n 'Sdw-Bt-Ael': 'Bv-Ael',\n 'Swd-Ael-Bt': 'Ael-Bt',\n 'Swd-Ael-Bbt': 'Ael-Bt',\n 'renHv-rnHvp': 'Bv-Cv',\n 'M-Gr': 'M-Go',\n 'Sd-elC': 'Sd-ilC',\n 'jAp': 'Ap',\n 'eAh': 'Ah',\n 'aAp': 'Ap',\n 'aAh': 'Ah',\n 'Ghor': 'Gor',\n 'Fh-Fw': 'Al-Sw',\n 'Ghr': 'Gr',\n 'gE': 'E',\n 'Go-Bhv': 'Bhv',\n 'R-Bh-Bs-Ahe': 'Bsh',\n 'Bbh-ilC': 'Bv-ilC',\n 'Gw-ilC': 'Go-ilC',\n 'R-ilC-Bsh-Ahe': 'ilC',\n 'Bhs-Cv': 'Bv-Cv',\n 'Ae-Ahe': 'Aeh',\n 'Bhs-ilCv': 'Bv-ilC',\n 'R-Bh-Bv-Ah': 'Ah-Bv',\n 'R-Bv-Bhv-C': 'Bv-ilC',\n 'R-Bh-Ahe-Bs': 'Ah-Bv',\n 'F-Gr': 'tGr',\n 'ilC-Bt': 'Al-Bt',\n 'Go-Bbt': 'Go-ilC',\n 'Sg-Ap-Bv': 'Sw-Bv',\n 'Bv-ilCbtv': 'ilCbtv',\n 'Sg-elCc': 'elCc',\n 'Sg-elCv': 'Sd-ilC',\n 'Ah-Ae-Bhs': 'Ah-Bv',\n 'Bhs-lCv': 'Bv-Cv',\n 'Ahe-Go': 'M-Go',\n 'R-Bsh-Go': 'Bsh',\n 'R-Ae-Bhs-ilC': 'Bv-ilC',\n 'E-Al': 'Al',\n 'R-Go-Aa': 'M-Go',\n 'R-Ae-Bh': 'Aeh',\n 'R-gE': 'E',\n 'Bh-ilCv': 'Bv-ilC',\n 'Gr-Sd': 'Bt-Sd',\n 'Yr': 'Gr',\n 'fF-eGro': 'M-Gro',\n 'fFr': 'tGr',\n 'R-H-Go-Bs': 'M-Go',\n 'R-Go-Aeh-Bhs': 'Ael-Bt',\n 'R-Aeh-Bhs-Go': 'Ael-Bt',\n 'Bsh-rGo': 'Bsh',\n 'R-Go': 'M-Go',\n 'R-Gw-ilCv': 'Go-ilC',\n 'Bv-Bs': 'Bv-Cv',\n 'raeM-Go': 'M-Go',\n 'Bv-ilCv-Bbt': 'Bv-ilC',\n 'jSw-Ap': 'Sw-Ap',\n 'Sd-Ex': 'Sd-Bv',\n 'elCkc-Sd': 'elCc',\n 'R-Gr-Bh-Gso': 'M-Gro',\n 'R-Ap-Gro': 'M-Gro',\n 'Bv-imC': 'Bv-ilC',\n 'Cv-Sd': 'Bt-Sd',\n 'rGkso': 'Gkso',\n 'Gkso-Go': 'Gkso',\n 'R-Bv-Ap': 'Bv-Cv',\n 'Ap-Aeh': 'Aeh',\n 'Bh-Gmso': 'Bhs',\n 'Bt-Ael-Swd': 'Bt-Sd',\n 'aGso': 'Gro',\n 'aGro': 'Gro',\n 'Gso-Bv': 'Sw-Bv',\n 'Sd-Ael-Bt': 'Ael-Bt',\n 'Go-ilC-Bbt': 'Go-ilC',\n 'Ah-Swd': 'Al-Sw',\n 'bE': 'bE',\n 'bE-Go': 'M-Go',\n 'Bhv-Sw': 'Bhv',\n 'Go-gE': 'Go',\n 'P': 'P',\n 'ilC-Go-Ah': 'ilC',\n 'Fr-Gro': 'M-Gro',\n 'Fr-Gor': 'Gor',\n 'Fr-Gr': 'tGr',\n 'Ap-Go': 'M-Go',\n 'elC-Bbt': 'Ael-Bt',\n 'Ahe-Bhs': 'Ah-Bv',\n 'Bbhs': 'Bhs',\n 'Bbhs-Go': 'Bhs',\n 'Swd-elCv': 'Sd-ilC',\n 'cmC': 'cmC',\n 'raGo': 'Go',\n 'R-Go-Bs-Ae': 'M-Go',\n 'M-ilCv': 'ilC',\n 'Sdg': 'Sd',\n 'Sw-P': 'Sw-M',\n 'Sd-P': 'Sd',\n 'elC-P': 'elC-P',\n 'aM-Go': 'M-Go',\n 'Sdw': 'Sd',\n 'rAp': 'Ap',\n 'Bv-Gkso': 'Gkso',\n 'Sw-Al-Bv': 'Sw-Bv',\n 'elC-Axh': 'elC-P',\n 'Axh-elC': 'Bv-elC',\n 'Sw-elC': 'Sw-ilC',\n 'Al-Axh': 'Axh',\n 'Bv-Axh': 'Bv-Ael',\n 'Acxh': 'Acxh',\n 'elCc-Swd': 'elCc',\n 'ilC-Ael-Sw': 'Al-Sw',\n 'Go-Bv-Gr': 'Gor',\n 'Gro-Sg': 'Gro',\n 'R-Ae-Bs-Ap': 'Aep',\n 'R-Ah-Ae-Bs': 'Ah-Bv',\n 'Bv-Ap': 'Bv-Cv',\n 'R-E-Aa-Go': 'M-Go',\n 'Go-Bvs': 'Sw-Bv',\n 'Ah-Gro': 'M-Gro',\n 'Gkso-Gro': 'Gkso',\n 'H-Gkso-Gr': 'Gkso',\n 'Bj-Cv': 'Bv-Cv',\n 'Bh-Bcv': 'Ah-Bv',\n 'Bcv-elC': 'Bv-elC',\n 'elC-Sd': 'elC-P',\n 'clC': 'clC',\n 'lCv-Bcv': 'Bcv',\n 'lC-emC': 'emC',\n 'elC-emC': 'elC-P',\n 'elC-Acxh': 'Acxh',\n 'rGcro-elC': 'Go-ilC',\n 'eAcp': 'Acp',\n 'Sg-Bv-ilCv': 'Bv-ilC',\n 'Fh-Fo': 'M-Go',\n 'Ah-Sw-Ael': 'Al-Sw',\n 'Bt-Scdw': 'Bt-Sd',\n 'Scd': 'Sd',\n 'R-Bhs-Ap-Go': 'Bhs',\n 'R-Bh': 'Bh',\n 'ilC-Bsh': 'ilC',\n 'E-Go': 'M-Go',\n 'Go-ilC-Bhs': 'Go-ilC',\n 'Go-Sw-Sd': 'Sw-Bv',\n 'Bhs-Go-Sw': 'Bhs',\n 'Go-Sdw': 'Bt-Sd',\n 'Bt-Sw': 'Bt-Sd',\n 'imC': 'imC',\n 'Sdg-Bt': 'Sd-Bv',\n 'emC': 'emC',\n 'Swd-Axh': 'Sw-Ah',\n 'Go-Axh': 'Axh',\n 'Axh-Go': 'Axh',\n 'Bcv-Axh': 'Bv-Ael',\n 'R-Hv-Ah-ilCv': 'Bv-ilC',\n 'Go-Ael': 'Bv-Ael',\n 'Go-Bt-Ael': 'Bv-Ael',\n 'Btv-Ael': 'Bv-Ael',\n 'Gr-Go': 'Gro',\n 'R-Go-Ah': 'M-Go',\n 'Bms-Go': 'M-Go',\n 'R-Bsv': 'Bsv',\n 'Sd-Cv': 'Sd-Bv',\n 'Btv-ilC': 'Bv-ilC',\n 'Bcv-Tv': 'Bv-Cv',\n 'cC-Swd': 'Bt-Sd',\n 'Go-Acxh': 'Acxh',\n 'Ael-Sd-Bt': 'Ael-Bt',\n 'Ael-Ap': 'Ael-Bt',\n 'Bhs-Aeh': 'Bv-Ael',\n 'ilC-Bsv': 'ilCbtv',\n 'elCv-Bcv': 'elCc',\n 'R-E': 'E',\n 'Srd': 'Sd',\n 'gE-Go': 'M-Go',\n 'gbE-Ap': 'Sw-Ap',\n 'Aeh-Bsh': 'Ael-Bt',\n 'Ae-Bh-Bs': 'Ael-Bt',\n 'Al-Bvt': 'Al-Bv',\n 'jeM': 'Ael',\n 'Swd-lCv-Axh': 'Sw-Ah',\n 'Axh-M': 'Axh',\n 'Acxh-elCc': 'Acxh',\n 'elCc-Axh': 'elCc',\n 'aAxp': 'Axp',\n 'Sw-Bt-Sd': 'Bt-Sd',\n 'Bbt-Ael-Bv': 'Al-Bv',\n 'Sw-Bv-Bbt': 'Sw-Bv',\n 'Bbt': 'Bvt',\n 'rGo-ilCv': 'Go-ilC',\n 'Sg-Ael-Bt': 'Ael-Bt',\n 'Swd-lCv-Bbt': 'Sd-lC',\n 'ejCv': 'imCv',\n 'Go-ilCv-H': 'Go-ilC',\n 'aelC': 'aelC',\n 'Gkso-M': 'Gkso',\n 'Gkso-Go-Bhsv': 'Gkso',\n 'Sewd': 'Sswd',\n 'Sswd': 'Sswd',\n 'Go-Sw-E': 'Al-Sw',\n 'P-Cv-Swd': 'P-Sd',\n 'elC-Scd': 'elCc',\n 'Al-Ap': 'Al-Sw',\n 'Sd-Al-Bt': 'Al-Bt',\n 'mCv': 'mCv',\n 'Axh-Bv': 'Ah-Bv',\n 'Bv-elCc': 'Bv-elC',\n 'Axh-lC': 'Axh',\n 'Axh-ilCv-Sw': 'Al-Sw',\n 'Swd-Go-M': 'Sw-Go',\n 'Ah-M': 'Ah',\n 'jGo': 'Go',\n 'Aah-Gr': 'Ah-Bv',\n 'raAp': 'Ap',\n 'M-Gso': 'M-Go',\n 'raGr': 'tGr',\n 'eGo-Cv': 'Bv-Cv',\n 'eC-Go': 'M-Go',\n 'Sdw-Bv-Al': 'Sw-Bv',\n 'Go-Mc': 'Go',\n 'E-ilC': 'ilC',\n 'Bh-Sw': 'Bt-Sd',\n 'Swd-eCv': 'Sw-Bv',\n 'eC-Sd': 'Bt-Sd',\n 'Bt-Al-Bv': 'Al-Bv',\n 'Al-Bv-Bt': 'Al-Bv',\n 'M-Sdw': 'P-Sd',\n 'Sw-Ael-Bt': 'Ael-Bt',\n 'elC-Ap': 'elC-P',\n 'jeF': 'Ael',\n 'Bcv-Cc': 'Bv-Cv',\n 'Go-Cc-elCv': 'Go-ilC',\n 'Axh-Bv-elC': 'Bv-elC',\n 'eAxp': 'Axp',\n 'Sw-Bt-Ael': 'Bv-Ael',\n 'Sdw-Go': 'Sw-Go',\n 'H-Go-Ah': 'M-Go',\n 'ylC': 'ilC',\n 'Ae-Bhs-Go': 'Aeh',\n 'Ae-Bh-Go': 'Aeh',\n 'F-Gr-Gor': 'M-Gro',\n 'Sd-elCv': 'Sd-ilC',\n 'Ah-eC': 'Ah-Bv',\n 'C': 'C',\n 'elCv-Axh-Bv': 'Ah-Bv',\n 'Bcv': 'Bcv',\n 'Sg-Axh': 'Sw-Ah',\n 'Axh-Sg': 'Axh',\n 'Ael-Bv-Btv': 'Ael-Bt',\n 'elC-Bv': 'Al-Bv',\n 'Swd-lC': 'Sd-lC',\n 'M-Swd': 'P-Sd',\n 'Sw-Ah-Go': 'Sw-Ah',\n 'rSw-Go': 'Sw-Go',\n 'Sw-Gr': 'Sw-Go',\n 'Ap-Sw-ilCv': 'Sw-ilC',\n 'Sg-Bv-ilCbtv': 'ilCbtv',\n 'Sg-Al': 'Sw-Ap',\n 'Bhs-Ae': 'Bhs',\n 'Al-Bt-Sw': 'Al-Sw',\n 'Acp-Swd-Bv': 'Sw-Bv',\n 'Go-Bv-Swd': 'Bt-Sd',\n 'Bv-Tv': 'Bv-Cv',\n 'Tv-elC': 'Bv-elC',\n 'Ah-Cv': 'Ah-Bv',\n 'M-Bv': 'Bv',\n 'iC': 'iC',\n 'Axh-elCc': 'elCc',\n 'Alh-Bv': 'Al-Bv',\n 'Go-Swd-M': 'Sw-M',\n 'Swd-Go': 'Sw-Go',\n 'Gro-Swd': 'Gro',\n 'Gr-Sd-Go': 'Sw-Go',\n 'aeM': 'Ael',\n 'M-Al-Bv': 'Al-Bv',\n 'ilC-Sd': 'ilC',\n 'xCn': 'C',\n 'Bcv-lCc': 'Bv-ilC',\n 'Bcv-elCc': 'Bv-elC',\n 'elCc-Bcv': 'elCc',\n 'Mc': 'Mc',\n 'Sw-lC': 'Sw-ilC',\n 'Serw': 'Ssw',\n 'M-Gkso': 'Gkso',\n 'jilCv': 'ilC',\n 'Ap-E': 'Ap',\n 'Bv-Swd': 'Bt-Sd',\n 'Bt-Sg': 'Bt-Sd',\n 'iCv-Sd': 'Bt-Sd',\n 'Btv-Sdw': 'Bt-Sd',\n 'mcC': 'cC',\n 'Al-Bt-Sdw': 'Bt-Sd',\n 'mC': 'C',\n 'cmCv-elCv': 'Bv-elC',\n 'Cc-Bcv': 'Bcv',\n 'Bt-elC': 'Bv-elC',\n 'ilCn': 'ilC',\n 'Sg-M': 'Sw-M',\n 'rGr': 'tGr',\n 'Ahl-Bt': 'Ael-Bt',\n 'Sg-Bt': 'Sw-Bt',\n 'M-elC': 'aelC',\n 'Gkso-Gor': 'Gkso',\n 'R-Axh': 'Axh',\n 'Bt-elCc': 'Bv-elC',\n 'lCc-Sd': 'Bt-Sd',\n 'Sdw-Bt': 'Sw-Bt',\n 'Sw-Sd-Bt': 'Sw-Bt',\n 'Sg-Go': 'Sw-Go',\n 'Swd-Bt-ilC': 'Sd-ilC',\n 'Bt-lCv': 'Bv-Cv',\n 'Sd-M': 'Sw-M',\n 'elC-Go': 'elC-P',\n 'aeGo': 'aelC',\n 'rAxh': 'Axh',\n 'Bt-Axh': 'Axh',\n 'Bvt-Axh': 'Bv-Ael',\n 'eMc': 'Mc',\n 'R-Bvt': 'Bvt',\n 'ilC-Swd': 'Al-Sw',\n 'mCn': 'mCv',\n 'Swd-Bbt': 'Sw-Bt',\n 'imCv': 'imCv',\n 'eCv-Sw': 'Al-Sw',\n 'Sw-lCc': 'Sw-ilC',\n 'Gro-M': 'Gro',\n 'jeAp': 'Ap',\n 'jelC': 'aelC',\n 'elCn': 'elC',\n 'Sg-ilCv': 'Sd-ilC',\n 'Swd-M': 'Sw-M',\n 'jlCv': 'ilC',\n 'Btv-Sg': 'Bt-Sd',\n 'Al-Swd-Bt': 'Al-Sw',\n 'ilCv-Bv': 'ilCbtv',\n 'Sd-C': 'Sd-lC',\n 'Bv-mCv': 'Bv-Cv',\n 'Bv-iCv': 'Bv-Cv',\n 'M-Sw-Go': 'Sw-Go',\n 'Sw-Gro': 'Sw-Go',\n 'Swd-Gro': 'Sw-Go',\n 'aeSw-M': 'Sw-M',\n 'Axh-ilC': 'Bv-ilC',\n 'Axh-elCv': 'Ah-Bv',\n 'Ah-P': 'Ah',\n 'P-Axh': 'Axh',\n 'Axh-lCc': 'Axh',\n 'lCc': 'lC',\n 'jeSwd-lC': 'Sd-lC',\n 'Sg-Btv': 'Sd-Btv',\n 'M-Ap': 'Ap',\n 'lC-Bv': 'Sw-Bv',\n 'elC-eAh': 'elC-P',\n 'Axh-Bt': 'Ael-Bt',\n 'Swd-Axh-Bht': 'Sw-Ah',\n 'Ael-Swd': 'Al-Sw',\n 'Sg-Bvt-Al': 'Sw-Bv',\n 'Sg-Bvt': 'Sw-Bv',\n 'Swd-ilC': 'Sd-ilC',\n 'Btv-Swd': 'Bt-Sd',\n 'jilC': 'ilC',\n 'Bht': 'Bhv',\n 'Al-Bht': 'Al-Bt',\n 'Swd-C': 'Sw-M',\n 'sGo': 'Go',\n 'Srw': 'Ssw',\n 'Acxh-elCkc': 'Acxh',\n 'elCkc': 'elCc',\n 'ilC-Axh': 'ilC',\n 'Bv-Axh-ilCv': 'Bv-ilC',\n 'Axh-Bcv': 'Ah-Bv',\n 'Sw-Bht': 'Sw-Bt',\n 'Bvt-Al-Sdw': 'Bt-Sd',\n 'Bvt-Sd': 'Bt-Sd',\n 'Bv-ixCv': 'Bv-ilC',\n 'Bv-P': 'Bvt',\n 'lC-Bt': 'Al-Bt',\n 'Sdw-Bht': 'Sw-Bt',\n 'aeAxh': 'Axh',\n 'Ctv': 'Cv',\n 'ixCv': 'imCv',\n 'Sd-Bt-M': 'Sd-Btv',\n 'cmCn': 'cmC',\n 'exC': 'emC',\n 'Bv-Acxh': 'Acxh',\n 'M-ilC': 'ilC',\n 'Bht-Bv': 'Ah-Bv',\n 'xCv': 'Cv',\n 'Swd-Sw': 'Sw-Bv',\n 'ixCn': 'ilC',\n 'Swd-Bv-ilC': 'Bv-ilC',\n 'Sw-Hp': 'Sw-Ap',\n 'Sw-H-Serw': 'Sw-Bv',\n 'Bt-Bv-Cv': 'Bv-Cv',\n 'Bj-Sd': 'Bt-Sd',\n 'lC-Sd': 'Bt-Sd',\n 'Bv-Tv-cC': 'Bv-ilC',\n 'Tv-cC': 'cC',\n 'Tv-cCv': 'Bv-Cv',\n 'cxC': 'cC',\n 'Sw-ilCv': 'Sw-ilC',\n 'Al-Btv-Swd': 'Bt-Sd',\n 'Bt-Gco': 'tGro',\n 'Swd-P-Bv': 'Sw-Bv',\n 'Bfv': 'Bhv',\n 'aGo-M': 'Go',\n 'sSw': 'Sw',\n 'jC': 'C',\n 'Sw-Ah-Bv': 'Sw-Bv',\n 'Sd-Cj': 'Sd-Bv',\n 'Bhv-Cv': 'Bv-Cv',\n 'Bt-Sd-Sw': 'Bt-Sd',\n 'sSdw': 'Sd',\n 'ilC-Bt-Swd': 'Bt-Sd',\n 'Ah-exC': 'Ah-Bv',\n 'Cj': 'Cj',\n 'Go-Srw': 'Gor',\n 'Bv-P-ilC': 'Bv-ilC',\n 'Sd-ilCv': 'Sd-ilC',\n 'sSwd': 'Sd',\n 'aSg-M': 'Sw-M',\n 'Bv-Tcv-elC': 'Bv-elC',\n 'Bfv-Sw-ilC': 'Bv-ilC',\n 'P-Bv': 'Bv',\n 'P-ilC': 'ilC',\n 'Bj': 'Bv',\n 'ilCv-Cj': 'ilC',\n 'Sdw-M': 'Sw-M',\n 'lCv-sGo': 'M-Go',\n 'Ap-Bv-ilCv': 'Bv-ilC',\n 'Gw-M': 'Sw-M',\n 'Btv-Sw': 'Bt-Sd',\n 'yilCv': 'ilC',\n 'Yr-Bv': 'Sw-Bv',\n 'Cj-ilCv': 'Bv-ilC',\n 'Sw-Bv-P': 'Sw-Bv',\n 'M-Sew': 'Ssw',\n 'Swd-Cj': 'Sw-Bv',\n 'Sd-Gco': 'Sw-Go',\n 'Btv-lCv': 'Bv-Cv',\n 'Sdg-Bv': 'Sd-Bv',\n 'P-Sw': 'P-Sd',\n 'Bv-P-Sd': 'Bt-Sd',\n 'lCv-Bv': 'Sw-Bv',\n 'Sew-M': 'Sw-M',\n 'Acxh-Al': 'Acxh',\n 'Acxh-Bt': 'Acxh',\n 'ilC-P': 'elC-P',\n 'Sw-Bv-Sd': 'Sw-Bv',\n 'Cj-Cv': 'Bv-Cv',\n 'Sw-lCv': 'Sw-Bv',\n 'Acp-Bcv-cC': 'Al-Bv',\n 'cC': 'cC',\n 'aeAp': 'aelC',\n 'Bv-eC': 'Bv-elC',\n 'emCn': 'emC',\n 'Ah-Bv-cCv': 'Bv-Cv',\n 'Sdw-Ah': 'Sw-Ah',\n 'arGo-P-Sd': 'P-Sd',\n 'M-P-Axh': 'Axh',\n 'aeAh-P': 'elC-P',\n 'elC-Bvt': 'Al-Bv',\n 'eCc': 'elCc',\n 'Bv-Ah-eCv': 'Bv-Cv',\n 'Bv-eCv': 'Bv-Cv',\n 'Tv': 'Cv',\n 'P-Srd': 'P-Sd',\n 'Swd-Cj-lC': 'Sd-ilC',\n 'eSg-lCv': 'Sd-lC',\n 'elCv-Sg': 'elC-P',\n 'Acp-elC-Bcv': 'Al-Bv',\n 'Bv-cCv': 'Bv-Cv',\n 'Acp-P': 'Acp',\n 'P-elCv': 'aelC',\n 'elCv-P': 'elC-P',\n 'ixC': 'ilC',\n 'aeMc': 'aelC',\n 'lC-cmC': 'cmC',\n 'Go-P': 'Go',\n 'Sd-Bt-R': 'Sd-Btv',\n 'eC': 'C',\n 'lCv-Sw': 'Al-Sw',\n 'elC-Tv': 'elC-P',\n 'eAh-P': 'elC-P',\n 'P-lC': 'ilC',\n 'Sw-Tv': 'Sw-Bv',\n 'Tv-Sw': 'Al-Sw',\n 'Tv-Swd': 'Bt-Sd',\n 'Al-Swd-Btv': 'Sd-Btv',\n 'Swd-fBj': 'Sw-Bv',\n 'Al-Sd-Bt': 'Al-Bt',\n 'Ckc': 'C',\n 'fBj-Sd': 'Bt-Sd',\n 'Tv-eCv': 'Bv-Cv',\n 'Ap-Sew': 'Al-Sw',\n 'aM-Gro': 'M-Gro',\n 'Sdw-C': 'Sw-M',\n 'Acp-clC': 'clC',\n 'Cc': 'C',\n 'Swd-Bv': 'Sw-Bv',\n 'Sdw-ilCv': 'Sd-ilC',\n 'Ah-Bv-elC': 'Bv-elC',\n 'ilC-Swd-Bv': 'Sw-Bv',\n 'elC-cmC': 'elCc',\n 'Sd-iC': 'Sd-ilC',\n 'Bv-C': 'Bv-Cv',\n ...}"
     },
     "execution_count": 21,
     "metadata": {},
     "output_type": "execute_result"
    }
   ],
   "source": [
    "# Map rare labels to frequent labels via Levenshtein distance\n",
    "# Any better ideas? Sometimes the mapping is not very faithful to geological meaning\n",
    "from jellyfish import levenshtein_distance as ld\n",
    "rare_labels_mapping = {}\n",
    "list_dict_mapping = list(dict_mapping.keys())\n",
    "for lab in df[target].unique():\n",
    "    if lab in list_dict_mapping:\n",
    "        rare_labels_mapping[lab] = lab # for applying the map later in the df, we need the identity mappings as well\n",
    "    else:\n",
    "        similarities = [ld(lab, freq_lab) for freq_lab in list_dict_mapping]\n",
    "        best_match = list_dict_mapping[np.argmin(similarities)]\n",
    "        rare_labels_mapping[lab] = best_match\n",
    "rare_labels_mapping"
   ],
   "metadata": {
    "collapsed": false,
    "pycharm": {
     "name": "#%%\n"
    }
   }
  },
  {
   "cell_type": "code",
   "execution_count": 22,
   "outputs": [
    {
     "data": {
      "text/plain": "1218"
     },
     "execution_count": 22,
     "metadata": {},
     "output_type": "execute_result"
    }
   ],
   "source": [
    "len(rare_labels_mapping)\n",
    "# ToDo: manually correct the weird mappings\n",
    "# Note: maybe use a second string distance to decide the winner, in case of a tie?"
   ],
   "metadata": {
    "collapsed": false,
    "pycharm": {
     "name": "#%%\n"
    }
   }
  },
  {
   "cell_type": "code",
   "execution_count": 23,
   "outputs": [
    {
     "name": "stderr",
     "output_type": "stream",
     "text": [
      "/tmp/ipykernel_949517/3489057721.py:2: SettingWithCopyWarning: \n",
      "A value is trying to be set on a copy of a slice from a DataFrame.\n",
      "Try using .loc[row_indexer,col_indexer] = value instead\n",
      "\n",
      "See the caveats in the documentation: https://pandas.pydata.org/pandas-docs/stable/user_guide/indexing.html#returning-a-view-versus-a-copy\n",
      "  df[target] = df[target].map(rare_labels_mapping)\n"
     ]
    },
    {
     "data": {
      "text/plain": "        Point  Obergrenze  Untergrenze Horizontsymbol_relevant Bodenart  \\\n0         2.0         0.0         28.0                      Ap      Sl2   \n1         2.0        28.0         54.0                       E      Sl2   \n2         2.0        54.0         68.0                      Bv      Sl2   \n3         2.0        68.0         96.0                  Bv-ilC     fSms   \n4         2.0        96.0        201.0                     ilC     mSfs   \n...       ...         ...          ...                     ...      ...   \n16307  6211.0        27.0         50.0                     Bhs     fSms   \n16308  6211.0        50.0         70.0                     Bsh     fSms   \n16309  6211.0        50.0         70.0                     Bsh     fSms   \n16310  6211.0        70.0        100.0                  Go-ilC     fSms   \n16311  6211.0        70.0        100.0                  Go-ilC     fSms   \n\n      Bodenfarbe  Steine Karbonat Humusgehaltsklasse Durchwurzelung  \\\n0      7.5YR 3/2     3.0       C0                 h3            Wf4   \n1       10YR 3/3     3.0       C0                 h2            Wf3   \n2      7.5YR 4/3    10.0       C0                 h1            Wf3   \n3      7.5YR 6/4     1.0       C0                 h0            Wf2   \n4       10YR 7/4     1.0       C0                 h0            Wf0   \n...          ...     ...      ...                ...            ...   \n16307    5YR 3/2     1.0       C0                 h2            Wf3   \n16308    5YR 4/3     1.0       C0                 h1            Wf2   \n16309    5YR 4/3     1.0       C0                 h1            Wf2   \n16310  7.5YR 5/4     1.0       C0                 h1            Wf6   \n16311  7.5YR 5/4     1.0       C0                 h1            Wf6   \n\n                                                    file  Probenahme_Monat  \\\n0      ../data/BGR/Profilbilder_no_ruler_no_sky/SH_00...                11   \n1      ../data/BGR/Profilbilder_no_ruler_no_sky/SH_00...                11   \n2      ../data/BGR/Profilbilder_no_ruler_no_sky/SH_00...                11   \n3      ../data/BGR/Profilbilder_no_ruler_no_sky/SH_00...                11   \n4      ../data/BGR/Profilbilder_no_ruler_no_sky/SH_00...                11   \n...                                                  ...               ...   \n16307  ../data/BGR/Profilbilder_no_ruler_no_sky/NI_62...                 6   \n16308  ../data/BGR/Profilbilder_no_ruler_no_sky/NI_62...                 6   \n16309  ../data/BGR/Profilbilder_no_ruler_no_sky/NI_62...                 6   \n16310  ../data/BGR/Profilbilder_no_ruler_no_sky/NI_62...                 6   \n16311  ../data/BGR/Profilbilder_no_ruler_no_sky/NI_62...                 6   \n\n       Probenahme_Jahr       xcoord       ycoord  \\\n0                 2015  462216.1283  6079359.775   \n1                 2015  462216.1283  6079359.775   \n2                 2015  462216.1283  6079359.775   \n3                 2015  462216.1283  6079359.775   \n4                 2015  462216.1283  6079359.775   \n...                ...          ...          ...   \n16307             2012  522076.9633  5930456.114   \n16308             2012  522076.9633  5930456.114   \n16309             2012  522076.9633  5930456.114   \n16310             2012  522076.9633  5930456.114   \n16311             2012  522076.9633  5930456.114   \n\n                      Bodenklimaraum_Name Landnutzung BZE_Moor Hauptbodentyp  \\\n0                           Marsch - Nord           A        0            YE   \n1                           Marsch - Nord           A        0            YE   \n2                           Marsch - Nord           A        0            YE   \n3                           Marsch - Nord           A        0            YE   \n4                           Marsch - Nord           A        0            YE   \n...                                   ...         ...      ...           ...   \n16307  Elbe-Weser-Dreieck / sandige Böden           G        0            PP   \n16308  Elbe-Weser-Dreieck / sandige Böden           G        0            PP   \n16309  Elbe-Weser-Dreieck / sandige Böden           G        0            PP   \n16310  Elbe-Weser-Dreieck / sandige Böden           G        0            PP   \n16311  Elbe-Weser-Dreieck / sandige Böden           G        0            PP   \n\n      BodenVarTypSub GrundwaStufe  GrundwaStand  Moormaechtigkeit  \\\n0              YE/BB            0         200.0               0.0   \n1              YE/BB            0         200.0               0.0   \n2              YE/BB            0         200.0               0.0   \n3              YE/BB            0         200.0               0.0   \n4              YE/BB            0         200.0               0.0   \n...              ...          ...           ...               ...   \n16307          GG-PP         GWS4         110.0               0.0   \n16308          GG-PP         GWS4         110.0               0.0   \n16309          GG-PP         GWS4         110.0               0.0   \n16310          GG-PP         GWS4         110.0               0.0   \n16311          GG-PP         GWS4         110.0               0.0   \n\n       Torfmaechtigkeit Neigung Exposition Woelbung Reliefformtyp  \\\n0                   0.0      N0         KE       GG             V   \n1                   0.0      N0         KE       GG             V   \n2                   0.0      N0         KE       GG             V   \n3                   0.0      N0         KE       GG             V   \n4                   0.0      N0         KE       GG             V   \n...                 ...     ...        ...      ...           ...   \n16307               0.0      N0         KE       GG           TSF   \n16308               0.0      N0         KE       GG           TSF   \n16309               0.0      N0         KE       GG           TSF   \n16310               0.0      N0         KE       GG           TSF   \n16311               0.0      N0         KE       GG           TSF   \n\n      LageImRelief  KV_0_30  KV_30_100  \n0                Z    81.89      54.19  \n1                Z    81.89      54.19  \n2                Z    81.89      54.19  \n3                Z    81.89      54.19  \n4                Z    81.89      54.19  \n...            ...      ...        ...  \n16307            T   117.59      87.72  \n16308            T   117.59      87.72  \n16309            T   117.59      87.72  \n16310            T   117.59      87.72  \n16311            T   117.59      87.72  \n\n[13621 rows x 31 columns]",
      "text/html": "<div>\n<style scoped>\n    .dataframe tbody tr th:only-of-type {\n        vertical-align: middle;\n    }\n\n    .dataframe tbody tr th {\n        vertical-align: top;\n    }\n\n    .dataframe thead th {\n        text-align: right;\n    }\n</style>\n<table border=\"1\" class=\"dataframe\">\n  <thead>\n    <tr style=\"text-align: right;\">\n      <th></th>\n      <th>Point</th>\n      <th>Obergrenze</th>\n      <th>Untergrenze</th>\n      <th>Horizontsymbol_relevant</th>\n      <th>Bodenart</th>\n      <th>Bodenfarbe</th>\n      <th>Steine</th>\n      <th>Karbonat</th>\n      <th>Humusgehaltsklasse</th>\n      <th>Durchwurzelung</th>\n      <th>file</th>\n      <th>Probenahme_Monat</th>\n      <th>Probenahme_Jahr</th>\n      <th>xcoord</th>\n      <th>ycoord</th>\n      <th>Bodenklimaraum_Name</th>\n      <th>Landnutzung</th>\n      <th>BZE_Moor</th>\n      <th>Hauptbodentyp</th>\n      <th>BodenVarTypSub</th>\n      <th>GrundwaStufe</th>\n      <th>GrundwaStand</th>\n      <th>Moormaechtigkeit</th>\n      <th>Torfmaechtigkeit</th>\n      <th>Neigung</th>\n      <th>Exposition</th>\n      <th>Woelbung</th>\n      <th>Reliefformtyp</th>\n      <th>LageImRelief</th>\n      <th>KV_0_30</th>\n      <th>KV_30_100</th>\n    </tr>\n  </thead>\n  <tbody>\n    <tr>\n      <th>0</th>\n      <td>2.0</td>\n      <td>0.0</td>\n      <td>28.0</td>\n      <td>Ap</td>\n      <td>Sl2</td>\n      <td>7.5YR 3/2</td>\n      <td>3.0</td>\n      <td>C0</td>\n      <td>h3</td>\n      <td>Wf4</td>\n      <td>../data/BGR/Profilbilder_no_ruler_no_sky/SH_00...</td>\n      <td>11</td>\n      <td>2015</td>\n      <td>462216.1283</td>\n      <td>6079359.775</td>\n      <td>Marsch - Nord</td>\n      <td>A</td>\n      <td>0</td>\n      <td>YE</td>\n      <td>YE/BB</td>\n      <td>0</td>\n      <td>200.0</td>\n      <td>0.0</td>\n      <td>0.0</td>\n      <td>N0</td>\n      <td>KE</td>\n      <td>GG</td>\n      <td>V</td>\n      <td>Z</td>\n      <td>81.89</td>\n      <td>54.19</td>\n    </tr>\n    <tr>\n      <th>1</th>\n      <td>2.0</td>\n      <td>28.0</td>\n      <td>54.0</td>\n      <td>E</td>\n      <td>Sl2</td>\n      <td>10YR 3/3</td>\n      <td>3.0</td>\n      <td>C0</td>\n      <td>h2</td>\n      <td>Wf3</td>\n      <td>../data/BGR/Profilbilder_no_ruler_no_sky/SH_00...</td>\n      <td>11</td>\n      <td>2015</td>\n      <td>462216.1283</td>\n      <td>6079359.775</td>\n      <td>Marsch - Nord</td>\n      <td>A</td>\n      <td>0</td>\n      <td>YE</td>\n      <td>YE/BB</td>\n      <td>0</td>\n      <td>200.0</td>\n      <td>0.0</td>\n      <td>0.0</td>\n      <td>N0</td>\n      <td>KE</td>\n      <td>GG</td>\n      <td>V</td>\n      <td>Z</td>\n      <td>81.89</td>\n      <td>54.19</td>\n    </tr>\n    <tr>\n      <th>2</th>\n      <td>2.0</td>\n      <td>54.0</td>\n      <td>68.0</td>\n      <td>Bv</td>\n      <td>Sl2</td>\n      <td>7.5YR 4/3</td>\n      <td>10.0</td>\n      <td>C0</td>\n      <td>h1</td>\n      <td>Wf3</td>\n      <td>../data/BGR/Profilbilder_no_ruler_no_sky/SH_00...</td>\n      <td>11</td>\n      <td>2015</td>\n      <td>462216.1283</td>\n      <td>6079359.775</td>\n      <td>Marsch - Nord</td>\n      <td>A</td>\n      <td>0</td>\n      <td>YE</td>\n      <td>YE/BB</td>\n      <td>0</td>\n      <td>200.0</td>\n      <td>0.0</td>\n      <td>0.0</td>\n      <td>N0</td>\n      <td>KE</td>\n      <td>GG</td>\n      <td>V</td>\n      <td>Z</td>\n      <td>81.89</td>\n      <td>54.19</td>\n    </tr>\n    <tr>\n      <th>3</th>\n      <td>2.0</td>\n      <td>68.0</td>\n      <td>96.0</td>\n      <td>Bv-ilC</td>\n      <td>fSms</td>\n      <td>7.5YR 6/4</td>\n      <td>1.0</td>\n      <td>C0</td>\n      <td>h0</td>\n      <td>Wf2</td>\n      <td>../data/BGR/Profilbilder_no_ruler_no_sky/SH_00...</td>\n      <td>11</td>\n      <td>2015</td>\n      <td>462216.1283</td>\n      <td>6079359.775</td>\n      <td>Marsch - Nord</td>\n      <td>A</td>\n      <td>0</td>\n      <td>YE</td>\n      <td>YE/BB</td>\n      <td>0</td>\n      <td>200.0</td>\n      <td>0.0</td>\n      <td>0.0</td>\n      <td>N0</td>\n      <td>KE</td>\n      <td>GG</td>\n      <td>V</td>\n      <td>Z</td>\n      <td>81.89</td>\n      <td>54.19</td>\n    </tr>\n    <tr>\n      <th>4</th>\n      <td>2.0</td>\n      <td>96.0</td>\n      <td>201.0</td>\n      <td>ilC</td>\n      <td>mSfs</td>\n      <td>10YR 7/4</td>\n      <td>1.0</td>\n      <td>C0</td>\n      <td>h0</td>\n      <td>Wf0</td>\n      <td>../data/BGR/Profilbilder_no_ruler_no_sky/SH_00...</td>\n      <td>11</td>\n      <td>2015</td>\n      <td>462216.1283</td>\n      <td>6079359.775</td>\n      <td>Marsch - Nord</td>\n      <td>A</td>\n      <td>0</td>\n      <td>YE</td>\n      <td>YE/BB</td>\n      <td>0</td>\n      <td>200.0</td>\n      <td>0.0</td>\n      <td>0.0</td>\n      <td>N0</td>\n      <td>KE</td>\n      <td>GG</td>\n      <td>V</td>\n      <td>Z</td>\n      <td>81.89</td>\n      <td>54.19</td>\n    </tr>\n    <tr>\n      <th>...</th>\n      <td>...</td>\n      <td>...</td>\n      <td>...</td>\n      <td>...</td>\n      <td>...</td>\n      <td>...</td>\n      <td>...</td>\n      <td>...</td>\n      <td>...</td>\n      <td>...</td>\n      <td>...</td>\n      <td>...</td>\n      <td>...</td>\n      <td>...</td>\n      <td>...</td>\n      <td>...</td>\n      <td>...</td>\n      <td>...</td>\n      <td>...</td>\n      <td>...</td>\n      <td>...</td>\n      <td>...</td>\n      <td>...</td>\n      <td>...</td>\n      <td>...</td>\n      <td>...</td>\n      <td>...</td>\n      <td>...</td>\n      <td>...</td>\n      <td>...</td>\n      <td>...</td>\n    </tr>\n    <tr>\n      <th>16307</th>\n      <td>6211.0</td>\n      <td>27.0</td>\n      <td>50.0</td>\n      <td>Bhs</td>\n      <td>fSms</td>\n      <td>5YR 3/2</td>\n      <td>1.0</td>\n      <td>C0</td>\n      <td>h2</td>\n      <td>Wf3</td>\n      <td>../data/BGR/Profilbilder_no_ruler_no_sky/NI_62...</td>\n      <td>6</td>\n      <td>2012</td>\n      <td>522076.9633</td>\n      <td>5930456.114</td>\n      <td>Elbe-Weser-Dreieck / sandige Böden</td>\n      <td>G</td>\n      <td>0</td>\n      <td>PP</td>\n      <td>GG-PP</td>\n      <td>GWS4</td>\n      <td>110.0</td>\n      <td>0.0</td>\n      <td>0.0</td>\n      <td>N0</td>\n      <td>KE</td>\n      <td>GG</td>\n      <td>TSF</td>\n      <td>T</td>\n      <td>117.59</td>\n      <td>87.72</td>\n    </tr>\n    <tr>\n      <th>16308</th>\n      <td>6211.0</td>\n      <td>50.0</td>\n      <td>70.0</td>\n      <td>Bsh</td>\n      <td>fSms</td>\n      <td>5YR 4/3</td>\n      <td>1.0</td>\n      <td>C0</td>\n      <td>h1</td>\n      <td>Wf2</td>\n      <td>../data/BGR/Profilbilder_no_ruler_no_sky/NI_62...</td>\n      <td>6</td>\n      <td>2012</td>\n      <td>522076.9633</td>\n      <td>5930456.114</td>\n      <td>Elbe-Weser-Dreieck / sandige Böden</td>\n      <td>G</td>\n      <td>0</td>\n      <td>PP</td>\n      <td>GG-PP</td>\n      <td>GWS4</td>\n      <td>110.0</td>\n      <td>0.0</td>\n      <td>0.0</td>\n      <td>N0</td>\n      <td>KE</td>\n      <td>GG</td>\n      <td>TSF</td>\n      <td>T</td>\n      <td>117.59</td>\n      <td>87.72</td>\n    </tr>\n    <tr>\n      <th>16309</th>\n      <td>6211.0</td>\n      <td>50.0</td>\n      <td>70.0</td>\n      <td>Bsh</td>\n      <td>fSms</td>\n      <td>5YR 4/3</td>\n      <td>1.0</td>\n      <td>C0</td>\n      <td>h1</td>\n      <td>Wf2</td>\n      <td>../data/BGR/Profilbilder_no_ruler_no_sky/NI_62...</td>\n      <td>6</td>\n      <td>2012</td>\n      <td>522076.9633</td>\n      <td>5930456.114</td>\n      <td>Elbe-Weser-Dreieck / sandige Böden</td>\n      <td>G</td>\n      <td>0</td>\n      <td>PP</td>\n      <td>GG-PP</td>\n      <td>GWS4</td>\n      <td>110.0</td>\n      <td>0.0</td>\n      <td>0.0</td>\n      <td>N0</td>\n      <td>KE</td>\n      <td>GG</td>\n      <td>TSF</td>\n      <td>T</td>\n      <td>117.59</td>\n      <td>87.72</td>\n    </tr>\n    <tr>\n      <th>16310</th>\n      <td>6211.0</td>\n      <td>70.0</td>\n      <td>100.0</td>\n      <td>Go-ilC</td>\n      <td>fSms</td>\n      <td>7.5YR 5/4</td>\n      <td>1.0</td>\n      <td>C0</td>\n      <td>h1</td>\n      <td>Wf6</td>\n      <td>../data/BGR/Profilbilder_no_ruler_no_sky/NI_62...</td>\n      <td>6</td>\n      <td>2012</td>\n      <td>522076.9633</td>\n      <td>5930456.114</td>\n      <td>Elbe-Weser-Dreieck / sandige Böden</td>\n      <td>G</td>\n      <td>0</td>\n      <td>PP</td>\n      <td>GG-PP</td>\n      <td>GWS4</td>\n      <td>110.0</td>\n      <td>0.0</td>\n      <td>0.0</td>\n      <td>N0</td>\n      <td>KE</td>\n      <td>GG</td>\n      <td>TSF</td>\n      <td>T</td>\n      <td>117.59</td>\n      <td>87.72</td>\n    </tr>\n    <tr>\n      <th>16311</th>\n      <td>6211.0</td>\n      <td>70.0</td>\n      <td>100.0</td>\n      <td>Go-ilC</td>\n      <td>fSms</td>\n      <td>7.5YR 5/4</td>\n      <td>1.0</td>\n      <td>C0</td>\n      <td>h1</td>\n      <td>Wf6</td>\n      <td>../data/BGR/Profilbilder_no_ruler_no_sky/NI_62...</td>\n      <td>6</td>\n      <td>2012</td>\n      <td>522076.9633</td>\n      <td>5930456.114</td>\n      <td>Elbe-Weser-Dreieck / sandige Böden</td>\n      <td>G</td>\n      <td>0</td>\n      <td>PP</td>\n      <td>GG-PP</td>\n      <td>GWS4</td>\n      <td>110.0</td>\n      <td>0.0</td>\n      <td>0.0</td>\n      <td>N0</td>\n      <td>KE</td>\n      <td>GG</td>\n      <td>TSF</td>\n      <td>T</td>\n      <td>117.59</td>\n      <td>87.72</td>\n    </tr>\n  </tbody>\n</table>\n<p>13621 rows × 31 columns</p>\n</div>"
     },
     "execution_count": 23,
     "metadata": {},
     "output_type": "execute_result"
    }
   ],
   "source": [
    "# Map rare labels onto frequent labels\n",
    "df[target] = df[target].map(rare_labels_mapping)\n",
    "df"
   ],
   "metadata": {
    "collapsed": false,
    "pycharm": {
     "name": "#%%\n"
    }
   }
  },
  {
   "cell_type": "code",
   "execution_count": 24,
   "outputs": [
    {
     "name": "stderr",
     "output_type": "stream",
     "text": [
      "/tmp/ipykernel_949517/1051670463.py:3: SettingWithCopyWarning: \n",
      "A value is trying to be set on a copy of a slice from a DataFrame.\n",
      "Try using .loc[row_indexer,col_indexer] = value instead\n",
      "\n",
      "See the caveats in the documentation: https://pandas.pydata.org/pandas-docs/stable/user_guide/indexing.html#returning-a-view-versus-a-copy\n",
      "  df[target] = df[target].map(dict_mapping) # in conjunction with HCEs\n",
      "/tmp/ipykernel_949517/1051670463.py:4: SettingWithCopyWarning: \n",
      "A value is trying to be set on a copy of a slice from a DataFrame.\n",
      "Try using .loc[row_indexer,col_indexer] = value instead\n",
      "\n",
      "See the caveats in the documentation: https://pandas.pydata.org/pandas-docs/stable/user_guide/indexing.html#returning-a-view-versus-a-copy\n",
      "  df[target] = df[target].astype(int)\n"
     ]
    },
    {
     "data": {
      "text/plain": "   Point  Obergrenze  Untergrenze  Horizontsymbol_relevant Bodenart  \\\n0    2.0         0.0         28.0                       22      Sl2   \n1    2.0        28.0         54.0                        5      Sl2   \n2    2.0        54.0         68.0                       32      Sl2   \n3    2.0        68.0         96.0                       62     fSms   \n4    2.0        96.0        201.0                        0     mSfs   \n\n  Bodenfarbe  Steine Karbonat Humusgehaltsklasse Durchwurzelung  \\\n0  7.5YR 3/2     3.0       C0                 h3            Wf4   \n1   10YR 3/3     3.0       C0                 h2            Wf3   \n2  7.5YR 4/3    10.0       C0                 h1            Wf3   \n3  7.5YR 6/4     1.0       C0                 h0            Wf2   \n4   10YR 7/4     1.0       C0                 h0            Wf0   \n\n                                                file  Probenahme_Monat  \\\n0  ../data/BGR/Profilbilder_no_ruler_no_sky/SH_00...                11   \n1  ../data/BGR/Profilbilder_no_ruler_no_sky/SH_00...                11   \n2  ../data/BGR/Profilbilder_no_ruler_no_sky/SH_00...                11   \n3  ../data/BGR/Profilbilder_no_ruler_no_sky/SH_00...                11   \n4  ../data/BGR/Profilbilder_no_ruler_no_sky/SH_00...                11   \n\n   Probenahme_Jahr       xcoord       ycoord Bodenklimaraum_Name Landnutzung  \\\n0             2015  462216.1283  6079359.775       Marsch - Nord           A   \n1             2015  462216.1283  6079359.775       Marsch - Nord           A   \n2             2015  462216.1283  6079359.775       Marsch - Nord           A   \n3             2015  462216.1283  6079359.775       Marsch - Nord           A   \n4             2015  462216.1283  6079359.775       Marsch - Nord           A   \n\n  BZE_Moor Hauptbodentyp BodenVarTypSub GrundwaStufe  GrundwaStand  \\\n0        0            YE          YE/BB            0         200.0   \n1        0            YE          YE/BB            0         200.0   \n2        0            YE          YE/BB            0         200.0   \n3        0            YE          YE/BB            0         200.0   \n4        0            YE          YE/BB            0         200.0   \n\n   Moormaechtigkeit  Torfmaechtigkeit Neigung Exposition Woelbung  \\\n0               0.0               0.0      N0         KE       GG   \n1               0.0               0.0      N0         KE       GG   \n2               0.0               0.0      N0         KE       GG   \n3               0.0               0.0      N0         KE       GG   \n4               0.0               0.0      N0         KE       GG   \n\n  Reliefformtyp LageImRelief  KV_0_30  KV_30_100  \n0             V            Z    81.89      54.19  \n1             V            Z    81.89      54.19  \n2             V            Z    81.89      54.19  \n3             V            Z    81.89      54.19  \n4             V            Z    81.89      54.19  ",
      "text/html": "<div>\n<style scoped>\n    .dataframe tbody tr th:only-of-type {\n        vertical-align: middle;\n    }\n\n    .dataframe tbody tr th {\n        vertical-align: top;\n    }\n\n    .dataframe thead th {\n        text-align: right;\n    }\n</style>\n<table border=\"1\" class=\"dataframe\">\n  <thead>\n    <tr style=\"text-align: right;\">\n      <th></th>\n      <th>Point</th>\n      <th>Obergrenze</th>\n      <th>Untergrenze</th>\n      <th>Horizontsymbol_relevant</th>\n      <th>Bodenart</th>\n      <th>Bodenfarbe</th>\n      <th>Steine</th>\n      <th>Karbonat</th>\n      <th>Humusgehaltsklasse</th>\n      <th>Durchwurzelung</th>\n      <th>file</th>\n      <th>Probenahme_Monat</th>\n      <th>Probenahme_Jahr</th>\n      <th>xcoord</th>\n      <th>ycoord</th>\n      <th>Bodenklimaraum_Name</th>\n      <th>Landnutzung</th>\n      <th>BZE_Moor</th>\n      <th>Hauptbodentyp</th>\n      <th>BodenVarTypSub</th>\n      <th>GrundwaStufe</th>\n      <th>GrundwaStand</th>\n      <th>Moormaechtigkeit</th>\n      <th>Torfmaechtigkeit</th>\n      <th>Neigung</th>\n      <th>Exposition</th>\n      <th>Woelbung</th>\n      <th>Reliefformtyp</th>\n      <th>LageImRelief</th>\n      <th>KV_0_30</th>\n      <th>KV_30_100</th>\n    </tr>\n  </thead>\n  <tbody>\n    <tr>\n      <th>0</th>\n      <td>2.0</td>\n      <td>0.0</td>\n      <td>28.0</td>\n      <td>22</td>\n      <td>Sl2</td>\n      <td>7.5YR 3/2</td>\n      <td>3.0</td>\n      <td>C0</td>\n      <td>h3</td>\n      <td>Wf4</td>\n      <td>../data/BGR/Profilbilder_no_ruler_no_sky/SH_00...</td>\n      <td>11</td>\n      <td>2015</td>\n      <td>462216.1283</td>\n      <td>6079359.775</td>\n      <td>Marsch - Nord</td>\n      <td>A</td>\n      <td>0</td>\n      <td>YE</td>\n      <td>YE/BB</td>\n      <td>0</td>\n      <td>200.0</td>\n      <td>0.0</td>\n      <td>0.0</td>\n      <td>N0</td>\n      <td>KE</td>\n      <td>GG</td>\n      <td>V</td>\n      <td>Z</td>\n      <td>81.89</td>\n      <td>54.19</td>\n    </tr>\n    <tr>\n      <th>1</th>\n      <td>2.0</td>\n      <td>28.0</td>\n      <td>54.0</td>\n      <td>5</td>\n      <td>Sl2</td>\n      <td>10YR 3/3</td>\n      <td>3.0</td>\n      <td>C0</td>\n      <td>h2</td>\n      <td>Wf3</td>\n      <td>../data/BGR/Profilbilder_no_ruler_no_sky/SH_00...</td>\n      <td>11</td>\n      <td>2015</td>\n      <td>462216.1283</td>\n      <td>6079359.775</td>\n      <td>Marsch - Nord</td>\n      <td>A</td>\n      <td>0</td>\n      <td>YE</td>\n      <td>YE/BB</td>\n      <td>0</td>\n      <td>200.0</td>\n      <td>0.0</td>\n      <td>0.0</td>\n      <td>N0</td>\n      <td>KE</td>\n      <td>GG</td>\n      <td>V</td>\n      <td>Z</td>\n      <td>81.89</td>\n      <td>54.19</td>\n    </tr>\n    <tr>\n      <th>2</th>\n      <td>2.0</td>\n      <td>54.0</td>\n      <td>68.0</td>\n      <td>32</td>\n      <td>Sl2</td>\n      <td>7.5YR 4/3</td>\n      <td>10.0</td>\n      <td>C0</td>\n      <td>h1</td>\n      <td>Wf3</td>\n      <td>../data/BGR/Profilbilder_no_ruler_no_sky/SH_00...</td>\n      <td>11</td>\n      <td>2015</td>\n      <td>462216.1283</td>\n      <td>6079359.775</td>\n      <td>Marsch - Nord</td>\n      <td>A</td>\n      <td>0</td>\n      <td>YE</td>\n      <td>YE/BB</td>\n      <td>0</td>\n      <td>200.0</td>\n      <td>0.0</td>\n      <td>0.0</td>\n      <td>N0</td>\n      <td>KE</td>\n      <td>GG</td>\n      <td>V</td>\n      <td>Z</td>\n      <td>81.89</td>\n      <td>54.19</td>\n    </tr>\n    <tr>\n      <th>3</th>\n      <td>2.0</td>\n      <td>68.0</td>\n      <td>96.0</td>\n      <td>62</td>\n      <td>fSms</td>\n      <td>7.5YR 6/4</td>\n      <td>1.0</td>\n      <td>C0</td>\n      <td>h0</td>\n      <td>Wf2</td>\n      <td>../data/BGR/Profilbilder_no_ruler_no_sky/SH_00...</td>\n      <td>11</td>\n      <td>2015</td>\n      <td>462216.1283</td>\n      <td>6079359.775</td>\n      <td>Marsch - Nord</td>\n      <td>A</td>\n      <td>0</td>\n      <td>YE</td>\n      <td>YE/BB</td>\n      <td>0</td>\n      <td>200.0</td>\n      <td>0.0</td>\n      <td>0.0</td>\n      <td>N0</td>\n      <td>KE</td>\n      <td>GG</td>\n      <td>V</td>\n      <td>Z</td>\n      <td>81.89</td>\n      <td>54.19</td>\n    </tr>\n    <tr>\n      <th>4</th>\n      <td>2.0</td>\n      <td>96.0</td>\n      <td>201.0</td>\n      <td>0</td>\n      <td>mSfs</td>\n      <td>10YR 7/4</td>\n      <td>1.0</td>\n      <td>C0</td>\n      <td>h0</td>\n      <td>Wf0</td>\n      <td>../data/BGR/Profilbilder_no_ruler_no_sky/SH_00...</td>\n      <td>11</td>\n      <td>2015</td>\n      <td>462216.1283</td>\n      <td>6079359.775</td>\n      <td>Marsch - Nord</td>\n      <td>A</td>\n      <td>0</td>\n      <td>YE</td>\n      <td>YE/BB</td>\n      <td>0</td>\n      <td>200.0</td>\n      <td>0.0</td>\n      <td>0.0</td>\n      <td>N0</td>\n      <td>KE</td>\n      <td>GG</td>\n      <td>V</td>\n      <td>Z</td>\n      <td>81.89</td>\n      <td>54.19</td>\n    </tr>\n  </tbody>\n</table>\n</div>"
     },
     "execution_count": 24,
     "metadata": {},
     "output_type": "execute_result"
    }
   ],
   "source": [
    "# One-hot encoding of the target column\n",
    "#bgr_data.encode_categorical_columns(df, target) # for standard one-hot vectors of the targets\n",
    "df[target] = df[target].map(dict_mapping) # in conjunction with HCEs\n",
    "df[target] = df[target].astype(int)\n",
    "df.head(5)"
   ],
   "metadata": {
    "collapsed": false,
    "pycharm": {
     "name": "#%%\n"
    }
   }
  },
  {
   "cell_type": "code",
   "execution_count": 25,
   "outputs": [
    {
     "name": "stderr",
     "output_type": "stream",
     "text": [
      "/mnt/KInsektDaten/teo/./BGR/bgr/soil/datasets.py:35: SettingWithCopyWarning: \n",
      "A value is trying to be set on a copy of a slice from a DataFrame.\n",
      "Try using .loc[row_indexer,col_indexer] = value instead\n",
      "\n",
      "See the caveats in the documentation: https://pandas.pydata.org/pandas-docs/stable/user_guide/indexing.html#returning-a-view-versus-a-copy\n",
      "  df[col_name] = df[col_name].replace(counts.index, range(len(counts)))\n",
      "/mnt/KInsektDaten/teo/./BGR/bgr/soil/datasets.py:35: FutureWarning: Downcasting behavior in `replace` is deprecated and will be removed in a future version. To retain the old behavior, explicitly call `result.infer_objects(copy=False)`. To opt-in to the future behavior, set `pd.set_option('future.no_silent_downcasting', True)`\n",
      "  df[col_name] = df[col_name].replace(counts.index, range(len(counts)))\n",
      "/mnt/KInsektDaten/teo/./BGR/bgr/soil/datasets.py:35: SettingWithCopyWarning: \n",
      "A value is trying to be set on a copy of a slice from a DataFrame.\n",
      "Try using .loc[row_indexer,col_indexer] = value instead\n",
      "\n",
      "See the caveats in the documentation: https://pandas.pydata.org/pandas-docs/stable/user_guide/indexing.html#returning-a-view-versus-a-copy\n",
      "  df[col_name] = df[col_name].replace(counts.index, range(len(counts)))\n",
      "/mnt/KInsektDaten/teo/./BGR/bgr/soil/datasets.py:35: FutureWarning: Downcasting behavior in `replace` is deprecated and will be removed in a future version. To retain the old behavior, explicitly call `result.infer_objects(copy=False)`. To opt-in to the future behavior, set `pd.set_option('future.no_silent_downcasting', True)`\n",
      "  df[col_name] = df[col_name].replace(counts.index, range(len(counts)))\n",
      "/mnt/KInsektDaten/teo/./BGR/bgr/soil/datasets.py:35: SettingWithCopyWarning: \n",
      "A value is trying to be set on a copy of a slice from a DataFrame.\n",
      "Try using .loc[row_indexer,col_indexer] = value instead\n",
      "\n",
      "See the caveats in the documentation: https://pandas.pydata.org/pandas-docs/stable/user_guide/indexing.html#returning-a-view-versus-a-copy\n",
      "  df[col_name] = df[col_name].replace(counts.index, range(len(counts)))\n",
      "/mnt/KInsektDaten/teo/./BGR/bgr/soil/datasets.py:35: FutureWarning: Downcasting behavior in `replace` is deprecated and will be removed in a future version. To retain the old behavior, explicitly call `result.infer_objects(copy=False)`. To opt-in to the future behavior, set `pd.set_option('future.no_silent_downcasting', True)`\n",
      "  df[col_name] = df[col_name].replace(counts.index, range(len(counts)))\n",
      "/mnt/KInsektDaten/teo/./BGR/bgr/soil/datasets.py:35: SettingWithCopyWarning: \n",
      "A value is trying to be set on a copy of a slice from a DataFrame.\n",
      "Try using .loc[row_indexer,col_indexer] = value instead\n",
      "\n",
      "See the caveats in the documentation: https://pandas.pydata.org/pandas-docs/stable/user_guide/indexing.html#returning-a-view-versus-a-copy\n",
      "  df[col_name] = df[col_name].replace(counts.index, range(len(counts)))\n",
      "/mnt/KInsektDaten/teo/./BGR/bgr/soil/datasets.py:35: FutureWarning: Downcasting behavior in `replace` is deprecated and will be removed in a future version. To retain the old behavior, explicitly call `result.infer_objects(copy=False)`. To opt-in to the future behavior, set `pd.set_option('future.no_silent_downcasting', True)`\n",
      "  df[col_name] = df[col_name].replace(counts.index, range(len(counts)))\n",
      "/mnt/KInsektDaten/teo/./BGR/bgr/soil/datasets.py:35: SettingWithCopyWarning: \n",
      "A value is trying to be set on a copy of a slice from a DataFrame.\n",
      "Try using .loc[row_indexer,col_indexer] = value instead\n",
      "\n",
      "See the caveats in the documentation: https://pandas.pydata.org/pandas-docs/stable/user_guide/indexing.html#returning-a-view-versus-a-copy\n",
      "  df[col_name] = df[col_name].replace(counts.index, range(len(counts)))\n",
      "/mnt/KInsektDaten/teo/./BGR/bgr/soil/datasets.py:35: FutureWarning: Downcasting behavior in `replace` is deprecated and will be removed in a future version. To retain the old behavior, explicitly call `result.infer_objects(copy=False)`. To opt-in to the future behavior, set `pd.set_option('future.no_silent_downcasting', True)`\n",
      "  df[col_name] = df[col_name].replace(counts.index, range(len(counts)))\n",
      "/mnt/KInsektDaten/teo/./BGR/bgr/soil/datasets.py:35: SettingWithCopyWarning: \n",
      "A value is trying to be set on a copy of a slice from a DataFrame.\n",
      "Try using .loc[row_indexer,col_indexer] = value instead\n",
      "\n",
      "See the caveats in the documentation: https://pandas.pydata.org/pandas-docs/stable/user_guide/indexing.html#returning-a-view-versus-a-copy\n",
      "  df[col_name] = df[col_name].replace(counts.index, range(len(counts)))\n",
      "/mnt/KInsektDaten/teo/./BGR/bgr/soil/datasets.py:35: FutureWarning: Downcasting behavior in `replace` is deprecated and will be removed in a future version. To retain the old behavior, explicitly call `result.infer_objects(copy=False)`. To opt-in to the future behavior, set `pd.set_option('future.no_silent_downcasting', True)`\n",
      "  df[col_name] = df[col_name].replace(counts.index, range(len(counts)))\n",
      "/mnt/KInsektDaten/teo/./BGR/bgr/soil/datasets.py:35: SettingWithCopyWarning: \n",
      "A value is trying to be set on a copy of a slice from a DataFrame.\n",
      "Try using .loc[row_indexer,col_indexer] = value instead\n",
      "\n",
      "See the caveats in the documentation: https://pandas.pydata.org/pandas-docs/stable/user_guide/indexing.html#returning-a-view-versus-a-copy\n",
      "  df[col_name] = df[col_name].replace(counts.index, range(len(counts)))\n",
      "/mnt/KInsektDaten/teo/./BGR/bgr/soil/datasets.py:35: FutureWarning: Downcasting behavior in `replace` is deprecated and will be removed in a future version. To retain the old behavior, explicitly call `result.infer_objects(copy=False)`. To opt-in to the future behavior, set `pd.set_option('future.no_silent_downcasting', True)`\n",
      "  df[col_name] = df[col_name].replace(counts.index, range(len(counts)))\n",
      "/mnt/KInsektDaten/teo/./BGR/bgr/soil/datasets.py:35: SettingWithCopyWarning: \n",
      "A value is trying to be set on a copy of a slice from a DataFrame.\n",
      "Try using .loc[row_indexer,col_indexer] = value instead\n",
      "\n",
      "See the caveats in the documentation: https://pandas.pydata.org/pandas-docs/stable/user_guide/indexing.html#returning-a-view-versus-a-copy\n",
      "  df[col_name] = df[col_name].replace(counts.index, range(len(counts)))\n",
      "/mnt/KInsektDaten/teo/./BGR/bgr/soil/datasets.py:35: FutureWarning: Downcasting behavior in `replace` is deprecated and will be removed in a future version. To retain the old behavior, explicitly call `result.infer_objects(copy=False)`. To opt-in to the future behavior, set `pd.set_option('future.no_silent_downcasting', True)`\n",
      "  df[col_name] = df[col_name].replace(counts.index, range(len(counts)))\n",
      "/mnt/KInsektDaten/teo/./BGR/bgr/soil/datasets.py:35: SettingWithCopyWarning: \n",
      "A value is trying to be set on a copy of a slice from a DataFrame.\n",
      "Try using .loc[row_indexer,col_indexer] = value instead\n",
      "\n",
      "See the caveats in the documentation: https://pandas.pydata.org/pandas-docs/stable/user_guide/indexing.html#returning-a-view-versus-a-copy\n",
      "  df[col_name] = df[col_name].replace(counts.index, range(len(counts)))\n",
      "/mnt/KInsektDaten/teo/./BGR/bgr/soil/datasets.py:35: FutureWarning: Downcasting behavior in `replace` is deprecated and will be removed in a future version. To retain the old behavior, explicitly call `result.infer_objects(copy=False)`. To opt-in to the future behavior, set `pd.set_option('future.no_silent_downcasting', True)`\n",
      "  df[col_name] = df[col_name].replace(counts.index, range(len(counts)))\n",
      "/mnt/KInsektDaten/teo/./BGR/bgr/soil/datasets.py:35: SettingWithCopyWarning: \n",
      "A value is trying to be set on a copy of a slice from a DataFrame.\n",
      "Try using .loc[row_indexer,col_indexer] = value instead\n",
      "\n",
      "See the caveats in the documentation: https://pandas.pydata.org/pandas-docs/stable/user_guide/indexing.html#returning-a-view-versus-a-copy\n",
      "  df[col_name] = df[col_name].replace(counts.index, range(len(counts)))\n",
      "/mnt/KInsektDaten/teo/./BGR/bgr/soil/datasets.py:35: FutureWarning: Downcasting behavior in `replace` is deprecated and will be removed in a future version. To retain the old behavior, explicitly call `result.infer_objects(copy=False)`. To opt-in to the future behavior, set `pd.set_option('future.no_silent_downcasting', True)`\n",
      "  df[col_name] = df[col_name].replace(counts.index, range(len(counts)))\n",
      "/mnt/KInsektDaten/teo/./BGR/bgr/soil/datasets.py:35: SettingWithCopyWarning: \n",
      "A value is trying to be set on a copy of a slice from a DataFrame.\n",
      "Try using .loc[row_indexer,col_indexer] = value instead\n",
      "\n",
      "See the caveats in the documentation: https://pandas.pydata.org/pandas-docs/stable/user_guide/indexing.html#returning-a-view-versus-a-copy\n",
      "  df[col_name] = df[col_name].replace(counts.index, range(len(counts)))\n",
      "/mnt/KInsektDaten/teo/./BGR/bgr/soil/datasets.py:35: FutureWarning: Downcasting behavior in `replace` is deprecated and will be removed in a future version. To retain the old behavior, explicitly call `result.infer_objects(copy=False)`. To opt-in to the future behavior, set `pd.set_option('future.no_silent_downcasting', True)`\n",
      "  df[col_name] = df[col_name].replace(counts.index, range(len(counts)))\n",
      "/mnt/KInsektDaten/teo/./BGR/bgr/soil/datasets.py:35: SettingWithCopyWarning: \n",
      "A value is trying to be set on a copy of a slice from a DataFrame.\n",
      "Try using .loc[row_indexer,col_indexer] = value instead\n",
      "\n",
      "See the caveats in the documentation: https://pandas.pydata.org/pandas-docs/stable/user_guide/indexing.html#returning-a-view-versus-a-copy\n",
      "  df[col_name] = df[col_name].replace(counts.index, range(len(counts)))\n",
      "/mnt/KInsektDaten/teo/./BGR/bgr/soil/datasets.py:35: FutureWarning: Downcasting behavior in `replace` is deprecated and will be removed in a future version. To retain the old behavior, explicitly call `result.infer_objects(copy=False)`. To opt-in to the future behavior, set `pd.set_option('future.no_silent_downcasting', True)`\n",
      "  df[col_name] = df[col_name].replace(counts.index, range(len(counts)))\n",
      "/mnt/KInsektDaten/teo/./BGR/bgr/soil/datasets.py:35: SettingWithCopyWarning: \n",
      "A value is trying to be set on a copy of a slice from a DataFrame.\n",
      "Try using .loc[row_indexer,col_indexer] = value instead\n",
      "\n",
      "See the caveats in the documentation: https://pandas.pydata.org/pandas-docs/stable/user_guide/indexing.html#returning-a-view-versus-a-copy\n",
      "  df[col_name] = df[col_name].replace(counts.index, range(len(counts)))\n",
      "/mnt/KInsektDaten/teo/./BGR/bgr/soil/datasets.py:35: FutureWarning: Downcasting behavior in `replace` is deprecated and will be removed in a future version. To retain the old behavior, explicitly call `result.infer_objects(copy=False)`. To opt-in to the future behavior, set `pd.set_option('future.no_silent_downcasting', True)`\n",
      "  df[col_name] = df[col_name].replace(counts.index, range(len(counts)))\n",
      "/mnt/KInsektDaten/teo/./BGR/bgr/soil/datasets.py:35: SettingWithCopyWarning: \n",
      "A value is trying to be set on a copy of a slice from a DataFrame.\n",
      "Try using .loc[row_indexer,col_indexer] = value instead\n",
      "\n",
      "See the caveats in the documentation: https://pandas.pydata.org/pandas-docs/stable/user_guide/indexing.html#returning-a-view-versus-a-copy\n",
      "  df[col_name] = df[col_name].replace(counts.index, range(len(counts)))\n",
      "/mnt/KInsektDaten/teo/./BGR/bgr/soil/datasets.py:35: FutureWarning: Downcasting behavior in `replace` is deprecated and will be removed in a future version. To retain the old behavior, explicitly call `result.infer_objects(copy=False)`. To opt-in to the future behavior, set `pd.set_option('future.no_silent_downcasting', True)`\n",
      "  df[col_name] = df[col_name].replace(counts.index, range(len(counts)))\n",
      "/mnt/KInsektDaten/teo/./BGR/bgr/soil/datasets.py:35: SettingWithCopyWarning: \n",
      "A value is trying to be set on a copy of a slice from a DataFrame.\n",
      "Try using .loc[row_indexer,col_indexer] = value instead\n",
      "\n",
      "See the caveats in the documentation: https://pandas.pydata.org/pandas-docs/stable/user_guide/indexing.html#returning-a-view-versus-a-copy\n",
      "  df[col_name] = df[col_name].replace(counts.index, range(len(counts)))\n",
      "/mnt/KInsektDaten/teo/./BGR/bgr/soil/datasets.py:35: FutureWarning: Downcasting behavior in `replace` is deprecated and will be removed in a future version. To retain the old behavior, explicitly call `result.infer_objects(copy=False)`. To opt-in to the future behavior, set `pd.set_option('future.no_silent_downcasting', True)`\n",
      "  df[col_name] = df[col_name].replace(counts.index, range(len(counts)))\n",
      "/mnt/KInsektDaten/teo/./BGR/bgr/soil/datasets.py:35: SettingWithCopyWarning: \n",
      "A value is trying to be set on a copy of a slice from a DataFrame.\n",
      "Try using .loc[row_indexer,col_indexer] = value instead\n",
      "\n",
      "See the caveats in the documentation: https://pandas.pydata.org/pandas-docs/stable/user_guide/indexing.html#returning-a-view-versus-a-copy\n",
      "  df[col_name] = df[col_name].replace(counts.index, range(len(counts)))\n",
      "/mnt/KInsektDaten/teo/./BGR/bgr/soil/datasets.py:35: FutureWarning: Downcasting behavior in `replace` is deprecated and will be removed in a future version. To retain the old behavior, explicitly call `result.infer_objects(copy=False)`. To opt-in to the future behavior, set `pd.set_option('future.no_silent_downcasting', True)`\n",
      "  df[col_name] = df[col_name].replace(counts.index, range(len(counts)))\n",
      "/mnt/KInsektDaten/teo/./BGR/bgr/soil/datasets.py:35: SettingWithCopyWarning: \n",
      "A value is trying to be set on a copy of a slice from a DataFrame.\n",
      "Try using .loc[row_indexer,col_indexer] = value instead\n",
      "\n",
      "See the caveats in the documentation: https://pandas.pydata.org/pandas-docs/stable/user_guide/indexing.html#returning-a-view-versus-a-copy\n",
      "  df[col_name] = df[col_name].replace(counts.index, range(len(counts)))\n"
     ]
    },
    {
     "data": {
      "text/plain": "        Point  Obergrenze  Untergrenze  Horizontsymbol_relevant  Bodenart  \\\n0         2.0         0.0         28.0                       22       3.0   \n1         2.0        28.0         54.0                        5       3.0   \n2         2.0        54.0         68.0                       32       3.0   \n3         2.0        68.0         96.0                       62       8.0   \n4         2.0        96.0        201.0                        0       7.0   \n...       ...         ...          ...                      ...       ...   \n16307  6211.0        27.0         50.0                       37       8.0   \n16308  6211.0        50.0         70.0                       12       8.0   \n16309  6211.0        50.0         70.0                       12       8.0   \n16310  6211.0        70.0        100.0                       74       8.0   \n16311  6211.0        70.0        100.0                       74       8.0   \n\n       Bodenfarbe  Steine  Karbonat  Humusgehaltsklasse  Durchwurzelung  \\\n0            24.0     3.0         0                 1.0               4   \n1             0.0     3.0         0                 3.0               3   \n2            20.0    10.0         0                 2.0               3   \n3            72.0     1.0         0                 0.0               1   \n4            37.0     1.0         0                 0.0               0   \n...           ...     ...       ...                 ...             ...   \n16307        68.0     1.0         0                 3.0               3   \n16308        38.0     1.0         0                 2.0               1   \n16309        38.0     1.0         0                 2.0               1   \n16310        19.0     1.0         0                 2.0               6   \n16311        19.0     1.0         0                 2.0               6   \n\n                                                    file  Probenahme_Monat  \\\n0      ../data/BGR/Profilbilder_no_ruler_no_sky/SH_00...                 3   \n1      ../data/BGR/Profilbilder_no_ruler_no_sky/SH_00...                 3   \n2      ../data/BGR/Profilbilder_no_ruler_no_sky/SH_00...                 3   \n3      ../data/BGR/Profilbilder_no_ruler_no_sky/SH_00...                 3   \n4      ../data/BGR/Profilbilder_no_ruler_no_sky/SH_00...                 3   \n...                                                  ...               ...   \n16307  ../data/BGR/Profilbilder_no_ruler_no_sky/NI_62...                10   \n16308  ../data/BGR/Profilbilder_no_ruler_no_sky/NI_62...                10   \n16309  ../data/BGR/Profilbilder_no_ruler_no_sky/NI_62...                10   \n16310  ../data/BGR/Profilbilder_no_ruler_no_sky/NI_62...                10   \n16311  ../data/BGR/Profilbilder_no_ruler_no_sky/NI_62...                10   \n\n       Probenahme_Jahr       xcoord       ycoord  Bodenklimaraum_Name  \\\n0                    4  462216.1283  6079359.775                   37   \n1                    4  462216.1283  6079359.775                   37   \n2                    4  462216.1283  6079359.775                   37   \n3                    4  462216.1283  6079359.775                   37   \n4                    4  462216.1283  6079359.775                   37   \n...                ...          ...          ...                  ...   \n16307                0  522076.9633  5930456.114                   15   \n16308                0  522076.9633  5930456.114                   15   \n16309                0  522076.9633  5930456.114                   15   \n16310                0  522076.9633  5930456.114                   15   \n16311                0  522076.9633  5930456.114                   15   \n\n       Landnutzung  BZE_Moor  Hauptbodentyp  BodenVarTypSub  GrundwaStufe  \\\n0                0         0             15             247           0.0   \n1                0         0             15             247           0.0   \n2                0         0             15             247           0.0   \n3                0         0             15             247           0.0   \n4                0         0             15             247           0.0   \n...            ...       ...            ...             ...           ...   \n16307            1         0              8              42           1.0   \n16308            1         0              8              42           1.0   \n16309            1         0              8              42           1.0   \n16310            1         0              8              42           1.0   \n16311            1         0              8              42           1.0   \n\n       GrundwaStand  Moormaechtigkeit  Torfmaechtigkeit  Neigung  Exposition  \\\n0             200.0               0.0               0.0      0.0         0.0   \n1             200.0               0.0               0.0      0.0         0.0   \n2             200.0               0.0               0.0      0.0         0.0   \n3             200.0               0.0               0.0      0.0         0.0   \n4             200.0               0.0               0.0      0.0         0.0   \n...             ...               ...               ...      ...         ...   \n16307         110.0               0.0               0.0      0.0         0.0   \n16308         110.0               0.0               0.0      0.0         0.0   \n16309         110.0               0.0               0.0      0.0         0.0   \n16310         110.0               0.0               0.0      0.0         0.0   \n16311         110.0               0.0               0.0      0.0         0.0   \n\n       Woelbung  Reliefformtyp  LageImRelief  KV_0_30  KV_30_100  \n0           0.0            1.0           0.0    81.89      54.19  \n1           0.0            1.0           0.0    81.89      54.19  \n2           0.0            1.0           0.0    81.89      54.19  \n3           0.0            1.0           0.0    81.89      54.19  \n4           0.0            1.0           0.0    81.89      54.19  \n...         ...            ...           ...      ...        ...  \n16307       0.0            2.0           5.0   117.59      87.72  \n16308       0.0            2.0           5.0   117.59      87.72  \n16309       0.0            2.0           5.0   117.59      87.72  \n16310       0.0            2.0           5.0   117.59      87.72  \n16311       0.0            2.0           5.0   117.59      87.72  \n\n[13621 rows x 31 columns]",
      "text/html": "<div>\n<style scoped>\n    .dataframe tbody tr th:only-of-type {\n        vertical-align: middle;\n    }\n\n    .dataframe tbody tr th {\n        vertical-align: top;\n    }\n\n    .dataframe thead th {\n        text-align: right;\n    }\n</style>\n<table border=\"1\" class=\"dataframe\">\n  <thead>\n    <tr style=\"text-align: right;\">\n      <th></th>\n      <th>Point</th>\n      <th>Obergrenze</th>\n      <th>Untergrenze</th>\n      <th>Horizontsymbol_relevant</th>\n      <th>Bodenart</th>\n      <th>Bodenfarbe</th>\n      <th>Steine</th>\n      <th>Karbonat</th>\n      <th>Humusgehaltsklasse</th>\n      <th>Durchwurzelung</th>\n      <th>file</th>\n      <th>Probenahme_Monat</th>\n      <th>Probenahme_Jahr</th>\n      <th>xcoord</th>\n      <th>ycoord</th>\n      <th>Bodenklimaraum_Name</th>\n      <th>Landnutzung</th>\n      <th>BZE_Moor</th>\n      <th>Hauptbodentyp</th>\n      <th>BodenVarTypSub</th>\n      <th>GrundwaStufe</th>\n      <th>GrundwaStand</th>\n      <th>Moormaechtigkeit</th>\n      <th>Torfmaechtigkeit</th>\n      <th>Neigung</th>\n      <th>Exposition</th>\n      <th>Woelbung</th>\n      <th>Reliefformtyp</th>\n      <th>LageImRelief</th>\n      <th>KV_0_30</th>\n      <th>KV_30_100</th>\n    </tr>\n  </thead>\n  <tbody>\n    <tr>\n      <th>0</th>\n      <td>2.0</td>\n      <td>0.0</td>\n      <td>28.0</td>\n      <td>22</td>\n      <td>3.0</td>\n      <td>24.0</td>\n      <td>3.0</td>\n      <td>0</td>\n      <td>1.0</td>\n      <td>4</td>\n      <td>../data/BGR/Profilbilder_no_ruler_no_sky/SH_00...</td>\n      <td>3</td>\n      <td>4</td>\n      <td>462216.1283</td>\n      <td>6079359.775</td>\n      <td>37</td>\n      <td>0</td>\n      <td>0</td>\n      <td>15</td>\n      <td>247</td>\n      <td>0.0</td>\n      <td>200.0</td>\n      <td>0.0</td>\n      <td>0.0</td>\n      <td>0.0</td>\n      <td>0.0</td>\n      <td>0.0</td>\n      <td>1.0</td>\n      <td>0.0</td>\n      <td>81.89</td>\n      <td>54.19</td>\n    </tr>\n    <tr>\n      <th>1</th>\n      <td>2.0</td>\n      <td>28.0</td>\n      <td>54.0</td>\n      <td>5</td>\n      <td>3.0</td>\n      <td>0.0</td>\n      <td>3.0</td>\n      <td>0</td>\n      <td>3.0</td>\n      <td>3</td>\n      <td>../data/BGR/Profilbilder_no_ruler_no_sky/SH_00...</td>\n      <td>3</td>\n      <td>4</td>\n      <td>462216.1283</td>\n      <td>6079359.775</td>\n      <td>37</td>\n      <td>0</td>\n      <td>0</td>\n      <td>15</td>\n      <td>247</td>\n      <td>0.0</td>\n      <td>200.0</td>\n      <td>0.0</td>\n      <td>0.0</td>\n      <td>0.0</td>\n      <td>0.0</td>\n      <td>0.0</td>\n      <td>1.0</td>\n      <td>0.0</td>\n      <td>81.89</td>\n      <td>54.19</td>\n    </tr>\n    <tr>\n      <th>2</th>\n      <td>2.0</td>\n      <td>54.0</td>\n      <td>68.0</td>\n      <td>32</td>\n      <td>3.0</td>\n      <td>20.0</td>\n      <td>10.0</td>\n      <td>0</td>\n      <td>2.0</td>\n      <td>3</td>\n      <td>../data/BGR/Profilbilder_no_ruler_no_sky/SH_00...</td>\n      <td>3</td>\n      <td>4</td>\n      <td>462216.1283</td>\n      <td>6079359.775</td>\n      <td>37</td>\n      <td>0</td>\n      <td>0</td>\n      <td>15</td>\n      <td>247</td>\n      <td>0.0</td>\n      <td>200.0</td>\n      <td>0.0</td>\n      <td>0.0</td>\n      <td>0.0</td>\n      <td>0.0</td>\n      <td>0.0</td>\n      <td>1.0</td>\n      <td>0.0</td>\n      <td>81.89</td>\n      <td>54.19</td>\n    </tr>\n    <tr>\n      <th>3</th>\n      <td>2.0</td>\n      <td>68.0</td>\n      <td>96.0</td>\n      <td>62</td>\n      <td>8.0</td>\n      <td>72.0</td>\n      <td>1.0</td>\n      <td>0</td>\n      <td>0.0</td>\n      <td>1</td>\n      <td>../data/BGR/Profilbilder_no_ruler_no_sky/SH_00...</td>\n      <td>3</td>\n      <td>4</td>\n      <td>462216.1283</td>\n      <td>6079359.775</td>\n      <td>37</td>\n      <td>0</td>\n      <td>0</td>\n      <td>15</td>\n      <td>247</td>\n      <td>0.0</td>\n      <td>200.0</td>\n      <td>0.0</td>\n      <td>0.0</td>\n      <td>0.0</td>\n      <td>0.0</td>\n      <td>0.0</td>\n      <td>1.0</td>\n      <td>0.0</td>\n      <td>81.89</td>\n      <td>54.19</td>\n    </tr>\n    <tr>\n      <th>4</th>\n      <td>2.0</td>\n      <td>96.0</td>\n      <td>201.0</td>\n      <td>0</td>\n      <td>7.0</td>\n      <td>37.0</td>\n      <td>1.0</td>\n      <td>0</td>\n      <td>0.0</td>\n      <td>0</td>\n      <td>../data/BGR/Profilbilder_no_ruler_no_sky/SH_00...</td>\n      <td>3</td>\n      <td>4</td>\n      <td>462216.1283</td>\n      <td>6079359.775</td>\n      <td>37</td>\n      <td>0</td>\n      <td>0</td>\n      <td>15</td>\n      <td>247</td>\n      <td>0.0</td>\n      <td>200.0</td>\n      <td>0.0</td>\n      <td>0.0</td>\n      <td>0.0</td>\n      <td>0.0</td>\n      <td>0.0</td>\n      <td>1.0</td>\n      <td>0.0</td>\n      <td>81.89</td>\n      <td>54.19</td>\n    </tr>\n    <tr>\n      <th>...</th>\n      <td>...</td>\n      <td>...</td>\n      <td>...</td>\n      <td>...</td>\n      <td>...</td>\n      <td>...</td>\n      <td>...</td>\n      <td>...</td>\n      <td>...</td>\n      <td>...</td>\n      <td>...</td>\n      <td>...</td>\n      <td>...</td>\n      <td>...</td>\n      <td>...</td>\n      <td>...</td>\n      <td>...</td>\n      <td>...</td>\n      <td>...</td>\n      <td>...</td>\n      <td>...</td>\n      <td>...</td>\n      <td>...</td>\n      <td>...</td>\n      <td>...</td>\n      <td>...</td>\n      <td>...</td>\n      <td>...</td>\n      <td>...</td>\n      <td>...</td>\n      <td>...</td>\n    </tr>\n    <tr>\n      <th>16307</th>\n      <td>6211.0</td>\n      <td>27.0</td>\n      <td>50.0</td>\n      <td>37</td>\n      <td>8.0</td>\n      <td>68.0</td>\n      <td>1.0</td>\n      <td>0</td>\n      <td>3.0</td>\n      <td>3</td>\n      <td>../data/BGR/Profilbilder_no_ruler_no_sky/NI_62...</td>\n      <td>10</td>\n      <td>0</td>\n      <td>522076.9633</td>\n      <td>5930456.114</td>\n      <td>15</td>\n      <td>1</td>\n      <td>0</td>\n      <td>8</td>\n      <td>42</td>\n      <td>1.0</td>\n      <td>110.0</td>\n      <td>0.0</td>\n      <td>0.0</td>\n      <td>0.0</td>\n      <td>0.0</td>\n      <td>0.0</td>\n      <td>2.0</td>\n      <td>5.0</td>\n      <td>117.59</td>\n      <td>87.72</td>\n    </tr>\n    <tr>\n      <th>16308</th>\n      <td>6211.0</td>\n      <td>50.0</td>\n      <td>70.0</td>\n      <td>12</td>\n      <td>8.0</td>\n      <td>38.0</td>\n      <td>1.0</td>\n      <td>0</td>\n      <td>2.0</td>\n      <td>1</td>\n      <td>../data/BGR/Profilbilder_no_ruler_no_sky/NI_62...</td>\n      <td>10</td>\n      <td>0</td>\n      <td>522076.9633</td>\n      <td>5930456.114</td>\n      <td>15</td>\n      <td>1</td>\n      <td>0</td>\n      <td>8</td>\n      <td>42</td>\n      <td>1.0</td>\n      <td>110.0</td>\n      <td>0.0</td>\n      <td>0.0</td>\n      <td>0.0</td>\n      <td>0.0</td>\n      <td>0.0</td>\n      <td>2.0</td>\n      <td>5.0</td>\n      <td>117.59</td>\n      <td>87.72</td>\n    </tr>\n    <tr>\n      <th>16309</th>\n      <td>6211.0</td>\n      <td>50.0</td>\n      <td>70.0</td>\n      <td>12</td>\n      <td>8.0</td>\n      <td>38.0</td>\n      <td>1.0</td>\n      <td>0</td>\n      <td>2.0</td>\n      <td>1</td>\n      <td>../data/BGR/Profilbilder_no_ruler_no_sky/NI_62...</td>\n      <td>10</td>\n      <td>0</td>\n      <td>522076.9633</td>\n      <td>5930456.114</td>\n      <td>15</td>\n      <td>1</td>\n      <td>0</td>\n      <td>8</td>\n      <td>42</td>\n      <td>1.0</td>\n      <td>110.0</td>\n      <td>0.0</td>\n      <td>0.0</td>\n      <td>0.0</td>\n      <td>0.0</td>\n      <td>0.0</td>\n      <td>2.0</td>\n      <td>5.0</td>\n      <td>117.59</td>\n      <td>87.72</td>\n    </tr>\n    <tr>\n      <th>16310</th>\n      <td>6211.0</td>\n      <td>70.0</td>\n      <td>100.0</td>\n      <td>74</td>\n      <td>8.0</td>\n      <td>19.0</td>\n      <td>1.0</td>\n      <td>0</td>\n      <td>2.0</td>\n      <td>6</td>\n      <td>../data/BGR/Profilbilder_no_ruler_no_sky/NI_62...</td>\n      <td>10</td>\n      <td>0</td>\n      <td>522076.9633</td>\n      <td>5930456.114</td>\n      <td>15</td>\n      <td>1</td>\n      <td>0</td>\n      <td>8</td>\n      <td>42</td>\n      <td>1.0</td>\n      <td>110.0</td>\n      <td>0.0</td>\n      <td>0.0</td>\n      <td>0.0</td>\n      <td>0.0</td>\n      <td>0.0</td>\n      <td>2.0</td>\n      <td>5.0</td>\n      <td>117.59</td>\n      <td>87.72</td>\n    </tr>\n    <tr>\n      <th>16311</th>\n      <td>6211.0</td>\n      <td>70.0</td>\n      <td>100.0</td>\n      <td>74</td>\n      <td>8.0</td>\n      <td>19.0</td>\n      <td>1.0</td>\n      <td>0</td>\n      <td>2.0</td>\n      <td>6</td>\n      <td>../data/BGR/Profilbilder_no_ruler_no_sky/NI_62...</td>\n      <td>10</td>\n      <td>0</td>\n      <td>522076.9633</td>\n      <td>5930456.114</td>\n      <td>15</td>\n      <td>1</td>\n      <td>0</td>\n      <td>8</td>\n      <td>42</td>\n      <td>1.0</td>\n      <td>110.0</td>\n      <td>0.0</td>\n      <td>0.0</td>\n      <td>0.0</td>\n      <td>0.0</td>\n      <td>0.0</td>\n      <td>2.0</td>\n      <td>5.0</td>\n      <td>117.59</td>\n      <td>87.72</td>\n    </tr>\n  </tbody>\n</table>\n<p>13621 rows × 31 columns</p>\n</div>"
     },
     "execution_count": 25,
     "metadata": {},
     "output_type": "execute_result"
    }
   ],
   "source": [
    "# Encode categorical features (NaNs are left NaNs)\n",
    "for categ in categ_features:\n",
    "    bgr_data.encode_categorical_columns(df, categ)\n",
    "df"
   ],
   "metadata": {
    "collapsed": false,
    "pycharm": {
     "name": "#%%\n"
    }
   }
  },
  {
   "cell_type": "code",
   "execution_count": 26,
   "outputs": [
    {
     "name": "stdout",
     "output_type": "stream",
     "text": [
      "<class 'pandas.core.frame.DataFrame'>\n",
      "Index: 13621 entries, 0 to 16311\n",
      "Data columns (total 31 columns):\n",
      " #   Column                   Non-Null Count  Dtype  \n",
      "---  ------                   --------------  -----  \n",
      " 0   Point                    13621 non-null  float64\n",
      " 1   Obergrenze               13621 non-null  float64\n",
      " 2   Untergrenze              13621 non-null  float64\n",
      " 3   Horizontsymbol_relevant  13621 non-null  int64  \n",
      " 4   Bodenart                 13589 non-null  float64\n",
      " 5   Bodenfarbe               13572 non-null  float64\n",
      " 6   Steine                   13621 non-null  float64\n",
      " 7   Karbonat                 13621 non-null  int64  \n",
      " 8   Humusgehaltsklasse       13615 non-null  float64\n",
      " 9   Durchwurzelung           13621 non-null  int64  \n",
      " 10  file                     13621 non-null  object \n",
      " 11  Probenahme_Monat         13621 non-null  int64  \n",
      " 12  Probenahme_Jahr          13621 non-null  int64  \n",
      " 13  xcoord                   13621 non-null  float64\n",
      " 14  ycoord                   13621 non-null  float64\n",
      " 15  Bodenklimaraum_Name      13621 non-null  int64  \n",
      " 16  Landnutzung              13621 non-null  int64  \n",
      " 17  BZE_Moor                 13621 non-null  int64  \n",
      " 18  Hauptbodentyp            13621 non-null  int64  \n",
      " 19  BodenVarTypSub           13621 non-null  int64  \n",
      " 20  GrundwaStufe             13609 non-null  float64\n",
      " 21  GrundwaStand             11401 non-null  float64\n",
      " 22  Moormaechtigkeit         13609 non-null  float64\n",
      " 23  Torfmaechtigkeit         13609 non-null  float64\n",
      " 24  Neigung                  13609 non-null  float64\n",
      " 25  Exposition               12901 non-null  float64\n",
      " 26  Woelbung                 13609 non-null  float64\n",
      " 27  Reliefformtyp            13609 non-null  float64\n",
      " 28  LageImRelief             13609 non-null  float64\n",
      " 29  KV_0_30                  13609 non-null  float64\n",
      " 30  KV_30_100                13552 non-null  float64\n",
      "dtypes: float64(20), int64(10), object(1)\n",
      "memory usage: 3.3+ MB\n"
     ]
    }
   ],
   "source": [
    "# Some columns still have NaNs\n",
    "# For now, we are replacing the missing values with the column medians\n",
    "# Any better ideas? In particular the column GrundwaStand has quite a few missing entries...\n",
    "df.info()\n",
    "df = df.fillna(df.median(numeric_only=True))"
   ],
   "metadata": {
    "collapsed": false,
    "pycharm": {
     "name": "#%%\n"
    }
   }
  },
  {
   "cell_type": "code",
   "execution_count": 27,
   "outputs": [
    {
     "data": {
      "text/plain": "3101"
     },
     "execution_count": 27,
     "metadata": {},
     "output_type": "execute_result"
    }
   ],
   "source": [
    "len(df['Point'].unique()) # number of unique images"
   ],
   "metadata": {
    "collapsed": false,
    "pycharm": {
     "name": "#%%\n"
    }
   }
  },
  {
   "cell_type": "markdown",
   "source": [
    "### Training"
   ],
   "metadata": {
    "collapsed": false
   }
  },
  {
   "cell_type": "code",
   "execution_count": 28,
   "outputs": [],
   "source": [
    "# Split variables into different categories according to their roles in the sequential training\n",
    "soil_infos = ['Bodenart', 'Bodenfarbe', 'Steine', 'Karbonat', 'Humusgehaltsklasse', 'Durchwurzelung']#, 'max_depth', 'HorizontID']\n",
    "\n",
    "geotemp_img_infos = ['Point', # used only for accessing the morphological features in the dataframe (they have different shapes and cannot be stacked in tensor batches)\n",
    "                     'Probenahme_Monat', 'Probenahme_Jahr', 'xcoord', 'ycoord', 'Bodenklimaraum_Name', 'Landnutzung', 'BZE_Moor', 'Hauptbodentyp', 'BodenVarTypSub', 'GrundwaStufe', 'GrundwaStand',\n",
    "                     'Moormaechtigkeit', 'Torfmaechtigkeit', 'Neigung', 'Exposition', 'Woelbung', 'Reliefformtyp', 'LageImRelief', 'KV_0_30', 'KV_30_100',\n",
    "                     'file']\n",
    "\n",
    "depth_markers = ['Obergrenze', 'Untergrenze']\n",
    "\n",
    "# horizon symbols already in 'target' (see above)"
   ],
   "metadata": {
    "collapsed": false,
    "pycharm": {
     "name": "#%%\n"
    }
   }
  },
  {
   "cell_type": "code",
   "execution_count": 29,
   "outputs": [
    {
     "data": {
      "text/plain": "       Point  Probenahme_Monat  Probenahme_Jahr       xcoord       ycoord  \\\n0      541.0                 1                7  819021.7488  5941699.083   \n1      600.0                 1                6  819307.3864  5935183.595   \n2      601.0                 8                6  826424.5503  5932240.596   \n3      659.0                 4                6  807568.3913  5926533.227   \n4      660.0                 1                6  818608.7036  5925050.271   \n...      ...               ...              ...          ...          ...   \n3342  3489.0                 0                6  648389.8108  5588119.501   \n3343  3494.0                 0                4  688216.3809  5588885.660   \n3344  3496.0                 0                4  701551.6557  5587919.679   \n3345  3545.0                 3                4  653547.6374  5581353.991   \n3346  3596.0                 4                5  620404.8554  5569180.493   \n\n      Bodenklimaraum_Name  Landnutzung  BZE_Moor  Hauptbodentyp  \\\n0                       7            0         0             12   \n1                       7            0         0             11   \n2                       7            0         0             10   \n3                       7            0         0             12   \n4                       7            0         0              7   \n...                   ...          ...       ...            ...   \n3342                   10            1         0              0   \n3343                   10            0         0              0   \n3344                   10            0         0              0   \n3345                   10            0         0              0   \n3346                   10            0         0              5   \n\n      BodenVarTypSub  GrundwaStufe  GrundwaStand  Moormaechtigkeit  \\\n0                770           0.0         200.0               0.0   \n1                371           0.0         200.0               0.0   \n2                 22           0.0         200.0               0.0   \n3                 44           0.0         200.0               0.0   \n4                413           2.0         200.0               0.0   \n...              ...           ...           ...               ...   \n3342             616           0.0         200.0               0.0   \n3343               9           0.0         200.0               0.0   \n3344               0           0.0         200.0               0.0   \n3345               2           0.0         200.0               0.0   \n3346               3           0.0         200.0               0.0   \n\n      Torfmaechtigkeit  Neigung  Exposition  Woelbung  Reliefformtyp  \\\n0                  0.0      3.0         1.0       1.0            0.0   \n1                  0.0      2.0         2.0       0.0            0.0   \n2                  0.0      3.0         2.0       0.0            0.0   \n3                  0.0      4.0         5.0       2.0           14.0   \n4                  0.0      3.0         5.0       0.0            4.0   \n...                ...      ...         ...       ...            ...   \n3342               0.0      8.0         7.0       7.0            0.0   \n3343               0.0      1.0         4.0       6.0            0.0   \n3344               0.0      6.0         4.0       0.0            0.0   \n3345               0.0      5.0         2.0       0.0            3.0   \n3346               0.0      1.0         3.0       0.0            0.0   \n\n      LageImRelief  KV_0_30  KV_30_100  \\\n0              1.0    38.60      21.42   \n1              3.0    34.91      11.67   \n2              1.0    42.21      34.56   \n3              3.0    37.39      13.22   \n4              1.0    48.47      16.43   \n...            ...      ...        ...   \n3342           3.0    48.82       2.46   \n3343           1.0    69.19      23.61   \n3344           1.0    75.65       9.34   \n3345           5.0    61.72      30.69   \n3346           3.0    80.30      19.58   \n\n                                                   file  \\\n0     ../data/BGR/Profilbilder_no_ruler_no_sky/BB_05...   \n1     ../data/BGR/Profilbilder_no_ruler_no_sky/BB_06...   \n2     ../data/BGR/Profilbilder_no_ruler_no_sky/BB_06...   \n3     ../data/BGR/Profilbilder_no_ruler_no_sky/BB_06...   \n4     ../data/BGR/Profilbilder_no_ruler_no_sky/BB_06...   \n...                                                 ...   \n3342  ../data/BGR/Profilbilder_no_ruler_no_sky/TH_34...   \n3343  ../data/BGR/Profilbilder_no_ruler_no_sky/TH_34...   \n3344  ../data/BGR/Profilbilder_no_ruler_no_sky/TH_34...   \n3345  ../data/BGR/Profilbilder_no_ruler_no_sky/TH_35...   \n3346  ../data/BGR/Profilbilder_no_ruler_no_sky/TH_35...   \n\n                                Untergrenze  \\\n0                 [30.0, 38.0, 50.0, 200.0]   \n1     [29.0, 40.0, 54.0, 60.0, 80.0, 201.0]   \n2                 [28.0, 50.0, 74.0, 110.0]   \n3                 [30.0, 47.0, 73.0, 102.0]   \n4           [33.0, 43.0, 71.0, 88.0, 100.0]   \n...                                     ...   \n3342               [14.0, 40.0, 60.0, 93.0]   \n3343                    [34.0, 69.0, 140.0]   \n3344              [20.0, 27.0, 70.0, 100.0]   \n3345              [31.0, 49.0, 71.0, 144.0]   \n3346                     [27.0, 70.0, 92.0]   \n\n                                Bodenart                          Bodenfarbe  \\\n0                 [3.0, 3.0, 10.0, 12.0]               [1.0, 1.0, 10.0, 5.0]   \n1     [11.0, 11.0, 6.0, 10.0, 3.0, 21.0]  [4.0, 5.0, 29.0, 30.0, 42.0, 75.0]   \n2               [10.0, 11.0, 11.0, 11.0]                [0.0, 0.0, 3.0, 3.0]   \n3                   [2.0, 2.0, 3.0, 3.0]             [0.0, 10.0, 13.0, 16.0]   \n4           [28.0, 7.0, 2.0, 20.0, 10.0]       [0.0, 15.0, 54.0, 44.0, 14.0]   \n...                                  ...                                 ...   \n3342            [15.0, 15.0, 26.0, 26.0]              [6.0, 5.0, 53.0, 53.0]   \n3343                    [4.0, 4.0, 18.0]                    [0.0, 3.0, 10.0]   \n3344            [15.0, 15.0, 15.0, 26.0]               [2.0, 2.0, 3.0, 23.0]   \n3345            [15.0, 15.0, 15.0, 33.0]               [1.0, 7.0, 5.0, 16.0]   \n3346                    [1.0, 12.0, 1.0]                   [6.0, 23.0, 31.0]   \n\n                              Steine            Karbonat  \\\n0               [2.0, 2.0, 4.0, 4.0]        [0, 0, 0, 0]   \n1     [3.0, 3.0, 3.0, 3.0, 3.0, 3.0]  [2, 0, 2, 5, 7, 5]   \n2               [4.0, 4.0, 4.0, 4.0]        [0, 0, 7, 7]   \n3               [4.0, 4.0, 2.0, 2.0]        [0, 0, 0, 0]   \n4          [1.0, 0.0, 0.0, 0.0, 0.0]     [0, 0, 0, 0, 0]   \n...                              ...                 ...   \n3342        [60.0, 75.0, 90.0, 90.0]        [0, 0, 0, 0]   \n3343              [20.0, 30.0, 25.0]           [0, 0, 0]   \n3344        [15.0, 25.0, 60.0, 90.0]        [0, 0, 0, 0]   \n3345          [5.0, 5.0, 20.0, 25.0]        [0, 0, 0, 0]   \n3346               [3.0, 10.0, 30.0]           [3, 4, 4]   \n\n                  Humusgehaltsklasse      Durchwurzelung  \\\n0               [3.0, 3.0, 0.0, 0.0]        [3, 3, 1, 2]   \n1     [1.0, 2.0, 2.0, 2.0, 2.0, 0.0]  [4, 3, 1, 1, 1, 0]   \n2               [1.0, 3.0, 2.0, 0.0]        [4, 3, 3, 1]   \n3               [1.0, 2.0, 0.0, 0.0]        [3, 1, 1, 2]   \n4          [1.0, 2.0, 2.0, 0.0, 0.0]     [3, 0, 0, 0, 0]   \n...                              ...                 ...   \n3342            [1.0, 2.0, 0.0, 0.0]        [5, 3, 1, 2]   \n3343                 [1.0, 2.0, 0.0]           [5, 3, 1]   \n3344            [1.0, 1.0, 2.0, 0.0]        [4, 1, 0, 0]   \n3345            [1.0, 2.0, 0.0, 0.0]        [3, 2, 2, 2]   \n3346                 [1.0, 2.0, 0.0]           [0, 4, 4]   \n\n       Horizontsymbol_relevant  \n0             [22, 22, 73, 76]  \n1     [22, 65, 65, 81, 81, 81]  \n2             [40, 13, 34, 34]  \n3              [22, 1, 69, 78]  \n4           [22, 0, 65, 0, 68]  \n...                        ...  \n3342          [22, 14, 62, 77]  \n3343              [22, 32, 77]  \n3344           [22, 22, 32, 0]  \n3345           [22, 32, 47, 2]  \n3346              [22, 34, 34]  \n\n[3347 rows x 30 columns]",
      "text/html": "<div>\n<style scoped>\n    .dataframe tbody tr th:only-of-type {\n        vertical-align: middle;\n    }\n\n    .dataframe tbody tr th {\n        vertical-align: top;\n    }\n\n    .dataframe thead th {\n        text-align: right;\n    }\n</style>\n<table border=\"1\" class=\"dataframe\">\n  <thead>\n    <tr style=\"text-align: right;\">\n      <th></th>\n      <th>Point</th>\n      <th>Probenahme_Monat</th>\n      <th>Probenahme_Jahr</th>\n      <th>xcoord</th>\n      <th>ycoord</th>\n      <th>Bodenklimaraum_Name</th>\n      <th>Landnutzung</th>\n      <th>BZE_Moor</th>\n      <th>Hauptbodentyp</th>\n      <th>BodenVarTypSub</th>\n      <th>GrundwaStufe</th>\n      <th>GrundwaStand</th>\n      <th>Moormaechtigkeit</th>\n      <th>Torfmaechtigkeit</th>\n      <th>Neigung</th>\n      <th>Exposition</th>\n      <th>Woelbung</th>\n      <th>Reliefformtyp</th>\n      <th>LageImRelief</th>\n      <th>KV_0_30</th>\n      <th>KV_30_100</th>\n      <th>file</th>\n      <th>Untergrenze</th>\n      <th>Bodenart</th>\n      <th>Bodenfarbe</th>\n      <th>Steine</th>\n      <th>Karbonat</th>\n      <th>Humusgehaltsklasse</th>\n      <th>Durchwurzelung</th>\n      <th>Horizontsymbol_relevant</th>\n    </tr>\n  </thead>\n  <tbody>\n    <tr>\n      <th>0</th>\n      <td>541.0</td>\n      <td>1</td>\n      <td>7</td>\n      <td>819021.7488</td>\n      <td>5941699.083</td>\n      <td>7</td>\n      <td>0</td>\n      <td>0</td>\n      <td>12</td>\n      <td>770</td>\n      <td>0.0</td>\n      <td>200.0</td>\n      <td>0.0</td>\n      <td>0.0</td>\n      <td>3.0</td>\n      <td>1.0</td>\n      <td>1.0</td>\n      <td>0.0</td>\n      <td>1.0</td>\n      <td>38.60</td>\n      <td>21.42</td>\n      <td>../data/BGR/Profilbilder_no_ruler_no_sky/BB_05...</td>\n      <td>[30.0, 38.0, 50.0, 200.0]</td>\n      <td>[3.0, 3.0, 10.0, 12.0]</td>\n      <td>[1.0, 1.0, 10.0, 5.0]</td>\n      <td>[2.0, 2.0, 4.0, 4.0]</td>\n      <td>[0, 0, 0, 0]</td>\n      <td>[3.0, 3.0, 0.0, 0.0]</td>\n      <td>[3, 3, 1, 2]</td>\n      <td>[22, 22, 73, 76]</td>\n    </tr>\n    <tr>\n      <th>1</th>\n      <td>600.0</td>\n      <td>1</td>\n      <td>6</td>\n      <td>819307.3864</td>\n      <td>5935183.595</td>\n      <td>7</td>\n      <td>0</td>\n      <td>0</td>\n      <td>11</td>\n      <td>371</td>\n      <td>0.0</td>\n      <td>200.0</td>\n      <td>0.0</td>\n      <td>0.0</td>\n      <td>2.0</td>\n      <td>2.0</td>\n      <td>0.0</td>\n      <td>0.0</td>\n      <td>3.0</td>\n      <td>34.91</td>\n      <td>11.67</td>\n      <td>../data/BGR/Profilbilder_no_ruler_no_sky/BB_06...</td>\n      <td>[29.0, 40.0, 54.0, 60.0, 80.0, 201.0]</td>\n      <td>[11.0, 11.0, 6.0, 10.0, 3.0, 21.0]</td>\n      <td>[4.0, 5.0, 29.0, 30.0, 42.0, 75.0]</td>\n      <td>[3.0, 3.0, 3.0, 3.0, 3.0, 3.0]</td>\n      <td>[2, 0, 2, 5, 7, 5]</td>\n      <td>[1.0, 2.0, 2.0, 2.0, 2.0, 0.0]</td>\n      <td>[4, 3, 1, 1, 1, 0]</td>\n      <td>[22, 65, 65, 81, 81, 81]</td>\n    </tr>\n    <tr>\n      <th>2</th>\n      <td>601.0</td>\n      <td>8</td>\n      <td>6</td>\n      <td>826424.5503</td>\n      <td>5932240.596</td>\n      <td>7</td>\n      <td>0</td>\n      <td>0</td>\n      <td>10</td>\n      <td>22</td>\n      <td>0.0</td>\n      <td>200.0</td>\n      <td>0.0</td>\n      <td>0.0</td>\n      <td>3.0</td>\n      <td>2.0</td>\n      <td>0.0</td>\n      <td>0.0</td>\n      <td>1.0</td>\n      <td>42.21</td>\n      <td>34.56</td>\n      <td>../data/BGR/Profilbilder_no_ruler_no_sky/BB_06...</td>\n      <td>[28.0, 50.0, 74.0, 110.0]</td>\n      <td>[10.0, 11.0, 11.0, 11.0]</td>\n      <td>[0.0, 0.0, 3.0, 3.0]</td>\n      <td>[4.0, 4.0, 4.0, 4.0]</td>\n      <td>[0, 0, 7, 7]</td>\n      <td>[1.0, 3.0, 2.0, 0.0]</td>\n      <td>[4, 3, 3, 1]</td>\n      <td>[40, 13, 34, 34]</td>\n    </tr>\n    <tr>\n      <th>3</th>\n      <td>659.0</td>\n      <td>4</td>\n      <td>6</td>\n      <td>807568.3913</td>\n      <td>5926533.227</td>\n      <td>7</td>\n      <td>0</td>\n      <td>0</td>\n      <td>12</td>\n      <td>44</td>\n      <td>0.0</td>\n      <td>200.0</td>\n      <td>0.0</td>\n      <td>0.0</td>\n      <td>4.0</td>\n      <td>5.0</td>\n      <td>2.0</td>\n      <td>14.0</td>\n      <td>3.0</td>\n      <td>37.39</td>\n      <td>13.22</td>\n      <td>../data/BGR/Profilbilder_no_ruler_no_sky/BB_06...</td>\n      <td>[30.0, 47.0, 73.0, 102.0]</td>\n      <td>[2.0, 2.0, 3.0, 3.0]</td>\n      <td>[0.0, 10.0, 13.0, 16.0]</td>\n      <td>[4.0, 4.0, 2.0, 2.0]</td>\n      <td>[0, 0, 0, 0]</td>\n      <td>[1.0, 2.0, 0.0, 0.0]</td>\n      <td>[3, 1, 1, 2]</td>\n      <td>[22, 1, 69, 78]</td>\n    </tr>\n    <tr>\n      <th>4</th>\n      <td>660.0</td>\n      <td>1</td>\n      <td>6</td>\n      <td>818608.7036</td>\n      <td>5925050.271</td>\n      <td>7</td>\n      <td>0</td>\n      <td>0</td>\n      <td>7</td>\n      <td>413</td>\n      <td>2.0</td>\n      <td>200.0</td>\n      <td>0.0</td>\n      <td>0.0</td>\n      <td>3.0</td>\n      <td>5.0</td>\n      <td>0.0</td>\n      <td>4.0</td>\n      <td>1.0</td>\n      <td>48.47</td>\n      <td>16.43</td>\n      <td>../data/BGR/Profilbilder_no_ruler_no_sky/BB_06...</td>\n      <td>[33.0, 43.0, 71.0, 88.0, 100.0]</td>\n      <td>[28.0, 7.0, 2.0, 20.0, 10.0]</td>\n      <td>[0.0, 15.0, 54.0, 44.0, 14.0]</td>\n      <td>[1.0, 0.0, 0.0, 0.0, 0.0]</td>\n      <td>[0, 0, 0, 0, 0]</td>\n      <td>[1.0, 2.0, 2.0, 0.0, 0.0]</td>\n      <td>[3, 0, 0, 0, 0]</td>\n      <td>[22, 0, 65, 0, 68]</td>\n    </tr>\n    <tr>\n      <th>...</th>\n      <td>...</td>\n      <td>...</td>\n      <td>...</td>\n      <td>...</td>\n      <td>...</td>\n      <td>...</td>\n      <td>...</td>\n      <td>...</td>\n      <td>...</td>\n      <td>...</td>\n      <td>...</td>\n      <td>...</td>\n      <td>...</td>\n      <td>...</td>\n      <td>...</td>\n      <td>...</td>\n      <td>...</td>\n      <td>...</td>\n      <td>...</td>\n      <td>...</td>\n      <td>...</td>\n      <td>...</td>\n      <td>...</td>\n      <td>...</td>\n      <td>...</td>\n      <td>...</td>\n      <td>...</td>\n      <td>...</td>\n      <td>...</td>\n      <td>...</td>\n    </tr>\n    <tr>\n      <th>3342</th>\n      <td>3489.0</td>\n      <td>0</td>\n      <td>6</td>\n      <td>648389.8108</td>\n      <td>5588119.501</td>\n      <td>10</td>\n      <td>1</td>\n      <td>0</td>\n      <td>0</td>\n      <td>616</td>\n      <td>0.0</td>\n      <td>200.0</td>\n      <td>0.0</td>\n      <td>0.0</td>\n      <td>8.0</td>\n      <td>7.0</td>\n      <td>7.0</td>\n      <td>0.0</td>\n      <td>3.0</td>\n      <td>48.82</td>\n      <td>2.46</td>\n      <td>../data/BGR/Profilbilder_no_ruler_no_sky/TH_34...</td>\n      <td>[14.0, 40.0, 60.0, 93.0]</td>\n      <td>[15.0, 15.0, 26.0, 26.0]</td>\n      <td>[6.0, 5.0, 53.0, 53.0]</td>\n      <td>[60.0, 75.0, 90.0, 90.0]</td>\n      <td>[0, 0, 0, 0]</td>\n      <td>[1.0, 2.0, 0.0, 0.0]</td>\n      <td>[5, 3, 1, 2]</td>\n      <td>[22, 14, 62, 77]</td>\n    </tr>\n    <tr>\n      <th>3343</th>\n      <td>3494.0</td>\n      <td>0</td>\n      <td>4</td>\n      <td>688216.3809</td>\n      <td>5588885.660</td>\n      <td>10</td>\n      <td>0</td>\n      <td>0</td>\n      <td>0</td>\n      <td>9</td>\n      <td>0.0</td>\n      <td>200.0</td>\n      <td>0.0</td>\n      <td>0.0</td>\n      <td>1.0</td>\n      <td>4.0</td>\n      <td>6.0</td>\n      <td>0.0</td>\n      <td>1.0</td>\n      <td>69.19</td>\n      <td>23.61</td>\n      <td>../data/BGR/Profilbilder_no_ruler_no_sky/TH_34...</td>\n      <td>[34.0, 69.0, 140.0]</td>\n      <td>[4.0, 4.0, 18.0]</td>\n      <td>[0.0, 3.0, 10.0]</td>\n      <td>[20.0, 30.0, 25.0]</td>\n      <td>[0, 0, 0]</td>\n      <td>[1.0, 2.0, 0.0]</td>\n      <td>[5, 3, 1]</td>\n      <td>[22, 32, 77]</td>\n    </tr>\n    <tr>\n      <th>3344</th>\n      <td>3496.0</td>\n      <td>0</td>\n      <td>4</td>\n      <td>701551.6557</td>\n      <td>5587919.679</td>\n      <td>10</td>\n      <td>0</td>\n      <td>0</td>\n      <td>0</td>\n      <td>0</td>\n      <td>0.0</td>\n      <td>200.0</td>\n      <td>0.0</td>\n      <td>0.0</td>\n      <td>6.0</td>\n      <td>4.0</td>\n      <td>0.0</td>\n      <td>0.0</td>\n      <td>1.0</td>\n      <td>75.65</td>\n      <td>9.34</td>\n      <td>../data/BGR/Profilbilder_no_ruler_no_sky/TH_34...</td>\n      <td>[20.0, 27.0, 70.0, 100.0]</td>\n      <td>[15.0, 15.0, 15.0, 26.0]</td>\n      <td>[2.0, 2.0, 3.0, 23.0]</td>\n      <td>[15.0, 25.0, 60.0, 90.0]</td>\n      <td>[0, 0, 0, 0]</td>\n      <td>[1.0, 1.0, 2.0, 0.0]</td>\n      <td>[4, 1, 0, 0]</td>\n      <td>[22, 22, 32, 0]</td>\n    </tr>\n    <tr>\n      <th>3345</th>\n      <td>3545.0</td>\n      <td>3</td>\n      <td>4</td>\n      <td>653547.6374</td>\n      <td>5581353.991</td>\n      <td>10</td>\n      <td>0</td>\n      <td>0</td>\n      <td>0</td>\n      <td>2</td>\n      <td>0.0</td>\n      <td>200.0</td>\n      <td>0.0</td>\n      <td>0.0</td>\n      <td>5.0</td>\n      <td>2.0</td>\n      <td>0.0</td>\n      <td>3.0</td>\n      <td>5.0</td>\n      <td>61.72</td>\n      <td>30.69</td>\n      <td>../data/BGR/Profilbilder_no_ruler_no_sky/TH_35...</td>\n      <td>[31.0, 49.0, 71.0, 144.0]</td>\n      <td>[15.0, 15.0, 15.0, 33.0]</td>\n      <td>[1.0, 7.0, 5.0, 16.0]</td>\n      <td>[5.0, 5.0, 20.0, 25.0]</td>\n      <td>[0, 0, 0, 0]</td>\n      <td>[1.0, 2.0, 0.0, 0.0]</td>\n      <td>[3, 2, 2, 2]</td>\n      <td>[22, 32, 47, 2]</td>\n    </tr>\n    <tr>\n      <th>3346</th>\n      <td>3596.0</td>\n      <td>4</td>\n      <td>5</td>\n      <td>620404.8554</td>\n      <td>5569180.493</td>\n      <td>10</td>\n      <td>0</td>\n      <td>0</td>\n      <td>5</td>\n      <td>3</td>\n      <td>0.0</td>\n      <td>200.0</td>\n      <td>0.0</td>\n      <td>0.0</td>\n      <td>1.0</td>\n      <td>3.0</td>\n      <td>0.0</td>\n      <td>0.0</td>\n      <td>3.0</td>\n      <td>80.30</td>\n      <td>19.58</td>\n      <td>../data/BGR/Profilbilder_no_ruler_no_sky/TH_35...</td>\n      <td>[27.0, 70.0, 92.0]</td>\n      <td>[1.0, 12.0, 1.0]</td>\n      <td>[6.0, 23.0, 31.0]</td>\n      <td>[3.0, 10.0, 30.0]</td>\n      <td>[3, 4, 4]</td>\n      <td>[1.0, 2.0, 0.0]</td>\n      <td>[0, 4, 4]</td>\n      <td>[22, 34, 34]</td>\n    </tr>\n  </tbody>\n</table>\n<p>3347 rows × 30 columns</p>\n</div>"
     },
     "execution_count": 29,
     "metadata": {},
     "output_type": "execute_result"
    }
   ],
   "source": [
    "# The dataframe has one row per horizon\n",
    "# For sequential training, make it one row per full image (the depth markers and the morphological features will be stored as lists and used later as ground truth in training)\n",
    "df = df.groupby('file', as_index=False).agg({     # Group by images, not by Point, since there are sometimes several images (different angles) for the same Point\n",
    "    **{gt: 'first' for gt in geotemp_img_infos},  # Take the first value (all are the same for each image, including the image path)\n",
    "    'Untergrenze': list,                          # Combine depth markers into a list (only lower bound Untergrenze actually needed)\n",
    "    **{st: list for st in soil_infos},            # Combine tabular features into lists (in the order of the horizons top to bottom)\n",
    "    target: list\n",
    "}).reset_index()\n",
    "df.drop(columns=['index'], inplace=True)\n",
    "df"
   ],
   "metadata": {
    "collapsed": false,
    "pycharm": {
     "name": "#%%\n"
    }
   }
  },
  {
   "cell_type": "code",
   "execution_count": 30,
   "outputs": [
    {
     "data": {
      "text/plain": "       Point  Probenahme_Monat  Probenahme_Jahr       xcoord       ycoord  \\\n0      541.0                 1                7  819021.7488  5941699.083   \n1      600.0                 1                6  819307.3864  5935183.595   \n2      601.0                 8                6  826424.5503  5932240.596   \n3      659.0                 4                6  807568.3913  5926533.227   \n4      660.0                 1                6  818608.7036  5925050.271   \n...      ...               ...              ...          ...          ...   \n3342  3489.0                 0                6  648389.8108  5588119.501   \n3343  3494.0                 0                4  688216.3809  5588885.660   \n3344  3496.0                 0                4  701551.6557  5587919.679   \n3345  3545.0                 3                4  653547.6374  5581353.991   \n3346  3596.0                 4                5  620404.8554  5569180.493   \n\n      Bodenklimaraum_Name  Landnutzung  BZE_Moor  Hauptbodentyp  \\\n0                       7            0         0             12   \n1                       7            0         0             11   \n2                       7            0         0             10   \n3                       7            0         0             12   \n4                       7            0         0              7   \n...                   ...          ...       ...            ...   \n3342                   10            1         0              0   \n3343                   10            0         0              0   \n3344                   10            0         0              0   \n3345                   10            0         0              0   \n3346                   10            0         0              5   \n\n      BodenVarTypSub  GrundwaStufe  GrundwaStand  Moormaechtigkeit  \\\n0                770           0.0         200.0               0.0   \n1                371           0.0         200.0               0.0   \n2                 22           0.0         200.0               0.0   \n3                 44           0.0         200.0               0.0   \n4                413           2.0         200.0               0.0   \n...              ...           ...           ...               ...   \n3342             616           0.0         200.0               0.0   \n3343               9           0.0         200.0               0.0   \n3344               0           0.0         200.0               0.0   \n3345               2           0.0         200.0               0.0   \n3346               3           0.0         200.0               0.0   \n\n      Torfmaechtigkeit  Neigung  Exposition  Woelbung  Reliefformtyp  \\\n0                  0.0      3.0         1.0       1.0            0.0   \n1                  0.0      2.0         2.0       0.0            0.0   \n2                  0.0      3.0         2.0       0.0            0.0   \n3                  0.0      4.0         5.0       2.0           14.0   \n4                  0.0      3.0         5.0       0.0            4.0   \n...                ...      ...         ...       ...            ...   \n3342               0.0      8.0         7.0       7.0            0.0   \n3343               0.0      1.0         4.0       6.0            0.0   \n3344               0.0      6.0         4.0       0.0            0.0   \n3345               0.0      5.0         2.0       0.0            3.0   \n3346               0.0      1.0         3.0       0.0            0.0   \n\n      LageImRelief  KV_0_30  KV_30_100  \\\n0              1.0    38.60      21.42   \n1              3.0    34.91      11.67   \n2              1.0    42.21      34.56   \n3              3.0    37.39      13.22   \n4              1.0    48.47      16.43   \n...            ...      ...        ...   \n3342           3.0    48.82       2.46   \n3343           1.0    69.19      23.61   \n3344           1.0    75.65       9.34   \n3345           5.0    61.72      30.69   \n3346           3.0    80.30      19.58   \n\n                                                   file  \\\n0     ../data/BGR/Profilbilder_no_ruler_no_sky/BB_05...   \n1     ../data/BGR/Profilbilder_no_ruler_no_sky/BB_06...   \n2     ../data/BGR/Profilbilder_no_ruler_no_sky/BB_06...   \n3     ../data/BGR/Profilbilder_no_ruler_no_sky/BB_06...   \n4     ../data/BGR/Profilbilder_no_ruler_no_sky/BB_06...   \n...                                                 ...   \n3342  ../data/BGR/Profilbilder_no_ruler_no_sky/TH_34...   \n3343  ../data/BGR/Profilbilder_no_ruler_no_sky/TH_34...   \n3344  ../data/BGR/Profilbilder_no_ruler_no_sky/TH_34...   \n3345  ../data/BGR/Profilbilder_no_ruler_no_sky/TH_35...   \n3346  ../data/BGR/Profilbilder_no_ruler_no_sky/TH_35...   \n\n                                Untergrenze  \\\n0                 [30.0, 38.0, 50.0, 100.0]   \n1     [29.0, 40.0, 54.0, 60.0, 80.0, 100.0]   \n2                 [28.0, 50.0, 74.0, 100.0]   \n3                 [30.0, 47.0, 73.0, 100.0]   \n4           [33.0, 43.0, 71.0, 88.0, 100.0]   \n...                                     ...   \n3342              [14.0, 40.0, 60.0, 100.0]   \n3343                    [34.0, 69.0, 100.0]   \n3344              [20.0, 27.0, 70.0, 100.0]   \n3345              [31.0, 49.0, 71.0, 100.0]   \n3346                    [27.0, 70.0, 100.0]   \n\n                                Bodenart                          Bodenfarbe  \\\n0                 [3.0, 3.0, 10.0, 12.0]               [1.0, 1.0, 10.0, 5.0]   \n1     [11.0, 11.0, 6.0, 10.0, 3.0, 21.0]  [4.0, 5.0, 29.0, 30.0, 42.0, 75.0]   \n2               [10.0, 11.0, 11.0, 11.0]                [0.0, 0.0, 3.0, 3.0]   \n3                   [2.0, 2.0, 3.0, 3.0]             [0.0, 10.0, 13.0, 16.0]   \n4           [28.0, 7.0, 2.0, 20.0, 10.0]       [0.0, 15.0, 54.0, 44.0, 14.0]   \n...                                  ...                                 ...   \n3342            [15.0, 15.0, 26.0, 26.0]              [6.0, 5.0, 53.0, 53.0]   \n3343                    [4.0, 4.0, 18.0]                    [0.0, 3.0, 10.0]   \n3344            [15.0, 15.0, 15.0, 26.0]               [2.0, 2.0, 3.0, 23.0]   \n3345            [15.0, 15.0, 15.0, 33.0]               [1.0, 7.0, 5.0, 16.0]   \n3346                    [1.0, 12.0, 1.0]                   [6.0, 23.0, 31.0]   \n\n                              Steine            Karbonat  \\\n0               [2.0, 2.0, 4.0, 4.0]        [0, 0, 0, 0]   \n1     [3.0, 3.0, 3.0, 3.0, 3.0, 3.0]  [2, 0, 2, 5, 7, 5]   \n2               [4.0, 4.0, 4.0, 4.0]        [0, 0, 7, 7]   \n3               [4.0, 4.0, 2.0, 2.0]        [0, 0, 0, 0]   \n4          [1.0, 0.0, 0.0, 0.0, 0.0]     [0, 0, 0, 0, 0]   \n...                              ...                 ...   \n3342        [60.0, 75.0, 90.0, 90.0]        [0, 0, 0, 0]   \n3343              [20.0, 30.0, 25.0]           [0, 0, 0]   \n3344        [15.0, 25.0, 60.0, 90.0]        [0, 0, 0, 0]   \n3345          [5.0, 5.0, 20.0, 25.0]        [0, 0, 0, 0]   \n3346               [3.0, 10.0, 30.0]           [3, 4, 4]   \n\n                  Humusgehaltsklasse      Durchwurzelung  \\\n0               [3.0, 3.0, 0.0, 0.0]        [3, 3, 1, 2]   \n1     [1.0, 2.0, 2.0, 2.0, 2.0, 0.0]  [4, 3, 1, 1, 1, 0]   \n2               [1.0, 3.0, 2.0, 0.0]        [4, 3, 3, 1]   \n3               [1.0, 2.0, 0.0, 0.0]        [3, 1, 1, 2]   \n4          [1.0, 2.0, 2.0, 0.0, 0.0]     [3, 0, 0, 0, 0]   \n...                              ...                 ...   \n3342            [1.0, 2.0, 0.0, 0.0]        [5, 3, 1, 2]   \n3343                 [1.0, 2.0, 0.0]           [5, 3, 1]   \n3344            [1.0, 1.0, 2.0, 0.0]        [4, 1, 0, 0]   \n3345            [1.0, 2.0, 0.0, 0.0]        [3, 2, 2, 2]   \n3346                 [1.0, 2.0, 0.0]           [0, 4, 4]   \n\n       Horizontsymbol_relevant  \n0             [22, 22, 73, 76]  \n1     [22, 65, 65, 81, 81, 81]  \n2             [40, 13, 34, 34]  \n3              [22, 1, 69, 78]  \n4           [22, 0, 65, 0, 68]  \n...                        ...  \n3342          [22, 14, 62, 77]  \n3343              [22, 32, 77]  \n3344           [22, 22, 32, 0]  \n3345           [22, 32, 47, 2]  \n3346              [22, 34, 34]  \n\n[3347 rows x 30 columns]",
      "text/html": "<div>\n<style scoped>\n    .dataframe tbody tr th:only-of-type {\n        vertical-align: middle;\n    }\n\n    .dataframe tbody tr th {\n        vertical-align: top;\n    }\n\n    .dataframe thead th {\n        text-align: right;\n    }\n</style>\n<table border=\"1\" class=\"dataframe\">\n  <thead>\n    <tr style=\"text-align: right;\">\n      <th></th>\n      <th>Point</th>\n      <th>Probenahme_Monat</th>\n      <th>Probenahme_Jahr</th>\n      <th>xcoord</th>\n      <th>ycoord</th>\n      <th>Bodenklimaraum_Name</th>\n      <th>Landnutzung</th>\n      <th>BZE_Moor</th>\n      <th>Hauptbodentyp</th>\n      <th>BodenVarTypSub</th>\n      <th>GrundwaStufe</th>\n      <th>GrundwaStand</th>\n      <th>Moormaechtigkeit</th>\n      <th>Torfmaechtigkeit</th>\n      <th>Neigung</th>\n      <th>Exposition</th>\n      <th>Woelbung</th>\n      <th>Reliefformtyp</th>\n      <th>LageImRelief</th>\n      <th>KV_0_30</th>\n      <th>KV_30_100</th>\n      <th>file</th>\n      <th>Untergrenze</th>\n      <th>Bodenart</th>\n      <th>Bodenfarbe</th>\n      <th>Steine</th>\n      <th>Karbonat</th>\n      <th>Humusgehaltsklasse</th>\n      <th>Durchwurzelung</th>\n      <th>Horizontsymbol_relevant</th>\n    </tr>\n  </thead>\n  <tbody>\n    <tr>\n      <th>0</th>\n      <td>541.0</td>\n      <td>1</td>\n      <td>7</td>\n      <td>819021.7488</td>\n      <td>5941699.083</td>\n      <td>7</td>\n      <td>0</td>\n      <td>0</td>\n      <td>12</td>\n      <td>770</td>\n      <td>0.0</td>\n      <td>200.0</td>\n      <td>0.0</td>\n      <td>0.0</td>\n      <td>3.0</td>\n      <td>1.0</td>\n      <td>1.0</td>\n      <td>0.0</td>\n      <td>1.0</td>\n      <td>38.60</td>\n      <td>21.42</td>\n      <td>../data/BGR/Profilbilder_no_ruler_no_sky/BB_05...</td>\n      <td>[30.0, 38.0, 50.0, 100.0]</td>\n      <td>[3.0, 3.0, 10.0, 12.0]</td>\n      <td>[1.0, 1.0, 10.0, 5.0]</td>\n      <td>[2.0, 2.0, 4.0, 4.0]</td>\n      <td>[0, 0, 0, 0]</td>\n      <td>[3.0, 3.0, 0.0, 0.0]</td>\n      <td>[3, 3, 1, 2]</td>\n      <td>[22, 22, 73, 76]</td>\n    </tr>\n    <tr>\n      <th>1</th>\n      <td>600.0</td>\n      <td>1</td>\n      <td>6</td>\n      <td>819307.3864</td>\n      <td>5935183.595</td>\n      <td>7</td>\n      <td>0</td>\n      <td>0</td>\n      <td>11</td>\n      <td>371</td>\n      <td>0.0</td>\n      <td>200.0</td>\n      <td>0.0</td>\n      <td>0.0</td>\n      <td>2.0</td>\n      <td>2.0</td>\n      <td>0.0</td>\n      <td>0.0</td>\n      <td>3.0</td>\n      <td>34.91</td>\n      <td>11.67</td>\n      <td>../data/BGR/Profilbilder_no_ruler_no_sky/BB_06...</td>\n      <td>[29.0, 40.0, 54.0, 60.0, 80.0, 100.0]</td>\n      <td>[11.0, 11.0, 6.0, 10.0, 3.0, 21.0]</td>\n      <td>[4.0, 5.0, 29.0, 30.0, 42.0, 75.0]</td>\n      <td>[3.0, 3.0, 3.0, 3.0, 3.0, 3.0]</td>\n      <td>[2, 0, 2, 5, 7, 5]</td>\n      <td>[1.0, 2.0, 2.0, 2.0, 2.0, 0.0]</td>\n      <td>[4, 3, 1, 1, 1, 0]</td>\n      <td>[22, 65, 65, 81, 81, 81]</td>\n    </tr>\n    <tr>\n      <th>2</th>\n      <td>601.0</td>\n      <td>8</td>\n      <td>6</td>\n      <td>826424.5503</td>\n      <td>5932240.596</td>\n      <td>7</td>\n      <td>0</td>\n      <td>0</td>\n      <td>10</td>\n      <td>22</td>\n      <td>0.0</td>\n      <td>200.0</td>\n      <td>0.0</td>\n      <td>0.0</td>\n      <td>3.0</td>\n      <td>2.0</td>\n      <td>0.0</td>\n      <td>0.0</td>\n      <td>1.0</td>\n      <td>42.21</td>\n      <td>34.56</td>\n      <td>../data/BGR/Profilbilder_no_ruler_no_sky/BB_06...</td>\n      <td>[28.0, 50.0, 74.0, 100.0]</td>\n      <td>[10.0, 11.0, 11.0, 11.0]</td>\n      <td>[0.0, 0.0, 3.0, 3.0]</td>\n      <td>[4.0, 4.0, 4.0, 4.0]</td>\n      <td>[0, 0, 7, 7]</td>\n      <td>[1.0, 3.0, 2.0, 0.0]</td>\n      <td>[4, 3, 3, 1]</td>\n      <td>[40, 13, 34, 34]</td>\n    </tr>\n    <tr>\n      <th>3</th>\n      <td>659.0</td>\n      <td>4</td>\n      <td>6</td>\n      <td>807568.3913</td>\n      <td>5926533.227</td>\n      <td>7</td>\n      <td>0</td>\n      <td>0</td>\n      <td>12</td>\n      <td>44</td>\n      <td>0.0</td>\n      <td>200.0</td>\n      <td>0.0</td>\n      <td>0.0</td>\n      <td>4.0</td>\n      <td>5.0</td>\n      <td>2.0</td>\n      <td>14.0</td>\n      <td>3.0</td>\n      <td>37.39</td>\n      <td>13.22</td>\n      <td>../data/BGR/Profilbilder_no_ruler_no_sky/BB_06...</td>\n      <td>[30.0, 47.0, 73.0, 100.0]</td>\n      <td>[2.0, 2.0, 3.0, 3.0]</td>\n      <td>[0.0, 10.0, 13.0, 16.0]</td>\n      <td>[4.0, 4.0, 2.0, 2.0]</td>\n      <td>[0, 0, 0, 0]</td>\n      <td>[1.0, 2.0, 0.0, 0.0]</td>\n      <td>[3, 1, 1, 2]</td>\n      <td>[22, 1, 69, 78]</td>\n    </tr>\n    <tr>\n      <th>4</th>\n      <td>660.0</td>\n      <td>1</td>\n      <td>6</td>\n      <td>818608.7036</td>\n      <td>5925050.271</td>\n      <td>7</td>\n      <td>0</td>\n      <td>0</td>\n      <td>7</td>\n      <td>413</td>\n      <td>2.0</td>\n      <td>200.0</td>\n      <td>0.0</td>\n      <td>0.0</td>\n      <td>3.0</td>\n      <td>5.0</td>\n      <td>0.0</td>\n      <td>4.0</td>\n      <td>1.0</td>\n      <td>48.47</td>\n      <td>16.43</td>\n      <td>../data/BGR/Profilbilder_no_ruler_no_sky/BB_06...</td>\n      <td>[33.0, 43.0, 71.0, 88.0, 100.0]</td>\n      <td>[28.0, 7.0, 2.0, 20.0, 10.0]</td>\n      <td>[0.0, 15.0, 54.0, 44.0, 14.0]</td>\n      <td>[1.0, 0.0, 0.0, 0.0, 0.0]</td>\n      <td>[0, 0, 0, 0, 0]</td>\n      <td>[1.0, 2.0, 2.0, 0.0, 0.0]</td>\n      <td>[3, 0, 0, 0, 0]</td>\n      <td>[22, 0, 65, 0, 68]</td>\n    </tr>\n    <tr>\n      <th>...</th>\n      <td>...</td>\n      <td>...</td>\n      <td>...</td>\n      <td>...</td>\n      <td>...</td>\n      <td>...</td>\n      <td>...</td>\n      <td>...</td>\n      <td>...</td>\n      <td>...</td>\n      <td>...</td>\n      <td>...</td>\n      <td>...</td>\n      <td>...</td>\n      <td>...</td>\n      <td>...</td>\n      <td>...</td>\n      <td>...</td>\n      <td>...</td>\n      <td>...</td>\n      <td>...</td>\n      <td>...</td>\n      <td>...</td>\n      <td>...</td>\n      <td>...</td>\n      <td>...</td>\n      <td>...</td>\n      <td>...</td>\n      <td>...</td>\n      <td>...</td>\n    </tr>\n    <tr>\n      <th>3342</th>\n      <td>3489.0</td>\n      <td>0</td>\n      <td>6</td>\n      <td>648389.8108</td>\n      <td>5588119.501</td>\n      <td>10</td>\n      <td>1</td>\n      <td>0</td>\n      <td>0</td>\n      <td>616</td>\n      <td>0.0</td>\n      <td>200.0</td>\n      <td>0.0</td>\n      <td>0.0</td>\n      <td>8.0</td>\n      <td>7.0</td>\n      <td>7.0</td>\n      <td>0.0</td>\n      <td>3.0</td>\n      <td>48.82</td>\n      <td>2.46</td>\n      <td>../data/BGR/Profilbilder_no_ruler_no_sky/TH_34...</td>\n      <td>[14.0, 40.0, 60.0, 100.0]</td>\n      <td>[15.0, 15.0, 26.0, 26.0]</td>\n      <td>[6.0, 5.0, 53.0, 53.0]</td>\n      <td>[60.0, 75.0, 90.0, 90.0]</td>\n      <td>[0, 0, 0, 0]</td>\n      <td>[1.0, 2.0, 0.0, 0.0]</td>\n      <td>[5, 3, 1, 2]</td>\n      <td>[22, 14, 62, 77]</td>\n    </tr>\n    <tr>\n      <th>3343</th>\n      <td>3494.0</td>\n      <td>0</td>\n      <td>4</td>\n      <td>688216.3809</td>\n      <td>5588885.660</td>\n      <td>10</td>\n      <td>0</td>\n      <td>0</td>\n      <td>0</td>\n      <td>9</td>\n      <td>0.0</td>\n      <td>200.0</td>\n      <td>0.0</td>\n      <td>0.0</td>\n      <td>1.0</td>\n      <td>4.0</td>\n      <td>6.0</td>\n      <td>0.0</td>\n      <td>1.0</td>\n      <td>69.19</td>\n      <td>23.61</td>\n      <td>../data/BGR/Profilbilder_no_ruler_no_sky/TH_34...</td>\n      <td>[34.0, 69.0, 100.0]</td>\n      <td>[4.0, 4.0, 18.0]</td>\n      <td>[0.0, 3.0, 10.0]</td>\n      <td>[20.0, 30.0, 25.0]</td>\n      <td>[0, 0, 0]</td>\n      <td>[1.0, 2.0, 0.0]</td>\n      <td>[5, 3, 1]</td>\n      <td>[22, 32, 77]</td>\n    </tr>\n    <tr>\n      <th>3344</th>\n      <td>3496.0</td>\n      <td>0</td>\n      <td>4</td>\n      <td>701551.6557</td>\n      <td>5587919.679</td>\n      <td>10</td>\n      <td>0</td>\n      <td>0</td>\n      <td>0</td>\n      <td>0</td>\n      <td>0.0</td>\n      <td>200.0</td>\n      <td>0.0</td>\n      <td>0.0</td>\n      <td>6.0</td>\n      <td>4.0</td>\n      <td>0.0</td>\n      <td>0.0</td>\n      <td>1.0</td>\n      <td>75.65</td>\n      <td>9.34</td>\n      <td>../data/BGR/Profilbilder_no_ruler_no_sky/TH_34...</td>\n      <td>[20.0, 27.0, 70.0, 100.0]</td>\n      <td>[15.0, 15.0, 15.0, 26.0]</td>\n      <td>[2.0, 2.0, 3.0, 23.0]</td>\n      <td>[15.0, 25.0, 60.0, 90.0]</td>\n      <td>[0, 0, 0, 0]</td>\n      <td>[1.0, 1.0, 2.0, 0.0]</td>\n      <td>[4, 1, 0, 0]</td>\n      <td>[22, 22, 32, 0]</td>\n    </tr>\n    <tr>\n      <th>3345</th>\n      <td>3545.0</td>\n      <td>3</td>\n      <td>4</td>\n      <td>653547.6374</td>\n      <td>5581353.991</td>\n      <td>10</td>\n      <td>0</td>\n      <td>0</td>\n      <td>0</td>\n      <td>2</td>\n      <td>0.0</td>\n      <td>200.0</td>\n      <td>0.0</td>\n      <td>0.0</td>\n      <td>5.0</td>\n      <td>2.0</td>\n      <td>0.0</td>\n      <td>3.0</td>\n      <td>5.0</td>\n      <td>61.72</td>\n      <td>30.69</td>\n      <td>../data/BGR/Profilbilder_no_ruler_no_sky/TH_35...</td>\n      <td>[31.0, 49.0, 71.0, 100.0]</td>\n      <td>[15.0, 15.0, 15.0, 33.0]</td>\n      <td>[1.0, 7.0, 5.0, 16.0]</td>\n      <td>[5.0, 5.0, 20.0, 25.0]</td>\n      <td>[0, 0, 0, 0]</td>\n      <td>[1.0, 2.0, 0.0, 0.0]</td>\n      <td>[3, 2, 2, 2]</td>\n      <td>[22, 32, 47, 2]</td>\n    </tr>\n    <tr>\n      <th>3346</th>\n      <td>3596.0</td>\n      <td>4</td>\n      <td>5</td>\n      <td>620404.8554</td>\n      <td>5569180.493</td>\n      <td>10</td>\n      <td>0</td>\n      <td>0</td>\n      <td>5</td>\n      <td>3</td>\n      <td>0.0</td>\n      <td>200.0</td>\n      <td>0.0</td>\n      <td>0.0</td>\n      <td>1.0</td>\n      <td>3.0</td>\n      <td>0.0</td>\n      <td>0.0</td>\n      <td>3.0</td>\n      <td>80.30</td>\n      <td>19.58</td>\n      <td>../data/BGR/Profilbilder_no_ruler_no_sky/TH_35...</td>\n      <td>[27.0, 70.0, 100.0]</td>\n      <td>[1.0, 12.0, 1.0]</td>\n      <td>[6.0, 23.0, 31.0]</td>\n      <td>[3.0, 10.0, 30.0]</td>\n      <td>[3, 4, 4]</td>\n      <td>[1.0, 2.0, 0.0]</td>\n      <td>[0, 4, 4]</td>\n      <td>[22, 34, 34]</td>\n    </tr>\n  </tbody>\n</table>\n<p>3347 rows × 30 columns</p>\n</div>"
     },
     "execution_count": 30,
     "metadata": {},
     "output_type": "execute_result"
    }
   ],
   "source": [
    "# Only rows with Obergrenze < 100 were kept. This lead to some Untergrenze values still being above 100.\n",
    "# Round these down to 100 for a correct loss calculation (see depth_marker_loss)\n",
    "def modify_df_list(lst):\n",
    "    lst[-1] = 100.0\n",
    "    return lst\n",
    "df['Untergrenze'] = df['Untergrenze'].apply(modify_df_list)\n",
    "df"
   ],
   "metadata": {
    "collapsed": false,
    "pycharm": {
     "name": "#%%\n"
    }
   }
  },
  {
   "cell_type": "code",
   "execution_count": 31,
   "outputs": [
    {
     "name": "stdout",
     "output_type": "stream",
     "text": [
      "Minimum number of horizons: 2\n",
      "Maximum number of horizons: 8\n"
     ]
    }
   ],
   "source": [
    "# Get the lengths of the lists in the 'Untergrenze' column\n",
    "list_lengths = df['Untergrenze'].apply(len)\n",
    "\n",
    "min_length = list_lengths.min()\n",
    "max_length = list_lengths.max()\n",
    "\n",
    "print(f\"Minimum number of horizons: {min_length}\")\n",
    "print(f\"Maximum number of horizons: {max_length}\")"
   ],
   "metadata": {
    "collapsed": false,
    "pycharm": {
     "name": "#%%\n"
    }
   }
  },
  {
   "cell_type": "code",
   "execution_count": 32,
   "outputs": [
    {
     "name": "stdout",
     "output_type": "stream",
     "text": [
      "List with minimum length: [32.0, 100.0]\n",
      "List with maximum length: [13.0, 26.0, 40.0, 58.0, 68.0, 83.0, 98.0, 100.0]\n"
     ]
    }
   ],
   "source": [
    "min_length_list = df[df['Untergrenze'].apply(len) == min_length]['Untergrenze'].values[0]\n",
    "max_length_list = df[df['Untergrenze'].apply(len) == max_length]['Untergrenze'].values[0]\n",
    "print(f\"List with minimum length: {min_length_list}\")\n",
    "print(f\"List with maximum length: {max_length_list}\")"
   ],
   "metadata": {
    "collapsed": false,
    "pycharm": {
     "name": "#%%\n"
    }
   }
  },
  {
   "cell_type": "code",
   "execution_count": 33,
   "outputs": [],
   "source": [
    "# Define the image normalization\n",
    "normalize = transforms.Compose([\n",
    "    transforms.ToTensor(),\n",
    "    transforms.Normalize(mean=[0.485, 0.456, 0.406], std=[0.229, 0.224, 0.225]), # Normalize with ImageNet statistics\n",
    "])"
   ],
   "metadata": {
    "collapsed": false,
    "pycharm": {
     "name": "#%%\n"
    }
   }
  },
  {
   "cell_type": "code",
   "execution_count": 34,
   "outputs": [
    {
     "data": {
      "text/plain": "HorizonClassifier(\n  (image_encoder): ImageEncoder(\n    (cnn): ResNet(\n      (conv1): Conv2d(3, 64, kernel_size=(7, 7), stride=(2, 2), padding=(3, 3), bias=False)\n      (bn1): BatchNorm2d(64, eps=1e-05, momentum=0.1, affine=True, track_running_stats=True)\n      (relu): ReLU(inplace=True)\n      (maxpool): MaxPool2d(kernel_size=3, stride=2, padding=1, dilation=1, ceil_mode=False)\n      (layer1): Sequential(\n        (0): BasicBlock(\n          (conv1): Conv2d(64, 64, kernel_size=(3, 3), stride=(1, 1), padding=(1, 1), bias=False)\n          (bn1): BatchNorm2d(64, eps=1e-05, momentum=0.1, affine=True, track_running_stats=True)\n          (relu): ReLU(inplace=True)\n          (conv2): Conv2d(64, 64, kernel_size=(3, 3), stride=(1, 1), padding=(1, 1), bias=False)\n          (bn2): BatchNorm2d(64, eps=1e-05, momentum=0.1, affine=True, track_running_stats=True)\n        )\n        (1): BasicBlock(\n          (conv1): Conv2d(64, 64, kernel_size=(3, 3), stride=(1, 1), padding=(1, 1), bias=False)\n          (bn1): BatchNorm2d(64, eps=1e-05, momentum=0.1, affine=True, track_running_stats=True)\n          (relu): ReLU(inplace=True)\n          (conv2): Conv2d(64, 64, kernel_size=(3, 3), stride=(1, 1), padding=(1, 1), bias=False)\n          (bn2): BatchNorm2d(64, eps=1e-05, momentum=0.1, affine=True, track_running_stats=True)\n        )\n      )\n      (layer2): Sequential(\n        (0): BasicBlock(\n          (conv1): Conv2d(64, 128, kernel_size=(3, 3), stride=(2, 2), padding=(1, 1), bias=False)\n          (bn1): BatchNorm2d(128, eps=1e-05, momentum=0.1, affine=True, track_running_stats=True)\n          (relu): ReLU(inplace=True)\n          (conv2): Conv2d(128, 128, kernel_size=(3, 3), stride=(1, 1), padding=(1, 1), bias=False)\n          (bn2): BatchNorm2d(128, eps=1e-05, momentum=0.1, affine=True, track_running_stats=True)\n          (downsample): Sequential(\n            (0): Conv2d(64, 128, kernel_size=(1, 1), stride=(2, 2), bias=False)\n            (1): BatchNorm2d(128, eps=1e-05, momentum=0.1, affine=True, track_running_stats=True)\n          )\n        )\n        (1): BasicBlock(\n          (conv1): Conv2d(128, 128, kernel_size=(3, 3), stride=(1, 1), padding=(1, 1), bias=False)\n          (bn1): BatchNorm2d(128, eps=1e-05, momentum=0.1, affine=True, track_running_stats=True)\n          (relu): ReLU(inplace=True)\n          (conv2): Conv2d(128, 128, kernel_size=(3, 3), stride=(1, 1), padding=(1, 1), bias=False)\n          (bn2): BatchNorm2d(128, eps=1e-05, momentum=0.1, affine=True, track_running_stats=True)\n        )\n      )\n      (layer3): Sequential(\n        (0): BasicBlock(\n          (conv1): Conv2d(128, 256, kernel_size=(3, 3), stride=(2, 2), padding=(1, 1), bias=False)\n          (bn1): BatchNorm2d(256, eps=1e-05, momentum=0.1, affine=True, track_running_stats=True)\n          (relu): ReLU(inplace=True)\n          (conv2): Conv2d(256, 256, kernel_size=(3, 3), stride=(1, 1), padding=(1, 1), bias=False)\n          (bn2): BatchNorm2d(256, eps=1e-05, momentum=0.1, affine=True, track_running_stats=True)\n          (downsample): Sequential(\n            (0): Conv2d(128, 256, kernel_size=(1, 1), stride=(2, 2), bias=False)\n            (1): BatchNorm2d(256, eps=1e-05, momentum=0.1, affine=True, track_running_stats=True)\n          )\n        )\n        (1): BasicBlock(\n          (conv1): Conv2d(256, 256, kernel_size=(3, 3), stride=(1, 1), padding=(1, 1), bias=False)\n          (bn1): BatchNorm2d(256, eps=1e-05, momentum=0.1, affine=True, track_running_stats=True)\n          (relu): ReLU(inplace=True)\n          (conv2): Conv2d(256, 256, kernel_size=(3, 3), stride=(1, 1), padding=(1, 1), bias=False)\n          (bn2): BatchNorm2d(256, eps=1e-05, momentum=0.1, affine=True, track_running_stats=True)\n        )\n      )\n      (layer4): Sequential(\n        (0): BasicBlock(\n          (conv1): Conv2d(256, 512, kernel_size=(3, 3), stride=(2, 2), padding=(1, 1), bias=False)\n          (bn1): BatchNorm2d(512, eps=1e-05, momentum=0.1, affine=True, track_running_stats=True)\n          (relu): ReLU(inplace=True)\n          (conv2): Conv2d(512, 512, kernel_size=(3, 3), stride=(1, 1), padding=(1, 1), bias=False)\n          (bn2): BatchNorm2d(512, eps=1e-05, momentum=0.1, affine=True, track_running_stats=True)\n          (downsample): Sequential(\n            (0): Conv2d(256, 512, kernel_size=(1, 1), stride=(2, 2), bias=False)\n            (1): BatchNorm2d(512, eps=1e-05, momentum=0.1, affine=True, track_running_stats=True)\n          )\n        )\n        (1): BasicBlock(\n          (conv1): Conv2d(512, 512, kernel_size=(3, 3), stride=(1, 1), padding=(1, 1), bias=False)\n          (bn1): BatchNorm2d(512, eps=1e-05, momentum=0.1, affine=True, track_running_stats=True)\n          (relu): ReLU(inplace=True)\n          (conv2): Conv2d(512, 512, kernel_size=(3, 3), stride=(1, 1), padding=(1, 1), bias=False)\n          (bn2): BatchNorm2d(512, eps=1e-05, momentum=0.1, affine=True, track_running_stats=True)\n        )\n      )\n      (avgpool): AdaptiveAvgPool2d(output_size=(1, 1))\n      (fc): Identity()\n    )\n  )\n  (geo_temp_encoder): GeoTemporalEncoder(\n    (encoder): Sequential(\n      (0): Linear(in_features=21, out_features=64, bias=True)\n      (1): ReLU()\n      (2): Linear(in_features=64, out_features=32, bias=True)\n      (3): ReLU()\n    )\n  )\n  (depth_marker_predictor): DepthMarkerPredictor(\n    (fc): Sequential(\n      (0): Linear(in_features=544, out_features=128, bias=True)\n      (1): ReLU()\n      (2): Linear(in_features=128, out_features=128, bias=True)\n    )\n    (transformer): TransformerEncoder(\n      (layers): ModuleList(\n        (0): TransformerEncoderLayer(\n          (self_attn): MultiheadAttention(\n            (out_proj): NonDynamicallyQuantizableLinear(in_features=128, out_features=128, bias=True)\n          )\n          (linear1): Linear(in_features=128, out_features=2048, bias=True)\n          (dropout): Dropout(p=0.1, inplace=False)\n          (linear2): Linear(in_features=2048, out_features=128, bias=True)\n          (norm1): LayerNorm((128,), eps=1e-05, elementwise_affine=True)\n          (norm2): LayerNorm((128,), eps=1e-05, elementwise_affine=True)\n          (dropout1): Dropout(p=0.1, inplace=False)\n          (dropout2): Dropout(p=0.1, inplace=False)\n        )\n        (1): TransformerEncoderLayer(\n          (self_attn): MultiheadAttention(\n            (out_proj): NonDynamicallyQuantizableLinear(in_features=128, out_features=128, bias=True)\n          )\n          (linear1): Linear(in_features=128, out_features=2048, bias=True)\n          (dropout): Dropout(p=0.1, inplace=False)\n          (linear2): Linear(in_features=2048, out_features=128, bias=True)\n          (norm1): LayerNorm((128,), eps=1e-05, elementwise_affine=True)\n          (norm2): LayerNorm((128,), eps=1e-05, elementwise_affine=True)\n          (dropout1): Dropout(p=0.1, inplace=False)\n          (dropout2): Dropout(p=0.1, inplace=False)\n        )\n      )\n    )\n    (predictor): Linear(in_features=128, out_features=1, bias=True)\n  )\n)"
     },
     "execution_count": 34,
     "metadata": {},
     "output_type": "execute_result"
    }
   ],
   "source": [
    "# Initialize model\n",
    "#num_classes = len(df[target].unique()) # for one-hot encoding\n",
    "num_classes = emb_dict['embedding'].shape[1] # for HCE (the dim. of final layer in the model should match the dim of the embedded label vectors)\n",
    "model = bgr_mod.HorizonClassifier(geo_temp_input_dim=len(geotemp_img_infos)-1, # without counting the img path\n",
    "                                  max_seq_len = 10,\n",
    "                                  stop_token = 100)  # End of Sequence Token at -100 meters\n",
    "\n",
    "device = torch.device(\"cuda:0\" if torch.cuda.is_available() else \"cpu\")\n",
    "model.to(device)"
   ],
   "metadata": {
    "collapsed": false,
    "pycharm": {
     "name": "#%%\n"
    }
   }
  },
  {
   "cell_type": "code",
   "execution_count": 35,
   "outputs": [
    {
     "name": "stdout",
     "output_type": "stream",
     "text": [
      "2510 samples for training.\n",
      "837 samples for validating.\n"
     ]
    }
   ],
   "source": [
    "# Data split\n",
    "#train_df, val_df = train_test_split(df, stratify=df[target], random_state=2024)\n",
    "train_df, val_df = train_test_split(df, random_state=2024)\n",
    "\n",
    "print(f'{len(train_df)} samples for training.')\n",
    "print(f'{len(val_df)} samples for validating.')"
   ],
   "metadata": {
    "collapsed": false,
    "pycharm": {
     "name": "#%%\n"
    }
   }
  },
  {
   "cell_type": "code",
   "execution_count": 36,
   "outputs": [],
   "source": [
    "# Define the image transforms for augmentation\n",
    "augment = [\n",
    "    transforms.ColorJitter(brightness=0.3, contrast=0.3, saturation=0.3, hue=0.1),\n",
    "    transforms.GaussianBlur(kernel_size=(5, 5), sigma=(1., 3.))\n",
    "]"
   ],
   "metadata": {
    "collapsed": false,
    "pycharm": {
     "name": "#%%\n"
    }
   }
  },
  {
   "cell_type": "code",
   "execution_count": 37,
   "outputs": [],
   "source": [
    "# Create Dataset object with image and tabular features\n",
    "train_dataset = bgr_data.ImageTabularDataset(dataframe=train_df,#[:100],\n",
    "                                             normalize=normalize,\n",
    "                                             augment=augment,\n",
    "                                             image_path='file',\n",
    "                                             #label=depth_markers[1], # predict list of lower boundaries (Untergrenze)\n",
    "                                             label=None, # no label column as input; access it instead via Point during training\n",
    "                                             feature_columns=geotemp_img_infos[:-1])\n",
    "\n",
    "train_loader = DataLoader(train_dataset, batch_size=64, shuffle=True, num_workers=16)\n",
    "\n",
    "# Training parameters\n",
    "optimizer = optim.AdamW(model.parameters(), lr=1e-3, weight_decay=1e-4)\n",
    "#criterion = nn.CrossEntropyLoss()\n",
    "#criterion = TopKLoss(k=5)\n",
    "#criterion = nn.CosineEmbeddingLoss() # for HCE: 1 - cos(prediction, target)\n",
    "\n",
    "# Note: Is MSE better for HCE?"
   ],
   "metadata": {
    "collapsed": false,
    "pycharm": {
     "name": "#%%\n"
    }
   }
  },
  {
   "cell_type": "code",
   "execution_count": 38,
   "outputs": [],
   "source": [
    "### Callbacks\n",
    "scheduler = torch.optim.lr_scheduler.ReduceLROnPlateau(optimizer, mode='min', factor=0.1, patience=3, threshold=0.1, min_lr=1e-5, verbose=True)\n",
    "early_stopping = EarlyStopping(patience=10, min_delta=0.01, verbose=True) # looks at val_loss (see callbacks.py)"
   ],
   "metadata": {
    "collapsed": false,
    "pycharm": {
     "name": "#%%\n"
    }
   }
  },
  {
   "cell_type": "code",
   "execution_count": 39,
   "outputs": [
    {
     "name": "stdout",
     "output_type": "stream",
     "text": [
      "Training size original: 2510\n",
      "Training size after augmentation: 7530\n"
     ]
    }
   ],
   "source": [
    "print(f\"Training size original: {len(train_dataset.dataframe)}\")\n",
    "print(f\"Training size after augmentation: {len(train_dataset)}\")"
   ],
   "metadata": {
    "collapsed": false,
    "pycharm": {
     "name": "#%%\n"
    }
   }
  },
  {
   "cell_type": "code",
   "execution_count": 40,
   "outputs": [
    {
     "name": "stderr",
     "output_type": "stream",
     "text": [
      "Clipping input data to the valid range for imshow with RGB data ([0..1] for floats or [0..255] for integers).\n",
      "Clipping input data to the valid range for imshow with RGB data ([0..1] for floats or [0..255] for integers).\n",
      "Clipping input data to the valid range for imshow with RGB data ([0..1] for floats or [0..255] for integers).\n"
     ]
    },
    {
     "name": "stdout",
     "output_type": "stream",
     "text": [
      "Image 0\n",
      "tensor([1.2880e+03, 7.0000e+00, 0.0000e+00, 5.0506e+05, 5.8320e+06, 6.0000e+00,\n",
      "        0.0000e+00, 0.0000e+00, 0.0000e+00, 2.0000e+00, 0.0000e+00, 2.0000e+02,\n",
      "        0.0000e+00, 0.0000e+00, 3.0000e+00, 2.0000e+00, 2.0000e+00, 0.0000e+00,\n",
      "        3.0000e+00, 5.3780e+01, 1.5110e+01])\n",
      "Image 1\n",
      "tensor([1.2880e+03, 7.0000e+00, 0.0000e+00, 5.0506e+05, 5.8320e+06, 6.0000e+00,\n",
      "        0.0000e+00, 0.0000e+00, 0.0000e+00, 2.0000e+00, 0.0000e+00, 2.0000e+02,\n",
      "        0.0000e+00, 0.0000e+00, 3.0000e+00, 2.0000e+00, 2.0000e+00, 0.0000e+00,\n",
      "        3.0000e+00, 5.3780e+01, 1.5110e+01])\n",
      "Image 2\n",
      "tensor([1.2880e+03, 7.0000e+00, 0.0000e+00, 5.0506e+05, 5.8320e+06, 6.0000e+00,\n",
      "        0.0000e+00, 0.0000e+00, 0.0000e+00, 2.0000e+00, 0.0000e+00, 2.0000e+02,\n",
      "        0.0000e+00, 0.0000e+00, 3.0000e+00, 2.0000e+00, 2.0000e+00, 0.0000e+00,\n",
      "        3.0000e+00, 5.3780e+01, 1.5110e+01])\n"
     ]
    },
    {
     "data": {
      "text/plain": "<Figure size 720x576 with 3 Axes>",
      "image/svg+xml": "<?xml version=\"1.0\" encoding=\"utf-8\" standalone=\"no\"?>\n<!DOCTYPE svg PUBLIC \"-//W3C//DTD SVG 1.1//EN\"\n  \"http://www.w3.org/Graphics/SVG/1.1/DTD/svg11.dtd\">\n<svg xmlns:xlink=\"http://www.w3.org/1999/xlink\" width=\"572.4pt\" height=\"178.517647pt\" viewBox=\"0 0 572.4 178.517647\" xmlns=\"http://www.w3.org/2000/svg\" version=\"1.1\">\n <metadata>\n  <rdf:RDF xmlns:dc=\"http://purl.org/dc/elements/1.1/\" xmlns:cc=\"http://creativecommons.org/ns#\" xmlns:rdf=\"http://www.w3.org/1999/02/22-rdf-syntax-ns#\">\n   <cc:Work>\n    <dc:type rdf:resource=\"http://purl.org/dc/dcmitype/StillImage\"/>\n    <dc:date>2025-01-21T19:41:59.576957</dc:date>\n    <dc:format>image/svg+xml</dc:format>\n    <dc:creator>\n     <cc:Agent>\n      <dc:title>Matplotlib v3.5.1, https://matplotlib.org/</dc:title>\n     </cc:Agent>\n    </dc:creator>\n   </cc:Work>\n  </rdf:RDF>\n </metadata>\n <defs>\n  <style type=\"text/css\">*{stroke-linejoin: round; stroke-linecap: butt}</style>\n </defs>\n <g id=\"figure_1\">\n  <g id=\"patch_1\">\n   <path d=\"M 0 178.517647 \nL 572.4 178.517647 \nL 572.4 0 \nL 0 0 \nL 0 178.517647 \nz\n\" style=\"fill: none\"/>\n  </g>\n  <g id=\"axes_1\">\n   <g clip-path=\"url(#p6a61e3c519)\">\n    <image xlink:href=\"data:image/png;base64,\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\" id=\"image6940bf91da\" transform=\"scale(1 -1)translate(0 -165)\" x=\"7.2\" y=\"-6.317647\" width=\"165\" height=\"165\"/>\n   </g>\n  </g>\n  <g id=\"axes_2\">\n   <g clip-path=\"url(#p46740d202c)\">\n    <image xlink:href=\"data:image/png;base64,\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\" id=\"image55cbeb3792\" transform=\"scale(1 -1)translate(0 -165)\" x=\"204.141176\" y=\"-6.317647\" width=\"165\" height=\"165\"/>\n   </g>\n  </g>\n  <g id=\"axes_3\">\n   <g clip-path=\"url(#p76e8255d3a)\">\n    <image xlink:href=\"data:image/png;base64,\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\" id=\"image2cb04bad3e\" transform=\"scale(1 -1)translate(0 -165)\" x=\"401.082353\" y=\"-6.317647\" width=\"165\" height=\"165\"/>\n   </g>\n  </g>\n </g>\n <defs>\n  <clipPath id=\"p6a61e3c519\">\n   <rect x=\"7.2\" y=\"7.2\" width=\"164.117647\" height=\"164.117647\"/>\n  </clipPath>\n  <clipPath id=\"p46740d202c\">\n   <rect x=\"204.141176\" y=\"7.2\" width=\"164.117647\" height=\"164.117647\"/>\n  </clipPath>\n  <clipPath id=\"p76e8255d3a\">\n   <rect x=\"401.082353\" y=\"7.2\" width=\"164.117647\" height=\"164.117647\"/>\n  </clipPath>\n </defs>\n</svg>\n"
     },
     "metadata": {
      "needs_background": "light"
     },
     "output_type": "display_data"
    }
   ],
   "source": [
    "# Check an augmented subset\n",
    "aug_images = []\n",
    "for i in range(len(train_dataset)):\n",
    "    image, tabular_features = train_dataset[i]\n",
    "    aug_images.append(image)\n",
    "    print(f\"Image {i}\")\n",
    "    print(tabular_features)\n",
    "    if i == 2: break\n",
    "\n",
    "plt.figure(figsize=(10, 8))\n",
    "for i in range(len(aug_images)):\n",
    "    plt.subplot(1, 3, i+1)\n",
    "    plt.imshow(aug_images[i].swapaxes(0,2).swapaxes(0,1)) # returned shape is (c, h, w)\n",
    "    plt.axis('off')"
   ],
   "metadata": {
    "collapsed": false,
    "pycharm": {
     "name": "#%%\n"
    }
   }
  },
  {
   "cell_type": "code",
   "execution_count": 41,
   "outputs": [],
   "source": [
    "val_dataset = bgr_data.ImageTabularDataset(dataframe=val_df,#[:100],\n",
    "                                           normalize=normalize,\n",
    "                                           image_path='file',\n",
    "                                           #label=depth_markers[1],\n",
    "                                           label=None,\n",
    "                                           feature_columns=geotemp_img_infos[:-1])\n",
    "\n",
    "val_loader = DataLoader(val_dataset, batch_size=64, shuffle=True, num_workers=16)"
   ],
   "metadata": {
    "collapsed": false,
    "pycharm": {
     "name": "#%%\n"
    }
   }
  },
  {
   "cell_type": "code",
   "execution_count": 43,
   "outputs": [
    {
     "name": "stdout",
     "output_type": "stream",
     "text": [
      "Epoch 1/10\n"
     ]
    },
    {
     "name": "stderr",
     "output_type": "stream",
     "text": [
      "                                                                                                                        \r"
     ]
    },
    {
     "data": {
      "text/plain": "tensor([[4.4370e+03, 4.0000e+00, 2.0000e+00,  ..., 1.0000e+00, 4.3760e+01,\n         2.4930e+01],\n        [4.1100e+03, 4.0000e+00, 0.0000e+00,  ..., 2.0000e+00, 7.1090e+01,\n         1.1840e+01],\n        [3.7700e+02, 5.0000e+00, 0.0000e+00,  ..., 5.0000e+00, 2.6554e+02,\n         4.0687e+02],\n        ...,\n        [1.2000e+03, 0.0000e+00, 5.0000e+00,  ..., 6.0000e+00, 2.2630e+01,\n         7.2300e+00],\n        [1.3070e+03, 5.0000e+00, 2.0000e+00,  ..., 2.0000e+00, 5.7710e+01,\n         3.2430e+01],\n        [1.0000e+02, 0.0000e+00, 7.0000e+00,  ..., 0.0000e+00, 3.5713e+02,\n         2.1043e+02]], device='cuda:0')"
     },
     "execution_count": 43,
     "metadata": {},
     "output_type": "execute_result"
    }
   ],
   "source": [
    "model.train()\n",
    "epochs = 10\n",
    "lr_history, train_loss_history, val_loss_history = [], [], []\n",
    "for epoch in range(epochs):\n",
    "    print(f\"Epoch {epoch + 1}/{epochs}\")\n",
    "    # Training loop\n",
    "    train_loss_total = 0\n",
    "    train_loader_tqdm = tqdm(train_loader, desc=\"Training\", leave=False)\n",
    "    for batch in train_loader_tqdm:\n",
    "        images, geotemp_features = batch\n",
    "        images, geotemp_features = images.to(device), geotemp_features.to(device)\n",
    "        #optimizer.zero_grad() # otherwise, PyTorch accumulates the gradients during backprop\n",
    "        #pred_depths = model(image=images, geo_temp=geotemp_features)\n",
    "        break\n",
    "    break\n",
    "geotemp_features"
   ],
   "metadata": {
    "collapsed": false,
    "pycharm": {
     "name": "#%%\n"
    }
   }
  },
  {
   "cell_type": "code",
   "execution_count": 53,
   "outputs": [
    {
     "data": {
      "text/plain": "array(4437., dtype=float32)"
     },
     "execution_count": 53,
     "metadata": {},
     "output_type": "execute_result"
    }
   ],
   "source": [
    "geotemp_features[0][0].cpu().numpy()"
   ],
   "metadata": {
    "collapsed": false,
    "pycharm": {
     "name": "#%%\n"
    }
   }
  },
  {
   "cell_type": "code",
   "execution_count": 55,
   "outputs": [
    {
     "data": {
      "text/plain": "741    [30.0, 70.0, 100.0]\nName: Untergrenze, dtype: object"
     },
     "execution_count": 55,
     "metadata": {},
     "output_type": "execute_result"
    }
   ],
   "source": [
    "df['Untergrenze'][df['Point'] == geotemp_features[0][0].cpu().numpy()]"
   ],
   "metadata": {
    "collapsed": false,
    "pycharm": {
     "name": "#%%\n"
    }
   }
  },
  {
   "cell_type": "code",
   "execution_count": 39,
   "outputs": [
    {
     "name": "stdout",
     "output_type": "stream",
     "text": [
      "Epoch 1/10\n"
     ]
    },
    {
     "name": "stderr",
     "output_type": "stream",
     "text": [
      "                                                                                                                        \r"
     ]
    },
    {
     "name": "stdout",
     "output_type": "stream",
     "text": [
      "Epoch 1, Training Loss: 0.6659\n",
      "Validation Loss: 0.5769\n",
      "Current LR: 0.001\n",
      "Epoch 2/10\n"
     ]
    },
    {
     "name": "stderr",
     "output_type": "stream",
     "text": [
      "                                                                                                                        \r"
     ]
    },
    {
     "name": "stdout",
     "output_type": "stream",
     "text": [
      "Epoch 2, Training Loss: 0.5564\n",
      "Validation Loss: 0.5395\n",
      "Current LR: 0.001\n",
      "Epoch 3/10\n"
     ]
    },
    {
     "name": "stderr",
     "output_type": "stream",
     "text": [
      "                                                                                                                        \r"
     ]
    },
    {
     "name": "stdout",
     "output_type": "stream",
     "text": [
      "Epoch 3, Training Loss: 0.5335\n",
      "Validation Loss: 0.5645\n",
      "Current LR: 0.001\n",
      "EarlyStopping: No improvement for 1 epochs.\n",
      "Epoch 4/10\n"
     ]
    },
    {
     "name": "stderr",
     "output_type": "stream",
     "text": [
      "                                                                                                                        \r"
     ]
    },
    {
     "name": "stdout",
     "output_type": "stream",
     "text": [
      "Epoch 4, Training Loss: 0.5397\n",
      "Validation Loss: 0.5435\n",
      "Current LR: 0.001\n",
      "EarlyStopping: No improvement for 2 epochs.\n",
      "Epoch 5/10\n"
     ]
    },
    {
     "name": "stderr",
     "output_type": "stream",
     "text": [
      "                                                                                                                        \r"
     ]
    },
    {
     "name": "stdout",
     "output_type": "stream",
     "text": [
      "Epoch     5: reducing learning rate of group 0 to 1.0000e-04.\n",
      "Epoch 5, Training Loss: 0.5356\n",
      "Validation Loss: 0.5405\n",
      "Current LR: 0.0001\n",
      "EarlyStopping: No improvement for 3 epochs.\n",
      "Epoch 6/10\n"
     ]
    },
    {
     "name": "stderr",
     "output_type": "stream",
     "text": [
      "                                                                                                                        \r"
     ]
    },
    {
     "name": "stdout",
     "output_type": "stream",
     "text": [
      "Epoch 6, Training Loss: 0.5191\n",
      "Validation Loss: 0.5124\n",
      "Current LR: 0.0001\n",
      "Epoch 7/10\n"
     ]
    },
    {
     "name": "stderr",
     "output_type": "stream",
     "text": [
      "                                                                                                                        \r"
     ]
    },
    {
     "name": "stdout",
     "output_type": "stream",
     "text": [
      "Epoch 7, Training Loss: 0.5015\n",
      "Validation Loss: 0.5078\n",
      "Current LR: 0.0001\n",
      "EarlyStopping: No improvement for 1 epochs.\n",
      "Epoch 8/10\n"
     ]
    },
    {
     "name": "stderr",
     "output_type": "stream",
     "text": [
      "                                                                                                                        \r"
     ]
    },
    {
     "name": "stdout",
     "output_type": "stream",
     "text": [
      "Epoch 8, Training Loss: 0.4915\n",
      "Validation Loss: 0.5040\n",
      "Current LR: 0.0001\n",
      "EarlyStopping: No improvement for 2 epochs.\n",
      "Epoch 9/10\n"
     ]
    },
    {
     "name": "stderr",
     "output_type": "stream",
     "text": [
      "                                                                                                                        \r"
     ]
    },
    {
     "name": "stdout",
     "output_type": "stream",
     "text": [
      "Epoch 9, Training Loss: 0.4825\n",
      "Validation Loss: 0.5050\n",
      "Current LR: 0.0001\n",
      "EarlyStopping: No improvement for 3 epochs.\n",
      "Epoch 10/10\n"
     ]
    },
    {
     "name": "stderr",
     "output_type": "stream",
     "text": [
      "                                                                                                                        "
     ]
    },
    {
     "name": "stdout",
     "output_type": "stream",
     "text": [
      "Epoch    10: reducing learning rate of group 0 to 1.0000e-05.\n",
      "Epoch 10, Training Loss: 0.4732\n",
      "Validation Loss: 0.5115\n",
      "Current LR: 1e-05\n"
     ]
    },
    {
     "name": "stderr",
     "output_type": "stream",
     "text": [
      "\r"
     ]
    }
   ],
   "source": [
    "model.train()\n",
    "epochs = 10\n",
    "lr_history, train_loss_history, val_loss_history = [], [], []\n",
    "train_acc_history, train_topk_acc_history, val_acc_history, val_topk_acc_history = [], [], [], []\n",
    "for epoch in range(epochs):\n",
    "    print(f\"Epoch {epoch + 1}/{epochs}\")\n",
    "    # Training loop\n",
    "    train_correct = 0\n",
    "    train_topk_correct = 0\n",
    "    train_loss_total = 0\n",
    "    train_loader_tqdm = tqdm(train_loader, desc=\"Training\", leave=False)\n",
    "    for batch in train_loader_tqdm:\n",
    "        images, tabular_features, labels = batch\n",
    "        images, tabular_features, labels = images.to(device), tabular_features.to(device), labels.to(device)\n",
    "        optimizer.zero_grad() # otherwise, PyTorch accumulates the gradients during backprop\n",
    "        outputs = model(image=images, tabular_features=tabular_features)\n",
    "\n",
    "        # Get corresponding embeddings from int-labels\n",
    "        target_embeddings = torch.stack([torch.tensor(emb_dict['embedding'][lab]) for lab in labels]).to(device)\n",
    "        # Create a dummy \"same class\" tensor with 1s for the cosine similarity\n",
    "        same_class = torch.ones(outputs.size(0)).to(device)\n",
    "        # Normalize both predictions and target embeddings\n",
    "        # Note: rather normalize the mixture embeddings immediately after the linear combination of the parents?\n",
    "        outputs = F.normalize(outputs, p=2, dim=1)\n",
    "        target_embeddings = F.normalize(target_embeddings, p=2, dim=1)\n",
    "\n",
    "        #train_loss = criterion(outputs, labels) # for cross entropy or top-k-loss (without HCE)\n",
    "        train_loss = criterion(outputs, target_embeddings, same_class) # for cosine loss (with HCE)\n",
    "\n",
    "        train_loss.backward()\n",
    "        clip_grad_norm_(model.parameters(), max_norm=1.0)\n",
    "        optimizer.step()\n",
    "\n",
    "        # Calculate accuracy for this batch\n",
    "        train_loss_total += train_loss.item()\n",
    "        #_, predicted = torch.max(outputs.data, 1)\n",
    "        #train_correct += (predicted == labels).sum().item()\n",
    "        #train_topk_correct += top_k_accuracy(outputs, labels, k=5)\n",
    "\n",
    "        train_loader_tqdm.set_postfix(loss=train_loss.item())\n",
    "\n",
    "    # Calculate average training accuracy for the epoch\n",
    "    #train_acc = train_correct / len(train_loader.dataset)\n",
    "    #train_topk_acc = train_topk_correct / len(train_loader)\n",
    "    avg_train_loss = train_loss_total / len(train_loader)\n",
    "\n",
    "    # Evaluation loop\n",
    "    model.eval()\n",
    "    val_correct = 0\n",
    "    val_topk_correct = 0\n",
    "    val_loss_total = 0\n",
    "    val_loader_tqdm = tqdm(val_loader, desc=\"Evaluating\", leave=False)\n",
    "    with torch.no_grad():\n",
    "        for batch in val_loader_tqdm:\n",
    "            images, tabular_features, labels = batch\n",
    "            images, tabular_features, labels = images.to(device), tabular_features.to(device), labels.to(device)\n",
    "            outputs = model(image=images, tabular_features=tabular_features)\n",
    "\n",
    "            # Get corresponding embeddings from int-labels\n",
    "            target_embeddings = torch.stack([torch.tensor(emb_dict['embedding'][lab]) for lab in labels]).to(device)\n",
    "            # Create a dummy \"same class\" tensor with 1s for the cosine similarity\n",
    "            same_class = torch.ones(outputs.size(0)).to(device)\n",
    "            # Normalize both predictions and target embeddings\n",
    "            # Note: rather normalize the mixture embeddings immediately after the linear combination of the parents?\n",
    "            outputs = F.normalize(outputs, p=2, dim=1)\n",
    "            target_embeddings = F.normalize(target_embeddings, p=2, dim=1)\n",
    "\n",
    "            #val_loss = criterion(outputs, labels) # for cross entropy or top-k-loss (without HCE)\n",
    "            val_loss = criterion(outputs, target_embeddings, same_class) # for cosine loss (with HCE)\n",
    "\n",
    "            val_loss_total += val_loss.item()\n",
    "            #_, predicted = torch.max(outputs.data, 1)\n",
    "            #val_correct += (predicted == labels).sum().item()\n",
    "            #val_topk_correct += top_k_accuracy(outputs, labels, k=5)\n",
    "\n",
    "    # Calculate average val accuracy for the epoch\n",
    "    #val_acc = val_correct / len(val_loader.dataset)\n",
    "    #val_topk_acc = val_topk_correct / len(val_loader)\n",
    "    avg_val_loss = val_loss_total / len(val_loader)\n",
    "\n",
    "    # Apply the scheduler with validation loss\n",
    "    scheduler.step(avg_val_loss)\n",
    "    # Log the current learning rate\n",
    "    current_lr = optimizer.param_groups[0]['lr']\n",
    "    lr_history.append(current_lr)\n",
    "    # Log metrics\n",
    "    train_loss_history.append(avg_train_loss); val_loss_history.append(avg_val_loss)\n",
    "    #train_acc_history.append(train_acc); val_acc_history.append(val_acc)\n",
    "    #train_topk_acc_history.append(train_topk_acc); val_topk_acc_history.append(val_topk_acc)\n",
    "\n",
    "    print(f\"Epoch {epoch+1}, Training Loss: {avg_train_loss:.4f}\")#, Training Accuracy: {train_acc:.4f}, Training Top {criterion.k} Accuracy: {train_topk_acc:.4f}\")\n",
    "    print(f\"Validation Loss: {avg_val_loss:.4f}\")#, Validation Accuracy: {val_acc:.4f}, Validation Top {criterion.k} Accuracy: {val_topk_acc:.4f}\")\n",
    "    print(f\"Current LR: {current_lr}\")\n",
    "\n",
    "    # Early stopping check\n",
    "    early_stopping(val_loss)\n",
    "    if early_stopping.should_stop:\n",
    "        print(f\"Early stopping at epoch {epoch+1}\")\n",
    "        break"
   ],
   "metadata": {
    "collapsed": false,
    "pycharm": {
     "name": "#%%\n"
    }
   }
  },
  {
   "cell_type": "markdown",
   "source": [
    "### Evaluation"
   ],
   "metadata": {
    "collapsed": false
   }
  },
  {
   "cell_type": "code",
   "execution_count": null,
   "outputs": [],
   "source": [
    "plt.figure(figsize=(21, 6))\n",
    "\n",
    "complete_epochs = len(train_acc_history)+1\n",
    "plt.subplot(1, 3, 1)\n",
    "plt.plot(range(1, complete_epochs), train_loss_history, label='Train Loss', marker='o', color='b')\n",
    "plt.plot(range(1, complete_epochs), val_loss_history,  label='Validation Loss',  marker='o', color='r')\n",
    "plt.title('Loss Curves')\n",
    "plt.xlabel('Epoch')\n",
    "plt.ylabel('Loss')\n",
    "plt.legend()\n",
    "plt.grid()\n",
    "\n",
    "plt.subplot(1, 3, 2)\n",
    "plt.plot(range(1, complete_epochs), train_acc_history, label='Train Accuracy', marker='o', color='b')\n",
    "plt.plot(range(1, complete_epochs), val_acc_history, label='Validation Accuracy', marker='o', color='r')\n",
    "plt.title('Accuracy Curves')\n",
    "plt.xlabel('Epoch')\n",
    "plt.ylabel('Accuracy')\n",
    "plt.legend()\n",
    "plt.grid()\n",
    "\n",
    "plt.subplot(1, 3, 3)\n",
    "plt.plot(range(1, complete_epochs), train_topk_acc_history, label=f'Train Top {criterion.k} Accuracy', marker='o', color='b')\n",
    "plt.plot(range(1, complete_epochs), val_topk_acc_history, label=f'Validation Top {criterion.k} Accuracy', marker='o', color='r')\n",
    "plt.title(f'Top {criterion.k} Accuracy Curves')\n",
    "plt.xlabel('Epoch')\n",
    "plt.ylabel(f'Top {criterion.k} Accuracy')\n",
    "plt.legend()\n",
    "plt.grid()\n",
    "\n",
    "plt.tight_layout()\n",
    "plt.show()"
   ],
   "metadata": {
    "collapsed": false,
    "pycharm": {
     "name": "#%%\n"
    }
   }
  },
  {
   "cell_type": "code",
   "execution_count": null,
   "outputs": [],
   "source": [
    "plt.figure(figsize=(8, 6))\n",
    "plt.plot(range(1, complete_epochs), lr_history, marker='o', linestyle='-', color='b')\n",
    "plt.title(\"Learning Rate Evolution\")\n",
    "plt.xlabel(\"Epoch\")\n",
    "plt.ylabel(\"Learning Rate\")\n",
    "plt.grid()\n",
    "plt.show()"
   ],
   "metadata": {
    "collapsed": false,
    "pycharm": {
     "name": "#%%\n"
    }
   }
  },
  {
   "cell_type": "code",
   "execution_count": null,
   "outputs": [],
   "source": [
    "model.eval()  # Setze das Modell in den Evaluierungsmodus\n",
    "with torch.no_grad():\n",
    "    outputs = []\n",
    "    val_loader_tqdm = tqdm(val_loader, desc=\"Evaluating\", leave=False)\n",
    "    for batch in val_loader_tqdm:\n",
    "        images, tabular_features, labels = batch\n",
    "        images, tabular_features, labels = images.to(device), tabular_features.to(device), labels.to(device)\n",
    "        outputs.append(model(image=images, tabular_features=tabular_features))"
   ],
   "metadata": {
    "collapsed": false,
    "pycharm": {
     "name": "#%%\n"
    }
   }
  },
  {
   "cell_type": "code",
   "execution_count": null,
   "outputs": [],
   "source": [
    "from sklearn.metrics import classification_report, confusion_matrix\n",
    "\n",
    "# Convert outputs to predicted labels (adjust based on your model's output format)\n",
    "predicted_probs, predicted_labels = [], []\n",
    "for output in outputs:\n",
    "\n",
    "    predicted_labels.extend(torch.argmax(output, dim=1).tolist())\n",
    "    predicted_probs.extend(torch.softmax(output, dim=1).cpu().numpy()) # Convert logits to probabilities\n",
    "\n",
    "# Convert true labels to a list\n",
    "true_labels = [label.item() for batch in val_loader for label in batch[2]]\n",
    "\n",
    "# Calculate metrics\n",
    "report = classification_report(true_labels, predicted_labels)\n",
    "print(report)"
   ],
   "metadata": {
    "collapsed": false,
    "pycharm": {
     "name": "#%%\n"
    }
   }
  },
  {
   "cell_type": "code",
   "execution_count": null,
   "outputs": [],
   "source": [
    "# Compute PR curve for each class\n",
    "from sklearn.metrics import precision_recall_curve, average_precision_score\n",
    "from sklearn.preprocessing import label_binarize\n",
    "\n",
    "predicted_probs = np.array(predicted_probs)\n",
    "true_labels = np.array(true_labels)\n",
    "n_classes = predicted_probs.shape[1]\n",
    "precision, recall, avg_precision = {}, {}, {}\n",
    "# Binarize the labels (one-hot encoding for multiclass)\n",
    "true_labels_binarized = label_binarize(true_labels, classes=np.arange(n_classes))\n",
    "\n",
    "for i in range(n_classes):\n",
    "    precision[i], recall[i], _ = precision_recall_curve(true_labels_binarized[:, i], predicted_probs[:, i])\n",
    "    avg_precision[i] = average_precision_score(true_labels_binarized[:, i], predicted_probs[:, i])\n",
    "\n",
    "# Compute macro-average PR curve\n",
    "precision[\"macro\"], recall[\"macro\"], _ = precision_recall_curve(true_labels_binarized.ravel(), predicted_probs.ravel())\n",
    "avg_precision[\"macro\"] = average_precision_score(true_labels_binarized, predicted_probs, average=\"macro\")"
   ],
   "metadata": {
    "collapsed": false,
    "pycharm": {
     "name": "#%%\n"
    }
   }
  },
  {
   "cell_type": "code",
   "execution_count": null,
   "outputs": [],
   "source": [
    "plt.figure(figsize=(10, 8))\n",
    "\n",
    "# Plot PR curves for each class\n",
    "for i in range(n_classes):\n",
    "    plt.plot(recall[i], precision[i], lw=2, label=f'Class {i} (AP = {avg_precision[i]:.2f})')\n",
    "\n",
    "# Plot macro-average PR curve\n",
    "plt.plot(recall[\"macro\"], precision[\"macro\"], linestyle='--', lw=2, color='black',\n",
    "         label=f'Macro-average (AP = {avg_precision[\"macro\"]:.2f})')\n",
    "\n",
    "plt.xlabel('Recall')\n",
    "plt.ylabel('Precision')\n",
    "plt.title('Precision-Recall Curves')\n",
    "plt.legend(loc='upper right')\n",
    "plt.grid()\n",
    "plt.show()"
   ],
   "metadata": {
    "collapsed": false,
    "pycharm": {
     "name": "#%%\n"
    }
   }
  },
  {
   "cell_type": "code",
   "execution_count": null,
   "outputs": [],
   "source": [
    "cm = confusion_matrix(true_labels, predicted_labels)\n",
    "\n",
    "plt.figure(figsize=(10, 7))\n",
    "sns.heatmap(cm, annot=True, fmt=\"d\", cmap=\"Blues\")\n",
    "plt.xlabel(\"Predicted Label\")\n",
    "plt.ylabel(\"True Label\")\n",
    "plt.title(\"Confusion Matrix\")\n",
    "plt.show()"
   ],
   "metadata": {
    "collapsed": false,
    "pycharm": {
     "name": "#%%\n"
    }
   }
  }
 ],
 "metadata": {
  "kernelspec": {
   "name": "sam",
   "language": "python",
   "display_name": "sam"
  },
  "language_info": {
   "codemirror_mode": {
    "name": "ipython",
    "version": 3
   },
   "file_extension": ".py",
   "mimetype": "text/x-python",
   "name": "python",
   "nbconvert_exporter": "python",
   "pygments_lexer": "ipython3",
   "version": "3.9.19"
  }
 },
 "nbformat": 4,
 "nbformat_minor": 5
}