{
 "cells": [
  {
   "cell_type": "markdown",
   "source": [
    "## Multimodal Training Sequential\n",
    "\n",
    "Predict horizon boundaries from full images and geo-temporal infos. Afterwards, predict morphological features and symbol for every horizon"
   ],
   "metadata": {
    "collapsed": false
   }
  },
  {
   "cell_type": "code",
   "execution_count": 1,
   "outputs": [],
   "source": [
    "import os\n",
    "import torch\n",
    "import pickle\n",
    "import torch.nn as nn\n",
    "from torch.nn.utils import clip_grad_norm_ # modifies the tensors in-place (vs clip_grad_norm)\n",
    "import torch.nn.functional as F\n",
    "from torch.utils.data import DataLoader\n",
    "import torch.optim as optim\n",
    "import torchvision.transforms as transforms\n",
    "import pandas as pd\n",
    "import matplotlib.pylab as plt\n",
    "import seaborn as sns\n",
    "import numpy as np\n",
    "from tqdm import tqdm\n",
    "from sklearn.model_selection import train_test_split\n",
    "from sklearn.feature_extraction.text import TfidfVectorizer\n",
    "from sklearn.cluster import KMeans\n",
    "from sklearn.manifold import TSNE\n",
    "\n",
    "pd.set_option(\"display.max_columns\", None)\n",
    "np.random.seed(42)\n",
    "\n",
    "%matplotlib inline\n",
    "%config InlineBackend.figure_format = 'svg'"
   ],
   "metadata": {
    "collapsed": false,
    "pycharm": {
     "name": "#%%\n"
    }
   }
  },
  {
   "cell_type": "code",
   "execution_count": 2,
   "outputs": [],
   "source": [
    "import sys\n",
    "sys.path.append('./BGR')\n",
    "import bgr.soil.datasets as bgr_data\n",
    "import bgr.soil.models as bgr_mod\n",
    "from bgr.soil.callbacks import EarlyStopping\n",
    "from bgr.soil.metrics import top_k_accuracy, TopKLoss, DepthMarkerLoss"
   ],
   "metadata": {
    "collapsed": false,
    "pycharm": {
     "name": "#%%\n"
    }
   }
  },
  {
   "cell_type": "code",
   "execution_count": 3,
   "outputs": [],
   "source": [
    "path_csv = \"../data/BGR/data_horizons.csv\"\n",
    "path_csv_annotator_ids = '../data/BGR/Kartierer_ID.csv'\n",
    "path_csv_locations = '../data/BGR/STANDORT.csv'\n",
    "path_horizons_simple = '../data/BGR/Vereinfachung_Horizontsymbole.csv'\n",
    "path_pictures = \"../data/BGR/Profilbilder_no_ruler_no_sky/\"\n",
    "#path_pictures = \"../data/BGR/Horizonte/\""
   ],
   "metadata": {
    "collapsed": false,
    "pycharm": {
     "name": "#%%\n"
    }
   }
  },
  {
   "cell_type": "markdown",
   "source": [
    "### Data Loading"
   ],
   "metadata": {
    "collapsed": false
   }
  },
  {
   "cell_type": "code",
   "execution_count": 4,
   "outputs": [
    {
     "name": "stdout",
     "output_type": "stream",
     "text": [
      "15207\n",
      "15206\n"
     ]
    },
    {
     "data": {
      "text/plain": "        Point  HorizontID  Obergrenze  Untergrenze Horizontsymbol Bodenart  \\\n0         2.0         1.0         0.0         28.0          I; Ap      Sl2   \n1         2.0         2.0        28.0         54.0           I; E      Sl2   \n2         2.0         3.0        54.0         68.0         II; Bv      Sl2   \n3         2.0         4.0        68.0         96.0   III; Bv-ilCv     fSms   \n4         2.0         5.0        96.0        201.0      III; ilCv     mSfs   \n...       ...         ...         ...          ...            ...      ...   \n15201  6211.0         3.0        27.0         50.0      I; Bbh+Bs     fSms   \n15202  6211.0         4.0        50.0         70.0      I; Bbs+Bs     fSms   \n15203  6211.0         5.0        70.0        100.0      I; Go-Bbs     fSms   \n15204  6211.0         6.0       100.0        130.0          I; Go     fSms   \n15205  6211.0         7.0       130.0        155.0          I; Gr     fSms   \n\n      Bodenfarbe  Steine Karbonat Humusgehaltsklasse Durchwurzelung  \\\n0      7.5YR 3/2     3.0       C0                 h3            Wf4   \n1       10YR 3/3     3.0       C0                 h2            Wf3   \n2      7.5YR 4/3    10.0       C0                 h1            Wf3   \n3      7.5YR 6/4     1.0       C0                 h0            Wf2   \n4       10YR 7/4     1.0       C0                 h0            NaN   \n...          ...     ...      ...                ...            ...   \n15201    5YR 3/2     1.0       C0                 h2            Wf3   \n15202    5YR 4/3     1.0       C0                 h1            Wf2   \n15203  7.5YR 5/4     1.0       C0                 h1            Wf6   \n15204   2.5Y 6/4     1.0       C0                 h0            Wf4   \n15205   2.5Y 5/4     1.0       C0                 h0            Wf2   \n\n       Unnamed: 11 Bundesland  PointID  Unnamed: 14    profile  max_depth  \n0              NaN         SH      2.0          NaN  BB_0541.0      100.0  \n1              NaN         SH      3.0          NaN  BB_0600.0       90.0  \n2              NaN         SH      4.0          NaN  BB_0601.0      100.0  \n3              NaN         SH      5.0          NaN  BB_0659.0      100.0  \n4              NaN         SH      6.0          NaN  BB_0660.0      100.0  \n...            ...        ...      ...          ...        ...        ...  \n15201          NaN        NaN      NaN          NaN        NaN        NaN  \n15202          NaN        NaN      NaN          NaN        NaN        NaN  \n15203          NaN        NaN      NaN          NaN        NaN        NaN  \n15204          NaN        NaN      NaN          NaN        NaN        NaN  \n15205          NaN        NaN      NaN          NaN        NaN        NaN  \n\n[15206 rows x 17 columns]",
      "text/html": "<div>\n<style scoped>\n    .dataframe tbody tr th:only-of-type {\n        vertical-align: middle;\n    }\n\n    .dataframe tbody tr th {\n        vertical-align: top;\n    }\n\n    .dataframe thead th {\n        text-align: right;\n    }\n</style>\n<table border=\"1\" class=\"dataframe\">\n  <thead>\n    <tr style=\"text-align: right;\">\n      <th></th>\n      <th>Point</th>\n      <th>HorizontID</th>\n      <th>Obergrenze</th>\n      <th>Untergrenze</th>\n      <th>Horizontsymbol</th>\n      <th>Bodenart</th>\n      <th>Bodenfarbe</th>\n      <th>Steine</th>\n      <th>Karbonat</th>\n      <th>Humusgehaltsklasse</th>\n      <th>Durchwurzelung</th>\n      <th>Unnamed: 11</th>\n      <th>Bundesland</th>\n      <th>PointID</th>\n      <th>Unnamed: 14</th>\n      <th>profile</th>\n      <th>max_depth</th>\n    </tr>\n  </thead>\n  <tbody>\n    <tr>\n      <th>0</th>\n      <td>2.0</td>\n      <td>1.0</td>\n      <td>0.0</td>\n      <td>28.0</td>\n      <td>I; Ap</td>\n      <td>Sl2</td>\n      <td>7.5YR 3/2</td>\n      <td>3.0</td>\n      <td>C0</td>\n      <td>h3</td>\n      <td>Wf4</td>\n      <td>NaN</td>\n      <td>SH</td>\n      <td>2.0</td>\n      <td>NaN</td>\n      <td>BB_0541.0</td>\n      <td>100.0</td>\n    </tr>\n    <tr>\n      <th>1</th>\n      <td>2.0</td>\n      <td>2.0</td>\n      <td>28.0</td>\n      <td>54.0</td>\n      <td>I; E</td>\n      <td>Sl2</td>\n      <td>10YR 3/3</td>\n      <td>3.0</td>\n      <td>C0</td>\n      <td>h2</td>\n      <td>Wf3</td>\n      <td>NaN</td>\n      <td>SH</td>\n      <td>3.0</td>\n      <td>NaN</td>\n      <td>BB_0600.0</td>\n      <td>90.0</td>\n    </tr>\n    <tr>\n      <th>2</th>\n      <td>2.0</td>\n      <td>3.0</td>\n      <td>54.0</td>\n      <td>68.0</td>\n      <td>II; Bv</td>\n      <td>Sl2</td>\n      <td>7.5YR 4/3</td>\n      <td>10.0</td>\n      <td>C0</td>\n      <td>h1</td>\n      <td>Wf3</td>\n      <td>NaN</td>\n      <td>SH</td>\n      <td>4.0</td>\n      <td>NaN</td>\n      <td>BB_0601.0</td>\n      <td>100.0</td>\n    </tr>\n    <tr>\n      <th>3</th>\n      <td>2.0</td>\n      <td>4.0</td>\n      <td>68.0</td>\n      <td>96.0</td>\n      <td>III; Bv-ilCv</td>\n      <td>fSms</td>\n      <td>7.5YR 6/4</td>\n      <td>1.0</td>\n      <td>C0</td>\n      <td>h0</td>\n      <td>Wf2</td>\n      <td>NaN</td>\n      <td>SH</td>\n      <td>5.0</td>\n      <td>NaN</td>\n      <td>BB_0659.0</td>\n      <td>100.0</td>\n    </tr>\n    <tr>\n      <th>4</th>\n      <td>2.0</td>\n      <td>5.0</td>\n      <td>96.0</td>\n      <td>201.0</td>\n      <td>III; ilCv</td>\n      <td>mSfs</td>\n      <td>10YR 7/4</td>\n      <td>1.0</td>\n      <td>C0</td>\n      <td>h0</td>\n      <td>NaN</td>\n      <td>NaN</td>\n      <td>SH</td>\n      <td>6.0</td>\n      <td>NaN</td>\n      <td>BB_0660.0</td>\n      <td>100.0</td>\n    </tr>\n    <tr>\n      <th>...</th>\n      <td>...</td>\n      <td>...</td>\n      <td>...</td>\n      <td>...</td>\n      <td>...</td>\n      <td>...</td>\n      <td>...</td>\n      <td>...</td>\n      <td>...</td>\n      <td>...</td>\n      <td>...</td>\n      <td>...</td>\n      <td>...</td>\n      <td>...</td>\n      <td>...</td>\n      <td>...</td>\n      <td>...</td>\n    </tr>\n    <tr>\n      <th>15201</th>\n      <td>6211.0</td>\n      <td>3.0</td>\n      <td>27.0</td>\n      <td>50.0</td>\n      <td>I; Bbh+Bs</td>\n      <td>fSms</td>\n      <td>5YR 3/2</td>\n      <td>1.0</td>\n      <td>C0</td>\n      <td>h2</td>\n      <td>Wf3</td>\n      <td>NaN</td>\n      <td>NaN</td>\n      <td>NaN</td>\n      <td>NaN</td>\n      <td>NaN</td>\n      <td>NaN</td>\n    </tr>\n    <tr>\n      <th>15202</th>\n      <td>6211.0</td>\n      <td>4.0</td>\n      <td>50.0</td>\n      <td>70.0</td>\n      <td>I; Bbs+Bs</td>\n      <td>fSms</td>\n      <td>5YR 4/3</td>\n      <td>1.0</td>\n      <td>C0</td>\n      <td>h1</td>\n      <td>Wf2</td>\n      <td>NaN</td>\n      <td>NaN</td>\n      <td>NaN</td>\n      <td>NaN</td>\n      <td>NaN</td>\n      <td>NaN</td>\n    </tr>\n    <tr>\n      <th>15203</th>\n      <td>6211.0</td>\n      <td>5.0</td>\n      <td>70.0</td>\n      <td>100.0</td>\n      <td>I; Go-Bbs</td>\n      <td>fSms</td>\n      <td>7.5YR 5/4</td>\n      <td>1.0</td>\n      <td>C0</td>\n      <td>h1</td>\n      <td>Wf6</td>\n      <td>NaN</td>\n      <td>NaN</td>\n      <td>NaN</td>\n      <td>NaN</td>\n      <td>NaN</td>\n      <td>NaN</td>\n    </tr>\n    <tr>\n      <th>15204</th>\n      <td>6211.0</td>\n      <td>6.0</td>\n      <td>100.0</td>\n      <td>130.0</td>\n      <td>I; Go</td>\n      <td>fSms</td>\n      <td>2.5Y 6/4</td>\n      <td>1.0</td>\n      <td>C0</td>\n      <td>h0</td>\n      <td>Wf4</td>\n      <td>NaN</td>\n      <td>NaN</td>\n      <td>NaN</td>\n      <td>NaN</td>\n      <td>NaN</td>\n      <td>NaN</td>\n    </tr>\n    <tr>\n      <th>15205</th>\n      <td>6211.0</td>\n      <td>7.0</td>\n      <td>130.0</td>\n      <td>155.0</td>\n      <td>I; Gr</td>\n      <td>fSms</td>\n      <td>2.5Y 5/4</td>\n      <td>1.0</td>\n      <td>C0</td>\n      <td>h0</td>\n      <td>Wf2</td>\n      <td>NaN</td>\n      <td>NaN</td>\n      <td>NaN</td>\n      <td>NaN</td>\n      <td>NaN</td>\n      <td>NaN</td>\n    </tr>\n  </tbody>\n</table>\n<p>15206 rows × 17 columns</p>\n</div>"
     },
     "execution_count": 4,
     "metadata": {},
     "output_type": "execute_result"
    }
   ],
   "source": [
    "df = pd.read_csv(path_csv)\n",
    "print(len(df.index))\n",
    "df = df.dropna(subset=['Horizontsymbol'])\n",
    "print(len(df.index))\n",
    "df#.head()"
   ],
   "metadata": {
    "collapsed": false,
    "pycharm": {
     "name": "#%%\n"
    }
   }
  },
  {
   "cell_type": "code",
   "execution_count": 5,
   "outputs": [
    {
     "data": {
      "text/plain": "  Horiz  Anzahl im Datensatz relevanter Anteil stark vereinfacht\n0    Ap                 1762                Ap                Ap\n1    Bv                  626                Bv                Bv\n2  ilCv                  620               ilC                Cv\n3  elCv                  500               elC                Cv\n4    Ah                  455                Ah                Ah",
      "text/html": "<div>\n<style scoped>\n    .dataframe tbody tr th:only-of-type {\n        vertical-align: middle;\n    }\n\n    .dataframe tbody tr th {\n        vertical-align: top;\n    }\n\n    .dataframe thead th {\n        text-align: right;\n    }\n</style>\n<table border=\"1\" class=\"dataframe\">\n  <thead>\n    <tr style=\"text-align: right;\">\n      <th></th>\n      <th>Horiz</th>\n      <th>Anzahl im Datensatz</th>\n      <th>relevanter Anteil</th>\n      <th>stark vereinfacht</th>\n    </tr>\n  </thead>\n  <tbody>\n    <tr>\n      <th>0</th>\n      <td>Ap</td>\n      <td>1762</td>\n      <td>Ap</td>\n      <td>Ap</td>\n    </tr>\n    <tr>\n      <th>1</th>\n      <td>Bv</td>\n      <td>626</td>\n      <td>Bv</td>\n      <td>Bv</td>\n    </tr>\n    <tr>\n      <th>2</th>\n      <td>ilCv</td>\n      <td>620</td>\n      <td>ilC</td>\n      <td>Cv</td>\n    </tr>\n    <tr>\n      <th>3</th>\n      <td>elCv</td>\n      <td>500</td>\n      <td>elC</td>\n      <td>Cv</td>\n    </tr>\n    <tr>\n      <th>4</th>\n      <td>Ah</td>\n      <td>455</td>\n      <td>Ah</td>\n      <td>Ah</td>\n    </tr>\n  </tbody>\n</table>\n</div>"
     },
     "execution_count": 5,
     "metadata": {},
     "output_type": "execute_result"
    }
   ],
   "source": [
    "df_simple = pd.read_csv(path_horizons_simple)\n",
    "df_simple.rename(columns={\"relevanter Anteil = was sinntragend und detektierbar ist - es sind nicht alles gültige Symbole\": \"relevanter Anteil\"}, inplace=True)\n",
    "df_simple.head()"
   ],
   "metadata": {
    "collapsed": false,
    "pycharm": {
     "name": "#%%\n"
    }
   }
  },
  {
   "cell_type": "code",
   "execution_count": 6,
   "outputs": [
    {
     "data": {
      "text/plain": "        Point  HorizontID  Obergrenze  Untergrenze Horizontsymbol  \\\n0         2.0         1.0         0.0         28.0          I; Ap   \n1         2.0         2.0        28.0         54.0           I; E   \n2         2.0         3.0        54.0         68.0         II; Bv   \n3         2.0         4.0        68.0         96.0   III; Bv-ilCv   \n4         2.0         5.0        96.0        201.0      III; ilCv   \n...       ...         ...         ...          ...            ...   \n15201  6211.0         3.0        27.0         50.0      I; Bbh+Bs   \n15202  6211.0         4.0        50.0         70.0      I; Bbs+Bs   \n15203  6211.0         5.0        70.0        100.0      I; Go-Bbs   \n15204  6211.0         6.0       100.0        130.0          I; Go   \n15205  6211.0         7.0       130.0        155.0          I; Gr   \n\n      Horizontsymbol_relevant Bodenart Bodenfarbe  Steine Karbonat  \\\n0                          Ap      Sl2  7.5YR 3/2     3.0       C0   \n1                           E      Sl2   10YR 3/3     3.0       C0   \n2                          Bv      Sl2  7.5YR 4/3    10.0       C0   \n3                      Bv-ilC     fSms  7.5YR 6/4     1.0       C0   \n4                         ilC     mSfs   10YR 7/4     1.0       C0   \n...                       ...      ...        ...     ...      ...   \n15201                  Bbh+Bs     fSms    5YR 3/2     1.0       C0   \n15202                  Bbs+Bs     fSms    5YR 4/3     1.0       C0   \n15203                  Go-Bbs     fSms  7.5YR 5/4     1.0       C0   \n15204                      Go     fSms   2.5Y 6/4     1.0       C0   \n15205                      Gr     fSms   2.5Y 5/4     1.0       C0   \n\n      Humusgehaltsklasse Durchwurzelung  Unnamed: 11 Bundesland  PointID  \\\n0                     h3            Wf4          NaN         SH      2.0   \n1                     h2            Wf3          NaN         SH      3.0   \n2                     h1            Wf3          NaN         SH      4.0   \n3                     h0            Wf2          NaN         SH      5.0   \n4                     h0            NaN          NaN         SH      6.0   \n...                  ...            ...          ...        ...      ...   \n15201                 h2            Wf3          NaN        NaN      NaN   \n15202                 h1            Wf2          NaN        NaN      NaN   \n15203                 h1            Wf6          NaN        NaN      NaN   \n15204                 h0            Wf4          NaN        NaN      NaN   \n15205                 h0            Wf2          NaN        NaN      NaN   \n\n       Unnamed: 14    profile  max_depth  \n0              NaN  BB_0541.0      100.0  \n1              NaN  BB_0600.0       90.0  \n2              NaN  BB_0601.0      100.0  \n3              NaN  BB_0659.0      100.0  \n4              NaN  BB_0660.0      100.0  \n...            ...        ...        ...  \n15201          NaN        NaN        NaN  \n15202          NaN        NaN        NaN  \n15203          NaN        NaN        NaN  \n15204          NaN        NaN        NaN  \n15205          NaN        NaN        NaN  \n\n[15206 rows x 18 columns]",
      "text/html": "<div>\n<style scoped>\n    .dataframe tbody tr th:only-of-type {\n        vertical-align: middle;\n    }\n\n    .dataframe tbody tr th {\n        vertical-align: top;\n    }\n\n    .dataframe thead th {\n        text-align: right;\n    }\n</style>\n<table border=\"1\" class=\"dataframe\">\n  <thead>\n    <tr style=\"text-align: right;\">\n      <th></th>\n      <th>Point</th>\n      <th>HorizontID</th>\n      <th>Obergrenze</th>\n      <th>Untergrenze</th>\n      <th>Horizontsymbol</th>\n      <th>Horizontsymbol_relevant</th>\n      <th>Bodenart</th>\n      <th>Bodenfarbe</th>\n      <th>Steine</th>\n      <th>Karbonat</th>\n      <th>Humusgehaltsklasse</th>\n      <th>Durchwurzelung</th>\n      <th>Unnamed: 11</th>\n      <th>Bundesland</th>\n      <th>PointID</th>\n      <th>Unnamed: 14</th>\n      <th>profile</th>\n      <th>max_depth</th>\n    </tr>\n  </thead>\n  <tbody>\n    <tr>\n      <th>0</th>\n      <td>2.0</td>\n      <td>1.0</td>\n      <td>0.0</td>\n      <td>28.0</td>\n      <td>I; Ap</td>\n      <td>Ap</td>\n      <td>Sl2</td>\n      <td>7.5YR 3/2</td>\n      <td>3.0</td>\n      <td>C0</td>\n      <td>h3</td>\n      <td>Wf4</td>\n      <td>NaN</td>\n      <td>SH</td>\n      <td>2.0</td>\n      <td>NaN</td>\n      <td>BB_0541.0</td>\n      <td>100.0</td>\n    </tr>\n    <tr>\n      <th>1</th>\n      <td>2.0</td>\n      <td>2.0</td>\n      <td>28.0</td>\n      <td>54.0</td>\n      <td>I; E</td>\n      <td>E</td>\n      <td>Sl2</td>\n      <td>10YR 3/3</td>\n      <td>3.0</td>\n      <td>C0</td>\n      <td>h2</td>\n      <td>Wf3</td>\n      <td>NaN</td>\n      <td>SH</td>\n      <td>3.0</td>\n      <td>NaN</td>\n      <td>BB_0600.0</td>\n      <td>90.0</td>\n    </tr>\n    <tr>\n      <th>2</th>\n      <td>2.0</td>\n      <td>3.0</td>\n      <td>54.0</td>\n      <td>68.0</td>\n      <td>II; Bv</td>\n      <td>Bv</td>\n      <td>Sl2</td>\n      <td>7.5YR 4/3</td>\n      <td>10.0</td>\n      <td>C0</td>\n      <td>h1</td>\n      <td>Wf3</td>\n      <td>NaN</td>\n      <td>SH</td>\n      <td>4.0</td>\n      <td>NaN</td>\n      <td>BB_0601.0</td>\n      <td>100.0</td>\n    </tr>\n    <tr>\n      <th>3</th>\n      <td>2.0</td>\n      <td>4.0</td>\n      <td>68.0</td>\n      <td>96.0</td>\n      <td>III; Bv-ilCv</td>\n      <td>Bv-ilC</td>\n      <td>fSms</td>\n      <td>7.5YR 6/4</td>\n      <td>1.0</td>\n      <td>C0</td>\n      <td>h0</td>\n      <td>Wf2</td>\n      <td>NaN</td>\n      <td>SH</td>\n      <td>5.0</td>\n      <td>NaN</td>\n      <td>BB_0659.0</td>\n      <td>100.0</td>\n    </tr>\n    <tr>\n      <th>4</th>\n      <td>2.0</td>\n      <td>5.0</td>\n      <td>96.0</td>\n      <td>201.0</td>\n      <td>III; ilCv</td>\n      <td>ilC</td>\n      <td>mSfs</td>\n      <td>10YR 7/4</td>\n      <td>1.0</td>\n      <td>C0</td>\n      <td>h0</td>\n      <td>NaN</td>\n      <td>NaN</td>\n      <td>SH</td>\n      <td>6.0</td>\n      <td>NaN</td>\n      <td>BB_0660.0</td>\n      <td>100.0</td>\n    </tr>\n    <tr>\n      <th>...</th>\n      <td>...</td>\n      <td>...</td>\n      <td>...</td>\n      <td>...</td>\n      <td>...</td>\n      <td>...</td>\n      <td>...</td>\n      <td>...</td>\n      <td>...</td>\n      <td>...</td>\n      <td>...</td>\n      <td>...</td>\n      <td>...</td>\n      <td>...</td>\n      <td>...</td>\n      <td>...</td>\n      <td>...</td>\n      <td>...</td>\n    </tr>\n    <tr>\n      <th>15201</th>\n      <td>6211.0</td>\n      <td>3.0</td>\n      <td>27.0</td>\n      <td>50.0</td>\n      <td>I; Bbh+Bs</td>\n      <td>Bbh+Bs</td>\n      <td>fSms</td>\n      <td>5YR 3/2</td>\n      <td>1.0</td>\n      <td>C0</td>\n      <td>h2</td>\n      <td>Wf3</td>\n      <td>NaN</td>\n      <td>NaN</td>\n      <td>NaN</td>\n      <td>NaN</td>\n      <td>NaN</td>\n      <td>NaN</td>\n    </tr>\n    <tr>\n      <th>15202</th>\n      <td>6211.0</td>\n      <td>4.0</td>\n      <td>50.0</td>\n      <td>70.0</td>\n      <td>I; Bbs+Bs</td>\n      <td>Bbs+Bs</td>\n      <td>fSms</td>\n      <td>5YR 4/3</td>\n      <td>1.0</td>\n      <td>C0</td>\n      <td>h1</td>\n      <td>Wf2</td>\n      <td>NaN</td>\n      <td>NaN</td>\n      <td>NaN</td>\n      <td>NaN</td>\n      <td>NaN</td>\n      <td>NaN</td>\n    </tr>\n    <tr>\n      <th>15203</th>\n      <td>6211.0</td>\n      <td>5.0</td>\n      <td>70.0</td>\n      <td>100.0</td>\n      <td>I; Go-Bbs</td>\n      <td>Go-Bbs</td>\n      <td>fSms</td>\n      <td>7.5YR 5/4</td>\n      <td>1.0</td>\n      <td>C0</td>\n      <td>h1</td>\n      <td>Wf6</td>\n      <td>NaN</td>\n      <td>NaN</td>\n      <td>NaN</td>\n      <td>NaN</td>\n      <td>NaN</td>\n      <td>NaN</td>\n    </tr>\n    <tr>\n      <th>15204</th>\n      <td>6211.0</td>\n      <td>6.0</td>\n      <td>100.0</td>\n      <td>130.0</td>\n      <td>I; Go</td>\n      <td>Go</td>\n      <td>fSms</td>\n      <td>2.5Y 6/4</td>\n      <td>1.0</td>\n      <td>C0</td>\n      <td>h0</td>\n      <td>Wf4</td>\n      <td>NaN</td>\n      <td>NaN</td>\n      <td>NaN</td>\n      <td>NaN</td>\n      <td>NaN</td>\n      <td>NaN</td>\n    </tr>\n    <tr>\n      <th>15205</th>\n      <td>6211.0</td>\n      <td>7.0</td>\n      <td>130.0</td>\n      <td>155.0</td>\n      <td>I; Gr</td>\n      <td>Gr</td>\n      <td>fSms</td>\n      <td>2.5Y 5/4</td>\n      <td>1.0</td>\n      <td>C0</td>\n      <td>h0</td>\n      <td>Wf2</td>\n      <td>NaN</td>\n      <td>NaN</td>\n      <td>NaN</td>\n      <td>NaN</td>\n      <td>NaN</td>\n      <td>NaN</td>\n    </tr>\n  </tbody>\n</table>\n<p>15206 rows × 18 columns</p>\n</div>"
     },
     "execution_count": 6,
     "metadata": {},
     "output_type": "execute_result"
    }
   ],
   "source": [
    "# Add an extra column to the original dataset with the simplified horizon symbols\n",
    "\n",
    "# Apply the simplification function to each row of the 'Horizontsymbol' column\n",
    "col_name = \"relevanter Anteil\" # try to predict 'relevanter Anteil' first; otherwise, resort to 'stark vereinfacht'\n",
    "df['Horizontsymbol_relevant'] = df['Horizontsymbol'].apply(lambda x: bgr_data.simplify_string(x, df_simple, col_name))\n",
    "\n",
    "# Reorder the columns\n",
    "cols = df.columns.tolist()\n",
    "cols.insert(cols.index('Horizontsymbol') + 1, 'Horizontsymbol_relevant')\n",
    "cols.pop() # remove the duplicate at the end\n",
    "df = df[cols]\n",
    "df"
   ],
   "metadata": {
    "collapsed": false,
    "pycharm": {
     "name": "#%%\n"
    }
   }
  },
  {
   "cell_type": "markdown",
   "source": [
    "#### Join images and further tables"
   ],
   "metadata": {
    "collapsed": false
   }
  },
  {
   "cell_type": "code",
   "execution_count": 7,
   "outputs": [
    {
     "data": {
      "text/plain": "               file   Point\n0   BB_0896_Y_1.JPG   896.0\n1   BB_0903_Y_1.JPG   903.0\n2   BW_4930_Y_1.JPG  4930.0\n3   BW_5183_Y_1.JPG  5183.0\n4   BW_5462_Y_1.JPG  5462.0\n5   BY_3651_Y_1.JPG  3651.0\n6   BY_3934_Y_1.JPG  3934.0\n7   BY_3979_Y_1.JPG  3979.0\n8   BY_4039_Y_1.JPG  4039.0\n9   BY_4302_Y_1.JPG  4302.0\n10  BY_4360_Y_1.JPG  4360.0\n11  BY_4568_Y_1.JPG  4568.0\n12  BY_4895_Y_1.JPG  4895.0\n13  BY_4910_Y_1.JPG  4910.0\n14  BY_5439_Y_1.JPG  5439.0",
      "text/html": "<div>\n<style scoped>\n    .dataframe tbody tr th:only-of-type {\n        vertical-align: middle;\n    }\n\n    .dataframe tbody tr th {\n        vertical-align: top;\n    }\n\n    .dataframe thead th {\n        text-align: right;\n    }\n</style>\n<table border=\"1\" class=\"dataframe\">\n  <thead>\n    <tr style=\"text-align: right;\">\n      <th></th>\n      <th>file</th>\n      <th>Point</th>\n    </tr>\n  </thead>\n  <tbody>\n    <tr>\n      <th>0</th>\n      <td>BB_0896_Y_1.JPG</td>\n      <td>896.0</td>\n    </tr>\n    <tr>\n      <th>1</th>\n      <td>BB_0903_Y_1.JPG</td>\n      <td>903.0</td>\n    </tr>\n    <tr>\n      <th>2</th>\n      <td>BW_4930_Y_1.JPG</td>\n      <td>4930.0</td>\n    </tr>\n    <tr>\n      <th>3</th>\n      <td>BW_5183_Y_1.JPG</td>\n      <td>5183.0</td>\n    </tr>\n    <tr>\n      <th>4</th>\n      <td>BW_5462_Y_1.JPG</td>\n      <td>5462.0</td>\n    </tr>\n    <tr>\n      <th>5</th>\n      <td>BY_3651_Y_1.JPG</td>\n      <td>3651.0</td>\n    </tr>\n    <tr>\n      <th>6</th>\n      <td>BY_3934_Y_1.JPG</td>\n      <td>3934.0</td>\n    </tr>\n    <tr>\n      <th>7</th>\n      <td>BY_3979_Y_1.JPG</td>\n      <td>3979.0</td>\n    </tr>\n    <tr>\n      <th>8</th>\n      <td>BY_4039_Y_1.JPG</td>\n      <td>4039.0</td>\n    </tr>\n    <tr>\n      <th>9</th>\n      <td>BY_4302_Y_1.JPG</td>\n      <td>4302.0</td>\n    </tr>\n    <tr>\n      <th>10</th>\n      <td>BY_4360_Y_1.JPG</td>\n      <td>4360.0</td>\n    </tr>\n    <tr>\n      <th>11</th>\n      <td>BY_4568_Y_1.JPG</td>\n      <td>4568.0</td>\n    </tr>\n    <tr>\n      <th>12</th>\n      <td>BY_4895_Y_1.JPG</td>\n      <td>4895.0</td>\n    </tr>\n    <tr>\n      <th>13</th>\n      <td>BY_4910_Y_1.JPG</td>\n      <td>4910.0</td>\n    </tr>\n    <tr>\n      <th>14</th>\n      <td>BY_5439_Y_1.JPG</td>\n      <td>5439.0</td>\n    </tr>\n  </tbody>\n</table>\n</div>"
     },
     "execution_count": 7,
     "metadata": {},
     "output_type": "execute_result"
    }
   ],
   "source": [
    "# Read image dataset and add file path as extra column to df\n",
    "image_dataset = os.listdir(path_pictures)\n",
    "img_files = pd.DataFrame(image_dataset, columns=['file'])\n",
    "img_files['Point'] = img_files['file'].str.split(\"_\").map(lambda x: x[1]).astype(float) # for error 'list index out of range', delete @eaDir\n",
    "#img_files['HorizontID'] = img_files['file'].str.split('.').map(lambda x: x[0][-1]).astype(float) # uncomment only for segmented horizon patches\n",
    "img_files.head(15)"
   ],
   "metadata": {
    "collapsed": false,
    "pycharm": {
     "name": "#%%\n"
    }
   }
  },
  {
   "cell_type": "code",
   "execution_count": 8,
   "outputs": [
    {
     "name": "stdout",
     "output_type": "stream",
     "text": [
      "16316\n"
     ]
    },
    {
     "data": {
      "text/plain": "    Point  HorizontID  Obergrenze  Untergrenze Horizontsymbol  \\\n0     2.0         1.0         0.0         28.0          I; Ap   \n1     2.0         2.0        28.0         54.0           I; E   \n2     2.0         3.0        54.0         68.0         II; Bv   \n3     2.0         4.0        68.0         96.0   III; Bv-ilCv   \n4     2.0         5.0        96.0        201.0      III; ilCv   \n5     3.0         1.0         0.0         12.0     I; tbSw-Ah   \n6     3.0         2.0        12.0         30.0    I; tbSw-rAp   \n7     3.0         3.0        30.0         54.0    I; tbrGo-Sw   \n8     3.0         4.0        54.0        125.0     I; tbGo-Sd   \n9     3.0         5.0       125.0        160.0      II; tmGor   \n10    3.0         6.0       160.0        201.0      II; tmeGr   \n11    4.0         1.0         0.0         30.0     I; Sw-tbAp   \n12    4.0         2.0        30.0         74.0        I; tbSq   \n13    4.0         3.0        74.0        140.0       I; tbGro   \n14    4.0         4.0       140.0        200.0        I; tbGr   \n\n   Horizontsymbol_relevant Bodenart   Bodenfarbe  Steine Karbonat  \\\n0                       Ap      Sl2    7.5YR 3/2     3.0       C0   \n1                        E      Sl2     10YR 3/3     3.0       C0   \n2                       Bv      Sl2    7.5YR 4/3    10.0       C0   \n3                   Bv-ilC     fSms    7.5YR 6/4     1.0       C0   \n4                      ilC     mSfs     10YR 7/4     1.0       C0   \n5                   tSw-Ah      Ls3     10YR 4/2     0.0       C0   \n6                   tSw-Ap      Ls2     10YR 4/2     0.0       C0   \n7                   tGo-Sw      Ls4     2.5Y 5/1     0.0       C0   \n8                   tGo-Sd       Lu       5Y 5/1     0.0       C0   \n9                     tGor      Su3       5Y 5/1     0.0       C0   \n10                     tGr      Su3  GLEY1 4/5GY     0.0     C3.2   \n11                  Sw-tAp      Tu3       5Y 5/2     0.0       C0   \n12                     tSq      Tu3       5Y 5/1     0.0       C0   \n13                    tGro      Tu4       5Y 6/1     0.0       C0   \n14                     tGr      Tu4    GLEY1 5/N     0.0       C0   \n\n   Humusgehaltsklasse Durchwurzelung  Unnamed: 11 Bundesland  PointID  \\\n0                  h3            Wf4          NaN         SH      2.0   \n1                  h2            Wf3          NaN         SH      3.0   \n2                  h1            Wf3          NaN         SH      4.0   \n3                  h0            Wf2          NaN         SH      5.0   \n4                  h0            NaN          NaN         SH      6.0   \n5                  h3            Wf6          NaN         SH      7.0   \n6                  h2            Wf4          NaN         SH      8.0   \n7                  h1            Wf2          NaN         SH     10.0   \n8                  h1            NaN          NaN         SH     11.0   \n9                  h1            NaN          NaN         SH     12.0   \n10                 h1            NaN          NaN         SH     14.0   \n11                 h3            Wf4          NaN         SH     15.0   \n12                 h1            Wf3          NaN         SH     16.0   \n13                 h0            Wf1          NaN         SH     17.0   \n14                 h0            NaN          NaN         SH     18.0   \n\n    Unnamed: 14    profile  max_depth  \\\n0           NaN  BB_0541.0      100.0   \n1           NaN  BB_0600.0       90.0   \n2           NaN  BB_0601.0      100.0   \n3           NaN  BB_0659.0      100.0   \n4           NaN  BB_0660.0      100.0   \n5           NaN  BB_0661.0      100.0   \n6           NaN  BB_0662.0      100.0   \n7           NaN  BB_0663.0      100.0   \n8           NaN  BB_0718.0      100.0   \n9           NaN  BB_0720.0      110.0   \n10          NaN  BB_0721.0      100.0   \n11          NaN  BB_0722.0      100.0   \n12          NaN  BB_0723.0      100.0   \n13          NaN  BB_0725.0       90.0   \n14          NaN  BB_0781.0      100.0   \n\n                                                 file  \n0   ../data/BGR/Profilbilder_no_ruler_no_sky/SH_00...  \n1   ../data/BGR/Profilbilder_no_ruler_no_sky/SH_00...  \n2   ../data/BGR/Profilbilder_no_ruler_no_sky/SH_00...  \n3   ../data/BGR/Profilbilder_no_ruler_no_sky/SH_00...  \n4   ../data/BGR/Profilbilder_no_ruler_no_sky/SH_00...  \n5   ../data/BGR/Profilbilder_no_ruler_no_sky/SH_00...  \n6   ../data/BGR/Profilbilder_no_ruler_no_sky/SH_00...  \n7   ../data/BGR/Profilbilder_no_ruler_no_sky/SH_00...  \n8   ../data/BGR/Profilbilder_no_ruler_no_sky/SH_00...  \n9   ../data/BGR/Profilbilder_no_ruler_no_sky/SH_00...  \n10  ../data/BGR/Profilbilder_no_ruler_no_sky/SH_00...  \n11  ../data/BGR/Profilbilder_no_ruler_no_sky/SH_00...  \n12  ../data/BGR/Profilbilder_no_ruler_no_sky/SH_00...  \n13  ../data/BGR/Profilbilder_no_ruler_no_sky/SH_00...  \n14  ../data/BGR/Profilbilder_no_ruler_no_sky/SH_00...  ",
      "text/html": "<div>\n<style scoped>\n    .dataframe tbody tr th:only-of-type {\n        vertical-align: middle;\n    }\n\n    .dataframe tbody tr th {\n        vertical-align: top;\n    }\n\n    .dataframe thead th {\n        text-align: right;\n    }\n</style>\n<table border=\"1\" class=\"dataframe\">\n  <thead>\n    <tr style=\"text-align: right;\">\n      <th></th>\n      <th>Point</th>\n      <th>HorizontID</th>\n      <th>Obergrenze</th>\n      <th>Untergrenze</th>\n      <th>Horizontsymbol</th>\n      <th>Horizontsymbol_relevant</th>\n      <th>Bodenart</th>\n      <th>Bodenfarbe</th>\n      <th>Steine</th>\n      <th>Karbonat</th>\n      <th>Humusgehaltsklasse</th>\n      <th>Durchwurzelung</th>\n      <th>Unnamed: 11</th>\n      <th>Bundesland</th>\n      <th>PointID</th>\n      <th>Unnamed: 14</th>\n      <th>profile</th>\n      <th>max_depth</th>\n      <th>file</th>\n    </tr>\n  </thead>\n  <tbody>\n    <tr>\n      <th>0</th>\n      <td>2.0</td>\n      <td>1.0</td>\n      <td>0.0</td>\n      <td>28.0</td>\n      <td>I; Ap</td>\n      <td>Ap</td>\n      <td>Sl2</td>\n      <td>7.5YR 3/2</td>\n      <td>3.0</td>\n      <td>C0</td>\n      <td>h3</td>\n      <td>Wf4</td>\n      <td>NaN</td>\n      <td>SH</td>\n      <td>2.0</td>\n      <td>NaN</td>\n      <td>BB_0541.0</td>\n      <td>100.0</td>\n      <td>../data/BGR/Profilbilder_no_ruler_no_sky/SH_00...</td>\n    </tr>\n    <tr>\n      <th>1</th>\n      <td>2.0</td>\n      <td>2.0</td>\n      <td>28.0</td>\n      <td>54.0</td>\n      <td>I; E</td>\n      <td>E</td>\n      <td>Sl2</td>\n      <td>10YR 3/3</td>\n      <td>3.0</td>\n      <td>C0</td>\n      <td>h2</td>\n      <td>Wf3</td>\n      <td>NaN</td>\n      <td>SH</td>\n      <td>3.0</td>\n      <td>NaN</td>\n      <td>BB_0600.0</td>\n      <td>90.0</td>\n      <td>../data/BGR/Profilbilder_no_ruler_no_sky/SH_00...</td>\n    </tr>\n    <tr>\n      <th>2</th>\n      <td>2.0</td>\n      <td>3.0</td>\n      <td>54.0</td>\n      <td>68.0</td>\n      <td>II; Bv</td>\n      <td>Bv</td>\n      <td>Sl2</td>\n      <td>7.5YR 4/3</td>\n      <td>10.0</td>\n      <td>C0</td>\n      <td>h1</td>\n      <td>Wf3</td>\n      <td>NaN</td>\n      <td>SH</td>\n      <td>4.0</td>\n      <td>NaN</td>\n      <td>BB_0601.0</td>\n      <td>100.0</td>\n      <td>../data/BGR/Profilbilder_no_ruler_no_sky/SH_00...</td>\n    </tr>\n    <tr>\n      <th>3</th>\n      <td>2.0</td>\n      <td>4.0</td>\n      <td>68.0</td>\n      <td>96.0</td>\n      <td>III; Bv-ilCv</td>\n      <td>Bv-ilC</td>\n      <td>fSms</td>\n      <td>7.5YR 6/4</td>\n      <td>1.0</td>\n      <td>C0</td>\n      <td>h0</td>\n      <td>Wf2</td>\n      <td>NaN</td>\n      <td>SH</td>\n      <td>5.0</td>\n      <td>NaN</td>\n      <td>BB_0659.0</td>\n      <td>100.0</td>\n      <td>../data/BGR/Profilbilder_no_ruler_no_sky/SH_00...</td>\n    </tr>\n    <tr>\n      <th>4</th>\n      <td>2.0</td>\n      <td>5.0</td>\n      <td>96.0</td>\n      <td>201.0</td>\n      <td>III; ilCv</td>\n      <td>ilC</td>\n      <td>mSfs</td>\n      <td>10YR 7/4</td>\n      <td>1.0</td>\n      <td>C0</td>\n      <td>h0</td>\n      <td>NaN</td>\n      <td>NaN</td>\n      <td>SH</td>\n      <td>6.0</td>\n      <td>NaN</td>\n      <td>BB_0660.0</td>\n      <td>100.0</td>\n      <td>../data/BGR/Profilbilder_no_ruler_no_sky/SH_00...</td>\n    </tr>\n    <tr>\n      <th>5</th>\n      <td>3.0</td>\n      <td>1.0</td>\n      <td>0.0</td>\n      <td>12.0</td>\n      <td>I; tbSw-Ah</td>\n      <td>tSw-Ah</td>\n      <td>Ls3</td>\n      <td>10YR 4/2</td>\n      <td>0.0</td>\n      <td>C0</td>\n      <td>h3</td>\n      <td>Wf6</td>\n      <td>NaN</td>\n      <td>SH</td>\n      <td>7.0</td>\n      <td>NaN</td>\n      <td>BB_0661.0</td>\n      <td>100.0</td>\n      <td>../data/BGR/Profilbilder_no_ruler_no_sky/SH_00...</td>\n    </tr>\n    <tr>\n      <th>6</th>\n      <td>3.0</td>\n      <td>2.0</td>\n      <td>12.0</td>\n      <td>30.0</td>\n      <td>I; tbSw-rAp</td>\n      <td>tSw-Ap</td>\n      <td>Ls2</td>\n      <td>10YR 4/2</td>\n      <td>0.0</td>\n      <td>C0</td>\n      <td>h2</td>\n      <td>Wf4</td>\n      <td>NaN</td>\n      <td>SH</td>\n      <td>8.0</td>\n      <td>NaN</td>\n      <td>BB_0662.0</td>\n      <td>100.0</td>\n      <td>../data/BGR/Profilbilder_no_ruler_no_sky/SH_00...</td>\n    </tr>\n    <tr>\n      <th>7</th>\n      <td>3.0</td>\n      <td>3.0</td>\n      <td>30.0</td>\n      <td>54.0</td>\n      <td>I; tbrGo-Sw</td>\n      <td>tGo-Sw</td>\n      <td>Ls4</td>\n      <td>2.5Y 5/1</td>\n      <td>0.0</td>\n      <td>C0</td>\n      <td>h1</td>\n      <td>Wf2</td>\n      <td>NaN</td>\n      <td>SH</td>\n      <td>10.0</td>\n      <td>NaN</td>\n      <td>BB_0663.0</td>\n      <td>100.0</td>\n      <td>../data/BGR/Profilbilder_no_ruler_no_sky/SH_00...</td>\n    </tr>\n    <tr>\n      <th>8</th>\n      <td>3.0</td>\n      <td>4.0</td>\n      <td>54.0</td>\n      <td>125.0</td>\n      <td>I; tbGo-Sd</td>\n      <td>tGo-Sd</td>\n      <td>Lu</td>\n      <td>5Y 5/1</td>\n      <td>0.0</td>\n      <td>C0</td>\n      <td>h1</td>\n      <td>NaN</td>\n      <td>NaN</td>\n      <td>SH</td>\n      <td>11.0</td>\n      <td>NaN</td>\n      <td>BB_0718.0</td>\n      <td>100.0</td>\n      <td>../data/BGR/Profilbilder_no_ruler_no_sky/SH_00...</td>\n    </tr>\n    <tr>\n      <th>9</th>\n      <td>3.0</td>\n      <td>5.0</td>\n      <td>125.0</td>\n      <td>160.0</td>\n      <td>II; tmGor</td>\n      <td>tGor</td>\n      <td>Su3</td>\n      <td>5Y 5/1</td>\n      <td>0.0</td>\n      <td>C0</td>\n      <td>h1</td>\n      <td>NaN</td>\n      <td>NaN</td>\n      <td>SH</td>\n      <td>12.0</td>\n      <td>NaN</td>\n      <td>BB_0720.0</td>\n      <td>110.0</td>\n      <td>../data/BGR/Profilbilder_no_ruler_no_sky/SH_00...</td>\n    </tr>\n    <tr>\n      <th>10</th>\n      <td>3.0</td>\n      <td>6.0</td>\n      <td>160.0</td>\n      <td>201.0</td>\n      <td>II; tmeGr</td>\n      <td>tGr</td>\n      <td>Su3</td>\n      <td>GLEY1 4/5GY</td>\n      <td>0.0</td>\n      <td>C3.2</td>\n      <td>h1</td>\n      <td>NaN</td>\n      <td>NaN</td>\n      <td>SH</td>\n      <td>14.0</td>\n      <td>NaN</td>\n      <td>BB_0721.0</td>\n      <td>100.0</td>\n      <td>../data/BGR/Profilbilder_no_ruler_no_sky/SH_00...</td>\n    </tr>\n    <tr>\n      <th>11</th>\n      <td>4.0</td>\n      <td>1.0</td>\n      <td>0.0</td>\n      <td>30.0</td>\n      <td>I; Sw-tbAp</td>\n      <td>Sw-tAp</td>\n      <td>Tu3</td>\n      <td>5Y 5/2</td>\n      <td>0.0</td>\n      <td>C0</td>\n      <td>h3</td>\n      <td>Wf4</td>\n      <td>NaN</td>\n      <td>SH</td>\n      <td>15.0</td>\n      <td>NaN</td>\n      <td>BB_0722.0</td>\n      <td>100.0</td>\n      <td>../data/BGR/Profilbilder_no_ruler_no_sky/SH_00...</td>\n    </tr>\n    <tr>\n      <th>12</th>\n      <td>4.0</td>\n      <td>2.0</td>\n      <td>30.0</td>\n      <td>74.0</td>\n      <td>I; tbSq</td>\n      <td>tSq</td>\n      <td>Tu3</td>\n      <td>5Y 5/1</td>\n      <td>0.0</td>\n      <td>C0</td>\n      <td>h1</td>\n      <td>Wf3</td>\n      <td>NaN</td>\n      <td>SH</td>\n      <td>16.0</td>\n      <td>NaN</td>\n      <td>BB_0723.0</td>\n      <td>100.0</td>\n      <td>../data/BGR/Profilbilder_no_ruler_no_sky/SH_00...</td>\n    </tr>\n    <tr>\n      <th>13</th>\n      <td>4.0</td>\n      <td>3.0</td>\n      <td>74.0</td>\n      <td>140.0</td>\n      <td>I; tbGro</td>\n      <td>tGro</td>\n      <td>Tu4</td>\n      <td>5Y 6/1</td>\n      <td>0.0</td>\n      <td>C0</td>\n      <td>h0</td>\n      <td>Wf1</td>\n      <td>NaN</td>\n      <td>SH</td>\n      <td>17.0</td>\n      <td>NaN</td>\n      <td>BB_0725.0</td>\n      <td>90.0</td>\n      <td>../data/BGR/Profilbilder_no_ruler_no_sky/SH_00...</td>\n    </tr>\n    <tr>\n      <th>14</th>\n      <td>4.0</td>\n      <td>4.0</td>\n      <td>140.0</td>\n      <td>200.0</td>\n      <td>I; tbGr</td>\n      <td>tGr</td>\n      <td>Tu4</td>\n      <td>GLEY1 5/N</td>\n      <td>0.0</td>\n      <td>C0</td>\n      <td>h0</td>\n      <td>NaN</td>\n      <td>NaN</td>\n      <td>SH</td>\n      <td>18.0</td>\n      <td>NaN</td>\n      <td>BB_0781.0</td>\n      <td>100.0</td>\n      <td>../data/BGR/Profilbilder_no_ruler_no_sky/SH_00...</td>\n    </tr>\n  </tbody>\n</table>\n</div>"
     },
     "execution_count": 8,
     "metadata": {},
     "output_type": "execute_result"
    }
   ],
   "source": [
    "df = pd.merge(df, img_files, how='inner', on=['Point']) # for full images\n",
    "#df = pd.merge(df, img_files, how='inner', on=['Point', 'HorizontID']) # for patches\n",
    "df['file'] = df['file'].map(lambda x: os.path.join(path_pictures, x))\n",
    "print(len(df))\n",
    "df.head(15)"
   ],
   "metadata": {
    "collapsed": false,
    "pycharm": {
     "name": "#%%\n"
    }
   }
  },
  {
   "cell_type": "markdown",
   "source": [
    "**Note**: When merging with the image dataset, the total dataframe increases in size, because some soil pictures were taken from more than one angle. These are still not duplicates, although the table features are the same for every such image."
   ],
   "metadata": {
    "collapsed": false
   }
  },
  {
   "cell_type": "code",
   "execution_count": 9,
   "outputs": [],
   "source": [
    "# Join with annotator ids\n",
    "#df_k = pd.read_csv(path_csv_annotator_ids)\n",
    "#df_k = df_k.rename({'PointID':'Point'},axis=1)\n",
    "#df_k.head()"
   ],
   "metadata": {
    "collapsed": false,
    "pycharm": {
     "name": "#%%\n"
    }
   }
  },
  {
   "cell_type": "code",
   "execution_count": 10,
   "outputs": [],
   "source": [
    "#df = pd.merge(df, df_k, how='inner', on='Point')\n",
    "#len(df)"
   ],
   "metadata": {
    "collapsed": false,
    "pycharm": {
     "name": "#%%\n"
    }
   }
  },
  {
   "cell_type": "markdown",
   "source": [
    "**Note**: When joining with the annotator ids, the size of df decreases, since we don't have this id for every sample in the df."
   ],
   "metadata": {
    "collapsed": false
   }
  },
  {
   "cell_type": "code",
   "execution_count": 11,
   "outputs": [
    {
     "name": "stdout",
     "output_type": "stream",
     "text": [
      "3106\n"
     ]
    },
    {
     "data": {
      "text/plain": "  Point Bundesland  Probenahme_Monat  Probenahme_Jahr       xcoord  \\\n0     2         SH                11             2015  462216.1283   \n1     3         SH                 6             2016  480546.9384   \n2     4         SH                 8             2018  484922.3074   \n3     5         SH                10             2015  497355.9905   \n4     6         SH                10             2015  505020.3377   \n\n        ycoord Bodenklimaraum_Name Landnutzung BZE_Moor Hauptbodentyp  \\\n0  6079359.775       Marsch - Nord           A        0            YE   \n1  6079739.216       Marsch - Nord           G        0            MD   \n2  6080011.471       Marsch - Nord           A        0            MK   \n3  6079646.589       Marsch - Nord           G        0            RQ   \n4   6080401.37        Geest - Nord           G        0            YU   \n\n  BodenVarTypSub GrundwaStufe GrundwaStand  Moormaechtigkeit  \\\n0          YE/BB            0         >200               0.0   \n1            MDn         GWS4          135               0.0   \n2            MKn         GWS4          105               0.0   \n3     p2RQ/GG-PP         GWS4          180               0.0   \n4        aGGe-YU         GWS4          140               0.0   \n\n   Torfmaechtigkeit Neigung Exposition Woelbung Reliefformtyp LageImRelief  \\\n0               0.0      N0        NaN       GG             V            Z   \n1               0.0      N0        NaN       GG           TSF            Z   \n2               0.0      N1         NE       GG            TH            Z   \n3               0.0    N0.2         SS       GG           KSF            K   \n4               0.0      N0        NaN       GG           TSF            Z   \n\n   KV_0_30  KV_30_100  \n0    81.89      54.19  \n1    71.62      59.74  \n2    65.60     120.40  \n3    88.82     220.87  \n4    62.97      84.35  ",
      "text/html": "<div>\n<style scoped>\n    .dataframe tbody tr th:only-of-type {\n        vertical-align: middle;\n    }\n\n    .dataframe tbody tr th {\n        vertical-align: top;\n    }\n\n    .dataframe thead th {\n        text-align: right;\n    }\n</style>\n<table border=\"1\" class=\"dataframe\">\n  <thead>\n    <tr style=\"text-align: right;\">\n      <th></th>\n      <th>Point</th>\n      <th>Bundesland</th>\n      <th>Probenahme_Monat</th>\n      <th>Probenahme_Jahr</th>\n      <th>xcoord</th>\n      <th>ycoord</th>\n      <th>Bodenklimaraum_Name</th>\n      <th>Landnutzung</th>\n      <th>BZE_Moor</th>\n      <th>Hauptbodentyp</th>\n      <th>BodenVarTypSub</th>\n      <th>GrundwaStufe</th>\n      <th>GrundwaStand</th>\n      <th>Moormaechtigkeit</th>\n      <th>Torfmaechtigkeit</th>\n      <th>Neigung</th>\n      <th>Exposition</th>\n      <th>Woelbung</th>\n      <th>Reliefformtyp</th>\n      <th>LageImRelief</th>\n      <th>KV_0_30</th>\n      <th>KV_30_100</th>\n    </tr>\n  </thead>\n  <tbody>\n    <tr>\n      <th>0</th>\n      <td>2</td>\n      <td>SH</td>\n      <td>11</td>\n      <td>2015</td>\n      <td>462216.1283</td>\n      <td>6079359.775</td>\n      <td>Marsch - Nord</td>\n      <td>A</td>\n      <td>0</td>\n      <td>YE</td>\n      <td>YE/BB</td>\n      <td>0</td>\n      <td>&gt;200</td>\n      <td>0.0</td>\n      <td>0.0</td>\n      <td>N0</td>\n      <td>NaN</td>\n      <td>GG</td>\n      <td>V</td>\n      <td>Z</td>\n      <td>81.89</td>\n      <td>54.19</td>\n    </tr>\n    <tr>\n      <th>1</th>\n      <td>3</td>\n      <td>SH</td>\n      <td>6</td>\n      <td>2016</td>\n      <td>480546.9384</td>\n      <td>6079739.216</td>\n      <td>Marsch - Nord</td>\n      <td>G</td>\n      <td>0</td>\n      <td>MD</td>\n      <td>MDn</td>\n      <td>GWS4</td>\n      <td>135</td>\n      <td>0.0</td>\n      <td>0.0</td>\n      <td>N0</td>\n      <td>NaN</td>\n      <td>GG</td>\n      <td>TSF</td>\n      <td>Z</td>\n      <td>71.62</td>\n      <td>59.74</td>\n    </tr>\n    <tr>\n      <th>2</th>\n      <td>4</td>\n      <td>SH</td>\n      <td>8</td>\n      <td>2018</td>\n      <td>484922.3074</td>\n      <td>6080011.471</td>\n      <td>Marsch - Nord</td>\n      <td>A</td>\n      <td>0</td>\n      <td>MK</td>\n      <td>MKn</td>\n      <td>GWS4</td>\n      <td>105</td>\n      <td>0.0</td>\n      <td>0.0</td>\n      <td>N1</td>\n      <td>NE</td>\n      <td>GG</td>\n      <td>TH</td>\n      <td>Z</td>\n      <td>65.60</td>\n      <td>120.40</td>\n    </tr>\n    <tr>\n      <th>3</th>\n      <td>5</td>\n      <td>SH</td>\n      <td>10</td>\n      <td>2015</td>\n      <td>497355.9905</td>\n      <td>6079646.589</td>\n      <td>Marsch - Nord</td>\n      <td>G</td>\n      <td>0</td>\n      <td>RQ</td>\n      <td>p2RQ/GG-PP</td>\n      <td>GWS4</td>\n      <td>180</td>\n      <td>0.0</td>\n      <td>0.0</td>\n      <td>N0.2</td>\n      <td>SS</td>\n      <td>GG</td>\n      <td>KSF</td>\n      <td>K</td>\n      <td>88.82</td>\n      <td>220.87</td>\n    </tr>\n    <tr>\n      <th>4</th>\n      <td>6</td>\n      <td>SH</td>\n      <td>10</td>\n      <td>2015</td>\n      <td>505020.3377</td>\n      <td>6080401.37</td>\n      <td>Geest - Nord</td>\n      <td>G</td>\n      <td>0</td>\n      <td>YU</td>\n      <td>aGGe-YU</td>\n      <td>GWS4</td>\n      <td>140</td>\n      <td>0.0</td>\n      <td>0.0</td>\n      <td>N0</td>\n      <td>NaN</td>\n      <td>GG</td>\n      <td>TSF</td>\n      <td>Z</td>\n      <td>62.97</td>\n      <td>84.35</td>\n    </tr>\n  </tbody>\n</table>\n</div>"
     },
     "execution_count": 11,
     "metadata": {},
     "output_type": "execute_result"
    }
   ],
   "source": [
    "# Join with table containing geographical infos\n",
    "df_loc = pd.read_csv(path_csv_locations, encoding='unicode_escape')\n",
    "df_loc = df_loc.rename({'PointID':'Point'},axis=1)\n",
    "print(len(df_loc))\n",
    "df_loc.head()"
   ],
   "metadata": {
    "collapsed": false,
    "pycharm": {
     "name": "#%%\n"
    }
   }
  },
  {
   "cell_type": "code",
   "execution_count": 12,
   "outputs": [
    {
     "data": {
      "text/plain": "16316"
     },
     "execution_count": 12,
     "metadata": {},
     "output_type": "execute_result"
    }
   ],
   "source": [
    "# There are some string artifacts when reading the Standort dataframe. Set them to NaN and remove the rows\n",
    "df_loc['Point'] = pd.to_numeric(df_loc['Point'], errors='coerce')\n",
    "df_loc = df_loc.dropna(subset=['Point'])\n",
    "df = pd.merge(df, df_loc, how='inner', on='Point')\n",
    "len(df)"
   ],
   "metadata": {
    "collapsed": false,
    "pycharm": {
     "name": "#%%\n"
    }
   }
  },
  {
   "cell_type": "markdown",
   "source": [
    "**Note** Size of df stays the same after merging with df_loc (Points in df_loc are all contained in Points df)."
   ],
   "metadata": {
    "collapsed": false
   }
  },
  {
   "cell_type": "code",
   "execution_count": 13,
   "outputs": [
    {
     "data": {
      "text/plain": "        Point  Obergrenze  Untergrenze Horizontsymbol_relevant Bodenart  \\\n0         2.0         0.0         28.0                      Ap      Sl2   \n1         2.0        28.0         54.0                       E      Sl2   \n2         2.0        54.0         68.0                      Bv      Sl2   \n3         2.0        68.0         96.0                  Bv-ilC     fSms   \n4         2.0        96.0        201.0                     ilC     mSfs   \n...       ...         ...          ...                     ...      ...   \n16311  6211.0        70.0        100.0                  Go-Bbs     fSms   \n16312  6211.0       100.0        130.0                      Go     fSms   \n16313  6211.0       100.0        130.0                      Go     fSms   \n16314  6211.0       130.0        155.0                      Gr     fSms   \n16315  6211.0       130.0        155.0                      Gr     fSms   \n\n      Bodenfarbe  Steine Karbonat Humusgehaltsklasse Durchwurzelung  \\\n0      7.5YR 3/2     3.0       C0                 h3            Wf4   \n1       10YR 3/3     3.0       C0                 h2            Wf3   \n2      7.5YR 4/3    10.0       C0                 h1            Wf3   \n3      7.5YR 6/4     1.0       C0                 h0            Wf2   \n4       10YR 7/4     1.0       C0                 h0            NaN   \n...          ...     ...      ...                ...            ...   \n16311  7.5YR 5/4     1.0       C0                 h1            Wf6   \n16312   2.5Y 6/4     1.0       C0                 h0            Wf4   \n16313   2.5Y 6/4     1.0       C0                 h0            Wf4   \n16314   2.5Y 5/4     1.0       C0                 h0            Wf2   \n16315   2.5Y 5/4     1.0       C0                 h0            Wf2   \n\n                                                    file  Probenahme_Monat  \\\n0      ../data/BGR/Profilbilder_no_ruler_no_sky/SH_00...                11   \n1      ../data/BGR/Profilbilder_no_ruler_no_sky/SH_00...                11   \n2      ../data/BGR/Profilbilder_no_ruler_no_sky/SH_00...                11   \n3      ../data/BGR/Profilbilder_no_ruler_no_sky/SH_00...                11   \n4      ../data/BGR/Profilbilder_no_ruler_no_sky/SH_00...                11   \n...                                                  ...               ...   \n16311  ../data/BGR/Profilbilder_no_ruler_no_sky/NI_62...                 6   \n16312  ../data/BGR/Profilbilder_no_ruler_no_sky/NI_62...                 6   \n16313  ../data/BGR/Profilbilder_no_ruler_no_sky/NI_62...                 6   \n16314  ../data/BGR/Profilbilder_no_ruler_no_sky/NI_62...                 6   \n16315  ../data/BGR/Profilbilder_no_ruler_no_sky/NI_62...                 6   \n\n       Probenahme_Jahr       xcoord       ycoord  \\\n0                 2015  462216.1283  6079359.775   \n1                 2015  462216.1283  6079359.775   \n2                 2015  462216.1283  6079359.775   \n3                 2015  462216.1283  6079359.775   \n4                 2015  462216.1283  6079359.775   \n...                ...          ...          ...   \n16311             2012  522076.9633  5930456.114   \n16312             2012  522076.9633  5930456.114   \n16313             2012  522076.9633  5930456.114   \n16314             2012  522076.9633  5930456.114   \n16315             2012  522076.9633  5930456.114   \n\n                      Bodenklimaraum_Name Landnutzung BZE_Moor Hauptbodentyp  \\\n0                           Marsch - Nord           A        0            YE   \n1                           Marsch - Nord           A        0            YE   \n2                           Marsch - Nord           A        0            YE   \n3                           Marsch - Nord           A        0            YE   \n4                           Marsch - Nord           A        0            YE   \n...                                   ...         ...      ...           ...   \n16311  Elbe-Weser-Dreieck / sandige Böden           G        0            PP   \n16312  Elbe-Weser-Dreieck / sandige Böden           G        0            PP   \n16313  Elbe-Weser-Dreieck / sandige Böden           G        0            PP   \n16314  Elbe-Weser-Dreieck / sandige Böden           G        0            PP   \n16315  Elbe-Weser-Dreieck / sandige Böden           G        0            PP   \n\n      BodenVarTypSub GrundwaStufe  GrundwaStand  Moormaechtigkeit  \\\n0              YE/BB            0         200.0               0.0   \n1              YE/BB            0         200.0               0.0   \n2              YE/BB            0         200.0               0.0   \n3              YE/BB            0         200.0               0.0   \n4              YE/BB            0         200.0               0.0   \n...              ...          ...           ...               ...   \n16311          GG-PP         GWS4         110.0               0.0   \n16312          GG-PP         GWS4         110.0               0.0   \n16313          GG-PP         GWS4         110.0               0.0   \n16314          GG-PP         GWS4         110.0               0.0   \n16315          GG-PP         GWS4         110.0               0.0   \n\n       Torfmaechtigkeit Neigung Exposition Woelbung Reliefformtyp  \\\n0                   0.0      N0        NaN       GG             V   \n1                   0.0      N0        NaN       GG             V   \n2                   0.0      N0        NaN       GG             V   \n3                   0.0      N0        NaN       GG             V   \n4                   0.0      N0        NaN       GG             V   \n...                 ...     ...        ...      ...           ...   \n16311               0.0      N0        NaN       GG           TSF   \n16312               0.0      N0        NaN       GG           TSF   \n16313               0.0      N0        NaN       GG           TSF   \n16314               0.0      N0        NaN       GG           TSF   \n16315               0.0      N0        NaN       GG           TSF   \n\n      LageImRelief  KV_0_30  KV_30_100  \n0                Z    81.89      54.19  \n1                Z    81.89      54.19  \n2                Z    81.89      54.19  \n3                Z    81.89      54.19  \n4                Z    81.89      54.19  \n...            ...      ...        ...  \n16311            T   117.59      87.72  \n16312            T   117.59      87.72  \n16313            T   117.59      87.72  \n16314            T   117.59      87.72  \n16315            T   117.59      87.72  \n\n[16316 rows x 31 columns]",
      "text/html": "<div>\n<style scoped>\n    .dataframe tbody tr th:only-of-type {\n        vertical-align: middle;\n    }\n\n    .dataframe tbody tr th {\n        vertical-align: top;\n    }\n\n    .dataframe thead th {\n        text-align: right;\n    }\n</style>\n<table border=\"1\" class=\"dataframe\">\n  <thead>\n    <tr style=\"text-align: right;\">\n      <th></th>\n      <th>Point</th>\n      <th>Obergrenze</th>\n      <th>Untergrenze</th>\n      <th>Horizontsymbol_relevant</th>\n      <th>Bodenart</th>\n      <th>Bodenfarbe</th>\n      <th>Steine</th>\n      <th>Karbonat</th>\n      <th>Humusgehaltsklasse</th>\n      <th>Durchwurzelung</th>\n      <th>file</th>\n      <th>Probenahme_Monat</th>\n      <th>Probenahme_Jahr</th>\n      <th>xcoord</th>\n      <th>ycoord</th>\n      <th>Bodenklimaraum_Name</th>\n      <th>Landnutzung</th>\n      <th>BZE_Moor</th>\n      <th>Hauptbodentyp</th>\n      <th>BodenVarTypSub</th>\n      <th>GrundwaStufe</th>\n      <th>GrundwaStand</th>\n      <th>Moormaechtigkeit</th>\n      <th>Torfmaechtigkeit</th>\n      <th>Neigung</th>\n      <th>Exposition</th>\n      <th>Woelbung</th>\n      <th>Reliefformtyp</th>\n      <th>LageImRelief</th>\n      <th>KV_0_30</th>\n      <th>KV_30_100</th>\n    </tr>\n  </thead>\n  <tbody>\n    <tr>\n      <th>0</th>\n      <td>2.0</td>\n      <td>0.0</td>\n      <td>28.0</td>\n      <td>Ap</td>\n      <td>Sl2</td>\n      <td>7.5YR 3/2</td>\n      <td>3.0</td>\n      <td>C0</td>\n      <td>h3</td>\n      <td>Wf4</td>\n      <td>../data/BGR/Profilbilder_no_ruler_no_sky/SH_00...</td>\n      <td>11</td>\n      <td>2015</td>\n      <td>462216.1283</td>\n      <td>6079359.775</td>\n      <td>Marsch - Nord</td>\n      <td>A</td>\n      <td>0</td>\n      <td>YE</td>\n      <td>YE/BB</td>\n      <td>0</td>\n      <td>200.0</td>\n      <td>0.0</td>\n      <td>0.0</td>\n      <td>N0</td>\n      <td>NaN</td>\n      <td>GG</td>\n      <td>V</td>\n      <td>Z</td>\n      <td>81.89</td>\n      <td>54.19</td>\n    </tr>\n    <tr>\n      <th>1</th>\n      <td>2.0</td>\n      <td>28.0</td>\n      <td>54.0</td>\n      <td>E</td>\n      <td>Sl2</td>\n      <td>10YR 3/3</td>\n      <td>3.0</td>\n      <td>C0</td>\n      <td>h2</td>\n      <td>Wf3</td>\n      <td>../data/BGR/Profilbilder_no_ruler_no_sky/SH_00...</td>\n      <td>11</td>\n      <td>2015</td>\n      <td>462216.1283</td>\n      <td>6079359.775</td>\n      <td>Marsch - Nord</td>\n      <td>A</td>\n      <td>0</td>\n      <td>YE</td>\n      <td>YE/BB</td>\n      <td>0</td>\n      <td>200.0</td>\n      <td>0.0</td>\n      <td>0.0</td>\n      <td>N0</td>\n      <td>NaN</td>\n      <td>GG</td>\n      <td>V</td>\n      <td>Z</td>\n      <td>81.89</td>\n      <td>54.19</td>\n    </tr>\n    <tr>\n      <th>2</th>\n      <td>2.0</td>\n      <td>54.0</td>\n      <td>68.0</td>\n      <td>Bv</td>\n      <td>Sl2</td>\n      <td>7.5YR 4/3</td>\n      <td>10.0</td>\n      <td>C0</td>\n      <td>h1</td>\n      <td>Wf3</td>\n      <td>../data/BGR/Profilbilder_no_ruler_no_sky/SH_00...</td>\n      <td>11</td>\n      <td>2015</td>\n      <td>462216.1283</td>\n      <td>6079359.775</td>\n      <td>Marsch - Nord</td>\n      <td>A</td>\n      <td>0</td>\n      <td>YE</td>\n      <td>YE/BB</td>\n      <td>0</td>\n      <td>200.0</td>\n      <td>0.0</td>\n      <td>0.0</td>\n      <td>N0</td>\n      <td>NaN</td>\n      <td>GG</td>\n      <td>V</td>\n      <td>Z</td>\n      <td>81.89</td>\n      <td>54.19</td>\n    </tr>\n    <tr>\n      <th>3</th>\n      <td>2.0</td>\n      <td>68.0</td>\n      <td>96.0</td>\n      <td>Bv-ilC</td>\n      <td>fSms</td>\n      <td>7.5YR 6/4</td>\n      <td>1.0</td>\n      <td>C0</td>\n      <td>h0</td>\n      <td>Wf2</td>\n      <td>../data/BGR/Profilbilder_no_ruler_no_sky/SH_00...</td>\n      <td>11</td>\n      <td>2015</td>\n      <td>462216.1283</td>\n      <td>6079359.775</td>\n      <td>Marsch - Nord</td>\n      <td>A</td>\n      <td>0</td>\n      <td>YE</td>\n      <td>YE/BB</td>\n      <td>0</td>\n      <td>200.0</td>\n      <td>0.0</td>\n      <td>0.0</td>\n      <td>N0</td>\n      <td>NaN</td>\n      <td>GG</td>\n      <td>V</td>\n      <td>Z</td>\n      <td>81.89</td>\n      <td>54.19</td>\n    </tr>\n    <tr>\n      <th>4</th>\n      <td>2.0</td>\n      <td>96.0</td>\n      <td>201.0</td>\n      <td>ilC</td>\n      <td>mSfs</td>\n      <td>10YR 7/4</td>\n      <td>1.0</td>\n      <td>C0</td>\n      <td>h0</td>\n      <td>NaN</td>\n      <td>../data/BGR/Profilbilder_no_ruler_no_sky/SH_00...</td>\n      <td>11</td>\n      <td>2015</td>\n      <td>462216.1283</td>\n      <td>6079359.775</td>\n      <td>Marsch - Nord</td>\n      <td>A</td>\n      <td>0</td>\n      <td>YE</td>\n      <td>YE/BB</td>\n      <td>0</td>\n      <td>200.0</td>\n      <td>0.0</td>\n      <td>0.0</td>\n      <td>N0</td>\n      <td>NaN</td>\n      <td>GG</td>\n      <td>V</td>\n      <td>Z</td>\n      <td>81.89</td>\n      <td>54.19</td>\n    </tr>\n    <tr>\n      <th>...</th>\n      <td>...</td>\n      <td>...</td>\n      <td>...</td>\n      <td>...</td>\n      <td>...</td>\n      <td>...</td>\n      <td>...</td>\n      <td>...</td>\n      <td>...</td>\n      <td>...</td>\n      <td>...</td>\n      <td>...</td>\n      <td>...</td>\n      <td>...</td>\n      <td>...</td>\n      <td>...</td>\n      <td>...</td>\n      <td>...</td>\n      <td>...</td>\n      <td>...</td>\n      <td>...</td>\n      <td>...</td>\n      <td>...</td>\n      <td>...</td>\n      <td>...</td>\n      <td>...</td>\n      <td>...</td>\n      <td>...</td>\n      <td>...</td>\n      <td>...</td>\n      <td>...</td>\n    </tr>\n    <tr>\n      <th>16311</th>\n      <td>6211.0</td>\n      <td>70.0</td>\n      <td>100.0</td>\n      <td>Go-Bbs</td>\n      <td>fSms</td>\n      <td>7.5YR 5/4</td>\n      <td>1.0</td>\n      <td>C0</td>\n      <td>h1</td>\n      <td>Wf6</td>\n      <td>../data/BGR/Profilbilder_no_ruler_no_sky/NI_62...</td>\n      <td>6</td>\n      <td>2012</td>\n      <td>522076.9633</td>\n      <td>5930456.114</td>\n      <td>Elbe-Weser-Dreieck / sandige Böden</td>\n      <td>G</td>\n      <td>0</td>\n      <td>PP</td>\n      <td>GG-PP</td>\n      <td>GWS4</td>\n      <td>110.0</td>\n      <td>0.0</td>\n      <td>0.0</td>\n      <td>N0</td>\n      <td>NaN</td>\n      <td>GG</td>\n      <td>TSF</td>\n      <td>T</td>\n      <td>117.59</td>\n      <td>87.72</td>\n    </tr>\n    <tr>\n      <th>16312</th>\n      <td>6211.0</td>\n      <td>100.0</td>\n      <td>130.0</td>\n      <td>Go</td>\n      <td>fSms</td>\n      <td>2.5Y 6/4</td>\n      <td>1.0</td>\n      <td>C0</td>\n      <td>h0</td>\n      <td>Wf4</td>\n      <td>../data/BGR/Profilbilder_no_ruler_no_sky/NI_62...</td>\n      <td>6</td>\n      <td>2012</td>\n      <td>522076.9633</td>\n      <td>5930456.114</td>\n      <td>Elbe-Weser-Dreieck / sandige Böden</td>\n      <td>G</td>\n      <td>0</td>\n      <td>PP</td>\n      <td>GG-PP</td>\n      <td>GWS4</td>\n      <td>110.0</td>\n      <td>0.0</td>\n      <td>0.0</td>\n      <td>N0</td>\n      <td>NaN</td>\n      <td>GG</td>\n      <td>TSF</td>\n      <td>T</td>\n      <td>117.59</td>\n      <td>87.72</td>\n    </tr>\n    <tr>\n      <th>16313</th>\n      <td>6211.0</td>\n      <td>100.0</td>\n      <td>130.0</td>\n      <td>Go</td>\n      <td>fSms</td>\n      <td>2.5Y 6/4</td>\n      <td>1.0</td>\n      <td>C0</td>\n      <td>h0</td>\n      <td>Wf4</td>\n      <td>../data/BGR/Profilbilder_no_ruler_no_sky/NI_62...</td>\n      <td>6</td>\n      <td>2012</td>\n      <td>522076.9633</td>\n      <td>5930456.114</td>\n      <td>Elbe-Weser-Dreieck / sandige Böden</td>\n      <td>G</td>\n      <td>0</td>\n      <td>PP</td>\n      <td>GG-PP</td>\n      <td>GWS4</td>\n      <td>110.0</td>\n      <td>0.0</td>\n      <td>0.0</td>\n      <td>N0</td>\n      <td>NaN</td>\n      <td>GG</td>\n      <td>TSF</td>\n      <td>T</td>\n      <td>117.59</td>\n      <td>87.72</td>\n    </tr>\n    <tr>\n      <th>16314</th>\n      <td>6211.0</td>\n      <td>130.0</td>\n      <td>155.0</td>\n      <td>Gr</td>\n      <td>fSms</td>\n      <td>2.5Y 5/4</td>\n      <td>1.0</td>\n      <td>C0</td>\n      <td>h0</td>\n      <td>Wf2</td>\n      <td>../data/BGR/Profilbilder_no_ruler_no_sky/NI_62...</td>\n      <td>6</td>\n      <td>2012</td>\n      <td>522076.9633</td>\n      <td>5930456.114</td>\n      <td>Elbe-Weser-Dreieck / sandige Böden</td>\n      <td>G</td>\n      <td>0</td>\n      <td>PP</td>\n      <td>GG-PP</td>\n      <td>GWS4</td>\n      <td>110.0</td>\n      <td>0.0</td>\n      <td>0.0</td>\n      <td>N0</td>\n      <td>NaN</td>\n      <td>GG</td>\n      <td>TSF</td>\n      <td>T</td>\n      <td>117.59</td>\n      <td>87.72</td>\n    </tr>\n    <tr>\n      <th>16315</th>\n      <td>6211.0</td>\n      <td>130.0</td>\n      <td>155.0</td>\n      <td>Gr</td>\n      <td>fSms</td>\n      <td>2.5Y 5/4</td>\n      <td>1.0</td>\n      <td>C0</td>\n      <td>h0</td>\n      <td>Wf2</td>\n      <td>../data/BGR/Profilbilder_no_ruler_no_sky/NI_62...</td>\n      <td>6</td>\n      <td>2012</td>\n      <td>522076.9633</td>\n      <td>5930456.114</td>\n      <td>Elbe-Weser-Dreieck / sandige Böden</td>\n      <td>G</td>\n      <td>0</td>\n      <td>PP</td>\n      <td>GG-PP</td>\n      <td>GWS4</td>\n      <td>110.0</td>\n      <td>0.0</td>\n      <td>0.0</td>\n      <td>N0</td>\n      <td>NaN</td>\n      <td>GG</td>\n      <td>TSF</td>\n      <td>T</td>\n      <td>117.59</td>\n      <td>87.72</td>\n    </tr>\n  </tbody>\n</table>\n<p>16316 rows × 31 columns</p>\n</div>"
     },
     "execution_count": 13,
     "metadata": {},
     "output_type": "execute_result"
    }
   ],
   "source": [
    "# Decide on which columns to keep for training\n",
    "keep_columns = ['Point', #'HorizontID',\n",
    "                'Obergrenze', 'Untergrenze',\n",
    "                #'Horizontsymbol',\n",
    "                'Horizontsymbol_relevant',\n",
    "                #'Horizont_cluster',\n",
    "                'Bodenart', 'Bodenfarbe', 'Steine', 'Karbonat', 'Humusgehaltsklasse', 'Durchwurzelung',\n",
    "                #'max_depth', # not needed for training (and also has mostly NaNs)\n",
    "                'file',\n",
    "                #'Aufnehmer', # only when merged with annotators\n",
    "                'Probenahme_Monat', 'Probenahme_Jahr', 'xcoord', 'ycoord', 'Bodenklimaraum_Name',\n",
    "                'Landnutzung', 'BZE_Moor', 'Hauptbodentyp', 'BodenVarTypSub', 'GrundwaStufe', 'GrundwaStand', 'Moormaechtigkeit',\n",
    "                'Torfmaechtigkeit', 'Neigung', 'Exposition', 'Woelbung', 'Reliefformtyp', 'LageImRelief', 'KV_0_30', 'KV_30_100']\n",
    "df = df[keep_columns]\n",
    "df['GrundwaStand'] = df['GrundwaStand'].str.replace('>','').astype(float)\n",
    "df['ycoord'] = df['ycoord'].astype(float)\n",
    "df"
   ],
   "metadata": {
    "collapsed": false,
    "pycharm": {
     "name": "#%%\n"
    }
   }
  },
  {
   "cell_type": "code",
   "execution_count": 14,
   "outputs": [
    {
     "data": {
      "text/plain": "13621"
     },
     "execution_count": 14,
     "metadata": {},
     "output_type": "execute_result"
    }
   ],
   "source": [
    "# Profile images only show horizons up to ~1 meter depth\n",
    "# Note: Filter only necessary when joining table with whole images, not horizon segments\n",
    "df = df[df['Obergrenze'] < 100]\n",
    "len(df)"
   ],
   "metadata": {
    "collapsed": false,
    "pycharm": {
     "name": "#%%\n"
    }
   }
  },
  {
   "cell_type": "markdown",
   "source": [
    "#### Imputation"
   ],
   "metadata": {
    "collapsed": false
   }
  },
  {
   "cell_type": "code",
   "execution_count": 15,
   "outputs": [
    {
     "name": "stderr",
     "output_type": "stream",
     "text": [
      "/tmp/ipykernel_958336/1919224170.py:2: SettingWithCopyWarning: \n",
      "A value is trying to be set on a copy of a slice from a DataFrame.\n",
      "Try using .loc[row_indexer,col_indexer] = value instead\n",
      "\n",
      "See the caveats in the documentation: https://pandas.pydata.org/pandas-docs/stable/user_guide/indexing.html#returning-a-view-versus-a-copy\n",
      "  df['Steine'] = df['Steine'].fillna(0.0)\n",
      "/tmp/ipykernel_958336/1919224170.py:3: SettingWithCopyWarning: \n",
      "A value is trying to be set on a copy of a slice from a DataFrame.\n",
      "Try using .loc[row_indexer,col_indexer] = value instead\n",
      "\n",
      "See the caveats in the documentation: https://pandas.pydata.org/pandas-docs/stable/user_guide/indexing.html#returning-a-view-versus-a-copy\n",
      "  df['Durchwurzelung'] = df['Durchwurzelung'].fillna('Wf0')\n",
      "/tmp/ipykernel_958336/1919224170.py:4: SettingWithCopyWarning: \n",
      "A value is trying to be set on a copy of a slice from a DataFrame.\n",
      "Try using .loc[row_indexer,col_indexer] = value instead\n",
      "\n",
      "See the caveats in the documentation: https://pandas.pydata.org/pandas-docs/stable/user_guide/indexing.html#returning-a-view-versus-a-copy\n",
      "  df['Durchwurzelung'] = df['Durchwurzelung'].str.split(',').str[0] # Some values have double labels; only keep the first one\n",
      "/tmp/ipykernel_958336/1919224170.py:5: SettingWithCopyWarning: \n",
      "A value is trying to be set on a copy of a slice from a DataFrame.\n",
      "Try using .loc[row_indexer,col_indexer] = value instead\n",
      "\n",
      "See the caveats in the documentation: https://pandas.pydata.org/pandas-docs/stable/user_guide/indexing.html#returning-a-view-versus-a-copy\n",
      "  df['Exposition'] = df['Exposition'].replace(['0', '---'], 'KE') # KE = Keine\n"
     ]
    }
   ],
   "source": [
    "# Replace some of the missing values with recommendations from geology\n",
    "df['Steine'] = df['Steine'].fillna(0.0)\n",
    "df['Durchwurzelung'] = df['Durchwurzelung'].fillna('Wf0')\n",
    "df['Durchwurzelung'] = df['Durchwurzelung'].str.split(',').str[0] # Some values have double labels; only keep the first one\n",
    "df['Exposition'] = df['Exposition'].replace(['0', '---'], 'KE') # KE = Keine\n",
    "df.loc[df['Exposition'].isna() & (df['Neigung'] == 'N0'), 'Exposition'] = 'KE' # NaN-Exposition should be 'KE', when Neigung is N0 (there will still be some other NaNs in Exposition"
   ],
   "metadata": {
    "collapsed": false,
    "pycharm": {
     "name": "#%%\n"
    }
   }
  },
  {
   "cell_type": "markdown",
   "source": [
    "#### Features and Labels Encoding"
   ],
   "metadata": {
    "collapsed": false
   }
  },
  {
   "cell_type": "code",
   "execution_count": 16,
   "outputs": [],
   "source": [
    "target = 'Horizontsymbol_relevant' #'Horizont_cluster'\n",
    "num_features   = ['xcoord','ycoord', 'Steine', 'GrundwaStand', 'Moormaechtigkeit', 'Torfmaechtigkeit', 'KV_0_30', 'KV_30_100']\n",
    "categ_features = ['Probenahme_Monat', 'Probenahme_Jahr',\n",
    "                  'Bodenart', 'Bodenfarbe', 'Karbonat', 'Humusgehaltsklasse', 'Durchwurzelung', 'Bodenklimaraum_Name',\n",
    "                  'Landnutzung', 'BZE_Moor', 'Hauptbodentyp', 'BodenVarTypSub', 'GrundwaStufe', 'Neigung',\n",
    "                  'Exposition', 'Woelbung', 'Reliefformtyp', 'LageImRelief']\n",
    "feature_columns = num_features + categ_features"
   ],
   "metadata": {
    "collapsed": false,
    "pycharm": {
     "name": "#%%\n"
    }
   }
  },
  {
   "cell_type": "code",
   "execution_count": 17,
   "outputs": [
    {
     "data": {
      "text/plain": "Horizontsymbol_relevant\nAp         2399\nAh          742\nBv          546\nSd          483\nGo          403\n           ... \nBsh-Bv        1\nilC+Ap        1\nM-Gkso        1\naAh°Gor       1\naAcp2         1\nName: count, Length: 1568, dtype: int64"
     },
     "execution_count": 17,
     "metadata": {},
     "output_type": "execute_result"
    }
   ],
   "source": [
    "counts = df[target].value_counts()\n",
    "counts"
   ],
   "metadata": {
    "collapsed": false,
    "pycharm": {
     "name": "#%%\n"
    }
   }
  },
  {
   "cell_type": "code",
   "execution_count": 18,
   "outputs": [
    {
     "name": "stdout",
     "output_type": "stream",
     "text": [
      "(87, 61)\n"
     ]
    },
    {
     "data": {
      "text/plain": "{'ind2label': ['ilC',\n  'Ael',\n  'Sd',\n  'C.',\n  'imCv',\n  'E.',\n  'emC',\n  'cC',\n  'clC',\n  'ilCbtv',\n  'aelC',\n  'Cv',\n  'Bsh',\n  'Axh',\n  'Bhv',\n  'P.',\n  'Bvt',\n  'Acxh',\n  'Gro',\n  'iC',\n  'tGro',\n  'Go',\n  'Ap',\n  'Gw',\n  'Aep',\n  'cmC',\n  'imC',\n  'Ssw',\n  'Mc',\n  'Hw',\n  'Acp',\n  'mCv',\n  'Bv',\n  'Sswd',\n  'elC',\n  'lC',\n  'Aeh',\n  'Bhs',\n  'Cj',\n  'tGr',\n  'Axp',\n  'bE',\n  'Gr',\n  'Gkso',\n  'Gor',\n  'M.',\n  'Bsv',\n  'Sw',\n  'Bt',\n  'Bcv',\n  'Btv',\n  'Hr',\n  'Hv',\n  'elCc',\n  'Bs',\n  'R.',\n  'tGo',\n  'Bh',\n  'Ah',\n  'Cbtv',\n  'Al',\n  'Sw-Bv',\n  'Bv-ilC',\n  'Bt-Sd',\n  'Bv-Cv',\n  'Sd-ilC',\n  'Al-Sw',\n  'Al-Bv',\n  'M-Go',\n  'Ael-Bt',\n  'Ah-Bv',\n  'Sw-M',\n  'Sw-Ap',\n  'Bv-Ael',\n  'Go-ilC',\n  'elC-P',\n  'Sd-Bv',\n  'Sw-ilC',\n  'Al-Bt',\n  'Sw-Ah',\n  'P-Sd',\n  'Sd-lC',\n  'Sw-Go',\n  'Sw-Bt',\n  'Sd-Btv',\n  'Bv-elC',\n  'M-Gro'],\n 'label2ind': {'ilC': 0,\n  'Ael': 1,\n  'Sd': 2,\n  'C.': 3,\n  'imCv': 4,\n  'E.': 5,\n  'emC': 6,\n  'cC': 7,\n  'clC': 8,\n  'ilCbtv': 9,\n  'aelC': 10,\n  'Cv': 11,\n  'Bsh': 12,\n  'Axh': 13,\n  'Bhv': 14,\n  'P.': 15,\n  'Bvt': 16,\n  'Acxh': 17,\n  'Gro': 18,\n  'iC': 19,\n  'tGro': 20,\n  'Go': 21,\n  'Ap': 22,\n  'Gw': 23,\n  'Aep': 24,\n  'cmC': 25,\n  'imC': 26,\n  'Ssw': 27,\n  'Mc': 28,\n  'Hw': 29,\n  'Acp': 30,\n  'mCv': 31,\n  'Bv': 32,\n  'Sswd': 33,\n  'elC': 34,\n  'lC': 35,\n  'Aeh': 36,\n  'Bhs': 37,\n  'Cj': 38,\n  'tGr': 39,\n  'Axp': 40,\n  'bE': 41,\n  'Gr': 42,\n  'Gkso': 43,\n  'Gor': 44,\n  'M.': 45,\n  'Bsv': 46,\n  'Sw': 47,\n  'Bt': 48,\n  'Bcv': 49,\n  'Btv': 50,\n  'Hr': 51,\n  'Hv': 52,\n  'elCc': 53,\n  'Bs': 54,\n  'R.': 55,\n  'tGo': 56,\n  'Bh': 57,\n  'Ah': 58,\n  'Cbtv': 59,\n  'Al': 60,\n  'Sw-Bv': 61,\n  'Bv-ilC': 62,\n  'Bt-Sd': 63,\n  'Bv-Cv': 64,\n  'Sd-ilC': 65,\n  'Al-Sw': 66,\n  'Al-Bv': 67,\n  'M-Go': 68,\n  'Ael-Bt': 69,\n  'Ah-Bv': 70,\n  'Sw-M': 71,\n  'Sw-Ap': 72,\n  'Bv-Ael': 73,\n  'Go-ilC': 74,\n  'elC-P': 75,\n  'Sd-Bv': 76,\n  'Sw-ilC': 77,\n  'Al-Bt': 78,\n  'Sw-Ah': 79,\n  'P-Sd': 80,\n  'Sd-lC': 81,\n  'Sw-Go': 82,\n  'Sw-Bt': 83,\n  'Sd-Btv': 84,\n  'Bv-elC': 85,\n  'M-Gro': 86},\n 'embedding': array([[1.  , 0.  , 0.  , ..., 0.  , 0.  , 0.  ],\n        [0.  , 1.  , 0.  , ..., 0.  , 0.  , 0.  ],\n        [0.  , 0.  , 1.  , ..., 0.  , 0.  , 0.  ],\n        ...,\n        [0.  , 0.  , 0.5 , ..., 0.  , 0.  , 0.  ],\n        [0.25, 0.  , 0.  , ..., 0.  , 0.  , 0.  ],\n        [0.  , 0.  , 0.  , ..., 0.  , 0.  , 0.  ]])}"
     },
     "execution_count": 18,
     "metadata": {},
     "output_type": "execute_result"
    }
   ],
   "source": [
    "# If already computed, load the HCE embeddings for the labels (see Label_Graph.ipynb)\n",
    "with open('./BGR/label_embeddings/all_horizons_embeddings.pickle', 'rb') as handle:\n",
    "    emb_dict = pickle.load(handle)\n",
    "print(np.shape(emb_dict['embedding']))\n",
    "emb_dict"
   ],
   "metadata": {
    "collapsed": false,
    "pycharm": {
     "name": "#%%\n"
    }
   }
  },
  {
   "cell_type": "code",
   "execution_count": 19,
   "outputs": [
    {
     "data": {
      "text/plain": "{'ilC': 0,\n 'Ael': 1,\n 'Sd': 2,\n 'C': 3,\n 'imCv': 4,\n 'E': 5,\n 'emC': 6,\n 'cC': 7,\n 'clC': 8,\n 'ilCbtv': 9,\n 'aelC': 10,\n 'Cv': 11,\n 'Bsh': 12,\n 'Axh': 13,\n 'Bhv': 14,\n 'P': 15,\n 'Bvt': 16,\n 'Acxh': 17,\n 'Gro': 18,\n 'iC': 19,\n 'tGro': 20,\n 'Go': 21,\n 'Ap': 22,\n 'Gw': 23,\n 'Aep': 24,\n 'cmC': 25,\n 'imC': 26,\n 'Ssw': 27,\n 'Mc': 28,\n 'Hw': 29,\n 'Acp': 30,\n 'mCv': 31,\n 'Bv': 32,\n 'Sswd': 33,\n 'elC': 34,\n 'lC': 35,\n 'Aeh': 36,\n 'Bhs': 37,\n 'Cj': 38,\n 'tGr': 39,\n 'Axp': 40,\n 'bE': 41,\n 'Gr': 42,\n 'Gkso': 43,\n 'Gor': 44,\n 'M': 45,\n 'Bsv': 46,\n 'Sw': 47,\n 'Bt': 48,\n 'Bcv': 49,\n 'Btv': 50,\n 'Hr': 51,\n 'Hv': 52,\n 'elCc': 53,\n 'Bs': 54,\n 'R': 55,\n 'tGo': 56,\n 'Bh': 57,\n 'Ah': 58,\n 'Cbtv': 59,\n 'Al': 60,\n 'Sw-Bv': 61,\n 'Bv-ilC': 62,\n 'Bt-Sd': 63,\n 'Bv-Cv': 64,\n 'Sd-ilC': 65,\n 'Al-Sw': 66,\n 'Al-Bv': 67,\n 'M-Go': 68,\n 'Ael-Bt': 69,\n 'Ah-Bv': 70,\n 'Sw-M': 71,\n 'Sw-Ap': 72,\n 'Bv-Ael': 73,\n 'Go-ilC': 74,\n 'elC-P': 75,\n 'Sd-Bv': 76,\n 'Sw-ilC': 77,\n 'Al-Bt': 78,\n 'Sw-Ah': 79,\n 'P-Sd': 80,\n 'Sd-lC': 81,\n 'Sw-Go': 82,\n 'Sw-Bt': 83,\n 'Sd-Btv': 84,\n 'Bv-elC': 85,\n 'M-Gro': 86}"
     },
     "execution_count": 19,
     "metadata": {},
     "output_type": "execute_result"
    }
   ],
   "source": [
    "# For HCE: create separate dict where labels made out only of main symbols are stripped of the full stop '.'\n",
    "# Note: We will use the label indexes from the embedding dictionary instead of a new sparse one-hot encoding to ease access to the embedding vectors during training via the original indexes from the emb_dict\n",
    "dict_mapping = {}\n",
    "for key, value in emb_dict['label2ind'].items():\n",
    "    dict_mapping[key.strip('.')] = value\n",
    "dict_mapping"
   ],
   "metadata": {
    "collapsed": false,
    "pycharm": {
     "name": "#%%\n"
    }
   }
  },
  {
   "cell_type": "code",
   "execution_count": 20,
   "outputs": [
    {
     "name": "stderr",
     "output_type": "stream",
     "text": [
      "/tmp/ipykernel_958336/1744044841.py:2: SettingWithCopyWarning: \n",
      "A value is trying to be set on a copy of a slice from a DataFrame.\n",
      "Try using .loc[row_indexer,col_indexer] = value instead\n",
      "\n",
      "See the caveats in the documentation: https://pandas.pydata.org/pandas-docs/stable/user_guide/indexing.html#returning-a-view-versus-a-copy\n",
      "  df[target] = df[target].str.replace('+', '-', regex=False)\n",
      "/tmp/ipykernel_958336/1744044841.py:3: SettingWithCopyWarning: \n",
      "A value is trying to be set on a copy of a slice from a DataFrame.\n",
      "Try using .loc[row_indexer,col_indexer] = value instead\n",
      "\n",
      "See the caveats in the documentation: https://pandas.pydata.org/pandas-docs/stable/user_guide/indexing.html#returning-a-view-versus-a-copy\n",
      "  df[target] = df[target].str.replace('°', '-', regex=False) # also these, so that there is only one type of mixtures (the minus-mixture)\n",
      "/tmp/ipykernel_958336/1744044841.py:5: SettingWithCopyWarning: \n",
      "A value is trying to be set on a copy of a slice from a DataFrame.\n",
      "Try using .loc[row_indexer,col_indexer] = value instead\n",
      "\n",
      "See the caveats in the documentation: https://pandas.pydata.org/pandas-docs/stable/user_guide/indexing.html#returning-a-view-versus-a-copy\n",
      "  df[target] = df[target].str.replace(r'\\d+$', '', regex=True)\n"
     ]
    }
   ],
   "source": [
    "# Replace '+' with '-' in the target column (see Label_Graph.ipynb)\n",
    "df[target] = df[target].str.replace('+', '-', regex=False)\n",
    "df[target] = df[target].str.replace('°', '-', regex=False) # also these, so that there is only one type of mixtures (the minus-mixture)\n",
    "# Remove trailing numbers from the labels in the target column (they only account for how often the horizon is seen in the same picture)\n",
    "df[target] = df[target].str.replace(r'\\d+$', '', regex=True)"
   ],
   "metadata": {
    "collapsed": false,
    "pycharm": {
     "name": "#%%\n"
    }
   }
  },
  {
   "cell_type": "code",
   "execution_count": 21,
   "outputs": [
    {
     "data": {
      "text/plain": "{'Ap': 'Ap',\n 'E': 'E',\n 'Bv': 'Bv',\n 'Bv-ilC': 'Bv-ilC',\n 'ilC': 'ilC',\n 'tSw-Ah': 'Sw-Ah',\n 'tSw-Ap': 'Sw-Ap',\n 'tGo-Sw': 'tGo',\n 'tGo-Sd': 'tGo',\n 'Sw-tAp': 'Sw-Ap',\n 'tSq': 'Sd',\n 'tGro': 'tGro',\n 'Aeh': 'Aeh',\n 'Aep': 'Aep',\n 'oCv': 'Cv',\n 'fOh': 'Bsh',\n 'Ae': 'Ael',\n 'Bsh-Go': 'Bsh',\n 'Bs-Go': 'M-Go',\n 'R-Ah': 'Ah',\n 'R-Gso-Gr': 'Gor',\n 'R-Gr-Gso': 'M-Gro',\n 'R-Go-Gso': 'Gkso',\n 'tbSq': 'Sd',\n 'tGor': 'tGr',\n 'tAp-Go': 'tGo',\n 'Ah-ilCv': 'Bv-ilC',\n 'Aeh-Go': 'Aeh',\n 'Bs-Gw': 'Bsh',\n 'Go-Bhs': 'Bhs',\n 'Go-Ap': 'Sw-Ap',\n 'Go': 'Go',\n 'Gor': 'Gor',\n 'Gr': 'Gr',\n 'Gw': 'Gw',\n 'ilC-Bsh-Bs': 'ilC',\n 'Bhs-ilC': 'Bv-ilC',\n 'M': 'M',\n 'tAp': 'Ap',\n 'tGo': 'tGo',\n 'Hw': 'Hw',\n 'fnHr': 'Hr',\n 'tGo-Ap': 'tGo',\n 'Gro': 'Gro',\n 'Bh-Gw': 'Bhv',\n 'Bhs-Bs': 'Bhs',\n 'Bhs-Go': 'Bhs',\n 'Bhs': 'Bhs',\n 'Sw-Bs': 'Sw-Bv',\n 'Sd': 'Sd',\n 'Sw': 'Sw',\n 'Ap-Al': 'Ael',\n 'Bt-Sd': 'Bt-Sd',\n 'Al-Sw': 'Al-Sw',\n 'Ah': 'Ah',\n 'Swd': 'Sd',\n 'Bh-Aeh': 'Bv-Ael',\n 'Bsh': 'Bsh',\n 'Bs': 'Bs',\n 'Bbs-ilCv': 'Bv-ilC',\n 'Bbh-Bs-ilCv': 'Bv-ilC',\n 'Sd-Bv': 'Sd-Bv',\n 'Cv': 'Cv',\n 'ilC-Sw': 'Al-Sw',\n 'Bv-Sw': 'Bt-Sd',\n 'Sw-Al': 'Sw-Ap',\n 'Sd-Bt': 'Sd-Bv',\n 'tmeGo': 'tGo',\n 'Sw-Bhs-Ae': 'Sw-Bv',\n 'Bs-Sw': 'Bt-Sd',\n 'Bs-ilC': 'Bv-ilC',\n 'R-Go-Bsh': 'Bsh',\n 'Bv-Alh': 'Bv-ilC',\n 'Bvt': 'Bvt',\n 'Sw-Ap': 'Sw-Ap',\n 'Sd-Ap': 'Sw-Ap',\n 'Bv-Ah': 'Bv-Cv',\n 'ilC-Bv': 'ilCbtv',\n 'Bhs-Sw': 'Bhs',\n 'C-Ap': 'Ap',\n 'Bsv': 'Bsv',\n 'eSwd': 'Sd',\n 'Ap-Sw': 'Al-Sw',\n 'tGo-Ah': 'tGo',\n 'fnHw': 'Hw',\n 'Sw-ilC': 'Sw-ilC',\n 'Hv': 'Hv',\n 'Hr': 'Hr',\n 'Al': 'Al',\n 'Sw-M': 'Sw-M',\n 'Bv-Al': 'Bv-Ael',\n 'Bt': 'Bt',\n 'Axp': 'Axp',\n 'Axh': 'Axh',\n 'Axh-Sw': 'Al-Sw',\n 'elC': 'elC',\n 'Sd-lC': 'Sd-lC',\n 'Sd-ilC': 'Sd-ilC',\n 'tGr': 'tGr',\n 'tbGo': 'tGo',\n 'nHv': 'Hv',\n 'Swd-ilCv': 'Sd-ilC',\n 'Go-Aa': 'Go',\n 'Sdw-Bvt': 'Sw-Bv',\n 'Sw-Bv': 'Sw-Bv',\n 'Go-Ah': 'Sw-Ah',\n 'tbGor': 'tGr',\n 'tAh-Sd': 'Bt-Sd',\n 'Hv-Ah': 'Sw-Ah',\n 'lC-Hv': 'ilCbtv',\n 'tGr-Hr': 'tGro',\n 'toGr': 'tGr',\n 'Hm': 'Hw',\n 'Ha': 'Hw',\n 'Ae-Gw': 'Al-Sw',\n 'Ae-Bh-Gw': 'Aeh',\n 'Ah-Gr': 'Ah-Bv',\n 'Bsh-Gr': 'Bsh',\n 'R-Sw-Ap': 'Sw-Ap',\n 'R-Ah-Sw': 'Al-Sw',\n 'Go-Bs': 'Go',\n 'Ap-Swd': 'Al-Sw',\n 'M-Sw': 'Sw',\n 'Sw-Bt': 'Sw-Bt',\n 'Ap-Bt': 'Al-Bt',\n 'Aa': 'Ap',\n 'eSd': 'Sd',\n 'Ah-Go': 'M-Go',\n 'Al-Bv': 'Al-Bv',\n 'Btv': 'Btv',\n 'tSd-Go': 'Sw-Go',\n 'tSd-tGo': 'Sw-Go',\n 'Ahe': 'Ah',\n 'R-Ah-Bsh': 'Ah-Bv',\n 'ilCbtv': 'ilCbtv',\n 'Sw-Ah': 'Sw-Ah',\n 'Ah-Sd': 'Bt-Sd',\n 'P-Sd': 'P-Sd',\n 'Ah-Sw': 'Al-Sw',\n 'Sw-Bt-Al': 'Sw-Bt',\n 'Sw-Sd': 'Sw-Bv',\n 'Al-Bt-Swd': 'Bt-Sd',\n 'Bhv': 'Bhv',\n 'Bt-Al': 'Bt-Sd',\n 'tAh': 'Ah',\n 'Hv-Go': 'M-Go',\n 'Ae-Go': 'M-Go',\n 'Bh-Go': 'M-Go',\n 'Ae-Bh': 'Aeh',\n 'Bhs-Ssw': 'Ssw',\n 'hHv': 'Hv',\n 'Bbt-Bv': 'Btv',\n 'Bbt-ilC': 'Bv-ilC',\n 'Acp': 'Acp',\n 'Bt-Cv': 'Bv-Cv',\n 'Alh': 'Axh',\n 'Bh-Ae': 'Bv-Ael',\n 'Ae-Bs-Bh': 'Ael-Bt',\n 'Al-Bt': 'Al-Bt',\n 'lCv': 'Cv',\n 'Gho': 'Gro',\n 'Bs-ilCv': 'Bv-ilC',\n 'R': 'R',\n 'ilCv': 'ilC',\n 'M-Go': 'M-Go',\n 'Fr-Hw-Hr': 'Hw',\n 'Fr': 'Gr',\n 'R-Bhs': 'Bhs',\n 'Bbh': 'Bsh',\n 'Bv-M': 'Bvt',\n 'Ap-Al-Bv': 'Al-Bv',\n 'Sw-Btv': 'Sw-Bv',\n 'R-eSwd': 'P-Sd',\n 'Ah-Bv': 'Ah-Bv',\n 'Cbtv': 'Cbtv',\n 'ilC-Bbt': 'ilCbtv',\n 'Hp': 'Ap',\n 'Hca': 'cC',\n 'Hcw': 'Hw',\n 'Hcr': 'Hr',\n 'Ahl-Bv': 'Al-Bv',\n 'Ael': 'Ael',\n 'Ael-Bt': 'Ael-Bt',\n 'eAp': 'Ap',\n 'ijlCv': 'ilC',\n 'Go-Ahe': 'Go-ilC',\n 'Bt-Al-Sw': 'Al-Sw',\n 'Ahl': 'Ael',\n 'Sd-Btv': 'Sd-Btv',\n 'Bv-Ael-Sw': 'Bv-Ael',\n 'Ael-Sw': 'Al-Sw',\n 'lC': 'lC',\n 'Ht': 'Hw',\n 'fF': 'Sd',\n 'jeC': 'ilC',\n 'tGo-Ah-Sd': 'tGo',\n 'tAp-Sw': 'Al-Sw',\n 'nHr': 'Hr',\n 'Go-Sw': 'Al-Sw',\n 'H': 'C',\n 'F': 'C',\n 'oGr': 'tGr',\n 'Bs-Swd': 'Bt-Sd',\n 'R-ilC-Bhs': 'ilC',\n 'ilCv-Bs': 'ilC',\n 'Bv-Sd': 'Bt-Sd',\n 'Ael-Bv': 'Al-Bv',\n 'Ael-Bbt': 'Ael-Bt',\n 'Bt-Sdw': 'Bt-Sd',\n 'Bsh-Bv': 'Ah-Bv',\n 'R-Al': 'Al',\n 'C-Bbt': 'Bvt',\n 'Bbt-Al': 'Bt-Sd',\n 'lC-Bbt': 'Al-Bt',\n 'Al-Bv-Sw': 'Al-Sw',\n 'Swd-Bbt-Bv': 'Sd-Btv',\n 'Sd-Sw': 'Al-Sw',\n 'R-Ap': 'Ap',\n 'R-Aeh': 'Aeh',\n 'Gw-Bhs': 'Bhs',\n 'Bhs-Gw': 'Bhs',\n 'Hcv': 'Bcv',\n 'nHcr': 'Hr',\n 'rGo': 'Go',\n 'Fh': 'Bh',\n 'R-Ap-Ae-Bsh': 'Bsh',\n 'Go-Bsh': 'Bsh',\n 'Fr-Hw': 'Hw',\n 'Al-Swd': 'Al-Sw',\n 'Bv-Ael': 'Bv-Ael',\n 'R-Bs': 'Bs',\n 'tmzGr': 'tGr',\n 'Sw-Bsh': 'Sw-Bv',\n 'oC': 'C',\n 'Sw-Go': 'Sw-Go',\n 'Sd-Go': 'Sw-Go',\n 'eGro': 'Gro',\n 'Ctv-Sw': 'Bt-Sd',\n 'Ctv-Sd': 'Bt-Sd',\n 'Go-C': 'Go',\n 'eCv': 'Cv',\n 'Al-Bbt': 'Al-Bt',\n 'Bt-Ael': 'Bv-Ael',\n 'Bt-Sw-Al': 'Bt-Sd',\n 'Btv-Sd': 'Bt-Sd',\n 'tSq-Sw': 'Al-Sw',\n 'tAh-Go': 'tGo',\n 'Ahe-Bh-Bs': 'Ael-Bt',\n 'Bbs-Bsv-Bhs': 'Bsh',\n 'Sg-C': 'Sw-M',\n 'Bh': 'Bh',\n 'Go-Bv': 'Sw-Bv',\n 'hHw': 'Hw',\n 'nHw': 'Hw',\n 'C-Bbh-Bbs': 'Bhs',\n 'tGo-Sq': 'tGo',\n 'tAa': 'Ap',\n 'Go-Aeh': 'Aeh',\n 'Gmso': 'Gkso',\n 'Go-Swd': 'Bt-Sd',\n 'Bv-elC': 'Bv-elC',\n 'elCv': 'elC',\n 'Hcm': 'cC',\n 'Sdw-R': 'Sw-M',\n 'Bv-Bbt': 'Bvt',\n 'rnHv': 'Hv',\n 'Go-E': 'Go',\n 'Ae-Bhs': 'Aeh',\n 'Ht-Hv': 'Btv',\n 'Bs-Cv': 'Bv-Cv',\n 'Bs-Bh': 'Bsh',\n 'Ae-Aap': 'Aep',\n 'tpGo': 'tGo',\n 'Bvs': 'Bvt',\n 'enHr': 'Hr',\n 'Bv-Cv': 'Bv-Cv',\n 'Sw-Bv-Ael': 'Bv-Ael',\n 'Ap-Bv': 'Al-Bv',\n 'Al-Btv': 'Al-Bv',\n 'tSw-Sq': 'Sw-Bv',\n 'Aa-Go': 'M-Go',\n 'Gro-Go': 'Gro',\n 'Gor-Go': 'Gro',\n 'Go-Sd': 'Bt-Sd',\n 'F-Gw': 'Gw',\n 'Bv-Gw': 'Bv-Cv',\n 'Bh-Bs': 'Bhs',\n 'Ssw': 'Ssw',\n 'Bbt-Ael': 'Bv-Ael',\n 'Bbt-Cv-Bv': 'Bv-Cv',\n 'Ae-Bsh': 'Bsh',\n 'Bt-ilC': 'Bv-ilC',\n 'Bv-Go': 'Bv-Cv',\n 'Cv-Bv': 'Sw-Bv',\n 'Sw-Ael': 'Sw-Ap',\n 'Sd-lCc': 'Sd-lC',\n 'Swd-lCv': 'Sd-lC',\n 'tSw': 'Sw',\n 'Bv-Bh': 'Bv-Cv',\n 'Ap-Bsh': 'Bsh',\n 'Bsv-C': 'Bsv',\n 'jM': 'M',\n 'jM-jilCv': 'Bv-ilC',\n 'Go-ilC': 'Go-ilC',\n 'Ahe-Bh-Sw': 'Al-Sw',\n 'Bhsv': 'Bhv',\n 'Bbs': 'Bhs',\n 'Bt-Swd': 'Bt-Sd',\n 'Sdw-Ap': 'Sw-Ap',\n 'Sw-Cv': 'Sw-Bv',\n 'Gro-Sd': 'Gro',\n 'Bv-lCv': 'Bv-Cv',\n 'ilCv-Bt': 'Al-Bt',\n 'Sg-ilC': 'Sd-ilC',\n 'ilC-Go': 'ilC',\n 'Acxp': 'Acxh',\n 'elCc-Acxh': 'Acxh',\n 'elCc': 'elCc',\n 'eSw-lCv': 'Sw-Bv',\n 'Ah-Hv': 'Ah-Bv',\n 'jSw': 'Sw',\n 'Sd-Gor': 'Sw-Go',\n 'Ae-Bs-Go': 'Al-Bv',\n 'Sw-Bv-Cv': 'Sw-Bv',\n 'F-Go': 'M-Go',\n 'F-Gor': 'Gor',\n 'M-Ah': 'Ah',\n 'Aap': 'Ap',\n 'Sew': 'Ssw',\n 'Sd-Gkso': 'Gkso',\n 'Ahe-Bh': 'Ah-Bv',\n 'Bms': 'Bhs',\n 'Sw-Bhs': 'Sw-Bv',\n 'Aa-Bh': 'Al-Bv',\n 'Gmso-Bh': 'Gkso',\n 'Gso': 'Gro',\n 'aAh-Gor': 'Gor',\n 'ilC-Ap': 'ilC',\n 'Bs-Gso': 'M-Go',\n 'Ach': 'Axh',\n 'Acp-Gco': 'Acp',\n 'Gcro-Swd': 'Gro',\n 'Gco': 'Gro',\n 'Gcor': 'Gor',\n 'Sw-Axh': 'Sw-Ah',\n 'Axh-Swd': 'Al-Sw',\n 'Hcvm': 'Bcv',\n 'nHcv': 'Bcv',\n 'Bbh-Bbs-Bv': 'Ah-Bv',\n 'Bbh-Bbs-ilCv': 'Bv-ilC',\n 'Ahe-Ae': 'Ah-Bv',\n 'Go-Ae-Bsh': 'Bsh',\n 'Ae-Ap': 'Aep',\n 'lC-Bbs': 'lC',\n 'yGo-Ah': 'Sw-Ah',\n 'yGro': 'Gro',\n 'Ae-Bh-Bms': 'Ael-Bt',\n 'Bbs-Cv': 'Bv-Cv',\n 'rAep': 'Aep',\n 'Bhv-ilCv': 'Bv-ilC',\n 'Gkso': 'Gkso',\n 'aSw-M': 'Sw-M',\n 'Gkso-Gr': 'Gkso',\n 'Ah-Ahe-Bh': 'Ah-Bv',\n 'Go-Bsv-Bh': 'Bsh',\n 'R-Gr-H-Go': 'M-Gro',\n 'R-H-rGr-Go': 'M-Gro',\n 'R-Bh-Bs-Go': 'Bhs',\n 'Bhs-lC': 'Bhs',\n 'R-Bs-ilC-Ae': 'Bv-ilC',\n 'Bh-Bv': 'Ah-Bv',\n 'S-Ap': 'Sw-Ap',\n 'Sg-Ap': 'Sw-Ap',\n 'Sg-Bv': 'Sw-Bv',\n 'Go-Bv-Ctv': 'Bv-Cv',\n 'Ctv-Go': 'tGo',\n 'Swd-Bvt': 'Sw-Bv',\n 'Ael-Btv': 'Ael-Bt',\n 'Sw-Bt-ilCv': 'Sw-ilC',\n 'Sd-Bt-Ael': 'Bv-Ael',\n 'Bt-elCv': 'Bv-elC',\n 'Ael-M': 'Ael',\n 'R-Go-Bhs-Aa': 'Bhs',\n 'R-Gr': 'tGr',\n 'R-Go-rGr-H': 'Gor',\n 'jnHv': 'Hv',\n 'Hw-Gr': 'Sw-Go',\n 'C-M': 'C',\n 'Gkso-Bs': 'Gkso',\n 'R-Go-Hv': 'M-Go',\n 'R-Hv': 'Hv',\n 'R-Gr-Go-Hv': 'M-Gro',\n 'Cv-Sw': 'Al-Sw',\n 'Cv-Swd': 'Bt-Sd',\n 'Sw-Bv-ilC': 'Bv-ilC',\n 'Swd-ilCtv': 'Sd-ilC',\n 'Swd-elCc': 'Sd-ilC',\n 'Go-Bsv': 'Bsv',\n 'Go-Cbtv': 'ilCbtv',\n 'R-Go-Bs-Bh': 'Bsh',\n 'R-Bs-Bh-Ae': 'Bsh',\n 'H-Ah': 'Ah',\n 'H-Go': 'M-Go',\n 'H-Gro': 'M-Gro',\n 'aGr': 'tGr',\n 'aM': 'M',\n 'Go-lC': 'Go-ilC',\n 'Swd-Ap': 'Sw-Ap',\n 'aGo': 'Go',\n 'jAh': 'Ah',\n 'oGo': 'Go',\n 'Bv-Al-Sg': 'Bv-ilC',\n 'Bvt-Sg': 'Bt-Sd',\n 'Sg': 'Sd',\n 'Bv-Ctv': 'Bv-Cv',\n 'ilCtv': 'ilCbtv',\n 'Gcro': 'Gro',\n 'Bv-Gor': 'Gor',\n 'R-H-Go': 'M-Go',\n 'R-H-Bh-rGor': 'Gor',\n 'R-Gr-Hm': 'M-Gro',\n 'R-Gr-Hm-Go': 'M-Gro',\n 'R-Bh-Ae-Bs': 'Bv-Ael',\n 'Bsh-Bbs-Bbh': 'Bsh',\n 'ilC-Bbs-Bbh': 'ilCbtv',\n 'R-Bs-Aa-Bsh': 'Bsh',\n 'R-Ahe-Bh-Bs': 'Ael-Bt',\n 'Bbh-Go': 'M-Go',\n 'R-Sw-Ah': 'Sw-Ah',\n 'ilC-Bhs': 'ilC',\n 'R-Sw': 'Sw',\n 'Sd-Bvt': 'Sd-Bv',\n 'Bv-Bhs': 'Bhs',\n 'ilC-Bbs': 'ilC',\n 'ilC-Bbs-Bhs': 'ilCbtv',\n 'M-Sd': 'P-Sd',\n 'M-Sd-Go': 'M-Go',\n 'Bv-Ah-Go': 'Bv-Ael',\n 'Sw-Ael-Bv': 'Sw-Bv',\n 'Ah-Gw': 'Al-Sw',\n 'rGw': 'Gw',\n 'Gr-Hw': 'Gro',\n 'Gr-Hr': 'Gro',\n 'Bv-ilC-Go': 'Bv-ilC',\n 'R-hH-Go': 'M-Go',\n 'Fh-Gor': 'Gor',\n 'R-Go-H': 'M-Go',\n 'jaGo': 'Go',\n 'ilCv-Sd': 'ilC',\n 'M-Gro': 'M-Gro',\n 'M-Gor': 'M-Go',\n 'ailCv': 'ilC',\n 'A-Bv': 'Al-Bv',\n 'Gho-Bv-Al': 'Ah-Bv',\n 'Go-Bt': 'Al-Bt',\n 'Gcr-Go': 'Gro',\n 'Bvt-Ael': 'Bv-Ael',\n 'Go-Ctv': 'Bv-Cv',\n 'Bh-Ahe': 'Bv-Ael',\n 'Gw-Aap': 'Sw-Ap',\n 'Go-M': 'Go',\n 'Gor-Sd': 'Gor',\n 'Bhv-ilC': 'Bv-ilC',\n 'Sw-Bhv': 'Sw-Bv',\n 'Bv-Cbtv': 'Bv-Cv',\n 'Go-Bv-Ap': 'Sw-Bv',\n 'Fo': 'Go',\n 'Sw-M-Go': 'Sw-Go',\n 'Sd-M-Gro': 'M-Gro',\n 'R-H-Bs-ilC': 'Bv-ilC',\n 'R-Bh-Bhs-H': 'Bhs',\n 'R-Bh-Bs-Sw': 'Bhs',\n 'Ae-Hv': 'Al-Bv',\n 'Ah-ilC': 'Bv-ilC',\n 'Hv-ilC': 'Bv-ilC',\n 'Ael-Bt-Sd': 'Ael-Bt',\n 'Bbt-lCv': 'Bv-Cv',\n 'Gho-Bv': 'Ah-Bv',\n 'aAcp': 'Acp',\n 'aGco': 'Gro',\n 'Fw': 'Gw',\n 'jGo-M': 'Go',\n 'Gor-M': 'Gor',\n 'eM': 'M',\n 'Sdw-M-Go': 'Sw-Go',\n 'Sd-M-Go': 'M-Go',\n 'Hw-M-Go': 'M-Go',\n 'R-hH-Cv': 'Bv-Cv',\n 'R-C-H': 'elC-P',\n 'R-H-Gho': 'M-Go',\n 'R-Ae-Bhs-Gkso': 'Gkso',\n 'R-Bhs-Go': 'Bhs',\n 'R-Bsh-Ae': 'Bsh',\n 'Bh-Bs-ilC': 'Bv-ilC',\n 'R-Go-Hm': 'M-Go',\n 'Bhms': 'Bhs',\n 'Sdw-Bt-Ael': 'Bv-Ael',\n 'Swd-Ael-Bt': 'Ael-Bt',\n 'Swd-Ael-Bbt': 'Ael-Bt',\n 'renHv-rnHvp': 'Bv-Cv',\n 'M-Gr': 'M-Go',\n 'Sd-elC': 'Sd-ilC',\n 'jAp': 'Ap',\n 'eAh': 'Ah',\n 'aAp': 'Ap',\n 'aAh': 'Ah',\n 'Ghor': 'Gor',\n 'Fh-Fw': 'Al-Sw',\n 'Ghr': 'Gr',\n 'gE': 'E',\n 'Go-Bhv': 'Bhv',\n 'R-Bh-Bs-Ahe': 'Bsh',\n 'Bbh-ilC': 'Bv-ilC',\n 'Gw-ilC': 'Go-ilC',\n 'R-ilC-Bsh-Ahe': 'ilC',\n 'Bhs-Cv': 'Bv-Cv',\n 'Ae-Ahe': 'Aeh',\n 'Bhs-ilCv': 'Bv-ilC',\n 'R-Bh-Bv-Ah': 'Ah-Bv',\n 'R-Bv-Bhv-C': 'Bv-ilC',\n 'R-Bh-Ahe-Bs': 'Ah-Bv',\n 'F-Gr': 'tGr',\n 'ilC-Bt': 'Al-Bt',\n 'Go-Bbt': 'Go-ilC',\n 'Sg-Ap-Bv': 'Sw-Bv',\n 'Bv-ilCbtv': 'ilCbtv',\n 'Sg-elCc': 'elCc',\n 'Sg-elCv': 'Sd-ilC',\n 'Ah-Ae-Bhs': 'Ah-Bv',\n 'Bhs-lCv': 'Bv-Cv',\n 'Ahe-Go': 'M-Go',\n 'R-Bsh-Go': 'Bsh',\n 'R-Ae-Bhs-ilC': 'Bv-ilC',\n 'E-Al': 'Al',\n 'R-Go-Aa': 'M-Go',\n 'R-Ae-Bh': 'Aeh',\n 'R-gE': 'E',\n 'Bh-ilCv': 'Bv-ilC',\n 'Gr-Sd': 'Bt-Sd',\n 'Yr': 'Gr',\n 'fF-eGro': 'M-Gro',\n 'fFr': 'tGr',\n 'R-H-Go-Bs': 'M-Go',\n 'R-Go-Aeh-Bhs': 'Ael-Bt',\n 'R-Aeh-Bhs-Go': 'Ael-Bt',\n 'Bsh-rGo': 'Bsh',\n 'R-Go': 'M-Go',\n 'R-Gw-ilCv': 'Go-ilC',\n 'Bv-Bs': 'Bv-Cv',\n 'raeM-Go': 'M-Go',\n 'Bv-ilCv-Bbt': 'Bv-ilC',\n 'jSw-Ap': 'Sw-Ap',\n 'Sd-Ex': 'Sd-Bv',\n 'elCkc-Sd': 'elCc',\n 'R-Gr-Bh-Gso': 'M-Gro',\n 'R-Ap-Gro': 'M-Gro',\n 'Bv-imC': 'Bv-ilC',\n 'Cv-Sd': 'Bt-Sd',\n 'rGkso': 'Gkso',\n 'Gkso-Go': 'Gkso',\n 'R-Bv-Ap': 'Bv-Cv',\n 'Ap-Aeh': 'Aeh',\n 'Bh-Gmso': 'Bhs',\n 'Bt-Ael-Swd': 'Bt-Sd',\n 'aGso': 'Gro',\n 'aGro': 'Gro',\n 'Gso-Bv': 'Sw-Bv',\n 'Sd-Ael-Bt': 'Ael-Bt',\n 'Go-ilC-Bbt': 'Go-ilC',\n 'Ah-Swd': 'Al-Sw',\n 'bE': 'bE',\n 'bE-Go': 'M-Go',\n 'Bhv-Sw': 'Bhv',\n 'Go-gE': 'Go',\n 'P': 'P',\n 'ilC-Go-Ah': 'ilC',\n 'Fr-Gro': 'M-Gro',\n 'Fr-Gor': 'Gor',\n 'Fr-Gr': 'tGr',\n 'Ap-Go': 'M-Go',\n 'elC-Bbt': 'Ael-Bt',\n 'Ahe-Bhs': 'Ah-Bv',\n 'Bbhs': 'Bhs',\n 'Bbhs-Go': 'Bhs',\n 'Swd-elCv': 'Sd-ilC',\n 'cmC': 'cmC',\n 'raGo': 'Go',\n 'R-Go-Bs-Ae': 'M-Go',\n 'M-ilCv': 'ilC',\n 'Sdg': 'Sd',\n 'Sw-P': 'Sw-M',\n 'Sd-P': 'Sd',\n 'elC-P': 'elC-P',\n 'aM-Go': 'M-Go',\n 'Sdw': 'Sd',\n 'rAp': 'Ap',\n 'Bv-Gkso': 'Gkso',\n 'Sw-Al-Bv': 'Sw-Bv',\n 'elC-Axh': 'elC-P',\n 'Axh-elC': 'Bv-elC',\n 'Sw-elC': 'Sw-ilC',\n 'Al-Axh': 'Axh',\n 'Bv-Axh': 'Bv-Ael',\n 'Acxh': 'Acxh',\n 'elCc-Swd': 'elCc',\n 'ilC-Ael-Sw': 'Al-Sw',\n 'Go-Bv-Gr': 'Gor',\n 'Gro-Sg': 'Gro',\n 'R-Ae-Bs-Ap': 'Aep',\n 'R-Ah-Ae-Bs': 'Ah-Bv',\n 'Bv-Ap': 'Bv-Cv',\n 'R-E-Aa-Go': 'M-Go',\n 'Go-Bvs': 'Sw-Bv',\n 'Ah-Gro': 'M-Gro',\n 'Gkso-Gro': 'Gkso',\n 'H-Gkso-Gr': 'Gkso',\n 'Bj-Cv': 'Bv-Cv',\n 'Bh-Bcv': 'Ah-Bv',\n 'Bcv-elC': 'Bv-elC',\n 'elC-Sd': 'elC-P',\n 'clC': 'clC',\n 'lCv-Bcv': 'Bcv',\n 'lC-emC': 'emC',\n 'elC-emC': 'elC-P',\n 'elC-Acxh': 'Acxh',\n 'rGcro-elC': 'Go-ilC',\n 'eAcp': 'Acp',\n 'Sg-Bv-ilCv': 'Bv-ilC',\n 'Fh-Fo': 'M-Go',\n 'Ah-Sw-Ael': 'Al-Sw',\n 'Bt-Scdw': 'Bt-Sd',\n 'Scd': 'Sd',\n 'R-Bhs-Ap-Go': 'Bhs',\n 'R-Bh': 'Bh',\n 'ilC-Bsh': 'ilC',\n 'E-Go': 'M-Go',\n 'Go-ilC-Bhs': 'Go-ilC',\n 'Go-Sw-Sd': 'Sw-Bv',\n 'Bhs-Go-Sw': 'Bhs',\n 'Go-Sdw': 'Bt-Sd',\n 'Bt-Sw': 'Bt-Sd',\n 'imC': 'imC',\n 'Sdg-Bt': 'Sd-Bv',\n 'emC': 'emC',\n 'Swd-Axh': 'Sw-Ah',\n 'Go-Axh': 'Axh',\n 'Axh-Go': 'Axh',\n 'Bcv-Axh': 'Bv-Ael',\n 'R-Hv-Ah-ilCv': 'Bv-ilC',\n 'Go-Ael': 'Bv-Ael',\n 'Go-Bt-Ael': 'Bv-Ael',\n 'Btv-Ael': 'Bv-Ael',\n 'Gr-Go': 'Gro',\n 'R-Go-Ah': 'M-Go',\n 'Bms-Go': 'M-Go',\n 'R-Bsv': 'Bsv',\n 'Sd-Cv': 'Sd-Bv',\n 'Btv-ilC': 'Bv-ilC',\n 'Bcv-Tv': 'Bv-Cv',\n 'cC-Swd': 'Bt-Sd',\n 'Go-Acxh': 'Acxh',\n 'Ael-Sd-Bt': 'Ael-Bt',\n 'Ael-Ap': 'Ael-Bt',\n 'Bhs-Aeh': 'Bv-Ael',\n 'ilC-Bsv': 'ilCbtv',\n 'elCv-Bcv': 'elCc',\n 'R-E': 'E',\n 'Srd': 'Sd',\n 'gE-Go': 'M-Go',\n 'gbE-Ap': 'Sw-Ap',\n 'Aeh-Bsh': 'Ael-Bt',\n 'Ae-Bh-Bs': 'Ael-Bt',\n 'Al-Bvt': 'Al-Bv',\n 'jeM': 'Ael',\n 'Swd-lCv-Axh': 'Sw-Ah',\n 'Axh-M': 'Axh',\n 'Acxh-elCc': 'Acxh',\n 'elCc-Axh': 'elCc',\n 'aAxp': 'Axp',\n 'Sw-Bt-Sd': 'Bt-Sd',\n 'Bbt-Ael-Bv': 'Al-Bv',\n 'Sw-Bv-Bbt': 'Sw-Bv',\n 'Bbt': 'Bvt',\n 'rGo-ilCv': 'Go-ilC',\n 'Sg-Ael-Bt': 'Ael-Bt',\n 'Swd-lCv-Bbt': 'Sd-lC',\n 'ejCv': 'imCv',\n 'Go-ilCv-H': 'Go-ilC',\n 'aelC': 'aelC',\n 'Gkso-M': 'Gkso',\n 'Gkso-Go-Bhsv': 'Gkso',\n 'Sewd': 'Sswd',\n 'Sswd': 'Sswd',\n 'Go-Sw-E': 'Al-Sw',\n 'P-Cv-Swd': 'P-Sd',\n 'elC-Scd': 'elCc',\n 'Al-Ap': 'Al-Sw',\n 'Sd-Al-Bt': 'Al-Bt',\n 'mCv': 'mCv',\n 'Axh-Bv': 'Ah-Bv',\n 'Bv-elCc': 'Bv-elC',\n 'Axh-lC': 'Axh',\n 'Axh-ilCv-Sw': 'Al-Sw',\n 'Swd-Go-M': 'Sw-Go',\n 'Ah-M': 'Ah',\n 'jGo': 'Go',\n 'Aah-Gr': 'Ah-Bv',\n 'raAp': 'Ap',\n 'M-Gso': 'M-Go',\n 'raGr': 'tGr',\n 'eGo-Cv': 'Bv-Cv',\n 'eC-Go': 'M-Go',\n 'Sdw-Bv-Al': 'Sw-Bv',\n 'Go-Mc': 'Go',\n 'E-ilC': 'ilC',\n 'Bh-Sw': 'Bt-Sd',\n 'Swd-eCv': 'Sw-Bv',\n 'eC-Sd': 'Bt-Sd',\n 'Bt-Al-Bv': 'Al-Bv',\n 'Al-Bv-Bt': 'Al-Bv',\n 'M-Sdw': 'P-Sd',\n 'Sw-Ael-Bt': 'Ael-Bt',\n 'elC-Ap': 'elC-P',\n 'jeF': 'Ael',\n 'Bcv-Cc': 'Bv-Cv',\n 'Go-Cc-elCv': 'Go-ilC',\n 'Axh-Bv-elC': 'Bv-elC',\n 'eAxp': 'Axp',\n 'Sw-Bt-Ael': 'Bv-Ael',\n 'Sdw-Go': 'Sw-Go',\n 'H-Go-Ah': 'M-Go',\n 'ylC': 'ilC',\n 'Ae-Bhs-Go': 'Aeh',\n 'Ae-Bh-Go': 'Aeh',\n 'F-Gr-Gor': 'M-Gro',\n 'Sd-elCv': 'Sd-ilC',\n 'Ah-eC': 'Ah-Bv',\n 'C': 'C',\n 'elCv-Axh-Bv': 'Ah-Bv',\n 'Bcv': 'Bcv',\n 'Sg-Axh': 'Sw-Ah',\n 'Axh-Sg': 'Axh',\n 'Ael-Bv-Btv': 'Ael-Bt',\n 'elC-Bv': 'Al-Bv',\n 'Swd-lC': 'Sd-lC',\n 'M-Swd': 'P-Sd',\n 'Sw-Ah-Go': 'Sw-Ah',\n 'rSw-Go': 'Sw-Go',\n 'Sw-Gr': 'Sw-Go',\n 'Ap-Sw-ilCv': 'Sw-ilC',\n 'Sg-Bv-ilCbtv': 'ilCbtv',\n 'Sg-Al': 'Sw-Ap',\n 'Bhs-Ae': 'Bhs',\n 'Al-Bt-Sw': 'Al-Sw',\n 'Acp-Swd-Bv': 'Sw-Bv',\n 'Go-Bv-Swd': 'Bt-Sd',\n 'Bv-Tv': 'Bv-Cv',\n 'Tv-elC': 'Bv-elC',\n 'Ah-Cv': 'Ah-Bv',\n 'M-Bv': 'Bv',\n 'iC': 'iC',\n 'Axh-elCc': 'elCc',\n 'Alh-Bv': 'Al-Bv',\n 'Go-Swd-M': 'Sw-M',\n 'Swd-Go': 'Sw-Go',\n 'Gro-Swd': 'Gro',\n 'Gr-Sd-Go': 'Sw-Go',\n 'aeM': 'Ael',\n 'M-Al-Bv': 'Al-Bv',\n 'ilC-Sd': 'ilC',\n 'xCn': 'C',\n 'Bcv-lCc': 'Bv-ilC',\n 'Bcv-elCc': 'Bv-elC',\n 'elCc-Bcv': 'elCc',\n 'Mc': 'Mc',\n 'Sw-lC': 'Sw-ilC',\n 'Serw': 'Ssw',\n 'M-Gkso': 'Gkso',\n 'jilCv': 'ilC',\n 'Ap-E': 'Ap',\n 'Bv-Swd': 'Bt-Sd',\n 'Bt-Sg': 'Bt-Sd',\n 'iCv-Sd': 'Bt-Sd',\n 'Btv-Sdw': 'Bt-Sd',\n 'mcC': 'cC',\n 'Al-Bt-Sdw': 'Bt-Sd',\n 'mC': 'C',\n 'cmCv-elCv': 'Bv-elC',\n 'Cc-Bcv': 'Bcv',\n 'Bt-elC': 'Bv-elC',\n 'ilCn': 'ilC',\n 'Sg-M': 'Sw-M',\n 'rGr': 'tGr',\n 'Ahl-Bt': 'Ael-Bt',\n 'Sg-Bt': 'Sw-Bt',\n 'M-elC': 'aelC',\n 'Gkso-Gor': 'Gkso',\n 'R-Axh': 'Axh',\n 'Bt-elCc': 'Bv-elC',\n 'lCc-Sd': 'Bt-Sd',\n 'Sdw-Bt': 'Sw-Bt',\n 'Sw-Sd-Bt': 'Sw-Bt',\n 'Sg-Go': 'Sw-Go',\n 'Swd-Bt-ilC': 'Sd-ilC',\n 'Bt-lCv': 'Bv-Cv',\n 'Sd-M': 'Sw-M',\n 'elC-Go': 'elC-P',\n 'aeGo': 'aelC',\n 'rAxh': 'Axh',\n 'Bt-Axh': 'Axh',\n 'Bvt-Axh': 'Bv-Ael',\n 'eMc': 'Mc',\n 'R-Bvt': 'Bvt',\n 'ilC-Swd': 'Al-Sw',\n 'mCn': 'mCv',\n 'Swd-Bbt': 'Sw-Bt',\n 'imCv': 'imCv',\n 'eCv-Sw': 'Al-Sw',\n 'Sw-lCc': 'Sw-ilC',\n 'Gro-M': 'Gro',\n 'jeAp': 'Ap',\n 'jelC': 'aelC',\n 'elCn': 'elC',\n 'Sg-ilCv': 'Sd-ilC',\n 'Swd-M': 'Sw-M',\n 'jlCv': 'ilC',\n 'Btv-Sg': 'Bt-Sd',\n 'Al-Swd-Bt': 'Al-Sw',\n 'ilCv-Bv': 'ilCbtv',\n 'Sd-C': 'Sd-lC',\n 'Bv-mCv': 'Bv-Cv',\n 'Bv-iCv': 'Bv-Cv',\n 'M-Sw-Go': 'Sw-Go',\n 'Sw-Gro': 'Sw-Go',\n 'Swd-Gro': 'Sw-Go',\n 'aeSw-M': 'Sw-M',\n 'Axh-ilC': 'Bv-ilC',\n 'Axh-elCv': 'Ah-Bv',\n 'Ah-P': 'Ah',\n 'P-Axh': 'Axh',\n 'Axh-lCc': 'Axh',\n 'lCc': 'lC',\n 'jeSwd-lC': 'Sd-lC',\n 'Sg-Btv': 'Sd-Btv',\n 'M-Ap': 'Ap',\n 'lC-Bv': 'Sw-Bv',\n 'elC-eAh': 'elC-P',\n 'Axh-Bt': 'Ael-Bt',\n 'Swd-Axh-Bht': 'Sw-Ah',\n 'Ael-Swd': 'Al-Sw',\n 'Sg-Bvt-Al': 'Sw-Bv',\n 'Sg-Bvt': 'Sw-Bv',\n 'Swd-ilC': 'Sd-ilC',\n 'Btv-Swd': 'Bt-Sd',\n 'jilC': 'ilC',\n 'Bht': 'Bhv',\n 'Al-Bht': 'Al-Bt',\n 'Swd-C': 'Sw-M',\n 'sGo': 'Go',\n 'Srw': 'Ssw',\n 'Acxh-elCkc': 'Acxh',\n 'elCkc': 'elCc',\n 'ilC-Axh': 'ilC',\n 'Bv-Axh-ilCv': 'Bv-ilC',\n 'Axh-Bcv': 'Ah-Bv',\n 'Sw-Bht': 'Sw-Bt',\n 'Bvt-Al-Sdw': 'Bt-Sd',\n 'Bvt-Sd': 'Bt-Sd',\n 'Bv-ixCv': 'Bv-ilC',\n 'Bv-P': 'Bvt',\n 'lC-Bt': 'Al-Bt',\n 'Sdw-Bht': 'Sw-Bt',\n 'aeAxh': 'Axh',\n 'Ctv': 'Cv',\n 'ixCv': 'imCv',\n 'Sd-Bt-M': 'Sd-Btv',\n 'cmCn': 'cmC',\n 'exC': 'emC',\n 'Bv-Acxh': 'Acxh',\n 'M-ilC': 'ilC',\n 'Bht-Bv': 'Ah-Bv',\n 'xCv': 'Cv',\n 'Swd-Sw': 'Sw-Bv',\n 'ixCn': 'ilC',\n 'Swd-Bv-ilC': 'Bv-ilC',\n 'Sw-Hp': 'Sw-Ap',\n 'Sw-H-Serw': 'Sw-Bv',\n 'Bt-Bv-Cv': 'Bv-Cv',\n 'Bj-Sd': 'Bt-Sd',\n 'lC-Sd': 'Bt-Sd',\n 'Bv-Tv-cC': 'Bv-ilC',\n 'Tv-cC': 'cC',\n 'Tv-cCv': 'Bv-Cv',\n 'cxC': 'cC',\n 'Sw-ilCv': 'Sw-ilC',\n 'Al-Btv-Swd': 'Bt-Sd',\n 'Bt-Gco': 'tGro',\n 'Swd-P-Bv': 'Sw-Bv',\n 'Bfv': 'Bhv',\n 'aGo-M': 'Go',\n 'sSw': 'Sw',\n 'jC': 'C',\n 'Sw-Ah-Bv': 'Sw-Bv',\n 'Sd-Cj': 'Sd-Bv',\n 'Bhv-Cv': 'Bv-Cv',\n 'Bt-Sd-Sw': 'Bt-Sd',\n 'sSdw': 'Sd',\n 'ilC-Bt-Swd': 'Bt-Sd',\n 'Ah-exC': 'Ah-Bv',\n 'Cj': 'Cj',\n 'Go-Srw': 'Gor',\n 'Bv-P-ilC': 'Bv-ilC',\n 'Sd-ilCv': 'Sd-ilC',\n 'sSwd': 'Sd',\n 'aSg-M': 'Sw-M',\n 'Bv-Tcv-elC': 'Bv-elC',\n 'Bfv-Sw-ilC': 'Bv-ilC',\n 'P-Bv': 'Bv',\n 'P-ilC': 'ilC',\n 'Bj': 'Bv',\n 'ilCv-Cj': 'ilC',\n 'Sdw-M': 'Sw-M',\n 'lCv-sGo': 'M-Go',\n 'Ap-Bv-ilCv': 'Bv-ilC',\n 'Gw-M': 'Sw-M',\n 'Btv-Sw': 'Bt-Sd',\n 'yilCv': 'ilC',\n 'Yr-Bv': 'Sw-Bv',\n 'Cj-ilCv': 'Bv-ilC',\n 'Sw-Bv-P': 'Sw-Bv',\n 'M-Sew': 'Ssw',\n 'Swd-Cj': 'Sw-Bv',\n 'Sd-Gco': 'Sw-Go',\n 'Btv-lCv': 'Bv-Cv',\n 'Sdg-Bv': 'Sd-Bv',\n 'P-Sw': 'P-Sd',\n 'Bv-P-Sd': 'Bt-Sd',\n 'lCv-Bv': 'Sw-Bv',\n 'Sew-M': 'Sw-M',\n 'Acxh-Al': 'Acxh',\n 'Acxh-Bt': 'Acxh',\n 'ilC-P': 'elC-P',\n 'Sw-Bv-Sd': 'Sw-Bv',\n 'Cj-Cv': 'Bv-Cv',\n 'Sw-lCv': 'Sw-Bv',\n 'Acp-Bcv-cC': 'Al-Bv',\n 'cC': 'cC',\n 'aeAp': 'aelC',\n 'Bv-eC': 'Bv-elC',\n 'emCn': 'emC',\n 'Ah-Bv-cCv': 'Bv-Cv',\n 'Sdw-Ah': 'Sw-Ah',\n 'arGo-P-Sd': 'P-Sd',\n 'M-P-Axh': 'Axh',\n 'aeAh-P': 'elC-P',\n 'elC-Bvt': 'Al-Bv',\n 'eCc': 'elCc',\n 'Bv-Ah-eCv': 'Bv-Cv',\n 'Bv-eCv': 'Bv-Cv',\n 'Tv': 'Cv',\n 'P-Srd': 'P-Sd',\n 'Swd-Cj-lC': 'Sd-ilC',\n 'eSg-lCv': 'Sd-lC',\n 'elCv-Sg': 'elC-P',\n 'Acp-elC-Bcv': 'Al-Bv',\n 'Bv-cCv': 'Bv-Cv',\n 'Acp-P': 'Acp',\n 'P-elCv': 'aelC',\n 'elCv-P': 'elC-P',\n 'ixC': 'ilC',\n 'aeMc': 'aelC',\n 'lC-cmC': 'cmC',\n 'Go-P': 'Go',\n 'Sd-Bt-R': 'Sd-Btv',\n 'eC': 'C',\n 'lCv-Sw': 'Al-Sw',\n 'elC-Tv': 'elC-P',\n 'eAh-P': 'elC-P',\n 'P-lC': 'ilC',\n 'Sw-Tv': 'Sw-Bv',\n 'Tv-Sw': 'Al-Sw',\n 'Tv-Swd': 'Bt-Sd',\n 'Al-Swd-Btv': 'Sd-Btv',\n 'Swd-fBj': 'Sw-Bv',\n 'Al-Sd-Bt': 'Al-Bt',\n 'Ckc': 'C',\n 'fBj-Sd': 'Bt-Sd',\n 'Tv-eCv': 'Bv-Cv',\n 'Ap-Sew': 'Al-Sw',\n 'aM-Gro': 'M-Gro',\n 'Sdw-C': 'Sw-M',\n 'Acp-clC': 'clC',\n 'Cc': 'C',\n 'Swd-Bv': 'Sw-Bv',\n 'Sdw-ilCv': 'Sd-ilC',\n 'Ah-Bv-elC': 'Bv-elC',\n 'ilC-Swd-Bv': 'Sw-Bv',\n 'elC-cmC': 'elCc',\n 'Sd-iC': 'Sd-ilC',\n 'Bv-C': 'Bv-Cv',\n ...}"
     },
     "execution_count": 21,
     "metadata": {},
     "output_type": "execute_result"
    }
   ],
   "source": [
    "# Map rare labels to frequent labels via Levenshtein distance\n",
    "# Any better ideas? Sometimes the mapping is not very faithful to geological meaning\n",
    "from jellyfish import levenshtein_distance as ld\n",
    "rare_labels_mapping = {}\n",
    "list_dict_mapping = list(dict_mapping.keys())\n",
    "for lab in df[target].unique():\n",
    "    if lab in list_dict_mapping:\n",
    "        rare_labels_mapping[lab] = lab # for applying the map later in the df, we need the identity mappings as well\n",
    "    else:\n",
    "        similarities = [ld(lab, freq_lab) for freq_lab in list_dict_mapping]\n",
    "        best_match = list_dict_mapping[np.argmin(similarities)]\n",
    "        rare_labels_mapping[lab] = best_match\n",
    "rare_labels_mapping"
   ],
   "metadata": {
    "collapsed": false,
    "pycharm": {
     "name": "#%%\n"
    }
   }
  },
  {
   "cell_type": "code",
   "execution_count": 22,
   "outputs": [
    {
     "data": {
      "text/plain": "1218"
     },
     "execution_count": 22,
     "metadata": {},
     "output_type": "execute_result"
    }
   ],
   "source": [
    "len(rare_labels_mapping)\n",
    "# ToDo: manually correct the weird mappings\n",
    "# Note: maybe use a second string distance to decide the winner, in case of a tie?"
   ],
   "metadata": {
    "collapsed": false,
    "pycharm": {
     "name": "#%%\n"
    }
   }
  },
  {
   "cell_type": "code",
   "execution_count": 23,
   "outputs": [
    {
     "name": "stderr",
     "output_type": "stream",
     "text": [
      "/tmp/ipykernel_958336/3489057721.py:2: SettingWithCopyWarning: \n",
      "A value is trying to be set on a copy of a slice from a DataFrame.\n",
      "Try using .loc[row_indexer,col_indexer] = value instead\n",
      "\n",
      "See the caveats in the documentation: https://pandas.pydata.org/pandas-docs/stable/user_guide/indexing.html#returning-a-view-versus-a-copy\n",
      "  df[target] = df[target].map(rare_labels_mapping)\n"
     ]
    },
    {
     "data": {
      "text/plain": "        Point  Obergrenze  Untergrenze Horizontsymbol_relevant Bodenart  \\\n0         2.0         0.0         28.0                      Ap      Sl2   \n1         2.0        28.0         54.0                       E      Sl2   \n2         2.0        54.0         68.0                      Bv      Sl2   \n3         2.0        68.0         96.0                  Bv-ilC     fSms   \n4         2.0        96.0        201.0                     ilC     mSfs   \n...       ...         ...          ...                     ...      ...   \n16307  6211.0        27.0         50.0                     Bhs     fSms   \n16308  6211.0        50.0         70.0                     Bsh     fSms   \n16309  6211.0        50.0         70.0                     Bsh     fSms   \n16310  6211.0        70.0        100.0                  Go-ilC     fSms   \n16311  6211.0        70.0        100.0                  Go-ilC     fSms   \n\n      Bodenfarbe  Steine Karbonat Humusgehaltsklasse Durchwurzelung  \\\n0      7.5YR 3/2     3.0       C0                 h3            Wf4   \n1       10YR 3/3     3.0       C0                 h2            Wf3   \n2      7.5YR 4/3    10.0       C0                 h1            Wf3   \n3      7.5YR 6/4     1.0       C0                 h0            Wf2   \n4       10YR 7/4     1.0       C0                 h0            Wf0   \n...          ...     ...      ...                ...            ...   \n16307    5YR 3/2     1.0       C0                 h2            Wf3   \n16308    5YR 4/3     1.0       C0                 h1            Wf2   \n16309    5YR 4/3     1.0       C0                 h1            Wf2   \n16310  7.5YR 5/4     1.0       C0                 h1            Wf6   \n16311  7.5YR 5/4     1.0       C0                 h1            Wf6   \n\n                                                    file  Probenahme_Monat  \\\n0      ../data/BGR/Profilbilder_no_ruler_no_sky/SH_00...                11   \n1      ../data/BGR/Profilbilder_no_ruler_no_sky/SH_00...                11   \n2      ../data/BGR/Profilbilder_no_ruler_no_sky/SH_00...                11   \n3      ../data/BGR/Profilbilder_no_ruler_no_sky/SH_00...                11   \n4      ../data/BGR/Profilbilder_no_ruler_no_sky/SH_00...                11   \n...                                                  ...               ...   \n16307  ../data/BGR/Profilbilder_no_ruler_no_sky/NI_62...                 6   \n16308  ../data/BGR/Profilbilder_no_ruler_no_sky/NI_62...                 6   \n16309  ../data/BGR/Profilbilder_no_ruler_no_sky/NI_62...                 6   \n16310  ../data/BGR/Profilbilder_no_ruler_no_sky/NI_62...                 6   \n16311  ../data/BGR/Profilbilder_no_ruler_no_sky/NI_62...                 6   \n\n       Probenahme_Jahr       xcoord       ycoord  \\\n0                 2015  462216.1283  6079359.775   \n1                 2015  462216.1283  6079359.775   \n2                 2015  462216.1283  6079359.775   \n3                 2015  462216.1283  6079359.775   \n4                 2015  462216.1283  6079359.775   \n...                ...          ...          ...   \n16307             2012  522076.9633  5930456.114   \n16308             2012  522076.9633  5930456.114   \n16309             2012  522076.9633  5930456.114   \n16310             2012  522076.9633  5930456.114   \n16311             2012  522076.9633  5930456.114   \n\n                      Bodenklimaraum_Name Landnutzung BZE_Moor Hauptbodentyp  \\\n0                           Marsch - Nord           A        0            YE   \n1                           Marsch - Nord           A        0            YE   \n2                           Marsch - Nord           A        0            YE   \n3                           Marsch - Nord           A        0            YE   \n4                           Marsch - Nord           A        0            YE   \n...                                   ...         ...      ...           ...   \n16307  Elbe-Weser-Dreieck / sandige Böden           G        0            PP   \n16308  Elbe-Weser-Dreieck / sandige Böden           G        0            PP   \n16309  Elbe-Weser-Dreieck / sandige Böden           G        0            PP   \n16310  Elbe-Weser-Dreieck / sandige Böden           G        0            PP   \n16311  Elbe-Weser-Dreieck / sandige Böden           G        0            PP   \n\n      BodenVarTypSub GrundwaStufe  GrundwaStand  Moormaechtigkeit  \\\n0              YE/BB            0         200.0               0.0   \n1              YE/BB            0         200.0               0.0   \n2              YE/BB            0         200.0               0.0   \n3              YE/BB            0         200.0               0.0   \n4              YE/BB            0         200.0               0.0   \n...              ...          ...           ...               ...   \n16307          GG-PP         GWS4         110.0               0.0   \n16308          GG-PP         GWS4         110.0               0.0   \n16309          GG-PP         GWS4         110.0               0.0   \n16310          GG-PP         GWS4         110.0               0.0   \n16311          GG-PP         GWS4         110.0               0.0   \n\n       Torfmaechtigkeit Neigung Exposition Woelbung Reliefformtyp  \\\n0                   0.0      N0         KE       GG             V   \n1                   0.0      N0         KE       GG             V   \n2                   0.0      N0         KE       GG             V   \n3                   0.0      N0         KE       GG             V   \n4                   0.0      N0         KE       GG             V   \n...                 ...     ...        ...      ...           ...   \n16307               0.0      N0         KE       GG           TSF   \n16308               0.0      N0         KE       GG           TSF   \n16309               0.0      N0         KE       GG           TSF   \n16310               0.0      N0         KE       GG           TSF   \n16311               0.0      N0         KE       GG           TSF   \n\n      LageImRelief  KV_0_30  KV_30_100  \n0                Z    81.89      54.19  \n1                Z    81.89      54.19  \n2                Z    81.89      54.19  \n3                Z    81.89      54.19  \n4                Z    81.89      54.19  \n...            ...      ...        ...  \n16307            T   117.59      87.72  \n16308            T   117.59      87.72  \n16309            T   117.59      87.72  \n16310            T   117.59      87.72  \n16311            T   117.59      87.72  \n\n[13621 rows x 31 columns]",
      "text/html": "<div>\n<style scoped>\n    .dataframe tbody tr th:only-of-type {\n        vertical-align: middle;\n    }\n\n    .dataframe tbody tr th {\n        vertical-align: top;\n    }\n\n    .dataframe thead th {\n        text-align: right;\n    }\n</style>\n<table border=\"1\" class=\"dataframe\">\n  <thead>\n    <tr style=\"text-align: right;\">\n      <th></th>\n      <th>Point</th>\n      <th>Obergrenze</th>\n      <th>Untergrenze</th>\n      <th>Horizontsymbol_relevant</th>\n      <th>Bodenart</th>\n      <th>Bodenfarbe</th>\n      <th>Steine</th>\n      <th>Karbonat</th>\n      <th>Humusgehaltsklasse</th>\n      <th>Durchwurzelung</th>\n      <th>file</th>\n      <th>Probenahme_Monat</th>\n      <th>Probenahme_Jahr</th>\n      <th>xcoord</th>\n      <th>ycoord</th>\n      <th>Bodenklimaraum_Name</th>\n      <th>Landnutzung</th>\n      <th>BZE_Moor</th>\n      <th>Hauptbodentyp</th>\n      <th>BodenVarTypSub</th>\n      <th>GrundwaStufe</th>\n      <th>GrundwaStand</th>\n      <th>Moormaechtigkeit</th>\n      <th>Torfmaechtigkeit</th>\n      <th>Neigung</th>\n      <th>Exposition</th>\n      <th>Woelbung</th>\n      <th>Reliefformtyp</th>\n      <th>LageImRelief</th>\n      <th>KV_0_30</th>\n      <th>KV_30_100</th>\n    </tr>\n  </thead>\n  <tbody>\n    <tr>\n      <th>0</th>\n      <td>2.0</td>\n      <td>0.0</td>\n      <td>28.0</td>\n      <td>Ap</td>\n      <td>Sl2</td>\n      <td>7.5YR 3/2</td>\n      <td>3.0</td>\n      <td>C0</td>\n      <td>h3</td>\n      <td>Wf4</td>\n      <td>../data/BGR/Profilbilder_no_ruler_no_sky/SH_00...</td>\n      <td>11</td>\n      <td>2015</td>\n      <td>462216.1283</td>\n      <td>6079359.775</td>\n      <td>Marsch - Nord</td>\n      <td>A</td>\n      <td>0</td>\n      <td>YE</td>\n      <td>YE/BB</td>\n      <td>0</td>\n      <td>200.0</td>\n      <td>0.0</td>\n      <td>0.0</td>\n      <td>N0</td>\n      <td>KE</td>\n      <td>GG</td>\n      <td>V</td>\n      <td>Z</td>\n      <td>81.89</td>\n      <td>54.19</td>\n    </tr>\n    <tr>\n      <th>1</th>\n      <td>2.0</td>\n      <td>28.0</td>\n      <td>54.0</td>\n      <td>E</td>\n      <td>Sl2</td>\n      <td>10YR 3/3</td>\n      <td>3.0</td>\n      <td>C0</td>\n      <td>h2</td>\n      <td>Wf3</td>\n      <td>../data/BGR/Profilbilder_no_ruler_no_sky/SH_00...</td>\n      <td>11</td>\n      <td>2015</td>\n      <td>462216.1283</td>\n      <td>6079359.775</td>\n      <td>Marsch - Nord</td>\n      <td>A</td>\n      <td>0</td>\n      <td>YE</td>\n      <td>YE/BB</td>\n      <td>0</td>\n      <td>200.0</td>\n      <td>0.0</td>\n      <td>0.0</td>\n      <td>N0</td>\n      <td>KE</td>\n      <td>GG</td>\n      <td>V</td>\n      <td>Z</td>\n      <td>81.89</td>\n      <td>54.19</td>\n    </tr>\n    <tr>\n      <th>2</th>\n      <td>2.0</td>\n      <td>54.0</td>\n      <td>68.0</td>\n      <td>Bv</td>\n      <td>Sl2</td>\n      <td>7.5YR 4/3</td>\n      <td>10.0</td>\n      <td>C0</td>\n      <td>h1</td>\n      <td>Wf3</td>\n      <td>../data/BGR/Profilbilder_no_ruler_no_sky/SH_00...</td>\n      <td>11</td>\n      <td>2015</td>\n      <td>462216.1283</td>\n      <td>6079359.775</td>\n      <td>Marsch - Nord</td>\n      <td>A</td>\n      <td>0</td>\n      <td>YE</td>\n      <td>YE/BB</td>\n      <td>0</td>\n      <td>200.0</td>\n      <td>0.0</td>\n      <td>0.0</td>\n      <td>N0</td>\n      <td>KE</td>\n      <td>GG</td>\n      <td>V</td>\n      <td>Z</td>\n      <td>81.89</td>\n      <td>54.19</td>\n    </tr>\n    <tr>\n      <th>3</th>\n      <td>2.0</td>\n      <td>68.0</td>\n      <td>96.0</td>\n      <td>Bv-ilC</td>\n      <td>fSms</td>\n      <td>7.5YR 6/4</td>\n      <td>1.0</td>\n      <td>C0</td>\n      <td>h0</td>\n      <td>Wf2</td>\n      <td>../data/BGR/Profilbilder_no_ruler_no_sky/SH_00...</td>\n      <td>11</td>\n      <td>2015</td>\n      <td>462216.1283</td>\n      <td>6079359.775</td>\n      <td>Marsch - Nord</td>\n      <td>A</td>\n      <td>0</td>\n      <td>YE</td>\n      <td>YE/BB</td>\n      <td>0</td>\n      <td>200.0</td>\n      <td>0.0</td>\n      <td>0.0</td>\n      <td>N0</td>\n      <td>KE</td>\n      <td>GG</td>\n      <td>V</td>\n      <td>Z</td>\n      <td>81.89</td>\n      <td>54.19</td>\n    </tr>\n    <tr>\n      <th>4</th>\n      <td>2.0</td>\n      <td>96.0</td>\n      <td>201.0</td>\n      <td>ilC</td>\n      <td>mSfs</td>\n      <td>10YR 7/4</td>\n      <td>1.0</td>\n      <td>C0</td>\n      <td>h0</td>\n      <td>Wf0</td>\n      <td>../data/BGR/Profilbilder_no_ruler_no_sky/SH_00...</td>\n      <td>11</td>\n      <td>2015</td>\n      <td>462216.1283</td>\n      <td>6079359.775</td>\n      <td>Marsch - Nord</td>\n      <td>A</td>\n      <td>0</td>\n      <td>YE</td>\n      <td>YE/BB</td>\n      <td>0</td>\n      <td>200.0</td>\n      <td>0.0</td>\n      <td>0.0</td>\n      <td>N0</td>\n      <td>KE</td>\n      <td>GG</td>\n      <td>V</td>\n      <td>Z</td>\n      <td>81.89</td>\n      <td>54.19</td>\n    </tr>\n    <tr>\n      <th>...</th>\n      <td>...</td>\n      <td>...</td>\n      <td>...</td>\n      <td>...</td>\n      <td>...</td>\n      <td>...</td>\n      <td>...</td>\n      <td>...</td>\n      <td>...</td>\n      <td>...</td>\n      <td>...</td>\n      <td>...</td>\n      <td>...</td>\n      <td>...</td>\n      <td>...</td>\n      <td>...</td>\n      <td>...</td>\n      <td>...</td>\n      <td>...</td>\n      <td>...</td>\n      <td>...</td>\n      <td>...</td>\n      <td>...</td>\n      <td>...</td>\n      <td>...</td>\n      <td>...</td>\n      <td>...</td>\n      <td>...</td>\n      <td>...</td>\n      <td>...</td>\n      <td>...</td>\n    </tr>\n    <tr>\n      <th>16307</th>\n      <td>6211.0</td>\n      <td>27.0</td>\n      <td>50.0</td>\n      <td>Bhs</td>\n      <td>fSms</td>\n      <td>5YR 3/2</td>\n      <td>1.0</td>\n      <td>C0</td>\n      <td>h2</td>\n      <td>Wf3</td>\n      <td>../data/BGR/Profilbilder_no_ruler_no_sky/NI_62...</td>\n      <td>6</td>\n      <td>2012</td>\n      <td>522076.9633</td>\n      <td>5930456.114</td>\n      <td>Elbe-Weser-Dreieck / sandige Böden</td>\n      <td>G</td>\n      <td>0</td>\n      <td>PP</td>\n      <td>GG-PP</td>\n      <td>GWS4</td>\n      <td>110.0</td>\n      <td>0.0</td>\n      <td>0.0</td>\n      <td>N0</td>\n      <td>KE</td>\n      <td>GG</td>\n      <td>TSF</td>\n      <td>T</td>\n      <td>117.59</td>\n      <td>87.72</td>\n    </tr>\n    <tr>\n      <th>16308</th>\n      <td>6211.0</td>\n      <td>50.0</td>\n      <td>70.0</td>\n      <td>Bsh</td>\n      <td>fSms</td>\n      <td>5YR 4/3</td>\n      <td>1.0</td>\n      <td>C0</td>\n      <td>h1</td>\n      <td>Wf2</td>\n      <td>../data/BGR/Profilbilder_no_ruler_no_sky/NI_62...</td>\n      <td>6</td>\n      <td>2012</td>\n      <td>522076.9633</td>\n      <td>5930456.114</td>\n      <td>Elbe-Weser-Dreieck / sandige Böden</td>\n      <td>G</td>\n      <td>0</td>\n      <td>PP</td>\n      <td>GG-PP</td>\n      <td>GWS4</td>\n      <td>110.0</td>\n      <td>0.0</td>\n      <td>0.0</td>\n      <td>N0</td>\n      <td>KE</td>\n      <td>GG</td>\n      <td>TSF</td>\n      <td>T</td>\n      <td>117.59</td>\n      <td>87.72</td>\n    </tr>\n    <tr>\n      <th>16309</th>\n      <td>6211.0</td>\n      <td>50.0</td>\n      <td>70.0</td>\n      <td>Bsh</td>\n      <td>fSms</td>\n      <td>5YR 4/3</td>\n      <td>1.0</td>\n      <td>C0</td>\n      <td>h1</td>\n      <td>Wf2</td>\n      <td>../data/BGR/Profilbilder_no_ruler_no_sky/NI_62...</td>\n      <td>6</td>\n      <td>2012</td>\n      <td>522076.9633</td>\n      <td>5930456.114</td>\n      <td>Elbe-Weser-Dreieck / sandige Böden</td>\n      <td>G</td>\n      <td>0</td>\n      <td>PP</td>\n      <td>GG-PP</td>\n      <td>GWS4</td>\n      <td>110.0</td>\n      <td>0.0</td>\n      <td>0.0</td>\n      <td>N0</td>\n      <td>KE</td>\n      <td>GG</td>\n      <td>TSF</td>\n      <td>T</td>\n      <td>117.59</td>\n      <td>87.72</td>\n    </tr>\n    <tr>\n      <th>16310</th>\n      <td>6211.0</td>\n      <td>70.0</td>\n      <td>100.0</td>\n      <td>Go-ilC</td>\n      <td>fSms</td>\n      <td>7.5YR 5/4</td>\n      <td>1.0</td>\n      <td>C0</td>\n      <td>h1</td>\n      <td>Wf6</td>\n      <td>../data/BGR/Profilbilder_no_ruler_no_sky/NI_62...</td>\n      <td>6</td>\n      <td>2012</td>\n      <td>522076.9633</td>\n      <td>5930456.114</td>\n      <td>Elbe-Weser-Dreieck / sandige Böden</td>\n      <td>G</td>\n      <td>0</td>\n      <td>PP</td>\n      <td>GG-PP</td>\n      <td>GWS4</td>\n      <td>110.0</td>\n      <td>0.0</td>\n      <td>0.0</td>\n      <td>N0</td>\n      <td>KE</td>\n      <td>GG</td>\n      <td>TSF</td>\n      <td>T</td>\n      <td>117.59</td>\n      <td>87.72</td>\n    </tr>\n    <tr>\n      <th>16311</th>\n      <td>6211.0</td>\n      <td>70.0</td>\n      <td>100.0</td>\n      <td>Go-ilC</td>\n      <td>fSms</td>\n      <td>7.5YR 5/4</td>\n      <td>1.0</td>\n      <td>C0</td>\n      <td>h1</td>\n      <td>Wf6</td>\n      <td>../data/BGR/Profilbilder_no_ruler_no_sky/NI_62...</td>\n      <td>6</td>\n      <td>2012</td>\n      <td>522076.9633</td>\n      <td>5930456.114</td>\n      <td>Elbe-Weser-Dreieck / sandige Böden</td>\n      <td>G</td>\n      <td>0</td>\n      <td>PP</td>\n      <td>GG-PP</td>\n      <td>GWS4</td>\n      <td>110.0</td>\n      <td>0.0</td>\n      <td>0.0</td>\n      <td>N0</td>\n      <td>KE</td>\n      <td>GG</td>\n      <td>TSF</td>\n      <td>T</td>\n      <td>117.59</td>\n      <td>87.72</td>\n    </tr>\n  </tbody>\n</table>\n<p>13621 rows × 31 columns</p>\n</div>"
     },
     "execution_count": 23,
     "metadata": {},
     "output_type": "execute_result"
    }
   ],
   "source": [
    "# Map rare labels onto frequent labels\n",
    "df[target] = df[target].map(rare_labels_mapping)\n",
    "df"
   ],
   "metadata": {
    "collapsed": false,
    "pycharm": {
     "name": "#%%\n"
    }
   }
  },
  {
   "cell_type": "code",
   "execution_count": 24,
   "outputs": [
    {
     "name": "stderr",
     "output_type": "stream",
     "text": [
      "/tmp/ipykernel_958336/1051670463.py:3: SettingWithCopyWarning: \n",
      "A value is trying to be set on a copy of a slice from a DataFrame.\n",
      "Try using .loc[row_indexer,col_indexer] = value instead\n",
      "\n",
      "See the caveats in the documentation: https://pandas.pydata.org/pandas-docs/stable/user_guide/indexing.html#returning-a-view-versus-a-copy\n",
      "  df[target] = df[target].map(dict_mapping) # in conjunction with HCEs\n",
      "/tmp/ipykernel_958336/1051670463.py:4: SettingWithCopyWarning: \n",
      "A value is trying to be set on a copy of a slice from a DataFrame.\n",
      "Try using .loc[row_indexer,col_indexer] = value instead\n",
      "\n",
      "See the caveats in the documentation: https://pandas.pydata.org/pandas-docs/stable/user_guide/indexing.html#returning-a-view-versus-a-copy\n",
      "  df[target] = df[target].astype(int)\n"
     ]
    },
    {
     "data": {
      "text/plain": "   Point  Obergrenze  Untergrenze  Horizontsymbol_relevant Bodenart  \\\n0    2.0         0.0         28.0                       22      Sl2   \n1    2.0        28.0         54.0                        5      Sl2   \n2    2.0        54.0         68.0                       32      Sl2   \n3    2.0        68.0         96.0                       62     fSms   \n4    2.0        96.0        201.0                        0     mSfs   \n\n  Bodenfarbe  Steine Karbonat Humusgehaltsklasse Durchwurzelung  \\\n0  7.5YR 3/2     3.0       C0                 h3            Wf4   \n1   10YR 3/3     3.0       C0                 h2            Wf3   \n2  7.5YR 4/3    10.0       C0                 h1            Wf3   \n3  7.5YR 6/4     1.0       C0                 h0            Wf2   \n4   10YR 7/4     1.0       C0                 h0            Wf0   \n\n                                                file  Probenahme_Monat  \\\n0  ../data/BGR/Profilbilder_no_ruler_no_sky/SH_00...                11   \n1  ../data/BGR/Profilbilder_no_ruler_no_sky/SH_00...                11   \n2  ../data/BGR/Profilbilder_no_ruler_no_sky/SH_00...                11   \n3  ../data/BGR/Profilbilder_no_ruler_no_sky/SH_00...                11   \n4  ../data/BGR/Profilbilder_no_ruler_no_sky/SH_00...                11   \n\n   Probenahme_Jahr       xcoord       ycoord Bodenklimaraum_Name Landnutzung  \\\n0             2015  462216.1283  6079359.775       Marsch - Nord           A   \n1             2015  462216.1283  6079359.775       Marsch - Nord           A   \n2             2015  462216.1283  6079359.775       Marsch - Nord           A   \n3             2015  462216.1283  6079359.775       Marsch - Nord           A   \n4             2015  462216.1283  6079359.775       Marsch - Nord           A   \n\n  BZE_Moor Hauptbodentyp BodenVarTypSub GrundwaStufe  GrundwaStand  \\\n0        0            YE          YE/BB            0         200.0   \n1        0            YE          YE/BB            0         200.0   \n2        0            YE          YE/BB            0         200.0   \n3        0            YE          YE/BB            0         200.0   \n4        0            YE          YE/BB            0         200.0   \n\n   Moormaechtigkeit  Torfmaechtigkeit Neigung Exposition Woelbung  \\\n0               0.0               0.0      N0         KE       GG   \n1               0.0               0.0      N0         KE       GG   \n2               0.0               0.0      N0         KE       GG   \n3               0.0               0.0      N0         KE       GG   \n4               0.0               0.0      N0         KE       GG   \n\n  Reliefformtyp LageImRelief  KV_0_30  KV_30_100  \n0             V            Z    81.89      54.19  \n1             V            Z    81.89      54.19  \n2             V            Z    81.89      54.19  \n3             V            Z    81.89      54.19  \n4             V            Z    81.89      54.19  ",
      "text/html": "<div>\n<style scoped>\n    .dataframe tbody tr th:only-of-type {\n        vertical-align: middle;\n    }\n\n    .dataframe tbody tr th {\n        vertical-align: top;\n    }\n\n    .dataframe thead th {\n        text-align: right;\n    }\n</style>\n<table border=\"1\" class=\"dataframe\">\n  <thead>\n    <tr style=\"text-align: right;\">\n      <th></th>\n      <th>Point</th>\n      <th>Obergrenze</th>\n      <th>Untergrenze</th>\n      <th>Horizontsymbol_relevant</th>\n      <th>Bodenart</th>\n      <th>Bodenfarbe</th>\n      <th>Steine</th>\n      <th>Karbonat</th>\n      <th>Humusgehaltsklasse</th>\n      <th>Durchwurzelung</th>\n      <th>file</th>\n      <th>Probenahme_Monat</th>\n      <th>Probenahme_Jahr</th>\n      <th>xcoord</th>\n      <th>ycoord</th>\n      <th>Bodenklimaraum_Name</th>\n      <th>Landnutzung</th>\n      <th>BZE_Moor</th>\n      <th>Hauptbodentyp</th>\n      <th>BodenVarTypSub</th>\n      <th>GrundwaStufe</th>\n      <th>GrundwaStand</th>\n      <th>Moormaechtigkeit</th>\n      <th>Torfmaechtigkeit</th>\n      <th>Neigung</th>\n      <th>Exposition</th>\n      <th>Woelbung</th>\n      <th>Reliefformtyp</th>\n      <th>LageImRelief</th>\n      <th>KV_0_30</th>\n      <th>KV_30_100</th>\n    </tr>\n  </thead>\n  <tbody>\n    <tr>\n      <th>0</th>\n      <td>2.0</td>\n      <td>0.0</td>\n      <td>28.0</td>\n      <td>22</td>\n      <td>Sl2</td>\n      <td>7.5YR 3/2</td>\n      <td>3.0</td>\n      <td>C0</td>\n      <td>h3</td>\n      <td>Wf4</td>\n      <td>../data/BGR/Profilbilder_no_ruler_no_sky/SH_00...</td>\n      <td>11</td>\n      <td>2015</td>\n      <td>462216.1283</td>\n      <td>6079359.775</td>\n      <td>Marsch - Nord</td>\n      <td>A</td>\n      <td>0</td>\n      <td>YE</td>\n      <td>YE/BB</td>\n      <td>0</td>\n      <td>200.0</td>\n      <td>0.0</td>\n      <td>0.0</td>\n      <td>N0</td>\n      <td>KE</td>\n      <td>GG</td>\n      <td>V</td>\n      <td>Z</td>\n      <td>81.89</td>\n      <td>54.19</td>\n    </tr>\n    <tr>\n      <th>1</th>\n      <td>2.0</td>\n      <td>28.0</td>\n      <td>54.0</td>\n      <td>5</td>\n      <td>Sl2</td>\n      <td>10YR 3/3</td>\n      <td>3.0</td>\n      <td>C0</td>\n      <td>h2</td>\n      <td>Wf3</td>\n      <td>../data/BGR/Profilbilder_no_ruler_no_sky/SH_00...</td>\n      <td>11</td>\n      <td>2015</td>\n      <td>462216.1283</td>\n      <td>6079359.775</td>\n      <td>Marsch - Nord</td>\n      <td>A</td>\n      <td>0</td>\n      <td>YE</td>\n      <td>YE/BB</td>\n      <td>0</td>\n      <td>200.0</td>\n      <td>0.0</td>\n      <td>0.0</td>\n      <td>N0</td>\n      <td>KE</td>\n      <td>GG</td>\n      <td>V</td>\n      <td>Z</td>\n      <td>81.89</td>\n      <td>54.19</td>\n    </tr>\n    <tr>\n      <th>2</th>\n      <td>2.0</td>\n      <td>54.0</td>\n      <td>68.0</td>\n      <td>32</td>\n      <td>Sl2</td>\n      <td>7.5YR 4/3</td>\n      <td>10.0</td>\n      <td>C0</td>\n      <td>h1</td>\n      <td>Wf3</td>\n      <td>../data/BGR/Profilbilder_no_ruler_no_sky/SH_00...</td>\n      <td>11</td>\n      <td>2015</td>\n      <td>462216.1283</td>\n      <td>6079359.775</td>\n      <td>Marsch - Nord</td>\n      <td>A</td>\n      <td>0</td>\n      <td>YE</td>\n      <td>YE/BB</td>\n      <td>0</td>\n      <td>200.0</td>\n      <td>0.0</td>\n      <td>0.0</td>\n      <td>N0</td>\n      <td>KE</td>\n      <td>GG</td>\n      <td>V</td>\n      <td>Z</td>\n      <td>81.89</td>\n      <td>54.19</td>\n    </tr>\n    <tr>\n      <th>3</th>\n      <td>2.0</td>\n      <td>68.0</td>\n      <td>96.0</td>\n      <td>62</td>\n      <td>fSms</td>\n      <td>7.5YR 6/4</td>\n      <td>1.0</td>\n      <td>C0</td>\n      <td>h0</td>\n      <td>Wf2</td>\n      <td>../data/BGR/Profilbilder_no_ruler_no_sky/SH_00...</td>\n      <td>11</td>\n      <td>2015</td>\n      <td>462216.1283</td>\n      <td>6079359.775</td>\n      <td>Marsch - Nord</td>\n      <td>A</td>\n      <td>0</td>\n      <td>YE</td>\n      <td>YE/BB</td>\n      <td>0</td>\n      <td>200.0</td>\n      <td>0.0</td>\n      <td>0.0</td>\n      <td>N0</td>\n      <td>KE</td>\n      <td>GG</td>\n      <td>V</td>\n      <td>Z</td>\n      <td>81.89</td>\n      <td>54.19</td>\n    </tr>\n    <tr>\n      <th>4</th>\n      <td>2.0</td>\n      <td>96.0</td>\n      <td>201.0</td>\n      <td>0</td>\n      <td>mSfs</td>\n      <td>10YR 7/4</td>\n      <td>1.0</td>\n      <td>C0</td>\n      <td>h0</td>\n      <td>Wf0</td>\n      <td>../data/BGR/Profilbilder_no_ruler_no_sky/SH_00...</td>\n      <td>11</td>\n      <td>2015</td>\n      <td>462216.1283</td>\n      <td>6079359.775</td>\n      <td>Marsch - Nord</td>\n      <td>A</td>\n      <td>0</td>\n      <td>YE</td>\n      <td>YE/BB</td>\n      <td>0</td>\n      <td>200.0</td>\n      <td>0.0</td>\n      <td>0.0</td>\n      <td>N0</td>\n      <td>KE</td>\n      <td>GG</td>\n      <td>V</td>\n      <td>Z</td>\n      <td>81.89</td>\n      <td>54.19</td>\n    </tr>\n  </tbody>\n</table>\n</div>"
     },
     "execution_count": 24,
     "metadata": {},
     "output_type": "execute_result"
    }
   ],
   "source": [
    "# One-hot encoding of the target column\n",
    "#bgr_data.encode_categorical_columns(df, target) # for standard one-hot vectors of the targets\n",
    "df[target] = df[target].map(dict_mapping) # in conjunction with HCEs\n",
    "df[target] = df[target].astype(int)\n",
    "df.head(5)"
   ],
   "metadata": {
    "collapsed": false,
    "pycharm": {
     "name": "#%%\n"
    }
   }
  },
  {
   "cell_type": "code",
   "execution_count": 25,
   "outputs": [
    {
     "name": "stderr",
     "output_type": "stream",
     "text": [
      "/mnt/KInsektDaten/teo/./BGR/bgr/soil/datasets.py:35: SettingWithCopyWarning: \n",
      "A value is trying to be set on a copy of a slice from a DataFrame.\n",
      "Try using .loc[row_indexer,col_indexer] = value instead\n",
      "\n",
      "See the caveats in the documentation: https://pandas.pydata.org/pandas-docs/stable/user_guide/indexing.html#returning-a-view-versus-a-copy\n",
      "  df[col_name] = df[col_name].replace(counts.index, range(len(counts)))\n",
      "/mnt/KInsektDaten/teo/./BGR/bgr/soil/datasets.py:35: FutureWarning: Downcasting behavior in `replace` is deprecated and will be removed in a future version. To retain the old behavior, explicitly call `result.infer_objects(copy=False)`. To opt-in to the future behavior, set `pd.set_option('future.no_silent_downcasting', True)`\n",
      "  df[col_name] = df[col_name].replace(counts.index, range(len(counts)))\n",
      "/mnt/KInsektDaten/teo/./BGR/bgr/soil/datasets.py:35: SettingWithCopyWarning: \n",
      "A value is trying to be set on a copy of a slice from a DataFrame.\n",
      "Try using .loc[row_indexer,col_indexer] = value instead\n",
      "\n",
      "See the caveats in the documentation: https://pandas.pydata.org/pandas-docs/stable/user_guide/indexing.html#returning-a-view-versus-a-copy\n",
      "  df[col_name] = df[col_name].replace(counts.index, range(len(counts)))\n",
      "/mnt/KInsektDaten/teo/./BGR/bgr/soil/datasets.py:35: FutureWarning: Downcasting behavior in `replace` is deprecated and will be removed in a future version. To retain the old behavior, explicitly call `result.infer_objects(copy=False)`. To opt-in to the future behavior, set `pd.set_option('future.no_silent_downcasting', True)`\n",
      "  df[col_name] = df[col_name].replace(counts.index, range(len(counts)))\n",
      "/mnt/KInsektDaten/teo/./BGR/bgr/soil/datasets.py:35: SettingWithCopyWarning: \n",
      "A value is trying to be set on a copy of a slice from a DataFrame.\n",
      "Try using .loc[row_indexer,col_indexer] = value instead\n",
      "\n",
      "See the caveats in the documentation: https://pandas.pydata.org/pandas-docs/stable/user_guide/indexing.html#returning-a-view-versus-a-copy\n",
      "  df[col_name] = df[col_name].replace(counts.index, range(len(counts)))\n",
      "/mnt/KInsektDaten/teo/./BGR/bgr/soil/datasets.py:35: FutureWarning: Downcasting behavior in `replace` is deprecated and will be removed in a future version. To retain the old behavior, explicitly call `result.infer_objects(copy=False)`. To opt-in to the future behavior, set `pd.set_option('future.no_silent_downcasting', True)`\n",
      "  df[col_name] = df[col_name].replace(counts.index, range(len(counts)))\n",
      "/mnt/KInsektDaten/teo/./BGR/bgr/soil/datasets.py:35: SettingWithCopyWarning: \n",
      "A value is trying to be set on a copy of a slice from a DataFrame.\n",
      "Try using .loc[row_indexer,col_indexer] = value instead\n",
      "\n",
      "See the caveats in the documentation: https://pandas.pydata.org/pandas-docs/stable/user_guide/indexing.html#returning-a-view-versus-a-copy\n",
      "  df[col_name] = df[col_name].replace(counts.index, range(len(counts)))\n",
      "/mnt/KInsektDaten/teo/./BGR/bgr/soil/datasets.py:35: FutureWarning: Downcasting behavior in `replace` is deprecated and will be removed in a future version. To retain the old behavior, explicitly call `result.infer_objects(copy=False)`. To opt-in to the future behavior, set `pd.set_option('future.no_silent_downcasting', True)`\n",
      "  df[col_name] = df[col_name].replace(counts.index, range(len(counts)))\n",
      "/mnt/KInsektDaten/teo/./BGR/bgr/soil/datasets.py:35: SettingWithCopyWarning: \n",
      "A value is trying to be set on a copy of a slice from a DataFrame.\n",
      "Try using .loc[row_indexer,col_indexer] = value instead\n",
      "\n",
      "See the caveats in the documentation: https://pandas.pydata.org/pandas-docs/stable/user_guide/indexing.html#returning-a-view-versus-a-copy\n",
      "  df[col_name] = df[col_name].replace(counts.index, range(len(counts)))\n",
      "/mnt/KInsektDaten/teo/./BGR/bgr/soil/datasets.py:35: FutureWarning: Downcasting behavior in `replace` is deprecated and will be removed in a future version. To retain the old behavior, explicitly call `result.infer_objects(copy=False)`. To opt-in to the future behavior, set `pd.set_option('future.no_silent_downcasting', True)`\n",
      "  df[col_name] = df[col_name].replace(counts.index, range(len(counts)))\n",
      "/mnt/KInsektDaten/teo/./BGR/bgr/soil/datasets.py:35: SettingWithCopyWarning: \n",
      "A value is trying to be set on a copy of a slice from a DataFrame.\n",
      "Try using .loc[row_indexer,col_indexer] = value instead\n",
      "\n",
      "See the caveats in the documentation: https://pandas.pydata.org/pandas-docs/stable/user_guide/indexing.html#returning-a-view-versus-a-copy\n",
      "  df[col_name] = df[col_name].replace(counts.index, range(len(counts)))\n",
      "/mnt/KInsektDaten/teo/./BGR/bgr/soil/datasets.py:35: FutureWarning: Downcasting behavior in `replace` is deprecated and will be removed in a future version. To retain the old behavior, explicitly call `result.infer_objects(copy=False)`. To opt-in to the future behavior, set `pd.set_option('future.no_silent_downcasting', True)`\n",
      "  df[col_name] = df[col_name].replace(counts.index, range(len(counts)))\n",
      "/mnt/KInsektDaten/teo/./BGR/bgr/soil/datasets.py:35: SettingWithCopyWarning: \n",
      "A value is trying to be set on a copy of a slice from a DataFrame.\n",
      "Try using .loc[row_indexer,col_indexer] = value instead\n",
      "\n",
      "See the caveats in the documentation: https://pandas.pydata.org/pandas-docs/stable/user_guide/indexing.html#returning-a-view-versus-a-copy\n",
      "  df[col_name] = df[col_name].replace(counts.index, range(len(counts)))\n",
      "/mnt/KInsektDaten/teo/./BGR/bgr/soil/datasets.py:35: FutureWarning: Downcasting behavior in `replace` is deprecated and will be removed in a future version. To retain the old behavior, explicitly call `result.infer_objects(copy=False)`. To opt-in to the future behavior, set `pd.set_option('future.no_silent_downcasting', True)`\n",
      "  df[col_name] = df[col_name].replace(counts.index, range(len(counts)))\n",
      "/mnt/KInsektDaten/teo/./BGR/bgr/soil/datasets.py:35: SettingWithCopyWarning: \n",
      "A value is trying to be set on a copy of a slice from a DataFrame.\n",
      "Try using .loc[row_indexer,col_indexer] = value instead\n",
      "\n",
      "See the caveats in the documentation: https://pandas.pydata.org/pandas-docs/stable/user_guide/indexing.html#returning-a-view-versus-a-copy\n",
      "  df[col_name] = df[col_name].replace(counts.index, range(len(counts)))\n",
      "/mnt/KInsektDaten/teo/./BGR/bgr/soil/datasets.py:35: FutureWarning: Downcasting behavior in `replace` is deprecated and will be removed in a future version. To retain the old behavior, explicitly call `result.infer_objects(copy=False)`. To opt-in to the future behavior, set `pd.set_option('future.no_silent_downcasting', True)`\n",
      "  df[col_name] = df[col_name].replace(counts.index, range(len(counts)))\n",
      "/mnt/KInsektDaten/teo/./BGR/bgr/soil/datasets.py:35: SettingWithCopyWarning: \n",
      "A value is trying to be set on a copy of a slice from a DataFrame.\n",
      "Try using .loc[row_indexer,col_indexer] = value instead\n",
      "\n",
      "See the caveats in the documentation: https://pandas.pydata.org/pandas-docs/stable/user_guide/indexing.html#returning-a-view-versus-a-copy\n",
      "  df[col_name] = df[col_name].replace(counts.index, range(len(counts)))\n",
      "/mnt/KInsektDaten/teo/./BGR/bgr/soil/datasets.py:35: FutureWarning: Downcasting behavior in `replace` is deprecated and will be removed in a future version. To retain the old behavior, explicitly call `result.infer_objects(copy=False)`. To opt-in to the future behavior, set `pd.set_option('future.no_silent_downcasting', True)`\n",
      "  df[col_name] = df[col_name].replace(counts.index, range(len(counts)))\n",
      "/mnt/KInsektDaten/teo/./BGR/bgr/soil/datasets.py:35: SettingWithCopyWarning: \n",
      "A value is trying to be set on a copy of a slice from a DataFrame.\n",
      "Try using .loc[row_indexer,col_indexer] = value instead\n",
      "\n",
      "See the caveats in the documentation: https://pandas.pydata.org/pandas-docs/stable/user_guide/indexing.html#returning-a-view-versus-a-copy\n",
      "  df[col_name] = df[col_name].replace(counts.index, range(len(counts)))\n",
      "/mnt/KInsektDaten/teo/./BGR/bgr/soil/datasets.py:35: FutureWarning: Downcasting behavior in `replace` is deprecated and will be removed in a future version. To retain the old behavior, explicitly call `result.infer_objects(copy=False)`. To opt-in to the future behavior, set `pd.set_option('future.no_silent_downcasting', True)`\n",
      "  df[col_name] = df[col_name].replace(counts.index, range(len(counts)))\n",
      "/mnt/KInsektDaten/teo/./BGR/bgr/soil/datasets.py:35: SettingWithCopyWarning: \n",
      "A value is trying to be set on a copy of a slice from a DataFrame.\n",
      "Try using .loc[row_indexer,col_indexer] = value instead\n",
      "\n",
      "See the caveats in the documentation: https://pandas.pydata.org/pandas-docs/stable/user_guide/indexing.html#returning-a-view-versus-a-copy\n",
      "  df[col_name] = df[col_name].replace(counts.index, range(len(counts)))\n",
      "/mnt/KInsektDaten/teo/./BGR/bgr/soil/datasets.py:35: FutureWarning: Downcasting behavior in `replace` is deprecated and will be removed in a future version. To retain the old behavior, explicitly call `result.infer_objects(copy=False)`. To opt-in to the future behavior, set `pd.set_option('future.no_silent_downcasting', True)`\n",
      "  df[col_name] = df[col_name].replace(counts.index, range(len(counts)))\n",
      "/mnt/KInsektDaten/teo/./BGR/bgr/soil/datasets.py:35: SettingWithCopyWarning: \n",
      "A value is trying to be set on a copy of a slice from a DataFrame.\n",
      "Try using .loc[row_indexer,col_indexer] = value instead\n",
      "\n",
      "See the caveats in the documentation: https://pandas.pydata.org/pandas-docs/stable/user_guide/indexing.html#returning-a-view-versus-a-copy\n",
      "  df[col_name] = df[col_name].replace(counts.index, range(len(counts)))\n",
      "/mnt/KInsektDaten/teo/./BGR/bgr/soil/datasets.py:35: FutureWarning: Downcasting behavior in `replace` is deprecated and will be removed in a future version. To retain the old behavior, explicitly call `result.infer_objects(copy=False)`. To opt-in to the future behavior, set `pd.set_option('future.no_silent_downcasting', True)`\n",
      "  df[col_name] = df[col_name].replace(counts.index, range(len(counts)))\n",
      "/mnt/KInsektDaten/teo/./BGR/bgr/soil/datasets.py:35: SettingWithCopyWarning: \n",
      "A value is trying to be set on a copy of a slice from a DataFrame.\n",
      "Try using .loc[row_indexer,col_indexer] = value instead\n",
      "\n",
      "See the caveats in the documentation: https://pandas.pydata.org/pandas-docs/stable/user_guide/indexing.html#returning-a-view-versus-a-copy\n",
      "  df[col_name] = df[col_name].replace(counts.index, range(len(counts)))\n",
      "/mnt/KInsektDaten/teo/./BGR/bgr/soil/datasets.py:35: FutureWarning: Downcasting behavior in `replace` is deprecated and will be removed in a future version. To retain the old behavior, explicitly call `result.infer_objects(copy=False)`. To opt-in to the future behavior, set `pd.set_option('future.no_silent_downcasting', True)`\n",
      "  df[col_name] = df[col_name].replace(counts.index, range(len(counts)))\n",
      "/mnt/KInsektDaten/teo/./BGR/bgr/soil/datasets.py:35: SettingWithCopyWarning: \n",
      "A value is trying to be set on a copy of a slice from a DataFrame.\n",
      "Try using .loc[row_indexer,col_indexer] = value instead\n",
      "\n",
      "See the caveats in the documentation: https://pandas.pydata.org/pandas-docs/stable/user_guide/indexing.html#returning-a-view-versus-a-copy\n",
      "  df[col_name] = df[col_name].replace(counts.index, range(len(counts)))\n",
      "/mnt/KInsektDaten/teo/./BGR/bgr/soil/datasets.py:35: FutureWarning: Downcasting behavior in `replace` is deprecated and will be removed in a future version. To retain the old behavior, explicitly call `result.infer_objects(copy=False)`. To opt-in to the future behavior, set `pd.set_option('future.no_silent_downcasting', True)`\n",
      "  df[col_name] = df[col_name].replace(counts.index, range(len(counts)))\n",
      "/mnt/KInsektDaten/teo/./BGR/bgr/soil/datasets.py:35: SettingWithCopyWarning: \n",
      "A value is trying to be set on a copy of a slice from a DataFrame.\n",
      "Try using .loc[row_indexer,col_indexer] = value instead\n",
      "\n",
      "See the caveats in the documentation: https://pandas.pydata.org/pandas-docs/stable/user_guide/indexing.html#returning-a-view-versus-a-copy\n",
      "  df[col_name] = df[col_name].replace(counts.index, range(len(counts)))\n",
      "/mnt/KInsektDaten/teo/./BGR/bgr/soil/datasets.py:35: FutureWarning: Downcasting behavior in `replace` is deprecated and will be removed in a future version. To retain the old behavior, explicitly call `result.infer_objects(copy=False)`. To opt-in to the future behavior, set `pd.set_option('future.no_silent_downcasting', True)`\n",
      "  df[col_name] = df[col_name].replace(counts.index, range(len(counts)))\n",
      "/mnt/KInsektDaten/teo/./BGR/bgr/soil/datasets.py:35: SettingWithCopyWarning: \n",
      "A value is trying to be set on a copy of a slice from a DataFrame.\n",
      "Try using .loc[row_indexer,col_indexer] = value instead\n",
      "\n",
      "See the caveats in the documentation: https://pandas.pydata.org/pandas-docs/stable/user_guide/indexing.html#returning-a-view-versus-a-copy\n",
      "  df[col_name] = df[col_name].replace(counts.index, range(len(counts)))\n",
      "/mnt/KInsektDaten/teo/./BGR/bgr/soil/datasets.py:35: FutureWarning: Downcasting behavior in `replace` is deprecated and will be removed in a future version. To retain the old behavior, explicitly call `result.infer_objects(copy=False)`. To opt-in to the future behavior, set `pd.set_option('future.no_silent_downcasting', True)`\n",
      "  df[col_name] = df[col_name].replace(counts.index, range(len(counts)))\n",
      "/mnt/KInsektDaten/teo/./BGR/bgr/soil/datasets.py:35: SettingWithCopyWarning: \n",
      "A value is trying to be set on a copy of a slice from a DataFrame.\n",
      "Try using .loc[row_indexer,col_indexer] = value instead\n",
      "\n",
      "See the caveats in the documentation: https://pandas.pydata.org/pandas-docs/stable/user_guide/indexing.html#returning-a-view-versus-a-copy\n",
      "  df[col_name] = df[col_name].replace(counts.index, range(len(counts)))\n"
     ]
    },
    {
     "data": {
      "text/plain": "        Point  Obergrenze  Untergrenze  Horizontsymbol_relevant  Bodenart  \\\n0         2.0         0.0         28.0                       22       3.0   \n1         2.0        28.0         54.0                        5       3.0   \n2         2.0        54.0         68.0                       32       3.0   \n3         2.0        68.0         96.0                       62       8.0   \n4         2.0        96.0        201.0                        0       7.0   \n...       ...         ...          ...                      ...       ...   \n16307  6211.0        27.0         50.0                       37       8.0   \n16308  6211.0        50.0         70.0                       12       8.0   \n16309  6211.0        50.0         70.0                       12       8.0   \n16310  6211.0        70.0        100.0                       74       8.0   \n16311  6211.0        70.0        100.0                       74       8.0   \n\n       Bodenfarbe  Steine  Karbonat  Humusgehaltsklasse  Durchwurzelung  \\\n0            24.0     3.0         0                 1.0               4   \n1             0.0     3.0         0                 3.0               3   \n2            20.0    10.0         0                 2.0               3   \n3            72.0     1.0         0                 0.0               1   \n4            37.0     1.0         0                 0.0               0   \n...           ...     ...       ...                 ...             ...   \n16307        68.0     1.0         0                 3.0               3   \n16308        38.0     1.0         0                 2.0               1   \n16309        38.0     1.0         0                 2.0               1   \n16310        19.0     1.0         0                 2.0               6   \n16311        19.0     1.0         0                 2.0               6   \n\n                                                    file  Probenahme_Monat  \\\n0      ../data/BGR/Profilbilder_no_ruler_no_sky/SH_00...                 3   \n1      ../data/BGR/Profilbilder_no_ruler_no_sky/SH_00...                 3   \n2      ../data/BGR/Profilbilder_no_ruler_no_sky/SH_00...                 3   \n3      ../data/BGR/Profilbilder_no_ruler_no_sky/SH_00...                 3   \n4      ../data/BGR/Profilbilder_no_ruler_no_sky/SH_00...                 3   \n...                                                  ...               ...   \n16307  ../data/BGR/Profilbilder_no_ruler_no_sky/NI_62...                10   \n16308  ../data/BGR/Profilbilder_no_ruler_no_sky/NI_62...                10   \n16309  ../data/BGR/Profilbilder_no_ruler_no_sky/NI_62...                10   \n16310  ../data/BGR/Profilbilder_no_ruler_no_sky/NI_62...                10   \n16311  ../data/BGR/Profilbilder_no_ruler_no_sky/NI_62...                10   \n\n       Probenahme_Jahr       xcoord       ycoord  Bodenklimaraum_Name  \\\n0                    4  462216.1283  6079359.775                   37   \n1                    4  462216.1283  6079359.775                   37   \n2                    4  462216.1283  6079359.775                   37   \n3                    4  462216.1283  6079359.775                   37   \n4                    4  462216.1283  6079359.775                   37   \n...                ...          ...          ...                  ...   \n16307                0  522076.9633  5930456.114                   15   \n16308                0  522076.9633  5930456.114                   15   \n16309                0  522076.9633  5930456.114                   15   \n16310                0  522076.9633  5930456.114                   15   \n16311                0  522076.9633  5930456.114                   15   \n\n       Landnutzung  BZE_Moor  Hauptbodentyp  BodenVarTypSub  GrundwaStufe  \\\n0                0         0             15             247           0.0   \n1                0         0             15             247           0.0   \n2                0         0             15             247           0.0   \n3                0         0             15             247           0.0   \n4                0         0             15             247           0.0   \n...            ...       ...            ...             ...           ...   \n16307            1         0              8              42           1.0   \n16308            1         0              8              42           1.0   \n16309            1         0              8              42           1.0   \n16310            1         0              8              42           1.0   \n16311            1         0              8              42           1.0   \n\n       GrundwaStand  Moormaechtigkeit  Torfmaechtigkeit  Neigung  Exposition  \\\n0             200.0               0.0               0.0      0.0         0.0   \n1             200.0               0.0               0.0      0.0         0.0   \n2             200.0               0.0               0.0      0.0         0.0   \n3             200.0               0.0               0.0      0.0         0.0   \n4             200.0               0.0               0.0      0.0         0.0   \n...             ...               ...               ...      ...         ...   \n16307         110.0               0.0               0.0      0.0         0.0   \n16308         110.0               0.0               0.0      0.0         0.0   \n16309         110.0               0.0               0.0      0.0         0.0   \n16310         110.0               0.0               0.0      0.0         0.0   \n16311         110.0               0.0               0.0      0.0         0.0   \n\n       Woelbung  Reliefformtyp  LageImRelief  KV_0_30  KV_30_100  \n0           0.0            1.0           0.0    81.89      54.19  \n1           0.0            1.0           0.0    81.89      54.19  \n2           0.0            1.0           0.0    81.89      54.19  \n3           0.0            1.0           0.0    81.89      54.19  \n4           0.0            1.0           0.0    81.89      54.19  \n...         ...            ...           ...      ...        ...  \n16307       0.0            2.0           5.0   117.59      87.72  \n16308       0.0            2.0           5.0   117.59      87.72  \n16309       0.0            2.0           5.0   117.59      87.72  \n16310       0.0            2.0           5.0   117.59      87.72  \n16311       0.0            2.0           5.0   117.59      87.72  \n\n[13621 rows x 31 columns]",
      "text/html": "<div>\n<style scoped>\n    .dataframe tbody tr th:only-of-type {\n        vertical-align: middle;\n    }\n\n    .dataframe tbody tr th {\n        vertical-align: top;\n    }\n\n    .dataframe thead th {\n        text-align: right;\n    }\n</style>\n<table border=\"1\" class=\"dataframe\">\n  <thead>\n    <tr style=\"text-align: right;\">\n      <th></th>\n      <th>Point</th>\n      <th>Obergrenze</th>\n      <th>Untergrenze</th>\n      <th>Horizontsymbol_relevant</th>\n      <th>Bodenart</th>\n      <th>Bodenfarbe</th>\n      <th>Steine</th>\n      <th>Karbonat</th>\n      <th>Humusgehaltsklasse</th>\n      <th>Durchwurzelung</th>\n      <th>file</th>\n      <th>Probenahme_Monat</th>\n      <th>Probenahme_Jahr</th>\n      <th>xcoord</th>\n      <th>ycoord</th>\n      <th>Bodenklimaraum_Name</th>\n      <th>Landnutzung</th>\n      <th>BZE_Moor</th>\n      <th>Hauptbodentyp</th>\n      <th>BodenVarTypSub</th>\n      <th>GrundwaStufe</th>\n      <th>GrundwaStand</th>\n      <th>Moormaechtigkeit</th>\n      <th>Torfmaechtigkeit</th>\n      <th>Neigung</th>\n      <th>Exposition</th>\n      <th>Woelbung</th>\n      <th>Reliefformtyp</th>\n      <th>LageImRelief</th>\n      <th>KV_0_30</th>\n      <th>KV_30_100</th>\n    </tr>\n  </thead>\n  <tbody>\n    <tr>\n      <th>0</th>\n      <td>2.0</td>\n      <td>0.0</td>\n      <td>28.0</td>\n      <td>22</td>\n      <td>3.0</td>\n      <td>24.0</td>\n      <td>3.0</td>\n      <td>0</td>\n      <td>1.0</td>\n      <td>4</td>\n      <td>../data/BGR/Profilbilder_no_ruler_no_sky/SH_00...</td>\n      <td>3</td>\n      <td>4</td>\n      <td>462216.1283</td>\n      <td>6079359.775</td>\n      <td>37</td>\n      <td>0</td>\n      <td>0</td>\n      <td>15</td>\n      <td>247</td>\n      <td>0.0</td>\n      <td>200.0</td>\n      <td>0.0</td>\n      <td>0.0</td>\n      <td>0.0</td>\n      <td>0.0</td>\n      <td>0.0</td>\n      <td>1.0</td>\n      <td>0.0</td>\n      <td>81.89</td>\n      <td>54.19</td>\n    </tr>\n    <tr>\n      <th>1</th>\n      <td>2.0</td>\n      <td>28.0</td>\n      <td>54.0</td>\n      <td>5</td>\n      <td>3.0</td>\n      <td>0.0</td>\n      <td>3.0</td>\n      <td>0</td>\n      <td>3.0</td>\n      <td>3</td>\n      <td>../data/BGR/Profilbilder_no_ruler_no_sky/SH_00...</td>\n      <td>3</td>\n      <td>4</td>\n      <td>462216.1283</td>\n      <td>6079359.775</td>\n      <td>37</td>\n      <td>0</td>\n      <td>0</td>\n      <td>15</td>\n      <td>247</td>\n      <td>0.0</td>\n      <td>200.0</td>\n      <td>0.0</td>\n      <td>0.0</td>\n      <td>0.0</td>\n      <td>0.0</td>\n      <td>0.0</td>\n      <td>1.0</td>\n      <td>0.0</td>\n      <td>81.89</td>\n      <td>54.19</td>\n    </tr>\n    <tr>\n      <th>2</th>\n      <td>2.0</td>\n      <td>54.0</td>\n      <td>68.0</td>\n      <td>32</td>\n      <td>3.0</td>\n      <td>20.0</td>\n      <td>10.0</td>\n      <td>0</td>\n      <td>2.0</td>\n      <td>3</td>\n      <td>../data/BGR/Profilbilder_no_ruler_no_sky/SH_00...</td>\n      <td>3</td>\n      <td>4</td>\n      <td>462216.1283</td>\n      <td>6079359.775</td>\n      <td>37</td>\n      <td>0</td>\n      <td>0</td>\n      <td>15</td>\n      <td>247</td>\n      <td>0.0</td>\n      <td>200.0</td>\n      <td>0.0</td>\n      <td>0.0</td>\n      <td>0.0</td>\n      <td>0.0</td>\n      <td>0.0</td>\n      <td>1.0</td>\n      <td>0.0</td>\n      <td>81.89</td>\n      <td>54.19</td>\n    </tr>\n    <tr>\n      <th>3</th>\n      <td>2.0</td>\n      <td>68.0</td>\n      <td>96.0</td>\n      <td>62</td>\n      <td>8.0</td>\n      <td>72.0</td>\n      <td>1.0</td>\n      <td>0</td>\n      <td>0.0</td>\n      <td>1</td>\n      <td>../data/BGR/Profilbilder_no_ruler_no_sky/SH_00...</td>\n      <td>3</td>\n      <td>4</td>\n      <td>462216.1283</td>\n      <td>6079359.775</td>\n      <td>37</td>\n      <td>0</td>\n      <td>0</td>\n      <td>15</td>\n      <td>247</td>\n      <td>0.0</td>\n      <td>200.0</td>\n      <td>0.0</td>\n      <td>0.0</td>\n      <td>0.0</td>\n      <td>0.0</td>\n      <td>0.0</td>\n      <td>1.0</td>\n      <td>0.0</td>\n      <td>81.89</td>\n      <td>54.19</td>\n    </tr>\n    <tr>\n      <th>4</th>\n      <td>2.0</td>\n      <td>96.0</td>\n      <td>201.0</td>\n      <td>0</td>\n      <td>7.0</td>\n      <td>37.0</td>\n      <td>1.0</td>\n      <td>0</td>\n      <td>0.0</td>\n      <td>0</td>\n      <td>../data/BGR/Profilbilder_no_ruler_no_sky/SH_00...</td>\n      <td>3</td>\n      <td>4</td>\n      <td>462216.1283</td>\n      <td>6079359.775</td>\n      <td>37</td>\n      <td>0</td>\n      <td>0</td>\n      <td>15</td>\n      <td>247</td>\n      <td>0.0</td>\n      <td>200.0</td>\n      <td>0.0</td>\n      <td>0.0</td>\n      <td>0.0</td>\n      <td>0.0</td>\n      <td>0.0</td>\n      <td>1.0</td>\n      <td>0.0</td>\n      <td>81.89</td>\n      <td>54.19</td>\n    </tr>\n    <tr>\n      <th>...</th>\n      <td>...</td>\n      <td>...</td>\n      <td>...</td>\n      <td>...</td>\n      <td>...</td>\n      <td>...</td>\n      <td>...</td>\n      <td>...</td>\n      <td>...</td>\n      <td>...</td>\n      <td>...</td>\n      <td>...</td>\n      <td>...</td>\n      <td>...</td>\n      <td>...</td>\n      <td>...</td>\n      <td>...</td>\n      <td>...</td>\n      <td>...</td>\n      <td>...</td>\n      <td>...</td>\n      <td>...</td>\n      <td>...</td>\n      <td>...</td>\n      <td>...</td>\n      <td>...</td>\n      <td>...</td>\n      <td>...</td>\n      <td>...</td>\n      <td>...</td>\n      <td>...</td>\n    </tr>\n    <tr>\n      <th>16307</th>\n      <td>6211.0</td>\n      <td>27.0</td>\n      <td>50.0</td>\n      <td>37</td>\n      <td>8.0</td>\n      <td>68.0</td>\n      <td>1.0</td>\n      <td>0</td>\n      <td>3.0</td>\n      <td>3</td>\n      <td>../data/BGR/Profilbilder_no_ruler_no_sky/NI_62...</td>\n      <td>10</td>\n      <td>0</td>\n      <td>522076.9633</td>\n      <td>5930456.114</td>\n      <td>15</td>\n      <td>1</td>\n      <td>0</td>\n      <td>8</td>\n      <td>42</td>\n      <td>1.0</td>\n      <td>110.0</td>\n      <td>0.0</td>\n      <td>0.0</td>\n      <td>0.0</td>\n      <td>0.0</td>\n      <td>0.0</td>\n      <td>2.0</td>\n      <td>5.0</td>\n      <td>117.59</td>\n      <td>87.72</td>\n    </tr>\n    <tr>\n      <th>16308</th>\n      <td>6211.0</td>\n      <td>50.0</td>\n      <td>70.0</td>\n      <td>12</td>\n      <td>8.0</td>\n      <td>38.0</td>\n      <td>1.0</td>\n      <td>0</td>\n      <td>2.0</td>\n      <td>1</td>\n      <td>../data/BGR/Profilbilder_no_ruler_no_sky/NI_62...</td>\n      <td>10</td>\n      <td>0</td>\n      <td>522076.9633</td>\n      <td>5930456.114</td>\n      <td>15</td>\n      <td>1</td>\n      <td>0</td>\n      <td>8</td>\n      <td>42</td>\n      <td>1.0</td>\n      <td>110.0</td>\n      <td>0.0</td>\n      <td>0.0</td>\n      <td>0.0</td>\n      <td>0.0</td>\n      <td>0.0</td>\n      <td>2.0</td>\n      <td>5.0</td>\n      <td>117.59</td>\n      <td>87.72</td>\n    </tr>\n    <tr>\n      <th>16309</th>\n      <td>6211.0</td>\n      <td>50.0</td>\n      <td>70.0</td>\n      <td>12</td>\n      <td>8.0</td>\n      <td>38.0</td>\n      <td>1.0</td>\n      <td>0</td>\n      <td>2.0</td>\n      <td>1</td>\n      <td>../data/BGR/Profilbilder_no_ruler_no_sky/NI_62...</td>\n      <td>10</td>\n      <td>0</td>\n      <td>522076.9633</td>\n      <td>5930456.114</td>\n      <td>15</td>\n      <td>1</td>\n      <td>0</td>\n      <td>8</td>\n      <td>42</td>\n      <td>1.0</td>\n      <td>110.0</td>\n      <td>0.0</td>\n      <td>0.0</td>\n      <td>0.0</td>\n      <td>0.0</td>\n      <td>0.0</td>\n      <td>2.0</td>\n      <td>5.0</td>\n      <td>117.59</td>\n      <td>87.72</td>\n    </tr>\n    <tr>\n      <th>16310</th>\n      <td>6211.0</td>\n      <td>70.0</td>\n      <td>100.0</td>\n      <td>74</td>\n      <td>8.0</td>\n      <td>19.0</td>\n      <td>1.0</td>\n      <td>0</td>\n      <td>2.0</td>\n      <td>6</td>\n      <td>../data/BGR/Profilbilder_no_ruler_no_sky/NI_62...</td>\n      <td>10</td>\n      <td>0</td>\n      <td>522076.9633</td>\n      <td>5930456.114</td>\n      <td>15</td>\n      <td>1</td>\n      <td>0</td>\n      <td>8</td>\n      <td>42</td>\n      <td>1.0</td>\n      <td>110.0</td>\n      <td>0.0</td>\n      <td>0.0</td>\n      <td>0.0</td>\n      <td>0.0</td>\n      <td>0.0</td>\n      <td>2.0</td>\n      <td>5.0</td>\n      <td>117.59</td>\n      <td>87.72</td>\n    </tr>\n    <tr>\n      <th>16311</th>\n      <td>6211.0</td>\n      <td>70.0</td>\n      <td>100.0</td>\n      <td>74</td>\n      <td>8.0</td>\n      <td>19.0</td>\n      <td>1.0</td>\n      <td>0</td>\n      <td>2.0</td>\n      <td>6</td>\n      <td>../data/BGR/Profilbilder_no_ruler_no_sky/NI_62...</td>\n      <td>10</td>\n      <td>0</td>\n      <td>522076.9633</td>\n      <td>5930456.114</td>\n      <td>15</td>\n      <td>1</td>\n      <td>0</td>\n      <td>8</td>\n      <td>42</td>\n      <td>1.0</td>\n      <td>110.0</td>\n      <td>0.0</td>\n      <td>0.0</td>\n      <td>0.0</td>\n      <td>0.0</td>\n      <td>0.0</td>\n      <td>2.0</td>\n      <td>5.0</td>\n      <td>117.59</td>\n      <td>87.72</td>\n    </tr>\n  </tbody>\n</table>\n<p>13621 rows × 31 columns</p>\n</div>"
     },
     "execution_count": 25,
     "metadata": {},
     "output_type": "execute_result"
    }
   ],
   "source": [
    "# Encode categorical features (NaNs are left NaNs)\n",
    "for categ in categ_features:\n",
    "    bgr_data.encode_categorical_columns(df, categ)\n",
    "df"
   ],
   "metadata": {
    "collapsed": false,
    "pycharm": {
     "name": "#%%\n"
    }
   }
  },
  {
   "cell_type": "code",
   "execution_count": 26,
   "outputs": [
    {
     "name": "stdout",
     "output_type": "stream",
     "text": [
      "<class 'pandas.core.frame.DataFrame'>\n",
      "Index: 13621 entries, 0 to 16311\n",
      "Data columns (total 31 columns):\n",
      " #   Column                   Non-Null Count  Dtype  \n",
      "---  ------                   --------------  -----  \n",
      " 0   Point                    13621 non-null  float64\n",
      " 1   Obergrenze               13621 non-null  float64\n",
      " 2   Untergrenze              13621 non-null  float64\n",
      " 3   Horizontsymbol_relevant  13621 non-null  int64  \n",
      " 4   Bodenart                 13589 non-null  float64\n",
      " 5   Bodenfarbe               13572 non-null  float64\n",
      " 6   Steine                   13621 non-null  float64\n",
      " 7   Karbonat                 13621 non-null  int64  \n",
      " 8   Humusgehaltsklasse       13615 non-null  float64\n",
      " 9   Durchwurzelung           13621 non-null  int64  \n",
      " 10  file                     13621 non-null  object \n",
      " 11  Probenahme_Monat         13621 non-null  int64  \n",
      " 12  Probenahme_Jahr          13621 non-null  int64  \n",
      " 13  xcoord                   13621 non-null  float64\n",
      " 14  ycoord                   13621 non-null  float64\n",
      " 15  Bodenklimaraum_Name      13621 non-null  int64  \n",
      " 16  Landnutzung              13621 non-null  int64  \n",
      " 17  BZE_Moor                 13621 non-null  int64  \n",
      " 18  Hauptbodentyp            13621 non-null  int64  \n",
      " 19  BodenVarTypSub           13621 non-null  int64  \n",
      " 20  GrundwaStufe             13609 non-null  float64\n",
      " 21  GrundwaStand             11401 non-null  float64\n",
      " 22  Moormaechtigkeit         13609 non-null  float64\n",
      " 23  Torfmaechtigkeit         13609 non-null  float64\n",
      " 24  Neigung                  13609 non-null  float64\n",
      " 25  Exposition               12901 non-null  float64\n",
      " 26  Woelbung                 13609 non-null  float64\n",
      " 27  Reliefformtyp            13609 non-null  float64\n",
      " 28  LageImRelief             13609 non-null  float64\n",
      " 29  KV_0_30                  13609 non-null  float64\n",
      " 30  KV_30_100                13552 non-null  float64\n",
      "dtypes: float64(20), int64(10), object(1)\n",
      "memory usage: 3.3+ MB\n"
     ]
    }
   ],
   "source": [
    "# Some columns still have NaNs\n",
    "# For now, we are replacing the missing values with the column medians\n",
    "# Any better ideas? In particular the column GrundwaStand has quite a few missing entries...\n",
    "df.info()\n",
    "df = df.fillna(df.median(numeric_only=True))"
   ],
   "metadata": {
    "collapsed": false,
    "pycharm": {
     "name": "#%%\n"
    }
   }
  },
  {
   "cell_type": "code",
   "execution_count": 27,
   "outputs": [
    {
     "data": {
      "text/plain": "3101"
     },
     "execution_count": 27,
     "metadata": {},
     "output_type": "execute_result"
    }
   ],
   "source": [
    "len(df['Point'].unique()) # number of unique images"
   ],
   "metadata": {
    "collapsed": false,
    "pycharm": {
     "name": "#%%\n"
    }
   }
  },
  {
   "cell_type": "markdown",
   "source": [
    "### Training"
   ],
   "metadata": {
    "collapsed": false
   }
  },
  {
   "cell_type": "code",
   "execution_count": 28,
   "outputs": [],
   "source": [
    "# Split variables into different categories according to their roles in the sequential training\n",
    "soil_infos = ['Bodenart', 'Bodenfarbe', 'Steine', 'Karbonat', 'Humusgehaltsklasse', 'Durchwurzelung']#, 'max_depth', 'HorizontID']\n",
    "\n",
    "geotemp_img_infos = [#'Point',\n",
    "                     'Probenahme_Monat', 'Probenahme_Jahr', 'xcoord', 'ycoord', 'Bodenklimaraum_Name', 'Landnutzung', 'BZE_Moor', 'Hauptbodentyp', 'BodenVarTypSub', 'GrundwaStufe', 'GrundwaStand',\n",
    "                     'Moormaechtigkeit', 'Torfmaechtigkeit', 'Neigung', 'Exposition', 'Woelbung', 'Reliefformtyp', 'LageImRelief', 'KV_0_30', 'KV_30_100',\n",
    "                     'file']\n",
    "\n",
    "depth_markers = ['Obergrenze', 'Untergrenze']\n",
    "\n",
    "# horizon symbols already in 'target' (see above)"
   ],
   "metadata": {
    "collapsed": false,
    "pycharm": {
     "name": "#%%\n"
    }
   }
  },
  {
   "cell_type": "code",
   "execution_count": 29,
   "outputs": [
    {
     "data": {
      "text/plain": "      index  Probenahme_Monat  Probenahme_Jahr       xcoord       ycoord  \\\n0         0                 1                7  819021.7488  5941699.083   \n1         1                 1                6  819307.3864  5935183.595   \n2         2                 8                6  826424.5503  5932240.596   \n3         3                 4                6  807568.3913  5926533.227   \n4         4                 1                6  818608.7036  5925050.271   \n...     ...               ...              ...          ...          ...   \n3342   3342                 0                6  648389.8108  5588119.501   \n3343   3343                 0                4  688216.3809  5588885.660   \n3344   3344                 0                4  701551.6557  5587919.679   \n3345   3345                 3                4  653547.6374  5581353.991   \n3346   3346                 4                5  620404.8554  5569180.493   \n\n      Bodenklimaraum_Name  Landnutzung  BZE_Moor  Hauptbodentyp  \\\n0                       7            0         0             12   \n1                       7            0         0             11   \n2                       7            0         0             10   \n3                       7            0         0             12   \n4                       7            0         0              7   \n...                   ...          ...       ...            ...   \n3342                   10            1         0              0   \n3343                   10            0         0              0   \n3344                   10            0         0              0   \n3345                   10            0         0              0   \n3346                   10            0         0              5   \n\n      BodenVarTypSub  GrundwaStufe  GrundwaStand  Moormaechtigkeit  \\\n0                770           0.0         200.0               0.0   \n1                371           0.0         200.0               0.0   \n2                 22           0.0         200.0               0.0   \n3                 44           0.0         200.0               0.0   \n4                413           2.0         200.0               0.0   \n...              ...           ...           ...               ...   \n3342             616           0.0         200.0               0.0   \n3343               9           0.0         200.0               0.0   \n3344               0           0.0         200.0               0.0   \n3345               2           0.0         200.0               0.0   \n3346               3           0.0         200.0               0.0   \n\n      Torfmaechtigkeit  Neigung  Exposition  Woelbung  Reliefformtyp  \\\n0                  0.0      3.0         1.0       1.0            0.0   \n1                  0.0      2.0         2.0       0.0            0.0   \n2                  0.0      3.0         2.0       0.0            0.0   \n3                  0.0      4.0         5.0       2.0           14.0   \n4                  0.0      3.0         5.0       0.0            4.0   \n...                ...      ...         ...       ...            ...   \n3342               0.0      8.0         7.0       7.0            0.0   \n3343               0.0      1.0         4.0       6.0            0.0   \n3344               0.0      6.0         4.0       0.0            0.0   \n3345               0.0      5.0         2.0       0.0            3.0   \n3346               0.0      1.0         3.0       0.0            0.0   \n\n      LageImRelief  KV_0_30  KV_30_100  \\\n0              1.0    38.60      21.42   \n1              3.0    34.91      11.67   \n2              1.0    42.21      34.56   \n3              3.0    37.39      13.22   \n4              1.0    48.47      16.43   \n...            ...      ...        ...   \n3342           3.0    48.82       2.46   \n3343           1.0    69.19      23.61   \n3344           1.0    75.65       9.34   \n3345           5.0    61.72      30.69   \n3346           3.0    80.30      19.58   \n\n                                                   file  \\\n0     ../data/BGR/Profilbilder_no_ruler_no_sky/BB_05...   \n1     ../data/BGR/Profilbilder_no_ruler_no_sky/BB_06...   \n2     ../data/BGR/Profilbilder_no_ruler_no_sky/BB_06...   \n3     ../data/BGR/Profilbilder_no_ruler_no_sky/BB_06...   \n4     ../data/BGR/Profilbilder_no_ruler_no_sky/BB_06...   \n...                                                 ...   \n3342  ../data/BGR/Profilbilder_no_ruler_no_sky/TH_34...   \n3343  ../data/BGR/Profilbilder_no_ruler_no_sky/TH_34...   \n3344  ../data/BGR/Profilbilder_no_ruler_no_sky/TH_34...   \n3345  ../data/BGR/Profilbilder_no_ruler_no_sky/TH_35...   \n3346  ../data/BGR/Profilbilder_no_ruler_no_sky/TH_35...   \n\n                                Untergrenze  \\\n0                 [30.0, 38.0, 50.0, 200.0]   \n1     [29.0, 40.0, 54.0, 60.0, 80.0, 201.0]   \n2                 [28.0, 50.0, 74.0, 110.0]   \n3                 [30.0, 47.0, 73.0, 102.0]   \n4           [33.0, 43.0, 71.0, 88.0, 100.0]   \n...                                     ...   \n3342               [14.0, 40.0, 60.0, 93.0]   \n3343                    [34.0, 69.0, 140.0]   \n3344              [20.0, 27.0, 70.0, 100.0]   \n3345              [31.0, 49.0, 71.0, 144.0]   \n3346                     [27.0, 70.0, 92.0]   \n\n                                Bodenart                          Bodenfarbe  \\\n0                 [3.0, 3.0, 10.0, 12.0]               [1.0, 1.0, 10.0, 5.0]   \n1     [11.0, 11.0, 6.0, 10.0, 3.0, 21.0]  [4.0, 5.0, 29.0, 30.0, 42.0, 75.0]   \n2               [10.0, 11.0, 11.0, 11.0]                [0.0, 0.0, 3.0, 3.0]   \n3                   [2.0, 2.0, 3.0, 3.0]             [0.0, 10.0, 13.0, 16.0]   \n4           [28.0, 7.0, 2.0, 20.0, 10.0]       [0.0, 15.0, 54.0, 44.0, 14.0]   \n...                                  ...                                 ...   \n3342            [15.0, 15.0, 26.0, 26.0]              [6.0, 5.0, 53.0, 53.0]   \n3343                    [4.0, 4.0, 18.0]                    [0.0, 3.0, 10.0]   \n3344            [15.0, 15.0, 15.0, 26.0]               [2.0, 2.0, 3.0, 23.0]   \n3345            [15.0, 15.0, 15.0, 33.0]               [1.0, 7.0, 5.0, 16.0]   \n3346                    [1.0, 12.0, 1.0]                   [6.0, 23.0, 31.0]   \n\n                              Steine            Karbonat  \\\n0               [2.0, 2.0, 4.0, 4.0]        [0, 0, 0, 0]   \n1     [3.0, 3.0, 3.0, 3.0, 3.0, 3.0]  [2, 0, 2, 5, 7, 5]   \n2               [4.0, 4.0, 4.0, 4.0]        [0, 0, 7, 7]   \n3               [4.0, 4.0, 2.0, 2.0]        [0, 0, 0, 0]   \n4          [1.0, 0.0, 0.0, 0.0, 0.0]     [0, 0, 0, 0, 0]   \n...                              ...                 ...   \n3342        [60.0, 75.0, 90.0, 90.0]        [0, 0, 0, 0]   \n3343              [20.0, 30.0, 25.0]           [0, 0, 0]   \n3344        [15.0, 25.0, 60.0, 90.0]        [0, 0, 0, 0]   \n3345          [5.0, 5.0, 20.0, 25.0]        [0, 0, 0, 0]   \n3346               [3.0, 10.0, 30.0]           [3, 4, 4]   \n\n                  Humusgehaltsklasse      Durchwurzelung  \\\n0               [3.0, 3.0, 0.0, 0.0]        [3, 3, 1, 2]   \n1     [1.0, 2.0, 2.0, 2.0, 2.0, 0.0]  [4, 3, 1, 1, 1, 0]   \n2               [1.0, 3.0, 2.0, 0.0]        [4, 3, 3, 1]   \n3               [1.0, 2.0, 0.0, 0.0]        [3, 1, 1, 2]   \n4          [1.0, 2.0, 2.0, 0.0, 0.0]     [3, 0, 0, 0, 0]   \n...                              ...                 ...   \n3342            [1.0, 2.0, 0.0, 0.0]        [5, 3, 1, 2]   \n3343                 [1.0, 2.0, 0.0]           [5, 3, 1]   \n3344            [1.0, 1.0, 2.0, 0.0]        [4, 1, 0, 0]   \n3345            [1.0, 2.0, 0.0, 0.0]        [3, 2, 2, 2]   \n3346                 [1.0, 2.0, 0.0]           [0, 4, 4]   \n\n       Horizontsymbol_relevant  \n0             [22, 22, 73, 76]  \n1     [22, 65, 65, 81, 81, 81]  \n2             [40, 13, 34, 34]  \n3              [22, 1, 69, 78]  \n4           [22, 0, 65, 0, 68]  \n...                        ...  \n3342          [22, 14, 62, 77]  \n3343              [22, 32, 77]  \n3344           [22, 22, 32, 0]  \n3345           [22, 32, 47, 2]  \n3346              [22, 34, 34]  \n\n[3347 rows x 30 columns]",
      "text/html": "<div>\n<style scoped>\n    .dataframe tbody tr th:only-of-type {\n        vertical-align: middle;\n    }\n\n    .dataframe tbody tr th {\n        vertical-align: top;\n    }\n\n    .dataframe thead th {\n        text-align: right;\n    }\n</style>\n<table border=\"1\" class=\"dataframe\">\n  <thead>\n    <tr style=\"text-align: right;\">\n      <th></th>\n      <th>index</th>\n      <th>Probenahme_Monat</th>\n      <th>Probenahme_Jahr</th>\n      <th>xcoord</th>\n      <th>ycoord</th>\n      <th>Bodenklimaraum_Name</th>\n      <th>Landnutzung</th>\n      <th>BZE_Moor</th>\n      <th>Hauptbodentyp</th>\n      <th>BodenVarTypSub</th>\n      <th>GrundwaStufe</th>\n      <th>GrundwaStand</th>\n      <th>Moormaechtigkeit</th>\n      <th>Torfmaechtigkeit</th>\n      <th>Neigung</th>\n      <th>Exposition</th>\n      <th>Woelbung</th>\n      <th>Reliefformtyp</th>\n      <th>LageImRelief</th>\n      <th>KV_0_30</th>\n      <th>KV_30_100</th>\n      <th>file</th>\n      <th>Untergrenze</th>\n      <th>Bodenart</th>\n      <th>Bodenfarbe</th>\n      <th>Steine</th>\n      <th>Karbonat</th>\n      <th>Humusgehaltsklasse</th>\n      <th>Durchwurzelung</th>\n      <th>Horizontsymbol_relevant</th>\n    </tr>\n  </thead>\n  <tbody>\n    <tr>\n      <th>0</th>\n      <td>0</td>\n      <td>1</td>\n      <td>7</td>\n      <td>819021.7488</td>\n      <td>5941699.083</td>\n      <td>7</td>\n      <td>0</td>\n      <td>0</td>\n      <td>12</td>\n      <td>770</td>\n      <td>0.0</td>\n      <td>200.0</td>\n      <td>0.0</td>\n      <td>0.0</td>\n      <td>3.0</td>\n      <td>1.0</td>\n      <td>1.0</td>\n      <td>0.0</td>\n      <td>1.0</td>\n      <td>38.60</td>\n      <td>21.42</td>\n      <td>../data/BGR/Profilbilder_no_ruler_no_sky/BB_05...</td>\n      <td>[30.0, 38.0, 50.0, 200.0]</td>\n      <td>[3.0, 3.0, 10.0, 12.0]</td>\n      <td>[1.0, 1.0, 10.0, 5.0]</td>\n      <td>[2.0, 2.0, 4.0, 4.0]</td>\n      <td>[0, 0, 0, 0]</td>\n      <td>[3.0, 3.0, 0.0, 0.0]</td>\n      <td>[3, 3, 1, 2]</td>\n      <td>[22, 22, 73, 76]</td>\n    </tr>\n    <tr>\n      <th>1</th>\n      <td>1</td>\n      <td>1</td>\n      <td>6</td>\n      <td>819307.3864</td>\n      <td>5935183.595</td>\n      <td>7</td>\n      <td>0</td>\n      <td>0</td>\n      <td>11</td>\n      <td>371</td>\n      <td>0.0</td>\n      <td>200.0</td>\n      <td>0.0</td>\n      <td>0.0</td>\n      <td>2.0</td>\n      <td>2.0</td>\n      <td>0.0</td>\n      <td>0.0</td>\n      <td>3.0</td>\n      <td>34.91</td>\n      <td>11.67</td>\n      <td>../data/BGR/Profilbilder_no_ruler_no_sky/BB_06...</td>\n      <td>[29.0, 40.0, 54.0, 60.0, 80.0, 201.0]</td>\n      <td>[11.0, 11.0, 6.0, 10.0, 3.0, 21.0]</td>\n      <td>[4.0, 5.0, 29.0, 30.0, 42.0, 75.0]</td>\n      <td>[3.0, 3.0, 3.0, 3.0, 3.0, 3.0]</td>\n      <td>[2, 0, 2, 5, 7, 5]</td>\n      <td>[1.0, 2.0, 2.0, 2.0, 2.0, 0.0]</td>\n      <td>[4, 3, 1, 1, 1, 0]</td>\n      <td>[22, 65, 65, 81, 81, 81]</td>\n    </tr>\n    <tr>\n      <th>2</th>\n      <td>2</td>\n      <td>8</td>\n      <td>6</td>\n      <td>826424.5503</td>\n      <td>5932240.596</td>\n      <td>7</td>\n      <td>0</td>\n      <td>0</td>\n      <td>10</td>\n      <td>22</td>\n      <td>0.0</td>\n      <td>200.0</td>\n      <td>0.0</td>\n      <td>0.0</td>\n      <td>3.0</td>\n      <td>2.0</td>\n      <td>0.0</td>\n      <td>0.0</td>\n      <td>1.0</td>\n      <td>42.21</td>\n      <td>34.56</td>\n      <td>../data/BGR/Profilbilder_no_ruler_no_sky/BB_06...</td>\n      <td>[28.0, 50.0, 74.0, 110.0]</td>\n      <td>[10.0, 11.0, 11.0, 11.0]</td>\n      <td>[0.0, 0.0, 3.0, 3.0]</td>\n      <td>[4.0, 4.0, 4.0, 4.0]</td>\n      <td>[0, 0, 7, 7]</td>\n      <td>[1.0, 3.0, 2.0, 0.0]</td>\n      <td>[4, 3, 3, 1]</td>\n      <td>[40, 13, 34, 34]</td>\n    </tr>\n    <tr>\n      <th>3</th>\n      <td>3</td>\n      <td>4</td>\n      <td>6</td>\n      <td>807568.3913</td>\n      <td>5926533.227</td>\n      <td>7</td>\n      <td>0</td>\n      <td>0</td>\n      <td>12</td>\n      <td>44</td>\n      <td>0.0</td>\n      <td>200.0</td>\n      <td>0.0</td>\n      <td>0.0</td>\n      <td>4.0</td>\n      <td>5.0</td>\n      <td>2.0</td>\n      <td>14.0</td>\n      <td>3.0</td>\n      <td>37.39</td>\n      <td>13.22</td>\n      <td>../data/BGR/Profilbilder_no_ruler_no_sky/BB_06...</td>\n      <td>[30.0, 47.0, 73.0, 102.0]</td>\n      <td>[2.0, 2.0, 3.0, 3.0]</td>\n      <td>[0.0, 10.0, 13.0, 16.0]</td>\n      <td>[4.0, 4.0, 2.0, 2.0]</td>\n      <td>[0, 0, 0, 0]</td>\n      <td>[1.0, 2.0, 0.0, 0.0]</td>\n      <td>[3, 1, 1, 2]</td>\n      <td>[22, 1, 69, 78]</td>\n    </tr>\n    <tr>\n      <th>4</th>\n      <td>4</td>\n      <td>1</td>\n      <td>6</td>\n      <td>818608.7036</td>\n      <td>5925050.271</td>\n      <td>7</td>\n      <td>0</td>\n      <td>0</td>\n      <td>7</td>\n      <td>413</td>\n      <td>2.0</td>\n      <td>200.0</td>\n      <td>0.0</td>\n      <td>0.0</td>\n      <td>3.0</td>\n      <td>5.0</td>\n      <td>0.0</td>\n      <td>4.0</td>\n      <td>1.0</td>\n      <td>48.47</td>\n      <td>16.43</td>\n      <td>../data/BGR/Profilbilder_no_ruler_no_sky/BB_06...</td>\n      <td>[33.0, 43.0, 71.0, 88.0, 100.0]</td>\n      <td>[28.0, 7.0, 2.0, 20.0, 10.0]</td>\n      <td>[0.0, 15.0, 54.0, 44.0, 14.0]</td>\n      <td>[1.0, 0.0, 0.0, 0.0, 0.0]</td>\n      <td>[0, 0, 0, 0, 0]</td>\n      <td>[1.0, 2.0, 2.0, 0.0, 0.0]</td>\n      <td>[3, 0, 0, 0, 0]</td>\n      <td>[22, 0, 65, 0, 68]</td>\n    </tr>\n    <tr>\n      <th>...</th>\n      <td>...</td>\n      <td>...</td>\n      <td>...</td>\n      <td>...</td>\n      <td>...</td>\n      <td>...</td>\n      <td>...</td>\n      <td>...</td>\n      <td>...</td>\n      <td>...</td>\n      <td>...</td>\n      <td>...</td>\n      <td>...</td>\n      <td>...</td>\n      <td>...</td>\n      <td>...</td>\n      <td>...</td>\n      <td>...</td>\n      <td>...</td>\n      <td>...</td>\n      <td>...</td>\n      <td>...</td>\n      <td>...</td>\n      <td>...</td>\n      <td>...</td>\n      <td>...</td>\n      <td>...</td>\n      <td>...</td>\n      <td>...</td>\n      <td>...</td>\n    </tr>\n    <tr>\n      <th>3342</th>\n      <td>3342</td>\n      <td>0</td>\n      <td>6</td>\n      <td>648389.8108</td>\n      <td>5588119.501</td>\n      <td>10</td>\n      <td>1</td>\n      <td>0</td>\n      <td>0</td>\n      <td>616</td>\n      <td>0.0</td>\n      <td>200.0</td>\n      <td>0.0</td>\n      <td>0.0</td>\n      <td>8.0</td>\n      <td>7.0</td>\n      <td>7.0</td>\n      <td>0.0</td>\n      <td>3.0</td>\n      <td>48.82</td>\n      <td>2.46</td>\n      <td>../data/BGR/Profilbilder_no_ruler_no_sky/TH_34...</td>\n      <td>[14.0, 40.0, 60.0, 93.0]</td>\n      <td>[15.0, 15.0, 26.0, 26.0]</td>\n      <td>[6.0, 5.0, 53.0, 53.0]</td>\n      <td>[60.0, 75.0, 90.0, 90.0]</td>\n      <td>[0, 0, 0, 0]</td>\n      <td>[1.0, 2.0, 0.0, 0.0]</td>\n      <td>[5, 3, 1, 2]</td>\n      <td>[22, 14, 62, 77]</td>\n    </tr>\n    <tr>\n      <th>3343</th>\n      <td>3343</td>\n      <td>0</td>\n      <td>4</td>\n      <td>688216.3809</td>\n      <td>5588885.660</td>\n      <td>10</td>\n      <td>0</td>\n      <td>0</td>\n      <td>0</td>\n      <td>9</td>\n      <td>0.0</td>\n      <td>200.0</td>\n      <td>0.0</td>\n      <td>0.0</td>\n      <td>1.0</td>\n      <td>4.0</td>\n      <td>6.0</td>\n      <td>0.0</td>\n      <td>1.0</td>\n      <td>69.19</td>\n      <td>23.61</td>\n      <td>../data/BGR/Profilbilder_no_ruler_no_sky/TH_34...</td>\n      <td>[34.0, 69.0, 140.0]</td>\n      <td>[4.0, 4.0, 18.0]</td>\n      <td>[0.0, 3.0, 10.0]</td>\n      <td>[20.0, 30.0, 25.0]</td>\n      <td>[0, 0, 0]</td>\n      <td>[1.0, 2.0, 0.0]</td>\n      <td>[5, 3, 1]</td>\n      <td>[22, 32, 77]</td>\n    </tr>\n    <tr>\n      <th>3344</th>\n      <td>3344</td>\n      <td>0</td>\n      <td>4</td>\n      <td>701551.6557</td>\n      <td>5587919.679</td>\n      <td>10</td>\n      <td>0</td>\n      <td>0</td>\n      <td>0</td>\n      <td>0</td>\n      <td>0.0</td>\n      <td>200.0</td>\n      <td>0.0</td>\n      <td>0.0</td>\n      <td>6.0</td>\n      <td>4.0</td>\n      <td>0.0</td>\n      <td>0.0</td>\n      <td>1.0</td>\n      <td>75.65</td>\n      <td>9.34</td>\n      <td>../data/BGR/Profilbilder_no_ruler_no_sky/TH_34...</td>\n      <td>[20.0, 27.0, 70.0, 100.0]</td>\n      <td>[15.0, 15.0, 15.0, 26.0]</td>\n      <td>[2.0, 2.0, 3.0, 23.0]</td>\n      <td>[15.0, 25.0, 60.0, 90.0]</td>\n      <td>[0, 0, 0, 0]</td>\n      <td>[1.0, 1.0, 2.0, 0.0]</td>\n      <td>[4, 1, 0, 0]</td>\n      <td>[22, 22, 32, 0]</td>\n    </tr>\n    <tr>\n      <th>3345</th>\n      <td>3345</td>\n      <td>3</td>\n      <td>4</td>\n      <td>653547.6374</td>\n      <td>5581353.991</td>\n      <td>10</td>\n      <td>0</td>\n      <td>0</td>\n      <td>0</td>\n      <td>2</td>\n      <td>0.0</td>\n      <td>200.0</td>\n      <td>0.0</td>\n      <td>0.0</td>\n      <td>5.0</td>\n      <td>2.0</td>\n      <td>0.0</td>\n      <td>3.0</td>\n      <td>5.0</td>\n      <td>61.72</td>\n      <td>30.69</td>\n      <td>../data/BGR/Profilbilder_no_ruler_no_sky/TH_35...</td>\n      <td>[31.0, 49.0, 71.0, 144.0]</td>\n      <td>[15.0, 15.0, 15.0, 33.0]</td>\n      <td>[1.0, 7.0, 5.0, 16.0]</td>\n      <td>[5.0, 5.0, 20.0, 25.0]</td>\n      <td>[0, 0, 0, 0]</td>\n      <td>[1.0, 2.0, 0.0, 0.0]</td>\n      <td>[3, 2, 2, 2]</td>\n      <td>[22, 32, 47, 2]</td>\n    </tr>\n    <tr>\n      <th>3346</th>\n      <td>3346</td>\n      <td>4</td>\n      <td>5</td>\n      <td>620404.8554</td>\n      <td>5569180.493</td>\n      <td>10</td>\n      <td>0</td>\n      <td>0</td>\n      <td>5</td>\n      <td>3</td>\n      <td>0.0</td>\n      <td>200.0</td>\n      <td>0.0</td>\n      <td>0.0</td>\n      <td>1.0</td>\n      <td>3.0</td>\n      <td>0.0</td>\n      <td>0.0</td>\n      <td>3.0</td>\n      <td>80.30</td>\n      <td>19.58</td>\n      <td>../data/BGR/Profilbilder_no_ruler_no_sky/TH_35...</td>\n      <td>[27.0, 70.0, 92.0]</td>\n      <td>[1.0, 12.0, 1.0]</td>\n      <td>[6.0, 23.0, 31.0]</td>\n      <td>[3.0, 10.0, 30.0]</td>\n      <td>[3, 4, 4]</td>\n      <td>[1.0, 2.0, 0.0]</td>\n      <td>[0, 4, 4]</td>\n      <td>[22, 34, 34]</td>\n    </tr>\n  </tbody>\n</table>\n<p>3347 rows × 30 columns</p>\n</div>"
     },
     "execution_count": 29,
     "metadata": {},
     "output_type": "execute_result"
    }
   ],
   "source": [
    "# The dataframe has one row per horizon\n",
    "# For sequential training, make it one row per full image (the depth markers and the morphological features will be stored as lists and used later as ground truth in training)\n",
    "df = df.groupby('file', as_index=False).agg({     # Group by images, not by Point, since there are sometimes several images (different angles) for the same Point\n",
    "    **{gt: 'first' for gt in geotemp_img_infos},  # Take the first value (all are the same for each image, including the image path)\n",
    "    'Untergrenze': list,                          # Combine depth markers into a list (only lower bound Untergrenze actually needed)\n",
    "    **{st: list for st in soil_infos},            # Combine tabular features into lists (in the order of the horizons top to bottom)\n",
    "    target: list\n",
    "}).reset_index()\n",
    "geotemp_img_infos = ['index'] + geotemp_img_infos # Add the new index column\n",
    "                                                  # Used only for accessing the morphological features in the dataframe\n",
    "                                                  # (they have different shapes and cannot be stacked in tensor batches)\n",
    "df"
   ],
   "metadata": {
    "collapsed": false,
    "pycharm": {
     "name": "#%%\n"
    }
   }
  },
  {
   "cell_type": "code",
   "execution_count": 30,
   "outputs": [
    {
     "data": {
      "text/plain": "      index  Probenahme_Monat  Probenahme_Jahr       xcoord       ycoord  \\\n0         0                 1                7  819021.7488  5941699.083   \n1         1                 1                6  819307.3864  5935183.595   \n2         2                 8                6  826424.5503  5932240.596   \n3         3                 4                6  807568.3913  5926533.227   \n4         4                 1                6  818608.7036  5925050.271   \n...     ...               ...              ...          ...          ...   \n3342   3342                 0                6  648389.8108  5588119.501   \n3343   3343                 0                4  688216.3809  5588885.660   \n3344   3344                 0                4  701551.6557  5587919.679   \n3345   3345                 3                4  653547.6374  5581353.991   \n3346   3346                 4                5  620404.8554  5569180.493   \n\n      Bodenklimaraum_Name  Landnutzung  BZE_Moor  Hauptbodentyp  \\\n0                       7            0         0             12   \n1                       7            0         0             11   \n2                       7            0         0             10   \n3                       7            0         0             12   \n4                       7            0         0              7   \n...                   ...          ...       ...            ...   \n3342                   10            1         0              0   \n3343                   10            0         0              0   \n3344                   10            0         0              0   \n3345                   10            0         0              0   \n3346                   10            0         0              5   \n\n      BodenVarTypSub  GrundwaStufe  GrundwaStand  Moormaechtigkeit  \\\n0                770           0.0         200.0               0.0   \n1                371           0.0         200.0               0.0   \n2                 22           0.0         200.0               0.0   \n3                 44           0.0         200.0               0.0   \n4                413           2.0         200.0               0.0   \n...              ...           ...           ...               ...   \n3342             616           0.0         200.0               0.0   \n3343               9           0.0         200.0               0.0   \n3344               0           0.0         200.0               0.0   \n3345               2           0.0         200.0               0.0   \n3346               3           0.0         200.0               0.0   \n\n      Torfmaechtigkeit  Neigung  Exposition  Woelbung  Reliefformtyp  \\\n0                  0.0      3.0         1.0       1.0            0.0   \n1                  0.0      2.0         2.0       0.0            0.0   \n2                  0.0      3.0         2.0       0.0            0.0   \n3                  0.0      4.0         5.0       2.0           14.0   \n4                  0.0      3.0         5.0       0.0            4.0   \n...                ...      ...         ...       ...            ...   \n3342               0.0      8.0         7.0       7.0            0.0   \n3343               0.0      1.0         4.0       6.0            0.0   \n3344               0.0      6.0         4.0       0.0            0.0   \n3345               0.0      5.0         2.0       0.0            3.0   \n3346               0.0      1.0         3.0       0.0            0.0   \n\n      LageImRelief  KV_0_30  KV_30_100  \\\n0              1.0    38.60      21.42   \n1              3.0    34.91      11.67   \n2              1.0    42.21      34.56   \n3              3.0    37.39      13.22   \n4              1.0    48.47      16.43   \n...            ...      ...        ...   \n3342           3.0    48.82       2.46   \n3343           1.0    69.19      23.61   \n3344           1.0    75.65       9.34   \n3345           5.0    61.72      30.69   \n3346           3.0    80.30      19.58   \n\n                                                   file  \\\n0     ../data/BGR/Profilbilder_no_ruler_no_sky/BB_05...   \n1     ../data/BGR/Profilbilder_no_ruler_no_sky/BB_06...   \n2     ../data/BGR/Profilbilder_no_ruler_no_sky/BB_06...   \n3     ../data/BGR/Profilbilder_no_ruler_no_sky/BB_06...   \n4     ../data/BGR/Profilbilder_no_ruler_no_sky/BB_06...   \n...                                                 ...   \n3342  ../data/BGR/Profilbilder_no_ruler_no_sky/TH_34...   \n3343  ../data/BGR/Profilbilder_no_ruler_no_sky/TH_34...   \n3344  ../data/BGR/Profilbilder_no_ruler_no_sky/TH_34...   \n3345  ../data/BGR/Profilbilder_no_ruler_no_sky/TH_35...   \n3346  ../data/BGR/Profilbilder_no_ruler_no_sky/TH_35...   \n\n                                Untergrenze  \\\n0                 [30.0, 38.0, 50.0, 100.0]   \n1     [29.0, 40.0, 54.0, 60.0, 80.0, 100.0]   \n2                 [28.0, 50.0, 74.0, 100.0]   \n3                 [30.0, 47.0, 73.0, 100.0]   \n4           [33.0, 43.0, 71.0, 88.0, 100.0]   \n...                                     ...   \n3342              [14.0, 40.0, 60.0, 100.0]   \n3343                    [34.0, 69.0, 100.0]   \n3344              [20.0, 27.0, 70.0, 100.0]   \n3345              [31.0, 49.0, 71.0, 100.0]   \n3346                    [27.0, 70.0, 100.0]   \n\n                                Bodenart                          Bodenfarbe  \\\n0                 [3.0, 3.0, 10.0, 12.0]               [1.0, 1.0, 10.0, 5.0]   \n1     [11.0, 11.0, 6.0, 10.0, 3.0, 21.0]  [4.0, 5.0, 29.0, 30.0, 42.0, 75.0]   \n2               [10.0, 11.0, 11.0, 11.0]                [0.0, 0.0, 3.0, 3.0]   \n3                   [2.0, 2.0, 3.0, 3.0]             [0.0, 10.0, 13.0, 16.0]   \n4           [28.0, 7.0, 2.0, 20.0, 10.0]       [0.0, 15.0, 54.0, 44.0, 14.0]   \n...                                  ...                                 ...   \n3342            [15.0, 15.0, 26.0, 26.0]              [6.0, 5.0, 53.0, 53.0]   \n3343                    [4.0, 4.0, 18.0]                    [0.0, 3.0, 10.0]   \n3344            [15.0, 15.0, 15.0, 26.0]               [2.0, 2.0, 3.0, 23.0]   \n3345            [15.0, 15.0, 15.0, 33.0]               [1.0, 7.0, 5.0, 16.0]   \n3346                    [1.0, 12.0, 1.0]                   [6.0, 23.0, 31.0]   \n\n                              Steine            Karbonat  \\\n0               [2.0, 2.0, 4.0, 4.0]        [0, 0, 0, 0]   \n1     [3.0, 3.0, 3.0, 3.0, 3.0, 3.0]  [2, 0, 2, 5, 7, 5]   \n2               [4.0, 4.0, 4.0, 4.0]        [0, 0, 7, 7]   \n3               [4.0, 4.0, 2.0, 2.0]        [0, 0, 0, 0]   \n4          [1.0, 0.0, 0.0, 0.0, 0.0]     [0, 0, 0, 0, 0]   \n...                              ...                 ...   \n3342        [60.0, 75.0, 90.0, 90.0]        [0, 0, 0, 0]   \n3343              [20.0, 30.0, 25.0]           [0, 0, 0]   \n3344        [15.0, 25.0, 60.0, 90.0]        [0, 0, 0, 0]   \n3345          [5.0, 5.0, 20.0, 25.0]        [0, 0, 0, 0]   \n3346               [3.0, 10.0, 30.0]           [3, 4, 4]   \n\n                  Humusgehaltsklasse      Durchwurzelung  \\\n0               [3.0, 3.0, 0.0, 0.0]        [3, 3, 1, 2]   \n1     [1.0, 2.0, 2.0, 2.0, 2.0, 0.0]  [4, 3, 1, 1, 1, 0]   \n2               [1.0, 3.0, 2.0, 0.0]        [4, 3, 3, 1]   \n3               [1.0, 2.0, 0.0, 0.0]        [3, 1, 1, 2]   \n4          [1.0, 2.0, 2.0, 0.0, 0.0]     [3, 0, 0, 0, 0]   \n...                              ...                 ...   \n3342            [1.0, 2.0, 0.0, 0.0]        [5, 3, 1, 2]   \n3343                 [1.0, 2.0, 0.0]           [5, 3, 1]   \n3344            [1.0, 1.0, 2.0, 0.0]        [4, 1, 0, 0]   \n3345            [1.0, 2.0, 0.0, 0.0]        [3, 2, 2, 2]   \n3346                 [1.0, 2.0, 0.0]           [0, 4, 4]   \n\n       Horizontsymbol_relevant  \n0             [22, 22, 73, 76]  \n1     [22, 65, 65, 81, 81, 81]  \n2             [40, 13, 34, 34]  \n3              [22, 1, 69, 78]  \n4           [22, 0, 65, 0, 68]  \n...                        ...  \n3342          [22, 14, 62, 77]  \n3343              [22, 32, 77]  \n3344           [22, 22, 32, 0]  \n3345           [22, 32, 47, 2]  \n3346              [22, 34, 34]  \n\n[3347 rows x 30 columns]",
      "text/html": "<div>\n<style scoped>\n    .dataframe tbody tr th:only-of-type {\n        vertical-align: middle;\n    }\n\n    .dataframe tbody tr th {\n        vertical-align: top;\n    }\n\n    .dataframe thead th {\n        text-align: right;\n    }\n</style>\n<table border=\"1\" class=\"dataframe\">\n  <thead>\n    <tr style=\"text-align: right;\">\n      <th></th>\n      <th>index</th>\n      <th>Probenahme_Monat</th>\n      <th>Probenahme_Jahr</th>\n      <th>xcoord</th>\n      <th>ycoord</th>\n      <th>Bodenklimaraum_Name</th>\n      <th>Landnutzung</th>\n      <th>BZE_Moor</th>\n      <th>Hauptbodentyp</th>\n      <th>BodenVarTypSub</th>\n      <th>GrundwaStufe</th>\n      <th>GrundwaStand</th>\n      <th>Moormaechtigkeit</th>\n      <th>Torfmaechtigkeit</th>\n      <th>Neigung</th>\n      <th>Exposition</th>\n      <th>Woelbung</th>\n      <th>Reliefformtyp</th>\n      <th>LageImRelief</th>\n      <th>KV_0_30</th>\n      <th>KV_30_100</th>\n      <th>file</th>\n      <th>Untergrenze</th>\n      <th>Bodenart</th>\n      <th>Bodenfarbe</th>\n      <th>Steine</th>\n      <th>Karbonat</th>\n      <th>Humusgehaltsklasse</th>\n      <th>Durchwurzelung</th>\n      <th>Horizontsymbol_relevant</th>\n    </tr>\n  </thead>\n  <tbody>\n    <tr>\n      <th>0</th>\n      <td>0</td>\n      <td>1</td>\n      <td>7</td>\n      <td>819021.7488</td>\n      <td>5941699.083</td>\n      <td>7</td>\n      <td>0</td>\n      <td>0</td>\n      <td>12</td>\n      <td>770</td>\n      <td>0.0</td>\n      <td>200.0</td>\n      <td>0.0</td>\n      <td>0.0</td>\n      <td>3.0</td>\n      <td>1.0</td>\n      <td>1.0</td>\n      <td>0.0</td>\n      <td>1.0</td>\n      <td>38.60</td>\n      <td>21.42</td>\n      <td>../data/BGR/Profilbilder_no_ruler_no_sky/BB_05...</td>\n      <td>[30.0, 38.0, 50.0, 100.0]</td>\n      <td>[3.0, 3.0, 10.0, 12.0]</td>\n      <td>[1.0, 1.0, 10.0, 5.0]</td>\n      <td>[2.0, 2.0, 4.0, 4.0]</td>\n      <td>[0, 0, 0, 0]</td>\n      <td>[3.0, 3.0, 0.0, 0.0]</td>\n      <td>[3, 3, 1, 2]</td>\n      <td>[22, 22, 73, 76]</td>\n    </tr>\n    <tr>\n      <th>1</th>\n      <td>1</td>\n      <td>1</td>\n      <td>6</td>\n      <td>819307.3864</td>\n      <td>5935183.595</td>\n      <td>7</td>\n      <td>0</td>\n      <td>0</td>\n      <td>11</td>\n      <td>371</td>\n      <td>0.0</td>\n      <td>200.0</td>\n      <td>0.0</td>\n      <td>0.0</td>\n      <td>2.0</td>\n      <td>2.0</td>\n      <td>0.0</td>\n      <td>0.0</td>\n      <td>3.0</td>\n      <td>34.91</td>\n      <td>11.67</td>\n      <td>../data/BGR/Profilbilder_no_ruler_no_sky/BB_06...</td>\n      <td>[29.0, 40.0, 54.0, 60.0, 80.0, 100.0]</td>\n      <td>[11.0, 11.0, 6.0, 10.0, 3.0, 21.0]</td>\n      <td>[4.0, 5.0, 29.0, 30.0, 42.0, 75.0]</td>\n      <td>[3.0, 3.0, 3.0, 3.0, 3.0, 3.0]</td>\n      <td>[2, 0, 2, 5, 7, 5]</td>\n      <td>[1.0, 2.0, 2.0, 2.0, 2.0, 0.0]</td>\n      <td>[4, 3, 1, 1, 1, 0]</td>\n      <td>[22, 65, 65, 81, 81, 81]</td>\n    </tr>\n    <tr>\n      <th>2</th>\n      <td>2</td>\n      <td>8</td>\n      <td>6</td>\n      <td>826424.5503</td>\n      <td>5932240.596</td>\n      <td>7</td>\n      <td>0</td>\n      <td>0</td>\n      <td>10</td>\n      <td>22</td>\n      <td>0.0</td>\n      <td>200.0</td>\n      <td>0.0</td>\n      <td>0.0</td>\n      <td>3.0</td>\n      <td>2.0</td>\n      <td>0.0</td>\n      <td>0.0</td>\n      <td>1.0</td>\n      <td>42.21</td>\n      <td>34.56</td>\n      <td>../data/BGR/Profilbilder_no_ruler_no_sky/BB_06...</td>\n      <td>[28.0, 50.0, 74.0, 100.0]</td>\n      <td>[10.0, 11.0, 11.0, 11.0]</td>\n      <td>[0.0, 0.0, 3.0, 3.0]</td>\n      <td>[4.0, 4.0, 4.0, 4.0]</td>\n      <td>[0, 0, 7, 7]</td>\n      <td>[1.0, 3.0, 2.0, 0.0]</td>\n      <td>[4, 3, 3, 1]</td>\n      <td>[40, 13, 34, 34]</td>\n    </tr>\n    <tr>\n      <th>3</th>\n      <td>3</td>\n      <td>4</td>\n      <td>6</td>\n      <td>807568.3913</td>\n      <td>5926533.227</td>\n      <td>7</td>\n      <td>0</td>\n      <td>0</td>\n      <td>12</td>\n      <td>44</td>\n      <td>0.0</td>\n      <td>200.0</td>\n      <td>0.0</td>\n      <td>0.0</td>\n      <td>4.0</td>\n      <td>5.0</td>\n      <td>2.0</td>\n      <td>14.0</td>\n      <td>3.0</td>\n      <td>37.39</td>\n      <td>13.22</td>\n      <td>../data/BGR/Profilbilder_no_ruler_no_sky/BB_06...</td>\n      <td>[30.0, 47.0, 73.0, 100.0]</td>\n      <td>[2.0, 2.0, 3.0, 3.0]</td>\n      <td>[0.0, 10.0, 13.0, 16.0]</td>\n      <td>[4.0, 4.0, 2.0, 2.0]</td>\n      <td>[0, 0, 0, 0]</td>\n      <td>[1.0, 2.0, 0.0, 0.0]</td>\n      <td>[3, 1, 1, 2]</td>\n      <td>[22, 1, 69, 78]</td>\n    </tr>\n    <tr>\n      <th>4</th>\n      <td>4</td>\n      <td>1</td>\n      <td>6</td>\n      <td>818608.7036</td>\n      <td>5925050.271</td>\n      <td>7</td>\n      <td>0</td>\n      <td>0</td>\n      <td>7</td>\n      <td>413</td>\n      <td>2.0</td>\n      <td>200.0</td>\n      <td>0.0</td>\n      <td>0.0</td>\n      <td>3.0</td>\n      <td>5.0</td>\n      <td>0.0</td>\n      <td>4.0</td>\n      <td>1.0</td>\n      <td>48.47</td>\n      <td>16.43</td>\n      <td>../data/BGR/Profilbilder_no_ruler_no_sky/BB_06...</td>\n      <td>[33.0, 43.0, 71.0, 88.0, 100.0]</td>\n      <td>[28.0, 7.0, 2.0, 20.0, 10.0]</td>\n      <td>[0.0, 15.0, 54.0, 44.0, 14.0]</td>\n      <td>[1.0, 0.0, 0.0, 0.0, 0.0]</td>\n      <td>[0, 0, 0, 0, 0]</td>\n      <td>[1.0, 2.0, 2.0, 0.0, 0.0]</td>\n      <td>[3, 0, 0, 0, 0]</td>\n      <td>[22, 0, 65, 0, 68]</td>\n    </tr>\n    <tr>\n      <th>...</th>\n      <td>...</td>\n      <td>...</td>\n      <td>...</td>\n      <td>...</td>\n      <td>...</td>\n      <td>...</td>\n      <td>...</td>\n      <td>...</td>\n      <td>...</td>\n      <td>...</td>\n      <td>...</td>\n      <td>...</td>\n      <td>...</td>\n      <td>...</td>\n      <td>...</td>\n      <td>...</td>\n      <td>...</td>\n      <td>...</td>\n      <td>...</td>\n      <td>...</td>\n      <td>...</td>\n      <td>...</td>\n      <td>...</td>\n      <td>...</td>\n      <td>...</td>\n      <td>...</td>\n      <td>...</td>\n      <td>...</td>\n      <td>...</td>\n      <td>...</td>\n    </tr>\n    <tr>\n      <th>3342</th>\n      <td>3342</td>\n      <td>0</td>\n      <td>6</td>\n      <td>648389.8108</td>\n      <td>5588119.501</td>\n      <td>10</td>\n      <td>1</td>\n      <td>0</td>\n      <td>0</td>\n      <td>616</td>\n      <td>0.0</td>\n      <td>200.0</td>\n      <td>0.0</td>\n      <td>0.0</td>\n      <td>8.0</td>\n      <td>7.0</td>\n      <td>7.0</td>\n      <td>0.0</td>\n      <td>3.0</td>\n      <td>48.82</td>\n      <td>2.46</td>\n      <td>../data/BGR/Profilbilder_no_ruler_no_sky/TH_34...</td>\n      <td>[14.0, 40.0, 60.0, 100.0]</td>\n      <td>[15.0, 15.0, 26.0, 26.0]</td>\n      <td>[6.0, 5.0, 53.0, 53.0]</td>\n      <td>[60.0, 75.0, 90.0, 90.0]</td>\n      <td>[0, 0, 0, 0]</td>\n      <td>[1.0, 2.0, 0.0, 0.0]</td>\n      <td>[5, 3, 1, 2]</td>\n      <td>[22, 14, 62, 77]</td>\n    </tr>\n    <tr>\n      <th>3343</th>\n      <td>3343</td>\n      <td>0</td>\n      <td>4</td>\n      <td>688216.3809</td>\n      <td>5588885.660</td>\n      <td>10</td>\n      <td>0</td>\n      <td>0</td>\n      <td>0</td>\n      <td>9</td>\n      <td>0.0</td>\n      <td>200.0</td>\n      <td>0.0</td>\n      <td>0.0</td>\n      <td>1.0</td>\n      <td>4.0</td>\n      <td>6.0</td>\n      <td>0.0</td>\n      <td>1.0</td>\n      <td>69.19</td>\n      <td>23.61</td>\n      <td>../data/BGR/Profilbilder_no_ruler_no_sky/TH_34...</td>\n      <td>[34.0, 69.0, 100.0]</td>\n      <td>[4.0, 4.0, 18.0]</td>\n      <td>[0.0, 3.0, 10.0]</td>\n      <td>[20.0, 30.0, 25.0]</td>\n      <td>[0, 0, 0]</td>\n      <td>[1.0, 2.0, 0.0]</td>\n      <td>[5, 3, 1]</td>\n      <td>[22, 32, 77]</td>\n    </tr>\n    <tr>\n      <th>3344</th>\n      <td>3344</td>\n      <td>0</td>\n      <td>4</td>\n      <td>701551.6557</td>\n      <td>5587919.679</td>\n      <td>10</td>\n      <td>0</td>\n      <td>0</td>\n      <td>0</td>\n      <td>0</td>\n      <td>0.0</td>\n      <td>200.0</td>\n      <td>0.0</td>\n      <td>0.0</td>\n      <td>6.0</td>\n      <td>4.0</td>\n      <td>0.0</td>\n      <td>0.0</td>\n      <td>1.0</td>\n      <td>75.65</td>\n      <td>9.34</td>\n      <td>../data/BGR/Profilbilder_no_ruler_no_sky/TH_34...</td>\n      <td>[20.0, 27.0, 70.0, 100.0]</td>\n      <td>[15.0, 15.0, 15.0, 26.0]</td>\n      <td>[2.0, 2.0, 3.0, 23.0]</td>\n      <td>[15.0, 25.0, 60.0, 90.0]</td>\n      <td>[0, 0, 0, 0]</td>\n      <td>[1.0, 1.0, 2.0, 0.0]</td>\n      <td>[4, 1, 0, 0]</td>\n      <td>[22, 22, 32, 0]</td>\n    </tr>\n    <tr>\n      <th>3345</th>\n      <td>3345</td>\n      <td>3</td>\n      <td>4</td>\n      <td>653547.6374</td>\n      <td>5581353.991</td>\n      <td>10</td>\n      <td>0</td>\n      <td>0</td>\n      <td>0</td>\n      <td>2</td>\n      <td>0.0</td>\n      <td>200.0</td>\n      <td>0.0</td>\n      <td>0.0</td>\n      <td>5.0</td>\n      <td>2.0</td>\n      <td>0.0</td>\n      <td>3.0</td>\n      <td>5.0</td>\n      <td>61.72</td>\n      <td>30.69</td>\n      <td>../data/BGR/Profilbilder_no_ruler_no_sky/TH_35...</td>\n      <td>[31.0, 49.0, 71.0, 100.0]</td>\n      <td>[15.0, 15.0, 15.0, 33.0]</td>\n      <td>[1.0, 7.0, 5.0, 16.0]</td>\n      <td>[5.0, 5.0, 20.0, 25.0]</td>\n      <td>[0, 0, 0, 0]</td>\n      <td>[1.0, 2.0, 0.0, 0.0]</td>\n      <td>[3, 2, 2, 2]</td>\n      <td>[22, 32, 47, 2]</td>\n    </tr>\n    <tr>\n      <th>3346</th>\n      <td>3346</td>\n      <td>4</td>\n      <td>5</td>\n      <td>620404.8554</td>\n      <td>5569180.493</td>\n      <td>10</td>\n      <td>0</td>\n      <td>0</td>\n      <td>5</td>\n      <td>3</td>\n      <td>0.0</td>\n      <td>200.0</td>\n      <td>0.0</td>\n      <td>0.0</td>\n      <td>1.0</td>\n      <td>3.0</td>\n      <td>0.0</td>\n      <td>0.0</td>\n      <td>3.0</td>\n      <td>80.30</td>\n      <td>19.58</td>\n      <td>../data/BGR/Profilbilder_no_ruler_no_sky/TH_35...</td>\n      <td>[27.0, 70.0, 100.0]</td>\n      <td>[1.0, 12.0, 1.0]</td>\n      <td>[6.0, 23.0, 31.0]</td>\n      <td>[3.0, 10.0, 30.0]</td>\n      <td>[3, 4, 4]</td>\n      <td>[1.0, 2.0, 0.0]</td>\n      <td>[0, 4, 4]</td>\n      <td>[22, 34, 34]</td>\n    </tr>\n  </tbody>\n</table>\n<p>3347 rows × 30 columns</p>\n</div>"
     },
     "execution_count": 30,
     "metadata": {},
     "output_type": "execute_result"
    }
   ],
   "source": [
    "# Only rows with Obergrenze < 100 were kept. This lead to some Untergrenze values still being above 100.\n",
    "# Round these down to 100 for a correct loss calculation (see depth_marker_loss)\n",
    "def modify_df_list(lst):\n",
    "    lst[-1] = 100.0\n",
    "    return lst\n",
    "df['Untergrenze'] = df['Untergrenze'].apply(modify_df_list)\n",
    "df"
   ],
   "metadata": {
    "collapsed": false,
    "pycharm": {
     "name": "#%%\n"
    }
   }
  },
  {
   "cell_type": "code",
   "execution_count": 31,
   "outputs": [
    {
     "name": "stdout",
     "output_type": "stream",
     "text": [
      "Minimum number of horizons: 2\n",
      "Maximum number of horizons: 8\n"
     ]
    }
   ],
   "source": [
    "# Get the lengths of the lists in the 'Untergrenze' column\n",
    "list_lengths = df['Untergrenze'].apply(len)\n",
    "\n",
    "min_length = list_lengths.min()\n",
    "max_length = list_lengths.max()\n",
    "\n",
    "print(f\"Minimum number of horizons: {min_length}\")\n",
    "print(f\"Maximum number of horizons: {max_length}\")"
   ],
   "metadata": {
    "collapsed": false,
    "pycharm": {
     "name": "#%%\n"
    }
   }
  },
  {
   "cell_type": "code",
   "execution_count": 32,
   "outputs": [
    {
     "name": "stdout",
     "output_type": "stream",
     "text": [
      "List with minimum length: [32.0, 100.0]\n",
      "List with maximum length: [13.0, 26.0, 40.0, 58.0, 68.0, 83.0, 98.0, 100.0]\n"
     ]
    }
   ],
   "source": [
    "min_length_list = df[df['Untergrenze'].apply(len) == min_length]['Untergrenze'].values[0]\n",
    "max_length_list = df[df['Untergrenze'].apply(len) == max_length]['Untergrenze'].values[0]\n",
    "print(f\"List with minimum length: {min_length_list}\")\n",
    "print(f\"List with maximum length: {max_length_list}\")"
   ],
   "metadata": {
    "collapsed": false,
    "pycharm": {
     "name": "#%%\n"
    }
   }
  },
  {
   "cell_type": "code",
   "execution_count": 33,
   "outputs": [],
   "source": [
    "# Define the image normalization\n",
    "normalize = transforms.Compose([\n",
    "    transforms.ToTensor(),\n",
    "    transforms.Normalize(mean=[0.485, 0.456, 0.406], std=[0.229, 0.224, 0.225]), # Normalize with ImageNet statistics\n",
    "])"
   ],
   "metadata": {
    "collapsed": false,
    "pycharm": {
     "name": "#%%\n"
    }
   }
  },
  {
   "cell_type": "code",
   "execution_count": 34,
   "outputs": [
    {
     "data": {
      "text/plain": "HorizonClassifier(\n  (image_encoder): ImageEncoder(\n    (cnn): ResNet(\n      (conv1): Conv2d(3, 64, kernel_size=(7, 7), stride=(2, 2), padding=(3, 3), bias=False)\n      (bn1): BatchNorm2d(64, eps=1e-05, momentum=0.1, affine=True, track_running_stats=True)\n      (relu): ReLU(inplace=True)\n      (maxpool): MaxPool2d(kernel_size=3, stride=2, padding=1, dilation=1, ceil_mode=False)\n      (layer1): Sequential(\n        (0): BasicBlock(\n          (conv1): Conv2d(64, 64, kernel_size=(3, 3), stride=(1, 1), padding=(1, 1), bias=False)\n          (bn1): BatchNorm2d(64, eps=1e-05, momentum=0.1, affine=True, track_running_stats=True)\n          (relu): ReLU(inplace=True)\n          (conv2): Conv2d(64, 64, kernel_size=(3, 3), stride=(1, 1), padding=(1, 1), bias=False)\n          (bn2): BatchNorm2d(64, eps=1e-05, momentum=0.1, affine=True, track_running_stats=True)\n        )\n        (1): BasicBlock(\n          (conv1): Conv2d(64, 64, kernel_size=(3, 3), stride=(1, 1), padding=(1, 1), bias=False)\n          (bn1): BatchNorm2d(64, eps=1e-05, momentum=0.1, affine=True, track_running_stats=True)\n          (relu): ReLU(inplace=True)\n          (conv2): Conv2d(64, 64, kernel_size=(3, 3), stride=(1, 1), padding=(1, 1), bias=False)\n          (bn2): BatchNorm2d(64, eps=1e-05, momentum=0.1, affine=True, track_running_stats=True)\n        )\n      )\n      (layer2): Sequential(\n        (0): BasicBlock(\n          (conv1): Conv2d(64, 128, kernel_size=(3, 3), stride=(2, 2), padding=(1, 1), bias=False)\n          (bn1): BatchNorm2d(128, eps=1e-05, momentum=0.1, affine=True, track_running_stats=True)\n          (relu): ReLU(inplace=True)\n          (conv2): Conv2d(128, 128, kernel_size=(3, 3), stride=(1, 1), padding=(1, 1), bias=False)\n          (bn2): BatchNorm2d(128, eps=1e-05, momentum=0.1, affine=True, track_running_stats=True)\n          (downsample): Sequential(\n            (0): Conv2d(64, 128, kernel_size=(1, 1), stride=(2, 2), bias=False)\n            (1): BatchNorm2d(128, eps=1e-05, momentum=0.1, affine=True, track_running_stats=True)\n          )\n        )\n        (1): BasicBlock(\n          (conv1): Conv2d(128, 128, kernel_size=(3, 3), stride=(1, 1), padding=(1, 1), bias=False)\n          (bn1): BatchNorm2d(128, eps=1e-05, momentum=0.1, affine=True, track_running_stats=True)\n          (relu): ReLU(inplace=True)\n          (conv2): Conv2d(128, 128, kernel_size=(3, 3), stride=(1, 1), padding=(1, 1), bias=False)\n          (bn2): BatchNorm2d(128, eps=1e-05, momentum=0.1, affine=True, track_running_stats=True)\n        )\n      )\n      (layer3): Sequential(\n        (0): BasicBlock(\n          (conv1): Conv2d(128, 256, kernel_size=(3, 3), stride=(2, 2), padding=(1, 1), bias=False)\n          (bn1): BatchNorm2d(256, eps=1e-05, momentum=0.1, affine=True, track_running_stats=True)\n          (relu): ReLU(inplace=True)\n          (conv2): Conv2d(256, 256, kernel_size=(3, 3), stride=(1, 1), padding=(1, 1), bias=False)\n          (bn2): BatchNorm2d(256, eps=1e-05, momentum=0.1, affine=True, track_running_stats=True)\n          (downsample): Sequential(\n            (0): Conv2d(128, 256, kernel_size=(1, 1), stride=(2, 2), bias=False)\n            (1): BatchNorm2d(256, eps=1e-05, momentum=0.1, affine=True, track_running_stats=True)\n          )\n        )\n        (1): BasicBlock(\n          (conv1): Conv2d(256, 256, kernel_size=(3, 3), stride=(1, 1), padding=(1, 1), bias=False)\n          (bn1): BatchNorm2d(256, eps=1e-05, momentum=0.1, affine=True, track_running_stats=True)\n          (relu): ReLU(inplace=True)\n          (conv2): Conv2d(256, 256, kernel_size=(3, 3), stride=(1, 1), padding=(1, 1), bias=False)\n          (bn2): BatchNorm2d(256, eps=1e-05, momentum=0.1, affine=True, track_running_stats=True)\n        )\n      )\n      (layer4): Sequential(\n        (0): BasicBlock(\n          (conv1): Conv2d(256, 512, kernel_size=(3, 3), stride=(2, 2), padding=(1, 1), bias=False)\n          (bn1): BatchNorm2d(512, eps=1e-05, momentum=0.1, affine=True, track_running_stats=True)\n          (relu): ReLU(inplace=True)\n          (conv2): Conv2d(512, 512, kernel_size=(3, 3), stride=(1, 1), padding=(1, 1), bias=False)\n          (bn2): BatchNorm2d(512, eps=1e-05, momentum=0.1, affine=True, track_running_stats=True)\n          (downsample): Sequential(\n            (0): Conv2d(256, 512, kernel_size=(1, 1), stride=(2, 2), bias=False)\n            (1): BatchNorm2d(512, eps=1e-05, momentum=0.1, affine=True, track_running_stats=True)\n          )\n        )\n        (1): BasicBlock(\n          (conv1): Conv2d(512, 512, kernel_size=(3, 3), stride=(1, 1), padding=(1, 1), bias=False)\n          (bn1): BatchNorm2d(512, eps=1e-05, momentum=0.1, affine=True, track_running_stats=True)\n          (relu): ReLU(inplace=True)\n          (conv2): Conv2d(512, 512, kernel_size=(3, 3), stride=(1, 1), padding=(1, 1), bias=False)\n          (bn2): BatchNorm2d(512, eps=1e-05, momentum=0.1, affine=True, track_running_stats=True)\n        )\n      )\n      (avgpool): AdaptiveAvgPool2d(output_size=(1, 1))\n      (fc): Identity()\n    )\n  )\n  (geo_temp_encoder): GeoTemporalEncoder(\n    (encoder): Sequential(\n      (0): Linear(in_features=21, out_features=64, bias=True)\n      (1): ReLU()\n      (2): Linear(in_features=64, out_features=32, bias=True)\n      (3): ReLU()\n    )\n  )\n  (depth_marker_predictor): DepthMarkerPredictor(\n    (fc): Sequential(\n      (0): Linear(in_features=544, out_features=128, bias=True)\n      (1): ReLU()\n      (2): Linear(in_features=128, out_features=128, bias=True)\n    )\n    (transformer): TransformerEncoder(\n      (layers): ModuleList(\n        (0): TransformerEncoderLayer(\n          (self_attn): MultiheadAttention(\n            (out_proj): NonDynamicallyQuantizableLinear(in_features=128, out_features=128, bias=True)\n          )\n          (linear1): Linear(in_features=128, out_features=2048, bias=True)\n          (dropout): Dropout(p=0.1, inplace=False)\n          (linear2): Linear(in_features=2048, out_features=128, bias=True)\n          (norm1): LayerNorm((128,), eps=1e-05, elementwise_affine=True)\n          (norm2): LayerNorm((128,), eps=1e-05, elementwise_affine=True)\n          (dropout1): Dropout(p=0.1, inplace=False)\n          (dropout2): Dropout(p=0.1, inplace=False)\n        )\n        (1): TransformerEncoderLayer(\n          (self_attn): MultiheadAttention(\n            (out_proj): NonDynamicallyQuantizableLinear(in_features=128, out_features=128, bias=True)\n          )\n          (linear1): Linear(in_features=128, out_features=2048, bias=True)\n          (dropout): Dropout(p=0.1, inplace=False)\n          (linear2): Linear(in_features=2048, out_features=128, bias=True)\n          (norm1): LayerNorm((128,), eps=1e-05, elementwise_affine=True)\n          (norm2): LayerNorm((128,), eps=1e-05, elementwise_affine=True)\n          (dropout1): Dropout(p=0.1, inplace=False)\n          (dropout2): Dropout(p=0.1, inplace=False)\n        )\n      )\n    )\n    (predictor): Linear(in_features=128, out_features=1, bias=True)\n  )\n)"
     },
     "execution_count": 34,
     "metadata": {},
     "output_type": "execute_result"
    }
   ],
   "source": [
    "# Initialize model\n",
    "#num_classes = len(df[target].unique()) # for one-hot encoding\n",
    "#num_classes = emb_dict['embedding'].shape[1] # for HCE (the dim. of final layer in the model should match the dim of the embedded label vectors)\n",
    "model = bgr_mod.HorizonClassifier(geo_temp_input_dim=len(geotemp_img_infos)-1, # without counting the img path\n",
    "                                  max_seq_len = max_length,                    # fixed from longest list of horizons in one image from dataset\n",
    "                                  stop_token = 100)                            # End of Sequence Token at -100 meters\n",
    "\n",
    "device = torch.device(\"cuda:0\" if torch.cuda.is_available() else \"cpu\")\n",
    "model.to(device)"
   ],
   "metadata": {
    "collapsed": false,
    "pycharm": {
     "name": "#%%\n"
    }
   }
  },
  {
   "cell_type": "code",
   "execution_count": 35,
   "outputs": [
    {
     "name": "stdout",
     "output_type": "stream",
     "text": [
      "2510 samples for training.\n",
      "837 samples for validating.\n"
     ]
    }
   ],
   "source": [
    "# Data split\n",
    "#train_df, val_df = train_test_split(df, stratify=df[target], random_state=2024)\n",
    "train_df, val_df = train_test_split(df, random_state=2024)\n",
    "\n",
    "print(f'{len(train_df)} samples for training.')\n",
    "print(f'{len(val_df)} samples for validating.')"
   ],
   "metadata": {
    "collapsed": false,
    "pycharm": {
     "name": "#%%\n"
    }
   }
  },
  {
   "cell_type": "code",
   "execution_count": 36,
   "outputs": [],
   "source": [
    "# Define the image transforms for augmentation\n",
    "augment = [\n",
    "    transforms.ColorJitter(brightness=0.3, contrast=0.3, saturation=0.3, hue=0.1),\n",
    "    transforms.GaussianBlur(kernel_size=(5, 5), sigma=(1., 3.))\n",
    "]"
   ],
   "metadata": {
    "collapsed": false,
    "pycharm": {
     "name": "#%%\n"
    }
   }
  },
  {
   "cell_type": "code",
   "execution_count": 37,
   "outputs": [],
   "source": [
    "# Create Dataset object with image and tabular features\n",
    "train_dataset = bgr_data.ImageTabularDataset(dataframe=train_df,#[:100],\n",
    "                                             normalize=normalize,\n",
    "                                             augment=augment,\n",
    "                                             image_path='file',\n",
    "                                             #label=depth_markers[1], # predict list of lower boundaries (Untergrenze)\n",
    "                                             label=None, # no label column as input; access it instead via Point during training\n",
    "                                             feature_columns=geotemp_img_infos[:-1])\n",
    "\n",
    "train_loader = DataLoader(train_dataset, batch_size=64, shuffle=True, num_workers=16)\n",
    "\n",
    "# Training parameters\n",
    "optimizer = optim.AdamW(model.parameters(), lr=1e-3, weight_decay=1e-4)\n",
    "#criterion = nn.CrossEntropyLoss()\n",
    "#criterion = TopKLoss(k=5)\n",
    "#criterion = nn.CosineEmbeddingLoss() # for HCE: 1 - cos(prediction, target)\n",
    "criterion = DepthMarkerLoss()\n",
    "\n",
    "# Note: Is MSE better for HCE?"
   ],
   "metadata": {
    "collapsed": false,
    "pycharm": {
     "name": "#%%\n"
    }
   }
  },
  {
   "cell_type": "code",
   "execution_count": 38,
   "outputs": [],
   "source": [
    "### Callbacks\n",
    "scheduler = torch.optim.lr_scheduler.ReduceLROnPlateau(optimizer, mode='min', factor=0.1, patience=3, threshold=0.1, min_lr=1e-5, verbose=True)\n",
    "early_stopping = EarlyStopping(patience=10, min_delta=0.01, verbose=True) # looks at val_loss (see callbacks.py)"
   ],
   "metadata": {
    "collapsed": false,
    "pycharm": {
     "name": "#%%\n"
    }
   }
  },
  {
   "cell_type": "code",
   "execution_count": 39,
   "outputs": [
    {
     "name": "stdout",
     "output_type": "stream",
     "text": [
      "Training size original: 2510\n",
      "Training size after augmentation: 7530\n"
     ]
    }
   ],
   "source": [
    "print(f\"Training size original: {len(train_dataset.dataframe)}\")\n",
    "print(f\"Training size after augmentation: {len(train_dataset)}\")"
   ],
   "metadata": {
    "collapsed": false,
    "pycharm": {
     "name": "#%%\n"
    }
   }
  },
  {
   "cell_type": "code",
   "execution_count": 40,
   "outputs": [
    {
     "name": "stderr",
     "output_type": "stream",
     "text": [
      "Clipping input data to the valid range for imshow with RGB data ([0..1] for floats or [0..255] for integers).\n",
      "Clipping input data to the valid range for imshow with RGB data ([0..1] for floats or [0..255] for integers).\n",
      "Clipping input data to the valid range for imshow with RGB data ([0..1] for floats or [0..255] for integers).\n"
     ]
    },
    {
     "name": "stdout",
     "output_type": "stream",
     "text": [
      "Image 0\n",
      "tensor([1.7890e+03, 7.0000e+00, 0.0000e+00, 5.0506e+05, 5.8320e+06, 6.0000e+00,\n",
      "        0.0000e+00, 0.0000e+00, 0.0000e+00, 2.0000e+00, 0.0000e+00, 2.0000e+02,\n",
      "        0.0000e+00, 0.0000e+00, 3.0000e+00, 2.0000e+00, 2.0000e+00, 0.0000e+00,\n",
      "        3.0000e+00, 5.3780e+01, 1.5110e+01])\n",
      "Image 1\n",
      "tensor([1.7890e+03, 7.0000e+00, 0.0000e+00, 5.0506e+05, 5.8320e+06, 6.0000e+00,\n",
      "        0.0000e+00, 0.0000e+00, 0.0000e+00, 2.0000e+00, 0.0000e+00, 2.0000e+02,\n",
      "        0.0000e+00, 0.0000e+00, 3.0000e+00, 2.0000e+00, 2.0000e+00, 0.0000e+00,\n",
      "        3.0000e+00, 5.3780e+01, 1.5110e+01])\n",
      "Image 2\n",
      "tensor([1.7890e+03, 7.0000e+00, 0.0000e+00, 5.0506e+05, 5.8320e+06, 6.0000e+00,\n",
      "        0.0000e+00, 0.0000e+00, 0.0000e+00, 2.0000e+00, 0.0000e+00, 2.0000e+02,\n",
      "        0.0000e+00, 0.0000e+00, 3.0000e+00, 2.0000e+00, 2.0000e+00, 0.0000e+00,\n",
      "        3.0000e+00, 5.3780e+01, 1.5110e+01])\n"
     ]
    },
    {
     "data": {
      "text/plain": "<Figure size 720x576 with 3 Axes>",
      "image/svg+xml": "<?xml version=\"1.0\" encoding=\"utf-8\" standalone=\"no\"?>\n<!DOCTYPE svg PUBLIC \"-//W3C//DTD SVG 1.1//EN\"\n  \"http://www.w3.org/Graphics/SVG/1.1/DTD/svg11.dtd\">\n<svg xmlns:xlink=\"http://www.w3.org/1999/xlink\" width=\"572.4pt\" height=\"178.517647pt\" viewBox=\"0 0 572.4 178.517647\" xmlns=\"http://www.w3.org/2000/svg\" version=\"1.1\">\n <metadata>\n  <rdf:RDF xmlns:dc=\"http://purl.org/dc/elements/1.1/\" xmlns:cc=\"http://creativecommons.org/ns#\" xmlns:rdf=\"http://www.w3.org/1999/02/22-rdf-syntax-ns#\">\n   <cc:Work>\n    <dc:type rdf:resource=\"http://purl.org/dc/dcmitype/StillImage\"/>\n    <dc:date>2025-01-22T16:20:39.582394</dc:date>\n    <dc:format>image/svg+xml</dc:format>\n    <dc:creator>\n     <cc:Agent>\n      <dc:title>Matplotlib v3.5.1, https://matplotlib.org/</dc:title>\n     </cc:Agent>\n    </dc:creator>\n   </cc:Work>\n  </rdf:RDF>\n </metadata>\n <defs>\n  <style type=\"text/css\">*{stroke-linejoin: round; stroke-linecap: butt}</style>\n </defs>\n <g id=\"figure_1\">\n  <g id=\"patch_1\">\n   <path d=\"M 0 178.517647 \nL 572.4 178.517647 \nL 572.4 0 \nL 0 0 \nL 0 178.517647 \nz\n\" style=\"fill: none\"/>\n  </g>\n  <g id=\"axes_1\">\n   <g clip-path=\"url(#p109c0abfa9)\">\n    <image xlink:href=\"data:image/png;base64,\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\" id=\"imagec45d904697\" transform=\"scale(1 -1)translate(0 -165)\" x=\"7.2\" y=\"-6.317647\" width=\"165\" height=\"165\"/>\n   </g>\n  </g>\n  <g id=\"axes_2\">\n   <g clip-path=\"url(#p5d21d3eb9a)\">\n    <image xlink:href=\"data:image/png;base64,\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\" id=\"image68f4ab5f7f\" transform=\"scale(1 -1)translate(0 -165)\" x=\"204.141176\" y=\"-6.317647\" width=\"165\" height=\"165\"/>\n   </g>\n  </g>\n  <g id=\"axes_3\">\n   <g clip-path=\"url(#pb56e4c3059)\">\n    <image xlink:href=\"data:image/png;base64,\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\" id=\"imagec5d0977b03\" transform=\"scale(1 -1)translate(0 -165)\" x=\"401.082353\" y=\"-6.317647\" width=\"165\" height=\"165\"/>\n   </g>\n  </g>\n </g>\n <defs>\n  <clipPath id=\"p109c0abfa9\">\n   <rect x=\"7.2\" y=\"7.2\" width=\"164.117647\" height=\"164.117647\"/>\n  </clipPath>\n  <clipPath id=\"p5d21d3eb9a\">\n   <rect x=\"204.141176\" y=\"7.2\" width=\"164.117647\" height=\"164.117647\"/>\n  </clipPath>\n  <clipPath id=\"pb56e4c3059\">\n   <rect x=\"401.082353\" y=\"7.2\" width=\"164.117647\" height=\"164.117647\"/>\n  </clipPath>\n </defs>\n</svg>\n"
     },
     "metadata": {
      "needs_background": "light"
     },
     "output_type": "display_data"
    }
   ],
   "source": [
    "# Check an augmented subset\n",
    "aug_images = []\n",
    "for i in range(len(train_dataset)):\n",
    "    image, tabular_features = train_dataset[i]\n",
    "    aug_images.append(image)\n",
    "    print(f\"Image {i}\")\n",
    "    print(tabular_features)\n",
    "    if i == 2: break\n",
    "\n",
    "plt.figure(figsize=(10, 8))\n",
    "for i in range(len(aug_images)):\n",
    "    plt.subplot(1, 3, i+1)\n",
    "    plt.imshow(aug_images[i].swapaxes(0,2).swapaxes(0,1)) # returned shape is (c, h, w)\n",
    "    plt.axis('off')"
   ],
   "metadata": {
    "collapsed": false,
    "pycharm": {
     "name": "#%%\n"
    }
   }
  },
  {
   "cell_type": "code",
   "execution_count": 41,
   "outputs": [],
   "source": [
    "val_dataset = bgr_data.ImageTabularDataset(dataframe=val_df,#[:100],\n",
    "                                           normalize=normalize,\n",
    "                                           image_path='file',\n",
    "                                           #label=depth_markers[1],\n",
    "                                           label=None,\n",
    "                                           feature_columns=geotemp_img_infos[:-1])\n",
    "\n",
    "val_loader = DataLoader(val_dataset, batch_size=64, shuffle=True, num_workers=16)"
   ],
   "metadata": {
    "collapsed": false,
    "pycharm": {
     "name": "#%%\n"
    }
   }
  },
  {
   "cell_type": "code",
   "execution_count": 49,
   "outputs": [],
   "source": [
    "#criterion = nn.CrossEntropyLoss()\n",
    "criterion = DepthMarkerLoss()"
   ],
   "metadata": {
    "collapsed": false,
    "pycharm": {
     "name": "#%%\n"
    }
   }
  },
  {
   "cell_type": "code",
   "execution_count": 50,
   "outputs": [
    {
     "name": "stdout",
     "output_type": "stream",
     "text": [
      "Epoch 1/10\n"
     ]
    },
    {
     "name": "stderr",
     "output_type": "stream",
     "text": [
      "                                                                                                                        \r"
     ]
    },
    {
     "ename": "RuntimeError",
     "evalue": "element 0 of tensors does not require grad and does not have a grad_fn",
     "output_type": "error",
     "traceback": [
      "\u001B[0;31m---------------------------------------------------------------------------\u001B[0m",
      "\u001B[0;31mRuntimeError\u001B[0m                              Traceback (most recent call last)",
      "Input \u001B[0;32mIn [50]\u001B[0m, in \u001B[0;36m<cell line: 4>\u001B[0;34m()\u001B[0m\n\u001B[1;32m     17\u001B[0m true_depths \u001B[38;5;241m=\u001B[39m df[df[\u001B[38;5;124m'\u001B[39m\u001B[38;5;124mindex\u001B[39m\u001B[38;5;124m'\u001B[39m]\u001B[38;5;241m.\u001B[39misin(geotemp_features\u001B[38;5;241m.\u001B[39mcpu()\u001B[38;5;241m.\u001B[39mnumpy()[:,\u001B[38;5;241m0\u001B[39m])][\u001B[38;5;124m'\u001B[39m\u001B[38;5;124mUntergrenze\u001B[39m\u001B[38;5;124m'\u001B[39m]\u001B[38;5;241m.\u001B[39mtolist()\n\u001B[1;32m     19\u001B[0m train_loss \u001B[38;5;241m=\u001B[39m criterion(pred_depths, true_depths)\n\u001B[0;32m---> 21\u001B[0m \u001B[43mtrain_loss\u001B[49m\u001B[38;5;241;43m.\u001B[39;49m\u001B[43mbackward\u001B[49m\u001B[43m(\u001B[49m\u001B[43m)\u001B[49m\n\u001B[1;32m     22\u001B[0m clip_grad_norm_(model\u001B[38;5;241m.\u001B[39mparameters(), max_norm\u001B[38;5;241m=\u001B[39m\u001B[38;5;241m1.0\u001B[39m)\n\u001B[1;32m     23\u001B[0m optimizer\u001B[38;5;241m.\u001B[39mstep()\n",
      "File \u001B[0;32m~/anaconda3/envs/torch_gpu_sam/lib/python3.9/site-packages/torch/_tensor.py:307\u001B[0m, in \u001B[0;36mTensor.backward\u001B[0;34m(self, gradient, retain_graph, create_graph, inputs)\u001B[0m\n\u001B[1;32m    298\u001B[0m \u001B[38;5;28;01mif\u001B[39;00m has_torch_function_unary(\u001B[38;5;28mself\u001B[39m):\n\u001B[1;32m    299\u001B[0m     \u001B[38;5;28;01mreturn\u001B[39;00m handle_torch_function(\n\u001B[1;32m    300\u001B[0m         Tensor\u001B[38;5;241m.\u001B[39mbackward,\n\u001B[1;32m    301\u001B[0m         (\u001B[38;5;28mself\u001B[39m,),\n\u001B[0;32m   (...)\u001B[0m\n\u001B[1;32m    305\u001B[0m         create_graph\u001B[38;5;241m=\u001B[39mcreate_graph,\n\u001B[1;32m    306\u001B[0m         inputs\u001B[38;5;241m=\u001B[39minputs)\n\u001B[0;32m--> 307\u001B[0m \u001B[43mtorch\u001B[49m\u001B[38;5;241;43m.\u001B[39;49m\u001B[43mautograd\u001B[49m\u001B[38;5;241;43m.\u001B[39;49m\u001B[43mbackward\u001B[49m\u001B[43m(\u001B[49m\u001B[38;5;28;43mself\u001B[39;49m\u001B[43m,\u001B[49m\u001B[43m \u001B[49m\u001B[43mgradient\u001B[49m\u001B[43m,\u001B[49m\u001B[43m \u001B[49m\u001B[43mretain_graph\u001B[49m\u001B[43m,\u001B[49m\u001B[43m \u001B[49m\u001B[43mcreate_graph\u001B[49m\u001B[43m,\u001B[49m\u001B[43m \u001B[49m\u001B[43minputs\u001B[49m\u001B[38;5;241;43m=\u001B[39;49m\u001B[43minputs\u001B[49m\u001B[43m)\u001B[49m\n",
      "File \u001B[0;32m~/anaconda3/envs/torch_gpu_sam/lib/python3.9/site-packages/torch/autograd/__init__.py:154\u001B[0m, in \u001B[0;36mbackward\u001B[0;34m(tensors, grad_tensors, retain_graph, create_graph, grad_variables, inputs)\u001B[0m\n\u001B[1;32m    151\u001B[0m \u001B[38;5;28;01mif\u001B[39;00m retain_graph \u001B[38;5;129;01mis\u001B[39;00m \u001B[38;5;28;01mNone\u001B[39;00m:\n\u001B[1;32m    152\u001B[0m     retain_graph \u001B[38;5;241m=\u001B[39m create_graph\n\u001B[0;32m--> 154\u001B[0m \u001B[43mVariable\u001B[49m\u001B[38;5;241;43m.\u001B[39;49m\u001B[43m_execution_engine\u001B[49m\u001B[38;5;241;43m.\u001B[39;49m\u001B[43mrun_backward\u001B[49m\u001B[43m(\u001B[49m\n\u001B[1;32m    155\u001B[0m \u001B[43m    \u001B[49m\u001B[43mtensors\u001B[49m\u001B[43m,\u001B[49m\u001B[43m \u001B[49m\u001B[43mgrad_tensors_\u001B[49m\u001B[43m,\u001B[49m\u001B[43m \u001B[49m\u001B[43mretain_graph\u001B[49m\u001B[43m,\u001B[49m\u001B[43m \u001B[49m\u001B[43mcreate_graph\u001B[49m\u001B[43m,\u001B[49m\u001B[43m \u001B[49m\u001B[43minputs\u001B[49m\u001B[43m,\u001B[49m\n\u001B[1;32m    156\u001B[0m \u001B[43m    \u001B[49m\u001B[43mallow_unreachable\u001B[49m\u001B[38;5;241;43m=\u001B[39;49m\u001B[38;5;28;43;01mTrue\u001B[39;49;00m\u001B[43m,\u001B[49m\u001B[43m \u001B[49m\u001B[43maccumulate_grad\u001B[49m\u001B[38;5;241;43m=\u001B[39;49m\u001B[38;5;28;43;01mTrue\u001B[39;49;00m\u001B[43m)\u001B[49m\n",
      "\u001B[0;31mRuntimeError\u001B[0m: element 0 of tensors does not require grad and does not have a grad_fn"
     ]
    }
   ],
   "source": [
    "model.train()\n",
    "epochs = 10\n",
    "lr_history, train_loss_history, val_loss_history = [], [], []\n",
    "for epoch in range(epochs):\n",
    "    print(f\"Epoch {epoch + 1}/{epochs}\")\n",
    "    # Training loop\n",
    "    train_loss_total = 0\n",
    "    train_loader_tqdm = tqdm(train_loader, desc=\"Training\", leave=False)\n",
    "    for batch in train_loader_tqdm:\n",
    "        images, geotemp_features = batch\n",
    "        images, geotemp_features = images.to(device), geotemp_features.to(device)\n",
    "        optimizer.zero_grad() # otherwise, PyTorch accumulates the gradients during backprop\n",
    "\n",
    "        # Predict depth markers\n",
    "        pred_depths = model(image=images, geo_temp=geotemp_features)\n",
    "        # Get corresponding true depth markers via index column in df (also the first value in every row in geotemp)\n",
    "        true_depths = df[df['index'].isin(geotemp_features.cpu().numpy()[:,0])]['Untergrenze'].tolist()\n",
    "\n",
    "        train_loss = criterion(pred_depths, true_depths)\n",
    "\n",
    "        train_loss.backward()\n",
    "        clip_grad_norm_(model.parameters(), max_norm=1.0)\n",
    "        optimizer.step()\n",
    "\n",
    "        train_loss_total += train_loss.item()\n",
    "\n",
    "        train_loader_tqdm.set_postfix(loss=train_loss.item())\n",
    "        break\n",
    "\n",
    "    avg_train_loss = train_loss_total / len(train_loader)\n",
    "    break"
   ],
   "metadata": {
    "collapsed": false,
    "pycharm": {
     "name": "#%%\n"
    }
   }
  },
  {
   "cell_type": "code",
   "execution_count": 39,
   "outputs": [
    {
     "name": "stdout",
     "output_type": "stream",
     "text": [
      "Epoch 1/10\n"
     ]
    },
    {
     "name": "stderr",
     "output_type": "stream",
     "text": [
      "                                                                                                                        \r"
     ]
    },
    {
     "name": "stdout",
     "output_type": "stream",
     "text": [
      "Epoch 1, Training Loss: 0.6659\n",
      "Validation Loss: 0.5769\n",
      "Current LR: 0.001\n",
      "Epoch 2/10\n"
     ]
    },
    {
     "name": "stderr",
     "output_type": "stream",
     "text": [
      "                                                                                                                        \r"
     ]
    },
    {
     "name": "stdout",
     "output_type": "stream",
     "text": [
      "Epoch 2, Training Loss: 0.5564\n",
      "Validation Loss: 0.5395\n",
      "Current LR: 0.001\n",
      "Epoch 3/10\n"
     ]
    },
    {
     "name": "stderr",
     "output_type": "stream",
     "text": [
      "                                                                                                                        \r"
     ]
    },
    {
     "name": "stdout",
     "output_type": "stream",
     "text": [
      "Epoch 3, Training Loss: 0.5335\n",
      "Validation Loss: 0.5645\n",
      "Current LR: 0.001\n",
      "EarlyStopping: No improvement for 1 epochs.\n",
      "Epoch 4/10\n"
     ]
    },
    {
     "name": "stderr",
     "output_type": "stream",
     "text": [
      "                                                                                                                        \r"
     ]
    },
    {
     "name": "stdout",
     "output_type": "stream",
     "text": [
      "Epoch 4, Training Loss: 0.5397\n",
      "Validation Loss: 0.5435\n",
      "Current LR: 0.001\n",
      "EarlyStopping: No improvement for 2 epochs.\n",
      "Epoch 5/10\n"
     ]
    },
    {
     "name": "stderr",
     "output_type": "stream",
     "text": [
      "                                                                                                                        \r"
     ]
    },
    {
     "name": "stdout",
     "output_type": "stream",
     "text": [
      "Epoch     5: reducing learning rate of group 0 to 1.0000e-04.\n",
      "Epoch 5, Training Loss: 0.5356\n",
      "Validation Loss: 0.5405\n",
      "Current LR: 0.0001\n",
      "EarlyStopping: No improvement for 3 epochs.\n",
      "Epoch 6/10\n"
     ]
    },
    {
     "name": "stderr",
     "output_type": "stream",
     "text": [
      "                                                                                                                        \r"
     ]
    },
    {
     "name": "stdout",
     "output_type": "stream",
     "text": [
      "Epoch 6, Training Loss: 0.5191\n",
      "Validation Loss: 0.5124\n",
      "Current LR: 0.0001\n",
      "Epoch 7/10\n"
     ]
    },
    {
     "name": "stderr",
     "output_type": "stream",
     "text": [
      "                                                                                                                        \r"
     ]
    },
    {
     "name": "stdout",
     "output_type": "stream",
     "text": [
      "Epoch 7, Training Loss: 0.5015\n",
      "Validation Loss: 0.5078\n",
      "Current LR: 0.0001\n",
      "EarlyStopping: No improvement for 1 epochs.\n",
      "Epoch 8/10\n"
     ]
    },
    {
     "name": "stderr",
     "output_type": "stream",
     "text": [
      "                                                                                                                        \r"
     ]
    },
    {
     "name": "stdout",
     "output_type": "stream",
     "text": [
      "Epoch 8, Training Loss: 0.4915\n",
      "Validation Loss: 0.5040\n",
      "Current LR: 0.0001\n",
      "EarlyStopping: No improvement for 2 epochs.\n",
      "Epoch 9/10\n"
     ]
    },
    {
     "name": "stderr",
     "output_type": "stream",
     "text": [
      "                                                                                                                        \r"
     ]
    },
    {
     "name": "stdout",
     "output_type": "stream",
     "text": [
      "Epoch 9, Training Loss: 0.4825\n",
      "Validation Loss: 0.5050\n",
      "Current LR: 0.0001\n",
      "EarlyStopping: No improvement for 3 epochs.\n",
      "Epoch 10/10\n"
     ]
    },
    {
     "name": "stderr",
     "output_type": "stream",
     "text": [
      "                                                                                                                        "
     ]
    },
    {
     "name": "stdout",
     "output_type": "stream",
     "text": [
      "Epoch    10: reducing learning rate of group 0 to 1.0000e-05.\n",
      "Epoch 10, Training Loss: 0.4732\n",
      "Validation Loss: 0.5115\n",
      "Current LR: 1e-05\n"
     ]
    },
    {
     "name": "stderr",
     "output_type": "stream",
     "text": [
      "\r"
     ]
    }
   ],
   "source": [
    "model.train()\n",
    "epochs = 10\n",
    "lr_history, train_loss_history, val_loss_history = [], [], []\n",
    "train_acc_history, train_topk_acc_history, val_acc_history, val_topk_acc_history = [], [], [], []\n",
    "for epoch in range(epochs):\n",
    "    print(f\"Epoch {epoch + 1}/{epochs}\")\n",
    "    # Training loop\n",
    "    train_correct = 0\n",
    "    train_topk_correct = 0\n",
    "    train_loss_total = 0\n",
    "    train_loader_tqdm = tqdm(train_loader, desc=\"Training\", leave=False)\n",
    "    for batch in train_loader_tqdm:\n",
    "        images, tabular_features, labels = batch\n",
    "        images, tabular_features, labels = images.to(device), tabular_features.to(device), labels.to(device)\n",
    "        optimizer.zero_grad() # otherwise, PyTorch accumulates the gradients during backprop\n",
    "        outputs = model(image=images, tabular_features=tabular_features)\n",
    "\n",
    "        # Get corresponding embeddings from int-labels\n",
    "        target_embeddings = torch.stack([torch.tensor(emb_dict['embedding'][lab]) for lab in labels]).to(device)\n",
    "        # Create a dummy \"same class\" tensor with 1s for the cosine similarity\n",
    "        same_class = torch.ones(outputs.size(0)).to(device)\n",
    "        # Normalize both predictions and target embeddings\n",
    "        # Note: rather normalize the mixture embeddings immediately after the linear combination of the parents?\n",
    "        outputs = F.normalize(outputs, p=2, dim=1)\n",
    "        target_embeddings = F.normalize(target_embeddings, p=2, dim=1)\n",
    "\n",
    "        #train_loss = criterion(outputs, labels) # for cross entropy or top-k-loss (without HCE)\n",
    "        train_loss = criterion(outputs, target_embeddings, same_class) # for cosine loss (with HCE)\n",
    "\n",
    "        train_loss.backward()\n",
    "        clip_grad_norm_(model.parameters(), max_norm=1.0)\n",
    "        optimizer.step()\n",
    "\n",
    "        # Calculate accuracy for this batch\n",
    "        train_loss_total += train_loss.item()\n",
    "        #_, predicted = torch.max(outputs.data, 1)\n",
    "        #train_correct += (predicted == labels).sum().item()\n",
    "        #train_topk_correct += top_k_accuracy(outputs, labels, k=5)\n",
    "\n",
    "        train_loader_tqdm.set_postfix(loss=train_loss.item())\n",
    "\n",
    "    # Calculate average training accuracy for the epoch\n",
    "    #train_acc = train_correct / len(train_loader.dataset)\n",
    "    #train_topk_acc = train_topk_correct / len(train_loader)\n",
    "    avg_train_loss = train_loss_total / len(train_loader)\n",
    "\n",
    "    # Evaluation loop\n",
    "    model.eval()\n",
    "    val_correct = 0\n",
    "    val_topk_correct = 0\n",
    "    val_loss_total = 0\n",
    "    val_loader_tqdm = tqdm(val_loader, desc=\"Evaluating\", leave=False)\n",
    "    with torch.no_grad():\n",
    "        for batch in val_loader_tqdm:\n",
    "            images, tabular_features, labels = batch\n",
    "            images, tabular_features, labels = images.to(device), tabular_features.to(device), labels.to(device)\n",
    "            outputs = model(image=images, tabular_features=tabular_features)\n",
    "\n",
    "            # Get corresponding embeddings from int-labels\n",
    "            target_embeddings = torch.stack([torch.tensor(emb_dict['embedding'][lab]) for lab in labels]).to(device)\n",
    "            # Create a dummy \"same class\" tensor with 1s for the cosine similarity\n",
    "            same_class = torch.ones(outputs.size(0)).to(device)\n",
    "            # Normalize both predictions and target embeddings\n",
    "            # Note: rather normalize the mixture embeddings immediately after the linear combination of the parents?\n",
    "            outputs = F.normalize(outputs, p=2, dim=1)\n",
    "            target_embeddings = F.normalize(target_embeddings, p=2, dim=1)\n",
    "\n",
    "            #val_loss = criterion(outputs, labels) # for cross entropy or top-k-loss (without HCE)\n",
    "            val_loss = criterion(outputs, target_embeddings, same_class) # for cosine loss (with HCE)\n",
    "\n",
    "            val_loss_total += val_loss.item()\n",
    "            #_, predicted = torch.max(outputs.data, 1)\n",
    "            #val_correct += (predicted == labels).sum().item()\n",
    "            #val_topk_correct += top_k_accuracy(outputs, labels, k=5)\n",
    "\n",
    "    # Calculate average val accuracy for the epoch\n",
    "    #val_acc = val_correct / len(val_loader.dataset)\n",
    "    #val_topk_acc = val_topk_correct / len(val_loader)\n",
    "    avg_val_loss = val_loss_total / len(val_loader)\n",
    "\n",
    "    # Apply the scheduler with validation loss\n",
    "    scheduler.step(avg_val_loss)\n",
    "    # Log the current learning rate\n",
    "    current_lr = optimizer.param_groups[0]['lr']\n",
    "    lr_history.append(current_lr)\n",
    "    # Log metrics\n",
    "    train_loss_history.append(avg_train_loss); val_loss_history.append(avg_val_loss)\n",
    "    #train_acc_history.append(train_acc); val_acc_history.append(val_acc)\n",
    "    #train_topk_acc_history.append(train_topk_acc); val_topk_acc_history.append(val_topk_acc)\n",
    "\n",
    "    print(f\"Epoch {epoch+1}, Training Loss: {avg_train_loss:.4f}\")#, Training Accuracy: {train_acc:.4f}, Training Top {criterion.k} Accuracy: {train_topk_acc:.4f}\")\n",
    "    print(f\"Validation Loss: {avg_val_loss:.4f}\")#, Validation Accuracy: {val_acc:.4f}, Validation Top {criterion.k} Accuracy: {val_topk_acc:.4f}\")\n",
    "    print(f\"Current LR: {current_lr}\")\n",
    "\n",
    "    # Early stopping check\n",
    "    early_stopping(val_loss)\n",
    "    if early_stopping.should_stop:\n",
    "        print(f\"Early stopping at epoch {epoch+1}\")\n",
    "        break"
   ],
   "metadata": {
    "collapsed": false,
    "pycharm": {
     "name": "#%%\n"
    }
   }
  },
  {
   "cell_type": "markdown",
   "source": [
    "### Evaluation"
   ],
   "metadata": {
    "collapsed": false
   }
  },
  {
   "cell_type": "code",
   "execution_count": null,
   "outputs": [],
   "source": [
    "plt.figure(figsize=(21, 6))\n",
    "\n",
    "complete_epochs = len(train_acc_history)+1\n",
    "plt.subplot(1, 3, 1)\n",
    "plt.plot(range(1, complete_epochs), train_loss_history, label='Train Loss', marker='o', color='b')\n",
    "plt.plot(range(1, complete_epochs), val_loss_history,  label='Validation Loss',  marker='o', color='r')\n",
    "plt.title('Loss Curves')\n",
    "plt.xlabel('Epoch')\n",
    "plt.ylabel('Loss')\n",
    "plt.legend()\n",
    "plt.grid()\n",
    "\n",
    "plt.subplot(1, 3, 2)\n",
    "plt.plot(range(1, complete_epochs), train_acc_history, label='Train Accuracy', marker='o', color='b')\n",
    "plt.plot(range(1, complete_epochs), val_acc_history, label='Validation Accuracy', marker='o', color='r')\n",
    "plt.title('Accuracy Curves')\n",
    "plt.xlabel('Epoch')\n",
    "plt.ylabel('Accuracy')\n",
    "plt.legend()\n",
    "plt.grid()\n",
    "\n",
    "plt.subplot(1, 3, 3)\n",
    "plt.plot(range(1, complete_epochs), train_topk_acc_history, label=f'Train Top {criterion.k} Accuracy', marker='o', color='b')\n",
    "plt.plot(range(1, complete_epochs), val_topk_acc_history, label=f'Validation Top {criterion.k} Accuracy', marker='o', color='r')\n",
    "plt.title(f'Top {criterion.k} Accuracy Curves')\n",
    "plt.xlabel('Epoch')\n",
    "plt.ylabel(f'Top {criterion.k} Accuracy')\n",
    "plt.legend()\n",
    "plt.grid()\n",
    "\n",
    "plt.tight_layout()\n",
    "plt.show()"
   ],
   "metadata": {
    "collapsed": false,
    "pycharm": {
     "name": "#%%\n"
    }
   }
  },
  {
   "cell_type": "code",
   "execution_count": null,
   "outputs": [],
   "source": [
    "plt.figure(figsize=(8, 6))\n",
    "plt.plot(range(1, complete_epochs), lr_history, marker='o', linestyle='-', color='b')\n",
    "plt.title(\"Learning Rate Evolution\")\n",
    "plt.xlabel(\"Epoch\")\n",
    "plt.ylabel(\"Learning Rate\")\n",
    "plt.grid()\n",
    "plt.show()"
   ],
   "metadata": {
    "collapsed": false,
    "pycharm": {
     "name": "#%%\n"
    }
   }
  },
  {
   "cell_type": "code",
   "execution_count": null,
   "outputs": [],
   "source": [
    "model.eval()  # Setze das Modell in den Evaluierungsmodus\n",
    "with torch.no_grad():\n",
    "    outputs = []\n",
    "    val_loader_tqdm = tqdm(val_loader, desc=\"Evaluating\", leave=False)\n",
    "    for batch in val_loader_tqdm:\n",
    "        images, tabular_features, labels = batch\n",
    "        images, tabular_features, labels = images.to(device), tabular_features.to(device), labels.to(device)\n",
    "        outputs.append(model(image=images, tabular_features=tabular_features))"
   ],
   "metadata": {
    "collapsed": false,
    "pycharm": {
     "name": "#%%\n"
    }
   }
  },
  {
   "cell_type": "code",
   "execution_count": null,
   "outputs": [],
   "source": [
    "from sklearn.metrics import classification_report, confusion_matrix\n",
    "\n",
    "# Convert outputs to predicted labels (adjust based on your model's output format)\n",
    "predicted_probs, predicted_labels = [], []\n",
    "for output in outputs:\n",
    "\n",
    "    predicted_labels.extend(torch.argmax(output, dim=1).tolist())\n",
    "    predicted_probs.extend(torch.softmax(output, dim=1).cpu().numpy()) # Convert logits to probabilities\n",
    "\n",
    "# Convert true labels to a list\n",
    "true_labels = [label.item() for batch in val_loader for label in batch[2]]\n",
    "\n",
    "# Calculate metrics\n",
    "report = classification_report(true_labels, predicted_labels)\n",
    "print(report)"
   ],
   "metadata": {
    "collapsed": false,
    "pycharm": {
     "name": "#%%\n"
    }
   }
  },
  {
   "cell_type": "code",
   "execution_count": null,
   "outputs": [],
   "source": [
    "# Compute PR curve for each class\n",
    "from sklearn.metrics import precision_recall_curve, average_precision_score\n",
    "from sklearn.preprocessing import label_binarize\n",
    "\n",
    "predicted_probs = np.array(predicted_probs)\n",
    "true_labels = np.array(true_labels)\n",
    "n_classes = predicted_probs.shape[1]\n",
    "precision, recall, avg_precision = {}, {}, {}\n",
    "# Binarize the labels (one-hot encoding for multiclass)\n",
    "true_labels_binarized = label_binarize(true_labels, classes=np.arange(n_classes))\n",
    "\n",
    "for i in range(n_classes):\n",
    "    precision[i], recall[i], _ = precision_recall_curve(true_labels_binarized[:, i], predicted_probs[:, i])\n",
    "    avg_precision[i] = average_precision_score(true_labels_binarized[:, i], predicted_probs[:, i])\n",
    "\n",
    "# Compute macro-average PR curve\n",
    "precision[\"macro\"], recall[\"macro\"], _ = precision_recall_curve(true_labels_binarized.ravel(), predicted_probs.ravel())\n",
    "avg_precision[\"macro\"] = average_precision_score(true_labels_binarized, predicted_probs, average=\"macro\")"
   ],
   "metadata": {
    "collapsed": false,
    "pycharm": {
     "name": "#%%\n"
    }
   }
  },
  {
   "cell_type": "code",
   "execution_count": null,
   "outputs": [],
   "source": [
    "plt.figure(figsize=(10, 8))\n",
    "\n",
    "# Plot PR curves for each class\n",
    "for i in range(n_classes):\n",
    "    plt.plot(recall[i], precision[i], lw=2, label=f'Class {i} (AP = {avg_precision[i]:.2f})')\n",
    "\n",
    "# Plot macro-average PR curve\n",
    "plt.plot(recall[\"macro\"], precision[\"macro\"], linestyle='--', lw=2, color='black',\n",
    "         label=f'Macro-average (AP = {avg_precision[\"macro\"]:.2f})')\n",
    "\n",
    "plt.xlabel('Recall')\n",
    "plt.ylabel('Precision')\n",
    "plt.title('Precision-Recall Curves')\n",
    "plt.legend(loc='upper right')\n",
    "plt.grid()\n",
    "plt.show()"
   ],
   "metadata": {
    "collapsed": false,
    "pycharm": {
     "name": "#%%\n"
    }
   }
  },
  {
   "cell_type": "code",
   "execution_count": null,
   "outputs": [],
   "source": [
    "cm = confusion_matrix(true_labels, predicted_labels)\n",
    "\n",
    "plt.figure(figsize=(10, 7))\n",
    "sns.heatmap(cm, annot=True, fmt=\"d\", cmap=\"Blues\")\n",
    "plt.xlabel(\"Predicted Label\")\n",
    "plt.ylabel(\"True Label\")\n",
    "plt.title(\"Confusion Matrix\")\n",
    "plt.show()"
   ],
   "metadata": {
    "collapsed": false,
    "pycharm": {
     "name": "#%%\n"
    }
   }
  }
 ],
 "metadata": {
  "kernelspec": {
   "name": "sam",
   "language": "python",
   "display_name": "sam"
  },
  "language_info": {
   "codemirror_mode": {
    "name": "ipython",
    "version": 3
   },
   "file_extension": ".py",
   "mimetype": "text/x-python",
   "name": "python",
   "nbconvert_exporter": "python",
   "pygments_lexer": "ipython3",
   "version": "3.9.19"
  }
 },
 "nbformat": 4,
 "nbformat_minor": 5
}