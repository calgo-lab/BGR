{
 "cells": [
  {
   "cell_type": "markdown",
   "source": [
    "## Multimodal Training Sequential\n",
    "\n",
    "Predict horizon boundaries from full images and geo-temporal infos. Afterwards, predict morphological features and symbol for every horizon"
   ],
   "metadata": {
    "collapsed": false
   }
  },
  {
   "cell_type": "code",
   "execution_count": 1,
   "outputs": [],
   "source": [
    "import os\n",
    "import pickle\n",
    "\n",
    "import matplotlib.pylab as plt\n",
    "import numpy as np\n",
    "import pandas as pd\n",
    "import seaborn as sns\n",
    "import torch\n",
    "import torch.nn.functional as F\n",
    "import torch.optim as optim\n",
    "import torchvision.transforms as transforms\n",
    "from sklearn.model_selection import train_test_split\n",
    "from torch.nn.utils import clip_grad_norm_  # modifies the tensors in-place (vs clip_grad_norm)\n",
    "from torch.utils.data import DataLoader\n",
    "from tqdm import tqdm\n",
    "\n",
    "pd.set_option(\"display.max_columns\", None)\n",
    "np.random.seed(42)\n",
    "\n",
    "%matplotlib inline\n",
    "%config InlineBackend.figure_format = 'svg'"
   ],
   "metadata": {
    "collapsed": false,
    "pycharm": {
     "name": "#%%\n"
    }
   }
  },
  {
   "cell_type": "code",
   "execution_count": 2,
   "outputs": [],
   "source": [
    "import sys\n",
    "sys.path.append('./BGR')\n",
    "import bgr.soil.datasets as bgr_data\n",
    "import bgr.soil.models as bgr_mod\n",
    "from bgr.soil.callbacks import EarlyStopping\n",
    "from bgr.soil.metrics import DepthMarkerLoss"
   ],
   "metadata": {
    "collapsed": false,
    "pycharm": {
     "name": "#%%\n"
    }
   }
  },
  {
   "cell_type": "code",
   "execution_count": 3,
   "outputs": [],
   "source": [
    "path_csv = \"../data/BGR/data_horizons.csv\"\n",
    "path_csv_annotator_ids = '../data/BGR/Kartierer_ID.csv'\n",
    "path_csv_locations = '../data/BGR/STANDORT.csv'\n",
    "path_horizons_simple = '../data/BGR/Vereinfachung_Horizontsymbole.csv'\n",
    "path_pictures = \"../data/BGR/Profilbilder_no_ruler_no_sky/\"\n",
    "#path_pictures = \"../data/BGR/Horizonte/\""
   ],
   "metadata": {
    "collapsed": false,
    "pycharm": {
     "name": "#%%\n"
    }
   }
  },
  {
   "cell_type": "markdown",
   "source": [
    "### Data Loading"
   ],
   "metadata": {
    "collapsed": false
   }
  },
  {
   "cell_type": "code",
   "execution_count": 4,
   "outputs": [
    {
     "name": "stdout",
     "output_type": "stream",
     "text": [
      "15207\n",
      "15206\n"
     ]
    },
    {
     "data": {
      "text/plain": "        Point  HorizontID  Obergrenze  Untergrenze Horizontsymbol Bodenart  \\\n0         2.0         1.0         0.0         28.0          I; Ap      Sl2   \n1         2.0         2.0        28.0         54.0           I; E      Sl2   \n2         2.0         3.0        54.0         68.0         II; Bv      Sl2   \n3         2.0         4.0        68.0         96.0   III; Bv-ilCv     fSms   \n4         2.0         5.0        96.0        201.0      III; ilCv     mSfs   \n...       ...         ...         ...          ...            ...      ...   \n15201  6211.0         3.0        27.0         50.0      I; Bbh+Bs     fSms   \n15202  6211.0         4.0        50.0         70.0      I; Bbs+Bs     fSms   \n15203  6211.0         5.0        70.0        100.0      I; Go-Bbs     fSms   \n15204  6211.0         6.0       100.0        130.0          I; Go     fSms   \n15205  6211.0         7.0       130.0        155.0          I; Gr     fSms   \n\n      Bodenfarbe  Steine Karbonat Humusgehaltsklasse Durchwurzelung  \\\n0      7.5YR 3/2     3.0       C0                 h3            Wf4   \n1       10YR 3/3     3.0       C0                 h2            Wf3   \n2      7.5YR 4/3    10.0       C0                 h1            Wf3   \n3      7.5YR 6/4     1.0       C0                 h0            Wf2   \n4       10YR 7/4     1.0       C0                 h0            NaN   \n...          ...     ...      ...                ...            ...   \n15201    5YR 3/2     1.0       C0                 h2            Wf3   \n15202    5YR 4/3     1.0       C0                 h1            Wf2   \n15203  7.5YR 5/4     1.0       C0                 h1            Wf6   \n15204   2.5Y 6/4     1.0       C0                 h0            Wf4   \n15205   2.5Y 5/4     1.0       C0                 h0            Wf2   \n\n       Unnamed: 11 Bundesland  PointID  Unnamed: 14    profile  max_depth  \n0              NaN         SH      2.0          NaN  BB_0541.0      100.0  \n1              NaN         SH      3.0          NaN  BB_0600.0       90.0  \n2              NaN         SH      4.0          NaN  BB_0601.0      100.0  \n3              NaN         SH      5.0          NaN  BB_0659.0      100.0  \n4              NaN         SH      6.0          NaN  BB_0660.0      100.0  \n...            ...        ...      ...          ...        ...        ...  \n15201          NaN        NaN      NaN          NaN        NaN        NaN  \n15202          NaN        NaN      NaN          NaN        NaN        NaN  \n15203          NaN        NaN      NaN          NaN        NaN        NaN  \n15204          NaN        NaN      NaN          NaN        NaN        NaN  \n15205          NaN        NaN      NaN          NaN        NaN        NaN  \n\n[15206 rows x 17 columns]",
      "text/html": "<div>\n<style scoped>\n    .dataframe tbody tr th:only-of-type {\n        vertical-align: middle;\n    }\n\n    .dataframe tbody tr th {\n        vertical-align: top;\n    }\n\n    .dataframe thead th {\n        text-align: right;\n    }\n</style>\n<table border=\"1\" class=\"dataframe\">\n  <thead>\n    <tr style=\"text-align: right;\">\n      <th></th>\n      <th>Point</th>\n      <th>HorizontID</th>\n      <th>Obergrenze</th>\n      <th>Untergrenze</th>\n      <th>Horizontsymbol</th>\n      <th>Bodenart</th>\n      <th>Bodenfarbe</th>\n      <th>Steine</th>\n      <th>Karbonat</th>\n      <th>Humusgehaltsklasse</th>\n      <th>Durchwurzelung</th>\n      <th>Unnamed: 11</th>\n      <th>Bundesland</th>\n      <th>PointID</th>\n      <th>Unnamed: 14</th>\n      <th>profile</th>\n      <th>max_depth</th>\n    </tr>\n  </thead>\n  <tbody>\n    <tr>\n      <th>0</th>\n      <td>2.0</td>\n      <td>1.0</td>\n      <td>0.0</td>\n      <td>28.0</td>\n      <td>I; Ap</td>\n      <td>Sl2</td>\n      <td>7.5YR 3/2</td>\n      <td>3.0</td>\n      <td>C0</td>\n      <td>h3</td>\n      <td>Wf4</td>\n      <td>NaN</td>\n      <td>SH</td>\n      <td>2.0</td>\n      <td>NaN</td>\n      <td>BB_0541.0</td>\n      <td>100.0</td>\n    </tr>\n    <tr>\n      <th>1</th>\n      <td>2.0</td>\n      <td>2.0</td>\n      <td>28.0</td>\n      <td>54.0</td>\n      <td>I; E</td>\n      <td>Sl2</td>\n      <td>10YR 3/3</td>\n      <td>3.0</td>\n      <td>C0</td>\n      <td>h2</td>\n      <td>Wf3</td>\n      <td>NaN</td>\n      <td>SH</td>\n      <td>3.0</td>\n      <td>NaN</td>\n      <td>BB_0600.0</td>\n      <td>90.0</td>\n    </tr>\n    <tr>\n      <th>2</th>\n      <td>2.0</td>\n      <td>3.0</td>\n      <td>54.0</td>\n      <td>68.0</td>\n      <td>II; Bv</td>\n      <td>Sl2</td>\n      <td>7.5YR 4/3</td>\n      <td>10.0</td>\n      <td>C0</td>\n      <td>h1</td>\n      <td>Wf3</td>\n      <td>NaN</td>\n      <td>SH</td>\n      <td>4.0</td>\n      <td>NaN</td>\n      <td>BB_0601.0</td>\n      <td>100.0</td>\n    </tr>\n    <tr>\n      <th>3</th>\n      <td>2.0</td>\n      <td>4.0</td>\n      <td>68.0</td>\n      <td>96.0</td>\n      <td>III; Bv-ilCv</td>\n      <td>fSms</td>\n      <td>7.5YR 6/4</td>\n      <td>1.0</td>\n      <td>C0</td>\n      <td>h0</td>\n      <td>Wf2</td>\n      <td>NaN</td>\n      <td>SH</td>\n      <td>5.0</td>\n      <td>NaN</td>\n      <td>BB_0659.0</td>\n      <td>100.0</td>\n    </tr>\n    <tr>\n      <th>4</th>\n      <td>2.0</td>\n      <td>5.0</td>\n      <td>96.0</td>\n      <td>201.0</td>\n      <td>III; ilCv</td>\n      <td>mSfs</td>\n      <td>10YR 7/4</td>\n      <td>1.0</td>\n      <td>C0</td>\n      <td>h0</td>\n      <td>NaN</td>\n      <td>NaN</td>\n      <td>SH</td>\n      <td>6.0</td>\n      <td>NaN</td>\n      <td>BB_0660.0</td>\n      <td>100.0</td>\n    </tr>\n    <tr>\n      <th>...</th>\n      <td>...</td>\n      <td>...</td>\n      <td>...</td>\n      <td>...</td>\n      <td>...</td>\n      <td>...</td>\n      <td>...</td>\n      <td>...</td>\n      <td>...</td>\n      <td>...</td>\n      <td>...</td>\n      <td>...</td>\n      <td>...</td>\n      <td>...</td>\n      <td>...</td>\n      <td>...</td>\n      <td>...</td>\n    </tr>\n    <tr>\n      <th>15201</th>\n      <td>6211.0</td>\n      <td>3.0</td>\n      <td>27.0</td>\n      <td>50.0</td>\n      <td>I; Bbh+Bs</td>\n      <td>fSms</td>\n      <td>5YR 3/2</td>\n      <td>1.0</td>\n      <td>C0</td>\n      <td>h2</td>\n      <td>Wf3</td>\n      <td>NaN</td>\n      <td>NaN</td>\n      <td>NaN</td>\n      <td>NaN</td>\n      <td>NaN</td>\n      <td>NaN</td>\n    </tr>\n    <tr>\n      <th>15202</th>\n      <td>6211.0</td>\n      <td>4.0</td>\n      <td>50.0</td>\n      <td>70.0</td>\n      <td>I; Bbs+Bs</td>\n      <td>fSms</td>\n      <td>5YR 4/3</td>\n      <td>1.0</td>\n      <td>C0</td>\n      <td>h1</td>\n      <td>Wf2</td>\n      <td>NaN</td>\n      <td>NaN</td>\n      <td>NaN</td>\n      <td>NaN</td>\n      <td>NaN</td>\n      <td>NaN</td>\n    </tr>\n    <tr>\n      <th>15203</th>\n      <td>6211.0</td>\n      <td>5.0</td>\n      <td>70.0</td>\n      <td>100.0</td>\n      <td>I; Go-Bbs</td>\n      <td>fSms</td>\n      <td>7.5YR 5/4</td>\n      <td>1.0</td>\n      <td>C0</td>\n      <td>h1</td>\n      <td>Wf6</td>\n      <td>NaN</td>\n      <td>NaN</td>\n      <td>NaN</td>\n      <td>NaN</td>\n      <td>NaN</td>\n      <td>NaN</td>\n    </tr>\n    <tr>\n      <th>15204</th>\n      <td>6211.0</td>\n      <td>6.0</td>\n      <td>100.0</td>\n      <td>130.0</td>\n      <td>I; Go</td>\n      <td>fSms</td>\n      <td>2.5Y 6/4</td>\n      <td>1.0</td>\n      <td>C0</td>\n      <td>h0</td>\n      <td>Wf4</td>\n      <td>NaN</td>\n      <td>NaN</td>\n      <td>NaN</td>\n      <td>NaN</td>\n      <td>NaN</td>\n      <td>NaN</td>\n    </tr>\n    <tr>\n      <th>15205</th>\n      <td>6211.0</td>\n      <td>7.0</td>\n      <td>130.0</td>\n      <td>155.0</td>\n      <td>I; Gr</td>\n      <td>fSms</td>\n      <td>2.5Y 5/4</td>\n      <td>1.0</td>\n      <td>C0</td>\n      <td>h0</td>\n      <td>Wf2</td>\n      <td>NaN</td>\n      <td>NaN</td>\n      <td>NaN</td>\n      <td>NaN</td>\n      <td>NaN</td>\n      <td>NaN</td>\n    </tr>\n  </tbody>\n</table>\n<p>15206 rows × 17 columns</p>\n</div>"
     },
     "execution_count": 4,
     "metadata": {},
     "output_type": "execute_result"
    }
   ],
   "source": [
    "df = pd.read_csv(path_csv)\n",
    "print(len(df.index))\n",
    "df = df.dropna(subset=['Horizontsymbol'])\n",
    "print(len(df.index))\n",
    "df#.head()"
   ],
   "metadata": {
    "collapsed": false,
    "pycharm": {
     "name": "#%%\n"
    }
   }
  },
  {
   "cell_type": "code",
   "execution_count": 5,
   "outputs": [
    {
     "data": {
      "text/plain": "  Horiz  Anzahl im Datensatz relevanter Anteil stark vereinfacht\n0    Ap                 1762                Ap                Ap\n1    Bv                  626                Bv                Bv\n2  ilCv                  620               ilC                Cv\n3  elCv                  500               elC                Cv\n4    Ah                  455                Ah                Ah",
      "text/html": "<div>\n<style scoped>\n    .dataframe tbody tr th:only-of-type {\n        vertical-align: middle;\n    }\n\n    .dataframe tbody tr th {\n        vertical-align: top;\n    }\n\n    .dataframe thead th {\n        text-align: right;\n    }\n</style>\n<table border=\"1\" class=\"dataframe\">\n  <thead>\n    <tr style=\"text-align: right;\">\n      <th></th>\n      <th>Horiz</th>\n      <th>Anzahl im Datensatz</th>\n      <th>relevanter Anteil</th>\n      <th>stark vereinfacht</th>\n    </tr>\n  </thead>\n  <tbody>\n    <tr>\n      <th>0</th>\n      <td>Ap</td>\n      <td>1762</td>\n      <td>Ap</td>\n      <td>Ap</td>\n    </tr>\n    <tr>\n      <th>1</th>\n      <td>Bv</td>\n      <td>626</td>\n      <td>Bv</td>\n      <td>Bv</td>\n    </tr>\n    <tr>\n      <th>2</th>\n      <td>ilCv</td>\n      <td>620</td>\n      <td>ilC</td>\n      <td>Cv</td>\n    </tr>\n    <tr>\n      <th>3</th>\n      <td>elCv</td>\n      <td>500</td>\n      <td>elC</td>\n      <td>Cv</td>\n    </tr>\n    <tr>\n      <th>4</th>\n      <td>Ah</td>\n      <td>455</td>\n      <td>Ah</td>\n      <td>Ah</td>\n    </tr>\n  </tbody>\n</table>\n</div>"
     },
     "execution_count": 5,
     "metadata": {},
     "output_type": "execute_result"
    }
   ],
   "source": [
    "df_simple = pd.read_csv(path_horizons_simple)\n",
    "df_simple.rename(columns={\"relevanter Anteil = was sinntragend und detektierbar ist - es sind nicht alles gültige Symbole\": \"relevanter Anteil\"}, inplace=True)\n",
    "df_simple.head()"
   ],
   "metadata": {
    "collapsed": false,
    "pycharm": {
     "name": "#%%\n"
    }
   }
  },
  {
   "cell_type": "code",
   "execution_count": 6,
   "outputs": [
    {
     "data": {
      "text/plain": "        Point  HorizontID  Obergrenze  Untergrenze Horizontsymbol  \\\n0         2.0         1.0         0.0         28.0          I; Ap   \n1         2.0         2.0        28.0         54.0           I; E   \n2         2.0         3.0        54.0         68.0         II; Bv   \n3         2.0         4.0        68.0         96.0   III; Bv-ilCv   \n4         2.0         5.0        96.0        201.0      III; ilCv   \n...       ...         ...         ...          ...            ...   \n15201  6211.0         3.0        27.0         50.0      I; Bbh+Bs   \n15202  6211.0         4.0        50.0         70.0      I; Bbs+Bs   \n15203  6211.0         5.0        70.0        100.0      I; Go-Bbs   \n15204  6211.0         6.0       100.0        130.0          I; Go   \n15205  6211.0         7.0       130.0        155.0          I; Gr   \n\n      Horizontsymbol_relevant Bodenart Bodenfarbe  Steine Karbonat  \\\n0                          Ap      Sl2  7.5YR 3/2     3.0       C0   \n1                           E      Sl2   10YR 3/3     3.0       C0   \n2                          Bv      Sl2  7.5YR 4/3    10.0       C0   \n3                      Bv-ilC     fSms  7.5YR 6/4     1.0       C0   \n4                         ilC     mSfs   10YR 7/4     1.0       C0   \n...                       ...      ...        ...     ...      ...   \n15201                  Bbh+Bs     fSms    5YR 3/2     1.0       C0   \n15202                  Bbs+Bs     fSms    5YR 4/3     1.0       C0   \n15203                  Go-Bbs     fSms  7.5YR 5/4     1.0       C0   \n15204                      Go     fSms   2.5Y 6/4     1.0       C0   \n15205                      Gr     fSms   2.5Y 5/4     1.0       C0   \n\n      Humusgehaltsklasse Durchwurzelung  Unnamed: 11 Bundesland  PointID  \\\n0                     h3            Wf4          NaN         SH      2.0   \n1                     h2            Wf3          NaN         SH      3.0   \n2                     h1            Wf3          NaN         SH      4.0   \n3                     h0            Wf2          NaN         SH      5.0   \n4                     h0            NaN          NaN         SH      6.0   \n...                  ...            ...          ...        ...      ...   \n15201                 h2            Wf3          NaN        NaN      NaN   \n15202                 h1            Wf2          NaN        NaN      NaN   \n15203                 h1            Wf6          NaN        NaN      NaN   \n15204                 h0            Wf4          NaN        NaN      NaN   \n15205                 h0            Wf2          NaN        NaN      NaN   \n\n       Unnamed: 14    profile  max_depth  \n0              NaN  BB_0541.0      100.0  \n1              NaN  BB_0600.0       90.0  \n2              NaN  BB_0601.0      100.0  \n3              NaN  BB_0659.0      100.0  \n4              NaN  BB_0660.0      100.0  \n...            ...        ...        ...  \n15201          NaN        NaN        NaN  \n15202          NaN        NaN        NaN  \n15203          NaN        NaN        NaN  \n15204          NaN        NaN        NaN  \n15205          NaN        NaN        NaN  \n\n[15206 rows x 18 columns]",
      "text/html": "<div>\n<style scoped>\n    .dataframe tbody tr th:only-of-type {\n        vertical-align: middle;\n    }\n\n    .dataframe tbody tr th {\n        vertical-align: top;\n    }\n\n    .dataframe thead th {\n        text-align: right;\n    }\n</style>\n<table border=\"1\" class=\"dataframe\">\n  <thead>\n    <tr style=\"text-align: right;\">\n      <th></th>\n      <th>Point</th>\n      <th>HorizontID</th>\n      <th>Obergrenze</th>\n      <th>Untergrenze</th>\n      <th>Horizontsymbol</th>\n      <th>Horizontsymbol_relevant</th>\n      <th>Bodenart</th>\n      <th>Bodenfarbe</th>\n      <th>Steine</th>\n      <th>Karbonat</th>\n      <th>Humusgehaltsklasse</th>\n      <th>Durchwurzelung</th>\n      <th>Unnamed: 11</th>\n      <th>Bundesland</th>\n      <th>PointID</th>\n      <th>Unnamed: 14</th>\n      <th>profile</th>\n      <th>max_depth</th>\n    </tr>\n  </thead>\n  <tbody>\n    <tr>\n      <th>0</th>\n      <td>2.0</td>\n      <td>1.0</td>\n      <td>0.0</td>\n      <td>28.0</td>\n      <td>I; Ap</td>\n      <td>Ap</td>\n      <td>Sl2</td>\n      <td>7.5YR 3/2</td>\n      <td>3.0</td>\n      <td>C0</td>\n      <td>h3</td>\n      <td>Wf4</td>\n      <td>NaN</td>\n      <td>SH</td>\n      <td>2.0</td>\n      <td>NaN</td>\n      <td>BB_0541.0</td>\n      <td>100.0</td>\n    </tr>\n    <tr>\n      <th>1</th>\n      <td>2.0</td>\n      <td>2.0</td>\n      <td>28.0</td>\n      <td>54.0</td>\n      <td>I; E</td>\n      <td>E</td>\n      <td>Sl2</td>\n      <td>10YR 3/3</td>\n      <td>3.0</td>\n      <td>C0</td>\n      <td>h2</td>\n      <td>Wf3</td>\n      <td>NaN</td>\n      <td>SH</td>\n      <td>3.0</td>\n      <td>NaN</td>\n      <td>BB_0600.0</td>\n      <td>90.0</td>\n    </tr>\n    <tr>\n      <th>2</th>\n      <td>2.0</td>\n      <td>3.0</td>\n      <td>54.0</td>\n      <td>68.0</td>\n      <td>II; Bv</td>\n      <td>Bv</td>\n      <td>Sl2</td>\n      <td>7.5YR 4/3</td>\n      <td>10.0</td>\n      <td>C0</td>\n      <td>h1</td>\n      <td>Wf3</td>\n      <td>NaN</td>\n      <td>SH</td>\n      <td>4.0</td>\n      <td>NaN</td>\n      <td>BB_0601.0</td>\n      <td>100.0</td>\n    </tr>\n    <tr>\n      <th>3</th>\n      <td>2.0</td>\n      <td>4.0</td>\n      <td>68.0</td>\n      <td>96.0</td>\n      <td>III; Bv-ilCv</td>\n      <td>Bv-ilC</td>\n      <td>fSms</td>\n      <td>7.5YR 6/4</td>\n      <td>1.0</td>\n      <td>C0</td>\n      <td>h0</td>\n      <td>Wf2</td>\n      <td>NaN</td>\n      <td>SH</td>\n      <td>5.0</td>\n      <td>NaN</td>\n      <td>BB_0659.0</td>\n      <td>100.0</td>\n    </tr>\n    <tr>\n      <th>4</th>\n      <td>2.0</td>\n      <td>5.0</td>\n      <td>96.0</td>\n      <td>201.0</td>\n      <td>III; ilCv</td>\n      <td>ilC</td>\n      <td>mSfs</td>\n      <td>10YR 7/4</td>\n      <td>1.0</td>\n      <td>C0</td>\n      <td>h0</td>\n      <td>NaN</td>\n      <td>NaN</td>\n      <td>SH</td>\n      <td>6.0</td>\n      <td>NaN</td>\n      <td>BB_0660.0</td>\n      <td>100.0</td>\n    </tr>\n    <tr>\n      <th>...</th>\n      <td>...</td>\n      <td>...</td>\n      <td>...</td>\n      <td>...</td>\n      <td>...</td>\n      <td>...</td>\n      <td>...</td>\n      <td>...</td>\n      <td>...</td>\n      <td>...</td>\n      <td>...</td>\n      <td>...</td>\n      <td>...</td>\n      <td>...</td>\n      <td>...</td>\n      <td>...</td>\n      <td>...</td>\n      <td>...</td>\n    </tr>\n    <tr>\n      <th>15201</th>\n      <td>6211.0</td>\n      <td>3.0</td>\n      <td>27.0</td>\n      <td>50.0</td>\n      <td>I; Bbh+Bs</td>\n      <td>Bbh+Bs</td>\n      <td>fSms</td>\n      <td>5YR 3/2</td>\n      <td>1.0</td>\n      <td>C0</td>\n      <td>h2</td>\n      <td>Wf3</td>\n      <td>NaN</td>\n      <td>NaN</td>\n      <td>NaN</td>\n      <td>NaN</td>\n      <td>NaN</td>\n      <td>NaN</td>\n    </tr>\n    <tr>\n      <th>15202</th>\n      <td>6211.0</td>\n      <td>4.0</td>\n      <td>50.0</td>\n      <td>70.0</td>\n      <td>I; Bbs+Bs</td>\n      <td>Bbs+Bs</td>\n      <td>fSms</td>\n      <td>5YR 4/3</td>\n      <td>1.0</td>\n      <td>C0</td>\n      <td>h1</td>\n      <td>Wf2</td>\n      <td>NaN</td>\n      <td>NaN</td>\n      <td>NaN</td>\n      <td>NaN</td>\n      <td>NaN</td>\n      <td>NaN</td>\n    </tr>\n    <tr>\n      <th>15203</th>\n      <td>6211.0</td>\n      <td>5.0</td>\n      <td>70.0</td>\n      <td>100.0</td>\n      <td>I; Go-Bbs</td>\n      <td>Go-Bbs</td>\n      <td>fSms</td>\n      <td>7.5YR 5/4</td>\n      <td>1.0</td>\n      <td>C0</td>\n      <td>h1</td>\n      <td>Wf6</td>\n      <td>NaN</td>\n      <td>NaN</td>\n      <td>NaN</td>\n      <td>NaN</td>\n      <td>NaN</td>\n      <td>NaN</td>\n    </tr>\n    <tr>\n      <th>15204</th>\n      <td>6211.0</td>\n      <td>6.0</td>\n      <td>100.0</td>\n      <td>130.0</td>\n      <td>I; Go</td>\n      <td>Go</td>\n      <td>fSms</td>\n      <td>2.5Y 6/4</td>\n      <td>1.0</td>\n      <td>C0</td>\n      <td>h0</td>\n      <td>Wf4</td>\n      <td>NaN</td>\n      <td>NaN</td>\n      <td>NaN</td>\n      <td>NaN</td>\n      <td>NaN</td>\n      <td>NaN</td>\n    </tr>\n    <tr>\n      <th>15205</th>\n      <td>6211.0</td>\n      <td>7.0</td>\n      <td>130.0</td>\n      <td>155.0</td>\n      <td>I; Gr</td>\n      <td>Gr</td>\n      <td>fSms</td>\n      <td>2.5Y 5/4</td>\n      <td>1.0</td>\n      <td>C0</td>\n      <td>h0</td>\n      <td>Wf2</td>\n      <td>NaN</td>\n      <td>NaN</td>\n      <td>NaN</td>\n      <td>NaN</td>\n      <td>NaN</td>\n      <td>NaN</td>\n    </tr>\n  </tbody>\n</table>\n<p>15206 rows × 18 columns</p>\n</div>"
     },
     "execution_count": 6,
     "metadata": {},
     "output_type": "execute_result"
    }
   ],
   "source": [
    "# Add an extra column to the original dataset with the simplified horizon symbols\n",
    "\n",
    "# Apply the simplification function to each row of the 'Horizontsymbol' column\n",
    "col_name = \"relevanter Anteil\" # try to predict 'relevanter Anteil' first; otherwise, resort to 'stark vereinfacht'\n",
    "df['Horizontsymbol_relevant'] = df['Horizontsymbol'].apply(lambda x: bgr_data.simplify_string(x, df_simple, col_name))\n",
    "\n",
    "# Reorder the columns\n",
    "cols = df.columns.tolist()\n",
    "cols.insert(cols.index('Horizontsymbol') + 1, 'Horizontsymbol_relevant')\n",
    "cols.pop() # remove the duplicate at the end\n",
    "df = df[cols]\n",
    "df"
   ],
   "metadata": {
    "collapsed": false,
    "pycharm": {
     "name": "#%%\n"
    }
   }
  },
  {
   "cell_type": "markdown",
   "source": [
    "#### Join images and further tables"
   ],
   "metadata": {
    "collapsed": false
   }
  },
  {
   "cell_type": "code",
   "execution_count": 7,
   "outputs": [
    {
     "data": {
      "text/plain": "               file   Point\n0   BB_0896_Y_1.JPG   896.0\n1   BB_0903_Y_1.JPG   903.0\n2   BW_4930_Y_1.JPG  4930.0\n3   BW_5183_Y_1.JPG  5183.0\n4   BW_5462_Y_1.JPG  5462.0\n5   BY_3651_Y_1.JPG  3651.0\n6   BY_3934_Y_1.JPG  3934.0\n7   BY_3979_Y_1.JPG  3979.0\n8   BY_4039_Y_1.JPG  4039.0\n9   BY_4302_Y_1.JPG  4302.0\n10  BY_4360_Y_1.JPG  4360.0\n11  BY_4568_Y_1.JPG  4568.0\n12  BY_4895_Y_1.JPG  4895.0\n13  BY_4910_Y_1.JPG  4910.0\n14  BY_5439_Y_1.JPG  5439.0",
      "text/html": "<div>\n<style scoped>\n    .dataframe tbody tr th:only-of-type {\n        vertical-align: middle;\n    }\n\n    .dataframe tbody tr th {\n        vertical-align: top;\n    }\n\n    .dataframe thead th {\n        text-align: right;\n    }\n</style>\n<table border=\"1\" class=\"dataframe\">\n  <thead>\n    <tr style=\"text-align: right;\">\n      <th></th>\n      <th>file</th>\n      <th>Point</th>\n    </tr>\n  </thead>\n  <tbody>\n    <tr>\n      <th>0</th>\n      <td>BB_0896_Y_1.JPG</td>\n      <td>896.0</td>\n    </tr>\n    <tr>\n      <th>1</th>\n      <td>BB_0903_Y_1.JPG</td>\n      <td>903.0</td>\n    </tr>\n    <tr>\n      <th>2</th>\n      <td>BW_4930_Y_1.JPG</td>\n      <td>4930.0</td>\n    </tr>\n    <tr>\n      <th>3</th>\n      <td>BW_5183_Y_1.JPG</td>\n      <td>5183.0</td>\n    </tr>\n    <tr>\n      <th>4</th>\n      <td>BW_5462_Y_1.JPG</td>\n      <td>5462.0</td>\n    </tr>\n    <tr>\n      <th>5</th>\n      <td>BY_3651_Y_1.JPG</td>\n      <td>3651.0</td>\n    </tr>\n    <tr>\n      <th>6</th>\n      <td>BY_3934_Y_1.JPG</td>\n      <td>3934.0</td>\n    </tr>\n    <tr>\n      <th>7</th>\n      <td>BY_3979_Y_1.JPG</td>\n      <td>3979.0</td>\n    </tr>\n    <tr>\n      <th>8</th>\n      <td>BY_4039_Y_1.JPG</td>\n      <td>4039.0</td>\n    </tr>\n    <tr>\n      <th>9</th>\n      <td>BY_4302_Y_1.JPG</td>\n      <td>4302.0</td>\n    </tr>\n    <tr>\n      <th>10</th>\n      <td>BY_4360_Y_1.JPG</td>\n      <td>4360.0</td>\n    </tr>\n    <tr>\n      <th>11</th>\n      <td>BY_4568_Y_1.JPG</td>\n      <td>4568.0</td>\n    </tr>\n    <tr>\n      <th>12</th>\n      <td>BY_4895_Y_1.JPG</td>\n      <td>4895.0</td>\n    </tr>\n    <tr>\n      <th>13</th>\n      <td>BY_4910_Y_1.JPG</td>\n      <td>4910.0</td>\n    </tr>\n    <tr>\n      <th>14</th>\n      <td>BY_5439_Y_1.JPG</td>\n      <td>5439.0</td>\n    </tr>\n  </tbody>\n</table>\n</div>"
     },
     "execution_count": 7,
     "metadata": {},
     "output_type": "execute_result"
    }
   ],
   "source": [
    "# Read image dataset and add file path as extra column to df\n",
    "image_dataset = os.listdir(path_pictures)\n",
    "img_files = pd.DataFrame(image_dataset, columns=['file'])\n",
    "img_files['Point'] = img_files['file'].str.split(\"_\").map(lambda x: x[1]).astype(float) # for error 'list index out of range', delete @eaDir\n",
    "#img_files['HorizontID'] = img_files['file'].str.split('.').map(lambda x: x[0][-1]).astype(float) # uncomment only for segmented horizon patches\n",
    "img_files.head(15)"
   ],
   "metadata": {
    "collapsed": false,
    "pycharm": {
     "name": "#%%\n"
    }
   }
  },
  {
   "cell_type": "code",
   "execution_count": 8,
   "outputs": [
    {
     "name": "stdout",
     "output_type": "stream",
     "text": [
      "16316\n"
     ]
    },
    {
     "data": {
      "text/plain": "    Point  HorizontID  Obergrenze  Untergrenze Horizontsymbol  \\\n0     2.0         1.0         0.0         28.0          I; Ap   \n1     2.0         2.0        28.0         54.0           I; E   \n2     2.0         3.0        54.0         68.0         II; Bv   \n3     2.0         4.0        68.0         96.0   III; Bv-ilCv   \n4     2.0         5.0        96.0        201.0      III; ilCv   \n5     3.0         1.0         0.0         12.0     I; tbSw-Ah   \n6     3.0         2.0        12.0         30.0    I; tbSw-rAp   \n7     3.0         3.0        30.0         54.0    I; tbrGo-Sw   \n8     3.0         4.0        54.0        125.0     I; tbGo-Sd   \n9     3.0         5.0       125.0        160.0      II; tmGor   \n10    3.0         6.0       160.0        201.0      II; tmeGr   \n11    4.0         1.0         0.0         30.0     I; Sw-tbAp   \n12    4.0         2.0        30.0         74.0        I; tbSq   \n13    4.0         3.0        74.0        140.0       I; tbGro   \n14    4.0         4.0       140.0        200.0        I; tbGr   \n\n   Horizontsymbol_relevant Bodenart   Bodenfarbe  Steine Karbonat  \\\n0                       Ap      Sl2    7.5YR 3/2     3.0       C0   \n1                        E      Sl2     10YR 3/3     3.0       C0   \n2                       Bv      Sl2    7.5YR 4/3    10.0       C0   \n3                   Bv-ilC     fSms    7.5YR 6/4     1.0       C0   \n4                      ilC     mSfs     10YR 7/4     1.0       C0   \n5                   tSw-Ah      Ls3     10YR 4/2     0.0       C0   \n6                   tSw-Ap      Ls2     10YR 4/2     0.0       C0   \n7                   tGo-Sw      Ls4     2.5Y 5/1     0.0       C0   \n8                   tGo-Sd       Lu       5Y 5/1     0.0       C0   \n9                     tGor      Su3       5Y 5/1     0.0       C0   \n10                     tGr      Su3  GLEY1 4/5GY     0.0     C3.2   \n11                  Sw-tAp      Tu3       5Y 5/2     0.0       C0   \n12                     tSq      Tu3       5Y 5/1     0.0       C0   \n13                    tGro      Tu4       5Y 6/1     0.0       C0   \n14                     tGr      Tu4    GLEY1 5/N     0.0       C0   \n\n   Humusgehaltsklasse Durchwurzelung  Unnamed: 11 Bundesland  PointID  \\\n0                  h3            Wf4          NaN         SH      2.0   \n1                  h2            Wf3          NaN         SH      3.0   \n2                  h1            Wf3          NaN         SH      4.0   \n3                  h0            Wf2          NaN         SH      5.0   \n4                  h0            NaN          NaN         SH      6.0   \n5                  h3            Wf6          NaN         SH      7.0   \n6                  h2            Wf4          NaN         SH      8.0   \n7                  h1            Wf2          NaN         SH     10.0   \n8                  h1            NaN          NaN         SH     11.0   \n9                  h1            NaN          NaN         SH     12.0   \n10                 h1            NaN          NaN         SH     14.0   \n11                 h3            Wf4          NaN         SH     15.0   \n12                 h1            Wf3          NaN         SH     16.0   \n13                 h0            Wf1          NaN         SH     17.0   \n14                 h0            NaN          NaN         SH     18.0   \n\n    Unnamed: 14    profile  max_depth  \\\n0           NaN  BB_0541.0      100.0   \n1           NaN  BB_0600.0       90.0   \n2           NaN  BB_0601.0      100.0   \n3           NaN  BB_0659.0      100.0   \n4           NaN  BB_0660.0      100.0   \n5           NaN  BB_0661.0      100.0   \n6           NaN  BB_0662.0      100.0   \n7           NaN  BB_0663.0      100.0   \n8           NaN  BB_0718.0      100.0   \n9           NaN  BB_0720.0      110.0   \n10          NaN  BB_0721.0      100.0   \n11          NaN  BB_0722.0      100.0   \n12          NaN  BB_0723.0      100.0   \n13          NaN  BB_0725.0       90.0   \n14          NaN  BB_0781.0      100.0   \n\n                                                 file  \n0   ../data/BGR/Profilbilder_no_ruler_no_sky/SH_00...  \n1   ../data/BGR/Profilbilder_no_ruler_no_sky/SH_00...  \n2   ../data/BGR/Profilbilder_no_ruler_no_sky/SH_00...  \n3   ../data/BGR/Profilbilder_no_ruler_no_sky/SH_00...  \n4   ../data/BGR/Profilbilder_no_ruler_no_sky/SH_00...  \n5   ../data/BGR/Profilbilder_no_ruler_no_sky/SH_00...  \n6   ../data/BGR/Profilbilder_no_ruler_no_sky/SH_00...  \n7   ../data/BGR/Profilbilder_no_ruler_no_sky/SH_00...  \n8   ../data/BGR/Profilbilder_no_ruler_no_sky/SH_00...  \n9   ../data/BGR/Profilbilder_no_ruler_no_sky/SH_00...  \n10  ../data/BGR/Profilbilder_no_ruler_no_sky/SH_00...  \n11  ../data/BGR/Profilbilder_no_ruler_no_sky/SH_00...  \n12  ../data/BGR/Profilbilder_no_ruler_no_sky/SH_00...  \n13  ../data/BGR/Profilbilder_no_ruler_no_sky/SH_00...  \n14  ../data/BGR/Profilbilder_no_ruler_no_sky/SH_00...  ",
      "text/html": "<div>\n<style scoped>\n    .dataframe tbody tr th:only-of-type {\n        vertical-align: middle;\n    }\n\n    .dataframe tbody tr th {\n        vertical-align: top;\n    }\n\n    .dataframe thead th {\n        text-align: right;\n    }\n</style>\n<table border=\"1\" class=\"dataframe\">\n  <thead>\n    <tr style=\"text-align: right;\">\n      <th></th>\n      <th>Point</th>\n      <th>HorizontID</th>\n      <th>Obergrenze</th>\n      <th>Untergrenze</th>\n      <th>Horizontsymbol</th>\n      <th>Horizontsymbol_relevant</th>\n      <th>Bodenart</th>\n      <th>Bodenfarbe</th>\n      <th>Steine</th>\n      <th>Karbonat</th>\n      <th>Humusgehaltsklasse</th>\n      <th>Durchwurzelung</th>\n      <th>Unnamed: 11</th>\n      <th>Bundesland</th>\n      <th>PointID</th>\n      <th>Unnamed: 14</th>\n      <th>profile</th>\n      <th>max_depth</th>\n      <th>file</th>\n    </tr>\n  </thead>\n  <tbody>\n    <tr>\n      <th>0</th>\n      <td>2.0</td>\n      <td>1.0</td>\n      <td>0.0</td>\n      <td>28.0</td>\n      <td>I; Ap</td>\n      <td>Ap</td>\n      <td>Sl2</td>\n      <td>7.5YR 3/2</td>\n      <td>3.0</td>\n      <td>C0</td>\n      <td>h3</td>\n      <td>Wf4</td>\n      <td>NaN</td>\n      <td>SH</td>\n      <td>2.0</td>\n      <td>NaN</td>\n      <td>BB_0541.0</td>\n      <td>100.0</td>\n      <td>../data/BGR/Profilbilder_no_ruler_no_sky/SH_00...</td>\n    </tr>\n    <tr>\n      <th>1</th>\n      <td>2.0</td>\n      <td>2.0</td>\n      <td>28.0</td>\n      <td>54.0</td>\n      <td>I; E</td>\n      <td>E</td>\n      <td>Sl2</td>\n      <td>10YR 3/3</td>\n      <td>3.0</td>\n      <td>C0</td>\n      <td>h2</td>\n      <td>Wf3</td>\n      <td>NaN</td>\n      <td>SH</td>\n      <td>3.0</td>\n      <td>NaN</td>\n      <td>BB_0600.0</td>\n      <td>90.0</td>\n      <td>../data/BGR/Profilbilder_no_ruler_no_sky/SH_00...</td>\n    </tr>\n    <tr>\n      <th>2</th>\n      <td>2.0</td>\n      <td>3.0</td>\n      <td>54.0</td>\n      <td>68.0</td>\n      <td>II; Bv</td>\n      <td>Bv</td>\n      <td>Sl2</td>\n      <td>7.5YR 4/3</td>\n      <td>10.0</td>\n      <td>C0</td>\n      <td>h1</td>\n      <td>Wf3</td>\n      <td>NaN</td>\n      <td>SH</td>\n      <td>4.0</td>\n      <td>NaN</td>\n      <td>BB_0601.0</td>\n      <td>100.0</td>\n      <td>../data/BGR/Profilbilder_no_ruler_no_sky/SH_00...</td>\n    </tr>\n    <tr>\n      <th>3</th>\n      <td>2.0</td>\n      <td>4.0</td>\n      <td>68.0</td>\n      <td>96.0</td>\n      <td>III; Bv-ilCv</td>\n      <td>Bv-ilC</td>\n      <td>fSms</td>\n      <td>7.5YR 6/4</td>\n      <td>1.0</td>\n      <td>C0</td>\n      <td>h0</td>\n      <td>Wf2</td>\n      <td>NaN</td>\n      <td>SH</td>\n      <td>5.0</td>\n      <td>NaN</td>\n      <td>BB_0659.0</td>\n      <td>100.0</td>\n      <td>../data/BGR/Profilbilder_no_ruler_no_sky/SH_00...</td>\n    </tr>\n    <tr>\n      <th>4</th>\n      <td>2.0</td>\n      <td>5.0</td>\n      <td>96.0</td>\n      <td>201.0</td>\n      <td>III; ilCv</td>\n      <td>ilC</td>\n      <td>mSfs</td>\n      <td>10YR 7/4</td>\n      <td>1.0</td>\n      <td>C0</td>\n      <td>h0</td>\n      <td>NaN</td>\n      <td>NaN</td>\n      <td>SH</td>\n      <td>6.0</td>\n      <td>NaN</td>\n      <td>BB_0660.0</td>\n      <td>100.0</td>\n      <td>../data/BGR/Profilbilder_no_ruler_no_sky/SH_00...</td>\n    </tr>\n    <tr>\n      <th>5</th>\n      <td>3.0</td>\n      <td>1.0</td>\n      <td>0.0</td>\n      <td>12.0</td>\n      <td>I; tbSw-Ah</td>\n      <td>tSw-Ah</td>\n      <td>Ls3</td>\n      <td>10YR 4/2</td>\n      <td>0.0</td>\n      <td>C0</td>\n      <td>h3</td>\n      <td>Wf6</td>\n      <td>NaN</td>\n      <td>SH</td>\n      <td>7.0</td>\n      <td>NaN</td>\n      <td>BB_0661.0</td>\n      <td>100.0</td>\n      <td>../data/BGR/Profilbilder_no_ruler_no_sky/SH_00...</td>\n    </tr>\n    <tr>\n      <th>6</th>\n      <td>3.0</td>\n      <td>2.0</td>\n      <td>12.0</td>\n      <td>30.0</td>\n      <td>I; tbSw-rAp</td>\n      <td>tSw-Ap</td>\n      <td>Ls2</td>\n      <td>10YR 4/2</td>\n      <td>0.0</td>\n      <td>C0</td>\n      <td>h2</td>\n      <td>Wf4</td>\n      <td>NaN</td>\n      <td>SH</td>\n      <td>8.0</td>\n      <td>NaN</td>\n      <td>BB_0662.0</td>\n      <td>100.0</td>\n      <td>../data/BGR/Profilbilder_no_ruler_no_sky/SH_00...</td>\n    </tr>\n    <tr>\n      <th>7</th>\n      <td>3.0</td>\n      <td>3.0</td>\n      <td>30.0</td>\n      <td>54.0</td>\n      <td>I; tbrGo-Sw</td>\n      <td>tGo-Sw</td>\n      <td>Ls4</td>\n      <td>2.5Y 5/1</td>\n      <td>0.0</td>\n      <td>C0</td>\n      <td>h1</td>\n      <td>Wf2</td>\n      <td>NaN</td>\n      <td>SH</td>\n      <td>10.0</td>\n      <td>NaN</td>\n      <td>BB_0663.0</td>\n      <td>100.0</td>\n      <td>../data/BGR/Profilbilder_no_ruler_no_sky/SH_00...</td>\n    </tr>\n    <tr>\n      <th>8</th>\n      <td>3.0</td>\n      <td>4.0</td>\n      <td>54.0</td>\n      <td>125.0</td>\n      <td>I; tbGo-Sd</td>\n      <td>tGo-Sd</td>\n      <td>Lu</td>\n      <td>5Y 5/1</td>\n      <td>0.0</td>\n      <td>C0</td>\n      <td>h1</td>\n      <td>NaN</td>\n      <td>NaN</td>\n      <td>SH</td>\n      <td>11.0</td>\n      <td>NaN</td>\n      <td>BB_0718.0</td>\n      <td>100.0</td>\n      <td>../data/BGR/Profilbilder_no_ruler_no_sky/SH_00...</td>\n    </tr>\n    <tr>\n      <th>9</th>\n      <td>3.0</td>\n      <td>5.0</td>\n      <td>125.0</td>\n      <td>160.0</td>\n      <td>II; tmGor</td>\n      <td>tGor</td>\n      <td>Su3</td>\n      <td>5Y 5/1</td>\n      <td>0.0</td>\n      <td>C0</td>\n      <td>h1</td>\n      <td>NaN</td>\n      <td>NaN</td>\n      <td>SH</td>\n      <td>12.0</td>\n      <td>NaN</td>\n      <td>BB_0720.0</td>\n      <td>110.0</td>\n      <td>../data/BGR/Profilbilder_no_ruler_no_sky/SH_00...</td>\n    </tr>\n    <tr>\n      <th>10</th>\n      <td>3.0</td>\n      <td>6.0</td>\n      <td>160.0</td>\n      <td>201.0</td>\n      <td>II; tmeGr</td>\n      <td>tGr</td>\n      <td>Su3</td>\n      <td>GLEY1 4/5GY</td>\n      <td>0.0</td>\n      <td>C3.2</td>\n      <td>h1</td>\n      <td>NaN</td>\n      <td>NaN</td>\n      <td>SH</td>\n      <td>14.0</td>\n      <td>NaN</td>\n      <td>BB_0721.0</td>\n      <td>100.0</td>\n      <td>../data/BGR/Profilbilder_no_ruler_no_sky/SH_00...</td>\n    </tr>\n    <tr>\n      <th>11</th>\n      <td>4.0</td>\n      <td>1.0</td>\n      <td>0.0</td>\n      <td>30.0</td>\n      <td>I; Sw-tbAp</td>\n      <td>Sw-tAp</td>\n      <td>Tu3</td>\n      <td>5Y 5/2</td>\n      <td>0.0</td>\n      <td>C0</td>\n      <td>h3</td>\n      <td>Wf4</td>\n      <td>NaN</td>\n      <td>SH</td>\n      <td>15.0</td>\n      <td>NaN</td>\n      <td>BB_0722.0</td>\n      <td>100.0</td>\n      <td>../data/BGR/Profilbilder_no_ruler_no_sky/SH_00...</td>\n    </tr>\n    <tr>\n      <th>12</th>\n      <td>4.0</td>\n      <td>2.0</td>\n      <td>30.0</td>\n      <td>74.0</td>\n      <td>I; tbSq</td>\n      <td>tSq</td>\n      <td>Tu3</td>\n      <td>5Y 5/1</td>\n      <td>0.0</td>\n      <td>C0</td>\n      <td>h1</td>\n      <td>Wf3</td>\n      <td>NaN</td>\n      <td>SH</td>\n      <td>16.0</td>\n      <td>NaN</td>\n      <td>BB_0723.0</td>\n      <td>100.0</td>\n      <td>../data/BGR/Profilbilder_no_ruler_no_sky/SH_00...</td>\n    </tr>\n    <tr>\n      <th>13</th>\n      <td>4.0</td>\n      <td>3.0</td>\n      <td>74.0</td>\n      <td>140.0</td>\n      <td>I; tbGro</td>\n      <td>tGro</td>\n      <td>Tu4</td>\n      <td>5Y 6/1</td>\n      <td>0.0</td>\n      <td>C0</td>\n      <td>h0</td>\n      <td>Wf1</td>\n      <td>NaN</td>\n      <td>SH</td>\n      <td>17.0</td>\n      <td>NaN</td>\n      <td>BB_0725.0</td>\n      <td>90.0</td>\n      <td>../data/BGR/Profilbilder_no_ruler_no_sky/SH_00...</td>\n    </tr>\n    <tr>\n      <th>14</th>\n      <td>4.0</td>\n      <td>4.0</td>\n      <td>140.0</td>\n      <td>200.0</td>\n      <td>I; tbGr</td>\n      <td>tGr</td>\n      <td>Tu4</td>\n      <td>GLEY1 5/N</td>\n      <td>0.0</td>\n      <td>C0</td>\n      <td>h0</td>\n      <td>NaN</td>\n      <td>NaN</td>\n      <td>SH</td>\n      <td>18.0</td>\n      <td>NaN</td>\n      <td>BB_0781.0</td>\n      <td>100.0</td>\n      <td>../data/BGR/Profilbilder_no_ruler_no_sky/SH_00...</td>\n    </tr>\n  </tbody>\n</table>\n</div>"
     },
     "execution_count": 8,
     "metadata": {},
     "output_type": "execute_result"
    }
   ],
   "source": [
    "df = pd.merge(df, img_files, how='inner', on=['Point']) # for full images\n",
    "#df = pd.merge(df, img_files, how='inner', on=['Point', 'HorizontID']) # for patches\n",
    "df['file'] = df['file'].map(lambda x: os.path.join(path_pictures, x))\n",
    "print(len(df))\n",
    "df.head(15)"
   ],
   "metadata": {
    "collapsed": false,
    "pycharm": {
     "name": "#%%\n"
    }
   }
  },
  {
   "cell_type": "markdown",
   "source": [
    "**Note**: When merging with the image dataset, the total dataframe increases in size, because some soil pictures were taken from more than one angle. These are still not duplicates, although the table features are the same for every such image."
   ],
   "metadata": {
    "collapsed": false
   }
  },
  {
   "cell_type": "code",
   "execution_count": 9,
   "outputs": [],
   "source": [
    "# Join with annotator ids\n",
    "#df_k = pd.read_csv(path_csv_annotator_ids)\n",
    "#df_k = df_k.rename({'PointID':'Point'},axis=1)\n",
    "#df_k.head()"
   ],
   "metadata": {
    "collapsed": false,
    "pycharm": {
     "name": "#%%\n"
    }
   }
  },
  {
   "cell_type": "code",
   "execution_count": 10,
   "outputs": [],
   "source": [
    "#df = pd.merge(df, df_k, how='inner', on='Point')\n",
    "#len(df)"
   ],
   "metadata": {
    "collapsed": false,
    "pycharm": {
     "name": "#%%\n"
    }
   }
  },
  {
   "cell_type": "markdown",
   "source": [
    "**Note**: When joining with the annotator ids, the size of df decreases, since we don't have this id for every sample in the df."
   ],
   "metadata": {
    "collapsed": false
   }
  },
  {
   "cell_type": "code",
   "execution_count": 11,
   "outputs": [
    {
     "name": "stdout",
     "output_type": "stream",
     "text": [
      "3106\n"
     ]
    },
    {
     "data": {
      "text/plain": "  Point Bundesland  Probenahme_Monat  Probenahme_Jahr       xcoord  \\\n0     2         SH                11             2015  462216.1283   \n1     3         SH                 6             2016  480546.9384   \n2     4         SH                 8             2018  484922.3074   \n3     5         SH                10             2015  497355.9905   \n4     6         SH                10             2015  505020.3377   \n\n        ycoord Bodenklimaraum_Name Landnutzung BZE_Moor Hauptbodentyp  \\\n0  6079359.775       Marsch - Nord           A        0            YE   \n1  6079739.216       Marsch - Nord           G        0            MD   \n2  6080011.471       Marsch - Nord           A        0            MK   \n3  6079646.589       Marsch - Nord           G        0            RQ   \n4   6080401.37        Geest - Nord           G        0            YU   \n\n  BodenVarTypSub GrundwaStufe GrundwaStand  Moormaechtigkeit  \\\n0          YE/BB            0         >200               0.0   \n1            MDn         GWS4          135               0.0   \n2            MKn         GWS4          105               0.0   \n3     p2RQ/GG-PP         GWS4          180               0.0   \n4        aGGe-YU         GWS4          140               0.0   \n\n   Torfmaechtigkeit Neigung Exposition Woelbung Reliefformtyp LageImRelief  \\\n0               0.0      N0        NaN       GG             V            Z   \n1               0.0      N0        NaN       GG           TSF            Z   \n2               0.0      N1         NE       GG            TH            Z   \n3               0.0    N0.2         SS       GG           KSF            K   \n4               0.0      N0        NaN       GG           TSF            Z   \n\n   KV_0_30  KV_30_100  \n0    81.89      54.19  \n1    71.62      59.74  \n2    65.60     120.40  \n3    88.82     220.87  \n4    62.97      84.35  ",
      "text/html": "<div>\n<style scoped>\n    .dataframe tbody tr th:only-of-type {\n        vertical-align: middle;\n    }\n\n    .dataframe tbody tr th {\n        vertical-align: top;\n    }\n\n    .dataframe thead th {\n        text-align: right;\n    }\n</style>\n<table border=\"1\" class=\"dataframe\">\n  <thead>\n    <tr style=\"text-align: right;\">\n      <th></th>\n      <th>Point</th>\n      <th>Bundesland</th>\n      <th>Probenahme_Monat</th>\n      <th>Probenahme_Jahr</th>\n      <th>xcoord</th>\n      <th>ycoord</th>\n      <th>Bodenklimaraum_Name</th>\n      <th>Landnutzung</th>\n      <th>BZE_Moor</th>\n      <th>Hauptbodentyp</th>\n      <th>BodenVarTypSub</th>\n      <th>GrundwaStufe</th>\n      <th>GrundwaStand</th>\n      <th>Moormaechtigkeit</th>\n      <th>Torfmaechtigkeit</th>\n      <th>Neigung</th>\n      <th>Exposition</th>\n      <th>Woelbung</th>\n      <th>Reliefformtyp</th>\n      <th>LageImRelief</th>\n      <th>KV_0_30</th>\n      <th>KV_30_100</th>\n    </tr>\n  </thead>\n  <tbody>\n    <tr>\n      <th>0</th>\n      <td>2</td>\n      <td>SH</td>\n      <td>11</td>\n      <td>2015</td>\n      <td>462216.1283</td>\n      <td>6079359.775</td>\n      <td>Marsch - Nord</td>\n      <td>A</td>\n      <td>0</td>\n      <td>YE</td>\n      <td>YE/BB</td>\n      <td>0</td>\n      <td>&gt;200</td>\n      <td>0.0</td>\n      <td>0.0</td>\n      <td>N0</td>\n      <td>NaN</td>\n      <td>GG</td>\n      <td>V</td>\n      <td>Z</td>\n      <td>81.89</td>\n      <td>54.19</td>\n    </tr>\n    <tr>\n      <th>1</th>\n      <td>3</td>\n      <td>SH</td>\n      <td>6</td>\n      <td>2016</td>\n      <td>480546.9384</td>\n      <td>6079739.216</td>\n      <td>Marsch - Nord</td>\n      <td>G</td>\n      <td>0</td>\n      <td>MD</td>\n      <td>MDn</td>\n      <td>GWS4</td>\n      <td>135</td>\n      <td>0.0</td>\n      <td>0.0</td>\n      <td>N0</td>\n      <td>NaN</td>\n      <td>GG</td>\n      <td>TSF</td>\n      <td>Z</td>\n      <td>71.62</td>\n      <td>59.74</td>\n    </tr>\n    <tr>\n      <th>2</th>\n      <td>4</td>\n      <td>SH</td>\n      <td>8</td>\n      <td>2018</td>\n      <td>484922.3074</td>\n      <td>6080011.471</td>\n      <td>Marsch - Nord</td>\n      <td>A</td>\n      <td>0</td>\n      <td>MK</td>\n      <td>MKn</td>\n      <td>GWS4</td>\n      <td>105</td>\n      <td>0.0</td>\n      <td>0.0</td>\n      <td>N1</td>\n      <td>NE</td>\n      <td>GG</td>\n      <td>TH</td>\n      <td>Z</td>\n      <td>65.60</td>\n      <td>120.40</td>\n    </tr>\n    <tr>\n      <th>3</th>\n      <td>5</td>\n      <td>SH</td>\n      <td>10</td>\n      <td>2015</td>\n      <td>497355.9905</td>\n      <td>6079646.589</td>\n      <td>Marsch - Nord</td>\n      <td>G</td>\n      <td>0</td>\n      <td>RQ</td>\n      <td>p2RQ/GG-PP</td>\n      <td>GWS4</td>\n      <td>180</td>\n      <td>0.0</td>\n      <td>0.0</td>\n      <td>N0.2</td>\n      <td>SS</td>\n      <td>GG</td>\n      <td>KSF</td>\n      <td>K</td>\n      <td>88.82</td>\n      <td>220.87</td>\n    </tr>\n    <tr>\n      <th>4</th>\n      <td>6</td>\n      <td>SH</td>\n      <td>10</td>\n      <td>2015</td>\n      <td>505020.3377</td>\n      <td>6080401.37</td>\n      <td>Geest - Nord</td>\n      <td>G</td>\n      <td>0</td>\n      <td>YU</td>\n      <td>aGGe-YU</td>\n      <td>GWS4</td>\n      <td>140</td>\n      <td>0.0</td>\n      <td>0.0</td>\n      <td>N0</td>\n      <td>NaN</td>\n      <td>GG</td>\n      <td>TSF</td>\n      <td>Z</td>\n      <td>62.97</td>\n      <td>84.35</td>\n    </tr>\n  </tbody>\n</table>\n</div>"
     },
     "execution_count": 11,
     "metadata": {},
     "output_type": "execute_result"
    }
   ],
   "source": [
    "# Join with table containing geographical infos\n",
    "df_loc = pd.read_csv(path_csv_locations, encoding='unicode_escape')\n",
    "df_loc = df_loc.rename({'PointID':'Point'},axis=1)\n",
    "print(len(df_loc))\n",
    "df_loc.head()"
   ],
   "metadata": {
    "collapsed": false,
    "pycharm": {
     "name": "#%%\n"
    }
   }
  },
  {
   "cell_type": "code",
   "execution_count": 12,
   "outputs": [
    {
     "data": {
      "text/plain": "16316"
     },
     "execution_count": 12,
     "metadata": {},
     "output_type": "execute_result"
    }
   ],
   "source": [
    "# There are some string artifacts when reading the Standort dataframe. Set them to NaN and remove the rows\n",
    "df_loc['Point'] = pd.to_numeric(df_loc['Point'], errors='coerce')\n",
    "df_loc = df_loc.dropna(subset=['Point'])\n",
    "df = pd.merge(df, df_loc, how='inner', on='Point')\n",
    "len(df)"
   ],
   "metadata": {
    "collapsed": false,
    "pycharm": {
     "name": "#%%\n"
    }
   }
  },
  {
   "cell_type": "markdown",
   "source": [
    "**Note** Size of df stays the same after merging with df_loc (Points in df_loc are all contained in Points df)."
   ],
   "metadata": {
    "collapsed": false
   }
  },
  {
   "cell_type": "code",
   "execution_count": 13,
   "outputs": [
    {
     "data": {
      "text/plain": "        Point  Obergrenze  Untergrenze Horizontsymbol_relevant Bodenart  \\\n0         2.0         0.0         28.0                      Ap      Sl2   \n1         2.0        28.0         54.0                       E      Sl2   \n2         2.0        54.0         68.0                      Bv      Sl2   \n3         2.0        68.0         96.0                  Bv-ilC     fSms   \n4         2.0        96.0        201.0                     ilC     mSfs   \n...       ...         ...          ...                     ...      ...   \n16311  6211.0        70.0        100.0                  Go-Bbs     fSms   \n16312  6211.0       100.0        130.0                      Go     fSms   \n16313  6211.0       100.0        130.0                      Go     fSms   \n16314  6211.0       130.0        155.0                      Gr     fSms   \n16315  6211.0       130.0        155.0                      Gr     fSms   \n\n      Bodenfarbe  Steine Karbonat Humusgehaltsklasse Durchwurzelung  \\\n0      7.5YR 3/2     3.0       C0                 h3            Wf4   \n1       10YR 3/3     3.0       C0                 h2            Wf3   \n2      7.5YR 4/3    10.0       C0                 h1            Wf3   \n3      7.5YR 6/4     1.0       C0                 h0            Wf2   \n4       10YR 7/4     1.0       C0                 h0            NaN   \n...          ...     ...      ...                ...            ...   \n16311  7.5YR 5/4     1.0       C0                 h1            Wf6   \n16312   2.5Y 6/4     1.0       C0                 h0            Wf4   \n16313   2.5Y 6/4     1.0       C0                 h0            Wf4   \n16314   2.5Y 5/4     1.0       C0                 h0            Wf2   \n16315   2.5Y 5/4     1.0       C0                 h0            Wf2   \n\n                                                    file  Probenahme_Monat  \\\n0      ../data/BGR/Profilbilder_no_ruler_no_sky/SH_00...                11   \n1      ../data/BGR/Profilbilder_no_ruler_no_sky/SH_00...                11   \n2      ../data/BGR/Profilbilder_no_ruler_no_sky/SH_00...                11   \n3      ../data/BGR/Profilbilder_no_ruler_no_sky/SH_00...                11   \n4      ../data/BGR/Profilbilder_no_ruler_no_sky/SH_00...                11   \n...                                                  ...               ...   \n16311  ../data/BGR/Profilbilder_no_ruler_no_sky/NI_62...                 6   \n16312  ../data/BGR/Profilbilder_no_ruler_no_sky/NI_62...                 6   \n16313  ../data/BGR/Profilbilder_no_ruler_no_sky/NI_62...                 6   \n16314  ../data/BGR/Profilbilder_no_ruler_no_sky/NI_62...                 6   \n16315  ../data/BGR/Profilbilder_no_ruler_no_sky/NI_62...                 6   \n\n       Probenahme_Jahr       xcoord       ycoord  \\\n0                 2015  462216.1283  6079359.775   \n1                 2015  462216.1283  6079359.775   \n2                 2015  462216.1283  6079359.775   \n3                 2015  462216.1283  6079359.775   \n4                 2015  462216.1283  6079359.775   \n...                ...          ...          ...   \n16311             2012  522076.9633  5930456.114   \n16312             2012  522076.9633  5930456.114   \n16313             2012  522076.9633  5930456.114   \n16314             2012  522076.9633  5930456.114   \n16315             2012  522076.9633  5930456.114   \n\n                      Bodenklimaraum_Name Landnutzung BZE_Moor Hauptbodentyp  \\\n0                           Marsch - Nord           A        0            YE   \n1                           Marsch - Nord           A        0            YE   \n2                           Marsch - Nord           A        0            YE   \n3                           Marsch - Nord           A        0            YE   \n4                           Marsch - Nord           A        0            YE   \n...                                   ...         ...      ...           ...   \n16311  Elbe-Weser-Dreieck / sandige Böden           G        0            PP   \n16312  Elbe-Weser-Dreieck / sandige Böden           G        0            PP   \n16313  Elbe-Weser-Dreieck / sandige Böden           G        0            PP   \n16314  Elbe-Weser-Dreieck / sandige Böden           G        0            PP   \n16315  Elbe-Weser-Dreieck / sandige Böden           G        0            PP   \n\n      BodenVarTypSub GrundwaStufe  GrundwaStand  Moormaechtigkeit  \\\n0              YE/BB            0         200.0               0.0   \n1              YE/BB            0         200.0               0.0   \n2              YE/BB            0         200.0               0.0   \n3              YE/BB            0         200.0               0.0   \n4              YE/BB            0         200.0               0.0   \n...              ...          ...           ...               ...   \n16311          GG-PP         GWS4         110.0               0.0   \n16312          GG-PP         GWS4         110.0               0.0   \n16313          GG-PP         GWS4         110.0               0.0   \n16314          GG-PP         GWS4         110.0               0.0   \n16315          GG-PP         GWS4         110.0               0.0   \n\n       Torfmaechtigkeit Neigung Exposition Woelbung Reliefformtyp  \\\n0                   0.0      N0        NaN       GG             V   \n1                   0.0      N0        NaN       GG             V   \n2                   0.0      N0        NaN       GG             V   \n3                   0.0      N0        NaN       GG             V   \n4                   0.0      N0        NaN       GG             V   \n...                 ...     ...        ...      ...           ...   \n16311               0.0      N0        NaN       GG           TSF   \n16312               0.0      N0        NaN       GG           TSF   \n16313               0.0      N0        NaN       GG           TSF   \n16314               0.0      N0        NaN       GG           TSF   \n16315               0.0      N0        NaN       GG           TSF   \n\n      LageImRelief  KV_0_30  KV_30_100  \n0                Z    81.89      54.19  \n1                Z    81.89      54.19  \n2                Z    81.89      54.19  \n3                Z    81.89      54.19  \n4                Z    81.89      54.19  \n...            ...      ...        ...  \n16311            T   117.59      87.72  \n16312            T   117.59      87.72  \n16313            T   117.59      87.72  \n16314            T   117.59      87.72  \n16315            T   117.59      87.72  \n\n[16316 rows x 31 columns]",
      "text/html": "<div>\n<style scoped>\n    .dataframe tbody tr th:only-of-type {\n        vertical-align: middle;\n    }\n\n    .dataframe tbody tr th {\n        vertical-align: top;\n    }\n\n    .dataframe thead th {\n        text-align: right;\n    }\n</style>\n<table border=\"1\" class=\"dataframe\">\n  <thead>\n    <tr style=\"text-align: right;\">\n      <th></th>\n      <th>Point</th>\n      <th>Obergrenze</th>\n      <th>Untergrenze</th>\n      <th>Horizontsymbol_relevant</th>\n      <th>Bodenart</th>\n      <th>Bodenfarbe</th>\n      <th>Steine</th>\n      <th>Karbonat</th>\n      <th>Humusgehaltsklasse</th>\n      <th>Durchwurzelung</th>\n      <th>file</th>\n      <th>Probenahme_Monat</th>\n      <th>Probenahme_Jahr</th>\n      <th>xcoord</th>\n      <th>ycoord</th>\n      <th>Bodenklimaraum_Name</th>\n      <th>Landnutzung</th>\n      <th>BZE_Moor</th>\n      <th>Hauptbodentyp</th>\n      <th>BodenVarTypSub</th>\n      <th>GrundwaStufe</th>\n      <th>GrundwaStand</th>\n      <th>Moormaechtigkeit</th>\n      <th>Torfmaechtigkeit</th>\n      <th>Neigung</th>\n      <th>Exposition</th>\n      <th>Woelbung</th>\n      <th>Reliefformtyp</th>\n      <th>LageImRelief</th>\n      <th>KV_0_30</th>\n      <th>KV_30_100</th>\n    </tr>\n  </thead>\n  <tbody>\n    <tr>\n      <th>0</th>\n      <td>2.0</td>\n      <td>0.0</td>\n      <td>28.0</td>\n      <td>Ap</td>\n      <td>Sl2</td>\n      <td>7.5YR 3/2</td>\n      <td>3.0</td>\n      <td>C0</td>\n      <td>h3</td>\n      <td>Wf4</td>\n      <td>../data/BGR/Profilbilder_no_ruler_no_sky/SH_00...</td>\n      <td>11</td>\n      <td>2015</td>\n      <td>462216.1283</td>\n      <td>6079359.775</td>\n      <td>Marsch - Nord</td>\n      <td>A</td>\n      <td>0</td>\n      <td>YE</td>\n      <td>YE/BB</td>\n      <td>0</td>\n      <td>200.0</td>\n      <td>0.0</td>\n      <td>0.0</td>\n      <td>N0</td>\n      <td>NaN</td>\n      <td>GG</td>\n      <td>V</td>\n      <td>Z</td>\n      <td>81.89</td>\n      <td>54.19</td>\n    </tr>\n    <tr>\n      <th>1</th>\n      <td>2.0</td>\n      <td>28.0</td>\n      <td>54.0</td>\n      <td>E</td>\n      <td>Sl2</td>\n      <td>10YR 3/3</td>\n      <td>3.0</td>\n      <td>C0</td>\n      <td>h2</td>\n      <td>Wf3</td>\n      <td>../data/BGR/Profilbilder_no_ruler_no_sky/SH_00...</td>\n      <td>11</td>\n      <td>2015</td>\n      <td>462216.1283</td>\n      <td>6079359.775</td>\n      <td>Marsch - Nord</td>\n      <td>A</td>\n      <td>0</td>\n      <td>YE</td>\n      <td>YE/BB</td>\n      <td>0</td>\n      <td>200.0</td>\n      <td>0.0</td>\n      <td>0.0</td>\n      <td>N0</td>\n      <td>NaN</td>\n      <td>GG</td>\n      <td>V</td>\n      <td>Z</td>\n      <td>81.89</td>\n      <td>54.19</td>\n    </tr>\n    <tr>\n      <th>2</th>\n      <td>2.0</td>\n      <td>54.0</td>\n      <td>68.0</td>\n      <td>Bv</td>\n      <td>Sl2</td>\n      <td>7.5YR 4/3</td>\n      <td>10.0</td>\n      <td>C0</td>\n      <td>h1</td>\n      <td>Wf3</td>\n      <td>../data/BGR/Profilbilder_no_ruler_no_sky/SH_00...</td>\n      <td>11</td>\n      <td>2015</td>\n      <td>462216.1283</td>\n      <td>6079359.775</td>\n      <td>Marsch - Nord</td>\n      <td>A</td>\n      <td>0</td>\n      <td>YE</td>\n      <td>YE/BB</td>\n      <td>0</td>\n      <td>200.0</td>\n      <td>0.0</td>\n      <td>0.0</td>\n      <td>N0</td>\n      <td>NaN</td>\n      <td>GG</td>\n      <td>V</td>\n      <td>Z</td>\n      <td>81.89</td>\n      <td>54.19</td>\n    </tr>\n    <tr>\n      <th>3</th>\n      <td>2.0</td>\n      <td>68.0</td>\n      <td>96.0</td>\n      <td>Bv-ilC</td>\n      <td>fSms</td>\n      <td>7.5YR 6/4</td>\n      <td>1.0</td>\n      <td>C0</td>\n      <td>h0</td>\n      <td>Wf2</td>\n      <td>../data/BGR/Profilbilder_no_ruler_no_sky/SH_00...</td>\n      <td>11</td>\n      <td>2015</td>\n      <td>462216.1283</td>\n      <td>6079359.775</td>\n      <td>Marsch - Nord</td>\n      <td>A</td>\n      <td>0</td>\n      <td>YE</td>\n      <td>YE/BB</td>\n      <td>0</td>\n      <td>200.0</td>\n      <td>0.0</td>\n      <td>0.0</td>\n      <td>N0</td>\n      <td>NaN</td>\n      <td>GG</td>\n      <td>V</td>\n      <td>Z</td>\n      <td>81.89</td>\n      <td>54.19</td>\n    </tr>\n    <tr>\n      <th>4</th>\n      <td>2.0</td>\n      <td>96.0</td>\n      <td>201.0</td>\n      <td>ilC</td>\n      <td>mSfs</td>\n      <td>10YR 7/4</td>\n      <td>1.0</td>\n      <td>C0</td>\n      <td>h0</td>\n      <td>NaN</td>\n      <td>../data/BGR/Profilbilder_no_ruler_no_sky/SH_00...</td>\n      <td>11</td>\n      <td>2015</td>\n      <td>462216.1283</td>\n      <td>6079359.775</td>\n      <td>Marsch - Nord</td>\n      <td>A</td>\n      <td>0</td>\n      <td>YE</td>\n      <td>YE/BB</td>\n      <td>0</td>\n      <td>200.0</td>\n      <td>0.0</td>\n      <td>0.0</td>\n      <td>N0</td>\n      <td>NaN</td>\n      <td>GG</td>\n      <td>V</td>\n      <td>Z</td>\n      <td>81.89</td>\n      <td>54.19</td>\n    </tr>\n    <tr>\n      <th>...</th>\n      <td>...</td>\n      <td>...</td>\n      <td>...</td>\n      <td>...</td>\n      <td>...</td>\n      <td>...</td>\n      <td>...</td>\n      <td>...</td>\n      <td>...</td>\n      <td>...</td>\n      <td>...</td>\n      <td>...</td>\n      <td>...</td>\n      <td>...</td>\n      <td>...</td>\n      <td>...</td>\n      <td>...</td>\n      <td>...</td>\n      <td>...</td>\n      <td>...</td>\n      <td>...</td>\n      <td>...</td>\n      <td>...</td>\n      <td>...</td>\n      <td>...</td>\n      <td>...</td>\n      <td>...</td>\n      <td>...</td>\n      <td>...</td>\n      <td>...</td>\n      <td>...</td>\n    </tr>\n    <tr>\n      <th>16311</th>\n      <td>6211.0</td>\n      <td>70.0</td>\n      <td>100.0</td>\n      <td>Go-Bbs</td>\n      <td>fSms</td>\n      <td>7.5YR 5/4</td>\n      <td>1.0</td>\n      <td>C0</td>\n      <td>h1</td>\n      <td>Wf6</td>\n      <td>../data/BGR/Profilbilder_no_ruler_no_sky/NI_62...</td>\n      <td>6</td>\n      <td>2012</td>\n      <td>522076.9633</td>\n      <td>5930456.114</td>\n      <td>Elbe-Weser-Dreieck / sandige Böden</td>\n      <td>G</td>\n      <td>0</td>\n      <td>PP</td>\n      <td>GG-PP</td>\n      <td>GWS4</td>\n      <td>110.0</td>\n      <td>0.0</td>\n      <td>0.0</td>\n      <td>N0</td>\n      <td>NaN</td>\n      <td>GG</td>\n      <td>TSF</td>\n      <td>T</td>\n      <td>117.59</td>\n      <td>87.72</td>\n    </tr>\n    <tr>\n      <th>16312</th>\n      <td>6211.0</td>\n      <td>100.0</td>\n      <td>130.0</td>\n      <td>Go</td>\n      <td>fSms</td>\n      <td>2.5Y 6/4</td>\n      <td>1.0</td>\n      <td>C0</td>\n      <td>h0</td>\n      <td>Wf4</td>\n      <td>../data/BGR/Profilbilder_no_ruler_no_sky/NI_62...</td>\n      <td>6</td>\n      <td>2012</td>\n      <td>522076.9633</td>\n      <td>5930456.114</td>\n      <td>Elbe-Weser-Dreieck / sandige Böden</td>\n      <td>G</td>\n      <td>0</td>\n      <td>PP</td>\n      <td>GG-PP</td>\n      <td>GWS4</td>\n      <td>110.0</td>\n      <td>0.0</td>\n      <td>0.0</td>\n      <td>N0</td>\n      <td>NaN</td>\n      <td>GG</td>\n      <td>TSF</td>\n      <td>T</td>\n      <td>117.59</td>\n      <td>87.72</td>\n    </tr>\n    <tr>\n      <th>16313</th>\n      <td>6211.0</td>\n      <td>100.0</td>\n      <td>130.0</td>\n      <td>Go</td>\n      <td>fSms</td>\n      <td>2.5Y 6/4</td>\n      <td>1.0</td>\n      <td>C0</td>\n      <td>h0</td>\n      <td>Wf4</td>\n      <td>../data/BGR/Profilbilder_no_ruler_no_sky/NI_62...</td>\n      <td>6</td>\n      <td>2012</td>\n      <td>522076.9633</td>\n      <td>5930456.114</td>\n      <td>Elbe-Weser-Dreieck / sandige Böden</td>\n      <td>G</td>\n      <td>0</td>\n      <td>PP</td>\n      <td>GG-PP</td>\n      <td>GWS4</td>\n      <td>110.0</td>\n      <td>0.0</td>\n      <td>0.0</td>\n      <td>N0</td>\n      <td>NaN</td>\n      <td>GG</td>\n      <td>TSF</td>\n      <td>T</td>\n      <td>117.59</td>\n      <td>87.72</td>\n    </tr>\n    <tr>\n      <th>16314</th>\n      <td>6211.0</td>\n      <td>130.0</td>\n      <td>155.0</td>\n      <td>Gr</td>\n      <td>fSms</td>\n      <td>2.5Y 5/4</td>\n      <td>1.0</td>\n      <td>C0</td>\n      <td>h0</td>\n      <td>Wf2</td>\n      <td>../data/BGR/Profilbilder_no_ruler_no_sky/NI_62...</td>\n      <td>6</td>\n      <td>2012</td>\n      <td>522076.9633</td>\n      <td>5930456.114</td>\n      <td>Elbe-Weser-Dreieck / sandige Böden</td>\n      <td>G</td>\n      <td>0</td>\n      <td>PP</td>\n      <td>GG-PP</td>\n      <td>GWS4</td>\n      <td>110.0</td>\n      <td>0.0</td>\n      <td>0.0</td>\n      <td>N0</td>\n      <td>NaN</td>\n      <td>GG</td>\n      <td>TSF</td>\n      <td>T</td>\n      <td>117.59</td>\n      <td>87.72</td>\n    </tr>\n    <tr>\n      <th>16315</th>\n      <td>6211.0</td>\n      <td>130.0</td>\n      <td>155.0</td>\n      <td>Gr</td>\n      <td>fSms</td>\n      <td>2.5Y 5/4</td>\n      <td>1.0</td>\n      <td>C0</td>\n      <td>h0</td>\n      <td>Wf2</td>\n      <td>../data/BGR/Profilbilder_no_ruler_no_sky/NI_62...</td>\n      <td>6</td>\n      <td>2012</td>\n      <td>522076.9633</td>\n      <td>5930456.114</td>\n      <td>Elbe-Weser-Dreieck / sandige Böden</td>\n      <td>G</td>\n      <td>0</td>\n      <td>PP</td>\n      <td>GG-PP</td>\n      <td>GWS4</td>\n      <td>110.0</td>\n      <td>0.0</td>\n      <td>0.0</td>\n      <td>N0</td>\n      <td>NaN</td>\n      <td>GG</td>\n      <td>TSF</td>\n      <td>T</td>\n      <td>117.59</td>\n      <td>87.72</td>\n    </tr>\n  </tbody>\n</table>\n<p>16316 rows × 31 columns</p>\n</div>"
     },
     "execution_count": 13,
     "metadata": {},
     "output_type": "execute_result"
    }
   ],
   "source": [
    "# Decide on which columns to keep for training\n",
    "keep_columns = ['Point', #'HorizontID',\n",
    "                'Obergrenze', 'Untergrenze',\n",
    "                #'Horizontsymbol',\n",
    "                'Horizontsymbol_relevant',\n",
    "                #'Horizont_cluster',\n",
    "                'Bodenart', 'Bodenfarbe', 'Steine', 'Karbonat', 'Humusgehaltsklasse', 'Durchwurzelung',\n",
    "                #'max_depth', # not needed for training (and also has mostly NaNs)\n",
    "                'file',\n",
    "                #'Aufnehmer', # only when merged with annotators\n",
    "                'Probenahme_Monat', 'Probenahme_Jahr', 'xcoord', 'ycoord', 'Bodenklimaraum_Name',\n",
    "                'Landnutzung', 'BZE_Moor', 'Hauptbodentyp', 'BodenVarTypSub', 'GrundwaStufe', 'GrundwaStand', 'Moormaechtigkeit',\n",
    "                'Torfmaechtigkeit', 'Neigung', 'Exposition', 'Woelbung', 'Reliefformtyp', 'LageImRelief', 'KV_0_30', 'KV_30_100']\n",
    "df = df[keep_columns]\n",
    "df['GrundwaStand'] = df['GrundwaStand'].str.replace('>','').astype(float)\n",
    "df['ycoord'] = df['ycoord'].astype(float)\n",
    "df"
   ],
   "metadata": {
    "collapsed": false,
    "pycharm": {
     "name": "#%%\n"
    }
   }
  },
  {
   "cell_type": "code",
   "execution_count": 14,
   "outputs": [
    {
     "data": {
      "text/plain": "13621"
     },
     "execution_count": 14,
     "metadata": {},
     "output_type": "execute_result"
    }
   ],
   "source": [
    "# Profile images only show horizons up to ~1 meter depth\n",
    "# Note: Filter only necessary when joining table with whole images, not horizon segments\n",
    "df = df[df['Obergrenze'] < 100]\n",
    "len(df)"
   ],
   "metadata": {
    "collapsed": false,
    "pycharm": {
     "name": "#%%\n"
    }
   }
  },
  {
   "cell_type": "markdown",
   "source": [
    "#### Imputation"
   ],
   "metadata": {
    "collapsed": false
   }
  },
  {
   "cell_type": "code",
   "execution_count": 15,
   "outputs": [
    {
     "name": "stderr",
     "output_type": "stream",
     "text": [
      "/tmp/ipykernel_979707/1919224170.py:2: SettingWithCopyWarning: \n",
      "A value is trying to be set on a copy of a slice from a DataFrame.\n",
      "Try using .loc[row_indexer,col_indexer] = value instead\n",
      "\n",
      "See the caveats in the documentation: https://pandas.pydata.org/pandas-docs/stable/user_guide/indexing.html#returning-a-view-versus-a-copy\n",
      "  df['Steine'] = df['Steine'].fillna(0.0)\n",
      "/tmp/ipykernel_979707/1919224170.py:3: SettingWithCopyWarning: \n",
      "A value is trying to be set on a copy of a slice from a DataFrame.\n",
      "Try using .loc[row_indexer,col_indexer] = value instead\n",
      "\n",
      "See the caveats in the documentation: https://pandas.pydata.org/pandas-docs/stable/user_guide/indexing.html#returning-a-view-versus-a-copy\n",
      "  df['Durchwurzelung'] = df['Durchwurzelung'].fillna('Wf0')\n",
      "/tmp/ipykernel_979707/1919224170.py:4: SettingWithCopyWarning: \n",
      "A value is trying to be set on a copy of a slice from a DataFrame.\n",
      "Try using .loc[row_indexer,col_indexer] = value instead\n",
      "\n",
      "See the caveats in the documentation: https://pandas.pydata.org/pandas-docs/stable/user_guide/indexing.html#returning-a-view-versus-a-copy\n",
      "  df['Durchwurzelung'] = df['Durchwurzelung'].str.split(',').str[0] # Some values have double labels; only keep the first one\n",
      "/tmp/ipykernel_979707/1919224170.py:5: SettingWithCopyWarning: \n",
      "A value is trying to be set on a copy of a slice from a DataFrame.\n",
      "Try using .loc[row_indexer,col_indexer] = value instead\n",
      "\n",
      "See the caveats in the documentation: https://pandas.pydata.org/pandas-docs/stable/user_guide/indexing.html#returning-a-view-versus-a-copy\n",
      "  df['Exposition'] = df['Exposition'].replace(['0', '---'], 'KE') # KE = Keine\n"
     ]
    }
   ],
   "source": [
    "# Replace some of the missing values with recommendations from geology\n",
    "df['Steine'] = df['Steine'].fillna(0.0)\n",
    "df['Durchwurzelung'] = df['Durchwurzelung'].fillna('Wf0')\n",
    "df['Durchwurzelung'] = df['Durchwurzelung'].str.split(',').str[0] # Some values have double labels; only keep the first one\n",
    "df['Exposition'] = df['Exposition'].replace(['0', '---'], 'KE') # KE = Keine\n",
    "df.loc[df['Exposition'].isna() & (df['Neigung'] == 'N0'), 'Exposition'] = 'KE' # NaN-Exposition should be 'KE', when Neigung is N0 (there will still be some other NaNs in Exposition"
   ],
   "metadata": {
    "collapsed": false,
    "pycharm": {
     "name": "#%%\n"
    }
   }
  },
  {
   "cell_type": "markdown",
   "source": [
    "#### Features and Labels Encoding"
   ],
   "metadata": {
    "collapsed": false
   }
  },
  {
   "cell_type": "code",
   "execution_count": 16,
   "outputs": [],
   "source": [
    "target = 'Horizontsymbol_relevant' #'Horizont_cluster'\n",
    "num_features   = ['xcoord','ycoord', 'Steine', 'GrundwaStand', 'Moormaechtigkeit', 'Torfmaechtigkeit', 'KV_0_30', 'KV_30_100']\n",
    "categ_features = ['Probenahme_Monat', 'Probenahme_Jahr',\n",
    "                  'Bodenart', 'Bodenfarbe', 'Karbonat', 'Humusgehaltsklasse', 'Durchwurzelung', 'Bodenklimaraum_Name',\n",
    "                  'Landnutzung', 'BZE_Moor', 'Hauptbodentyp', 'BodenVarTypSub', 'GrundwaStufe', 'Neigung',\n",
    "                  'Exposition', 'Woelbung', 'Reliefformtyp', 'LageImRelief']\n",
    "feature_columns = num_features + categ_features"
   ],
   "metadata": {
    "collapsed": false,
    "pycharm": {
     "name": "#%%\n"
    }
   }
  },
  {
   "cell_type": "code",
   "execution_count": 17,
   "outputs": [
    {
     "data": {
      "text/plain": "Horizontsymbol_relevant\nAp         2399\nAh          742\nBv          546\nSd          483\nGo          403\n           ... \nBsh-Bv        1\nilC+Ap        1\nM-Gkso        1\naAh°Gor       1\naAcp2         1\nName: count, Length: 1568, dtype: int64"
     },
     "execution_count": 17,
     "metadata": {},
     "output_type": "execute_result"
    }
   ],
   "source": [
    "counts = df[target].value_counts()\n",
    "counts"
   ],
   "metadata": {
    "collapsed": false,
    "pycharm": {
     "name": "#%%\n"
    }
   }
  },
  {
   "cell_type": "code",
   "execution_count": 18,
   "outputs": [
    {
     "name": "stdout",
     "output_type": "stream",
     "text": [
      "(87, 61)\n"
     ]
    },
    {
     "data": {
      "text/plain": "{'ind2label': ['ilC',\n  'Ael',\n  'Sd',\n  'C.',\n  'imCv',\n  'E.',\n  'emC',\n  'cC',\n  'clC',\n  'ilCbtv',\n  'aelC',\n  'Cv',\n  'Bsh',\n  'Axh',\n  'Bhv',\n  'P.',\n  'Bvt',\n  'Acxh',\n  'Gro',\n  'iC',\n  'tGro',\n  'Go',\n  'Ap',\n  'Gw',\n  'Aep',\n  'cmC',\n  'imC',\n  'Ssw',\n  'Mc',\n  'Hw',\n  'Acp',\n  'mCv',\n  'Bv',\n  'Sswd',\n  'elC',\n  'lC',\n  'Aeh',\n  'Bhs',\n  'Cj',\n  'tGr',\n  'Axp',\n  'bE',\n  'Gr',\n  'Gkso',\n  'Gor',\n  'M.',\n  'Bsv',\n  'Sw',\n  'Bt',\n  'Bcv',\n  'Btv',\n  'Hr',\n  'Hv',\n  'elCc',\n  'Bs',\n  'R.',\n  'tGo',\n  'Bh',\n  'Ah',\n  'Cbtv',\n  'Al',\n  'Sw-Bv',\n  'Bv-ilC',\n  'Bt-Sd',\n  'Bv-Cv',\n  'Sd-ilC',\n  'Al-Sw',\n  'Al-Bv',\n  'M-Go',\n  'Ael-Bt',\n  'Ah-Bv',\n  'Sw-M',\n  'Sw-Ap',\n  'Bv-Ael',\n  'Go-ilC',\n  'elC-P',\n  'Sd-Bv',\n  'Sw-ilC',\n  'Al-Bt',\n  'Sw-Ah',\n  'P-Sd',\n  'Sd-lC',\n  'Sw-Go',\n  'Sw-Bt',\n  'Sd-Btv',\n  'Bv-elC',\n  'M-Gro'],\n 'label2ind': {'ilC': 0,\n  'Ael': 1,\n  'Sd': 2,\n  'C.': 3,\n  'imCv': 4,\n  'E.': 5,\n  'emC': 6,\n  'cC': 7,\n  'clC': 8,\n  'ilCbtv': 9,\n  'aelC': 10,\n  'Cv': 11,\n  'Bsh': 12,\n  'Axh': 13,\n  'Bhv': 14,\n  'P.': 15,\n  'Bvt': 16,\n  'Acxh': 17,\n  'Gro': 18,\n  'iC': 19,\n  'tGro': 20,\n  'Go': 21,\n  'Ap': 22,\n  'Gw': 23,\n  'Aep': 24,\n  'cmC': 25,\n  'imC': 26,\n  'Ssw': 27,\n  'Mc': 28,\n  'Hw': 29,\n  'Acp': 30,\n  'mCv': 31,\n  'Bv': 32,\n  'Sswd': 33,\n  'elC': 34,\n  'lC': 35,\n  'Aeh': 36,\n  'Bhs': 37,\n  'Cj': 38,\n  'tGr': 39,\n  'Axp': 40,\n  'bE': 41,\n  'Gr': 42,\n  'Gkso': 43,\n  'Gor': 44,\n  'M.': 45,\n  'Bsv': 46,\n  'Sw': 47,\n  'Bt': 48,\n  'Bcv': 49,\n  'Btv': 50,\n  'Hr': 51,\n  'Hv': 52,\n  'elCc': 53,\n  'Bs': 54,\n  'R.': 55,\n  'tGo': 56,\n  'Bh': 57,\n  'Ah': 58,\n  'Cbtv': 59,\n  'Al': 60,\n  'Sw-Bv': 61,\n  'Bv-ilC': 62,\n  'Bt-Sd': 63,\n  'Bv-Cv': 64,\n  'Sd-ilC': 65,\n  'Al-Sw': 66,\n  'Al-Bv': 67,\n  'M-Go': 68,\n  'Ael-Bt': 69,\n  'Ah-Bv': 70,\n  'Sw-M': 71,\n  'Sw-Ap': 72,\n  'Bv-Ael': 73,\n  'Go-ilC': 74,\n  'elC-P': 75,\n  'Sd-Bv': 76,\n  'Sw-ilC': 77,\n  'Al-Bt': 78,\n  'Sw-Ah': 79,\n  'P-Sd': 80,\n  'Sd-lC': 81,\n  'Sw-Go': 82,\n  'Sw-Bt': 83,\n  'Sd-Btv': 84,\n  'Bv-elC': 85,\n  'M-Gro': 86},\n 'embedding': array([[1.  , 0.  , 0.  , ..., 0.  , 0.  , 0.  ],\n        [0.  , 1.  , 0.  , ..., 0.  , 0.  , 0.  ],\n        [0.  , 0.  , 1.  , ..., 0.  , 0.  , 0.  ],\n        ...,\n        [0.  , 0.  , 0.5 , ..., 0.  , 0.  , 0.  ],\n        [0.25, 0.  , 0.  , ..., 0.  , 0.  , 0.  ],\n        [0.  , 0.  , 0.  , ..., 0.  , 0.  , 0.  ]])}"
     },
     "execution_count": 18,
     "metadata": {},
     "output_type": "execute_result"
    }
   ],
   "source": [
    "# If already computed, load the HCE embeddings for the labels (see Label_Graph.ipynb)\n",
    "with open('./BGR/label_embeddings/all_horizons_embeddings.pickle', 'rb') as handle:\n",
    "    emb_dict = pickle.load(handle)\n",
    "print(np.shape(emb_dict['embedding']))\n",
    "emb_dict"
   ],
   "metadata": {
    "collapsed": false,
    "pycharm": {
     "name": "#%%\n"
    }
   }
  },
  {
   "cell_type": "code",
   "execution_count": 19,
   "outputs": [
    {
     "data": {
      "text/plain": "{'ilC': 0,\n 'Ael': 1,\n 'Sd': 2,\n 'C': 3,\n 'imCv': 4,\n 'E': 5,\n 'emC': 6,\n 'cC': 7,\n 'clC': 8,\n 'ilCbtv': 9,\n 'aelC': 10,\n 'Cv': 11,\n 'Bsh': 12,\n 'Axh': 13,\n 'Bhv': 14,\n 'P': 15,\n 'Bvt': 16,\n 'Acxh': 17,\n 'Gro': 18,\n 'iC': 19,\n 'tGro': 20,\n 'Go': 21,\n 'Ap': 22,\n 'Gw': 23,\n 'Aep': 24,\n 'cmC': 25,\n 'imC': 26,\n 'Ssw': 27,\n 'Mc': 28,\n 'Hw': 29,\n 'Acp': 30,\n 'mCv': 31,\n 'Bv': 32,\n 'Sswd': 33,\n 'elC': 34,\n 'lC': 35,\n 'Aeh': 36,\n 'Bhs': 37,\n 'Cj': 38,\n 'tGr': 39,\n 'Axp': 40,\n 'bE': 41,\n 'Gr': 42,\n 'Gkso': 43,\n 'Gor': 44,\n 'M': 45,\n 'Bsv': 46,\n 'Sw': 47,\n 'Bt': 48,\n 'Bcv': 49,\n 'Btv': 50,\n 'Hr': 51,\n 'Hv': 52,\n 'elCc': 53,\n 'Bs': 54,\n 'R': 55,\n 'tGo': 56,\n 'Bh': 57,\n 'Ah': 58,\n 'Cbtv': 59,\n 'Al': 60,\n 'Sw-Bv': 61,\n 'Bv-ilC': 62,\n 'Bt-Sd': 63,\n 'Bv-Cv': 64,\n 'Sd-ilC': 65,\n 'Al-Sw': 66,\n 'Al-Bv': 67,\n 'M-Go': 68,\n 'Ael-Bt': 69,\n 'Ah-Bv': 70,\n 'Sw-M': 71,\n 'Sw-Ap': 72,\n 'Bv-Ael': 73,\n 'Go-ilC': 74,\n 'elC-P': 75,\n 'Sd-Bv': 76,\n 'Sw-ilC': 77,\n 'Al-Bt': 78,\n 'Sw-Ah': 79,\n 'P-Sd': 80,\n 'Sd-lC': 81,\n 'Sw-Go': 82,\n 'Sw-Bt': 83,\n 'Sd-Btv': 84,\n 'Bv-elC': 85,\n 'M-Gro': 86}"
     },
     "execution_count": 19,
     "metadata": {},
     "output_type": "execute_result"
    }
   ],
   "source": [
    "# For HCE: create separate dict where labels made out only of main symbols are stripped of the full stop '.'\n",
    "# Note: We will use the label indexes from the embedding dictionary instead of a new sparse one-hot encoding to ease access to the embedding vectors during training via the original indexes from the emb_dict\n",
    "dict_mapping = {}\n",
    "for key, value in emb_dict['label2ind'].items():\n",
    "    dict_mapping[key.strip('.')] = value\n",
    "dict_mapping"
   ],
   "metadata": {
    "collapsed": false,
    "pycharm": {
     "name": "#%%\n"
    }
   }
  },
  {
   "cell_type": "code",
   "execution_count": 20,
   "outputs": [
    {
     "name": "stderr",
     "output_type": "stream",
     "text": [
      "/tmp/ipykernel_979707/1744044841.py:2: SettingWithCopyWarning: \n",
      "A value is trying to be set on a copy of a slice from a DataFrame.\n",
      "Try using .loc[row_indexer,col_indexer] = value instead\n",
      "\n",
      "See the caveats in the documentation: https://pandas.pydata.org/pandas-docs/stable/user_guide/indexing.html#returning-a-view-versus-a-copy\n",
      "  df[target] = df[target].str.replace('+', '-', regex=False)\n",
      "/tmp/ipykernel_979707/1744044841.py:3: SettingWithCopyWarning: \n",
      "A value is trying to be set on a copy of a slice from a DataFrame.\n",
      "Try using .loc[row_indexer,col_indexer] = value instead\n",
      "\n",
      "See the caveats in the documentation: https://pandas.pydata.org/pandas-docs/stable/user_guide/indexing.html#returning-a-view-versus-a-copy\n",
      "  df[target] = df[target].str.replace('°', '-', regex=False) # also these, so that there is only one type of mixtures (the minus-mixture)\n",
      "/tmp/ipykernel_979707/1744044841.py:5: SettingWithCopyWarning: \n",
      "A value is trying to be set on a copy of a slice from a DataFrame.\n",
      "Try using .loc[row_indexer,col_indexer] = value instead\n",
      "\n",
      "See the caveats in the documentation: https://pandas.pydata.org/pandas-docs/stable/user_guide/indexing.html#returning-a-view-versus-a-copy\n",
      "  df[target] = df[target].str.replace(r'\\d+$', '', regex=True)\n"
     ]
    }
   ],
   "source": [
    "# Replace '+' with '-' in the target column (see Label_Graph.ipynb)\n",
    "df[target] = df[target].str.replace('+', '-', regex=False)\n",
    "df[target] = df[target].str.replace('°', '-', regex=False) # also these, so that there is only one type of mixtures (the minus-mixture)\n",
    "# Remove trailing numbers from the labels in the target column (they only account for how often the horizon is seen in the same picture)\n",
    "df[target] = df[target].str.replace(r'\\d+$', '', regex=True)"
   ],
   "metadata": {
    "collapsed": false,
    "pycharm": {
     "name": "#%%\n"
    }
   }
  },
  {
   "cell_type": "code",
   "execution_count": 21,
   "outputs": [
    {
     "data": {
      "text/plain": "{'Ap': 'Ap',\n 'E': 'E',\n 'Bv': 'Bv',\n 'Bv-ilC': 'Bv-ilC',\n 'ilC': 'ilC',\n 'tSw-Ah': 'Sw-Ah',\n 'tSw-Ap': 'Sw-Ap',\n 'tGo-Sw': 'tGo',\n 'tGo-Sd': 'tGo',\n 'Sw-tAp': 'Sw-Ap',\n 'tSq': 'Sd',\n 'tGro': 'tGro',\n 'Aeh': 'Aeh',\n 'Aep': 'Aep',\n 'oCv': 'Cv',\n 'fOh': 'Bsh',\n 'Ae': 'Ael',\n 'Bsh-Go': 'Bsh',\n 'Bs-Go': 'M-Go',\n 'R-Ah': 'Ah',\n 'R-Gso-Gr': 'Gor',\n 'R-Gr-Gso': 'M-Gro',\n 'R-Go-Gso': 'Gkso',\n 'tbSq': 'Sd',\n 'tGor': 'tGr',\n 'tAp-Go': 'tGo',\n 'Ah-ilCv': 'Bv-ilC',\n 'Aeh-Go': 'Aeh',\n 'Bs-Gw': 'Bsh',\n 'Go-Bhs': 'Bhs',\n 'Go-Ap': 'Sw-Ap',\n 'Go': 'Go',\n 'Gor': 'Gor',\n 'Gr': 'Gr',\n 'Gw': 'Gw',\n 'ilC-Bsh-Bs': 'ilC',\n 'Bhs-ilC': 'Bv-ilC',\n 'M': 'M',\n 'tAp': 'Ap',\n 'tGo': 'tGo',\n 'Hw': 'Hw',\n 'fnHr': 'Hr',\n 'tGo-Ap': 'tGo',\n 'Gro': 'Gro',\n 'Bh-Gw': 'Bhv',\n 'Bhs-Bs': 'Bhs',\n 'Bhs-Go': 'Bhs',\n 'Bhs': 'Bhs',\n 'Sw-Bs': 'Sw-Bv',\n 'Sd': 'Sd',\n 'Sw': 'Sw',\n 'Ap-Al': 'Ael',\n 'Bt-Sd': 'Bt-Sd',\n 'Al-Sw': 'Al-Sw',\n 'Ah': 'Ah',\n 'Swd': 'Sd',\n 'Bh-Aeh': 'Bv-Ael',\n 'Bsh': 'Bsh',\n 'Bs': 'Bs',\n 'Bbs-ilCv': 'Bv-ilC',\n 'Bbh-Bs-ilCv': 'Bv-ilC',\n 'Sd-Bv': 'Sd-Bv',\n 'Cv': 'Cv',\n 'ilC-Sw': 'Al-Sw',\n 'Bv-Sw': 'Bt-Sd',\n 'Sw-Al': 'Sw-Ap',\n 'Sd-Bt': 'Sd-Bv',\n 'tmeGo': 'tGo',\n 'Sw-Bhs-Ae': 'Sw-Bv',\n 'Bs-Sw': 'Bt-Sd',\n 'Bs-ilC': 'Bv-ilC',\n 'R-Go-Bsh': 'Bsh',\n 'Bv-Alh': 'Bv-ilC',\n 'Bvt': 'Bvt',\n 'Sw-Ap': 'Sw-Ap',\n 'Sd-Ap': 'Sw-Ap',\n 'Bv-Ah': 'Bv-Cv',\n 'ilC-Bv': 'ilCbtv',\n 'Bhs-Sw': 'Bhs',\n 'C-Ap': 'Ap',\n 'Bsv': 'Bsv',\n 'eSwd': 'Sd',\n 'Ap-Sw': 'Al-Sw',\n 'tGo-Ah': 'tGo',\n 'fnHw': 'Hw',\n 'Sw-ilC': 'Sw-ilC',\n 'Hv': 'Hv',\n 'Hr': 'Hr',\n 'Al': 'Al',\n 'Sw-M': 'Sw-M',\n 'Bv-Al': 'Bv-Ael',\n 'Bt': 'Bt',\n 'Axp': 'Axp',\n 'Axh': 'Axh',\n 'Axh-Sw': 'Al-Sw',\n 'elC': 'elC',\n 'Sd-lC': 'Sd-lC',\n 'Sd-ilC': 'Sd-ilC',\n 'tGr': 'tGr',\n 'tbGo': 'tGo',\n 'nHv': 'Hv',\n 'Swd-ilCv': 'Sd-ilC',\n 'Go-Aa': 'Go',\n 'Sdw-Bvt': 'Sw-Bv',\n 'Sw-Bv': 'Sw-Bv',\n 'Go-Ah': 'Sw-Ah',\n 'tbGor': 'tGr',\n 'tAh-Sd': 'Bt-Sd',\n 'Hv-Ah': 'Sw-Ah',\n 'lC-Hv': 'ilCbtv',\n 'tGr-Hr': 'tGro',\n 'toGr': 'tGr',\n 'Hm': 'Hw',\n 'Ha': 'Hw',\n 'Ae-Gw': 'Al-Sw',\n 'Ae-Bh-Gw': 'Aeh',\n 'Ah-Gr': 'Ah-Bv',\n 'Bsh-Gr': 'Bsh',\n 'R-Sw-Ap': 'Sw-Ap',\n 'R-Ah-Sw': 'Al-Sw',\n 'Go-Bs': 'Go',\n 'Ap-Swd': 'Al-Sw',\n 'M-Sw': 'Sw',\n 'Sw-Bt': 'Sw-Bt',\n 'Ap-Bt': 'Al-Bt',\n 'Aa': 'Ap',\n 'eSd': 'Sd',\n 'Ah-Go': 'M-Go',\n 'Al-Bv': 'Al-Bv',\n 'Btv': 'Btv',\n 'tSd-Go': 'Sw-Go',\n 'tSd-tGo': 'Sw-Go',\n 'Ahe': 'Ah',\n 'R-Ah-Bsh': 'Ah-Bv',\n 'ilCbtv': 'ilCbtv',\n 'Sw-Ah': 'Sw-Ah',\n 'Ah-Sd': 'Bt-Sd',\n 'P-Sd': 'P-Sd',\n 'Ah-Sw': 'Al-Sw',\n 'Sw-Bt-Al': 'Sw-Bt',\n 'Sw-Sd': 'Sw-Bv',\n 'Al-Bt-Swd': 'Bt-Sd',\n 'Bhv': 'Bhv',\n 'Bt-Al': 'Bt-Sd',\n 'tAh': 'Ah',\n 'Hv-Go': 'M-Go',\n 'Ae-Go': 'M-Go',\n 'Bh-Go': 'M-Go',\n 'Ae-Bh': 'Aeh',\n 'Bhs-Ssw': 'Ssw',\n 'hHv': 'Hv',\n 'Bbt-Bv': 'Btv',\n 'Bbt-ilC': 'Bv-ilC',\n 'Acp': 'Acp',\n 'Bt-Cv': 'Bv-Cv',\n 'Alh': 'Axh',\n 'Bh-Ae': 'Bv-Ael',\n 'Ae-Bs-Bh': 'Ael-Bt',\n 'Al-Bt': 'Al-Bt',\n 'lCv': 'Cv',\n 'Gho': 'Gro',\n 'Bs-ilCv': 'Bv-ilC',\n 'R': 'R',\n 'ilCv': 'ilC',\n 'M-Go': 'M-Go',\n 'Fr-Hw-Hr': 'Hw',\n 'Fr': 'Gr',\n 'R-Bhs': 'Bhs',\n 'Bbh': 'Bsh',\n 'Bv-M': 'Bvt',\n 'Ap-Al-Bv': 'Al-Bv',\n 'Sw-Btv': 'Sw-Bv',\n 'R-eSwd': 'P-Sd',\n 'Ah-Bv': 'Ah-Bv',\n 'Cbtv': 'Cbtv',\n 'ilC-Bbt': 'ilCbtv',\n 'Hp': 'Ap',\n 'Hca': 'cC',\n 'Hcw': 'Hw',\n 'Hcr': 'Hr',\n 'Ahl-Bv': 'Al-Bv',\n 'Ael': 'Ael',\n 'Ael-Bt': 'Ael-Bt',\n 'eAp': 'Ap',\n 'ijlCv': 'ilC',\n 'Go-Ahe': 'Go-ilC',\n 'Bt-Al-Sw': 'Al-Sw',\n 'Ahl': 'Ael',\n 'Sd-Btv': 'Sd-Btv',\n 'Bv-Ael-Sw': 'Bv-Ael',\n 'Ael-Sw': 'Al-Sw',\n 'lC': 'lC',\n 'Ht': 'Hw',\n 'fF': 'Sd',\n 'jeC': 'ilC',\n 'tGo-Ah-Sd': 'tGo',\n 'tAp-Sw': 'Al-Sw',\n 'nHr': 'Hr',\n 'Go-Sw': 'Al-Sw',\n 'H': 'C',\n 'F': 'C',\n 'oGr': 'tGr',\n 'Bs-Swd': 'Bt-Sd',\n 'R-ilC-Bhs': 'ilC',\n 'ilCv-Bs': 'ilC',\n 'Bv-Sd': 'Bt-Sd',\n 'Ael-Bv': 'Al-Bv',\n 'Ael-Bbt': 'Ael-Bt',\n 'Bt-Sdw': 'Bt-Sd',\n 'Bsh-Bv': 'Ah-Bv',\n 'R-Al': 'Al',\n 'C-Bbt': 'Bvt',\n 'Bbt-Al': 'Bt-Sd',\n 'lC-Bbt': 'Al-Bt',\n 'Al-Bv-Sw': 'Al-Sw',\n 'Swd-Bbt-Bv': 'Sd-Btv',\n 'Sd-Sw': 'Al-Sw',\n 'R-Ap': 'Ap',\n 'R-Aeh': 'Aeh',\n 'Gw-Bhs': 'Bhs',\n 'Bhs-Gw': 'Bhs',\n 'Hcv': 'Bcv',\n 'nHcr': 'Hr',\n 'rGo': 'Go',\n 'Fh': 'Bh',\n 'R-Ap-Ae-Bsh': 'Bsh',\n 'Go-Bsh': 'Bsh',\n 'Fr-Hw': 'Hw',\n 'Al-Swd': 'Al-Sw',\n 'Bv-Ael': 'Bv-Ael',\n 'R-Bs': 'Bs',\n 'tmzGr': 'tGr',\n 'Sw-Bsh': 'Sw-Bv',\n 'oC': 'C',\n 'Sw-Go': 'Sw-Go',\n 'Sd-Go': 'Sw-Go',\n 'eGro': 'Gro',\n 'Ctv-Sw': 'Bt-Sd',\n 'Ctv-Sd': 'Bt-Sd',\n 'Go-C': 'Go',\n 'eCv': 'Cv',\n 'Al-Bbt': 'Al-Bt',\n 'Bt-Ael': 'Bv-Ael',\n 'Bt-Sw-Al': 'Bt-Sd',\n 'Btv-Sd': 'Bt-Sd',\n 'tSq-Sw': 'Al-Sw',\n 'tAh-Go': 'tGo',\n 'Ahe-Bh-Bs': 'Ael-Bt',\n 'Bbs-Bsv-Bhs': 'Bsh',\n 'Sg-C': 'Sw-M',\n 'Bh': 'Bh',\n 'Go-Bv': 'Sw-Bv',\n 'hHw': 'Hw',\n 'nHw': 'Hw',\n 'C-Bbh-Bbs': 'Bhs',\n 'tGo-Sq': 'tGo',\n 'tAa': 'Ap',\n 'Go-Aeh': 'Aeh',\n 'Gmso': 'Gkso',\n 'Go-Swd': 'Bt-Sd',\n 'Bv-elC': 'Bv-elC',\n 'elCv': 'elC',\n 'Hcm': 'cC',\n 'Sdw-R': 'Sw-M',\n 'Bv-Bbt': 'Bvt',\n 'rnHv': 'Hv',\n 'Go-E': 'Go',\n 'Ae-Bhs': 'Aeh',\n 'Ht-Hv': 'Btv',\n 'Bs-Cv': 'Bv-Cv',\n 'Bs-Bh': 'Bsh',\n 'Ae-Aap': 'Aep',\n 'tpGo': 'tGo',\n 'Bvs': 'Bvt',\n 'enHr': 'Hr',\n 'Bv-Cv': 'Bv-Cv',\n 'Sw-Bv-Ael': 'Bv-Ael',\n 'Ap-Bv': 'Al-Bv',\n 'Al-Btv': 'Al-Bv',\n 'tSw-Sq': 'Sw-Bv',\n 'Aa-Go': 'M-Go',\n 'Gro-Go': 'Gro',\n 'Gor-Go': 'Gro',\n 'Go-Sd': 'Bt-Sd',\n 'F-Gw': 'Gw',\n 'Bv-Gw': 'Bv-Cv',\n 'Bh-Bs': 'Bhs',\n 'Ssw': 'Ssw',\n 'Bbt-Ael': 'Bv-Ael',\n 'Bbt-Cv-Bv': 'Bv-Cv',\n 'Ae-Bsh': 'Bsh',\n 'Bt-ilC': 'Bv-ilC',\n 'Bv-Go': 'Bv-Cv',\n 'Cv-Bv': 'Sw-Bv',\n 'Sw-Ael': 'Sw-Ap',\n 'Sd-lCc': 'Sd-lC',\n 'Swd-lCv': 'Sd-lC',\n 'tSw': 'Sw',\n 'Bv-Bh': 'Bv-Cv',\n 'Ap-Bsh': 'Bsh',\n 'Bsv-C': 'Bsv',\n 'jM': 'M',\n 'jM-jilCv': 'Bv-ilC',\n 'Go-ilC': 'Go-ilC',\n 'Ahe-Bh-Sw': 'Al-Sw',\n 'Bhsv': 'Bhv',\n 'Bbs': 'Bhs',\n 'Bt-Swd': 'Bt-Sd',\n 'Sdw-Ap': 'Sw-Ap',\n 'Sw-Cv': 'Sw-Bv',\n 'Gro-Sd': 'Gro',\n 'Bv-lCv': 'Bv-Cv',\n 'ilCv-Bt': 'Al-Bt',\n 'Sg-ilC': 'Sd-ilC',\n 'ilC-Go': 'ilC',\n 'Acxp': 'Acxh',\n 'elCc-Acxh': 'Acxh',\n 'elCc': 'elCc',\n 'eSw-lCv': 'Sw-Bv',\n 'Ah-Hv': 'Ah-Bv',\n 'jSw': 'Sw',\n 'Sd-Gor': 'Sw-Go',\n 'Ae-Bs-Go': 'Al-Bv',\n 'Sw-Bv-Cv': 'Sw-Bv',\n 'F-Go': 'M-Go',\n 'F-Gor': 'Gor',\n 'M-Ah': 'Ah',\n 'Aap': 'Ap',\n 'Sew': 'Ssw',\n 'Sd-Gkso': 'Gkso',\n 'Ahe-Bh': 'Ah-Bv',\n 'Bms': 'Bhs',\n 'Sw-Bhs': 'Sw-Bv',\n 'Aa-Bh': 'Al-Bv',\n 'Gmso-Bh': 'Gkso',\n 'Gso': 'Gro',\n 'aAh-Gor': 'Gor',\n 'ilC-Ap': 'ilC',\n 'Bs-Gso': 'M-Go',\n 'Ach': 'Axh',\n 'Acp-Gco': 'Acp',\n 'Gcro-Swd': 'Gro',\n 'Gco': 'Gro',\n 'Gcor': 'Gor',\n 'Sw-Axh': 'Sw-Ah',\n 'Axh-Swd': 'Al-Sw',\n 'Hcvm': 'Bcv',\n 'nHcv': 'Bcv',\n 'Bbh-Bbs-Bv': 'Ah-Bv',\n 'Bbh-Bbs-ilCv': 'Bv-ilC',\n 'Ahe-Ae': 'Ah-Bv',\n 'Go-Ae-Bsh': 'Bsh',\n 'Ae-Ap': 'Aep',\n 'lC-Bbs': 'lC',\n 'yGo-Ah': 'Sw-Ah',\n 'yGro': 'Gro',\n 'Ae-Bh-Bms': 'Ael-Bt',\n 'Bbs-Cv': 'Bv-Cv',\n 'rAep': 'Aep',\n 'Bhv-ilCv': 'Bv-ilC',\n 'Gkso': 'Gkso',\n 'aSw-M': 'Sw-M',\n 'Gkso-Gr': 'Gkso',\n 'Ah-Ahe-Bh': 'Ah-Bv',\n 'Go-Bsv-Bh': 'Bsh',\n 'R-Gr-H-Go': 'M-Gro',\n 'R-H-rGr-Go': 'M-Gro',\n 'R-Bh-Bs-Go': 'Bhs',\n 'Bhs-lC': 'Bhs',\n 'R-Bs-ilC-Ae': 'Bv-ilC',\n 'Bh-Bv': 'Ah-Bv',\n 'S-Ap': 'Sw-Ap',\n 'Sg-Ap': 'Sw-Ap',\n 'Sg-Bv': 'Sw-Bv',\n 'Go-Bv-Ctv': 'Bv-Cv',\n 'Ctv-Go': 'tGo',\n 'Swd-Bvt': 'Sw-Bv',\n 'Ael-Btv': 'Ael-Bt',\n 'Sw-Bt-ilCv': 'Sw-ilC',\n 'Sd-Bt-Ael': 'Bv-Ael',\n 'Bt-elCv': 'Bv-elC',\n 'Ael-M': 'Ael',\n 'R-Go-Bhs-Aa': 'Bhs',\n 'R-Gr': 'tGr',\n 'R-Go-rGr-H': 'Gor',\n 'jnHv': 'Hv',\n 'Hw-Gr': 'Sw-Go',\n 'C-M': 'C',\n 'Gkso-Bs': 'Gkso',\n 'R-Go-Hv': 'M-Go',\n 'R-Hv': 'Hv',\n 'R-Gr-Go-Hv': 'M-Gro',\n 'Cv-Sw': 'Al-Sw',\n 'Cv-Swd': 'Bt-Sd',\n 'Sw-Bv-ilC': 'Bv-ilC',\n 'Swd-ilCtv': 'Sd-ilC',\n 'Swd-elCc': 'Sd-ilC',\n 'Go-Bsv': 'Bsv',\n 'Go-Cbtv': 'ilCbtv',\n 'R-Go-Bs-Bh': 'Bsh',\n 'R-Bs-Bh-Ae': 'Bsh',\n 'H-Ah': 'Ah',\n 'H-Go': 'M-Go',\n 'H-Gro': 'M-Gro',\n 'aGr': 'tGr',\n 'aM': 'M',\n 'Go-lC': 'Go-ilC',\n 'Swd-Ap': 'Sw-Ap',\n 'aGo': 'Go',\n 'jAh': 'Ah',\n 'oGo': 'Go',\n 'Bv-Al-Sg': 'Bv-ilC',\n 'Bvt-Sg': 'Bt-Sd',\n 'Sg': 'Sd',\n 'Bv-Ctv': 'Bv-Cv',\n 'ilCtv': 'ilCbtv',\n 'Gcro': 'Gro',\n 'Bv-Gor': 'Gor',\n 'R-H-Go': 'M-Go',\n 'R-H-Bh-rGor': 'Gor',\n 'R-Gr-Hm': 'M-Gro',\n 'R-Gr-Hm-Go': 'M-Gro',\n 'R-Bh-Ae-Bs': 'Bv-Ael',\n 'Bsh-Bbs-Bbh': 'Bsh',\n 'ilC-Bbs-Bbh': 'ilCbtv',\n 'R-Bs-Aa-Bsh': 'Bsh',\n 'R-Ahe-Bh-Bs': 'Ael-Bt',\n 'Bbh-Go': 'M-Go',\n 'R-Sw-Ah': 'Sw-Ah',\n 'ilC-Bhs': 'ilC',\n 'R-Sw': 'Sw',\n 'Sd-Bvt': 'Sd-Bv',\n 'Bv-Bhs': 'Bhs',\n 'ilC-Bbs': 'ilC',\n 'ilC-Bbs-Bhs': 'ilCbtv',\n 'M-Sd': 'P-Sd',\n 'M-Sd-Go': 'M-Go',\n 'Bv-Ah-Go': 'Bv-Ael',\n 'Sw-Ael-Bv': 'Sw-Bv',\n 'Ah-Gw': 'Al-Sw',\n 'rGw': 'Gw',\n 'Gr-Hw': 'Gro',\n 'Gr-Hr': 'Gro',\n 'Bv-ilC-Go': 'Bv-ilC',\n 'R-hH-Go': 'M-Go',\n 'Fh-Gor': 'Gor',\n 'R-Go-H': 'M-Go',\n 'jaGo': 'Go',\n 'ilCv-Sd': 'ilC',\n 'M-Gro': 'M-Gro',\n 'M-Gor': 'M-Go',\n 'ailCv': 'ilC',\n 'A-Bv': 'Al-Bv',\n 'Gho-Bv-Al': 'Ah-Bv',\n 'Go-Bt': 'Al-Bt',\n 'Gcr-Go': 'Gro',\n 'Bvt-Ael': 'Bv-Ael',\n 'Go-Ctv': 'Bv-Cv',\n 'Bh-Ahe': 'Bv-Ael',\n 'Gw-Aap': 'Sw-Ap',\n 'Go-M': 'Go',\n 'Gor-Sd': 'Gor',\n 'Bhv-ilC': 'Bv-ilC',\n 'Sw-Bhv': 'Sw-Bv',\n 'Bv-Cbtv': 'Bv-Cv',\n 'Go-Bv-Ap': 'Sw-Bv',\n 'Fo': 'Go',\n 'Sw-M-Go': 'Sw-Go',\n 'Sd-M-Gro': 'M-Gro',\n 'R-H-Bs-ilC': 'Bv-ilC',\n 'R-Bh-Bhs-H': 'Bhs',\n 'R-Bh-Bs-Sw': 'Bhs',\n 'Ae-Hv': 'Al-Bv',\n 'Ah-ilC': 'Bv-ilC',\n 'Hv-ilC': 'Bv-ilC',\n 'Ael-Bt-Sd': 'Ael-Bt',\n 'Bbt-lCv': 'Bv-Cv',\n 'Gho-Bv': 'Ah-Bv',\n 'aAcp': 'Acp',\n 'aGco': 'Gro',\n 'Fw': 'Gw',\n 'jGo-M': 'Go',\n 'Gor-M': 'Gor',\n 'eM': 'M',\n 'Sdw-M-Go': 'Sw-Go',\n 'Sd-M-Go': 'M-Go',\n 'Hw-M-Go': 'M-Go',\n 'R-hH-Cv': 'Bv-Cv',\n 'R-C-H': 'elC-P',\n 'R-H-Gho': 'M-Go',\n 'R-Ae-Bhs-Gkso': 'Gkso',\n 'R-Bhs-Go': 'Bhs',\n 'R-Bsh-Ae': 'Bsh',\n 'Bh-Bs-ilC': 'Bv-ilC',\n 'R-Go-Hm': 'M-Go',\n 'Bhms': 'Bhs',\n 'Sdw-Bt-Ael': 'Bv-Ael',\n 'Swd-Ael-Bt': 'Ael-Bt',\n 'Swd-Ael-Bbt': 'Ael-Bt',\n 'renHv-rnHvp': 'Bv-Cv',\n 'M-Gr': 'M-Go',\n 'Sd-elC': 'Sd-ilC',\n 'jAp': 'Ap',\n 'eAh': 'Ah',\n 'aAp': 'Ap',\n 'aAh': 'Ah',\n 'Ghor': 'Gor',\n 'Fh-Fw': 'Al-Sw',\n 'Ghr': 'Gr',\n 'gE': 'E',\n 'Go-Bhv': 'Bhv',\n 'R-Bh-Bs-Ahe': 'Bsh',\n 'Bbh-ilC': 'Bv-ilC',\n 'Gw-ilC': 'Go-ilC',\n 'R-ilC-Bsh-Ahe': 'ilC',\n 'Bhs-Cv': 'Bv-Cv',\n 'Ae-Ahe': 'Aeh',\n 'Bhs-ilCv': 'Bv-ilC',\n 'R-Bh-Bv-Ah': 'Ah-Bv',\n 'R-Bv-Bhv-C': 'Bv-ilC',\n 'R-Bh-Ahe-Bs': 'Ah-Bv',\n 'F-Gr': 'tGr',\n 'ilC-Bt': 'Al-Bt',\n 'Go-Bbt': 'Go-ilC',\n 'Sg-Ap-Bv': 'Sw-Bv',\n 'Bv-ilCbtv': 'ilCbtv',\n 'Sg-elCc': 'elCc',\n 'Sg-elCv': 'Sd-ilC',\n 'Ah-Ae-Bhs': 'Ah-Bv',\n 'Bhs-lCv': 'Bv-Cv',\n 'Ahe-Go': 'M-Go',\n 'R-Bsh-Go': 'Bsh',\n 'R-Ae-Bhs-ilC': 'Bv-ilC',\n 'E-Al': 'Al',\n 'R-Go-Aa': 'M-Go',\n 'R-Ae-Bh': 'Aeh',\n 'R-gE': 'E',\n 'Bh-ilCv': 'Bv-ilC',\n 'Gr-Sd': 'Bt-Sd',\n 'Yr': 'Gr',\n 'fF-eGro': 'M-Gro',\n 'fFr': 'tGr',\n 'R-H-Go-Bs': 'M-Go',\n 'R-Go-Aeh-Bhs': 'Ael-Bt',\n 'R-Aeh-Bhs-Go': 'Ael-Bt',\n 'Bsh-rGo': 'Bsh',\n 'R-Go': 'M-Go',\n 'R-Gw-ilCv': 'Go-ilC',\n 'Bv-Bs': 'Bv-Cv',\n 'raeM-Go': 'M-Go',\n 'Bv-ilCv-Bbt': 'Bv-ilC',\n 'jSw-Ap': 'Sw-Ap',\n 'Sd-Ex': 'Sd-Bv',\n 'elCkc-Sd': 'elCc',\n 'R-Gr-Bh-Gso': 'M-Gro',\n 'R-Ap-Gro': 'M-Gro',\n 'Bv-imC': 'Bv-ilC',\n 'Cv-Sd': 'Bt-Sd',\n 'rGkso': 'Gkso',\n 'Gkso-Go': 'Gkso',\n 'R-Bv-Ap': 'Bv-Cv',\n 'Ap-Aeh': 'Aeh',\n 'Bh-Gmso': 'Bhs',\n 'Bt-Ael-Swd': 'Bt-Sd',\n 'aGso': 'Gro',\n 'aGro': 'Gro',\n 'Gso-Bv': 'Sw-Bv',\n 'Sd-Ael-Bt': 'Ael-Bt',\n 'Go-ilC-Bbt': 'Go-ilC',\n 'Ah-Swd': 'Al-Sw',\n 'bE': 'bE',\n 'bE-Go': 'M-Go',\n 'Bhv-Sw': 'Bhv',\n 'Go-gE': 'Go',\n 'P': 'P',\n 'ilC-Go-Ah': 'ilC',\n 'Fr-Gro': 'M-Gro',\n 'Fr-Gor': 'Gor',\n 'Fr-Gr': 'tGr',\n 'Ap-Go': 'M-Go',\n 'elC-Bbt': 'Ael-Bt',\n 'Ahe-Bhs': 'Ah-Bv',\n 'Bbhs': 'Bhs',\n 'Bbhs-Go': 'Bhs',\n 'Swd-elCv': 'Sd-ilC',\n 'cmC': 'cmC',\n 'raGo': 'Go',\n 'R-Go-Bs-Ae': 'M-Go',\n 'M-ilCv': 'ilC',\n 'Sdg': 'Sd',\n 'Sw-P': 'Sw-M',\n 'Sd-P': 'Sd',\n 'elC-P': 'elC-P',\n 'aM-Go': 'M-Go',\n 'Sdw': 'Sd',\n 'rAp': 'Ap',\n 'Bv-Gkso': 'Gkso',\n 'Sw-Al-Bv': 'Sw-Bv',\n 'elC-Axh': 'elC-P',\n 'Axh-elC': 'Bv-elC',\n 'Sw-elC': 'Sw-ilC',\n 'Al-Axh': 'Axh',\n 'Bv-Axh': 'Bv-Ael',\n 'Acxh': 'Acxh',\n 'elCc-Swd': 'elCc',\n 'ilC-Ael-Sw': 'Al-Sw',\n 'Go-Bv-Gr': 'Gor',\n 'Gro-Sg': 'Gro',\n 'R-Ae-Bs-Ap': 'Aep',\n 'R-Ah-Ae-Bs': 'Ah-Bv',\n 'Bv-Ap': 'Bv-Cv',\n 'R-E-Aa-Go': 'M-Go',\n 'Go-Bvs': 'Sw-Bv',\n 'Ah-Gro': 'M-Gro',\n 'Gkso-Gro': 'Gkso',\n 'H-Gkso-Gr': 'Gkso',\n 'Bj-Cv': 'Bv-Cv',\n 'Bh-Bcv': 'Ah-Bv',\n 'Bcv-elC': 'Bv-elC',\n 'elC-Sd': 'elC-P',\n 'clC': 'clC',\n 'lCv-Bcv': 'Bcv',\n 'lC-emC': 'emC',\n 'elC-emC': 'elC-P',\n 'elC-Acxh': 'Acxh',\n 'rGcro-elC': 'Go-ilC',\n 'eAcp': 'Acp',\n 'Sg-Bv-ilCv': 'Bv-ilC',\n 'Fh-Fo': 'M-Go',\n 'Ah-Sw-Ael': 'Al-Sw',\n 'Bt-Scdw': 'Bt-Sd',\n 'Scd': 'Sd',\n 'R-Bhs-Ap-Go': 'Bhs',\n 'R-Bh': 'Bh',\n 'ilC-Bsh': 'ilC',\n 'E-Go': 'M-Go',\n 'Go-ilC-Bhs': 'Go-ilC',\n 'Go-Sw-Sd': 'Sw-Bv',\n 'Bhs-Go-Sw': 'Bhs',\n 'Go-Sdw': 'Bt-Sd',\n 'Bt-Sw': 'Bt-Sd',\n 'imC': 'imC',\n 'Sdg-Bt': 'Sd-Bv',\n 'emC': 'emC',\n 'Swd-Axh': 'Sw-Ah',\n 'Go-Axh': 'Axh',\n 'Axh-Go': 'Axh',\n 'Bcv-Axh': 'Bv-Ael',\n 'R-Hv-Ah-ilCv': 'Bv-ilC',\n 'Go-Ael': 'Bv-Ael',\n 'Go-Bt-Ael': 'Bv-Ael',\n 'Btv-Ael': 'Bv-Ael',\n 'Gr-Go': 'Gro',\n 'R-Go-Ah': 'M-Go',\n 'Bms-Go': 'M-Go',\n 'R-Bsv': 'Bsv',\n 'Sd-Cv': 'Sd-Bv',\n 'Btv-ilC': 'Bv-ilC',\n 'Bcv-Tv': 'Bv-Cv',\n 'cC-Swd': 'Bt-Sd',\n 'Go-Acxh': 'Acxh',\n 'Ael-Sd-Bt': 'Ael-Bt',\n 'Ael-Ap': 'Ael-Bt',\n 'Bhs-Aeh': 'Bv-Ael',\n 'ilC-Bsv': 'ilCbtv',\n 'elCv-Bcv': 'elCc',\n 'R-E': 'E',\n 'Srd': 'Sd',\n 'gE-Go': 'M-Go',\n 'gbE-Ap': 'Sw-Ap',\n 'Aeh-Bsh': 'Ael-Bt',\n 'Ae-Bh-Bs': 'Ael-Bt',\n 'Al-Bvt': 'Al-Bv',\n 'jeM': 'Ael',\n 'Swd-lCv-Axh': 'Sw-Ah',\n 'Axh-M': 'Axh',\n 'Acxh-elCc': 'Acxh',\n 'elCc-Axh': 'elCc',\n 'aAxp': 'Axp',\n 'Sw-Bt-Sd': 'Bt-Sd',\n 'Bbt-Ael-Bv': 'Al-Bv',\n 'Sw-Bv-Bbt': 'Sw-Bv',\n 'Bbt': 'Bvt',\n 'rGo-ilCv': 'Go-ilC',\n 'Sg-Ael-Bt': 'Ael-Bt',\n 'Swd-lCv-Bbt': 'Sd-lC',\n 'ejCv': 'imCv',\n 'Go-ilCv-H': 'Go-ilC',\n 'aelC': 'aelC',\n 'Gkso-M': 'Gkso',\n 'Gkso-Go-Bhsv': 'Gkso',\n 'Sewd': 'Sswd',\n 'Sswd': 'Sswd',\n 'Go-Sw-E': 'Al-Sw',\n 'P-Cv-Swd': 'P-Sd',\n 'elC-Scd': 'elCc',\n 'Al-Ap': 'Al-Sw',\n 'Sd-Al-Bt': 'Al-Bt',\n 'mCv': 'mCv',\n 'Axh-Bv': 'Ah-Bv',\n 'Bv-elCc': 'Bv-elC',\n 'Axh-lC': 'Axh',\n 'Axh-ilCv-Sw': 'Al-Sw',\n 'Swd-Go-M': 'Sw-Go',\n 'Ah-M': 'Ah',\n 'jGo': 'Go',\n 'Aah-Gr': 'Ah-Bv',\n 'raAp': 'Ap',\n 'M-Gso': 'M-Go',\n 'raGr': 'tGr',\n 'eGo-Cv': 'Bv-Cv',\n 'eC-Go': 'M-Go',\n 'Sdw-Bv-Al': 'Sw-Bv',\n 'Go-Mc': 'Go',\n 'E-ilC': 'ilC',\n 'Bh-Sw': 'Bt-Sd',\n 'Swd-eCv': 'Sw-Bv',\n 'eC-Sd': 'Bt-Sd',\n 'Bt-Al-Bv': 'Al-Bv',\n 'Al-Bv-Bt': 'Al-Bv',\n 'M-Sdw': 'P-Sd',\n 'Sw-Ael-Bt': 'Ael-Bt',\n 'elC-Ap': 'elC-P',\n 'jeF': 'Ael',\n 'Bcv-Cc': 'Bv-Cv',\n 'Go-Cc-elCv': 'Go-ilC',\n 'Axh-Bv-elC': 'Bv-elC',\n 'eAxp': 'Axp',\n 'Sw-Bt-Ael': 'Bv-Ael',\n 'Sdw-Go': 'Sw-Go',\n 'H-Go-Ah': 'M-Go',\n 'ylC': 'ilC',\n 'Ae-Bhs-Go': 'Aeh',\n 'Ae-Bh-Go': 'Aeh',\n 'F-Gr-Gor': 'M-Gro',\n 'Sd-elCv': 'Sd-ilC',\n 'Ah-eC': 'Ah-Bv',\n 'C': 'C',\n 'elCv-Axh-Bv': 'Ah-Bv',\n 'Bcv': 'Bcv',\n 'Sg-Axh': 'Sw-Ah',\n 'Axh-Sg': 'Axh',\n 'Ael-Bv-Btv': 'Ael-Bt',\n 'elC-Bv': 'Al-Bv',\n 'Swd-lC': 'Sd-lC',\n 'M-Swd': 'P-Sd',\n 'Sw-Ah-Go': 'Sw-Ah',\n 'rSw-Go': 'Sw-Go',\n 'Sw-Gr': 'Sw-Go',\n 'Ap-Sw-ilCv': 'Sw-ilC',\n 'Sg-Bv-ilCbtv': 'ilCbtv',\n 'Sg-Al': 'Sw-Ap',\n 'Bhs-Ae': 'Bhs',\n 'Al-Bt-Sw': 'Al-Sw',\n 'Acp-Swd-Bv': 'Sw-Bv',\n 'Go-Bv-Swd': 'Bt-Sd',\n 'Bv-Tv': 'Bv-Cv',\n 'Tv-elC': 'Bv-elC',\n 'Ah-Cv': 'Ah-Bv',\n 'M-Bv': 'Bv',\n 'iC': 'iC',\n 'Axh-elCc': 'elCc',\n 'Alh-Bv': 'Al-Bv',\n 'Go-Swd-M': 'Sw-M',\n 'Swd-Go': 'Sw-Go',\n 'Gro-Swd': 'Gro',\n 'Gr-Sd-Go': 'Sw-Go',\n 'aeM': 'Ael',\n 'M-Al-Bv': 'Al-Bv',\n 'ilC-Sd': 'ilC',\n 'xCn': 'C',\n 'Bcv-lCc': 'Bv-ilC',\n 'Bcv-elCc': 'Bv-elC',\n 'elCc-Bcv': 'elCc',\n 'Mc': 'Mc',\n 'Sw-lC': 'Sw-ilC',\n 'Serw': 'Ssw',\n 'M-Gkso': 'Gkso',\n 'jilCv': 'ilC',\n 'Ap-E': 'Ap',\n 'Bv-Swd': 'Bt-Sd',\n 'Bt-Sg': 'Bt-Sd',\n 'iCv-Sd': 'Bt-Sd',\n 'Btv-Sdw': 'Bt-Sd',\n 'mcC': 'cC',\n 'Al-Bt-Sdw': 'Bt-Sd',\n 'mC': 'C',\n 'cmCv-elCv': 'Bv-elC',\n 'Cc-Bcv': 'Bcv',\n 'Bt-elC': 'Bv-elC',\n 'ilCn': 'ilC',\n 'Sg-M': 'Sw-M',\n 'rGr': 'tGr',\n 'Ahl-Bt': 'Ael-Bt',\n 'Sg-Bt': 'Sw-Bt',\n 'M-elC': 'aelC',\n 'Gkso-Gor': 'Gkso',\n 'R-Axh': 'Axh',\n 'Bt-elCc': 'Bv-elC',\n 'lCc-Sd': 'Bt-Sd',\n 'Sdw-Bt': 'Sw-Bt',\n 'Sw-Sd-Bt': 'Sw-Bt',\n 'Sg-Go': 'Sw-Go',\n 'Swd-Bt-ilC': 'Sd-ilC',\n 'Bt-lCv': 'Bv-Cv',\n 'Sd-M': 'Sw-M',\n 'elC-Go': 'elC-P',\n 'aeGo': 'aelC',\n 'rAxh': 'Axh',\n 'Bt-Axh': 'Axh',\n 'Bvt-Axh': 'Bv-Ael',\n 'eMc': 'Mc',\n 'R-Bvt': 'Bvt',\n 'ilC-Swd': 'Al-Sw',\n 'mCn': 'mCv',\n 'Swd-Bbt': 'Sw-Bt',\n 'imCv': 'imCv',\n 'eCv-Sw': 'Al-Sw',\n 'Sw-lCc': 'Sw-ilC',\n 'Gro-M': 'Gro',\n 'jeAp': 'Ap',\n 'jelC': 'aelC',\n 'elCn': 'elC',\n 'Sg-ilCv': 'Sd-ilC',\n 'Swd-M': 'Sw-M',\n 'jlCv': 'ilC',\n 'Btv-Sg': 'Bt-Sd',\n 'Al-Swd-Bt': 'Al-Sw',\n 'ilCv-Bv': 'ilCbtv',\n 'Sd-C': 'Sd-lC',\n 'Bv-mCv': 'Bv-Cv',\n 'Bv-iCv': 'Bv-Cv',\n 'M-Sw-Go': 'Sw-Go',\n 'Sw-Gro': 'Sw-Go',\n 'Swd-Gro': 'Sw-Go',\n 'aeSw-M': 'Sw-M',\n 'Axh-ilC': 'Bv-ilC',\n 'Axh-elCv': 'Ah-Bv',\n 'Ah-P': 'Ah',\n 'P-Axh': 'Axh',\n 'Axh-lCc': 'Axh',\n 'lCc': 'lC',\n 'jeSwd-lC': 'Sd-lC',\n 'Sg-Btv': 'Sd-Btv',\n 'M-Ap': 'Ap',\n 'lC-Bv': 'Sw-Bv',\n 'elC-eAh': 'elC-P',\n 'Axh-Bt': 'Ael-Bt',\n 'Swd-Axh-Bht': 'Sw-Ah',\n 'Ael-Swd': 'Al-Sw',\n 'Sg-Bvt-Al': 'Sw-Bv',\n 'Sg-Bvt': 'Sw-Bv',\n 'Swd-ilC': 'Sd-ilC',\n 'Btv-Swd': 'Bt-Sd',\n 'jilC': 'ilC',\n 'Bht': 'Bhv',\n 'Al-Bht': 'Al-Bt',\n 'Swd-C': 'Sw-M',\n 'sGo': 'Go',\n 'Srw': 'Ssw',\n 'Acxh-elCkc': 'Acxh',\n 'elCkc': 'elCc',\n 'ilC-Axh': 'ilC',\n 'Bv-Axh-ilCv': 'Bv-ilC',\n 'Axh-Bcv': 'Ah-Bv',\n 'Sw-Bht': 'Sw-Bt',\n 'Bvt-Al-Sdw': 'Bt-Sd',\n 'Bvt-Sd': 'Bt-Sd',\n 'Bv-ixCv': 'Bv-ilC',\n 'Bv-P': 'Bvt',\n 'lC-Bt': 'Al-Bt',\n 'Sdw-Bht': 'Sw-Bt',\n 'aeAxh': 'Axh',\n 'Ctv': 'Cv',\n 'ixCv': 'imCv',\n 'Sd-Bt-M': 'Sd-Btv',\n 'cmCn': 'cmC',\n 'exC': 'emC',\n 'Bv-Acxh': 'Acxh',\n 'M-ilC': 'ilC',\n 'Bht-Bv': 'Ah-Bv',\n 'xCv': 'Cv',\n 'Swd-Sw': 'Sw-Bv',\n 'ixCn': 'ilC',\n 'Swd-Bv-ilC': 'Bv-ilC',\n 'Sw-Hp': 'Sw-Ap',\n 'Sw-H-Serw': 'Sw-Bv',\n 'Bt-Bv-Cv': 'Bv-Cv',\n 'Bj-Sd': 'Bt-Sd',\n 'lC-Sd': 'Bt-Sd',\n 'Bv-Tv-cC': 'Bv-ilC',\n 'Tv-cC': 'cC',\n 'Tv-cCv': 'Bv-Cv',\n 'cxC': 'cC',\n 'Sw-ilCv': 'Sw-ilC',\n 'Al-Btv-Swd': 'Bt-Sd',\n 'Bt-Gco': 'tGro',\n 'Swd-P-Bv': 'Sw-Bv',\n 'Bfv': 'Bhv',\n 'aGo-M': 'Go',\n 'sSw': 'Sw',\n 'jC': 'C',\n 'Sw-Ah-Bv': 'Sw-Bv',\n 'Sd-Cj': 'Sd-Bv',\n 'Bhv-Cv': 'Bv-Cv',\n 'Bt-Sd-Sw': 'Bt-Sd',\n 'sSdw': 'Sd',\n 'ilC-Bt-Swd': 'Bt-Sd',\n 'Ah-exC': 'Ah-Bv',\n 'Cj': 'Cj',\n 'Go-Srw': 'Gor',\n 'Bv-P-ilC': 'Bv-ilC',\n 'Sd-ilCv': 'Sd-ilC',\n 'sSwd': 'Sd',\n 'aSg-M': 'Sw-M',\n 'Bv-Tcv-elC': 'Bv-elC',\n 'Bfv-Sw-ilC': 'Bv-ilC',\n 'P-Bv': 'Bv',\n 'P-ilC': 'ilC',\n 'Bj': 'Bv',\n 'ilCv-Cj': 'ilC',\n 'Sdw-M': 'Sw-M',\n 'lCv-sGo': 'M-Go',\n 'Ap-Bv-ilCv': 'Bv-ilC',\n 'Gw-M': 'Sw-M',\n 'Btv-Sw': 'Bt-Sd',\n 'yilCv': 'ilC',\n 'Yr-Bv': 'Sw-Bv',\n 'Cj-ilCv': 'Bv-ilC',\n 'Sw-Bv-P': 'Sw-Bv',\n 'M-Sew': 'Ssw',\n 'Swd-Cj': 'Sw-Bv',\n 'Sd-Gco': 'Sw-Go',\n 'Btv-lCv': 'Bv-Cv',\n 'Sdg-Bv': 'Sd-Bv',\n 'P-Sw': 'P-Sd',\n 'Bv-P-Sd': 'Bt-Sd',\n 'lCv-Bv': 'Sw-Bv',\n 'Sew-M': 'Sw-M',\n 'Acxh-Al': 'Acxh',\n 'Acxh-Bt': 'Acxh',\n 'ilC-P': 'elC-P',\n 'Sw-Bv-Sd': 'Sw-Bv',\n 'Cj-Cv': 'Bv-Cv',\n 'Sw-lCv': 'Sw-Bv',\n 'Acp-Bcv-cC': 'Al-Bv',\n 'cC': 'cC',\n 'aeAp': 'aelC',\n 'Bv-eC': 'Bv-elC',\n 'emCn': 'emC',\n 'Ah-Bv-cCv': 'Bv-Cv',\n 'Sdw-Ah': 'Sw-Ah',\n 'arGo-P-Sd': 'P-Sd',\n 'M-P-Axh': 'Axh',\n 'aeAh-P': 'elC-P',\n 'elC-Bvt': 'Al-Bv',\n 'eCc': 'elCc',\n 'Bv-Ah-eCv': 'Bv-Cv',\n 'Bv-eCv': 'Bv-Cv',\n 'Tv': 'Cv',\n 'P-Srd': 'P-Sd',\n 'Swd-Cj-lC': 'Sd-ilC',\n 'eSg-lCv': 'Sd-lC',\n 'elCv-Sg': 'elC-P',\n 'Acp-elC-Bcv': 'Al-Bv',\n 'Bv-cCv': 'Bv-Cv',\n 'Acp-P': 'Acp',\n 'P-elCv': 'aelC',\n 'elCv-P': 'elC-P',\n 'ixC': 'ilC',\n 'aeMc': 'aelC',\n 'lC-cmC': 'cmC',\n 'Go-P': 'Go',\n 'Sd-Bt-R': 'Sd-Btv',\n 'eC': 'C',\n 'lCv-Sw': 'Al-Sw',\n 'elC-Tv': 'elC-P',\n 'eAh-P': 'elC-P',\n 'P-lC': 'ilC',\n 'Sw-Tv': 'Sw-Bv',\n 'Tv-Sw': 'Al-Sw',\n 'Tv-Swd': 'Bt-Sd',\n 'Al-Swd-Btv': 'Sd-Btv',\n 'Swd-fBj': 'Sw-Bv',\n 'Al-Sd-Bt': 'Al-Bt',\n 'Ckc': 'C',\n 'fBj-Sd': 'Bt-Sd',\n 'Tv-eCv': 'Bv-Cv',\n 'Ap-Sew': 'Al-Sw',\n 'aM-Gro': 'M-Gro',\n 'Sdw-C': 'Sw-M',\n 'Acp-clC': 'clC',\n 'Cc': 'C',\n 'Swd-Bv': 'Sw-Bv',\n 'Sdw-ilCv': 'Sd-ilC',\n 'Ah-Bv-elC': 'Bv-elC',\n 'ilC-Swd-Bv': 'Sw-Bv',\n 'elC-cmC': 'elCc',\n 'Sd-iC': 'Sd-ilC',\n 'Bv-C': 'Bv-Cv',\n ...}"
     },
     "execution_count": 21,
     "metadata": {},
     "output_type": "execute_result"
    }
   ],
   "source": [
    "# Map rare labels to frequent labels via Levenshtein distance\n",
    "# Any better ideas? Sometimes the mapping is not very faithful to geological meaning\n",
    "from jellyfish import levenshtein_distance as ld\n",
    "rare_labels_mapping = {}\n",
    "list_dict_mapping = list(dict_mapping.keys())\n",
    "for lab in df[target].unique():\n",
    "    if lab in list_dict_mapping:\n",
    "        rare_labels_mapping[lab] = lab # for applying the map later in the df, we need the identity mappings as well\n",
    "    else:\n",
    "        similarities = [ld(lab, freq_lab) for freq_lab in list_dict_mapping]\n",
    "        best_match = list_dict_mapping[np.argmin(similarities)]\n",
    "        rare_labels_mapping[lab] = best_match\n",
    "rare_labels_mapping"
   ],
   "metadata": {
    "collapsed": false,
    "pycharm": {
     "name": "#%%\n"
    }
   }
  },
  {
   "cell_type": "code",
   "execution_count": 22,
   "outputs": [
    {
     "data": {
      "text/plain": "1218"
     },
     "execution_count": 22,
     "metadata": {},
     "output_type": "execute_result"
    }
   ],
   "source": [
    "len(rare_labels_mapping)\n",
    "# ToDo: manually correct the weird mappings\n",
    "# Note: maybe use a second string distance to decide the winner, in case of a tie?"
   ],
   "metadata": {
    "collapsed": false,
    "pycharm": {
     "name": "#%%\n"
    }
   }
  },
  {
   "cell_type": "code",
   "execution_count": 23,
   "outputs": [
    {
     "name": "stderr",
     "output_type": "stream",
     "text": [
      "/tmp/ipykernel_979707/3489057721.py:2: SettingWithCopyWarning: \n",
      "A value is trying to be set on a copy of a slice from a DataFrame.\n",
      "Try using .loc[row_indexer,col_indexer] = value instead\n",
      "\n",
      "See the caveats in the documentation: https://pandas.pydata.org/pandas-docs/stable/user_guide/indexing.html#returning-a-view-versus-a-copy\n",
      "  df[target] = df[target].map(rare_labels_mapping)\n"
     ]
    },
    {
     "data": {
      "text/plain": "        Point  Obergrenze  Untergrenze Horizontsymbol_relevant Bodenart  \\\n0         2.0         0.0         28.0                      Ap      Sl2   \n1         2.0        28.0         54.0                       E      Sl2   \n2         2.0        54.0         68.0                      Bv      Sl2   \n3         2.0        68.0         96.0                  Bv-ilC     fSms   \n4         2.0        96.0        201.0                     ilC     mSfs   \n...       ...         ...          ...                     ...      ...   \n16307  6211.0        27.0         50.0                     Bhs     fSms   \n16308  6211.0        50.0         70.0                     Bsh     fSms   \n16309  6211.0        50.0         70.0                     Bsh     fSms   \n16310  6211.0        70.0        100.0                  Go-ilC     fSms   \n16311  6211.0        70.0        100.0                  Go-ilC     fSms   \n\n      Bodenfarbe  Steine Karbonat Humusgehaltsklasse Durchwurzelung  \\\n0      7.5YR 3/2     3.0       C0                 h3            Wf4   \n1       10YR 3/3     3.0       C0                 h2            Wf3   \n2      7.5YR 4/3    10.0       C0                 h1            Wf3   \n3      7.5YR 6/4     1.0       C0                 h0            Wf2   \n4       10YR 7/4     1.0       C0                 h0            Wf0   \n...          ...     ...      ...                ...            ...   \n16307    5YR 3/2     1.0       C0                 h2            Wf3   \n16308    5YR 4/3     1.0       C0                 h1            Wf2   \n16309    5YR 4/3     1.0       C0                 h1            Wf2   \n16310  7.5YR 5/4     1.0       C0                 h1            Wf6   \n16311  7.5YR 5/4     1.0       C0                 h1            Wf6   \n\n                                                    file  Probenahme_Monat  \\\n0      ../data/BGR/Profilbilder_no_ruler_no_sky/SH_00...                11   \n1      ../data/BGR/Profilbilder_no_ruler_no_sky/SH_00...                11   \n2      ../data/BGR/Profilbilder_no_ruler_no_sky/SH_00...                11   \n3      ../data/BGR/Profilbilder_no_ruler_no_sky/SH_00...                11   \n4      ../data/BGR/Profilbilder_no_ruler_no_sky/SH_00...                11   \n...                                                  ...               ...   \n16307  ../data/BGR/Profilbilder_no_ruler_no_sky/NI_62...                 6   \n16308  ../data/BGR/Profilbilder_no_ruler_no_sky/NI_62...                 6   \n16309  ../data/BGR/Profilbilder_no_ruler_no_sky/NI_62...                 6   \n16310  ../data/BGR/Profilbilder_no_ruler_no_sky/NI_62...                 6   \n16311  ../data/BGR/Profilbilder_no_ruler_no_sky/NI_62...                 6   \n\n       Probenahme_Jahr       xcoord       ycoord  \\\n0                 2015  462216.1283  6079359.775   \n1                 2015  462216.1283  6079359.775   \n2                 2015  462216.1283  6079359.775   \n3                 2015  462216.1283  6079359.775   \n4                 2015  462216.1283  6079359.775   \n...                ...          ...          ...   \n16307             2012  522076.9633  5930456.114   \n16308             2012  522076.9633  5930456.114   \n16309             2012  522076.9633  5930456.114   \n16310             2012  522076.9633  5930456.114   \n16311             2012  522076.9633  5930456.114   \n\n                      Bodenklimaraum_Name Landnutzung BZE_Moor Hauptbodentyp  \\\n0                           Marsch - Nord           A        0            YE   \n1                           Marsch - Nord           A        0            YE   \n2                           Marsch - Nord           A        0            YE   \n3                           Marsch - Nord           A        0            YE   \n4                           Marsch - Nord           A        0            YE   \n...                                   ...         ...      ...           ...   \n16307  Elbe-Weser-Dreieck / sandige Böden           G        0            PP   \n16308  Elbe-Weser-Dreieck / sandige Böden           G        0            PP   \n16309  Elbe-Weser-Dreieck / sandige Böden           G        0            PP   \n16310  Elbe-Weser-Dreieck / sandige Böden           G        0            PP   \n16311  Elbe-Weser-Dreieck / sandige Böden           G        0            PP   \n\n      BodenVarTypSub GrundwaStufe  GrundwaStand  Moormaechtigkeit  \\\n0              YE/BB            0         200.0               0.0   \n1              YE/BB            0         200.0               0.0   \n2              YE/BB            0         200.0               0.0   \n3              YE/BB            0         200.0               0.0   \n4              YE/BB            0         200.0               0.0   \n...              ...          ...           ...               ...   \n16307          GG-PP         GWS4         110.0               0.0   \n16308          GG-PP         GWS4         110.0               0.0   \n16309          GG-PP         GWS4         110.0               0.0   \n16310          GG-PP         GWS4         110.0               0.0   \n16311          GG-PP         GWS4         110.0               0.0   \n\n       Torfmaechtigkeit Neigung Exposition Woelbung Reliefformtyp  \\\n0                   0.0      N0         KE       GG             V   \n1                   0.0      N0         KE       GG             V   \n2                   0.0      N0         KE       GG             V   \n3                   0.0      N0         KE       GG             V   \n4                   0.0      N0         KE       GG             V   \n...                 ...     ...        ...      ...           ...   \n16307               0.0      N0         KE       GG           TSF   \n16308               0.0      N0         KE       GG           TSF   \n16309               0.0      N0         KE       GG           TSF   \n16310               0.0      N0         KE       GG           TSF   \n16311               0.0      N0         KE       GG           TSF   \n\n      LageImRelief  KV_0_30  KV_30_100  \n0                Z    81.89      54.19  \n1                Z    81.89      54.19  \n2                Z    81.89      54.19  \n3                Z    81.89      54.19  \n4                Z    81.89      54.19  \n...            ...      ...        ...  \n16307            T   117.59      87.72  \n16308            T   117.59      87.72  \n16309            T   117.59      87.72  \n16310            T   117.59      87.72  \n16311            T   117.59      87.72  \n\n[13621 rows x 31 columns]",
      "text/html": "<div>\n<style scoped>\n    .dataframe tbody tr th:only-of-type {\n        vertical-align: middle;\n    }\n\n    .dataframe tbody tr th {\n        vertical-align: top;\n    }\n\n    .dataframe thead th {\n        text-align: right;\n    }\n</style>\n<table border=\"1\" class=\"dataframe\">\n  <thead>\n    <tr style=\"text-align: right;\">\n      <th></th>\n      <th>Point</th>\n      <th>Obergrenze</th>\n      <th>Untergrenze</th>\n      <th>Horizontsymbol_relevant</th>\n      <th>Bodenart</th>\n      <th>Bodenfarbe</th>\n      <th>Steine</th>\n      <th>Karbonat</th>\n      <th>Humusgehaltsklasse</th>\n      <th>Durchwurzelung</th>\n      <th>file</th>\n      <th>Probenahme_Monat</th>\n      <th>Probenahme_Jahr</th>\n      <th>xcoord</th>\n      <th>ycoord</th>\n      <th>Bodenklimaraum_Name</th>\n      <th>Landnutzung</th>\n      <th>BZE_Moor</th>\n      <th>Hauptbodentyp</th>\n      <th>BodenVarTypSub</th>\n      <th>GrundwaStufe</th>\n      <th>GrundwaStand</th>\n      <th>Moormaechtigkeit</th>\n      <th>Torfmaechtigkeit</th>\n      <th>Neigung</th>\n      <th>Exposition</th>\n      <th>Woelbung</th>\n      <th>Reliefformtyp</th>\n      <th>LageImRelief</th>\n      <th>KV_0_30</th>\n      <th>KV_30_100</th>\n    </tr>\n  </thead>\n  <tbody>\n    <tr>\n      <th>0</th>\n      <td>2.0</td>\n      <td>0.0</td>\n      <td>28.0</td>\n      <td>Ap</td>\n      <td>Sl2</td>\n      <td>7.5YR 3/2</td>\n      <td>3.0</td>\n      <td>C0</td>\n      <td>h3</td>\n      <td>Wf4</td>\n      <td>../data/BGR/Profilbilder_no_ruler_no_sky/SH_00...</td>\n      <td>11</td>\n      <td>2015</td>\n      <td>462216.1283</td>\n      <td>6079359.775</td>\n      <td>Marsch - Nord</td>\n      <td>A</td>\n      <td>0</td>\n      <td>YE</td>\n      <td>YE/BB</td>\n      <td>0</td>\n      <td>200.0</td>\n      <td>0.0</td>\n      <td>0.0</td>\n      <td>N0</td>\n      <td>KE</td>\n      <td>GG</td>\n      <td>V</td>\n      <td>Z</td>\n      <td>81.89</td>\n      <td>54.19</td>\n    </tr>\n    <tr>\n      <th>1</th>\n      <td>2.0</td>\n      <td>28.0</td>\n      <td>54.0</td>\n      <td>E</td>\n      <td>Sl2</td>\n      <td>10YR 3/3</td>\n      <td>3.0</td>\n      <td>C0</td>\n      <td>h2</td>\n      <td>Wf3</td>\n      <td>../data/BGR/Profilbilder_no_ruler_no_sky/SH_00...</td>\n      <td>11</td>\n      <td>2015</td>\n      <td>462216.1283</td>\n      <td>6079359.775</td>\n      <td>Marsch - Nord</td>\n      <td>A</td>\n      <td>0</td>\n      <td>YE</td>\n      <td>YE/BB</td>\n      <td>0</td>\n      <td>200.0</td>\n      <td>0.0</td>\n      <td>0.0</td>\n      <td>N0</td>\n      <td>KE</td>\n      <td>GG</td>\n      <td>V</td>\n      <td>Z</td>\n      <td>81.89</td>\n      <td>54.19</td>\n    </tr>\n    <tr>\n      <th>2</th>\n      <td>2.0</td>\n      <td>54.0</td>\n      <td>68.0</td>\n      <td>Bv</td>\n      <td>Sl2</td>\n      <td>7.5YR 4/3</td>\n      <td>10.0</td>\n      <td>C0</td>\n      <td>h1</td>\n      <td>Wf3</td>\n      <td>../data/BGR/Profilbilder_no_ruler_no_sky/SH_00...</td>\n      <td>11</td>\n      <td>2015</td>\n      <td>462216.1283</td>\n      <td>6079359.775</td>\n      <td>Marsch - Nord</td>\n      <td>A</td>\n      <td>0</td>\n      <td>YE</td>\n      <td>YE/BB</td>\n      <td>0</td>\n      <td>200.0</td>\n      <td>0.0</td>\n      <td>0.0</td>\n      <td>N0</td>\n      <td>KE</td>\n      <td>GG</td>\n      <td>V</td>\n      <td>Z</td>\n      <td>81.89</td>\n      <td>54.19</td>\n    </tr>\n    <tr>\n      <th>3</th>\n      <td>2.0</td>\n      <td>68.0</td>\n      <td>96.0</td>\n      <td>Bv-ilC</td>\n      <td>fSms</td>\n      <td>7.5YR 6/4</td>\n      <td>1.0</td>\n      <td>C0</td>\n      <td>h0</td>\n      <td>Wf2</td>\n      <td>../data/BGR/Profilbilder_no_ruler_no_sky/SH_00...</td>\n      <td>11</td>\n      <td>2015</td>\n      <td>462216.1283</td>\n      <td>6079359.775</td>\n      <td>Marsch - Nord</td>\n      <td>A</td>\n      <td>0</td>\n      <td>YE</td>\n      <td>YE/BB</td>\n      <td>0</td>\n      <td>200.0</td>\n      <td>0.0</td>\n      <td>0.0</td>\n      <td>N0</td>\n      <td>KE</td>\n      <td>GG</td>\n      <td>V</td>\n      <td>Z</td>\n      <td>81.89</td>\n      <td>54.19</td>\n    </tr>\n    <tr>\n      <th>4</th>\n      <td>2.0</td>\n      <td>96.0</td>\n      <td>201.0</td>\n      <td>ilC</td>\n      <td>mSfs</td>\n      <td>10YR 7/4</td>\n      <td>1.0</td>\n      <td>C0</td>\n      <td>h0</td>\n      <td>Wf0</td>\n      <td>../data/BGR/Profilbilder_no_ruler_no_sky/SH_00...</td>\n      <td>11</td>\n      <td>2015</td>\n      <td>462216.1283</td>\n      <td>6079359.775</td>\n      <td>Marsch - Nord</td>\n      <td>A</td>\n      <td>0</td>\n      <td>YE</td>\n      <td>YE/BB</td>\n      <td>0</td>\n      <td>200.0</td>\n      <td>0.0</td>\n      <td>0.0</td>\n      <td>N0</td>\n      <td>KE</td>\n      <td>GG</td>\n      <td>V</td>\n      <td>Z</td>\n      <td>81.89</td>\n      <td>54.19</td>\n    </tr>\n    <tr>\n      <th>...</th>\n      <td>...</td>\n      <td>...</td>\n      <td>...</td>\n      <td>...</td>\n      <td>...</td>\n      <td>...</td>\n      <td>...</td>\n      <td>...</td>\n      <td>...</td>\n      <td>...</td>\n      <td>...</td>\n      <td>...</td>\n      <td>...</td>\n      <td>...</td>\n      <td>...</td>\n      <td>...</td>\n      <td>...</td>\n      <td>...</td>\n      <td>...</td>\n      <td>...</td>\n      <td>...</td>\n      <td>...</td>\n      <td>...</td>\n      <td>...</td>\n      <td>...</td>\n      <td>...</td>\n      <td>...</td>\n      <td>...</td>\n      <td>...</td>\n      <td>...</td>\n      <td>...</td>\n    </tr>\n    <tr>\n      <th>16307</th>\n      <td>6211.0</td>\n      <td>27.0</td>\n      <td>50.0</td>\n      <td>Bhs</td>\n      <td>fSms</td>\n      <td>5YR 3/2</td>\n      <td>1.0</td>\n      <td>C0</td>\n      <td>h2</td>\n      <td>Wf3</td>\n      <td>../data/BGR/Profilbilder_no_ruler_no_sky/NI_62...</td>\n      <td>6</td>\n      <td>2012</td>\n      <td>522076.9633</td>\n      <td>5930456.114</td>\n      <td>Elbe-Weser-Dreieck / sandige Böden</td>\n      <td>G</td>\n      <td>0</td>\n      <td>PP</td>\n      <td>GG-PP</td>\n      <td>GWS4</td>\n      <td>110.0</td>\n      <td>0.0</td>\n      <td>0.0</td>\n      <td>N0</td>\n      <td>KE</td>\n      <td>GG</td>\n      <td>TSF</td>\n      <td>T</td>\n      <td>117.59</td>\n      <td>87.72</td>\n    </tr>\n    <tr>\n      <th>16308</th>\n      <td>6211.0</td>\n      <td>50.0</td>\n      <td>70.0</td>\n      <td>Bsh</td>\n      <td>fSms</td>\n      <td>5YR 4/3</td>\n      <td>1.0</td>\n      <td>C0</td>\n      <td>h1</td>\n      <td>Wf2</td>\n      <td>../data/BGR/Profilbilder_no_ruler_no_sky/NI_62...</td>\n      <td>6</td>\n      <td>2012</td>\n      <td>522076.9633</td>\n      <td>5930456.114</td>\n      <td>Elbe-Weser-Dreieck / sandige Böden</td>\n      <td>G</td>\n      <td>0</td>\n      <td>PP</td>\n      <td>GG-PP</td>\n      <td>GWS4</td>\n      <td>110.0</td>\n      <td>0.0</td>\n      <td>0.0</td>\n      <td>N0</td>\n      <td>KE</td>\n      <td>GG</td>\n      <td>TSF</td>\n      <td>T</td>\n      <td>117.59</td>\n      <td>87.72</td>\n    </tr>\n    <tr>\n      <th>16309</th>\n      <td>6211.0</td>\n      <td>50.0</td>\n      <td>70.0</td>\n      <td>Bsh</td>\n      <td>fSms</td>\n      <td>5YR 4/3</td>\n      <td>1.0</td>\n      <td>C0</td>\n      <td>h1</td>\n      <td>Wf2</td>\n      <td>../data/BGR/Profilbilder_no_ruler_no_sky/NI_62...</td>\n      <td>6</td>\n      <td>2012</td>\n      <td>522076.9633</td>\n      <td>5930456.114</td>\n      <td>Elbe-Weser-Dreieck / sandige Böden</td>\n      <td>G</td>\n      <td>0</td>\n      <td>PP</td>\n      <td>GG-PP</td>\n      <td>GWS4</td>\n      <td>110.0</td>\n      <td>0.0</td>\n      <td>0.0</td>\n      <td>N0</td>\n      <td>KE</td>\n      <td>GG</td>\n      <td>TSF</td>\n      <td>T</td>\n      <td>117.59</td>\n      <td>87.72</td>\n    </tr>\n    <tr>\n      <th>16310</th>\n      <td>6211.0</td>\n      <td>70.0</td>\n      <td>100.0</td>\n      <td>Go-ilC</td>\n      <td>fSms</td>\n      <td>7.5YR 5/4</td>\n      <td>1.0</td>\n      <td>C0</td>\n      <td>h1</td>\n      <td>Wf6</td>\n      <td>../data/BGR/Profilbilder_no_ruler_no_sky/NI_62...</td>\n      <td>6</td>\n      <td>2012</td>\n      <td>522076.9633</td>\n      <td>5930456.114</td>\n      <td>Elbe-Weser-Dreieck / sandige Böden</td>\n      <td>G</td>\n      <td>0</td>\n      <td>PP</td>\n      <td>GG-PP</td>\n      <td>GWS4</td>\n      <td>110.0</td>\n      <td>0.0</td>\n      <td>0.0</td>\n      <td>N0</td>\n      <td>KE</td>\n      <td>GG</td>\n      <td>TSF</td>\n      <td>T</td>\n      <td>117.59</td>\n      <td>87.72</td>\n    </tr>\n    <tr>\n      <th>16311</th>\n      <td>6211.0</td>\n      <td>70.0</td>\n      <td>100.0</td>\n      <td>Go-ilC</td>\n      <td>fSms</td>\n      <td>7.5YR 5/4</td>\n      <td>1.0</td>\n      <td>C0</td>\n      <td>h1</td>\n      <td>Wf6</td>\n      <td>../data/BGR/Profilbilder_no_ruler_no_sky/NI_62...</td>\n      <td>6</td>\n      <td>2012</td>\n      <td>522076.9633</td>\n      <td>5930456.114</td>\n      <td>Elbe-Weser-Dreieck / sandige Böden</td>\n      <td>G</td>\n      <td>0</td>\n      <td>PP</td>\n      <td>GG-PP</td>\n      <td>GWS4</td>\n      <td>110.0</td>\n      <td>0.0</td>\n      <td>0.0</td>\n      <td>N0</td>\n      <td>KE</td>\n      <td>GG</td>\n      <td>TSF</td>\n      <td>T</td>\n      <td>117.59</td>\n      <td>87.72</td>\n    </tr>\n  </tbody>\n</table>\n<p>13621 rows × 31 columns</p>\n</div>"
     },
     "execution_count": 23,
     "metadata": {},
     "output_type": "execute_result"
    }
   ],
   "source": [
    "# Map rare labels onto frequent labels\n",
    "df[target] = df[target].map(rare_labels_mapping)\n",
    "df"
   ],
   "metadata": {
    "collapsed": false,
    "pycharm": {
     "name": "#%%\n"
    }
   }
  },
  {
   "cell_type": "code",
   "execution_count": 24,
   "outputs": [
    {
     "name": "stderr",
     "output_type": "stream",
     "text": [
      "/tmp/ipykernel_979707/1051670463.py:3: SettingWithCopyWarning: \n",
      "A value is trying to be set on a copy of a slice from a DataFrame.\n",
      "Try using .loc[row_indexer,col_indexer] = value instead\n",
      "\n",
      "See the caveats in the documentation: https://pandas.pydata.org/pandas-docs/stable/user_guide/indexing.html#returning-a-view-versus-a-copy\n",
      "  df[target] = df[target].map(dict_mapping) # in conjunction with HCEs\n",
      "/tmp/ipykernel_979707/1051670463.py:4: SettingWithCopyWarning: \n",
      "A value is trying to be set on a copy of a slice from a DataFrame.\n",
      "Try using .loc[row_indexer,col_indexer] = value instead\n",
      "\n",
      "See the caveats in the documentation: https://pandas.pydata.org/pandas-docs/stable/user_guide/indexing.html#returning-a-view-versus-a-copy\n",
      "  df[target] = df[target].astype(int)\n"
     ]
    },
    {
     "data": {
      "text/plain": "   Point  Obergrenze  Untergrenze  Horizontsymbol_relevant Bodenart  \\\n0    2.0         0.0         28.0                       22      Sl2   \n1    2.0        28.0         54.0                        5      Sl2   \n2    2.0        54.0         68.0                       32      Sl2   \n3    2.0        68.0         96.0                       62     fSms   \n4    2.0        96.0        201.0                        0     mSfs   \n\n  Bodenfarbe  Steine Karbonat Humusgehaltsklasse Durchwurzelung  \\\n0  7.5YR 3/2     3.0       C0                 h3            Wf4   \n1   10YR 3/3     3.0       C0                 h2            Wf3   \n2  7.5YR 4/3    10.0       C0                 h1            Wf3   \n3  7.5YR 6/4     1.0       C0                 h0            Wf2   \n4   10YR 7/4     1.0       C0                 h0            Wf0   \n\n                                                file  Probenahme_Monat  \\\n0  ../data/BGR/Profilbilder_no_ruler_no_sky/SH_00...                11   \n1  ../data/BGR/Profilbilder_no_ruler_no_sky/SH_00...                11   \n2  ../data/BGR/Profilbilder_no_ruler_no_sky/SH_00...                11   \n3  ../data/BGR/Profilbilder_no_ruler_no_sky/SH_00...                11   \n4  ../data/BGR/Profilbilder_no_ruler_no_sky/SH_00...                11   \n\n   Probenahme_Jahr       xcoord       ycoord Bodenklimaraum_Name Landnutzung  \\\n0             2015  462216.1283  6079359.775       Marsch - Nord           A   \n1             2015  462216.1283  6079359.775       Marsch - Nord           A   \n2             2015  462216.1283  6079359.775       Marsch - Nord           A   \n3             2015  462216.1283  6079359.775       Marsch - Nord           A   \n4             2015  462216.1283  6079359.775       Marsch - Nord           A   \n\n  BZE_Moor Hauptbodentyp BodenVarTypSub GrundwaStufe  GrundwaStand  \\\n0        0            YE          YE/BB            0         200.0   \n1        0            YE          YE/BB            0         200.0   \n2        0            YE          YE/BB            0         200.0   \n3        0            YE          YE/BB            0         200.0   \n4        0            YE          YE/BB            0         200.0   \n\n   Moormaechtigkeit  Torfmaechtigkeit Neigung Exposition Woelbung  \\\n0               0.0               0.0      N0         KE       GG   \n1               0.0               0.0      N0         KE       GG   \n2               0.0               0.0      N0         KE       GG   \n3               0.0               0.0      N0         KE       GG   \n4               0.0               0.0      N0         KE       GG   \n\n  Reliefformtyp LageImRelief  KV_0_30  KV_30_100  \n0             V            Z    81.89      54.19  \n1             V            Z    81.89      54.19  \n2             V            Z    81.89      54.19  \n3             V            Z    81.89      54.19  \n4             V            Z    81.89      54.19  ",
      "text/html": "<div>\n<style scoped>\n    .dataframe tbody tr th:only-of-type {\n        vertical-align: middle;\n    }\n\n    .dataframe tbody tr th {\n        vertical-align: top;\n    }\n\n    .dataframe thead th {\n        text-align: right;\n    }\n</style>\n<table border=\"1\" class=\"dataframe\">\n  <thead>\n    <tr style=\"text-align: right;\">\n      <th></th>\n      <th>Point</th>\n      <th>Obergrenze</th>\n      <th>Untergrenze</th>\n      <th>Horizontsymbol_relevant</th>\n      <th>Bodenart</th>\n      <th>Bodenfarbe</th>\n      <th>Steine</th>\n      <th>Karbonat</th>\n      <th>Humusgehaltsklasse</th>\n      <th>Durchwurzelung</th>\n      <th>file</th>\n      <th>Probenahme_Monat</th>\n      <th>Probenahme_Jahr</th>\n      <th>xcoord</th>\n      <th>ycoord</th>\n      <th>Bodenklimaraum_Name</th>\n      <th>Landnutzung</th>\n      <th>BZE_Moor</th>\n      <th>Hauptbodentyp</th>\n      <th>BodenVarTypSub</th>\n      <th>GrundwaStufe</th>\n      <th>GrundwaStand</th>\n      <th>Moormaechtigkeit</th>\n      <th>Torfmaechtigkeit</th>\n      <th>Neigung</th>\n      <th>Exposition</th>\n      <th>Woelbung</th>\n      <th>Reliefformtyp</th>\n      <th>LageImRelief</th>\n      <th>KV_0_30</th>\n      <th>KV_30_100</th>\n    </tr>\n  </thead>\n  <tbody>\n    <tr>\n      <th>0</th>\n      <td>2.0</td>\n      <td>0.0</td>\n      <td>28.0</td>\n      <td>22</td>\n      <td>Sl2</td>\n      <td>7.5YR 3/2</td>\n      <td>3.0</td>\n      <td>C0</td>\n      <td>h3</td>\n      <td>Wf4</td>\n      <td>../data/BGR/Profilbilder_no_ruler_no_sky/SH_00...</td>\n      <td>11</td>\n      <td>2015</td>\n      <td>462216.1283</td>\n      <td>6079359.775</td>\n      <td>Marsch - Nord</td>\n      <td>A</td>\n      <td>0</td>\n      <td>YE</td>\n      <td>YE/BB</td>\n      <td>0</td>\n      <td>200.0</td>\n      <td>0.0</td>\n      <td>0.0</td>\n      <td>N0</td>\n      <td>KE</td>\n      <td>GG</td>\n      <td>V</td>\n      <td>Z</td>\n      <td>81.89</td>\n      <td>54.19</td>\n    </tr>\n    <tr>\n      <th>1</th>\n      <td>2.0</td>\n      <td>28.0</td>\n      <td>54.0</td>\n      <td>5</td>\n      <td>Sl2</td>\n      <td>10YR 3/3</td>\n      <td>3.0</td>\n      <td>C0</td>\n      <td>h2</td>\n      <td>Wf3</td>\n      <td>../data/BGR/Profilbilder_no_ruler_no_sky/SH_00...</td>\n      <td>11</td>\n      <td>2015</td>\n      <td>462216.1283</td>\n      <td>6079359.775</td>\n      <td>Marsch - Nord</td>\n      <td>A</td>\n      <td>0</td>\n      <td>YE</td>\n      <td>YE/BB</td>\n      <td>0</td>\n      <td>200.0</td>\n      <td>0.0</td>\n      <td>0.0</td>\n      <td>N0</td>\n      <td>KE</td>\n      <td>GG</td>\n      <td>V</td>\n      <td>Z</td>\n      <td>81.89</td>\n      <td>54.19</td>\n    </tr>\n    <tr>\n      <th>2</th>\n      <td>2.0</td>\n      <td>54.0</td>\n      <td>68.0</td>\n      <td>32</td>\n      <td>Sl2</td>\n      <td>7.5YR 4/3</td>\n      <td>10.0</td>\n      <td>C0</td>\n      <td>h1</td>\n      <td>Wf3</td>\n      <td>../data/BGR/Profilbilder_no_ruler_no_sky/SH_00...</td>\n      <td>11</td>\n      <td>2015</td>\n      <td>462216.1283</td>\n      <td>6079359.775</td>\n      <td>Marsch - Nord</td>\n      <td>A</td>\n      <td>0</td>\n      <td>YE</td>\n      <td>YE/BB</td>\n      <td>0</td>\n      <td>200.0</td>\n      <td>0.0</td>\n      <td>0.0</td>\n      <td>N0</td>\n      <td>KE</td>\n      <td>GG</td>\n      <td>V</td>\n      <td>Z</td>\n      <td>81.89</td>\n      <td>54.19</td>\n    </tr>\n    <tr>\n      <th>3</th>\n      <td>2.0</td>\n      <td>68.0</td>\n      <td>96.0</td>\n      <td>62</td>\n      <td>fSms</td>\n      <td>7.5YR 6/4</td>\n      <td>1.0</td>\n      <td>C0</td>\n      <td>h0</td>\n      <td>Wf2</td>\n      <td>../data/BGR/Profilbilder_no_ruler_no_sky/SH_00...</td>\n      <td>11</td>\n      <td>2015</td>\n      <td>462216.1283</td>\n      <td>6079359.775</td>\n      <td>Marsch - Nord</td>\n      <td>A</td>\n      <td>0</td>\n      <td>YE</td>\n      <td>YE/BB</td>\n      <td>0</td>\n      <td>200.0</td>\n      <td>0.0</td>\n      <td>0.0</td>\n      <td>N0</td>\n      <td>KE</td>\n      <td>GG</td>\n      <td>V</td>\n      <td>Z</td>\n      <td>81.89</td>\n      <td>54.19</td>\n    </tr>\n    <tr>\n      <th>4</th>\n      <td>2.0</td>\n      <td>96.0</td>\n      <td>201.0</td>\n      <td>0</td>\n      <td>mSfs</td>\n      <td>10YR 7/4</td>\n      <td>1.0</td>\n      <td>C0</td>\n      <td>h0</td>\n      <td>Wf0</td>\n      <td>../data/BGR/Profilbilder_no_ruler_no_sky/SH_00...</td>\n      <td>11</td>\n      <td>2015</td>\n      <td>462216.1283</td>\n      <td>6079359.775</td>\n      <td>Marsch - Nord</td>\n      <td>A</td>\n      <td>0</td>\n      <td>YE</td>\n      <td>YE/BB</td>\n      <td>0</td>\n      <td>200.0</td>\n      <td>0.0</td>\n      <td>0.0</td>\n      <td>N0</td>\n      <td>KE</td>\n      <td>GG</td>\n      <td>V</td>\n      <td>Z</td>\n      <td>81.89</td>\n      <td>54.19</td>\n    </tr>\n  </tbody>\n</table>\n</div>"
     },
     "execution_count": 24,
     "metadata": {},
     "output_type": "execute_result"
    }
   ],
   "source": [
    "# One-hot encoding of the target column\n",
    "#bgr_data.encode_categorical_columns(df, target) # for standard one-hot vectors of the targets\n",
    "df[target] = df[target].map(dict_mapping) # in conjunction with HCEs\n",
    "df[target] = df[target].astype(int)\n",
    "df.head(5)"
   ],
   "metadata": {
    "collapsed": false,
    "pycharm": {
     "name": "#%%\n"
    }
   }
  },
  {
   "cell_type": "code",
   "execution_count": 25,
   "outputs": [
    {
     "name": "stderr",
     "output_type": "stream",
     "text": [
      "/mnt/KInsektDaten/teo/./BGR/bgr/soil/datasets.py:35: SettingWithCopyWarning: \n",
      "A value is trying to be set on a copy of a slice from a DataFrame.\n",
      "Try using .loc[row_indexer,col_indexer] = value instead\n",
      "\n",
      "See the caveats in the documentation: https://pandas.pydata.org/pandas-docs/stable/user_guide/indexing.html#returning-a-view-versus-a-copy\n",
      "  df[col_name] = df[col_name].replace(counts.index, range(len(counts)))\n",
      "/mnt/KInsektDaten/teo/./BGR/bgr/soil/datasets.py:35: FutureWarning: Downcasting behavior in `replace` is deprecated and will be removed in a future version. To retain the old behavior, explicitly call `result.infer_objects(copy=False)`. To opt-in to the future behavior, set `pd.set_option('future.no_silent_downcasting', True)`\n",
      "  df[col_name] = df[col_name].replace(counts.index, range(len(counts)))\n",
      "/mnt/KInsektDaten/teo/./BGR/bgr/soil/datasets.py:35: SettingWithCopyWarning: \n",
      "A value is trying to be set on a copy of a slice from a DataFrame.\n",
      "Try using .loc[row_indexer,col_indexer] = value instead\n",
      "\n",
      "See the caveats in the documentation: https://pandas.pydata.org/pandas-docs/stable/user_guide/indexing.html#returning-a-view-versus-a-copy\n",
      "  df[col_name] = df[col_name].replace(counts.index, range(len(counts)))\n",
      "/mnt/KInsektDaten/teo/./BGR/bgr/soil/datasets.py:35: FutureWarning: Downcasting behavior in `replace` is deprecated and will be removed in a future version. To retain the old behavior, explicitly call `result.infer_objects(copy=False)`. To opt-in to the future behavior, set `pd.set_option('future.no_silent_downcasting', True)`\n",
      "  df[col_name] = df[col_name].replace(counts.index, range(len(counts)))\n",
      "/mnt/KInsektDaten/teo/./BGR/bgr/soil/datasets.py:35: SettingWithCopyWarning: \n",
      "A value is trying to be set on a copy of a slice from a DataFrame.\n",
      "Try using .loc[row_indexer,col_indexer] = value instead\n",
      "\n",
      "See the caveats in the documentation: https://pandas.pydata.org/pandas-docs/stable/user_guide/indexing.html#returning-a-view-versus-a-copy\n",
      "  df[col_name] = df[col_name].replace(counts.index, range(len(counts)))\n",
      "/mnt/KInsektDaten/teo/./BGR/bgr/soil/datasets.py:35: FutureWarning: Downcasting behavior in `replace` is deprecated and will be removed in a future version. To retain the old behavior, explicitly call `result.infer_objects(copy=False)`. To opt-in to the future behavior, set `pd.set_option('future.no_silent_downcasting', True)`\n",
      "  df[col_name] = df[col_name].replace(counts.index, range(len(counts)))\n",
      "/mnt/KInsektDaten/teo/./BGR/bgr/soil/datasets.py:35: SettingWithCopyWarning: \n",
      "A value is trying to be set on a copy of a slice from a DataFrame.\n",
      "Try using .loc[row_indexer,col_indexer] = value instead\n",
      "\n",
      "See the caveats in the documentation: https://pandas.pydata.org/pandas-docs/stable/user_guide/indexing.html#returning-a-view-versus-a-copy\n",
      "  df[col_name] = df[col_name].replace(counts.index, range(len(counts)))\n",
      "/mnt/KInsektDaten/teo/./BGR/bgr/soil/datasets.py:35: FutureWarning: Downcasting behavior in `replace` is deprecated and will be removed in a future version. To retain the old behavior, explicitly call `result.infer_objects(copy=False)`. To opt-in to the future behavior, set `pd.set_option('future.no_silent_downcasting', True)`\n",
      "  df[col_name] = df[col_name].replace(counts.index, range(len(counts)))\n",
      "/mnt/KInsektDaten/teo/./BGR/bgr/soil/datasets.py:35: SettingWithCopyWarning: \n",
      "A value is trying to be set on a copy of a slice from a DataFrame.\n",
      "Try using .loc[row_indexer,col_indexer] = value instead\n",
      "\n",
      "See the caveats in the documentation: https://pandas.pydata.org/pandas-docs/stable/user_guide/indexing.html#returning-a-view-versus-a-copy\n",
      "  df[col_name] = df[col_name].replace(counts.index, range(len(counts)))\n",
      "/mnt/KInsektDaten/teo/./BGR/bgr/soil/datasets.py:35: FutureWarning: Downcasting behavior in `replace` is deprecated and will be removed in a future version. To retain the old behavior, explicitly call `result.infer_objects(copy=False)`. To opt-in to the future behavior, set `pd.set_option('future.no_silent_downcasting', True)`\n",
      "  df[col_name] = df[col_name].replace(counts.index, range(len(counts)))\n",
      "/mnt/KInsektDaten/teo/./BGR/bgr/soil/datasets.py:35: SettingWithCopyWarning: \n",
      "A value is trying to be set on a copy of a slice from a DataFrame.\n",
      "Try using .loc[row_indexer,col_indexer] = value instead\n",
      "\n",
      "See the caveats in the documentation: https://pandas.pydata.org/pandas-docs/stable/user_guide/indexing.html#returning-a-view-versus-a-copy\n",
      "  df[col_name] = df[col_name].replace(counts.index, range(len(counts)))\n",
      "/mnt/KInsektDaten/teo/./BGR/bgr/soil/datasets.py:35: FutureWarning: Downcasting behavior in `replace` is deprecated and will be removed in a future version. To retain the old behavior, explicitly call `result.infer_objects(copy=False)`. To opt-in to the future behavior, set `pd.set_option('future.no_silent_downcasting', True)`\n",
      "  df[col_name] = df[col_name].replace(counts.index, range(len(counts)))\n",
      "/mnt/KInsektDaten/teo/./BGR/bgr/soil/datasets.py:35: SettingWithCopyWarning: \n",
      "A value is trying to be set on a copy of a slice from a DataFrame.\n",
      "Try using .loc[row_indexer,col_indexer] = value instead\n",
      "\n",
      "See the caveats in the documentation: https://pandas.pydata.org/pandas-docs/stable/user_guide/indexing.html#returning-a-view-versus-a-copy\n",
      "  df[col_name] = df[col_name].replace(counts.index, range(len(counts)))\n",
      "/mnt/KInsektDaten/teo/./BGR/bgr/soil/datasets.py:35: FutureWarning: Downcasting behavior in `replace` is deprecated and will be removed in a future version. To retain the old behavior, explicitly call `result.infer_objects(copy=False)`. To opt-in to the future behavior, set `pd.set_option('future.no_silent_downcasting', True)`\n",
      "  df[col_name] = df[col_name].replace(counts.index, range(len(counts)))\n",
      "/mnt/KInsektDaten/teo/./BGR/bgr/soil/datasets.py:35: SettingWithCopyWarning: \n",
      "A value is trying to be set on a copy of a slice from a DataFrame.\n",
      "Try using .loc[row_indexer,col_indexer] = value instead\n",
      "\n",
      "See the caveats in the documentation: https://pandas.pydata.org/pandas-docs/stable/user_guide/indexing.html#returning-a-view-versus-a-copy\n",
      "  df[col_name] = df[col_name].replace(counts.index, range(len(counts)))\n",
      "/mnt/KInsektDaten/teo/./BGR/bgr/soil/datasets.py:35: FutureWarning: Downcasting behavior in `replace` is deprecated and will be removed in a future version. To retain the old behavior, explicitly call `result.infer_objects(copy=False)`. To opt-in to the future behavior, set `pd.set_option('future.no_silent_downcasting', True)`\n",
      "  df[col_name] = df[col_name].replace(counts.index, range(len(counts)))\n",
      "/mnt/KInsektDaten/teo/./BGR/bgr/soil/datasets.py:35: SettingWithCopyWarning: \n",
      "A value is trying to be set on a copy of a slice from a DataFrame.\n",
      "Try using .loc[row_indexer,col_indexer] = value instead\n",
      "\n",
      "See the caveats in the documentation: https://pandas.pydata.org/pandas-docs/stable/user_guide/indexing.html#returning-a-view-versus-a-copy\n",
      "  df[col_name] = df[col_name].replace(counts.index, range(len(counts)))\n",
      "/mnt/KInsektDaten/teo/./BGR/bgr/soil/datasets.py:35: FutureWarning: Downcasting behavior in `replace` is deprecated and will be removed in a future version. To retain the old behavior, explicitly call `result.infer_objects(copy=False)`. To opt-in to the future behavior, set `pd.set_option('future.no_silent_downcasting', True)`\n",
      "  df[col_name] = df[col_name].replace(counts.index, range(len(counts)))\n",
      "/mnt/KInsektDaten/teo/./BGR/bgr/soil/datasets.py:35: SettingWithCopyWarning: \n",
      "A value is trying to be set on a copy of a slice from a DataFrame.\n",
      "Try using .loc[row_indexer,col_indexer] = value instead\n",
      "\n",
      "See the caveats in the documentation: https://pandas.pydata.org/pandas-docs/stable/user_guide/indexing.html#returning-a-view-versus-a-copy\n",
      "  df[col_name] = df[col_name].replace(counts.index, range(len(counts)))\n",
      "/mnt/KInsektDaten/teo/./BGR/bgr/soil/datasets.py:35: FutureWarning: Downcasting behavior in `replace` is deprecated and will be removed in a future version. To retain the old behavior, explicitly call `result.infer_objects(copy=False)`. To opt-in to the future behavior, set `pd.set_option('future.no_silent_downcasting', True)`\n",
      "  df[col_name] = df[col_name].replace(counts.index, range(len(counts)))\n",
      "/mnt/KInsektDaten/teo/./BGR/bgr/soil/datasets.py:35: SettingWithCopyWarning: \n",
      "A value is trying to be set on a copy of a slice from a DataFrame.\n",
      "Try using .loc[row_indexer,col_indexer] = value instead\n",
      "\n",
      "See the caveats in the documentation: https://pandas.pydata.org/pandas-docs/stable/user_guide/indexing.html#returning-a-view-versus-a-copy\n",
      "  df[col_name] = df[col_name].replace(counts.index, range(len(counts)))\n",
      "/mnt/KInsektDaten/teo/./BGR/bgr/soil/datasets.py:35: FutureWarning: Downcasting behavior in `replace` is deprecated and will be removed in a future version. To retain the old behavior, explicitly call `result.infer_objects(copy=False)`. To opt-in to the future behavior, set `pd.set_option('future.no_silent_downcasting', True)`\n",
      "  df[col_name] = df[col_name].replace(counts.index, range(len(counts)))\n",
      "/mnt/KInsektDaten/teo/./BGR/bgr/soil/datasets.py:35: SettingWithCopyWarning: \n",
      "A value is trying to be set on a copy of a slice from a DataFrame.\n",
      "Try using .loc[row_indexer,col_indexer] = value instead\n",
      "\n",
      "See the caveats in the documentation: https://pandas.pydata.org/pandas-docs/stable/user_guide/indexing.html#returning-a-view-versus-a-copy\n",
      "  df[col_name] = df[col_name].replace(counts.index, range(len(counts)))\n",
      "/mnt/KInsektDaten/teo/./BGR/bgr/soil/datasets.py:35: FutureWarning: Downcasting behavior in `replace` is deprecated and will be removed in a future version. To retain the old behavior, explicitly call `result.infer_objects(copy=False)`. To opt-in to the future behavior, set `pd.set_option('future.no_silent_downcasting', True)`\n",
      "  df[col_name] = df[col_name].replace(counts.index, range(len(counts)))\n",
      "/mnt/KInsektDaten/teo/./BGR/bgr/soil/datasets.py:35: SettingWithCopyWarning: \n",
      "A value is trying to be set on a copy of a slice from a DataFrame.\n",
      "Try using .loc[row_indexer,col_indexer] = value instead\n",
      "\n",
      "See the caveats in the documentation: https://pandas.pydata.org/pandas-docs/stable/user_guide/indexing.html#returning-a-view-versus-a-copy\n",
      "  df[col_name] = df[col_name].replace(counts.index, range(len(counts)))\n",
      "/mnt/KInsektDaten/teo/./BGR/bgr/soil/datasets.py:35: FutureWarning: Downcasting behavior in `replace` is deprecated and will be removed in a future version. To retain the old behavior, explicitly call `result.infer_objects(copy=False)`. To opt-in to the future behavior, set `pd.set_option('future.no_silent_downcasting', True)`\n",
      "  df[col_name] = df[col_name].replace(counts.index, range(len(counts)))\n",
      "/mnt/KInsektDaten/teo/./BGR/bgr/soil/datasets.py:35: SettingWithCopyWarning: \n",
      "A value is trying to be set on a copy of a slice from a DataFrame.\n",
      "Try using .loc[row_indexer,col_indexer] = value instead\n",
      "\n",
      "See the caveats in the documentation: https://pandas.pydata.org/pandas-docs/stable/user_guide/indexing.html#returning-a-view-versus-a-copy\n",
      "  df[col_name] = df[col_name].replace(counts.index, range(len(counts)))\n",
      "/mnt/KInsektDaten/teo/./BGR/bgr/soil/datasets.py:35: FutureWarning: Downcasting behavior in `replace` is deprecated and will be removed in a future version. To retain the old behavior, explicitly call `result.infer_objects(copy=False)`. To opt-in to the future behavior, set `pd.set_option('future.no_silent_downcasting', True)`\n",
      "  df[col_name] = df[col_name].replace(counts.index, range(len(counts)))\n",
      "/mnt/KInsektDaten/teo/./BGR/bgr/soil/datasets.py:35: SettingWithCopyWarning: \n",
      "A value is trying to be set on a copy of a slice from a DataFrame.\n",
      "Try using .loc[row_indexer,col_indexer] = value instead\n",
      "\n",
      "See the caveats in the documentation: https://pandas.pydata.org/pandas-docs/stable/user_guide/indexing.html#returning-a-view-versus-a-copy\n",
      "  df[col_name] = df[col_name].replace(counts.index, range(len(counts)))\n",
      "/mnt/KInsektDaten/teo/./BGR/bgr/soil/datasets.py:35: FutureWarning: Downcasting behavior in `replace` is deprecated and will be removed in a future version. To retain the old behavior, explicitly call `result.infer_objects(copy=False)`. To opt-in to the future behavior, set `pd.set_option('future.no_silent_downcasting', True)`\n",
      "  df[col_name] = df[col_name].replace(counts.index, range(len(counts)))\n",
      "/mnt/KInsektDaten/teo/./BGR/bgr/soil/datasets.py:35: SettingWithCopyWarning: \n",
      "A value is trying to be set on a copy of a slice from a DataFrame.\n",
      "Try using .loc[row_indexer,col_indexer] = value instead\n",
      "\n",
      "See the caveats in the documentation: https://pandas.pydata.org/pandas-docs/stable/user_guide/indexing.html#returning-a-view-versus-a-copy\n",
      "  df[col_name] = df[col_name].replace(counts.index, range(len(counts)))\n",
      "/mnt/KInsektDaten/teo/./BGR/bgr/soil/datasets.py:35: FutureWarning: Downcasting behavior in `replace` is deprecated and will be removed in a future version. To retain the old behavior, explicitly call `result.infer_objects(copy=False)`. To opt-in to the future behavior, set `pd.set_option('future.no_silent_downcasting', True)`\n",
      "  df[col_name] = df[col_name].replace(counts.index, range(len(counts)))\n",
      "/mnt/KInsektDaten/teo/./BGR/bgr/soil/datasets.py:35: SettingWithCopyWarning: \n",
      "A value is trying to be set on a copy of a slice from a DataFrame.\n",
      "Try using .loc[row_indexer,col_indexer] = value instead\n",
      "\n",
      "See the caveats in the documentation: https://pandas.pydata.org/pandas-docs/stable/user_guide/indexing.html#returning-a-view-versus-a-copy\n",
      "  df[col_name] = df[col_name].replace(counts.index, range(len(counts)))\n"
     ]
    },
    {
     "data": {
      "text/plain": "        Point  Obergrenze  Untergrenze  Horizontsymbol_relevant  Bodenart  \\\n0         2.0         0.0         28.0                       22       3.0   \n1         2.0        28.0         54.0                        5       3.0   \n2         2.0        54.0         68.0                       32       3.0   \n3         2.0        68.0         96.0                       62       8.0   \n4         2.0        96.0        201.0                        0       7.0   \n...       ...         ...          ...                      ...       ...   \n16307  6211.0        27.0         50.0                       37       8.0   \n16308  6211.0        50.0         70.0                       12       8.0   \n16309  6211.0        50.0         70.0                       12       8.0   \n16310  6211.0        70.0        100.0                       74       8.0   \n16311  6211.0        70.0        100.0                       74       8.0   \n\n       Bodenfarbe  Steine  Karbonat  Humusgehaltsklasse  Durchwurzelung  \\\n0            24.0     3.0         0                 1.0               4   \n1             0.0     3.0         0                 3.0               3   \n2            20.0    10.0         0                 2.0               3   \n3            72.0     1.0         0                 0.0               1   \n4            37.0     1.0         0                 0.0               0   \n...           ...     ...       ...                 ...             ...   \n16307        68.0     1.0         0                 3.0               3   \n16308        38.0     1.0         0                 2.0               1   \n16309        38.0     1.0         0                 2.0               1   \n16310        19.0     1.0         0                 2.0               6   \n16311        19.0     1.0         0                 2.0               6   \n\n                                                    file  Probenahme_Monat  \\\n0      ../data/BGR/Profilbilder_no_ruler_no_sky/SH_00...                 3   \n1      ../data/BGR/Profilbilder_no_ruler_no_sky/SH_00...                 3   \n2      ../data/BGR/Profilbilder_no_ruler_no_sky/SH_00...                 3   \n3      ../data/BGR/Profilbilder_no_ruler_no_sky/SH_00...                 3   \n4      ../data/BGR/Profilbilder_no_ruler_no_sky/SH_00...                 3   \n...                                                  ...               ...   \n16307  ../data/BGR/Profilbilder_no_ruler_no_sky/NI_62...                10   \n16308  ../data/BGR/Profilbilder_no_ruler_no_sky/NI_62...                10   \n16309  ../data/BGR/Profilbilder_no_ruler_no_sky/NI_62...                10   \n16310  ../data/BGR/Profilbilder_no_ruler_no_sky/NI_62...                10   \n16311  ../data/BGR/Profilbilder_no_ruler_no_sky/NI_62...                10   \n\n       Probenahme_Jahr       xcoord       ycoord  Bodenklimaraum_Name  \\\n0                    4  462216.1283  6079359.775                   37   \n1                    4  462216.1283  6079359.775                   37   \n2                    4  462216.1283  6079359.775                   37   \n3                    4  462216.1283  6079359.775                   37   \n4                    4  462216.1283  6079359.775                   37   \n...                ...          ...          ...                  ...   \n16307                0  522076.9633  5930456.114                   15   \n16308                0  522076.9633  5930456.114                   15   \n16309                0  522076.9633  5930456.114                   15   \n16310                0  522076.9633  5930456.114                   15   \n16311                0  522076.9633  5930456.114                   15   \n\n       Landnutzung  BZE_Moor  Hauptbodentyp  BodenVarTypSub  GrundwaStufe  \\\n0                0         0             15             247           0.0   \n1                0         0             15             247           0.0   \n2                0         0             15             247           0.0   \n3                0         0             15             247           0.0   \n4                0         0             15             247           0.0   \n...            ...       ...            ...             ...           ...   \n16307            1         0              8              42           1.0   \n16308            1         0              8              42           1.0   \n16309            1         0              8              42           1.0   \n16310            1         0              8              42           1.0   \n16311            1         0              8              42           1.0   \n\n       GrundwaStand  Moormaechtigkeit  Torfmaechtigkeit  Neigung  Exposition  \\\n0             200.0               0.0               0.0      0.0         0.0   \n1             200.0               0.0               0.0      0.0         0.0   \n2             200.0               0.0               0.0      0.0         0.0   \n3             200.0               0.0               0.0      0.0         0.0   \n4             200.0               0.0               0.0      0.0         0.0   \n...             ...               ...               ...      ...         ...   \n16307         110.0               0.0               0.0      0.0         0.0   \n16308         110.0               0.0               0.0      0.0         0.0   \n16309         110.0               0.0               0.0      0.0         0.0   \n16310         110.0               0.0               0.0      0.0         0.0   \n16311         110.0               0.0               0.0      0.0         0.0   \n\n       Woelbung  Reliefformtyp  LageImRelief  KV_0_30  KV_30_100  \n0           0.0            1.0           0.0    81.89      54.19  \n1           0.0            1.0           0.0    81.89      54.19  \n2           0.0            1.0           0.0    81.89      54.19  \n3           0.0            1.0           0.0    81.89      54.19  \n4           0.0            1.0           0.0    81.89      54.19  \n...         ...            ...           ...      ...        ...  \n16307       0.0            2.0           5.0   117.59      87.72  \n16308       0.0            2.0           5.0   117.59      87.72  \n16309       0.0            2.0           5.0   117.59      87.72  \n16310       0.0            2.0           5.0   117.59      87.72  \n16311       0.0            2.0           5.0   117.59      87.72  \n\n[13621 rows x 31 columns]",
      "text/html": "<div>\n<style scoped>\n    .dataframe tbody tr th:only-of-type {\n        vertical-align: middle;\n    }\n\n    .dataframe tbody tr th {\n        vertical-align: top;\n    }\n\n    .dataframe thead th {\n        text-align: right;\n    }\n</style>\n<table border=\"1\" class=\"dataframe\">\n  <thead>\n    <tr style=\"text-align: right;\">\n      <th></th>\n      <th>Point</th>\n      <th>Obergrenze</th>\n      <th>Untergrenze</th>\n      <th>Horizontsymbol_relevant</th>\n      <th>Bodenart</th>\n      <th>Bodenfarbe</th>\n      <th>Steine</th>\n      <th>Karbonat</th>\n      <th>Humusgehaltsklasse</th>\n      <th>Durchwurzelung</th>\n      <th>file</th>\n      <th>Probenahme_Monat</th>\n      <th>Probenahme_Jahr</th>\n      <th>xcoord</th>\n      <th>ycoord</th>\n      <th>Bodenklimaraum_Name</th>\n      <th>Landnutzung</th>\n      <th>BZE_Moor</th>\n      <th>Hauptbodentyp</th>\n      <th>BodenVarTypSub</th>\n      <th>GrundwaStufe</th>\n      <th>GrundwaStand</th>\n      <th>Moormaechtigkeit</th>\n      <th>Torfmaechtigkeit</th>\n      <th>Neigung</th>\n      <th>Exposition</th>\n      <th>Woelbung</th>\n      <th>Reliefformtyp</th>\n      <th>LageImRelief</th>\n      <th>KV_0_30</th>\n      <th>KV_30_100</th>\n    </tr>\n  </thead>\n  <tbody>\n    <tr>\n      <th>0</th>\n      <td>2.0</td>\n      <td>0.0</td>\n      <td>28.0</td>\n      <td>22</td>\n      <td>3.0</td>\n      <td>24.0</td>\n      <td>3.0</td>\n      <td>0</td>\n      <td>1.0</td>\n      <td>4</td>\n      <td>../data/BGR/Profilbilder_no_ruler_no_sky/SH_00...</td>\n      <td>3</td>\n      <td>4</td>\n      <td>462216.1283</td>\n      <td>6079359.775</td>\n      <td>37</td>\n      <td>0</td>\n      <td>0</td>\n      <td>15</td>\n      <td>247</td>\n      <td>0.0</td>\n      <td>200.0</td>\n      <td>0.0</td>\n      <td>0.0</td>\n      <td>0.0</td>\n      <td>0.0</td>\n      <td>0.0</td>\n      <td>1.0</td>\n      <td>0.0</td>\n      <td>81.89</td>\n      <td>54.19</td>\n    </tr>\n    <tr>\n      <th>1</th>\n      <td>2.0</td>\n      <td>28.0</td>\n      <td>54.0</td>\n      <td>5</td>\n      <td>3.0</td>\n      <td>0.0</td>\n      <td>3.0</td>\n      <td>0</td>\n      <td>3.0</td>\n      <td>3</td>\n      <td>../data/BGR/Profilbilder_no_ruler_no_sky/SH_00...</td>\n      <td>3</td>\n      <td>4</td>\n      <td>462216.1283</td>\n      <td>6079359.775</td>\n      <td>37</td>\n      <td>0</td>\n      <td>0</td>\n      <td>15</td>\n      <td>247</td>\n      <td>0.0</td>\n      <td>200.0</td>\n      <td>0.0</td>\n      <td>0.0</td>\n      <td>0.0</td>\n      <td>0.0</td>\n      <td>0.0</td>\n      <td>1.0</td>\n      <td>0.0</td>\n      <td>81.89</td>\n      <td>54.19</td>\n    </tr>\n    <tr>\n      <th>2</th>\n      <td>2.0</td>\n      <td>54.0</td>\n      <td>68.0</td>\n      <td>32</td>\n      <td>3.0</td>\n      <td>20.0</td>\n      <td>10.0</td>\n      <td>0</td>\n      <td>2.0</td>\n      <td>3</td>\n      <td>../data/BGR/Profilbilder_no_ruler_no_sky/SH_00...</td>\n      <td>3</td>\n      <td>4</td>\n      <td>462216.1283</td>\n      <td>6079359.775</td>\n      <td>37</td>\n      <td>0</td>\n      <td>0</td>\n      <td>15</td>\n      <td>247</td>\n      <td>0.0</td>\n      <td>200.0</td>\n      <td>0.0</td>\n      <td>0.0</td>\n      <td>0.0</td>\n      <td>0.0</td>\n      <td>0.0</td>\n      <td>1.0</td>\n      <td>0.0</td>\n      <td>81.89</td>\n      <td>54.19</td>\n    </tr>\n    <tr>\n      <th>3</th>\n      <td>2.0</td>\n      <td>68.0</td>\n      <td>96.0</td>\n      <td>62</td>\n      <td>8.0</td>\n      <td>72.0</td>\n      <td>1.0</td>\n      <td>0</td>\n      <td>0.0</td>\n      <td>1</td>\n      <td>../data/BGR/Profilbilder_no_ruler_no_sky/SH_00...</td>\n      <td>3</td>\n      <td>4</td>\n      <td>462216.1283</td>\n      <td>6079359.775</td>\n      <td>37</td>\n      <td>0</td>\n      <td>0</td>\n      <td>15</td>\n      <td>247</td>\n      <td>0.0</td>\n      <td>200.0</td>\n      <td>0.0</td>\n      <td>0.0</td>\n      <td>0.0</td>\n      <td>0.0</td>\n      <td>0.0</td>\n      <td>1.0</td>\n      <td>0.0</td>\n      <td>81.89</td>\n      <td>54.19</td>\n    </tr>\n    <tr>\n      <th>4</th>\n      <td>2.0</td>\n      <td>96.0</td>\n      <td>201.0</td>\n      <td>0</td>\n      <td>7.0</td>\n      <td>37.0</td>\n      <td>1.0</td>\n      <td>0</td>\n      <td>0.0</td>\n      <td>0</td>\n      <td>../data/BGR/Profilbilder_no_ruler_no_sky/SH_00...</td>\n      <td>3</td>\n      <td>4</td>\n      <td>462216.1283</td>\n      <td>6079359.775</td>\n      <td>37</td>\n      <td>0</td>\n      <td>0</td>\n      <td>15</td>\n      <td>247</td>\n      <td>0.0</td>\n      <td>200.0</td>\n      <td>0.0</td>\n      <td>0.0</td>\n      <td>0.0</td>\n      <td>0.0</td>\n      <td>0.0</td>\n      <td>1.0</td>\n      <td>0.0</td>\n      <td>81.89</td>\n      <td>54.19</td>\n    </tr>\n    <tr>\n      <th>...</th>\n      <td>...</td>\n      <td>...</td>\n      <td>...</td>\n      <td>...</td>\n      <td>...</td>\n      <td>...</td>\n      <td>...</td>\n      <td>...</td>\n      <td>...</td>\n      <td>...</td>\n      <td>...</td>\n      <td>...</td>\n      <td>...</td>\n      <td>...</td>\n      <td>...</td>\n      <td>...</td>\n      <td>...</td>\n      <td>...</td>\n      <td>...</td>\n      <td>...</td>\n      <td>...</td>\n      <td>...</td>\n      <td>...</td>\n      <td>...</td>\n      <td>...</td>\n      <td>...</td>\n      <td>...</td>\n      <td>...</td>\n      <td>...</td>\n      <td>...</td>\n      <td>...</td>\n    </tr>\n    <tr>\n      <th>16307</th>\n      <td>6211.0</td>\n      <td>27.0</td>\n      <td>50.0</td>\n      <td>37</td>\n      <td>8.0</td>\n      <td>68.0</td>\n      <td>1.0</td>\n      <td>0</td>\n      <td>3.0</td>\n      <td>3</td>\n      <td>../data/BGR/Profilbilder_no_ruler_no_sky/NI_62...</td>\n      <td>10</td>\n      <td>0</td>\n      <td>522076.9633</td>\n      <td>5930456.114</td>\n      <td>15</td>\n      <td>1</td>\n      <td>0</td>\n      <td>8</td>\n      <td>42</td>\n      <td>1.0</td>\n      <td>110.0</td>\n      <td>0.0</td>\n      <td>0.0</td>\n      <td>0.0</td>\n      <td>0.0</td>\n      <td>0.0</td>\n      <td>2.0</td>\n      <td>5.0</td>\n      <td>117.59</td>\n      <td>87.72</td>\n    </tr>\n    <tr>\n      <th>16308</th>\n      <td>6211.0</td>\n      <td>50.0</td>\n      <td>70.0</td>\n      <td>12</td>\n      <td>8.0</td>\n      <td>38.0</td>\n      <td>1.0</td>\n      <td>0</td>\n      <td>2.0</td>\n      <td>1</td>\n      <td>../data/BGR/Profilbilder_no_ruler_no_sky/NI_62...</td>\n      <td>10</td>\n      <td>0</td>\n      <td>522076.9633</td>\n      <td>5930456.114</td>\n      <td>15</td>\n      <td>1</td>\n      <td>0</td>\n      <td>8</td>\n      <td>42</td>\n      <td>1.0</td>\n      <td>110.0</td>\n      <td>0.0</td>\n      <td>0.0</td>\n      <td>0.0</td>\n      <td>0.0</td>\n      <td>0.0</td>\n      <td>2.0</td>\n      <td>5.0</td>\n      <td>117.59</td>\n      <td>87.72</td>\n    </tr>\n    <tr>\n      <th>16309</th>\n      <td>6211.0</td>\n      <td>50.0</td>\n      <td>70.0</td>\n      <td>12</td>\n      <td>8.0</td>\n      <td>38.0</td>\n      <td>1.0</td>\n      <td>0</td>\n      <td>2.0</td>\n      <td>1</td>\n      <td>../data/BGR/Profilbilder_no_ruler_no_sky/NI_62...</td>\n      <td>10</td>\n      <td>0</td>\n      <td>522076.9633</td>\n      <td>5930456.114</td>\n      <td>15</td>\n      <td>1</td>\n      <td>0</td>\n      <td>8</td>\n      <td>42</td>\n      <td>1.0</td>\n      <td>110.0</td>\n      <td>0.0</td>\n      <td>0.0</td>\n      <td>0.0</td>\n      <td>0.0</td>\n      <td>0.0</td>\n      <td>2.0</td>\n      <td>5.0</td>\n      <td>117.59</td>\n      <td>87.72</td>\n    </tr>\n    <tr>\n      <th>16310</th>\n      <td>6211.0</td>\n      <td>70.0</td>\n      <td>100.0</td>\n      <td>74</td>\n      <td>8.0</td>\n      <td>19.0</td>\n      <td>1.0</td>\n      <td>0</td>\n      <td>2.0</td>\n      <td>6</td>\n      <td>../data/BGR/Profilbilder_no_ruler_no_sky/NI_62...</td>\n      <td>10</td>\n      <td>0</td>\n      <td>522076.9633</td>\n      <td>5930456.114</td>\n      <td>15</td>\n      <td>1</td>\n      <td>0</td>\n      <td>8</td>\n      <td>42</td>\n      <td>1.0</td>\n      <td>110.0</td>\n      <td>0.0</td>\n      <td>0.0</td>\n      <td>0.0</td>\n      <td>0.0</td>\n      <td>0.0</td>\n      <td>2.0</td>\n      <td>5.0</td>\n      <td>117.59</td>\n      <td>87.72</td>\n    </tr>\n    <tr>\n      <th>16311</th>\n      <td>6211.0</td>\n      <td>70.0</td>\n      <td>100.0</td>\n      <td>74</td>\n      <td>8.0</td>\n      <td>19.0</td>\n      <td>1.0</td>\n      <td>0</td>\n      <td>2.0</td>\n      <td>6</td>\n      <td>../data/BGR/Profilbilder_no_ruler_no_sky/NI_62...</td>\n      <td>10</td>\n      <td>0</td>\n      <td>522076.9633</td>\n      <td>5930456.114</td>\n      <td>15</td>\n      <td>1</td>\n      <td>0</td>\n      <td>8</td>\n      <td>42</td>\n      <td>1.0</td>\n      <td>110.0</td>\n      <td>0.0</td>\n      <td>0.0</td>\n      <td>0.0</td>\n      <td>0.0</td>\n      <td>0.0</td>\n      <td>2.0</td>\n      <td>5.0</td>\n      <td>117.59</td>\n      <td>87.72</td>\n    </tr>\n  </tbody>\n</table>\n<p>13621 rows × 31 columns</p>\n</div>"
     },
     "execution_count": 25,
     "metadata": {},
     "output_type": "execute_result"
    }
   ],
   "source": [
    "# Encode categorical features (NaNs are left NaNs)\n",
    "for categ in categ_features:\n",
    "    bgr_data.encode_categorical_columns(df, categ)\n",
    "df"
   ],
   "metadata": {
    "collapsed": false,
    "pycharm": {
     "name": "#%%\n"
    }
   }
  },
  {
   "cell_type": "code",
   "execution_count": 26,
   "outputs": [
    {
     "name": "stdout",
     "output_type": "stream",
     "text": [
      "<class 'pandas.core.frame.DataFrame'>\n",
      "Index: 13621 entries, 0 to 16311\n",
      "Data columns (total 31 columns):\n",
      " #   Column                   Non-Null Count  Dtype  \n",
      "---  ------                   --------------  -----  \n",
      " 0   Point                    13621 non-null  float64\n",
      " 1   Obergrenze               13621 non-null  float64\n",
      " 2   Untergrenze              13621 non-null  float64\n",
      " 3   Horizontsymbol_relevant  13621 non-null  int64  \n",
      " 4   Bodenart                 13589 non-null  float64\n",
      " 5   Bodenfarbe               13572 non-null  float64\n",
      " 6   Steine                   13621 non-null  float64\n",
      " 7   Karbonat                 13621 non-null  int64  \n",
      " 8   Humusgehaltsklasse       13615 non-null  float64\n",
      " 9   Durchwurzelung           13621 non-null  int64  \n",
      " 10  file                     13621 non-null  object \n",
      " 11  Probenahme_Monat         13621 non-null  int64  \n",
      " 12  Probenahme_Jahr          13621 non-null  int64  \n",
      " 13  xcoord                   13621 non-null  float64\n",
      " 14  ycoord                   13621 non-null  float64\n",
      " 15  Bodenklimaraum_Name      13621 non-null  int64  \n",
      " 16  Landnutzung              13621 non-null  int64  \n",
      " 17  BZE_Moor                 13621 non-null  int64  \n",
      " 18  Hauptbodentyp            13621 non-null  int64  \n",
      " 19  BodenVarTypSub           13621 non-null  int64  \n",
      " 20  GrundwaStufe             13609 non-null  float64\n",
      " 21  GrundwaStand             11401 non-null  float64\n",
      " 22  Moormaechtigkeit         13609 non-null  float64\n",
      " 23  Torfmaechtigkeit         13609 non-null  float64\n",
      " 24  Neigung                  13609 non-null  float64\n",
      " 25  Exposition               12901 non-null  float64\n",
      " 26  Woelbung                 13609 non-null  float64\n",
      " 27  Reliefformtyp            13609 non-null  float64\n",
      " 28  LageImRelief             13609 non-null  float64\n",
      " 29  KV_0_30                  13609 non-null  float64\n",
      " 30  KV_30_100                13552 non-null  float64\n",
      "dtypes: float64(20), int64(10), object(1)\n",
      "memory usage: 3.3+ MB\n"
     ]
    }
   ],
   "source": [
    "# Some columns still have NaNs\n",
    "# For now, we are replacing the missing values with the column medians\n",
    "# Any better ideas? In particular the column GrundwaStand has quite a few missing entries...\n",
    "df.info()\n",
    "df = df.fillna(df.median(numeric_only=True))"
   ],
   "metadata": {
    "collapsed": false,
    "pycharm": {
     "name": "#%%\n"
    }
   }
  },
  {
   "cell_type": "code",
   "execution_count": 27,
   "outputs": [
    {
     "data": {
      "text/plain": "3101"
     },
     "execution_count": 27,
     "metadata": {},
     "output_type": "execute_result"
    }
   ],
   "source": [
    "len(df['Point'].unique()) # number of unique images"
   ],
   "metadata": {
    "collapsed": false,
    "pycharm": {
     "name": "#%%\n"
    }
   }
  },
  {
   "cell_type": "markdown",
   "source": [
    "### Training"
   ],
   "metadata": {
    "collapsed": false
   }
  },
  {
   "cell_type": "code",
   "execution_count": 28,
   "outputs": [],
   "source": [
    "# Split variables into different categories according to their roles in the sequential training\n",
    "soil_infos = ['Bodenart', 'Bodenfarbe', 'Steine', 'Karbonat', 'Humusgehaltsklasse', 'Durchwurzelung']#, 'max_depth', 'HorizontID']\n",
    "\n",
    "geotemp_img_infos = [#'Point',\n",
    "                     'Probenahme_Monat', 'Probenahme_Jahr', 'xcoord', 'ycoord', 'Bodenklimaraum_Name', 'Landnutzung', 'BZE_Moor', 'Hauptbodentyp', 'BodenVarTypSub', 'GrundwaStufe', 'GrundwaStand',\n",
    "                     'Moormaechtigkeit', 'Torfmaechtigkeit', 'Neigung', 'Exposition', 'Woelbung', 'Reliefformtyp', 'LageImRelief', 'KV_0_30', 'KV_30_100',\n",
    "                     'file']\n",
    "\n",
    "depth_markers = ['Obergrenze', 'Untergrenze']\n",
    "\n",
    "# horizon symbols already in 'target' (see above)"
   ],
   "metadata": {
    "collapsed": false,
    "pycharm": {
     "name": "#%%\n"
    }
   }
  },
  {
   "cell_type": "code",
   "execution_count": 29,
   "outputs": [
    {
     "data": {
      "text/plain": "      index  Probenahme_Monat  Probenahme_Jahr       xcoord       ycoord  \\\n0         0                 1                7  819021.7488  5941699.083   \n1         1                 1                6  819307.3864  5935183.595   \n2         2                 8                6  826424.5503  5932240.596   \n3         3                 4                6  807568.3913  5926533.227   \n4         4                 1                6  818608.7036  5925050.271   \n...     ...               ...              ...          ...          ...   \n3342   3342                 0                6  648389.8108  5588119.501   \n3343   3343                 0                4  688216.3809  5588885.660   \n3344   3344                 0                4  701551.6557  5587919.679   \n3345   3345                 3                4  653547.6374  5581353.991   \n3346   3346                 4                5  620404.8554  5569180.493   \n\n      Bodenklimaraum_Name  Landnutzung  BZE_Moor  Hauptbodentyp  \\\n0                       7            0         0             12   \n1                       7            0         0             11   \n2                       7            0         0             10   \n3                       7            0         0             12   \n4                       7            0         0              7   \n...                   ...          ...       ...            ...   \n3342                   10            1         0              0   \n3343                   10            0         0              0   \n3344                   10            0         0              0   \n3345                   10            0         0              0   \n3346                   10            0         0              5   \n\n      BodenVarTypSub  GrundwaStufe  GrundwaStand  Moormaechtigkeit  \\\n0                770           0.0         200.0               0.0   \n1                371           0.0         200.0               0.0   \n2                 22           0.0         200.0               0.0   \n3                 44           0.0         200.0               0.0   \n4                413           2.0         200.0               0.0   \n...              ...           ...           ...               ...   \n3342             616           0.0         200.0               0.0   \n3343               9           0.0         200.0               0.0   \n3344               0           0.0         200.0               0.0   \n3345               2           0.0         200.0               0.0   \n3346               3           0.0         200.0               0.0   \n\n      Torfmaechtigkeit  Neigung  Exposition  Woelbung  Reliefformtyp  \\\n0                  0.0      3.0         1.0       1.0            0.0   \n1                  0.0      2.0         2.0       0.0            0.0   \n2                  0.0      3.0         2.0       0.0            0.0   \n3                  0.0      4.0         5.0       2.0           14.0   \n4                  0.0      3.0         5.0       0.0            4.0   \n...                ...      ...         ...       ...            ...   \n3342               0.0      8.0         7.0       7.0            0.0   \n3343               0.0      1.0         4.0       6.0            0.0   \n3344               0.0      6.0         4.0       0.0            0.0   \n3345               0.0      5.0         2.0       0.0            3.0   \n3346               0.0      1.0         3.0       0.0            0.0   \n\n      LageImRelief  KV_0_30  KV_30_100  \\\n0              1.0    38.60      21.42   \n1              3.0    34.91      11.67   \n2              1.0    42.21      34.56   \n3              3.0    37.39      13.22   \n4              1.0    48.47      16.43   \n...            ...      ...        ...   \n3342           3.0    48.82       2.46   \n3343           1.0    69.19      23.61   \n3344           1.0    75.65       9.34   \n3345           5.0    61.72      30.69   \n3346           3.0    80.30      19.58   \n\n                                                   file  \\\n0     ../data/BGR/Profilbilder_no_ruler_no_sky/BB_05...   \n1     ../data/BGR/Profilbilder_no_ruler_no_sky/BB_06...   \n2     ../data/BGR/Profilbilder_no_ruler_no_sky/BB_06...   \n3     ../data/BGR/Profilbilder_no_ruler_no_sky/BB_06...   \n4     ../data/BGR/Profilbilder_no_ruler_no_sky/BB_06...   \n...                                                 ...   \n3342  ../data/BGR/Profilbilder_no_ruler_no_sky/TH_34...   \n3343  ../data/BGR/Profilbilder_no_ruler_no_sky/TH_34...   \n3344  ../data/BGR/Profilbilder_no_ruler_no_sky/TH_34...   \n3345  ../data/BGR/Profilbilder_no_ruler_no_sky/TH_35...   \n3346  ../data/BGR/Profilbilder_no_ruler_no_sky/TH_35...   \n\n                                Untergrenze  \\\n0                 [30.0, 38.0, 50.0, 200.0]   \n1     [29.0, 40.0, 54.0, 60.0, 80.0, 201.0]   \n2                 [28.0, 50.0, 74.0, 110.0]   \n3                 [30.0, 47.0, 73.0, 102.0]   \n4           [33.0, 43.0, 71.0, 88.0, 100.0]   \n...                                     ...   \n3342               [14.0, 40.0, 60.0, 93.0]   \n3343                    [34.0, 69.0, 140.0]   \n3344              [20.0, 27.0, 70.0, 100.0]   \n3345              [31.0, 49.0, 71.0, 144.0]   \n3346                     [27.0, 70.0, 92.0]   \n\n                                Bodenart                          Bodenfarbe  \\\n0                 [3.0, 3.0, 10.0, 12.0]               [1.0, 1.0, 10.0, 5.0]   \n1     [11.0, 11.0, 6.0, 10.0, 3.0, 21.0]  [4.0, 5.0, 29.0, 30.0, 42.0, 75.0]   \n2               [10.0, 11.0, 11.0, 11.0]                [0.0, 0.0, 3.0, 3.0]   \n3                   [2.0, 2.0, 3.0, 3.0]             [0.0, 10.0, 13.0, 16.0]   \n4           [28.0, 7.0, 2.0, 20.0, 10.0]       [0.0, 15.0, 54.0, 44.0, 14.0]   \n...                                  ...                                 ...   \n3342            [15.0, 15.0, 26.0, 26.0]              [6.0, 5.0, 53.0, 53.0]   \n3343                    [4.0, 4.0, 18.0]                    [0.0, 3.0, 10.0]   \n3344            [15.0, 15.0, 15.0, 26.0]               [2.0, 2.0, 3.0, 23.0]   \n3345            [15.0, 15.0, 15.0, 33.0]               [1.0, 7.0, 5.0, 16.0]   \n3346                    [1.0, 12.0, 1.0]                   [6.0, 23.0, 31.0]   \n\n                              Steine            Karbonat  \\\n0               [2.0, 2.0, 4.0, 4.0]        [0, 0, 0, 0]   \n1     [3.0, 3.0, 3.0, 3.0, 3.0, 3.0]  [2, 0, 2, 5, 7, 5]   \n2               [4.0, 4.0, 4.0, 4.0]        [0, 0, 7, 7]   \n3               [4.0, 4.0, 2.0, 2.0]        [0, 0, 0, 0]   \n4          [1.0, 0.0, 0.0, 0.0, 0.0]     [0, 0, 0, 0, 0]   \n...                              ...                 ...   \n3342        [60.0, 75.0, 90.0, 90.0]        [0, 0, 0, 0]   \n3343              [20.0, 30.0, 25.0]           [0, 0, 0]   \n3344        [15.0, 25.0, 60.0, 90.0]        [0, 0, 0, 0]   \n3345          [5.0, 5.0, 20.0, 25.0]        [0, 0, 0, 0]   \n3346               [3.0, 10.0, 30.0]           [3, 4, 4]   \n\n                  Humusgehaltsklasse      Durchwurzelung  \\\n0               [3.0, 3.0, 0.0, 0.0]        [3, 3, 1, 2]   \n1     [1.0, 2.0, 2.0, 2.0, 2.0, 0.0]  [4, 3, 1, 1, 1, 0]   \n2               [1.0, 3.0, 2.0, 0.0]        [4, 3, 3, 1]   \n3               [1.0, 2.0, 0.0, 0.0]        [3, 1, 1, 2]   \n4          [1.0, 2.0, 2.0, 0.0, 0.0]     [3, 0, 0, 0, 0]   \n...                              ...                 ...   \n3342            [1.0, 2.0, 0.0, 0.0]        [5, 3, 1, 2]   \n3343                 [1.0, 2.0, 0.0]           [5, 3, 1]   \n3344            [1.0, 1.0, 2.0, 0.0]        [4, 1, 0, 0]   \n3345            [1.0, 2.0, 0.0, 0.0]        [3, 2, 2, 2]   \n3346                 [1.0, 2.0, 0.0]           [0, 4, 4]   \n\n       Horizontsymbol_relevant  \n0             [22, 22, 73, 76]  \n1     [22, 65, 65, 81, 81, 81]  \n2             [40, 13, 34, 34]  \n3              [22, 1, 69, 78]  \n4           [22, 0, 65, 0, 68]  \n...                        ...  \n3342          [22, 14, 62, 77]  \n3343              [22, 32, 77]  \n3344           [22, 22, 32, 0]  \n3345           [22, 32, 47, 2]  \n3346              [22, 34, 34]  \n\n[3347 rows x 30 columns]",
      "text/html": "<div>\n<style scoped>\n    .dataframe tbody tr th:only-of-type {\n        vertical-align: middle;\n    }\n\n    .dataframe tbody tr th {\n        vertical-align: top;\n    }\n\n    .dataframe thead th {\n        text-align: right;\n    }\n</style>\n<table border=\"1\" class=\"dataframe\">\n  <thead>\n    <tr style=\"text-align: right;\">\n      <th></th>\n      <th>index</th>\n      <th>Probenahme_Monat</th>\n      <th>Probenahme_Jahr</th>\n      <th>xcoord</th>\n      <th>ycoord</th>\n      <th>Bodenklimaraum_Name</th>\n      <th>Landnutzung</th>\n      <th>BZE_Moor</th>\n      <th>Hauptbodentyp</th>\n      <th>BodenVarTypSub</th>\n      <th>GrundwaStufe</th>\n      <th>GrundwaStand</th>\n      <th>Moormaechtigkeit</th>\n      <th>Torfmaechtigkeit</th>\n      <th>Neigung</th>\n      <th>Exposition</th>\n      <th>Woelbung</th>\n      <th>Reliefformtyp</th>\n      <th>LageImRelief</th>\n      <th>KV_0_30</th>\n      <th>KV_30_100</th>\n      <th>file</th>\n      <th>Untergrenze</th>\n      <th>Bodenart</th>\n      <th>Bodenfarbe</th>\n      <th>Steine</th>\n      <th>Karbonat</th>\n      <th>Humusgehaltsklasse</th>\n      <th>Durchwurzelung</th>\n      <th>Horizontsymbol_relevant</th>\n    </tr>\n  </thead>\n  <tbody>\n    <tr>\n      <th>0</th>\n      <td>0</td>\n      <td>1</td>\n      <td>7</td>\n      <td>819021.7488</td>\n      <td>5941699.083</td>\n      <td>7</td>\n      <td>0</td>\n      <td>0</td>\n      <td>12</td>\n      <td>770</td>\n      <td>0.0</td>\n      <td>200.0</td>\n      <td>0.0</td>\n      <td>0.0</td>\n      <td>3.0</td>\n      <td>1.0</td>\n      <td>1.0</td>\n      <td>0.0</td>\n      <td>1.0</td>\n      <td>38.60</td>\n      <td>21.42</td>\n      <td>../data/BGR/Profilbilder_no_ruler_no_sky/BB_05...</td>\n      <td>[30.0, 38.0, 50.0, 200.0]</td>\n      <td>[3.0, 3.0, 10.0, 12.0]</td>\n      <td>[1.0, 1.0, 10.0, 5.0]</td>\n      <td>[2.0, 2.0, 4.0, 4.0]</td>\n      <td>[0, 0, 0, 0]</td>\n      <td>[3.0, 3.0, 0.0, 0.0]</td>\n      <td>[3, 3, 1, 2]</td>\n      <td>[22, 22, 73, 76]</td>\n    </tr>\n    <tr>\n      <th>1</th>\n      <td>1</td>\n      <td>1</td>\n      <td>6</td>\n      <td>819307.3864</td>\n      <td>5935183.595</td>\n      <td>7</td>\n      <td>0</td>\n      <td>0</td>\n      <td>11</td>\n      <td>371</td>\n      <td>0.0</td>\n      <td>200.0</td>\n      <td>0.0</td>\n      <td>0.0</td>\n      <td>2.0</td>\n      <td>2.0</td>\n      <td>0.0</td>\n      <td>0.0</td>\n      <td>3.0</td>\n      <td>34.91</td>\n      <td>11.67</td>\n      <td>../data/BGR/Profilbilder_no_ruler_no_sky/BB_06...</td>\n      <td>[29.0, 40.0, 54.0, 60.0, 80.0, 201.0]</td>\n      <td>[11.0, 11.0, 6.0, 10.0, 3.0, 21.0]</td>\n      <td>[4.0, 5.0, 29.0, 30.0, 42.0, 75.0]</td>\n      <td>[3.0, 3.0, 3.0, 3.0, 3.0, 3.0]</td>\n      <td>[2, 0, 2, 5, 7, 5]</td>\n      <td>[1.0, 2.0, 2.0, 2.0, 2.0, 0.0]</td>\n      <td>[4, 3, 1, 1, 1, 0]</td>\n      <td>[22, 65, 65, 81, 81, 81]</td>\n    </tr>\n    <tr>\n      <th>2</th>\n      <td>2</td>\n      <td>8</td>\n      <td>6</td>\n      <td>826424.5503</td>\n      <td>5932240.596</td>\n      <td>7</td>\n      <td>0</td>\n      <td>0</td>\n      <td>10</td>\n      <td>22</td>\n      <td>0.0</td>\n      <td>200.0</td>\n      <td>0.0</td>\n      <td>0.0</td>\n      <td>3.0</td>\n      <td>2.0</td>\n      <td>0.0</td>\n      <td>0.0</td>\n      <td>1.0</td>\n      <td>42.21</td>\n      <td>34.56</td>\n      <td>../data/BGR/Profilbilder_no_ruler_no_sky/BB_06...</td>\n      <td>[28.0, 50.0, 74.0, 110.0]</td>\n      <td>[10.0, 11.0, 11.0, 11.0]</td>\n      <td>[0.0, 0.0, 3.0, 3.0]</td>\n      <td>[4.0, 4.0, 4.0, 4.0]</td>\n      <td>[0, 0, 7, 7]</td>\n      <td>[1.0, 3.0, 2.0, 0.0]</td>\n      <td>[4, 3, 3, 1]</td>\n      <td>[40, 13, 34, 34]</td>\n    </tr>\n    <tr>\n      <th>3</th>\n      <td>3</td>\n      <td>4</td>\n      <td>6</td>\n      <td>807568.3913</td>\n      <td>5926533.227</td>\n      <td>7</td>\n      <td>0</td>\n      <td>0</td>\n      <td>12</td>\n      <td>44</td>\n      <td>0.0</td>\n      <td>200.0</td>\n      <td>0.0</td>\n      <td>0.0</td>\n      <td>4.0</td>\n      <td>5.0</td>\n      <td>2.0</td>\n      <td>14.0</td>\n      <td>3.0</td>\n      <td>37.39</td>\n      <td>13.22</td>\n      <td>../data/BGR/Profilbilder_no_ruler_no_sky/BB_06...</td>\n      <td>[30.0, 47.0, 73.0, 102.0]</td>\n      <td>[2.0, 2.0, 3.0, 3.0]</td>\n      <td>[0.0, 10.0, 13.0, 16.0]</td>\n      <td>[4.0, 4.0, 2.0, 2.0]</td>\n      <td>[0, 0, 0, 0]</td>\n      <td>[1.0, 2.0, 0.0, 0.0]</td>\n      <td>[3, 1, 1, 2]</td>\n      <td>[22, 1, 69, 78]</td>\n    </tr>\n    <tr>\n      <th>4</th>\n      <td>4</td>\n      <td>1</td>\n      <td>6</td>\n      <td>818608.7036</td>\n      <td>5925050.271</td>\n      <td>7</td>\n      <td>0</td>\n      <td>0</td>\n      <td>7</td>\n      <td>413</td>\n      <td>2.0</td>\n      <td>200.0</td>\n      <td>0.0</td>\n      <td>0.0</td>\n      <td>3.0</td>\n      <td>5.0</td>\n      <td>0.0</td>\n      <td>4.0</td>\n      <td>1.0</td>\n      <td>48.47</td>\n      <td>16.43</td>\n      <td>../data/BGR/Profilbilder_no_ruler_no_sky/BB_06...</td>\n      <td>[33.0, 43.0, 71.0, 88.0, 100.0]</td>\n      <td>[28.0, 7.0, 2.0, 20.0, 10.0]</td>\n      <td>[0.0, 15.0, 54.0, 44.0, 14.0]</td>\n      <td>[1.0, 0.0, 0.0, 0.0, 0.0]</td>\n      <td>[0, 0, 0, 0, 0]</td>\n      <td>[1.0, 2.0, 2.0, 0.0, 0.0]</td>\n      <td>[3, 0, 0, 0, 0]</td>\n      <td>[22, 0, 65, 0, 68]</td>\n    </tr>\n    <tr>\n      <th>...</th>\n      <td>...</td>\n      <td>...</td>\n      <td>...</td>\n      <td>...</td>\n      <td>...</td>\n      <td>...</td>\n      <td>...</td>\n      <td>...</td>\n      <td>...</td>\n      <td>...</td>\n      <td>...</td>\n      <td>...</td>\n      <td>...</td>\n      <td>...</td>\n      <td>...</td>\n      <td>...</td>\n      <td>...</td>\n      <td>...</td>\n      <td>...</td>\n      <td>...</td>\n      <td>...</td>\n      <td>...</td>\n      <td>...</td>\n      <td>...</td>\n      <td>...</td>\n      <td>...</td>\n      <td>...</td>\n      <td>...</td>\n      <td>...</td>\n      <td>...</td>\n    </tr>\n    <tr>\n      <th>3342</th>\n      <td>3342</td>\n      <td>0</td>\n      <td>6</td>\n      <td>648389.8108</td>\n      <td>5588119.501</td>\n      <td>10</td>\n      <td>1</td>\n      <td>0</td>\n      <td>0</td>\n      <td>616</td>\n      <td>0.0</td>\n      <td>200.0</td>\n      <td>0.0</td>\n      <td>0.0</td>\n      <td>8.0</td>\n      <td>7.0</td>\n      <td>7.0</td>\n      <td>0.0</td>\n      <td>3.0</td>\n      <td>48.82</td>\n      <td>2.46</td>\n      <td>../data/BGR/Profilbilder_no_ruler_no_sky/TH_34...</td>\n      <td>[14.0, 40.0, 60.0, 93.0]</td>\n      <td>[15.0, 15.0, 26.0, 26.0]</td>\n      <td>[6.0, 5.0, 53.0, 53.0]</td>\n      <td>[60.0, 75.0, 90.0, 90.0]</td>\n      <td>[0, 0, 0, 0]</td>\n      <td>[1.0, 2.0, 0.0, 0.0]</td>\n      <td>[5, 3, 1, 2]</td>\n      <td>[22, 14, 62, 77]</td>\n    </tr>\n    <tr>\n      <th>3343</th>\n      <td>3343</td>\n      <td>0</td>\n      <td>4</td>\n      <td>688216.3809</td>\n      <td>5588885.660</td>\n      <td>10</td>\n      <td>0</td>\n      <td>0</td>\n      <td>0</td>\n      <td>9</td>\n      <td>0.0</td>\n      <td>200.0</td>\n      <td>0.0</td>\n      <td>0.0</td>\n      <td>1.0</td>\n      <td>4.0</td>\n      <td>6.0</td>\n      <td>0.0</td>\n      <td>1.0</td>\n      <td>69.19</td>\n      <td>23.61</td>\n      <td>../data/BGR/Profilbilder_no_ruler_no_sky/TH_34...</td>\n      <td>[34.0, 69.0, 140.0]</td>\n      <td>[4.0, 4.0, 18.0]</td>\n      <td>[0.0, 3.0, 10.0]</td>\n      <td>[20.0, 30.0, 25.0]</td>\n      <td>[0, 0, 0]</td>\n      <td>[1.0, 2.0, 0.0]</td>\n      <td>[5, 3, 1]</td>\n      <td>[22, 32, 77]</td>\n    </tr>\n    <tr>\n      <th>3344</th>\n      <td>3344</td>\n      <td>0</td>\n      <td>4</td>\n      <td>701551.6557</td>\n      <td>5587919.679</td>\n      <td>10</td>\n      <td>0</td>\n      <td>0</td>\n      <td>0</td>\n      <td>0</td>\n      <td>0.0</td>\n      <td>200.0</td>\n      <td>0.0</td>\n      <td>0.0</td>\n      <td>6.0</td>\n      <td>4.0</td>\n      <td>0.0</td>\n      <td>0.0</td>\n      <td>1.0</td>\n      <td>75.65</td>\n      <td>9.34</td>\n      <td>../data/BGR/Profilbilder_no_ruler_no_sky/TH_34...</td>\n      <td>[20.0, 27.0, 70.0, 100.0]</td>\n      <td>[15.0, 15.0, 15.0, 26.0]</td>\n      <td>[2.0, 2.0, 3.0, 23.0]</td>\n      <td>[15.0, 25.0, 60.0, 90.0]</td>\n      <td>[0, 0, 0, 0]</td>\n      <td>[1.0, 1.0, 2.0, 0.0]</td>\n      <td>[4, 1, 0, 0]</td>\n      <td>[22, 22, 32, 0]</td>\n    </tr>\n    <tr>\n      <th>3345</th>\n      <td>3345</td>\n      <td>3</td>\n      <td>4</td>\n      <td>653547.6374</td>\n      <td>5581353.991</td>\n      <td>10</td>\n      <td>0</td>\n      <td>0</td>\n      <td>0</td>\n      <td>2</td>\n      <td>0.0</td>\n      <td>200.0</td>\n      <td>0.0</td>\n      <td>0.0</td>\n      <td>5.0</td>\n      <td>2.0</td>\n      <td>0.0</td>\n      <td>3.0</td>\n      <td>5.0</td>\n      <td>61.72</td>\n      <td>30.69</td>\n      <td>../data/BGR/Profilbilder_no_ruler_no_sky/TH_35...</td>\n      <td>[31.0, 49.0, 71.0, 144.0]</td>\n      <td>[15.0, 15.0, 15.0, 33.0]</td>\n      <td>[1.0, 7.0, 5.0, 16.0]</td>\n      <td>[5.0, 5.0, 20.0, 25.0]</td>\n      <td>[0, 0, 0, 0]</td>\n      <td>[1.0, 2.0, 0.0, 0.0]</td>\n      <td>[3, 2, 2, 2]</td>\n      <td>[22, 32, 47, 2]</td>\n    </tr>\n    <tr>\n      <th>3346</th>\n      <td>3346</td>\n      <td>4</td>\n      <td>5</td>\n      <td>620404.8554</td>\n      <td>5569180.493</td>\n      <td>10</td>\n      <td>0</td>\n      <td>0</td>\n      <td>5</td>\n      <td>3</td>\n      <td>0.0</td>\n      <td>200.0</td>\n      <td>0.0</td>\n      <td>0.0</td>\n      <td>1.0</td>\n      <td>3.0</td>\n      <td>0.0</td>\n      <td>0.0</td>\n      <td>3.0</td>\n      <td>80.30</td>\n      <td>19.58</td>\n      <td>../data/BGR/Profilbilder_no_ruler_no_sky/TH_35...</td>\n      <td>[27.0, 70.0, 92.0]</td>\n      <td>[1.0, 12.0, 1.0]</td>\n      <td>[6.0, 23.0, 31.0]</td>\n      <td>[3.0, 10.0, 30.0]</td>\n      <td>[3, 4, 4]</td>\n      <td>[1.0, 2.0, 0.0]</td>\n      <td>[0, 4, 4]</td>\n      <td>[22, 34, 34]</td>\n    </tr>\n  </tbody>\n</table>\n<p>3347 rows × 30 columns</p>\n</div>"
     },
     "execution_count": 29,
     "metadata": {},
     "output_type": "execute_result"
    }
   ],
   "source": [
    "# The dataframe has one row per horizon\n",
    "# For sequential training, make it one row per full image (the depth markers and the morphological features will be stored as lists and used later as ground truth in training)\n",
    "df = df.groupby('file', as_index=False).agg({     # Group by images, not by Point, since there are sometimes several images (different angles) for the same Point\n",
    "    **{gt: 'first' for gt in geotemp_img_infos},  # Take the first value (all are the same for each image, including the image path)\n",
    "    'Untergrenze': list,                          # Combine depth markers into a list (only lower bound Untergrenze actually needed)\n",
    "    **{st: list for st in soil_infos},            # Combine tabular features into lists (in the order of the horizons top to bottom)\n",
    "    target: list\n",
    "}).reset_index()\n",
    "geotemp_img_infos = ['index'] + geotemp_img_infos # Add the new index column\n",
    "                                                  # Used only for accessing the morphological features in the dataframe\n",
    "                                                  # (they have different shapes and cannot be stacked in tensor batches)\n",
    "df"
   ],
   "metadata": {
    "collapsed": false,
    "pycharm": {
     "name": "#%%\n"
    }
   }
  },
  {
   "cell_type": "code",
   "execution_count": 30,
   "outputs": [
    {
     "data": {
      "text/plain": "      index  Probenahme_Monat  Probenahme_Jahr       xcoord       ycoord  \\\n0         0                 1                7  819021.7488  5941699.083   \n1         1                 1                6  819307.3864  5935183.595   \n2         2                 8                6  826424.5503  5932240.596   \n3         3                 4                6  807568.3913  5926533.227   \n4         4                 1                6  818608.7036  5925050.271   \n...     ...               ...              ...          ...          ...   \n3342   3342                 0                6  648389.8108  5588119.501   \n3343   3343                 0                4  688216.3809  5588885.660   \n3344   3344                 0                4  701551.6557  5587919.679   \n3345   3345                 3                4  653547.6374  5581353.991   \n3346   3346                 4                5  620404.8554  5569180.493   \n\n      Bodenklimaraum_Name  Landnutzung  BZE_Moor  Hauptbodentyp  \\\n0                       7            0         0             12   \n1                       7            0         0             11   \n2                       7            0         0             10   \n3                       7            0         0             12   \n4                       7            0         0              7   \n...                   ...          ...       ...            ...   \n3342                   10            1         0              0   \n3343                   10            0         0              0   \n3344                   10            0         0              0   \n3345                   10            0         0              0   \n3346                   10            0         0              5   \n\n      BodenVarTypSub  GrundwaStufe  GrundwaStand  Moormaechtigkeit  \\\n0                770           0.0         200.0               0.0   \n1                371           0.0         200.0               0.0   \n2                 22           0.0         200.0               0.0   \n3                 44           0.0         200.0               0.0   \n4                413           2.0         200.0               0.0   \n...              ...           ...           ...               ...   \n3342             616           0.0         200.0               0.0   \n3343               9           0.0         200.0               0.0   \n3344               0           0.0         200.0               0.0   \n3345               2           0.0         200.0               0.0   \n3346               3           0.0         200.0               0.0   \n\n      Torfmaechtigkeit  Neigung  Exposition  Woelbung  Reliefformtyp  \\\n0                  0.0      3.0         1.0       1.0            0.0   \n1                  0.0      2.0         2.0       0.0            0.0   \n2                  0.0      3.0         2.0       0.0            0.0   \n3                  0.0      4.0         5.0       2.0           14.0   \n4                  0.0      3.0         5.0       0.0            4.0   \n...                ...      ...         ...       ...            ...   \n3342               0.0      8.0         7.0       7.0            0.0   \n3343               0.0      1.0         4.0       6.0            0.0   \n3344               0.0      6.0         4.0       0.0            0.0   \n3345               0.0      5.0         2.0       0.0            3.0   \n3346               0.0      1.0         3.0       0.0            0.0   \n\n      LageImRelief  KV_0_30  KV_30_100  \\\n0              1.0    38.60      21.42   \n1              3.0    34.91      11.67   \n2              1.0    42.21      34.56   \n3              3.0    37.39      13.22   \n4              1.0    48.47      16.43   \n...            ...      ...        ...   \n3342           3.0    48.82       2.46   \n3343           1.0    69.19      23.61   \n3344           1.0    75.65       9.34   \n3345           5.0    61.72      30.69   \n3346           3.0    80.30      19.58   \n\n                                                   file  \\\n0     ../data/BGR/Profilbilder_no_ruler_no_sky/BB_05...   \n1     ../data/BGR/Profilbilder_no_ruler_no_sky/BB_06...   \n2     ../data/BGR/Profilbilder_no_ruler_no_sky/BB_06...   \n3     ../data/BGR/Profilbilder_no_ruler_no_sky/BB_06...   \n4     ../data/BGR/Profilbilder_no_ruler_no_sky/BB_06...   \n...                                                 ...   \n3342  ../data/BGR/Profilbilder_no_ruler_no_sky/TH_34...   \n3343  ../data/BGR/Profilbilder_no_ruler_no_sky/TH_34...   \n3344  ../data/BGR/Profilbilder_no_ruler_no_sky/TH_34...   \n3345  ../data/BGR/Profilbilder_no_ruler_no_sky/TH_35...   \n3346  ../data/BGR/Profilbilder_no_ruler_no_sky/TH_35...   \n\n                                Untergrenze  \\\n0                 [30.0, 38.0, 50.0, 100.0]   \n1     [29.0, 40.0, 54.0, 60.0, 80.0, 100.0]   \n2                 [28.0, 50.0, 74.0, 100.0]   \n3                 [30.0, 47.0, 73.0, 100.0]   \n4           [33.0, 43.0, 71.0, 88.0, 100.0]   \n...                                     ...   \n3342              [14.0, 40.0, 60.0, 100.0]   \n3343                    [34.0, 69.0, 100.0]   \n3344              [20.0, 27.0, 70.0, 100.0]   \n3345              [31.0, 49.0, 71.0, 100.0]   \n3346                    [27.0, 70.0, 100.0]   \n\n                                Bodenart                          Bodenfarbe  \\\n0                 [3.0, 3.0, 10.0, 12.0]               [1.0, 1.0, 10.0, 5.0]   \n1     [11.0, 11.0, 6.0, 10.0, 3.0, 21.0]  [4.0, 5.0, 29.0, 30.0, 42.0, 75.0]   \n2               [10.0, 11.0, 11.0, 11.0]                [0.0, 0.0, 3.0, 3.0]   \n3                   [2.0, 2.0, 3.0, 3.0]             [0.0, 10.0, 13.0, 16.0]   \n4           [28.0, 7.0, 2.0, 20.0, 10.0]       [0.0, 15.0, 54.0, 44.0, 14.0]   \n...                                  ...                                 ...   \n3342            [15.0, 15.0, 26.0, 26.0]              [6.0, 5.0, 53.0, 53.0]   \n3343                    [4.0, 4.0, 18.0]                    [0.0, 3.0, 10.0]   \n3344            [15.0, 15.0, 15.0, 26.0]               [2.0, 2.0, 3.0, 23.0]   \n3345            [15.0, 15.0, 15.0, 33.0]               [1.0, 7.0, 5.0, 16.0]   \n3346                    [1.0, 12.0, 1.0]                   [6.0, 23.0, 31.0]   \n\n                              Steine            Karbonat  \\\n0               [2.0, 2.0, 4.0, 4.0]        [0, 0, 0, 0]   \n1     [3.0, 3.0, 3.0, 3.0, 3.0, 3.0]  [2, 0, 2, 5, 7, 5]   \n2               [4.0, 4.0, 4.0, 4.0]        [0, 0, 7, 7]   \n3               [4.0, 4.0, 2.0, 2.0]        [0, 0, 0, 0]   \n4          [1.0, 0.0, 0.0, 0.0, 0.0]     [0, 0, 0, 0, 0]   \n...                              ...                 ...   \n3342        [60.0, 75.0, 90.0, 90.0]        [0, 0, 0, 0]   \n3343              [20.0, 30.0, 25.0]           [0, 0, 0]   \n3344        [15.0, 25.0, 60.0, 90.0]        [0, 0, 0, 0]   \n3345          [5.0, 5.0, 20.0, 25.0]        [0, 0, 0, 0]   \n3346               [3.0, 10.0, 30.0]           [3, 4, 4]   \n\n                  Humusgehaltsklasse      Durchwurzelung  \\\n0               [3.0, 3.0, 0.0, 0.0]        [3, 3, 1, 2]   \n1     [1.0, 2.0, 2.0, 2.0, 2.0, 0.0]  [4, 3, 1, 1, 1, 0]   \n2               [1.0, 3.0, 2.0, 0.0]        [4, 3, 3, 1]   \n3               [1.0, 2.0, 0.0, 0.0]        [3, 1, 1, 2]   \n4          [1.0, 2.0, 2.0, 0.0, 0.0]     [3, 0, 0, 0, 0]   \n...                              ...                 ...   \n3342            [1.0, 2.0, 0.0, 0.0]        [5, 3, 1, 2]   \n3343                 [1.0, 2.0, 0.0]           [5, 3, 1]   \n3344            [1.0, 1.0, 2.0, 0.0]        [4, 1, 0, 0]   \n3345            [1.0, 2.0, 0.0, 0.0]        [3, 2, 2, 2]   \n3346                 [1.0, 2.0, 0.0]           [0, 4, 4]   \n\n       Horizontsymbol_relevant  \n0             [22, 22, 73, 76]  \n1     [22, 65, 65, 81, 81, 81]  \n2             [40, 13, 34, 34]  \n3              [22, 1, 69, 78]  \n4           [22, 0, 65, 0, 68]  \n...                        ...  \n3342          [22, 14, 62, 77]  \n3343              [22, 32, 77]  \n3344           [22, 22, 32, 0]  \n3345           [22, 32, 47, 2]  \n3346              [22, 34, 34]  \n\n[3347 rows x 30 columns]",
      "text/html": "<div>\n<style scoped>\n    .dataframe tbody tr th:only-of-type {\n        vertical-align: middle;\n    }\n\n    .dataframe tbody tr th {\n        vertical-align: top;\n    }\n\n    .dataframe thead th {\n        text-align: right;\n    }\n</style>\n<table border=\"1\" class=\"dataframe\">\n  <thead>\n    <tr style=\"text-align: right;\">\n      <th></th>\n      <th>index</th>\n      <th>Probenahme_Monat</th>\n      <th>Probenahme_Jahr</th>\n      <th>xcoord</th>\n      <th>ycoord</th>\n      <th>Bodenklimaraum_Name</th>\n      <th>Landnutzung</th>\n      <th>BZE_Moor</th>\n      <th>Hauptbodentyp</th>\n      <th>BodenVarTypSub</th>\n      <th>GrundwaStufe</th>\n      <th>GrundwaStand</th>\n      <th>Moormaechtigkeit</th>\n      <th>Torfmaechtigkeit</th>\n      <th>Neigung</th>\n      <th>Exposition</th>\n      <th>Woelbung</th>\n      <th>Reliefformtyp</th>\n      <th>LageImRelief</th>\n      <th>KV_0_30</th>\n      <th>KV_30_100</th>\n      <th>file</th>\n      <th>Untergrenze</th>\n      <th>Bodenart</th>\n      <th>Bodenfarbe</th>\n      <th>Steine</th>\n      <th>Karbonat</th>\n      <th>Humusgehaltsklasse</th>\n      <th>Durchwurzelung</th>\n      <th>Horizontsymbol_relevant</th>\n    </tr>\n  </thead>\n  <tbody>\n    <tr>\n      <th>0</th>\n      <td>0</td>\n      <td>1</td>\n      <td>7</td>\n      <td>819021.7488</td>\n      <td>5941699.083</td>\n      <td>7</td>\n      <td>0</td>\n      <td>0</td>\n      <td>12</td>\n      <td>770</td>\n      <td>0.0</td>\n      <td>200.0</td>\n      <td>0.0</td>\n      <td>0.0</td>\n      <td>3.0</td>\n      <td>1.0</td>\n      <td>1.0</td>\n      <td>0.0</td>\n      <td>1.0</td>\n      <td>38.60</td>\n      <td>21.42</td>\n      <td>../data/BGR/Profilbilder_no_ruler_no_sky/BB_05...</td>\n      <td>[30.0, 38.0, 50.0, 100.0]</td>\n      <td>[3.0, 3.0, 10.0, 12.0]</td>\n      <td>[1.0, 1.0, 10.0, 5.0]</td>\n      <td>[2.0, 2.0, 4.0, 4.0]</td>\n      <td>[0, 0, 0, 0]</td>\n      <td>[3.0, 3.0, 0.0, 0.0]</td>\n      <td>[3, 3, 1, 2]</td>\n      <td>[22, 22, 73, 76]</td>\n    </tr>\n    <tr>\n      <th>1</th>\n      <td>1</td>\n      <td>1</td>\n      <td>6</td>\n      <td>819307.3864</td>\n      <td>5935183.595</td>\n      <td>7</td>\n      <td>0</td>\n      <td>0</td>\n      <td>11</td>\n      <td>371</td>\n      <td>0.0</td>\n      <td>200.0</td>\n      <td>0.0</td>\n      <td>0.0</td>\n      <td>2.0</td>\n      <td>2.0</td>\n      <td>0.0</td>\n      <td>0.0</td>\n      <td>3.0</td>\n      <td>34.91</td>\n      <td>11.67</td>\n      <td>../data/BGR/Profilbilder_no_ruler_no_sky/BB_06...</td>\n      <td>[29.0, 40.0, 54.0, 60.0, 80.0, 100.0]</td>\n      <td>[11.0, 11.0, 6.0, 10.0, 3.0, 21.0]</td>\n      <td>[4.0, 5.0, 29.0, 30.0, 42.0, 75.0]</td>\n      <td>[3.0, 3.0, 3.0, 3.0, 3.0, 3.0]</td>\n      <td>[2, 0, 2, 5, 7, 5]</td>\n      <td>[1.0, 2.0, 2.0, 2.0, 2.0, 0.0]</td>\n      <td>[4, 3, 1, 1, 1, 0]</td>\n      <td>[22, 65, 65, 81, 81, 81]</td>\n    </tr>\n    <tr>\n      <th>2</th>\n      <td>2</td>\n      <td>8</td>\n      <td>6</td>\n      <td>826424.5503</td>\n      <td>5932240.596</td>\n      <td>7</td>\n      <td>0</td>\n      <td>0</td>\n      <td>10</td>\n      <td>22</td>\n      <td>0.0</td>\n      <td>200.0</td>\n      <td>0.0</td>\n      <td>0.0</td>\n      <td>3.0</td>\n      <td>2.0</td>\n      <td>0.0</td>\n      <td>0.0</td>\n      <td>1.0</td>\n      <td>42.21</td>\n      <td>34.56</td>\n      <td>../data/BGR/Profilbilder_no_ruler_no_sky/BB_06...</td>\n      <td>[28.0, 50.0, 74.0, 100.0]</td>\n      <td>[10.0, 11.0, 11.0, 11.0]</td>\n      <td>[0.0, 0.0, 3.0, 3.0]</td>\n      <td>[4.0, 4.0, 4.0, 4.0]</td>\n      <td>[0, 0, 7, 7]</td>\n      <td>[1.0, 3.0, 2.0, 0.0]</td>\n      <td>[4, 3, 3, 1]</td>\n      <td>[40, 13, 34, 34]</td>\n    </tr>\n    <tr>\n      <th>3</th>\n      <td>3</td>\n      <td>4</td>\n      <td>6</td>\n      <td>807568.3913</td>\n      <td>5926533.227</td>\n      <td>7</td>\n      <td>0</td>\n      <td>0</td>\n      <td>12</td>\n      <td>44</td>\n      <td>0.0</td>\n      <td>200.0</td>\n      <td>0.0</td>\n      <td>0.0</td>\n      <td>4.0</td>\n      <td>5.0</td>\n      <td>2.0</td>\n      <td>14.0</td>\n      <td>3.0</td>\n      <td>37.39</td>\n      <td>13.22</td>\n      <td>../data/BGR/Profilbilder_no_ruler_no_sky/BB_06...</td>\n      <td>[30.0, 47.0, 73.0, 100.0]</td>\n      <td>[2.0, 2.0, 3.0, 3.0]</td>\n      <td>[0.0, 10.0, 13.0, 16.0]</td>\n      <td>[4.0, 4.0, 2.0, 2.0]</td>\n      <td>[0, 0, 0, 0]</td>\n      <td>[1.0, 2.0, 0.0, 0.0]</td>\n      <td>[3, 1, 1, 2]</td>\n      <td>[22, 1, 69, 78]</td>\n    </tr>\n    <tr>\n      <th>4</th>\n      <td>4</td>\n      <td>1</td>\n      <td>6</td>\n      <td>818608.7036</td>\n      <td>5925050.271</td>\n      <td>7</td>\n      <td>0</td>\n      <td>0</td>\n      <td>7</td>\n      <td>413</td>\n      <td>2.0</td>\n      <td>200.0</td>\n      <td>0.0</td>\n      <td>0.0</td>\n      <td>3.0</td>\n      <td>5.0</td>\n      <td>0.0</td>\n      <td>4.0</td>\n      <td>1.0</td>\n      <td>48.47</td>\n      <td>16.43</td>\n      <td>../data/BGR/Profilbilder_no_ruler_no_sky/BB_06...</td>\n      <td>[33.0, 43.0, 71.0, 88.0, 100.0]</td>\n      <td>[28.0, 7.0, 2.0, 20.0, 10.0]</td>\n      <td>[0.0, 15.0, 54.0, 44.0, 14.0]</td>\n      <td>[1.0, 0.0, 0.0, 0.0, 0.0]</td>\n      <td>[0, 0, 0, 0, 0]</td>\n      <td>[1.0, 2.0, 2.0, 0.0, 0.0]</td>\n      <td>[3, 0, 0, 0, 0]</td>\n      <td>[22, 0, 65, 0, 68]</td>\n    </tr>\n    <tr>\n      <th>...</th>\n      <td>...</td>\n      <td>...</td>\n      <td>...</td>\n      <td>...</td>\n      <td>...</td>\n      <td>...</td>\n      <td>...</td>\n      <td>...</td>\n      <td>...</td>\n      <td>...</td>\n      <td>...</td>\n      <td>...</td>\n      <td>...</td>\n      <td>...</td>\n      <td>...</td>\n      <td>...</td>\n      <td>...</td>\n      <td>...</td>\n      <td>...</td>\n      <td>...</td>\n      <td>...</td>\n      <td>...</td>\n      <td>...</td>\n      <td>...</td>\n      <td>...</td>\n      <td>...</td>\n      <td>...</td>\n      <td>...</td>\n      <td>...</td>\n      <td>...</td>\n    </tr>\n    <tr>\n      <th>3342</th>\n      <td>3342</td>\n      <td>0</td>\n      <td>6</td>\n      <td>648389.8108</td>\n      <td>5588119.501</td>\n      <td>10</td>\n      <td>1</td>\n      <td>0</td>\n      <td>0</td>\n      <td>616</td>\n      <td>0.0</td>\n      <td>200.0</td>\n      <td>0.0</td>\n      <td>0.0</td>\n      <td>8.0</td>\n      <td>7.0</td>\n      <td>7.0</td>\n      <td>0.0</td>\n      <td>3.0</td>\n      <td>48.82</td>\n      <td>2.46</td>\n      <td>../data/BGR/Profilbilder_no_ruler_no_sky/TH_34...</td>\n      <td>[14.0, 40.0, 60.0, 100.0]</td>\n      <td>[15.0, 15.0, 26.0, 26.0]</td>\n      <td>[6.0, 5.0, 53.0, 53.0]</td>\n      <td>[60.0, 75.0, 90.0, 90.0]</td>\n      <td>[0, 0, 0, 0]</td>\n      <td>[1.0, 2.0, 0.0, 0.0]</td>\n      <td>[5, 3, 1, 2]</td>\n      <td>[22, 14, 62, 77]</td>\n    </tr>\n    <tr>\n      <th>3343</th>\n      <td>3343</td>\n      <td>0</td>\n      <td>4</td>\n      <td>688216.3809</td>\n      <td>5588885.660</td>\n      <td>10</td>\n      <td>0</td>\n      <td>0</td>\n      <td>0</td>\n      <td>9</td>\n      <td>0.0</td>\n      <td>200.0</td>\n      <td>0.0</td>\n      <td>0.0</td>\n      <td>1.0</td>\n      <td>4.0</td>\n      <td>6.0</td>\n      <td>0.0</td>\n      <td>1.0</td>\n      <td>69.19</td>\n      <td>23.61</td>\n      <td>../data/BGR/Profilbilder_no_ruler_no_sky/TH_34...</td>\n      <td>[34.0, 69.0, 100.0]</td>\n      <td>[4.0, 4.0, 18.0]</td>\n      <td>[0.0, 3.0, 10.0]</td>\n      <td>[20.0, 30.0, 25.0]</td>\n      <td>[0, 0, 0]</td>\n      <td>[1.0, 2.0, 0.0]</td>\n      <td>[5, 3, 1]</td>\n      <td>[22, 32, 77]</td>\n    </tr>\n    <tr>\n      <th>3344</th>\n      <td>3344</td>\n      <td>0</td>\n      <td>4</td>\n      <td>701551.6557</td>\n      <td>5587919.679</td>\n      <td>10</td>\n      <td>0</td>\n      <td>0</td>\n      <td>0</td>\n      <td>0</td>\n      <td>0.0</td>\n      <td>200.0</td>\n      <td>0.0</td>\n      <td>0.0</td>\n      <td>6.0</td>\n      <td>4.0</td>\n      <td>0.0</td>\n      <td>0.0</td>\n      <td>1.0</td>\n      <td>75.65</td>\n      <td>9.34</td>\n      <td>../data/BGR/Profilbilder_no_ruler_no_sky/TH_34...</td>\n      <td>[20.0, 27.0, 70.0, 100.0]</td>\n      <td>[15.0, 15.0, 15.0, 26.0]</td>\n      <td>[2.0, 2.0, 3.0, 23.0]</td>\n      <td>[15.0, 25.0, 60.0, 90.0]</td>\n      <td>[0, 0, 0, 0]</td>\n      <td>[1.0, 1.0, 2.0, 0.0]</td>\n      <td>[4, 1, 0, 0]</td>\n      <td>[22, 22, 32, 0]</td>\n    </tr>\n    <tr>\n      <th>3345</th>\n      <td>3345</td>\n      <td>3</td>\n      <td>4</td>\n      <td>653547.6374</td>\n      <td>5581353.991</td>\n      <td>10</td>\n      <td>0</td>\n      <td>0</td>\n      <td>0</td>\n      <td>2</td>\n      <td>0.0</td>\n      <td>200.0</td>\n      <td>0.0</td>\n      <td>0.0</td>\n      <td>5.0</td>\n      <td>2.0</td>\n      <td>0.0</td>\n      <td>3.0</td>\n      <td>5.0</td>\n      <td>61.72</td>\n      <td>30.69</td>\n      <td>../data/BGR/Profilbilder_no_ruler_no_sky/TH_35...</td>\n      <td>[31.0, 49.0, 71.0, 100.0]</td>\n      <td>[15.0, 15.0, 15.0, 33.0]</td>\n      <td>[1.0, 7.0, 5.0, 16.0]</td>\n      <td>[5.0, 5.0, 20.0, 25.0]</td>\n      <td>[0, 0, 0, 0]</td>\n      <td>[1.0, 2.0, 0.0, 0.0]</td>\n      <td>[3, 2, 2, 2]</td>\n      <td>[22, 32, 47, 2]</td>\n    </tr>\n    <tr>\n      <th>3346</th>\n      <td>3346</td>\n      <td>4</td>\n      <td>5</td>\n      <td>620404.8554</td>\n      <td>5569180.493</td>\n      <td>10</td>\n      <td>0</td>\n      <td>0</td>\n      <td>5</td>\n      <td>3</td>\n      <td>0.0</td>\n      <td>200.0</td>\n      <td>0.0</td>\n      <td>0.0</td>\n      <td>1.0</td>\n      <td>3.0</td>\n      <td>0.0</td>\n      <td>0.0</td>\n      <td>3.0</td>\n      <td>80.30</td>\n      <td>19.58</td>\n      <td>../data/BGR/Profilbilder_no_ruler_no_sky/TH_35...</td>\n      <td>[27.0, 70.0, 100.0]</td>\n      <td>[1.0, 12.0, 1.0]</td>\n      <td>[6.0, 23.0, 31.0]</td>\n      <td>[3.0, 10.0, 30.0]</td>\n      <td>[3, 4, 4]</td>\n      <td>[1.0, 2.0, 0.0]</td>\n      <td>[0, 4, 4]</td>\n      <td>[22, 34, 34]</td>\n    </tr>\n  </tbody>\n</table>\n<p>3347 rows × 30 columns</p>\n</div>"
     },
     "execution_count": 30,
     "metadata": {},
     "output_type": "execute_result"
    }
   ],
   "source": [
    "# Only rows with Obergrenze < 100 were kept. This lead to some Untergrenze values still being above 100.\n",
    "# Round these down to 100 for a correct loss calculation (see depth_marker_loss)\n",
    "def modify_df_list(lst):\n",
    "    lst[-1] = 100.0\n",
    "    return lst\n",
    "df['Untergrenze'] = df['Untergrenze'].apply(modify_df_list)\n",
    "df"
   ],
   "metadata": {
    "collapsed": false,
    "pycharm": {
     "name": "#%%\n"
    }
   }
  },
  {
   "cell_type": "code",
   "execution_count": 31,
   "outputs": [
    {
     "name": "stdout",
     "output_type": "stream",
     "text": [
      "Minimum number of horizons: 2\n",
      "Maximum number of horizons: 8\n"
     ]
    }
   ],
   "source": [
    "# Get the lengths of the lists in the 'Untergrenze' column\n",
    "list_lengths = df['Untergrenze'].apply(len)\n",
    "\n",
    "min_length = list_lengths.min()\n",
    "max_length = list_lengths.max()\n",
    "\n",
    "print(f\"Minimum number of horizons: {min_length}\")\n",
    "print(f\"Maximum number of horizons: {max_length}\")"
   ],
   "metadata": {
    "collapsed": false,
    "pycharm": {
     "name": "#%%\n"
    }
   }
  },
  {
   "cell_type": "code",
   "execution_count": 32,
   "outputs": [
    {
     "name": "stdout",
     "output_type": "stream",
     "text": [
      "List with minimum length: [32.0, 100.0]\n",
      "List with maximum length: [13.0, 26.0, 40.0, 58.0, 68.0, 83.0, 98.0, 100.0]\n"
     ]
    }
   ],
   "source": [
    "min_length_list = df[df['Untergrenze'].apply(len) == min_length]['Untergrenze'].values[0]\n",
    "max_length_list = df[df['Untergrenze'].apply(len) == max_length]['Untergrenze'].values[0]\n",
    "print(f\"List with minimum length: {min_length_list}\")\n",
    "print(f\"List with maximum length: {max_length_list}\")"
   ],
   "metadata": {
    "collapsed": false,
    "pycharm": {
     "name": "#%%\n"
    }
   }
  },
  {
   "cell_type": "code",
   "execution_count": 33,
   "outputs": [],
   "source": [
    "# Define the image normalization\n",
    "normalize = transforms.Compose([\n",
    "    transforms.ToTensor(),\n",
    "    transforms.Normalize(mean=[0.485, 0.456, 0.406], std=[0.229, 0.224, 0.225]), # Normalize with ImageNet statistics\n",
    "])"
   ],
   "metadata": {
    "collapsed": false,
    "pycharm": {
     "name": "#%%\n"
    }
   }
  },
  {
   "cell_type": "code",
   "execution_count": 34,
   "outputs": [
    {
     "data": {
      "text/plain": "HorizonClassifier(\n  (image_encoder): ImageEncoder(\n    (cnn): ResNet(\n      (conv1): Conv2d(3, 64, kernel_size=(7, 7), stride=(2, 2), padding=(3, 3), bias=False)\n      (bn1): BatchNorm2d(64, eps=1e-05, momentum=0.1, affine=True, track_running_stats=True)\n      (relu): ReLU(inplace=True)\n      (maxpool): MaxPool2d(kernel_size=3, stride=2, padding=1, dilation=1, ceil_mode=False)\n      (layer1): Sequential(\n        (0): BasicBlock(\n          (conv1): Conv2d(64, 64, kernel_size=(3, 3), stride=(1, 1), padding=(1, 1), bias=False)\n          (bn1): BatchNorm2d(64, eps=1e-05, momentum=0.1, affine=True, track_running_stats=True)\n          (relu): ReLU(inplace=True)\n          (conv2): Conv2d(64, 64, kernel_size=(3, 3), stride=(1, 1), padding=(1, 1), bias=False)\n          (bn2): BatchNorm2d(64, eps=1e-05, momentum=0.1, affine=True, track_running_stats=True)\n        )\n        (1): BasicBlock(\n          (conv1): Conv2d(64, 64, kernel_size=(3, 3), stride=(1, 1), padding=(1, 1), bias=False)\n          (bn1): BatchNorm2d(64, eps=1e-05, momentum=0.1, affine=True, track_running_stats=True)\n          (relu): ReLU(inplace=True)\n          (conv2): Conv2d(64, 64, kernel_size=(3, 3), stride=(1, 1), padding=(1, 1), bias=False)\n          (bn2): BatchNorm2d(64, eps=1e-05, momentum=0.1, affine=True, track_running_stats=True)\n        )\n      )\n      (layer2): Sequential(\n        (0): BasicBlock(\n          (conv1): Conv2d(64, 128, kernel_size=(3, 3), stride=(2, 2), padding=(1, 1), bias=False)\n          (bn1): BatchNorm2d(128, eps=1e-05, momentum=0.1, affine=True, track_running_stats=True)\n          (relu): ReLU(inplace=True)\n          (conv2): Conv2d(128, 128, kernel_size=(3, 3), stride=(1, 1), padding=(1, 1), bias=False)\n          (bn2): BatchNorm2d(128, eps=1e-05, momentum=0.1, affine=True, track_running_stats=True)\n          (downsample): Sequential(\n            (0): Conv2d(64, 128, kernel_size=(1, 1), stride=(2, 2), bias=False)\n            (1): BatchNorm2d(128, eps=1e-05, momentum=0.1, affine=True, track_running_stats=True)\n          )\n        )\n        (1): BasicBlock(\n          (conv1): Conv2d(128, 128, kernel_size=(3, 3), stride=(1, 1), padding=(1, 1), bias=False)\n          (bn1): BatchNorm2d(128, eps=1e-05, momentum=0.1, affine=True, track_running_stats=True)\n          (relu): ReLU(inplace=True)\n          (conv2): Conv2d(128, 128, kernel_size=(3, 3), stride=(1, 1), padding=(1, 1), bias=False)\n          (bn2): BatchNorm2d(128, eps=1e-05, momentum=0.1, affine=True, track_running_stats=True)\n        )\n      )\n      (layer3): Sequential(\n        (0): BasicBlock(\n          (conv1): Conv2d(128, 256, kernel_size=(3, 3), stride=(2, 2), padding=(1, 1), bias=False)\n          (bn1): BatchNorm2d(256, eps=1e-05, momentum=0.1, affine=True, track_running_stats=True)\n          (relu): ReLU(inplace=True)\n          (conv2): Conv2d(256, 256, kernel_size=(3, 3), stride=(1, 1), padding=(1, 1), bias=False)\n          (bn2): BatchNorm2d(256, eps=1e-05, momentum=0.1, affine=True, track_running_stats=True)\n          (downsample): Sequential(\n            (0): Conv2d(128, 256, kernel_size=(1, 1), stride=(2, 2), bias=False)\n            (1): BatchNorm2d(256, eps=1e-05, momentum=0.1, affine=True, track_running_stats=True)\n          )\n        )\n        (1): BasicBlock(\n          (conv1): Conv2d(256, 256, kernel_size=(3, 3), stride=(1, 1), padding=(1, 1), bias=False)\n          (bn1): BatchNorm2d(256, eps=1e-05, momentum=0.1, affine=True, track_running_stats=True)\n          (relu): ReLU(inplace=True)\n          (conv2): Conv2d(256, 256, kernel_size=(3, 3), stride=(1, 1), padding=(1, 1), bias=False)\n          (bn2): BatchNorm2d(256, eps=1e-05, momentum=0.1, affine=True, track_running_stats=True)\n        )\n      )\n      (layer4): Sequential(\n        (0): BasicBlock(\n          (conv1): Conv2d(256, 512, kernel_size=(3, 3), stride=(2, 2), padding=(1, 1), bias=False)\n          (bn1): BatchNorm2d(512, eps=1e-05, momentum=0.1, affine=True, track_running_stats=True)\n          (relu): ReLU(inplace=True)\n          (conv2): Conv2d(512, 512, kernel_size=(3, 3), stride=(1, 1), padding=(1, 1), bias=False)\n          (bn2): BatchNorm2d(512, eps=1e-05, momentum=0.1, affine=True, track_running_stats=True)\n          (downsample): Sequential(\n            (0): Conv2d(256, 512, kernel_size=(1, 1), stride=(2, 2), bias=False)\n            (1): BatchNorm2d(512, eps=1e-05, momentum=0.1, affine=True, track_running_stats=True)\n          )\n        )\n        (1): BasicBlock(\n          (conv1): Conv2d(512, 512, kernel_size=(3, 3), stride=(1, 1), padding=(1, 1), bias=False)\n          (bn1): BatchNorm2d(512, eps=1e-05, momentum=0.1, affine=True, track_running_stats=True)\n          (relu): ReLU(inplace=True)\n          (conv2): Conv2d(512, 512, kernel_size=(3, 3), stride=(1, 1), padding=(1, 1), bias=False)\n          (bn2): BatchNorm2d(512, eps=1e-05, momentum=0.1, affine=True, track_running_stats=True)\n        )\n      )\n      (avgpool): AdaptiveAvgPool2d(output_size=(1, 1))\n      (fc): Identity()\n    )\n  )\n  (geo_temp_encoder): GeoTemporalEncoder(\n    (encoder): Sequential(\n      (0): Linear(in_features=21, out_features=64, bias=True)\n      (1): ReLU()\n      (2): Linear(in_features=64, out_features=32, bias=True)\n      (3): ReLU()\n    )\n  )\n  (depth_marker_predictor): DepthMarkerPredictor(\n    (fc): Sequential(\n      (0): Linear(in_features=544, out_features=128, bias=True)\n      (1): ReLU()\n      (2): Linear(in_features=128, out_features=128, bias=True)\n    )\n    (transformer): TransformerEncoder(\n      (layers): ModuleList(\n        (0): TransformerEncoderLayer(\n          (self_attn): MultiheadAttention(\n            (out_proj): NonDynamicallyQuantizableLinear(in_features=128, out_features=128, bias=True)\n          )\n          (linear1): Linear(in_features=128, out_features=2048, bias=True)\n          (dropout): Dropout(p=0.1, inplace=False)\n          (linear2): Linear(in_features=2048, out_features=128, bias=True)\n          (norm1): LayerNorm((128,), eps=1e-05, elementwise_affine=True)\n          (norm2): LayerNorm((128,), eps=1e-05, elementwise_affine=True)\n          (dropout1): Dropout(p=0.1, inplace=False)\n          (dropout2): Dropout(p=0.1, inplace=False)\n        )\n        (1): TransformerEncoderLayer(\n          (self_attn): MultiheadAttention(\n            (out_proj): NonDynamicallyQuantizableLinear(in_features=128, out_features=128, bias=True)\n          )\n          (linear1): Linear(in_features=128, out_features=2048, bias=True)\n          (dropout): Dropout(p=0.1, inplace=False)\n          (linear2): Linear(in_features=2048, out_features=128, bias=True)\n          (norm1): LayerNorm((128,), eps=1e-05, elementwise_affine=True)\n          (norm2): LayerNorm((128,), eps=1e-05, elementwise_affine=True)\n          (dropout1): Dropout(p=0.1, inplace=False)\n          (dropout2): Dropout(p=0.1, inplace=False)\n        )\n      )\n    )\n    (predictor): Linear(in_features=128, out_features=1, bias=True)\n  )\n)"
     },
     "execution_count": 34,
     "metadata": {},
     "output_type": "execute_result"
    }
   ],
   "source": [
    "# Initialize model\n",
    "#num_classes = len(df[target].unique()) # for one-hot encoding\n",
    "#num_classes = emb_dict['embedding'].shape[1] # for HCE (the dim. of final layer in the model should match the dim of the embedded label vectors)\n",
    "model = bgr_mod.HorizonClassifier(geo_temp_input_dim=len(geotemp_img_infos)-1, # without counting the img path\n",
    "                                  max_seq_len = max_length,                    # fixed from longest list of horizons in one image from dataset\n",
    "                                  stop_token = 100)                            # End of Sequence Token at -100 meters\n",
    "\n",
    "device = torch.device(\"cuda:0\" if torch.cuda.is_available() else \"cpu\")\n",
    "model.to(device)"
   ],
   "metadata": {
    "collapsed": false,
    "pycharm": {
     "name": "#%%\n"
    }
   }
  },
  {
   "cell_type": "code",
   "execution_count": 35,
   "outputs": [
    {
     "name": "stdout",
     "output_type": "stream",
     "text": [
      "2510 samples for training.\n",
      "837 samples for validating.\n"
     ]
    }
   ],
   "source": [
    "# Data split\n",
    "#train_df, val_df = train_test_split(df, stratify=df[target], random_state=2024)\n",
    "train_df, val_df = train_test_split(df, random_state=2024)\n",
    "\n",
    "print(f'{len(train_df)} samples for training.')\n",
    "print(f'{len(val_df)} samples for validating.')"
   ],
   "metadata": {
    "collapsed": false,
    "pycharm": {
     "name": "#%%\n"
    }
   }
  },
  {
   "cell_type": "code",
   "execution_count": 36,
   "outputs": [],
   "source": [
    "# Define the image transforms for augmentation\n",
    "augment = [\n",
    "    transforms.ColorJitter(brightness=0.3, contrast=0.3, saturation=0.3, hue=0.1),\n",
    "    transforms.GaussianBlur(kernel_size=(5, 5), sigma=(1., 3.))\n",
    "]"
   ],
   "metadata": {
    "collapsed": false,
    "pycharm": {
     "name": "#%%\n"
    }
   }
  },
  {
   "cell_type": "code",
   "execution_count": 37,
   "outputs": [],
   "source": [
    "# Create Dataset object with image and tabular features\n",
    "train_dataset = bgr_data.ImageTabularDataset(dataframe=train_df,#[:100],\n",
    "                                             normalize=normalize,\n",
    "                                             augment=augment,\n",
    "                                             image_path='file',\n",
    "                                             #label=depth_markers[1], # predict list of lower boundaries (Untergrenze)\n",
    "                                             label=None, # no label column as input; access it instead via Point during training\n",
    "                                             feature_columns=geotemp_img_infos[:-1])\n",
    "\n",
    "train_loader = DataLoader(train_dataset, batch_size=64, shuffle=True, num_workers=16)\n",
    "\n",
    "# Training parameters\n",
    "optimizer = optim.AdamW(model.parameters(), lr=1e-3, weight_decay=1e-4)\n",
    "#criterion = nn.CrossEntropyLoss()\n",
    "#criterion = TopKLoss(k=5)\n",
    "#criterion = nn.CosineEmbeddingLoss() # for HCE: 1 - cos(prediction, target)\n",
    "criterion = DepthMarkerLoss()\n",
    "\n",
    "# Note: Is MSE better for HCE?"
   ],
   "metadata": {
    "collapsed": false,
    "pycharm": {
     "name": "#%%\n"
    }
   }
  },
  {
   "cell_type": "code",
   "execution_count": 38,
   "outputs": [],
   "source": [
    "### Callbacks\n",
    "scheduler = torch.optim.lr_scheduler.ReduceLROnPlateau(optimizer, mode='min', factor=0.1, patience=3, threshold=0.1, min_lr=1e-5, verbose=True)\n",
    "early_stopping = EarlyStopping(patience=10, min_delta=0.01, verbose=True) # looks at val_loss (see callbacks.py)"
   ],
   "metadata": {
    "collapsed": false,
    "pycharm": {
     "name": "#%%\n"
    }
   }
  },
  {
   "cell_type": "code",
   "execution_count": 39,
   "outputs": [
    {
     "name": "stdout",
     "output_type": "stream",
     "text": [
      "Training size original: 2510\n",
      "Training size after augmentation: 7530\n"
     ]
    }
   ],
   "source": [
    "print(f\"Training size original: {len(train_dataset.dataframe)}\")\n",
    "print(f\"Training size after augmentation: {len(train_dataset)}\")"
   ],
   "metadata": {
    "collapsed": false,
    "pycharm": {
     "name": "#%%\n"
    }
   }
  },
  {
   "cell_type": "code",
   "execution_count": 40,
   "outputs": [
    {
     "name": "stderr",
     "output_type": "stream",
     "text": [
      "Clipping input data to the valid range for imshow with RGB data ([0..1] for floats or [0..255] for integers).\n",
      "Clipping input data to the valid range for imshow with RGB data ([0..1] for floats or [0..255] for integers).\n",
      "Clipping input data to the valid range for imshow with RGB data ([0..1] for floats or [0..255] for integers).\n"
     ]
    },
    {
     "name": "stdout",
     "output_type": "stream",
     "text": [
      "Image 0\n",
      "tensor([1.7890e+03, 7.0000e+00, 0.0000e+00, 5.0506e+05, 5.8320e+06, 6.0000e+00,\n",
      "        0.0000e+00, 0.0000e+00, 0.0000e+00, 2.0000e+00, 0.0000e+00, 2.0000e+02,\n",
      "        0.0000e+00, 0.0000e+00, 3.0000e+00, 2.0000e+00, 2.0000e+00, 0.0000e+00,\n",
      "        3.0000e+00, 5.3780e+01, 1.5110e+01])\n",
      "Image 1\n",
      "tensor([1.7890e+03, 7.0000e+00, 0.0000e+00, 5.0506e+05, 5.8320e+06, 6.0000e+00,\n",
      "        0.0000e+00, 0.0000e+00, 0.0000e+00, 2.0000e+00, 0.0000e+00, 2.0000e+02,\n",
      "        0.0000e+00, 0.0000e+00, 3.0000e+00, 2.0000e+00, 2.0000e+00, 0.0000e+00,\n",
      "        3.0000e+00, 5.3780e+01, 1.5110e+01])\n",
      "Image 2\n",
      "tensor([1.7890e+03, 7.0000e+00, 0.0000e+00, 5.0506e+05, 5.8320e+06, 6.0000e+00,\n",
      "        0.0000e+00, 0.0000e+00, 0.0000e+00, 2.0000e+00, 0.0000e+00, 2.0000e+02,\n",
      "        0.0000e+00, 0.0000e+00, 3.0000e+00, 2.0000e+00, 2.0000e+00, 0.0000e+00,\n",
      "        3.0000e+00, 5.3780e+01, 1.5110e+01])\n"
     ]
    },
    {
     "data": {
      "text/plain": "<Figure size 720x576 with 3 Axes>",
      "image/svg+xml": "<?xml version=\"1.0\" encoding=\"utf-8\" standalone=\"no\"?>\n<!DOCTYPE svg PUBLIC \"-//W3C//DTD SVG 1.1//EN\"\n  \"http://www.w3.org/Graphics/SVG/1.1/DTD/svg11.dtd\">\n<svg xmlns:xlink=\"http://www.w3.org/1999/xlink\" width=\"572.4pt\" height=\"178.517647pt\" viewBox=\"0 0 572.4 178.517647\" xmlns=\"http://www.w3.org/2000/svg\" version=\"1.1\">\n <metadata>\n  <rdf:RDF xmlns:dc=\"http://purl.org/dc/elements/1.1/\" xmlns:cc=\"http://creativecommons.org/ns#\" xmlns:rdf=\"http://www.w3.org/1999/02/22-rdf-syntax-ns#\">\n   <cc:Work>\n    <dc:type rdf:resource=\"http://purl.org/dc/dcmitype/StillImage\"/>\n    <dc:date>2025-01-23T18:46:27.437439</dc:date>\n    <dc:format>image/svg+xml</dc:format>\n    <dc:creator>\n     <cc:Agent>\n      <dc:title>Matplotlib v3.5.1, https://matplotlib.org/</dc:title>\n     </cc:Agent>\n    </dc:creator>\n   </cc:Work>\n  </rdf:RDF>\n </metadata>\n <defs>\n  <style type=\"text/css\">*{stroke-linejoin: round; stroke-linecap: butt}</style>\n </defs>\n <g id=\"figure_1\">\n  <g id=\"patch_1\">\n   <path d=\"M 0 178.517647 \nL 572.4 178.517647 \nL 572.4 0 \nL 0 0 \nL 0 178.517647 \nz\n\" style=\"fill: none\"/>\n  </g>\n  <g id=\"axes_1\">\n   <g clip-path=\"url(#p88965ff3c6)\">\n    <image xlink:href=\"data:image/png;base64,\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\" id=\"imagee52d0f6b89\" transform=\"scale(1 -1)translate(0 -165)\" x=\"7.2\" y=\"-6.317647\" width=\"165\" height=\"165\"/>\n   </g>\n  </g>\n  <g id=\"axes_2\">\n   <g clip-path=\"url(#pce840c8ce6)\">\n    <image xlink:href=\"data:image/png;base64,\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\" id=\"image34471d3bbc\" transform=\"scale(1 -1)translate(0 -165)\" x=\"204.141176\" y=\"-6.317647\" width=\"165\" height=\"165\"/>\n   </g>\n  </g>\n  <g id=\"axes_3\">\n   <g clip-path=\"url(#p8b836d8dbd)\">\n    <image xlink:href=\"data:image/png;base64,\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\" id=\"image0ff1d9e3f3\" transform=\"scale(1 -1)translate(0 -165)\" x=\"401.082353\" y=\"-6.317647\" width=\"165\" height=\"165\"/>\n   </g>\n  </g>\n </g>\n <defs>\n  <clipPath id=\"p88965ff3c6\">\n   <rect x=\"7.2\" y=\"7.2\" width=\"164.117647\" height=\"164.117647\"/>\n  </clipPath>\n  <clipPath id=\"pce840c8ce6\">\n   <rect x=\"204.141176\" y=\"7.2\" width=\"164.117647\" height=\"164.117647\"/>\n  </clipPath>\n  <clipPath id=\"p8b836d8dbd\">\n   <rect x=\"401.082353\" y=\"7.2\" width=\"164.117647\" height=\"164.117647\"/>\n  </clipPath>\n </defs>\n</svg>\n"
     },
     "metadata": {
      "needs_background": "light"
     },
     "output_type": "display_data"
    }
   ],
   "source": [
    "# Check an augmented subset\n",
    "aug_images = []\n",
    "for i in range(len(train_dataset)):\n",
    "    image, tabular_features = train_dataset[i]\n",
    "    aug_images.append(image)\n",
    "    print(f\"Image {i}\")\n",
    "    print(tabular_features)\n",
    "    if i == 2: break\n",
    "\n",
    "plt.figure(figsize=(10, 8))\n",
    "for i in range(len(aug_images)):\n",
    "    plt.subplot(1, 3, i+1)\n",
    "    plt.imshow(aug_images[i].swapaxes(0,2).swapaxes(0,1)) # returned shape is (c, h, w)\n",
    "    plt.axis('off')"
   ],
   "metadata": {
    "collapsed": false,
    "pycharm": {
     "name": "#%%\n"
    }
   }
  },
  {
   "cell_type": "code",
   "execution_count": 41,
   "outputs": [],
   "source": [
    "val_dataset = bgr_data.ImageTabularDataset(dataframe=val_df,#[:100],\n",
    "                                           normalize=normalize,\n",
    "                                           image_path='file',\n",
    "                                           #label=depth_markers[1],\n",
    "                                           label=None,\n",
    "                                           feature_columns=geotemp_img_infos[:-1])\n",
    "\n",
    "val_loader = DataLoader(val_dataset, batch_size=64, shuffle=True, num_workers=16)"
   ],
   "metadata": {
    "collapsed": false,
    "pycharm": {
     "name": "#%%\n"
    }
   }
  },
  {
   "cell_type": "code",
   "execution_count": 42,
   "outputs": [],
   "source": [
    "#criterion = nn.CrossEntropyLoss()\n",
    "criterion = DepthMarkerLoss()\n",
    "#criterion = nn.MSELoss()"
   ],
   "metadata": {
    "collapsed": false,
    "pycharm": {
     "name": "#%%\n"
    }
   }
  },
  {
   "cell_type": "code",
   "execution_count": 43,
   "outputs": [],
   "source": [
    "def pad_tensor(true_depths, max_seq_len, stop_token, device='cpu'):\n",
    "    \"\"\"true_depths is a list with lists of variable lengths.\n",
    "    we turn it into a tensor of padded tensors.\"\"\"\n",
    "    padded_targets, masks = [], []\n",
    "\n",
    "    for depths in true_depths:\n",
    "        depth_len = len(depths)\n",
    "        if depth_len > max_seq_len:\n",
    "            depths = depths[:max_seq_len]\n",
    "            depth_len = max_seq_len\n",
    "        mask = [1] * depth_len + [0] * (max_seq_len - depth_len)\n",
    "        depths = depths + [stop_token] * (max_seq_len - depth_len)\n",
    "        padded_targets.append(torch.tensor(depths, device=device))\n",
    "        masks.append(torch.tensor(mask, device=device))\n",
    "\n",
    "    return torch.stack(padded_targets), torch.stack(masks)"
   ],
   "metadata": {
    "collapsed": false,
    "pycharm": {
     "name": "#%%\n"
    }
   }
  },
  {
   "cell_type": "code",
   "execution_count": 44,
   "outputs": [
    {
     "name": "stdout",
     "output_type": "stream",
     "text": [
      "Epoch 1/10\n"
     ]
    },
    {
     "name": "stderr",
     "output_type": "stream",
     "text": [
      "                                                                                                                        \r"
     ]
    }
   ],
   "source": [
    "model.train()\n",
    "epochs = 10\n",
    "lr_history, train_loss_history, val_loss_history = [], [], []\n",
    "for epoch in range(epochs):\n",
    "    print(f\"Epoch {epoch + 1}/{epochs}\")\n",
    "    # Training loop\n",
    "    train_loss_total = 0\n",
    "    train_loader_tqdm = tqdm(train_loader, desc=\"Training\", leave=False)\n",
    "    for batch in train_loader_tqdm:\n",
    "        images, geotemp_features = batch\n",
    "        images, geotemp_features = images.to(device), geotemp_features.to(device)\n",
    "\n",
    "        optimizer.zero_grad() # otherwise, PyTorch accumulates the gradients during backprop\n",
    "\n",
    "        # Predict depth markers (as padded tensors)\n",
    "        pred_depths = model(image=images, geo_temp=geotemp_features)\n",
    "\n",
    "        # Get corresponding true depth markers via index column in df (also the first value in every row in geotemp)\n",
    "        true_depths = df[df['index'].isin(geotemp_features.cpu().numpy()[:,0])]['Untergrenze'].tolist()\n",
    "        # Turn list of depths into a padded tensor and also return mask of valid positions\n",
    "        padded_true_depths, true_masks = pad_tensor(true_depths,\n",
    "                                                    max_seq_len=model.depth_marker_predictor.max_seq_len,\n",
    "                                                    stop_token=model.depth_marker_predictor.stop_token,\n",
    "                                                    device=device)\n",
    "\n",
    "        train_loss = criterion(pred_depths, padded_true_depths, true_masks)\n",
    "\n",
    "        train_loss.backward()\n",
    "        clip_grad_norm_(model.parameters(), max_norm=1.0)\n",
    "        optimizer.step()\n",
    "\n",
    "        train_loss_total += train_loss.item()\n",
    "\n",
    "        train_loader_tqdm.set_postfix(loss=train_loss.item())\n",
    "        break\n",
    "\n",
    "    avg_train_loss = train_loss_total / len(train_loader)\n",
    "    break"
   ],
   "metadata": {
    "collapsed": false,
    "pycharm": {
     "name": "#%%\n"
    }
   }
  },
  {
   "cell_type": "code",
   "execution_count": 45,
   "outputs": [
    {
     "data": {
      "text/plain": "38.785259699417374"
     },
     "execution_count": 45,
     "metadata": {},
     "output_type": "execute_result"
    }
   ],
   "source": [
    "avg_train_loss"
   ],
   "metadata": {
    "collapsed": false,
    "pycharm": {
     "name": "#%%\n"
    }
   }
  },
  {
   "cell_type": "code",
   "execution_count": 67,
   "outputs": [
    {
     "name": "stdout",
     "output_type": "stream",
     "text": [
      "Duplicate indices: []\n"
     ]
    }
   ],
   "source": [
    "# Note: test whether batch.to(device) generates duplicates in the df\n",
    "seen = set()\n",
    "duplicates = []\n",
    "\n",
    "for _, batch in train_loader_tqdm:\n",
    "\n",
    "    for idx in batch[:,0]:  # Adjust this key depending on how 'index' is stored\n",
    "        if idx in seen:\n",
    "            duplicates.append(idx)\n",
    "        else:\n",
    "            seen.add(idx)\n",
    "\n",
    "print(f\"Duplicate indices: {duplicates}\")"
   ],
   "metadata": {
    "collapsed": false,
    "pycharm": {
     "name": "#%%\n"
    }
   }
  },
  {
   "cell_type": "code",
   "execution_count": 39,
   "outputs": [
    {
     "name": "stdout",
     "output_type": "stream",
     "text": [
      "Epoch 1/10\n"
     ]
    },
    {
     "name": "stderr",
     "output_type": "stream",
     "text": [
      "                                                                                                                        \r"
     ]
    },
    {
     "name": "stdout",
     "output_type": "stream",
     "text": [
      "Epoch 1, Training Loss: 0.6659\n",
      "Validation Loss: 0.5769\n",
      "Current LR: 0.001\n",
      "Epoch 2/10\n"
     ]
    },
    {
     "name": "stderr",
     "output_type": "stream",
     "text": [
      "                                                                                                                        \r"
     ]
    },
    {
     "name": "stdout",
     "output_type": "stream",
     "text": [
      "Epoch 2, Training Loss: 0.5564\n",
      "Validation Loss: 0.5395\n",
      "Current LR: 0.001\n",
      "Epoch 3/10\n"
     ]
    },
    {
     "name": "stderr",
     "output_type": "stream",
     "text": [
      "                                                                                                                        \r"
     ]
    },
    {
     "name": "stdout",
     "output_type": "stream",
     "text": [
      "Epoch 3, Training Loss: 0.5335\n",
      "Validation Loss: 0.5645\n",
      "Current LR: 0.001\n",
      "EarlyStopping: No improvement for 1 epochs.\n",
      "Epoch 4/10\n"
     ]
    },
    {
     "name": "stderr",
     "output_type": "stream",
     "text": [
      "                                                                                                                        \r"
     ]
    },
    {
     "name": "stdout",
     "output_type": "stream",
     "text": [
      "Epoch 4, Training Loss: 0.5397\n",
      "Validation Loss: 0.5435\n",
      "Current LR: 0.001\n",
      "EarlyStopping: No improvement for 2 epochs.\n",
      "Epoch 5/10\n"
     ]
    },
    {
     "name": "stderr",
     "output_type": "stream",
     "text": [
      "                                                                                                                        \r"
     ]
    },
    {
     "name": "stdout",
     "output_type": "stream",
     "text": [
      "Epoch     5: reducing learning rate of group 0 to 1.0000e-04.\n",
      "Epoch 5, Training Loss: 0.5356\n",
      "Validation Loss: 0.5405\n",
      "Current LR: 0.0001\n",
      "EarlyStopping: No improvement for 3 epochs.\n",
      "Epoch 6/10\n"
     ]
    },
    {
     "name": "stderr",
     "output_type": "stream",
     "text": [
      "                                                                                                                        \r"
     ]
    },
    {
     "name": "stdout",
     "output_type": "stream",
     "text": [
      "Epoch 6, Training Loss: 0.5191\n",
      "Validation Loss: 0.5124\n",
      "Current LR: 0.0001\n",
      "Epoch 7/10\n"
     ]
    },
    {
     "name": "stderr",
     "output_type": "stream",
     "text": [
      "                                                                                                                        \r"
     ]
    },
    {
     "name": "stdout",
     "output_type": "stream",
     "text": [
      "Epoch 7, Training Loss: 0.5015\n",
      "Validation Loss: 0.5078\n",
      "Current LR: 0.0001\n",
      "EarlyStopping: No improvement for 1 epochs.\n",
      "Epoch 8/10\n"
     ]
    },
    {
     "name": "stderr",
     "output_type": "stream",
     "text": [
      "                                                                                                                        \r"
     ]
    },
    {
     "name": "stdout",
     "output_type": "stream",
     "text": [
      "Epoch 8, Training Loss: 0.4915\n",
      "Validation Loss: 0.5040\n",
      "Current LR: 0.0001\n",
      "EarlyStopping: No improvement for 2 epochs.\n",
      "Epoch 9/10\n"
     ]
    },
    {
     "name": "stderr",
     "output_type": "stream",
     "text": [
      "                                                                                                                        \r"
     ]
    },
    {
     "name": "stdout",
     "output_type": "stream",
     "text": [
      "Epoch 9, Training Loss: 0.4825\n",
      "Validation Loss: 0.5050\n",
      "Current LR: 0.0001\n",
      "EarlyStopping: No improvement for 3 epochs.\n",
      "Epoch 10/10\n"
     ]
    },
    {
     "name": "stderr",
     "output_type": "stream",
     "text": [
      "                                                                                                                        "
     ]
    },
    {
     "name": "stdout",
     "output_type": "stream",
     "text": [
      "Epoch    10: reducing learning rate of group 0 to 1.0000e-05.\n",
      "Epoch 10, Training Loss: 0.4732\n",
      "Validation Loss: 0.5115\n",
      "Current LR: 1e-05\n"
     ]
    },
    {
     "name": "stderr",
     "output_type": "stream",
     "text": [
      "\r"
     ]
    }
   ],
   "source": [
    "model.train()\n",
    "epochs = 10\n",
    "lr_history, train_loss_history, val_loss_history = [], [], []\n",
    "train_acc_history, train_topk_acc_history, val_acc_history, val_topk_acc_history = [], [], [], []\n",
    "for epoch in range(epochs):\n",
    "    print(f\"Epoch {epoch + 1}/{epochs}\")\n",
    "    # Training loop\n",
    "    train_correct = 0\n",
    "    train_topk_correct = 0\n",
    "    train_loss_total = 0\n",
    "    train_loader_tqdm = tqdm(train_loader, desc=\"Training\", leave=False)\n",
    "    for batch in train_loader_tqdm:\n",
    "        images, tabular_features, labels = batch\n",
    "        images, tabular_features, labels = images.to(device), tabular_features.to(device), labels.to(device)\n",
    "        optimizer.zero_grad() # otherwise, PyTorch accumulates the gradients during backprop\n",
    "        outputs = model(image=images, tabular_features=tabular_features)\n",
    "\n",
    "        # Get corresponding embeddings from int-labels\n",
    "        target_embeddings = torch.stack([torch.tensor(emb_dict['embedding'][lab]) for lab in labels]).to(device)\n",
    "        # Create a dummy \"same class\" tensor with 1s for the cosine similarity\n",
    "        same_class = torch.ones(outputs.size(0)).to(device)\n",
    "        # Normalize both predictions and target embeddings\n",
    "        # Note: rather normalize the mixture embeddings immediately after the linear combination of the parents?\n",
    "        outputs = F.normalize(outputs, p=2, dim=1)\n",
    "        target_embeddings = F.normalize(target_embeddings, p=2, dim=1)\n",
    "\n",
    "        #train_loss = criterion(outputs, labels) # for cross entropy or top-k-loss (without HCE)\n",
    "        train_loss = criterion(outputs, target_embeddings, same_class) # for cosine loss (with HCE)\n",
    "\n",
    "        train_loss.backward()\n",
    "        clip_grad_norm_(model.parameters(), max_norm=1.0)\n",
    "        optimizer.step()\n",
    "\n",
    "        # Calculate accuracy for this batch\n",
    "        train_loss_total += train_loss.item()\n",
    "        #_, predicted = torch.max(outputs.data, 1)\n",
    "        #train_correct += (predicted == labels).sum().item()\n",
    "        #train_topk_correct += top_k_accuracy(outputs, labels, k=5)\n",
    "\n",
    "        train_loader_tqdm.set_postfix(loss=train_loss.item())\n",
    "\n",
    "    # Calculate average training accuracy for the epoch\n",
    "    #train_acc = train_correct / len(train_loader.dataset)\n",
    "    #train_topk_acc = train_topk_correct / len(train_loader)\n",
    "    avg_train_loss = train_loss_total / len(train_loader)\n",
    "\n",
    "    # Evaluation loop\n",
    "    model.eval()\n",
    "    val_correct = 0\n",
    "    val_topk_correct = 0\n",
    "    val_loss_total = 0\n",
    "    val_loader_tqdm = tqdm(val_loader, desc=\"Evaluating\", leave=False)\n",
    "    with torch.no_grad():\n",
    "        for batch in val_loader_tqdm:\n",
    "            images, tabular_features, labels = batch\n",
    "            images, tabular_features, labels = images.to(device), tabular_features.to(device), labels.to(device)\n",
    "            outputs = model(image=images, tabular_features=tabular_features)\n",
    "\n",
    "            # Get corresponding embeddings from int-labels\n",
    "            target_embeddings = torch.stack([torch.tensor(emb_dict['embedding'][lab]) for lab in labels]).to(device)\n",
    "            # Create a dummy \"same class\" tensor with 1s for the cosine similarity\n",
    "            same_class = torch.ones(outputs.size(0)).to(device)\n",
    "            # Normalize both predictions and target embeddings\n",
    "            # Note: rather normalize the mixture embeddings immediately after the linear combination of the parents?\n",
    "            outputs = F.normalize(outputs, p=2, dim=1)\n",
    "            target_embeddings = F.normalize(target_embeddings, p=2, dim=1)\n",
    "\n",
    "            #val_loss = criterion(outputs, labels) # for cross entropy or top-k-loss (without HCE)\n",
    "            val_loss = criterion(outputs, target_embeddings, same_class) # for cosine loss (with HCE)\n",
    "\n",
    "            val_loss_total += val_loss.item()\n",
    "            #_, predicted = torch.max(outputs.data, 1)\n",
    "            #val_correct += (predicted == labels).sum().item()\n",
    "            #val_topk_correct += top_k_accuracy(outputs, labels, k=5)\n",
    "\n",
    "    # Calculate average val accuracy for the epoch\n",
    "    #val_acc = val_correct / len(val_loader.dataset)\n",
    "    #val_topk_acc = val_topk_correct / len(val_loader)\n",
    "    avg_val_loss = val_loss_total / len(val_loader)\n",
    "\n",
    "    # Apply the scheduler with validation loss\n",
    "    scheduler.step(avg_val_loss)\n",
    "    # Log the current learning rate\n",
    "    current_lr = optimizer.param_groups[0]['lr']\n",
    "    lr_history.append(current_lr)\n",
    "    # Log metrics\n",
    "    train_loss_history.append(avg_train_loss); val_loss_history.append(avg_val_loss)\n",
    "    #train_acc_history.append(train_acc); val_acc_history.append(val_acc)\n",
    "    #train_topk_acc_history.append(train_topk_acc); val_topk_acc_history.append(val_topk_acc)\n",
    "\n",
    "    print(f\"Epoch {epoch+1}, Training Loss: {avg_train_loss:.4f}\")#, Training Accuracy: {train_acc:.4f}, Training Top {criterion.k} Accuracy: {train_topk_acc:.4f}\")\n",
    "    print(f\"Validation Loss: {avg_val_loss:.4f}\")#, Validation Accuracy: {val_acc:.4f}, Validation Top {criterion.k} Accuracy: {val_topk_acc:.4f}\")\n",
    "    print(f\"Current LR: {current_lr}\")\n",
    "\n",
    "    # Early stopping check\n",
    "    early_stopping(val_loss)\n",
    "    if early_stopping.should_stop:\n",
    "        print(f\"Early stopping at epoch {epoch+1}\")\n",
    "        break"
   ],
   "metadata": {
    "collapsed": false,
    "pycharm": {
     "name": "#%%\n"
    }
   }
  },
  {
   "cell_type": "markdown",
   "source": [
    "### Evaluation"
   ],
   "metadata": {
    "collapsed": false
   }
  },
  {
   "cell_type": "code",
   "execution_count": null,
   "outputs": [],
   "source": [
    "plt.figure(figsize=(21, 6))\n",
    "\n",
    "complete_epochs = len(train_acc_history)+1\n",
    "plt.subplot(1, 3, 1)\n",
    "plt.plot(range(1, complete_epochs), train_loss_history, label='Train Loss', marker='o', color='b')\n",
    "plt.plot(range(1, complete_epochs), val_loss_history,  label='Validation Loss',  marker='o', color='r')\n",
    "plt.title('Loss Curves')\n",
    "plt.xlabel('Epoch')\n",
    "plt.ylabel('Loss')\n",
    "plt.legend()\n",
    "plt.grid()\n",
    "\n",
    "plt.subplot(1, 3, 2)\n",
    "plt.plot(range(1, complete_epochs), train_acc_history, label='Train Accuracy', marker='o', color='b')\n",
    "plt.plot(range(1, complete_epochs), val_acc_history, label='Validation Accuracy', marker='o', color='r')\n",
    "plt.title('Accuracy Curves')\n",
    "plt.xlabel('Epoch')\n",
    "plt.ylabel('Accuracy')\n",
    "plt.legend()\n",
    "plt.grid()\n",
    "\n",
    "plt.subplot(1, 3, 3)\n",
    "plt.plot(range(1, complete_epochs), train_topk_acc_history, label=f'Train Top {criterion.k} Accuracy', marker='o', color='b')\n",
    "plt.plot(range(1, complete_epochs), val_topk_acc_history, label=f'Validation Top {criterion.k} Accuracy', marker='o', color='r')\n",
    "plt.title(f'Top {criterion.k} Accuracy Curves')\n",
    "plt.xlabel('Epoch')\n",
    "plt.ylabel(f'Top {criterion.k} Accuracy')\n",
    "plt.legend()\n",
    "plt.grid()\n",
    "\n",
    "plt.tight_layout()\n",
    "plt.show()"
   ],
   "metadata": {
    "collapsed": false,
    "pycharm": {
     "name": "#%%\n"
    }
   }
  },
  {
   "cell_type": "code",
   "execution_count": null,
   "outputs": [],
   "source": [
    "plt.figure(figsize=(8, 6))\n",
    "plt.plot(range(1, complete_epochs), lr_history, marker='o', linestyle='-', color='b')\n",
    "plt.title(\"Learning Rate Evolution\")\n",
    "plt.xlabel(\"Epoch\")\n",
    "plt.ylabel(\"Learning Rate\")\n",
    "plt.grid()\n",
    "plt.show()"
   ],
   "metadata": {
    "collapsed": false,
    "pycharm": {
     "name": "#%%\n"
    }
   }
  },
  {
   "cell_type": "code",
   "execution_count": null,
   "outputs": [],
   "source": [
    "model.eval()  # Setze das Modell in den Evaluierungsmodus\n",
    "with torch.no_grad():\n",
    "    outputs = []\n",
    "    val_loader_tqdm = tqdm(val_loader, desc=\"Evaluating\", leave=False)\n",
    "    for batch in val_loader_tqdm:\n",
    "        images, tabular_features, labels = batch\n",
    "        images, tabular_features, labels = images.to(device), tabular_features.to(device), labels.to(device)\n",
    "        outputs.append(model(image=images, tabular_features=tabular_features))"
   ],
   "metadata": {
    "collapsed": false,
    "pycharm": {
     "name": "#%%\n"
    }
   }
  },
  {
   "cell_type": "code",
   "execution_count": null,
   "outputs": [],
   "source": [
    "from sklearn.metrics import classification_report, confusion_matrix\n",
    "\n",
    "# Convert outputs to predicted labels (adjust based on your model's output format)\n",
    "predicted_probs, predicted_labels = [], []\n",
    "for output in outputs:\n",
    "\n",
    "    predicted_labels.extend(torch.argmax(output, dim=1).tolist())\n",
    "    predicted_probs.extend(torch.softmax(output, dim=1).cpu().numpy()) # Convert logits to probabilities\n",
    "\n",
    "# Convert true labels to a list\n",
    "true_labels = [label.item() for batch in val_loader for label in batch[2]]\n",
    "\n",
    "# Calculate metrics\n",
    "report = classification_report(true_labels, predicted_labels)\n",
    "print(report)"
   ],
   "metadata": {
    "collapsed": false,
    "pycharm": {
     "name": "#%%\n"
    }
   }
  },
  {
   "cell_type": "code",
   "execution_count": null,
   "outputs": [],
   "source": [
    "# Compute PR curve for each class\n",
    "from sklearn.metrics import precision_recall_curve, average_precision_score\n",
    "from sklearn.preprocessing import label_binarize\n",
    "\n",
    "predicted_probs = np.array(predicted_probs)\n",
    "true_labels = np.array(true_labels)\n",
    "n_classes = predicted_probs.shape[1]\n",
    "precision, recall, avg_precision = {}, {}, {}\n",
    "# Binarize the labels (one-hot encoding for multiclass)\n",
    "true_labels_binarized = label_binarize(true_labels, classes=np.arange(n_classes))\n",
    "\n",
    "for i in range(n_classes):\n",
    "    precision[i], recall[i], _ = precision_recall_curve(true_labels_binarized[:, i], predicted_probs[:, i])\n",
    "    avg_precision[i] = average_precision_score(true_labels_binarized[:, i], predicted_probs[:, i])\n",
    "\n",
    "# Compute macro-average PR curve\n",
    "precision[\"macro\"], recall[\"macro\"], _ = precision_recall_curve(true_labels_binarized.ravel(), predicted_probs.ravel())\n",
    "avg_precision[\"macro\"] = average_precision_score(true_labels_binarized, predicted_probs, average=\"macro\")"
   ],
   "metadata": {
    "collapsed": false,
    "pycharm": {
     "name": "#%%\n"
    }
   }
  },
  {
   "cell_type": "code",
   "execution_count": null,
   "outputs": [],
   "source": [
    "plt.figure(figsize=(10, 8))\n",
    "\n",
    "# Plot PR curves for each class\n",
    "for i in range(n_classes):\n",
    "    plt.plot(recall[i], precision[i], lw=2, label=f'Class {i} (AP = {avg_precision[i]:.2f})')\n",
    "\n",
    "# Plot macro-average PR curve\n",
    "plt.plot(recall[\"macro\"], precision[\"macro\"], linestyle='--', lw=2, color='black',\n",
    "         label=f'Macro-average (AP = {avg_precision[\"macro\"]:.2f})')\n",
    "\n",
    "plt.xlabel('Recall')\n",
    "plt.ylabel('Precision')\n",
    "plt.title('Precision-Recall Curves')\n",
    "plt.legend(loc='upper right')\n",
    "plt.grid()\n",
    "plt.show()"
   ],
   "metadata": {
    "collapsed": false,
    "pycharm": {
     "name": "#%%\n"
    }
   }
  },
  {
   "cell_type": "code",
   "execution_count": null,
   "outputs": [],
   "source": [
    "cm = confusion_matrix(true_labels, predicted_labels)\n",
    "\n",
    "plt.figure(figsize=(10, 7))\n",
    "sns.heatmap(cm, annot=True, fmt=\"d\", cmap=\"Blues\")\n",
    "plt.xlabel(\"Predicted Label\")\n",
    "plt.ylabel(\"True Label\")\n",
    "plt.title(\"Confusion Matrix\")\n",
    "plt.show()"
   ],
   "metadata": {
    "collapsed": false,
    "pycharm": {
     "name": "#%%\n"
    }
   }
  }
 ],
 "metadata": {
  "kernelspec": {
   "name": "sam",
   "language": "python",
   "display_name": "sam"
  },
  "language_info": {
   "codemirror_mode": {
    "name": "ipython",
    "version": 3
   },
   "file_extension": ".py",
   "mimetype": "text/x-python",
   "name": "python",
   "nbconvert_exporter": "python",
   "pygments_lexer": "ipython3",
   "version": "3.9.19"
  }
 },
 "nbformat": 4,
 "nbformat_minor": 5
}