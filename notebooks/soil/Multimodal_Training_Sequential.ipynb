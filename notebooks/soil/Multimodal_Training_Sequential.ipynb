{
 "cells": [
  {
   "cell_type": "markdown",
   "source": [
    "## Multimodal Training Sequential\n",
    "\n",
    "Predict horizon boundaries from full images and geo-temporal infos. Afterwards, predict morphological features and symbol for every horizon"
   ],
   "metadata": {
    "collapsed": false
   }
  },
  {
   "cell_type": "code",
   "execution_count": 1,
   "outputs": [],
   "source": [
    "import os\n",
    "import pickle\n",
    "\n",
    "import matplotlib.pylab as plt\n",
    "import numpy as np\n",
    "import pandas as pd\n",
    "import seaborn as sns\n",
    "import torch\n",
    "import torch.optim as optim\n",
    "import torch.nn as nn\n",
    "import torchvision.transforms as transforms\n",
    "from sklearn.model_selection import train_test_split\n",
    "from torch.nn.utils import clip_grad_norm_  # modifies the tensors in-place (vs clip_grad_norm)\n",
    "from torch.utils.data import DataLoader\n",
    "from tqdm import tqdm\n",
    "\n",
    "pd.set_option(\"display.max_columns\", None)\n",
    "np.random.seed(42)\n",
    "\n",
    "%matplotlib inline\n",
    "%config InlineBackend.figure_format = 'svg'"
   ],
   "metadata": {
    "collapsed": false,
    "pycharm": {
     "name": "#%%\n"
    }
   }
  },
  {
   "cell_type": "code",
   "execution_count": 2,
   "outputs": [],
   "source": [
    "import sys\n",
    "sys.path.append('./BGR')\n",
    "import bgr.soil.datasets as bgr_data\n",
    "import bgr.soil.models as bgr_mod\n",
    "from bgr.soil.callbacks import EarlyStopping, ModelCheckpoint\n",
    "from bgr.soil.metrics import DepthMarkerLoss\n",
    "from bgr.soil.utils import pad_tensor"
   ],
   "metadata": {
    "collapsed": false,
    "pycharm": {
     "name": "#%%\n"
    }
   }
  },
  {
   "cell_type": "code",
   "execution_count": 3,
   "outputs": [],
   "source": [
    "path_csv = \"../data/BGR/data_horizons.csv\"\n",
    "path_csv_annotator_ids = '../data/BGR/Kartierer_ID.csv'\n",
    "path_csv_locations = '../data/BGR/STANDORT.csv'\n",
    "path_horizons_simple = '../data/BGR/Vereinfachung_Horizontsymbole.csv'\n",
    "path_pictures = \"../data/BGR/Profilbilder_no_ruler_no_sky/\"\n",
    "#path_pictures = \"../data/BGR/Horizonte/\""
   ],
   "metadata": {
    "collapsed": false,
    "pycharm": {
     "name": "#%%\n"
    }
   }
  },
  {
   "cell_type": "markdown",
   "source": [
    "### Data Loading"
   ],
   "metadata": {
    "collapsed": false
   }
  },
  {
   "cell_type": "code",
   "execution_count": 4,
   "outputs": [
    {
     "name": "stdout",
     "output_type": "stream",
     "text": [
      "15207\n",
      "15206\n"
     ]
    },
    {
     "data": {
      "text/plain": "        Point  HorizontID  Obergrenze  Untergrenze Horizontsymbol Bodenart  \\\n0         2.0         1.0         0.0         28.0          I; Ap      Sl2   \n1         2.0         2.0        28.0         54.0           I; E      Sl2   \n2         2.0         3.0        54.0         68.0         II; Bv      Sl2   \n3         2.0         4.0        68.0         96.0   III; Bv-ilCv     fSms   \n4         2.0         5.0        96.0        201.0      III; ilCv     mSfs   \n...       ...         ...         ...          ...            ...      ...   \n15201  6211.0         3.0        27.0         50.0      I; Bbh+Bs     fSms   \n15202  6211.0         4.0        50.0         70.0      I; Bbs+Bs     fSms   \n15203  6211.0         5.0        70.0        100.0      I; Go-Bbs     fSms   \n15204  6211.0         6.0       100.0        130.0          I; Go     fSms   \n15205  6211.0         7.0       130.0        155.0          I; Gr     fSms   \n\n      Bodenfarbe  Steine Karbonat Humusgehaltsklasse Durchwurzelung  \\\n0      7.5YR 3/2     3.0       C0                 h3            Wf4   \n1       10YR 3/3     3.0       C0                 h2            Wf3   \n2      7.5YR 4/3    10.0       C0                 h1            Wf3   \n3      7.5YR 6/4     1.0       C0                 h0            Wf2   \n4       10YR 7/4     1.0       C0                 h0            NaN   \n...          ...     ...      ...                ...            ...   \n15201    5YR 3/2     1.0       C0                 h2            Wf3   \n15202    5YR 4/3     1.0       C0                 h1            Wf2   \n15203  7.5YR 5/4     1.0       C0                 h1            Wf6   \n15204   2.5Y 6/4     1.0       C0                 h0            Wf4   \n15205   2.5Y 5/4     1.0       C0                 h0            Wf2   \n\n       Unnamed: 11 Bundesland  PointID  Unnamed: 14    profile  max_depth  \n0              NaN         SH      2.0          NaN  BB_0541.0      100.0  \n1              NaN         SH      3.0          NaN  BB_0600.0       90.0  \n2              NaN         SH      4.0          NaN  BB_0601.0      100.0  \n3              NaN         SH      5.0          NaN  BB_0659.0      100.0  \n4              NaN         SH      6.0          NaN  BB_0660.0      100.0  \n...            ...        ...      ...          ...        ...        ...  \n15201          NaN        NaN      NaN          NaN        NaN        NaN  \n15202          NaN        NaN      NaN          NaN        NaN        NaN  \n15203          NaN        NaN      NaN          NaN        NaN        NaN  \n15204          NaN        NaN      NaN          NaN        NaN        NaN  \n15205          NaN        NaN      NaN          NaN        NaN        NaN  \n\n[15206 rows x 17 columns]",
      "text/html": "<div>\n<style scoped>\n    .dataframe tbody tr th:only-of-type {\n        vertical-align: middle;\n    }\n\n    .dataframe tbody tr th {\n        vertical-align: top;\n    }\n\n    .dataframe thead th {\n        text-align: right;\n    }\n</style>\n<table border=\"1\" class=\"dataframe\">\n  <thead>\n    <tr style=\"text-align: right;\">\n      <th></th>\n      <th>Point</th>\n      <th>HorizontID</th>\n      <th>Obergrenze</th>\n      <th>Untergrenze</th>\n      <th>Horizontsymbol</th>\n      <th>Bodenart</th>\n      <th>Bodenfarbe</th>\n      <th>Steine</th>\n      <th>Karbonat</th>\n      <th>Humusgehaltsklasse</th>\n      <th>Durchwurzelung</th>\n      <th>Unnamed: 11</th>\n      <th>Bundesland</th>\n      <th>PointID</th>\n      <th>Unnamed: 14</th>\n      <th>profile</th>\n      <th>max_depth</th>\n    </tr>\n  </thead>\n  <tbody>\n    <tr>\n      <th>0</th>\n      <td>2.0</td>\n      <td>1.0</td>\n      <td>0.0</td>\n      <td>28.0</td>\n      <td>I; Ap</td>\n      <td>Sl2</td>\n      <td>7.5YR 3/2</td>\n      <td>3.0</td>\n      <td>C0</td>\n      <td>h3</td>\n      <td>Wf4</td>\n      <td>NaN</td>\n      <td>SH</td>\n      <td>2.0</td>\n      <td>NaN</td>\n      <td>BB_0541.0</td>\n      <td>100.0</td>\n    </tr>\n    <tr>\n      <th>1</th>\n      <td>2.0</td>\n      <td>2.0</td>\n      <td>28.0</td>\n      <td>54.0</td>\n      <td>I; E</td>\n      <td>Sl2</td>\n      <td>10YR 3/3</td>\n      <td>3.0</td>\n      <td>C0</td>\n      <td>h2</td>\n      <td>Wf3</td>\n      <td>NaN</td>\n      <td>SH</td>\n      <td>3.0</td>\n      <td>NaN</td>\n      <td>BB_0600.0</td>\n      <td>90.0</td>\n    </tr>\n    <tr>\n      <th>2</th>\n      <td>2.0</td>\n      <td>3.0</td>\n      <td>54.0</td>\n      <td>68.0</td>\n      <td>II; Bv</td>\n      <td>Sl2</td>\n      <td>7.5YR 4/3</td>\n      <td>10.0</td>\n      <td>C0</td>\n      <td>h1</td>\n      <td>Wf3</td>\n      <td>NaN</td>\n      <td>SH</td>\n      <td>4.0</td>\n      <td>NaN</td>\n      <td>BB_0601.0</td>\n      <td>100.0</td>\n    </tr>\n    <tr>\n      <th>3</th>\n      <td>2.0</td>\n      <td>4.0</td>\n      <td>68.0</td>\n      <td>96.0</td>\n      <td>III; Bv-ilCv</td>\n      <td>fSms</td>\n      <td>7.5YR 6/4</td>\n      <td>1.0</td>\n      <td>C0</td>\n      <td>h0</td>\n      <td>Wf2</td>\n      <td>NaN</td>\n      <td>SH</td>\n      <td>5.0</td>\n      <td>NaN</td>\n      <td>BB_0659.0</td>\n      <td>100.0</td>\n    </tr>\n    <tr>\n      <th>4</th>\n      <td>2.0</td>\n      <td>5.0</td>\n      <td>96.0</td>\n      <td>201.0</td>\n      <td>III; ilCv</td>\n      <td>mSfs</td>\n      <td>10YR 7/4</td>\n      <td>1.0</td>\n      <td>C0</td>\n      <td>h0</td>\n      <td>NaN</td>\n      <td>NaN</td>\n      <td>SH</td>\n      <td>6.0</td>\n      <td>NaN</td>\n      <td>BB_0660.0</td>\n      <td>100.0</td>\n    </tr>\n    <tr>\n      <th>...</th>\n      <td>...</td>\n      <td>...</td>\n      <td>...</td>\n      <td>...</td>\n      <td>...</td>\n      <td>...</td>\n      <td>...</td>\n      <td>...</td>\n      <td>...</td>\n      <td>...</td>\n      <td>...</td>\n      <td>...</td>\n      <td>...</td>\n      <td>...</td>\n      <td>...</td>\n      <td>...</td>\n      <td>...</td>\n    </tr>\n    <tr>\n      <th>15201</th>\n      <td>6211.0</td>\n      <td>3.0</td>\n      <td>27.0</td>\n      <td>50.0</td>\n      <td>I; Bbh+Bs</td>\n      <td>fSms</td>\n      <td>5YR 3/2</td>\n      <td>1.0</td>\n      <td>C0</td>\n      <td>h2</td>\n      <td>Wf3</td>\n      <td>NaN</td>\n      <td>NaN</td>\n      <td>NaN</td>\n      <td>NaN</td>\n      <td>NaN</td>\n      <td>NaN</td>\n    </tr>\n    <tr>\n      <th>15202</th>\n      <td>6211.0</td>\n      <td>4.0</td>\n      <td>50.0</td>\n      <td>70.0</td>\n      <td>I; Bbs+Bs</td>\n      <td>fSms</td>\n      <td>5YR 4/3</td>\n      <td>1.0</td>\n      <td>C0</td>\n      <td>h1</td>\n      <td>Wf2</td>\n      <td>NaN</td>\n      <td>NaN</td>\n      <td>NaN</td>\n      <td>NaN</td>\n      <td>NaN</td>\n      <td>NaN</td>\n    </tr>\n    <tr>\n      <th>15203</th>\n      <td>6211.0</td>\n      <td>5.0</td>\n      <td>70.0</td>\n      <td>100.0</td>\n      <td>I; Go-Bbs</td>\n      <td>fSms</td>\n      <td>7.5YR 5/4</td>\n      <td>1.0</td>\n      <td>C0</td>\n      <td>h1</td>\n      <td>Wf6</td>\n      <td>NaN</td>\n      <td>NaN</td>\n      <td>NaN</td>\n      <td>NaN</td>\n      <td>NaN</td>\n      <td>NaN</td>\n    </tr>\n    <tr>\n      <th>15204</th>\n      <td>6211.0</td>\n      <td>6.0</td>\n      <td>100.0</td>\n      <td>130.0</td>\n      <td>I; Go</td>\n      <td>fSms</td>\n      <td>2.5Y 6/4</td>\n      <td>1.0</td>\n      <td>C0</td>\n      <td>h0</td>\n      <td>Wf4</td>\n      <td>NaN</td>\n      <td>NaN</td>\n      <td>NaN</td>\n      <td>NaN</td>\n      <td>NaN</td>\n      <td>NaN</td>\n    </tr>\n    <tr>\n      <th>15205</th>\n      <td>6211.0</td>\n      <td>7.0</td>\n      <td>130.0</td>\n      <td>155.0</td>\n      <td>I; Gr</td>\n      <td>fSms</td>\n      <td>2.5Y 5/4</td>\n      <td>1.0</td>\n      <td>C0</td>\n      <td>h0</td>\n      <td>Wf2</td>\n      <td>NaN</td>\n      <td>NaN</td>\n      <td>NaN</td>\n      <td>NaN</td>\n      <td>NaN</td>\n      <td>NaN</td>\n    </tr>\n  </tbody>\n</table>\n<p>15206 rows × 17 columns</p>\n</div>"
     },
     "execution_count": 4,
     "metadata": {},
     "output_type": "execute_result"
    }
   ],
   "source": [
    "df = pd.read_csv(path_csv)\n",
    "print(len(df.index))\n",
    "df = df.dropna(subset=['Horizontsymbol'])\n",
    "print(len(df.index))\n",
    "df#.head()"
   ],
   "metadata": {
    "collapsed": false,
    "pycharm": {
     "name": "#%%\n"
    }
   }
  },
  {
   "cell_type": "code",
   "execution_count": 5,
   "outputs": [
    {
     "data": {
      "text/plain": "  Horiz  Anzahl im Datensatz relevanter Anteil stark vereinfacht\n0    Ap                 1762                Ap                Ap\n1    Bv                  626                Bv                Bv\n2  ilCv                  620               ilC                Cv\n3  elCv                  500               elC                Cv\n4    Ah                  455                Ah                Ah",
      "text/html": "<div>\n<style scoped>\n    .dataframe tbody tr th:only-of-type {\n        vertical-align: middle;\n    }\n\n    .dataframe tbody tr th {\n        vertical-align: top;\n    }\n\n    .dataframe thead th {\n        text-align: right;\n    }\n</style>\n<table border=\"1\" class=\"dataframe\">\n  <thead>\n    <tr style=\"text-align: right;\">\n      <th></th>\n      <th>Horiz</th>\n      <th>Anzahl im Datensatz</th>\n      <th>relevanter Anteil</th>\n      <th>stark vereinfacht</th>\n    </tr>\n  </thead>\n  <tbody>\n    <tr>\n      <th>0</th>\n      <td>Ap</td>\n      <td>1762</td>\n      <td>Ap</td>\n      <td>Ap</td>\n    </tr>\n    <tr>\n      <th>1</th>\n      <td>Bv</td>\n      <td>626</td>\n      <td>Bv</td>\n      <td>Bv</td>\n    </tr>\n    <tr>\n      <th>2</th>\n      <td>ilCv</td>\n      <td>620</td>\n      <td>ilC</td>\n      <td>Cv</td>\n    </tr>\n    <tr>\n      <th>3</th>\n      <td>elCv</td>\n      <td>500</td>\n      <td>elC</td>\n      <td>Cv</td>\n    </tr>\n    <tr>\n      <th>4</th>\n      <td>Ah</td>\n      <td>455</td>\n      <td>Ah</td>\n      <td>Ah</td>\n    </tr>\n  </tbody>\n</table>\n</div>"
     },
     "execution_count": 5,
     "metadata": {},
     "output_type": "execute_result"
    }
   ],
   "source": [
    "df_simple = pd.read_csv(path_horizons_simple)\n",
    "df_simple.rename(columns={\"relevanter Anteil = was sinntragend und detektierbar ist - es sind nicht alles gültige Symbole\": \"relevanter Anteil\"}, inplace=True)\n",
    "df_simple.head()"
   ],
   "metadata": {
    "collapsed": false,
    "pycharm": {
     "name": "#%%\n"
    }
   }
  },
  {
   "cell_type": "code",
   "execution_count": 6,
   "outputs": [
    {
     "data": {
      "text/plain": "        Point  HorizontID  Obergrenze  Untergrenze Horizontsymbol  \\\n0         2.0         1.0         0.0         28.0          I; Ap   \n1         2.0         2.0        28.0         54.0           I; E   \n2         2.0         3.0        54.0         68.0         II; Bv   \n3         2.0         4.0        68.0         96.0   III; Bv-ilCv   \n4         2.0         5.0        96.0        201.0      III; ilCv   \n...       ...         ...         ...          ...            ...   \n15201  6211.0         3.0        27.0         50.0      I; Bbh+Bs   \n15202  6211.0         4.0        50.0         70.0      I; Bbs+Bs   \n15203  6211.0         5.0        70.0        100.0      I; Go-Bbs   \n15204  6211.0         6.0       100.0        130.0          I; Go   \n15205  6211.0         7.0       130.0        155.0          I; Gr   \n\n      Horizontsymbol_relevant Bodenart Bodenfarbe  Steine Karbonat  \\\n0                          Ap      Sl2  7.5YR 3/2     3.0       C0   \n1                           E      Sl2   10YR 3/3     3.0       C0   \n2                          Bv      Sl2  7.5YR 4/3    10.0       C0   \n3                      Bv-ilC     fSms  7.5YR 6/4     1.0       C0   \n4                         ilC     mSfs   10YR 7/4     1.0       C0   \n...                       ...      ...        ...     ...      ...   \n15201                  Bbh+Bs     fSms    5YR 3/2     1.0       C0   \n15202                  Bbs+Bs     fSms    5YR 4/3     1.0       C0   \n15203                  Go-Bbs     fSms  7.5YR 5/4     1.0       C0   \n15204                      Go     fSms   2.5Y 6/4     1.0       C0   \n15205                      Gr     fSms   2.5Y 5/4     1.0       C0   \n\n      Humusgehaltsklasse Durchwurzelung  Unnamed: 11 Bundesland  PointID  \\\n0                     h3            Wf4          NaN         SH      2.0   \n1                     h2            Wf3          NaN         SH      3.0   \n2                     h1            Wf3          NaN         SH      4.0   \n3                     h0            Wf2          NaN         SH      5.0   \n4                     h0            NaN          NaN         SH      6.0   \n...                  ...            ...          ...        ...      ...   \n15201                 h2            Wf3          NaN        NaN      NaN   \n15202                 h1            Wf2          NaN        NaN      NaN   \n15203                 h1            Wf6          NaN        NaN      NaN   \n15204                 h0            Wf4          NaN        NaN      NaN   \n15205                 h0            Wf2          NaN        NaN      NaN   \n\n       Unnamed: 14    profile  max_depth  \n0              NaN  BB_0541.0      100.0  \n1              NaN  BB_0600.0       90.0  \n2              NaN  BB_0601.0      100.0  \n3              NaN  BB_0659.0      100.0  \n4              NaN  BB_0660.0      100.0  \n...            ...        ...        ...  \n15201          NaN        NaN        NaN  \n15202          NaN        NaN        NaN  \n15203          NaN        NaN        NaN  \n15204          NaN        NaN        NaN  \n15205          NaN        NaN        NaN  \n\n[15206 rows x 18 columns]",
      "text/html": "<div>\n<style scoped>\n    .dataframe tbody tr th:only-of-type {\n        vertical-align: middle;\n    }\n\n    .dataframe tbody tr th {\n        vertical-align: top;\n    }\n\n    .dataframe thead th {\n        text-align: right;\n    }\n</style>\n<table border=\"1\" class=\"dataframe\">\n  <thead>\n    <tr style=\"text-align: right;\">\n      <th></th>\n      <th>Point</th>\n      <th>HorizontID</th>\n      <th>Obergrenze</th>\n      <th>Untergrenze</th>\n      <th>Horizontsymbol</th>\n      <th>Horizontsymbol_relevant</th>\n      <th>Bodenart</th>\n      <th>Bodenfarbe</th>\n      <th>Steine</th>\n      <th>Karbonat</th>\n      <th>Humusgehaltsklasse</th>\n      <th>Durchwurzelung</th>\n      <th>Unnamed: 11</th>\n      <th>Bundesland</th>\n      <th>PointID</th>\n      <th>Unnamed: 14</th>\n      <th>profile</th>\n      <th>max_depth</th>\n    </tr>\n  </thead>\n  <tbody>\n    <tr>\n      <th>0</th>\n      <td>2.0</td>\n      <td>1.0</td>\n      <td>0.0</td>\n      <td>28.0</td>\n      <td>I; Ap</td>\n      <td>Ap</td>\n      <td>Sl2</td>\n      <td>7.5YR 3/2</td>\n      <td>3.0</td>\n      <td>C0</td>\n      <td>h3</td>\n      <td>Wf4</td>\n      <td>NaN</td>\n      <td>SH</td>\n      <td>2.0</td>\n      <td>NaN</td>\n      <td>BB_0541.0</td>\n      <td>100.0</td>\n    </tr>\n    <tr>\n      <th>1</th>\n      <td>2.0</td>\n      <td>2.0</td>\n      <td>28.0</td>\n      <td>54.0</td>\n      <td>I; E</td>\n      <td>E</td>\n      <td>Sl2</td>\n      <td>10YR 3/3</td>\n      <td>3.0</td>\n      <td>C0</td>\n      <td>h2</td>\n      <td>Wf3</td>\n      <td>NaN</td>\n      <td>SH</td>\n      <td>3.0</td>\n      <td>NaN</td>\n      <td>BB_0600.0</td>\n      <td>90.0</td>\n    </tr>\n    <tr>\n      <th>2</th>\n      <td>2.0</td>\n      <td>3.0</td>\n      <td>54.0</td>\n      <td>68.0</td>\n      <td>II; Bv</td>\n      <td>Bv</td>\n      <td>Sl2</td>\n      <td>7.5YR 4/3</td>\n      <td>10.0</td>\n      <td>C0</td>\n      <td>h1</td>\n      <td>Wf3</td>\n      <td>NaN</td>\n      <td>SH</td>\n      <td>4.0</td>\n      <td>NaN</td>\n      <td>BB_0601.0</td>\n      <td>100.0</td>\n    </tr>\n    <tr>\n      <th>3</th>\n      <td>2.0</td>\n      <td>4.0</td>\n      <td>68.0</td>\n      <td>96.0</td>\n      <td>III; Bv-ilCv</td>\n      <td>Bv-ilC</td>\n      <td>fSms</td>\n      <td>7.5YR 6/4</td>\n      <td>1.0</td>\n      <td>C0</td>\n      <td>h0</td>\n      <td>Wf2</td>\n      <td>NaN</td>\n      <td>SH</td>\n      <td>5.0</td>\n      <td>NaN</td>\n      <td>BB_0659.0</td>\n      <td>100.0</td>\n    </tr>\n    <tr>\n      <th>4</th>\n      <td>2.0</td>\n      <td>5.0</td>\n      <td>96.0</td>\n      <td>201.0</td>\n      <td>III; ilCv</td>\n      <td>ilC</td>\n      <td>mSfs</td>\n      <td>10YR 7/4</td>\n      <td>1.0</td>\n      <td>C0</td>\n      <td>h0</td>\n      <td>NaN</td>\n      <td>NaN</td>\n      <td>SH</td>\n      <td>6.0</td>\n      <td>NaN</td>\n      <td>BB_0660.0</td>\n      <td>100.0</td>\n    </tr>\n    <tr>\n      <th>...</th>\n      <td>...</td>\n      <td>...</td>\n      <td>...</td>\n      <td>...</td>\n      <td>...</td>\n      <td>...</td>\n      <td>...</td>\n      <td>...</td>\n      <td>...</td>\n      <td>...</td>\n      <td>...</td>\n      <td>...</td>\n      <td>...</td>\n      <td>...</td>\n      <td>...</td>\n      <td>...</td>\n      <td>...</td>\n      <td>...</td>\n    </tr>\n    <tr>\n      <th>15201</th>\n      <td>6211.0</td>\n      <td>3.0</td>\n      <td>27.0</td>\n      <td>50.0</td>\n      <td>I; Bbh+Bs</td>\n      <td>Bbh+Bs</td>\n      <td>fSms</td>\n      <td>5YR 3/2</td>\n      <td>1.0</td>\n      <td>C0</td>\n      <td>h2</td>\n      <td>Wf3</td>\n      <td>NaN</td>\n      <td>NaN</td>\n      <td>NaN</td>\n      <td>NaN</td>\n      <td>NaN</td>\n      <td>NaN</td>\n    </tr>\n    <tr>\n      <th>15202</th>\n      <td>6211.0</td>\n      <td>4.0</td>\n      <td>50.0</td>\n      <td>70.0</td>\n      <td>I; Bbs+Bs</td>\n      <td>Bbs+Bs</td>\n      <td>fSms</td>\n      <td>5YR 4/3</td>\n      <td>1.0</td>\n      <td>C0</td>\n      <td>h1</td>\n      <td>Wf2</td>\n      <td>NaN</td>\n      <td>NaN</td>\n      <td>NaN</td>\n      <td>NaN</td>\n      <td>NaN</td>\n      <td>NaN</td>\n    </tr>\n    <tr>\n      <th>15203</th>\n      <td>6211.0</td>\n      <td>5.0</td>\n      <td>70.0</td>\n      <td>100.0</td>\n      <td>I; Go-Bbs</td>\n      <td>Go-Bbs</td>\n      <td>fSms</td>\n      <td>7.5YR 5/4</td>\n      <td>1.0</td>\n      <td>C0</td>\n      <td>h1</td>\n      <td>Wf6</td>\n      <td>NaN</td>\n      <td>NaN</td>\n      <td>NaN</td>\n      <td>NaN</td>\n      <td>NaN</td>\n      <td>NaN</td>\n    </tr>\n    <tr>\n      <th>15204</th>\n      <td>6211.0</td>\n      <td>6.0</td>\n      <td>100.0</td>\n      <td>130.0</td>\n      <td>I; Go</td>\n      <td>Go</td>\n      <td>fSms</td>\n      <td>2.5Y 6/4</td>\n      <td>1.0</td>\n      <td>C0</td>\n      <td>h0</td>\n      <td>Wf4</td>\n      <td>NaN</td>\n      <td>NaN</td>\n      <td>NaN</td>\n      <td>NaN</td>\n      <td>NaN</td>\n      <td>NaN</td>\n    </tr>\n    <tr>\n      <th>15205</th>\n      <td>6211.0</td>\n      <td>7.0</td>\n      <td>130.0</td>\n      <td>155.0</td>\n      <td>I; Gr</td>\n      <td>Gr</td>\n      <td>fSms</td>\n      <td>2.5Y 5/4</td>\n      <td>1.0</td>\n      <td>C0</td>\n      <td>h0</td>\n      <td>Wf2</td>\n      <td>NaN</td>\n      <td>NaN</td>\n      <td>NaN</td>\n      <td>NaN</td>\n      <td>NaN</td>\n      <td>NaN</td>\n    </tr>\n  </tbody>\n</table>\n<p>15206 rows × 18 columns</p>\n</div>"
     },
     "execution_count": 6,
     "metadata": {},
     "output_type": "execute_result"
    }
   ],
   "source": [
    "# Add an extra column to the original dataset with the simplified horizon symbols\n",
    "\n",
    "# Apply the simplification function to each row of the 'Horizontsymbol' column\n",
    "col_name = \"relevanter Anteil\" # try to predict 'relevanter Anteil' first; otherwise, resort to 'stark vereinfacht'\n",
    "df['Horizontsymbol_relevant'] = df['Horizontsymbol'].apply(lambda x: bgr_data.simplify_string(x, df_simple, col_name))\n",
    "\n",
    "# Reorder the columns\n",
    "cols = df.columns.tolist()\n",
    "cols.insert(cols.index('Horizontsymbol') + 1, 'Horizontsymbol_relevant')\n",
    "cols.pop() # remove the duplicate at the end\n",
    "df = df[cols]\n",
    "df"
   ],
   "metadata": {
    "collapsed": false,
    "pycharm": {
     "name": "#%%\n"
    }
   }
  },
  {
   "cell_type": "markdown",
   "source": [
    "#### Join images and further tables"
   ],
   "metadata": {
    "collapsed": false
   }
  },
  {
   "cell_type": "code",
   "execution_count": 7,
   "outputs": [
    {
     "data": {
      "text/plain": "               file   Point\n0   BB_0896_Y_1.JPG   896.0\n1   BB_0903_Y_1.JPG   903.0\n2   BW_4930_Y_1.JPG  4930.0\n3   BW_5183_Y_1.JPG  5183.0\n4   BW_5462_Y_1.JPG  5462.0\n5   BY_3651_Y_1.JPG  3651.0\n6   BY_3934_Y_1.JPG  3934.0\n7   BY_3979_Y_1.JPG  3979.0\n8   BY_4039_Y_1.JPG  4039.0\n9   BY_4302_Y_1.JPG  4302.0\n10  BY_4360_Y_1.JPG  4360.0\n11  BY_4568_Y_1.JPG  4568.0\n12  BY_4895_Y_1.JPG  4895.0\n13  BY_4910_Y_1.JPG  4910.0\n14  BY_5439_Y_1.JPG  5439.0",
      "text/html": "<div>\n<style scoped>\n    .dataframe tbody tr th:only-of-type {\n        vertical-align: middle;\n    }\n\n    .dataframe tbody tr th {\n        vertical-align: top;\n    }\n\n    .dataframe thead th {\n        text-align: right;\n    }\n</style>\n<table border=\"1\" class=\"dataframe\">\n  <thead>\n    <tr style=\"text-align: right;\">\n      <th></th>\n      <th>file</th>\n      <th>Point</th>\n    </tr>\n  </thead>\n  <tbody>\n    <tr>\n      <th>0</th>\n      <td>BB_0896_Y_1.JPG</td>\n      <td>896.0</td>\n    </tr>\n    <tr>\n      <th>1</th>\n      <td>BB_0903_Y_1.JPG</td>\n      <td>903.0</td>\n    </tr>\n    <tr>\n      <th>2</th>\n      <td>BW_4930_Y_1.JPG</td>\n      <td>4930.0</td>\n    </tr>\n    <tr>\n      <th>3</th>\n      <td>BW_5183_Y_1.JPG</td>\n      <td>5183.0</td>\n    </tr>\n    <tr>\n      <th>4</th>\n      <td>BW_5462_Y_1.JPG</td>\n      <td>5462.0</td>\n    </tr>\n    <tr>\n      <th>5</th>\n      <td>BY_3651_Y_1.JPG</td>\n      <td>3651.0</td>\n    </tr>\n    <tr>\n      <th>6</th>\n      <td>BY_3934_Y_1.JPG</td>\n      <td>3934.0</td>\n    </tr>\n    <tr>\n      <th>7</th>\n      <td>BY_3979_Y_1.JPG</td>\n      <td>3979.0</td>\n    </tr>\n    <tr>\n      <th>8</th>\n      <td>BY_4039_Y_1.JPG</td>\n      <td>4039.0</td>\n    </tr>\n    <tr>\n      <th>9</th>\n      <td>BY_4302_Y_1.JPG</td>\n      <td>4302.0</td>\n    </tr>\n    <tr>\n      <th>10</th>\n      <td>BY_4360_Y_1.JPG</td>\n      <td>4360.0</td>\n    </tr>\n    <tr>\n      <th>11</th>\n      <td>BY_4568_Y_1.JPG</td>\n      <td>4568.0</td>\n    </tr>\n    <tr>\n      <th>12</th>\n      <td>BY_4895_Y_1.JPG</td>\n      <td>4895.0</td>\n    </tr>\n    <tr>\n      <th>13</th>\n      <td>BY_4910_Y_1.JPG</td>\n      <td>4910.0</td>\n    </tr>\n    <tr>\n      <th>14</th>\n      <td>BY_5439_Y_1.JPG</td>\n      <td>5439.0</td>\n    </tr>\n  </tbody>\n</table>\n</div>"
     },
     "execution_count": 7,
     "metadata": {},
     "output_type": "execute_result"
    }
   ],
   "source": [
    "# Read image dataset and add file path as extra column to df\n",
    "image_dataset = os.listdir(path_pictures)\n",
    "img_files = pd.DataFrame(image_dataset, columns=['file'])\n",
    "img_files['Point'] = img_files['file'].str.split(\"_\").map(lambda x: x[1]).astype(float) # for error 'list index out of range', delete @eaDir\n",
    "#img_files['HorizontID'] = img_files['file'].str.split('.').map(lambda x: x[0][-1]).astype(float) # uncomment only for segmented horizon patches\n",
    "img_files.head(15)"
   ],
   "metadata": {
    "collapsed": false,
    "pycharm": {
     "name": "#%%\n"
    }
   }
  },
  {
   "cell_type": "code",
   "execution_count": 8,
   "outputs": [
    {
     "name": "stdout",
     "output_type": "stream",
     "text": [
      "16316\n"
     ]
    },
    {
     "data": {
      "text/plain": "    Point  HorizontID  Obergrenze  Untergrenze Horizontsymbol  \\\n0     2.0         1.0         0.0         28.0          I; Ap   \n1     2.0         2.0        28.0         54.0           I; E   \n2     2.0         3.0        54.0         68.0         II; Bv   \n3     2.0         4.0        68.0         96.0   III; Bv-ilCv   \n4     2.0         5.0        96.0        201.0      III; ilCv   \n5     3.0         1.0         0.0         12.0     I; tbSw-Ah   \n6     3.0         2.0        12.0         30.0    I; tbSw-rAp   \n7     3.0         3.0        30.0         54.0    I; tbrGo-Sw   \n8     3.0         4.0        54.0        125.0     I; tbGo-Sd   \n9     3.0         5.0       125.0        160.0      II; tmGor   \n10    3.0         6.0       160.0        201.0      II; tmeGr   \n11    4.0         1.0         0.0         30.0     I; Sw-tbAp   \n12    4.0         2.0        30.0         74.0        I; tbSq   \n13    4.0         3.0        74.0        140.0       I; tbGro   \n14    4.0         4.0       140.0        200.0        I; tbGr   \n\n   Horizontsymbol_relevant Bodenart   Bodenfarbe  Steine Karbonat  \\\n0                       Ap      Sl2    7.5YR 3/2     3.0       C0   \n1                        E      Sl2     10YR 3/3     3.0       C0   \n2                       Bv      Sl2    7.5YR 4/3    10.0       C0   \n3                   Bv-ilC     fSms    7.5YR 6/4     1.0       C0   \n4                      ilC     mSfs     10YR 7/4     1.0       C0   \n5                   tSw-Ah      Ls3     10YR 4/2     0.0       C0   \n6                   tSw-Ap      Ls2     10YR 4/2     0.0       C0   \n7                   tGo-Sw      Ls4     2.5Y 5/1     0.0       C0   \n8                   tGo-Sd       Lu       5Y 5/1     0.0       C0   \n9                     tGor      Su3       5Y 5/1     0.0       C0   \n10                     tGr      Su3  GLEY1 4/5GY     0.0     C3.2   \n11                  Sw-tAp      Tu3       5Y 5/2     0.0       C0   \n12                     tSq      Tu3       5Y 5/1     0.0       C0   \n13                    tGro      Tu4       5Y 6/1     0.0       C0   \n14                     tGr      Tu4    GLEY1 5/N     0.0       C0   \n\n   Humusgehaltsklasse Durchwurzelung  Unnamed: 11 Bundesland  PointID  \\\n0                  h3            Wf4          NaN         SH      2.0   \n1                  h2            Wf3          NaN         SH      3.0   \n2                  h1            Wf3          NaN         SH      4.0   \n3                  h0            Wf2          NaN         SH      5.0   \n4                  h0            NaN          NaN         SH      6.0   \n5                  h3            Wf6          NaN         SH      7.0   \n6                  h2            Wf4          NaN         SH      8.0   \n7                  h1            Wf2          NaN         SH     10.0   \n8                  h1            NaN          NaN         SH     11.0   \n9                  h1            NaN          NaN         SH     12.0   \n10                 h1            NaN          NaN         SH     14.0   \n11                 h3            Wf4          NaN         SH     15.0   \n12                 h1            Wf3          NaN         SH     16.0   \n13                 h0            Wf1          NaN         SH     17.0   \n14                 h0            NaN          NaN         SH     18.0   \n\n    Unnamed: 14    profile  max_depth  \\\n0           NaN  BB_0541.0      100.0   \n1           NaN  BB_0600.0       90.0   \n2           NaN  BB_0601.0      100.0   \n3           NaN  BB_0659.0      100.0   \n4           NaN  BB_0660.0      100.0   \n5           NaN  BB_0661.0      100.0   \n6           NaN  BB_0662.0      100.0   \n7           NaN  BB_0663.0      100.0   \n8           NaN  BB_0718.0      100.0   \n9           NaN  BB_0720.0      110.0   \n10          NaN  BB_0721.0      100.0   \n11          NaN  BB_0722.0      100.0   \n12          NaN  BB_0723.0      100.0   \n13          NaN  BB_0725.0       90.0   \n14          NaN  BB_0781.0      100.0   \n\n                                                 file  \n0   ../data/BGR/Profilbilder_no_ruler_no_sky/SH_00...  \n1   ../data/BGR/Profilbilder_no_ruler_no_sky/SH_00...  \n2   ../data/BGR/Profilbilder_no_ruler_no_sky/SH_00...  \n3   ../data/BGR/Profilbilder_no_ruler_no_sky/SH_00...  \n4   ../data/BGR/Profilbilder_no_ruler_no_sky/SH_00...  \n5   ../data/BGR/Profilbilder_no_ruler_no_sky/SH_00...  \n6   ../data/BGR/Profilbilder_no_ruler_no_sky/SH_00...  \n7   ../data/BGR/Profilbilder_no_ruler_no_sky/SH_00...  \n8   ../data/BGR/Profilbilder_no_ruler_no_sky/SH_00...  \n9   ../data/BGR/Profilbilder_no_ruler_no_sky/SH_00...  \n10  ../data/BGR/Profilbilder_no_ruler_no_sky/SH_00...  \n11  ../data/BGR/Profilbilder_no_ruler_no_sky/SH_00...  \n12  ../data/BGR/Profilbilder_no_ruler_no_sky/SH_00...  \n13  ../data/BGR/Profilbilder_no_ruler_no_sky/SH_00...  \n14  ../data/BGR/Profilbilder_no_ruler_no_sky/SH_00...  ",
      "text/html": "<div>\n<style scoped>\n    .dataframe tbody tr th:only-of-type {\n        vertical-align: middle;\n    }\n\n    .dataframe tbody tr th {\n        vertical-align: top;\n    }\n\n    .dataframe thead th {\n        text-align: right;\n    }\n</style>\n<table border=\"1\" class=\"dataframe\">\n  <thead>\n    <tr style=\"text-align: right;\">\n      <th></th>\n      <th>Point</th>\n      <th>HorizontID</th>\n      <th>Obergrenze</th>\n      <th>Untergrenze</th>\n      <th>Horizontsymbol</th>\n      <th>Horizontsymbol_relevant</th>\n      <th>Bodenart</th>\n      <th>Bodenfarbe</th>\n      <th>Steine</th>\n      <th>Karbonat</th>\n      <th>Humusgehaltsklasse</th>\n      <th>Durchwurzelung</th>\n      <th>Unnamed: 11</th>\n      <th>Bundesland</th>\n      <th>PointID</th>\n      <th>Unnamed: 14</th>\n      <th>profile</th>\n      <th>max_depth</th>\n      <th>file</th>\n    </tr>\n  </thead>\n  <tbody>\n    <tr>\n      <th>0</th>\n      <td>2.0</td>\n      <td>1.0</td>\n      <td>0.0</td>\n      <td>28.0</td>\n      <td>I; Ap</td>\n      <td>Ap</td>\n      <td>Sl2</td>\n      <td>7.5YR 3/2</td>\n      <td>3.0</td>\n      <td>C0</td>\n      <td>h3</td>\n      <td>Wf4</td>\n      <td>NaN</td>\n      <td>SH</td>\n      <td>2.0</td>\n      <td>NaN</td>\n      <td>BB_0541.0</td>\n      <td>100.0</td>\n      <td>../data/BGR/Profilbilder_no_ruler_no_sky/SH_00...</td>\n    </tr>\n    <tr>\n      <th>1</th>\n      <td>2.0</td>\n      <td>2.0</td>\n      <td>28.0</td>\n      <td>54.0</td>\n      <td>I; E</td>\n      <td>E</td>\n      <td>Sl2</td>\n      <td>10YR 3/3</td>\n      <td>3.0</td>\n      <td>C0</td>\n      <td>h2</td>\n      <td>Wf3</td>\n      <td>NaN</td>\n      <td>SH</td>\n      <td>3.0</td>\n      <td>NaN</td>\n      <td>BB_0600.0</td>\n      <td>90.0</td>\n      <td>../data/BGR/Profilbilder_no_ruler_no_sky/SH_00...</td>\n    </tr>\n    <tr>\n      <th>2</th>\n      <td>2.0</td>\n      <td>3.0</td>\n      <td>54.0</td>\n      <td>68.0</td>\n      <td>II; Bv</td>\n      <td>Bv</td>\n      <td>Sl2</td>\n      <td>7.5YR 4/3</td>\n      <td>10.0</td>\n      <td>C0</td>\n      <td>h1</td>\n      <td>Wf3</td>\n      <td>NaN</td>\n      <td>SH</td>\n      <td>4.0</td>\n      <td>NaN</td>\n      <td>BB_0601.0</td>\n      <td>100.0</td>\n      <td>../data/BGR/Profilbilder_no_ruler_no_sky/SH_00...</td>\n    </tr>\n    <tr>\n      <th>3</th>\n      <td>2.0</td>\n      <td>4.0</td>\n      <td>68.0</td>\n      <td>96.0</td>\n      <td>III; Bv-ilCv</td>\n      <td>Bv-ilC</td>\n      <td>fSms</td>\n      <td>7.5YR 6/4</td>\n      <td>1.0</td>\n      <td>C0</td>\n      <td>h0</td>\n      <td>Wf2</td>\n      <td>NaN</td>\n      <td>SH</td>\n      <td>5.0</td>\n      <td>NaN</td>\n      <td>BB_0659.0</td>\n      <td>100.0</td>\n      <td>../data/BGR/Profilbilder_no_ruler_no_sky/SH_00...</td>\n    </tr>\n    <tr>\n      <th>4</th>\n      <td>2.0</td>\n      <td>5.0</td>\n      <td>96.0</td>\n      <td>201.0</td>\n      <td>III; ilCv</td>\n      <td>ilC</td>\n      <td>mSfs</td>\n      <td>10YR 7/4</td>\n      <td>1.0</td>\n      <td>C0</td>\n      <td>h0</td>\n      <td>NaN</td>\n      <td>NaN</td>\n      <td>SH</td>\n      <td>6.0</td>\n      <td>NaN</td>\n      <td>BB_0660.0</td>\n      <td>100.0</td>\n      <td>../data/BGR/Profilbilder_no_ruler_no_sky/SH_00...</td>\n    </tr>\n    <tr>\n      <th>5</th>\n      <td>3.0</td>\n      <td>1.0</td>\n      <td>0.0</td>\n      <td>12.0</td>\n      <td>I; tbSw-Ah</td>\n      <td>tSw-Ah</td>\n      <td>Ls3</td>\n      <td>10YR 4/2</td>\n      <td>0.0</td>\n      <td>C0</td>\n      <td>h3</td>\n      <td>Wf6</td>\n      <td>NaN</td>\n      <td>SH</td>\n      <td>7.0</td>\n      <td>NaN</td>\n      <td>BB_0661.0</td>\n      <td>100.0</td>\n      <td>../data/BGR/Profilbilder_no_ruler_no_sky/SH_00...</td>\n    </tr>\n    <tr>\n      <th>6</th>\n      <td>3.0</td>\n      <td>2.0</td>\n      <td>12.0</td>\n      <td>30.0</td>\n      <td>I; tbSw-rAp</td>\n      <td>tSw-Ap</td>\n      <td>Ls2</td>\n      <td>10YR 4/2</td>\n      <td>0.0</td>\n      <td>C0</td>\n      <td>h2</td>\n      <td>Wf4</td>\n      <td>NaN</td>\n      <td>SH</td>\n      <td>8.0</td>\n      <td>NaN</td>\n      <td>BB_0662.0</td>\n      <td>100.0</td>\n      <td>../data/BGR/Profilbilder_no_ruler_no_sky/SH_00...</td>\n    </tr>\n    <tr>\n      <th>7</th>\n      <td>3.0</td>\n      <td>3.0</td>\n      <td>30.0</td>\n      <td>54.0</td>\n      <td>I; tbrGo-Sw</td>\n      <td>tGo-Sw</td>\n      <td>Ls4</td>\n      <td>2.5Y 5/1</td>\n      <td>0.0</td>\n      <td>C0</td>\n      <td>h1</td>\n      <td>Wf2</td>\n      <td>NaN</td>\n      <td>SH</td>\n      <td>10.0</td>\n      <td>NaN</td>\n      <td>BB_0663.0</td>\n      <td>100.0</td>\n      <td>../data/BGR/Profilbilder_no_ruler_no_sky/SH_00...</td>\n    </tr>\n    <tr>\n      <th>8</th>\n      <td>3.0</td>\n      <td>4.0</td>\n      <td>54.0</td>\n      <td>125.0</td>\n      <td>I; tbGo-Sd</td>\n      <td>tGo-Sd</td>\n      <td>Lu</td>\n      <td>5Y 5/1</td>\n      <td>0.0</td>\n      <td>C0</td>\n      <td>h1</td>\n      <td>NaN</td>\n      <td>NaN</td>\n      <td>SH</td>\n      <td>11.0</td>\n      <td>NaN</td>\n      <td>BB_0718.0</td>\n      <td>100.0</td>\n      <td>../data/BGR/Profilbilder_no_ruler_no_sky/SH_00...</td>\n    </tr>\n    <tr>\n      <th>9</th>\n      <td>3.0</td>\n      <td>5.0</td>\n      <td>125.0</td>\n      <td>160.0</td>\n      <td>II; tmGor</td>\n      <td>tGor</td>\n      <td>Su3</td>\n      <td>5Y 5/1</td>\n      <td>0.0</td>\n      <td>C0</td>\n      <td>h1</td>\n      <td>NaN</td>\n      <td>NaN</td>\n      <td>SH</td>\n      <td>12.0</td>\n      <td>NaN</td>\n      <td>BB_0720.0</td>\n      <td>110.0</td>\n      <td>../data/BGR/Profilbilder_no_ruler_no_sky/SH_00...</td>\n    </tr>\n    <tr>\n      <th>10</th>\n      <td>3.0</td>\n      <td>6.0</td>\n      <td>160.0</td>\n      <td>201.0</td>\n      <td>II; tmeGr</td>\n      <td>tGr</td>\n      <td>Su3</td>\n      <td>GLEY1 4/5GY</td>\n      <td>0.0</td>\n      <td>C3.2</td>\n      <td>h1</td>\n      <td>NaN</td>\n      <td>NaN</td>\n      <td>SH</td>\n      <td>14.0</td>\n      <td>NaN</td>\n      <td>BB_0721.0</td>\n      <td>100.0</td>\n      <td>../data/BGR/Profilbilder_no_ruler_no_sky/SH_00...</td>\n    </tr>\n    <tr>\n      <th>11</th>\n      <td>4.0</td>\n      <td>1.0</td>\n      <td>0.0</td>\n      <td>30.0</td>\n      <td>I; Sw-tbAp</td>\n      <td>Sw-tAp</td>\n      <td>Tu3</td>\n      <td>5Y 5/2</td>\n      <td>0.0</td>\n      <td>C0</td>\n      <td>h3</td>\n      <td>Wf4</td>\n      <td>NaN</td>\n      <td>SH</td>\n      <td>15.0</td>\n      <td>NaN</td>\n      <td>BB_0722.0</td>\n      <td>100.0</td>\n      <td>../data/BGR/Profilbilder_no_ruler_no_sky/SH_00...</td>\n    </tr>\n    <tr>\n      <th>12</th>\n      <td>4.0</td>\n      <td>2.0</td>\n      <td>30.0</td>\n      <td>74.0</td>\n      <td>I; tbSq</td>\n      <td>tSq</td>\n      <td>Tu3</td>\n      <td>5Y 5/1</td>\n      <td>0.0</td>\n      <td>C0</td>\n      <td>h1</td>\n      <td>Wf3</td>\n      <td>NaN</td>\n      <td>SH</td>\n      <td>16.0</td>\n      <td>NaN</td>\n      <td>BB_0723.0</td>\n      <td>100.0</td>\n      <td>../data/BGR/Profilbilder_no_ruler_no_sky/SH_00...</td>\n    </tr>\n    <tr>\n      <th>13</th>\n      <td>4.0</td>\n      <td>3.0</td>\n      <td>74.0</td>\n      <td>140.0</td>\n      <td>I; tbGro</td>\n      <td>tGro</td>\n      <td>Tu4</td>\n      <td>5Y 6/1</td>\n      <td>0.0</td>\n      <td>C0</td>\n      <td>h0</td>\n      <td>Wf1</td>\n      <td>NaN</td>\n      <td>SH</td>\n      <td>17.0</td>\n      <td>NaN</td>\n      <td>BB_0725.0</td>\n      <td>90.0</td>\n      <td>../data/BGR/Profilbilder_no_ruler_no_sky/SH_00...</td>\n    </tr>\n    <tr>\n      <th>14</th>\n      <td>4.0</td>\n      <td>4.0</td>\n      <td>140.0</td>\n      <td>200.0</td>\n      <td>I; tbGr</td>\n      <td>tGr</td>\n      <td>Tu4</td>\n      <td>GLEY1 5/N</td>\n      <td>0.0</td>\n      <td>C0</td>\n      <td>h0</td>\n      <td>NaN</td>\n      <td>NaN</td>\n      <td>SH</td>\n      <td>18.0</td>\n      <td>NaN</td>\n      <td>BB_0781.0</td>\n      <td>100.0</td>\n      <td>../data/BGR/Profilbilder_no_ruler_no_sky/SH_00...</td>\n    </tr>\n  </tbody>\n</table>\n</div>"
     },
     "execution_count": 8,
     "metadata": {},
     "output_type": "execute_result"
    }
   ],
   "source": [
    "df = pd.merge(df, img_files, how='inner', on=['Point']) # for full images\n",
    "#df = pd.merge(df, img_files, how='inner', on=['Point', 'HorizontID']) # for patches\n",
    "df['file'] = df['file'].map(lambda x: os.path.join(path_pictures, x))\n",
    "print(len(df))\n",
    "df.head(15)"
   ],
   "metadata": {
    "collapsed": false,
    "pycharm": {
     "name": "#%%\n"
    }
   }
  },
  {
   "cell_type": "markdown",
   "source": [
    "**Note**: When merging with the image dataset, the total dataframe increases in size, because some soil pictures were taken from more than one angle. These are still not duplicates, although the table features are the same for every such image."
   ],
   "metadata": {
    "collapsed": false
   }
  },
  {
   "cell_type": "code",
   "execution_count": 9,
   "outputs": [],
   "source": [
    "# Join with annotator ids\n",
    "#df_k = pd.read_csv(path_csv_annotator_ids)\n",
    "#df_k = df_k.rename({'PointID':'Point'},axis=1)\n",
    "#df_k.head()"
   ],
   "metadata": {
    "collapsed": false,
    "pycharm": {
     "name": "#%%\n"
    }
   }
  },
  {
   "cell_type": "code",
   "execution_count": 10,
   "outputs": [],
   "source": [
    "#df = pd.merge(df, df_k, how='inner', on='Point')\n",
    "#len(df)"
   ],
   "metadata": {
    "collapsed": false,
    "pycharm": {
     "name": "#%%\n"
    }
   }
  },
  {
   "cell_type": "markdown",
   "source": [
    "**Note**: When joining with the annotator ids, the size of df decreases, since we don't have this id for every sample in the df."
   ],
   "metadata": {
    "collapsed": false
   }
  },
  {
   "cell_type": "code",
   "execution_count": 11,
   "outputs": [
    {
     "name": "stdout",
     "output_type": "stream",
     "text": [
      "3106\n"
     ]
    },
    {
     "data": {
      "text/plain": "  Point Bundesland  Probenahme_Monat  Probenahme_Jahr       xcoord  \\\n0     2         SH                11             2015  462216.1283   \n1     3         SH                 6             2016  480546.9384   \n2     4         SH                 8             2018  484922.3074   \n3     5         SH                10             2015  497355.9905   \n4     6         SH                10             2015  505020.3377   \n\n        ycoord Bodenklimaraum_Name Landnutzung BZE_Moor Hauptbodentyp  \\\n0  6079359.775       Marsch - Nord           A        0            YE   \n1  6079739.216       Marsch - Nord           G        0            MD   \n2  6080011.471       Marsch - Nord           A        0            MK   \n3  6079646.589       Marsch - Nord           G        0            RQ   \n4   6080401.37        Geest - Nord           G        0            YU   \n\n  BodenVarTypSub GrundwaStufe GrundwaStand  Moormaechtigkeit  \\\n0          YE/BB            0         >200               0.0   \n1            MDn         GWS4          135               0.0   \n2            MKn         GWS4          105               0.0   \n3     p2RQ/GG-PP         GWS4          180               0.0   \n4        aGGe-YU         GWS4          140               0.0   \n\n   Torfmaechtigkeit Neigung Exposition Woelbung Reliefformtyp LageImRelief  \\\n0               0.0      N0        NaN       GG             V            Z   \n1               0.0      N0        NaN       GG           TSF            Z   \n2               0.0      N1         NE       GG            TH            Z   \n3               0.0    N0.2         SS       GG           KSF            K   \n4               0.0      N0        NaN       GG           TSF            Z   \n\n   KV_0_30  KV_30_100  \n0    81.89      54.19  \n1    71.62      59.74  \n2    65.60     120.40  \n3    88.82     220.87  \n4    62.97      84.35  ",
      "text/html": "<div>\n<style scoped>\n    .dataframe tbody tr th:only-of-type {\n        vertical-align: middle;\n    }\n\n    .dataframe tbody tr th {\n        vertical-align: top;\n    }\n\n    .dataframe thead th {\n        text-align: right;\n    }\n</style>\n<table border=\"1\" class=\"dataframe\">\n  <thead>\n    <tr style=\"text-align: right;\">\n      <th></th>\n      <th>Point</th>\n      <th>Bundesland</th>\n      <th>Probenahme_Monat</th>\n      <th>Probenahme_Jahr</th>\n      <th>xcoord</th>\n      <th>ycoord</th>\n      <th>Bodenklimaraum_Name</th>\n      <th>Landnutzung</th>\n      <th>BZE_Moor</th>\n      <th>Hauptbodentyp</th>\n      <th>BodenVarTypSub</th>\n      <th>GrundwaStufe</th>\n      <th>GrundwaStand</th>\n      <th>Moormaechtigkeit</th>\n      <th>Torfmaechtigkeit</th>\n      <th>Neigung</th>\n      <th>Exposition</th>\n      <th>Woelbung</th>\n      <th>Reliefformtyp</th>\n      <th>LageImRelief</th>\n      <th>KV_0_30</th>\n      <th>KV_30_100</th>\n    </tr>\n  </thead>\n  <tbody>\n    <tr>\n      <th>0</th>\n      <td>2</td>\n      <td>SH</td>\n      <td>11</td>\n      <td>2015</td>\n      <td>462216.1283</td>\n      <td>6079359.775</td>\n      <td>Marsch - Nord</td>\n      <td>A</td>\n      <td>0</td>\n      <td>YE</td>\n      <td>YE/BB</td>\n      <td>0</td>\n      <td>&gt;200</td>\n      <td>0.0</td>\n      <td>0.0</td>\n      <td>N0</td>\n      <td>NaN</td>\n      <td>GG</td>\n      <td>V</td>\n      <td>Z</td>\n      <td>81.89</td>\n      <td>54.19</td>\n    </tr>\n    <tr>\n      <th>1</th>\n      <td>3</td>\n      <td>SH</td>\n      <td>6</td>\n      <td>2016</td>\n      <td>480546.9384</td>\n      <td>6079739.216</td>\n      <td>Marsch - Nord</td>\n      <td>G</td>\n      <td>0</td>\n      <td>MD</td>\n      <td>MDn</td>\n      <td>GWS4</td>\n      <td>135</td>\n      <td>0.0</td>\n      <td>0.0</td>\n      <td>N0</td>\n      <td>NaN</td>\n      <td>GG</td>\n      <td>TSF</td>\n      <td>Z</td>\n      <td>71.62</td>\n      <td>59.74</td>\n    </tr>\n    <tr>\n      <th>2</th>\n      <td>4</td>\n      <td>SH</td>\n      <td>8</td>\n      <td>2018</td>\n      <td>484922.3074</td>\n      <td>6080011.471</td>\n      <td>Marsch - Nord</td>\n      <td>A</td>\n      <td>0</td>\n      <td>MK</td>\n      <td>MKn</td>\n      <td>GWS4</td>\n      <td>105</td>\n      <td>0.0</td>\n      <td>0.0</td>\n      <td>N1</td>\n      <td>NE</td>\n      <td>GG</td>\n      <td>TH</td>\n      <td>Z</td>\n      <td>65.60</td>\n      <td>120.40</td>\n    </tr>\n    <tr>\n      <th>3</th>\n      <td>5</td>\n      <td>SH</td>\n      <td>10</td>\n      <td>2015</td>\n      <td>497355.9905</td>\n      <td>6079646.589</td>\n      <td>Marsch - Nord</td>\n      <td>G</td>\n      <td>0</td>\n      <td>RQ</td>\n      <td>p2RQ/GG-PP</td>\n      <td>GWS4</td>\n      <td>180</td>\n      <td>0.0</td>\n      <td>0.0</td>\n      <td>N0.2</td>\n      <td>SS</td>\n      <td>GG</td>\n      <td>KSF</td>\n      <td>K</td>\n      <td>88.82</td>\n      <td>220.87</td>\n    </tr>\n    <tr>\n      <th>4</th>\n      <td>6</td>\n      <td>SH</td>\n      <td>10</td>\n      <td>2015</td>\n      <td>505020.3377</td>\n      <td>6080401.37</td>\n      <td>Geest - Nord</td>\n      <td>G</td>\n      <td>0</td>\n      <td>YU</td>\n      <td>aGGe-YU</td>\n      <td>GWS4</td>\n      <td>140</td>\n      <td>0.0</td>\n      <td>0.0</td>\n      <td>N0</td>\n      <td>NaN</td>\n      <td>GG</td>\n      <td>TSF</td>\n      <td>Z</td>\n      <td>62.97</td>\n      <td>84.35</td>\n    </tr>\n  </tbody>\n</table>\n</div>"
     },
     "execution_count": 11,
     "metadata": {},
     "output_type": "execute_result"
    }
   ],
   "source": [
    "# Join with table containing geographical infos\n",
    "df_loc = pd.read_csv(path_csv_locations, encoding='unicode_escape')\n",
    "df_loc = df_loc.rename({'PointID':'Point'},axis=1)\n",
    "print(len(df_loc))\n",
    "df_loc.head()"
   ],
   "metadata": {
    "collapsed": false,
    "pycharm": {
     "name": "#%%\n"
    }
   }
  },
  {
   "cell_type": "code",
   "execution_count": 12,
   "outputs": [
    {
     "data": {
      "text/plain": "16316"
     },
     "execution_count": 12,
     "metadata": {},
     "output_type": "execute_result"
    }
   ],
   "source": [
    "# There are some string artifacts when reading the Standort dataframe. Set them to NaN and remove the rows\n",
    "df_loc['Point'] = pd.to_numeric(df_loc['Point'], errors='coerce')\n",
    "df_loc = df_loc.dropna(subset=['Point'])\n",
    "df = pd.merge(df, df_loc, how='inner', on='Point')\n",
    "len(df)"
   ],
   "metadata": {
    "collapsed": false,
    "pycharm": {
     "name": "#%%\n"
    }
   }
  },
  {
   "cell_type": "markdown",
   "source": [
    "**Note** Size of df stays the same after merging with df_loc (Points in df_loc are all contained in Points df)."
   ],
   "metadata": {
    "collapsed": false
   }
  },
  {
   "cell_type": "code",
   "execution_count": 13,
   "outputs": [
    {
     "data": {
      "text/plain": "        Point  Obergrenze  Untergrenze Horizontsymbol_relevant Bodenart  \\\n0         2.0         0.0         28.0                      Ap      Sl2   \n1         2.0        28.0         54.0                       E      Sl2   \n2         2.0        54.0         68.0                      Bv      Sl2   \n3         2.0        68.0         96.0                  Bv-ilC     fSms   \n4         2.0        96.0        201.0                     ilC     mSfs   \n...       ...         ...          ...                     ...      ...   \n16311  6211.0        70.0        100.0                  Go-Bbs     fSms   \n16312  6211.0       100.0        130.0                      Go     fSms   \n16313  6211.0       100.0        130.0                      Go     fSms   \n16314  6211.0       130.0        155.0                      Gr     fSms   \n16315  6211.0       130.0        155.0                      Gr     fSms   \n\n      Bodenfarbe  Steine Karbonat Humusgehaltsklasse Durchwurzelung  \\\n0      7.5YR 3/2     3.0       C0                 h3            Wf4   \n1       10YR 3/3     3.0       C0                 h2            Wf3   \n2      7.5YR 4/3    10.0       C0                 h1            Wf3   \n3      7.5YR 6/4     1.0       C0                 h0            Wf2   \n4       10YR 7/4     1.0       C0                 h0            NaN   \n...          ...     ...      ...                ...            ...   \n16311  7.5YR 5/4     1.0       C0                 h1            Wf6   \n16312   2.5Y 6/4     1.0       C0                 h0            Wf4   \n16313   2.5Y 6/4     1.0       C0                 h0            Wf4   \n16314   2.5Y 5/4     1.0       C0                 h0            Wf2   \n16315   2.5Y 5/4     1.0       C0                 h0            Wf2   \n\n                                                    file  Probenahme_Monat  \\\n0      ../data/BGR/Profilbilder_no_ruler_no_sky/SH_00...                11   \n1      ../data/BGR/Profilbilder_no_ruler_no_sky/SH_00...                11   \n2      ../data/BGR/Profilbilder_no_ruler_no_sky/SH_00...                11   \n3      ../data/BGR/Profilbilder_no_ruler_no_sky/SH_00...                11   \n4      ../data/BGR/Profilbilder_no_ruler_no_sky/SH_00...                11   \n...                                                  ...               ...   \n16311  ../data/BGR/Profilbilder_no_ruler_no_sky/NI_62...                 6   \n16312  ../data/BGR/Profilbilder_no_ruler_no_sky/NI_62...                 6   \n16313  ../data/BGR/Profilbilder_no_ruler_no_sky/NI_62...                 6   \n16314  ../data/BGR/Profilbilder_no_ruler_no_sky/NI_62...                 6   \n16315  ../data/BGR/Profilbilder_no_ruler_no_sky/NI_62...                 6   \n\n       Probenahme_Jahr       xcoord       ycoord  \\\n0                 2015  462216.1283  6079359.775   \n1                 2015  462216.1283  6079359.775   \n2                 2015  462216.1283  6079359.775   \n3                 2015  462216.1283  6079359.775   \n4                 2015  462216.1283  6079359.775   \n...                ...          ...          ...   \n16311             2012  522076.9633  5930456.114   \n16312             2012  522076.9633  5930456.114   \n16313             2012  522076.9633  5930456.114   \n16314             2012  522076.9633  5930456.114   \n16315             2012  522076.9633  5930456.114   \n\n                      Bodenklimaraum_Name Landnutzung BZE_Moor Hauptbodentyp  \\\n0                           Marsch - Nord           A        0            YE   \n1                           Marsch - Nord           A        0            YE   \n2                           Marsch - Nord           A        0            YE   \n3                           Marsch - Nord           A        0            YE   \n4                           Marsch - Nord           A        0            YE   \n...                                   ...         ...      ...           ...   \n16311  Elbe-Weser-Dreieck / sandige Böden           G        0            PP   \n16312  Elbe-Weser-Dreieck / sandige Böden           G        0            PP   \n16313  Elbe-Weser-Dreieck / sandige Böden           G        0            PP   \n16314  Elbe-Weser-Dreieck / sandige Böden           G        0            PP   \n16315  Elbe-Weser-Dreieck / sandige Böden           G        0            PP   \n\n      BodenVarTypSub GrundwaStufe  GrundwaStand  Moormaechtigkeit  \\\n0              YE/BB            0         200.0               0.0   \n1              YE/BB            0         200.0               0.0   \n2              YE/BB            0         200.0               0.0   \n3              YE/BB            0         200.0               0.0   \n4              YE/BB            0         200.0               0.0   \n...              ...          ...           ...               ...   \n16311          GG-PP         GWS4         110.0               0.0   \n16312          GG-PP         GWS4         110.0               0.0   \n16313          GG-PP         GWS4         110.0               0.0   \n16314          GG-PP         GWS4         110.0               0.0   \n16315          GG-PP         GWS4         110.0               0.0   \n\n       Torfmaechtigkeit Neigung Exposition Woelbung Reliefformtyp  \\\n0                   0.0      N0        NaN       GG             V   \n1                   0.0      N0        NaN       GG             V   \n2                   0.0      N0        NaN       GG             V   \n3                   0.0      N0        NaN       GG             V   \n4                   0.0      N0        NaN       GG             V   \n...                 ...     ...        ...      ...           ...   \n16311               0.0      N0        NaN       GG           TSF   \n16312               0.0      N0        NaN       GG           TSF   \n16313               0.0      N0        NaN       GG           TSF   \n16314               0.0      N0        NaN       GG           TSF   \n16315               0.0      N0        NaN       GG           TSF   \n\n      LageImRelief  KV_0_30  KV_30_100  \n0                Z    81.89      54.19  \n1                Z    81.89      54.19  \n2                Z    81.89      54.19  \n3                Z    81.89      54.19  \n4                Z    81.89      54.19  \n...            ...      ...        ...  \n16311            T   117.59      87.72  \n16312            T   117.59      87.72  \n16313            T   117.59      87.72  \n16314            T   117.59      87.72  \n16315            T   117.59      87.72  \n\n[16316 rows x 31 columns]",
      "text/html": "<div>\n<style scoped>\n    .dataframe tbody tr th:only-of-type {\n        vertical-align: middle;\n    }\n\n    .dataframe tbody tr th {\n        vertical-align: top;\n    }\n\n    .dataframe thead th {\n        text-align: right;\n    }\n</style>\n<table border=\"1\" class=\"dataframe\">\n  <thead>\n    <tr style=\"text-align: right;\">\n      <th></th>\n      <th>Point</th>\n      <th>Obergrenze</th>\n      <th>Untergrenze</th>\n      <th>Horizontsymbol_relevant</th>\n      <th>Bodenart</th>\n      <th>Bodenfarbe</th>\n      <th>Steine</th>\n      <th>Karbonat</th>\n      <th>Humusgehaltsklasse</th>\n      <th>Durchwurzelung</th>\n      <th>file</th>\n      <th>Probenahme_Monat</th>\n      <th>Probenahme_Jahr</th>\n      <th>xcoord</th>\n      <th>ycoord</th>\n      <th>Bodenklimaraum_Name</th>\n      <th>Landnutzung</th>\n      <th>BZE_Moor</th>\n      <th>Hauptbodentyp</th>\n      <th>BodenVarTypSub</th>\n      <th>GrundwaStufe</th>\n      <th>GrundwaStand</th>\n      <th>Moormaechtigkeit</th>\n      <th>Torfmaechtigkeit</th>\n      <th>Neigung</th>\n      <th>Exposition</th>\n      <th>Woelbung</th>\n      <th>Reliefformtyp</th>\n      <th>LageImRelief</th>\n      <th>KV_0_30</th>\n      <th>KV_30_100</th>\n    </tr>\n  </thead>\n  <tbody>\n    <tr>\n      <th>0</th>\n      <td>2.0</td>\n      <td>0.0</td>\n      <td>28.0</td>\n      <td>Ap</td>\n      <td>Sl2</td>\n      <td>7.5YR 3/2</td>\n      <td>3.0</td>\n      <td>C0</td>\n      <td>h3</td>\n      <td>Wf4</td>\n      <td>../data/BGR/Profilbilder_no_ruler_no_sky/SH_00...</td>\n      <td>11</td>\n      <td>2015</td>\n      <td>462216.1283</td>\n      <td>6079359.775</td>\n      <td>Marsch - Nord</td>\n      <td>A</td>\n      <td>0</td>\n      <td>YE</td>\n      <td>YE/BB</td>\n      <td>0</td>\n      <td>200.0</td>\n      <td>0.0</td>\n      <td>0.0</td>\n      <td>N0</td>\n      <td>NaN</td>\n      <td>GG</td>\n      <td>V</td>\n      <td>Z</td>\n      <td>81.89</td>\n      <td>54.19</td>\n    </tr>\n    <tr>\n      <th>1</th>\n      <td>2.0</td>\n      <td>28.0</td>\n      <td>54.0</td>\n      <td>E</td>\n      <td>Sl2</td>\n      <td>10YR 3/3</td>\n      <td>3.0</td>\n      <td>C0</td>\n      <td>h2</td>\n      <td>Wf3</td>\n      <td>../data/BGR/Profilbilder_no_ruler_no_sky/SH_00...</td>\n      <td>11</td>\n      <td>2015</td>\n      <td>462216.1283</td>\n      <td>6079359.775</td>\n      <td>Marsch - Nord</td>\n      <td>A</td>\n      <td>0</td>\n      <td>YE</td>\n      <td>YE/BB</td>\n      <td>0</td>\n      <td>200.0</td>\n      <td>0.0</td>\n      <td>0.0</td>\n      <td>N0</td>\n      <td>NaN</td>\n      <td>GG</td>\n      <td>V</td>\n      <td>Z</td>\n      <td>81.89</td>\n      <td>54.19</td>\n    </tr>\n    <tr>\n      <th>2</th>\n      <td>2.0</td>\n      <td>54.0</td>\n      <td>68.0</td>\n      <td>Bv</td>\n      <td>Sl2</td>\n      <td>7.5YR 4/3</td>\n      <td>10.0</td>\n      <td>C0</td>\n      <td>h1</td>\n      <td>Wf3</td>\n      <td>../data/BGR/Profilbilder_no_ruler_no_sky/SH_00...</td>\n      <td>11</td>\n      <td>2015</td>\n      <td>462216.1283</td>\n      <td>6079359.775</td>\n      <td>Marsch - Nord</td>\n      <td>A</td>\n      <td>0</td>\n      <td>YE</td>\n      <td>YE/BB</td>\n      <td>0</td>\n      <td>200.0</td>\n      <td>0.0</td>\n      <td>0.0</td>\n      <td>N0</td>\n      <td>NaN</td>\n      <td>GG</td>\n      <td>V</td>\n      <td>Z</td>\n      <td>81.89</td>\n      <td>54.19</td>\n    </tr>\n    <tr>\n      <th>3</th>\n      <td>2.0</td>\n      <td>68.0</td>\n      <td>96.0</td>\n      <td>Bv-ilC</td>\n      <td>fSms</td>\n      <td>7.5YR 6/4</td>\n      <td>1.0</td>\n      <td>C0</td>\n      <td>h0</td>\n      <td>Wf2</td>\n      <td>../data/BGR/Profilbilder_no_ruler_no_sky/SH_00...</td>\n      <td>11</td>\n      <td>2015</td>\n      <td>462216.1283</td>\n      <td>6079359.775</td>\n      <td>Marsch - Nord</td>\n      <td>A</td>\n      <td>0</td>\n      <td>YE</td>\n      <td>YE/BB</td>\n      <td>0</td>\n      <td>200.0</td>\n      <td>0.0</td>\n      <td>0.0</td>\n      <td>N0</td>\n      <td>NaN</td>\n      <td>GG</td>\n      <td>V</td>\n      <td>Z</td>\n      <td>81.89</td>\n      <td>54.19</td>\n    </tr>\n    <tr>\n      <th>4</th>\n      <td>2.0</td>\n      <td>96.0</td>\n      <td>201.0</td>\n      <td>ilC</td>\n      <td>mSfs</td>\n      <td>10YR 7/4</td>\n      <td>1.0</td>\n      <td>C0</td>\n      <td>h0</td>\n      <td>NaN</td>\n      <td>../data/BGR/Profilbilder_no_ruler_no_sky/SH_00...</td>\n      <td>11</td>\n      <td>2015</td>\n      <td>462216.1283</td>\n      <td>6079359.775</td>\n      <td>Marsch - Nord</td>\n      <td>A</td>\n      <td>0</td>\n      <td>YE</td>\n      <td>YE/BB</td>\n      <td>0</td>\n      <td>200.0</td>\n      <td>0.0</td>\n      <td>0.0</td>\n      <td>N0</td>\n      <td>NaN</td>\n      <td>GG</td>\n      <td>V</td>\n      <td>Z</td>\n      <td>81.89</td>\n      <td>54.19</td>\n    </tr>\n    <tr>\n      <th>...</th>\n      <td>...</td>\n      <td>...</td>\n      <td>...</td>\n      <td>...</td>\n      <td>...</td>\n      <td>...</td>\n      <td>...</td>\n      <td>...</td>\n      <td>...</td>\n      <td>...</td>\n      <td>...</td>\n      <td>...</td>\n      <td>...</td>\n      <td>...</td>\n      <td>...</td>\n      <td>...</td>\n      <td>...</td>\n      <td>...</td>\n      <td>...</td>\n      <td>...</td>\n      <td>...</td>\n      <td>...</td>\n      <td>...</td>\n      <td>...</td>\n      <td>...</td>\n      <td>...</td>\n      <td>...</td>\n      <td>...</td>\n      <td>...</td>\n      <td>...</td>\n      <td>...</td>\n    </tr>\n    <tr>\n      <th>16311</th>\n      <td>6211.0</td>\n      <td>70.0</td>\n      <td>100.0</td>\n      <td>Go-Bbs</td>\n      <td>fSms</td>\n      <td>7.5YR 5/4</td>\n      <td>1.0</td>\n      <td>C0</td>\n      <td>h1</td>\n      <td>Wf6</td>\n      <td>../data/BGR/Profilbilder_no_ruler_no_sky/NI_62...</td>\n      <td>6</td>\n      <td>2012</td>\n      <td>522076.9633</td>\n      <td>5930456.114</td>\n      <td>Elbe-Weser-Dreieck / sandige Böden</td>\n      <td>G</td>\n      <td>0</td>\n      <td>PP</td>\n      <td>GG-PP</td>\n      <td>GWS4</td>\n      <td>110.0</td>\n      <td>0.0</td>\n      <td>0.0</td>\n      <td>N0</td>\n      <td>NaN</td>\n      <td>GG</td>\n      <td>TSF</td>\n      <td>T</td>\n      <td>117.59</td>\n      <td>87.72</td>\n    </tr>\n    <tr>\n      <th>16312</th>\n      <td>6211.0</td>\n      <td>100.0</td>\n      <td>130.0</td>\n      <td>Go</td>\n      <td>fSms</td>\n      <td>2.5Y 6/4</td>\n      <td>1.0</td>\n      <td>C0</td>\n      <td>h0</td>\n      <td>Wf4</td>\n      <td>../data/BGR/Profilbilder_no_ruler_no_sky/NI_62...</td>\n      <td>6</td>\n      <td>2012</td>\n      <td>522076.9633</td>\n      <td>5930456.114</td>\n      <td>Elbe-Weser-Dreieck / sandige Böden</td>\n      <td>G</td>\n      <td>0</td>\n      <td>PP</td>\n      <td>GG-PP</td>\n      <td>GWS4</td>\n      <td>110.0</td>\n      <td>0.0</td>\n      <td>0.0</td>\n      <td>N0</td>\n      <td>NaN</td>\n      <td>GG</td>\n      <td>TSF</td>\n      <td>T</td>\n      <td>117.59</td>\n      <td>87.72</td>\n    </tr>\n    <tr>\n      <th>16313</th>\n      <td>6211.0</td>\n      <td>100.0</td>\n      <td>130.0</td>\n      <td>Go</td>\n      <td>fSms</td>\n      <td>2.5Y 6/4</td>\n      <td>1.0</td>\n      <td>C0</td>\n      <td>h0</td>\n      <td>Wf4</td>\n      <td>../data/BGR/Profilbilder_no_ruler_no_sky/NI_62...</td>\n      <td>6</td>\n      <td>2012</td>\n      <td>522076.9633</td>\n      <td>5930456.114</td>\n      <td>Elbe-Weser-Dreieck / sandige Böden</td>\n      <td>G</td>\n      <td>0</td>\n      <td>PP</td>\n      <td>GG-PP</td>\n      <td>GWS4</td>\n      <td>110.0</td>\n      <td>0.0</td>\n      <td>0.0</td>\n      <td>N0</td>\n      <td>NaN</td>\n      <td>GG</td>\n      <td>TSF</td>\n      <td>T</td>\n      <td>117.59</td>\n      <td>87.72</td>\n    </tr>\n    <tr>\n      <th>16314</th>\n      <td>6211.0</td>\n      <td>130.0</td>\n      <td>155.0</td>\n      <td>Gr</td>\n      <td>fSms</td>\n      <td>2.5Y 5/4</td>\n      <td>1.0</td>\n      <td>C0</td>\n      <td>h0</td>\n      <td>Wf2</td>\n      <td>../data/BGR/Profilbilder_no_ruler_no_sky/NI_62...</td>\n      <td>6</td>\n      <td>2012</td>\n      <td>522076.9633</td>\n      <td>5930456.114</td>\n      <td>Elbe-Weser-Dreieck / sandige Böden</td>\n      <td>G</td>\n      <td>0</td>\n      <td>PP</td>\n      <td>GG-PP</td>\n      <td>GWS4</td>\n      <td>110.0</td>\n      <td>0.0</td>\n      <td>0.0</td>\n      <td>N0</td>\n      <td>NaN</td>\n      <td>GG</td>\n      <td>TSF</td>\n      <td>T</td>\n      <td>117.59</td>\n      <td>87.72</td>\n    </tr>\n    <tr>\n      <th>16315</th>\n      <td>6211.0</td>\n      <td>130.0</td>\n      <td>155.0</td>\n      <td>Gr</td>\n      <td>fSms</td>\n      <td>2.5Y 5/4</td>\n      <td>1.0</td>\n      <td>C0</td>\n      <td>h0</td>\n      <td>Wf2</td>\n      <td>../data/BGR/Profilbilder_no_ruler_no_sky/NI_62...</td>\n      <td>6</td>\n      <td>2012</td>\n      <td>522076.9633</td>\n      <td>5930456.114</td>\n      <td>Elbe-Weser-Dreieck / sandige Böden</td>\n      <td>G</td>\n      <td>0</td>\n      <td>PP</td>\n      <td>GG-PP</td>\n      <td>GWS4</td>\n      <td>110.0</td>\n      <td>0.0</td>\n      <td>0.0</td>\n      <td>N0</td>\n      <td>NaN</td>\n      <td>GG</td>\n      <td>TSF</td>\n      <td>T</td>\n      <td>117.59</td>\n      <td>87.72</td>\n    </tr>\n  </tbody>\n</table>\n<p>16316 rows × 31 columns</p>\n</div>"
     },
     "execution_count": 13,
     "metadata": {},
     "output_type": "execute_result"
    }
   ],
   "source": [
    "# Decide on which columns to keep for training\n",
    "keep_columns = ['Point', #'HorizontID',\n",
    "                'Obergrenze', 'Untergrenze',\n",
    "                #'Horizontsymbol',\n",
    "                'Horizontsymbol_relevant',\n",
    "                #'Horizont_cluster',\n",
    "                'Bodenart', 'Bodenfarbe', 'Steine', 'Karbonat', 'Humusgehaltsklasse', 'Durchwurzelung',\n",
    "                #'max_depth', # not needed for training (and also has mostly NaNs)\n",
    "                'file',\n",
    "                #'Aufnehmer', # only when merged with annotators\n",
    "                'Probenahme_Monat', 'Probenahme_Jahr', 'xcoord', 'ycoord', 'Bodenklimaraum_Name',\n",
    "                'Landnutzung', 'BZE_Moor', 'Hauptbodentyp', 'BodenVarTypSub', 'GrundwaStufe', 'GrundwaStand', 'Moormaechtigkeit',\n",
    "                'Torfmaechtigkeit', 'Neigung', 'Exposition', 'Woelbung', 'Reliefformtyp', 'LageImRelief', 'KV_0_30', 'KV_30_100']\n",
    "df = df[keep_columns]\n",
    "df['GrundwaStand'] = df['GrundwaStand'].str.replace('>','').astype(float)\n",
    "df['ycoord'] = df['ycoord'].astype(float)\n",
    "df"
   ],
   "metadata": {
    "collapsed": false,
    "pycharm": {
     "name": "#%%\n"
    }
   }
  },
  {
   "cell_type": "code",
   "execution_count": 14,
   "outputs": [
    {
     "data": {
      "text/plain": "13621"
     },
     "execution_count": 14,
     "metadata": {},
     "output_type": "execute_result"
    }
   ],
   "source": [
    "# Profile images only show horizons up to ~1 meter depth\n",
    "# Note: Filter only necessary when joining table with whole images, not horizon segments\n",
    "df = df[df['Obergrenze'] < 100]\n",
    "len(df)"
   ],
   "metadata": {
    "collapsed": false,
    "pycharm": {
     "name": "#%%\n"
    }
   }
  },
  {
   "cell_type": "markdown",
   "source": [
    "#### Imputation"
   ],
   "metadata": {
    "collapsed": false
   }
  },
  {
   "cell_type": "code",
   "execution_count": 15,
   "outputs": [
    {
     "name": "stderr",
     "output_type": "stream",
     "text": [
      "/tmp/ipykernel_1300931/1919224170.py:2: SettingWithCopyWarning: \n",
      "A value is trying to be set on a copy of a slice from a DataFrame.\n",
      "Try using .loc[row_indexer,col_indexer] = value instead\n",
      "\n",
      "See the caveats in the documentation: https://pandas.pydata.org/pandas-docs/stable/user_guide/indexing.html#returning-a-view-versus-a-copy\n",
      "  df['Steine'] = df['Steine'].fillna(0.0)\n",
      "/tmp/ipykernel_1300931/1919224170.py:3: SettingWithCopyWarning: \n",
      "A value is trying to be set on a copy of a slice from a DataFrame.\n",
      "Try using .loc[row_indexer,col_indexer] = value instead\n",
      "\n",
      "See the caveats in the documentation: https://pandas.pydata.org/pandas-docs/stable/user_guide/indexing.html#returning-a-view-versus-a-copy\n",
      "  df['Durchwurzelung'] = df['Durchwurzelung'].fillna('Wf0')\n",
      "/tmp/ipykernel_1300931/1919224170.py:4: SettingWithCopyWarning: \n",
      "A value is trying to be set on a copy of a slice from a DataFrame.\n",
      "Try using .loc[row_indexer,col_indexer] = value instead\n",
      "\n",
      "See the caveats in the documentation: https://pandas.pydata.org/pandas-docs/stable/user_guide/indexing.html#returning-a-view-versus-a-copy\n",
      "  df['Durchwurzelung'] = df['Durchwurzelung'].str.split(',').str[0] # Some values have double labels; only keep the first one\n",
      "/tmp/ipykernel_1300931/1919224170.py:5: SettingWithCopyWarning: \n",
      "A value is trying to be set on a copy of a slice from a DataFrame.\n",
      "Try using .loc[row_indexer,col_indexer] = value instead\n",
      "\n",
      "See the caveats in the documentation: https://pandas.pydata.org/pandas-docs/stable/user_guide/indexing.html#returning-a-view-versus-a-copy\n",
      "  df['Exposition'] = df['Exposition'].replace(['0', '---'], 'KE') # KE = Keine\n"
     ]
    }
   ],
   "source": [
    "# Replace some of the missing values with recommendations from geology\n",
    "df['Steine'] = df['Steine'].fillna(0.0)\n",
    "df['Durchwurzelung'] = df['Durchwurzelung'].fillna('Wf0')\n",
    "df['Durchwurzelung'] = df['Durchwurzelung'].str.split(',').str[0] # Some values have double labels; only keep the first one\n",
    "df['Exposition'] = df['Exposition'].replace(['0', '---'], 'KE') # KE = Keine\n",
    "df.loc[df['Exposition'].isna() & (df['Neigung'] == 'N0'), 'Exposition'] = 'KE' # NaN-Exposition should be 'KE', when Neigung is N0 (there will still be some other NaNs in Exposition"
   ],
   "metadata": {
    "collapsed": false,
    "pycharm": {
     "name": "#%%\n"
    }
   }
  },
  {
   "cell_type": "markdown",
   "source": [
    "#### Features and Labels Encoding"
   ],
   "metadata": {
    "collapsed": false
   }
  },
  {
   "cell_type": "code",
   "execution_count": 16,
   "outputs": [],
   "source": [
    "target = 'Horizontsymbol_relevant' #'Horizont_cluster'\n",
    "num_features   = ['xcoord','ycoord', 'Steine', 'GrundwaStand', 'Moormaechtigkeit', 'Torfmaechtigkeit', 'KV_0_30', 'KV_30_100']\n",
    "categ_features = ['Probenahme_Monat', 'Probenahme_Jahr',\n",
    "                  'Bodenart', 'Bodenfarbe', 'Karbonat', 'Humusgehaltsklasse', 'Durchwurzelung', 'Bodenklimaraum_Name',\n",
    "                  'Landnutzung', 'BZE_Moor', 'Hauptbodentyp', 'BodenVarTypSub', 'GrundwaStufe', 'Neigung',\n",
    "                  'Exposition', 'Woelbung', 'Reliefformtyp', 'LageImRelief']\n",
    "feature_columns = num_features + categ_features"
   ],
   "metadata": {
    "collapsed": false,
    "pycharm": {
     "name": "#%%\n"
    }
   }
  },
  {
   "cell_type": "code",
   "execution_count": 17,
   "outputs": [
    {
     "data": {
      "text/plain": "Horizontsymbol_relevant\nAp         2399\nAh          742\nBv          546\nSd          483\nGo          403\n           ... \nBsh-Bv        1\nilC+Ap        1\nM-Gkso        1\naAh°Gor       1\naAcp2         1\nName: count, Length: 1568, dtype: int64"
     },
     "execution_count": 17,
     "metadata": {},
     "output_type": "execute_result"
    }
   ],
   "source": [
    "counts = df[target].value_counts()\n",
    "counts"
   ],
   "metadata": {
    "collapsed": false,
    "pycharm": {
     "name": "#%%\n"
    }
   }
  },
  {
   "cell_type": "code",
   "execution_count": 18,
   "outputs": [
    {
     "name": "stdout",
     "output_type": "stream",
     "text": [
      "(87, 61)\n"
     ]
    },
    {
     "data": {
      "text/plain": "{'ind2label': ['ilC',\n  'Ael',\n  'Sd',\n  'C.',\n  'imCv',\n  'E.',\n  'emC',\n  'cC',\n  'clC',\n  'ilCbtv',\n  'aelC',\n  'Cv',\n  'Bsh',\n  'Axh',\n  'Bhv',\n  'P.',\n  'Bvt',\n  'Acxh',\n  'Gro',\n  'iC',\n  'tGro',\n  'Go',\n  'Ap',\n  'Gw',\n  'Aep',\n  'cmC',\n  'imC',\n  'Ssw',\n  'Mc',\n  'Hw',\n  'Acp',\n  'mCv',\n  'Bv',\n  'Sswd',\n  'elC',\n  'lC',\n  'Aeh',\n  'Bhs',\n  'Cj',\n  'tGr',\n  'Axp',\n  'bE',\n  'Gr',\n  'Gkso',\n  'Gor',\n  'M.',\n  'Bsv',\n  'Sw',\n  'Bt',\n  'Bcv',\n  'Btv',\n  'Hr',\n  'Hv',\n  'elCc',\n  'Bs',\n  'R.',\n  'tGo',\n  'Bh',\n  'Ah',\n  'Cbtv',\n  'Al',\n  'Sw-Bv',\n  'Bv-ilC',\n  'Bt-Sd',\n  'Bv-Cv',\n  'Sd-ilC',\n  'Al-Sw',\n  'Al-Bv',\n  'M-Go',\n  'Ael-Bt',\n  'Ah-Bv',\n  'Sw-M',\n  'Sw-Ap',\n  'Bv-Ael',\n  'Go-ilC',\n  'elC-P',\n  'Sd-Bv',\n  'Sw-ilC',\n  'Al-Bt',\n  'Sw-Ah',\n  'P-Sd',\n  'Sd-lC',\n  'Sw-Go',\n  'Sw-Bt',\n  'Sd-Btv',\n  'Bv-elC',\n  'M-Gro'],\n 'label2ind': {'ilC': 0,\n  'Ael': 1,\n  'Sd': 2,\n  'C.': 3,\n  'imCv': 4,\n  'E.': 5,\n  'emC': 6,\n  'cC': 7,\n  'clC': 8,\n  'ilCbtv': 9,\n  'aelC': 10,\n  'Cv': 11,\n  'Bsh': 12,\n  'Axh': 13,\n  'Bhv': 14,\n  'P.': 15,\n  'Bvt': 16,\n  'Acxh': 17,\n  'Gro': 18,\n  'iC': 19,\n  'tGro': 20,\n  'Go': 21,\n  'Ap': 22,\n  'Gw': 23,\n  'Aep': 24,\n  'cmC': 25,\n  'imC': 26,\n  'Ssw': 27,\n  'Mc': 28,\n  'Hw': 29,\n  'Acp': 30,\n  'mCv': 31,\n  'Bv': 32,\n  'Sswd': 33,\n  'elC': 34,\n  'lC': 35,\n  'Aeh': 36,\n  'Bhs': 37,\n  'Cj': 38,\n  'tGr': 39,\n  'Axp': 40,\n  'bE': 41,\n  'Gr': 42,\n  'Gkso': 43,\n  'Gor': 44,\n  'M.': 45,\n  'Bsv': 46,\n  'Sw': 47,\n  'Bt': 48,\n  'Bcv': 49,\n  'Btv': 50,\n  'Hr': 51,\n  'Hv': 52,\n  'elCc': 53,\n  'Bs': 54,\n  'R.': 55,\n  'tGo': 56,\n  'Bh': 57,\n  'Ah': 58,\n  'Cbtv': 59,\n  'Al': 60,\n  'Sw-Bv': 61,\n  'Bv-ilC': 62,\n  'Bt-Sd': 63,\n  'Bv-Cv': 64,\n  'Sd-ilC': 65,\n  'Al-Sw': 66,\n  'Al-Bv': 67,\n  'M-Go': 68,\n  'Ael-Bt': 69,\n  'Ah-Bv': 70,\n  'Sw-M': 71,\n  'Sw-Ap': 72,\n  'Bv-Ael': 73,\n  'Go-ilC': 74,\n  'elC-P': 75,\n  'Sd-Bv': 76,\n  'Sw-ilC': 77,\n  'Al-Bt': 78,\n  'Sw-Ah': 79,\n  'P-Sd': 80,\n  'Sd-lC': 81,\n  'Sw-Go': 82,\n  'Sw-Bt': 83,\n  'Sd-Btv': 84,\n  'Bv-elC': 85,\n  'M-Gro': 86},\n 'embedding': array([[1.  , 0.  , 0.  , ..., 0.  , 0.  , 0.  ],\n        [0.  , 1.  , 0.  , ..., 0.  , 0.  , 0.  ],\n        [0.  , 0.  , 1.  , ..., 0.  , 0.  , 0.  ],\n        ...,\n        [0.  , 0.  , 0.5 , ..., 0.  , 0.  , 0.  ],\n        [0.25, 0.  , 0.  , ..., 0.  , 0.  , 0.  ],\n        [0.  , 0.  , 0.  , ..., 0.  , 0.  , 0.  ]])}"
     },
     "execution_count": 18,
     "metadata": {},
     "output_type": "execute_result"
    }
   ],
   "source": [
    "# If already computed, load the HCE embeddings for the labels (see Label_Graph.ipynb)\n",
    "with open('./BGR/label_embeddings/all_horizons_embeddings.pickle', 'rb') as handle:\n",
    "    emb_dict = pickle.load(handle)\n",
    "print(np.shape(emb_dict['embedding']))\n",
    "emb_dict"
   ],
   "metadata": {
    "collapsed": false,
    "pycharm": {
     "name": "#%%\n"
    }
   }
  },
  {
   "cell_type": "code",
   "execution_count": 19,
   "outputs": [
    {
     "data": {
      "text/plain": "{'ilC': 0,\n 'Ael': 1,\n 'Sd': 2,\n 'C': 3,\n 'imCv': 4,\n 'E': 5,\n 'emC': 6,\n 'cC': 7,\n 'clC': 8,\n 'ilCbtv': 9,\n 'aelC': 10,\n 'Cv': 11,\n 'Bsh': 12,\n 'Axh': 13,\n 'Bhv': 14,\n 'P': 15,\n 'Bvt': 16,\n 'Acxh': 17,\n 'Gro': 18,\n 'iC': 19,\n 'tGro': 20,\n 'Go': 21,\n 'Ap': 22,\n 'Gw': 23,\n 'Aep': 24,\n 'cmC': 25,\n 'imC': 26,\n 'Ssw': 27,\n 'Mc': 28,\n 'Hw': 29,\n 'Acp': 30,\n 'mCv': 31,\n 'Bv': 32,\n 'Sswd': 33,\n 'elC': 34,\n 'lC': 35,\n 'Aeh': 36,\n 'Bhs': 37,\n 'Cj': 38,\n 'tGr': 39,\n 'Axp': 40,\n 'bE': 41,\n 'Gr': 42,\n 'Gkso': 43,\n 'Gor': 44,\n 'M': 45,\n 'Bsv': 46,\n 'Sw': 47,\n 'Bt': 48,\n 'Bcv': 49,\n 'Btv': 50,\n 'Hr': 51,\n 'Hv': 52,\n 'elCc': 53,\n 'Bs': 54,\n 'R': 55,\n 'tGo': 56,\n 'Bh': 57,\n 'Ah': 58,\n 'Cbtv': 59,\n 'Al': 60,\n 'Sw-Bv': 61,\n 'Bv-ilC': 62,\n 'Bt-Sd': 63,\n 'Bv-Cv': 64,\n 'Sd-ilC': 65,\n 'Al-Sw': 66,\n 'Al-Bv': 67,\n 'M-Go': 68,\n 'Ael-Bt': 69,\n 'Ah-Bv': 70,\n 'Sw-M': 71,\n 'Sw-Ap': 72,\n 'Bv-Ael': 73,\n 'Go-ilC': 74,\n 'elC-P': 75,\n 'Sd-Bv': 76,\n 'Sw-ilC': 77,\n 'Al-Bt': 78,\n 'Sw-Ah': 79,\n 'P-Sd': 80,\n 'Sd-lC': 81,\n 'Sw-Go': 82,\n 'Sw-Bt': 83,\n 'Sd-Btv': 84,\n 'Bv-elC': 85,\n 'M-Gro': 86}"
     },
     "execution_count": 19,
     "metadata": {},
     "output_type": "execute_result"
    }
   ],
   "source": [
    "# For HCE: create separate dict where labels made out only of main symbols are stripped of the full stop '.'\n",
    "# Note: We will use the label indexes from the embedding dictionary instead of a new sparse one-hot encoding to ease access to the embedding vectors during training via the original indexes from the emb_dict\n",
    "dict_mapping = {}\n",
    "for key, value in emb_dict['label2ind'].items():\n",
    "    dict_mapping[key.strip('.')] = value\n",
    "dict_mapping"
   ],
   "metadata": {
    "collapsed": false,
    "pycharm": {
     "name": "#%%\n"
    }
   }
  },
  {
   "cell_type": "code",
   "execution_count": 20,
   "outputs": [
    {
     "name": "stderr",
     "output_type": "stream",
     "text": [
      "/tmp/ipykernel_1300931/1744044841.py:2: SettingWithCopyWarning: \n",
      "A value is trying to be set on a copy of a slice from a DataFrame.\n",
      "Try using .loc[row_indexer,col_indexer] = value instead\n",
      "\n",
      "See the caveats in the documentation: https://pandas.pydata.org/pandas-docs/stable/user_guide/indexing.html#returning-a-view-versus-a-copy\n",
      "  df[target] = df[target].str.replace('+', '-', regex=False)\n",
      "/tmp/ipykernel_1300931/1744044841.py:3: SettingWithCopyWarning: \n",
      "A value is trying to be set on a copy of a slice from a DataFrame.\n",
      "Try using .loc[row_indexer,col_indexer] = value instead\n",
      "\n",
      "See the caveats in the documentation: https://pandas.pydata.org/pandas-docs/stable/user_guide/indexing.html#returning-a-view-versus-a-copy\n",
      "  df[target] = df[target].str.replace('°', '-', regex=False) # also these, so that there is only one type of mixtures (the minus-mixture)\n",
      "/tmp/ipykernel_1300931/1744044841.py:5: SettingWithCopyWarning: \n",
      "A value is trying to be set on a copy of a slice from a DataFrame.\n",
      "Try using .loc[row_indexer,col_indexer] = value instead\n",
      "\n",
      "See the caveats in the documentation: https://pandas.pydata.org/pandas-docs/stable/user_guide/indexing.html#returning-a-view-versus-a-copy\n",
      "  df[target] = df[target].str.replace(r'\\d+$', '', regex=True)\n"
     ]
    }
   ],
   "source": [
    "# Replace '+' with '-' in the target column (see Label_Graph.ipynb)\n",
    "df[target] = df[target].str.replace('+', '-', regex=False)\n",
    "df[target] = df[target].str.replace('°', '-', regex=False) # also these, so that there is only one type of mixtures (the minus-mixture)\n",
    "# Remove trailing numbers from the labels in the target column (they only account for how often the horizon is seen in the same picture)\n",
    "df[target] = df[target].str.replace(r'\\d+$', '', regex=True)"
   ],
   "metadata": {
    "collapsed": false,
    "pycharm": {
     "name": "#%%\n"
    }
   }
  },
  {
   "cell_type": "code",
   "execution_count": 21,
   "outputs": [
    {
     "data": {
      "text/plain": "{'Ap': 'Ap',\n 'E': 'E',\n 'Bv': 'Bv',\n 'Bv-ilC': 'Bv-ilC',\n 'ilC': 'ilC',\n 'tSw-Ah': 'Sw-Ah',\n 'tSw-Ap': 'Sw-Ap',\n 'tGo-Sw': 'tGo',\n 'tGo-Sd': 'tGo',\n 'Sw-tAp': 'Sw-Ap',\n 'tSq': 'Sd',\n 'tGro': 'tGro',\n 'Aeh': 'Aeh',\n 'Aep': 'Aep',\n 'oCv': 'Cv',\n 'fOh': 'Bsh',\n 'Ae': 'Ael',\n 'Bsh-Go': 'Bsh',\n 'Bs-Go': 'M-Go',\n 'R-Ah': 'Ah',\n 'R-Gso-Gr': 'Gor',\n 'R-Gr-Gso': 'M-Gro',\n 'R-Go-Gso': 'Gkso',\n 'tbSq': 'Sd',\n 'tGor': 'tGr',\n 'tAp-Go': 'tGo',\n 'Ah-ilCv': 'Bv-ilC',\n 'Aeh-Go': 'Aeh',\n 'Bs-Gw': 'Bsh',\n 'Go-Bhs': 'Bhs',\n 'Go-Ap': 'Sw-Ap',\n 'Go': 'Go',\n 'Gor': 'Gor',\n 'Gr': 'Gr',\n 'Gw': 'Gw',\n 'ilC-Bsh-Bs': 'ilC',\n 'Bhs-ilC': 'Bv-ilC',\n 'M': 'M',\n 'tAp': 'Ap',\n 'tGo': 'tGo',\n 'Hw': 'Hw',\n 'fnHr': 'Hr',\n 'tGo-Ap': 'tGo',\n 'Gro': 'Gro',\n 'Bh-Gw': 'Bhv',\n 'Bhs-Bs': 'Bhs',\n 'Bhs-Go': 'Bhs',\n 'Bhs': 'Bhs',\n 'Sw-Bs': 'Sw-Bv',\n 'Sd': 'Sd',\n 'Sw': 'Sw',\n 'Ap-Al': 'Ael',\n 'Bt-Sd': 'Bt-Sd',\n 'Al-Sw': 'Al-Sw',\n 'Ah': 'Ah',\n 'Swd': 'Sd',\n 'Bh-Aeh': 'Bv-Ael',\n 'Bsh': 'Bsh',\n 'Bs': 'Bs',\n 'Bbs-ilCv': 'Bv-ilC',\n 'Bbh-Bs-ilCv': 'Bv-ilC',\n 'Sd-Bv': 'Sd-Bv',\n 'Cv': 'Cv',\n 'ilC-Sw': 'Al-Sw',\n 'Bv-Sw': 'Bt-Sd',\n 'Sw-Al': 'Sw-Ap',\n 'Sd-Bt': 'Sd-Bv',\n 'tmeGo': 'tGo',\n 'Sw-Bhs-Ae': 'Sw-Bv',\n 'Bs-Sw': 'Bt-Sd',\n 'Bs-ilC': 'Bv-ilC',\n 'R-Go-Bsh': 'Bsh',\n 'Bv-Alh': 'Bv-ilC',\n 'Bvt': 'Bvt',\n 'Sw-Ap': 'Sw-Ap',\n 'Sd-Ap': 'Sw-Ap',\n 'Bv-Ah': 'Bv-Cv',\n 'ilC-Bv': 'ilCbtv',\n 'Bhs-Sw': 'Bhs',\n 'C-Ap': 'Ap',\n 'Bsv': 'Bsv',\n 'eSwd': 'Sd',\n 'Ap-Sw': 'Al-Sw',\n 'tGo-Ah': 'tGo',\n 'fnHw': 'Hw',\n 'Sw-ilC': 'Sw-ilC',\n 'Hv': 'Hv',\n 'Hr': 'Hr',\n 'Al': 'Al',\n 'Sw-M': 'Sw-M',\n 'Bv-Al': 'Bv-Ael',\n 'Bt': 'Bt',\n 'Axp': 'Axp',\n 'Axh': 'Axh',\n 'Axh-Sw': 'Al-Sw',\n 'elC': 'elC',\n 'Sd-lC': 'Sd-lC',\n 'Sd-ilC': 'Sd-ilC',\n 'tGr': 'tGr',\n 'tbGo': 'tGo',\n 'nHv': 'Hv',\n 'Swd-ilCv': 'Sd-ilC',\n 'Go-Aa': 'Go',\n 'Sdw-Bvt': 'Sw-Bv',\n 'Sw-Bv': 'Sw-Bv',\n 'Go-Ah': 'Sw-Ah',\n 'tbGor': 'tGr',\n 'tAh-Sd': 'Bt-Sd',\n 'Hv-Ah': 'Sw-Ah',\n 'lC-Hv': 'ilCbtv',\n 'tGr-Hr': 'tGro',\n 'toGr': 'tGr',\n 'Hm': 'Hw',\n 'Ha': 'Hw',\n 'Ae-Gw': 'Al-Sw',\n 'Ae-Bh-Gw': 'Aeh',\n 'Ah-Gr': 'Ah-Bv',\n 'Bsh-Gr': 'Bsh',\n 'R-Sw-Ap': 'Sw-Ap',\n 'R-Ah-Sw': 'Al-Sw',\n 'Go-Bs': 'Go',\n 'Ap-Swd': 'Al-Sw',\n 'M-Sw': 'Sw',\n 'Sw-Bt': 'Sw-Bt',\n 'Ap-Bt': 'Al-Bt',\n 'Aa': 'Ap',\n 'eSd': 'Sd',\n 'Ah-Go': 'M-Go',\n 'Al-Bv': 'Al-Bv',\n 'Btv': 'Btv',\n 'tSd-Go': 'Sw-Go',\n 'tSd-tGo': 'Sw-Go',\n 'Ahe': 'Ah',\n 'R-Ah-Bsh': 'Ah-Bv',\n 'ilCbtv': 'ilCbtv',\n 'Sw-Ah': 'Sw-Ah',\n 'Ah-Sd': 'Bt-Sd',\n 'P-Sd': 'P-Sd',\n 'Ah-Sw': 'Al-Sw',\n 'Sw-Bt-Al': 'Sw-Bt',\n 'Sw-Sd': 'Sw-Bv',\n 'Al-Bt-Swd': 'Bt-Sd',\n 'Bhv': 'Bhv',\n 'Bt-Al': 'Bt-Sd',\n 'tAh': 'Ah',\n 'Hv-Go': 'M-Go',\n 'Ae-Go': 'M-Go',\n 'Bh-Go': 'M-Go',\n 'Ae-Bh': 'Aeh',\n 'Bhs-Ssw': 'Ssw',\n 'hHv': 'Hv',\n 'Bbt-Bv': 'Btv',\n 'Bbt-ilC': 'Bv-ilC',\n 'Acp': 'Acp',\n 'Bt-Cv': 'Bv-Cv',\n 'Alh': 'Axh',\n 'Bh-Ae': 'Bv-Ael',\n 'Ae-Bs-Bh': 'Ael-Bt',\n 'Al-Bt': 'Al-Bt',\n 'lCv': 'Cv',\n 'Gho': 'Gro',\n 'Bs-ilCv': 'Bv-ilC',\n 'R': 'R',\n 'ilCv': 'ilC',\n 'M-Go': 'M-Go',\n 'Fr-Hw-Hr': 'Hw',\n 'Fr': 'Gr',\n 'R-Bhs': 'Bhs',\n 'Bbh': 'Bsh',\n 'Bv-M': 'Bvt',\n 'Ap-Al-Bv': 'Al-Bv',\n 'Sw-Btv': 'Sw-Bv',\n 'R-eSwd': 'P-Sd',\n 'Ah-Bv': 'Ah-Bv',\n 'Cbtv': 'Cbtv',\n 'ilC-Bbt': 'ilCbtv',\n 'Hp': 'Ap',\n 'Hca': 'cC',\n 'Hcw': 'Hw',\n 'Hcr': 'Hr',\n 'Ahl-Bv': 'Al-Bv',\n 'Ael': 'Ael',\n 'Ael-Bt': 'Ael-Bt',\n 'eAp': 'Ap',\n 'ijlCv': 'ilC',\n 'Go-Ahe': 'Go-ilC',\n 'Bt-Al-Sw': 'Al-Sw',\n 'Ahl': 'Ael',\n 'Sd-Btv': 'Sd-Btv',\n 'Bv-Ael-Sw': 'Bv-Ael',\n 'Ael-Sw': 'Al-Sw',\n 'lC': 'lC',\n 'Ht': 'Hw',\n 'fF': 'Sd',\n 'jeC': 'ilC',\n 'tGo-Ah-Sd': 'tGo',\n 'tAp-Sw': 'Al-Sw',\n 'nHr': 'Hr',\n 'Go-Sw': 'Al-Sw',\n 'H': 'C',\n 'F': 'C',\n 'oGr': 'tGr',\n 'Bs-Swd': 'Bt-Sd',\n 'R-ilC-Bhs': 'ilC',\n 'ilCv-Bs': 'ilC',\n 'Bv-Sd': 'Bt-Sd',\n 'Ael-Bv': 'Al-Bv',\n 'Ael-Bbt': 'Ael-Bt',\n 'Bt-Sdw': 'Bt-Sd',\n 'Bsh-Bv': 'Ah-Bv',\n 'R-Al': 'Al',\n 'C-Bbt': 'Bvt',\n 'Bbt-Al': 'Bt-Sd',\n 'lC-Bbt': 'Al-Bt',\n 'Al-Bv-Sw': 'Al-Sw',\n 'Swd-Bbt-Bv': 'Sd-Btv',\n 'Sd-Sw': 'Al-Sw',\n 'R-Ap': 'Ap',\n 'R-Aeh': 'Aeh',\n 'Gw-Bhs': 'Bhs',\n 'Bhs-Gw': 'Bhs',\n 'Hcv': 'Bcv',\n 'nHcr': 'Hr',\n 'rGo': 'Go',\n 'Fh': 'Bh',\n 'R-Ap-Ae-Bsh': 'Bsh',\n 'Go-Bsh': 'Bsh',\n 'Fr-Hw': 'Hw',\n 'Al-Swd': 'Al-Sw',\n 'Bv-Ael': 'Bv-Ael',\n 'R-Bs': 'Bs',\n 'tmzGr': 'tGr',\n 'Sw-Bsh': 'Sw-Bv',\n 'oC': 'C',\n 'Sw-Go': 'Sw-Go',\n 'Sd-Go': 'Sw-Go',\n 'eGro': 'Gro',\n 'Ctv-Sw': 'Bt-Sd',\n 'Ctv-Sd': 'Bt-Sd',\n 'Go-C': 'Go',\n 'eCv': 'Cv',\n 'Al-Bbt': 'Al-Bt',\n 'Bt-Ael': 'Bv-Ael',\n 'Bt-Sw-Al': 'Bt-Sd',\n 'Btv-Sd': 'Bt-Sd',\n 'tSq-Sw': 'Al-Sw',\n 'tAh-Go': 'tGo',\n 'Ahe-Bh-Bs': 'Ael-Bt',\n 'Bbs-Bsv-Bhs': 'Bsh',\n 'Sg-C': 'Sw-M',\n 'Bh': 'Bh',\n 'Go-Bv': 'Sw-Bv',\n 'hHw': 'Hw',\n 'nHw': 'Hw',\n 'C-Bbh-Bbs': 'Bhs',\n 'tGo-Sq': 'tGo',\n 'tAa': 'Ap',\n 'Go-Aeh': 'Aeh',\n 'Gmso': 'Gkso',\n 'Go-Swd': 'Bt-Sd',\n 'Bv-elC': 'Bv-elC',\n 'elCv': 'elC',\n 'Hcm': 'cC',\n 'Sdw-R': 'Sw-M',\n 'Bv-Bbt': 'Bvt',\n 'rnHv': 'Hv',\n 'Go-E': 'Go',\n 'Ae-Bhs': 'Aeh',\n 'Ht-Hv': 'Btv',\n 'Bs-Cv': 'Bv-Cv',\n 'Bs-Bh': 'Bsh',\n 'Ae-Aap': 'Aep',\n 'tpGo': 'tGo',\n 'Bvs': 'Bvt',\n 'enHr': 'Hr',\n 'Bv-Cv': 'Bv-Cv',\n 'Sw-Bv-Ael': 'Bv-Ael',\n 'Ap-Bv': 'Al-Bv',\n 'Al-Btv': 'Al-Bv',\n 'tSw-Sq': 'Sw-Bv',\n 'Aa-Go': 'M-Go',\n 'Gro-Go': 'Gro',\n 'Gor-Go': 'Gro',\n 'Go-Sd': 'Bt-Sd',\n 'F-Gw': 'Gw',\n 'Bv-Gw': 'Bv-Cv',\n 'Bh-Bs': 'Bhs',\n 'Ssw': 'Ssw',\n 'Bbt-Ael': 'Bv-Ael',\n 'Bbt-Cv-Bv': 'Bv-Cv',\n 'Ae-Bsh': 'Bsh',\n 'Bt-ilC': 'Bv-ilC',\n 'Bv-Go': 'Bv-Cv',\n 'Cv-Bv': 'Sw-Bv',\n 'Sw-Ael': 'Sw-Ap',\n 'Sd-lCc': 'Sd-lC',\n 'Swd-lCv': 'Sd-lC',\n 'tSw': 'Sw',\n 'Bv-Bh': 'Bv-Cv',\n 'Ap-Bsh': 'Bsh',\n 'Bsv-C': 'Bsv',\n 'jM': 'M',\n 'jM-jilCv': 'Bv-ilC',\n 'Go-ilC': 'Go-ilC',\n 'Ahe-Bh-Sw': 'Al-Sw',\n 'Bhsv': 'Bhv',\n 'Bbs': 'Bhs',\n 'Bt-Swd': 'Bt-Sd',\n 'Sdw-Ap': 'Sw-Ap',\n 'Sw-Cv': 'Sw-Bv',\n 'Gro-Sd': 'Gro',\n 'Bv-lCv': 'Bv-Cv',\n 'ilCv-Bt': 'Al-Bt',\n 'Sg-ilC': 'Sd-ilC',\n 'ilC-Go': 'ilC',\n 'Acxp': 'Acxh',\n 'elCc-Acxh': 'Acxh',\n 'elCc': 'elCc',\n 'eSw-lCv': 'Sw-Bv',\n 'Ah-Hv': 'Ah-Bv',\n 'jSw': 'Sw',\n 'Sd-Gor': 'Sw-Go',\n 'Ae-Bs-Go': 'Al-Bv',\n 'Sw-Bv-Cv': 'Sw-Bv',\n 'F-Go': 'M-Go',\n 'F-Gor': 'Gor',\n 'M-Ah': 'Ah',\n 'Aap': 'Ap',\n 'Sew': 'Ssw',\n 'Sd-Gkso': 'Gkso',\n 'Ahe-Bh': 'Ah-Bv',\n 'Bms': 'Bhs',\n 'Sw-Bhs': 'Sw-Bv',\n 'Aa-Bh': 'Al-Bv',\n 'Gmso-Bh': 'Gkso',\n 'Gso': 'Gro',\n 'aAh-Gor': 'Gor',\n 'ilC-Ap': 'ilC',\n 'Bs-Gso': 'M-Go',\n 'Ach': 'Axh',\n 'Acp-Gco': 'Acp',\n 'Gcro-Swd': 'Gro',\n 'Gco': 'Gro',\n 'Gcor': 'Gor',\n 'Sw-Axh': 'Sw-Ah',\n 'Axh-Swd': 'Al-Sw',\n 'Hcvm': 'Bcv',\n 'nHcv': 'Bcv',\n 'Bbh-Bbs-Bv': 'Ah-Bv',\n 'Bbh-Bbs-ilCv': 'Bv-ilC',\n 'Ahe-Ae': 'Ah-Bv',\n 'Go-Ae-Bsh': 'Bsh',\n 'Ae-Ap': 'Aep',\n 'lC-Bbs': 'lC',\n 'yGo-Ah': 'Sw-Ah',\n 'yGro': 'Gro',\n 'Ae-Bh-Bms': 'Ael-Bt',\n 'Bbs-Cv': 'Bv-Cv',\n 'rAep': 'Aep',\n 'Bhv-ilCv': 'Bv-ilC',\n 'Gkso': 'Gkso',\n 'aSw-M': 'Sw-M',\n 'Gkso-Gr': 'Gkso',\n 'Ah-Ahe-Bh': 'Ah-Bv',\n 'Go-Bsv-Bh': 'Bsh',\n 'R-Gr-H-Go': 'M-Gro',\n 'R-H-rGr-Go': 'M-Gro',\n 'R-Bh-Bs-Go': 'Bhs',\n 'Bhs-lC': 'Bhs',\n 'R-Bs-ilC-Ae': 'Bv-ilC',\n 'Bh-Bv': 'Ah-Bv',\n 'S-Ap': 'Sw-Ap',\n 'Sg-Ap': 'Sw-Ap',\n 'Sg-Bv': 'Sw-Bv',\n 'Go-Bv-Ctv': 'Bv-Cv',\n 'Ctv-Go': 'tGo',\n 'Swd-Bvt': 'Sw-Bv',\n 'Ael-Btv': 'Ael-Bt',\n 'Sw-Bt-ilCv': 'Sw-ilC',\n 'Sd-Bt-Ael': 'Bv-Ael',\n 'Bt-elCv': 'Bv-elC',\n 'Ael-M': 'Ael',\n 'R-Go-Bhs-Aa': 'Bhs',\n 'R-Gr': 'tGr',\n 'R-Go-rGr-H': 'Gor',\n 'jnHv': 'Hv',\n 'Hw-Gr': 'Sw-Go',\n 'C-M': 'C',\n 'Gkso-Bs': 'Gkso',\n 'R-Go-Hv': 'M-Go',\n 'R-Hv': 'Hv',\n 'R-Gr-Go-Hv': 'M-Gro',\n 'Cv-Sw': 'Al-Sw',\n 'Cv-Swd': 'Bt-Sd',\n 'Sw-Bv-ilC': 'Bv-ilC',\n 'Swd-ilCtv': 'Sd-ilC',\n 'Swd-elCc': 'Sd-ilC',\n 'Go-Bsv': 'Bsv',\n 'Go-Cbtv': 'ilCbtv',\n 'R-Go-Bs-Bh': 'Bsh',\n 'R-Bs-Bh-Ae': 'Bsh',\n 'H-Ah': 'Ah',\n 'H-Go': 'M-Go',\n 'H-Gro': 'M-Gro',\n 'aGr': 'tGr',\n 'aM': 'M',\n 'Go-lC': 'Go-ilC',\n 'Swd-Ap': 'Sw-Ap',\n 'aGo': 'Go',\n 'jAh': 'Ah',\n 'oGo': 'Go',\n 'Bv-Al-Sg': 'Bv-ilC',\n 'Bvt-Sg': 'Bt-Sd',\n 'Sg': 'Sd',\n 'Bv-Ctv': 'Bv-Cv',\n 'ilCtv': 'ilCbtv',\n 'Gcro': 'Gro',\n 'Bv-Gor': 'Gor',\n 'R-H-Go': 'M-Go',\n 'R-H-Bh-rGor': 'Gor',\n 'R-Gr-Hm': 'M-Gro',\n 'R-Gr-Hm-Go': 'M-Gro',\n 'R-Bh-Ae-Bs': 'Bv-Ael',\n 'Bsh-Bbs-Bbh': 'Bsh',\n 'ilC-Bbs-Bbh': 'ilCbtv',\n 'R-Bs-Aa-Bsh': 'Bsh',\n 'R-Ahe-Bh-Bs': 'Ael-Bt',\n 'Bbh-Go': 'M-Go',\n 'R-Sw-Ah': 'Sw-Ah',\n 'ilC-Bhs': 'ilC',\n 'R-Sw': 'Sw',\n 'Sd-Bvt': 'Sd-Bv',\n 'Bv-Bhs': 'Bhs',\n 'ilC-Bbs': 'ilC',\n 'ilC-Bbs-Bhs': 'ilCbtv',\n 'M-Sd': 'P-Sd',\n 'M-Sd-Go': 'M-Go',\n 'Bv-Ah-Go': 'Bv-Ael',\n 'Sw-Ael-Bv': 'Sw-Bv',\n 'Ah-Gw': 'Al-Sw',\n 'rGw': 'Gw',\n 'Gr-Hw': 'Gro',\n 'Gr-Hr': 'Gro',\n 'Bv-ilC-Go': 'Bv-ilC',\n 'R-hH-Go': 'M-Go',\n 'Fh-Gor': 'Gor',\n 'R-Go-H': 'M-Go',\n 'jaGo': 'Go',\n 'ilCv-Sd': 'ilC',\n 'M-Gro': 'M-Gro',\n 'M-Gor': 'M-Go',\n 'ailCv': 'ilC',\n 'A-Bv': 'Al-Bv',\n 'Gho-Bv-Al': 'Ah-Bv',\n 'Go-Bt': 'Al-Bt',\n 'Gcr-Go': 'Gro',\n 'Bvt-Ael': 'Bv-Ael',\n 'Go-Ctv': 'Bv-Cv',\n 'Bh-Ahe': 'Bv-Ael',\n 'Gw-Aap': 'Sw-Ap',\n 'Go-M': 'Go',\n 'Gor-Sd': 'Gor',\n 'Bhv-ilC': 'Bv-ilC',\n 'Sw-Bhv': 'Sw-Bv',\n 'Bv-Cbtv': 'Bv-Cv',\n 'Go-Bv-Ap': 'Sw-Bv',\n 'Fo': 'Go',\n 'Sw-M-Go': 'Sw-Go',\n 'Sd-M-Gro': 'M-Gro',\n 'R-H-Bs-ilC': 'Bv-ilC',\n 'R-Bh-Bhs-H': 'Bhs',\n 'R-Bh-Bs-Sw': 'Bhs',\n 'Ae-Hv': 'Al-Bv',\n 'Ah-ilC': 'Bv-ilC',\n 'Hv-ilC': 'Bv-ilC',\n 'Ael-Bt-Sd': 'Ael-Bt',\n 'Bbt-lCv': 'Bv-Cv',\n 'Gho-Bv': 'Ah-Bv',\n 'aAcp': 'Acp',\n 'aGco': 'Gro',\n 'Fw': 'Gw',\n 'jGo-M': 'Go',\n 'Gor-M': 'Gor',\n 'eM': 'M',\n 'Sdw-M-Go': 'Sw-Go',\n 'Sd-M-Go': 'M-Go',\n 'Hw-M-Go': 'M-Go',\n 'R-hH-Cv': 'Bv-Cv',\n 'R-C-H': 'elC-P',\n 'R-H-Gho': 'M-Go',\n 'R-Ae-Bhs-Gkso': 'Gkso',\n 'R-Bhs-Go': 'Bhs',\n 'R-Bsh-Ae': 'Bsh',\n 'Bh-Bs-ilC': 'Bv-ilC',\n 'R-Go-Hm': 'M-Go',\n 'Bhms': 'Bhs',\n 'Sdw-Bt-Ael': 'Bv-Ael',\n 'Swd-Ael-Bt': 'Ael-Bt',\n 'Swd-Ael-Bbt': 'Ael-Bt',\n 'renHv-rnHvp': 'Bv-Cv',\n 'M-Gr': 'M-Go',\n 'Sd-elC': 'Sd-ilC',\n 'jAp': 'Ap',\n 'eAh': 'Ah',\n 'aAp': 'Ap',\n 'aAh': 'Ah',\n 'Ghor': 'Gor',\n 'Fh-Fw': 'Al-Sw',\n 'Ghr': 'Gr',\n 'gE': 'E',\n 'Go-Bhv': 'Bhv',\n 'R-Bh-Bs-Ahe': 'Bsh',\n 'Bbh-ilC': 'Bv-ilC',\n 'Gw-ilC': 'Go-ilC',\n 'R-ilC-Bsh-Ahe': 'ilC',\n 'Bhs-Cv': 'Bv-Cv',\n 'Ae-Ahe': 'Aeh',\n 'Bhs-ilCv': 'Bv-ilC',\n 'R-Bh-Bv-Ah': 'Ah-Bv',\n 'R-Bv-Bhv-C': 'Bv-ilC',\n 'R-Bh-Ahe-Bs': 'Ah-Bv',\n 'F-Gr': 'tGr',\n 'ilC-Bt': 'Al-Bt',\n 'Go-Bbt': 'Go-ilC',\n 'Sg-Ap-Bv': 'Sw-Bv',\n 'Bv-ilCbtv': 'ilCbtv',\n 'Sg-elCc': 'elCc',\n 'Sg-elCv': 'Sd-ilC',\n 'Ah-Ae-Bhs': 'Ah-Bv',\n 'Bhs-lCv': 'Bv-Cv',\n 'Ahe-Go': 'M-Go',\n 'R-Bsh-Go': 'Bsh',\n 'R-Ae-Bhs-ilC': 'Bv-ilC',\n 'E-Al': 'Al',\n 'R-Go-Aa': 'M-Go',\n 'R-Ae-Bh': 'Aeh',\n 'R-gE': 'E',\n 'Bh-ilCv': 'Bv-ilC',\n 'Gr-Sd': 'Bt-Sd',\n 'Yr': 'Gr',\n 'fF-eGro': 'M-Gro',\n 'fFr': 'tGr',\n 'R-H-Go-Bs': 'M-Go',\n 'R-Go-Aeh-Bhs': 'Ael-Bt',\n 'R-Aeh-Bhs-Go': 'Ael-Bt',\n 'Bsh-rGo': 'Bsh',\n 'R-Go': 'M-Go',\n 'R-Gw-ilCv': 'Go-ilC',\n 'Bv-Bs': 'Bv-Cv',\n 'raeM-Go': 'M-Go',\n 'Bv-ilCv-Bbt': 'Bv-ilC',\n 'jSw-Ap': 'Sw-Ap',\n 'Sd-Ex': 'Sd-Bv',\n 'elCkc-Sd': 'elCc',\n 'R-Gr-Bh-Gso': 'M-Gro',\n 'R-Ap-Gro': 'M-Gro',\n 'Bv-imC': 'Bv-ilC',\n 'Cv-Sd': 'Bt-Sd',\n 'rGkso': 'Gkso',\n 'Gkso-Go': 'Gkso',\n 'R-Bv-Ap': 'Bv-Cv',\n 'Ap-Aeh': 'Aeh',\n 'Bh-Gmso': 'Bhs',\n 'Bt-Ael-Swd': 'Bt-Sd',\n 'aGso': 'Gro',\n 'aGro': 'Gro',\n 'Gso-Bv': 'Sw-Bv',\n 'Sd-Ael-Bt': 'Ael-Bt',\n 'Go-ilC-Bbt': 'Go-ilC',\n 'Ah-Swd': 'Al-Sw',\n 'bE': 'bE',\n 'bE-Go': 'M-Go',\n 'Bhv-Sw': 'Bhv',\n 'Go-gE': 'Go',\n 'P': 'P',\n 'ilC-Go-Ah': 'ilC',\n 'Fr-Gro': 'M-Gro',\n 'Fr-Gor': 'Gor',\n 'Fr-Gr': 'tGr',\n 'Ap-Go': 'M-Go',\n 'elC-Bbt': 'Ael-Bt',\n 'Ahe-Bhs': 'Ah-Bv',\n 'Bbhs': 'Bhs',\n 'Bbhs-Go': 'Bhs',\n 'Swd-elCv': 'Sd-ilC',\n 'cmC': 'cmC',\n 'raGo': 'Go',\n 'R-Go-Bs-Ae': 'M-Go',\n 'M-ilCv': 'ilC',\n 'Sdg': 'Sd',\n 'Sw-P': 'Sw-M',\n 'Sd-P': 'Sd',\n 'elC-P': 'elC-P',\n 'aM-Go': 'M-Go',\n 'Sdw': 'Sd',\n 'rAp': 'Ap',\n 'Bv-Gkso': 'Gkso',\n 'Sw-Al-Bv': 'Sw-Bv',\n 'elC-Axh': 'elC-P',\n 'Axh-elC': 'Bv-elC',\n 'Sw-elC': 'Sw-ilC',\n 'Al-Axh': 'Axh',\n 'Bv-Axh': 'Bv-Ael',\n 'Acxh': 'Acxh',\n 'elCc-Swd': 'elCc',\n 'ilC-Ael-Sw': 'Al-Sw',\n 'Go-Bv-Gr': 'Gor',\n 'Gro-Sg': 'Gro',\n 'R-Ae-Bs-Ap': 'Aep',\n 'R-Ah-Ae-Bs': 'Ah-Bv',\n 'Bv-Ap': 'Bv-Cv',\n 'R-E-Aa-Go': 'M-Go',\n 'Go-Bvs': 'Sw-Bv',\n 'Ah-Gro': 'M-Gro',\n 'Gkso-Gro': 'Gkso',\n 'H-Gkso-Gr': 'Gkso',\n 'Bj-Cv': 'Bv-Cv',\n 'Bh-Bcv': 'Ah-Bv',\n 'Bcv-elC': 'Bv-elC',\n 'elC-Sd': 'elC-P',\n 'clC': 'clC',\n 'lCv-Bcv': 'Bcv',\n 'lC-emC': 'emC',\n 'elC-emC': 'elC-P',\n 'elC-Acxh': 'Acxh',\n 'rGcro-elC': 'Go-ilC',\n 'eAcp': 'Acp',\n 'Sg-Bv-ilCv': 'Bv-ilC',\n 'Fh-Fo': 'M-Go',\n 'Ah-Sw-Ael': 'Al-Sw',\n 'Bt-Scdw': 'Bt-Sd',\n 'Scd': 'Sd',\n 'R-Bhs-Ap-Go': 'Bhs',\n 'R-Bh': 'Bh',\n 'ilC-Bsh': 'ilC',\n 'E-Go': 'M-Go',\n 'Go-ilC-Bhs': 'Go-ilC',\n 'Go-Sw-Sd': 'Sw-Bv',\n 'Bhs-Go-Sw': 'Bhs',\n 'Go-Sdw': 'Bt-Sd',\n 'Bt-Sw': 'Bt-Sd',\n 'imC': 'imC',\n 'Sdg-Bt': 'Sd-Bv',\n 'emC': 'emC',\n 'Swd-Axh': 'Sw-Ah',\n 'Go-Axh': 'Axh',\n 'Axh-Go': 'Axh',\n 'Bcv-Axh': 'Bv-Ael',\n 'R-Hv-Ah-ilCv': 'Bv-ilC',\n 'Go-Ael': 'Bv-Ael',\n 'Go-Bt-Ael': 'Bv-Ael',\n 'Btv-Ael': 'Bv-Ael',\n 'Gr-Go': 'Gro',\n 'R-Go-Ah': 'M-Go',\n 'Bms-Go': 'M-Go',\n 'R-Bsv': 'Bsv',\n 'Sd-Cv': 'Sd-Bv',\n 'Btv-ilC': 'Bv-ilC',\n 'Bcv-Tv': 'Bv-Cv',\n 'cC-Swd': 'Bt-Sd',\n 'Go-Acxh': 'Acxh',\n 'Ael-Sd-Bt': 'Ael-Bt',\n 'Ael-Ap': 'Ael-Bt',\n 'Bhs-Aeh': 'Bv-Ael',\n 'ilC-Bsv': 'ilCbtv',\n 'elCv-Bcv': 'elCc',\n 'R-E': 'E',\n 'Srd': 'Sd',\n 'gE-Go': 'M-Go',\n 'gbE-Ap': 'Sw-Ap',\n 'Aeh-Bsh': 'Ael-Bt',\n 'Ae-Bh-Bs': 'Ael-Bt',\n 'Al-Bvt': 'Al-Bv',\n 'jeM': 'Ael',\n 'Swd-lCv-Axh': 'Sw-Ah',\n 'Axh-M': 'Axh',\n 'Acxh-elCc': 'Acxh',\n 'elCc-Axh': 'elCc',\n 'aAxp': 'Axp',\n 'Sw-Bt-Sd': 'Bt-Sd',\n 'Bbt-Ael-Bv': 'Al-Bv',\n 'Sw-Bv-Bbt': 'Sw-Bv',\n 'Bbt': 'Bvt',\n 'rGo-ilCv': 'Go-ilC',\n 'Sg-Ael-Bt': 'Ael-Bt',\n 'Swd-lCv-Bbt': 'Sd-lC',\n 'ejCv': 'imCv',\n 'Go-ilCv-H': 'Go-ilC',\n 'aelC': 'aelC',\n 'Gkso-M': 'Gkso',\n 'Gkso-Go-Bhsv': 'Gkso',\n 'Sewd': 'Sswd',\n 'Sswd': 'Sswd',\n 'Go-Sw-E': 'Al-Sw',\n 'P-Cv-Swd': 'P-Sd',\n 'elC-Scd': 'elCc',\n 'Al-Ap': 'Al-Sw',\n 'Sd-Al-Bt': 'Al-Bt',\n 'mCv': 'mCv',\n 'Axh-Bv': 'Ah-Bv',\n 'Bv-elCc': 'Bv-elC',\n 'Axh-lC': 'Axh',\n 'Axh-ilCv-Sw': 'Al-Sw',\n 'Swd-Go-M': 'Sw-Go',\n 'Ah-M': 'Ah',\n 'jGo': 'Go',\n 'Aah-Gr': 'Ah-Bv',\n 'raAp': 'Ap',\n 'M-Gso': 'M-Go',\n 'raGr': 'tGr',\n 'eGo-Cv': 'Bv-Cv',\n 'eC-Go': 'M-Go',\n 'Sdw-Bv-Al': 'Sw-Bv',\n 'Go-Mc': 'Go',\n 'E-ilC': 'ilC',\n 'Bh-Sw': 'Bt-Sd',\n 'Swd-eCv': 'Sw-Bv',\n 'eC-Sd': 'Bt-Sd',\n 'Bt-Al-Bv': 'Al-Bv',\n 'Al-Bv-Bt': 'Al-Bv',\n 'M-Sdw': 'P-Sd',\n 'Sw-Ael-Bt': 'Ael-Bt',\n 'elC-Ap': 'elC-P',\n 'jeF': 'Ael',\n 'Bcv-Cc': 'Bv-Cv',\n 'Go-Cc-elCv': 'Go-ilC',\n 'Axh-Bv-elC': 'Bv-elC',\n 'eAxp': 'Axp',\n 'Sw-Bt-Ael': 'Bv-Ael',\n 'Sdw-Go': 'Sw-Go',\n 'H-Go-Ah': 'M-Go',\n 'ylC': 'ilC',\n 'Ae-Bhs-Go': 'Aeh',\n 'Ae-Bh-Go': 'Aeh',\n 'F-Gr-Gor': 'M-Gro',\n 'Sd-elCv': 'Sd-ilC',\n 'Ah-eC': 'Ah-Bv',\n 'C': 'C',\n 'elCv-Axh-Bv': 'Ah-Bv',\n 'Bcv': 'Bcv',\n 'Sg-Axh': 'Sw-Ah',\n 'Axh-Sg': 'Axh',\n 'Ael-Bv-Btv': 'Ael-Bt',\n 'elC-Bv': 'Al-Bv',\n 'Swd-lC': 'Sd-lC',\n 'M-Swd': 'P-Sd',\n 'Sw-Ah-Go': 'Sw-Ah',\n 'rSw-Go': 'Sw-Go',\n 'Sw-Gr': 'Sw-Go',\n 'Ap-Sw-ilCv': 'Sw-ilC',\n 'Sg-Bv-ilCbtv': 'ilCbtv',\n 'Sg-Al': 'Sw-Ap',\n 'Bhs-Ae': 'Bhs',\n 'Al-Bt-Sw': 'Al-Sw',\n 'Acp-Swd-Bv': 'Sw-Bv',\n 'Go-Bv-Swd': 'Bt-Sd',\n 'Bv-Tv': 'Bv-Cv',\n 'Tv-elC': 'Bv-elC',\n 'Ah-Cv': 'Ah-Bv',\n 'M-Bv': 'Bv',\n 'iC': 'iC',\n 'Axh-elCc': 'elCc',\n 'Alh-Bv': 'Al-Bv',\n 'Go-Swd-M': 'Sw-M',\n 'Swd-Go': 'Sw-Go',\n 'Gro-Swd': 'Gro',\n 'Gr-Sd-Go': 'Sw-Go',\n 'aeM': 'Ael',\n 'M-Al-Bv': 'Al-Bv',\n 'ilC-Sd': 'ilC',\n 'xCn': 'C',\n 'Bcv-lCc': 'Bv-ilC',\n 'Bcv-elCc': 'Bv-elC',\n 'elCc-Bcv': 'elCc',\n 'Mc': 'Mc',\n 'Sw-lC': 'Sw-ilC',\n 'Serw': 'Ssw',\n 'M-Gkso': 'Gkso',\n 'jilCv': 'ilC',\n 'Ap-E': 'Ap',\n 'Bv-Swd': 'Bt-Sd',\n 'Bt-Sg': 'Bt-Sd',\n 'iCv-Sd': 'Bt-Sd',\n 'Btv-Sdw': 'Bt-Sd',\n 'mcC': 'cC',\n 'Al-Bt-Sdw': 'Bt-Sd',\n 'mC': 'C',\n 'cmCv-elCv': 'Bv-elC',\n 'Cc-Bcv': 'Bcv',\n 'Bt-elC': 'Bv-elC',\n 'ilCn': 'ilC',\n 'Sg-M': 'Sw-M',\n 'rGr': 'tGr',\n 'Ahl-Bt': 'Ael-Bt',\n 'Sg-Bt': 'Sw-Bt',\n 'M-elC': 'aelC',\n 'Gkso-Gor': 'Gkso',\n 'R-Axh': 'Axh',\n 'Bt-elCc': 'Bv-elC',\n 'lCc-Sd': 'Bt-Sd',\n 'Sdw-Bt': 'Sw-Bt',\n 'Sw-Sd-Bt': 'Sw-Bt',\n 'Sg-Go': 'Sw-Go',\n 'Swd-Bt-ilC': 'Sd-ilC',\n 'Bt-lCv': 'Bv-Cv',\n 'Sd-M': 'Sw-M',\n 'elC-Go': 'elC-P',\n 'aeGo': 'aelC',\n 'rAxh': 'Axh',\n 'Bt-Axh': 'Axh',\n 'Bvt-Axh': 'Bv-Ael',\n 'eMc': 'Mc',\n 'R-Bvt': 'Bvt',\n 'ilC-Swd': 'Al-Sw',\n 'mCn': 'mCv',\n 'Swd-Bbt': 'Sw-Bt',\n 'imCv': 'imCv',\n 'eCv-Sw': 'Al-Sw',\n 'Sw-lCc': 'Sw-ilC',\n 'Gro-M': 'Gro',\n 'jeAp': 'Ap',\n 'jelC': 'aelC',\n 'elCn': 'elC',\n 'Sg-ilCv': 'Sd-ilC',\n 'Swd-M': 'Sw-M',\n 'jlCv': 'ilC',\n 'Btv-Sg': 'Bt-Sd',\n 'Al-Swd-Bt': 'Al-Sw',\n 'ilCv-Bv': 'ilCbtv',\n 'Sd-C': 'Sd-lC',\n 'Bv-mCv': 'Bv-Cv',\n 'Bv-iCv': 'Bv-Cv',\n 'M-Sw-Go': 'Sw-Go',\n 'Sw-Gro': 'Sw-Go',\n 'Swd-Gro': 'Sw-Go',\n 'aeSw-M': 'Sw-M',\n 'Axh-ilC': 'Bv-ilC',\n 'Axh-elCv': 'Ah-Bv',\n 'Ah-P': 'Ah',\n 'P-Axh': 'Axh',\n 'Axh-lCc': 'Axh',\n 'lCc': 'lC',\n 'jeSwd-lC': 'Sd-lC',\n 'Sg-Btv': 'Sd-Btv',\n 'M-Ap': 'Ap',\n 'lC-Bv': 'Sw-Bv',\n 'elC-eAh': 'elC-P',\n 'Axh-Bt': 'Ael-Bt',\n 'Swd-Axh-Bht': 'Sw-Ah',\n 'Ael-Swd': 'Al-Sw',\n 'Sg-Bvt-Al': 'Sw-Bv',\n 'Sg-Bvt': 'Sw-Bv',\n 'Swd-ilC': 'Sd-ilC',\n 'Btv-Swd': 'Bt-Sd',\n 'jilC': 'ilC',\n 'Bht': 'Bhv',\n 'Al-Bht': 'Al-Bt',\n 'Swd-C': 'Sw-M',\n 'sGo': 'Go',\n 'Srw': 'Ssw',\n 'Acxh-elCkc': 'Acxh',\n 'elCkc': 'elCc',\n 'ilC-Axh': 'ilC',\n 'Bv-Axh-ilCv': 'Bv-ilC',\n 'Axh-Bcv': 'Ah-Bv',\n 'Sw-Bht': 'Sw-Bt',\n 'Bvt-Al-Sdw': 'Bt-Sd',\n 'Bvt-Sd': 'Bt-Sd',\n 'Bv-ixCv': 'Bv-ilC',\n 'Bv-P': 'Bvt',\n 'lC-Bt': 'Al-Bt',\n 'Sdw-Bht': 'Sw-Bt',\n 'aeAxh': 'Axh',\n 'Ctv': 'Cv',\n 'ixCv': 'imCv',\n 'Sd-Bt-M': 'Sd-Btv',\n 'cmCn': 'cmC',\n 'exC': 'emC',\n 'Bv-Acxh': 'Acxh',\n 'M-ilC': 'ilC',\n 'Bht-Bv': 'Ah-Bv',\n 'xCv': 'Cv',\n 'Swd-Sw': 'Sw-Bv',\n 'ixCn': 'ilC',\n 'Swd-Bv-ilC': 'Bv-ilC',\n 'Sw-Hp': 'Sw-Ap',\n 'Sw-H-Serw': 'Sw-Bv',\n 'Bt-Bv-Cv': 'Bv-Cv',\n 'Bj-Sd': 'Bt-Sd',\n 'lC-Sd': 'Bt-Sd',\n 'Bv-Tv-cC': 'Bv-ilC',\n 'Tv-cC': 'cC',\n 'Tv-cCv': 'Bv-Cv',\n 'cxC': 'cC',\n 'Sw-ilCv': 'Sw-ilC',\n 'Al-Btv-Swd': 'Bt-Sd',\n 'Bt-Gco': 'tGro',\n 'Swd-P-Bv': 'Sw-Bv',\n 'Bfv': 'Bhv',\n 'aGo-M': 'Go',\n 'sSw': 'Sw',\n 'jC': 'C',\n 'Sw-Ah-Bv': 'Sw-Bv',\n 'Sd-Cj': 'Sd-Bv',\n 'Bhv-Cv': 'Bv-Cv',\n 'Bt-Sd-Sw': 'Bt-Sd',\n 'sSdw': 'Sd',\n 'ilC-Bt-Swd': 'Bt-Sd',\n 'Ah-exC': 'Ah-Bv',\n 'Cj': 'Cj',\n 'Go-Srw': 'Gor',\n 'Bv-P-ilC': 'Bv-ilC',\n 'Sd-ilCv': 'Sd-ilC',\n 'sSwd': 'Sd',\n 'aSg-M': 'Sw-M',\n 'Bv-Tcv-elC': 'Bv-elC',\n 'Bfv-Sw-ilC': 'Bv-ilC',\n 'P-Bv': 'Bv',\n 'P-ilC': 'ilC',\n 'Bj': 'Bv',\n 'ilCv-Cj': 'ilC',\n 'Sdw-M': 'Sw-M',\n 'lCv-sGo': 'M-Go',\n 'Ap-Bv-ilCv': 'Bv-ilC',\n 'Gw-M': 'Sw-M',\n 'Btv-Sw': 'Bt-Sd',\n 'yilCv': 'ilC',\n 'Yr-Bv': 'Sw-Bv',\n 'Cj-ilCv': 'Bv-ilC',\n 'Sw-Bv-P': 'Sw-Bv',\n 'M-Sew': 'Ssw',\n 'Swd-Cj': 'Sw-Bv',\n 'Sd-Gco': 'Sw-Go',\n 'Btv-lCv': 'Bv-Cv',\n 'Sdg-Bv': 'Sd-Bv',\n 'P-Sw': 'P-Sd',\n 'Bv-P-Sd': 'Bt-Sd',\n 'lCv-Bv': 'Sw-Bv',\n 'Sew-M': 'Sw-M',\n 'Acxh-Al': 'Acxh',\n 'Acxh-Bt': 'Acxh',\n 'ilC-P': 'elC-P',\n 'Sw-Bv-Sd': 'Sw-Bv',\n 'Cj-Cv': 'Bv-Cv',\n 'Sw-lCv': 'Sw-Bv',\n 'Acp-Bcv-cC': 'Al-Bv',\n 'cC': 'cC',\n 'aeAp': 'aelC',\n 'Bv-eC': 'Bv-elC',\n 'emCn': 'emC',\n 'Ah-Bv-cCv': 'Bv-Cv',\n 'Sdw-Ah': 'Sw-Ah',\n 'arGo-P-Sd': 'P-Sd',\n 'M-P-Axh': 'Axh',\n 'aeAh-P': 'elC-P',\n 'elC-Bvt': 'Al-Bv',\n 'eCc': 'elCc',\n 'Bv-Ah-eCv': 'Bv-Cv',\n 'Bv-eCv': 'Bv-Cv',\n 'Tv': 'Cv',\n 'P-Srd': 'P-Sd',\n 'Swd-Cj-lC': 'Sd-ilC',\n 'eSg-lCv': 'Sd-lC',\n 'elCv-Sg': 'elC-P',\n 'Acp-elC-Bcv': 'Al-Bv',\n 'Bv-cCv': 'Bv-Cv',\n 'Acp-P': 'Acp',\n 'P-elCv': 'aelC',\n 'elCv-P': 'elC-P',\n 'ixC': 'ilC',\n 'aeMc': 'aelC',\n 'lC-cmC': 'cmC',\n 'Go-P': 'Go',\n 'Sd-Bt-R': 'Sd-Btv',\n 'eC': 'C',\n 'lCv-Sw': 'Al-Sw',\n 'elC-Tv': 'elC-P',\n 'eAh-P': 'elC-P',\n 'P-lC': 'ilC',\n 'Sw-Tv': 'Sw-Bv',\n 'Tv-Sw': 'Al-Sw',\n 'Tv-Swd': 'Bt-Sd',\n 'Al-Swd-Btv': 'Sd-Btv',\n 'Swd-fBj': 'Sw-Bv',\n 'Al-Sd-Bt': 'Al-Bt',\n 'Ckc': 'C',\n 'fBj-Sd': 'Bt-Sd',\n 'Tv-eCv': 'Bv-Cv',\n 'Ap-Sew': 'Al-Sw',\n 'aM-Gro': 'M-Gro',\n 'Sdw-C': 'Sw-M',\n 'Acp-clC': 'clC',\n 'Cc': 'C',\n 'Swd-Bv': 'Sw-Bv',\n 'Sdw-ilCv': 'Sd-ilC',\n 'Ah-Bv-elC': 'Bv-elC',\n 'ilC-Swd-Bv': 'Sw-Bv',\n 'elC-cmC': 'elCc',\n 'Sd-iC': 'Sd-ilC',\n 'Bv-C': 'Bv-Cv',\n ...}"
     },
     "execution_count": 21,
     "metadata": {},
     "output_type": "execute_result"
    }
   ],
   "source": [
    "# Map rare labels to frequent labels via Levenshtein distance\n",
    "# Any better ideas? Sometimes the mapping is not very faithful to geological meaning\n",
    "from jellyfish import levenshtein_distance as ld\n",
    "rare_labels_mapping = {}\n",
    "list_dict_mapping = list(dict_mapping.keys())\n",
    "for lab in df[target].unique():\n",
    "    if lab in list_dict_mapping:\n",
    "        rare_labels_mapping[lab] = lab # for applying the map later in the df, we need the identity mappings as well\n",
    "    else:\n",
    "        similarities = [ld(lab, freq_lab) for freq_lab in list_dict_mapping]\n",
    "        best_match = list_dict_mapping[np.argmin(similarities)]\n",
    "        rare_labels_mapping[lab] = best_match\n",
    "rare_labels_mapping"
   ],
   "metadata": {
    "collapsed": false,
    "pycharm": {
     "name": "#%%\n"
    }
   }
  },
  {
   "cell_type": "code",
   "execution_count": 22,
   "outputs": [
    {
     "data": {
      "text/plain": "1218"
     },
     "execution_count": 22,
     "metadata": {},
     "output_type": "execute_result"
    }
   ],
   "source": [
    "len(rare_labels_mapping)\n",
    "# ToDo: manually correct the weird mappings\n",
    "# Note: maybe use a second string distance to decide the winner, in case of a tie?"
   ],
   "metadata": {
    "collapsed": false,
    "pycharm": {
     "name": "#%%\n"
    }
   }
  },
  {
   "cell_type": "code",
   "execution_count": 23,
   "outputs": [
    {
     "name": "stderr",
     "output_type": "stream",
     "text": [
      "/tmp/ipykernel_1300931/3489057721.py:2: SettingWithCopyWarning: \n",
      "A value is trying to be set on a copy of a slice from a DataFrame.\n",
      "Try using .loc[row_indexer,col_indexer] = value instead\n",
      "\n",
      "See the caveats in the documentation: https://pandas.pydata.org/pandas-docs/stable/user_guide/indexing.html#returning-a-view-versus-a-copy\n",
      "  df[target] = df[target].map(rare_labels_mapping)\n"
     ]
    },
    {
     "data": {
      "text/plain": "        Point  Obergrenze  Untergrenze Horizontsymbol_relevant Bodenart  \\\n0         2.0         0.0         28.0                      Ap      Sl2   \n1         2.0        28.0         54.0                       E      Sl2   \n2         2.0        54.0         68.0                      Bv      Sl2   \n3         2.0        68.0         96.0                  Bv-ilC     fSms   \n4         2.0        96.0        201.0                     ilC     mSfs   \n...       ...         ...          ...                     ...      ...   \n16307  6211.0        27.0         50.0                     Bhs     fSms   \n16308  6211.0        50.0         70.0                     Bsh     fSms   \n16309  6211.0        50.0         70.0                     Bsh     fSms   \n16310  6211.0        70.0        100.0                  Go-ilC     fSms   \n16311  6211.0        70.0        100.0                  Go-ilC     fSms   \n\n      Bodenfarbe  Steine Karbonat Humusgehaltsklasse Durchwurzelung  \\\n0      7.5YR 3/2     3.0       C0                 h3            Wf4   \n1       10YR 3/3     3.0       C0                 h2            Wf3   \n2      7.5YR 4/3    10.0       C0                 h1            Wf3   \n3      7.5YR 6/4     1.0       C0                 h0            Wf2   \n4       10YR 7/4     1.0       C0                 h0            Wf0   \n...          ...     ...      ...                ...            ...   \n16307    5YR 3/2     1.0       C0                 h2            Wf3   \n16308    5YR 4/3     1.0       C0                 h1            Wf2   \n16309    5YR 4/3     1.0       C0                 h1            Wf2   \n16310  7.5YR 5/4     1.0       C0                 h1            Wf6   \n16311  7.5YR 5/4     1.0       C0                 h1            Wf6   \n\n                                                    file  Probenahme_Monat  \\\n0      ../data/BGR/Profilbilder_no_ruler_no_sky/SH_00...                11   \n1      ../data/BGR/Profilbilder_no_ruler_no_sky/SH_00...                11   \n2      ../data/BGR/Profilbilder_no_ruler_no_sky/SH_00...                11   \n3      ../data/BGR/Profilbilder_no_ruler_no_sky/SH_00...                11   \n4      ../data/BGR/Profilbilder_no_ruler_no_sky/SH_00...                11   \n...                                                  ...               ...   \n16307  ../data/BGR/Profilbilder_no_ruler_no_sky/NI_62...                 6   \n16308  ../data/BGR/Profilbilder_no_ruler_no_sky/NI_62...                 6   \n16309  ../data/BGR/Profilbilder_no_ruler_no_sky/NI_62...                 6   \n16310  ../data/BGR/Profilbilder_no_ruler_no_sky/NI_62...                 6   \n16311  ../data/BGR/Profilbilder_no_ruler_no_sky/NI_62...                 6   \n\n       Probenahme_Jahr       xcoord       ycoord  \\\n0                 2015  462216.1283  6079359.775   \n1                 2015  462216.1283  6079359.775   \n2                 2015  462216.1283  6079359.775   \n3                 2015  462216.1283  6079359.775   \n4                 2015  462216.1283  6079359.775   \n...                ...          ...          ...   \n16307             2012  522076.9633  5930456.114   \n16308             2012  522076.9633  5930456.114   \n16309             2012  522076.9633  5930456.114   \n16310             2012  522076.9633  5930456.114   \n16311             2012  522076.9633  5930456.114   \n\n                      Bodenklimaraum_Name Landnutzung BZE_Moor Hauptbodentyp  \\\n0                           Marsch - Nord           A        0            YE   \n1                           Marsch - Nord           A        0            YE   \n2                           Marsch - Nord           A        0            YE   \n3                           Marsch - Nord           A        0            YE   \n4                           Marsch - Nord           A        0            YE   \n...                                   ...         ...      ...           ...   \n16307  Elbe-Weser-Dreieck / sandige Böden           G        0            PP   \n16308  Elbe-Weser-Dreieck / sandige Böden           G        0            PP   \n16309  Elbe-Weser-Dreieck / sandige Böden           G        0            PP   \n16310  Elbe-Weser-Dreieck / sandige Böden           G        0            PP   \n16311  Elbe-Weser-Dreieck / sandige Böden           G        0            PP   \n\n      BodenVarTypSub GrundwaStufe  GrundwaStand  Moormaechtigkeit  \\\n0              YE/BB            0         200.0               0.0   \n1              YE/BB            0         200.0               0.0   \n2              YE/BB            0         200.0               0.0   \n3              YE/BB            0         200.0               0.0   \n4              YE/BB            0         200.0               0.0   \n...              ...          ...           ...               ...   \n16307          GG-PP         GWS4         110.0               0.0   \n16308          GG-PP         GWS4         110.0               0.0   \n16309          GG-PP         GWS4         110.0               0.0   \n16310          GG-PP         GWS4         110.0               0.0   \n16311          GG-PP         GWS4         110.0               0.0   \n\n       Torfmaechtigkeit Neigung Exposition Woelbung Reliefformtyp  \\\n0                   0.0      N0         KE       GG             V   \n1                   0.0      N0         KE       GG             V   \n2                   0.0      N0         KE       GG             V   \n3                   0.0      N0         KE       GG             V   \n4                   0.0      N0         KE       GG             V   \n...                 ...     ...        ...      ...           ...   \n16307               0.0      N0         KE       GG           TSF   \n16308               0.0      N0         KE       GG           TSF   \n16309               0.0      N0         KE       GG           TSF   \n16310               0.0      N0         KE       GG           TSF   \n16311               0.0      N0         KE       GG           TSF   \n\n      LageImRelief  KV_0_30  KV_30_100  \n0                Z    81.89      54.19  \n1                Z    81.89      54.19  \n2                Z    81.89      54.19  \n3                Z    81.89      54.19  \n4                Z    81.89      54.19  \n...            ...      ...        ...  \n16307            T   117.59      87.72  \n16308            T   117.59      87.72  \n16309            T   117.59      87.72  \n16310            T   117.59      87.72  \n16311            T   117.59      87.72  \n\n[13621 rows x 31 columns]",
      "text/html": "<div>\n<style scoped>\n    .dataframe tbody tr th:only-of-type {\n        vertical-align: middle;\n    }\n\n    .dataframe tbody tr th {\n        vertical-align: top;\n    }\n\n    .dataframe thead th {\n        text-align: right;\n    }\n</style>\n<table border=\"1\" class=\"dataframe\">\n  <thead>\n    <tr style=\"text-align: right;\">\n      <th></th>\n      <th>Point</th>\n      <th>Obergrenze</th>\n      <th>Untergrenze</th>\n      <th>Horizontsymbol_relevant</th>\n      <th>Bodenart</th>\n      <th>Bodenfarbe</th>\n      <th>Steine</th>\n      <th>Karbonat</th>\n      <th>Humusgehaltsklasse</th>\n      <th>Durchwurzelung</th>\n      <th>file</th>\n      <th>Probenahme_Monat</th>\n      <th>Probenahme_Jahr</th>\n      <th>xcoord</th>\n      <th>ycoord</th>\n      <th>Bodenklimaraum_Name</th>\n      <th>Landnutzung</th>\n      <th>BZE_Moor</th>\n      <th>Hauptbodentyp</th>\n      <th>BodenVarTypSub</th>\n      <th>GrundwaStufe</th>\n      <th>GrundwaStand</th>\n      <th>Moormaechtigkeit</th>\n      <th>Torfmaechtigkeit</th>\n      <th>Neigung</th>\n      <th>Exposition</th>\n      <th>Woelbung</th>\n      <th>Reliefformtyp</th>\n      <th>LageImRelief</th>\n      <th>KV_0_30</th>\n      <th>KV_30_100</th>\n    </tr>\n  </thead>\n  <tbody>\n    <tr>\n      <th>0</th>\n      <td>2.0</td>\n      <td>0.0</td>\n      <td>28.0</td>\n      <td>Ap</td>\n      <td>Sl2</td>\n      <td>7.5YR 3/2</td>\n      <td>3.0</td>\n      <td>C0</td>\n      <td>h3</td>\n      <td>Wf4</td>\n      <td>../data/BGR/Profilbilder_no_ruler_no_sky/SH_00...</td>\n      <td>11</td>\n      <td>2015</td>\n      <td>462216.1283</td>\n      <td>6079359.775</td>\n      <td>Marsch - Nord</td>\n      <td>A</td>\n      <td>0</td>\n      <td>YE</td>\n      <td>YE/BB</td>\n      <td>0</td>\n      <td>200.0</td>\n      <td>0.0</td>\n      <td>0.0</td>\n      <td>N0</td>\n      <td>KE</td>\n      <td>GG</td>\n      <td>V</td>\n      <td>Z</td>\n      <td>81.89</td>\n      <td>54.19</td>\n    </tr>\n    <tr>\n      <th>1</th>\n      <td>2.0</td>\n      <td>28.0</td>\n      <td>54.0</td>\n      <td>E</td>\n      <td>Sl2</td>\n      <td>10YR 3/3</td>\n      <td>3.0</td>\n      <td>C0</td>\n      <td>h2</td>\n      <td>Wf3</td>\n      <td>../data/BGR/Profilbilder_no_ruler_no_sky/SH_00...</td>\n      <td>11</td>\n      <td>2015</td>\n      <td>462216.1283</td>\n      <td>6079359.775</td>\n      <td>Marsch - Nord</td>\n      <td>A</td>\n      <td>0</td>\n      <td>YE</td>\n      <td>YE/BB</td>\n      <td>0</td>\n      <td>200.0</td>\n      <td>0.0</td>\n      <td>0.0</td>\n      <td>N0</td>\n      <td>KE</td>\n      <td>GG</td>\n      <td>V</td>\n      <td>Z</td>\n      <td>81.89</td>\n      <td>54.19</td>\n    </tr>\n    <tr>\n      <th>2</th>\n      <td>2.0</td>\n      <td>54.0</td>\n      <td>68.0</td>\n      <td>Bv</td>\n      <td>Sl2</td>\n      <td>7.5YR 4/3</td>\n      <td>10.0</td>\n      <td>C0</td>\n      <td>h1</td>\n      <td>Wf3</td>\n      <td>../data/BGR/Profilbilder_no_ruler_no_sky/SH_00...</td>\n      <td>11</td>\n      <td>2015</td>\n      <td>462216.1283</td>\n      <td>6079359.775</td>\n      <td>Marsch - Nord</td>\n      <td>A</td>\n      <td>0</td>\n      <td>YE</td>\n      <td>YE/BB</td>\n      <td>0</td>\n      <td>200.0</td>\n      <td>0.0</td>\n      <td>0.0</td>\n      <td>N0</td>\n      <td>KE</td>\n      <td>GG</td>\n      <td>V</td>\n      <td>Z</td>\n      <td>81.89</td>\n      <td>54.19</td>\n    </tr>\n    <tr>\n      <th>3</th>\n      <td>2.0</td>\n      <td>68.0</td>\n      <td>96.0</td>\n      <td>Bv-ilC</td>\n      <td>fSms</td>\n      <td>7.5YR 6/4</td>\n      <td>1.0</td>\n      <td>C0</td>\n      <td>h0</td>\n      <td>Wf2</td>\n      <td>../data/BGR/Profilbilder_no_ruler_no_sky/SH_00...</td>\n      <td>11</td>\n      <td>2015</td>\n      <td>462216.1283</td>\n      <td>6079359.775</td>\n      <td>Marsch - Nord</td>\n      <td>A</td>\n      <td>0</td>\n      <td>YE</td>\n      <td>YE/BB</td>\n      <td>0</td>\n      <td>200.0</td>\n      <td>0.0</td>\n      <td>0.0</td>\n      <td>N0</td>\n      <td>KE</td>\n      <td>GG</td>\n      <td>V</td>\n      <td>Z</td>\n      <td>81.89</td>\n      <td>54.19</td>\n    </tr>\n    <tr>\n      <th>4</th>\n      <td>2.0</td>\n      <td>96.0</td>\n      <td>201.0</td>\n      <td>ilC</td>\n      <td>mSfs</td>\n      <td>10YR 7/4</td>\n      <td>1.0</td>\n      <td>C0</td>\n      <td>h0</td>\n      <td>Wf0</td>\n      <td>../data/BGR/Profilbilder_no_ruler_no_sky/SH_00...</td>\n      <td>11</td>\n      <td>2015</td>\n      <td>462216.1283</td>\n      <td>6079359.775</td>\n      <td>Marsch - Nord</td>\n      <td>A</td>\n      <td>0</td>\n      <td>YE</td>\n      <td>YE/BB</td>\n      <td>0</td>\n      <td>200.0</td>\n      <td>0.0</td>\n      <td>0.0</td>\n      <td>N0</td>\n      <td>KE</td>\n      <td>GG</td>\n      <td>V</td>\n      <td>Z</td>\n      <td>81.89</td>\n      <td>54.19</td>\n    </tr>\n    <tr>\n      <th>...</th>\n      <td>...</td>\n      <td>...</td>\n      <td>...</td>\n      <td>...</td>\n      <td>...</td>\n      <td>...</td>\n      <td>...</td>\n      <td>...</td>\n      <td>...</td>\n      <td>...</td>\n      <td>...</td>\n      <td>...</td>\n      <td>...</td>\n      <td>...</td>\n      <td>...</td>\n      <td>...</td>\n      <td>...</td>\n      <td>...</td>\n      <td>...</td>\n      <td>...</td>\n      <td>...</td>\n      <td>...</td>\n      <td>...</td>\n      <td>...</td>\n      <td>...</td>\n      <td>...</td>\n      <td>...</td>\n      <td>...</td>\n      <td>...</td>\n      <td>...</td>\n      <td>...</td>\n    </tr>\n    <tr>\n      <th>16307</th>\n      <td>6211.0</td>\n      <td>27.0</td>\n      <td>50.0</td>\n      <td>Bhs</td>\n      <td>fSms</td>\n      <td>5YR 3/2</td>\n      <td>1.0</td>\n      <td>C0</td>\n      <td>h2</td>\n      <td>Wf3</td>\n      <td>../data/BGR/Profilbilder_no_ruler_no_sky/NI_62...</td>\n      <td>6</td>\n      <td>2012</td>\n      <td>522076.9633</td>\n      <td>5930456.114</td>\n      <td>Elbe-Weser-Dreieck / sandige Böden</td>\n      <td>G</td>\n      <td>0</td>\n      <td>PP</td>\n      <td>GG-PP</td>\n      <td>GWS4</td>\n      <td>110.0</td>\n      <td>0.0</td>\n      <td>0.0</td>\n      <td>N0</td>\n      <td>KE</td>\n      <td>GG</td>\n      <td>TSF</td>\n      <td>T</td>\n      <td>117.59</td>\n      <td>87.72</td>\n    </tr>\n    <tr>\n      <th>16308</th>\n      <td>6211.0</td>\n      <td>50.0</td>\n      <td>70.0</td>\n      <td>Bsh</td>\n      <td>fSms</td>\n      <td>5YR 4/3</td>\n      <td>1.0</td>\n      <td>C0</td>\n      <td>h1</td>\n      <td>Wf2</td>\n      <td>../data/BGR/Profilbilder_no_ruler_no_sky/NI_62...</td>\n      <td>6</td>\n      <td>2012</td>\n      <td>522076.9633</td>\n      <td>5930456.114</td>\n      <td>Elbe-Weser-Dreieck / sandige Böden</td>\n      <td>G</td>\n      <td>0</td>\n      <td>PP</td>\n      <td>GG-PP</td>\n      <td>GWS4</td>\n      <td>110.0</td>\n      <td>0.0</td>\n      <td>0.0</td>\n      <td>N0</td>\n      <td>KE</td>\n      <td>GG</td>\n      <td>TSF</td>\n      <td>T</td>\n      <td>117.59</td>\n      <td>87.72</td>\n    </tr>\n    <tr>\n      <th>16309</th>\n      <td>6211.0</td>\n      <td>50.0</td>\n      <td>70.0</td>\n      <td>Bsh</td>\n      <td>fSms</td>\n      <td>5YR 4/3</td>\n      <td>1.0</td>\n      <td>C0</td>\n      <td>h1</td>\n      <td>Wf2</td>\n      <td>../data/BGR/Profilbilder_no_ruler_no_sky/NI_62...</td>\n      <td>6</td>\n      <td>2012</td>\n      <td>522076.9633</td>\n      <td>5930456.114</td>\n      <td>Elbe-Weser-Dreieck / sandige Böden</td>\n      <td>G</td>\n      <td>0</td>\n      <td>PP</td>\n      <td>GG-PP</td>\n      <td>GWS4</td>\n      <td>110.0</td>\n      <td>0.0</td>\n      <td>0.0</td>\n      <td>N0</td>\n      <td>KE</td>\n      <td>GG</td>\n      <td>TSF</td>\n      <td>T</td>\n      <td>117.59</td>\n      <td>87.72</td>\n    </tr>\n    <tr>\n      <th>16310</th>\n      <td>6211.0</td>\n      <td>70.0</td>\n      <td>100.0</td>\n      <td>Go-ilC</td>\n      <td>fSms</td>\n      <td>7.5YR 5/4</td>\n      <td>1.0</td>\n      <td>C0</td>\n      <td>h1</td>\n      <td>Wf6</td>\n      <td>../data/BGR/Profilbilder_no_ruler_no_sky/NI_62...</td>\n      <td>6</td>\n      <td>2012</td>\n      <td>522076.9633</td>\n      <td>5930456.114</td>\n      <td>Elbe-Weser-Dreieck / sandige Böden</td>\n      <td>G</td>\n      <td>0</td>\n      <td>PP</td>\n      <td>GG-PP</td>\n      <td>GWS4</td>\n      <td>110.0</td>\n      <td>0.0</td>\n      <td>0.0</td>\n      <td>N0</td>\n      <td>KE</td>\n      <td>GG</td>\n      <td>TSF</td>\n      <td>T</td>\n      <td>117.59</td>\n      <td>87.72</td>\n    </tr>\n    <tr>\n      <th>16311</th>\n      <td>6211.0</td>\n      <td>70.0</td>\n      <td>100.0</td>\n      <td>Go-ilC</td>\n      <td>fSms</td>\n      <td>7.5YR 5/4</td>\n      <td>1.0</td>\n      <td>C0</td>\n      <td>h1</td>\n      <td>Wf6</td>\n      <td>../data/BGR/Profilbilder_no_ruler_no_sky/NI_62...</td>\n      <td>6</td>\n      <td>2012</td>\n      <td>522076.9633</td>\n      <td>5930456.114</td>\n      <td>Elbe-Weser-Dreieck / sandige Böden</td>\n      <td>G</td>\n      <td>0</td>\n      <td>PP</td>\n      <td>GG-PP</td>\n      <td>GWS4</td>\n      <td>110.0</td>\n      <td>0.0</td>\n      <td>0.0</td>\n      <td>N0</td>\n      <td>KE</td>\n      <td>GG</td>\n      <td>TSF</td>\n      <td>T</td>\n      <td>117.59</td>\n      <td>87.72</td>\n    </tr>\n  </tbody>\n</table>\n<p>13621 rows × 31 columns</p>\n</div>"
     },
     "execution_count": 23,
     "metadata": {},
     "output_type": "execute_result"
    }
   ],
   "source": [
    "# Map rare labels onto frequent labels\n",
    "df[target] = df[target].map(rare_labels_mapping)\n",
    "df"
   ],
   "metadata": {
    "collapsed": false,
    "pycharm": {
     "name": "#%%\n"
    }
   }
  },
  {
   "cell_type": "code",
   "execution_count": 24,
   "outputs": [
    {
     "name": "stderr",
     "output_type": "stream",
     "text": [
      "/tmp/ipykernel_1300931/1051670463.py:3: SettingWithCopyWarning: \n",
      "A value is trying to be set on a copy of a slice from a DataFrame.\n",
      "Try using .loc[row_indexer,col_indexer] = value instead\n",
      "\n",
      "See the caveats in the documentation: https://pandas.pydata.org/pandas-docs/stable/user_guide/indexing.html#returning-a-view-versus-a-copy\n",
      "  df[target] = df[target].map(dict_mapping) # in conjunction with HCEs\n",
      "/tmp/ipykernel_1300931/1051670463.py:4: SettingWithCopyWarning: \n",
      "A value is trying to be set on a copy of a slice from a DataFrame.\n",
      "Try using .loc[row_indexer,col_indexer] = value instead\n",
      "\n",
      "See the caveats in the documentation: https://pandas.pydata.org/pandas-docs/stable/user_guide/indexing.html#returning-a-view-versus-a-copy\n",
      "  df[target] = df[target].astype(int)\n"
     ]
    },
    {
     "data": {
      "text/plain": "   Point  Obergrenze  Untergrenze  Horizontsymbol_relevant Bodenart  \\\n0    2.0         0.0         28.0                       22      Sl2   \n1    2.0        28.0         54.0                        5      Sl2   \n2    2.0        54.0         68.0                       32      Sl2   \n3    2.0        68.0         96.0                       62     fSms   \n4    2.0        96.0        201.0                        0     mSfs   \n\n  Bodenfarbe  Steine Karbonat Humusgehaltsklasse Durchwurzelung  \\\n0  7.5YR 3/2     3.0       C0                 h3            Wf4   \n1   10YR 3/3     3.0       C0                 h2            Wf3   \n2  7.5YR 4/3    10.0       C0                 h1            Wf3   \n3  7.5YR 6/4     1.0       C0                 h0            Wf2   \n4   10YR 7/4     1.0       C0                 h0            Wf0   \n\n                                                file  Probenahme_Monat  \\\n0  ../data/BGR/Profilbilder_no_ruler_no_sky/SH_00...                11   \n1  ../data/BGR/Profilbilder_no_ruler_no_sky/SH_00...                11   \n2  ../data/BGR/Profilbilder_no_ruler_no_sky/SH_00...                11   \n3  ../data/BGR/Profilbilder_no_ruler_no_sky/SH_00...                11   \n4  ../data/BGR/Profilbilder_no_ruler_no_sky/SH_00...                11   \n\n   Probenahme_Jahr       xcoord       ycoord Bodenklimaraum_Name Landnutzung  \\\n0             2015  462216.1283  6079359.775       Marsch - Nord           A   \n1             2015  462216.1283  6079359.775       Marsch - Nord           A   \n2             2015  462216.1283  6079359.775       Marsch - Nord           A   \n3             2015  462216.1283  6079359.775       Marsch - Nord           A   \n4             2015  462216.1283  6079359.775       Marsch - Nord           A   \n\n  BZE_Moor Hauptbodentyp BodenVarTypSub GrundwaStufe  GrundwaStand  \\\n0        0            YE          YE/BB            0         200.0   \n1        0            YE          YE/BB            0         200.0   \n2        0            YE          YE/BB            0         200.0   \n3        0            YE          YE/BB            0         200.0   \n4        0            YE          YE/BB            0         200.0   \n\n   Moormaechtigkeit  Torfmaechtigkeit Neigung Exposition Woelbung  \\\n0               0.0               0.0      N0         KE       GG   \n1               0.0               0.0      N0         KE       GG   \n2               0.0               0.0      N0         KE       GG   \n3               0.0               0.0      N0         KE       GG   \n4               0.0               0.0      N0         KE       GG   \n\n  Reliefformtyp LageImRelief  KV_0_30  KV_30_100  \n0             V            Z    81.89      54.19  \n1             V            Z    81.89      54.19  \n2             V            Z    81.89      54.19  \n3             V            Z    81.89      54.19  \n4             V            Z    81.89      54.19  ",
      "text/html": "<div>\n<style scoped>\n    .dataframe tbody tr th:only-of-type {\n        vertical-align: middle;\n    }\n\n    .dataframe tbody tr th {\n        vertical-align: top;\n    }\n\n    .dataframe thead th {\n        text-align: right;\n    }\n</style>\n<table border=\"1\" class=\"dataframe\">\n  <thead>\n    <tr style=\"text-align: right;\">\n      <th></th>\n      <th>Point</th>\n      <th>Obergrenze</th>\n      <th>Untergrenze</th>\n      <th>Horizontsymbol_relevant</th>\n      <th>Bodenart</th>\n      <th>Bodenfarbe</th>\n      <th>Steine</th>\n      <th>Karbonat</th>\n      <th>Humusgehaltsklasse</th>\n      <th>Durchwurzelung</th>\n      <th>file</th>\n      <th>Probenahme_Monat</th>\n      <th>Probenahme_Jahr</th>\n      <th>xcoord</th>\n      <th>ycoord</th>\n      <th>Bodenklimaraum_Name</th>\n      <th>Landnutzung</th>\n      <th>BZE_Moor</th>\n      <th>Hauptbodentyp</th>\n      <th>BodenVarTypSub</th>\n      <th>GrundwaStufe</th>\n      <th>GrundwaStand</th>\n      <th>Moormaechtigkeit</th>\n      <th>Torfmaechtigkeit</th>\n      <th>Neigung</th>\n      <th>Exposition</th>\n      <th>Woelbung</th>\n      <th>Reliefformtyp</th>\n      <th>LageImRelief</th>\n      <th>KV_0_30</th>\n      <th>KV_30_100</th>\n    </tr>\n  </thead>\n  <tbody>\n    <tr>\n      <th>0</th>\n      <td>2.0</td>\n      <td>0.0</td>\n      <td>28.0</td>\n      <td>22</td>\n      <td>Sl2</td>\n      <td>7.5YR 3/2</td>\n      <td>3.0</td>\n      <td>C0</td>\n      <td>h3</td>\n      <td>Wf4</td>\n      <td>../data/BGR/Profilbilder_no_ruler_no_sky/SH_00...</td>\n      <td>11</td>\n      <td>2015</td>\n      <td>462216.1283</td>\n      <td>6079359.775</td>\n      <td>Marsch - Nord</td>\n      <td>A</td>\n      <td>0</td>\n      <td>YE</td>\n      <td>YE/BB</td>\n      <td>0</td>\n      <td>200.0</td>\n      <td>0.0</td>\n      <td>0.0</td>\n      <td>N0</td>\n      <td>KE</td>\n      <td>GG</td>\n      <td>V</td>\n      <td>Z</td>\n      <td>81.89</td>\n      <td>54.19</td>\n    </tr>\n    <tr>\n      <th>1</th>\n      <td>2.0</td>\n      <td>28.0</td>\n      <td>54.0</td>\n      <td>5</td>\n      <td>Sl2</td>\n      <td>10YR 3/3</td>\n      <td>3.0</td>\n      <td>C0</td>\n      <td>h2</td>\n      <td>Wf3</td>\n      <td>../data/BGR/Profilbilder_no_ruler_no_sky/SH_00...</td>\n      <td>11</td>\n      <td>2015</td>\n      <td>462216.1283</td>\n      <td>6079359.775</td>\n      <td>Marsch - Nord</td>\n      <td>A</td>\n      <td>0</td>\n      <td>YE</td>\n      <td>YE/BB</td>\n      <td>0</td>\n      <td>200.0</td>\n      <td>0.0</td>\n      <td>0.0</td>\n      <td>N0</td>\n      <td>KE</td>\n      <td>GG</td>\n      <td>V</td>\n      <td>Z</td>\n      <td>81.89</td>\n      <td>54.19</td>\n    </tr>\n    <tr>\n      <th>2</th>\n      <td>2.0</td>\n      <td>54.0</td>\n      <td>68.0</td>\n      <td>32</td>\n      <td>Sl2</td>\n      <td>7.5YR 4/3</td>\n      <td>10.0</td>\n      <td>C0</td>\n      <td>h1</td>\n      <td>Wf3</td>\n      <td>../data/BGR/Profilbilder_no_ruler_no_sky/SH_00...</td>\n      <td>11</td>\n      <td>2015</td>\n      <td>462216.1283</td>\n      <td>6079359.775</td>\n      <td>Marsch - Nord</td>\n      <td>A</td>\n      <td>0</td>\n      <td>YE</td>\n      <td>YE/BB</td>\n      <td>0</td>\n      <td>200.0</td>\n      <td>0.0</td>\n      <td>0.0</td>\n      <td>N0</td>\n      <td>KE</td>\n      <td>GG</td>\n      <td>V</td>\n      <td>Z</td>\n      <td>81.89</td>\n      <td>54.19</td>\n    </tr>\n    <tr>\n      <th>3</th>\n      <td>2.0</td>\n      <td>68.0</td>\n      <td>96.0</td>\n      <td>62</td>\n      <td>fSms</td>\n      <td>7.5YR 6/4</td>\n      <td>1.0</td>\n      <td>C0</td>\n      <td>h0</td>\n      <td>Wf2</td>\n      <td>../data/BGR/Profilbilder_no_ruler_no_sky/SH_00...</td>\n      <td>11</td>\n      <td>2015</td>\n      <td>462216.1283</td>\n      <td>6079359.775</td>\n      <td>Marsch - Nord</td>\n      <td>A</td>\n      <td>0</td>\n      <td>YE</td>\n      <td>YE/BB</td>\n      <td>0</td>\n      <td>200.0</td>\n      <td>0.0</td>\n      <td>0.0</td>\n      <td>N0</td>\n      <td>KE</td>\n      <td>GG</td>\n      <td>V</td>\n      <td>Z</td>\n      <td>81.89</td>\n      <td>54.19</td>\n    </tr>\n    <tr>\n      <th>4</th>\n      <td>2.0</td>\n      <td>96.0</td>\n      <td>201.0</td>\n      <td>0</td>\n      <td>mSfs</td>\n      <td>10YR 7/4</td>\n      <td>1.0</td>\n      <td>C0</td>\n      <td>h0</td>\n      <td>Wf0</td>\n      <td>../data/BGR/Profilbilder_no_ruler_no_sky/SH_00...</td>\n      <td>11</td>\n      <td>2015</td>\n      <td>462216.1283</td>\n      <td>6079359.775</td>\n      <td>Marsch - Nord</td>\n      <td>A</td>\n      <td>0</td>\n      <td>YE</td>\n      <td>YE/BB</td>\n      <td>0</td>\n      <td>200.0</td>\n      <td>0.0</td>\n      <td>0.0</td>\n      <td>N0</td>\n      <td>KE</td>\n      <td>GG</td>\n      <td>V</td>\n      <td>Z</td>\n      <td>81.89</td>\n      <td>54.19</td>\n    </tr>\n  </tbody>\n</table>\n</div>"
     },
     "execution_count": 24,
     "metadata": {},
     "output_type": "execute_result"
    }
   ],
   "source": [
    "# One-hot encoding of the target column\n",
    "#bgr_data.encode_categorical_columns(df, target) # for standard one-hot vectors of the targets\n",
    "df[target] = df[target].map(dict_mapping) # in conjunction with HCEs\n",
    "df[target] = df[target].astype(int)\n",
    "df.head(5)"
   ],
   "metadata": {
    "collapsed": false,
    "pycharm": {
     "name": "#%%\n"
    }
   }
  },
  {
   "cell_type": "code",
   "execution_count": 25,
   "outputs": [
    {
     "name": "stderr",
     "output_type": "stream",
     "text": [
      "/mnt/KInsektDaten/teo/./BGR/bgr/soil/datasets.py:35: SettingWithCopyWarning: \n",
      "A value is trying to be set on a copy of a slice from a DataFrame.\n",
      "Try using .loc[row_indexer,col_indexer] = value instead\n",
      "\n",
      "See the caveats in the documentation: https://pandas.pydata.org/pandas-docs/stable/user_guide/indexing.html#returning-a-view-versus-a-copy\n",
      "  df[col_name] = df[col_name].replace(counts.index, range(len(counts)))\n",
      "/mnt/KInsektDaten/teo/./BGR/bgr/soil/datasets.py:35: FutureWarning: Downcasting behavior in `replace` is deprecated and will be removed in a future version. To retain the old behavior, explicitly call `result.infer_objects(copy=False)`. To opt-in to the future behavior, set `pd.set_option('future.no_silent_downcasting', True)`\n",
      "  df[col_name] = df[col_name].replace(counts.index, range(len(counts)))\n",
      "/mnt/KInsektDaten/teo/./BGR/bgr/soil/datasets.py:35: SettingWithCopyWarning: \n",
      "A value is trying to be set on a copy of a slice from a DataFrame.\n",
      "Try using .loc[row_indexer,col_indexer] = value instead\n",
      "\n",
      "See the caveats in the documentation: https://pandas.pydata.org/pandas-docs/stable/user_guide/indexing.html#returning-a-view-versus-a-copy\n",
      "  df[col_name] = df[col_name].replace(counts.index, range(len(counts)))\n",
      "/mnt/KInsektDaten/teo/./BGR/bgr/soil/datasets.py:35: FutureWarning: Downcasting behavior in `replace` is deprecated and will be removed in a future version. To retain the old behavior, explicitly call `result.infer_objects(copy=False)`. To opt-in to the future behavior, set `pd.set_option('future.no_silent_downcasting', True)`\n",
      "  df[col_name] = df[col_name].replace(counts.index, range(len(counts)))\n",
      "/mnt/KInsektDaten/teo/./BGR/bgr/soil/datasets.py:35: SettingWithCopyWarning: \n",
      "A value is trying to be set on a copy of a slice from a DataFrame.\n",
      "Try using .loc[row_indexer,col_indexer] = value instead\n",
      "\n",
      "See the caveats in the documentation: https://pandas.pydata.org/pandas-docs/stable/user_guide/indexing.html#returning-a-view-versus-a-copy\n",
      "  df[col_name] = df[col_name].replace(counts.index, range(len(counts)))\n",
      "/mnt/KInsektDaten/teo/./BGR/bgr/soil/datasets.py:35: FutureWarning: Downcasting behavior in `replace` is deprecated and will be removed in a future version. To retain the old behavior, explicitly call `result.infer_objects(copy=False)`. To opt-in to the future behavior, set `pd.set_option('future.no_silent_downcasting', True)`\n",
      "  df[col_name] = df[col_name].replace(counts.index, range(len(counts)))\n",
      "/mnt/KInsektDaten/teo/./BGR/bgr/soil/datasets.py:35: SettingWithCopyWarning: \n",
      "A value is trying to be set on a copy of a slice from a DataFrame.\n",
      "Try using .loc[row_indexer,col_indexer] = value instead\n",
      "\n",
      "See the caveats in the documentation: https://pandas.pydata.org/pandas-docs/stable/user_guide/indexing.html#returning-a-view-versus-a-copy\n",
      "  df[col_name] = df[col_name].replace(counts.index, range(len(counts)))\n",
      "/mnt/KInsektDaten/teo/./BGR/bgr/soil/datasets.py:35: FutureWarning: Downcasting behavior in `replace` is deprecated and will be removed in a future version. To retain the old behavior, explicitly call `result.infer_objects(copy=False)`. To opt-in to the future behavior, set `pd.set_option('future.no_silent_downcasting', True)`\n",
      "  df[col_name] = df[col_name].replace(counts.index, range(len(counts)))\n",
      "/mnt/KInsektDaten/teo/./BGR/bgr/soil/datasets.py:35: SettingWithCopyWarning: \n",
      "A value is trying to be set on a copy of a slice from a DataFrame.\n",
      "Try using .loc[row_indexer,col_indexer] = value instead\n",
      "\n",
      "See the caveats in the documentation: https://pandas.pydata.org/pandas-docs/stable/user_guide/indexing.html#returning-a-view-versus-a-copy\n",
      "  df[col_name] = df[col_name].replace(counts.index, range(len(counts)))\n",
      "/mnt/KInsektDaten/teo/./BGR/bgr/soil/datasets.py:35: FutureWarning: Downcasting behavior in `replace` is deprecated and will be removed in a future version. To retain the old behavior, explicitly call `result.infer_objects(copy=False)`. To opt-in to the future behavior, set `pd.set_option('future.no_silent_downcasting', True)`\n",
      "  df[col_name] = df[col_name].replace(counts.index, range(len(counts)))\n",
      "/mnt/KInsektDaten/teo/./BGR/bgr/soil/datasets.py:35: SettingWithCopyWarning: \n",
      "A value is trying to be set on a copy of a slice from a DataFrame.\n",
      "Try using .loc[row_indexer,col_indexer] = value instead\n",
      "\n",
      "See the caveats in the documentation: https://pandas.pydata.org/pandas-docs/stable/user_guide/indexing.html#returning-a-view-versus-a-copy\n",
      "  df[col_name] = df[col_name].replace(counts.index, range(len(counts)))\n",
      "/mnt/KInsektDaten/teo/./BGR/bgr/soil/datasets.py:35: FutureWarning: Downcasting behavior in `replace` is deprecated and will be removed in a future version. To retain the old behavior, explicitly call `result.infer_objects(copy=False)`. To opt-in to the future behavior, set `pd.set_option('future.no_silent_downcasting', True)`\n",
      "  df[col_name] = df[col_name].replace(counts.index, range(len(counts)))\n",
      "/mnt/KInsektDaten/teo/./BGR/bgr/soil/datasets.py:35: SettingWithCopyWarning: \n",
      "A value is trying to be set on a copy of a slice from a DataFrame.\n",
      "Try using .loc[row_indexer,col_indexer] = value instead\n",
      "\n",
      "See the caveats in the documentation: https://pandas.pydata.org/pandas-docs/stable/user_guide/indexing.html#returning-a-view-versus-a-copy\n",
      "  df[col_name] = df[col_name].replace(counts.index, range(len(counts)))\n",
      "/mnt/KInsektDaten/teo/./BGR/bgr/soil/datasets.py:35: FutureWarning: Downcasting behavior in `replace` is deprecated and will be removed in a future version. To retain the old behavior, explicitly call `result.infer_objects(copy=False)`. To opt-in to the future behavior, set `pd.set_option('future.no_silent_downcasting', True)`\n",
      "  df[col_name] = df[col_name].replace(counts.index, range(len(counts)))\n",
      "/mnt/KInsektDaten/teo/./BGR/bgr/soil/datasets.py:35: SettingWithCopyWarning: \n",
      "A value is trying to be set on a copy of a slice from a DataFrame.\n",
      "Try using .loc[row_indexer,col_indexer] = value instead\n",
      "\n",
      "See the caveats in the documentation: https://pandas.pydata.org/pandas-docs/stable/user_guide/indexing.html#returning-a-view-versus-a-copy\n",
      "  df[col_name] = df[col_name].replace(counts.index, range(len(counts)))\n",
      "/mnt/KInsektDaten/teo/./BGR/bgr/soil/datasets.py:35: FutureWarning: Downcasting behavior in `replace` is deprecated and will be removed in a future version. To retain the old behavior, explicitly call `result.infer_objects(copy=False)`. To opt-in to the future behavior, set `pd.set_option('future.no_silent_downcasting', True)`\n",
      "  df[col_name] = df[col_name].replace(counts.index, range(len(counts)))\n",
      "/mnt/KInsektDaten/teo/./BGR/bgr/soil/datasets.py:35: SettingWithCopyWarning: \n",
      "A value is trying to be set on a copy of a slice from a DataFrame.\n",
      "Try using .loc[row_indexer,col_indexer] = value instead\n",
      "\n",
      "See the caveats in the documentation: https://pandas.pydata.org/pandas-docs/stable/user_guide/indexing.html#returning-a-view-versus-a-copy\n",
      "  df[col_name] = df[col_name].replace(counts.index, range(len(counts)))\n",
      "/mnt/KInsektDaten/teo/./BGR/bgr/soil/datasets.py:35: FutureWarning: Downcasting behavior in `replace` is deprecated and will be removed in a future version. To retain the old behavior, explicitly call `result.infer_objects(copy=False)`. To opt-in to the future behavior, set `pd.set_option('future.no_silent_downcasting', True)`\n",
      "  df[col_name] = df[col_name].replace(counts.index, range(len(counts)))\n",
      "/mnt/KInsektDaten/teo/./BGR/bgr/soil/datasets.py:35: SettingWithCopyWarning: \n",
      "A value is trying to be set on a copy of a slice from a DataFrame.\n",
      "Try using .loc[row_indexer,col_indexer] = value instead\n",
      "\n",
      "See the caveats in the documentation: https://pandas.pydata.org/pandas-docs/stable/user_guide/indexing.html#returning-a-view-versus-a-copy\n",
      "  df[col_name] = df[col_name].replace(counts.index, range(len(counts)))\n",
      "/mnt/KInsektDaten/teo/./BGR/bgr/soil/datasets.py:35: FutureWarning: Downcasting behavior in `replace` is deprecated and will be removed in a future version. To retain the old behavior, explicitly call `result.infer_objects(copy=False)`. To opt-in to the future behavior, set `pd.set_option('future.no_silent_downcasting', True)`\n",
      "  df[col_name] = df[col_name].replace(counts.index, range(len(counts)))\n",
      "/mnt/KInsektDaten/teo/./BGR/bgr/soil/datasets.py:35: SettingWithCopyWarning: \n",
      "A value is trying to be set on a copy of a slice from a DataFrame.\n",
      "Try using .loc[row_indexer,col_indexer] = value instead\n",
      "\n",
      "See the caveats in the documentation: https://pandas.pydata.org/pandas-docs/stable/user_guide/indexing.html#returning-a-view-versus-a-copy\n",
      "  df[col_name] = df[col_name].replace(counts.index, range(len(counts)))\n",
      "/mnt/KInsektDaten/teo/./BGR/bgr/soil/datasets.py:35: FutureWarning: Downcasting behavior in `replace` is deprecated and will be removed in a future version. To retain the old behavior, explicitly call `result.infer_objects(copy=False)`. To opt-in to the future behavior, set `pd.set_option('future.no_silent_downcasting', True)`\n",
      "  df[col_name] = df[col_name].replace(counts.index, range(len(counts)))\n",
      "/mnt/KInsektDaten/teo/./BGR/bgr/soil/datasets.py:35: SettingWithCopyWarning: \n",
      "A value is trying to be set on a copy of a slice from a DataFrame.\n",
      "Try using .loc[row_indexer,col_indexer] = value instead\n",
      "\n",
      "See the caveats in the documentation: https://pandas.pydata.org/pandas-docs/stable/user_guide/indexing.html#returning-a-view-versus-a-copy\n",
      "  df[col_name] = df[col_name].replace(counts.index, range(len(counts)))\n",
      "/mnt/KInsektDaten/teo/./BGR/bgr/soil/datasets.py:35: FutureWarning: Downcasting behavior in `replace` is deprecated and will be removed in a future version. To retain the old behavior, explicitly call `result.infer_objects(copy=False)`. To opt-in to the future behavior, set `pd.set_option('future.no_silent_downcasting', True)`\n",
      "  df[col_name] = df[col_name].replace(counts.index, range(len(counts)))\n",
      "/mnt/KInsektDaten/teo/./BGR/bgr/soil/datasets.py:35: SettingWithCopyWarning: \n",
      "A value is trying to be set on a copy of a slice from a DataFrame.\n",
      "Try using .loc[row_indexer,col_indexer] = value instead\n",
      "\n",
      "See the caveats in the documentation: https://pandas.pydata.org/pandas-docs/stable/user_guide/indexing.html#returning-a-view-versus-a-copy\n",
      "  df[col_name] = df[col_name].replace(counts.index, range(len(counts)))\n",
      "/mnt/KInsektDaten/teo/./BGR/bgr/soil/datasets.py:35: FutureWarning: Downcasting behavior in `replace` is deprecated and will be removed in a future version. To retain the old behavior, explicitly call `result.infer_objects(copy=False)`. To opt-in to the future behavior, set `pd.set_option('future.no_silent_downcasting', True)`\n",
      "  df[col_name] = df[col_name].replace(counts.index, range(len(counts)))\n",
      "/mnt/KInsektDaten/teo/./BGR/bgr/soil/datasets.py:35: SettingWithCopyWarning: \n",
      "A value is trying to be set on a copy of a slice from a DataFrame.\n",
      "Try using .loc[row_indexer,col_indexer] = value instead\n",
      "\n",
      "See the caveats in the documentation: https://pandas.pydata.org/pandas-docs/stable/user_guide/indexing.html#returning-a-view-versus-a-copy\n",
      "  df[col_name] = df[col_name].replace(counts.index, range(len(counts)))\n",
      "/mnt/KInsektDaten/teo/./BGR/bgr/soil/datasets.py:35: FutureWarning: Downcasting behavior in `replace` is deprecated and will be removed in a future version. To retain the old behavior, explicitly call `result.infer_objects(copy=False)`. To opt-in to the future behavior, set `pd.set_option('future.no_silent_downcasting', True)`\n",
      "  df[col_name] = df[col_name].replace(counts.index, range(len(counts)))\n",
      "/mnt/KInsektDaten/teo/./BGR/bgr/soil/datasets.py:35: SettingWithCopyWarning: \n",
      "A value is trying to be set on a copy of a slice from a DataFrame.\n",
      "Try using .loc[row_indexer,col_indexer] = value instead\n",
      "\n",
      "See the caveats in the documentation: https://pandas.pydata.org/pandas-docs/stable/user_guide/indexing.html#returning-a-view-versus-a-copy\n",
      "  df[col_name] = df[col_name].replace(counts.index, range(len(counts)))\n",
      "/mnt/KInsektDaten/teo/./BGR/bgr/soil/datasets.py:35: FutureWarning: Downcasting behavior in `replace` is deprecated and will be removed in a future version. To retain the old behavior, explicitly call `result.infer_objects(copy=False)`. To opt-in to the future behavior, set `pd.set_option('future.no_silent_downcasting', True)`\n",
      "  df[col_name] = df[col_name].replace(counts.index, range(len(counts)))\n",
      "/mnt/KInsektDaten/teo/./BGR/bgr/soil/datasets.py:35: SettingWithCopyWarning: \n",
      "A value is trying to be set on a copy of a slice from a DataFrame.\n",
      "Try using .loc[row_indexer,col_indexer] = value instead\n",
      "\n",
      "See the caveats in the documentation: https://pandas.pydata.org/pandas-docs/stable/user_guide/indexing.html#returning-a-view-versus-a-copy\n",
      "  df[col_name] = df[col_name].replace(counts.index, range(len(counts)))\n",
      "/mnt/KInsektDaten/teo/./BGR/bgr/soil/datasets.py:35: FutureWarning: Downcasting behavior in `replace` is deprecated and will be removed in a future version. To retain the old behavior, explicitly call `result.infer_objects(copy=False)`. To opt-in to the future behavior, set `pd.set_option('future.no_silent_downcasting', True)`\n",
      "  df[col_name] = df[col_name].replace(counts.index, range(len(counts)))\n",
      "/mnt/KInsektDaten/teo/./BGR/bgr/soil/datasets.py:35: SettingWithCopyWarning: \n",
      "A value is trying to be set on a copy of a slice from a DataFrame.\n",
      "Try using .loc[row_indexer,col_indexer] = value instead\n",
      "\n",
      "See the caveats in the documentation: https://pandas.pydata.org/pandas-docs/stable/user_guide/indexing.html#returning-a-view-versus-a-copy\n",
      "  df[col_name] = df[col_name].replace(counts.index, range(len(counts)))\n"
     ]
    },
    {
     "data": {
      "text/plain": "        Point  Obergrenze  Untergrenze  Horizontsymbol_relevant  Bodenart  \\\n0         2.0         0.0         28.0                       22       3.0   \n1         2.0        28.0         54.0                        5       3.0   \n2         2.0        54.0         68.0                       32       3.0   \n3         2.0        68.0         96.0                       62       8.0   \n4         2.0        96.0        201.0                        0       7.0   \n...       ...         ...          ...                      ...       ...   \n16307  6211.0        27.0         50.0                       37       8.0   \n16308  6211.0        50.0         70.0                       12       8.0   \n16309  6211.0        50.0         70.0                       12       8.0   \n16310  6211.0        70.0        100.0                       74       8.0   \n16311  6211.0        70.0        100.0                       74       8.0   \n\n       Bodenfarbe  Steine  Karbonat  Humusgehaltsklasse  Durchwurzelung  \\\n0            24.0     3.0         0                 1.0               4   \n1             0.0     3.0         0                 3.0               3   \n2            20.0    10.0         0                 2.0               3   \n3            72.0     1.0         0                 0.0               1   \n4            37.0     1.0         0                 0.0               0   \n...           ...     ...       ...                 ...             ...   \n16307        68.0     1.0         0                 3.0               3   \n16308        38.0     1.0         0                 2.0               1   \n16309        38.0     1.0         0                 2.0               1   \n16310        19.0     1.0         0                 2.0               6   \n16311        19.0     1.0         0                 2.0               6   \n\n                                                    file  Probenahme_Monat  \\\n0      ../data/BGR/Profilbilder_no_ruler_no_sky/SH_00...                 3   \n1      ../data/BGR/Profilbilder_no_ruler_no_sky/SH_00...                 3   \n2      ../data/BGR/Profilbilder_no_ruler_no_sky/SH_00...                 3   \n3      ../data/BGR/Profilbilder_no_ruler_no_sky/SH_00...                 3   \n4      ../data/BGR/Profilbilder_no_ruler_no_sky/SH_00...                 3   \n...                                                  ...               ...   \n16307  ../data/BGR/Profilbilder_no_ruler_no_sky/NI_62...                10   \n16308  ../data/BGR/Profilbilder_no_ruler_no_sky/NI_62...                10   \n16309  ../data/BGR/Profilbilder_no_ruler_no_sky/NI_62...                10   \n16310  ../data/BGR/Profilbilder_no_ruler_no_sky/NI_62...                10   \n16311  ../data/BGR/Profilbilder_no_ruler_no_sky/NI_62...                10   \n\n       Probenahme_Jahr       xcoord       ycoord  Bodenklimaraum_Name  \\\n0                    4  462216.1283  6079359.775                   37   \n1                    4  462216.1283  6079359.775                   37   \n2                    4  462216.1283  6079359.775                   37   \n3                    4  462216.1283  6079359.775                   37   \n4                    4  462216.1283  6079359.775                   37   \n...                ...          ...          ...                  ...   \n16307                0  522076.9633  5930456.114                   15   \n16308                0  522076.9633  5930456.114                   15   \n16309                0  522076.9633  5930456.114                   15   \n16310                0  522076.9633  5930456.114                   15   \n16311                0  522076.9633  5930456.114                   15   \n\n       Landnutzung  BZE_Moor  Hauptbodentyp  BodenVarTypSub  GrundwaStufe  \\\n0                0         0             15             247           0.0   \n1                0         0             15             247           0.0   \n2                0         0             15             247           0.0   \n3                0         0             15             247           0.0   \n4                0         0             15             247           0.0   \n...            ...       ...            ...             ...           ...   \n16307            1         0              8              42           1.0   \n16308            1         0              8              42           1.0   \n16309            1         0              8              42           1.0   \n16310            1         0              8              42           1.0   \n16311            1         0              8              42           1.0   \n\n       GrundwaStand  Moormaechtigkeit  Torfmaechtigkeit  Neigung  Exposition  \\\n0             200.0               0.0               0.0      0.0         0.0   \n1             200.0               0.0               0.0      0.0         0.0   \n2             200.0               0.0               0.0      0.0         0.0   \n3             200.0               0.0               0.0      0.0         0.0   \n4             200.0               0.0               0.0      0.0         0.0   \n...             ...               ...               ...      ...         ...   \n16307         110.0               0.0               0.0      0.0         0.0   \n16308         110.0               0.0               0.0      0.0         0.0   \n16309         110.0               0.0               0.0      0.0         0.0   \n16310         110.0               0.0               0.0      0.0         0.0   \n16311         110.0               0.0               0.0      0.0         0.0   \n\n       Woelbung  Reliefformtyp  LageImRelief  KV_0_30  KV_30_100  \n0           0.0            1.0           0.0    81.89      54.19  \n1           0.0            1.0           0.0    81.89      54.19  \n2           0.0            1.0           0.0    81.89      54.19  \n3           0.0            1.0           0.0    81.89      54.19  \n4           0.0            1.0           0.0    81.89      54.19  \n...         ...            ...           ...      ...        ...  \n16307       0.0            2.0           5.0   117.59      87.72  \n16308       0.0            2.0           5.0   117.59      87.72  \n16309       0.0            2.0           5.0   117.59      87.72  \n16310       0.0            2.0           5.0   117.59      87.72  \n16311       0.0            2.0           5.0   117.59      87.72  \n\n[13621 rows x 31 columns]",
      "text/html": "<div>\n<style scoped>\n    .dataframe tbody tr th:only-of-type {\n        vertical-align: middle;\n    }\n\n    .dataframe tbody tr th {\n        vertical-align: top;\n    }\n\n    .dataframe thead th {\n        text-align: right;\n    }\n</style>\n<table border=\"1\" class=\"dataframe\">\n  <thead>\n    <tr style=\"text-align: right;\">\n      <th></th>\n      <th>Point</th>\n      <th>Obergrenze</th>\n      <th>Untergrenze</th>\n      <th>Horizontsymbol_relevant</th>\n      <th>Bodenart</th>\n      <th>Bodenfarbe</th>\n      <th>Steine</th>\n      <th>Karbonat</th>\n      <th>Humusgehaltsklasse</th>\n      <th>Durchwurzelung</th>\n      <th>file</th>\n      <th>Probenahme_Monat</th>\n      <th>Probenahme_Jahr</th>\n      <th>xcoord</th>\n      <th>ycoord</th>\n      <th>Bodenklimaraum_Name</th>\n      <th>Landnutzung</th>\n      <th>BZE_Moor</th>\n      <th>Hauptbodentyp</th>\n      <th>BodenVarTypSub</th>\n      <th>GrundwaStufe</th>\n      <th>GrundwaStand</th>\n      <th>Moormaechtigkeit</th>\n      <th>Torfmaechtigkeit</th>\n      <th>Neigung</th>\n      <th>Exposition</th>\n      <th>Woelbung</th>\n      <th>Reliefformtyp</th>\n      <th>LageImRelief</th>\n      <th>KV_0_30</th>\n      <th>KV_30_100</th>\n    </tr>\n  </thead>\n  <tbody>\n    <tr>\n      <th>0</th>\n      <td>2.0</td>\n      <td>0.0</td>\n      <td>28.0</td>\n      <td>22</td>\n      <td>3.0</td>\n      <td>24.0</td>\n      <td>3.0</td>\n      <td>0</td>\n      <td>1.0</td>\n      <td>4</td>\n      <td>../data/BGR/Profilbilder_no_ruler_no_sky/SH_00...</td>\n      <td>3</td>\n      <td>4</td>\n      <td>462216.1283</td>\n      <td>6079359.775</td>\n      <td>37</td>\n      <td>0</td>\n      <td>0</td>\n      <td>15</td>\n      <td>247</td>\n      <td>0.0</td>\n      <td>200.0</td>\n      <td>0.0</td>\n      <td>0.0</td>\n      <td>0.0</td>\n      <td>0.0</td>\n      <td>0.0</td>\n      <td>1.0</td>\n      <td>0.0</td>\n      <td>81.89</td>\n      <td>54.19</td>\n    </tr>\n    <tr>\n      <th>1</th>\n      <td>2.0</td>\n      <td>28.0</td>\n      <td>54.0</td>\n      <td>5</td>\n      <td>3.0</td>\n      <td>0.0</td>\n      <td>3.0</td>\n      <td>0</td>\n      <td>3.0</td>\n      <td>3</td>\n      <td>../data/BGR/Profilbilder_no_ruler_no_sky/SH_00...</td>\n      <td>3</td>\n      <td>4</td>\n      <td>462216.1283</td>\n      <td>6079359.775</td>\n      <td>37</td>\n      <td>0</td>\n      <td>0</td>\n      <td>15</td>\n      <td>247</td>\n      <td>0.0</td>\n      <td>200.0</td>\n      <td>0.0</td>\n      <td>0.0</td>\n      <td>0.0</td>\n      <td>0.0</td>\n      <td>0.0</td>\n      <td>1.0</td>\n      <td>0.0</td>\n      <td>81.89</td>\n      <td>54.19</td>\n    </tr>\n    <tr>\n      <th>2</th>\n      <td>2.0</td>\n      <td>54.0</td>\n      <td>68.0</td>\n      <td>32</td>\n      <td>3.0</td>\n      <td>20.0</td>\n      <td>10.0</td>\n      <td>0</td>\n      <td>2.0</td>\n      <td>3</td>\n      <td>../data/BGR/Profilbilder_no_ruler_no_sky/SH_00...</td>\n      <td>3</td>\n      <td>4</td>\n      <td>462216.1283</td>\n      <td>6079359.775</td>\n      <td>37</td>\n      <td>0</td>\n      <td>0</td>\n      <td>15</td>\n      <td>247</td>\n      <td>0.0</td>\n      <td>200.0</td>\n      <td>0.0</td>\n      <td>0.0</td>\n      <td>0.0</td>\n      <td>0.0</td>\n      <td>0.0</td>\n      <td>1.0</td>\n      <td>0.0</td>\n      <td>81.89</td>\n      <td>54.19</td>\n    </tr>\n    <tr>\n      <th>3</th>\n      <td>2.0</td>\n      <td>68.0</td>\n      <td>96.0</td>\n      <td>62</td>\n      <td>8.0</td>\n      <td>72.0</td>\n      <td>1.0</td>\n      <td>0</td>\n      <td>0.0</td>\n      <td>1</td>\n      <td>../data/BGR/Profilbilder_no_ruler_no_sky/SH_00...</td>\n      <td>3</td>\n      <td>4</td>\n      <td>462216.1283</td>\n      <td>6079359.775</td>\n      <td>37</td>\n      <td>0</td>\n      <td>0</td>\n      <td>15</td>\n      <td>247</td>\n      <td>0.0</td>\n      <td>200.0</td>\n      <td>0.0</td>\n      <td>0.0</td>\n      <td>0.0</td>\n      <td>0.0</td>\n      <td>0.0</td>\n      <td>1.0</td>\n      <td>0.0</td>\n      <td>81.89</td>\n      <td>54.19</td>\n    </tr>\n    <tr>\n      <th>4</th>\n      <td>2.0</td>\n      <td>96.0</td>\n      <td>201.0</td>\n      <td>0</td>\n      <td>7.0</td>\n      <td>37.0</td>\n      <td>1.0</td>\n      <td>0</td>\n      <td>0.0</td>\n      <td>0</td>\n      <td>../data/BGR/Profilbilder_no_ruler_no_sky/SH_00...</td>\n      <td>3</td>\n      <td>4</td>\n      <td>462216.1283</td>\n      <td>6079359.775</td>\n      <td>37</td>\n      <td>0</td>\n      <td>0</td>\n      <td>15</td>\n      <td>247</td>\n      <td>0.0</td>\n      <td>200.0</td>\n      <td>0.0</td>\n      <td>0.0</td>\n      <td>0.0</td>\n      <td>0.0</td>\n      <td>0.0</td>\n      <td>1.0</td>\n      <td>0.0</td>\n      <td>81.89</td>\n      <td>54.19</td>\n    </tr>\n    <tr>\n      <th>...</th>\n      <td>...</td>\n      <td>...</td>\n      <td>...</td>\n      <td>...</td>\n      <td>...</td>\n      <td>...</td>\n      <td>...</td>\n      <td>...</td>\n      <td>...</td>\n      <td>...</td>\n      <td>...</td>\n      <td>...</td>\n      <td>...</td>\n      <td>...</td>\n      <td>...</td>\n      <td>...</td>\n      <td>...</td>\n      <td>...</td>\n      <td>...</td>\n      <td>...</td>\n      <td>...</td>\n      <td>...</td>\n      <td>...</td>\n      <td>...</td>\n      <td>...</td>\n      <td>...</td>\n      <td>...</td>\n      <td>...</td>\n      <td>...</td>\n      <td>...</td>\n      <td>...</td>\n    </tr>\n    <tr>\n      <th>16307</th>\n      <td>6211.0</td>\n      <td>27.0</td>\n      <td>50.0</td>\n      <td>37</td>\n      <td>8.0</td>\n      <td>68.0</td>\n      <td>1.0</td>\n      <td>0</td>\n      <td>3.0</td>\n      <td>3</td>\n      <td>../data/BGR/Profilbilder_no_ruler_no_sky/NI_62...</td>\n      <td>10</td>\n      <td>0</td>\n      <td>522076.9633</td>\n      <td>5930456.114</td>\n      <td>15</td>\n      <td>1</td>\n      <td>0</td>\n      <td>8</td>\n      <td>42</td>\n      <td>1.0</td>\n      <td>110.0</td>\n      <td>0.0</td>\n      <td>0.0</td>\n      <td>0.0</td>\n      <td>0.0</td>\n      <td>0.0</td>\n      <td>2.0</td>\n      <td>5.0</td>\n      <td>117.59</td>\n      <td>87.72</td>\n    </tr>\n    <tr>\n      <th>16308</th>\n      <td>6211.0</td>\n      <td>50.0</td>\n      <td>70.0</td>\n      <td>12</td>\n      <td>8.0</td>\n      <td>38.0</td>\n      <td>1.0</td>\n      <td>0</td>\n      <td>2.0</td>\n      <td>1</td>\n      <td>../data/BGR/Profilbilder_no_ruler_no_sky/NI_62...</td>\n      <td>10</td>\n      <td>0</td>\n      <td>522076.9633</td>\n      <td>5930456.114</td>\n      <td>15</td>\n      <td>1</td>\n      <td>0</td>\n      <td>8</td>\n      <td>42</td>\n      <td>1.0</td>\n      <td>110.0</td>\n      <td>0.0</td>\n      <td>0.0</td>\n      <td>0.0</td>\n      <td>0.0</td>\n      <td>0.0</td>\n      <td>2.0</td>\n      <td>5.0</td>\n      <td>117.59</td>\n      <td>87.72</td>\n    </tr>\n    <tr>\n      <th>16309</th>\n      <td>6211.0</td>\n      <td>50.0</td>\n      <td>70.0</td>\n      <td>12</td>\n      <td>8.0</td>\n      <td>38.0</td>\n      <td>1.0</td>\n      <td>0</td>\n      <td>2.0</td>\n      <td>1</td>\n      <td>../data/BGR/Profilbilder_no_ruler_no_sky/NI_62...</td>\n      <td>10</td>\n      <td>0</td>\n      <td>522076.9633</td>\n      <td>5930456.114</td>\n      <td>15</td>\n      <td>1</td>\n      <td>0</td>\n      <td>8</td>\n      <td>42</td>\n      <td>1.0</td>\n      <td>110.0</td>\n      <td>0.0</td>\n      <td>0.0</td>\n      <td>0.0</td>\n      <td>0.0</td>\n      <td>0.0</td>\n      <td>2.0</td>\n      <td>5.0</td>\n      <td>117.59</td>\n      <td>87.72</td>\n    </tr>\n    <tr>\n      <th>16310</th>\n      <td>6211.0</td>\n      <td>70.0</td>\n      <td>100.0</td>\n      <td>74</td>\n      <td>8.0</td>\n      <td>19.0</td>\n      <td>1.0</td>\n      <td>0</td>\n      <td>2.0</td>\n      <td>6</td>\n      <td>../data/BGR/Profilbilder_no_ruler_no_sky/NI_62...</td>\n      <td>10</td>\n      <td>0</td>\n      <td>522076.9633</td>\n      <td>5930456.114</td>\n      <td>15</td>\n      <td>1</td>\n      <td>0</td>\n      <td>8</td>\n      <td>42</td>\n      <td>1.0</td>\n      <td>110.0</td>\n      <td>0.0</td>\n      <td>0.0</td>\n      <td>0.0</td>\n      <td>0.0</td>\n      <td>0.0</td>\n      <td>2.0</td>\n      <td>5.0</td>\n      <td>117.59</td>\n      <td>87.72</td>\n    </tr>\n    <tr>\n      <th>16311</th>\n      <td>6211.0</td>\n      <td>70.0</td>\n      <td>100.0</td>\n      <td>74</td>\n      <td>8.0</td>\n      <td>19.0</td>\n      <td>1.0</td>\n      <td>0</td>\n      <td>2.0</td>\n      <td>6</td>\n      <td>../data/BGR/Profilbilder_no_ruler_no_sky/NI_62...</td>\n      <td>10</td>\n      <td>0</td>\n      <td>522076.9633</td>\n      <td>5930456.114</td>\n      <td>15</td>\n      <td>1</td>\n      <td>0</td>\n      <td>8</td>\n      <td>42</td>\n      <td>1.0</td>\n      <td>110.0</td>\n      <td>0.0</td>\n      <td>0.0</td>\n      <td>0.0</td>\n      <td>0.0</td>\n      <td>0.0</td>\n      <td>2.0</td>\n      <td>5.0</td>\n      <td>117.59</td>\n      <td>87.72</td>\n    </tr>\n  </tbody>\n</table>\n<p>13621 rows × 31 columns</p>\n</div>"
     },
     "execution_count": 25,
     "metadata": {},
     "output_type": "execute_result"
    }
   ],
   "source": [
    "# Encode categorical features (NaNs are left NaNs)\n",
    "for categ in categ_features:\n",
    "    bgr_data.encode_categorical_columns(df, categ)\n",
    "df"
   ],
   "metadata": {
    "collapsed": false,
    "pycharm": {
     "name": "#%%\n"
    }
   }
  },
  {
   "cell_type": "code",
   "execution_count": 26,
   "outputs": [
    {
     "name": "stdout",
     "output_type": "stream",
     "text": [
      "<class 'pandas.core.frame.DataFrame'>\n",
      "Index: 13621 entries, 0 to 16311\n",
      "Data columns (total 31 columns):\n",
      " #   Column                   Non-Null Count  Dtype  \n",
      "---  ------                   --------------  -----  \n",
      " 0   Point                    13621 non-null  float64\n",
      " 1   Obergrenze               13621 non-null  float64\n",
      " 2   Untergrenze              13621 non-null  float64\n",
      " 3   Horizontsymbol_relevant  13621 non-null  int64  \n",
      " 4   Bodenart                 13589 non-null  float64\n",
      " 5   Bodenfarbe               13572 non-null  float64\n",
      " 6   Steine                   13621 non-null  float64\n",
      " 7   Karbonat                 13621 non-null  int64  \n",
      " 8   Humusgehaltsklasse       13615 non-null  float64\n",
      " 9   Durchwurzelung           13621 non-null  int64  \n",
      " 10  file                     13621 non-null  object \n",
      " 11  Probenahme_Monat         13621 non-null  int64  \n",
      " 12  Probenahme_Jahr          13621 non-null  int64  \n",
      " 13  xcoord                   13621 non-null  float64\n",
      " 14  ycoord                   13621 non-null  float64\n",
      " 15  Bodenklimaraum_Name      13621 non-null  int64  \n",
      " 16  Landnutzung              13621 non-null  int64  \n",
      " 17  BZE_Moor                 13621 non-null  int64  \n",
      " 18  Hauptbodentyp            13621 non-null  int64  \n",
      " 19  BodenVarTypSub           13621 non-null  int64  \n",
      " 20  GrundwaStufe             13609 non-null  float64\n",
      " 21  GrundwaStand             11401 non-null  float64\n",
      " 22  Moormaechtigkeit         13609 non-null  float64\n",
      " 23  Torfmaechtigkeit         13609 non-null  float64\n",
      " 24  Neigung                  13609 non-null  float64\n",
      " 25  Exposition               12901 non-null  float64\n",
      " 26  Woelbung                 13609 non-null  float64\n",
      " 27  Reliefformtyp            13609 non-null  float64\n",
      " 28  LageImRelief             13609 non-null  float64\n",
      " 29  KV_0_30                  13609 non-null  float64\n",
      " 30  KV_30_100                13552 non-null  float64\n",
      "dtypes: float64(20), int64(10), object(1)\n",
      "memory usage: 3.3+ MB\n"
     ]
    }
   ],
   "source": [
    "# Some columns still have NaNs\n",
    "# For now, we are replacing the missing values with the column medians\n",
    "# Any better ideas? In particular the column GrundwaStand has quite a few missing entries...\n",
    "df.info()\n",
    "df = df.fillna(df.median(numeric_only=True))"
   ],
   "metadata": {
    "collapsed": false,
    "pycharm": {
     "name": "#%%\n"
    }
   }
  },
  {
   "cell_type": "code",
   "execution_count": 27,
   "outputs": [
    {
     "data": {
      "text/plain": "        Point  Obergrenze  Untergrenze  Horizontsymbol_relevant  Bodenart  \\\n0         2.0         0.0         28.0                       22       3.0   \n1         2.0        28.0         54.0                        5       3.0   \n2         2.0        54.0         68.0                       32       3.0   \n3         2.0        68.0         96.0                       62       8.0   \n4         2.0        96.0        201.0                        0       7.0   \n...       ...         ...          ...                      ...       ...   \n16307  6211.0        27.0         50.0                       37       8.0   \n16308  6211.0        50.0         70.0                       12       8.0   \n16309  6211.0        50.0         70.0                       12       8.0   \n16310  6211.0        70.0        100.0                       74       8.0   \n16311  6211.0        70.0        100.0                       74       8.0   \n\n       Bodenfarbe  Steine  Karbonat  Humusgehaltsklasse  Durchwurzelung  \\\n0            24.0    0.03         0                 1.0               4   \n1             0.0    0.03         0                 3.0               3   \n2            20.0    0.10         0                 2.0               3   \n3            72.0    0.01         0                 0.0               1   \n4            37.0    0.01         0                 0.0               0   \n...           ...     ...       ...                 ...             ...   \n16307        68.0    0.01         0                 3.0               3   \n16308        38.0    0.01         0                 2.0               1   \n16309        38.0    0.01         0                 2.0               1   \n16310        19.0    0.01         0                 2.0               6   \n16311        19.0    0.01         0                 2.0               6   \n\n                                                    file  Probenahme_Monat  \\\n0      ../data/BGR/Profilbilder_no_ruler_no_sky/SH_00...                 3   \n1      ../data/BGR/Profilbilder_no_ruler_no_sky/SH_00...                 3   \n2      ../data/BGR/Profilbilder_no_ruler_no_sky/SH_00...                 3   \n3      ../data/BGR/Profilbilder_no_ruler_no_sky/SH_00...                 3   \n4      ../data/BGR/Profilbilder_no_ruler_no_sky/SH_00...                 3   \n...                                                  ...               ...   \n16307  ../data/BGR/Profilbilder_no_ruler_no_sky/NI_62...                10   \n16308  ../data/BGR/Profilbilder_no_ruler_no_sky/NI_62...                10   \n16309  ../data/BGR/Profilbilder_no_ruler_no_sky/NI_62...                10   \n16310  ../data/BGR/Profilbilder_no_ruler_no_sky/NI_62...                10   \n16311  ../data/BGR/Profilbilder_no_ruler_no_sky/NI_62...                10   \n\n       Probenahme_Jahr       xcoord       ycoord  Bodenklimaraum_Name  \\\n0                    4  462216.1283  6079359.775                   37   \n1                    4  462216.1283  6079359.775                   37   \n2                    4  462216.1283  6079359.775                   37   \n3                    4  462216.1283  6079359.775                   37   \n4                    4  462216.1283  6079359.775                   37   \n...                ...          ...          ...                  ...   \n16307                0  522076.9633  5930456.114                   15   \n16308                0  522076.9633  5930456.114                   15   \n16309                0  522076.9633  5930456.114                   15   \n16310                0  522076.9633  5930456.114                   15   \n16311                0  522076.9633  5930456.114                   15   \n\n       Landnutzung  BZE_Moor  Hauptbodentyp  BodenVarTypSub  GrundwaStufe  \\\n0                0         0             15             247           0.0   \n1                0         0             15             247           0.0   \n2                0         0             15             247           0.0   \n3                0         0             15             247           0.0   \n4                0         0             15             247           0.0   \n...            ...       ...            ...             ...           ...   \n16307            1         0              8              42           1.0   \n16308            1         0              8              42           1.0   \n16309            1         0              8              42           1.0   \n16310            1         0              8              42           1.0   \n16311            1         0              8              42           1.0   \n\n       GrundwaStand  Moormaechtigkeit  Torfmaechtigkeit  Neigung  Exposition  \\\n0             200.0               0.0               0.0      0.0         0.0   \n1             200.0               0.0               0.0      0.0         0.0   \n2             200.0               0.0               0.0      0.0         0.0   \n3             200.0               0.0               0.0      0.0         0.0   \n4             200.0               0.0               0.0      0.0         0.0   \n...             ...               ...               ...      ...         ...   \n16307         110.0               0.0               0.0      0.0         0.0   \n16308         110.0               0.0               0.0      0.0         0.0   \n16309         110.0               0.0               0.0      0.0         0.0   \n16310         110.0               0.0               0.0      0.0         0.0   \n16311         110.0               0.0               0.0      0.0         0.0   \n\n       Woelbung  Reliefformtyp  LageImRelief  KV_0_30  KV_30_100  \n0           0.0            1.0           0.0    81.89      54.19  \n1           0.0            1.0           0.0    81.89      54.19  \n2           0.0            1.0           0.0    81.89      54.19  \n3           0.0            1.0           0.0    81.89      54.19  \n4           0.0            1.0           0.0    81.89      54.19  \n...         ...            ...           ...      ...        ...  \n16307       0.0            2.0           5.0   117.59      87.72  \n16308       0.0            2.0           5.0   117.59      87.72  \n16309       0.0            2.0           5.0   117.59      87.72  \n16310       0.0            2.0           5.0   117.59      87.72  \n16311       0.0            2.0           5.0   117.59      87.72  \n\n[13621 rows x 31 columns]",
      "text/html": "<div>\n<style scoped>\n    .dataframe tbody tr th:only-of-type {\n        vertical-align: middle;\n    }\n\n    .dataframe tbody tr th {\n        vertical-align: top;\n    }\n\n    .dataframe thead th {\n        text-align: right;\n    }\n</style>\n<table border=\"1\" class=\"dataframe\">\n  <thead>\n    <tr style=\"text-align: right;\">\n      <th></th>\n      <th>Point</th>\n      <th>Obergrenze</th>\n      <th>Untergrenze</th>\n      <th>Horizontsymbol_relevant</th>\n      <th>Bodenart</th>\n      <th>Bodenfarbe</th>\n      <th>Steine</th>\n      <th>Karbonat</th>\n      <th>Humusgehaltsklasse</th>\n      <th>Durchwurzelung</th>\n      <th>file</th>\n      <th>Probenahme_Monat</th>\n      <th>Probenahme_Jahr</th>\n      <th>xcoord</th>\n      <th>ycoord</th>\n      <th>Bodenklimaraum_Name</th>\n      <th>Landnutzung</th>\n      <th>BZE_Moor</th>\n      <th>Hauptbodentyp</th>\n      <th>BodenVarTypSub</th>\n      <th>GrundwaStufe</th>\n      <th>GrundwaStand</th>\n      <th>Moormaechtigkeit</th>\n      <th>Torfmaechtigkeit</th>\n      <th>Neigung</th>\n      <th>Exposition</th>\n      <th>Woelbung</th>\n      <th>Reliefformtyp</th>\n      <th>LageImRelief</th>\n      <th>KV_0_30</th>\n      <th>KV_30_100</th>\n    </tr>\n  </thead>\n  <tbody>\n    <tr>\n      <th>0</th>\n      <td>2.0</td>\n      <td>0.0</td>\n      <td>28.0</td>\n      <td>22</td>\n      <td>3.0</td>\n      <td>24.0</td>\n      <td>0.03</td>\n      <td>0</td>\n      <td>1.0</td>\n      <td>4</td>\n      <td>../data/BGR/Profilbilder_no_ruler_no_sky/SH_00...</td>\n      <td>3</td>\n      <td>4</td>\n      <td>462216.1283</td>\n      <td>6079359.775</td>\n      <td>37</td>\n      <td>0</td>\n      <td>0</td>\n      <td>15</td>\n      <td>247</td>\n      <td>0.0</td>\n      <td>200.0</td>\n      <td>0.0</td>\n      <td>0.0</td>\n      <td>0.0</td>\n      <td>0.0</td>\n      <td>0.0</td>\n      <td>1.0</td>\n      <td>0.0</td>\n      <td>81.89</td>\n      <td>54.19</td>\n    </tr>\n    <tr>\n      <th>1</th>\n      <td>2.0</td>\n      <td>28.0</td>\n      <td>54.0</td>\n      <td>5</td>\n      <td>3.0</td>\n      <td>0.0</td>\n      <td>0.03</td>\n      <td>0</td>\n      <td>3.0</td>\n      <td>3</td>\n      <td>../data/BGR/Profilbilder_no_ruler_no_sky/SH_00...</td>\n      <td>3</td>\n      <td>4</td>\n      <td>462216.1283</td>\n      <td>6079359.775</td>\n      <td>37</td>\n      <td>0</td>\n      <td>0</td>\n      <td>15</td>\n      <td>247</td>\n      <td>0.0</td>\n      <td>200.0</td>\n      <td>0.0</td>\n      <td>0.0</td>\n      <td>0.0</td>\n      <td>0.0</td>\n      <td>0.0</td>\n      <td>1.0</td>\n      <td>0.0</td>\n      <td>81.89</td>\n      <td>54.19</td>\n    </tr>\n    <tr>\n      <th>2</th>\n      <td>2.0</td>\n      <td>54.0</td>\n      <td>68.0</td>\n      <td>32</td>\n      <td>3.0</td>\n      <td>20.0</td>\n      <td>0.10</td>\n      <td>0</td>\n      <td>2.0</td>\n      <td>3</td>\n      <td>../data/BGR/Profilbilder_no_ruler_no_sky/SH_00...</td>\n      <td>3</td>\n      <td>4</td>\n      <td>462216.1283</td>\n      <td>6079359.775</td>\n      <td>37</td>\n      <td>0</td>\n      <td>0</td>\n      <td>15</td>\n      <td>247</td>\n      <td>0.0</td>\n      <td>200.0</td>\n      <td>0.0</td>\n      <td>0.0</td>\n      <td>0.0</td>\n      <td>0.0</td>\n      <td>0.0</td>\n      <td>1.0</td>\n      <td>0.0</td>\n      <td>81.89</td>\n      <td>54.19</td>\n    </tr>\n    <tr>\n      <th>3</th>\n      <td>2.0</td>\n      <td>68.0</td>\n      <td>96.0</td>\n      <td>62</td>\n      <td>8.0</td>\n      <td>72.0</td>\n      <td>0.01</td>\n      <td>0</td>\n      <td>0.0</td>\n      <td>1</td>\n      <td>../data/BGR/Profilbilder_no_ruler_no_sky/SH_00...</td>\n      <td>3</td>\n      <td>4</td>\n      <td>462216.1283</td>\n      <td>6079359.775</td>\n      <td>37</td>\n      <td>0</td>\n      <td>0</td>\n      <td>15</td>\n      <td>247</td>\n      <td>0.0</td>\n      <td>200.0</td>\n      <td>0.0</td>\n      <td>0.0</td>\n      <td>0.0</td>\n      <td>0.0</td>\n      <td>0.0</td>\n      <td>1.0</td>\n      <td>0.0</td>\n      <td>81.89</td>\n      <td>54.19</td>\n    </tr>\n    <tr>\n      <th>4</th>\n      <td>2.0</td>\n      <td>96.0</td>\n      <td>201.0</td>\n      <td>0</td>\n      <td>7.0</td>\n      <td>37.0</td>\n      <td>0.01</td>\n      <td>0</td>\n      <td>0.0</td>\n      <td>0</td>\n      <td>../data/BGR/Profilbilder_no_ruler_no_sky/SH_00...</td>\n      <td>3</td>\n      <td>4</td>\n      <td>462216.1283</td>\n      <td>6079359.775</td>\n      <td>37</td>\n      <td>0</td>\n      <td>0</td>\n      <td>15</td>\n      <td>247</td>\n      <td>0.0</td>\n      <td>200.0</td>\n      <td>0.0</td>\n      <td>0.0</td>\n      <td>0.0</td>\n      <td>0.0</td>\n      <td>0.0</td>\n      <td>1.0</td>\n      <td>0.0</td>\n      <td>81.89</td>\n      <td>54.19</td>\n    </tr>\n    <tr>\n      <th>...</th>\n      <td>...</td>\n      <td>...</td>\n      <td>...</td>\n      <td>...</td>\n      <td>...</td>\n      <td>...</td>\n      <td>...</td>\n      <td>...</td>\n      <td>...</td>\n      <td>...</td>\n      <td>...</td>\n      <td>...</td>\n      <td>...</td>\n      <td>...</td>\n      <td>...</td>\n      <td>...</td>\n      <td>...</td>\n      <td>...</td>\n      <td>...</td>\n      <td>...</td>\n      <td>...</td>\n      <td>...</td>\n      <td>...</td>\n      <td>...</td>\n      <td>...</td>\n      <td>...</td>\n      <td>...</td>\n      <td>...</td>\n      <td>...</td>\n      <td>...</td>\n      <td>...</td>\n    </tr>\n    <tr>\n      <th>16307</th>\n      <td>6211.0</td>\n      <td>27.0</td>\n      <td>50.0</td>\n      <td>37</td>\n      <td>8.0</td>\n      <td>68.0</td>\n      <td>0.01</td>\n      <td>0</td>\n      <td>3.0</td>\n      <td>3</td>\n      <td>../data/BGR/Profilbilder_no_ruler_no_sky/NI_62...</td>\n      <td>10</td>\n      <td>0</td>\n      <td>522076.9633</td>\n      <td>5930456.114</td>\n      <td>15</td>\n      <td>1</td>\n      <td>0</td>\n      <td>8</td>\n      <td>42</td>\n      <td>1.0</td>\n      <td>110.0</td>\n      <td>0.0</td>\n      <td>0.0</td>\n      <td>0.0</td>\n      <td>0.0</td>\n      <td>0.0</td>\n      <td>2.0</td>\n      <td>5.0</td>\n      <td>117.59</td>\n      <td>87.72</td>\n    </tr>\n    <tr>\n      <th>16308</th>\n      <td>6211.0</td>\n      <td>50.0</td>\n      <td>70.0</td>\n      <td>12</td>\n      <td>8.0</td>\n      <td>38.0</td>\n      <td>0.01</td>\n      <td>0</td>\n      <td>2.0</td>\n      <td>1</td>\n      <td>../data/BGR/Profilbilder_no_ruler_no_sky/NI_62...</td>\n      <td>10</td>\n      <td>0</td>\n      <td>522076.9633</td>\n      <td>5930456.114</td>\n      <td>15</td>\n      <td>1</td>\n      <td>0</td>\n      <td>8</td>\n      <td>42</td>\n      <td>1.0</td>\n      <td>110.0</td>\n      <td>0.0</td>\n      <td>0.0</td>\n      <td>0.0</td>\n      <td>0.0</td>\n      <td>0.0</td>\n      <td>2.0</td>\n      <td>5.0</td>\n      <td>117.59</td>\n      <td>87.72</td>\n    </tr>\n    <tr>\n      <th>16309</th>\n      <td>6211.0</td>\n      <td>50.0</td>\n      <td>70.0</td>\n      <td>12</td>\n      <td>8.0</td>\n      <td>38.0</td>\n      <td>0.01</td>\n      <td>0</td>\n      <td>2.0</td>\n      <td>1</td>\n      <td>../data/BGR/Profilbilder_no_ruler_no_sky/NI_62...</td>\n      <td>10</td>\n      <td>0</td>\n      <td>522076.9633</td>\n      <td>5930456.114</td>\n      <td>15</td>\n      <td>1</td>\n      <td>0</td>\n      <td>8</td>\n      <td>42</td>\n      <td>1.0</td>\n      <td>110.0</td>\n      <td>0.0</td>\n      <td>0.0</td>\n      <td>0.0</td>\n      <td>0.0</td>\n      <td>0.0</td>\n      <td>2.0</td>\n      <td>5.0</td>\n      <td>117.59</td>\n      <td>87.72</td>\n    </tr>\n    <tr>\n      <th>16310</th>\n      <td>6211.0</td>\n      <td>70.0</td>\n      <td>100.0</td>\n      <td>74</td>\n      <td>8.0</td>\n      <td>19.0</td>\n      <td>0.01</td>\n      <td>0</td>\n      <td>2.0</td>\n      <td>6</td>\n      <td>../data/BGR/Profilbilder_no_ruler_no_sky/NI_62...</td>\n      <td>10</td>\n      <td>0</td>\n      <td>522076.9633</td>\n      <td>5930456.114</td>\n      <td>15</td>\n      <td>1</td>\n      <td>0</td>\n      <td>8</td>\n      <td>42</td>\n      <td>1.0</td>\n      <td>110.0</td>\n      <td>0.0</td>\n      <td>0.0</td>\n      <td>0.0</td>\n      <td>0.0</td>\n      <td>0.0</td>\n      <td>2.0</td>\n      <td>5.0</td>\n      <td>117.59</td>\n      <td>87.72</td>\n    </tr>\n    <tr>\n      <th>16311</th>\n      <td>6211.0</td>\n      <td>70.0</td>\n      <td>100.0</td>\n      <td>74</td>\n      <td>8.0</td>\n      <td>19.0</td>\n      <td>0.01</td>\n      <td>0</td>\n      <td>2.0</td>\n      <td>6</td>\n      <td>../data/BGR/Profilbilder_no_ruler_no_sky/NI_62...</td>\n      <td>10</td>\n      <td>0</td>\n      <td>522076.9633</td>\n      <td>5930456.114</td>\n      <td>15</td>\n      <td>1</td>\n      <td>0</td>\n      <td>8</td>\n      <td>42</td>\n      <td>1.0</td>\n      <td>110.0</td>\n      <td>0.0</td>\n      <td>0.0</td>\n      <td>0.0</td>\n      <td>0.0</td>\n      <td>0.0</td>\n      <td>2.0</td>\n      <td>5.0</td>\n      <td>117.59</td>\n      <td>87.72</td>\n    </tr>\n  </tbody>\n</table>\n<p>13621 rows × 31 columns</p>\n</div>"
     },
     "execution_count": 27,
     "metadata": {},
     "output_type": "execute_result"
    }
   ],
   "source": [
    "# Normalize stones for better convergence in the MSE loss below\n",
    "df['Steine'] = df['Steine']/df['Steine'].max() # max is 100\n",
    "df"
   ],
   "metadata": {
    "collapsed": false,
    "pycharm": {
     "name": "#%%\n"
    }
   }
  },
  {
   "cell_type": "code",
   "execution_count": 28,
   "outputs": [],
   "source": [
    "# Used for constructing the tabular predictors in the general model\n",
    "# For every tabular feature name, specify the output dimension and if it's a classification task\n",
    "# ToDo: can the classes for soil type and color be clustered further? There's a lot of them :^)\n",
    "tabular_predictors_dict = {\n",
    "    #'Soil_Type_Predictor':  {'output_dim': len(df['Bodenart'].unique()),           'classification': True},\n",
    "    #'Soil_Color_Predictor': {'output_dim': len(df['Bodenfarbe'].unique()),         'classification': True},\n",
    "    'Stones_Predictor':     {'output_dim': 1,                                      'classification': False},\n",
    "    #'Carbonate_Predictor':  {'output_dim': len(df['Karbonat'].unique()),           'classification': True},\n",
    "    'Humus_Predictor':      {'output_dim': len(df['Humusgehaltsklasse'].unique()), 'classification': True},\n",
    "    #'Rooting_Predictor':    {'output_dim': len(df['Durchwurzelung'].unique()),     'classification': True}\n",
    "}"
   ],
   "metadata": {
    "collapsed": false,
    "pycharm": {
     "name": "#%%\n"
    }
   }
  },
  {
   "cell_type": "code",
   "execution_count": 29,
   "outputs": [
    {
     "data": {
      "text/plain": "3101"
     },
     "execution_count": 29,
     "metadata": {},
     "output_type": "execute_result"
    }
   ],
   "source": [
    "len(df['Point'].unique()) # number of unique images"
   ],
   "metadata": {
    "collapsed": false,
    "pycharm": {
     "name": "#%%\n"
    }
   }
  },
  {
   "cell_type": "markdown",
   "source": [
    "### Training"
   ],
   "metadata": {
    "collapsed": false
   }
  },
  {
   "cell_type": "code",
   "execution_count": 30,
   "outputs": [],
   "source": [
    "# Split variables into different categories according to their roles in the sequential training\n",
    "soil_infos = ['Bodenart', 'Bodenfarbe', 'Steine', 'Karbonat', 'Humusgehaltsklasse', 'Durchwurzelung']#, 'max_depth', 'HorizontID']\n",
    "\n",
    "geotemp_img_infos = [#'Point',\n",
    "                     'Probenahme_Monat', 'Probenahme_Jahr', 'xcoord', 'ycoord', 'Bodenklimaraum_Name', 'Landnutzung', 'BZE_Moor', 'Hauptbodentyp', 'BodenVarTypSub', 'GrundwaStufe', 'GrundwaStand',\n",
    "                     'Moormaechtigkeit', 'Torfmaechtigkeit', 'Neigung', 'Exposition', 'Woelbung', 'Reliefformtyp', 'LageImRelief', 'KV_0_30', 'KV_30_100',\n",
    "                     'file']\n",
    "\n",
    "depth_markers = ['Obergrenze', 'Untergrenze']\n",
    "\n",
    "# horizon symbols already in 'target' (see above)"
   ],
   "metadata": {
    "collapsed": false,
    "pycharm": {
     "name": "#%%\n"
    }
   }
  },
  {
   "cell_type": "code",
   "execution_count": 31,
   "outputs": [
    {
     "data": {
      "text/plain": "      index  Probenahme_Monat  Probenahme_Jahr       xcoord       ycoord  \\\n0         0                 1                7  819021.7488  5941699.083   \n1         1                 1                6  819307.3864  5935183.595   \n2         2                 8                6  826424.5503  5932240.596   \n3         3                 4                6  807568.3913  5926533.227   \n4         4                 1                6  818608.7036  5925050.271   \n...     ...               ...              ...          ...          ...   \n3342   3342                 0                6  648389.8108  5588119.501   \n3343   3343                 0                4  688216.3809  5588885.660   \n3344   3344                 0                4  701551.6557  5587919.679   \n3345   3345                 3                4  653547.6374  5581353.991   \n3346   3346                 4                5  620404.8554  5569180.493   \n\n      Bodenklimaraum_Name  Landnutzung  BZE_Moor  Hauptbodentyp  \\\n0                       7            0         0             12   \n1                       7            0         0             11   \n2                       7            0         0             10   \n3                       7            0         0             12   \n4                       7            0         0              7   \n...                   ...          ...       ...            ...   \n3342                   10            1         0              0   \n3343                   10            0         0              0   \n3344                   10            0         0              0   \n3345                   10            0         0              0   \n3346                   10            0         0              5   \n\n      BodenVarTypSub  GrundwaStufe  GrundwaStand  Moormaechtigkeit  \\\n0                770           0.0         200.0               0.0   \n1                371           0.0         200.0               0.0   \n2                 22           0.0         200.0               0.0   \n3                 44           0.0         200.0               0.0   \n4                413           2.0         200.0               0.0   \n...              ...           ...           ...               ...   \n3342             616           0.0         200.0               0.0   \n3343               9           0.0         200.0               0.0   \n3344               0           0.0         200.0               0.0   \n3345               2           0.0         200.0               0.0   \n3346               3           0.0         200.0               0.0   \n\n      Torfmaechtigkeit  Neigung  Exposition  Woelbung  Reliefformtyp  \\\n0                  0.0      3.0         1.0       1.0            0.0   \n1                  0.0      2.0         2.0       0.0            0.0   \n2                  0.0      3.0         2.0       0.0            0.0   \n3                  0.0      4.0         5.0       2.0           14.0   \n4                  0.0      3.0         5.0       0.0            4.0   \n...                ...      ...         ...       ...            ...   \n3342               0.0      8.0         7.0       7.0            0.0   \n3343               0.0      1.0         4.0       6.0            0.0   \n3344               0.0      6.0         4.0       0.0            0.0   \n3345               0.0      5.0         2.0       0.0            3.0   \n3346               0.0      1.0         3.0       0.0            0.0   \n\n      LageImRelief  KV_0_30  KV_30_100  \\\n0              1.0    38.60      21.42   \n1              3.0    34.91      11.67   \n2              1.0    42.21      34.56   \n3              3.0    37.39      13.22   \n4              1.0    48.47      16.43   \n...            ...      ...        ...   \n3342           3.0    48.82       2.46   \n3343           1.0    69.19      23.61   \n3344           1.0    75.65       9.34   \n3345           5.0    61.72      30.69   \n3346           3.0    80.30      19.58   \n\n                                                   file  \\\n0     ../data/BGR/Profilbilder_no_ruler_no_sky/BB_05...   \n1     ../data/BGR/Profilbilder_no_ruler_no_sky/BB_06...   \n2     ../data/BGR/Profilbilder_no_ruler_no_sky/BB_06...   \n3     ../data/BGR/Profilbilder_no_ruler_no_sky/BB_06...   \n4     ../data/BGR/Profilbilder_no_ruler_no_sky/BB_06...   \n...                                                 ...   \n3342  ../data/BGR/Profilbilder_no_ruler_no_sky/TH_34...   \n3343  ../data/BGR/Profilbilder_no_ruler_no_sky/TH_34...   \n3344  ../data/BGR/Profilbilder_no_ruler_no_sky/TH_34...   \n3345  ../data/BGR/Profilbilder_no_ruler_no_sky/TH_35...   \n3346  ../data/BGR/Profilbilder_no_ruler_no_sky/TH_35...   \n\n                                Untergrenze  \\\n0                 [30.0, 38.0, 50.0, 200.0]   \n1     [29.0, 40.0, 54.0, 60.0, 80.0, 201.0]   \n2                 [28.0, 50.0, 74.0, 110.0]   \n3                 [30.0, 47.0, 73.0, 102.0]   \n4           [33.0, 43.0, 71.0, 88.0, 100.0]   \n...                                     ...   \n3342               [14.0, 40.0, 60.0, 93.0]   \n3343                    [34.0, 69.0, 140.0]   \n3344              [20.0, 27.0, 70.0, 100.0]   \n3345              [31.0, 49.0, 71.0, 144.0]   \n3346                     [27.0, 70.0, 92.0]   \n\n                                Bodenart                          Bodenfarbe  \\\n0                 [3.0, 3.0, 10.0, 12.0]               [1.0, 1.0, 10.0, 5.0]   \n1     [11.0, 11.0, 6.0, 10.0, 3.0, 21.0]  [4.0, 5.0, 29.0, 30.0, 42.0, 75.0]   \n2               [10.0, 11.0, 11.0, 11.0]                [0.0, 0.0, 3.0, 3.0]   \n3                   [2.0, 2.0, 3.0, 3.0]             [0.0, 10.0, 13.0, 16.0]   \n4           [28.0, 7.0, 2.0, 20.0, 10.0]       [0.0, 15.0, 54.0, 44.0, 14.0]   \n...                                  ...                                 ...   \n3342            [15.0, 15.0, 26.0, 26.0]              [6.0, 5.0, 53.0, 53.0]   \n3343                    [4.0, 4.0, 18.0]                    [0.0, 3.0, 10.0]   \n3344            [15.0, 15.0, 15.0, 26.0]               [2.0, 2.0, 3.0, 23.0]   \n3345            [15.0, 15.0, 15.0, 33.0]               [1.0, 7.0, 5.0, 16.0]   \n3346                    [1.0, 12.0, 1.0]                   [6.0, 23.0, 31.0]   \n\n                                    Steine            Karbonat  \\\n0                 [0.02, 0.02, 0.04, 0.04]        [0, 0, 0, 0]   \n1     [0.03, 0.03, 0.03, 0.03, 0.03, 0.03]  [2, 0, 2, 5, 7, 5]   \n2                 [0.04, 0.04, 0.04, 0.04]        [0, 0, 7, 7]   \n3                 [0.04, 0.04, 0.02, 0.02]        [0, 0, 0, 0]   \n4               [0.01, 0.0, 0.0, 0.0, 0.0]     [0, 0, 0, 0, 0]   \n...                                    ...                 ...   \n3342                 [0.6, 0.75, 0.9, 0.9]        [0, 0, 0, 0]   \n3343                      [0.2, 0.3, 0.25]           [0, 0, 0]   \n3344                [0.15, 0.25, 0.6, 0.9]        [0, 0, 0, 0]   \n3345               [0.05, 0.05, 0.2, 0.25]        [0, 0, 0, 0]   \n3346                      [0.03, 0.1, 0.3]           [3, 4, 4]   \n\n                  Humusgehaltsklasse      Durchwurzelung  \\\n0               [3.0, 3.0, 0.0, 0.0]        [3, 3, 1, 2]   \n1     [1.0, 2.0, 2.0, 2.0, 2.0, 0.0]  [4, 3, 1, 1, 1, 0]   \n2               [1.0, 3.0, 2.0, 0.0]        [4, 3, 3, 1]   \n3               [1.0, 2.0, 0.0, 0.0]        [3, 1, 1, 2]   \n4          [1.0, 2.0, 2.0, 0.0, 0.0]     [3, 0, 0, 0, 0]   \n...                              ...                 ...   \n3342            [1.0, 2.0, 0.0, 0.0]        [5, 3, 1, 2]   \n3343                 [1.0, 2.0, 0.0]           [5, 3, 1]   \n3344            [1.0, 1.0, 2.0, 0.0]        [4, 1, 0, 0]   \n3345            [1.0, 2.0, 0.0, 0.0]        [3, 2, 2, 2]   \n3346                 [1.0, 2.0, 0.0]           [0, 4, 4]   \n\n       Horizontsymbol_relevant  \n0             [22, 22, 73, 76]  \n1     [22, 65, 65, 81, 81, 81]  \n2             [40, 13, 34, 34]  \n3              [22, 1, 69, 78]  \n4           [22, 0, 65, 0, 68]  \n...                        ...  \n3342          [22, 14, 62, 77]  \n3343              [22, 32, 77]  \n3344           [22, 22, 32, 0]  \n3345           [22, 32, 47, 2]  \n3346              [22, 34, 34]  \n\n[3347 rows x 30 columns]",
      "text/html": "<div>\n<style scoped>\n    .dataframe tbody tr th:only-of-type {\n        vertical-align: middle;\n    }\n\n    .dataframe tbody tr th {\n        vertical-align: top;\n    }\n\n    .dataframe thead th {\n        text-align: right;\n    }\n</style>\n<table border=\"1\" class=\"dataframe\">\n  <thead>\n    <tr style=\"text-align: right;\">\n      <th></th>\n      <th>index</th>\n      <th>Probenahme_Monat</th>\n      <th>Probenahme_Jahr</th>\n      <th>xcoord</th>\n      <th>ycoord</th>\n      <th>Bodenklimaraum_Name</th>\n      <th>Landnutzung</th>\n      <th>BZE_Moor</th>\n      <th>Hauptbodentyp</th>\n      <th>BodenVarTypSub</th>\n      <th>GrundwaStufe</th>\n      <th>GrundwaStand</th>\n      <th>Moormaechtigkeit</th>\n      <th>Torfmaechtigkeit</th>\n      <th>Neigung</th>\n      <th>Exposition</th>\n      <th>Woelbung</th>\n      <th>Reliefformtyp</th>\n      <th>LageImRelief</th>\n      <th>KV_0_30</th>\n      <th>KV_30_100</th>\n      <th>file</th>\n      <th>Untergrenze</th>\n      <th>Bodenart</th>\n      <th>Bodenfarbe</th>\n      <th>Steine</th>\n      <th>Karbonat</th>\n      <th>Humusgehaltsklasse</th>\n      <th>Durchwurzelung</th>\n      <th>Horizontsymbol_relevant</th>\n    </tr>\n  </thead>\n  <tbody>\n    <tr>\n      <th>0</th>\n      <td>0</td>\n      <td>1</td>\n      <td>7</td>\n      <td>819021.7488</td>\n      <td>5941699.083</td>\n      <td>7</td>\n      <td>0</td>\n      <td>0</td>\n      <td>12</td>\n      <td>770</td>\n      <td>0.0</td>\n      <td>200.0</td>\n      <td>0.0</td>\n      <td>0.0</td>\n      <td>3.0</td>\n      <td>1.0</td>\n      <td>1.0</td>\n      <td>0.0</td>\n      <td>1.0</td>\n      <td>38.60</td>\n      <td>21.42</td>\n      <td>../data/BGR/Profilbilder_no_ruler_no_sky/BB_05...</td>\n      <td>[30.0, 38.0, 50.0, 200.0]</td>\n      <td>[3.0, 3.0, 10.0, 12.0]</td>\n      <td>[1.0, 1.0, 10.0, 5.0]</td>\n      <td>[0.02, 0.02, 0.04, 0.04]</td>\n      <td>[0, 0, 0, 0]</td>\n      <td>[3.0, 3.0, 0.0, 0.0]</td>\n      <td>[3, 3, 1, 2]</td>\n      <td>[22, 22, 73, 76]</td>\n    </tr>\n    <tr>\n      <th>1</th>\n      <td>1</td>\n      <td>1</td>\n      <td>6</td>\n      <td>819307.3864</td>\n      <td>5935183.595</td>\n      <td>7</td>\n      <td>0</td>\n      <td>0</td>\n      <td>11</td>\n      <td>371</td>\n      <td>0.0</td>\n      <td>200.0</td>\n      <td>0.0</td>\n      <td>0.0</td>\n      <td>2.0</td>\n      <td>2.0</td>\n      <td>0.0</td>\n      <td>0.0</td>\n      <td>3.0</td>\n      <td>34.91</td>\n      <td>11.67</td>\n      <td>../data/BGR/Profilbilder_no_ruler_no_sky/BB_06...</td>\n      <td>[29.0, 40.0, 54.0, 60.0, 80.0, 201.0]</td>\n      <td>[11.0, 11.0, 6.0, 10.0, 3.0, 21.0]</td>\n      <td>[4.0, 5.0, 29.0, 30.0, 42.0, 75.0]</td>\n      <td>[0.03, 0.03, 0.03, 0.03, 0.03, 0.03]</td>\n      <td>[2, 0, 2, 5, 7, 5]</td>\n      <td>[1.0, 2.0, 2.0, 2.0, 2.0, 0.0]</td>\n      <td>[4, 3, 1, 1, 1, 0]</td>\n      <td>[22, 65, 65, 81, 81, 81]</td>\n    </tr>\n    <tr>\n      <th>2</th>\n      <td>2</td>\n      <td>8</td>\n      <td>6</td>\n      <td>826424.5503</td>\n      <td>5932240.596</td>\n      <td>7</td>\n      <td>0</td>\n      <td>0</td>\n      <td>10</td>\n      <td>22</td>\n      <td>0.0</td>\n      <td>200.0</td>\n      <td>0.0</td>\n      <td>0.0</td>\n      <td>3.0</td>\n      <td>2.0</td>\n      <td>0.0</td>\n      <td>0.0</td>\n      <td>1.0</td>\n      <td>42.21</td>\n      <td>34.56</td>\n      <td>../data/BGR/Profilbilder_no_ruler_no_sky/BB_06...</td>\n      <td>[28.0, 50.0, 74.0, 110.0]</td>\n      <td>[10.0, 11.0, 11.0, 11.0]</td>\n      <td>[0.0, 0.0, 3.0, 3.0]</td>\n      <td>[0.04, 0.04, 0.04, 0.04]</td>\n      <td>[0, 0, 7, 7]</td>\n      <td>[1.0, 3.0, 2.0, 0.0]</td>\n      <td>[4, 3, 3, 1]</td>\n      <td>[40, 13, 34, 34]</td>\n    </tr>\n    <tr>\n      <th>3</th>\n      <td>3</td>\n      <td>4</td>\n      <td>6</td>\n      <td>807568.3913</td>\n      <td>5926533.227</td>\n      <td>7</td>\n      <td>0</td>\n      <td>0</td>\n      <td>12</td>\n      <td>44</td>\n      <td>0.0</td>\n      <td>200.0</td>\n      <td>0.0</td>\n      <td>0.0</td>\n      <td>4.0</td>\n      <td>5.0</td>\n      <td>2.0</td>\n      <td>14.0</td>\n      <td>3.0</td>\n      <td>37.39</td>\n      <td>13.22</td>\n      <td>../data/BGR/Profilbilder_no_ruler_no_sky/BB_06...</td>\n      <td>[30.0, 47.0, 73.0, 102.0]</td>\n      <td>[2.0, 2.0, 3.0, 3.0]</td>\n      <td>[0.0, 10.0, 13.0, 16.0]</td>\n      <td>[0.04, 0.04, 0.02, 0.02]</td>\n      <td>[0, 0, 0, 0]</td>\n      <td>[1.0, 2.0, 0.0, 0.0]</td>\n      <td>[3, 1, 1, 2]</td>\n      <td>[22, 1, 69, 78]</td>\n    </tr>\n    <tr>\n      <th>4</th>\n      <td>4</td>\n      <td>1</td>\n      <td>6</td>\n      <td>818608.7036</td>\n      <td>5925050.271</td>\n      <td>7</td>\n      <td>0</td>\n      <td>0</td>\n      <td>7</td>\n      <td>413</td>\n      <td>2.0</td>\n      <td>200.0</td>\n      <td>0.0</td>\n      <td>0.0</td>\n      <td>3.0</td>\n      <td>5.0</td>\n      <td>0.0</td>\n      <td>4.0</td>\n      <td>1.0</td>\n      <td>48.47</td>\n      <td>16.43</td>\n      <td>../data/BGR/Profilbilder_no_ruler_no_sky/BB_06...</td>\n      <td>[33.0, 43.0, 71.0, 88.0, 100.0]</td>\n      <td>[28.0, 7.0, 2.0, 20.0, 10.0]</td>\n      <td>[0.0, 15.0, 54.0, 44.0, 14.0]</td>\n      <td>[0.01, 0.0, 0.0, 0.0, 0.0]</td>\n      <td>[0, 0, 0, 0, 0]</td>\n      <td>[1.0, 2.0, 2.0, 0.0, 0.0]</td>\n      <td>[3, 0, 0, 0, 0]</td>\n      <td>[22, 0, 65, 0, 68]</td>\n    </tr>\n    <tr>\n      <th>...</th>\n      <td>...</td>\n      <td>...</td>\n      <td>...</td>\n      <td>...</td>\n      <td>...</td>\n      <td>...</td>\n      <td>...</td>\n      <td>...</td>\n      <td>...</td>\n      <td>...</td>\n      <td>...</td>\n      <td>...</td>\n      <td>...</td>\n      <td>...</td>\n      <td>...</td>\n      <td>...</td>\n      <td>...</td>\n      <td>...</td>\n      <td>...</td>\n      <td>...</td>\n      <td>...</td>\n      <td>...</td>\n      <td>...</td>\n      <td>...</td>\n      <td>...</td>\n      <td>...</td>\n      <td>...</td>\n      <td>...</td>\n      <td>...</td>\n      <td>...</td>\n    </tr>\n    <tr>\n      <th>3342</th>\n      <td>3342</td>\n      <td>0</td>\n      <td>6</td>\n      <td>648389.8108</td>\n      <td>5588119.501</td>\n      <td>10</td>\n      <td>1</td>\n      <td>0</td>\n      <td>0</td>\n      <td>616</td>\n      <td>0.0</td>\n      <td>200.0</td>\n      <td>0.0</td>\n      <td>0.0</td>\n      <td>8.0</td>\n      <td>7.0</td>\n      <td>7.0</td>\n      <td>0.0</td>\n      <td>3.0</td>\n      <td>48.82</td>\n      <td>2.46</td>\n      <td>../data/BGR/Profilbilder_no_ruler_no_sky/TH_34...</td>\n      <td>[14.0, 40.0, 60.0, 93.0]</td>\n      <td>[15.0, 15.0, 26.0, 26.0]</td>\n      <td>[6.0, 5.0, 53.0, 53.0]</td>\n      <td>[0.6, 0.75, 0.9, 0.9]</td>\n      <td>[0, 0, 0, 0]</td>\n      <td>[1.0, 2.0, 0.0, 0.0]</td>\n      <td>[5, 3, 1, 2]</td>\n      <td>[22, 14, 62, 77]</td>\n    </tr>\n    <tr>\n      <th>3343</th>\n      <td>3343</td>\n      <td>0</td>\n      <td>4</td>\n      <td>688216.3809</td>\n      <td>5588885.660</td>\n      <td>10</td>\n      <td>0</td>\n      <td>0</td>\n      <td>0</td>\n      <td>9</td>\n      <td>0.0</td>\n      <td>200.0</td>\n      <td>0.0</td>\n      <td>0.0</td>\n      <td>1.0</td>\n      <td>4.0</td>\n      <td>6.0</td>\n      <td>0.0</td>\n      <td>1.0</td>\n      <td>69.19</td>\n      <td>23.61</td>\n      <td>../data/BGR/Profilbilder_no_ruler_no_sky/TH_34...</td>\n      <td>[34.0, 69.0, 140.0]</td>\n      <td>[4.0, 4.0, 18.0]</td>\n      <td>[0.0, 3.0, 10.0]</td>\n      <td>[0.2, 0.3, 0.25]</td>\n      <td>[0, 0, 0]</td>\n      <td>[1.0, 2.0, 0.0]</td>\n      <td>[5, 3, 1]</td>\n      <td>[22, 32, 77]</td>\n    </tr>\n    <tr>\n      <th>3344</th>\n      <td>3344</td>\n      <td>0</td>\n      <td>4</td>\n      <td>701551.6557</td>\n      <td>5587919.679</td>\n      <td>10</td>\n      <td>0</td>\n      <td>0</td>\n      <td>0</td>\n      <td>0</td>\n      <td>0.0</td>\n      <td>200.0</td>\n      <td>0.0</td>\n      <td>0.0</td>\n      <td>6.0</td>\n      <td>4.0</td>\n      <td>0.0</td>\n      <td>0.0</td>\n      <td>1.0</td>\n      <td>75.65</td>\n      <td>9.34</td>\n      <td>../data/BGR/Profilbilder_no_ruler_no_sky/TH_34...</td>\n      <td>[20.0, 27.0, 70.0, 100.0]</td>\n      <td>[15.0, 15.0, 15.0, 26.0]</td>\n      <td>[2.0, 2.0, 3.0, 23.0]</td>\n      <td>[0.15, 0.25, 0.6, 0.9]</td>\n      <td>[0, 0, 0, 0]</td>\n      <td>[1.0, 1.0, 2.0, 0.0]</td>\n      <td>[4, 1, 0, 0]</td>\n      <td>[22, 22, 32, 0]</td>\n    </tr>\n    <tr>\n      <th>3345</th>\n      <td>3345</td>\n      <td>3</td>\n      <td>4</td>\n      <td>653547.6374</td>\n      <td>5581353.991</td>\n      <td>10</td>\n      <td>0</td>\n      <td>0</td>\n      <td>0</td>\n      <td>2</td>\n      <td>0.0</td>\n      <td>200.0</td>\n      <td>0.0</td>\n      <td>0.0</td>\n      <td>5.0</td>\n      <td>2.0</td>\n      <td>0.0</td>\n      <td>3.0</td>\n      <td>5.0</td>\n      <td>61.72</td>\n      <td>30.69</td>\n      <td>../data/BGR/Profilbilder_no_ruler_no_sky/TH_35...</td>\n      <td>[31.0, 49.0, 71.0, 144.0]</td>\n      <td>[15.0, 15.0, 15.0, 33.0]</td>\n      <td>[1.0, 7.0, 5.0, 16.0]</td>\n      <td>[0.05, 0.05, 0.2, 0.25]</td>\n      <td>[0, 0, 0, 0]</td>\n      <td>[1.0, 2.0, 0.0, 0.0]</td>\n      <td>[3, 2, 2, 2]</td>\n      <td>[22, 32, 47, 2]</td>\n    </tr>\n    <tr>\n      <th>3346</th>\n      <td>3346</td>\n      <td>4</td>\n      <td>5</td>\n      <td>620404.8554</td>\n      <td>5569180.493</td>\n      <td>10</td>\n      <td>0</td>\n      <td>0</td>\n      <td>5</td>\n      <td>3</td>\n      <td>0.0</td>\n      <td>200.0</td>\n      <td>0.0</td>\n      <td>0.0</td>\n      <td>1.0</td>\n      <td>3.0</td>\n      <td>0.0</td>\n      <td>0.0</td>\n      <td>3.0</td>\n      <td>80.30</td>\n      <td>19.58</td>\n      <td>../data/BGR/Profilbilder_no_ruler_no_sky/TH_35...</td>\n      <td>[27.0, 70.0, 92.0]</td>\n      <td>[1.0, 12.0, 1.0]</td>\n      <td>[6.0, 23.0, 31.0]</td>\n      <td>[0.03, 0.1, 0.3]</td>\n      <td>[3, 4, 4]</td>\n      <td>[1.0, 2.0, 0.0]</td>\n      <td>[0, 4, 4]</td>\n      <td>[22, 34, 34]</td>\n    </tr>\n  </tbody>\n</table>\n<p>3347 rows × 30 columns</p>\n</div>"
     },
     "execution_count": 31,
     "metadata": {},
     "output_type": "execute_result"
    }
   ],
   "source": [
    "# The dataframe has one row per horizon\n",
    "# For sequential training, make it one row per full image (the depth markers and the morphological features will be stored as lists and used later as ground truth in training)\n",
    "df = df.groupby('file', as_index=False).agg({     # Group by images, not by Point, since there are sometimes several images (different angles) for the same Point\n",
    "    **{gt: 'first' for gt in geotemp_img_infos},  # Take the first value (all are the same for each image, including the image path)\n",
    "    'Untergrenze': list,                          # Combine depth markers into a list (only lower bound Untergrenze actually needed)\n",
    "    **{st: list for st in soil_infos},            # Combine tabular features into lists (in the order of the horizons top to bottom)\n",
    "    target: list\n",
    "}).reset_index()\n",
    "geotemp_img_infos = ['index'] + geotemp_img_infos # Add the new index column\n",
    "                                                  # Used only for accessing the depths, morphological features and horizon labels from the dataframe\n",
    "                                                  # (they have different shapes and cannot be stacked in tensor batches)\n",
    "df"
   ],
   "metadata": {
    "collapsed": false,
    "pycharm": {
     "name": "#%%\n"
    }
   }
  },
  {
   "cell_type": "code",
   "execution_count": 32,
   "outputs": [
    {
     "data": {
      "text/plain": "      index  Probenahme_Monat  Probenahme_Jahr       xcoord       ycoord  \\\n0         0                 1                7  819021.7488  5941699.083   \n1         1                 1                6  819307.3864  5935183.595   \n2         2                 8                6  826424.5503  5932240.596   \n3         3                 4                6  807568.3913  5926533.227   \n4         4                 1                6  818608.7036  5925050.271   \n...     ...               ...              ...          ...          ...   \n3342   3342                 0                6  648389.8108  5588119.501   \n3343   3343                 0                4  688216.3809  5588885.660   \n3344   3344                 0                4  701551.6557  5587919.679   \n3345   3345                 3                4  653547.6374  5581353.991   \n3346   3346                 4                5  620404.8554  5569180.493   \n\n      Bodenklimaraum_Name  Landnutzung  BZE_Moor  Hauptbodentyp  \\\n0                       7            0         0             12   \n1                       7            0         0             11   \n2                       7            0         0             10   \n3                       7            0         0             12   \n4                       7            0         0              7   \n...                   ...          ...       ...            ...   \n3342                   10            1         0              0   \n3343                   10            0         0              0   \n3344                   10            0         0              0   \n3345                   10            0         0              0   \n3346                   10            0         0              5   \n\n      BodenVarTypSub  GrundwaStufe  GrundwaStand  Moormaechtigkeit  \\\n0                770           0.0         200.0               0.0   \n1                371           0.0         200.0               0.0   \n2                 22           0.0         200.0               0.0   \n3                 44           0.0         200.0               0.0   \n4                413           2.0         200.0               0.0   \n...              ...           ...           ...               ...   \n3342             616           0.0         200.0               0.0   \n3343               9           0.0         200.0               0.0   \n3344               0           0.0         200.0               0.0   \n3345               2           0.0         200.0               0.0   \n3346               3           0.0         200.0               0.0   \n\n      Torfmaechtigkeit  Neigung  Exposition  Woelbung  Reliefformtyp  \\\n0                  0.0      3.0         1.0       1.0            0.0   \n1                  0.0      2.0         2.0       0.0            0.0   \n2                  0.0      3.0         2.0       0.0            0.0   \n3                  0.0      4.0         5.0       2.0           14.0   \n4                  0.0      3.0         5.0       0.0            4.0   \n...                ...      ...         ...       ...            ...   \n3342               0.0      8.0         7.0       7.0            0.0   \n3343               0.0      1.0         4.0       6.0            0.0   \n3344               0.0      6.0         4.0       0.0            0.0   \n3345               0.0      5.0         2.0       0.0            3.0   \n3346               0.0      1.0         3.0       0.0            0.0   \n\n      LageImRelief  KV_0_30  KV_30_100  \\\n0              1.0    38.60      21.42   \n1              3.0    34.91      11.67   \n2              1.0    42.21      34.56   \n3              3.0    37.39      13.22   \n4              1.0    48.47      16.43   \n...            ...      ...        ...   \n3342           3.0    48.82       2.46   \n3343           1.0    69.19      23.61   \n3344           1.0    75.65       9.34   \n3345           5.0    61.72      30.69   \n3346           3.0    80.30      19.58   \n\n                                                   file  \\\n0     ../data/BGR/Profilbilder_no_ruler_no_sky/BB_05...   \n1     ../data/BGR/Profilbilder_no_ruler_no_sky/BB_06...   \n2     ../data/BGR/Profilbilder_no_ruler_no_sky/BB_06...   \n3     ../data/BGR/Profilbilder_no_ruler_no_sky/BB_06...   \n4     ../data/BGR/Profilbilder_no_ruler_no_sky/BB_06...   \n...                                                 ...   \n3342  ../data/BGR/Profilbilder_no_ruler_no_sky/TH_34...   \n3343  ../data/BGR/Profilbilder_no_ruler_no_sky/TH_34...   \n3344  ../data/BGR/Profilbilder_no_ruler_no_sky/TH_34...   \n3345  ../data/BGR/Profilbilder_no_ruler_no_sky/TH_35...   \n3346  ../data/BGR/Profilbilder_no_ruler_no_sky/TH_35...   \n\n                           Untergrenze                            Bodenart  \\\n0                [0.3, 0.38, 0.5, 1.0]              [3.0, 3.0, 10.0, 12.0]   \n1     [0.29, 0.4, 0.54, 0.6, 0.8, 1.0]  [11.0, 11.0, 6.0, 10.0, 3.0, 21.0]   \n2               [0.28, 0.5, 0.74, 1.0]            [10.0, 11.0, 11.0, 11.0]   \n3               [0.3, 0.47, 0.73, 1.0]                [2.0, 2.0, 3.0, 3.0]   \n4        [0.33, 0.43, 0.71, 0.88, 1.0]        [28.0, 7.0, 2.0, 20.0, 10.0]   \n...                                ...                                 ...   \n3342             [0.14, 0.4, 0.6, 1.0]            [15.0, 15.0, 26.0, 26.0]   \n3343                 [0.34, 0.69, 1.0]                    [4.0, 4.0, 18.0]   \n3344             [0.2, 0.27, 0.7, 1.0]            [15.0, 15.0, 15.0, 26.0]   \n3345           [0.31, 0.49, 0.71, 1.0]            [15.0, 15.0, 15.0, 33.0]   \n3346                  [0.27, 0.7, 1.0]                    [1.0, 12.0, 1.0]   \n\n                              Bodenfarbe  \\\n0                  [1.0, 1.0, 10.0, 5.0]   \n1     [4.0, 5.0, 29.0, 30.0, 42.0, 75.0]   \n2                   [0.0, 0.0, 3.0, 3.0]   \n3                [0.0, 10.0, 13.0, 16.0]   \n4          [0.0, 15.0, 54.0, 44.0, 14.0]   \n...                                  ...   \n3342              [6.0, 5.0, 53.0, 53.0]   \n3343                    [0.0, 3.0, 10.0]   \n3344               [2.0, 2.0, 3.0, 23.0]   \n3345               [1.0, 7.0, 5.0, 16.0]   \n3346                   [6.0, 23.0, 31.0]   \n\n                                    Steine            Karbonat  \\\n0                 [0.02, 0.02, 0.04, 0.04]        [0, 0, 0, 0]   \n1     [0.03, 0.03, 0.03, 0.03, 0.03, 0.03]  [2, 0, 2, 5, 7, 5]   \n2                 [0.04, 0.04, 0.04, 0.04]        [0, 0, 7, 7]   \n3                 [0.04, 0.04, 0.02, 0.02]        [0, 0, 0, 0]   \n4               [0.01, 0.0, 0.0, 0.0, 0.0]     [0, 0, 0, 0, 0]   \n...                                    ...                 ...   \n3342                 [0.6, 0.75, 0.9, 0.9]        [0, 0, 0, 0]   \n3343                      [0.2, 0.3, 0.25]           [0, 0, 0]   \n3344                [0.15, 0.25, 0.6, 0.9]        [0, 0, 0, 0]   \n3345               [0.05, 0.05, 0.2, 0.25]        [0, 0, 0, 0]   \n3346                      [0.03, 0.1, 0.3]           [3, 4, 4]   \n\n                  Humusgehaltsklasse      Durchwurzelung  \\\n0               [3.0, 3.0, 0.0, 0.0]        [3, 3, 1, 2]   \n1     [1.0, 2.0, 2.0, 2.0, 2.0, 0.0]  [4, 3, 1, 1, 1, 0]   \n2               [1.0, 3.0, 2.0, 0.0]        [4, 3, 3, 1]   \n3               [1.0, 2.0, 0.0, 0.0]        [3, 1, 1, 2]   \n4          [1.0, 2.0, 2.0, 0.0, 0.0]     [3, 0, 0, 0, 0]   \n...                              ...                 ...   \n3342            [1.0, 2.0, 0.0, 0.0]        [5, 3, 1, 2]   \n3343                 [1.0, 2.0, 0.0]           [5, 3, 1]   \n3344            [1.0, 1.0, 2.0, 0.0]        [4, 1, 0, 0]   \n3345            [1.0, 2.0, 0.0, 0.0]        [3, 2, 2, 2]   \n3346                 [1.0, 2.0, 0.0]           [0, 4, 4]   \n\n       Horizontsymbol_relevant  \n0             [22, 22, 73, 76]  \n1     [22, 65, 65, 81, 81, 81]  \n2             [40, 13, 34, 34]  \n3              [22, 1, 69, 78]  \n4           [22, 0, 65, 0, 68]  \n...                        ...  \n3342          [22, 14, 62, 77]  \n3343              [22, 32, 77]  \n3344           [22, 22, 32, 0]  \n3345           [22, 32, 47, 2]  \n3346              [22, 34, 34]  \n\n[3347 rows x 30 columns]",
      "text/html": "<div>\n<style scoped>\n    .dataframe tbody tr th:only-of-type {\n        vertical-align: middle;\n    }\n\n    .dataframe tbody tr th {\n        vertical-align: top;\n    }\n\n    .dataframe thead th {\n        text-align: right;\n    }\n</style>\n<table border=\"1\" class=\"dataframe\">\n  <thead>\n    <tr style=\"text-align: right;\">\n      <th></th>\n      <th>index</th>\n      <th>Probenahme_Monat</th>\n      <th>Probenahme_Jahr</th>\n      <th>xcoord</th>\n      <th>ycoord</th>\n      <th>Bodenklimaraum_Name</th>\n      <th>Landnutzung</th>\n      <th>BZE_Moor</th>\n      <th>Hauptbodentyp</th>\n      <th>BodenVarTypSub</th>\n      <th>GrundwaStufe</th>\n      <th>GrundwaStand</th>\n      <th>Moormaechtigkeit</th>\n      <th>Torfmaechtigkeit</th>\n      <th>Neigung</th>\n      <th>Exposition</th>\n      <th>Woelbung</th>\n      <th>Reliefformtyp</th>\n      <th>LageImRelief</th>\n      <th>KV_0_30</th>\n      <th>KV_30_100</th>\n      <th>file</th>\n      <th>Untergrenze</th>\n      <th>Bodenart</th>\n      <th>Bodenfarbe</th>\n      <th>Steine</th>\n      <th>Karbonat</th>\n      <th>Humusgehaltsklasse</th>\n      <th>Durchwurzelung</th>\n      <th>Horizontsymbol_relevant</th>\n    </tr>\n  </thead>\n  <tbody>\n    <tr>\n      <th>0</th>\n      <td>0</td>\n      <td>1</td>\n      <td>7</td>\n      <td>819021.7488</td>\n      <td>5941699.083</td>\n      <td>7</td>\n      <td>0</td>\n      <td>0</td>\n      <td>12</td>\n      <td>770</td>\n      <td>0.0</td>\n      <td>200.0</td>\n      <td>0.0</td>\n      <td>0.0</td>\n      <td>3.0</td>\n      <td>1.0</td>\n      <td>1.0</td>\n      <td>0.0</td>\n      <td>1.0</td>\n      <td>38.60</td>\n      <td>21.42</td>\n      <td>../data/BGR/Profilbilder_no_ruler_no_sky/BB_05...</td>\n      <td>[0.3, 0.38, 0.5, 1.0]</td>\n      <td>[3.0, 3.0, 10.0, 12.0]</td>\n      <td>[1.0, 1.0, 10.0, 5.0]</td>\n      <td>[0.02, 0.02, 0.04, 0.04]</td>\n      <td>[0, 0, 0, 0]</td>\n      <td>[3.0, 3.0, 0.0, 0.0]</td>\n      <td>[3, 3, 1, 2]</td>\n      <td>[22, 22, 73, 76]</td>\n    </tr>\n    <tr>\n      <th>1</th>\n      <td>1</td>\n      <td>1</td>\n      <td>6</td>\n      <td>819307.3864</td>\n      <td>5935183.595</td>\n      <td>7</td>\n      <td>0</td>\n      <td>0</td>\n      <td>11</td>\n      <td>371</td>\n      <td>0.0</td>\n      <td>200.0</td>\n      <td>0.0</td>\n      <td>0.0</td>\n      <td>2.0</td>\n      <td>2.0</td>\n      <td>0.0</td>\n      <td>0.0</td>\n      <td>3.0</td>\n      <td>34.91</td>\n      <td>11.67</td>\n      <td>../data/BGR/Profilbilder_no_ruler_no_sky/BB_06...</td>\n      <td>[0.29, 0.4, 0.54, 0.6, 0.8, 1.0]</td>\n      <td>[11.0, 11.0, 6.0, 10.0, 3.0, 21.0]</td>\n      <td>[4.0, 5.0, 29.0, 30.0, 42.0, 75.0]</td>\n      <td>[0.03, 0.03, 0.03, 0.03, 0.03, 0.03]</td>\n      <td>[2, 0, 2, 5, 7, 5]</td>\n      <td>[1.0, 2.0, 2.0, 2.0, 2.0, 0.0]</td>\n      <td>[4, 3, 1, 1, 1, 0]</td>\n      <td>[22, 65, 65, 81, 81, 81]</td>\n    </tr>\n    <tr>\n      <th>2</th>\n      <td>2</td>\n      <td>8</td>\n      <td>6</td>\n      <td>826424.5503</td>\n      <td>5932240.596</td>\n      <td>7</td>\n      <td>0</td>\n      <td>0</td>\n      <td>10</td>\n      <td>22</td>\n      <td>0.0</td>\n      <td>200.0</td>\n      <td>0.0</td>\n      <td>0.0</td>\n      <td>3.0</td>\n      <td>2.0</td>\n      <td>0.0</td>\n      <td>0.0</td>\n      <td>1.0</td>\n      <td>42.21</td>\n      <td>34.56</td>\n      <td>../data/BGR/Profilbilder_no_ruler_no_sky/BB_06...</td>\n      <td>[0.28, 0.5, 0.74, 1.0]</td>\n      <td>[10.0, 11.0, 11.0, 11.0]</td>\n      <td>[0.0, 0.0, 3.0, 3.0]</td>\n      <td>[0.04, 0.04, 0.04, 0.04]</td>\n      <td>[0, 0, 7, 7]</td>\n      <td>[1.0, 3.0, 2.0, 0.0]</td>\n      <td>[4, 3, 3, 1]</td>\n      <td>[40, 13, 34, 34]</td>\n    </tr>\n    <tr>\n      <th>3</th>\n      <td>3</td>\n      <td>4</td>\n      <td>6</td>\n      <td>807568.3913</td>\n      <td>5926533.227</td>\n      <td>7</td>\n      <td>0</td>\n      <td>0</td>\n      <td>12</td>\n      <td>44</td>\n      <td>0.0</td>\n      <td>200.0</td>\n      <td>0.0</td>\n      <td>0.0</td>\n      <td>4.0</td>\n      <td>5.0</td>\n      <td>2.0</td>\n      <td>14.0</td>\n      <td>3.0</td>\n      <td>37.39</td>\n      <td>13.22</td>\n      <td>../data/BGR/Profilbilder_no_ruler_no_sky/BB_06...</td>\n      <td>[0.3, 0.47, 0.73, 1.0]</td>\n      <td>[2.0, 2.0, 3.0, 3.0]</td>\n      <td>[0.0, 10.0, 13.0, 16.0]</td>\n      <td>[0.04, 0.04, 0.02, 0.02]</td>\n      <td>[0, 0, 0, 0]</td>\n      <td>[1.0, 2.0, 0.0, 0.0]</td>\n      <td>[3, 1, 1, 2]</td>\n      <td>[22, 1, 69, 78]</td>\n    </tr>\n    <tr>\n      <th>4</th>\n      <td>4</td>\n      <td>1</td>\n      <td>6</td>\n      <td>818608.7036</td>\n      <td>5925050.271</td>\n      <td>7</td>\n      <td>0</td>\n      <td>0</td>\n      <td>7</td>\n      <td>413</td>\n      <td>2.0</td>\n      <td>200.0</td>\n      <td>0.0</td>\n      <td>0.0</td>\n      <td>3.0</td>\n      <td>5.0</td>\n      <td>0.0</td>\n      <td>4.0</td>\n      <td>1.0</td>\n      <td>48.47</td>\n      <td>16.43</td>\n      <td>../data/BGR/Profilbilder_no_ruler_no_sky/BB_06...</td>\n      <td>[0.33, 0.43, 0.71, 0.88, 1.0]</td>\n      <td>[28.0, 7.0, 2.0, 20.0, 10.0]</td>\n      <td>[0.0, 15.0, 54.0, 44.0, 14.0]</td>\n      <td>[0.01, 0.0, 0.0, 0.0, 0.0]</td>\n      <td>[0, 0, 0, 0, 0]</td>\n      <td>[1.0, 2.0, 2.0, 0.0, 0.0]</td>\n      <td>[3, 0, 0, 0, 0]</td>\n      <td>[22, 0, 65, 0, 68]</td>\n    </tr>\n    <tr>\n      <th>...</th>\n      <td>...</td>\n      <td>...</td>\n      <td>...</td>\n      <td>...</td>\n      <td>...</td>\n      <td>...</td>\n      <td>...</td>\n      <td>...</td>\n      <td>...</td>\n      <td>...</td>\n      <td>...</td>\n      <td>...</td>\n      <td>...</td>\n      <td>...</td>\n      <td>...</td>\n      <td>...</td>\n      <td>...</td>\n      <td>...</td>\n      <td>...</td>\n      <td>...</td>\n      <td>...</td>\n      <td>...</td>\n      <td>...</td>\n      <td>...</td>\n      <td>...</td>\n      <td>...</td>\n      <td>...</td>\n      <td>...</td>\n      <td>...</td>\n      <td>...</td>\n    </tr>\n    <tr>\n      <th>3342</th>\n      <td>3342</td>\n      <td>0</td>\n      <td>6</td>\n      <td>648389.8108</td>\n      <td>5588119.501</td>\n      <td>10</td>\n      <td>1</td>\n      <td>0</td>\n      <td>0</td>\n      <td>616</td>\n      <td>0.0</td>\n      <td>200.0</td>\n      <td>0.0</td>\n      <td>0.0</td>\n      <td>8.0</td>\n      <td>7.0</td>\n      <td>7.0</td>\n      <td>0.0</td>\n      <td>3.0</td>\n      <td>48.82</td>\n      <td>2.46</td>\n      <td>../data/BGR/Profilbilder_no_ruler_no_sky/TH_34...</td>\n      <td>[0.14, 0.4, 0.6, 1.0]</td>\n      <td>[15.0, 15.0, 26.0, 26.0]</td>\n      <td>[6.0, 5.0, 53.0, 53.0]</td>\n      <td>[0.6, 0.75, 0.9, 0.9]</td>\n      <td>[0, 0, 0, 0]</td>\n      <td>[1.0, 2.0, 0.0, 0.0]</td>\n      <td>[5, 3, 1, 2]</td>\n      <td>[22, 14, 62, 77]</td>\n    </tr>\n    <tr>\n      <th>3343</th>\n      <td>3343</td>\n      <td>0</td>\n      <td>4</td>\n      <td>688216.3809</td>\n      <td>5588885.660</td>\n      <td>10</td>\n      <td>0</td>\n      <td>0</td>\n      <td>0</td>\n      <td>9</td>\n      <td>0.0</td>\n      <td>200.0</td>\n      <td>0.0</td>\n      <td>0.0</td>\n      <td>1.0</td>\n      <td>4.0</td>\n      <td>6.0</td>\n      <td>0.0</td>\n      <td>1.0</td>\n      <td>69.19</td>\n      <td>23.61</td>\n      <td>../data/BGR/Profilbilder_no_ruler_no_sky/TH_34...</td>\n      <td>[0.34, 0.69, 1.0]</td>\n      <td>[4.0, 4.0, 18.0]</td>\n      <td>[0.0, 3.0, 10.0]</td>\n      <td>[0.2, 0.3, 0.25]</td>\n      <td>[0, 0, 0]</td>\n      <td>[1.0, 2.0, 0.0]</td>\n      <td>[5, 3, 1]</td>\n      <td>[22, 32, 77]</td>\n    </tr>\n    <tr>\n      <th>3344</th>\n      <td>3344</td>\n      <td>0</td>\n      <td>4</td>\n      <td>701551.6557</td>\n      <td>5587919.679</td>\n      <td>10</td>\n      <td>0</td>\n      <td>0</td>\n      <td>0</td>\n      <td>0</td>\n      <td>0.0</td>\n      <td>200.0</td>\n      <td>0.0</td>\n      <td>0.0</td>\n      <td>6.0</td>\n      <td>4.0</td>\n      <td>0.0</td>\n      <td>0.0</td>\n      <td>1.0</td>\n      <td>75.65</td>\n      <td>9.34</td>\n      <td>../data/BGR/Profilbilder_no_ruler_no_sky/TH_34...</td>\n      <td>[0.2, 0.27, 0.7, 1.0]</td>\n      <td>[15.0, 15.0, 15.0, 26.0]</td>\n      <td>[2.0, 2.0, 3.0, 23.0]</td>\n      <td>[0.15, 0.25, 0.6, 0.9]</td>\n      <td>[0, 0, 0, 0]</td>\n      <td>[1.0, 1.0, 2.0, 0.0]</td>\n      <td>[4, 1, 0, 0]</td>\n      <td>[22, 22, 32, 0]</td>\n    </tr>\n    <tr>\n      <th>3345</th>\n      <td>3345</td>\n      <td>3</td>\n      <td>4</td>\n      <td>653547.6374</td>\n      <td>5581353.991</td>\n      <td>10</td>\n      <td>0</td>\n      <td>0</td>\n      <td>0</td>\n      <td>2</td>\n      <td>0.0</td>\n      <td>200.0</td>\n      <td>0.0</td>\n      <td>0.0</td>\n      <td>5.0</td>\n      <td>2.0</td>\n      <td>0.0</td>\n      <td>3.0</td>\n      <td>5.0</td>\n      <td>61.72</td>\n      <td>30.69</td>\n      <td>../data/BGR/Profilbilder_no_ruler_no_sky/TH_35...</td>\n      <td>[0.31, 0.49, 0.71, 1.0]</td>\n      <td>[15.0, 15.0, 15.0, 33.0]</td>\n      <td>[1.0, 7.0, 5.0, 16.0]</td>\n      <td>[0.05, 0.05, 0.2, 0.25]</td>\n      <td>[0, 0, 0, 0]</td>\n      <td>[1.0, 2.0, 0.0, 0.0]</td>\n      <td>[3, 2, 2, 2]</td>\n      <td>[22, 32, 47, 2]</td>\n    </tr>\n    <tr>\n      <th>3346</th>\n      <td>3346</td>\n      <td>4</td>\n      <td>5</td>\n      <td>620404.8554</td>\n      <td>5569180.493</td>\n      <td>10</td>\n      <td>0</td>\n      <td>0</td>\n      <td>5</td>\n      <td>3</td>\n      <td>0.0</td>\n      <td>200.0</td>\n      <td>0.0</td>\n      <td>0.0</td>\n      <td>1.0</td>\n      <td>3.0</td>\n      <td>0.0</td>\n      <td>0.0</td>\n      <td>3.0</td>\n      <td>80.30</td>\n      <td>19.58</td>\n      <td>../data/BGR/Profilbilder_no_ruler_no_sky/TH_35...</td>\n      <td>[0.27, 0.7, 1.0]</td>\n      <td>[1.0, 12.0, 1.0]</td>\n      <td>[6.0, 23.0, 31.0]</td>\n      <td>[0.03, 0.1, 0.3]</td>\n      <td>[3, 4, 4]</td>\n      <td>[1.0, 2.0, 0.0]</td>\n      <td>[0, 4, 4]</td>\n      <td>[22, 34, 34]</td>\n    </tr>\n  </tbody>\n</table>\n<p>3347 rows × 30 columns</p>\n</div>"
     },
     "execution_count": 32,
     "metadata": {},
     "output_type": "execute_result"
    }
   ],
   "source": [
    "# Only rows with Obergrenze < 100 were kept. This lead to some Untergrenze values still being above 100.\n",
    "# Round these down to 100 for a correct loss calculation.\n",
    "# Also normalize labels to interval [0.0, 1.0] for faster convergence and stability.\n",
    "\n",
    "df['Untergrenze'] = df['Untergrenze'].apply(bgr_data.normalize_df_list)\n",
    "df"
   ],
   "metadata": {
    "collapsed": false,
    "pycharm": {
     "name": "#%%\n"
    }
   }
  },
  {
   "cell_type": "code",
   "execution_count": 33,
   "outputs": [
    {
     "name": "stdout",
     "output_type": "stream",
     "text": [
      "Minimum number of horizons: 2\n",
      "Maximum number of horizons: 8\n"
     ]
    }
   ],
   "source": [
    "# Get the lengths of the lists in the 'Untergrenze' column\n",
    "list_lengths = df['Untergrenze'].apply(len)\n",
    "\n",
    "min_length = list_lengths.min()\n",
    "max_length = list_lengths.max()\n",
    "\n",
    "print(f\"Minimum number of horizons: {min_length}\")\n",
    "print(f\"Maximum number of horizons: {max_length}\")"
   ],
   "metadata": {
    "collapsed": false,
    "pycharm": {
     "name": "#%%\n"
    }
   }
  },
  {
   "cell_type": "code",
   "execution_count": 34,
   "outputs": [
    {
     "name": "stdout",
     "output_type": "stream",
     "text": [
      "List with minimum length: [0.32, 1.0]\n",
      "List with maximum length: [0.13, 0.26, 0.4, 0.58, 0.68, 0.83, 0.98, 1.0]\n"
     ]
    }
   ],
   "source": [
    "min_length_list = df[df['Untergrenze'].apply(len) == min_length]['Untergrenze'].values[0]\n",
    "max_length_list = df[df['Untergrenze'].apply(len) == max_length]['Untergrenze'].values[0]\n",
    "print(f\"List with minimum length: {min_length_list}\")\n",
    "print(f\"List with maximum length: {max_length_list}\")"
   ],
   "metadata": {
    "collapsed": false,
    "pycharm": {
     "name": "#%%\n"
    }
   }
  },
  {
   "cell_type": "code",
   "execution_count": 35,
   "outputs": [],
   "source": [
    "# Define the image normalization\n",
    "normalize = transforms.Compose([\n",
    "    transforms.ToTensor(),\n",
    "    transforms.Normalize(mean=[0.485, 0.456, 0.406], std=[0.229, 0.224, 0.225]), # Normalize with ImageNet statistics\n",
    "])"
   ],
   "metadata": {
    "collapsed": false,
    "pycharm": {
     "name": "#%%\n"
    }
   }
  },
  {
   "cell_type": "code",
   "execution_count": 36,
   "outputs": [
    {
     "data": {
      "text/plain": "HorizonClassifier(\n  (image_encoder): ImageEncoder(\n    (cnn): ResNet(\n      (conv1): Conv2d(3, 64, kernel_size=(7, 7), stride=(2, 2), padding=(3, 3), bias=False)\n      (bn1): BatchNorm2d(64, eps=1e-05, momentum=0.1, affine=True, track_running_stats=True)\n      (relu): ReLU(inplace=True)\n      (maxpool): MaxPool2d(kernel_size=3, stride=2, padding=1, dilation=1, ceil_mode=False)\n      (layer1): Sequential(\n        (0): BasicBlock(\n          (conv1): Conv2d(64, 64, kernel_size=(3, 3), stride=(1, 1), padding=(1, 1), bias=False)\n          (bn1): BatchNorm2d(64, eps=1e-05, momentum=0.1, affine=True, track_running_stats=True)\n          (relu): ReLU(inplace=True)\n          (conv2): Conv2d(64, 64, kernel_size=(3, 3), stride=(1, 1), padding=(1, 1), bias=False)\n          (bn2): BatchNorm2d(64, eps=1e-05, momentum=0.1, affine=True, track_running_stats=True)\n        )\n        (1): BasicBlock(\n          (conv1): Conv2d(64, 64, kernel_size=(3, 3), stride=(1, 1), padding=(1, 1), bias=False)\n          (bn1): BatchNorm2d(64, eps=1e-05, momentum=0.1, affine=True, track_running_stats=True)\n          (relu): ReLU(inplace=True)\n          (conv2): Conv2d(64, 64, kernel_size=(3, 3), stride=(1, 1), padding=(1, 1), bias=False)\n          (bn2): BatchNorm2d(64, eps=1e-05, momentum=0.1, affine=True, track_running_stats=True)\n        )\n      )\n      (layer2): Sequential(\n        (0): BasicBlock(\n          (conv1): Conv2d(64, 128, kernel_size=(3, 3), stride=(2, 2), padding=(1, 1), bias=False)\n          (bn1): BatchNorm2d(128, eps=1e-05, momentum=0.1, affine=True, track_running_stats=True)\n          (relu): ReLU(inplace=True)\n          (conv2): Conv2d(128, 128, kernel_size=(3, 3), stride=(1, 1), padding=(1, 1), bias=False)\n          (bn2): BatchNorm2d(128, eps=1e-05, momentum=0.1, affine=True, track_running_stats=True)\n          (downsample): Sequential(\n            (0): Conv2d(64, 128, kernel_size=(1, 1), stride=(2, 2), bias=False)\n            (1): BatchNorm2d(128, eps=1e-05, momentum=0.1, affine=True, track_running_stats=True)\n          )\n        )\n        (1): BasicBlock(\n          (conv1): Conv2d(128, 128, kernel_size=(3, 3), stride=(1, 1), padding=(1, 1), bias=False)\n          (bn1): BatchNorm2d(128, eps=1e-05, momentum=0.1, affine=True, track_running_stats=True)\n          (relu): ReLU(inplace=True)\n          (conv2): Conv2d(128, 128, kernel_size=(3, 3), stride=(1, 1), padding=(1, 1), bias=False)\n          (bn2): BatchNorm2d(128, eps=1e-05, momentum=0.1, affine=True, track_running_stats=True)\n        )\n      )\n      (layer3): Sequential(\n        (0): BasicBlock(\n          (conv1): Conv2d(128, 256, kernel_size=(3, 3), stride=(2, 2), padding=(1, 1), bias=False)\n          (bn1): BatchNorm2d(256, eps=1e-05, momentum=0.1, affine=True, track_running_stats=True)\n          (relu): ReLU(inplace=True)\n          (conv2): Conv2d(256, 256, kernel_size=(3, 3), stride=(1, 1), padding=(1, 1), bias=False)\n          (bn2): BatchNorm2d(256, eps=1e-05, momentum=0.1, affine=True, track_running_stats=True)\n          (downsample): Sequential(\n            (0): Conv2d(128, 256, kernel_size=(1, 1), stride=(2, 2), bias=False)\n            (1): BatchNorm2d(256, eps=1e-05, momentum=0.1, affine=True, track_running_stats=True)\n          )\n        )\n        (1): BasicBlock(\n          (conv1): Conv2d(256, 256, kernel_size=(3, 3), stride=(1, 1), padding=(1, 1), bias=False)\n          (bn1): BatchNorm2d(256, eps=1e-05, momentum=0.1, affine=True, track_running_stats=True)\n          (relu): ReLU(inplace=True)\n          (conv2): Conv2d(256, 256, kernel_size=(3, 3), stride=(1, 1), padding=(1, 1), bias=False)\n          (bn2): BatchNorm2d(256, eps=1e-05, momentum=0.1, affine=True, track_running_stats=True)\n        )\n      )\n      (layer4): Sequential(\n        (0): BasicBlock(\n          (conv1): Conv2d(256, 512, kernel_size=(3, 3), stride=(2, 2), padding=(1, 1), bias=False)\n          (bn1): BatchNorm2d(512, eps=1e-05, momentum=0.1, affine=True, track_running_stats=True)\n          (relu): ReLU(inplace=True)\n          (conv2): Conv2d(512, 512, kernel_size=(3, 3), stride=(1, 1), padding=(1, 1), bias=False)\n          (bn2): BatchNorm2d(512, eps=1e-05, momentum=0.1, affine=True, track_running_stats=True)\n          (downsample): Sequential(\n            (0): Conv2d(256, 512, kernel_size=(1, 1), stride=(2, 2), bias=False)\n            (1): BatchNorm2d(512, eps=1e-05, momentum=0.1, affine=True, track_running_stats=True)\n          )\n        )\n        (1): BasicBlock(\n          (conv1): Conv2d(512, 512, kernel_size=(3, 3), stride=(1, 1), padding=(1, 1), bias=False)\n          (bn1): BatchNorm2d(512, eps=1e-05, momentum=0.1, affine=True, track_running_stats=True)\n          (relu): ReLU(inplace=True)\n          (conv2): Conv2d(512, 512, kernel_size=(3, 3), stride=(1, 1), padding=(1, 1), bias=False)\n          (bn2): BatchNorm2d(512, eps=1e-05, momentum=0.1, affine=True, track_running_stats=True)\n        )\n      )\n      (avgpool): AdaptiveAvgPool2d(output_size=(1, 1))\n      (fc): Identity()\n    )\n  )\n  (geo_temp_encoder): GeoTemporalEncoder(\n    (encoder): Sequential(\n      (0): Linear(in_features=21, out_features=64, bias=True)\n      (1): BatchNorm1d(64, eps=1e-05, momentum=0.1, affine=True, track_running_stats=True)\n      (2): ReLU()\n      (3): Linear(in_features=64, out_features=32, bias=True)\n      (4): BatchNorm1d(32, eps=1e-05, momentum=0.1, affine=True, track_running_stats=True)\n      (5): ReLU()\n    )\n  )\n  (depth_marker_predictor): LSTMDepthMarkerPredictor(\n    (fc): Sequential(\n      (0): Linear(in_features=544, out_features=256, bias=True)\n      (1): ReLU()\n      (2): Dropout(p=0.2, inplace=False)\n    )\n    (rnn): LSTM(256, 256, num_layers=2, batch_first=True, dropout=0.2)\n    (predictor): Linear(in_features=256, out_features=1, bias=True)\n  )\n)"
     },
     "execution_count": 36,
     "metadata": {},
     "output_type": "execute_result"
    }
   ],
   "source": [
    "# Initialize model\n",
    "#num_classes = len(df[target].unique()) # for one-hot encoding\n",
    "#num_classes = emb_dict['embedding'].shape[1] # for HCE (the dim. of final layer in the model should match the dim of the embedded label vectors)\n",
    "device = torch.device(\"cuda:0\" if torch.cuda.is_available() else \"cpu\")\n",
    "model = bgr_mod.HorizonClassifier(geo_temp_input_dim=len(geotemp_img_infos)-1, # without counting the img path\n",
    "                                  max_seq_len = max_length,                    # fixed from longest list of horizons in one image from dataset\n",
    "                                  stop_token=1.0,                              # End of Sequence Token at -1 meters\n",
    "                                  #transformer_dim=128,\n",
    "                                  #num_transformer_heads=4,\n",
    "                                  #num_transformer_layers=2,\n",
    "                                  rnn_hidden_dim=256,\n",
    "                                  tabular_predictors_dict=tabular_predictors_dict, # for constructing the tabular predictors\n",
    "                                  tab_pred_device=device)\n",
    "model.to(device)"
   ],
   "metadata": {
    "collapsed": false,
    "pycharm": {
     "name": "#%%\n"
    }
   }
  },
  {
   "cell_type": "code",
   "execution_count": 37,
   "outputs": [
    {
     "name": "stdout",
     "output_type": "stream",
     "text": [
      "2510 samples for training.\n",
      "837 samples for validating.\n"
     ]
    }
   ],
   "source": [
    "# Data split\n",
    "#train_df, val_df = train_test_split(df, stratify=df[target], random_state=2024)\n",
    "train_df, val_df = train_test_split(df, random_state=2024) # ToDo: not stratified...\n",
    "\n",
    "print(f'{len(train_df)} samples for training.')\n",
    "print(f'{len(val_df)} samples for validating.')"
   ],
   "metadata": {
    "collapsed": false,
    "pycharm": {
     "name": "#%%\n"
    }
   }
  },
  {
   "cell_type": "code",
   "execution_count": 38,
   "outputs": [],
   "source": [
    "# Define the image transforms for augmentation\n",
    "augment = [\n",
    "    transforms.ColorJitter(brightness=0.3, contrast=0.3, saturation=0.3, hue=0.1),\n",
    "    transforms.GaussianBlur(kernel_size=(5, 5), sigma=(1., 3.))\n",
    "]"
   ],
   "metadata": {
    "collapsed": false,
    "pycharm": {
     "name": "#%%\n"
    }
   }
  },
  {
   "cell_type": "code",
   "execution_count": 39,
   "outputs": [],
   "source": [
    "batch_size = 64\n",
    "# Create Dataset object with image and tabular features\n",
    "train_dataset = bgr_data.ImageTabularDataset(dataframe=train_df,\n",
    "                                             normalize=normalize,\n",
    "                                             augment=augment,\n",
    "                                             image_path='file',\n",
    "                                             label=None, # no label column as input; access it instead via 'index' during training\n",
    "                                             feature_columns=geotemp_img_infos[:-1])\n",
    "\n",
    "train_loader = DataLoader(train_dataset, batch_size=batch_size, shuffle=True, num_workers=16,\n",
    "                          drop_last=True) # any better idea than drop_last? without it, tensors don't get concatenated properly\n",
    "\n",
    "# Training parameters\n",
    "optimizer = optim.AdamW(model.parameters(), lr=1e-3, weight_decay=1e-2)\n",
    "\n",
    "depth_loss = DepthMarkerLoss(lambda_mono=0.0, lambda_div=0.0)\n",
    "# All the tabular classifiers get a CE loss, all regressors get MSE\n",
    "soil_losses = {}\n",
    "for tab_predictor in tabular_predictors_dict:\n",
    "    if tabular_predictors_dict[tab_predictor]['classification']:\n",
    "        soil_losses[tab_predictor] = nn.CrossEntropyLoss()\n",
    "    else:\n",
    "        soil_losses[tab_predictor] = nn.MSELoss()\n",
    "\n",
    "# Note: Is MSE better for HCE?\n",
    "#criterion = nn.CrossEntropyLoss()\n",
    "#criterion = TopKLoss(k=5)\n",
    "#criterion = nn.CosineEmbeddingLoss() # for HCE: 1 - cos(prediction, target)"
   ],
   "metadata": {
    "collapsed": false,
    "pycharm": {
     "name": "#%%\n"
    }
   }
  },
  {
   "cell_type": "code",
   "execution_count": 40,
   "outputs": [],
   "source": [
    "### Callbacks\n",
    "scheduler = torch.optim.lr_scheduler.ReduceLROnPlateau(optimizer, mode='min', factor=0.1, patience=5, threshold=0.1, min_lr=1e-5, verbose=True)\n",
    "early_stopping = EarlyStopping(patience=10, min_delta=0.01, verbose=True) # looks at val_loss (see callbacks.py)\n",
    "#checkpoint = ModelCheckpoint(save_path='./BGR/models/lstm_depthmarker.pth', monitor='avg_val_loss', mode='min', verbose=True)\n",
    "checkpoint = ModelCheckpoint(save_path='./BGR/models/lstm_depthmarker_mlp_tabular_stones_humus.pth',\n",
    "                             monitor='avg_val_loss', mode='min', verbose=True)"
   ],
   "metadata": {
    "collapsed": false,
    "pycharm": {
     "name": "#%%\n"
    }
   }
  },
  {
   "cell_type": "code",
   "execution_count": 41,
   "outputs": [
    {
     "name": "stdout",
     "output_type": "stream",
     "text": [
      "Training size original: 2510\n",
      "Training size after augmentation: 7530\n"
     ]
    }
   ],
   "source": [
    "print(f\"Training size original: {len(train_dataset.dataframe)}\")\n",
    "print(f\"Training size after augmentation: {len(train_dataset)}\")"
   ],
   "metadata": {
    "collapsed": false,
    "pycharm": {
     "name": "#%%\n"
    }
   }
  },
  {
   "cell_type": "code",
   "execution_count": 42,
   "outputs": [
    {
     "name": "stderr",
     "output_type": "stream",
     "text": [
      "Clipping input data to the valid range for imshow with RGB data ([0..1] for floats or [0..255] for integers).\n",
      "Clipping input data to the valid range for imshow with RGB data ([0..1] for floats or [0..255] for integers).\n",
      "Clipping input data to the valid range for imshow with RGB data ([0..1] for floats or [0..255] for integers).\n"
     ]
    },
    {
     "name": "stdout",
     "output_type": "stream",
     "text": [
      "Image 0\n",
      "tensor([1.7890e+03, 7.0000e+00, 0.0000e+00, 5.0506e+05, 5.8320e+06, 6.0000e+00,\n",
      "        0.0000e+00, 0.0000e+00, 0.0000e+00, 2.0000e+00, 0.0000e+00, 2.0000e+02,\n",
      "        0.0000e+00, 0.0000e+00, 3.0000e+00, 2.0000e+00, 2.0000e+00, 0.0000e+00,\n",
      "        3.0000e+00, 5.3780e+01, 1.5110e+01])\n",
      "Image 1\n",
      "tensor([1.7890e+03, 7.0000e+00, 0.0000e+00, 5.0506e+05, 5.8320e+06, 6.0000e+00,\n",
      "        0.0000e+00, 0.0000e+00, 0.0000e+00, 2.0000e+00, 0.0000e+00, 2.0000e+02,\n",
      "        0.0000e+00, 0.0000e+00, 3.0000e+00, 2.0000e+00, 2.0000e+00, 0.0000e+00,\n",
      "        3.0000e+00, 5.3780e+01, 1.5110e+01])\n",
      "Image 2\n",
      "tensor([1.7890e+03, 7.0000e+00, 0.0000e+00, 5.0506e+05, 5.8320e+06, 6.0000e+00,\n",
      "        0.0000e+00, 0.0000e+00, 0.0000e+00, 2.0000e+00, 0.0000e+00, 2.0000e+02,\n",
      "        0.0000e+00, 0.0000e+00, 3.0000e+00, 2.0000e+00, 2.0000e+00, 0.0000e+00,\n",
      "        3.0000e+00, 5.3780e+01, 1.5110e+01])\n"
     ]
    },
    {
     "data": {
      "text/plain": "<Figure size 720x576 with 3 Axes>",
      "image/svg+xml": "<?xml version=\"1.0\" encoding=\"utf-8\" standalone=\"no\"?>\n<!DOCTYPE svg PUBLIC \"-//W3C//DTD SVG 1.1//EN\"\n  \"http://www.w3.org/Graphics/SVG/1.1/DTD/svg11.dtd\">\n<svg xmlns:xlink=\"http://www.w3.org/1999/xlink\" width=\"572.4pt\" height=\"178.517647pt\" viewBox=\"0 0 572.4 178.517647\" xmlns=\"http://www.w3.org/2000/svg\" version=\"1.1\">\n <metadata>\n  <rdf:RDF xmlns:dc=\"http://purl.org/dc/elements/1.1/\" xmlns:cc=\"http://creativecommons.org/ns#\" xmlns:rdf=\"http://www.w3.org/1999/02/22-rdf-syntax-ns#\">\n   <cc:Work>\n    <dc:type rdf:resource=\"http://purl.org/dc/dcmitype/StillImage\"/>\n    <dc:date>2025-01-30T19:56:55.081864</dc:date>\n    <dc:format>image/svg+xml</dc:format>\n    <dc:creator>\n     <cc:Agent>\n      <dc:title>Matplotlib v3.5.1, https://matplotlib.org/</dc:title>\n     </cc:Agent>\n    </dc:creator>\n   </cc:Work>\n  </rdf:RDF>\n </metadata>\n <defs>\n  <style type=\"text/css\">*{stroke-linejoin: round; stroke-linecap: butt}</style>\n </defs>\n <g id=\"figure_1\">\n  <g id=\"patch_1\">\n   <path d=\"M 0 178.517647 \nL 572.4 178.517647 \nL 572.4 0 \nL 0 0 \nL 0 178.517647 \nz\n\" style=\"fill: none\"/>\n  </g>\n  <g id=\"axes_1\">\n   <g clip-path=\"url(#p524dddd487)\">\n    <image xlink:href=\"data:image/png;base64,\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\" id=\"imageb468ebdfa4\" transform=\"scale(1 -1)translate(0 -165)\" x=\"7.2\" y=\"-6.317647\" width=\"165\" height=\"165\"/>\n   </g>\n  </g>\n  <g id=\"axes_2\">\n   <g clip-path=\"url(#pa02b4123e1)\">\n    <image xlink:href=\"data:image/png;base64,\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\" id=\"imaged94c9a4e81\" transform=\"scale(1 -1)translate(0 -165)\" x=\"204.141176\" y=\"-6.317647\" width=\"165\" height=\"165\"/>\n   </g>\n  </g>\n  <g id=\"axes_3\">\n   <g clip-path=\"url(#p0b21d6db6c)\">\n    <image xlink:href=\"data:image/png;base64,\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\" id=\"image21051eac5c\" transform=\"scale(1 -1)translate(0 -165)\" x=\"401.082353\" y=\"-6.317647\" width=\"165\" height=\"165\"/>\n   </g>\n  </g>\n </g>\n <defs>\n  <clipPath id=\"p524dddd487\">\n   <rect x=\"7.2\" y=\"7.2\" width=\"164.117647\" height=\"164.117647\"/>\n  </clipPath>\n  <clipPath id=\"pa02b4123e1\">\n   <rect x=\"204.141176\" y=\"7.2\" width=\"164.117647\" height=\"164.117647\"/>\n  </clipPath>\n  <clipPath id=\"p0b21d6db6c\">\n   <rect x=\"401.082353\" y=\"7.2\" width=\"164.117647\" height=\"164.117647\"/>\n  </clipPath>\n </defs>\n</svg>\n"
     },
     "metadata": {
      "needs_background": "light"
     },
     "output_type": "display_data"
    }
   ],
   "source": [
    "# Check an augmented subset\n",
    "if augment:\n",
    "    aug_images = []\n",
    "    for i in range(len(train_dataset)):\n",
    "        image, tabular_features = train_dataset[i]\n",
    "        aug_images.append(image)\n",
    "        print(f\"Image {i}\")\n",
    "        print(tabular_features)\n",
    "        if i == 2: break\n",
    "\n",
    "    plt.figure(figsize=(10, 8))\n",
    "    for i in range(len(aug_images)):\n",
    "        plt.subplot(1, 3, i+1)\n",
    "        plt.imshow(aug_images[i].swapaxes(0,2).swapaxes(0,1)) # returned shape is (c, h, w)\n",
    "        plt.axis('off')"
   ],
   "metadata": {
    "collapsed": false,
    "pycharm": {
     "name": "#%%\n"
    }
   }
  },
  {
   "cell_type": "code",
   "execution_count": 43,
   "outputs": [],
   "source": [
    "val_dataset = bgr_data.ImageTabularDataset(dataframe=val_df,\n",
    "                                           normalize=normalize,\n",
    "                                           image_path='file',\n",
    "                                           label=None,\n",
    "                                           feature_columns=geotemp_img_infos[:-1])\n",
    "\n",
    "val_loader = DataLoader(val_dataset, batch_size=batch_size, shuffle=True, num_workers=16, drop_last=True)"
   ],
   "metadata": {
    "collapsed": false,
    "pycharm": {
     "name": "#%%\n"
    }
   }
  },
  {
   "cell_type": "code",
   "execution_count": 44,
   "outputs": [
    {
     "data": {
      "text/plain": "\"\\nfor batch in val_loader:\\n    images, geotemp_features = batch\\n    images, geotemp_features = images.to(device), geotemp_features.to(device)\\n\\n    pred_depths, tabular_predictions = model(image=images, geo_temp=geotemp_features, true_depths=None) # use the model's own predicted depths at inference time\\ntabular_predictions\\n\""
     },
     "execution_count": 44,
     "metadata": {},
     "output_type": "execute_result"
    }
   ],
   "source": [
    "\"\"\"\n",
    "for batch in val_loader:\n",
    "    images, geotemp_features = batch\n",
    "    images, geotemp_features = images.to(device), geotemp_features.to(device)\n",
    "\n",
    "    pred_depths, tabular_predictions = model(image=images, geo_temp=geotemp_features, true_depths=None) # use the model's own predicted depths at inference time\n",
    "tabular_predictions\n",
    "\"\"\""
   ],
   "metadata": {
    "collapsed": false,
    "pycharm": {
     "name": "#%%\n"
    }
   }
  },
  {
   "cell_type": "code",
   "execution_count": 45,
   "outputs": [
    {
     "name": "stdout",
     "output_type": "stream",
     "text": [
      "Epoch 1/20\n"
     ]
    },
    {
     "name": "stderr",
     "output_type": "stream",
     "text": [
      "                                                                                                                        \r"
     ]
    },
    {
     "name": "stdout",
     "output_type": "stream",
     "text": [
      "Model checkpoint saved at './BGR/models/lstm_depthmarker_mlp_tabular_stones_humus.pth' with avg_val_loss: 2.0780\n",
      "Epoch 1, Training Total Loss: 2.1149\n",
      "Depth Loss: 0.0267, Stones Loss: 0.0266, Humus Loss: 2.0616\n",
      "\n",
      "Validation Total Loss: 2.0780\n",
      "Depth Loss: 0.0138, Stones Loss: 0.0231, Humus Loss: 2.0412\n",
      "Current LR: 0.001\n",
      "Epoch 2/20\n"
     ]
    },
    {
     "name": "stderr",
     "output_type": "stream",
     "text": [
      "                                                                                                                        \r"
     ]
    },
    {
     "name": "stdout",
     "output_type": "stream",
     "text": [
      "Model checkpoint saved at './BGR/models/lstm_depthmarker_mlp_tabular_stones_humus.pth' with avg_val_loss: 2.0411\n",
      "Epoch 2, Training Total Loss: 2.0664\n",
      "Depth Loss: 0.0137, Stones Loss: 0.0235, Humus Loss: 2.0291\n",
      "\n",
      "Validation Total Loss: 2.0411\n",
      "Depth Loss: 0.0124, Stones Loss: 0.0200, Humus Loss: 2.0088\n",
      "Current LR: 0.001\n",
      "Epoch 3/20\n"
     ]
    },
    {
     "name": "stderr",
     "output_type": "stream",
     "text": [
      "                                                                                                                        \r"
     ]
    },
    {
     "name": "stdout",
     "output_type": "stream",
     "text": [
      "Model checkpoint saved at './BGR/models/lstm_depthmarker_mlp_tabular_stones_humus.pth' with avg_val_loss: 2.0364\n",
      "Epoch 3, Training Total Loss: 2.0459\n",
      "Depth Loss: 0.0137, Stones Loss: 0.0219, Humus Loss: 2.0103\n",
      "\n",
      "Validation Total Loss: 2.0364\n",
      "Depth Loss: 0.0138, Stones Loss: 0.0197, Humus Loss: 2.0028\n",
      "Current LR: 0.001\n",
      "EarlyStopping: No improvement for 1 epochs.\n",
      "Epoch 4/20\n"
     ]
    },
    {
     "name": "stderr",
     "output_type": "stream",
     "text": [
      "                                                                                                                        \r"
     ]
    },
    {
     "name": "stdout",
     "output_type": "stream",
     "text": [
      "Model checkpoint saved at './BGR/models/lstm_depthmarker_mlp_tabular_stones_humus.pth' with avg_val_loss: 2.0316\n",
      "Epoch 4, Training Total Loss: 2.0286\n",
      "Depth Loss: 0.0138, Stones Loss: 0.0209, Humus Loss: 1.9939\n",
      "\n",
      "Validation Total Loss: 2.0316\n",
      "Depth Loss: 0.0126, Stones Loss: 0.0315, Humus Loss: 1.9876\n",
      "Current LR: 0.001\n",
      "EarlyStopping: No improvement for 2 epochs.\n",
      "Epoch 5/20\n"
     ]
    },
    {
     "name": "stderr",
     "output_type": "stream",
     "text": [
      "                                                                                                                        \r"
     ]
    },
    {
     "name": "stdout",
     "output_type": "stream",
     "text": [
      "Model checkpoint saved at './BGR/models/lstm_depthmarker_mlp_tabular_stones_humus.pth' with avg_val_loss: 2.0241\n",
      "Epoch 5, Training Total Loss: 2.0100\n",
      "Depth Loss: 0.0135, Stones Loss: 0.0202, Humus Loss: 1.9763\n",
      "\n",
      "Validation Total Loss: 2.0241\n",
      "Depth Loss: 0.0131, Stones Loss: 0.0222, Humus Loss: 1.9888\n",
      "Current LR: 0.001\n",
      "Epoch 6/20\n"
     ]
    },
    {
     "name": "stderr",
     "output_type": "stream",
     "text": [
      "                                                                                                                        \r"
     ]
    },
    {
     "name": "stdout",
     "output_type": "stream",
     "text": [
      "Model checkpoint saved at './BGR/models/lstm_depthmarker_mlp_tabular_stones_humus.pth' with avg_val_loss: 2.0064\n",
      "Epoch 6, Training Total Loss: 1.9875\n",
      "Depth Loss: 0.0133, Stones Loss: 0.0191, Humus Loss: 1.9550\n",
      "\n",
      "Validation Total Loss: 2.0064\n",
      "Depth Loss: 0.0124, Stones Loss: 0.0206, Humus Loss: 1.9734\n",
      "Current LR: 0.001\n",
      "Epoch 7/20\n"
     ]
    },
    {
     "name": "stderr",
     "output_type": "stream",
     "text": [
      "                                                                                                                        \r"
     ]
    },
    {
     "name": "stdout",
     "output_type": "stream",
     "text": [
      "Model checkpoint saved at './BGR/models/lstm_depthmarker_mlp_tabular_stones_humus.pth' with avg_val_loss: 2.0040\n",
      "Epoch     7: reducing learning rate of group 0 to 1.0000e-04.\n",
      "Epoch 7, Training Total Loss: 1.9644\n",
      "Depth Loss: 0.0130, Stones Loss: 0.0182, Humus Loss: 1.9332\n",
      "\n",
      "Validation Total Loss: 2.0040\n",
      "Depth Loss: 0.0129, Stones Loss: 0.0195, Humus Loss: 1.9716\n",
      "Current LR: 0.0001\n",
      "EarlyStopping: No improvement for 1 epochs.\n",
      "Epoch 8/20\n"
     ]
    },
    {
     "name": "stderr",
     "output_type": "stream",
     "text": [
      "                                                                                                                        \r"
     ]
    },
    {
     "name": "stdout",
     "output_type": "stream",
     "text": [
      "Model checkpoint saved at './BGR/models/lstm_depthmarker_mlp_tabular_stones_humus.pth' with avg_val_loss: 2.0035\n",
      "Epoch 8, Training Total Loss: 1.9410\n",
      "Depth Loss: 0.0126, Stones Loss: 0.0163, Humus Loss: 1.9121\n",
      "\n",
      "Validation Total Loss: 2.0035\n",
      "Depth Loss: 0.0120, Stones Loss: 0.0176, Humus Loss: 1.9738\n",
      "Current LR: 0.0001\n",
      "EarlyStopping: No improvement for 2 epochs.\n",
      "Epoch 9/20\n"
     ]
    },
    {
     "name": "stderr",
     "output_type": "stream",
     "text": [
      "                                                                                                                        \r"
     ]
    },
    {
     "name": "stdout",
     "output_type": "stream",
     "text": [
      "Model checkpoint saved at './BGR/models/lstm_depthmarker_mlp_tabular_stones_humus.pth' with avg_val_loss: 2.0015\n",
      "Epoch 9, Training Total Loss: 1.9330\n",
      "Depth Loss: 0.0124, Stones Loss: 0.0156, Humus Loss: 1.9050\n",
      "\n",
      "Validation Total Loss: 2.0015\n",
      "Depth Loss: 0.0120, Stones Loss: 0.0176, Humus Loss: 1.9719\n",
      "Current LR: 0.0001\n",
      "EarlyStopping: No improvement for 3 epochs.\n",
      "Epoch 10/20\n"
     ]
    },
    {
     "name": "stderr",
     "output_type": "stream",
     "text": [
      "                                                                                                                        \r"
     ]
    },
    {
     "name": "stdout",
     "output_type": "stream",
     "text": [
      "Epoch 10, Training Total Loss: 1.9278\n",
      "Depth Loss: 0.0122, Stones Loss: 0.0155, Humus Loss: 1.9001\n",
      "\n",
      "Validation Total Loss: 2.0035\n",
      "Depth Loss: 0.0125, Stones Loss: 0.0179, Humus Loss: 1.9731\n",
      "Current LR: 0.0001\n",
      "EarlyStopping: No improvement for 4 epochs.\n",
      "Epoch 11/20\n"
     ]
    },
    {
     "name": "stderr",
     "output_type": "stream",
     "text": [
      "                                                                                                                        \r"
     ]
    },
    {
     "name": "stdout",
     "output_type": "stream",
     "text": [
      "Epoch 11, Training Total Loss: 1.9224\n",
      "Depth Loss: 0.0121, Stones Loss: 0.0153, Humus Loss: 1.8951\n",
      "\n",
      "Validation Total Loss: 2.0125\n",
      "Depth Loss: 0.0127, Stones Loss: 0.0176, Humus Loss: 1.9822\n",
      "Current LR: 0.0001\n",
      "EarlyStopping: No improvement for 5 epochs.\n",
      "Epoch 12/20\n"
     ]
    },
    {
     "name": "stderr",
     "output_type": "stream",
     "text": [
      "                                                                                                                        \r"
     ]
    },
    {
     "name": "stdout",
     "output_type": "stream",
     "text": [
      "Epoch 12, Training Total Loss: 1.9131\n",
      "Depth Loss: 0.0120, Stones Loss: 0.0153, Humus Loss: 1.8859\n",
      "\n",
      "Validation Total Loss: 2.0082\n",
      "Depth Loss: 0.0124, Stones Loss: 0.0176, Humus Loss: 1.9782\n",
      "Current LR: 0.0001\n",
      "EarlyStopping: No improvement for 6 epochs.\n",
      "Epoch 13/20\n"
     ]
    },
    {
     "name": "stderr",
     "output_type": "stream",
     "text": [
      "                                                                                                                        \r"
     ]
    },
    {
     "name": "stdout",
     "output_type": "stream",
     "text": [
      "Epoch    13: reducing learning rate of group 0 to 1.0000e-05.\n",
      "Epoch 13, Training Total Loss: 1.9030\n",
      "Depth Loss: 0.0118, Stones Loss: 0.0152, Humus Loss: 1.8760\n",
      "\n",
      "Validation Total Loss: 2.0054\n",
      "Depth Loss: 0.0130, Stones Loss: 0.0176, Humus Loss: 1.9747\n",
      "Current LR: 1e-05\n",
      "EarlyStopping: No improvement for 7 epochs.\n",
      "Epoch 14/20\n"
     ]
    },
    {
     "name": "stderr",
     "output_type": "stream",
     "text": [
      "                                                                                                                        \r"
     ]
    },
    {
     "name": "stdout",
     "output_type": "stream",
     "text": [
      "Epoch 14, Training Total Loss: 1.8968\n",
      "Depth Loss: 0.0116, Stones Loss: 0.0150, Humus Loss: 1.8702\n",
      "\n",
      "Validation Total Loss: 2.0091\n",
      "Depth Loss: 0.0129, Stones Loss: 0.0175, Humus Loss: 1.9787\n",
      "Current LR: 1e-05\n",
      "EarlyStopping: No improvement for 8 epochs.\n",
      "Epoch 15/20\n"
     ]
    },
    {
     "name": "stderr",
     "output_type": "stream",
     "text": [
      "                                                                                                                        \r"
     ]
    },
    {
     "name": "stdout",
     "output_type": "stream",
     "text": [
      "Epoch 15, Training Total Loss: 1.8954\n",
      "Depth Loss: 0.0115, Stones Loss: 0.0148, Humus Loss: 1.8690\n",
      "\n",
      "Validation Total Loss: 2.0092\n",
      "Depth Loss: 0.0129, Stones Loss: 0.0176, Humus Loss: 1.9787\n",
      "Current LR: 1e-05\n",
      "EarlyStopping: No improvement for 9 epochs.\n",
      "Epoch 16/20\n"
     ]
    },
    {
     "name": "stderr",
     "output_type": "stream",
     "text": [
      "                                                                                                                        "
     ]
    },
    {
     "name": "stdout",
     "output_type": "stream",
     "text": [
      "Epoch 16, Training Total Loss: 1.8945\n",
      "Depth Loss: 0.0116, Stones Loss: 0.0149, Humus Loss: 1.8680\n",
      "\n",
      "Validation Total Loss: 2.0087\n",
      "Depth Loss: 0.0130, Stones Loss: 0.0174, Humus Loss: 1.9783\n",
      "Current LR: 1e-05\n",
      "EarlyStopping: No improvement for 10 epochs.\n",
      "Early stopping at epoch 16\n"
     ]
    },
    {
     "name": "stderr",
     "output_type": "stream",
     "text": [
      "\r"
     ]
    }
   ],
   "source": [
    "epochs = 20\n",
    "lr_history, train_loss_history, val_loss_history = [], [], []\n",
    "for epoch in range(epochs):\n",
    "    print(f\"Epoch {epoch + 1}/{epochs}\")\n",
    "    # Training loop\n",
    "    model.train() # Important: reset the model in training mode at the beginning of every epoch\n",
    "    train_depth_loss_total, train_stones_loss_total, train_humus_loss_total, train_loss_total = 0.0, 0.0, 0.0, 0.0\n",
    "    train_loader_tqdm = tqdm(train_loader, desc=\"Training\", leave=False)\n",
    "    for batch in train_loader_tqdm:\n",
    "        images, geotemp_features = batch\n",
    "        images, geotemp_features = images.to(device), geotemp_features.to(device)\n",
    "\n",
    "        optimizer.zero_grad() # otherwise, PyTorch accumulates the gradients during backprop\n",
    "\n",
    "        # Get corresponding true depth markers and morphological features via index column in df (the first value in every row in geotemp)\n",
    "        # Note: the code accounts for duplicate indexes resulting after the augmentations in the ImageTabularDataset class (is there a better way than duplicating indexes during augmentation?)\n",
    "        true_depths = []\n",
    "        true_stones, true_humus = [], []\n",
    "        batch_indices = geotemp_features.cpu().numpy()[:, 0]\n",
    "        for idx in batch_indices:\n",
    "            true_depths.append( df.loc[df['index'] == idx, 'Untergrenze'].values[0] )\n",
    "            true_stones.append( torch.tensor(df.loc[df['index'] == idx, 'Steine'].values[0]) )\n",
    "            true_humus.append( torch.tensor(df.loc[df['index'] == idx, 'Humusgehaltsklasse'].values[0]).long() ) # categoricals need to be Long for the CE loss\n",
    "        true_stones = torch.stack([item for sublist in true_stones for item in sublist], dim=0).to(device)\n",
    "        true_humus  = torch.stack([item for sublist in true_humus for item in sublist], dim=0).to(device)\n",
    "\n",
    "        # Turn list of depths into a padded tensor and also return mask of valid positions\n",
    "        padded_true_depths = pad_tensor(true_depths,\n",
    "                                        max_seq_len=model.depth_marker_predictor.max_seq_len,\n",
    "                                        stop_token=model.depth_marker_predictor.stop_token,\n",
    "                                        device=device)\n",
    "\n",
    "        # Predict depth markers (as padded tensors) and morphological features (only pred_stones is a number from regression, the rest are softmax)\n",
    "        pred_depths, tabular_predictions = model(image=images, geo_temp=geotemp_features,\n",
    "                                                 true_depths=true_depths) # use ground truth depths during training for concatenation with image-geotemp vector\n",
    "\n",
    "        # Compute individual losses, then sum them together for backprop\n",
    "        train_depth_loss = depth_loss(pred_depths, padded_true_depths)\n",
    "        train_stones_loss = soil_losses['Stones_Predictor'](tabular_predictions['Stones_Predictor'], true_stones)\n",
    "        train_humus_loss  = soil_losses['Humus_Predictor'](tabular_predictions['Humus_Predictor'], true_humus)\n",
    "        train_loss = train_depth_loss + train_stones_loss + train_humus_loss\n",
    "        # Note: any reason to weight the losses differently?\n",
    "\n",
    "        train_loss.backward()\n",
    "        clip_grad_norm_(model.parameters(), max_norm=1.0)\n",
    "        optimizer.step()\n",
    "\n",
    "        train_depth_loss_total += train_depth_loss.item()\n",
    "        train_stones_loss_total += train_stones_loss.item()\n",
    "        train_humus_loss_total += train_humus_loss.item()\n",
    "        train_loss_total += train_loss.item()\n",
    "        train_loader_tqdm.set_postfix(loss=train_loss.item())\n",
    "\n",
    "    avg_train_depth_loss = train_depth_loss_total / len(train_loader)\n",
    "    avg_train_stones_loss = train_stones_loss_total / len(train_loader)\n",
    "    avg_train_humus_loss = train_humus_loss_total / len(train_loader)\n",
    "    avg_train_loss = train_loss_total / len(train_loader)\n",
    "\n",
    "    # Evaluation loop\n",
    "    model.eval() # Set model in evaluation mode before running inference\n",
    "    val_depth_loss_total, val_stones_loss_total, val_humus_loss_total, val_loss_total = 0.0, 0.0, 0.0, 0.0\n",
    "    val_loader_tqdm = tqdm(val_loader, desc=\"Evaluating\", leave=False)\n",
    "    with torch.no_grad():\n",
    "        for batch in val_loader_tqdm:\n",
    "            images, geotemp_features = batch\n",
    "            images, geotemp_features = images.to(device), geotemp_features.to(device)\n",
    "\n",
    "            # Get corresponding true depth markers via index column in df (see training step above)\n",
    "            true_depths = []\n",
    "            true_stones, true_humus = [], []\n",
    "            batch_indices = geotemp_features.cpu().numpy()[:, 0]\n",
    "            for idx in batch_indices:\n",
    "                true_depths.append( df.loc[df['index'] == idx, 'Untergrenze'].values[0] )\n",
    "                true_stones.append( torch.tensor(df.loc[df['index'] == idx, 'Steine'].values[0]) )\n",
    "                true_humus.append( torch.tensor(df.loc[df['index'] == idx, 'Humusgehaltsklasse'].values[0]).long() )\n",
    "            true_stones = torch.stack([item for sublist in true_stones for item in sublist], dim=0).to(device)\n",
    "            true_humus  = torch.stack([item for sublist in true_humus for item in sublist], dim=0).to(device)\n",
    "\n",
    "            # Turn list of depths into a padded tensor and also return mask of valid positions\n",
    "            padded_true_depths = pad_tensor(true_depths,\n",
    "                                            max_seq_len=model.depth_marker_predictor.max_seq_len,\n",
    "                                            stop_token=model.depth_marker_predictor.stop_token,\n",
    "                                            device=device)\n",
    "\n",
    "            # Predict depth markers (as padded tensors) and morphological features\n",
    "            pred_depths, tabular_predictions = model(image=images, geo_temp=geotemp_features,\n",
    "                                                     true_depths=true_depths)\n",
    "            # Note: should we use the model's predicted depths here?\n",
    "            # But then there can be a mismatch between the number of true tabular labels and the ones that can be predicted...\n",
    "\n",
    "            val_depth_loss = depth_loss(pred_depths, padded_true_depths)\n",
    "            val_stones_loss = soil_losses['Stones_Predictor'](tabular_predictions['Stones_Predictor'], true_stones)\n",
    "            val_humus_loss  = soil_losses['Humus_Predictor'](tabular_predictions['Humus_Predictor'], true_humus)\n",
    "            val_loss = val_depth_loss + val_stones_loss + val_humus_loss\n",
    "\n",
    "            val_depth_loss_total += val_depth_loss.item()\n",
    "            val_stones_loss_total += val_stones_loss.item()\n",
    "            val_humus_loss_total += val_humus_loss.item()\n",
    "            val_loss_total += val_loss.item()\n",
    "\n",
    "    avg_val_depth_loss = val_depth_loss_total / len(val_loader)\n",
    "    avg_val_stones_loss = val_stones_loss_total / len(val_loader)\n",
    "    avg_val_humus_loss = val_humus_loss_total / len(val_loader)\n",
    "    avg_val_loss = val_loss_total / len(val_loader)\n",
    "\n",
    "    # Save checkpoint if validation loss is at an optimum\n",
    "    checkpoint(model, avg_val_loss)\n",
    "    # Apply the scheduler with validation loss\n",
    "    scheduler.step(avg_val_loss)\n",
    "    # Log the current learning rate\n",
    "    current_lr = optimizer.param_groups[0]['lr']\n",
    "    lr_history.append(current_lr)\n",
    "    # Log metrics\n",
    "    train_loss_history.append(avg_train_loss); val_loss_history.append(avg_val_loss)\n",
    "\n",
    "    print(f\"Epoch {epoch+1}, Training Total Loss: {avg_train_loss:.4f}\")\n",
    "    print(f\"Depth Loss: {avg_train_depth_loss:.4f}, Stones Loss: {avg_train_stones_loss:.4f}, Humus Loss: {avg_train_humus_loss:.4f}\")\n",
    "    print(f\"\\nValidation Total Loss: {avg_val_loss:.4f}\")\n",
    "    print(f\"Depth Loss: {avg_val_depth_loss:.4f}, Stones Loss: {avg_val_stones_loss:.4f}, Humus Loss: {avg_val_humus_loss:.4f}\")\n",
    "    print(f\"Current LR: {current_lr}\")\n",
    "\n",
    "    # Early stopping check\n",
    "    early_stopping(avg_val_loss)\n",
    "    if early_stopping.should_stop:\n",
    "        print(f\"Early stopping at epoch {epoch+1}\")\n",
    "        break"
   ],
   "metadata": {
    "collapsed": false,
    "pycharm": {
     "name": "#%%\n"
    }
   }
  },
  {
   "cell_type": "markdown",
   "source": [
    "### Evaluation"
   ],
   "metadata": {
    "collapsed": false
   }
  },
  {
   "cell_type": "code",
   "execution_count": 46,
   "outputs": [
    {
     "name": "stdout",
     "output_type": "stream",
     "text": [
      "True:\n",
      "tensor([0.3000, 0.8000, 1.0000, 1.0000, 1.0000, 1.0000, 1.0000, 1.0000],\n",
      "       device='cuda:0')\n",
      "Predicted:\n",
      "tensor([0.2478, 0.4899, 0.7608, 0.9590, 1.0000, 1.0000, 1.0000, 1.0000],\n",
      "       device='cuda:0')\n",
      " \n",
      "True:\n",
      "tensor([0.3200, 0.4700, 0.6000, 0.8300, 1.0000, 1.0000, 1.0000, 1.0000],\n",
      "       device='cuda:0')\n",
      "Predicted:\n",
      "tensor([0.2751, 0.4863, 0.7423, 0.9289, 1.0000, 1.0000, 1.0000, 1.0000],\n",
      "       device='cuda:0')\n",
      " \n",
      "True:\n",
      "tensor([0.1000, 0.2000, 0.4000, 0.4800, 0.7100, 1.0000, 1.0000, 1.0000],\n",
      "       device='cuda:0')\n",
      "Predicted:\n",
      "tensor([0.2320, 0.5142, 0.8208, 1.0000, 1.0000, 1.0000, 1.0000, 1.0000],\n",
      "       device='cuda:0')\n",
      " \n",
      "True:\n",
      "tensor([0.2800, 0.5000, 1.0000, 1.0000, 1.0000, 1.0000, 1.0000, 1.0000],\n",
      "       device='cuda:0')\n",
      "Predicted:\n",
      "tensor([0.2750, 0.4838, 0.7382, 0.9241, 1.0000, 1.0000, 1.0000, 1.0000],\n",
      "       device='cuda:0')\n",
      " \n",
      "True:\n",
      "tensor([0.3000, 0.5400, 0.7000, 1.0000, 1.0000, 1.0000, 1.0000, 1.0000],\n",
      "       device='cuda:0')\n",
      "Predicted:\n",
      "tensor([0.2514, 0.4789, 0.7478, 0.9487, 1.0000, 1.0000, 1.0000, 1.0000],\n",
      "       device='cuda:0')\n",
      " \n",
      "True:\n",
      "tensor([0.1000, 0.1800, 0.4600, 0.9600, 1.0000, 1.0000, 1.0000, 1.0000],\n",
      "       device='cuda:0')\n",
      "Predicted:\n",
      "tensor([0.2235, 0.4594, 0.7411, 0.9581, 1.0000, 1.0000, 1.0000, 1.0000],\n",
      "       device='cuda:0')\n",
      " \n",
      "True:\n",
      "tensor([0.3400, 0.7000, 1.0000, 1.0000, 1.0000, 1.0000, 1.0000, 1.0000],\n",
      "       device='cuda:0')\n",
      "Predicted:\n",
      "tensor([0.2790, 0.5404, 0.8074, 0.9875, 1.0000, 1.0000, 1.0000, 1.0000],\n",
      "       device='cuda:0')\n",
      " \n",
      "True:\n",
      "tensor([0.3200, 0.4800, 0.6800, 1.0000, 1.0000, 1.0000, 1.0000, 1.0000],\n",
      "       device='cuda:0')\n",
      "Predicted:\n",
      "tensor([0.2738, 0.4778, 0.7289, 0.9141, 1.0000, 1.0000, 1.0000, 1.0000],\n",
      "       device='cuda:0')\n",
      " \n",
      "True:\n",
      "tensor([0.3400, 0.4800, 0.6300, 0.8000, 1.0000, 1.0000, 1.0000, 1.0000],\n",
      "       device='cuda:0')\n",
      "Predicted:\n",
      "tensor([0.2814, 0.5021, 0.7624, 0.9479, 1.0000, 1.0000, 1.0000, 1.0000],\n",
      "       device='cuda:0')\n",
      " \n",
      "True:\n",
      "tensor([0.3000, 0.5400, 0.9500, 1.0000, 1.0000, 1.0000, 1.0000, 1.0000],\n",
      "       device='cuda:0')\n",
      "Predicted:\n",
      "tensor([0.2777, 0.4823, 0.7327, 0.9158, 1.0000, 1.0000, 1.0000, 1.0000],\n",
      "       device='cuda:0')\n",
      " \n",
      "True:\n",
      "tensor([0.2700, 0.4700, 0.6800, 0.8500, 1.0000, 1.0000, 1.0000, 1.0000],\n",
      "       device='cuda:0')\n",
      "Predicted:\n",
      "tensor([0.2775, 0.5552, 0.8376, 1.0000, 1.0000, 1.0000, 1.0000, 1.0000],\n",
      "       device='cuda:0')\n",
      " \n",
      "True:\n",
      "tensor([0.2000, 1.0000, 1.0000, 1.0000, 1.0000, 1.0000, 1.0000, 1.0000],\n",
      "       device='cuda:0')\n",
      "Predicted:\n",
      "tensor([0.2296, 0.4911, 0.7847, 1.0000, 1.0000, 1.0000, 1.0000, 1.0000],\n",
      "       device='cuda:0')\n",
      " \n",
      "True:\n",
      "tensor([0.4200, 0.4800, 0.6000, 0.9000, 1.0000, 1.0000, 1.0000, 1.0000],\n",
      "       device='cuda:0')\n",
      "Predicted:\n",
      "tensor([0.2804, 0.4917, 0.7460, 0.9295, 1.0000, 1.0000, 1.0000, 1.0000],\n",
      "       device='cuda:0')\n",
      " \n",
      "True:\n",
      "tensor([0.3000, 0.4800, 0.9700, 1.0000, 1.0000, 1.0000, 1.0000, 1.0000],\n",
      "       device='cuda:0')\n",
      "Predicted:\n",
      "tensor([0.1898, 0.4036, 0.6731, 0.8989, 1.0000, 1.0000, 1.0000, 1.0000],\n",
      "       device='cuda:0')\n",
      " \n",
      "True:\n",
      "tensor([0.3000, 0.5000, 0.6600, 1.0000, 1.0000, 1.0000, 1.0000, 1.0000],\n",
      "       device='cuda:0')\n",
      "Predicted:\n",
      "tensor([0.1953, 0.4451, 0.7479, 0.9860, 1.0000, 1.0000, 1.0000, 1.0000],\n",
      "       device='cuda:0')\n",
      " \n",
      "True:\n",
      "tensor([0.2000, 0.3300, 0.5000, 1.0000, 1.0000, 1.0000, 1.0000, 1.0000],\n",
      "       device='cuda:0')\n",
      "Predicted:\n",
      "tensor([0.2247, 0.4518, 0.7230, 0.9333, 1.0000, 1.0000, 1.0000, 1.0000],\n",
      "       device='cuda:0')\n",
      " \n",
      "True:\n",
      "tensor([0.2800, 0.8500, 1.0000, 1.0000, 1.0000, 1.0000, 1.0000, 1.0000],\n",
      "       device='cuda:0')\n",
      "Predicted:\n",
      "tensor([0.2739, 0.4800, 0.7327, 0.9185, 1.0000, 1.0000, 1.0000, 1.0000],\n",
      "       device='cuda:0')\n",
      " \n",
      "True:\n",
      "tensor([0.3400, 0.7400, 1.0000, 1.0000, 1.0000, 1.0000, 1.0000, 1.0000],\n",
      "       device='cuda:0')\n",
      "Predicted:\n",
      "tensor([0.1816, 0.4062, 0.6903, 0.9265, 1.0000, 1.0000, 1.0000, 1.0000],\n",
      "       device='cuda:0')\n",
      " \n",
      "True:\n",
      "tensor([0.3400, 0.4600, 1.0000, 1.0000, 1.0000, 1.0000, 1.0000, 1.0000],\n",
      "       device='cuda:0')\n",
      "Predicted:\n",
      "tensor([0.2751, 0.4861, 0.7421, 0.9287, 1.0000, 1.0000, 1.0000, 1.0000],\n",
      "       device='cuda:0')\n",
      " \n",
      "True:\n",
      "tensor([0.0800, 0.3100, 0.5100, 0.6800, 1.0000, 1.0000, 1.0000, 1.0000],\n",
      "       device='cuda:0')\n",
      "Predicted:\n",
      "tensor([0.2353, 0.4753, 0.7423, 0.9418, 1.0000, 1.0000, 1.0000, 1.0000],\n",
      "       device='cuda:0')\n",
      " \n",
      "True:\n",
      "tensor([0.3000, 0.7000, 1.0000, 1.0000, 1.0000, 1.0000, 1.0000, 1.0000],\n",
      "       device='cuda:0')\n",
      "Predicted:\n",
      "tensor([0.2487, 0.4929, 0.7702, 0.9734, 1.0000, 1.0000, 1.0000, 1.0000],\n",
      "       device='cuda:0')\n",
      " \n",
      "True:\n",
      "tensor([0.1100, 0.2300, 0.7400, 1.0000, 1.0000, 1.0000, 1.0000, 1.0000],\n",
      "       device='cuda:0')\n",
      "Predicted:\n",
      "tensor([0.3019, 0.5750, 0.8581, 1.0000, 1.0000, 1.0000, 1.0000, 1.0000],\n",
      "       device='cuda:0')\n",
      " \n",
      "True:\n",
      "tensor([0.3000, 0.4000, 0.6000, 0.8000, 0.9000, 1.0000, 1.0000, 1.0000],\n",
      "       device='cuda:0')\n",
      "Predicted:\n",
      "tensor([0.2321, 0.5140, 0.8261, 1.0000, 1.0000, 1.0000, 1.0000, 1.0000],\n",
      "       device='cuda:0')\n",
      " \n",
      "True:\n",
      "tensor([0.1200, 0.2600, 0.4700, 0.6900, 0.9000, 1.0000, 1.0000, 1.0000],\n",
      "       device='cuda:0')\n",
      "Predicted:\n",
      "tensor([0.2422, 0.5062, 0.7956, 1.0000, 1.0000, 1.0000, 1.0000, 1.0000],\n",
      "       device='cuda:0')\n",
      " \n",
      "True:\n",
      "tensor([0.3300, 0.4800, 0.6600, 0.9600, 1.0000, 1.0000, 1.0000, 1.0000],\n",
      "       device='cuda:0')\n",
      "Predicted:\n",
      "tensor([0.2458, 0.5242, 0.8214, 1.0000, 1.0000, 1.0000, 1.0000, 1.0000],\n",
      "       device='cuda:0')\n",
      " \n",
      "True:\n",
      "tensor([0.3300, 0.5400, 0.8000, 1.0000, 1.0000, 1.0000, 1.0000, 1.0000],\n",
      "       device='cuda:0')\n",
      "Predicted:\n",
      "tensor([0.2969, 0.5717, 0.8559, 1.0000, 1.0000, 1.0000, 1.0000, 1.0000],\n",
      "       device='cuda:0')\n",
      " \n",
      "True:\n",
      "tensor([0.2000, 0.6600, 1.0000, 1.0000, 1.0000, 1.0000, 1.0000, 1.0000],\n",
      "       device='cuda:0')\n",
      "Predicted:\n",
      "tensor([0.2505, 0.5081, 0.7768, 0.9677, 1.0000, 1.0000, 1.0000, 1.0000],\n",
      "       device='cuda:0')\n",
      " \n",
      "True:\n",
      "tensor([0.3800, 1.0000, 1.0000, 1.0000, 1.0000, 1.0000, 1.0000, 1.0000],\n",
      "       device='cuda:0')\n",
      "Predicted:\n",
      "tensor([0.3093, 0.6014, 0.8859, 1.0000, 1.0000, 1.0000, 1.0000, 1.0000],\n",
      "       device='cuda:0')\n",
      " \n",
      "True:\n",
      "tensor([0.2800, 0.4000, 0.6000, 1.0000, 1.0000, 1.0000, 1.0000, 1.0000],\n",
      "       device='cuda:0')\n",
      "Predicted:\n",
      "tensor([0.2762, 0.5398, 0.8293, 1.0000, 1.0000, 1.0000, 1.0000, 1.0000],\n",
      "       device='cuda:0')\n",
      " \n",
      "True:\n",
      "tensor([0.1000, 0.3100, 0.8000, 1.0000, 1.0000, 1.0000, 1.0000, 1.0000],\n",
      "       device='cuda:0')\n",
      "Predicted:\n",
      "tensor([0.3018, 0.5552, 0.8266, 1.0000, 1.0000, 1.0000, 1.0000, 1.0000],\n",
      "       device='cuda:0')\n",
      " \n",
      "True:\n",
      "tensor([0.5800, 0.7000, 1.0000, 1.0000, 1.0000, 1.0000, 1.0000, 1.0000],\n",
      "       device='cuda:0')\n",
      "Predicted:\n",
      "tensor([0.2952, 0.5401, 0.8115, 1.0000, 1.0000, 1.0000, 1.0000, 1.0000],\n",
      "       device='cuda:0')\n",
      " \n",
      "True:\n",
      "tensor([0.1400, 0.2800, 0.7400, 1.0000, 1.0000, 1.0000, 1.0000, 1.0000],\n",
      "       device='cuda:0')\n",
      "Predicted:\n",
      "tensor([0.2572, 0.5299, 0.8198, 1.0000, 1.0000, 1.0000, 1.0000, 1.0000],\n",
      "       device='cuda:0')\n",
      " \n",
      "True:\n",
      "tensor([0.1000, 0.2800, 0.5000, 1.0000, 1.0000, 1.0000, 1.0000, 1.0000],\n",
      "       device='cuda:0')\n",
      "Predicted:\n",
      "tensor([0.2801, 0.5488, 0.8319, 1.0000, 1.0000, 1.0000, 1.0000, 1.0000],\n",
      "       device='cuda:0')\n",
      " \n",
      "True:\n",
      "tensor([0.1200, 0.4800, 0.5800, 0.8200, 1.0000, 1.0000, 1.0000, 1.0000],\n",
      "       device='cuda:0')\n",
      "Predicted:\n",
      "tensor([0.1648, 0.3786, 0.6625, 0.9120, 1.0000, 1.0000, 1.0000, 1.0000],\n",
      "       device='cuda:0')\n",
      " \n",
      "True:\n",
      "tensor([0.1000, 0.3400, 0.7200, 1.0000, 1.0000, 1.0000, 1.0000, 1.0000],\n",
      "       device='cuda:0')\n",
      "Predicted:\n",
      "tensor([0.1755, 0.3919, 0.6731, 0.9124, 1.0000, 1.0000, 1.0000, 1.0000],\n",
      "       device='cuda:0')\n",
      " \n",
      "True:\n",
      "tensor([0.4000, 0.7000, 0.9200, 1.0000, 1.0000, 1.0000, 1.0000, 1.0000],\n",
      "       device='cuda:0')\n",
      "Predicted:\n",
      "tensor([0.2842, 0.5737, 0.8628, 1.0000, 1.0000, 1.0000, 1.0000, 1.0000],\n",
      "       device='cuda:0')\n",
      " \n",
      "True:\n",
      "tensor([0.2600, 0.4700, 0.7200, 1.0000, 1.0000, 1.0000, 1.0000, 1.0000],\n",
      "       device='cuda:0')\n",
      "Predicted:\n",
      "tensor([0.2216, 0.4841, 0.7819, 1.0000, 1.0000, 1.0000, 1.0000, 1.0000],\n",
      "       device='cuda:0')\n",
      " \n",
      "True:\n",
      "tensor([0.3000, 0.5000, 0.7400, 1.0000, 1.0000, 1.0000, 1.0000, 1.0000],\n",
      "       device='cuda:0')\n",
      "Predicted:\n",
      "tensor([0.2892, 0.5142, 0.7747, 0.9571, 1.0000, 1.0000, 1.0000, 1.0000],\n",
      "       device='cuda:0')\n",
      " \n",
      "True:\n",
      "tensor([0.0900, 0.3100, 0.6700, 0.8800, 1.0000, 1.0000, 1.0000, 1.0000],\n",
      "       device='cuda:0')\n",
      "Predicted:\n",
      "tensor([0.2872, 0.5183, 0.7848, 0.9709, 1.0000, 1.0000, 1.0000, 1.0000],\n",
      "       device='cuda:0')\n",
      " \n",
      "True:\n",
      "tensor([0.2800, 0.4800, 0.7000, 0.9600, 1.0000, 1.0000, 1.0000, 1.0000],\n",
      "       device='cuda:0')\n",
      "Predicted:\n",
      "tensor([0.2817, 0.5774, 0.8685, 1.0000, 1.0000, 1.0000, 1.0000, 1.0000],\n",
      "       device='cuda:0')\n",
      " \n",
      "True:\n",
      "tensor([0.1200, 0.3000, 0.4000, 0.7000, 1.0000, 1.0000, 1.0000, 1.0000],\n",
      "       device='cuda:0')\n",
      "Predicted:\n",
      "tensor([0.1871, 0.4158, 0.7047, 0.9414, 1.0000, 1.0000, 1.0000, 1.0000],\n",
      "       device='cuda:0')\n",
      " \n",
      "True:\n",
      "tensor([0.3000, 0.4900, 1.0000, 1.0000, 1.0000, 1.0000, 1.0000, 1.0000],\n",
      "       device='cuda:0')\n",
      "Predicted:\n",
      "tensor([0.2555, 0.5277, 0.8156, 1.0000, 1.0000, 1.0000, 1.0000, 1.0000],\n",
      "       device='cuda:0')\n",
      " \n",
      "True:\n",
      "tensor([0.1000, 0.2600, 0.6700, 0.8800, 1.0000, 1.0000, 1.0000, 1.0000],\n",
      "       device='cuda:0')\n",
      "Predicted:\n",
      "tensor([0.2788, 0.4881, 0.7415, 0.9253, 1.0000, 1.0000, 1.0000, 1.0000],\n",
      "       device='cuda:0')\n",
      " \n",
      "True:\n",
      "tensor([0.0600, 0.3300, 0.4600, 0.6600, 0.9000, 1.0000, 1.0000, 1.0000],\n",
      "       device='cuda:0')\n",
      "Predicted:\n",
      "tensor([0.2686, 0.5234, 0.7879, 0.9692, 1.0000, 1.0000, 1.0000, 1.0000],\n",
      "       device='cuda:0')\n",
      " \n",
      "True:\n",
      "tensor([0.0800, 0.2900, 0.5000, 0.8500, 1.0000, 1.0000, 1.0000, 1.0000],\n",
      "       device='cuda:0')\n",
      "Predicted:\n",
      "tensor([0.2608, 0.5537, 0.8571, 1.0000, 1.0000, 1.0000, 1.0000, 1.0000],\n",
      "       device='cuda:0')\n",
      " \n",
      "True:\n",
      "tensor([0.2000, 0.3000, 0.4600, 0.9600, 1.0000, 1.0000, 1.0000, 1.0000],\n",
      "       device='cuda:0')\n",
      "Predicted:\n",
      "tensor([0.2864, 0.5109, 0.7724, 0.9565, 1.0000, 1.0000, 1.0000, 1.0000],\n",
      "       device='cuda:0')\n",
      " \n",
      "True:\n",
      "tensor([0.3400, 0.5400, 0.8800, 1.0000, 1.0000, 1.0000, 1.0000, 1.0000],\n",
      "       device='cuda:0')\n",
      "Predicted:\n",
      "tensor([0.2753, 0.5045, 0.7733, 0.9652, 1.0000, 1.0000, 1.0000, 1.0000],\n",
      "       device='cuda:0')\n",
      " \n",
      "True:\n",
      "tensor([0.3200, 0.7200, 1.0000, 1.0000, 1.0000, 1.0000, 1.0000, 1.0000],\n",
      "       device='cuda:0')\n",
      "Predicted:\n",
      "tensor([0.2782, 0.4926, 0.7502, 0.9365, 1.0000, 1.0000, 1.0000, 1.0000],\n",
      "       device='cuda:0')\n",
      " \n",
      "True:\n",
      "tensor([0.3000, 0.5000, 0.7000, 1.0000, 1.0000, 1.0000, 1.0000, 1.0000],\n",
      "       device='cuda:0')\n",
      "Predicted:\n",
      "tensor([0.2635, 0.5255, 0.8024, 1.0000, 1.0000, 1.0000, 1.0000, 1.0000],\n",
      "       device='cuda:0')\n",
      " \n",
      "True:\n",
      "tensor([0.3000, 0.4600, 0.9700, 1.0000, 1.0000, 1.0000, 1.0000, 1.0000],\n",
      "       device='cuda:0')\n",
      "Predicted:\n",
      "tensor([0.2868, 0.5106, 0.7715, 0.9552, 1.0000, 1.0000, 1.0000, 1.0000],\n",
      "       device='cuda:0')\n",
      " \n",
      "True:\n",
      "tensor([0.3000, 1.0000, 1.0000, 1.0000, 1.0000, 1.0000, 1.0000, 1.0000],\n",
      "       device='cuda:0')\n",
      "Predicted:\n",
      "tensor([0.3054, 0.5924, 0.8744, 1.0000, 1.0000, 1.0000, 1.0000, 1.0000],\n",
      "       device='cuda:0')\n",
      " \n",
      "True:\n",
      "tensor([0.3400, 0.4000, 0.5400, 0.7000, 1.0000, 1.0000, 1.0000, 1.0000],\n",
      "       device='cuda:0')\n",
      "Predicted:\n",
      "tensor([0.2764, 0.4807, 0.7313, 0.9151, 1.0000, 1.0000, 1.0000, 1.0000],\n",
      "       device='cuda:0')\n",
      " \n",
      "True:\n",
      "tensor([0.3400, 0.5300, 0.7000, 1.0000, 1.0000, 1.0000, 1.0000, 1.0000],\n",
      "       device='cuda:0')\n",
      "Predicted:\n",
      "tensor([0.2283, 0.4936, 0.7872, 1.0000, 1.0000, 1.0000, 1.0000, 1.0000],\n",
      "       device='cuda:0')\n",
      " \n",
      "True:\n",
      "tensor([0.4100, 0.6600, 0.8000, 1.0000, 1.0000, 1.0000, 1.0000, 1.0000],\n",
      "       device='cuda:0')\n",
      "Predicted:\n",
      "tensor([0.3044, 0.5743, 0.8525, 1.0000, 1.0000, 1.0000, 1.0000, 1.0000],\n",
      "       device='cuda:0')\n",
      " \n",
      "True:\n",
      "tensor([0.3300, 0.4000, 0.5300, 0.8000, 1.0000, 1.0000, 1.0000, 1.0000],\n",
      "       device='cuda:0')\n",
      "Predicted:\n",
      "tensor([0.2599, 0.5365, 0.8290, 1.0000, 1.0000, 1.0000, 1.0000, 1.0000],\n",
      "       device='cuda:0')\n",
      " \n",
      "True:\n",
      "tensor([0.3300, 0.5200, 1.0000, 1.0000, 1.0000, 1.0000, 1.0000, 1.0000],\n",
      "       device='cuda:0')\n",
      "Predicted:\n",
      "tensor([0.2842, 0.5326, 0.8044, 1.0000, 1.0000, 1.0000, 1.0000, 1.0000],\n",
      "       device='cuda:0')\n",
      " \n",
      "True:\n",
      "tensor([0.3400, 1.0000, 1.0000, 1.0000, 1.0000, 1.0000, 1.0000, 1.0000],\n",
      "       device='cuda:0')\n",
      "Predicted:\n",
      "tensor([0.2890, 0.5157, 0.7777, 0.9608, 1.0000, 1.0000, 1.0000, 1.0000],\n",
      "       device='cuda:0')\n",
      " \n",
      "True:\n",
      "tensor([0.1500, 0.3400, 1.0000, 1.0000, 1.0000, 1.0000, 1.0000, 1.0000],\n",
      "       device='cuda:0')\n",
      "Predicted:\n",
      "tensor([0.1651, 0.3771, 0.6592, 0.9070, 1.0000, 1.0000, 1.0000, 1.0000],\n",
      "       device='cuda:0')\n",
      " \n",
      "True:\n",
      "tensor([0.1200, 0.2800, 0.7200, 1.0000, 1.0000, 1.0000, 1.0000, 1.0000],\n",
      "       device='cuda:0')\n",
      "Predicted:\n",
      "tensor([0.2514, 0.5294, 0.8238, 1.0000, 1.0000, 1.0000, 1.0000, 1.0000],\n",
      "       device='cuda:0')\n",
      " \n",
      "True:\n",
      "tensor([0.4000, 0.5000, 0.6700, 1.0000, 1.0000, 1.0000, 1.0000, 1.0000],\n",
      "       device='cuda:0')\n",
      "Predicted:\n",
      "tensor([0.2729, 0.4845, 0.7415, 0.9294, 1.0000, 1.0000, 1.0000, 1.0000],\n",
      "       device='cuda:0')\n",
      " \n",
      "True:\n",
      "tensor([0.3400, 0.6600, 1.0000, 1.0000, 1.0000, 1.0000, 1.0000, 1.0000],\n",
      "       device='cuda:0')\n",
      "Predicted:\n",
      "tensor([0.2146, 0.4691, 0.7670, 1.0000, 1.0000, 1.0000, 1.0000, 1.0000],\n",
      "       device='cuda:0')\n",
      " \n",
      "True:\n",
      "tensor([0.3200, 0.4800, 0.6800, 1.0000, 1.0000, 1.0000, 1.0000, 1.0000],\n",
      "       device='cuda:0')\n",
      "Predicted:\n",
      "tensor([0.2553, 0.5248, 0.8128, 1.0000, 1.0000, 1.0000, 1.0000, 1.0000],\n",
      "       device='cuda:0')\n",
      " \n",
      "True:\n",
      "tensor([0.1000, 0.2000, 0.4500, 1.0000, 1.0000, 1.0000, 1.0000, 1.0000],\n",
      "       device='cuda:0')\n",
      "Predicted:\n",
      "tensor([0.2161, 0.4790, 0.7754, 1.0000, 1.0000, 1.0000, 1.0000, 1.0000],\n",
      "       device='cuda:0')\n",
      " \n",
      "True:\n",
      "tensor([0.1000, 0.3000, 0.6000, 0.8000, 0.9000, 1.0000, 1.0000, 1.0000],\n",
      "       device='cuda:0')\n",
      "Predicted:\n",
      "tensor([0.1928, 0.4408, 0.7411, 0.9798, 1.0000, 1.0000, 1.0000, 1.0000],\n",
      "       device='cuda:0')\n",
      " \n"
     ]
    }
   ],
   "source": [
    "# LSTM\n",
    "for true_dep, pred_dep in zip(padded_true_depths, pred_depths):\n",
    "    print('True:')\n",
    "    print(true_dep)\n",
    "    print('Predicted:')\n",
    "    print(pred_dep)\n",
    "    print(' ')"
   ],
   "metadata": {
    "collapsed": false,
    "pycharm": {
     "name": "#%%\n"
    }
   }
  },
  {
   "cell_type": "code",
   "execution_count": 47,
   "outputs": [
    {
     "data": {
      "text/plain": "<Figure size 1512x432 with 1 Axes>",
      "image/svg+xml": "<?xml version=\"1.0\" encoding=\"utf-8\" standalone=\"no\"?>\n<!DOCTYPE svg PUBLIC \"-//W3C//DTD SVG 1.1//EN\"\n  \"http://www.w3.org/Graphics/SVG/1.1/DTD/svg11.dtd\">\n<svg xmlns:xlink=\"http://www.w3.org/1999/xlink\" width=\"411pt\" height=\"423.274375pt\" viewBox=\"0 0 411 423.274375\" xmlns=\"http://www.w3.org/2000/svg\" version=\"1.1\">\n <metadata>\n  <rdf:RDF xmlns:dc=\"http://purl.org/dc/elements/1.1/\" xmlns:cc=\"http://creativecommons.org/ns#\" xmlns:rdf=\"http://www.w3.org/1999/02/22-rdf-syntax-ns#\">\n   <cc:Work>\n    <dc:type rdf:resource=\"http://purl.org/dc/dcmitype/StillImage\"/>\n    <dc:date>2025-01-30T20:07:45.981091</dc:date>\n    <dc:format>image/svg+xml</dc:format>\n    <dc:creator>\n     <cc:Agent>\n      <dc:title>Matplotlib v3.5.1, https://matplotlib.org/</dc:title>\n     </cc:Agent>\n    </dc:creator>\n   </cc:Work>\n  </rdf:RDF>\n </metadata>\n <defs>\n  <style type=\"text/css\">*{stroke-linejoin: round; stroke-linecap: butt}</style>\n </defs>\n <g id=\"figure_1\">\n  <g id=\"patch_1\">\n   <path d=\"M 0 423.274375 \nL 411 423.274375 \nL 411 0 \nL 0 0 \nL 0 423.274375 \nz\n\" style=\"fill: none\"/>\n  </g>\n  <g id=\"axes_1\">\n   <g id=\"patch_2\">\n    <path d=\"M 50.14375 385.718125 \nL 403.8 385.718125 \nL 403.8 22.318125 \nL 50.14375 22.318125 \nz\n\" style=\"fill: #ffffff\"/>\n   </g>\n   <g id=\"matplotlib.axis_1\">\n    <g id=\"xtick_1\">\n     <g id=\"line2d_1\">\n      <path d=\"M 87.652746 385.718125 \nL 87.652746 22.318125 \n\" clip-path=\"url(#p85c25f0b53)\" style=\"fill: none; stroke: #b0b0b0; stroke-width: 0.8; stroke-linecap: square\"/>\n     </g>\n     <g id=\"line2d_2\">\n      <defs>\n       <path id=\"m90f8ee4df8\" d=\"M 0 0 \nL 0 3.5 \n\" style=\"stroke: #000000; stroke-width: 0.8\"/>\n      </defs>\n      <g>\n       <use xlink:href=\"#m90f8ee4df8\" x=\"87.652746\" y=\"385.718125\" style=\"stroke: #000000; stroke-width: 0.8\"/>\n      </g>\n     </g>\n     <g id=\"text_1\">\n      <!-- 2 -->\n      <g transform=\"translate(84.471496 400.316562)scale(0.1 -0.1)\">\n       <defs>\n        <path id=\"DejaVuSans-32\" d=\"M 1228 531 \nL 3431 531 \nL 3431 0 \nL 469 0 \nL 469 531 \nQ 828 903 1448 1529 \nQ 2069 2156 2228 2338 \nQ 2531 2678 2651 2914 \nQ 2772 3150 2772 3378 \nQ 2772 3750 2511 3984 \nQ 2250 4219 1831 4219 \nQ 1534 4219 1204 4116 \nQ 875 4013 500 3803 \nL 500 4441 \nQ 881 4594 1212 4672 \nQ 1544 4750 1819 4750 \nQ 2544 4750 2975 4387 \nQ 3406 4025 3406 3419 \nQ 3406 3131 3298 2873 \nQ 3191 2616 2906 2266 \nQ 2828 2175 2409 1742 \nQ 1991 1309 1228 531 \nz\n\" transform=\"scale(0.015625)\"/>\n       </defs>\n       <use xlink:href=\"#DejaVuSans-32\"/>\n      </g>\n     </g>\n    </g>\n    <g id=\"xtick_2\">\n     <g id=\"line2d_3\">\n      <path d=\"M 130.52017 385.718125 \nL 130.52017 22.318125 \n\" clip-path=\"url(#p85c25f0b53)\" style=\"fill: none; stroke: #b0b0b0; stroke-width: 0.8; stroke-linecap: square\"/>\n     </g>\n     <g id=\"line2d_4\">\n      <g>\n       <use xlink:href=\"#m90f8ee4df8\" x=\"130.52017\" y=\"385.718125\" style=\"stroke: #000000; stroke-width: 0.8\"/>\n      </g>\n     </g>\n     <g id=\"text_2\">\n      <!-- 4 -->\n      <g transform=\"translate(127.33892 400.316562)scale(0.1 -0.1)\">\n       <defs>\n        <path id=\"DejaVuSans-34\" d=\"M 2419 4116 \nL 825 1625 \nL 2419 1625 \nL 2419 4116 \nz\nM 2253 4666 \nL 3047 4666 \nL 3047 1625 \nL 3713 1625 \nL 3713 1100 \nL 3047 1100 \nL 3047 0 \nL 2419 0 \nL 2419 1100 \nL 313 1100 \nL 313 1709 \nL 2253 4666 \nz\n\" transform=\"scale(0.015625)\"/>\n       </defs>\n       <use xlink:href=\"#DejaVuSans-34\"/>\n      </g>\n     </g>\n    </g>\n    <g id=\"xtick_3\">\n     <g id=\"line2d_5\">\n      <path d=\"M 173.387595 385.718125 \nL 173.387595 22.318125 \n\" clip-path=\"url(#p85c25f0b53)\" style=\"fill: none; stroke: #b0b0b0; stroke-width: 0.8; stroke-linecap: square\"/>\n     </g>\n     <g id=\"line2d_6\">\n      <g>\n       <use xlink:href=\"#m90f8ee4df8\" x=\"173.387595\" y=\"385.718125\" style=\"stroke: #000000; stroke-width: 0.8\"/>\n      </g>\n     </g>\n     <g id=\"text_3\">\n      <!-- 6 -->\n      <g transform=\"translate(170.206345 400.316562)scale(0.1 -0.1)\">\n       <defs>\n        <path id=\"DejaVuSans-36\" d=\"M 2113 2584 \nQ 1688 2584 1439 2293 \nQ 1191 2003 1191 1497 \nQ 1191 994 1439 701 \nQ 1688 409 2113 409 \nQ 2538 409 2786 701 \nQ 3034 994 3034 1497 \nQ 3034 2003 2786 2293 \nQ 2538 2584 2113 2584 \nz\nM 3366 4563 \nL 3366 3988 \nQ 3128 4100 2886 4159 \nQ 2644 4219 2406 4219 \nQ 1781 4219 1451 3797 \nQ 1122 3375 1075 2522 \nQ 1259 2794 1537 2939 \nQ 1816 3084 2150 3084 \nQ 2853 3084 3261 2657 \nQ 3669 2231 3669 1497 \nQ 3669 778 3244 343 \nQ 2819 -91 2113 -91 \nQ 1303 -91 875 529 \nQ 447 1150 447 2328 \nQ 447 3434 972 4092 \nQ 1497 4750 2381 4750 \nQ 2619 4750 2861 4703 \nQ 3103 4656 3366 4563 \nz\n\" transform=\"scale(0.015625)\"/>\n       </defs>\n       <use xlink:href=\"#DejaVuSans-36\"/>\n      </g>\n     </g>\n    </g>\n    <g id=\"xtick_4\">\n     <g id=\"line2d_7\">\n      <path d=\"M 216.255019 385.718125 \nL 216.255019 22.318125 \n\" clip-path=\"url(#p85c25f0b53)\" style=\"fill: none; stroke: #b0b0b0; stroke-width: 0.8; stroke-linecap: square\"/>\n     </g>\n     <g id=\"line2d_8\">\n      <g>\n       <use xlink:href=\"#m90f8ee4df8\" x=\"216.255019\" y=\"385.718125\" style=\"stroke: #000000; stroke-width: 0.8\"/>\n      </g>\n     </g>\n     <g id=\"text_4\">\n      <!-- 8 -->\n      <g transform=\"translate(213.073769 400.316562)scale(0.1 -0.1)\">\n       <defs>\n        <path id=\"DejaVuSans-38\" d=\"M 2034 2216 \nQ 1584 2216 1326 1975 \nQ 1069 1734 1069 1313 \nQ 1069 891 1326 650 \nQ 1584 409 2034 409 \nQ 2484 409 2743 651 \nQ 3003 894 3003 1313 \nQ 3003 1734 2745 1975 \nQ 2488 2216 2034 2216 \nz\nM 1403 2484 \nQ 997 2584 770 2862 \nQ 544 3141 544 3541 \nQ 544 4100 942 4425 \nQ 1341 4750 2034 4750 \nQ 2731 4750 3128 4425 \nQ 3525 4100 3525 3541 \nQ 3525 3141 3298 2862 \nQ 3072 2584 2669 2484 \nQ 3125 2378 3379 2068 \nQ 3634 1759 3634 1313 \nQ 3634 634 3220 271 \nQ 2806 -91 2034 -91 \nQ 1263 -91 848 271 \nQ 434 634 434 1313 \nQ 434 1759 690 2068 \nQ 947 2378 1403 2484 \nz\nM 1172 3481 \nQ 1172 3119 1398 2916 \nQ 1625 2713 2034 2713 \nQ 2441 2713 2670 2916 \nQ 2900 3119 2900 3481 \nQ 2900 3844 2670 4047 \nQ 2441 4250 2034 4250 \nQ 1625 4250 1398 4047 \nQ 1172 3844 1172 3481 \nz\n\" transform=\"scale(0.015625)\"/>\n       </defs>\n       <use xlink:href=\"#DejaVuSans-38\"/>\n      </g>\n     </g>\n    </g>\n    <g id=\"xtick_5\">\n     <g id=\"line2d_9\">\n      <path d=\"M 259.122443 385.718125 \nL 259.122443 22.318125 \n\" clip-path=\"url(#p85c25f0b53)\" style=\"fill: none; stroke: #b0b0b0; stroke-width: 0.8; stroke-linecap: square\"/>\n     </g>\n     <g id=\"line2d_10\">\n      <g>\n       <use xlink:href=\"#m90f8ee4df8\" x=\"259.122443\" y=\"385.718125\" style=\"stroke: #000000; stroke-width: 0.8\"/>\n      </g>\n     </g>\n     <g id=\"text_5\">\n      <!-- 10 -->\n      <g transform=\"translate(252.759943 400.316562)scale(0.1 -0.1)\">\n       <defs>\n        <path id=\"DejaVuSans-31\" d=\"M 794 531 \nL 1825 531 \nL 1825 4091 \nL 703 3866 \nL 703 4441 \nL 1819 4666 \nL 2450 4666 \nL 2450 531 \nL 3481 531 \nL 3481 0 \nL 794 0 \nL 794 531 \nz\n\" transform=\"scale(0.015625)\"/>\n        <path id=\"DejaVuSans-30\" d=\"M 2034 4250 \nQ 1547 4250 1301 3770 \nQ 1056 3291 1056 2328 \nQ 1056 1369 1301 889 \nQ 1547 409 2034 409 \nQ 2525 409 2770 889 \nQ 3016 1369 3016 2328 \nQ 3016 3291 2770 3770 \nQ 2525 4250 2034 4250 \nz\nM 2034 4750 \nQ 2819 4750 3233 4129 \nQ 3647 3509 3647 2328 \nQ 3647 1150 3233 529 \nQ 2819 -91 2034 -91 \nQ 1250 -91 836 529 \nQ 422 1150 422 2328 \nQ 422 3509 836 4129 \nQ 1250 4750 2034 4750 \nz\n\" transform=\"scale(0.015625)\"/>\n       </defs>\n       <use xlink:href=\"#DejaVuSans-31\"/>\n       <use xlink:href=\"#DejaVuSans-30\" x=\"63.623047\"/>\n      </g>\n     </g>\n    </g>\n    <g id=\"xtick_6\">\n     <g id=\"line2d_11\">\n      <path d=\"M 301.989867 385.718125 \nL 301.989867 22.318125 \n\" clip-path=\"url(#p85c25f0b53)\" style=\"fill: none; stroke: #b0b0b0; stroke-width: 0.8; stroke-linecap: square\"/>\n     </g>\n     <g id=\"line2d_12\">\n      <g>\n       <use xlink:href=\"#m90f8ee4df8\" x=\"301.989867\" y=\"385.718125\" style=\"stroke: #000000; stroke-width: 0.8\"/>\n      </g>\n     </g>\n     <g id=\"text_6\">\n      <!-- 12 -->\n      <g transform=\"translate(295.627367 400.316562)scale(0.1 -0.1)\">\n       <use xlink:href=\"#DejaVuSans-31\"/>\n       <use xlink:href=\"#DejaVuSans-32\" x=\"63.623047\"/>\n      </g>\n     </g>\n    </g>\n    <g id=\"xtick_7\">\n     <g id=\"line2d_13\">\n      <path d=\"M 344.857292 385.718125 \nL 344.857292 22.318125 \n\" clip-path=\"url(#p85c25f0b53)\" style=\"fill: none; stroke: #b0b0b0; stroke-width: 0.8; stroke-linecap: square\"/>\n     </g>\n     <g id=\"line2d_14\">\n      <g>\n       <use xlink:href=\"#m90f8ee4df8\" x=\"344.857292\" y=\"385.718125\" style=\"stroke: #000000; stroke-width: 0.8\"/>\n      </g>\n     </g>\n     <g id=\"text_7\">\n      <!-- 14 -->\n      <g transform=\"translate(338.494792 400.316562)scale(0.1 -0.1)\">\n       <use xlink:href=\"#DejaVuSans-31\"/>\n       <use xlink:href=\"#DejaVuSans-34\" x=\"63.623047\"/>\n      </g>\n     </g>\n    </g>\n    <g id=\"xtick_8\">\n     <g id=\"line2d_15\">\n      <path d=\"M 387.724716 385.718125 \nL 387.724716 22.318125 \n\" clip-path=\"url(#p85c25f0b53)\" style=\"fill: none; stroke: #b0b0b0; stroke-width: 0.8; stroke-linecap: square\"/>\n     </g>\n     <g id=\"line2d_16\">\n      <g>\n       <use xlink:href=\"#m90f8ee4df8\" x=\"387.724716\" y=\"385.718125\" style=\"stroke: #000000; stroke-width: 0.8\"/>\n      </g>\n     </g>\n     <g id=\"text_8\">\n      <!-- 16 -->\n      <g transform=\"translate(381.362216 400.316562)scale(0.1 -0.1)\">\n       <use xlink:href=\"#DejaVuSans-31\"/>\n       <use xlink:href=\"#DejaVuSans-36\" x=\"63.623047\"/>\n      </g>\n     </g>\n    </g>\n    <g id=\"text_9\">\n     <!-- Epoch -->\n     <g transform=\"translate(211.660938 413.994687)scale(0.1 -0.1)\">\n      <defs>\n       <path id=\"DejaVuSans-45\" d=\"M 628 4666 \nL 3578 4666 \nL 3578 4134 \nL 1259 4134 \nL 1259 2753 \nL 3481 2753 \nL 3481 2222 \nL 1259 2222 \nL 1259 531 \nL 3634 531 \nL 3634 0 \nL 628 0 \nL 628 4666 \nz\n\" transform=\"scale(0.015625)\"/>\n       <path id=\"DejaVuSans-70\" d=\"M 1159 525 \nL 1159 -1331 \nL 581 -1331 \nL 581 3500 \nL 1159 3500 \nL 1159 2969 \nQ 1341 3281 1617 3432 \nQ 1894 3584 2278 3584 \nQ 2916 3584 3314 3078 \nQ 3713 2572 3713 1747 \nQ 3713 922 3314 415 \nQ 2916 -91 2278 -91 \nQ 1894 -91 1617 61 \nQ 1341 213 1159 525 \nz\nM 3116 1747 \nQ 3116 2381 2855 2742 \nQ 2594 3103 2138 3103 \nQ 1681 3103 1420 2742 \nQ 1159 2381 1159 1747 \nQ 1159 1113 1420 752 \nQ 1681 391 2138 391 \nQ 2594 391 2855 752 \nQ 3116 1113 3116 1747 \nz\n\" transform=\"scale(0.015625)\"/>\n       <path id=\"DejaVuSans-6f\" d=\"M 1959 3097 \nQ 1497 3097 1228 2736 \nQ 959 2375 959 1747 \nQ 959 1119 1226 758 \nQ 1494 397 1959 397 \nQ 2419 397 2687 759 \nQ 2956 1122 2956 1747 \nQ 2956 2369 2687 2733 \nQ 2419 3097 1959 3097 \nz\nM 1959 3584 \nQ 2709 3584 3137 3096 \nQ 3566 2609 3566 1747 \nQ 3566 888 3137 398 \nQ 2709 -91 1959 -91 \nQ 1206 -91 779 398 \nQ 353 888 353 1747 \nQ 353 2609 779 3096 \nQ 1206 3584 1959 3584 \nz\n\" transform=\"scale(0.015625)\"/>\n       <path id=\"DejaVuSans-63\" d=\"M 3122 3366 \nL 3122 2828 \nQ 2878 2963 2633 3030 \nQ 2388 3097 2138 3097 \nQ 1578 3097 1268 2742 \nQ 959 2388 959 1747 \nQ 959 1106 1268 751 \nQ 1578 397 2138 397 \nQ 2388 397 2633 464 \nQ 2878 531 3122 666 \nL 3122 134 \nQ 2881 22 2623 -34 \nQ 2366 -91 2075 -91 \nQ 1284 -91 818 406 \nQ 353 903 353 1747 \nQ 353 2603 823 3093 \nQ 1294 3584 2113 3584 \nQ 2378 3584 2631 3529 \nQ 2884 3475 3122 3366 \nz\n\" transform=\"scale(0.015625)\"/>\n       <path id=\"DejaVuSans-68\" d=\"M 3513 2113 \nL 3513 0 \nL 2938 0 \nL 2938 2094 \nQ 2938 2591 2744 2837 \nQ 2550 3084 2163 3084 \nQ 1697 3084 1428 2787 \nQ 1159 2491 1159 1978 \nL 1159 0 \nL 581 0 \nL 581 4863 \nL 1159 4863 \nL 1159 2956 \nQ 1366 3272 1645 3428 \nQ 1925 3584 2291 3584 \nQ 2894 3584 3203 3211 \nQ 3513 2838 3513 2113 \nz\n\" transform=\"scale(0.015625)\"/>\n      </defs>\n      <use xlink:href=\"#DejaVuSans-45\"/>\n      <use xlink:href=\"#DejaVuSans-70\" x=\"63.183594\"/>\n      <use xlink:href=\"#DejaVuSans-6f\" x=\"126.660156\"/>\n      <use xlink:href=\"#DejaVuSans-63\" x=\"187.841797\"/>\n      <use xlink:href=\"#DejaVuSans-68\" x=\"242.822266\"/>\n     </g>\n    </g>\n   </g>\n   <g id=\"matplotlib.axis_2\">\n    <g id=\"ytick_1\">\n     <g id=\"line2d_17\">\n      <path d=\"M 50.14375 360.902928 \nL 403.8 360.902928 \n\" clip-path=\"url(#p85c25f0b53)\" style=\"fill: none; stroke: #b0b0b0; stroke-width: 0.8; stroke-linecap: square\"/>\n     </g>\n     <g id=\"line2d_18\">\n      <defs>\n       <path id=\"m957cbb20a8\" d=\"M 0 0 \nL -3.5 0 \n\" style=\"stroke: #000000; stroke-width: 0.8\"/>\n      </defs>\n      <g>\n       <use xlink:href=\"#m957cbb20a8\" x=\"50.14375\" y=\"360.902928\" style=\"stroke: #000000; stroke-width: 0.8\"/>\n      </g>\n     </g>\n     <g id=\"text_10\">\n      <!-- 1.90 -->\n      <g transform=\"translate(20.878125 364.702147)scale(0.1 -0.1)\">\n       <defs>\n        <path id=\"DejaVuSans-2e\" d=\"M 684 794 \nL 1344 794 \nL 1344 0 \nL 684 0 \nL 684 794 \nz\n\" transform=\"scale(0.015625)\"/>\n        <path id=\"DejaVuSans-39\" d=\"M 703 97 \nL 703 672 \nQ 941 559 1184 500 \nQ 1428 441 1663 441 \nQ 2288 441 2617 861 \nQ 2947 1281 2994 2138 \nQ 2813 1869 2534 1725 \nQ 2256 1581 1919 1581 \nQ 1219 1581 811 2004 \nQ 403 2428 403 3163 \nQ 403 3881 828 4315 \nQ 1253 4750 1959 4750 \nQ 2769 4750 3195 4129 \nQ 3622 3509 3622 2328 \nQ 3622 1225 3098 567 \nQ 2575 -91 1691 -91 \nQ 1453 -91 1209 -44 \nQ 966 3 703 97 \nz\nM 1959 2075 \nQ 2384 2075 2632 2365 \nQ 2881 2656 2881 3163 \nQ 2881 3666 2632 3958 \nQ 2384 4250 1959 4250 \nQ 1534 4250 1286 3958 \nQ 1038 3666 1038 3163 \nQ 1038 2656 1286 2365 \nQ 1534 2075 1959 2075 \nz\n\" transform=\"scale(0.015625)\"/>\n       </defs>\n       <use xlink:href=\"#DejaVuSans-31\"/>\n       <use xlink:href=\"#DejaVuSans-2e\" x=\"63.623047\"/>\n       <use xlink:href=\"#DejaVuSans-39\" x=\"95.410156\"/>\n       <use xlink:href=\"#DejaVuSans-30\" x=\"159.033203\"/>\n      </g>\n     </g>\n    </g>\n    <g id=\"ytick_2\">\n     <g id=\"line2d_19\">\n      <path d=\"M 50.14375 285.970048 \nL 403.8 285.970048 \n\" clip-path=\"url(#p85c25f0b53)\" style=\"fill: none; stroke: #b0b0b0; stroke-width: 0.8; stroke-linecap: square\"/>\n     </g>\n     <g id=\"line2d_20\">\n      <g>\n       <use xlink:href=\"#m957cbb20a8\" x=\"50.14375\" y=\"285.970048\" style=\"stroke: #000000; stroke-width: 0.8\"/>\n      </g>\n     </g>\n     <g id=\"text_11\">\n      <!-- 1.95 -->\n      <g transform=\"translate(20.878125 289.769266)scale(0.1 -0.1)\">\n       <defs>\n        <path id=\"DejaVuSans-35\" d=\"M 691 4666 \nL 3169 4666 \nL 3169 4134 \nL 1269 4134 \nL 1269 2991 \nQ 1406 3038 1543 3061 \nQ 1681 3084 1819 3084 \nQ 2600 3084 3056 2656 \nQ 3513 2228 3513 1497 \nQ 3513 744 3044 326 \nQ 2575 -91 1722 -91 \nQ 1428 -91 1123 -41 \nQ 819 9 494 109 \nL 494 744 \nQ 775 591 1075 516 \nQ 1375 441 1709 441 \nQ 2250 441 2565 725 \nQ 2881 1009 2881 1497 \nQ 2881 1984 2565 2268 \nQ 2250 2553 1709 2553 \nQ 1456 2553 1204 2497 \nQ 953 2441 691 2322 \nL 691 4666 \nz\n\" transform=\"scale(0.015625)\"/>\n       </defs>\n       <use xlink:href=\"#DejaVuSans-31\"/>\n       <use xlink:href=\"#DejaVuSans-2e\" x=\"63.623047\"/>\n       <use xlink:href=\"#DejaVuSans-39\" x=\"95.410156\"/>\n       <use xlink:href=\"#DejaVuSans-35\" x=\"159.033203\"/>\n      </g>\n     </g>\n    </g>\n    <g id=\"ytick_3\">\n     <g id=\"line2d_21\">\n      <path d=\"M 50.14375 211.037167 \nL 403.8 211.037167 \n\" clip-path=\"url(#p85c25f0b53)\" style=\"fill: none; stroke: #b0b0b0; stroke-width: 0.8; stroke-linecap: square\"/>\n     </g>\n     <g id=\"line2d_22\">\n      <g>\n       <use xlink:href=\"#m957cbb20a8\" x=\"50.14375\" y=\"211.037167\" style=\"stroke: #000000; stroke-width: 0.8\"/>\n      </g>\n     </g>\n     <g id=\"text_12\">\n      <!-- 2.00 -->\n      <g transform=\"translate(20.878125 214.836386)scale(0.1 -0.1)\">\n       <use xlink:href=\"#DejaVuSans-32\"/>\n       <use xlink:href=\"#DejaVuSans-2e\" x=\"63.623047\"/>\n       <use xlink:href=\"#DejaVuSans-30\" x=\"95.410156\"/>\n       <use xlink:href=\"#DejaVuSans-30\" x=\"159.033203\"/>\n      </g>\n     </g>\n    </g>\n    <g id=\"ytick_4\">\n     <g id=\"line2d_23\">\n      <path d=\"M 50.14375 136.104286 \nL 403.8 136.104286 \n\" clip-path=\"url(#p85c25f0b53)\" style=\"fill: none; stroke: #b0b0b0; stroke-width: 0.8; stroke-linecap: square\"/>\n     </g>\n     <g id=\"line2d_24\">\n      <g>\n       <use xlink:href=\"#m957cbb20a8\" x=\"50.14375\" y=\"136.104286\" style=\"stroke: #000000; stroke-width: 0.8\"/>\n      </g>\n     </g>\n     <g id=\"text_13\">\n      <!-- 2.05 -->\n      <g transform=\"translate(20.878125 139.903505)scale(0.1 -0.1)\">\n       <use xlink:href=\"#DejaVuSans-32\"/>\n       <use xlink:href=\"#DejaVuSans-2e\" x=\"63.623047\"/>\n       <use xlink:href=\"#DejaVuSans-30\" x=\"95.410156\"/>\n       <use xlink:href=\"#DejaVuSans-35\" x=\"159.033203\"/>\n      </g>\n     </g>\n    </g>\n    <g id=\"ytick_5\">\n     <g id=\"line2d_25\">\n      <path d=\"M 50.14375 61.171405 \nL 403.8 61.171405 \n\" clip-path=\"url(#p85c25f0b53)\" style=\"fill: none; stroke: #b0b0b0; stroke-width: 0.8; stroke-linecap: square\"/>\n     </g>\n     <g id=\"line2d_26\">\n      <g>\n       <use xlink:href=\"#m957cbb20a8\" x=\"50.14375\" y=\"61.171405\" style=\"stroke: #000000; stroke-width: 0.8\"/>\n      </g>\n     </g>\n     <g id=\"text_14\">\n      <!-- 2.10 -->\n      <g transform=\"translate(20.878125 64.970624)scale(0.1 -0.1)\">\n       <use xlink:href=\"#DejaVuSans-32\"/>\n       <use xlink:href=\"#DejaVuSans-2e\" x=\"63.623047\"/>\n       <use xlink:href=\"#DejaVuSans-31\" x=\"95.410156\"/>\n       <use xlink:href=\"#DejaVuSans-30\" x=\"159.033203\"/>\n      </g>\n     </g>\n    </g>\n    <g id=\"text_15\">\n     <!-- Loss -->\n     <g transform=\"translate(14.798438 214.985312)rotate(-90)scale(0.1 -0.1)\">\n      <defs>\n       <path id=\"DejaVuSans-4c\" d=\"M 628 4666 \nL 1259 4666 \nL 1259 531 \nL 3531 531 \nL 3531 0 \nL 628 0 \nL 628 4666 \nz\n\" transform=\"scale(0.015625)\"/>\n       <path id=\"DejaVuSans-73\" d=\"M 2834 3397 \nL 2834 2853 \nQ 2591 2978 2328 3040 \nQ 2066 3103 1784 3103 \nQ 1356 3103 1142 2972 \nQ 928 2841 928 2578 \nQ 928 2378 1081 2264 \nQ 1234 2150 1697 2047 \nL 1894 2003 \nQ 2506 1872 2764 1633 \nQ 3022 1394 3022 966 \nQ 3022 478 2636 193 \nQ 2250 -91 1575 -91 \nQ 1294 -91 989 -36 \nQ 684 19 347 128 \nL 347 722 \nQ 666 556 975 473 \nQ 1284 391 1588 391 \nQ 1994 391 2212 530 \nQ 2431 669 2431 922 \nQ 2431 1156 2273 1281 \nQ 2116 1406 1581 1522 \nL 1381 1569 \nQ 847 1681 609 1914 \nQ 372 2147 372 2553 \nQ 372 3047 722 3315 \nQ 1072 3584 1716 3584 \nQ 2034 3584 2315 3537 \nQ 2597 3491 2834 3397 \nz\n\" transform=\"scale(0.015625)\"/>\n      </defs>\n      <use xlink:href=\"#DejaVuSans-4c\"/>\n      <use xlink:href=\"#DejaVuSans-6f\" x=\"53.962891\"/>\n      <use xlink:href=\"#DejaVuSans-73\" x=\"115.144531\"/>\n      <use xlink:href=\"#DejaVuSans-73\" x=\"167.244141\"/>\n     </g>\n    </g>\n   </g>\n   <g id=\"line2d_27\">\n    <path d=\"M 66.219034 38.836307 \nL 87.652746 111.585773 \nL 109.086458 142.288678 \nL 130.52017 168.116567 \nL 151.953883 195.990579 \nL 173.387595 229.814818 \nL 194.821307 264.423846 \nL 216.255019 299.494069 \nL 237.688731 311.388172 \nL 259.122443 319.265557 \nL 280.556155 327.333413 \nL 301.989867 341.205978 \nL 323.42358 356.459292 \nL 344.857292 365.662191 \nL 366.291004 367.772579 \nL 387.724716 369.199943 \n\" clip-path=\"url(#p85c25f0b53)\" style=\"fill: none; stroke: #0000ff; stroke-width: 1.5; stroke-linecap: square\"/>\n    <defs>\n     <path id=\"m14c008fab6\" d=\"M 0 3 \nC 0.795609 3 1.55874 2.683901 2.12132 2.12132 \nC 2.683901 1.55874 3 0.795609 3 0 \nC 3 -0.795609 2.683901 -1.55874 2.12132 -2.12132 \nC 1.55874 -2.683901 0.795609 -3 0 -3 \nC -0.795609 -3 -1.55874 -2.683901 -2.12132 -2.12132 \nC -2.683901 -1.55874 -3 -0.795609 -3 0 \nC -3 0.795609 -2.683901 1.55874 -2.12132 2.12132 \nC -1.55874 2.683901 -0.795609 3 0 3 \nz\n\" style=\"stroke: #0000ff\"/>\n    </defs>\n    <g clip-path=\"url(#p85c25f0b53)\">\n     <use xlink:href=\"#m14c008fab6\" x=\"66.219034\" y=\"38.836307\" style=\"fill: #0000ff; stroke: #0000ff\"/>\n     <use xlink:href=\"#m14c008fab6\" x=\"87.652746\" y=\"111.585773\" style=\"fill: #0000ff; stroke: #0000ff\"/>\n     <use xlink:href=\"#m14c008fab6\" x=\"109.086458\" y=\"142.288678\" style=\"fill: #0000ff; stroke: #0000ff\"/>\n     <use xlink:href=\"#m14c008fab6\" x=\"130.52017\" y=\"168.116567\" style=\"fill: #0000ff; stroke: #0000ff\"/>\n     <use xlink:href=\"#m14c008fab6\" x=\"151.953883\" y=\"195.990579\" style=\"fill: #0000ff; stroke: #0000ff\"/>\n     <use xlink:href=\"#m14c008fab6\" x=\"173.387595\" y=\"229.814818\" style=\"fill: #0000ff; stroke: #0000ff\"/>\n     <use xlink:href=\"#m14c008fab6\" x=\"194.821307\" y=\"264.423846\" style=\"fill: #0000ff; stroke: #0000ff\"/>\n     <use xlink:href=\"#m14c008fab6\" x=\"216.255019\" y=\"299.494069\" style=\"fill: #0000ff; stroke: #0000ff\"/>\n     <use xlink:href=\"#m14c008fab6\" x=\"237.688731\" y=\"311.388172\" style=\"fill: #0000ff; stroke: #0000ff\"/>\n     <use xlink:href=\"#m14c008fab6\" x=\"259.122443\" y=\"319.265557\" style=\"fill: #0000ff; stroke: #0000ff\"/>\n     <use xlink:href=\"#m14c008fab6\" x=\"280.556155\" y=\"327.333413\" style=\"fill: #0000ff; stroke: #0000ff\"/>\n     <use xlink:href=\"#m14c008fab6\" x=\"301.989867\" y=\"341.205978\" style=\"fill: #0000ff; stroke: #0000ff\"/>\n     <use xlink:href=\"#m14c008fab6\" x=\"323.42358\" y=\"356.459292\" style=\"fill: #0000ff; stroke: #0000ff\"/>\n     <use xlink:href=\"#m14c008fab6\" x=\"344.857292\" y=\"365.662191\" style=\"fill: #0000ff; stroke: #0000ff\"/>\n     <use xlink:href=\"#m14c008fab6\" x=\"366.291004\" y=\"367.772579\" style=\"fill: #0000ff; stroke: #0000ff\"/>\n     <use xlink:href=\"#m14c008fab6\" x=\"387.724716\" y=\"369.199943\" style=\"fill: #0000ff; stroke: #0000ff\"/>\n    </g>\n   </g>\n   <g id=\"line2d_28\">\n    <path d=\"M 66.219034 94.082155 \nL 87.652746 149.410088 \nL 109.086458 156.519717 \nL 130.52017 163.613184 \nL 151.953883 174.932449 \nL 173.387595 201.45703 \nL 194.821307 205.114858 \nL 216.255019 205.791022 \nL 237.688731 208.755056 \nL 259.122443 205.800353 \nL 280.556155 192.31535 \nL 301.989867 198.723707 \nL 323.42358 202.951263 \nL 344.857292 197.390633 \nL 366.291004 197.304838 \nL 387.724716 198.001684 \n\" clip-path=\"url(#p85c25f0b53)\" style=\"fill: none; stroke: #ff0000; stroke-width: 1.5; stroke-linecap: square\"/>\n    <defs>\n     <path id=\"m0f9554ed6c\" d=\"M 0 3 \nC 0.795609 3 1.55874 2.683901 2.12132 2.12132 \nC 2.683901 1.55874 3 0.795609 3 0 \nC 3 -0.795609 2.683901 -1.55874 2.12132 -2.12132 \nC 1.55874 -2.683901 0.795609 -3 0 -3 \nC -0.795609 -3 -1.55874 -2.683901 -2.12132 -2.12132 \nC -2.683901 -1.55874 -3 -0.795609 -3 0 \nC -3 0.795609 -2.683901 1.55874 -2.12132 2.12132 \nC -1.55874 2.683901 -0.795609 3 0 3 \nz\n\" style=\"stroke: #ff0000\"/>\n    </defs>\n    <g clip-path=\"url(#p85c25f0b53)\">\n     <use xlink:href=\"#m0f9554ed6c\" x=\"66.219034\" y=\"94.082155\" style=\"fill: #ff0000; stroke: #ff0000\"/>\n     <use xlink:href=\"#m0f9554ed6c\" x=\"87.652746\" y=\"149.410088\" style=\"fill: #ff0000; stroke: #ff0000\"/>\n     <use xlink:href=\"#m0f9554ed6c\" x=\"109.086458\" y=\"156.519717\" style=\"fill: #ff0000; stroke: #ff0000\"/>\n     <use xlink:href=\"#m0f9554ed6c\" x=\"130.52017\" y=\"163.613184\" style=\"fill: #ff0000; stroke: #ff0000\"/>\n     <use xlink:href=\"#m0f9554ed6c\" x=\"151.953883\" y=\"174.932449\" style=\"fill: #ff0000; stroke: #ff0000\"/>\n     <use xlink:href=\"#m0f9554ed6c\" x=\"173.387595\" y=\"201.45703\" style=\"fill: #ff0000; stroke: #ff0000\"/>\n     <use xlink:href=\"#m0f9554ed6c\" x=\"194.821307\" y=\"205.114858\" style=\"fill: #ff0000; stroke: #ff0000\"/>\n     <use xlink:href=\"#m0f9554ed6c\" x=\"216.255019\" y=\"205.791022\" style=\"fill: #ff0000; stroke: #ff0000\"/>\n     <use xlink:href=\"#m0f9554ed6c\" x=\"237.688731\" y=\"208.755056\" style=\"fill: #ff0000; stroke: #ff0000\"/>\n     <use xlink:href=\"#m0f9554ed6c\" x=\"259.122443\" y=\"205.800353\" style=\"fill: #ff0000; stroke: #ff0000\"/>\n     <use xlink:href=\"#m0f9554ed6c\" x=\"280.556155\" y=\"192.31535\" style=\"fill: #ff0000; stroke: #ff0000\"/>\n     <use xlink:href=\"#m0f9554ed6c\" x=\"301.989867\" y=\"198.723707\" style=\"fill: #ff0000; stroke: #ff0000\"/>\n     <use xlink:href=\"#m0f9554ed6c\" x=\"323.42358\" y=\"202.951263\" style=\"fill: #ff0000; stroke: #ff0000\"/>\n     <use xlink:href=\"#m0f9554ed6c\" x=\"344.857292\" y=\"197.390633\" style=\"fill: #ff0000; stroke: #ff0000\"/>\n     <use xlink:href=\"#m0f9554ed6c\" x=\"366.291004\" y=\"197.304838\" style=\"fill: #ff0000; stroke: #ff0000\"/>\n     <use xlink:href=\"#m0f9554ed6c\" x=\"387.724716\" y=\"198.001684\" style=\"fill: #ff0000; stroke: #ff0000\"/>\n    </g>\n   </g>\n   <g id=\"patch_3\">\n    <path d=\"M 50.14375 385.718125 \nL 50.14375 22.318125 \n\" style=\"fill: none; stroke: #000000; stroke-width: 0.8; stroke-linejoin: miter; stroke-linecap: square\"/>\n   </g>\n   <g id=\"patch_4\">\n    <path d=\"M 403.8 385.718125 \nL 403.8 22.318125 \n\" style=\"fill: none; stroke: #000000; stroke-width: 0.8; stroke-linejoin: miter; stroke-linecap: square\"/>\n   </g>\n   <g id=\"patch_5\">\n    <path d=\"M 50.14375 385.718125 \nL 403.8 385.718125 \n\" style=\"fill: none; stroke: #000000; stroke-width: 0.8; stroke-linejoin: miter; stroke-linecap: square\"/>\n   </g>\n   <g id=\"patch_6\">\n    <path d=\"M 50.14375 22.318125 \nL 403.8 22.318125 \n\" style=\"fill: none; stroke: #000000; stroke-width: 0.8; stroke-linejoin: miter; stroke-linecap: square\"/>\n   </g>\n   <g id=\"text_16\">\n    <!-- Loss Curves -->\n    <g transform=\"translate(191.076875 16.318125)scale(0.12 -0.12)\">\n     <defs>\n      <path id=\"DejaVuSans-20\" transform=\"scale(0.015625)\"/>\n      <path id=\"DejaVuSans-43\" d=\"M 4122 4306 \nL 4122 3641 \nQ 3803 3938 3442 4084 \nQ 3081 4231 2675 4231 \nQ 1875 4231 1450 3742 \nQ 1025 3253 1025 2328 \nQ 1025 1406 1450 917 \nQ 1875 428 2675 428 \nQ 3081 428 3442 575 \nQ 3803 722 4122 1019 \nL 4122 359 \nQ 3791 134 3420 21 \nQ 3050 -91 2638 -91 \nQ 1578 -91 968 557 \nQ 359 1206 359 2328 \nQ 359 3453 968 4101 \nQ 1578 4750 2638 4750 \nQ 3056 4750 3426 4639 \nQ 3797 4528 4122 4306 \nz\n\" transform=\"scale(0.015625)\"/>\n      <path id=\"DejaVuSans-75\" d=\"M 544 1381 \nL 544 3500 \nL 1119 3500 \nL 1119 1403 \nQ 1119 906 1312 657 \nQ 1506 409 1894 409 \nQ 2359 409 2629 706 \nQ 2900 1003 2900 1516 \nL 2900 3500 \nL 3475 3500 \nL 3475 0 \nL 2900 0 \nL 2900 538 \nQ 2691 219 2414 64 \nQ 2138 -91 1772 -91 \nQ 1169 -91 856 284 \nQ 544 659 544 1381 \nz\nM 1991 3584 \nL 1991 3584 \nz\n\" transform=\"scale(0.015625)\"/>\n      <path id=\"DejaVuSans-72\" d=\"M 2631 2963 \nQ 2534 3019 2420 3045 \nQ 2306 3072 2169 3072 \nQ 1681 3072 1420 2755 \nQ 1159 2438 1159 1844 \nL 1159 0 \nL 581 0 \nL 581 3500 \nL 1159 3500 \nL 1159 2956 \nQ 1341 3275 1631 3429 \nQ 1922 3584 2338 3584 \nQ 2397 3584 2469 3576 \nQ 2541 3569 2628 3553 \nL 2631 2963 \nz\n\" transform=\"scale(0.015625)\"/>\n      <path id=\"DejaVuSans-76\" d=\"M 191 3500 \nL 800 3500 \nL 1894 563 \nL 2988 3500 \nL 3597 3500 \nL 2284 0 \nL 1503 0 \nL 191 3500 \nz\n\" transform=\"scale(0.015625)\"/>\n      <path id=\"DejaVuSans-65\" d=\"M 3597 1894 \nL 3597 1613 \nL 953 1613 \nQ 991 1019 1311 708 \nQ 1631 397 2203 397 \nQ 2534 397 2845 478 \nQ 3156 559 3463 722 \nL 3463 178 \nQ 3153 47 2828 -22 \nQ 2503 -91 2169 -91 \nQ 1331 -91 842 396 \nQ 353 884 353 1716 \nQ 353 2575 817 3079 \nQ 1281 3584 2069 3584 \nQ 2775 3584 3186 3129 \nQ 3597 2675 3597 1894 \nz\nM 3022 2063 \nQ 3016 2534 2758 2815 \nQ 2500 3097 2075 3097 \nQ 1594 3097 1305 2825 \nQ 1016 2553 972 2059 \nL 3022 2063 \nz\n\" transform=\"scale(0.015625)\"/>\n     </defs>\n     <use xlink:href=\"#DejaVuSans-4c\"/>\n     <use xlink:href=\"#DejaVuSans-6f\" x=\"53.962891\"/>\n     <use xlink:href=\"#DejaVuSans-73\" x=\"115.144531\"/>\n     <use xlink:href=\"#DejaVuSans-73\" x=\"167.244141\"/>\n     <use xlink:href=\"#DejaVuSans-20\" x=\"219.34375\"/>\n     <use xlink:href=\"#DejaVuSans-43\" x=\"251.130859\"/>\n     <use xlink:href=\"#DejaVuSans-75\" x=\"320.955078\"/>\n     <use xlink:href=\"#DejaVuSans-72\" x=\"384.333984\"/>\n     <use xlink:href=\"#DejaVuSans-76\" x=\"425.447266\"/>\n     <use xlink:href=\"#DejaVuSans-65\" x=\"484.626953\"/>\n     <use xlink:href=\"#DejaVuSans-73\" x=\"546.150391\"/>\n    </g>\n   </g>\n   <g id=\"legend_1\">\n    <g id=\"patch_7\">\n     <path d=\"M 263.775 59.674375 \nL 396.8 59.674375 \nQ 398.8 59.674375 398.8 57.674375 \nL 398.8 29.318125 \nQ 398.8 27.318125 396.8 27.318125 \nL 263.775 27.318125 \nQ 261.775 27.318125 261.775 29.318125 \nL 261.775 57.674375 \nQ 261.775 59.674375 263.775 59.674375 \nz\n\" style=\"fill: #ffffff; opacity: 0.8; stroke: #cccccc; stroke-linejoin: miter\"/>\n    </g>\n    <g id=\"line2d_29\">\n     <path d=\"M 265.775 35.416562 \nL 275.775 35.416562 \nL 285.775 35.416562 \n\" style=\"fill: none; stroke: #0000ff; stroke-width: 1.5; stroke-linecap: square\"/>\n     <g>\n      <use xlink:href=\"#m14c008fab6\" x=\"275.775\" y=\"35.416562\" style=\"fill: #0000ff; stroke: #0000ff\"/>\n     </g>\n    </g>\n    <g id=\"text_17\">\n     <!-- Total Train Loss -->\n     <g transform=\"translate(293.775 38.916562)scale(0.1 -0.1)\">\n      <defs>\n       <path id=\"DejaVuSans-54\" d=\"M -19 4666 \nL 3928 4666 \nL 3928 4134 \nL 2272 4134 \nL 2272 0 \nL 1638 0 \nL 1638 4134 \nL -19 4134 \nL -19 4666 \nz\n\" transform=\"scale(0.015625)\"/>\n       <path id=\"DejaVuSans-74\" d=\"M 1172 4494 \nL 1172 3500 \nL 2356 3500 \nL 2356 3053 \nL 1172 3053 \nL 1172 1153 \nQ 1172 725 1289 603 \nQ 1406 481 1766 481 \nL 2356 481 \nL 2356 0 \nL 1766 0 \nQ 1100 0 847 248 \nQ 594 497 594 1153 \nL 594 3053 \nL 172 3053 \nL 172 3500 \nL 594 3500 \nL 594 4494 \nL 1172 4494 \nz\n\" transform=\"scale(0.015625)\"/>\n       <path id=\"DejaVuSans-61\" d=\"M 2194 1759 \nQ 1497 1759 1228 1600 \nQ 959 1441 959 1056 \nQ 959 750 1161 570 \nQ 1363 391 1709 391 \nQ 2188 391 2477 730 \nQ 2766 1069 2766 1631 \nL 2766 1759 \nL 2194 1759 \nz\nM 3341 1997 \nL 3341 0 \nL 2766 0 \nL 2766 531 \nQ 2569 213 2275 61 \nQ 1981 -91 1556 -91 \nQ 1019 -91 701 211 \nQ 384 513 384 1019 \nQ 384 1609 779 1909 \nQ 1175 2209 1959 2209 \nL 2766 2209 \nL 2766 2266 \nQ 2766 2663 2505 2880 \nQ 2244 3097 1772 3097 \nQ 1472 3097 1187 3025 \nQ 903 2953 641 2809 \nL 641 3341 \nQ 956 3463 1253 3523 \nQ 1550 3584 1831 3584 \nQ 2591 3584 2966 3190 \nQ 3341 2797 3341 1997 \nz\n\" transform=\"scale(0.015625)\"/>\n       <path id=\"DejaVuSans-6c\" d=\"M 603 4863 \nL 1178 4863 \nL 1178 0 \nL 603 0 \nL 603 4863 \nz\n\" transform=\"scale(0.015625)\"/>\n       <path id=\"DejaVuSans-69\" d=\"M 603 3500 \nL 1178 3500 \nL 1178 0 \nL 603 0 \nL 603 3500 \nz\nM 603 4863 \nL 1178 4863 \nL 1178 4134 \nL 603 4134 \nL 603 4863 \nz\n\" transform=\"scale(0.015625)\"/>\n       <path id=\"DejaVuSans-6e\" d=\"M 3513 2113 \nL 3513 0 \nL 2938 0 \nL 2938 2094 \nQ 2938 2591 2744 2837 \nQ 2550 3084 2163 3084 \nQ 1697 3084 1428 2787 \nQ 1159 2491 1159 1978 \nL 1159 0 \nL 581 0 \nL 581 3500 \nL 1159 3500 \nL 1159 2956 \nQ 1366 3272 1645 3428 \nQ 1925 3584 2291 3584 \nQ 2894 3584 3203 3211 \nQ 3513 2838 3513 2113 \nz\n\" transform=\"scale(0.015625)\"/>\n      </defs>\n      <use xlink:href=\"#DejaVuSans-54\"/>\n      <use xlink:href=\"#DejaVuSans-6f\" x=\"44.083984\"/>\n      <use xlink:href=\"#DejaVuSans-74\" x=\"105.265625\"/>\n      <use xlink:href=\"#DejaVuSans-61\" x=\"144.474609\"/>\n      <use xlink:href=\"#DejaVuSans-6c\" x=\"205.753906\"/>\n      <use xlink:href=\"#DejaVuSans-20\" x=\"233.537109\"/>\n      <use xlink:href=\"#DejaVuSans-54\" x=\"265.324219\"/>\n      <use xlink:href=\"#DejaVuSans-72\" x=\"311.658203\"/>\n      <use xlink:href=\"#DejaVuSans-61\" x=\"352.771484\"/>\n      <use xlink:href=\"#DejaVuSans-69\" x=\"414.050781\"/>\n      <use xlink:href=\"#DejaVuSans-6e\" x=\"441.833984\"/>\n      <use xlink:href=\"#DejaVuSans-20\" x=\"505.212891\"/>\n      <use xlink:href=\"#DejaVuSans-4c\" x=\"537\"/>\n      <use xlink:href=\"#DejaVuSans-6f\" x=\"590.962891\"/>\n      <use xlink:href=\"#DejaVuSans-73\" x=\"652.144531\"/>\n      <use xlink:href=\"#DejaVuSans-73\" x=\"704.244141\"/>\n     </g>\n    </g>\n    <g id=\"line2d_30\">\n     <path d=\"M 265.775 50.094687 \nL 275.775 50.094687 \nL 285.775 50.094687 \n\" style=\"fill: none; stroke: #ff0000; stroke-width: 1.5; stroke-linecap: square\"/>\n     <g>\n      <use xlink:href=\"#m0f9554ed6c\" x=\"275.775\" y=\"50.094687\" style=\"fill: #ff0000; stroke: #ff0000\"/>\n     </g>\n    </g>\n    <g id=\"text_18\">\n     <!-- Total Validation Loss -->\n     <g transform=\"translate(293.775 53.594687)scale(0.1 -0.1)\">\n      <defs>\n       <path id=\"DejaVuSans-56\" d=\"M 1831 0 \nL 50 4666 \nL 709 4666 \nL 2188 738 \nL 3669 4666 \nL 4325 4666 \nL 2547 0 \nL 1831 0 \nz\n\" transform=\"scale(0.015625)\"/>\n       <path id=\"DejaVuSans-64\" d=\"M 2906 2969 \nL 2906 4863 \nL 3481 4863 \nL 3481 0 \nL 2906 0 \nL 2906 525 \nQ 2725 213 2448 61 \nQ 2172 -91 1784 -91 \nQ 1150 -91 751 415 \nQ 353 922 353 1747 \nQ 353 2572 751 3078 \nQ 1150 3584 1784 3584 \nQ 2172 3584 2448 3432 \nQ 2725 3281 2906 2969 \nz\nM 947 1747 \nQ 947 1113 1208 752 \nQ 1469 391 1925 391 \nQ 2381 391 2643 752 \nQ 2906 1113 2906 1747 \nQ 2906 2381 2643 2742 \nQ 2381 3103 1925 3103 \nQ 1469 3103 1208 2742 \nQ 947 2381 947 1747 \nz\n\" transform=\"scale(0.015625)\"/>\n      </defs>\n      <use xlink:href=\"#DejaVuSans-54\"/>\n      <use xlink:href=\"#DejaVuSans-6f\" x=\"44.083984\"/>\n      <use xlink:href=\"#DejaVuSans-74\" x=\"105.265625\"/>\n      <use xlink:href=\"#DejaVuSans-61\" x=\"144.474609\"/>\n      <use xlink:href=\"#DejaVuSans-6c\" x=\"205.753906\"/>\n      <use xlink:href=\"#DejaVuSans-20\" x=\"233.537109\"/>\n      <use xlink:href=\"#DejaVuSans-56\" x=\"265.324219\"/>\n      <use xlink:href=\"#DejaVuSans-61\" x=\"325.982422\"/>\n      <use xlink:href=\"#DejaVuSans-6c\" x=\"387.261719\"/>\n      <use xlink:href=\"#DejaVuSans-69\" x=\"415.044922\"/>\n      <use xlink:href=\"#DejaVuSans-64\" x=\"442.828125\"/>\n      <use xlink:href=\"#DejaVuSans-61\" x=\"506.304688\"/>\n      <use xlink:href=\"#DejaVuSans-74\" x=\"567.583984\"/>\n      <use xlink:href=\"#DejaVuSans-69\" x=\"606.792969\"/>\n      <use xlink:href=\"#DejaVuSans-6f\" x=\"634.576172\"/>\n      <use xlink:href=\"#DejaVuSans-6e\" x=\"695.757812\"/>\n      <use xlink:href=\"#DejaVuSans-20\" x=\"759.136719\"/>\n      <use xlink:href=\"#DejaVuSans-4c\" x=\"790.923828\"/>\n      <use xlink:href=\"#DejaVuSans-6f\" x=\"844.886719\"/>\n      <use xlink:href=\"#DejaVuSans-73\" x=\"906.068359\"/>\n      <use xlink:href=\"#DejaVuSans-73\" x=\"958.167969\"/>\n     </g>\n    </g>\n   </g>\n  </g>\n </g>\n <defs>\n  <clipPath id=\"p85c25f0b53\">\n   <rect x=\"50.14375\" y=\"22.318125\" width=\"353.65625\" height=\"363.4\"/>\n  </clipPath>\n </defs>\n</svg>\n"
     },
     "metadata": {
      "needs_background": "light"
     },
     "output_type": "display_data"
    }
   ],
   "source": [
    "plt.figure(figsize=(21, 6))\n",
    "\n",
    "complete_epochs = len(train_loss_history)+1\n",
    "plt.subplot(1, 4, 1)\n",
    "plt.plot(range(1, complete_epochs), train_loss_history, label='Total Train Loss', marker='o', color='b')\n",
    "plt.plot(range(1, complete_epochs), val_loss_history,  label='Total Validation Loss',  marker='o', color='r')\n",
    "plt.title('Loss Curves')\n",
    "plt.xlabel('Epoch')\n",
    "plt.ylabel('Loss')\n",
    "plt.legend()\n",
    "plt.grid()\n",
    "plt.tight_layout()\n",
    "plt.show()"
   ],
   "metadata": {
    "collapsed": false,
    "pycharm": {
     "name": "#%%\n"
    }
   }
  },
  {
   "cell_type": "markdown",
   "source": [
    "To complete after the model is able to predict horizon labels"
   ],
   "metadata": {
    "collapsed": false
   }
  },
  {
   "cell_type": "code",
   "execution_count": null,
   "outputs": [],
   "source": [
    "model.eval()  # Setze das Modell in den Evaluierungsmodus\n",
    "with torch.no_grad():\n",
    "    outputs = []\n",
    "    val_loader_tqdm = tqdm(val_loader, desc=\"Evaluating\", leave=False)\n",
    "    for batch in val_loader_tqdm:\n",
    "        images, tabular_features, labels = batch\n",
    "        images, tabular_features, labels = images.to(device), tabular_features.to(device), labels.to(device)\n",
    "        outputs.append(model(image=images, tabular_features=tabular_features))"
   ],
   "metadata": {
    "collapsed": false,
    "pycharm": {
     "name": "#%%\n"
    }
   }
  },
  {
   "cell_type": "code",
   "execution_count": null,
   "outputs": [],
   "source": [
    "from sklearn.metrics import classification_report, confusion_matrix\n",
    "\n",
    "# Convert outputs to predicted labels (adjust based on your model's output format)\n",
    "predicted_probs, predicted_labels = [], []\n",
    "for output in outputs:\n",
    "\n",
    "    predicted_labels.extend(torch.argmax(output, dim=1).tolist())\n",
    "    predicted_probs.extend(torch.softmax(output, dim=1).cpu().numpy()) # Convert logits to probabilities\n",
    "\n",
    "# Convert true labels to a list\n",
    "true_labels = [label.item() for batch in val_loader for label in batch[2]]\n",
    "\n",
    "# Calculate metrics\n",
    "report = classification_report(true_labels, predicted_labels)\n",
    "print(report)"
   ],
   "metadata": {
    "collapsed": false,
    "pycharm": {
     "name": "#%%\n"
    }
   }
  },
  {
   "cell_type": "code",
   "execution_count": null,
   "outputs": [],
   "source": [
    "# Compute PR curve for each class\n",
    "from sklearn.metrics import precision_recall_curve, average_precision_score\n",
    "from sklearn.preprocessing import label_binarize\n",
    "\n",
    "predicted_probs = np.array(predicted_probs)\n",
    "true_labels = np.array(true_labels)\n",
    "n_classes = predicted_probs.shape[1]\n",
    "precision, recall, avg_precision = {}, {}, {}\n",
    "# Binarize the labels (one-hot encoding for multiclass)\n",
    "true_labels_binarized = label_binarize(true_labels, classes=np.arange(n_classes))\n",
    "\n",
    "for i in range(n_classes):\n",
    "    precision[i], recall[i], _ = precision_recall_curve(true_labels_binarized[:, i], predicted_probs[:, i])\n",
    "    avg_precision[i] = average_precision_score(true_labels_binarized[:, i], predicted_probs[:, i])\n",
    "\n",
    "# Compute macro-average PR curve\n",
    "precision[\"macro\"], recall[\"macro\"], _ = precision_recall_curve(true_labels_binarized.ravel(), predicted_probs.ravel())\n",
    "avg_precision[\"macro\"] = average_precision_score(true_labels_binarized, predicted_probs, average=\"macro\")"
   ],
   "metadata": {
    "collapsed": false,
    "pycharm": {
     "name": "#%%\n"
    }
   }
  },
  {
   "cell_type": "code",
   "execution_count": null,
   "outputs": [],
   "source": [
    "plt.figure(figsize=(10, 8))\n",
    "\n",
    "# Plot PR curves for each class\n",
    "for i in range(n_classes):\n",
    "    plt.plot(recall[i], precision[i], lw=2, label=f'Class {i} (AP = {avg_precision[i]:.2f})')\n",
    "\n",
    "# Plot macro-average PR curve\n",
    "plt.plot(recall[\"macro\"], precision[\"macro\"], linestyle='--', lw=2, color='black',\n",
    "         label=f'Macro-average (AP = {avg_precision[\"macro\"]:.2f})')\n",
    "\n",
    "plt.xlabel('Recall')\n",
    "plt.ylabel('Precision')\n",
    "plt.title('Precision-Recall Curves')\n",
    "plt.legend(loc='upper right')\n",
    "plt.grid()\n",
    "plt.show()"
   ],
   "metadata": {
    "collapsed": false,
    "pycharm": {
     "name": "#%%\n"
    }
   }
  },
  {
   "cell_type": "code",
   "execution_count": null,
   "outputs": [],
   "source": [
    "cm = confusion_matrix(true_labels, predicted_labels)\n",
    "\n",
    "plt.figure(figsize=(10, 7))\n",
    "sns.heatmap(cm, annot=True, fmt=\"d\", cmap=\"Blues\")\n",
    "plt.xlabel(\"Predicted Label\")\n",
    "plt.ylabel(\"True Label\")\n",
    "plt.title(\"Confusion Matrix\")\n",
    "plt.show()"
   ],
   "metadata": {
    "collapsed": false,
    "pycharm": {
     "name": "#%%\n"
    }
   }
  }
 ],
 "metadata": {
  "kernelspec": {
   "name": "sam",
   "language": "python",
   "display_name": "sam"
  },
  "language_info": {
   "codemirror_mode": {
    "name": "ipython",
    "version": 3
   },
   "file_extension": ".py",
   "mimetype": "text/x-python",
   "name": "python",
   "nbconvert_exporter": "python",
   "pygments_lexer": "ipython3",
   "version": "3.9.19"
  }
 },
 "nbformat": 4,
 "nbformat_minor": 5
}